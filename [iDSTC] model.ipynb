{
 "cells": [
  {
   "cell_type": "markdown",
   "metadata": {},
   "source": [
    "### Check GPU availability"
   ]
  },
  {
   "cell_type": "code",
   "execution_count": 1,
   "metadata": {},
   "outputs": [
    {
     "name": "stdout",
     "output_type": "stream",
     "text": [
      "Tue Feb  5 17:59:09 2019       \r\n",
      "+-----------------------------------------------------------------------------+\r\n",
      "| NVIDIA-SMI 384.145                Driver Version: 384.145                   |\r\n",
      "|-------------------------------+----------------------+----------------------+\r\n",
      "| GPU  Name        Persistence-M| Bus-Id        Disp.A | Volatile Uncorr. ECC |\r\n",
      "| Fan  Temp  Perf  Pwr:Usage/Cap|         Memory-Usage | GPU-Util  Compute M. |\r\n",
      "|===============================+======================+======================|\r\n",
      "|   0  GeForce GTX 108...  Off  | 00000000:02:00.0 Off |                  N/A |\r\n",
      "| 23%   27C    P8    17W / 250W |      0MiB / 11172MiB |      0%      Default |\r\n",
      "+-------------------------------+----------------------+----------------------+\r\n",
      "|   1  GeForce GTX 108...  Off  | 00000000:03:00.0 Off |                  N/A |\r\n",
      "| 23%   35C    P8    17W / 250W |      0MiB / 11172MiB |      0%      Default |\r\n",
      "+-------------------------------+----------------------+----------------------+\r\n",
      "                                                                               \r\n",
      "+-----------------------------------------------------------------------------+\r\n",
      "| Processes:                                                       GPU Memory |\r\n",
      "|  GPU       PID   Type   Process name                             Usage      |\r\n",
      "|=============================================================================|\r\n",
      "|  No running processes found                                                 |\r\n",
      "+-----------------------------------------------------------------------------+\r\n"
     ]
    }
   ],
   "source": [
    "!nvidia-smi"
   ]
  },
  {
   "cell_type": "markdown",
   "metadata": {},
   "source": [
    "### Import libraries"
   ]
  },
  {
   "cell_type": "code",
   "execution_count": 2,
   "metadata": {},
   "outputs": [
    {
     "data": {
      "text/html": [
       "<script type=\"text/javascript\">window.PlotlyConfig = {MathJaxConfig: 'local'};</script><script type=\"text/javascript\">if (window.MathJax) {MathJax.Hub.Config({SVG: {font: \"STIX-Web\"}});}</script><script>requirejs.config({paths: { 'plotly': ['https://cdn.plot.ly/plotly-latest.min']},});if(!window._Plotly) {require(['plotly'],function(plotly) {window._Plotly=plotly;});}</script>"
      ],
      "text/vnd.plotly.v1+html": [
       "<script type=\"text/javascript\">window.PlotlyConfig = {MathJaxConfig: 'local'};</script><script type=\"text/javascript\">if (window.MathJax) {MathJax.Hub.Config({SVG: {font: \"STIX-Web\"}});}</script><script>requirejs.config({paths: { 'plotly': ['https://cdn.plot.ly/plotly-latest.min']},});if(!window._Plotly) {require(['plotly'],function(plotly) {window._Plotly=plotly;});}</script>"
      ]
     },
     "metadata": {},
     "output_type": "display_data"
    }
   ],
   "source": [
    "import torch\n",
    "import torch.utils.data\n",
    "import torch.nn as nn\n",
    "import torch.nn.functional as F\n",
    "import torch.optim as optim\n",
    "\n",
    "import copy\n",
    "import numpy as np\n",
    "import time\n",
    "import json\n",
    "import plotly\n",
    "import logging\n",
    "logging.getLogger().setLevel(logging.INFO)\n",
    "\n",
    "from pprint import pprint\n",
    "from tqdm import tqdm_notebook\n",
    "from idst_util import trivial\n",
    "from idst_util import dstc2\n",
    "\n",
    "from plotly.graph_objs import Scatter, Layout\n",
    "from plotly.graph_objs.layout import Margin\n",
    "plotly.offline.init_notebook_mode(connected = True)"
   ]
  },
  {
   "cell_type": "markdown",
   "metadata": {},
   "source": [
    "### Check DSTC2 availability and retrieve data"
   ]
  },
  {
   "cell_type": "code",
   "execution_count": 3,
   "metadata": {},
   "outputs": [
    {
     "name": "stderr",
     "output_type": "stream",
     "text": [
      "INFO:root:+--------------------------------+\n",
      "INFO:root:|         _ ____  ___________    |\n",
      "INFO:root:|        (_) __ \\/ ___/_  __/    |\n",
      "INFO:root:|       / / / / /\\__ \\ / /       |\n",
      "INFO:root:|      / / /_/ /___/ // /        |\n",
      "INFO:root:|     /_/_____//____//_/         |\n",
      "INFO:root:|                                |\n",
      "INFO:root:+--------------------------------+\n",
      "INFO:root:|Incremental Dialog State Tracker|\n",
      "INFO:root:+--------------------------------+\n",
      "INFO:root:+--------------------------------+\n",
      "INFO:root:|     Dialog State Tracker 2     |\n",
      "INFO:root:|         Data Checker           |\n",
      "INFO:root:+--------------------------------+\n",
      "INFO:root:Looking for dstc2 directory in .\n",
      "INFO:root:dstc2 was found!\n",
      "INFO:root:Looking for dstc2_traindev directory in ./dstc2\n",
      "INFO:root:dstc2_traindev was found!\n",
      "INFO:root:Looking for dstc2_test directory in ./dstc2\n",
      "INFO:root:dstc2_test was found!\n",
      "INFO:root:Looking for dstc2_scripts directory in ./dstc2\n",
      "INFO:root:dstc2_scripts was found!\n",
      "INFO:root:Done!\n",
      "INFO:root:+--------------------------------+\n",
      "INFO:root:|     Dialog State Tracker 2     |\n",
      "INFO:root:|       Dataset Retrieval        |\n",
      "INFO:root:+--------------------------------+\n",
      "INFO:root:Reading dstc2_train.flist, dstc2_dev.flist and ontology_dstc2.json\n",
      "INFO:root:Asserted 1612 dialogs for dstc2_train.flist\n",
      "INFO:root:Asserted 506 dialogs for dstc2_dev.flist\n",
      "INFO:root:Extracting raw train features\n"
     ]
    },
    {
     "data": {
      "application/vnd.jupyter.widget-view+json": {
       "model_id": "27b7073987234b09af8eb48ed9c92750",
       "version_major": 2,
       "version_minor": 0
      },
      "text/plain": [
       "HBox(children=(IntProgress(value=0, max=1612), HTML(value='')))"
      ]
     },
     "metadata": {},
     "output_type": "display_data"
    },
    {
     "name": "stderr",
     "output_type": "stream",
     "text": [
      "INFO:root:Extracting raw dev features\n"
     ]
    },
    {
     "name": "stdout",
     "output_type": "stream",
     "text": [
      "\n"
     ]
    },
    {
     "data": {
      "application/vnd.jupyter.widget-view+json": {
       "model_id": "5ca645b638844038aadcfe2dc0f39579",
       "version_major": 2,
       "version_minor": 0
      },
      "text/plain": [
       "HBox(children=(IntProgress(value=0, max=506), HTML(value='')))"
      ]
     },
     "metadata": {},
     "output_type": "display_data"
    },
    {
     "name": "stderr",
     "output_type": "stream",
     "text": [
      "INFO:root:Reading dstc2_test.flist\n",
      "INFO:root:Asserted 1117 dialogs for dstc2_test.flist\n",
      "INFO:root:Extracting raw test features\n"
     ]
    },
    {
     "name": "stdout",
     "output_type": "stream",
     "text": [
      "\n"
     ]
    },
    {
     "data": {
      "application/vnd.jupyter.widget-view+json": {
       "model_id": "55c65e22cc1c43a1a1670ee43739873a",
       "version_major": 2,
       "version_minor": 0
      },
      "text/plain": [
       "HBox(children=(IntProgress(value=0, max=1117), HTML(value='')))"
      ]
     },
     "metadata": {},
     "output_type": "display_data"
    },
    {
     "name": "stderr",
     "output_type": "stream",
     "text": [
      "INFO:root:Done!\n"
     ]
    },
    {
     "name": "stdout",
     "output_type": "stream",
     "text": [
      "\n"
     ]
    }
   ],
   "source": [
    "trivial.print_idst()\n",
    "\n",
    "dstc2.check()\n",
    "\n",
    "raw_X_train, raw_Y_train, \\\n",
    "raw_X_dev, raw_Y_dev, \\\n",
    "raw_X_test, raw_Y_test, \\\n",
    "ontology = dstc2.retrieve_raw_datasets(train_data_augmentation = True)"
   ]
  },
  {
   "cell_type": "markdown",
   "metadata": {},
   "source": [
    "### Set device"
   ]
  },
  {
   "cell_type": "code",
   "execution_count": 4,
   "metadata": {},
   "outputs": [
    {
     "name": "stderr",
     "output_type": "stream",
     "text": [
      "INFO:root:+--------------------------------+\n",
      "INFO:root:|             Device             |\n",
      "INFO:root:+--------------------------------+\n",
      "INFO:root:Running on GPU 1\n"
     ]
    }
   ],
   "source": [
    "logging.info(\"+--------------------------------+\")\n",
    "logging.info(\"|             Device             |\")\n",
    "logging.info(\"+--------------------------------+\")\n",
    "\n",
    "GPU_ID = 1\n",
    "DEVICE = torch.device(\"cuda:{}\".format(GPU_ID) if torch.cuda.is_available() else \"cpu\")\n",
    "if str(DEVICE) == \"cpu\":\n",
    "    logging.warning(\"Running on CPU\")\n",
    "else:\n",
    "    logging.info(\"Running on GPU {}\".format(GPU_ID))"
   ]
  },
  {
   "cell_type": "markdown",
   "metadata": {},
   "source": [
    "### Create vocabularies"
   ]
  },
  {
   "cell_type": "code",
   "execution_count": 5,
   "metadata": {},
   "outputs": [
    {
     "name": "stderr",
     "output_type": "stream",
     "text": [
      "INFO:root:+--------------------------------+\n",
      "INFO:root:|          Vocabulary            |\n",
      "INFO:root:+--------------------------------+\n",
      "INFO:root:Creating token_to_index, index_to_token and token_to_count dictionaries\n"
     ]
    },
    {
     "data": {
      "application/vnd.jupyter.widget-view+json": {
       "model_id": "370f471a26ca4c0eb6a5c0d1c2a0fb71",
       "version_major": 2,
       "version_minor": 0
      },
      "text/plain": [
       "HBox(children=(IntProgress(value=0, max=3224), HTML(value='')))"
      ]
     },
     "metadata": {},
     "output_type": "display_data"
    },
    {
     "name": "stderr",
     "output_type": "stream",
     "text": [
      "INFO:root:Done!\n"
     ]
    },
    {
     "name": "stdout",
     "output_type": "stream",
     "text": [
      "\n"
     ]
    }
   ],
   "source": [
    "logging.info(\"+--------------------------------+\")\n",
    "logging.info(\"|          Vocabulary            |\")\n",
    "logging.info(\"+--------------------------------+\")\n",
    "logging.info(\"Creating token_to_index, index_to_token and token_to_count dictionaries\")\n",
    "\n",
    "token_to_index = {\"<unk>\": 0}\n",
    "index_to_token = {0: \"<unk>\"}\n",
    "token_to_count = {\"<unk>\": 1}\n",
    "\n",
    "for raw_train_dialog in tqdm_notebook(raw_X_train):\n",
    "    for raw_train_turn in raw_train_dialog[\"turns\"]:\n",
    "        tokens_scores = raw_train_turn[\"system\"] + raw_train_turn[\"user\"]\n",
    "        for token_score in tokens_scores:\n",
    "            token = token_score[0]\n",
    "            if token not in token_to_index:\n",
    "                token_to_index[token] = len(token_to_index)\n",
    "                index_to_token[len(token_to_index)] = token\n",
    "                token_to_count[token] = 1\n",
    "            else:\n",
    "                token_to_count[token] += 1\n",
    "                \n",
    "assert len(token_to_index) == len(index_to_token)\n",
    "assert len(token_to_index) == len(token_to_count)\n",
    "\n",
    "logging.info(\"Done!\")"
   ]
  },
  {
   "cell_type": "markdown",
   "metadata": {},
   "source": [
    "### Execution configuration"
   ]
  },
  {
   "cell_type": "code",
   "execution_count": 6,
   "metadata": {},
   "outputs": [
    {
     "name": "stderr",
     "output_type": "stream",
     "text": [
      "INFO:root:+--------------------------------+\n",
      "INFO:root:|         Configuration          |\n",
      "INFO:root:+--------------------------------+\n",
      "INFO:root:VOCABULARY_SIZE:\t\t\t1137\n",
      "INFO:root:GOAL_FOOD_DIM:\t\t\t93\n",
      "INFO:root:GOAL_PRICERANGE_DIM:\t\t\t5\n",
      "INFO:root:GOAL_NAME_DIM:\t\t\t115\n",
      "INFO:root:GOAL_AREA_DIM:\t\t\t7\n",
      "INFO:root:METHOD_DIM:\t\t\t\t5\n",
      "INFO:root:REQUESTED_DIM:\t\t\t8\n",
      "INFO:root:EMBEDDING_DIM:\t\t\t170\n",
      "INFO:root:ALTERED_EMBEDDING_DIM:\t\t300\n",
      "INFO:root:HIDDEN_DIM:\t\t\t\t100\n",
      "INFO:root:NUM_EPOCHS:\t\t\t\t50\n",
      "INFO:root:BATCH_SIZE:\t\t\t\t10\n",
      "INFO:root:GOAL_LOSS_FUNCTION:\t\t\tCrossEntropyLoss()\n",
      "INFO:root:METHOD_LOSS_FUNCTION:\t\t\tCrossEntropyLoss()\n",
      "INFO:root:REQUESTED_LOSS_FUNCTION:\t\tBCELoss()\n"
     ]
    }
   ],
   "source": [
    "logging.info(\"+--------------------------------+\")\n",
    "logging.info(\"|         Configuration          |\")\n",
    "logging.info(\"+--------------------------------+\")\n",
    "\n",
    "VOCABULARY_SIZE = len(token_to_index)\n",
    "\n",
    "# NOTE: we add +2 because of null and dontcare cases\n",
    "GOAL_FOOD_DIM = len(ontology[\"informable\"][\"food\"]) + 2 \n",
    "GOAL_PRICERANGE_DIM = len(ontology[\"informable\"][\"pricerange\"]) + 2\n",
    "GOAL_NAME_DIM = len(ontology[\"informable\"][\"name\"]) + 2\n",
    "GOAL_AREA_DIM = len(ontology[\"informable\"][\"area\"]) + 2\n",
    "\n",
    "METHOD_DIM = len(ontology[\"method\"])\n",
    "\n",
    "REQUESTED_DIM = len(ontology[\"requestable\"])\n",
    "\n",
    "EMBEDDING_DIM = 170\n",
    "ALTERED_EMBEDDING_DIM = 300\n",
    "HIDDEN_DIM = 100\n",
    "\n",
    "NUM_EPOCHS = 50\n",
    "BATCH_SIZE = 10\n",
    "\n",
    "GOAL_LOSS_FUNCTION = nn.CrossEntropyLoss()\n",
    "METHOD_LOSS_FUNCTION = nn.CrossEntropyLoss()\n",
    "REQUESTED_LOSS_FUNCTION = nn.BCELoss()\n",
    "\n",
    "logging.info(\"VOCABULARY_SIZE:\\t\\t\\t{}\".format(VOCABULARY_SIZE))\n",
    "\n",
    "logging.info(\"GOAL_FOOD_DIM:\\t\\t\\t{}\".format(GOAL_FOOD_DIM))\n",
    "logging.info(\"GOAL_PRICERANGE_DIM:\\t\\t\\t{}\".format(GOAL_PRICERANGE_DIM))\n",
    "logging.info(\"GOAL_NAME_DIM:\\t\\t\\t{}\".format(GOAL_NAME_DIM))\n",
    "logging.info(\"GOAL_AREA_DIM:\\t\\t\\t{}\".format(GOAL_AREA_DIM))\n",
    "\n",
    "logging.info(\"METHOD_DIM:\\t\\t\\t\\t{}\".format(METHOD_DIM))\n",
    "\n",
    "logging.info(\"REQUESTED_DIM:\\t\\t\\t{}\".format(REQUESTED_DIM))\n",
    "\n",
    "logging.info(\"EMBEDDING_DIM:\\t\\t\\t{}\".format(EMBEDDING_DIM))\n",
    "logging.info(\"ALTERED_EMBEDDING_DIM:\\t\\t{}\".format(ALTERED_EMBEDDING_DIM))\n",
    "logging.info(\"HIDDEN_DIM:\\t\\t\\t\\t{}\".format(HIDDEN_DIM))\n",
    "\n",
    "logging.info(\"NUM_EPOCHS:\\t\\t\\t\\t{}\".format(NUM_EPOCHS))\n",
    "logging.info(\"BATCH_SIZE:\\t\\t\\t\\t{}\".format(BATCH_SIZE))\n",
    "\n",
    "logging.info(\"GOAL_LOSS_FUNCTION:\\t\\t\\t{}\".format(GOAL_LOSS_FUNCTION))\n",
    "logging.info(\"METHOD_LOSS_FUNCTION:\\t\\t\\t{}\".format(METHOD_LOSS_FUNCTION))\n",
    "logging.info(\"REQUESTED_LOSS_FUNCTION:\\t\\t{}\".format(REQUESTED_LOSS_FUNCTION))"
   ]
  },
  {
   "cell_type": "markdown",
   "metadata": {},
   "source": [
    "### Utilities"
   ]
  },
  {
   "cell_type": "code",
   "execution_count": 7,
   "metadata": {},
   "outputs": [],
   "source": [
    "def get_index_and_score(turn, token_to_index, mode, device):\n",
    "    \n",
    "    indices = []\n",
    "    scores = []\n",
    "    \n",
    "    if mode == \"train\": # LecTrack 4.3: Out-of-Vocabulary Words\n",
    "        for system_token, system_token_score in turn[\"system\"]:\n",
    "            indices.append(token_to_index[system_token])\n",
    "            scores.append(system_token_score)\n",
    "        for user_token, user_token_score in turn[\"user\"]:\n",
    "            if np.random.binomial(n = 1, p = 0.1) == 1:\n",
    "                indices.append(token_to_index[\"<unk>\"])\n",
    "            else:\n",
    "                indices.append(token_to_index[user_token])\n",
    "            scores.append(user_token_score)\n",
    "    else:\n",
    "        tokens_scores = turn[\"system\"] + turn[\"user\"]\n",
    "        for token, score in tokens_scores:\n",
    "            if token not in token_to_index:\n",
    "                indices.append(token_to_index[\"<unk>\"])\n",
    "            else:\n",
    "                indices.append(token_to_index[token])\n",
    "            scores.append(score)\n",
    "            \n",
    "    assert len(indices) == len(scores)\n",
    "    \n",
    "    return torch.tensor(indices, dtype = torch.long, device = device), torch.tensor(scores, dtype = torch.float, device = device)\n",
    "\n",
    "# --------------------\n",
    "\n",
    "class EarlyStopping():\n",
    "    \n",
    "    def __init__(self, min_delta = 0, patience = 0):\n",
    "        \n",
    "        self.min_delta = min_delta\n",
    "        self.patience = patience\n",
    "        self.wait = 0\n",
    "        self.stopped_epoch = 0\n",
    "        self.best = -np.Inf\n",
    "        self.stop_training = False\n",
    "    \n",
    "    def on_epoch_end(self, epoch, current_value):\n",
    "        if np.greater((current_value - self.min_delta), self.best):\n",
    "            self.best = current_value\n",
    "            self.wait = 0\n",
    "        else:\n",
    "            self.wait += 1\n",
    "            if self.wait > self.patience:\n",
    "                self.stopped_epoch = epoch\n",
    "                self.stop_training = True\n",
    "        return self.stop_training\n",
    "\n",
    "# --------------------\n",
    "\n",
    "def make_tracker(model_GoalPricerange, model_GoalArea, model_GoalName, model_GoalFood, model_Requested, model_Method, raw_X, raw_Y, dataset, percentage = 1.0):\n",
    "    \n",
    "    model_GoalPricerange = model_GoalPricerange.eval()\n",
    "    model_GoalArea = model_GoalArea.eval()\n",
    "    model_GoalName = model_GoalName.eval()\n",
    "    model_GoalFood = model_GoalFood.eval()\n",
    "    model_Requested = model_Requested.eval()\n",
    "    model_Method = model_Method.eval()\n",
    "    \n",
    "    with torch.no_grad():\n",
    "        tracker_json = {}\n",
    "        tracker_json[\"dataset\"] = dataset\n",
    "        tracker_json[\"sessions\"] = []\n",
    "\n",
    "        start_time = time.time()\n",
    "        \n",
    "        for raw_X_dialog, raw_Y_dialog in tqdm_notebook(zip(raw_X, raw_Y), total = len(raw_X)):\n",
    "            \n",
    "            model_GoalPricerange.hidden = model_GoalPricerange.init_hidden()\n",
    "            model_GoalArea.hidden = model_GoalArea.init_hidden()\n",
    "            model_GoalName.hidden = model_GoalName.init_hidden()\n",
    "            model_GoalFood.hidden = model_GoalFood.init_hidden()\n",
    "            model_Requested.hidden = model_Requested.init_hidden()\n",
    "            model_Method.hidden = model_Method.init_hidden()\n",
    "            \n",
    "            session = {}\n",
    "            session[\"session-id\"] = raw_X_dialog[\"session-id\"]\n",
    "            session[\"turns\"] = []\n",
    "\n",
    "            for raw_X_turn, raw_Y_turn in zip(raw_X_dialog[\"turns\"], raw_Y_dialog[\"turns\"]):\n",
    "                \n",
    "                turn = {}\n",
    "                turn[\"goal-labels\"] = {}\n",
    "\n",
    "                indices, scores = get_index_and_score(raw_X_turn, token_to_index, mode = \"eval\", device = DEVICE)\n",
    "                \n",
    "                incremental_index = int(np.around(percentage * len(indices))) - 1\n",
    "                \n",
    "                goal_foods = model_GoalFood(indices, scores)\n",
    "                goal_food = goal_foods[incremental_index]\n",
    "                \n",
    "                goal_priceranges = model_GoalPricerange(indices, scores)\n",
    "                goal_pricerange = goal_priceranges[incremental_index]\n",
    "                \n",
    "                goal_names = model_GoalName(indices, scores)\n",
    "                goal_name = goal_names[incremental_index]\n",
    "                \n",
    "                goal_areas = model_GoalArea(indices, scores)\n",
    "                goal_area = goal_areas[incremental_index]\n",
    "                \n",
    "                requesteds = model_Requested(indices, scores)\n",
    "                requested = requesteds[incremental_index]\n",
    "                \n",
    "                methods = model_Method(indices, scores)\n",
    "                method = methods[incremental_index]\n",
    "                \n",
    "                turn[\"goal-labels\"][\"food\"] = retrieve_output_GoalFood(goal_food, ontology)\n",
    "                turn[\"goal-labels\"][\"pricerange\"] = retrieve_output_GoalPricerange(goal_pricerange, ontology)\n",
    "                turn[\"goal-labels\"][\"name\"] = retrieve_output_GoalName(goal_name, ontology)\n",
    "                turn[\"goal-labels\"][\"area\"] = retrieve_output_GoalArea(goal_area, ontology)\n",
    "                turn[\"requested-slots\"] = retrieve_output_Requested(requested, ontology)\n",
    "                turn[\"method-label\"] = retrieve_output_Method(method, ontology)\n",
    "                \n",
    "                session[\"turns\"].append(turn)\n",
    "                \n",
    "            tracker_json[\"sessions\"].append(session)\n",
    "            \n",
    "        end_time = time.time()\n",
    "        tracker_json[\"wall-time\"] = end_time - start_time\n",
    "        \n",
    "        return tracker_json\n",
    "\n",
    "# --------------------\n",
    "    \n",
    "def get_scores(tracker, dataset, predictor = False):\n",
    "    \n",
    "    goal_pricerange_accuracy = None\n",
    "    goal_pricerange_l2 = None\n",
    "    \n",
    "    goal_area_accuracy = None\n",
    "    goal_area_l2 = None\n",
    "    \n",
    "    goal_name_accuracy = None\n",
    "    goal_name_l2 = None\n",
    "    \n",
    "    goal_food_accuracy = None\n",
    "    goal_food_l2 = None\n",
    "    \n",
    "    goal_accuracy = None\n",
    "    goal_l2 = None\n",
    "    \n",
    "    requested_accuracy = None\n",
    "    requested_l2 = None\n",
    "    \n",
    "    method_accuracy = None\n",
    "    method_l2 = None\n",
    "    \n",
    "    with open(\"tracker_panfmr_incremental.json\", \"w\") as tracker_file:\n",
    "        json.dump(tracker, tracker_file)\n",
    "    \n",
    "    if predictor:\n",
    "        \n",
    "        if dataset == \"dstc2_train\":\n",
    "            !python3 dstc2/dstc2_scripts/score_predictor.py\\\n",
    "            --dataset dstc2_train\\\n",
    "            --dataroot dstc2/dstc2_traindev/data\\\n",
    "            --ontology dstc2/dstc2_scripts/config/ontology_dstc2.json\\\n",
    "            --trackfile tracker_panfmr_incremental.json\\\n",
    "            --scorefile tracker_panfmr_incremental.score.csv\n",
    "        elif dataset == \"dstc2_dev\":\n",
    "            !python3 dstc2/dstc2_scripts/score_predictor.py\\\n",
    "            --dataset dstc2_dev\\\n",
    "            --dataroot dstc2/dstc2_traindev/data\\\n",
    "            --ontology dstc2/dstc2_scripts/config/ontology_dstc2.json\\\n",
    "            --trackfile tracker_panfmr_incremental.json\\\n",
    "            --scorefile tracker_panfmr_incremental.score.csv\n",
    "        else:\n",
    "            !python3 dstc2/dstc2_scripts/score_predictor.py\\\n",
    "            --dataset dstc2_test\\\n",
    "            --dataroot dstc2/dstc2_test/data\\\n",
    "            --ontology dstc2/dstc2_scripts/config/ontology_dstc2.json\\\n",
    "            --trackfile tracker_panfmr_incremental.json\\\n",
    "            --scorefile tracker_panfmr_incremental.score.csv\n",
    "            \n",
    "    else: # predictor == False\n",
    "        \n",
    "        if dataset == \"dstc2_train\":\n",
    "            !python3 dstc2/dstc2_scripts/score.py\\\n",
    "            --dataset dstc2_train\\\n",
    "            --dataroot dstc2/dstc2_traindev/data\\\n",
    "            --ontology dstc2/dstc2_scripts/config/ontology_dstc2.json\\\n",
    "            --trackfile tracker_panfmr_incremental.json\\\n",
    "            --scorefile tracker_panfmr_incremental.score.csv\n",
    "        elif dataset == \"dstc2_dev\":\n",
    "            !python3 dstc2/dstc2_scripts/score.py\\\n",
    "            --dataset dstc2_dev\\\n",
    "            --dataroot dstc2/dstc2_traindev/data\\\n",
    "            --ontology dstc2/dstc2_scripts/config/ontology_dstc2.json\\\n",
    "            --trackfile tracker_panfmr_incremental.json\\\n",
    "            --scorefile tracker_panfmr_incremental.score.csv\n",
    "        else:\n",
    "            !python3 dstc2/dstc2_scripts/score.py\\\n",
    "            --dataset dstc2_test\\\n",
    "            --dataroot dstc2/dstc2_test/data\\\n",
    "            --ontology dstc2/dstc2_scripts/config/ontology_dstc2.json\\\n",
    "            --trackfile tracker_panfmr_incremental.json\\\n",
    "            --scorefile tracker_panfmr_incremental.score.csv\n",
    "        \n",
    "    score_file_cat = !cat tracker_panfmr_incremental.score.csv\n",
    "    \n",
    "    for line in score_file_cat:\n",
    "        if line.startswith(\"goal.pricerange, acc, 2, a\"):\n",
    "            value = line.split(\",\")[-1]\n",
    "            if \"-\" not in value:\n",
    "                goal_pricerange_accuracy = float(value)\n",
    "        if line.startswith(\"goal.pricerange, l2, 2, a\"):\n",
    "            value = line.split(\",\")[-1]\n",
    "            if \"-\" not in value:\n",
    "                goal_pricerange_l2 = float(value)\n",
    "        if line.startswith(\"goal.area, acc, 2, a\"):\n",
    "            value = line.split(\",\")[-1]\n",
    "            if \"-\" not in value:\n",
    "                goal_area_accuracy = float(value)\n",
    "        if line.startswith(\"goal.area, l2, 2, a\"):\n",
    "            value = line.split(\",\")[-1]\n",
    "            if \"-\" not in value:\n",
    "                goal_area_l2 = float(value)\n",
    "        if line.startswith(\"goal.name, acc, 2, a\"):\n",
    "            value = line.split(\",\")[-1]\n",
    "            if \"-\" not in value:\n",
    "                goal_name_accuracy = float(value)\n",
    "        if line.startswith(\"goal.name, l2, 2, a\"):\n",
    "            value = line.split(\",\")[-1]\n",
    "            if \"-\" not in value:\n",
    "                goal_name_l2 = float(value)\n",
    "        if line.startswith(\"goal.food, acc, 2, a\"):\n",
    "            value = line.split(\",\")[-1]\n",
    "            if \"-\" not in value:\n",
    "                goal_food_accuracy = float(value)\n",
    "        if line.startswith(\"goal.food, l2, 2, a\"):\n",
    "            value = line.split(\",\")[-1]\n",
    "            if \"-\" not in value:\n",
    "                goal_food_l2 = float(value)\n",
    "        if line.startswith(\"goal.joint, acc, 2, a\"):\n",
    "            value = line.split(\",\")[-1]\n",
    "            if \"-\" not in value:\n",
    "                goal_accuracy = float(value)\n",
    "        if line.startswith(\"goal.joint, l2, 2, a\"):\n",
    "            value = line.split(\",\")[-1]\n",
    "            if \"-\" not in value:\n",
    "                goal_l2 = float(value)\n",
    "        if line.startswith(\"requested.all, acc, 2, a\"):\n",
    "            value = line.split(\",\")[-1]\n",
    "            if \"-\" not in value:\n",
    "                requested_accuracy = float(value)\n",
    "        if line.startswith(\"requested.all, l2, 2, a\"):\n",
    "            value = line.split(\",\")[-1]\n",
    "            if \"-\" not in value:\n",
    "                requested_l2 = float(value)\n",
    "        if line.startswith(\"method, acc, 2, a\"):\n",
    "            value = line.split(\",\")[-1]\n",
    "            if \"-\" not in value:\n",
    "                method_accuracy = float(value)\n",
    "        if line.startswith(\"method, l2, 2, a\"):\n",
    "            value = line.split(\",\")[-1]\n",
    "            if \"-\" not in value:\n",
    "                method_l2 = float(value)\n",
    "    \n",
    "    scores_dict = {}\n",
    "    scores_dict[\"goal_pricerange_accuracy\"] = goal_pricerange_accuracy\n",
    "    scores_dict[\"goal_pricerange_l2\"] = goal_pricerange_l2\n",
    "    scores_dict[\"goal_area_accuracy\"] = goal_area_accuracy\n",
    "    scores_dict[\"goal_area_l2\"] = goal_area_l2\n",
    "    scores_dict[\"goal_name_accuracy\"] = goal_name_accuracy\n",
    "    scores_dict[\"goal_name_l2\"] = goal_name_l2\n",
    "    scores_dict[\"goal_food_accuracy\"] = goal_food_accuracy\n",
    "    scores_dict[\"goal_food_l2\"] = goal_food_l2\n",
    "    scores_dict[\"goal_accuracy\"] = goal_accuracy\n",
    "    scores_dict[\"goal_l2\"] = goal_l2\n",
    "    scores_dict[\"requested_accuracy\"] = requested_accuracy\n",
    "    scores_dict[\"requested_l2\"] = requested_l2\n",
    "    scores_dict[\"method_accuracy\"] = method_accuracy\n",
    "    scores_dict[\"method_l2\"] = method_l2\n",
    "    \n",
    "    return scores_dict\n",
    "\n",
    "# --------------------\n",
    "\n",
    "def retrieve_gold_GoalPricerange(raw_Y, ontology, device):\n",
    "    ontology_informable_pricerange = ontology[\"informable\"][\"pricerange\"]\n",
    "    raw_goal_pricerange = raw_Y[\"goal\"][\"pricerange\"]\n",
    "    goal_pricerange = 0\n",
    "    if raw_goal_pricerange != None:\n",
    "        if raw_goal_pricerange == \"dontcare\":\n",
    "            goal_pricerange = 1\n",
    "        else:    \n",
    "            goal_pricerange = ontology_informable_pricerange.index(raw_goal_pricerange) + 2\n",
    "    return torch.tensor([goal_pricerange], dtype = torch.long, device = device)\n",
    "\n",
    "def retrieve_output_GoalPricerange(output_tensor, ontology):\n",
    "    ontology_informable_pricerange = ontology[\"informable\"][\"pricerange\"]\n",
    "    output_tensor = output_tensor.view(-1)\n",
    "    output_tensor = torch.exp(output_tensor)\n",
    "    goal_pricerange_dict = {}\n",
    "    goal_pricerange_dict[\"dontcare\"] = output_tensor[1].item()\n",
    "    for index in range(len(output_tensor) - 2):     \n",
    "        goal_pricerange_dict[ontology_informable_pricerange[index]] = output_tensor[index + 2].item()\n",
    "    return goal_pricerange_dict\n",
    "\n",
    "def retrieve_gold_GoalArea(raw_Y, ontology, device):\n",
    "    ontology_informable_area = ontology[\"informable\"][\"area\"]\n",
    "    raw_goal_area = raw_Y[\"goal\"][\"area\"]\n",
    "    goal_area = 0\n",
    "    if raw_goal_area != None:\n",
    "        if raw_goal_area == \"dontcare\":\n",
    "            goal_area = 1\n",
    "        else:    \n",
    "            goal_area = ontology_informable_area.index(raw_goal_area) + 2\n",
    "    return torch.tensor([goal_area], dtype = torch.long, device = device)\n",
    "\n",
    "def retrieve_output_GoalArea(output_tensor, ontology):\n",
    "    ontology_informable_area = ontology[\"informable\"][\"area\"]\n",
    "    output_tensor = output_tensor.view(-1)\n",
    "    output_tensor = torch.exp(output_tensor)\n",
    "    goal_area_dict = {}\n",
    "    goal_area_dict[\"dontcare\"] = output_tensor[1].item()\n",
    "    for index in range(len(output_tensor) - 2):\n",
    "        goal_area_dict[ontology_informable_area[index]] = output_tensor[index + 2].item()\n",
    "    return goal_area_dict\n",
    "\n",
    "def retrieve_gold_GoalName(raw_Y, ontology, device):\n",
    "    ontology_informable_name = ontology[\"informable\"][\"name\"]\n",
    "    raw_goal_name = raw_Y[\"goal\"][\"name\"]\n",
    "    goal_name = 0\n",
    "    if raw_goal_name != None:\n",
    "        if raw_goal_name == \"dontcare\":\n",
    "            goal_name = 1\n",
    "        else:    \n",
    "            goal_name = ontology_informable_name.index(raw_goal_name) + 2\n",
    "    return torch.tensor([goal_name], dtype = torch.long, device = device)\n",
    "\n",
    "def retrieve_output_GoalName(output_tensor, ontology):\n",
    "    ontology_informable_name = ontology[\"informable\"][\"name\"]\n",
    "    output_tensor = output_tensor.view(-1)\n",
    "    output_tensor = torch.exp(output_tensor)\n",
    "    goal_name_dict = {}\n",
    "    goal_name_dict[\"dontcare\"] = output_tensor[1].item()\n",
    "    for index in range(len(output_tensor) - 2):\n",
    "        goal_name_dict[ontology_informable_name[index]] = output_tensor[index + 2].item()\n",
    "    return goal_name_dict\n",
    "\n",
    "def retrieve_gold_GoalFood(raw_Y, ontology, device):\n",
    "    ontology_informable_food = ontology[\"informable\"][\"food\"]\n",
    "    raw_goal_food = raw_Y[\"goal\"][\"food\"]\n",
    "    goal_food = 0\n",
    "    if raw_goal_food != None:\n",
    "        if raw_goal_food == \"dontcare\":\n",
    "            goal_food = 1\n",
    "        else:    \n",
    "            goal_food = ontology_informable_food.index(raw_goal_food) + 2\n",
    "    return torch.tensor([goal_food], dtype = torch.long, device = device)\n",
    "\n",
    "def retrieve_output_GoalFood(output_tensor, ontology):\n",
    "    ontology_informable_food = ontology[\"informable\"][\"food\"]\n",
    "    output_tensor = output_tensor.view(-1)\n",
    "    output_tensor = torch.exp(output_tensor)\n",
    "    goal_food_dict = {}\n",
    "    goal_food_dict[\"dontcare\"] = output_tensor[1].item() \n",
    "    for index in range(len(output_tensor) - 2):\n",
    "        goal_food_dict[ontology_informable_food[index]] = output_tensor[index + 2].item()\n",
    "    return goal_food_dict\n",
    "\n",
    "def retrieve_gold_Requested(raw_Y, ontology, device):\n",
    "    ontology_requestable = ontology[\"requestable\"]\n",
    "    raw_gold_requested = raw_Y[\"requested\"]\n",
    "    gold_requested = np.zeros(len(ontology_requestable), dtype = float)\n",
    "    if len(raw_gold_requested) != 0:\n",
    "        for requested in raw_gold_requested:\n",
    "            gold_requested[ontology_requestable.index(requested)] = 1.0\n",
    "    return torch.tensor([gold_requested], dtype = torch.float, device = device)\n",
    "\n",
    "def retrieve_output_Requested(output_tensor, ontology):\n",
    "    ontology_requestable = ontology[\"requestable\"]\n",
    "    output_tensor = output_tensor.view(-1)\n",
    "    requested_dict = {}\n",
    "    for index in range(len(output_tensor)):\n",
    "        probability_value = output_tensor[index].item()\n",
    "        requested_dict[ontology_requestable[index]] = probability_value\n",
    "    return requested_dict\n",
    "\n",
    "def retrieve_gold_Method(raw_Y, ontology, device):\n",
    "    ontology_method = ontology[\"method\"]\n",
    "    raw_gold_method = raw_Y[\"method\"]\n",
    "    gold_method = ontology_method.index(raw_gold_method)\n",
    "    return torch.tensor([gold_method], dtype = torch.long, device = device)\n",
    "\n",
    "def retrieve_output_Method(output_tensor, ontology):\n",
    "    ontology_method = ontology[\"method\"]\n",
    "    output_tensor = output_tensor.view(-1)\n",
    "    output_tensor = torch.exp(output_tensor)\n",
    "    method_dict = {}\n",
    "    for index in range(len(output_tensor)):\n",
    "        method_dict[ontology_method[index]] = output_tensor[index].item()\n",
    "    return method_dict"
   ]
  },
  {
   "cell_type": "markdown",
   "metadata": {},
   "source": [
    "### Score Time Optimization"
   ]
  },
  {
   "cell_type": "code",
   "execution_count": 18,
   "metadata": {},
   "outputs": [
    {
     "ename": "ModuleNotFoundError",
     "evalue": "No module named 'baseline'",
     "output_type": "error",
     "traceback": [
      "\u001b[0;31m---------------------------------------------------------------------------\u001b[0m",
      "\u001b[0;31mModuleNotFoundError\u001b[0m                       Traceback (most recent call last)",
      "\u001b[0;32m<ipython-input-18-69e5864cb4ed>\u001b[0m in \u001b[0;36m<module>\u001b[0;34m\u001b[0m\n\u001b[0;32m----> 1\u001b[0;31m \u001b[0;32mfrom\u001b[0m \u001b[0mdstc2\u001b[0m\u001b[0;34m.\u001b[0m\u001b[0mdstc2_scripts\u001b[0m \u001b[0;32mimport\u001b[0m \u001b[0mscore\u001b[0m\u001b[0;34m\u001b[0m\u001b[0m\n\u001b[0m\u001b[1;32m      2\u001b[0m dev_tracker = make_tracker(model_GoalPricerange,\n\u001b[1;32m      3\u001b[0m                            \u001b[0mmodel_GoalArea\u001b[0m\u001b[0;34m,\u001b[0m\u001b[0;34m\u001b[0m\u001b[0m\n\u001b[1;32m      4\u001b[0m                            \u001b[0mmodel_GoalName\u001b[0m\u001b[0;34m,\u001b[0m\u001b[0;34m\u001b[0m\u001b[0m\n\u001b[1;32m      5\u001b[0m                            \u001b[0mmodel_GoalFood\u001b[0m\u001b[0;34m,\u001b[0m\u001b[0;34m\u001b[0m\u001b[0m\n",
      "\u001b[0;32m~/andrei-cc_env/iDST/dstc2/dstc2_scripts/score.py\u001b[0m in \u001b[0;36m<module>\u001b[0;34m\u001b[0m\n\u001b[1;32m      1\u001b[0m \u001b[0;32mimport\u001b[0m \u001b[0msys\u001b[0m\u001b[0;34m,\u001b[0m\u001b[0mos\u001b[0m\u001b[0;34m,\u001b[0m\u001b[0margparse\u001b[0m\u001b[0;34m,\u001b[0m\u001b[0mshutil\u001b[0m\u001b[0;34m,\u001b[0m\u001b[0mglob\u001b[0m\u001b[0;34m,\u001b[0m\u001b[0mjson\u001b[0m\u001b[0;34m,\u001b[0m\u001b[0mpprint\u001b[0m\u001b[0;34m,\u001b[0m\u001b[0mmath\u001b[0m\u001b[0;34m\u001b[0m\u001b[0m\n\u001b[0;32m----> 2\u001b[0;31m \u001b[0;32mfrom\u001b[0m \u001b[0;34m.\u001b[0m \u001b[0;32mimport\u001b[0m \u001b[0mmisc\u001b[0m\u001b[0;34m\u001b[0m\u001b[0m\n\u001b[0m\u001b[1;32m      3\u001b[0m \u001b[0;32mfrom\u001b[0m \u001b[0mcollections\u001b[0m \u001b[0;32mimport\u001b[0m \u001b[0mdefaultdict\u001b[0m\u001b[0;34m\u001b[0m\u001b[0m\n\u001b[1;32m      4\u001b[0m \u001b[0;32mimport\u001b[0m \u001b[0mtraceback\u001b[0m\u001b[0;34m\u001b[0m\u001b[0m\n\u001b[1;32m      5\u001b[0m \u001b[0;34m\u001b[0m\u001b[0m\n",
      "\u001b[0;32m~/andrei-cc_env/iDST/dstc2/dstc2_scripts/misc.py\u001b[0m in \u001b[0;36m<module>\u001b[0;34m\u001b[0m\n\u001b[1;32m      1\u001b[0m \u001b[0;32mfrom\u001b[0m \u001b[0mcollections\u001b[0m \u001b[0;32mimport\u001b[0m \u001b[0mdefaultdict\u001b[0m\u001b[0;34m\u001b[0m\u001b[0m\n\u001b[0;32m----> 2\u001b[0;31m \u001b[0;32mimport\u001b[0m \u001b[0mbaseline\u001b[0m\u001b[0;34m\u001b[0m\u001b[0m\n\u001b[0m\u001b[1;32m      3\u001b[0m \u001b[0;32mimport\u001b[0m \u001b[0mjson\u001b[0m\u001b[0;34m\u001b[0m\u001b[0m\n\u001b[1;32m      4\u001b[0m \u001b[0;34m\u001b[0m\u001b[0m\n\u001b[1;32m      5\u001b[0m \u001b[0mslots_informable\u001b[0m \u001b[0;34m=\u001b[0m \u001b[0;34m[\u001b[0m\u001b[0;34m\"area\"\u001b[0m\u001b[0;34m,\u001b[0m\u001b[0;34m\"food\"\u001b[0m\u001b[0;34m,\u001b[0m\u001b[0;34m\"pricerange\"\u001b[0m\u001b[0;34m,\u001b[0m\u001b[0;34m\"name\"\u001b[0m\u001b[0;34m,\u001b[0m \u001b[0;34m\"hastv\"\u001b[0m\u001b[0;34m,\u001b[0m \u001b[0;34m\"hasinternet\"\u001b[0m\u001b[0;34m,\u001b[0m \u001b[0;34m\"childrenallowed\"\u001b[0m\u001b[0;34m,\u001b[0m \u001b[0;34m\"near\"\u001b[0m\u001b[0;34m,\u001b[0m \u001b[0;34m\"hasmusic\"\u001b[0m\u001b[0;34m,\u001b[0m \u001b[0;34m\"type\"\u001b[0m\u001b[0;34m]\u001b[0m\u001b[0;34m\u001b[0m\u001b[0m\n",
      "\u001b[0;31mModuleNotFoundError\u001b[0m: No module named 'baseline'"
     ]
    }
   ],
   "source": [
    "from dstc2.dstc2_scripts import score\n",
    "dev_tracker = make_tracker(model_GoalPricerange,\n",
    "                           model_GoalArea,\n",
    "                           model_GoalName,\n",
    "                           model_GoalFood,\n",
    "                           model_Requested,\n",
    "                           model_Method,\n",
    "                           raw_X_dev, raw_Y_dev, dataset = \"dstc2_dev\", percentage = 1.0)\n",
    "get_scores(dev_tracker, dataset = \"dstc2_dev\")"
   ]
  },
  {
   "cell_type": "markdown",
   "metadata": {},
   "source": [
    "### iDST Model"
   ]
  },
  {
   "cell_type": "code",
   "execution_count": 8,
   "metadata": {},
   "outputs": [],
   "source": [
    "class iDSTModel(nn.Module):\n",
    "    \n",
    "    def __init__(self, vocabulary_size, embedding_dim, altered_embedding_dim, hidden_dim, output_dim, device, is_requested = False):\n",
    "        super(iDSTModel, self).__init__()\n",
    "        self.hidden_dim = hidden_dim\n",
    "        self.is_requested = is_requested\n",
    "        self.device = device\n",
    "        self.output_dim = output_dim\n",
    "        self.embeddings = nn.Embedding(num_embeddings = vocabulary_size, embedding_dim = embedding_dim)\n",
    "        self.altered_embeddings = nn.Linear(in_features = (embedding_dim + 1), out_features = altered_embedding_dim) # +1 for the ASR-score\n",
    "        self.lstm = nn.LSTM(input_size = altered_embedding_dim, hidden_size = hidden_dim)\n",
    "        self.classifier = nn.Linear(in_features = hidden_dim, out_features = output_dim)\n",
    "        self.hidden = self.init_hidden()\n",
    "\n",
    "    def init_hidden(self):\n",
    "        return (torch.zeros(1, 1, self.hidden_dim, device = self.device),\n",
    "                torch.zeros(1, 1, self.hidden_dim, device = self.device))\n",
    "\n",
    "    def forward(self, indices, scores):\n",
    "        embeddings = self.embeddings(indices)\n",
    "        embeddings_concat_score = torch.cat((embeddings, scores.unsqueeze(dim = 1)), dim = 1) \n",
    "        altered_embeddings = F.relu(self.altered_embeddings(embeddings_concat_score))\n",
    "        lstm_out, self.hidden = self.lstm(altered_embeddings.view(len(indices), 1, -1), self.hidden)\n",
    "        if self.is_requested:\n",
    "            output_tensor = torch.sigmoid(self.classifier(lstm_out).view(-1, self.output_dim))\n",
    "        else:\n",
    "            output_tensor = F.log_softmax(self.classifier(lstm_out).view(-1, self.output_dim), dim = 1)\n",
    "        return output_tensor"
   ]
  },
  {
   "cell_type": "markdown",
   "metadata": {},
   "source": [
    "### Goal Pricerange Model"
   ]
  },
  {
   "cell_type": "code",
   "execution_count": 9,
   "metadata": {},
   "outputs": [],
   "source": [
    "model_GoalPricerange = iDSTModel(vocabulary_size = VOCABULARY_SIZE,\n",
    "                                 embedding_dim = EMBEDDING_DIM,\n",
    "                                 altered_embedding_dim = ALTERED_EMBEDDING_DIM,\n",
    "                                 hidden_dim = HIDDEN_DIM,\n",
    "                                 output_dim = GOAL_PRICERANGE_DIM,\n",
    "                                 device = DEVICE).to(DEVICE)\n",
    "optimizer_GoalPricerange = optim.Adam(model_GoalPricerange.parameters(), lr = 1e-3, amsgrad = True) "
   ]
  },
  {
   "cell_type": "markdown",
   "metadata": {},
   "source": [
    "### Goal Area Model"
   ]
  },
  {
   "cell_type": "code",
   "execution_count": 10,
   "metadata": {},
   "outputs": [],
   "source": [
    "model_GoalArea = iDSTModel(vocabulary_size = VOCABULARY_SIZE,\n",
    "                           embedding_dim = EMBEDDING_DIM,\n",
    "                           altered_embedding_dim = ALTERED_EMBEDDING_DIM,\n",
    "                           hidden_dim = HIDDEN_DIM,\n",
    "                           output_dim = GOAL_AREA_DIM,\n",
    "                           device = DEVICE).to(DEVICE)\n",
    "optimizer_GoalArea = optim.Adam(model_GoalArea.parameters(), lr = 1e-3, amsgrad = True) "
   ]
  },
  {
   "cell_type": "markdown",
   "metadata": {},
   "source": [
    "### Goal Name Model"
   ]
  },
  {
   "cell_type": "code",
   "execution_count": 11,
   "metadata": {},
   "outputs": [],
   "source": [
    "model_GoalName = iDSTModel(vocabulary_size = VOCABULARY_SIZE,\n",
    "                           embedding_dim = EMBEDDING_DIM,\n",
    "                           altered_embedding_dim = ALTERED_EMBEDDING_DIM,\n",
    "                           hidden_dim = HIDDEN_DIM,\n",
    "                           output_dim = GOAL_NAME_DIM,\n",
    "                           device = DEVICE).to(DEVICE)\n",
    "optimizer_GoalName = optim.Adam(model_GoalName.parameters(), lr = 1e-3, amsgrad = True) "
   ]
  },
  {
   "cell_type": "markdown",
   "metadata": {},
   "source": [
    "### Goal Food Model"
   ]
  },
  {
   "cell_type": "code",
   "execution_count": 12,
   "metadata": {},
   "outputs": [],
   "source": [
    "model_GoalFood = iDSTModel(vocabulary_size = VOCABULARY_SIZE,\n",
    "                           embedding_dim = EMBEDDING_DIM,\n",
    "                           altered_embedding_dim = ALTERED_EMBEDDING_DIM,\n",
    "                           hidden_dim = HIDDEN_DIM,\n",
    "                           output_dim = GOAL_FOOD_DIM,\n",
    "                           device = DEVICE).to(DEVICE)\n",
    "optimizer_GoalFood = optim.Adam(model_GoalFood.parameters(), lr = 1e-3, amsgrad = True) "
   ]
  },
  {
   "cell_type": "markdown",
   "metadata": {},
   "source": [
    "### Requested Model"
   ]
  },
  {
   "cell_type": "code",
   "execution_count": 13,
   "metadata": {},
   "outputs": [],
   "source": [
    "model_Requested = iDSTModel(vocabulary_size = VOCABULARY_SIZE,\n",
    "                            embedding_dim = EMBEDDING_DIM,\n",
    "                            altered_embedding_dim = ALTERED_EMBEDDING_DIM,\n",
    "                            hidden_dim = HIDDEN_DIM,\n",
    "                            output_dim = REQUESTED_DIM,\n",
    "                            device = DEVICE,\n",
    "                            is_requested = True).to(DEVICE)\n",
    "optimizer_Requested = optim.Adam(model_Requested.parameters(), lr = 1e-3, amsgrad = True) "
   ]
  },
  {
   "cell_type": "markdown",
   "metadata": {},
   "source": [
    "### Method Model"
   ]
  },
  {
   "cell_type": "code",
   "execution_count": 14,
   "metadata": {},
   "outputs": [],
   "source": [
    "model_Method = iDSTModel(vocabulary_size = VOCABULARY_SIZE,\n",
    "                         embedding_dim = EMBEDDING_DIM,\n",
    "                         altered_embedding_dim = ALTERED_EMBEDDING_DIM,\n",
    "                         hidden_dim = HIDDEN_DIM,\n",
    "                         output_dim = METHOD_DIM,\n",
    "                         device = DEVICE).to(DEVICE)\n",
    "optimizer_Method = optim.Adam(model_Method.parameters(), lr = 1e-3, amsgrad = True)"
   ]
  },
  {
   "cell_type": "markdown",
   "metadata": {},
   "source": [
    "### Train iDST"
   ]
  },
  {
   "cell_type": "code",
   "execution_count": 15,
   "metadata": {
    "scrolled": false
   },
   "outputs": [
    {
     "name": "stderr",
     "output_type": "stream",
     "text": [
      "INFO:root:Epoch\t1/50\n"
     ]
    },
    {
     "data": {
      "application/vnd.jupyter.widget-view+json": {
       "model_id": "361870b450e2480f917270cd9e97f82c",
       "version_major": 2,
       "version_minor": 0
      },
      "text/plain": [
       "HBox(children=(IntProgress(value=0, max=323), HTML(value='')))"
      ]
     },
     "metadata": {},
     "output_type": "display_data"
    },
    {
     "name": "stdout",
     "output_type": "stream",
     "text": [
      "\n"
     ]
    },
    {
     "data": {
      "application/vnd.jupyter.widget-view+json": {
       "model_id": "9381e61d822341789145081c62c59c76",
       "version_major": 2,
       "version_minor": 0
      },
      "text/plain": [
       "HBox(children=(IntProgress(value=0, max=506), HTML(value='')))"
      ]
     },
     "metadata": {},
     "output_type": "display_data"
    },
    {
     "name": "stdout",
     "output_type": "stream",
     "text": [
      "\n"
     ]
    },
    {
     "name": "stderr",
     "output_type": "stream",
     "text": [
      "INFO:root:DEV Goal Pricerange Acc: 0.8982848\n",
      "INFO:root:DEV Goal Area Acc: 0.8337826\n",
      "INFO:root:DEV Goal Name Acc: 0.9065421\n",
      "INFO:root:DEV Goal Food Acc: 0.3738349\n",
      "INFO:root:DEV Acc:\t\t0.3534932(0.35)\t\t0.847097(0.85)\t\t0.8836006(0.88)\n",
      "INFO:root:DEV L2:\t\t0.8329849(0.83)\t\t0.2136003(0.21)\t\t0.1927879(0.19)\n",
      "INFO:root:Epoch\t2/50\n"
     ]
    },
    {
     "data": {
      "application/vnd.jupyter.widget-view+json": {
       "model_id": "48de89632a4145b689e5fd571ea5f730",
       "version_major": 2,
       "version_minor": 0
      },
      "text/plain": [
       "HBox(children=(IntProgress(value=0, max=323), HTML(value='')))"
      ]
     },
     "metadata": {},
     "output_type": "display_data"
    },
    {
     "name": "stdout",
     "output_type": "stream",
     "text": [
      "\n"
     ]
    },
    {
     "ename": "KeyboardInterrupt",
     "evalue": "",
     "output_type": "error",
     "traceback": [
      "\u001b[0;31m---------------------------------------------------------------------------\u001b[0m",
      "\u001b[0;31mKeyboardInterrupt\u001b[0m                         Traceback (most recent call last)",
      "\u001b[0;32m<ipython-input-15-8e0452ff5add>\u001b[0m in \u001b[0;36m<module>\u001b[0;34m\u001b[0m\n\u001b[1;32m    109\u001b[0m             \u001b[0moptimizer_GoalArea\u001b[0m\u001b[0;34m.\u001b[0m\u001b[0mstep\u001b[0m\u001b[0;34m(\u001b[0m\u001b[0;34m)\u001b[0m\u001b[0;34m\u001b[0m\u001b[0m\n\u001b[1;32m    110\u001b[0m         \u001b[0;32mif\u001b[0m \u001b[0;32mnot\u001b[0m \u001b[0mgoal_name_early_stopping\u001b[0m\u001b[0;34m.\u001b[0m\u001b[0mstop_training\u001b[0m\u001b[0;34m:\u001b[0m\u001b[0;34m\u001b[0m\u001b[0m\n\u001b[0;32m--> 111\u001b[0;31m             \u001b[0mgoal_name_accumulated_loss\u001b[0m\u001b[0;34m.\u001b[0m\u001b[0mbackward\u001b[0m\u001b[0;34m(\u001b[0m\u001b[0;34m)\u001b[0m\u001b[0;34m\u001b[0m\u001b[0m\n\u001b[0m\u001b[1;32m    112\u001b[0m             \u001b[0moptimizer_GoalName\u001b[0m\u001b[0;34m.\u001b[0m\u001b[0mstep\u001b[0m\u001b[0;34m(\u001b[0m\u001b[0;34m)\u001b[0m\u001b[0;34m\u001b[0m\u001b[0m\n\u001b[1;32m    113\u001b[0m         \u001b[0;32mif\u001b[0m \u001b[0;32mnot\u001b[0m \u001b[0mgoal_food_early_stopping\u001b[0m\u001b[0;34m.\u001b[0m\u001b[0mstop_training\u001b[0m\u001b[0;34m:\u001b[0m\u001b[0;34m\u001b[0m\u001b[0m\n",
      "\u001b[0;32m~/.local/share/virtualenvs/iDST-PMaBuuf7/lib/python3.6/site-packages/torch/tensor.py\u001b[0m in \u001b[0;36mbackward\u001b[0;34m(self, gradient, retain_graph, create_graph)\u001b[0m\n\u001b[1;32m    100\u001b[0m                 \u001b[0mproducts\u001b[0m\u001b[0;34m.\u001b[0m \u001b[0mDefaults\u001b[0m \u001b[0mto\u001b[0m\u001b[0;31m \u001b[0m\u001b[0;31m`\u001b[0m\u001b[0;31m`\u001b[0m\u001b[0;32mFalse\u001b[0m\u001b[0;31m`\u001b[0m\u001b[0;31m`\u001b[0m\u001b[0;34m.\u001b[0m\u001b[0;34m\u001b[0m\u001b[0m\n\u001b[1;32m    101\u001b[0m         \"\"\"\n\u001b[0;32m--> 102\u001b[0;31m         \u001b[0mtorch\u001b[0m\u001b[0;34m.\u001b[0m\u001b[0mautograd\u001b[0m\u001b[0;34m.\u001b[0m\u001b[0mbackward\u001b[0m\u001b[0;34m(\u001b[0m\u001b[0mself\u001b[0m\u001b[0;34m,\u001b[0m \u001b[0mgradient\u001b[0m\u001b[0;34m,\u001b[0m \u001b[0mretain_graph\u001b[0m\u001b[0;34m,\u001b[0m \u001b[0mcreate_graph\u001b[0m\u001b[0;34m)\u001b[0m\u001b[0;34m\u001b[0m\u001b[0m\n\u001b[0m\u001b[1;32m    103\u001b[0m \u001b[0;34m\u001b[0m\u001b[0m\n\u001b[1;32m    104\u001b[0m     \u001b[0;32mdef\u001b[0m \u001b[0mregister_hook\u001b[0m\u001b[0;34m(\u001b[0m\u001b[0mself\u001b[0m\u001b[0;34m,\u001b[0m \u001b[0mhook\u001b[0m\u001b[0;34m)\u001b[0m\u001b[0;34m:\u001b[0m\u001b[0;34m\u001b[0m\u001b[0m\n",
      "\u001b[0;32m~/.local/share/virtualenvs/iDST-PMaBuuf7/lib/python3.6/site-packages/torch/autograd/__init__.py\u001b[0m in \u001b[0;36mbackward\u001b[0;34m(tensors, grad_tensors, retain_graph, create_graph, grad_variables)\u001b[0m\n\u001b[1;32m     88\u001b[0m     Variable._execution_engine.run_backward(\n\u001b[1;32m     89\u001b[0m         \u001b[0mtensors\u001b[0m\u001b[0;34m,\u001b[0m \u001b[0mgrad_tensors\u001b[0m\u001b[0;34m,\u001b[0m \u001b[0mretain_graph\u001b[0m\u001b[0;34m,\u001b[0m \u001b[0mcreate_graph\u001b[0m\u001b[0;34m,\u001b[0m\u001b[0;34m\u001b[0m\u001b[0m\n\u001b[0;32m---> 90\u001b[0;31m         allow_unreachable=True)  # allow_unreachable flag\n\u001b[0m\u001b[1;32m     91\u001b[0m \u001b[0;34m\u001b[0m\u001b[0m\n\u001b[1;32m     92\u001b[0m \u001b[0;34m\u001b[0m\u001b[0m\n",
      "\u001b[0;31mKeyboardInterrupt\u001b[0m: "
     ]
    }
   ],
   "source": [
    "goal_pricerange_early_stopping = EarlyStopping(patience = 4)\n",
    "goal_area_early_stopping = EarlyStopping(patience = 4)\n",
    "goal_name_early_stopping = EarlyStopping(patience = 4)\n",
    "goal_food_early_stopping = EarlyStopping(patience = 4)\n",
    "requested_early_stopping = EarlyStopping(patience = 4)\n",
    "method_early_stopping = EarlyStopping(patience = 4)\n",
    "\n",
    "train_indices_loader = torch.utils.data.DataLoader(np.arange(raw_X_train.shape[0]), batch_size = BATCH_SIZE, shuffle = True)\n",
    "\n",
    "for epoch in range(NUM_EPOCHS):\n",
    "    \n",
    "    logging.info(\"Epoch\\t{}/{}\".format(epoch + 1, NUM_EPOCHS))\n",
    "    \n",
    "    if not goal_pricerange_early_stopping.stop_training:\n",
    "        model_GoalPricerange = model_GoalPricerange.train()\n",
    "    if not goal_area_early_stopping.stop_training:\n",
    "        model_GoalArea = model_GoalArea.train()\n",
    "    if not goal_name_early_stopping.stop_training:\n",
    "        model_GoalName = model_GoalName.train()\n",
    "    if not goal_food_early_stopping.stop_training:\n",
    "        model_GoalFood = model_GoalFood.train()\n",
    "    if not requested_early_stopping.stop_training:\n",
    "        model_Requested = model_Requested.train()\n",
    "    if not method_early_stopping.stop_training:\n",
    "        model_Method = model_Method.train()\n",
    "    \n",
    "    for train_indices in tqdm_notebook(train_indices_loader, total = len(train_indices_loader)):\n",
    "        \n",
    "        if not goal_pricerange_early_stopping.stop_training:\n",
    "            optimizer_GoalPricerange.zero_grad()\n",
    "            goal_pricerange_accumulated_loss = 0\n",
    "        if not goal_area_early_stopping.stop_training:\n",
    "            optimizer_GoalArea.zero_grad()\n",
    "            goal_area_accumulated_loss = 0\n",
    "        if not goal_name_early_stopping.stop_training:\n",
    "            optimizer_GoalName.zero_grad()\n",
    "            goal_name_accumulated_loss = 0\n",
    "        if not goal_food_early_stopping.stop_training:\n",
    "            optimizer_GoalFood.zero_grad()\n",
    "            goal_food_accumulated_loss = 0\n",
    "        if not requested_early_stopping.stop_training:\n",
    "            optimizer_Requested.zero_grad()\n",
    "            requested_accumulated_loss = 0\n",
    "        if not method_early_stopping.stop_training:\n",
    "            optimizer_Method.zero_grad()\n",
    "            method_accumulated_loss = 0\n",
    "        \n",
    "        for raw_X_train_dialog, raw_Y_train_dialog in zip(raw_X_train[train_indices], raw_Y_train[train_indices]):\n",
    "            \n",
    "            if not goal_pricerange_early_stopping.stop_training:\n",
    "                model_GoalPricerange.hidden = model_GoalPricerange.init_hidden()\n",
    "            if not goal_area_early_stopping.stop_training:\n",
    "                model_GoalArea.hidden = model_GoalArea.init_hidden()\n",
    "            if not goal_name_early_stopping.stop_training:\n",
    "                model_GoalName.hidden = model_GoalName.init_hidden()\n",
    "            if not goal_food_early_stopping.stop_training:\n",
    "                model_GoalFood.hidden = model_GoalFood.init_hidden()\n",
    "            if not requested_early_stopping.stop_training:\n",
    "                model_Requested.hidden = model_Requested.init_hidden()\n",
    "            if not method_early_stopping.stop_training:\n",
    "                model_Method.hidden = model_Method.init_hidden()\n",
    "                \n",
    "            for raw_X_train_turn, raw_Y_train_turn in zip(raw_X_train_dialog[\"turns\"], raw_Y_train_dialog[\"turns\"]):\n",
    "\n",
    "                indices, scores = get_index_and_score(raw_X_train_turn, token_to_index, mode = \"train\", device = DEVICE)\n",
    "                \n",
    "                if not goal_pricerange_early_stopping.stop_training:\n",
    "                    goal_pricerange_outputs = model_GoalPricerange(indices, scores)\n",
    "                    for goal_pricerange in goal_pricerange_outputs:\n",
    "                        goal_pricerange = goal_pricerange.unsqueeze(0)\n",
    "                        goal_pricerange_loss = GOAL_LOSS_FUNCTION(goal_pricerange, retrieve_gold_GoalPricerange(raw_Y_train_turn, ontology = ontology, device = DEVICE))\n",
    "                        goal_pricerange_accumulated_loss += goal_pricerange_loss\n",
    "                if not goal_area_early_stopping.stop_training:\n",
    "                    goal_area_outputs = model_GoalArea(indices, scores)\n",
    "                    for goal_area in goal_area_outputs:\n",
    "                        goal_area = goal_area.unsqueeze(0)\n",
    "                        goal_area_loss = GOAL_LOSS_FUNCTION(goal_area, retrieve_gold_GoalArea(raw_Y_train_turn, ontology = ontology, device = DEVICE))\n",
    "                        goal_area_accumulated_loss += goal_area_loss\n",
    "                if not goal_name_early_stopping.stop_training:\n",
    "                    goal_name_outputs = model_GoalName(indices, scores)\n",
    "                    for goal_name in goal_name_outputs:\n",
    "                        goal_name = goal_name.unsqueeze(0)\n",
    "                        goal_name_loss = GOAL_LOSS_FUNCTION(goal_name, retrieve_gold_GoalName(raw_Y_train_turn, ontology = ontology, device = DEVICE))\n",
    "                        goal_name_accumulated_loss += goal_name_loss\n",
    "                if not goal_food_early_stopping.stop_training:\n",
    "                    goal_food_outputs = model_GoalFood(indices, scores)\n",
    "                    for goal_food in goal_food_outputs:\n",
    "                        goal_food = goal_food.unsqueeze(0)\n",
    "                        goal_food_loss = GOAL_LOSS_FUNCTION(goal_food, retrieve_gold_GoalFood(raw_Y_train_turn, ontology = ontology, device = DEVICE))\n",
    "                        goal_food_accumulated_loss += goal_food_loss\n",
    "                if not requested_early_stopping.stop_training:\n",
    "                    requested_outputs = model_Requested(indices, scores)\n",
    "                    for requested in requested_outputs:\n",
    "                        requested = requested.unsqueeze(0)\n",
    "                        requested_loss = REQUESTED_LOSS_FUNCTION(requested, retrieve_gold_Requested(raw_Y_train_turn, ontology = ontology, device = DEVICE))\n",
    "                        requested_accumulated_loss += requested_loss\n",
    "                if not method_early_stopping.stop_training:\n",
    "                    method_outputs = model_Method(indices, scores)\n",
    "                    for method in method_outputs:\n",
    "                        method = method.unsqueeze(0)\n",
    "                        method_loss = METHOD_LOSS_FUNCTION(method, retrieve_gold_Method(raw_Y_train_turn, ontology = ontology, device = DEVICE))\n",
    "                        method_accumulated_loss += method_loss\n",
    "        \n",
    "        if not goal_pricerange_early_stopping.stop_training:\n",
    "            goal_pricerange_accumulated_loss.backward()\n",
    "            optimizer_GoalPricerange.step()\n",
    "        if not goal_area_early_stopping.stop_training:\n",
    "            goal_area_accumulated_loss.backward()\n",
    "            optimizer_GoalArea.step()\n",
    "        if not goal_name_early_stopping.stop_training:\n",
    "            goal_name_accumulated_loss.backward()\n",
    "            optimizer_GoalName.step()\n",
    "        if not goal_food_early_stopping.stop_training:\n",
    "            goal_food_accumulated_loss.backward()\n",
    "            optimizer_GoalFood.step()\n",
    "        if not requested_early_stopping.stop_training:\n",
    "            requested_accumulated_loss.backward()\n",
    "            optimizer_Requested.step()\n",
    "        if not method_early_stopping.stop_training:\n",
    "            method_accumulated_loss.backward()\n",
    "            optimizer_Method.step()\n",
    "        \n",
    "    dev_tracker = make_tracker(model_GoalPricerange, model_GoalArea, model_GoalName, model_GoalFood, model_Requested, model_Method,\n",
    "                               raw_X_dev, raw_Y_dev, dataset = \"dstc2_dev\", percentage = 1.0)\n",
    "    \n",
    "    dev_scores_dict = get_scores(dev_tracker, dataset = \"dstc2_dev\")\n",
    "    \n",
    "    logging.info(\"DEV Goal Pricerange Acc: {}\".format(dev_scores_dict[\"goal_pricerange_accuracy\"]))\n",
    "    logging.info(\"DEV Goal Area Acc: {}\".format(dev_scores_dict[\"goal_area_accuracy\"]))\n",
    "    logging.info(\"DEV Goal Name Acc: {}\".format(dev_scores_dict[\"goal_name_accuracy\"]))\n",
    "    logging.info(\"DEV Goal Food Acc: {}\".format(dev_scores_dict[\"goal_food_accuracy\"]))\n",
    "    \n",
    "    logging.info(\"DEV Acc:\\t\\t{}({})\\t\\t{}({})\\t\\t{}({})\".format(dev_scores_dict[\"goal_accuracy\"],\n",
    "                                                                 np.around(dev_scores_dict[\"goal_accuracy\"], decimals = 2),\n",
    "                                                                 dev_scores_dict[\"requested_accuracy\"],\n",
    "                                                                 np.around(dev_scores_dict[\"requested_accuracy\"], decimals = 2),\n",
    "                                                                 dev_scores_dict[\"method_accuracy\"],\n",
    "                                                                 np.around(dev_scores_dict[\"method_accuracy\"], decimals = 2)))\n",
    "    \n",
    "    logging.info(\"DEV L2:\\t\\t{}({})\\t\\t{}({})\\t\\t{}({})\".format(dev_scores_dict[\"goal_l2\"],\n",
    "                                                                np.around(dev_scores_dict[\"goal_l2\"], decimals = 2),\n",
    "                                                                dev_scores_dict[\"requested_l2\"],\n",
    "                                                                np.around(dev_scores_dict[\"requested_l2\"], decimals = 2),\n",
    "                                                                dev_scores_dict[\"method_l2\"],\n",
    "                                                                np.around(dev_scores_dict[\"method_l2\"], decimals = 2)))\n",
    "\n",
    "    goal_pricerange_early_stopping.on_epoch_end(epoch = (epoch + 1), current_value = (dev_scores_dict[\"goal_pricerange_accuracy\"]))\n",
    "    goal_area_early_stopping.on_epoch_end(epoch = (epoch + 1), current_value = (dev_scores_dict[\"goal_area_accuracy\"]))\n",
    "    goal_name_early_stopping.on_epoch_end(epoch = (epoch + 1), current_value = (dev_scores_dict[\"goal_name_accuracy\"]))\n",
    "    goal_food_early_stopping.on_epoch_end(epoch = (epoch + 1), current_value = (dev_scores_dict[\"goal_food_accuracy\"]))\n",
    "    requested_early_stopping.on_epoch_end(epoch = (epoch + 1), current_value = (dev_scores_dict[\"requested_accuracy\"]))\n",
    "    method_early_stopping.on_epoch_end(epoch = (epoch + 1), current_value = (dev_scores_dict[\"method_accuracy\"]))\n",
    "    \n",
    "    if goal_pricerange_early_stopping.wait == 0:\n",
    "        torch.save(model_GoalPricerange.state_dict(), \"model_PANFMR_incremental_GoalPricerange.pt\")\n",
    "    if goal_area_early_stopping.wait == 0:\n",
    "        torch.save(model_GoalArea.state_dict(), \"model_PANFMR_incremental_GoalArea.pt\")\n",
    "    if goal_name_early_stopping.wait == 0:\n",
    "        torch.save(model_GoalName.state_dict(), \"model_PANFMR_incremental_GoalName.pt\")\n",
    "    if goal_food_early_stopping.wait == 0:\n",
    "        torch.save(model_GoalFood.state_dict(), \"model_PANFMR_incremental_GoalFood.pt\")\n",
    "    if requested_early_stopping.wait == 0:\n",
    "        torch.save(model_Requested.state_dict(), \"model_PANFMR_incremental_Requested.pt\")\n",
    "    if method_early_stopping.wait == 0:\n",
    "        torch.save(model_Method.state_dict(), \"model_PANFMR_incremental_Method.pt\")\n",
    "        \n",
    "    if goal_pricerange_early_stopping.stop_training:\n",
    "        model_GoalPricerange.load_state_dict(torch.load(\"model_PANFMR_incremental_GoalPricerange.pt\"))\n",
    "    if goal_area_early_stopping.stop_training:\n",
    "        model_GoalArea.load_state_dict(torch.load(\"model_PANFMR_incremental_GoalArea.pt\"))\n",
    "    if goal_name_early_stopping.stop_training:\n",
    "        model_GoalName.load_state_dict(torch.load(\"model_PANFMR_incremental_GoalName.pt\"))\n",
    "    if goal_food_early_stopping.stop_training:\n",
    "        model_GoalFood.load_state_dict(torch.load(\"model_PANFMR_incremental_GoalFood.pt\"))\n",
    "    if requested_early_stopping.stop_training:\n",
    "        model_Requested.load_state_dict(torch.load(\"model_PANFMR_incremental_Requested.pt\"))\n",
    "    if method_early_stopping.stop_training:\n",
    "        model_Method.load_state_dict(torch.load(\"model_PANFMR_incremental_Method.pt\"))\n",
    "        \n",
    "    if goal_pricerange_early_stopping.stop_training and goal_area_early_stopping.stop_training and goal_name_early_stopping.stop_training and \\\n",
    "        goal_food_early_stopping.stop_training and requested_early_stopping.stop_training and method_early_stopping.stop_training:\n",
    "        break"
   ]
  },
  {
   "cell_type": "markdown",
   "metadata": {},
   "source": [
    "### Load Goal Pricerange Model"
   ]
  },
  {
   "cell_type": "code",
   "execution_count": null,
   "metadata": {},
   "outputs": [],
   "source": [
    "model_GoalPricerange = iDSTModel(vocabulary_size = VOCABULARY_SIZE,\n",
    "                                 embedding_dim = EMBEDDING_DIM,\n",
    "                                 altered_embedding_dim = ALTERED_EMBEDDING_DIM,\n",
    "                                 hidden_dim = HIDDEN_DIM,\n",
    "                                 output_dim = GOAL_PRICERANGE_DIM,\n",
    "                                 device = DEVICE).to(DEVICE)\n",
    "model_GoalPricerange.load_state_dict(torch.load(\"model_PANFMR_incremental_GoalPricerange.pt\"))\n",
    "model_GoalPricerange.eval()"
   ]
  },
  {
   "cell_type": "markdown",
   "metadata": {},
   "source": [
    "### Load Goal Area Model"
   ]
  },
  {
   "cell_type": "code",
   "execution_count": null,
   "metadata": {},
   "outputs": [],
   "source": [
    "model_GoalArea = iDSTModel(vocabulary_size = VOCABULARY_SIZE,\n",
    "                           embedding_dim = EMBEDDING_DIM,\n",
    "                           altered_embedding_dim = ALTERED_EMBEDDING_DIM,\n",
    "                           hidden_dim = HIDDEN_DIM,\n",
    "                           output_dim = GOAL_AREA_DIM,\n",
    "                           device = DEVICE).to(DEVICE)\n",
    "model_GoalArea.load_state_dict(torch.load(\"model_PANFMR_incremental_GoalArea.pt\"))\n",
    "model_GoalArea.eval()"
   ]
  },
  {
   "cell_type": "markdown",
   "metadata": {},
   "source": [
    "### Load Goal Name Model"
   ]
  },
  {
   "cell_type": "code",
   "execution_count": null,
   "metadata": {},
   "outputs": [],
   "source": [
    "model_GoalName = iDSTModel(vocabulary_size = VOCABULARY_SIZE,\n",
    "                           embedding_dim = EMBEDDING_DIM,\n",
    "                           altered_embedding_dim = ALTERED_EMBEDDING_DIM,\n",
    "                           hidden_dim = HIDDEN_DIM,\n",
    "                           output_dim = GOAL_NAME_DIM,\n",
    "                           device = DEVICE).to(DEVICE)\n",
    "model_GoalName.load_state_dict(torch.load(\"model_PANFMR_incremental_GoalName.pt\"))\n",
    "model_GoalName.eval()"
   ]
  },
  {
   "cell_type": "markdown",
   "metadata": {},
   "source": [
    "### Load Goal Food Model"
   ]
  },
  {
   "cell_type": "code",
   "execution_count": null,
   "metadata": {},
   "outputs": [],
   "source": [
    "model_GoalFood = iDSTModel(vocabulary_size = VOCABULARY_SIZE,\n",
    "                           embedding_dim = EMBEDDING_DIM,\n",
    "                           altered_embedding_dim = ALTERED_EMBEDDING_DIM,\n",
    "                           hidden_dim = HIDDEN_DIM,\n",
    "                           output_dim = GOAL_FOOD_DIM,\n",
    "                           device = DEVICE).to(DEVICE)\n",
    "model_GoalFood.load_state_dict(torch.load(\"model_PANFMR_incremental_GoalFood.pt\"))\n",
    "model_GoalFood.eval()"
   ]
  },
  {
   "cell_type": "markdown",
   "metadata": {},
   "source": [
    "### Load Requested Model"
   ]
  },
  {
   "cell_type": "code",
   "execution_count": null,
   "metadata": {},
   "outputs": [],
   "source": [
    "model_Requested = iDSTModel(vocabulary_size = VOCABULARY_SIZE,\n",
    "                            embedding_dim = EMBEDDING_DIM,\n",
    "                            altered_embedding_dim = ALTERED_EMBEDDING_DIM,\n",
    "                            hidden_dim = HIDDEN_DIM,\n",
    "                            output_dim = REQUESTED_DIM,\n",
    "                            device = DEVICE,\n",
    "                            is_requested = True).to(DEVICE)\n",
    "model_Requested.load_state_dict(torch.load(\"model_PANFMR_incremental_Requested.pt\"))\n",
    "model_Requested.eval()"
   ]
  },
  {
   "cell_type": "markdown",
   "metadata": {},
   "source": [
    "### Load Method Model"
   ]
  },
  {
   "cell_type": "code",
   "execution_count": null,
   "metadata": {},
   "outputs": [],
   "source": [
    "model_Method = iDSTModel(vocabulary_size = VOCABULARY_SIZE,\n",
    "                         embedding_dim = EMBEDDING_DIM,\n",
    "                         altered_embedding_dim = ALTERED_EMBEDDING_DIM,\n",
    "                         hidden_dim = HIDDEN_DIM,\n",
    "                         output_dim = METHOD_DIM,\n",
    "                         device = DEVICE).to(DEVICE)\n",
    "model_Method.load_state_dict(torch.load(\"model_PANFMR_incremental_Method.pt\"))\n",
    "model_Method.eval()"
   ]
  },
  {
   "cell_type": "markdown",
   "metadata": {},
   "source": [
    "### Print scores"
   ]
  },
  {
   "cell_type": "code",
   "execution_count": null,
   "metadata": {},
   "outputs": [],
   "source": [
    "dev_tracker = make_tracker(model_GoalPricerange,\n",
    "                           model_GoalArea,\n",
    "                           model_GoalName,\n",
    "                           model_GoalFood,\n",
    "                           model_Requested,\n",
    "                           model_Method,\n",
    "                           raw_X_dev, raw_Y_dev, dataset = \"dstc2_dev\", percentage = 1.0)\n",
    "get_scores(dev_tracker, dataset = \"dstc2_dev\")"
   ]
  },
  {
   "cell_type": "code",
   "execution_count": null,
   "metadata": {},
   "outputs": [],
   "source": [
    "test_tracker = make_tracker(model_GoalPricerange,\n",
    "                            model_GoalArea,\n",
    "                            model_GoalName,\n",
    "                            model_GoalFood,\n",
    "                            model_Requested,\n",
    "                            model_Method,\n",
    "                            raw_X_test, raw_Y_test, dataset = \"dstc2_test\", percentage = 1.0)\n",
    "get_scores(test_tracker, dataset = \"dstc2_test\")"
   ]
  },
  {
   "cell_type": "code",
   "execution_count": null,
   "metadata": {},
   "outputs": [],
   "source": []
  }
 ],
 "metadata": {
  "kernelspec": {
   "display_name": "Python 3",
   "language": "python",
   "name": "python3"
  },
  "language_info": {
   "codemirror_mode": {
    "name": "ipython",
    "version": 3
   },
   "file_extension": ".py",
   "mimetype": "text/x-python",
   "name": "python",
   "nbconvert_exporter": "python",
   "pygments_lexer": "ipython3",
   "version": "3.6.5"
  }
 },
 "nbformat": 4,
 "nbformat_minor": 2
}
