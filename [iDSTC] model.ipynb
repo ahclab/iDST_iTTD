{
 "cells": [
  {
   "cell_type": "markdown",
   "metadata": {},
   "source": [
    "### Check GPU availability"
   ]
  },
  {
   "cell_type": "code",
   "execution_count": 1,
   "metadata": {},
   "outputs": [
    {
     "name": "stdout",
     "output_type": "stream",
     "text": [
      "Tue Feb  5 22:21:21 2019       \r\n",
      "+-----------------------------------------------------------------------------+\r\n",
      "| NVIDIA-SMI 384.145                Driver Version: 384.145                   |\r\n",
      "|-------------------------------+----------------------+----------------------+\r\n",
      "| GPU  Name        Persistence-M| Bus-Id        Disp.A | Volatile Uncorr. ECC |\r\n",
      "| Fan  Temp  Perf  Pwr:Usage/Cap|         Memory-Usage | GPU-Util  Compute M. |\r\n",
      "|===============================+======================+======================|\r\n",
      "|   0  GeForce GTX 108...  Off  | 00000000:02:00.0 Off |                  N/A |\r\n",
      "| 23%   27C    P8    17W / 250W |      0MiB / 11172MiB |      0%      Default |\r\n",
      "+-------------------------------+----------------------+----------------------+\r\n",
      "|   1  GeForce GTX 108...  Off  | 00000000:03:00.0 Off |                  N/A |\r\n",
      "| 23%   37C    P8    17W / 250W |      0MiB / 11172MiB |      0%      Default |\r\n",
      "+-------------------------------+----------------------+----------------------+\r\n",
      "                                                                               \r\n",
      "+-----------------------------------------------------------------------------+\r\n",
      "| Processes:                                                       GPU Memory |\r\n",
      "|  GPU       PID   Type   Process name                             Usage      |\r\n",
      "|=============================================================================|\r\n",
      "|  No running processes found                                                 |\r\n",
      "+-----------------------------------------------------------------------------+\r\n"
     ]
    }
   ],
   "source": [
    "!nvidia-smi"
   ]
  },
  {
   "cell_type": "markdown",
   "metadata": {},
   "source": [
    "### Import libraries"
   ]
  },
  {
   "cell_type": "code",
   "execution_count": 2,
   "metadata": {},
   "outputs": [],
   "source": [
    "import torch\n",
    "import torch.utils.data\n",
    "import torch.nn as nn\n",
    "import torch.nn.functional as F\n",
    "import torch.optim as optim\n",
    "\n",
    "import copy\n",
    "import numpy as np\n",
    "import time\n",
    "import json\n",
    "import plotly\n",
    "import logging\n",
    "logging.getLogger().setLevel(logging.INFO)\n",
    "\n",
    "from pprint import pprint\n",
    "from tqdm import tqdm_notebook\n",
    "from idst_util import trivial\n",
    "from idst_util import dstc2\n",
    "from dstc2.dstc2_scripts import score"
   ]
  },
  {
   "cell_type": "markdown",
   "metadata": {},
   "source": [
    "### Check DSTC2 availability and retrieve data"
   ]
  },
  {
   "cell_type": "code",
   "execution_count": 3,
   "metadata": {},
   "outputs": [
    {
     "name": "stderr",
     "output_type": "stream",
     "text": [
      "INFO:root:+--------------------------------+\n",
      "INFO:root:|         _ ____  ___________    |\n",
      "INFO:root:|        (_) __ \\/ ___/_  __/    |\n",
      "INFO:root:|       / / / / /\\__ \\ / /       |\n",
      "INFO:root:|      / / /_/ /___/ // /        |\n",
      "INFO:root:|     /_/_____//____//_/         |\n",
      "INFO:root:|                                |\n",
      "INFO:root:+--------------------------------+\n",
      "INFO:root:|Incremental Dialog State Tracker|\n",
      "INFO:root:+--------------------------------+\n",
      "INFO:root:+--------------------------------+\n",
      "INFO:root:|     Dialog State Tracker 2     |\n",
      "INFO:root:|         Data Checker           |\n",
      "INFO:root:+--------------------------------+\n",
      "INFO:root:Looking for dstc2 directory in .\n",
      "INFO:root:dstc2 was found!\n",
      "INFO:root:Looking for dstc2_traindev directory in ./dstc2\n",
      "INFO:root:dstc2_traindev was found!\n",
      "INFO:root:Looking for dstc2_test directory in ./dstc2\n",
      "INFO:root:dstc2_test was found!\n",
      "INFO:root:Looking for dstc2_scripts directory in ./dstc2\n",
      "INFO:root:dstc2_scripts was found!\n",
      "INFO:root:Done!\n",
      "INFO:root:+--------------------------------+\n",
      "INFO:root:|     Dialog State Tracker 2     |\n",
      "INFO:root:|       Dataset Retrieval        |\n",
      "INFO:root:+--------------------------------+\n",
      "INFO:root:Reading dstc2_train.flist, dstc2_dev.flist and ontology_dstc2.json\n",
      "INFO:root:Asserted 1612 dialogs for dstc2_train.flist\n",
      "INFO:root:Asserted 506 dialogs for dstc2_dev.flist\n",
      "INFO:root:Extracting raw train features\n"
     ]
    },
    {
     "data": {
      "application/vnd.jupyter.widget-view+json": {
       "model_id": "59762731b89142f2b64054ee3ff583f1",
       "version_major": 2,
       "version_minor": 0
      },
      "text/plain": [
       "HBox(children=(IntProgress(value=0, max=1612), HTML(value='')))"
      ]
     },
     "metadata": {},
     "output_type": "display_data"
    },
    {
     "name": "stderr",
     "output_type": "stream",
     "text": [
      "INFO:root:Extracting raw dev features\n"
     ]
    },
    {
     "name": "stdout",
     "output_type": "stream",
     "text": [
      "\n"
     ]
    },
    {
     "data": {
      "application/vnd.jupyter.widget-view+json": {
       "model_id": "344761ded2744603b642defe334d17fa",
       "version_major": 2,
       "version_minor": 0
      },
      "text/plain": [
       "HBox(children=(IntProgress(value=0, max=506), HTML(value='')))"
      ]
     },
     "metadata": {},
     "output_type": "display_data"
    },
    {
     "name": "stderr",
     "output_type": "stream",
     "text": [
      "INFO:root:Reading dstc2_test.flist\n",
      "INFO:root:Asserted 1117 dialogs for dstc2_test.flist\n",
      "INFO:root:Extracting raw test features\n"
     ]
    },
    {
     "name": "stdout",
     "output_type": "stream",
     "text": [
      "\n"
     ]
    },
    {
     "data": {
      "application/vnd.jupyter.widget-view+json": {
       "model_id": "5b3317c4e8e24bb8b61e780c547f41d5",
       "version_major": 2,
       "version_minor": 0
      },
      "text/plain": [
       "HBox(children=(IntProgress(value=0, max=1117), HTML(value='')))"
      ]
     },
     "metadata": {},
     "output_type": "display_data"
    },
    {
     "name": "stderr",
     "output_type": "stream",
     "text": [
      "INFO:root:Done!\n"
     ]
    },
    {
     "name": "stdout",
     "output_type": "stream",
     "text": [
      "\n"
     ]
    }
   ],
   "source": [
    "trivial.print_idst()\n",
    "\n",
    "dstc2.check()\n",
    "\n",
    "raw_X_train, raw_Y_train, \\\n",
    "raw_X_dev, raw_Y_dev, \\\n",
    "raw_X_test, raw_Y_test, \\\n",
    "ontology = dstc2.retrieve_raw_datasets(train_data_augmentation = True)"
   ]
  },
  {
   "cell_type": "markdown",
   "metadata": {},
   "source": [
    "### Set device"
   ]
  },
  {
   "cell_type": "code",
   "execution_count": 4,
   "metadata": {},
   "outputs": [
    {
     "name": "stderr",
     "output_type": "stream",
     "text": [
      "INFO:root:+--------------------------------+\n",
      "INFO:root:|             Device             |\n",
      "INFO:root:+--------------------------------+\n",
      "INFO:root:Running on GPU 1\n"
     ]
    }
   ],
   "source": [
    "logging.info(\"+--------------------------------+\")\n",
    "logging.info(\"|             Device             |\")\n",
    "logging.info(\"+--------------------------------+\")\n",
    "\n",
    "GPU_ID = 1\n",
    "DEVICE = torch.device(\"cuda:{}\".format(GPU_ID) if torch.cuda.is_available() else \"cpu\")\n",
    "if str(DEVICE) == \"cpu\":\n",
    "    logging.warning(\"Running on CPU\")\n",
    "else:\n",
    "    logging.info(\"Running on GPU {}\".format(GPU_ID))"
   ]
  },
  {
   "cell_type": "markdown",
   "metadata": {},
   "source": [
    "### Create vocabularies"
   ]
  },
  {
   "cell_type": "code",
   "execution_count": 5,
   "metadata": {},
   "outputs": [
    {
     "name": "stderr",
     "output_type": "stream",
     "text": [
      "INFO:root:+--------------------------------+\n",
      "INFO:root:|          Vocabulary            |\n",
      "INFO:root:+--------------------------------+\n",
      "INFO:root:Creating token_to_index, index_to_token and token_to_count dictionaries\n"
     ]
    },
    {
     "data": {
      "application/vnd.jupyter.widget-view+json": {
       "model_id": "834c2b41d3a94960ae92b80cceced615",
       "version_major": 2,
       "version_minor": 0
      },
      "text/plain": [
       "HBox(children=(IntProgress(value=0, max=3224), HTML(value='')))"
      ]
     },
     "metadata": {},
     "output_type": "display_data"
    },
    {
     "name": "stderr",
     "output_type": "stream",
     "text": [
      "INFO:root:Done!\n"
     ]
    },
    {
     "name": "stdout",
     "output_type": "stream",
     "text": [
      "\n"
     ]
    }
   ],
   "source": [
    "logging.info(\"+--------------------------------+\")\n",
    "logging.info(\"|          Vocabulary            |\")\n",
    "logging.info(\"+--------------------------------+\")\n",
    "logging.info(\"Creating token_to_index, index_to_token and token_to_count dictionaries\")\n",
    "\n",
    "token_to_index = {\"<unk>\": 0}\n",
    "index_to_token = {0: \"<unk>\"}\n",
    "token_to_count = {\"<unk>\": 1}\n",
    "\n",
    "for raw_train_dialog in tqdm_notebook(raw_X_train):\n",
    "    for raw_train_turn in raw_train_dialog[\"turns\"]:\n",
    "        tokens_scores = raw_train_turn[\"system\"] + raw_train_turn[\"user\"]\n",
    "        for token_score in tokens_scores:\n",
    "            token = token_score[0]\n",
    "            if token not in token_to_index:\n",
    "                token_to_index[token] = len(token_to_index)\n",
    "                index_to_token[len(token_to_index)] = token\n",
    "                token_to_count[token] = 1\n",
    "            else:\n",
    "                token_to_count[token] += 1\n",
    "                \n",
    "assert len(token_to_index) == len(index_to_token)\n",
    "assert len(token_to_index) == len(token_to_count)\n",
    "\n",
    "logging.info(\"Done!\")"
   ]
  },
  {
   "cell_type": "markdown",
   "metadata": {},
   "source": [
    "### Execution configuration"
   ]
  },
  {
   "cell_type": "code",
   "execution_count": 6,
   "metadata": {},
   "outputs": [
    {
     "name": "stderr",
     "output_type": "stream",
     "text": [
      "INFO:root:+--------------------------------+\n",
      "INFO:root:|         Configuration          |\n",
      "INFO:root:+--------------------------------+\n",
      "INFO:root:VOCABULARY_SIZE:\t\t\t1137\n",
      "INFO:root:GOAL_FOOD_DIM:\t\t\t93\n",
      "INFO:root:GOAL_PRICERANGE_DIM:\t\t\t5\n",
      "INFO:root:GOAL_NAME_DIM:\t\t\t115\n",
      "INFO:root:GOAL_AREA_DIM:\t\t\t7\n",
      "INFO:root:METHOD_DIM:\t\t\t\t5\n",
      "INFO:root:REQUESTED_DIM:\t\t\t8\n",
      "INFO:root:EMBEDDING_DIM:\t\t\t170\n",
      "INFO:root:ALTERED_EMBEDDING_DIM:\t\t300\n",
      "INFO:root:HIDDEN_DIM:\t\t\t\t100\n",
      "INFO:root:NUM_EPOCHS:\t\t\t\t50\n",
      "INFO:root:BATCH_SIZE:\t\t\t\t10\n",
      "INFO:root:EARLY_STOPPING:\t\t\t4\n",
      "INFO:root:GOAL_LOSS_FUNCTION:\t\t\tCrossEntropyLoss()\n",
      "INFO:root:METHOD_LOSS_FUNCTION:\t\t\tCrossEntropyLoss()\n",
      "INFO:root:REQUESTED_LOSS_FUNCTION:\t\tBCELoss()\n"
     ]
    }
   ],
   "source": [
    "logging.info(\"+--------------------------------+\")\n",
    "logging.info(\"|         Configuration          |\")\n",
    "logging.info(\"+--------------------------------+\")\n",
    "\n",
    "VOCABULARY_SIZE = len(token_to_index)\n",
    "\n",
    "# NOTE: we add +2 because of null and dontcare cases\n",
    "GOAL_FOOD_DIM = len(ontology[\"informable\"][\"food\"]) + 2 \n",
    "GOAL_PRICERANGE_DIM = len(ontology[\"informable\"][\"pricerange\"]) + 2\n",
    "GOAL_NAME_DIM = len(ontology[\"informable\"][\"name\"]) + 2\n",
    "GOAL_AREA_DIM = len(ontology[\"informable\"][\"area\"]) + 2\n",
    "\n",
    "METHOD_DIM = len(ontology[\"method\"])\n",
    "\n",
    "REQUESTED_DIM = len(ontology[\"requestable\"])\n",
    "\n",
    "EMBEDDING_DIM = 170\n",
    "ALTERED_EMBEDDING_DIM = 300\n",
    "HIDDEN_DIM = 100\n",
    "\n",
    "NUM_EPOCHS = 50\n",
    "BATCH_SIZE = 10\n",
    "EARLY_STOPPING = 4\n",
    "\n",
    "GOAL_LOSS_FUNCTION = nn.CrossEntropyLoss()\n",
    "METHOD_LOSS_FUNCTION = nn.CrossEntropyLoss()\n",
    "REQUESTED_LOSS_FUNCTION = nn.BCELoss()\n",
    "\n",
    "logging.info(\"VOCABULARY_SIZE:\\t\\t\\t{}\".format(VOCABULARY_SIZE))\n",
    "\n",
    "logging.info(\"GOAL_FOOD_DIM:\\t\\t\\t{}\".format(GOAL_FOOD_DIM))\n",
    "logging.info(\"GOAL_PRICERANGE_DIM:\\t\\t\\t{}\".format(GOAL_PRICERANGE_DIM))\n",
    "logging.info(\"GOAL_NAME_DIM:\\t\\t\\t{}\".format(GOAL_NAME_DIM))\n",
    "logging.info(\"GOAL_AREA_DIM:\\t\\t\\t{}\".format(GOAL_AREA_DIM))\n",
    "\n",
    "logging.info(\"METHOD_DIM:\\t\\t\\t\\t{}\".format(METHOD_DIM))\n",
    "\n",
    "logging.info(\"REQUESTED_DIM:\\t\\t\\t{}\".format(REQUESTED_DIM))\n",
    "\n",
    "logging.info(\"EMBEDDING_DIM:\\t\\t\\t{}\".format(EMBEDDING_DIM))\n",
    "logging.info(\"ALTERED_EMBEDDING_DIM:\\t\\t{}\".format(ALTERED_EMBEDDING_DIM))\n",
    "logging.info(\"HIDDEN_DIM:\\t\\t\\t\\t{}\".format(HIDDEN_DIM))\n",
    "\n",
    "logging.info(\"NUM_EPOCHS:\\t\\t\\t\\t{}\".format(NUM_EPOCHS))\n",
    "logging.info(\"BATCH_SIZE:\\t\\t\\t\\t{}\".format(BATCH_SIZE))\n",
    "logging.info(\"EARLY_STOPPING:\\t\\t\\t{}\".format(EARLY_STOPPING))\n",
    "\n",
    "logging.info(\"GOAL_LOSS_FUNCTION:\\t\\t\\t{}\".format(GOAL_LOSS_FUNCTION))\n",
    "logging.info(\"METHOD_LOSS_FUNCTION:\\t\\t\\t{}\".format(METHOD_LOSS_FUNCTION))\n",
    "logging.info(\"REQUESTED_LOSS_FUNCTION:\\t\\t{}\".format(REQUESTED_LOSS_FUNCTION))"
   ]
  },
  {
   "cell_type": "markdown",
   "metadata": {},
   "source": [
    "### Utilities"
   ]
  },
  {
   "cell_type": "code",
   "execution_count": 182,
   "metadata": {},
   "outputs": [],
   "source": [
    "def get_index_and_score(turn, token_to_index, mode, device):\n",
    "    \n",
    "    indices = []\n",
    "    scores = []\n",
    "    \n",
    "    if mode == \"train\": # LecTrack 4.3: Out-of-Vocabulary Words\n",
    "        for system_token, system_token_score in turn[\"system\"]:\n",
    "            indices.append(token_to_index[system_token])\n",
    "            scores.append(system_token_score)\n",
    "        for user_token, user_token_score in turn[\"user\"]:\n",
    "            if np.random.binomial(n = 1, p = 0.1) == 1:\n",
    "                indices.append(token_to_index[\"<unk>\"])\n",
    "            else:\n",
    "                indices.append(token_to_index[user_token])\n",
    "            scores.append(user_token_score)\n",
    "    else:\n",
    "        tokens_scores = turn[\"system\"] + turn[\"user\"]\n",
    "        for token, score in tokens_scores:\n",
    "            if token not in token_to_index:\n",
    "                indices.append(token_to_index[\"<unk>\"])\n",
    "            else:\n",
    "                indices.append(token_to_index[token])\n",
    "            scores.append(score)\n",
    "            \n",
    "    assert len(indices) == len(scores)\n",
    "    \n",
    "    return torch.tensor(indices, dtype = torch.long, device = device), torch.tensor(scores, dtype = torch.float, device = device)\n",
    "\n",
    "# --------------------\n",
    "\n",
    "class EarlyStopping():\n",
    "    \n",
    "    def __init__(self, min_delta = 0, patience = 0):\n",
    "        \n",
    "        self.min_delta = min_delta\n",
    "        self.patience = patience\n",
    "        self.wait = 0\n",
    "        self.stopped_epoch = 0\n",
    "        self.best = -np.Inf\n",
    "        self.stop_training = False\n",
    "    \n",
    "    def on_epoch_end(self, epoch, current_value):\n",
    "        if np.greater((current_value - self.min_delta), self.best):\n",
    "            self.best = current_value\n",
    "            self.wait = 0\n",
    "        else:\n",
    "            self.wait += 1\n",
    "            if self.wait > self.patience:\n",
    "                self.stopped_epoch = epoch\n",
    "                self.stop_training = True\n",
    "        return self.stop_training\n",
    "\n",
    "# --------------------\n",
    "\n",
    "def make_tracker(model_GoalPricerange, model_GoalArea, model_GoalName, model_GoalFood, model_Requested, model_Method, raw_X, raw_Y, dataset, percentage = 1.0):\n",
    "    \n",
    "    model_GoalPricerange = model_GoalPricerange.eval()\n",
    "    model_GoalArea = model_GoalArea.eval()\n",
    "    model_GoalName = model_GoalName.eval()\n",
    "    model_GoalFood = model_GoalFood.eval()\n",
    "    model_Requested = model_Requested.eval()\n",
    "    model_Method = model_Method.eval()\n",
    "    \n",
    "    with torch.no_grad():\n",
    "        tracker_json = {}\n",
    "        tracker_json[\"dataset\"] = dataset\n",
    "        tracker_json[\"sessions\"] = []\n",
    "\n",
    "        start_time = time.time()\n",
    "        \n",
    "        for raw_X_dialog, raw_Y_dialog in tqdm_notebook(zip(raw_X, raw_Y), total = len(raw_X)):\n",
    "            \n",
    "            model_GoalPricerange.hidden = model_GoalPricerange.init_hidden()\n",
    "            model_GoalArea.hidden = model_GoalArea.init_hidden()\n",
    "            model_GoalName.hidden = model_GoalName.init_hidden()\n",
    "            model_GoalFood.hidden = model_GoalFood.init_hidden()\n",
    "            model_Requested.hidden = model_Requested.init_hidden()\n",
    "            model_Method.hidden = model_Method.init_hidden()\n",
    "            \n",
    "            session = {}\n",
    "            session[\"session-id\"] = raw_X_dialog[\"session-id\"]\n",
    "            session[\"turns\"] = []\n",
    "\n",
    "            for raw_X_turn, raw_Y_turn in zip(raw_X_dialog[\"turns\"], raw_Y_dialog[\"turns\"]):\n",
    "                \n",
    "                turn = {}\n",
    "                turn[\"goal-labels\"] = {}\n",
    "\n",
    "                indices, scores = get_index_and_score(raw_X_turn, token_to_index, mode = \"eval\", device = DEVICE)\n",
    "                \n",
    "                incremental_index = int(np.around(percentage * len(indices))) - 1\n",
    "                \n",
    "                goal_foods = model_GoalFood(indices, scores)\n",
    "                goal_food = goal_foods[incremental_index]\n",
    "                \n",
    "                goal_priceranges = model_GoalPricerange(indices, scores)\n",
    "                goal_pricerange = goal_priceranges[incremental_index]\n",
    "                \n",
    "                goal_names = model_GoalName(indices, scores)\n",
    "                goal_name = goal_names[incremental_index]\n",
    "                \n",
    "                goal_areas = model_GoalArea(indices, scores)\n",
    "                goal_area = goal_areas[incremental_index]\n",
    "                \n",
    "                requesteds = model_Requested(indices, scores)\n",
    "                requested = requesteds[incremental_index]\n",
    "                \n",
    "                methods = model_Method(indices, scores)\n",
    "                method = methods[incremental_index]\n",
    "                \n",
    "                turn[\"goal-labels\"][\"food\"] = retrieve_output_GoalFood(goal_food, ontology)\n",
    "                turn[\"goal-labels\"][\"pricerange\"] = retrieve_output_GoalPricerange(goal_pricerange, ontology)\n",
    "                turn[\"goal-labels\"][\"name\"] = retrieve_output_GoalName(goal_name, ontology)\n",
    "                turn[\"goal-labels\"][\"area\"] = retrieve_output_GoalArea(goal_area, ontology)\n",
    "                turn[\"requested-slots\"] = retrieve_output_Requested(requested, ontology)\n",
    "                turn[\"method-label\"] = retrieve_output_Method(method, ontology)\n",
    "                \n",
    "                session[\"turns\"].append(turn)\n",
    "                \n",
    "            tracker_json[\"sessions\"].append(session)\n",
    "            \n",
    "        end_time = time.time()\n",
    "        tracker_json[\"wall-time\"] = end_time - start_time\n",
    "        \n",
    "        return tracker_json\n",
    "\n",
    "# --------------------\n",
    "    \n",
    "def get_scores(tracker, dataset, ontology):\n",
    "    \n",
    "    scores_dict = None\n",
    "\n",
    "    if dataset == \"dstc2_train\":\n",
    "        scores_dict = score.compute_score(dataset = \"dstc2_train\", dataroot = \"dstc2/dstc2_traindev/data\", tracker_output = tracker, ontology = ontology)\n",
    "    elif dataset == \"dstc2_dev\":\n",
    "        scores_dict = score.compute_score(dataset = \"dstc2_dev\", dataroot = \"dstc2/dstc2_traindev/data\", tracker_output = tracker, ontology = ontology)\n",
    "    else: # dataset == \"dstc2_test\"\n",
    "        scores_dict = score.compute_score(dataset = \"dstc2_test\", dataroot = \"dstc2/dstc2_test/data\", tracker_output = tracker, ontology = ontology)\n",
    "            \n",
    "    return scores_dict\n",
    "\n",
    "# --------------------\n",
    "\n",
    "def retrieve_gold_GoalPricerange(raw_Y, ontology, device):\n",
    "    ontology_informable_pricerange = ontology[\"informable\"][\"pricerange\"]\n",
    "    raw_goal_pricerange = raw_Y[\"goal\"][\"pricerange\"]\n",
    "    goal_pricerange = 0\n",
    "    if raw_goal_pricerange != None:\n",
    "        if raw_goal_pricerange == \"dontcare\":\n",
    "            goal_pricerange = 1\n",
    "        else:    \n",
    "            goal_pricerange = ontology_informable_pricerange.index(raw_goal_pricerange) + 2\n",
    "    return torch.tensor([goal_pricerange], dtype = torch.long, device = device)\n",
    "\n",
    "def retrieve_output_GoalPricerange(output_tensor, ontology):\n",
    "    ontology_informable_pricerange = ontology[\"informable\"][\"pricerange\"]\n",
    "    output_tensor = output_tensor.view(-1)\n",
    "    output_tensor = torch.exp(output_tensor)\n",
    "    goal_pricerange_dict = {}\n",
    "    goal_pricerange_dict[\"dontcare\"] = output_tensor[1].item()\n",
    "    for index in range(len(output_tensor) - 2):     \n",
    "        goal_pricerange_dict[ontology_informable_pricerange[index]] = output_tensor[index + 2].item()\n",
    "    return goal_pricerange_dict\n",
    "\n",
    "# --------------------\n",
    "\n",
    "def retrieve_gold_GoalArea(raw_Y, ontology, device):\n",
    "    ontology_informable_area = ontology[\"informable\"][\"area\"]\n",
    "    raw_goal_area = raw_Y[\"goal\"][\"area\"]\n",
    "    goal_area = 0\n",
    "    if raw_goal_area != None:\n",
    "        if raw_goal_area == \"dontcare\":\n",
    "            goal_area = 1\n",
    "        else:    \n",
    "            goal_area = ontology_informable_area.index(raw_goal_area) + 2\n",
    "    return torch.tensor([goal_area], dtype = torch.long, device = device)\n",
    "\n",
    "def retrieve_output_GoalArea(output_tensor, ontology):\n",
    "    ontology_informable_area = ontology[\"informable\"][\"area\"]\n",
    "    output_tensor = output_tensor.view(-1)\n",
    "    output_tensor = torch.exp(output_tensor)\n",
    "    goal_area_dict = {}\n",
    "    goal_area_dict[\"dontcare\"] = output_tensor[1].item()\n",
    "    for index in range(len(output_tensor) - 2):\n",
    "        goal_area_dict[ontology_informable_area[index]] = output_tensor[index + 2].item()\n",
    "    return goal_area_dict\n",
    "\n",
    "# --------------------\n",
    "\n",
    "def retrieve_gold_GoalName(raw_Y, ontology, device):\n",
    "    ontology_informable_name = ontology[\"informable\"][\"name\"]\n",
    "    raw_goal_name = raw_Y[\"goal\"][\"name\"]\n",
    "    goal_name = 0\n",
    "    if raw_goal_name != None:\n",
    "        if raw_goal_name == \"dontcare\":\n",
    "            goal_name = 1\n",
    "        else:    \n",
    "            goal_name = ontology_informable_name.index(raw_goal_name) + 2\n",
    "    return torch.tensor([goal_name], dtype = torch.long, device = device)\n",
    "\n",
    "def retrieve_output_GoalName(output_tensor, ontology):\n",
    "    ontology_informable_name = ontology[\"informable\"][\"name\"]\n",
    "    output_tensor = output_tensor.view(-1)\n",
    "    output_tensor = torch.exp(output_tensor)\n",
    "    goal_name_dict = {}\n",
    "    goal_name_dict[\"dontcare\"] = output_tensor[1].item()\n",
    "    for index in range(len(output_tensor) - 2):\n",
    "        goal_name_dict[ontology_informable_name[index]] = output_tensor[index + 2].item()\n",
    "    return goal_name_dict\n",
    "\n",
    "# --------------------\n",
    "\n",
    "def retrieve_gold_GoalFood(raw_Y, ontology, device):\n",
    "    ontology_informable_food = ontology[\"informable\"][\"food\"]\n",
    "    raw_goal_food = raw_Y[\"goal\"][\"food\"]\n",
    "    goal_food = 0\n",
    "    if raw_goal_food != None:\n",
    "        if raw_goal_food == \"dontcare\":\n",
    "            goal_food = 1\n",
    "        else:    \n",
    "            goal_food = ontology_informable_food.index(raw_goal_food) + 2\n",
    "    return torch.tensor([goal_food], dtype = torch.long, device = device)\n",
    "\n",
    "def retrieve_output_GoalFood(output_tensor, ontology):\n",
    "    ontology_informable_food = ontology[\"informable\"][\"food\"]\n",
    "    output_tensor = output_tensor.view(-1)\n",
    "    output_tensor = torch.exp(output_tensor)\n",
    "    goal_food_dict = {}\n",
    "    goal_food_dict[\"dontcare\"] = output_tensor[1].item() \n",
    "    for index in range(len(output_tensor) - 2):\n",
    "        goal_food_dict[ontology_informable_food[index]] = output_tensor[index + 2].item()\n",
    "    return goal_food_dict\n",
    "\n",
    "# --------------------\n",
    "\n",
    "def retrieve_gold_Requested(raw_Y, ontology, device):\n",
    "    ontology_requestable = ontology[\"requestable\"]\n",
    "    raw_gold_requested = raw_Y[\"requested\"]\n",
    "    gold_requested = np.zeros(len(ontology_requestable), dtype = float)\n",
    "    if len(raw_gold_requested) != 0:\n",
    "        for requested in raw_gold_requested:\n",
    "            gold_requested[ontology_requestable.index(requested)] = 1.0\n",
    "    return torch.tensor([gold_requested], dtype = torch.float, device = device)\n",
    "\n",
    "def retrieve_output_Requested(output_tensor, ontology):\n",
    "    ontology_requestable = ontology[\"requestable\"]\n",
    "    output_tensor = output_tensor.view(-1)\n",
    "    requested_dict = {}\n",
    "    for index in range(len(output_tensor)):\n",
    "        probability_value = output_tensor[index].item()\n",
    "        requested_dict[ontology_requestable[index]] = probability_value\n",
    "    return requested_dict\n",
    "\n",
    "# --------------------\n",
    "\n",
    "def retrieve_gold_Method(raw_Y, ontology, device):\n",
    "    ontology_method = ontology[\"method\"]\n",
    "    raw_gold_method = raw_Y[\"method\"]\n",
    "    gold_method = ontology_method.index(raw_gold_method)\n",
    "    return torch.tensor([gold_method], dtype = torch.long, device = device)\n",
    "\n",
    "def retrieve_output_Method(output_tensor, ontology):\n",
    "    ontology_method = ontology[\"method\"]\n",
    "    output_tensor = output_tensor.view(-1)\n",
    "    output_tensor = torch.exp(output_tensor)\n",
    "    method_dict = {}\n",
    "    for index in range(len(output_tensor)):\n",
    "        method_dict[ontology_method[index]] = output_tensor[index].item()\n",
    "    return method_dict"
   ]
  },
  {
   "cell_type": "markdown",
   "metadata": {},
   "source": [
    "### iDST Model"
   ]
  },
  {
   "cell_type": "code",
   "execution_count": 8,
   "metadata": {},
   "outputs": [],
   "source": [
    "class iDSTModel(nn.Module):\n",
    "    \n",
    "    def __init__(self, vocabulary_size, embedding_dim, altered_embedding_dim, hidden_dim, output_dim, device, is_requested = False):\n",
    "        super(iDSTModel, self).__init__()\n",
    "        self.hidden_dim = hidden_dim\n",
    "        self.is_requested = is_requested\n",
    "        self.device = device\n",
    "        self.output_dim = output_dim\n",
    "        self.embeddings = nn.Embedding(num_embeddings = vocabulary_size, embedding_dim = embedding_dim)\n",
    "        self.altered_embeddings = nn.Linear(in_features = (embedding_dim + 1), out_features = altered_embedding_dim) # +1 for the ASR-score\n",
    "        self.lstm = nn.LSTM(input_size = altered_embedding_dim, hidden_size = hidden_dim)\n",
    "        self.classifier = nn.Linear(in_features = hidden_dim, out_features = output_dim)\n",
    "        self.hidden = self.init_hidden()\n",
    "\n",
    "    def init_hidden(self):\n",
    "        return (torch.zeros(1, 1, self.hidden_dim, device = self.device),\n",
    "                torch.zeros(1, 1, self.hidden_dim, device = self.device))\n",
    "\n",
    "    def forward(self, indices, scores):\n",
    "        embeddings = self.embeddings(indices)\n",
    "        embeddings_concat_score = torch.cat((embeddings, scores.unsqueeze(dim = 1)), dim = 1) \n",
    "        altered_embeddings = F.relu(self.altered_embeddings(embeddings_concat_score))\n",
    "        lstm_out, self.hidden = self.lstm(altered_embeddings.view(len(indices), 1, -1), self.hidden)\n",
    "        if self.is_requested:\n",
    "            output_tensor = torch.sigmoid(self.classifier(lstm_out).view(-1, self.output_dim))\n",
    "        else:\n",
    "            output_tensor = F.log_softmax(self.classifier(lstm_out).view(-1, self.output_dim), dim = 1)\n",
    "        return output_tensor"
   ]
  },
  {
   "cell_type": "markdown",
   "metadata": {},
   "source": [
    "### Goal Pricerange Model"
   ]
  },
  {
   "cell_type": "code",
   "execution_count": 9,
   "metadata": {},
   "outputs": [],
   "source": [
    "model_GoalPricerange = iDSTModel(vocabulary_size = VOCABULARY_SIZE,\n",
    "                                 embedding_dim = EMBEDDING_DIM,\n",
    "                                 altered_embedding_dim = ALTERED_EMBEDDING_DIM,\n",
    "                                 hidden_dim = HIDDEN_DIM,\n",
    "                                 output_dim = GOAL_PRICERANGE_DIM,\n",
    "                                 device = DEVICE).to(DEVICE)\n",
    "optimizer_GoalPricerange = optim.Adam(model_GoalPricerange.parameters(), lr = 1e-3, amsgrad = True) "
   ]
  },
  {
   "cell_type": "markdown",
   "metadata": {},
   "source": [
    "### Goal Area Model"
   ]
  },
  {
   "cell_type": "code",
   "execution_count": 10,
   "metadata": {},
   "outputs": [],
   "source": [
    "model_GoalArea = iDSTModel(vocabulary_size = VOCABULARY_SIZE,\n",
    "                           embedding_dim = EMBEDDING_DIM,\n",
    "                           altered_embedding_dim = ALTERED_EMBEDDING_DIM,\n",
    "                           hidden_dim = HIDDEN_DIM,\n",
    "                           output_dim = GOAL_AREA_DIM,\n",
    "                           device = DEVICE).to(DEVICE)\n",
    "optimizer_GoalArea = optim.Adam(model_GoalArea.parameters(), lr = 1e-3, amsgrad = True) "
   ]
  },
  {
   "cell_type": "markdown",
   "metadata": {},
   "source": [
    "### Goal Name Model"
   ]
  },
  {
   "cell_type": "code",
   "execution_count": 11,
   "metadata": {},
   "outputs": [],
   "source": [
    "model_GoalName = iDSTModel(vocabulary_size = VOCABULARY_SIZE,\n",
    "                           embedding_dim = EMBEDDING_DIM,\n",
    "                           altered_embedding_dim = ALTERED_EMBEDDING_DIM,\n",
    "                           hidden_dim = HIDDEN_DIM,\n",
    "                           output_dim = GOAL_NAME_DIM,\n",
    "                           device = DEVICE).to(DEVICE)\n",
    "optimizer_GoalName = optim.Adam(model_GoalName.parameters(), lr = 1e-3, amsgrad = True) "
   ]
  },
  {
   "cell_type": "markdown",
   "metadata": {},
   "source": [
    "### Goal Food Model"
   ]
  },
  {
   "cell_type": "code",
   "execution_count": 12,
   "metadata": {},
   "outputs": [],
   "source": [
    "model_GoalFood = iDSTModel(vocabulary_size = VOCABULARY_SIZE,\n",
    "                           embedding_dim = EMBEDDING_DIM,\n",
    "                           altered_embedding_dim = ALTERED_EMBEDDING_DIM,\n",
    "                           hidden_dim = HIDDEN_DIM,\n",
    "                           output_dim = GOAL_FOOD_DIM,\n",
    "                           device = DEVICE).to(DEVICE)\n",
    "optimizer_GoalFood = optim.Adam(model_GoalFood.parameters(), lr = 1e-3, amsgrad = True) "
   ]
  },
  {
   "cell_type": "markdown",
   "metadata": {},
   "source": [
    "### Requested Model"
   ]
  },
  {
   "cell_type": "code",
   "execution_count": 13,
   "metadata": {},
   "outputs": [],
   "source": [
    "model_Requested = iDSTModel(vocabulary_size = VOCABULARY_SIZE,\n",
    "                            embedding_dim = EMBEDDING_DIM,\n",
    "                            altered_embedding_dim = ALTERED_EMBEDDING_DIM,\n",
    "                            hidden_dim = HIDDEN_DIM,\n",
    "                            output_dim = REQUESTED_DIM,\n",
    "                            device = DEVICE,\n",
    "                            is_requested = True).to(DEVICE)\n",
    "optimizer_Requested = optim.Adam(model_Requested.parameters(), lr = 1e-3, amsgrad = True) "
   ]
  },
  {
   "cell_type": "markdown",
   "metadata": {},
   "source": [
    "### Method Model"
   ]
  },
  {
   "cell_type": "code",
   "execution_count": 14,
   "metadata": {},
   "outputs": [],
   "source": [
    "model_Method = iDSTModel(vocabulary_size = VOCABULARY_SIZE,\n",
    "                         embedding_dim = EMBEDDING_DIM,\n",
    "                         altered_embedding_dim = ALTERED_EMBEDDING_DIM,\n",
    "                         hidden_dim = HIDDEN_DIM,\n",
    "                         output_dim = METHOD_DIM,\n",
    "                         device = DEVICE).to(DEVICE)\n",
    "optimizer_Method = optim.Adam(model_Method.parameters(), lr = 1e-3, amsgrad = True)"
   ]
  },
  {
   "cell_type": "markdown",
   "metadata": {},
   "source": [
    "### Train iDST"
   ]
  },
  {
   "cell_type": "code",
   "execution_count": 15,
   "metadata": {
    "scrolled": false
   },
   "outputs": [
    {
     "name": "stderr",
     "output_type": "stream",
     "text": [
      "INFO:root:Epoch\t1/50\n"
     ]
    },
    {
     "data": {
      "application/vnd.jupyter.widget-view+json": {
       "model_id": "b5bc27f7b7194cfa8937cca34ff757f6",
       "version_major": 2,
       "version_minor": 0
      },
      "text/plain": [
       "HBox(children=(IntProgress(value=0, max=323), HTML(value='')))"
      ]
     },
     "metadata": {},
     "output_type": "display_data"
    },
    {
     "name": "stdout",
     "output_type": "stream",
     "text": [
      "\n"
     ]
    },
    {
     "data": {
      "application/vnd.jupyter.widget-view+json": {
       "model_id": "cd6fd27e18aa4af3baf632f4930fe0b1",
       "version_major": 2,
       "version_minor": 0
      },
      "text/plain": [
       "HBox(children=(IntProgress(value=0, max=506), HTML(value='')))"
      ]
     },
     "metadata": {},
     "output_type": "display_data"
    },
    {
     "name": "stdout",
     "output_type": "stream",
     "text": [
      "\n"
     ]
    },
    {
     "name": "stderr",
     "output_type": "stream",
     "text": [
      "INFO:root:{'goal_food_accuracy': 0.5003329, 'goal_food_l2': 0.7313684, 'goal_pricerange_accuracy': 0.8795373, 'goal_pricerange_l2': 0.1848255, 'goal_name_accuracy': 0.9065421, 'goal_name_l2': 0.1862147, 'goal_area_accuracy': 0.8445642, 'goal_area_l2': 0.2523753, 'goal_joint_accuracy': 0.4426486, 'goal_joint_l2': 0.7599, 'requested_all_accuracy': 0.8492607, 'requested_all_l2': 0.2036376, 'method_accuracy': 0.882566, 'method_l2': 0.1934022}\n",
      "INFO:root:Epoch\t2/50\n"
     ]
    },
    {
     "data": {
      "application/vnd.jupyter.widget-view+json": {
       "model_id": "acc76fe198764fc88b4ff88569a03788",
       "version_major": 2,
       "version_minor": 0
      },
      "text/plain": [
       "HBox(children=(IntProgress(value=0, max=323), HTML(value='')))"
      ]
     },
     "metadata": {},
     "output_type": "display_data"
    },
    {
     "name": "stdout",
     "output_type": "stream",
     "text": [
      "\n"
     ]
    },
    {
     "data": {
      "application/vnd.jupyter.widget-view+json": {
       "model_id": "159d22c719f14055983698d662364037",
       "version_major": 2,
       "version_minor": 0
      },
      "text/plain": [
       "HBox(children=(IntProgress(value=0, max=506), HTML(value='')))"
      ]
     },
     "metadata": {},
     "output_type": "display_data"
    },
    {
     "name": "stdout",
     "output_type": "stream",
     "text": [
      "\n"
     ]
    },
    {
     "name": "stderr",
     "output_type": "stream",
     "text": [
      "INFO:root:{'goal_food_accuracy': 0.7060586, 'goal_food_l2': 0.4287939, 'goal_pricerange_accuracy': 0.8946949, 'goal_pricerange_l2': 0.1731315, 'goal_name_accuracy': 0.9065421, 'goal_name_l2': 0.1862934, 'goal_area_accuracy': 0.870021, 'goal_area_l2': 0.2090973, 'goal_joint_accuracy': 0.5881126, 'goal_joint_l2': 0.5843333, 'requested_all_accuracy': 0.9199423, 'requested_all_l2': 0.1262949, 'method_accuracy': 0.883342, 'method_l2': 0.1918914}\n",
      "INFO:root:Epoch\t3/50\n"
     ]
    },
    {
     "data": {
      "application/vnd.jupyter.widget-view+json": {
       "model_id": "9c95200af7af4852b98f7b731cb32b56",
       "version_major": 2,
       "version_minor": 0
      },
      "text/plain": [
       "HBox(children=(IntProgress(value=0, max=323), HTML(value='')))"
      ]
     },
     "metadata": {},
     "output_type": "display_data"
    },
    {
     "name": "stdout",
     "output_type": "stream",
     "text": [
      "\n"
     ]
    },
    {
     "data": {
      "application/vnd.jupyter.widget-view+json": {
       "model_id": "ffe3d9e3d8fa4cbfa5f8afc7b5e0bba8",
       "version_major": 2,
       "version_minor": 0
      },
      "text/plain": [
       "HBox(children=(IntProgress(value=0, max=506), HTML(value='')))"
      ]
     },
     "metadata": {},
     "output_type": "display_data"
    },
    {
     "name": "stdout",
     "output_type": "stream",
     "text": [
      "\n"
     ]
    },
    {
     "name": "stderr",
     "output_type": "stream",
     "text": [
      "INFO:root:{'goal_food_accuracy': 0.7153795, 'goal_food_l2': 0.4001893, 'goal_pricerange_accuracy': 0.9130435, 'goal_pricerange_l2': 0.1428067, 'goal_name_accuracy': 0.9065421, 'goal_name_l2': 0.1864375, 'goal_area_accuracy': 0.869422, 'goal_area_l2': 0.2064554, 'goal_joint_accuracy': 0.5985401, 'goal_joint_l2': 0.5614393, 'requested_all_accuracy': 0.9412189, 'requested_all_l2': 0.098966, 'method_accuracy': 0.8864459, 'method_l2': 0.1922398}\n",
      "INFO:root:Epoch\t4/50\n"
     ]
    },
    {
     "data": {
      "application/vnd.jupyter.widget-view+json": {
       "model_id": "1535704da74a4591bcc531f11db577e7",
       "version_major": 2,
       "version_minor": 0
      },
      "text/plain": [
       "HBox(children=(IntProgress(value=0, max=323), HTML(value='')))"
      ]
     },
     "metadata": {},
     "output_type": "display_data"
    },
    {
     "name": "stdout",
     "output_type": "stream",
     "text": [
      "\n"
     ]
    },
    {
     "data": {
      "application/vnd.jupyter.widget-view+json": {
       "model_id": "aa0605083279417f8d637b140537a961",
       "version_major": 2,
       "version_minor": 0
      },
      "text/plain": [
       "HBox(children=(IntProgress(value=0, max=506), HTML(value='')))"
      ]
     },
     "metadata": {},
     "output_type": "display_data"
    },
    {
     "name": "stdout",
     "output_type": "stream",
     "text": [
      "\n"
     ]
    },
    {
     "name": "stderr",
     "output_type": "stream",
     "text": [
      "INFO:root:{'goal_food_accuracy': 0.7207057, 'goal_food_l2': 0.3843004, 'goal_pricerange_accuracy': 0.9138412, 'goal_pricerange_l2': 0.1470185, 'goal_name_accuracy': 0.9065421, 'goal_name_l2': 0.1862186, 'goal_area_accuracy': 0.8736149, 'goal_area_l2': 0.1998067, 'goal_joint_accuracy': 0.6066215, 'goal_joint_l2': 0.5433649, 'requested_all_accuracy': 0.9441039, 'requested_all_l2': 0.0922801, 'method_accuracy': 0.8892913, 'method_l2': 0.1863105}\n",
      "INFO:root:Epoch\t5/50\n"
     ]
    },
    {
     "data": {
      "application/vnd.jupyter.widget-view+json": {
       "model_id": "ef995a447e8248bdb0abbb421643284c",
       "version_major": 2,
       "version_minor": 0
      },
      "text/plain": [
       "HBox(children=(IntProgress(value=0, max=323), HTML(value='')))"
      ]
     },
     "metadata": {},
     "output_type": "display_data"
    },
    {
     "name": "stdout",
     "output_type": "stream",
     "text": [
      "\n"
     ]
    },
    {
     "data": {
      "application/vnd.jupyter.widget-view+json": {
       "model_id": "5bfa9207854e4b1eaae2a92bbd130686",
       "version_major": 2,
       "version_minor": 0
      },
      "text/plain": [
       "HBox(children=(IntProgress(value=0, max=506), HTML(value='')))"
      ]
     },
     "metadata": {},
     "output_type": "display_data"
    },
    {
     "name": "stdout",
     "output_type": "stream",
     "text": [
      "\n"
     ]
    },
    {
     "name": "stderr",
     "output_type": "stream",
     "text": [
      "INFO:root:{'goal_food_accuracy': 0.7283622, 'goal_food_l2': 0.3848229, 'goal_pricerange_accuracy': 0.904268, 'goal_pricerange_l2': 0.1566519, 'goal_name_accuracy': 0.9065421, 'goal_name_l2': 0.1865024, 'goal_area_accuracy': 0.8703205, 'goal_area_l2': 0.2119073, 'goal_joint_accuracy': 0.6107925, 'goal_joint_l2': 0.549904, 'requested_all_accuracy': 0.9509556, 'requested_all_l2': 0.0806242, 'method_accuracy': 0.8962752, 'method_l2': 0.177641}\n",
      "INFO:root:Epoch\t6/50\n"
     ]
    },
    {
     "data": {
      "application/vnd.jupyter.widget-view+json": {
       "model_id": "aebfd4e041204fd399bd0c9e2e7788e5",
       "version_major": 2,
       "version_minor": 0
      },
      "text/plain": [
       "HBox(children=(IntProgress(value=0, max=323), HTML(value='')))"
      ]
     },
     "metadata": {},
     "output_type": "display_data"
    },
    {
     "name": "stdout",
     "output_type": "stream",
     "text": [
      "\n"
     ]
    },
    {
     "data": {
      "application/vnd.jupyter.widget-view+json": {
       "model_id": "9660b8bba87a46cca432a9e657e2cef4",
       "version_major": 2,
       "version_minor": 0
      },
      "text/plain": [
       "HBox(children=(IntProgress(value=0, max=506), HTML(value='')))"
      ]
     },
     "metadata": {},
     "output_type": "display_data"
    },
    {
     "name": "stdout",
     "output_type": "stream",
     "text": [
      "\n"
     ]
    },
    {
     "name": "stderr",
     "output_type": "stream",
     "text": [
      "INFO:root:{'goal_food_accuracy': 0.7363515, 'goal_food_l2': 0.3909697, 'goal_pricerange_accuracy': 0.9030714, 'goal_pricerange_l2': 0.1533267, 'goal_name_accuracy': 0.9065421, 'goal_name_l2': 0.1865741, 'goal_area_accuracy': 0.8754118, 'goal_area_l2': 0.2098913, 'goal_joint_accuracy': 0.6097497, 'goal_joint_l2': 0.5526964, 'requested_all_accuracy': 0.9509556, 'requested_all_l2': 0.0778501, 'method_accuracy': 0.884118, 'method_l2': 0.1864805}\n",
      "INFO:root:Epoch\t7/50\n"
     ]
    },
    {
     "data": {
      "application/vnd.jupyter.widget-view+json": {
       "model_id": "5f6ae617b1324591963352a35b14448c",
       "version_major": 2,
       "version_minor": 0
      },
      "text/plain": [
       "HBox(children=(IntProgress(value=0, max=323), HTML(value='')))"
      ]
     },
     "metadata": {},
     "output_type": "display_data"
    },
    {
     "name": "stdout",
     "output_type": "stream",
     "text": [
      "\n"
     ]
    },
    {
     "data": {
      "application/vnd.jupyter.widget-view+json": {
       "model_id": "0ec01905c09145c5a8d175c61a94ab6c",
       "version_major": 2,
       "version_minor": 0
      },
      "text/plain": [
       "HBox(children=(IntProgress(value=0, max=506), HTML(value='')))"
      ]
     },
     "metadata": {},
     "output_type": "display_data"
    },
    {
     "name": "stdout",
     "output_type": "stream",
     "text": [
      "\n"
     ]
    },
    {
     "name": "stderr",
     "output_type": "stream",
     "text": [
      "INFO:root:{'goal_food_accuracy': 0.7393475, 'goal_food_l2': 0.3818235, 'goal_pricerange_accuracy': 0.9014759, 'goal_pricerange_l2': 0.1664948, 'goal_name_accuracy': 0.9065421, 'goal_name_l2': 0.1862147, 'goal_area_accuracy': 0.8727164, 'goal_area_l2': 0.2085302, 'goal_joint_accuracy': 0.6162669, 'goal_joint_l2': 0.5535004, 'requested_all_accuracy': 0.9523981, 'requested_all_l2': 0.0752045, 'method_accuracy': 0.8869633, 'method_l2': 0.1878194}\n",
      "INFO:root:Epoch\t8/50\n"
     ]
    },
    {
     "data": {
      "application/vnd.jupyter.widget-view+json": {
       "model_id": "9ebaf03229854e51a0bd0cb0b37decd0",
       "version_major": 2,
       "version_minor": 0
      },
      "text/plain": [
       "HBox(children=(IntProgress(value=0, max=323), HTML(value='')))"
      ]
     },
     "metadata": {},
     "output_type": "display_data"
    },
    {
     "name": "stdout",
     "output_type": "stream",
     "text": [
      "\n"
     ]
    },
    {
     "data": {
      "application/vnd.jupyter.widget-view+json": {
       "model_id": "dbee69d4d5b84046965d35c24e7f381e",
       "version_major": 2,
       "version_minor": 0
      },
      "text/plain": [
       "HBox(children=(IntProgress(value=0, max=506), HTML(value='')))"
      ]
     },
     "metadata": {},
     "output_type": "display_data"
    },
    {
     "name": "stdout",
     "output_type": "stream",
     "text": [
      "\n"
     ]
    },
    {
     "name": "stderr",
     "output_type": "stream",
     "text": [
      "INFO:root:{'goal_food_accuracy': 0.7543276, 'goal_food_l2': 0.3728553, 'goal_pricerange_accuracy': 0.9086558, 'goal_pricerange_l2': 0.1500728, 'goal_name_accuracy': 0.9065421, 'goal_name_l2': 0.1862147, 'goal_area_accuracy': 0.7960467, 'goal_area_l2': 0.3068549, 'goal_joint_accuracy': 0.5857664, 'goal_joint_l2': 0.5875217, 'requested_all_accuracy': 0.9556437, 'requested_all_l2': 0.0715726, 'method_accuracy': 0.8887739, 'method_l2': 0.1843077}\n",
      "INFO:root:Epoch\t9/50\n"
     ]
    },
    {
     "data": {
      "application/vnd.jupyter.widget-view+json": {
       "model_id": "4d0991ed60ab4bda9cf7019e050d1b4a",
       "version_major": 2,
       "version_minor": 0
      },
      "text/plain": [
       "HBox(children=(IntProgress(value=0, max=323), HTML(value='')))"
      ]
     },
     "metadata": {},
     "output_type": "display_data"
    },
    {
     "name": "stdout",
     "output_type": "stream",
     "text": [
      "\n"
     ]
    },
    {
     "data": {
      "application/vnd.jupyter.widget-view+json": {
       "model_id": "d81d01d4c5b7458192ed799665a72e71",
       "version_major": 2,
       "version_minor": 0
      },
      "text/plain": [
       "HBox(children=(IntProgress(value=0, max=506), HTML(value='')))"
      ]
     },
     "metadata": {},
     "output_type": "display_data"
    },
    {
     "name": "stdout",
     "output_type": "stream",
     "text": [
      "\n"
     ]
    },
    {
     "name": "stderr",
     "output_type": "stream",
     "text": [
      "INFO:root:{'goal_food_accuracy': 0.7340213, 'goal_food_l2': 0.3973976, 'goal_pricerange_accuracy': 0.9102513, 'goal_pricerange_l2': 0.1492248, 'goal_name_accuracy': 0.9065421, 'goal_name_l2': 0.1862147, 'goal_area_accuracy': 0.8652291, 'goal_area_l2': 0.2250359, 'goal_joint_accuracy': 0.6102711, 'goal_joint_l2': 0.5687739, 'requested_all_accuracy': 0.9552831, 'requested_all_l2': 0.0743554, 'method_accuracy': 0.8892913, 'method_l2': 0.1883896}\n",
      "INFO:root:Epoch\t10/50\n"
     ]
    },
    {
     "data": {
      "application/vnd.jupyter.widget-view+json": {
       "model_id": "b4df703103404f1a986517c5eba8186c",
       "version_major": 2,
       "version_minor": 0
      },
      "text/plain": [
       "HBox(children=(IntProgress(value=0, max=323), HTML(value='')))"
      ]
     },
     "metadata": {},
     "output_type": "display_data"
    },
    {
     "name": "stdout",
     "output_type": "stream",
     "text": [
      "\n"
     ]
    },
    {
     "data": {
      "application/vnd.jupyter.widget-view+json": {
       "model_id": "8031b9c3f9244fe4b4d41ade22b6367e",
       "version_major": 2,
       "version_minor": 0
      },
      "text/plain": [
       "HBox(children=(IntProgress(value=0, max=506), HTML(value='')))"
      ]
     },
     "metadata": {},
     "output_type": "display_data"
    },
    {
     "name": "stdout",
     "output_type": "stream",
     "text": [
      "\n"
     ]
    },
    {
     "name": "stderr",
     "output_type": "stream",
     "text": [
      "INFO:root:{'goal_food_accuracy': 0.747004, 'goal_food_l2': 0.3845013, 'goal_pricerange_accuracy': 0.9138412, 'goal_pricerange_l2': 0.1470185, 'goal_name_accuracy': 0.9065421, 'goal_name_l2': 0.1862147, 'goal_area_accuracy': 0.8754118, 'goal_area_l2': 0.2071485, 'goal_joint_accuracy': 0.6272158, 'goal_joint_l2': 0.5464577, 'requested_all_accuracy': 0.9560043, 'requested_all_l2': 0.075051, 'method_accuracy': 0.8836006, 'method_l2': 0.1949439}\n",
      "INFO:root:Epoch\t11/50\n"
     ]
    },
    {
     "data": {
      "application/vnd.jupyter.widget-view+json": {
       "model_id": "51c71732097442a7b7bc2290b74a450b",
       "version_major": 2,
       "version_minor": 0
      },
      "text/plain": [
       "HBox(children=(IntProgress(value=0, max=323), HTML(value='')))"
      ]
     },
     "metadata": {},
     "output_type": "display_data"
    },
    {
     "name": "stdout",
     "output_type": "stream",
     "text": [
      "\n"
     ]
    },
    {
     "data": {
      "application/vnd.jupyter.widget-view+json": {
       "model_id": "5938015d5b6746d1ab3c483548e61cc7",
       "version_major": 2,
       "version_minor": 0
      },
      "text/plain": [
       "HBox(children=(IntProgress(value=0, max=506), HTML(value='')))"
      ]
     },
     "metadata": {},
     "output_type": "display_data"
    },
    {
     "name": "stdout",
     "output_type": "stream",
     "text": [
      "\n"
     ]
    },
    {
     "name": "stderr",
     "output_type": "stream",
     "text": [
      "INFO:root:{'goal_food_accuracy': 0.7283622, 'goal_food_l2': 0.4069223, 'goal_pricerange_accuracy': 0.9138412, 'goal_pricerange_l2': 0.1470185, 'goal_name_accuracy': 0.9065421, 'goal_name_l2': 0.1862147, 'goal_area_accuracy': 0.8622342, 'goal_area_l2': 0.223299, 'goal_joint_accuracy': 0.6107925, 'goal_joint_l2': 0.5626826, 'requested_all_accuracy': 0.9556437, 'requested_all_l2': 0.0760082, 'method_accuracy': 0.8962752, 'method_l2': 0.177641}\n",
      "INFO:root:Epoch\t12/50\n"
     ]
    },
    {
     "data": {
      "application/vnd.jupyter.widget-view+json": {
       "model_id": "7b29ce45111b4f0ea019f79fffd20716",
       "version_major": 2,
       "version_minor": 0
      },
      "text/plain": [
       "HBox(children=(IntProgress(value=0, max=323), HTML(value='')))"
      ]
     },
     "metadata": {},
     "output_type": "display_data"
    },
    {
     "name": "stdout",
     "output_type": "stream",
     "text": [
      "\n"
     ]
    },
    {
     "data": {
      "application/vnd.jupyter.widget-view+json": {
       "model_id": "e309d038bc35435f8eb97ce434e1527f",
       "version_major": 2,
       "version_minor": 0
      },
      "text/plain": [
       "HBox(children=(IntProgress(value=0, max=506), HTML(value='')))"
      ]
     },
     "metadata": {},
     "output_type": "display_data"
    },
    {
     "name": "stdout",
     "output_type": "stream",
     "text": [
      "\n"
     ]
    },
    {
     "name": "stderr",
     "output_type": "stream",
     "text": [
      "INFO:root:{'goal_food_accuracy': 0.7450067, 'goal_food_l2': 0.3791663, 'goal_pricerange_accuracy': 0.9138412, 'goal_pricerange_l2': 0.1470185, 'goal_name_accuracy': 0.9065421, 'goal_name_l2': 0.1862147, 'goal_area_accuracy': 0.8754118, 'goal_area_l2': 0.2098913, 'goal_joint_accuracy': 0.6180918, 'goal_joint_l2': 0.5500534, 'requested_all_accuracy': 0.9567256, 'requested_all_l2': 0.0723264, 'method_accuracy': 0.8962752, 'method_l2': 0.177641}\n",
      "INFO:root:Epoch\t13/50\n"
     ]
    },
    {
     "data": {
      "application/vnd.jupyter.widget-view+json": {
       "model_id": "e47f6b8ef988422580581ee8f72c2631",
       "version_major": 2,
       "version_minor": 0
      },
      "text/plain": [
       "HBox(children=(IntProgress(value=0, max=323), HTML(value='')))"
      ]
     },
     "metadata": {},
     "output_type": "display_data"
    },
    {
     "name": "stdout",
     "output_type": "stream",
     "text": [
      "\n"
     ]
    },
    {
     "data": {
      "application/vnd.jupyter.widget-view+json": {
       "model_id": "2d02634fe650485a807306367c997bdb",
       "version_major": 2,
       "version_minor": 0
      },
      "text/plain": [
       "HBox(children=(IntProgress(value=0, max=506), HTML(value='')))"
      ]
     },
     "metadata": {},
     "output_type": "display_data"
    },
    {
     "name": "stdout",
     "output_type": "stream",
     "text": [
      "\n"
     ]
    },
    {
     "name": "stderr",
     "output_type": "stream",
     "text": [
      "INFO:root:{'goal_food_accuracy': 0.7306924, 'goal_food_l2': 0.4057121, 'goal_pricerange_accuracy': 0.9138412, 'goal_pricerange_l2': 0.1470185, 'goal_name_accuracy': 0.9065421, 'goal_name_l2': 0.1862147, 'goal_area_accuracy': 0.8754118, 'goal_area_l2': 0.2098913, 'goal_joint_accuracy': 0.6131387, 'goal_joint_l2': 0.5609813, 'requested_all_accuracy': 0.9538406, 'requested_all_l2': 0.0755026, 'method_accuracy': 0.8962752, 'method_l2': 0.177641}\n",
      "INFO:root:Epoch\t14/50\n"
     ]
    },
    {
     "data": {
      "application/vnd.jupyter.widget-view+json": {
       "model_id": "310fde9f449f4ecf8dd5a84362fbe056",
       "version_major": 2,
       "version_minor": 0
      },
      "text/plain": [
       "HBox(children=(IntProgress(value=0, max=323), HTML(value='')))"
      ]
     },
     "metadata": {},
     "output_type": "display_data"
    },
    {
     "name": "stdout",
     "output_type": "stream",
     "text": [
      "\n"
     ]
    },
    {
     "data": {
      "application/vnd.jupyter.widget-view+json": {
       "model_id": "cfbacb5508a24cd6941125ab48d8ef0a",
       "version_major": 2,
       "version_minor": 0
      },
      "text/plain": [
       "HBox(children=(IntProgress(value=0, max=506), HTML(value='')))"
      ]
     },
     "metadata": {},
     "output_type": "display_data"
    },
    {
     "name": "stdout",
     "output_type": "stream",
     "text": [
      "\n"
     ]
    },
    {
     "name": "stderr",
     "output_type": "stream",
     "text": [
      "INFO:root:{'goal_food_accuracy': 0.7543276, 'goal_food_l2': 0.3728553, 'goal_pricerange_accuracy': 0.9138412, 'goal_pricerange_l2': 0.1470185, 'goal_name_accuracy': 0.9065421, 'goal_name_l2': 0.1862147, 'goal_area_accuracy': 0.8754118, 'goal_area_l2': 0.2098913, 'goal_joint_accuracy': 0.6285193, 'goal_joint_l2': 0.5382186, 'requested_all_accuracy': 0.9549225, 'requested_all_l2': 0.0752985, 'method_accuracy': 0.8962752, 'method_l2': 0.177641}\n",
      "INFO:root:Epoch\t15/50\n"
     ]
    },
    {
     "data": {
      "application/vnd.jupyter.widget-view+json": {
       "model_id": "e2a85151d5e14af39f287623955c928a",
       "version_major": 2,
       "version_minor": 0
      },
      "text/plain": [
       "HBox(children=(IntProgress(value=0, max=323), HTML(value='')))"
      ]
     },
     "metadata": {},
     "output_type": "display_data"
    },
    {
     "name": "stdout",
     "output_type": "stream",
     "text": [
      "\n"
     ]
    },
    {
     "data": {
      "application/vnd.jupyter.widget-view+json": {
       "model_id": "779df2c79bee4ea6adb14c34022842ac",
       "version_major": 2,
       "version_minor": 0
      },
      "text/plain": [
       "HBox(children=(IntProgress(value=0, max=506), HTML(value='')))"
      ]
     },
     "metadata": {},
     "output_type": "display_data"
    },
    {
     "name": "stdout",
     "output_type": "stream",
     "text": [
      "\n"
     ]
    },
    {
     "name": "stderr",
     "output_type": "stream",
     "text": [
      "INFO:root:{'goal_food_accuracy': 0.7543276, 'goal_food_l2': 0.3728553, 'goal_pricerange_accuracy': 0.9138412, 'goal_pricerange_l2': 0.1470185, 'goal_name_accuracy': 0.9065421, 'goal_name_l2': 0.1862147, 'goal_area_accuracy': 0.8754118, 'goal_area_l2': 0.2098913, 'goal_joint_accuracy': 0.6285193, 'goal_joint_l2': 0.5382186, 'requested_all_accuracy': 0.9542012, 'requested_all_l2': 0.0720665, 'method_accuracy': 0.8962752, 'method_l2': 0.177641}\n",
      "INFO:root:Epoch\t16/50\n"
     ]
    },
    {
     "data": {
      "application/vnd.jupyter.widget-view+json": {
       "model_id": "763dfeb621c0442386d7681c8710cd5c",
       "version_major": 2,
       "version_minor": 0
      },
      "text/plain": [
       "HBox(children=(IntProgress(value=0, max=323), HTML(value='')))"
      ]
     },
     "metadata": {},
     "output_type": "display_data"
    },
    {
     "name": "stdout",
     "output_type": "stream",
     "text": [
      "\n"
     ]
    },
    {
     "data": {
      "application/vnd.jupyter.widget-view+json": {
       "model_id": "67b30ec47199466eb48a2fa21fd3cd90",
       "version_major": 2,
       "version_minor": 0
      },
      "text/plain": [
       "HBox(children=(IntProgress(value=0, max=506), HTML(value='')))"
      ]
     },
     "metadata": {},
     "output_type": "display_data"
    },
    {
     "name": "stdout",
     "output_type": "stream",
     "text": [
      "\n"
     ]
    },
    {
     "name": "stderr",
     "output_type": "stream",
     "text": [
      "INFO:root:{'goal_food_accuracy': 0.7543276, 'goal_food_l2': 0.3728553, 'goal_pricerange_accuracy': 0.9138412, 'goal_pricerange_l2': 0.1470185, 'goal_name_accuracy': 0.9065421, 'goal_name_l2': 0.1862147, 'goal_area_accuracy': 0.8754118, 'goal_area_l2': 0.2098913, 'goal_joint_accuracy': 0.6285193, 'goal_joint_l2': 0.5382186, 'requested_all_accuracy': 0.9545618, 'requested_all_l2': 0.0747545, 'method_accuracy': 0.8962752, 'method_l2': 0.177641}\n",
      "INFO:root:Epoch\t17/50\n"
     ]
    },
    {
     "data": {
      "application/vnd.jupyter.widget-view+json": {
       "model_id": "c6f507564bf14211ace1ac49a9190176",
       "version_major": 2,
       "version_minor": 0
      },
      "text/plain": [
       "HBox(children=(IntProgress(value=0, max=323), HTML(value='')))"
      ]
     },
     "metadata": {},
     "output_type": "display_data"
    },
    {
     "name": "stdout",
     "output_type": "stream",
     "text": [
      "\n"
     ]
    },
    {
     "data": {
      "application/vnd.jupyter.widget-view+json": {
       "model_id": "dd139465a365488b8bad1d4f71dc7b59",
       "version_major": 2,
       "version_minor": 0
      },
      "text/plain": [
       "HBox(children=(IntProgress(value=0, max=506), HTML(value='')))"
      ]
     },
     "metadata": {},
     "output_type": "display_data"
    },
    {
     "name": "stdout",
     "output_type": "stream",
     "text": [
      "\n"
     ]
    },
    {
     "name": "stderr",
     "output_type": "stream",
     "text": [
      "INFO:root:{'goal_food_accuracy': 0.7543276, 'goal_food_l2': 0.3728553, 'goal_pricerange_accuracy': 0.9138412, 'goal_pricerange_l2': 0.1470185, 'goal_name_accuracy': 0.9065421, 'goal_name_l2': 0.1862147, 'goal_area_accuracy': 0.8754118, 'goal_area_l2': 0.2098913, 'goal_joint_accuracy': 0.6285193, 'goal_joint_l2': 0.5382186, 'requested_all_accuracy': 0.9574468, 'requested_all_l2': 0.0733455, 'method_accuracy': 0.8962752, 'method_l2': 0.177641}\n",
      "INFO:root:Epoch\t18/50\n"
     ]
    },
    {
     "data": {
      "application/vnd.jupyter.widget-view+json": {
       "model_id": "3bd4007943bd467da6a8934fe2e0c893",
       "version_major": 2,
       "version_minor": 0
      },
      "text/plain": [
       "HBox(children=(IntProgress(value=0, max=323), HTML(value='')))"
      ]
     },
     "metadata": {},
     "output_type": "display_data"
    },
    {
     "name": "stdout",
     "output_type": "stream",
     "text": [
      "\n"
     ]
    },
    {
     "data": {
      "application/vnd.jupyter.widget-view+json": {
       "model_id": "1c50f07277c1435cb4a05b2c1f697358",
       "version_major": 2,
       "version_minor": 0
      },
      "text/plain": [
       "HBox(children=(IntProgress(value=0, max=506), HTML(value='')))"
      ]
     },
     "metadata": {},
     "output_type": "display_data"
    },
    {
     "name": "stdout",
     "output_type": "stream",
     "text": [
      "\n"
     ]
    },
    {
     "name": "stderr",
     "output_type": "stream",
     "text": [
      "INFO:root:{'goal_food_accuracy': 0.7543276, 'goal_food_l2': 0.3728553, 'goal_pricerange_accuracy': 0.9138412, 'goal_pricerange_l2': 0.1470185, 'goal_name_accuracy': 0.9065421, 'goal_name_l2': 0.1862147, 'goal_area_accuracy': 0.8754118, 'goal_area_l2': 0.2098913, 'goal_joint_accuracy': 0.6285193, 'goal_joint_l2': 0.5382186, 'requested_all_accuracy': 0.9538406, 'requested_all_l2': 0.0722143, 'method_accuracy': 0.8962752, 'method_l2': 0.177641}\n",
      "INFO:root:Epoch\t19/50\n"
     ]
    },
    {
     "data": {
      "application/vnd.jupyter.widget-view+json": {
       "model_id": "2ec398e1bdf34dca8ad6d432044ef272",
       "version_major": 2,
       "version_minor": 0
      },
      "text/plain": [
       "HBox(children=(IntProgress(value=0, max=323), HTML(value='')))"
      ]
     },
     "metadata": {},
     "output_type": "display_data"
    },
    {
     "name": "stdout",
     "output_type": "stream",
     "text": [
      "\n"
     ]
    },
    {
     "data": {
      "application/vnd.jupyter.widget-view+json": {
       "model_id": "303629cb0b1649d0872a0f9f9862c75a",
       "version_major": 2,
       "version_minor": 0
      },
      "text/plain": [
       "HBox(children=(IntProgress(value=0, max=506), HTML(value='')))"
      ]
     },
     "metadata": {},
     "output_type": "display_data"
    },
    {
     "name": "stdout",
     "output_type": "stream",
     "text": [
      "\n"
     ]
    },
    {
     "name": "stderr",
     "output_type": "stream",
     "text": [
      "INFO:root:{'goal_food_accuracy': 0.7543276, 'goal_food_l2': 0.3728553, 'goal_pricerange_accuracy': 0.9138412, 'goal_pricerange_l2': 0.1470185, 'goal_name_accuracy': 0.9065421, 'goal_name_l2': 0.1862147, 'goal_area_accuracy': 0.8754118, 'goal_area_l2': 0.2098913, 'goal_joint_accuracy': 0.6285193, 'goal_joint_l2': 0.5382186, 'requested_all_accuracy': 0.958168, 'requested_all_l2': 0.069813, 'method_accuracy': 0.8962752, 'method_l2': 0.177641}\n",
      "INFO:root:Epoch\t20/50\n"
     ]
    },
    {
     "data": {
      "application/vnd.jupyter.widget-view+json": {
       "model_id": "7c3e70d30cdc43308de1d965a780a051",
       "version_major": 2,
       "version_minor": 0
      },
      "text/plain": [
       "HBox(children=(IntProgress(value=0, max=323), HTML(value='')))"
      ]
     },
     "metadata": {},
     "output_type": "display_data"
    },
    {
     "name": "stdout",
     "output_type": "stream",
     "text": [
      "\n"
     ]
    },
    {
     "data": {
      "application/vnd.jupyter.widget-view+json": {
       "model_id": "bb7c89ffa171427a8ba5863542c3ceb2",
       "version_major": 2,
       "version_minor": 0
      },
      "text/plain": [
       "HBox(children=(IntProgress(value=0, max=506), HTML(value='')))"
      ]
     },
     "metadata": {},
     "output_type": "display_data"
    },
    {
     "name": "stdout",
     "output_type": "stream",
     "text": [
      "\n"
     ]
    },
    {
     "name": "stderr",
     "output_type": "stream",
     "text": [
      "INFO:root:{'goal_food_accuracy': 0.7543276, 'goal_food_l2': 0.3728553, 'goal_pricerange_accuracy': 0.9138412, 'goal_pricerange_l2': 0.1470185, 'goal_name_accuracy': 0.9065421, 'goal_name_l2': 0.1862147, 'goal_area_accuracy': 0.8754118, 'goal_area_l2': 0.2098913, 'goal_joint_accuracy': 0.6285193, 'goal_joint_l2': 0.5382186, 'requested_all_accuracy': 0.9545618, 'requested_all_l2': 0.072618, 'method_accuracy': 0.8962752, 'method_l2': 0.177641}\n",
      "INFO:root:Epoch\t21/50\n"
     ]
    },
    {
     "data": {
      "application/vnd.jupyter.widget-view+json": {
       "model_id": "261c49828b224cfd87fe617ffdb7d100",
       "version_major": 2,
       "version_minor": 0
      },
      "text/plain": [
       "HBox(children=(IntProgress(value=0, max=323), HTML(value='')))"
      ]
     },
     "metadata": {},
     "output_type": "display_data"
    },
    {
     "name": "stdout",
     "output_type": "stream",
     "text": [
      "\n"
     ]
    },
    {
     "data": {
      "application/vnd.jupyter.widget-view+json": {
       "model_id": "c6e9398988ad434cb5166254abc9c4e5",
       "version_major": 2,
       "version_minor": 0
      },
      "text/plain": [
       "HBox(children=(IntProgress(value=0, max=506), HTML(value='')))"
      ]
     },
     "metadata": {},
     "output_type": "display_data"
    },
    {
     "name": "stdout",
     "output_type": "stream",
     "text": [
      "\n"
     ]
    },
    {
     "name": "stderr",
     "output_type": "stream",
     "text": [
      "INFO:root:{'goal_food_accuracy': 0.7543276, 'goal_food_l2': 0.3728553, 'goal_pricerange_accuracy': 0.9138412, 'goal_pricerange_l2': 0.1470185, 'goal_name_accuracy': 0.9065421, 'goal_name_l2': 0.1862147, 'goal_area_accuracy': 0.8754118, 'goal_area_l2': 0.2098913, 'goal_joint_accuracy': 0.6285193, 'goal_joint_l2': 0.5382186, 'requested_all_accuracy': 0.9523981, 'requested_all_l2': 0.0780661, 'method_accuracy': 0.8962752, 'method_l2': 0.177641}\n",
      "INFO:root:Epoch\t22/50\n"
     ]
    },
    {
     "data": {
      "application/vnd.jupyter.widget-view+json": {
       "model_id": "ea8ae7cd4b0649429c6c10d857ef581a",
       "version_major": 2,
       "version_minor": 0
      },
      "text/plain": [
       "HBox(children=(IntProgress(value=0, max=323), HTML(value='')))"
      ]
     },
     "metadata": {},
     "output_type": "display_data"
    },
    {
     "name": "stdout",
     "output_type": "stream",
     "text": [
      "\n"
     ]
    },
    {
     "data": {
      "application/vnd.jupyter.widget-view+json": {
       "model_id": "365a113f4cbe49828f0c9fdb6124e814",
       "version_major": 2,
       "version_minor": 0
      },
      "text/plain": [
       "HBox(children=(IntProgress(value=0, max=506), HTML(value='')))"
      ]
     },
     "metadata": {},
     "output_type": "display_data"
    },
    {
     "name": "stdout",
     "output_type": "stream",
     "text": [
      "\n"
     ]
    },
    {
     "name": "stderr",
     "output_type": "stream",
     "text": [
      "INFO:root:{'goal_food_accuracy': 0.7543276, 'goal_food_l2': 0.3728553, 'goal_pricerange_accuracy': 0.9138412, 'goal_pricerange_l2': 0.1470185, 'goal_name_accuracy': 0.9065421, 'goal_name_l2': 0.1862147, 'goal_area_accuracy': 0.8754118, 'goal_area_l2': 0.2098913, 'goal_joint_accuracy': 0.6285193, 'goal_joint_l2': 0.5382186, 'requested_all_accuracy': 0.9513163, 'requested_all_l2': 0.0768939, 'method_accuracy': 0.8962752, 'method_l2': 0.177641}\n",
      "INFO:root:Epoch\t23/50\n"
     ]
    },
    {
     "data": {
      "application/vnd.jupyter.widget-view+json": {
       "model_id": "0dc47e14627a479d868fd3622446c289",
       "version_major": 2,
       "version_minor": 0
      },
      "text/plain": [
       "HBox(children=(IntProgress(value=0, max=323), HTML(value='')))"
      ]
     },
     "metadata": {},
     "output_type": "display_data"
    },
    {
     "name": "stdout",
     "output_type": "stream",
     "text": [
      "\n"
     ]
    },
    {
     "data": {
      "application/vnd.jupyter.widget-view+json": {
       "model_id": "fb4462a3daf04beea399e5faec9b3bb4",
       "version_major": 2,
       "version_minor": 0
      },
      "text/plain": [
       "HBox(children=(IntProgress(value=0, max=506), HTML(value='')))"
      ]
     },
     "metadata": {},
     "output_type": "display_data"
    },
    {
     "name": "stdout",
     "output_type": "stream",
     "text": [
      "\n"
     ]
    },
    {
     "name": "stderr",
     "output_type": "stream",
     "text": [
      "INFO:root:{'goal_food_accuracy': 0.7543276, 'goal_food_l2': 0.3728553, 'goal_pricerange_accuracy': 0.9138412, 'goal_pricerange_l2': 0.1470185, 'goal_name_accuracy': 0.9065421, 'goal_name_l2': 0.1862147, 'goal_area_accuracy': 0.8754118, 'goal_area_l2': 0.2098913, 'goal_joint_accuracy': 0.6285193, 'goal_joint_l2': 0.5382186, 'requested_all_accuracy': 0.9509556, 'requested_all_l2': 0.0765153, 'method_accuracy': 0.8962752, 'method_l2': 0.177641}\n",
      "INFO:root:Epoch\t24/50\n"
     ]
    },
    {
     "data": {
      "application/vnd.jupyter.widget-view+json": {
       "model_id": "1f599e6a7b0d4a8d96136b29f5af030f",
       "version_major": 2,
       "version_minor": 0
      },
      "text/plain": [
       "HBox(children=(IntProgress(value=0, max=323), HTML(value='')))"
      ]
     },
     "metadata": {},
     "output_type": "display_data"
    },
    {
     "name": "stdout",
     "output_type": "stream",
     "text": [
      "\n"
     ]
    },
    {
     "data": {
      "application/vnd.jupyter.widget-view+json": {
       "model_id": "f8eeed378aa444798eb984f19f7b9ed0",
       "version_major": 2,
       "version_minor": 0
      },
      "text/plain": [
       "HBox(children=(IntProgress(value=0, max=506), HTML(value='')))"
      ]
     },
     "metadata": {},
     "output_type": "display_data"
    },
    {
     "name": "stdout",
     "output_type": "stream",
     "text": [
      "\n"
     ]
    },
    {
     "name": "stderr",
     "output_type": "stream",
     "text": [
      "INFO:root:{'goal_food_accuracy': 0.7543276, 'goal_food_l2': 0.3728553, 'goal_pricerange_accuracy': 0.9138412, 'goal_pricerange_l2': 0.1470185, 'goal_name_accuracy': 0.9065421, 'goal_name_l2': 0.1862147, 'goal_area_accuracy': 0.8754118, 'goal_area_l2': 0.2098913, 'goal_joint_accuracy': 0.6285193, 'goal_joint_l2': 0.5382186, 'requested_all_accuracy': 0.9509556, 'requested_all_l2': 0.077298, 'method_accuracy': 0.8962752, 'method_l2': 0.177641}\n"
     ]
    }
   ],
   "source": [
    "goal_pricerange_early_stopping = EarlyStopping(patience = 4)\n",
    "goal_area_early_stopping = EarlyStopping(patience = 4)\n",
    "goal_name_early_stopping = EarlyStopping(patience = 4)\n",
    "goal_food_early_stopping = EarlyStopping(patience = 4)\n",
    "requested_early_stopping = EarlyStopping(patience = 4)\n",
    "method_early_stopping = EarlyStopping(patience = 4)\n",
    "\n",
    "train_indices_loader = torch.utils.data.DataLoader(np.arange(raw_X_train.shape[0]), batch_size = BATCH_SIZE, shuffle = True)\n",
    "\n",
    "for epoch in range(NUM_EPOCHS):\n",
    "    \n",
    "    logging.info(\"Epoch\\t{}/{}\".format(epoch + 1, NUM_EPOCHS))\n",
    "    \n",
    "    if not goal_pricerange_early_stopping.stop_training:\n",
    "        model_GoalPricerange = model_GoalPricerange.train()\n",
    "    if not goal_area_early_stopping.stop_training:\n",
    "        model_GoalArea = model_GoalArea.train()\n",
    "    if not goal_name_early_stopping.stop_training:\n",
    "        model_GoalName = model_GoalName.train()\n",
    "    if not goal_food_early_stopping.stop_training:\n",
    "        model_GoalFood = model_GoalFood.train()\n",
    "    if not requested_early_stopping.stop_training:\n",
    "        model_Requested = model_Requested.train()\n",
    "    if not method_early_stopping.stop_training:\n",
    "        model_Method = model_Method.train()\n",
    "    \n",
    "    for train_indices in tqdm_notebook(train_indices_loader, total = len(train_indices_loader)):\n",
    "        \n",
    "        if not goal_pricerange_early_stopping.stop_training:\n",
    "            optimizer_GoalPricerange.zero_grad()\n",
    "            goal_pricerange_accumulated_loss = 0\n",
    "        if not goal_area_early_stopping.stop_training:\n",
    "            optimizer_GoalArea.zero_grad()\n",
    "            goal_area_accumulated_loss = 0\n",
    "        if not goal_name_early_stopping.stop_training:\n",
    "            optimizer_GoalName.zero_grad()\n",
    "            goal_name_accumulated_loss = 0\n",
    "        if not goal_food_early_stopping.stop_training:\n",
    "            optimizer_GoalFood.zero_grad()\n",
    "            goal_food_accumulated_loss = 0\n",
    "        if not requested_early_stopping.stop_training:\n",
    "            optimizer_Requested.zero_grad()\n",
    "            requested_accumulated_loss = 0\n",
    "        if not method_early_stopping.stop_training:\n",
    "            optimizer_Method.zero_grad()\n",
    "            method_accumulated_loss = 0\n",
    "        \n",
    "        for raw_X_train_dialog, raw_Y_train_dialog in zip(raw_X_train[train_indices], raw_Y_train[train_indices]):\n",
    "            \n",
    "            if not goal_pricerange_early_stopping.stop_training:\n",
    "                model_GoalPricerange.hidden = model_GoalPricerange.init_hidden()\n",
    "            if not goal_area_early_stopping.stop_training:\n",
    "                model_GoalArea.hidden = model_GoalArea.init_hidden()\n",
    "            if not goal_name_early_stopping.stop_training:\n",
    "                model_GoalName.hidden = model_GoalName.init_hidden()\n",
    "            if not goal_food_early_stopping.stop_training:\n",
    "                model_GoalFood.hidden = model_GoalFood.init_hidden()\n",
    "            if not requested_early_stopping.stop_training:\n",
    "                model_Requested.hidden = model_Requested.init_hidden()\n",
    "            if not method_early_stopping.stop_training:\n",
    "                model_Method.hidden = model_Method.init_hidden()\n",
    "                \n",
    "            for raw_X_train_turn, raw_Y_train_turn in zip(raw_X_train_dialog[\"turns\"], raw_Y_train_dialog[\"turns\"]):\n",
    "\n",
    "                indices, scores = get_index_and_score(raw_X_train_turn, token_to_index, mode = \"train\", device = DEVICE)\n",
    "                \n",
    "                if not goal_pricerange_early_stopping.stop_training:\n",
    "                    goal_pricerange_outputs = model_GoalPricerange(indices, scores)\n",
    "                    for goal_pricerange in goal_pricerange_outputs:\n",
    "                        goal_pricerange = goal_pricerange.unsqueeze(0)\n",
    "                        goal_pricerange_loss = GOAL_LOSS_FUNCTION(goal_pricerange, retrieve_gold_GoalPricerange(raw_Y_train_turn, ontology = ontology, device = DEVICE))\n",
    "                        goal_pricerange_accumulated_loss += goal_pricerange_loss\n",
    "                if not goal_area_early_stopping.stop_training:\n",
    "                    goal_area_outputs = model_GoalArea(indices, scores)\n",
    "                    for goal_area in goal_area_outputs:\n",
    "                        goal_area = goal_area.unsqueeze(0)\n",
    "                        goal_area_loss = GOAL_LOSS_FUNCTION(goal_area, retrieve_gold_GoalArea(raw_Y_train_turn, ontology = ontology, device = DEVICE))\n",
    "                        goal_area_accumulated_loss += goal_area_loss\n",
    "                if not goal_name_early_stopping.stop_training:\n",
    "                    goal_name_outputs = model_GoalName(indices, scores)\n",
    "                    for goal_name in goal_name_outputs:\n",
    "                        goal_name = goal_name.unsqueeze(0)\n",
    "                        goal_name_loss = GOAL_LOSS_FUNCTION(goal_name, retrieve_gold_GoalName(raw_Y_train_turn, ontology = ontology, device = DEVICE))\n",
    "                        goal_name_accumulated_loss += goal_name_loss\n",
    "                if not goal_food_early_stopping.stop_training:\n",
    "                    goal_food_outputs = model_GoalFood(indices, scores)\n",
    "                    for goal_food in goal_food_outputs:\n",
    "                        goal_food = goal_food.unsqueeze(0)\n",
    "                        goal_food_loss = GOAL_LOSS_FUNCTION(goal_food, retrieve_gold_GoalFood(raw_Y_train_turn, ontology = ontology, device = DEVICE))\n",
    "                        goal_food_accumulated_loss += goal_food_loss\n",
    "                if not requested_early_stopping.stop_training:\n",
    "                    requested_outputs = model_Requested(indices, scores)\n",
    "                    for requested in requested_outputs:\n",
    "                        requested = requested.unsqueeze(0)\n",
    "                        requested_loss = REQUESTED_LOSS_FUNCTION(requested, retrieve_gold_Requested(raw_Y_train_turn, ontology = ontology, device = DEVICE))\n",
    "                        requested_accumulated_loss += requested_loss\n",
    "                if not method_early_stopping.stop_training:\n",
    "                    method_outputs = model_Method(indices, scores)\n",
    "                    for method in method_outputs:\n",
    "                        method = method.unsqueeze(0)\n",
    "                        method_loss = METHOD_LOSS_FUNCTION(method, retrieve_gold_Method(raw_Y_train_turn, ontology = ontology, device = DEVICE))\n",
    "                        method_accumulated_loss += method_loss\n",
    "        \n",
    "        if not goal_pricerange_early_stopping.stop_training:\n",
    "            goal_pricerange_accumulated_loss.backward()\n",
    "            optimizer_GoalPricerange.step()\n",
    "        if not goal_area_early_stopping.stop_training:\n",
    "            goal_area_accumulated_loss.backward()\n",
    "            optimizer_GoalArea.step()\n",
    "        if not goal_name_early_stopping.stop_training:\n",
    "            goal_name_accumulated_loss.backward()\n",
    "            optimizer_GoalName.step()\n",
    "        if not goal_food_early_stopping.stop_training:\n",
    "            goal_food_accumulated_loss.backward()\n",
    "            optimizer_GoalFood.step()\n",
    "        if not requested_early_stopping.stop_training:\n",
    "            requested_accumulated_loss.backward()\n",
    "            optimizer_Requested.step()\n",
    "        if not method_early_stopping.stop_training:\n",
    "            method_accumulated_loss.backward()\n",
    "            optimizer_Method.step()\n",
    "        \n",
    "    dev_tracker = make_tracker(model_GoalPricerange, model_GoalArea, model_GoalName, model_GoalFood, model_Requested, model_Method,\n",
    "                               raw_X_dev, raw_Y_dev, dataset = \"dstc2_dev\", percentage = 1.0)\n",
    "    \n",
    "    dev_scores_dict = get_scores(dev_tracker, dataset = \"dstc2_dev\", ontology = ontology)\n",
    "    \n",
    "    logging.info(dev_scores_dict)\n",
    "\n",
    "    goal_pricerange_early_stopping.on_epoch_end(epoch = (epoch + 1), current_value = (dev_scores_dict[\"goal_pricerange_accuracy\"]))\n",
    "    goal_area_early_stopping.on_epoch_end(epoch = (epoch + 1), current_value = (dev_scores_dict[\"goal_area_accuracy\"]))\n",
    "    goal_name_early_stopping.on_epoch_end(epoch = (epoch + 1), current_value = (dev_scores_dict[\"goal_name_accuracy\"]))\n",
    "    goal_food_early_stopping.on_epoch_end(epoch = (epoch + 1), current_value = (dev_scores_dict[\"goal_food_accuracy\"]))\n",
    "    requested_early_stopping.on_epoch_end(epoch = (epoch + 1), current_value = (dev_scores_dict[\"requested_all_accuracy\"]))\n",
    "    method_early_stopping.on_epoch_end(epoch = (epoch + 1), current_value = (dev_scores_dict[\"method_accuracy\"]))\n",
    "    \n",
    "    if goal_pricerange_early_stopping.wait == 0:\n",
    "        torch.save(model_GoalPricerange.state_dict(), \"model_PANFMR_incremental_GoalPricerange.pt\")\n",
    "    if goal_area_early_stopping.wait == 0:\n",
    "        torch.save(model_GoalArea.state_dict(), \"model_PANFMR_incremental_GoalArea.pt\")\n",
    "    if goal_name_early_stopping.wait == 0:\n",
    "        torch.save(model_GoalName.state_dict(), \"model_PANFMR_incremental_GoalName.pt\")\n",
    "    if goal_food_early_stopping.wait == 0:\n",
    "        torch.save(model_GoalFood.state_dict(), \"model_PANFMR_incremental_GoalFood.pt\")\n",
    "    if requested_early_stopping.wait == 0:\n",
    "        torch.save(model_Requested.state_dict(), \"model_PANFMR_incremental_Requested.pt\")\n",
    "    if method_early_stopping.wait == 0:\n",
    "        torch.save(model_Method.state_dict(), \"model_PANFMR_incremental_Method.pt\")\n",
    "        \n",
    "    if goal_pricerange_early_stopping.stop_training:\n",
    "        model_GoalPricerange.load_state_dict(torch.load(\"model_PANFMR_incremental_GoalPricerange.pt\"))\n",
    "    if goal_area_early_stopping.stop_training:\n",
    "        model_GoalArea.load_state_dict(torch.load(\"model_PANFMR_incremental_GoalArea.pt\"))\n",
    "    if goal_name_early_stopping.stop_training:\n",
    "        model_GoalName.load_state_dict(torch.load(\"model_PANFMR_incremental_GoalName.pt\"))\n",
    "    if goal_food_early_stopping.stop_training:\n",
    "        model_GoalFood.load_state_dict(torch.load(\"model_PANFMR_incremental_GoalFood.pt\"))\n",
    "    if requested_early_stopping.stop_training:\n",
    "        model_Requested.load_state_dict(torch.load(\"model_PANFMR_incremental_Requested.pt\"))\n",
    "    if method_early_stopping.stop_training:\n",
    "        model_Method.load_state_dict(torch.load(\"model_PANFMR_incremental_Method.pt\"))\n",
    "        \n",
    "    if goal_pricerange_early_stopping.stop_training and goal_area_early_stopping.stop_training and goal_name_early_stopping.stop_training and \\\n",
    "        goal_food_early_stopping.stop_training and requested_early_stopping.stop_training and method_early_stopping.stop_training:\n",
    "        break"
   ]
  },
  {
   "cell_type": "markdown",
   "metadata": {},
   "source": [
    "### Load Goal Pricerange Model"
   ]
  },
  {
   "cell_type": "code",
   "execution_count": 16,
   "metadata": {},
   "outputs": [
    {
     "data": {
      "text/plain": [
       "iDSTModel(\n",
       "  (embeddings): Embedding(1137, 170)\n",
       "  (altered_embeddings): Linear(in_features=171, out_features=300, bias=True)\n",
       "  (lstm): LSTM(300, 100)\n",
       "  (classifier): Linear(in_features=100, out_features=5, bias=True)\n",
       ")"
      ]
     },
     "execution_count": 16,
     "metadata": {},
     "output_type": "execute_result"
    }
   ],
   "source": [
    "model_GoalPricerange = iDSTModel(vocabulary_size = VOCABULARY_SIZE,\n",
    "                                 embedding_dim = EMBEDDING_DIM,\n",
    "                                 altered_embedding_dim = ALTERED_EMBEDDING_DIM,\n",
    "                                 hidden_dim = HIDDEN_DIM,\n",
    "                                 output_dim = GOAL_PRICERANGE_DIM,\n",
    "                                 device = DEVICE).to(DEVICE)\n",
    "model_GoalPricerange.load_state_dict(torch.load(\"model_PANFMR_incremental_GoalPricerange.pt\"))\n",
    "model_GoalPricerange.eval()"
   ]
  },
  {
   "cell_type": "markdown",
   "metadata": {},
   "source": [
    "### Load Goal Area Model"
   ]
  },
  {
   "cell_type": "code",
   "execution_count": 17,
   "metadata": {},
   "outputs": [
    {
     "data": {
      "text/plain": [
       "iDSTModel(\n",
       "  (embeddings): Embedding(1137, 170)\n",
       "  (altered_embeddings): Linear(in_features=171, out_features=300, bias=True)\n",
       "  (lstm): LSTM(300, 100)\n",
       "  (classifier): Linear(in_features=100, out_features=7, bias=True)\n",
       ")"
      ]
     },
     "execution_count": 17,
     "metadata": {},
     "output_type": "execute_result"
    }
   ],
   "source": [
    "model_GoalArea = iDSTModel(vocabulary_size = VOCABULARY_SIZE,\n",
    "                           embedding_dim = EMBEDDING_DIM,\n",
    "                           altered_embedding_dim = ALTERED_EMBEDDING_DIM,\n",
    "                           hidden_dim = HIDDEN_DIM,\n",
    "                           output_dim = GOAL_AREA_DIM,\n",
    "                           device = DEVICE).to(DEVICE)\n",
    "model_GoalArea.load_state_dict(torch.load(\"model_PANFMR_incremental_GoalArea.pt\"))\n",
    "model_GoalArea.eval()"
   ]
  },
  {
   "cell_type": "markdown",
   "metadata": {},
   "source": [
    "### Load Goal Name Model"
   ]
  },
  {
   "cell_type": "code",
   "execution_count": 18,
   "metadata": {},
   "outputs": [
    {
     "data": {
      "text/plain": [
       "iDSTModel(\n",
       "  (embeddings): Embedding(1137, 170)\n",
       "  (altered_embeddings): Linear(in_features=171, out_features=300, bias=True)\n",
       "  (lstm): LSTM(300, 100)\n",
       "  (classifier): Linear(in_features=100, out_features=115, bias=True)\n",
       ")"
      ]
     },
     "execution_count": 18,
     "metadata": {},
     "output_type": "execute_result"
    }
   ],
   "source": [
    "model_GoalName = iDSTModel(vocabulary_size = VOCABULARY_SIZE,\n",
    "                           embedding_dim = EMBEDDING_DIM,\n",
    "                           altered_embedding_dim = ALTERED_EMBEDDING_DIM,\n",
    "                           hidden_dim = HIDDEN_DIM,\n",
    "                           output_dim = GOAL_NAME_DIM,\n",
    "                           device = DEVICE).to(DEVICE)\n",
    "model_GoalName.load_state_dict(torch.load(\"model_PANFMR_incremental_GoalName.pt\"))\n",
    "model_GoalName.eval()"
   ]
  },
  {
   "cell_type": "markdown",
   "metadata": {},
   "source": [
    "### Load Goal Food Model"
   ]
  },
  {
   "cell_type": "code",
   "execution_count": 19,
   "metadata": {},
   "outputs": [
    {
     "data": {
      "text/plain": [
       "iDSTModel(\n",
       "  (embeddings): Embedding(1137, 170)\n",
       "  (altered_embeddings): Linear(in_features=171, out_features=300, bias=True)\n",
       "  (lstm): LSTM(300, 100)\n",
       "  (classifier): Linear(in_features=100, out_features=93, bias=True)\n",
       ")"
      ]
     },
     "execution_count": 19,
     "metadata": {},
     "output_type": "execute_result"
    }
   ],
   "source": [
    "model_GoalFood = iDSTModel(vocabulary_size = VOCABULARY_SIZE,\n",
    "                           embedding_dim = EMBEDDING_DIM,\n",
    "                           altered_embedding_dim = ALTERED_EMBEDDING_DIM,\n",
    "                           hidden_dim = HIDDEN_DIM,\n",
    "                           output_dim = GOAL_FOOD_DIM,\n",
    "                           device = DEVICE).to(DEVICE)\n",
    "model_GoalFood.load_state_dict(torch.load(\"model_PANFMR_incremental_GoalFood.pt\"))\n",
    "model_GoalFood.eval()"
   ]
  },
  {
   "cell_type": "markdown",
   "metadata": {},
   "source": [
    "### Load Requested Model"
   ]
  },
  {
   "cell_type": "code",
   "execution_count": 20,
   "metadata": {},
   "outputs": [
    {
     "data": {
      "text/plain": [
       "iDSTModel(\n",
       "  (embeddings): Embedding(1137, 170)\n",
       "  (altered_embeddings): Linear(in_features=171, out_features=300, bias=True)\n",
       "  (lstm): LSTM(300, 100)\n",
       "  (classifier): Linear(in_features=100, out_features=8, bias=True)\n",
       ")"
      ]
     },
     "execution_count": 20,
     "metadata": {},
     "output_type": "execute_result"
    }
   ],
   "source": [
    "model_Requested = iDSTModel(vocabulary_size = VOCABULARY_SIZE,\n",
    "                            embedding_dim = EMBEDDING_DIM,\n",
    "                            altered_embedding_dim = ALTERED_EMBEDDING_DIM,\n",
    "                            hidden_dim = HIDDEN_DIM,\n",
    "                            output_dim = REQUESTED_DIM,\n",
    "                            device = DEVICE,\n",
    "                            is_requested = True).to(DEVICE)\n",
    "model_Requested.load_state_dict(torch.load(\"model_PANFMR_incremental_Requested.pt\"))\n",
    "model_Requested.eval()"
   ]
  },
  {
   "cell_type": "markdown",
   "metadata": {},
   "source": [
    "### Load Method Model"
   ]
  },
  {
   "cell_type": "code",
   "execution_count": 21,
   "metadata": {},
   "outputs": [
    {
     "data": {
      "text/plain": [
       "iDSTModel(\n",
       "  (embeddings): Embedding(1137, 170)\n",
       "  (altered_embeddings): Linear(in_features=171, out_features=300, bias=True)\n",
       "  (lstm): LSTM(300, 100)\n",
       "  (classifier): Linear(in_features=100, out_features=5, bias=True)\n",
       ")"
      ]
     },
     "execution_count": 21,
     "metadata": {},
     "output_type": "execute_result"
    }
   ],
   "source": [
    "model_Method = iDSTModel(vocabulary_size = VOCABULARY_SIZE,\n",
    "                         embedding_dim = EMBEDDING_DIM,\n",
    "                         altered_embedding_dim = ALTERED_EMBEDDING_DIM,\n",
    "                         hidden_dim = HIDDEN_DIM,\n",
    "                         output_dim = METHOD_DIM,\n",
    "                         device = DEVICE).to(DEVICE)\n",
    "model_Method.load_state_dict(torch.load(\"model_PANFMR_incremental_Method.pt\"))\n",
    "model_Method.eval()"
   ]
  },
  {
   "cell_type": "markdown",
   "metadata": {},
   "source": [
    "### Print scores"
   ]
  },
  {
   "cell_type": "code",
   "execution_count": 183,
   "metadata": {},
   "outputs": [
    {
     "data": {
      "application/vnd.jupyter.widget-view+json": {
       "model_id": "afdde002df874a37b9b2efd04334e8bc",
       "version_major": 2,
       "version_minor": 0
      },
      "text/plain": [
       "HBox(children=(IntProgress(value=0, max=506), HTML(value='')))"
      ]
     },
     "metadata": {},
     "output_type": "display_data"
    },
    {
     "data": {
      "text/plain": [
       "{'goal_food_accuracy': 0.7543276,\n",
       " 'goal_food_l2': 0.3728553,\n",
       " 'goal_pricerange_accuracy': 0.9138412,\n",
       " 'goal_pricerange_l2': 0.1470185,\n",
       " 'goal_name_accuracy': 0.9065421,\n",
       " 'goal_name_l2': 0.1862147,\n",
       " 'goal_area_accuracy': 0.8754118,\n",
       " 'goal_area_l2': 0.2098913,\n",
       " 'goal_joint_accuracy': 0.6285193,\n",
       " 'goal_joint_l2': 0.5382186,\n",
       " 'requested_all_accuracy': 0.958168,\n",
       " 'requested_all_l2': 0.069813,\n",
       " 'method_accuracy': 0.8962752,\n",
       " 'method_l2': 0.177641}"
      ]
     },
     "execution_count": 183,
     "metadata": {},
     "output_type": "execute_result"
    }
   ],
   "source": [
    "dev_tracker = make_tracker(model_GoalPricerange,\n",
    "                           model_GoalArea,\n",
    "                           model_GoalName,\n",
    "                           model_GoalFood,\n",
    "                           model_Requested,\n",
    "                           model_Method,\n",
    "                           raw_X_dev, raw_Y_dev, dataset = \"dstc2_dev\", percentage = 1.0)\n",
    "get_scores(dev_tracker, dataset = \"dstc2_dev\", ontology = ontology)"
   ]
  },
  {
   "cell_type": "code",
   "execution_count": null,
   "metadata": {},
   "outputs": [],
   "source": [
    "test_tracker = make_tracker(model_GoalPricerange,\n",
    "                            model_GoalArea,\n",
    "                            model_GoalName,\n",
    "                            model_GoalFood,\n",
    "                            model_Requested,\n",
    "                            model_Method,\n",
    "                            raw_X_test, raw_Y_test, dataset = \"dstc2_test\", percentage = 1.0)\n",
    "get_scores(test_tracker, dataset = \"dstc2_test\", ontology = ontology)"
   ]
  },
  {
   "cell_type": "markdown",
   "metadata": {},
   "source": [
    "### SUPERVISED TURN TAKING"
   ]
  },
  {
   "cell_type": "markdown",
   "metadata": {},
   "source": [
    "### Predictor utilities"
   ]
  },
  {
   "cell_type": "code",
   "execution_count": 177,
   "metadata": {},
   "outputs": [],
   "source": [
    "def get_gaps_vector(vector):\n",
    "    gaps_vector = []\n",
    "    \n",
    "    for value in vector:\n",
    "        if value == vector[-1]:\n",
    "            gaps_vector.append(0)\n",
    "        else:\n",
    "            gaps_vector.append(1)\n",
    "    \n",
    "    return gaps_vector\n",
    "\n",
    "def get_predictor_score(dataset, session_id, turns_so_far):\n",
    "    start_time = time.time()\n",
    "    \n",
    "    tracker_json = {}\n",
    "    tracker_json[\"dataset\"] = dataset\n",
    "    tracker_json[\"sessions\"] = []\n",
    "    \n",
    "    session = {}\n",
    "    session[\"session-id\"] = session_id\n",
    "    session[\"turns\"] = copy.deepcopy(turns_so_far) # NOTE: copy here is needed since the scoring script is going to modify the dict\n",
    "    \n",
    "    tracker_json[\"sessions\"].append(session)\n",
    "        \n",
    "    end_time = time.time()\n",
    "    \n",
    "    tracker_json[\"wall-time\"] = end_time - start_time\n",
    "    \n",
    "    return get_scores(tracker_json, dataset, ontology)\n",
    "\n",
    "def get_predictor_Y(model_GoalPricerange, model_GoalArea, model_GoalName, model_GoalFood, model_Requested, model_Method, dataset, ontology):\n",
    "    \n",
    "    predictor_Y = []\n",
    "    \n",
    "    if dataset == \"dstc2_train\":\n",
    "        raw_X = raw_X_train\n",
    "        raw_Y = raw_Y_train\n",
    "    elif dataset == \"dstc2_dev\":\n",
    "        raw_X = raw_X_dev\n",
    "        raw_Y = raw_Y_dev\n",
    "    else: # dataset == \"dstc2_test\"\n",
    "        raw_X = raw_X_test\n",
    "        raw_Y = raw_Y_test\n",
    "    \n",
    "    with torch.no_grad():\n",
    "        \n",
    "        model_GoalPricerange = model_GoalPricerange.eval()\n",
    "        model_GoalArea = model_GoalArea.eval()\n",
    "        model_GoalName = model_GoalName.eval()\n",
    "        model_GoalFood = model_GoalFood.eval()\n",
    "        model_Requested = model_Requested.eval()\n",
    "        model_Method = model_Method.eval()\n",
    "\n",
    "        for raw_X_dialog, raw_Y_dialog in tqdm_notebook(zip(raw_X, raw_Y), total = len(raw_X)):\n",
    "\n",
    "            assert(raw_X_dialog[\"session-id\"] == raw_Y_dialog[\"session-id\"])\n",
    "\n",
    "            predictor_Y_dialog = {}\n",
    "            predictor_Y_dialog[\"session-id\"] = raw_Y_dialog[\"session-id\"]\n",
    "            predictor_Y_dialog[\"turns\"] = []\n",
    "\n",
    "            model_GoalPricerange.hidden = model_GoalPricerange.init_hidden()\n",
    "            model_GoalArea.hidden = model_GoalArea.init_hidden()\n",
    "            model_GoalName.hidden = model_GoalName.init_hidden()\n",
    "            model_GoalFood.hidden = model_GoalFood.init_hidden()\n",
    "            model_Requested.hidden = model_Requested.init_hidden()\n",
    "            model_Method.hidden = model_Method.init_hidden()\n",
    "\n",
    "            turns_so_far = []\n",
    "\n",
    "            for raw_X_turn, raw_Y_turn in zip(raw_X_dialog[\"turns\"], raw_Y_dialog[\"turns\"]):\n",
    "                \n",
    "                predictor_Y_turn = {}\n",
    "                predictor_Y_turn[\"goal_pricerange_predictor\"] = []\n",
    "                predictor_Y_turn[\"goal_area_predictor\"] = []\n",
    "                predictor_Y_turn[\"goal_name_predictor\"] = []\n",
    "                predictor_Y_turn[\"goal_food_predictor\"] = []\n",
    "                predictor_Y_turn[\"requested_predictor\"] = []\n",
    "                predictor_Y_turn[\"method_predictor\"] = []\n",
    "\n",
    "                turn = {}\n",
    "                turn[\"goal-labels\"] = {}\n",
    "\n",
    "                indices, scores = get_index_and_score(raw_X_turn, token_to_index, mode = \"eval\", device = DEVICE)\n",
    "\n",
    "                goal_foods = model_GoalFood(indices, scores)\n",
    "                goal_priceranges = model_GoalPricerange(indices, scores)\n",
    "                goal_names = model_GoalName(indices, scores)\n",
    "                goal_areas = model_GoalArea(indices, scores)\n",
    "                requesteds = model_Requested(indices, scores)\n",
    "                methods = model_Method(indices, scores)\n",
    "\n",
    "                for goal_food, goal_pricerange, goal_name, goal_area, requested, method in zip(goal_foods, goal_priceranges, goal_names, goal_areas, requesteds, methods):\n",
    "                    \n",
    "                    turns_so_far_temp = copy.deepcopy(turns_so_far)\n",
    "                    \n",
    "                    turn[\"goal-labels\"][\"food\"] = retrieve_output_GoalFood(goal_food, ontology)\n",
    "                    turn[\"goal-labels\"][\"pricerange\"] = retrieve_output_GoalPricerange(goal_pricerange, ontology)\n",
    "                    turn[\"goal-labels\"][\"name\"] = retrieve_output_GoalName(goal_name, ontology)\n",
    "                    turn[\"goal-labels\"][\"area\"] = retrieve_output_GoalArea(goal_area, ontology)\n",
    "                    turn[\"requested-slots\"] = retrieve_output_Requested(requested, ontology)\n",
    "                    turn[\"method-label\"] = retrieve_output_Method(method, ontology)\n",
    "\n",
    "                    turns_so_far_temp.append(turn)\n",
    "                    \n",
    "                    scores_dict = get_predictor_score(dataset, raw_X_dialog[\"session-id\"], turns_so_far_temp)\n",
    "                    \n",
    "                    predictor_Y_turn[\"goal_pricerange_predictor\"].append(scores_dict[\"goal_pricerange_accuracy\"])\n",
    "                    predictor_Y_turn[\"goal_area_predictor\"].append(scores_dict[\"goal_area_accuracy\"])\n",
    "                    predictor_Y_turn[\"goal_name_predictor\"].append(scores_dict[\"goal_name_accuracy\"])\n",
    "                    predictor_Y_turn[\"goal_food_predictor\"].append(scores_dict[\"goal_food_accuracy\"])\n",
    "                    predictor_Y_turn[\"requested_predictor\"].append(scores_dict[\"requested_all_accuracy\"])\n",
    "                    predictor_Y_turn[\"method_predictor\"].append(scores_dict[\"method_accuracy\"])\n",
    "                \n",
    "                turns_so_far.append(turn)\n",
    "                \n",
    "                predictor_Y_turn[\"goal_pricerange_predictor\"] = get_gaps_vector(predictor_Y_turn[\"goal_pricerange_predictor\"])\n",
    "                predictor_Y_turn[\"goal_area_predictor\"] = get_gaps_vector(predictor_Y_turn[\"goal_area_predictor\"])\n",
    "                predictor_Y_turn[\"goal_name_predictor\"] = get_gaps_vector(predictor_Y_turn[\"goal_name_predictor\"])\n",
    "                predictor_Y_turn[\"goal_food_predictor\"] = get_gaps_vector(predictor_Y_turn[\"goal_food_predictor\"])\n",
    "                predictor_Y_turn[\"requested_predictor\"] = get_gaps_vector(predictor_Y_turn[\"requested_predictor\"])\n",
    "                predictor_Y_turn[\"method_predictor\"] = get_gaps_vector(predictor_Y_turn[\"method_predictor\"])\n",
    "                \n",
    "                predictor_Y_dialog[\"turns\"].append(predictor_Y_turn)\n",
    "\n",
    "            predictor_Y.append(predictor_Y_dialog)\n",
    "\n",
    "        return np.array(predictor_Y)"
   ]
  },
  {
   "cell_type": "markdown",
   "metadata": {},
   "source": [
    "### Compute development set predictor labels"
   ]
  },
  {
   "cell_type": "code",
   "execution_count": null,
   "metadata": {
    "scrolled": false
   },
   "outputs": [],
   "source": [
    "dev_predictor_Y = get_predictor_Y(model_GoalPricerange, model_GoalArea, model_GoalName, model_GoalFood,\n",
    "                                  model_Requested, model_Method, \"dstc2_dev\", ontology)"
   ]
  },
  {
   "cell_type": "code",
   "execution_count": null,
   "metadata": {},
   "outputs": [],
   "source": []
  }
 ],
 "metadata": {
  "kernelspec": {
   "display_name": "Python 3",
   "language": "python",
   "name": "python3"
  },
  "language_info": {
   "codemirror_mode": {
    "name": "ipython",
    "version": 3
   },
   "file_extension": ".py",
   "mimetype": "text/x-python",
   "name": "python",
   "nbconvert_exporter": "python",
   "pygments_lexer": "ipython3",
   "version": "3.6.5"
  }
 },
 "nbformat": 4,
 "nbformat_minor": 2
}
