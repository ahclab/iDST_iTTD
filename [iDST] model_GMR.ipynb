{
 "cells": [
  {
   "cell_type": "markdown",
   "metadata": {},
   "source": [
    "### Check GPU availability"
   ]
  },
  {
   "cell_type": "code",
   "execution_count": 1,
   "metadata": {},
   "outputs": [
    {
     "name": "stdout",
     "output_type": "stream",
     "text": [
      "Tue Feb 19 18:46:07 2019       \r\n",
      "+-----------------------------------------------------------------------------+\r\n",
      "| NVIDIA-SMI 384.145                Driver Version: 384.145                   |\r\n",
      "|-------------------------------+----------------------+----------------------+\r\n",
      "| GPU  Name        Persistence-M| Bus-Id        Disp.A | Volatile Uncorr. ECC |\r\n",
      "| Fan  Temp  Perf  Pwr:Usage/Cap|         Memory-Usage | GPU-Util  Compute M. |\r\n",
      "|===============================+======================+======================|\r\n",
      "|   0  GeForce GTX 108...  Off  | 00000000:02:00.0 Off |                  N/A |\r\n",
      "| 23%   28C    P8    17W / 250W |    589MiB / 11172MiB |      0%      Default |\r\n",
      "+-------------------------------+----------------------+----------------------+\r\n",
      "|   1  GeForce GTX 108...  Off  | 00000000:03:00.0 Off |                  N/A |\r\n",
      "| 23%   36C    P8    17W / 250W |     10MiB / 11172MiB |      0%      Default |\r\n",
      "+-------------------------------+----------------------+----------------------+\r\n",
      "                                                                               \r\n",
      "+-----------------------------------------------------------------------------+\r\n",
      "| Processes:                                                       GPU Memory |\r\n",
      "|  GPU       PID   Type   Process name                             Usage      |\r\n",
      "|=============================================================================|\r\n",
      "|    0     23796      C   ...e/virtualenvs/iDST-PMaBuuf7/bin/python3   579MiB |\r\n",
      "+-----------------------------------------------------------------------------+\r\n"
     ]
    }
   ],
   "source": [
    "!nvidia-smi"
   ]
  },
  {
   "cell_type": "markdown",
   "metadata": {},
   "source": [
    "### Import libraries"
   ]
  },
  {
   "cell_type": "code",
   "execution_count": 2,
   "metadata": {},
   "outputs": [
    {
     "name": "stderr",
     "output_type": "stream",
     "text": [
      "[nltk_data] Downloading package punkt to /home/is/andrei-\n",
      "[nltk_data]     cc/nltk_data...\n",
      "[nltk_data]   Package punkt is already up-to-date!\n"
     ]
    },
    {
     "data": {
      "text/html": [
       "<script type=\"text/javascript\">window.PlotlyConfig = {MathJaxConfig: 'local'};</script><script type=\"text/javascript\">if (window.MathJax) {MathJax.Hub.Config({SVG: {font: \"STIX-Web\"}});}</script><script>requirejs.config({paths: { 'plotly': ['https://cdn.plot.ly/plotly-latest.min']},});if(!window._Plotly) {require(['plotly'],function(plotly) {window._Plotly=plotly;});}</script>"
      ],
      "text/vnd.plotly.v1+html": [
       "<script type=\"text/javascript\">window.PlotlyConfig = {MathJaxConfig: 'local'};</script><script type=\"text/javascript\">if (window.MathJax) {MathJax.Hub.Config({SVG: {font: \"STIX-Web\"}});}</script><script>requirejs.config({paths: { 'plotly': ['https://cdn.plot.ly/plotly-latest.min']},});if(!window._Plotly) {require(['plotly'],function(plotly) {window._Plotly=plotly;});}</script>"
      ]
     },
     "metadata": {},
     "output_type": "display_data"
    }
   ],
   "source": [
    "import torch\n",
    "import torch.utils.data\n",
    "import torch.nn as nn\n",
    "import torch.nn.functional as F\n",
    "import torch.optim as optim\n",
    "\n",
    "import copy\n",
    "import numpy as np\n",
    "import time\n",
    "import json\n",
    "import plotly\n",
    "import logging\n",
    "logging.getLogger().setLevel(logging.INFO)\n",
    "\n",
    "from pprint import pprint\n",
    "from tqdm import tqdm_notebook\n",
    "from idst_util import trivial\n",
    "from idst_util import dstc2\n",
    "from dstc2.dstc2_scripts import score\n",
    "\n",
    "from plotly.graph_objs import Scatter, Layout, Histogram, Histogram2d\n",
    "from plotly.graph_objs.layout import Margin\n",
    "plotly.offline.init_notebook_mode(connected = True)"
   ]
  },
  {
   "cell_type": "markdown",
   "metadata": {},
   "source": [
    "### Check DSTC2 availability and retrieve data"
   ]
  },
  {
   "cell_type": "code",
   "execution_count": 3,
   "metadata": {},
   "outputs": [
    {
     "name": "stderr",
     "output_type": "stream",
     "text": [
      "INFO:root:+--------------------------------+\n",
      "INFO:root:|         _ ____  ___________    |\n",
      "INFO:root:|        (_) __ \\/ ___/_  __/    |\n",
      "INFO:root:|       / / / / /\\__ \\ / /       |\n",
      "INFO:root:|      / / /_/ /___/ // /        |\n",
      "INFO:root:|     /_/_____//____//_/         |\n",
      "INFO:root:|                                |\n",
      "INFO:root:+--------------------------------+\n",
      "INFO:root:|Incremental Dialog State Tracker|\n",
      "INFO:root:+--------------------------------+\n",
      "INFO:root:+--------------------------------+\n",
      "INFO:root:|     Dialog State Tracker 2     |\n",
      "INFO:root:|         Data Checker           |\n",
      "INFO:root:+--------------------------------+\n",
      "INFO:root:Looking for dstc2 directory in .\n",
      "INFO:root:dstc2 was found!\n",
      "INFO:root:Looking for dstc2_traindev directory in ./dstc2\n",
      "INFO:root:dstc2_traindev was found!\n",
      "INFO:root:Looking for dstc2_test directory in ./dstc2\n",
      "INFO:root:dstc2_test was found!\n",
      "INFO:root:Looking for dstc2_scripts directory in ./dstc2\n",
      "INFO:root:dstc2_scripts was found!\n",
      "INFO:root:Done!\n",
      "INFO:root:+--------------------------------+\n",
      "INFO:root:|     Dialog State Tracker 2     |\n",
      "INFO:root:|       Dataset Retrieval        |\n",
      "INFO:root:+--------------------------------+\n",
      "INFO:root:Reading dstc2_train.flist, dstc2_dev.flist and ontology_dstc2.json\n",
      "INFO:root:Asserted 1612 dialogs for dstc2_train.flist\n",
      "INFO:root:Asserted 506 dialogs for dstc2_dev.flist\n",
      "INFO:root:Extracting raw train features\n"
     ]
    },
    {
     "data": {
      "application/vnd.jupyter.widget-view+json": {
       "model_id": "9e0c1ffe6f034faf9b05002159256106",
       "version_major": 2,
       "version_minor": 0
      },
      "text/plain": [
       "HBox(children=(IntProgress(value=0, max=1612), HTML(value='')))"
      ]
     },
     "metadata": {},
     "output_type": "display_data"
    },
    {
     "name": "stderr",
     "output_type": "stream",
     "text": [
      "INFO:root:Extracting raw dev features\n"
     ]
    },
    {
     "name": "stdout",
     "output_type": "stream",
     "text": [
      "\n"
     ]
    },
    {
     "data": {
      "application/vnd.jupyter.widget-view+json": {
       "model_id": "56ad23b789e64f44ac8e0bea52de287e",
       "version_major": 2,
       "version_minor": 0
      },
      "text/plain": [
       "HBox(children=(IntProgress(value=0, max=506), HTML(value='')))"
      ]
     },
     "metadata": {},
     "output_type": "display_data"
    },
    {
     "name": "stderr",
     "output_type": "stream",
     "text": [
      "INFO:root:Reading dstc2_test.flist\n",
      "INFO:root:Asserted 1117 dialogs for dstc2_test.flist\n",
      "INFO:root:Extracting raw test features\n"
     ]
    },
    {
     "name": "stdout",
     "output_type": "stream",
     "text": [
      "\n"
     ]
    },
    {
     "data": {
      "application/vnd.jupyter.widget-view+json": {
       "model_id": "eb5eb5bb00714a67be95ee4396f9d763",
       "version_major": 2,
       "version_minor": 0
      },
      "text/plain": [
       "HBox(children=(IntProgress(value=0, max=1117), HTML(value='')))"
      ]
     },
     "metadata": {},
     "output_type": "display_data"
    },
    {
     "name": "stderr",
     "output_type": "stream",
     "text": [
      "INFO:root:Done!\n"
     ]
    },
    {
     "name": "stdout",
     "output_type": "stream",
     "text": [
      "\n"
     ]
    }
   ],
   "source": [
    "trivial.print_idst()\n",
    "\n",
    "dstc2.check()\n",
    "\n",
    "raw_X_train, raw_Y_train, \\\n",
    "raw_X_dev, raw_Y_dev, \\\n",
    "raw_X_test, raw_Y_test, \\\n",
    "ontology = dstc2.retrieve_raw_datasets()"
   ]
  },
  {
   "cell_type": "markdown",
   "metadata": {},
   "source": [
    "### Set device"
   ]
  },
  {
   "cell_type": "code",
   "execution_count": 4,
   "metadata": {},
   "outputs": [
    {
     "name": "stderr",
     "output_type": "stream",
     "text": [
      "INFO:root:+--------------------------------+\n",
      "INFO:root:|             Device             |\n",
      "INFO:root:+--------------------------------+\n",
      "INFO:root:Running on GPU 1\n"
     ]
    }
   ],
   "source": [
    "logging.info(\"+--------------------------------+\")\n",
    "logging.info(\"|             Device             |\")\n",
    "logging.info(\"+--------------------------------+\")\n",
    "\n",
    "GPU_ID = 1\n",
    "DEVICE = torch.device(\"cuda:{}\".format(GPU_ID) if torch.cuda.is_available() else \"cpu\")\n",
    "if str(DEVICE) == \"cpu\":\n",
    "    logging.warning(\"Running on CPU\")\n",
    "else:\n",
    "    logging.info(\"Running on GPU {}\".format(GPU_ID))"
   ]
  },
  {
   "cell_type": "markdown",
   "metadata": {},
   "source": [
    "### Create vocabularies"
   ]
  },
  {
   "cell_type": "code",
   "execution_count": 5,
   "metadata": {},
   "outputs": [
    {
     "name": "stderr",
     "output_type": "stream",
     "text": [
      "INFO:root:+--------------------------------+\n",
      "INFO:root:|          Vocabulary            |\n",
      "INFO:root:+--------------------------------+\n",
      "INFO:root:Creating token_to_index, index_to_token and token_to_count dictionaries\n"
     ]
    },
    {
     "data": {
      "application/vnd.jupyter.widget-view+json": {
       "model_id": "82b15158ca704057baaa74f346c48d30",
       "version_major": 2,
       "version_minor": 0
      },
      "text/plain": [
       "HBox(children=(IntProgress(value=0, max=1612), HTML(value='')))"
      ]
     },
     "metadata": {},
     "output_type": "display_data"
    },
    {
     "name": "stderr",
     "output_type": "stream",
     "text": [
      "INFO:root:Done!\n"
     ]
    },
    {
     "name": "stdout",
     "output_type": "stream",
     "text": [
      "\n"
     ]
    }
   ],
   "source": [
    "logging.info(\"+--------------------------------+\")\n",
    "logging.info(\"|          Vocabulary            |\")\n",
    "logging.info(\"+--------------------------------+\")\n",
    "logging.info(\"Creating token_to_index, index_to_token and token_to_count dictionaries\")\n",
    "\n",
    "token_to_index = {\"<unk>\": 0}\n",
    "index_to_token = {0: \"<unk>\"}\n",
    "token_to_count = {\"<unk>\": 1}\n",
    "\n",
    "for raw_train_dialog in tqdm_notebook(raw_X_train):\n",
    "    for raw_train_turn in raw_train_dialog[\"turns\"]:\n",
    "        tokens_scores = raw_train_turn[\"system\"] + raw_train_turn[\"user\"]\n",
    "        for token_score in tokens_scores:\n",
    "            token = token_score[0]\n",
    "            if token not in token_to_index:\n",
    "                token_to_index[token] = len(token_to_index)\n",
    "                index_to_token[len(token_to_index)] = token\n",
    "                token_to_count[token] = 1\n",
    "            else:\n",
    "                token_to_count[token] += 1\n",
    "                \n",
    "assert len(token_to_index) == len(index_to_token)\n",
    "assert len(token_to_index) == len(token_to_count)\n",
    "\n",
    "logging.info(\"Done!\")"
   ]
  },
  {
   "cell_type": "markdown",
   "metadata": {},
   "source": [
    "### Execution configuration"
   ]
  },
  {
   "cell_type": "code",
   "execution_count": 6,
   "metadata": {},
   "outputs": [
    {
     "name": "stderr",
     "output_type": "stream",
     "text": [
      "INFO:root:+--------------------------------+\n",
      "INFO:root:|         Configuration          |\n",
      "INFO:root:+--------------------------------+\n",
      "INFO:root:VOCABULARY_SIZE:\t\t\t897\n",
      "INFO:root:GOAL_FOOD_DIM:\t\t\t93\n",
      "INFO:root:GOAL_PRICERANGE_DIM:\t\t\t5\n",
      "INFO:root:GOAL_NAME_DIM:\t\t\t115\n",
      "INFO:root:GOAL_AREA_DIM:\t\t\t7\n",
      "INFO:root:METHOD_DIM:\t\t\t\t5\n",
      "INFO:root:REQUESTED_DIM:\t\t\t8\n",
      "INFO:root:EMBEDDING_DIM:\t\t\t170\n",
      "INFO:root:ALTERED_EMBEDDING_DIM:\t\t300\n",
      "INFO:root:HIDDEN_DIM:\t\t\t\t100\n",
      "INFO:root:NUM_EPOCHS:\t\t\t\t100\n",
      "INFO:root:BATCH_SIZE:\t\t\t\t10\n",
      "INFO:root:PATIENCE:\t\t\t\t4\n",
      "INFO:root:GOAL_LOSS_FUNCTION:\t\t\tCrossEntropyLoss()\n",
      "INFO:root:METHOD_LOSS_FUNCTION:\t\t\tCrossEntropyLoss()\n",
      "INFO:root:REQUESTED_LOSS_FUNCTION:\t\tBCELoss()\n"
     ]
    }
   ],
   "source": [
    "logging.info(\"+--------------------------------+\")\n",
    "logging.info(\"|         Configuration          |\")\n",
    "logging.info(\"+--------------------------------+\")\n",
    "\n",
    "VOCABULARY_SIZE = len(token_to_index)\n",
    "\n",
    "# NOTE: we add +2 because of null and dontcare cases\n",
    "GOAL_FOOD_DIM = len(ontology[\"informable\"][\"food\"]) + 2 \n",
    "GOAL_PRICERANGE_DIM = len(ontology[\"informable\"][\"pricerange\"]) + 2\n",
    "GOAL_NAME_DIM = len(ontology[\"informable\"][\"name\"]) + 2\n",
    "GOAL_AREA_DIM = len(ontology[\"informable\"][\"area\"]) + 2\n",
    "\n",
    "METHOD_DIM = len(ontology[\"method\"])\n",
    "\n",
    "REQUESTED_DIM = len(ontology[\"requestable\"])\n",
    "\n",
    "EMBEDDING_DIM = 170\n",
    "ALTERED_EMBEDDING_DIM = 300\n",
    "HIDDEN_DIM = 100\n",
    "\n",
    "NUM_EPOCHS = 100\n",
    "BATCH_SIZE = 10\n",
    "PATIENCE = 4\n",
    "\n",
    "GOAL_LOSS_FUNCTION = nn.CrossEntropyLoss()\n",
    "METHOD_LOSS_FUNCTION = nn.CrossEntropyLoss()\n",
    "REQUESTED_LOSS_FUNCTION = nn.BCELoss()\n",
    "\n",
    "logging.info(\"VOCABULARY_SIZE:\\t\\t\\t{}\".format(VOCABULARY_SIZE))\n",
    "\n",
    "logging.info(\"GOAL_FOOD_DIM:\\t\\t\\t{}\".format(GOAL_FOOD_DIM))\n",
    "logging.info(\"GOAL_PRICERANGE_DIM:\\t\\t\\t{}\".format(GOAL_PRICERANGE_DIM))\n",
    "logging.info(\"GOAL_NAME_DIM:\\t\\t\\t{}\".format(GOAL_NAME_DIM))\n",
    "logging.info(\"GOAL_AREA_DIM:\\t\\t\\t{}\".format(GOAL_AREA_DIM))\n",
    "\n",
    "logging.info(\"METHOD_DIM:\\t\\t\\t\\t{}\".format(METHOD_DIM))\n",
    "\n",
    "logging.info(\"REQUESTED_DIM:\\t\\t\\t{}\".format(REQUESTED_DIM))\n",
    "\n",
    "logging.info(\"EMBEDDING_DIM:\\t\\t\\t{}\".format(EMBEDDING_DIM))\n",
    "logging.info(\"ALTERED_EMBEDDING_DIM:\\t\\t{}\".format(ALTERED_EMBEDDING_DIM))\n",
    "logging.info(\"HIDDEN_DIM:\\t\\t\\t\\t{}\".format(HIDDEN_DIM))\n",
    "\n",
    "logging.info(\"NUM_EPOCHS:\\t\\t\\t\\t{}\".format(NUM_EPOCHS))\n",
    "logging.info(\"BATCH_SIZE:\\t\\t\\t\\t{}\".format(BATCH_SIZE))\n",
    "logging.info(\"PATIENCE:\\t\\t\\t\\t{}\".format(PATIENCE))\n",
    "\n",
    "logging.info(\"GOAL_LOSS_FUNCTION:\\t\\t\\t{}\".format(GOAL_LOSS_FUNCTION))\n",
    "logging.info(\"METHOD_LOSS_FUNCTION:\\t\\t\\t{}\".format(METHOD_LOSS_FUNCTION))\n",
    "logging.info(\"REQUESTED_LOSS_FUNCTION:\\t\\t{}\".format(REQUESTED_LOSS_FUNCTION))"
   ]
  },
  {
   "cell_type": "markdown",
   "metadata": {},
   "source": [
    "### Utilities"
   ]
  },
  {
   "cell_type": "code",
   "execution_count": 7,
   "metadata": {},
   "outputs": [],
   "source": [
    "def get_index_and_score(turn, token_to_index, mode, device):\n",
    "    \n",
    "    indices = []\n",
    "    scores = []\n",
    "    \n",
    "    if mode == \"train\": # LecTrack 4.3: Out-of-Vocabulary Words\n",
    "        for system_token, system_token_score in turn[\"system\"]:\n",
    "            indices.append(token_to_index[system_token])\n",
    "            scores.append(system_token_score)\n",
    "        for user_token, user_token_score in turn[\"user\"]:\n",
    "            if np.random.binomial(n = 1, p = 0.1) == 1:\n",
    "                indices.append(token_to_index[\"<unk>\"])\n",
    "            else:\n",
    "                indices.append(token_to_index[user_token])\n",
    "            scores.append(user_token_score)\n",
    "    else:\n",
    "        tokens_scores = turn[\"system\"] + turn[\"user\"]\n",
    "        for token, score in tokens_scores:\n",
    "            if token not in token_to_index:\n",
    "                indices.append(token_to_index[\"<unk>\"])\n",
    "            else:\n",
    "                indices.append(token_to_index[token])\n",
    "            scores.append(score)\n",
    "            \n",
    "    assert len(indices) == len(scores)\n",
    "    \n",
    "    return torch.tensor(indices, dtype = torch.long, device = device), torch.tensor(scores, dtype = torch.float, device = device)\n",
    "\n",
    "# --------------------\n",
    "\n",
    "class EarlyStopping():\n",
    "    \n",
    "    def __init__(self, min_delta = 0, patience = 0):\n",
    "        \n",
    "        self.min_delta = min_delta\n",
    "        self.patience = patience\n",
    "        self.wait = 0\n",
    "        self.stopped_epoch = 0\n",
    "        self.best = -np.Inf\n",
    "        self.stop_training = False\n",
    "    \n",
    "    def on_epoch_end(self, epoch, current_value):\n",
    "        if np.greater((current_value - self.min_delta), self.best):\n",
    "            self.best = current_value\n",
    "            self.wait = 0\n",
    "        else:\n",
    "            self.wait += 1\n",
    "            if self.wait > self.patience:\n",
    "                self.stopped_epoch = epoch\n",
    "                self.stop_training = True\n",
    "        return self.stop_training\n",
    "\n",
    "# --------------------\n",
    "    \n",
    "def get_incremental_index_and_percentage(percentage, length):\n",
    "    \n",
    "    incremental_index = -1\n",
    "    new_percentage = None\n",
    "    \n",
    "    if length != 0:\n",
    "        incremental_index = int(np.around(percentage * length)) - 1\n",
    "        new_percentage = np.around(((incremental_index + 1) / length), decimals = 2)\n",
    "    \n",
    "    return incremental_index, new_percentage\n",
    "\n",
    "# --------------------\n",
    "\n",
    "def make_tracker(model_Goal, model_Requested, model_Method, raw_X, raw_Y, dataset, percentage = 1.0):\n",
    "    \n",
    "    model_Goal = model_Goal.eval()\n",
    "    model_Requested = model_Requested.eval()\n",
    "    model_Method = model_Method.eval()\n",
    "    \n",
    "    percentage_points = []\n",
    "    \n",
    "    with torch.no_grad():\n",
    "        tracker_json = {}\n",
    "        tracker_json[\"dataset\"] = dataset\n",
    "        tracker_json[\"sessions\"] = []\n",
    "\n",
    "        start_time = time.time()\n",
    "        \n",
    "        for raw_X_dialog, raw_Y_dialog in tqdm_notebook(zip(raw_X, raw_Y), total = len(raw_X)):\n",
    "            \n",
    "            model_Goal.hidden = model_Goal.init_hidden()\n",
    "            model_Requested.hidden = model_Requested.init_hidden()\n",
    "            model_Method.hidden = model_Method.init_hidden()\n",
    "            \n",
    "            session = {}\n",
    "            session[\"session-id\"] = raw_X_dialog[\"session-id\"]\n",
    "            session[\"turns\"] = []\n",
    "\n",
    "            for turn_num, (raw_X_turn, raw_Y_turn) in enumerate(zip(raw_X_dialog[\"turns\"], raw_Y_dialog[\"turns\"])):\n",
    "\n",
    "                indices, scores = get_index_and_score(raw_X_turn, token_to_index, mode = \"eval\", device = DEVICE)\n",
    "                \n",
    "                # NOTE: percentage is based on user utterance\n",
    "                incremental_index, new_percentage_point = get_incremental_index_and_percentage(percentage = percentage, length = len(raw_X_turn[\"user\"]))\n",
    "                incremental_index += len(raw_X_turn[\"system\"])\n",
    "                if new_percentage_point != None:\n",
    "                    percentage_points.append(new_percentage_point)\n",
    "                \n",
    "                goal_priceranges, goal_areas, goal_names, goal_foods = model_Goal(indices, scores)\n",
    "                requesteds = model_Requested(indices, scores)\n",
    "                methods = model_Method(indices, scores)\n",
    "                goal_pricerange = goal_priceranges[incremental_index]\n",
    "                goal_name = goal_names[incremental_index]\n",
    "                goal_area = goal_areas[incremental_index]\n",
    "                goal_food = goal_foods[incremental_index]\n",
    "                requested = requesteds[incremental_index]\n",
    "                method = methods[incremental_index]\n",
    "                \n",
    "                turn = {}\n",
    "                turn[\"num\"] = turn_num\n",
    "                turn[\"goal-labels\"] = {}\n",
    "                turn[\"goal-labels\"][\"food\"] = retrieve_output_GoalFood(goal_food, ontology)\n",
    "                turn[\"goal-labels\"][\"pricerange\"] = retrieve_output_GoalPricerange(goal_pricerange, ontology)\n",
    "                turn[\"goal-labels\"][\"name\"] = retrieve_output_GoalName(goal_name, ontology)\n",
    "                turn[\"goal-labels\"][\"area\"] = retrieve_output_GoalArea(goal_area, ontology)\n",
    "                turn[\"requested-slots\"] = retrieve_output_Requested(requested, ontology)\n",
    "                turn[\"method-label\"] = retrieve_output_Method(method, ontology)\n",
    "                \n",
    "                session[\"turns\"].append(turn)\n",
    "                \n",
    "            tracker_json[\"sessions\"].append(session)\n",
    "            \n",
    "        end_time = time.time()\n",
    "        tracker_json[\"wall-time\"] = end_time - start_time\n",
    "        \n",
    "        return tracker_json, np.around(np.mean(np.array(percentage_points)), decimals = 2)\n",
    "\n",
    "# --------------------\n",
    "    \n",
    "def get_scores(tracker, dataset, ontology):\n",
    "    \n",
    "    scores_dict = None\n",
    "\n",
    "    if dataset == \"dstc2_train\":\n",
    "        scores_dict = score.compute_score(dataset = \"dstc2_train\", dataroot = \"dstc2/dstc2_traindev/data\", tracker_output = tracker, ontology = ontology)\n",
    "    elif dataset == \"dstc2_dev\":\n",
    "        scores_dict = score.compute_score(dataset = \"dstc2_dev\", dataroot = \"dstc2/dstc2_traindev/data\", tracker_output = tracker, ontology = ontology)\n",
    "    else: # dataset == \"dstc2_test\"\n",
    "        scores_dict = score.compute_score(dataset = \"dstc2_test\", dataroot = \"dstc2/dstc2_test/data\", tracker_output = tracker, ontology = ontology)\n",
    "            \n",
    "    return scores_dict\n",
    "\n",
    "# --------------------\n",
    "\n",
    "def retrieve_gold_GoalPricerange(raw_Y, ontology, device):\n",
    "    ontology_informable_pricerange = ontology[\"informable\"][\"pricerange\"]\n",
    "    raw_goal_pricerange = raw_Y[\"goal\"][\"pricerange\"]\n",
    "    goal_pricerange = 0\n",
    "    if raw_goal_pricerange != None:\n",
    "        if raw_goal_pricerange == \"dontcare\":\n",
    "            goal_pricerange = 1\n",
    "        else:    \n",
    "            goal_pricerange = ontology_informable_pricerange.index(raw_goal_pricerange) + 2\n",
    "    return torch.tensor([goal_pricerange], dtype = torch.long, device = device)\n",
    "\n",
    "def retrieve_output_GoalPricerange(output_tensor, ontology):\n",
    "    ontology_informable_pricerange = ontology[\"informable\"][\"pricerange\"]\n",
    "    output_tensor = output_tensor.view(-1)\n",
    "    output_tensor = torch.exp(output_tensor)\n",
    "    goal_pricerange_dict = {}\n",
    "    goal_pricerange_dict[\"dontcare\"] = output_tensor[1].item()\n",
    "    for index in range(len(output_tensor) - 2):     \n",
    "        goal_pricerange_dict[ontology_informable_pricerange[index]] = output_tensor[index + 2].item()\n",
    "    return goal_pricerange_dict\n",
    "\n",
    "# --------------------\n",
    "\n",
    "def retrieve_gold_GoalArea(raw_Y, ontology, device):\n",
    "    ontology_informable_area = ontology[\"informable\"][\"area\"]\n",
    "    raw_goal_area = raw_Y[\"goal\"][\"area\"]\n",
    "    goal_area = 0\n",
    "    if raw_goal_area != None:\n",
    "        if raw_goal_area == \"dontcare\":\n",
    "            goal_area = 1\n",
    "        else:    \n",
    "            goal_area = ontology_informable_area.index(raw_goal_area) + 2\n",
    "    return torch.tensor([goal_area], dtype = torch.long, device = device)\n",
    "\n",
    "def retrieve_output_GoalArea(output_tensor, ontology):\n",
    "    ontology_informable_area = ontology[\"informable\"][\"area\"]\n",
    "    output_tensor = output_tensor.view(-1)\n",
    "    output_tensor = torch.exp(output_tensor)\n",
    "    goal_area_dict = {}\n",
    "    goal_area_dict[\"dontcare\"] = output_tensor[1].item()\n",
    "    for index in range(len(output_tensor) - 2):\n",
    "        goal_area_dict[ontology_informable_area[index]] = output_tensor[index + 2].item()\n",
    "    return goal_area_dict\n",
    "\n",
    "# --------------------\n",
    "\n",
    "def retrieve_gold_GoalName(raw_Y, ontology, device):\n",
    "    ontology_informable_name = ontology[\"informable\"][\"name\"]\n",
    "    raw_goal_name = raw_Y[\"goal\"][\"name\"]\n",
    "    goal_name = 0\n",
    "    if raw_goal_name != None:\n",
    "        if raw_goal_name == \"dontcare\":\n",
    "            goal_name = 1\n",
    "        else:    \n",
    "            goal_name = ontology_informable_name.index(raw_goal_name) + 2\n",
    "    return torch.tensor([goal_name], dtype = torch.long, device = device)\n",
    "\n",
    "def retrieve_output_GoalName(output_tensor, ontology):\n",
    "    ontology_informable_name = ontology[\"informable\"][\"name\"]\n",
    "    output_tensor = output_tensor.view(-1)\n",
    "    output_tensor = torch.exp(output_tensor)\n",
    "    goal_name_dict = {}\n",
    "    goal_name_dict[\"dontcare\"] = output_tensor[1].item()\n",
    "    for index in range(len(output_tensor) - 2):\n",
    "        goal_name_dict[ontology_informable_name[index]] = output_tensor[index + 2].item()\n",
    "    return goal_name_dict\n",
    "\n",
    "# --------------------\n",
    "\n",
    "def retrieve_gold_GoalFood(raw_Y, ontology, device):\n",
    "    ontology_informable_food = ontology[\"informable\"][\"food\"]\n",
    "    raw_goal_food = raw_Y[\"goal\"][\"food\"]\n",
    "    goal_food = 0\n",
    "    if raw_goal_food != None:\n",
    "        if raw_goal_food == \"dontcare\":\n",
    "            goal_food = 1\n",
    "        else:    \n",
    "            goal_food = ontology_informable_food.index(raw_goal_food) + 2\n",
    "    return torch.tensor([goal_food], dtype = torch.long, device = device)\n",
    "\n",
    "def retrieve_output_GoalFood(output_tensor, ontology):\n",
    "    ontology_informable_food = ontology[\"informable\"][\"food\"]\n",
    "    output_tensor = output_tensor.view(-1)\n",
    "    output_tensor = torch.exp(output_tensor)\n",
    "    goal_food_dict = {}\n",
    "    goal_food_dict[\"dontcare\"] = output_tensor[1].item() \n",
    "    for index in range(len(output_tensor) - 2):\n",
    "        goal_food_dict[ontology_informable_food[index]] = output_tensor[index + 2].item()\n",
    "    return goal_food_dict\n",
    "\n",
    "# --------------------\n",
    "\n",
    "def retrieve_gold_Requested(raw_Y, ontology, device):\n",
    "    ontology_requestable = ontology[\"requestable\"]\n",
    "    raw_gold_requested = raw_Y[\"requested\"]\n",
    "    gold_requested = np.zeros(len(ontology_requestable), dtype = float)\n",
    "    if len(raw_gold_requested) != 0:\n",
    "        for requested in raw_gold_requested:\n",
    "            gold_requested[ontology_requestable.index(requested)] = 1.0\n",
    "    return torch.tensor([gold_requested], dtype = torch.float, device = device)\n",
    "\n",
    "def retrieve_output_Requested(output_tensor, ontology):\n",
    "    ontology_requestable = ontology[\"requestable\"]\n",
    "    output_tensor = output_tensor.view(-1)\n",
    "    requested_dict = {}\n",
    "    for index in range(len(output_tensor)):\n",
    "        probability_value = output_tensor[index].item()\n",
    "        requested_dict[ontology_requestable[index]] = probability_value\n",
    "    return requested_dict\n",
    "\n",
    "# --------------------\n",
    "\n",
    "def retrieve_gold_Method(raw_Y, ontology, device):\n",
    "    ontology_method = ontology[\"method\"]\n",
    "    raw_gold_method = raw_Y[\"method\"]\n",
    "    gold_method = ontology_method.index(raw_gold_method)\n",
    "    return torch.tensor([gold_method], dtype = torch.long, device = device)\n",
    "\n",
    "def retrieve_output_Method(output_tensor, ontology):\n",
    "    ontology_method = ontology[\"method\"]\n",
    "    output_tensor = output_tensor.view(-1)\n",
    "    output_tensor = torch.exp(output_tensor)\n",
    "    method_dict = {}\n",
    "    for index in range(len(output_tensor)):\n",
    "        method_dict[ontology_method[index]] = output_tensor[index].item()\n",
    "    return method_dict"
   ]
  },
  {
   "cell_type": "markdown",
   "metadata": {},
   "source": [
    "### iDST Goal Model"
   ]
  },
  {
   "cell_type": "code",
   "execution_count": 8,
   "metadata": {},
   "outputs": [],
   "source": [
    "class iDSTGoalModel(nn.Module):\n",
    "    \n",
    "    def __init__(self, vocabulary_size, embedding_dim, altered_embedding_dim, hidden_dim,\n",
    "                 goal_pricerange_dim, goal_area_dim, goal_name_dim, goal_food_dim, device):\n",
    "        super(iDSTGoalModel, self).__init__()\n",
    "        self.hidden_dim = hidden_dim\n",
    "        self.device = device\n",
    "        self.goal_pricerange_dim = goal_pricerange_dim\n",
    "        self.goal_area_dim = goal_area_dim\n",
    "        self.goal_name_dim = goal_name_dim\n",
    "        self.goal_food_dim = goal_food_dim\n",
    "        self.embeddings = nn.Embedding(num_embeddings = vocabulary_size, embedding_dim = embedding_dim)\n",
    "        self.altered_embeddings = nn.Linear(in_features = (embedding_dim + 1), out_features = altered_embedding_dim) # +1 for the ASR-score\n",
    "        self.lstm = nn.LSTM(input_size = altered_embedding_dim, hidden_size = hidden_dim)\n",
    "        self.goal_pricerange_classifier = nn.Linear(in_features = hidden_dim, out_features = goal_pricerange_dim)\n",
    "        self.goal_area_classifier = nn.Linear(in_features = hidden_dim, out_features = goal_area_dim)\n",
    "        self.goal_name_classifier = nn.Linear(in_features = hidden_dim, out_features = goal_name_dim)\n",
    "        self.goal_food_classifier = nn.Linear(in_features = hidden_dim, out_features = goal_food_dim)\n",
    "        self.hidden = self.init_hidden()\n",
    "\n",
    "    def init_hidden(self):\n",
    "        return (torch.zeros(1, 1, self.hidden_dim, device = self.device),\n",
    "                torch.zeros(1, 1, self.hidden_dim, device = self.device))\n",
    "\n",
    "    def forward(self, indices, scores):\n",
    "        embeddings = self.embeddings(indices)\n",
    "        embeddings_concat_score = torch.cat((embeddings, scores.unsqueeze(dim = 1)), dim = 1) \n",
    "        altered_embeddings = F.relu(self.altered_embeddings(embeddings_concat_score))\n",
    "        lstm_out, self.hidden = self.lstm(altered_embeddings.view(len(indices), 1, -1), self.hidden)\n",
    "        goal_pricerange_output = F.log_softmax(self.goal_pricerange_classifier(lstm_out).view(-1, self.goal_pricerange_dim), dim = 1)\n",
    "        goal_area_output = F.log_softmax(self.goal_area_classifier(lstm_out).view(-1, self.goal_area_dim), dim = 1)\n",
    "        goal_name_output = F.log_softmax(self.goal_name_classifier(lstm_out).view(-1, self.goal_name_dim), dim = 1)\n",
    "        goal_food_output = F.log_softmax(self.goal_food_classifier(lstm_out).view(-1, self.goal_food_dim), dim = 1)\n",
    "        return goal_pricerange_output, goal_area_output, goal_name_output, goal_food_output"
   ]
  },
  {
   "cell_type": "markdown",
   "metadata": {},
   "source": [
    "### iDST Requested Model"
   ]
  },
  {
   "cell_type": "code",
   "execution_count": 9,
   "metadata": {},
   "outputs": [],
   "source": [
    "class iDSTRequestedModel(nn.Module):\n",
    "    \n",
    "    def __init__(self, vocabulary_size, embedding_dim, altered_embedding_dim, hidden_dim, requested_dim, device):\n",
    "        super(iDSTRequestedModel, self).__init__()\n",
    "        self.hidden_dim = hidden_dim\n",
    "        self.device = device\n",
    "        self.requested_dim = requested_dim\n",
    "        self.embeddings = nn.Embedding(num_embeddings = vocabulary_size, embedding_dim = embedding_dim)\n",
    "        self.altered_embeddings = nn.Linear(in_features = (embedding_dim + 1), out_features = altered_embedding_dim) # +1 for the ASR-score\n",
    "        self.lstm = nn.LSTM(input_size = altered_embedding_dim, hidden_size = hidden_dim)\n",
    "        self.requested_classifier = nn.Linear(in_features = hidden_dim, out_features = requested_dim)\n",
    "        self.hidden = self.init_hidden()\n",
    "\n",
    "    def init_hidden(self):\n",
    "        return (torch.zeros(1, 1, self.hidden_dim, device = self.device),\n",
    "                torch.zeros(1, 1, self.hidden_dim, device = self.device))\n",
    "\n",
    "    def forward(self, indices, scores):\n",
    "        embeddings = self.embeddings(indices)\n",
    "        embeddings_concat_score = torch.cat((embeddings, scores.unsqueeze(dim = 1)), dim = 1) \n",
    "        altered_embeddings = F.relu(self.altered_embeddings(embeddings_concat_score))\n",
    "        lstm_out, self.hidden = self.lstm(altered_embeddings.view(len(indices), 1, -1), self.hidden)\n",
    "        requested_output = torch.sigmoid(self.requested_classifier(lstm_out).view(-1, self.requested_dim))\n",
    "        return requested_output"
   ]
  },
  {
   "cell_type": "markdown",
   "metadata": {},
   "source": [
    "### iDST Method Model"
   ]
  },
  {
   "cell_type": "code",
   "execution_count": 10,
   "metadata": {},
   "outputs": [],
   "source": [
    "class iDSTMethodModel(nn.Module):\n",
    "    \n",
    "    def __init__(self, vocabulary_size, embedding_dim, altered_embedding_dim, hidden_dim, method_dim, device):\n",
    "        super(iDSTMethodModel, self).__init__()\n",
    "        self.hidden_dim = hidden_dim\n",
    "        self.device = device\n",
    "        self.method_dim = method_dim\n",
    "        self.embeddings = nn.Embedding(num_embeddings = vocabulary_size, embedding_dim = embedding_dim)\n",
    "        self.altered_embeddings = nn.Linear(in_features = (embedding_dim + 1), out_features = altered_embedding_dim) # +1 for the ASR-score\n",
    "        self.lstm = nn.LSTM(input_size = altered_embedding_dim, hidden_size = hidden_dim)\n",
    "        self.method_classifier = nn.Linear(in_features = hidden_dim, out_features = method_dim)\n",
    "        self.hidden = self.init_hidden()\n",
    "\n",
    "    def init_hidden(self):\n",
    "        return (torch.zeros(1, 1, self.hidden_dim, device = self.device),\n",
    "                torch.zeros(1, 1, self.hidden_dim, device = self.device))\n",
    "\n",
    "    def forward(self, indices, scores):\n",
    "        embeddings = self.embeddings(indices)\n",
    "        embeddings_concat_score = torch.cat((embeddings, scores.unsqueeze(dim = 1)), dim = 1) \n",
    "        altered_embeddings = F.relu(self.altered_embeddings(embeddings_concat_score))\n",
    "        lstm_out, self.hidden = self.lstm(altered_embeddings.view(len(indices), 1, -1), self.hidden)\n",
    "        method_output = F.log_softmax(self.method_classifier(lstm_out).view(-1, self.method_dim), dim = 1)\n",
    "        return method_output"
   ]
  },
  {
   "cell_type": "markdown",
   "metadata": {},
   "source": [
    "### iDST Goal Model"
   ]
  },
  {
   "cell_type": "code",
   "execution_count": 11,
   "metadata": {},
   "outputs": [],
   "source": [
    "model_Goal = iDSTGoalModel(vocabulary_size = VOCABULARY_SIZE,\n",
    "                           embedding_dim = EMBEDDING_DIM,\n",
    "                           altered_embedding_dim = ALTERED_EMBEDDING_DIM,\n",
    "                           hidden_dim = HIDDEN_DIM,\n",
    "                           goal_pricerange_dim = GOAL_PRICERANGE_DIM,\n",
    "                           goal_area_dim = GOAL_AREA_DIM,\n",
    "                           goal_name_dim = GOAL_NAME_DIM,\n",
    "                           goal_food_dim = GOAL_FOOD_DIM,\n",
    "                           device = DEVICE).to(DEVICE)\n",
    "optimizer_Goal = optim.Adam(model_Goal.parameters(), lr = 1e-3, amsgrad = True) "
   ]
  },
  {
   "cell_type": "markdown",
   "metadata": {},
   "source": [
    "### iDST Requested Model"
   ]
  },
  {
   "cell_type": "code",
   "execution_count": 12,
   "metadata": {},
   "outputs": [],
   "source": [
    "model_Requested = iDSTRequestedModel(vocabulary_size = VOCABULARY_SIZE,\n",
    "                                     embedding_dim = EMBEDDING_DIM,\n",
    "                                     altered_embedding_dim = ALTERED_EMBEDDING_DIM,\n",
    "                                     hidden_dim = HIDDEN_DIM,\n",
    "                                     requested_dim = REQUESTED_DIM,\n",
    "                                     device = DEVICE).to(DEVICE)\n",
    "optimizer_Requested = optim.Adam(model_Requested.parameters(), lr = 1e-3, amsgrad = True)"
   ]
  },
  {
   "cell_type": "markdown",
   "metadata": {},
   "source": [
    "### iDST Method Model"
   ]
  },
  {
   "cell_type": "code",
   "execution_count": 13,
   "metadata": {},
   "outputs": [],
   "source": [
    "model_Method = iDSTMethodModel(vocabulary_size = VOCABULARY_SIZE,\n",
    "                               embedding_dim = EMBEDDING_DIM,\n",
    "                               altered_embedding_dim = ALTERED_EMBEDDING_DIM,\n",
    "                               hidden_dim = HIDDEN_DIM,\n",
    "                               method_dim = METHOD_DIM,\n",
    "                               device = DEVICE).to(DEVICE)\n",
    "optimizer_Method = optim.Adam(model_Method.parameters(), lr = 1e-3, amsgrad = True)"
   ]
  },
  {
   "cell_type": "markdown",
   "metadata": {},
   "source": [
    "### Train iDST Model"
   ]
  },
  {
   "cell_type": "code",
   "execution_count": 14,
   "metadata": {
    "scrolled": false
   },
   "outputs": [
    {
     "name": "stderr",
     "output_type": "stream",
     "text": [
      "INFO:root:Epoch\t1/100\n"
     ]
    },
    {
     "data": {
      "application/vnd.jupyter.widget-view+json": {
       "model_id": "f50cec3049754268a90427bb66a522b7",
       "version_major": 2,
       "version_minor": 0
      },
      "text/plain": [
       "HBox(children=(IntProgress(value=0, max=162), HTML(value='')))"
      ]
     },
     "metadata": {},
     "output_type": "display_data"
    },
    {
     "name": "stdout",
     "output_type": "stream",
     "text": [
      "\n"
     ]
    },
    {
     "data": {
      "application/vnd.jupyter.widget-view+json": {
       "model_id": "2c1c156f099d430eb988388969a0b1c0",
       "version_major": 2,
       "version_minor": 0
      },
      "text/plain": [
       "HBox(children=(IntProgress(value=0, max=506), HTML(value='')))"
      ]
     },
     "metadata": {},
     "output_type": "display_data"
    },
    {
     "name": "stdout",
     "output_type": "stream",
     "text": [
      "\n"
     ]
    },
    {
     "name": "stderr",
     "output_type": "stream",
     "text": [
      "INFO:root:{'goal_food_accuracy': 0.1031957, 'goal_food_l2': 0.9286195, 'goal_pricerange_accuracy': 0.3474272, 'goal_pricerange_l2': 0.7479646, 'goal_name_accuracy': 0.9065421, 'goal_name_l2': 0.1858112, 'goal_area_accuracy': 0.2970949, 'goal_area_l2': 0.8003528, 'goal_joint_accuracy': 0.0604797, 'goal_joint_l2': 0.9888431, 'requested_all_accuracy': 0.8200505, 'requested_all_l2': 0.3613305, 'method_accuracy': 0.8688567, 'method_l2': 0.2147554}\n",
      "INFO:root:Epoch\t2/100\n"
     ]
    },
    {
     "data": {
      "application/vnd.jupyter.widget-view+json": {
       "model_id": "0c41edee39a449349a32a41dd05f206a",
       "version_major": 2,
       "version_minor": 0
      },
      "text/plain": [
       "HBox(children=(IntProgress(value=0, max=162), HTML(value='')))"
      ]
     },
     "metadata": {},
     "output_type": "display_data"
    },
    {
     "name": "stdout",
     "output_type": "stream",
     "text": [
      "\n"
     ]
    },
    {
     "data": {
      "application/vnd.jupyter.widget-view+json": {
       "model_id": "3dc499b2100e4e29a44495cd535edeec",
       "version_major": 2,
       "version_minor": 0
      },
      "text/plain": [
       "HBox(children=(IntProgress(value=0, max=506), HTML(value='')))"
      ]
     },
     "metadata": {},
     "output_type": "display_data"
    },
    {
     "name": "stdout",
     "output_type": "stream",
     "text": [
      "\n"
     ]
    },
    {
     "name": "stderr",
     "output_type": "stream",
     "text": [
      "INFO:root:{'goal_food_accuracy': 0.2223702, 'goal_food_l2': 0.8683231, 'goal_pricerange_accuracy': 0.7638612, 'goal_pricerange_l2': 0.3919706, 'goal_name_accuracy': 0.9065421, 'goal_name_l2': 0.1849702, 'goal_area_accuracy': 0.5073375, 'goal_area_l2': 0.6886395, 'goal_joint_accuracy': 0.1558916, 'goal_joint_l2': 0.9573842, 'requested_all_accuracy': 0.8276235, 'requested_all_l2': 0.3035484, 'method_accuracy': 0.8848939, 'method_l2': 0.1873177}\n",
      "INFO:root:Epoch\t3/100\n"
     ]
    },
    {
     "data": {
      "application/vnd.jupyter.widget-view+json": {
       "model_id": "cd9bd41327754ae1a1b57c308ab3eab1",
       "version_major": 2,
       "version_minor": 0
      },
      "text/plain": [
       "HBox(children=(IntProgress(value=0, max=162), HTML(value='')))"
      ]
     },
     "metadata": {},
     "output_type": "display_data"
    },
    {
     "name": "stdout",
     "output_type": "stream",
     "text": [
      "\n"
     ]
    },
    {
     "data": {
      "application/vnd.jupyter.widget-view+json": {
       "model_id": "c1e95f8fc98e4cf9982234fc3444b7d0",
       "version_major": 2,
       "version_minor": 0
      },
      "text/plain": [
       "HBox(children=(IntProgress(value=0, max=506), HTML(value='')))"
      ]
     },
     "metadata": {},
     "output_type": "display_data"
    },
    {
     "name": "stdout",
     "output_type": "stream",
     "text": [
      "\n"
     ]
    },
    {
     "name": "stderr",
     "output_type": "stream",
     "text": [
      "INFO:root:{'goal_food_accuracy': 0.2509987, 'goal_food_l2': 0.8328773, 'goal_pricerange_accuracy': 0.8579976, 'goal_pricerange_l2': 0.266768, 'goal_name_accuracy': 0.9065421, 'goal_name_l2': 0.1850146, 'goal_area_accuracy': 0.7334531, 'goal_area_l2': 0.5002961, 'goal_joint_accuracy': 0.234098, 'goal_joint_l2': 0.9074177, 'requested_all_accuracy': 0.8420483, 'requested_all_l2': 0.2394139, 'method_accuracy': 0.8859286, 'method_l2': 0.1862747}\n",
      "INFO:root:Epoch\t4/100\n"
     ]
    },
    {
     "data": {
      "application/vnd.jupyter.widget-view+json": {
       "model_id": "402323a3c0944e09bf84563de48ae13a",
       "version_major": 2,
       "version_minor": 0
      },
      "text/plain": [
       "HBox(children=(IntProgress(value=0, max=162), HTML(value='')))"
      ]
     },
     "metadata": {},
     "output_type": "display_data"
    },
    {
     "name": "stdout",
     "output_type": "stream",
     "text": [
      "\n"
     ]
    },
    {
     "data": {
      "application/vnd.jupyter.widget-view+json": {
       "model_id": "3f8359177fb54f21a8be2a0aa4d96dc1",
       "version_major": 2,
       "version_minor": 0
      },
      "text/plain": [
       "HBox(children=(IntProgress(value=0, max=506), HTML(value='')))"
      ]
     },
     "metadata": {},
     "output_type": "display_data"
    },
    {
     "name": "stdout",
     "output_type": "stream",
     "text": [
      "\n"
     ]
    },
    {
     "name": "stderr",
     "output_type": "stream",
     "text": [
      "INFO:root:{'goal_food_accuracy': 0.3225699, 'goal_food_l2': 0.7973888, 'goal_pricerange_accuracy': 0.8647786, 'goal_pricerange_l2': 0.2363279, 'goal_name_accuracy': 0.9065421, 'goal_name_l2': 0.185148, 'goal_area_accuracy': 0.7867625, 'goal_area_l2': 0.3808392, 'goal_joint_accuracy': 0.3086548, 'goal_joint_l2': 0.8479844, 'requested_all_accuracy': 0.8748648, 'requested_all_l2': 0.1876968, 'method_accuracy': 0.8804966, 'method_l2': 0.1928232}\n",
      "INFO:root:Epoch\t5/100\n"
     ]
    },
    {
     "data": {
      "application/vnd.jupyter.widget-view+json": {
       "model_id": "eaed18d5e6744384b7086ebf510ca23b",
       "version_major": 2,
       "version_minor": 0
      },
      "text/plain": [
       "HBox(children=(IntProgress(value=0, max=162), HTML(value='')))"
      ]
     },
     "metadata": {},
     "output_type": "display_data"
    },
    {
     "name": "stdout",
     "output_type": "stream",
     "text": [
      "\n"
     ]
    },
    {
     "data": {
      "application/vnd.jupyter.widget-view+json": {
       "model_id": "0ae06ad280474445b9af71bf546e2059",
       "version_major": 2,
       "version_minor": 0
      },
      "text/plain": [
       "HBox(children=(IntProgress(value=0, max=506), HTML(value='')))"
      ]
     },
     "metadata": {},
     "output_type": "display_data"
    },
    {
     "name": "stdout",
     "output_type": "stream",
     "text": [
      "\n"
     ]
    },
    {
     "name": "stderr",
     "output_type": "stream",
     "text": [
      "INFO:root:{'goal_food_accuracy': 0.4234354, 'goal_food_l2': 0.7643543, 'goal_pricerange_accuracy': 0.8639809, 'goal_pricerange_l2': 0.2265727, 'goal_name_accuracy': 0.9065421, 'goal_name_l2': 0.1858947, 'goal_area_accuracy': 0.7948488, 'goal_area_l2': 0.3272511, 'goal_joint_accuracy': 0.3639208, 'goal_joint_l2': 0.8127175, 'requested_all_accuracy': 0.8903714, 'requested_all_l2': 0.1605657, 'method_accuracy': 0.8939472, 'method_l2': 0.1768671}\n",
      "INFO:root:Epoch\t6/100\n"
     ]
    },
    {
     "data": {
      "application/vnd.jupyter.widget-view+json": {
       "model_id": "cd9244c577e4490a81a6082e44b20453",
       "version_major": 2,
       "version_minor": 0
      },
      "text/plain": [
       "HBox(children=(IntProgress(value=0, max=162), HTML(value='')))"
      ]
     },
     "metadata": {},
     "output_type": "display_data"
    },
    {
     "name": "stdout",
     "output_type": "stream",
     "text": [
      "\n"
     ]
    },
    {
     "data": {
      "application/vnd.jupyter.widget-view+json": {
       "model_id": "d3cdae6a6ed64b63ab7dd413ed32f0c2",
       "version_major": 2,
       "version_minor": 0
      },
      "text/plain": [
       "HBox(children=(IntProgress(value=0, max=506), HTML(value='')))"
      ]
     },
     "metadata": {},
     "output_type": "display_data"
    },
    {
     "name": "stdout",
     "output_type": "stream",
     "text": [
      "\n"
     ]
    },
    {
     "name": "stderr",
     "output_type": "stream",
     "text": [
      "INFO:root:{'goal_food_accuracy': 0.4523968, 'goal_food_l2': 0.7327318, 'goal_pricerange_accuracy': 0.8524132, 'goal_pricerange_l2': 0.2420312, 'goal_name_accuracy': 0.9065421, 'goal_name_l2': 0.1859351, 'goal_area_accuracy': 0.8071279, 'goal_area_l2': 0.3118453, 'goal_joint_accuracy': 0.3847758, 'goal_joint_l2': 0.8020966, 'requested_all_accuracy': 0.8997476, 'requested_all_l2': 0.1573549, 'method_accuracy': 0.8923952, 'method_l2': 0.1773535}\n",
      "INFO:root:Epoch\t7/100\n"
     ]
    },
    {
     "data": {
      "application/vnd.jupyter.widget-view+json": {
       "model_id": "fb86a27e10324f3e813c2aa2afbaa0ad",
       "version_major": 2,
       "version_minor": 0
      },
      "text/plain": [
       "HBox(children=(IntProgress(value=0, max=162), HTML(value='')))"
      ]
     },
     "metadata": {},
     "output_type": "display_data"
    },
    {
     "name": "stdout",
     "output_type": "stream",
     "text": [
      "\n"
     ]
    },
    {
     "data": {
      "application/vnd.jupyter.widget-view+json": {
       "model_id": "e58d9e0c8ddc4746b33330b7e6ced446",
       "version_major": 2,
       "version_minor": 0
      },
      "text/plain": [
       "HBox(children=(IntProgress(value=0, max=506), HTML(value='')))"
      ]
     },
     "metadata": {},
     "output_type": "display_data"
    },
    {
     "name": "stdout",
     "output_type": "stream",
     "text": [
      "\n"
     ]
    },
    {
     "name": "stderr",
     "output_type": "stream",
     "text": [
      "INFO:root:{'goal_food_accuracy': 0.5086551, 'goal_food_l2': 0.6946995, 'goal_pricerange_accuracy': 0.8548065, 'goal_pricerange_l2': 0.2231523, 'goal_name_accuracy': 0.9065421, 'goal_name_l2': 0.1861302, 'goal_area_accuracy': 0.8161126, 'goal_area_l2': 0.2916003, 'goal_joint_accuracy': 0.4223149, 'goal_joint_l2': 0.7713669, 'requested_all_accuracy': 0.9065994, 'requested_all_l2': 0.140435, 'method_accuracy': 0.8957579, 'method_l2': 0.1765504}\n",
      "INFO:root:Epoch\t8/100\n"
     ]
    },
    {
     "data": {
      "application/vnd.jupyter.widget-view+json": {
       "model_id": "4836bb58b2e1467e941f3f7d49258a47",
       "version_major": 2,
       "version_minor": 0
      },
      "text/plain": [
       "HBox(children=(IntProgress(value=0, max=162), HTML(value='')))"
      ]
     },
     "metadata": {},
     "output_type": "display_data"
    },
    {
     "name": "stdout",
     "output_type": "stream",
     "text": [
      "\n"
     ]
    },
    {
     "data": {
      "application/vnd.jupyter.widget-view+json": {
       "model_id": "8731997ead4141e193bbaefefffc6592",
       "version_major": 2,
       "version_minor": 0
      },
      "text/plain": [
       "HBox(children=(IntProgress(value=0, max=506), HTML(value='')))"
      ]
     },
     "metadata": {},
     "output_type": "display_data"
    },
    {
     "name": "stdout",
     "output_type": "stream",
     "text": [
      "\n"
     ]
    },
    {
     "name": "stderr",
     "output_type": "stream",
     "text": [
      "INFO:root:{'goal_food_accuracy': 0.5412783, 'goal_food_l2': 0.6700548, 'goal_pricerange_accuracy': 0.8691663, 'goal_pricerange_l2': 0.20688, 'goal_name_accuracy': 0.9065421, 'goal_name_l2': 0.1863374, 'goal_area_accuracy': 0.7939503, 'goal_area_l2': 0.3188394, 'goal_joint_accuracy': 0.4369135, 'goal_joint_l2': 0.7621302, 'requested_all_accuracy': 0.911648, 'requested_all_l2': 0.1266293, 'method_accuracy': 0.8934299, 'method_l2': 0.180618}\n",
      "INFO:root:Epoch\t9/100\n"
     ]
    },
    {
     "data": {
      "application/vnd.jupyter.widget-view+json": {
       "model_id": "6365b491546c44adbd13da4921056976",
       "version_major": 2,
       "version_minor": 0
      },
      "text/plain": [
       "HBox(children=(IntProgress(value=0, max=162), HTML(value='')))"
      ]
     },
     "metadata": {},
     "output_type": "display_data"
    },
    {
     "name": "stdout",
     "output_type": "stream",
     "text": [
      "\n"
     ]
    },
    {
     "data": {
      "application/vnd.jupyter.widget-view+json": {
       "model_id": "ddc412f119134261a07f8ccde0064cd8",
       "version_major": 2,
       "version_minor": 0
      },
      "text/plain": [
       "HBox(children=(IntProgress(value=0, max=506), HTML(value='')))"
      ]
     },
     "metadata": {},
     "output_type": "display_data"
    },
    {
     "name": "stdout",
     "output_type": "stream",
     "text": [
      "\n"
     ]
    },
    {
     "name": "stderr",
     "output_type": "stream",
     "text": [
      "INFO:root:{'goal_food_accuracy': 0.5862184, 'goal_food_l2': 0.6158335, 'goal_pricerange_accuracy': 0.8711607, 'goal_pricerange_l2': 0.210741, 'goal_name_accuracy': 0.9065421, 'goal_name_l2': 0.1863987, 'goal_area_accuracy': 0.7975442, 'goal_area_l2': 0.3106865, 'goal_joint_accuracy': 0.4697602, 'goal_joint_l2': 0.7308752, 'requested_all_accuracy': 0.9123693, 'requested_all_l2': 0.1323117, 'method_accuracy': 0.8895499, 'method_l2': 0.1842916}\n",
      "INFO:root:Epoch\t10/100\n"
     ]
    },
    {
     "data": {
      "application/vnd.jupyter.widget-view+json": {
       "model_id": "73b57af76db74eefa06fdf1a2d5ecbfd",
       "version_major": 2,
       "version_minor": 0
      },
      "text/plain": [
       "HBox(children=(IntProgress(value=0, max=162), HTML(value='')))"
      ]
     },
     "metadata": {},
     "output_type": "display_data"
    },
    {
     "name": "stdout",
     "output_type": "stream",
     "text": [
      "\n"
     ]
    },
    {
     "data": {
      "application/vnd.jupyter.widget-view+json": {
       "model_id": "e1ff8425911c44e3ac785133b66f8ee7",
       "version_major": 2,
       "version_minor": 0
      },
      "text/plain": [
       "HBox(children=(IntProgress(value=0, max=506), HTML(value='')))"
      ]
     },
     "metadata": {},
     "output_type": "display_data"
    },
    {
     "name": "stdout",
     "output_type": "stream",
     "text": [
      "\n"
     ]
    },
    {
     "name": "stderr",
     "output_type": "stream",
     "text": [
      "INFO:root:{'goal_food_accuracy': 0.6015313, 'goal_food_l2': 0.5925441, 'goal_pricerange_accuracy': 0.8627842, 'goal_pricerange_l2': 0.2115276, 'goal_name_accuracy': 0.9065421, 'goal_name_l2': 0.1865026, 'goal_area_accuracy': 0.8146152, 'goal_area_l2': 0.2845963, 'goal_joint_accuracy': 0.4825339, 'goal_joint_l2': 0.7136254, 'requested_all_accuracy': 0.9203029, 'requested_all_l2': 0.1154989, 'method_accuracy': 0.8864459, 'method_l2': 0.1796189}\n",
      "INFO:root:Epoch\t11/100\n"
     ]
    },
    {
     "data": {
      "application/vnd.jupyter.widget-view+json": {
       "model_id": "e578d61a3cf84b79b61284b23af7d9ce",
       "version_major": 2,
       "version_minor": 0
      },
      "text/plain": [
       "HBox(children=(IntProgress(value=0, max=162), HTML(value='')))"
      ]
     },
     "metadata": {},
     "output_type": "display_data"
    },
    {
     "name": "stdout",
     "output_type": "stream",
     "text": [
      "\n"
     ]
    },
    {
     "data": {
      "application/vnd.jupyter.widget-view+json": {
       "model_id": "ee33d481bb5641a9a403396e814240b2",
       "version_major": 2,
       "version_minor": 0
      },
      "text/plain": [
       "HBox(children=(IntProgress(value=0, max=506), HTML(value='')))"
      ]
     },
     "metadata": {},
     "output_type": "display_data"
    },
    {
     "name": "stdout",
     "output_type": "stream",
     "text": [
      "\n"
     ]
    },
    {
     "name": "stderr",
     "output_type": "stream",
     "text": [
      "INFO:root:{'goal_food_accuracy': 0.6208389, 'goal_food_l2': 0.5591802, 'goal_pricerange_accuracy': 0.8540088, 'goal_pricerange_l2': 0.2242509, 'goal_name_accuracy': 0.9065421, 'goal_name_l2': 0.1865261, 'goal_area_accuracy': 0.8026355, 'goal_area_l2': 0.2937568, 'goal_joint_accuracy': 0.4812304, 'goal_joint_l2': 0.6994717, 'requested_all_accuracy': 0.9203029, 'requested_all_l2': 0.1170027, 'method_accuracy': 0.8892913, 'method_l2': 0.1822963}\n",
      "INFO:root:Epoch\t12/100\n"
     ]
    },
    {
     "data": {
      "application/vnd.jupyter.widget-view+json": {
       "model_id": "fd5283adf9d947fea3951e7a6aaa2d60",
       "version_major": 2,
       "version_minor": 0
      },
      "text/plain": [
       "HBox(children=(IntProgress(value=0, max=162), HTML(value='')))"
      ]
     },
     "metadata": {},
     "output_type": "display_data"
    },
    {
     "name": "stdout",
     "output_type": "stream",
     "text": [
      "\n"
     ]
    },
    {
     "data": {
      "application/vnd.jupyter.widget-view+json": {
       "model_id": "52dc7a6cd4ee4b51a4edb3a0ec8535ee",
       "version_major": 2,
       "version_minor": 0
      },
      "text/plain": [
       "HBox(children=(IntProgress(value=0, max=506), HTML(value='')))"
      ]
     },
     "metadata": {},
     "output_type": "display_data"
    },
    {
     "name": "stdout",
     "output_type": "stream",
     "text": [
      "\n"
     ]
    },
    {
     "name": "stderr",
     "output_type": "stream",
     "text": [
      "INFO:root:{'goal_food_accuracy': 0.6215047, 'goal_food_l2': 0.5565116, 'goal_pricerange_accuracy': 0.8556043, 'goal_pricerange_l2': 0.2171159, 'goal_name_accuracy': 0.9065421, 'goal_name_l2': 0.1865513, 'goal_area_accuracy': 0.7918538, 'goal_area_l2': 0.302817, 'goal_joint_accuracy': 0.488269, 'goal_joint_l2': 0.6866501, 'requested_all_accuracy': 0.9275153, 'requested_all_l2': 0.1063185, 'method_accuracy': 0.8799793, 'method_l2': 0.1890658}\n",
      "INFO:root:Epoch\t13/100\n"
     ]
    },
    {
     "data": {
      "application/vnd.jupyter.widget-view+json": {
       "model_id": "b4e509b120e8458fb38a9db575800088",
       "version_major": 2,
       "version_minor": 0
      },
      "text/plain": [
       "HBox(children=(IntProgress(value=0, max=162), HTML(value='')))"
      ]
     },
     "metadata": {},
     "output_type": "display_data"
    },
    {
     "name": "stdout",
     "output_type": "stream",
     "text": [
      "\n"
     ]
    },
    {
     "data": {
      "application/vnd.jupyter.widget-view+json": {
       "model_id": "83938f10febb4a8cb7b749aa0d35ae94",
       "version_major": 2,
       "version_minor": 0
      },
      "text/plain": [
       "HBox(children=(IntProgress(value=0, max=506), HTML(value='')))"
      ]
     },
     "metadata": {},
     "output_type": "display_data"
    },
    {
     "name": "stdout",
     "output_type": "stream",
     "text": [
      "\n"
     ]
    },
    {
     "name": "stderr",
     "output_type": "stream",
     "text": [
      "INFO:root:{'goal_food_accuracy': 0.6341545, 'goal_food_l2': 0.5394833, 'goal_pricerange_accuracy': 0.8504188, 'goal_pricerange_l2': 0.2307159, 'goal_name_accuracy': 0.9065421, 'goal_name_l2': 0.1866135, 'goal_area_accuracy': 0.818209, 'goal_area_l2': 0.2792657, 'goal_joint_accuracy': 0.5059958, 'goal_joint_l2': 0.6739655, 'requested_all_accuracy': 0.9267941, 'requested_all_l2': 0.1045064, 'method_accuracy': 0.8799793, 'method_l2': 0.1890658}\n",
      "INFO:root:Epoch\t14/100\n"
     ]
    },
    {
     "data": {
      "application/vnd.jupyter.widget-view+json": {
       "model_id": "ad54c485cf3245c69f5eb02622ee6764",
       "version_major": 2,
       "version_minor": 0
      },
      "text/plain": [
       "HBox(children=(IntProgress(value=0, max=162), HTML(value='')))"
      ]
     },
     "metadata": {},
     "output_type": "display_data"
    },
    {
     "name": "stdout",
     "output_type": "stream",
     "text": [
      "\n"
     ]
    },
    {
     "data": {
      "application/vnd.jupyter.widget-view+json": {
       "model_id": "e952357b0d004384a80c4e5b09119499",
       "version_major": 2,
       "version_minor": 0
      },
      "text/plain": [
       "HBox(children=(IntProgress(value=0, max=506), HTML(value='')))"
      ]
     },
     "metadata": {},
     "output_type": "display_data"
    },
    {
     "name": "stdout",
     "output_type": "stream",
     "text": [
      "\n"
     ]
    },
    {
     "name": "stderr",
     "output_type": "stream",
     "text": [
      "INFO:root:{'goal_food_accuracy': 0.6468043, 'goal_food_l2': 0.5160114, 'goal_pricerange_accuracy': 0.8767451, 'goal_pricerange_l2': 0.195952, 'goal_name_accuracy': 0.9065421, 'goal_name_l2': 0.1867095, 'goal_area_accuracy': 0.8092243, 'goal_area_l2': 0.2873659, 'goal_joint_accuracy': 0.5172054, 'goal_joint_l2': 0.6614744, 'requested_all_accuracy': 0.9361702, 'requested_all_l2': 0.0975233, 'method_accuracy': 0.8799793, 'method_l2': 0.1890658}\n",
      "INFO:root:Epoch\t15/100\n"
     ]
    },
    {
     "data": {
      "application/vnd.jupyter.widget-view+json": {
       "model_id": "3bd2300d32e545ebb2115e6770215732",
       "version_major": 2,
       "version_minor": 0
      },
      "text/plain": [
       "HBox(children=(IntProgress(value=0, max=162), HTML(value='')))"
      ]
     },
     "metadata": {},
     "output_type": "display_data"
    },
    {
     "name": "stdout",
     "output_type": "stream",
     "text": [
      "\n"
     ]
    },
    {
     "data": {
      "application/vnd.jupyter.widget-view+json": {
       "model_id": "9ced6ae469f4413abd1b5f28b2a26560",
       "version_major": 2,
       "version_minor": 0
      },
      "text/plain": [
       "HBox(children=(IntProgress(value=0, max=506), HTML(value='')))"
      ]
     },
     "metadata": {},
     "output_type": "display_data"
    },
    {
     "name": "stdout",
     "output_type": "stream",
     "text": [
      "\n"
     ]
    },
    {
     "name": "stderr",
     "output_type": "stream",
     "text": [
      "INFO:root:{'goal_food_accuracy': 0.6494674, 'goal_food_l2': 0.5053714, 'goal_pricerange_accuracy': 0.8787395, 'goal_pricerange_l2': 0.1974431, 'goal_name_accuracy': 0.9065421, 'goal_name_l2': 0.1867762, 'goal_area_accuracy': 0.8134172, 'goal_area_l2': 0.2804946, 'goal_joint_accuracy': 0.5182482, 'goal_joint_l2': 0.6538431, 'requested_all_accuracy': 0.9379733, 'requested_all_l2': 0.0967014, 'method_accuracy': 0.8799793, 'method_l2': 0.1890658}\n",
      "INFO:root:Epoch\t16/100\n"
     ]
    },
    {
     "data": {
      "application/vnd.jupyter.widget-view+json": {
       "model_id": "97970e0bd3c34aaca4e6a1a42735ef59",
       "version_major": 2,
       "version_minor": 0
      },
      "text/plain": [
       "HBox(children=(IntProgress(value=0, max=162), HTML(value='')))"
      ]
     },
     "metadata": {},
     "output_type": "display_data"
    },
    {
     "name": "stdout",
     "output_type": "stream",
     "text": [
      "\n"
     ]
    },
    {
     "data": {
      "application/vnd.jupyter.widget-view+json": {
       "model_id": "ba6e197eba8f4b71bc8f641ef5e9ec7c",
       "version_major": 2,
       "version_minor": 0
      },
      "text/plain": [
       "HBox(children=(IntProgress(value=0, max=506), HTML(value='')))"
      ]
     },
     "metadata": {},
     "output_type": "display_data"
    },
    {
     "name": "stdout",
     "output_type": "stream",
     "text": [
      "\n"
     ]
    },
    {
     "name": "stderr",
     "output_type": "stream",
     "text": [
      "INFO:root:{'goal_food_accuracy': 0.6378162, 'goal_food_l2': 0.5157638, 'goal_pricerange_accuracy': 0.8843239, 'goal_pricerange_l2': 0.1915516, 'goal_name_accuracy': 0.9065421, 'goal_name_l2': 0.1867723, 'goal_area_accuracy': 0.818209, 'goal_area_l2': 0.2729011, 'goal_joint_accuracy': 0.5122523, 'goal_joint_l2': 0.6570299, 'requested_all_accuracy': 0.9386946, 'requested_all_l2': 0.0927647, 'method_accuracy': 0.8799793, 'method_l2': 0.1890658}\n",
      "INFO:root:Epoch\t17/100\n"
     ]
    },
    {
     "data": {
      "application/vnd.jupyter.widget-view+json": {
       "model_id": "214319b9b95a452d8e292e6ef902b6d9",
       "version_major": 2,
       "version_minor": 0
      },
      "text/plain": [
       "HBox(children=(IntProgress(value=0, max=162), HTML(value='')))"
      ]
     },
     "metadata": {},
     "output_type": "display_data"
    },
    {
     "name": "stdout",
     "output_type": "stream",
     "text": [
      "\n"
     ]
    },
    {
     "data": {
      "application/vnd.jupyter.widget-view+json": {
       "model_id": "4a9ff238cf0a489297f82d6fa4c88de9",
       "version_major": 2,
       "version_minor": 0
      },
      "text/plain": [
       "HBox(children=(IntProgress(value=0, max=506), HTML(value='')))"
      ]
     },
     "metadata": {},
     "output_type": "display_data"
    },
    {
     "name": "stdout",
     "output_type": "stream",
     "text": [
      "\n"
     ]
    },
    {
     "name": "stderr",
     "output_type": "stream",
     "text": [
      "INFO:root:{'goal_food_accuracy': 0.6401465, 'goal_food_l2': 0.5126897, 'goal_pricerange_accuracy': 0.8715596, 'goal_pricerange_l2': 0.2058647, 'goal_name_accuracy': 0.9065421, 'goal_name_l2': 0.1867667, 'goal_area_accuracy': 0.8179096, 'goal_area_l2': 0.2736294, 'goal_joint_accuracy': 0.5153806, 'goal_joint_l2': 0.6563696, 'requested_all_accuracy': 0.940137, 'requested_all_l2': 0.0961814, 'method_accuracy': 0.8799793, 'method_l2': 0.1890658}\n",
      "INFO:root:Epoch\t18/100\n"
     ]
    },
    {
     "data": {
      "application/vnd.jupyter.widget-view+json": {
       "model_id": "99632b6e1ee8423384ac2f72f21c1cc0",
       "version_major": 2,
       "version_minor": 0
      },
      "text/plain": [
       "HBox(children=(IntProgress(value=0, max=162), HTML(value='')))"
      ]
     },
     "metadata": {},
     "output_type": "display_data"
    },
    {
     "name": "stdout",
     "output_type": "stream",
     "text": [
      "\n"
     ]
    },
    {
     "data": {
      "application/vnd.jupyter.widget-view+json": {
       "model_id": "0df15fea95b74aac872dae5c1403d0b8",
       "version_major": 2,
       "version_minor": 0
      },
      "text/plain": [
       "HBox(children=(IntProgress(value=0, max=506), HTML(value='')))"
      ]
     },
     "metadata": {},
     "output_type": "display_data"
    },
    {
     "name": "stdout",
     "output_type": "stream",
     "text": [
      "\n"
     ]
    },
    {
     "name": "stderr",
     "output_type": "stream",
     "text": [
      "INFO:root:{'goal_food_accuracy': 0.6601198, 'goal_food_l2': 0.4763184, 'goal_pricerange_accuracy': 0.8675708, 'goal_pricerange_l2': 0.2118266, 'goal_name_accuracy': 0.9065421, 'goal_name_l2': 0.1867711, 'goal_area_accuracy': 0.8203055, 'goal_area_l2': 0.2760618, 'goal_joint_accuracy': 0.5265902, 'goal_joint_l2': 0.6387249, 'requested_all_accuracy': 0.9441039, 'requested_all_l2': 0.0902366, 'method_accuracy': 0.8799793, 'method_l2': 0.1890658}\n",
      "INFO:root:Epoch\t19/100\n"
     ]
    },
    {
     "data": {
      "application/vnd.jupyter.widget-view+json": {
       "model_id": "6d99e6f341a645318ab655eaa4732484",
       "version_major": 2,
       "version_minor": 0
      },
      "text/plain": [
       "HBox(children=(IntProgress(value=0, max=162), HTML(value='')))"
      ]
     },
     "metadata": {},
     "output_type": "display_data"
    },
    {
     "name": "stdout",
     "output_type": "stream",
     "text": [
      "\n"
     ]
    },
    {
     "data": {
      "application/vnd.jupyter.widget-view+json": {
       "model_id": "89ea6edc2ebd4a93bff695b53e2b62cc",
       "version_major": 2,
       "version_minor": 0
      },
      "text/plain": [
       "HBox(children=(IntProgress(value=0, max=506), HTML(value='')))"
      ]
     },
     "metadata": {},
     "output_type": "display_data"
    },
    {
     "name": "stdout",
     "output_type": "stream",
     "text": [
      "\n"
     ]
    },
    {
     "name": "stderr",
     "output_type": "stream",
     "text": [
      "INFO:root:{'goal_food_accuracy': 0.662783, 'goal_food_l2': 0.4737349, 'goal_pricerange_accuracy': 0.8675708, 'goal_pricerange_l2': 0.2149619, 'goal_name_accuracy': 0.9065421, 'goal_name_l2': 0.1868438, 'goal_area_accuracy': 0.8271938, 'goal_area_l2': 0.2737893, 'goal_joint_accuracy': 0.5294578, 'goal_joint_l2': 0.6356316, 'requested_all_accuracy': 0.9455463, 'requested_all_l2': 0.091087, 'method_accuracy': 0.8799793, 'method_l2': 0.1890658}\n",
      "INFO:root:Epoch\t20/100\n"
     ]
    },
    {
     "data": {
      "application/vnd.jupyter.widget-view+json": {
       "model_id": "d188529880024fc79b712b4ab9cd6174",
       "version_major": 2,
       "version_minor": 0
      },
      "text/plain": [
       "HBox(children=(IntProgress(value=0, max=162), HTML(value='')))"
      ]
     },
     "metadata": {},
     "output_type": "display_data"
    },
    {
     "name": "stdout",
     "output_type": "stream",
     "text": [
      "\n"
     ]
    },
    {
     "data": {
      "application/vnd.jupyter.widget-view+json": {
       "model_id": "6a13e12fd5df4fcd8a3b6bcc20d0a986",
       "version_major": 2,
       "version_minor": 0
      },
      "text/plain": [
       "HBox(children=(IntProgress(value=0, max=506), HTML(value='')))"
      ]
     },
     "metadata": {},
     "output_type": "display_data"
    },
    {
     "name": "stdout",
     "output_type": "stream",
     "text": [
      "\n"
     ]
    },
    {
     "name": "stderr",
     "output_type": "stream",
     "text": [
      "INFO:root:{'goal_food_accuracy': 0.6494674, 'goal_food_l2': 0.4878633, 'goal_pricerange_accuracy': 0.8583965, 'goal_pricerange_l2': 0.2193565, 'goal_name_accuracy': 0.9065421, 'goal_name_l2': 0.1867585, 'goal_area_accuracy': 0.8224019, 'goal_area_l2': 0.2756585, 'goal_joint_accuracy': 0.5229406, 'goal_joint_l2': 0.6461553, 'requested_all_accuracy': 0.9441039, 'requested_all_l2': 0.0911779, 'method_accuracy': 0.8799793, 'method_l2': 0.1890658}\n",
      "INFO:root:Epoch\t21/100\n"
     ]
    },
    {
     "data": {
      "application/vnd.jupyter.widget-view+json": {
       "model_id": "9f7d3cb8db4240ad8f2199d3dbd86067",
       "version_major": 2,
       "version_minor": 0
      },
      "text/plain": [
       "HBox(children=(IntProgress(value=0, max=162), HTML(value='')))"
      ]
     },
     "metadata": {},
     "output_type": "display_data"
    },
    {
     "name": "stdout",
     "output_type": "stream",
     "text": [
      "\n"
     ]
    },
    {
     "data": {
      "application/vnd.jupyter.widget-view+json": {
       "model_id": "97f012ed46b9442d85d2189985d54c59",
       "version_major": 2,
       "version_minor": 0
      },
      "text/plain": [
       "HBox(children=(IntProgress(value=0, max=506), HTML(value='')))"
      ]
     },
     "metadata": {},
     "output_type": "display_data"
    },
    {
     "name": "stdout",
     "output_type": "stream",
     "text": [
      "\n"
     ]
    },
    {
     "name": "stderr",
     "output_type": "stream",
     "text": [
      "INFO:root:{'goal_food_accuracy': 0.6677763, 'goal_food_l2': 0.4698088, 'goal_pricerange_accuracy': 0.8687675, 'goal_pricerange_l2': 0.2044915, 'goal_name_accuracy': 0.9065421, 'goal_name_l2': 0.1868004, 'goal_area_accuracy': 0.8131177, 'goal_area_l2': 0.2788517, 'goal_joint_accuracy': 0.5312826, 'goal_joint_l2': 0.6315017, 'requested_all_accuracy': 0.9423008, 'requested_all_l2': 0.0896669, 'method_accuracy': 0.8799793, 'method_l2': 0.1890658}\n",
      "INFO:root:Epoch\t22/100\n"
     ]
    },
    {
     "data": {
      "application/vnd.jupyter.widget-view+json": {
       "model_id": "7237bde9084e4e81baff69cfd7e26d43",
       "version_major": 2,
       "version_minor": 0
      },
      "text/plain": [
       "HBox(children=(IntProgress(value=0, max=162), HTML(value='')))"
      ]
     },
     "metadata": {},
     "output_type": "display_data"
    },
    {
     "name": "stdout",
     "output_type": "stream",
     "text": [
      "\n"
     ]
    },
    {
     "data": {
      "application/vnd.jupyter.widget-view+json": {
       "model_id": "d63fa5f3afb340e38df8dcafa2e7e73a",
       "version_major": 2,
       "version_minor": 0
      },
      "text/plain": [
       "HBox(children=(IntProgress(value=0, max=506), HTML(value='')))"
      ]
     },
     "metadata": {},
     "output_type": "display_data"
    },
    {
     "name": "stdout",
     "output_type": "stream",
     "text": [
      "\n"
     ]
    },
    {
     "name": "stderr",
     "output_type": "stream",
     "text": [
      "INFO:root:{'goal_food_accuracy': 0.6501332, 'goal_food_l2': 0.4814716, 'goal_pricerange_accuracy': 0.8675708, 'goal_pricerange_l2': 0.2075218, 'goal_name_accuracy': 0.9065421, 'goal_name_l2': 0.1868472, 'goal_area_accuracy': 0.8083258, 'goal_area_l2': 0.2923322, 'goal_joint_accuracy': 0.5195516, 'goal_joint_l2': 0.6371016, 'requested_all_accuracy': 0.9441039, 'requested_all_l2': 0.087168, 'method_accuracy': 0.8799793, 'method_l2': 0.1890658}\n",
      "INFO:root:Epoch\t23/100\n"
     ]
    },
    {
     "data": {
      "application/vnd.jupyter.widget-view+json": {
       "model_id": "a6381c53b7c64eddba99c9ac9e2772a1",
       "version_major": 2,
       "version_minor": 0
      },
      "text/plain": [
       "HBox(children=(IntProgress(value=0, max=162), HTML(value='')))"
      ]
     },
     "metadata": {},
     "output_type": "display_data"
    },
    {
     "name": "stdout",
     "output_type": "stream",
     "text": [
      "\n"
     ]
    },
    {
     "data": {
      "application/vnd.jupyter.widget-view+json": {
       "model_id": "624f0e21f95749d08c529de415562959",
       "version_major": 2,
       "version_minor": 0
      },
      "text/plain": [
       "HBox(children=(IntProgress(value=0, max=506), HTML(value='')))"
      ]
     },
     "metadata": {},
     "output_type": "display_data"
    },
    {
     "name": "stdout",
     "output_type": "stream",
     "text": [
      "\n"
     ]
    },
    {
     "name": "stderr",
     "output_type": "stream",
     "text": [
      "INFO:root:{'goal_food_accuracy': 0.6581225, 'goal_food_l2': 0.4721048, 'goal_pricerange_accuracy': 0.863582, 'goal_pricerange_l2': 0.2145644, 'goal_name_accuracy': 0.9065421, 'goal_name_l2': 0.1868775, 'goal_area_accuracy': 0.8083258, 'goal_area_l2': 0.2869668, 'goal_joint_accuracy': 0.5179875, 'goal_joint_l2': 0.6371962, 'requested_all_accuracy': 0.9480707, 'requested_all_l2': 0.087282, 'method_accuracy': 0.8799793, 'method_l2': 0.1890658}\n",
      "INFO:root:Epoch\t24/100\n"
     ]
    },
    {
     "data": {
      "application/vnd.jupyter.widget-view+json": {
       "model_id": "d2ce2de60741493f87e791ab9439cdd0",
       "version_major": 2,
       "version_minor": 0
      },
      "text/plain": [
       "HBox(children=(IntProgress(value=0, max=162), HTML(value='')))"
      ]
     },
     "metadata": {},
     "output_type": "display_data"
    },
    {
     "name": "stdout",
     "output_type": "stream",
     "text": [
      "\n"
     ]
    },
    {
     "data": {
      "application/vnd.jupyter.widget-view+json": {
       "model_id": "e67818ac3aa440e39ecdf18068abc0db",
       "version_major": 2,
       "version_minor": 0
      },
      "text/plain": [
       "HBox(children=(IntProgress(value=0, max=506), HTML(value='')))"
      ]
     },
     "metadata": {},
     "output_type": "display_data"
    },
    {
     "name": "stdout",
     "output_type": "stream",
     "text": [
      "\n"
     ]
    },
    {
     "name": "stderr",
     "output_type": "stream",
     "text": [
      "INFO:root:{'goal_food_accuracy': 0.6677763, 'goal_food_l2': 0.471574, 'goal_pricerange_accuracy': 0.8695652, 'goal_pricerange_l2': 0.1983551, 'goal_name_accuracy': 0.9065421, 'goal_name_l2': 0.1869592, 'goal_area_accuracy': 0.8077269, 'goal_area_l2': 0.2890035, 'goal_joint_accuracy': 0.5245047, 'goal_joint_l2': 0.6339073, 'requested_all_accuracy': 0.9484313, 'requested_all_l2': 0.082205, 'method_accuracy': 0.8799793, 'method_l2': 0.1890658}\n",
      "INFO:root:Epoch\t25/100\n"
     ]
    },
    {
     "data": {
      "application/vnd.jupyter.widget-view+json": {
       "model_id": "222c2004151e40799de4bb5343206577",
       "version_major": 2,
       "version_minor": 0
      },
      "text/plain": [
       "HBox(children=(IntProgress(value=0, max=162), HTML(value='')))"
      ]
     },
     "metadata": {},
     "output_type": "display_data"
    },
    {
     "name": "stdout",
     "output_type": "stream",
     "text": [
      "\n"
     ]
    },
    {
     "data": {
      "application/vnd.jupyter.widget-view+json": {
       "model_id": "14396bf14c6f405cb019cb05c10139c5",
       "version_major": 2,
       "version_minor": 0
      },
      "text/plain": [
       "HBox(children=(IntProgress(value=0, max=506), HTML(value='')))"
      ]
     },
     "metadata": {},
     "output_type": "display_data"
    },
    {
     "name": "stdout",
     "output_type": "stream",
     "text": [
      "\n"
     ]
    },
    {
     "name": "stderr",
     "output_type": "stream",
     "text": [
      "INFO:root:{'goal_food_accuracy': 0.6677763, 'goal_food_l2': 0.471574, 'goal_pricerange_accuracy': 0.8695652, 'goal_pricerange_l2': 0.1983551, 'goal_name_accuracy': 0.9065421, 'goal_name_l2': 0.1869592, 'goal_area_accuracy': 0.8077269, 'goal_area_l2': 0.2890035, 'goal_joint_accuracy': 0.5245047, 'goal_joint_l2': 0.6339073, 'requested_all_accuracy': 0.9390552, 'requested_all_l2': 0.0930544, 'method_accuracy': 0.8799793, 'method_l2': 0.1890658}\n",
      "INFO:root:Epoch\t26/100\n"
     ]
    },
    {
     "data": {
      "application/vnd.jupyter.widget-view+json": {
       "model_id": "ff6cfabd65044f65a5590a71f720d781",
       "version_major": 2,
       "version_minor": 0
      },
      "text/plain": [
       "HBox(children=(IntProgress(value=0, max=162), HTML(value='')))"
      ]
     },
     "metadata": {},
     "output_type": "display_data"
    },
    {
     "name": "stdout",
     "output_type": "stream",
     "text": [
      "\n"
     ]
    },
    {
     "data": {
      "application/vnd.jupyter.widget-view+json": {
       "model_id": "a802ce835eb746d1a30da82fc4ad7b30",
       "version_major": 2,
       "version_minor": 0
      },
      "text/plain": [
       "HBox(children=(IntProgress(value=0, max=506), HTML(value='')))"
      ]
     },
     "metadata": {},
     "output_type": "display_data"
    },
    {
     "name": "stdout",
     "output_type": "stream",
     "text": [
      "\n"
     ]
    },
    {
     "name": "stderr",
     "output_type": "stream",
     "text": [
      "INFO:root:{'goal_food_accuracy': 0.6677763, 'goal_food_l2': 0.471574, 'goal_pricerange_accuracy': 0.8695652, 'goal_pricerange_l2': 0.1983551, 'goal_name_accuracy': 0.9065421, 'goal_name_l2': 0.1869592, 'goal_area_accuracy': 0.8077269, 'goal_area_l2': 0.2890035, 'goal_joint_accuracy': 0.5245047, 'goal_joint_l2': 0.6339073, 'requested_all_accuracy': 0.945907, 'requested_all_l2': 0.0860346, 'method_accuracy': 0.8799793, 'method_l2': 0.1890658}\n",
      "INFO:root:Epoch\t27/100\n"
     ]
    },
    {
     "data": {
      "application/vnd.jupyter.widget-view+json": {
       "model_id": "d889652d35834dc897357714b471e59b",
       "version_major": 2,
       "version_minor": 0
      },
      "text/plain": [
       "HBox(children=(IntProgress(value=0, max=162), HTML(value='')))"
      ]
     },
     "metadata": {},
     "output_type": "display_data"
    },
    {
     "name": "stdout",
     "output_type": "stream",
     "text": [
      "\n"
     ]
    },
    {
     "data": {
      "application/vnd.jupyter.widget-view+json": {
       "model_id": "ba35444b269442e3a5395b8b4851f828",
       "version_major": 2,
       "version_minor": 0
      },
      "text/plain": [
       "HBox(children=(IntProgress(value=0, max=506), HTML(value='')))"
      ]
     },
     "metadata": {},
     "output_type": "display_data"
    },
    {
     "name": "stdout",
     "output_type": "stream",
     "text": [
      "\n"
     ]
    },
    {
     "name": "stderr",
     "output_type": "stream",
     "text": [
      "INFO:root:{'goal_food_accuracy': 0.6677763, 'goal_food_l2': 0.471574, 'goal_pricerange_accuracy': 0.8695652, 'goal_pricerange_l2': 0.1983551, 'goal_name_accuracy': 0.9065421, 'goal_name_l2': 0.1869592, 'goal_area_accuracy': 0.8077269, 'goal_area_l2': 0.2890035, 'goal_joint_accuracy': 0.5245047, 'goal_joint_l2': 0.6339073, 'requested_all_accuracy': 0.9480707, 'requested_all_l2': 0.0840901, 'method_accuracy': 0.8799793, 'method_l2': 0.1890658}\n",
      "INFO:root:Epoch\t28/100\n"
     ]
    },
    {
     "data": {
      "application/vnd.jupyter.widget-view+json": {
       "model_id": "fd68ceb193d34131bfa3cdbe333fe5aa",
       "version_major": 2,
       "version_minor": 0
      },
      "text/plain": [
       "HBox(children=(IntProgress(value=0, max=162), HTML(value='')))"
      ]
     },
     "metadata": {},
     "output_type": "display_data"
    },
    {
     "name": "stdout",
     "output_type": "stream",
     "text": [
      "\n"
     ]
    },
    {
     "data": {
      "application/vnd.jupyter.widget-view+json": {
       "model_id": "87f4a23baf2e4ad5a8be7a9ef0487973",
       "version_major": 2,
       "version_minor": 0
      },
      "text/plain": [
       "HBox(children=(IntProgress(value=0, max=506), HTML(value='')))"
      ]
     },
     "metadata": {},
     "output_type": "display_data"
    },
    {
     "name": "stdout",
     "output_type": "stream",
     "text": [
      "\n"
     ]
    },
    {
     "name": "stderr",
     "output_type": "stream",
     "text": [
      "INFO:root:{'goal_food_accuracy': 0.6677763, 'goal_food_l2': 0.471574, 'goal_pricerange_accuracy': 0.8695652, 'goal_pricerange_l2': 0.1983551, 'goal_name_accuracy': 0.9065421, 'goal_name_l2': 0.1869592, 'goal_area_accuracy': 0.8077269, 'goal_area_l2': 0.2890035, 'goal_joint_accuracy': 0.5245047, 'goal_joint_l2': 0.6339073, 'requested_all_accuracy': 0.9451857, 'requested_all_l2': 0.0889177, 'method_accuracy': 0.8799793, 'method_l2': 0.1890658}\n",
      "INFO:root:Epoch\t29/100\n"
     ]
    },
    {
     "data": {
      "application/vnd.jupyter.widget-view+json": {
       "model_id": "d1e09d3a64064403a395c79d70e84e42",
       "version_major": 2,
       "version_minor": 0
      },
      "text/plain": [
       "HBox(children=(IntProgress(value=0, max=162), HTML(value='')))"
      ]
     },
     "metadata": {},
     "output_type": "display_data"
    },
    {
     "name": "stdout",
     "output_type": "stream",
     "text": [
      "\n"
     ]
    },
    {
     "data": {
      "application/vnd.jupyter.widget-view+json": {
       "model_id": "537a9071125d4476983d851ad871e868",
       "version_major": 2,
       "version_minor": 0
      },
      "text/plain": [
       "HBox(children=(IntProgress(value=0, max=506), HTML(value='')))"
      ]
     },
     "metadata": {},
     "output_type": "display_data"
    },
    {
     "name": "stdout",
     "output_type": "stream",
     "text": [
      "\n"
     ]
    },
    {
     "name": "stderr",
     "output_type": "stream",
     "text": [
      "INFO:root:{'goal_food_accuracy': 0.6677763, 'goal_food_l2': 0.471574, 'goal_pricerange_accuracy': 0.8695652, 'goal_pricerange_l2': 0.1983551, 'goal_name_accuracy': 0.9065421, 'goal_name_l2': 0.1869592, 'goal_area_accuracy': 0.8077269, 'goal_area_l2': 0.2890035, 'goal_joint_accuracy': 0.5245047, 'goal_joint_l2': 0.6339073, 'requested_all_accuracy': 0.9451857, 'requested_all_l2': 0.0854427, 'method_accuracy': 0.8799793, 'method_l2': 0.1890658}\n"
     ]
    }
   ],
   "source": [
    "goal_early_stopping = EarlyStopping(patience = PATIENCE)\n",
    "requested_early_stopping = EarlyStopping(patience = PATIENCE)\n",
    "method_early_stopping = EarlyStopping(patience = PATIENCE)\n",
    "\n",
    "train_indices_loader = torch.utils.data.DataLoader(np.arange(raw_X_train.shape[0]), batch_size = BATCH_SIZE, shuffle = True)\n",
    "\n",
    "for epoch in range(NUM_EPOCHS):\n",
    "    \n",
    "    logging.info(\"Epoch\\t{}/{}\".format(epoch + 1, NUM_EPOCHS))\n",
    "    \n",
    "    if not goal_early_stopping.stop_training:\n",
    "        model_Goal = model_Goal.train()\n",
    "    if not requested_early_stopping.stop_training:\n",
    "        model_Requested = model_Requested.train()\n",
    "    if not method_early_stopping.stop_training:\n",
    "        model_Method = model_Method.train()\n",
    "    \n",
    "    for train_indices in tqdm_notebook(train_indices_loader, total = len(train_indices_loader)):\n",
    "        \n",
    "        if not goal_early_stopping.stop_training:\n",
    "            optimizer_Goal.zero_grad()\n",
    "            goal_accumulated_loss = 0\n",
    "        if not requested_early_stopping.stop_training:\n",
    "            optimizer_Requested.zero_grad()\n",
    "            requested_accumulated_loss = 0\n",
    "        if not method_early_stopping.stop_training:\n",
    "            optimizer_Method.zero_grad()\n",
    "            method_accumulated_loss = 0\n",
    "        \n",
    "        for raw_X_train_dialog, raw_Y_train_dialog in zip(raw_X_train[train_indices], raw_Y_train[train_indices]):\n",
    "            \n",
    "            if not goal_early_stopping.stop_training:\n",
    "                model_Goal.hidden = model_Goal.init_hidden()\n",
    "            if not requested_early_stopping.stop_training:\n",
    "                model_Requested.hidden = model_Requested.init_hidden()\n",
    "            if not method_early_stopping.stop_training:\n",
    "                model_Method.hidden = model_Method.init_hidden()\n",
    "                \n",
    "            for raw_X_train_turn, raw_Y_train_turn in zip(raw_X_train_dialog[\"turns\"], raw_Y_train_dialog[\"turns\"]):\n",
    "\n",
    "                indices, scores = get_index_and_score(raw_X_train_turn, token_to_index, mode = \"train\", device = DEVICE)\n",
    "                \n",
    "                if not goal_early_stopping.stop_training:\n",
    "                    goal_pricerange_outputs, goal_area_outputs, goal_name_outputs, goal_food_outputs = model_Goal(indices, scores)\n",
    "                    gold_goal_pricerange = retrieve_gold_GoalPricerange(raw_Y_train_turn, ontology = ontology, device = DEVICE).repeat(len(goal_pricerange_outputs))\n",
    "                    goal_accumulated_loss += GOAL_LOSS_FUNCTION(goal_pricerange_outputs, gold_goal_pricerange)\n",
    "                    gold_goal_area = retrieve_gold_GoalArea(raw_Y_train_turn, ontology = ontology, device = DEVICE).repeat(len(goal_area_outputs))\n",
    "                    goal_accumulated_loss += GOAL_LOSS_FUNCTION(goal_area_outputs, gold_goal_area)\n",
    "                    gold_goal_name = retrieve_gold_GoalName(raw_Y_train_turn, ontology = ontology, device = DEVICE).repeat(len(goal_name_outputs))\n",
    "                    goal_accumulated_loss += GOAL_LOSS_FUNCTION(goal_name_outputs, gold_goal_name)\n",
    "                    gold_goal_food = retrieve_gold_GoalFood(raw_Y_train_turn, ontology = ontology, device = DEVICE).repeat(len(goal_food_outputs))\n",
    "                    goal_accumulated_loss += GOAL_LOSS_FUNCTION(goal_food_outputs, gold_goal_food)\n",
    "                if not requested_early_stopping.stop_training:\n",
    "                    requested_outputs = model_Requested(indices, scores)\n",
    "                    gold_requested = retrieve_gold_Requested(raw_Y_train_turn, ontology = ontology, device = DEVICE).repeat(requested_outputs.size(0), 1)\n",
    "                    requested_accumulated_loss += REQUESTED_LOSS_FUNCTION(requested_outputs, gold_requested)\n",
    "                if not method_early_stopping.stop_training:\n",
    "                    method_outputs = model_Method(indices, scores)\n",
    "                    gold_method = retrieve_gold_Method(raw_Y_train_turn, ontology = ontology, device = DEVICE).repeat(len(method_outputs))\n",
    "                    method_accumulated_loss += METHOD_LOSS_FUNCTION(method_outputs, gold_method)\n",
    "                    \n",
    "        if not goal_early_stopping.stop_training:\n",
    "            goal_accumulated_loss.backward()\n",
    "            optimizer_Goal.step()\n",
    "        if not requested_early_stopping.stop_training:\n",
    "            requested_accumulated_loss.backward()\n",
    "            optimizer_Requested.step()\n",
    "        if not method_early_stopping.stop_training:\n",
    "            method_accumulated_loss.backward()\n",
    "            optimizer_Method.step()\n",
    "        \n",
    "    dev_tracker, _ = make_tracker(model_Goal, model_Requested, model_Method, raw_X_dev, raw_Y_dev, dataset = \"dstc2_dev\", percentage = 1.0)\n",
    "    \n",
    "    dev_scores_dict = get_scores(dev_tracker, dataset = \"dstc2_dev\", ontology = ontology)\n",
    "    \n",
    "    logging.info(dev_scores_dict)\n",
    "    \n",
    "    current_goal_score_value = dev_scores_dict[\"goal_pricerange_accuracy\"] + dev_scores_dict[\"goal_area_accuracy\"] + dev_scores_dict[\"goal_name_accuracy\"] + dev_scores_dict[\"goal_food_accuracy\"] \n",
    "    goal_early_stopping.on_epoch_end(epoch = (epoch + 1), current_value = current_goal_score_value)\n",
    "    \n",
    "    current_requested_score_value = dev_scores_dict[\"requested_all_accuracy\"]\n",
    "    requested_early_stopping.on_epoch_end(epoch = (epoch + 1), current_value = current_requested_score_value)\n",
    "    \n",
    "    current_method_score_value = dev_scores_dict[\"method_accuracy\"]\n",
    "    method_early_stopping.on_epoch_end(epoch = (epoch + 1), current_value = current_method_score_value)\n",
    "    \n",
    "    if goal_early_stopping.wait == 0:\n",
    "        torch.save(model_Goal.state_dict(), \"model_Goal.pt\")\n",
    "    if requested_early_stopping.wait == 0:\n",
    "        torch.save(model_Requested.state_dict(), \"model_Requested.pt\")\n",
    "    if method_early_stopping.wait == 0:\n",
    "        torch.save(model_Method.state_dict(), \"model_Method.pt\")\n",
    "        \n",
    "    if goal_early_stopping.stop_training and requested_early_stopping.stop_training and method_early_stopping.stop_training:\n",
    "        break"
   ]
  },
  {
   "cell_type": "markdown",
   "metadata": {},
   "source": [
    "### Load iDST Goal Model"
   ]
  },
  {
   "cell_type": "code",
   "execution_count": 15,
   "metadata": {},
   "outputs": [
    {
     "data": {
      "text/plain": [
       "iDSTGoalModel(\n",
       "  (embeddings): Embedding(897, 170)\n",
       "  (altered_embeddings): Linear(in_features=171, out_features=300, bias=True)\n",
       "  (lstm): LSTM(300, 100)\n",
       "  (goal_pricerange_classifier): Linear(in_features=100, out_features=5, bias=True)\n",
       "  (goal_area_classifier): Linear(in_features=100, out_features=7, bias=True)\n",
       "  (goal_name_classifier): Linear(in_features=100, out_features=115, bias=True)\n",
       "  (goal_food_classifier): Linear(in_features=100, out_features=93, bias=True)\n",
       ")"
      ]
     },
     "execution_count": 15,
     "metadata": {},
     "output_type": "execute_result"
    }
   ],
   "source": [
    "model_Goal = iDSTGoalModel(vocabulary_size = VOCABULARY_SIZE,\n",
    "                           embedding_dim = EMBEDDING_DIM,\n",
    "                           altered_embedding_dim = ALTERED_EMBEDDING_DIM,\n",
    "                           hidden_dim = HIDDEN_DIM,\n",
    "                           goal_pricerange_dim = GOAL_PRICERANGE_DIM,\n",
    "                           goal_area_dim = GOAL_AREA_DIM,\n",
    "                           goal_name_dim = GOAL_NAME_DIM,\n",
    "                           goal_food_dim = GOAL_FOOD_DIM,\n",
    "                           device = DEVICE).to(DEVICE)\n",
    "model_Goal.load_state_dict(torch.load(\"model_Goal.pt\"))\n",
    "model_Goal.eval()"
   ]
  },
  {
   "cell_type": "markdown",
   "metadata": {},
   "source": [
    "### Load iDST Requested Model"
   ]
  },
  {
   "cell_type": "code",
   "execution_count": 16,
   "metadata": {},
   "outputs": [
    {
     "data": {
      "text/plain": [
       "iDSTRequestedModel(\n",
       "  (embeddings): Embedding(897, 170)\n",
       "  (altered_embeddings): Linear(in_features=171, out_features=300, bias=True)\n",
       "  (lstm): LSTM(300, 100)\n",
       "  (requested_classifier): Linear(in_features=100, out_features=8, bias=True)\n",
       ")"
      ]
     },
     "execution_count": 16,
     "metadata": {},
     "output_type": "execute_result"
    }
   ],
   "source": [
    "model_Requested = iDSTRequestedModel(vocabulary_size = VOCABULARY_SIZE,\n",
    "                                     embedding_dim = EMBEDDING_DIM,\n",
    "                                     altered_embedding_dim = ALTERED_EMBEDDING_DIM,\n",
    "                                     hidden_dim = HIDDEN_DIM,\n",
    "                                     requested_dim = REQUESTED_DIM,\n",
    "                                     device = DEVICE).to(DEVICE)\n",
    "model_Requested.load_state_dict(torch.load(\"model_Requested.pt\"))\n",
    "model_Requested.eval()"
   ]
  },
  {
   "cell_type": "code",
   "execution_count": 17,
   "metadata": {},
   "outputs": [
    {
     "data": {
      "text/plain": [
       "iDSTMethodModel(\n",
       "  (embeddings): Embedding(897, 170)\n",
       "  (altered_embeddings): Linear(in_features=171, out_features=300, bias=True)\n",
       "  (lstm): LSTM(300, 100)\n",
       "  (method_classifier): Linear(in_features=100, out_features=5, bias=True)\n",
       ")"
      ]
     },
     "execution_count": 17,
     "metadata": {},
     "output_type": "execute_result"
    }
   ],
   "source": [
    "model_Method = iDSTMethodModel(vocabulary_size = VOCABULARY_SIZE,\n",
    "                               embedding_dim = EMBEDDING_DIM,\n",
    "                               altered_embedding_dim = ALTERED_EMBEDDING_DIM,\n",
    "                               hidden_dim = HIDDEN_DIM,\n",
    "                               method_dim = METHOD_DIM,\n",
    "                               device = DEVICE).to(DEVICE)\n",
    "model_Method.load_state_dict(torch.load(\"model_Method.pt\"))\n",
    "model_Method.eval()"
   ]
  },
  {
   "cell_type": "markdown",
   "metadata": {},
   "source": [
    "### Print scores"
   ]
  },
  {
   "cell_type": "code",
   "execution_count": 18,
   "metadata": {
    "scrolled": false
   },
   "outputs": [
    {
     "data": {
      "application/vnd.jupyter.widget-view+json": {
       "model_id": "d1e2652470614890a76a242b618c139e",
       "version_major": 2,
       "version_minor": 0
      },
      "text/plain": [
       "HBox(children=(IntProgress(value=0, max=506), HTML(value='')))"
      ]
     },
     "metadata": {},
     "output_type": "display_data"
    },
    {
     "name": "stdout",
     "output_type": "stream",
     "text": [
      "\n"
     ]
    },
    {
     "data": {
      "text/plain": [
       "{'goal_food_accuracy': 0.662783,\n",
       " 'goal_food_l2': 0.4737349,\n",
       " 'goal_pricerange_accuracy': 0.8675708,\n",
       " 'goal_pricerange_l2': 0.2149619,\n",
       " 'goal_name_accuracy': 0.9065421,\n",
       " 'goal_name_l2': 0.1868438,\n",
       " 'goal_area_accuracy': 0.8271938,\n",
       " 'goal_area_l2': 0.2737893,\n",
       " 'goal_joint_accuracy': 0.5294578,\n",
       " 'goal_joint_l2': 0.6356316,\n",
       " 'requested_all_accuracy': 0.9484313,\n",
       " 'requested_all_l2': 0.082205,\n",
       " 'method_accuracy': 0.8957579,\n",
       " 'method_l2': 0.1765504}"
      ]
     },
     "execution_count": 18,
     "metadata": {},
     "output_type": "execute_result"
    }
   ],
   "source": [
    "dev_tracker, _ = make_tracker(model_Goal, model_Requested, model_Method, raw_X_dev, raw_Y_dev, dataset = \"dstc2_dev\", percentage = 1.0)\n",
    "get_scores(dev_tracker, dataset = \"dstc2_dev\", ontology = ontology)"
   ]
  },
  {
   "cell_type": "code",
   "execution_count": 19,
   "metadata": {},
   "outputs": [
    {
     "data": {
      "application/vnd.jupyter.widget-view+json": {
       "model_id": "43bc90ed324a47cbb4c172a23453c2e5",
       "version_major": 2,
       "version_minor": 0
      },
      "text/plain": [
       "HBox(children=(IntProgress(value=0, max=1117), HTML(value='')))"
      ]
     },
     "metadata": {},
     "output_type": "display_data"
    },
    {
     "name": "stdout",
     "output_type": "stream",
     "text": [
      "\n"
     ]
    },
    {
     "data": {
      "text/plain": [
       "{'goal_food_accuracy': 0.7371903,\n",
       " 'goal_food_l2': 0.3772683,\n",
       " 'goal_pricerange_accuracy': 0.8041145,\n",
       " 'goal_pricerange_l2': 0.2941711,\n",
       " 'goal_name_accuracy': 0.961326,\n",
       " 'goal_name_l2': 0.0774807,\n",
       " 'goal_area_accuracy': 0.8241194,\n",
       " 'goal_area_l2': 0.2697471,\n",
       " 'goal_joint_accuracy': 0.5362783,\n",
       " 'goal_joint_l2': 0.618719,\n",
       " 'requested_all_accuracy': 0.9513804,\n",
       " 'requested_all_l2': 0.0749265,\n",
       " 'method_accuracy': 0.9158456,\n",
       " 'method_l2': 0.1335665}"
      ]
     },
     "execution_count": 19,
     "metadata": {},
     "output_type": "execute_result"
    }
   ],
   "source": [
    "test_tracker, _ = make_tracker(model_Goal, model_Requested, model_Method, raw_X_test, raw_Y_test, dataset = \"dstc2_test\", percentage = 1.0)\n",
    "get_scores(test_tracker, dataset = \"dstc2_test\", ontology = ontology)"
   ]
  },
  {
   "cell_type": "markdown",
   "metadata": {},
   "source": [
    "### Plotting"
   ]
  },
  {
   "cell_type": "code",
   "execution_count": 26,
   "metadata": {},
   "outputs": [],
   "source": [
    "def frange(start, stop, step):\n",
    "    i = start\n",
    "    while i < stop:\n",
    "        i = np.around(i, decimals = 2)\n",
    "        yield i\n",
    "        i += step    \n",
    "    \n",
    "#--------------------\n",
    "\n",
    "def plotly_plot_incremental(goal_pricerange_accuracies, goal_area_accuracies, goal_name_accuracies, goal_food_accuracies,\n",
    "                            requested_accuracies, method_accuracies, percentages, dataset):\n",
    "    \n",
    "    if dataset == \"dstc2_train\":\n",
    "        dataset = \"TRAIN\"\n",
    "    elif dataset == \"dstc2_dev\":\n",
    "        dataset = \"DEV\"\n",
    "    else:\n",
    "        dataset = \"TEST\"\n",
    "        \n",
    "    plotly.offline.iplot({\"data\": [Scatter(x = percentages, y = goal_pricerange_accuracies, mode = \"lines+markers\", name = \"{} Goal Pricerange Accuracy\".format(dataset), marker = dict(color = \"#1abc9c\")),\n",
    "                                   Scatter(x = percentages, y = goal_area_accuracies, mode = \"lines+markers\", name = \"{} Goal Area Accuracy\".format(dataset), marker = dict(color = \"#3498db\")),\n",
    "                                   Scatter(x = percentages, y = goal_name_accuracies, mode = \"lines+markers\", name = \"{} Goal Name Accuracy\".format(dataset), marker = dict(color = \"#9b59b6\")),\n",
    "                                   Scatter(x = percentages, y = goal_food_accuracies, mode = \"lines+markers\", name = \"{} Goal Food Accuracy\".format(dataset), marker = dict(color = \"#e74c3c\")),\n",
    "                                   Scatter(x = percentages, y = requested_accuracies, mode = \"lines+markers\", name = \"{} Requested Accuracy\".format(dataset), marker = dict(color = \"#34495e\")),\n",
    "                                   Scatter(x = percentages, y = method_accuracies, mode = \"lines+markers\", name = \"{} Method Accuracy\".format(dataset), marker = dict(color = \"#f1c40f\"))],\n",
    "                            \"layout\": Layout(title = \"<b>{} Percentage - Accuracy</b>\".format(dataset),\n",
    "                                             xaxis = dict(title = \"<b>Percentage</b>\",\n",
    "                                                          dtick = 0.1,\n",
    "                                                          titlefont = dict(color = \"#34495e\")),\n",
    "                                             yaxis = dict(title = \"<b>Accuracy</b>\",\n",
    "                                                          dtick = 0.05,\n",
    "                                                          titlefont = dict(color = \"#34495e\")),\n",
    "                                             margin = Margin(b = 150))})"
   ]
  },
  {
   "cell_type": "code",
   "execution_count": 24,
   "metadata": {},
   "outputs": [
    {
     "data": {
      "application/vnd.jupyter.widget-view+json": {
       "model_id": "ce1a2b129f844d0f92e92f341135d549",
       "version_major": 2,
       "version_minor": 0
      },
      "text/plain": [
       "HBox(children=(IntProgress(value=0, max=10), HTML(value='')))"
      ]
     },
     "metadata": {},
     "output_type": "display_data"
    },
    {
     "data": {
      "application/vnd.jupyter.widget-view+json": {
       "model_id": "34f276ede4ad41e6b53d6e184908b1cf",
       "version_major": 2,
       "version_minor": 0
      },
      "text/plain": [
       "HBox(children=(IntProgress(value=0, max=506), HTML(value='')))"
      ]
     },
     "metadata": {},
     "output_type": "display_data"
    },
    {
     "data": {
      "application/vnd.jupyter.widget-view+json": {
       "model_id": "fe14aa115d6d428599a32c58c72324ae",
       "version_major": 2,
       "version_minor": 0
      },
      "text/plain": [
       "HBox(children=(IntProgress(value=0, max=1117), HTML(value='')))"
      ]
     },
     "metadata": {},
     "output_type": "display_data"
    },
    {
     "data": {
      "application/vnd.jupyter.widget-view+json": {
       "model_id": "d88a3ba59845441cbfcd4878fc53be0f",
       "version_major": 2,
       "version_minor": 0
      },
      "text/plain": [
       "HBox(children=(IntProgress(value=0, max=506), HTML(value='')))"
      ]
     },
     "metadata": {},
     "output_type": "display_data"
    },
    {
     "data": {
      "application/vnd.jupyter.widget-view+json": {
       "model_id": "0c376158c5dd424eb86e187c5f85c11e",
       "version_major": 2,
       "version_minor": 0
      },
      "text/plain": [
       "HBox(children=(IntProgress(value=0, max=1117), HTML(value='')))"
      ]
     },
     "metadata": {},
     "output_type": "display_data"
    },
    {
     "data": {
      "application/vnd.jupyter.widget-view+json": {
       "model_id": "f348406f159844eb82cc2004c65f0b63",
       "version_major": 2,
       "version_minor": 0
      },
      "text/plain": [
       "HBox(children=(IntProgress(value=0, max=506), HTML(value='')))"
      ]
     },
     "metadata": {},
     "output_type": "display_data"
    },
    {
     "data": {
      "application/vnd.jupyter.widget-view+json": {
       "model_id": "ec42bc04be1049be8552bd94be87953d",
       "version_major": 2,
       "version_minor": 0
      },
      "text/plain": [
       "HBox(children=(IntProgress(value=0, max=1117), HTML(value='')))"
      ]
     },
     "metadata": {},
     "output_type": "display_data"
    },
    {
     "data": {
      "application/vnd.jupyter.widget-view+json": {
       "model_id": "2d65fdce8d9b4d5aa5ce71d5d0c89922",
       "version_major": 2,
       "version_minor": 0
      },
      "text/plain": [
       "HBox(children=(IntProgress(value=0, max=506), HTML(value='')))"
      ]
     },
     "metadata": {},
     "output_type": "display_data"
    },
    {
     "data": {
      "application/vnd.jupyter.widget-view+json": {
       "model_id": "9e10850d5034490c91761255e52750f2",
       "version_major": 2,
       "version_minor": 0
      },
      "text/plain": [
       "HBox(children=(IntProgress(value=0, max=1117), HTML(value='')))"
      ]
     },
     "metadata": {},
     "output_type": "display_data"
    },
    {
     "data": {
      "application/vnd.jupyter.widget-view+json": {
       "model_id": "a2ce8a44594d40f5aa585ce97126ca3e",
       "version_major": 2,
       "version_minor": 0
      },
      "text/plain": [
       "HBox(children=(IntProgress(value=0, max=506), HTML(value='')))"
      ]
     },
     "metadata": {},
     "output_type": "display_data"
    },
    {
     "data": {
      "application/vnd.jupyter.widget-view+json": {
       "model_id": "a79954863ce341f19b6552a257b656b2",
       "version_major": 2,
       "version_minor": 0
      },
      "text/plain": [
       "HBox(children=(IntProgress(value=0, max=1117), HTML(value='')))"
      ]
     },
     "metadata": {},
     "output_type": "display_data"
    },
    {
     "data": {
      "application/vnd.jupyter.widget-view+json": {
       "model_id": "b32fed3e2c7d416aa13046884e8609a9",
       "version_major": 2,
       "version_minor": 0
      },
      "text/plain": [
       "HBox(children=(IntProgress(value=0, max=506), HTML(value='')))"
      ]
     },
     "metadata": {},
     "output_type": "display_data"
    },
    {
     "data": {
      "application/vnd.jupyter.widget-view+json": {
       "model_id": "c45cd2130f3f4ef8b95d611202c94fec",
       "version_major": 2,
       "version_minor": 0
      },
      "text/plain": [
       "HBox(children=(IntProgress(value=0, max=1117), HTML(value='')))"
      ]
     },
     "metadata": {},
     "output_type": "display_data"
    },
    {
     "data": {
      "application/vnd.jupyter.widget-view+json": {
       "model_id": "cb35c1316cf14295bf20468d3de58a3e",
       "version_major": 2,
       "version_minor": 0
      },
      "text/plain": [
       "HBox(children=(IntProgress(value=0, max=506), HTML(value='')))"
      ]
     },
     "metadata": {},
     "output_type": "display_data"
    },
    {
     "data": {
      "application/vnd.jupyter.widget-view+json": {
       "model_id": "1ee4761bb462406c98120e85255606b4",
       "version_major": 2,
       "version_minor": 0
      },
      "text/plain": [
       "HBox(children=(IntProgress(value=0, max=1117), HTML(value='')))"
      ]
     },
     "metadata": {},
     "output_type": "display_data"
    },
    {
     "data": {
      "application/vnd.jupyter.widget-view+json": {
       "model_id": "aeb82338aacf41aeb823e23d435d288b",
       "version_major": 2,
       "version_minor": 0
      },
      "text/plain": [
       "HBox(children=(IntProgress(value=0, max=506), HTML(value='')))"
      ]
     },
     "metadata": {},
     "output_type": "display_data"
    },
    {
     "data": {
      "application/vnd.jupyter.widget-view+json": {
       "model_id": "f0154c0475b545c4a9a34b1b330b6c65",
       "version_major": 2,
       "version_minor": 0
      },
      "text/plain": [
       "HBox(children=(IntProgress(value=0, max=1117), HTML(value='')))"
      ]
     },
     "metadata": {},
     "output_type": "display_data"
    },
    {
     "data": {
      "application/vnd.jupyter.widget-view+json": {
       "model_id": "bde83a96167a4c90a73db4b2a9a39d2e",
       "version_major": 2,
       "version_minor": 0
      },
      "text/plain": [
       "HBox(children=(IntProgress(value=0, max=506), HTML(value='')))"
      ]
     },
     "metadata": {},
     "output_type": "display_data"
    },
    {
     "data": {
      "application/vnd.jupyter.widget-view+json": {
       "model_id": "26e4607eaa854a4aa4d8b1bdfb6dbf00",
       "version_major": 2,
       "version_minor": 0
      },
      "text/plain": [
       "HBox(children=(IntProgress(value=0, max=1117), HTML(value='')))"
      ]
     },
     "metadata": {},
     "output_type": "display_data"
    },
    {
     "data": {
      "application/vnd.jupyter.widget-view+json": {
       "model_id": "aa2545ef4731483698669be81306e86c",
       "version_major": 2,
       "version_minor": 0
      },
      "text/plain": [
       "HBox(children=(IntProgress(value=0, max=506), HTML(value='')))"
      ]
     },
     "metadata": {},
     "output_type": "display_data"
    },
    {
     "data": {
      "application/vnd.jupyter.widget-view+json": {
       "model_id": "95d663afe0394f6ba3104b5675d2fdd3",
       "version_major": 2,
       "version_minor": 0
      },
      "text/plain": [
       "HBox(children=(IntProgress(value=0, max=1117), HTML(value='')))"
      ]
     },
     "metadata": {},
     "output_type": "display_data"
    },
    {
     "name": "stdout",
     "output_type": "stream",
     "text": [
      "\n"
     ]
    }
   ],
   "source": [
    "dev_goal_pricerange_accuracies = []\n",
    "dev_goal_area_accuracies = []\n",
    "dev_goal_name_accuracies = []\n",
    "dev_goal_food_accuracies = []\n",
    "dev_requested_accuracies = []\n",
    "dev_method_accuracies = []\n",
    "dev_percentages = []\n",
    "\n",
    "test_goal_pricerange_accuracies = []\n",
    "test_goal_area_accuracies = []\n",
    "test_goal_name_accuracies = []\n",
    "test_goal_food_accuracies = []\n",
    "test_requested_accuracies = []\n",
    "test_method_accuracies = []\n",
    "test_percentages = []\n",
    "\n",
    "percentages = list(frange(0.1, 1.05, 0.1))\n",
    "for percentage in tqdm_notebook(percentages, total = len(percentages)):\n",
    "    \n",
    "    dev_incremental_tracker, dev_incremental_percentage = make_tracker(model_Goal, model_Requested, model_Method, raw_X_dev, raw_Y_dev, dataset = \"dstc2_dev\", percentage = percentage)\n",
    "    dev_percentages.append(dev_incremental_percentage)\n",
    "    dev_scores_dict = get_scores(dev_incremental_tracker, dataset = \"dstc2_dev\", ontology = ontology)\n",
    "    dev_goal_pricerange_accuracies.append(dev_scores_dict[\"goal_pricerange_accuracy\"])\n",
    "    dev_goal_area_accuracies.append(dev_scores_dict[\"goal_area_accuracy\"])\n",
    "    dev_goal_name_accuracies.append(dev_scores_dict[\"goal_name_accuracy\"])\n",
    "    dev_goal_food_accuracies.append(dev_scores_dict[\"goal_food_accuracy\"])\n",
    "    dev_requested_accuracies.append(dev_scores_dict[\"requested_all_accuracy\"])\n",
    "    dev_method_accuracies.append(dev_scores_dict[\"method_accuracy\"])\n",
    "    \n",
    "    test_incremental_tracker, test_incremental_percentage = make_tracker(model_Goal, model_Requested, model_Method, raw_X_test, raw_Y_test, dataset = \"dstc2_test\", percentage = percentage)\n",
    "    test_percentages.append(test_incremental_percentage)\n",
    "    test_scores_dict = get_scores(test_incremental_tracker, dataset = \"dstc2_test\", ontology = ontology)\n",
    "    test_goal_pricerange_accuracies.append(test_scores_dict[\"goal_pricerange_accuracy\"])\n",
    "    test_goal_area_accuracies.append(test_scores_dict[\"goal_area_accuracy\"])\n",
    "    test_goal_name_accuracies.append(test_scores_dict[\"goal_name_accuracy\"])\n",
    "    test_goal_food_accuracies.append(test_scores_dict[\"goal_food_accuracy\"])\n",
    "    test_requested_accuracies.append(test_scores_dict[\"requested_all_accuracy\"])\n",
    "    test_method_accuracies.append(test_scores_dict[\"method_accuracy\"])"
   ]
  },
  {
   "cell_type": "code",
   "execution_count": 27,
   "metadata": {},
   "outputs": [
    {
     "data": {
      "application/vnd.plotly.v1+json": {
       "config": {
        "linkText": "Export to plot.ly",
        "plotlyServerURL": "https://plot.ly",
        "showLink": false
       },
       "data": [
        {
         "marker": {
          "color": "#1abc9c"
         },
         "mode": "lines+markers",
         "name": "DEV Goal Pricerange Accuracy",
         "type": "scatter",
         "uid": "5142d6ab-7a07-49f0-8dac-141c4e058865",
         "x": [
          0.02,
          0.16,
          0.28,
          0.34,
          0.42,
          0.66,
          0.74,
          0.84,
          0.96,
          1
         ],
         "y": [
          0.7766254,
          0.7822098,
          0.7941763,
          0.815716,
          0.8356602,
          0.8480255,
          0.859992,
          0.8631831,
          0.8671719,
          0.8675708
         ]
        },
        {
         "marker": {
          "color": "#3498db"
         },
         "mode": "lines+markers",
         "name": "DEV Goal Area Accuracy",
         "type": "scatter",
         "uid": "e08de63e-5d71-4e81-8517-0f71e217994f",
         "x": [
          0.02,
          0.16,
          0.28,
          0.34,
          0.42,
          0.66,
          0.74,
          0.84,
          0.96,
          1
         ],
         "y": [
          0.7424379,
          0.7508236,
          0.7559149,
          0.7628032,
          0.7732854,
          0.7921533,
          0.801737,
          0.8203055,
          0.8244984,
          0.8271938
         ]
        },
        {
         "marker": {
          "color": "#9b59b6"
         },
         "mode": "lines+markers",
         "name": "DEV Goal Name Accuracy",
         "type": "scatter",
         "uid": "619750af-7f3f-4c19-a6fa-f783cd76aed9",
         "x": [
          0.02,
          0.16,
          0.28,
          0.34,
          0.42,
          0.66,
          0.74,
          0.84,
          0.96,
          1
         ],
         "y": [
          0.9065421,
          0.9065421,
          0.9065421,
          0.9065421,
          0.9065421,
          0.9065421,
          0.9065421,
          0.9065421,
          0.9065421,
          0.9065421
         ]
        },
        {
         "marker": {
          "color": "#e74c3c"
         },
         "mode": "lines+markers",
         "name": "DEV Goal Food Accuracy",
         "type": "scatter",
         "uid": "a1af75ad-c544-46a8-8d41-60ea49ec1f33",
         "x": [
          0.02,
          0.16,
          0.28,
          0.34,
          0.42,
          0.66,
          0.74,
          0.84,
          0.96,
          1
         ],
         "y": [
          0.5955393,
          0.5998668,
          0.6131824,
          0.614514,
          0.6195073,
          0.6328229,
          0.6514647,
          0.6577896,
          0.6651132,
          0.662783
         ]
        },
        {
         "marker": {
          "color": "#34495e"
         },
         "mode": "lines+markers",
         "name": "DEV Requested Accuracy",
         "type": "scatter",
         "uid": "7973199b-d84a-4082-bb8a-fa351900adee",
         "x": [
          0.02,
          0.16,
          0.28,
          0.34,
          0.42,
          0.66,
          0.74,
          0.84,
          0.96,
          1
         ],
         "y": [
          0.7064551,
          0.7500902,
          0.803462,
          0.8131987,
          0.8222142,
          0.8492607,
          0.8993869,
          0.9166967,
          0.9408583,
          0.9484313
         ]
        },
        {
         "marker": {
          "color": "#f1c40f"
         },
         "mode": "lines+markers",
         "name": "DEV Method Accuracy",
         "type": "scatter",
         "uid": "61250cbd-2061-4c48-8826-025c8de93650",
         "x": [
          0.02,
          0.16,
          0.28,
          0.34,
          0.42,
          0.66,
          0.74,
          0.84,
          0.96,
          1
         ],
         "y": [
          0.7832385,
          0.8572168,
          0.873254,
          0.8823073,
          0.8836006,
          0.8936886,
          0.8931712,
          0.8944646,
          0.8957579,
          0.8957579
         ]
        }
       ],
       "layout": {
        "margin": {
         "b": 150
        },
        "title": {
         "text": "<b>DEV Percentage - Accuracy</b>"
        },
        "xaxis": {
         "dtick": 0.1,
         "title": {
          "font": {
           "color": "#34495e"
          },
          "text": "<b>Percentage</b>"
         }
        },
        "yaxis": {
         "dtick": 0.05,
         "title": {
          "font": {
           "color": "#34495e"
          },
          "text": "<b>Accuracy</b>"
         }
        }
       }
      },
      "text/html": [
       "<div id=\"d013c43f-8511-4865-9605-8eed074d55f5\" style=\"height: 525px; width: 100%;\" class=\"plotly-graph-div\"></div><script type=\"text/javascript\">require([\"plotly\"], function(Plotly) { window.PLOTLYENV=window.PLOTLYENV || {};window.PLOTLYENV.BASE_URL=\"https://plot.ly\";Plotly.newPlot(\"d013c43f-8511-4865-9605-8eed074d55f5\", [{\"marker\": {\"color\": \"#1abc9c\"}, \"mode\": \"lines+markers\", \"name\": \"DEV Goal Pricerange Accuracy\", \"x\": [0.02, 0.16, 0.28, 0.34, 0.42, 0.66, 0.74, 0.84, 0.96, 1.0], \"y\": [0.7766254, 0.7822098, 0.7941763, 0.815716, 0.8356602, 0.8480255, 0.859992, 0.8631831, 0.8671719, 0.8675708], \"type\": \"scatter\", \"uid\": \"36423ac8-cb07-452c-8b1b-7e8b281e62ef\"}, {\"marker\": {\"color\": \"#3498db\"}, \"mode\": \"lines+markers\", \"name\": \"DEV Goal Area Accuracy\", \"x\": [0.02, 0.16, 0.28, 0.34, 0.42, 0.66, 0.74, 0.84, 0.96, 1.0], \"y\": [0.7424379, 0.7508236, 0.7559149, 0.7628032, 0.7732854, 0.7921533, 0.801737, 0.8203055, 0.8244984, 0.8271938], \"type\": \"scatter\", \"uid\": \"c7822573-7d4a-413e-bc3e-d80ae924ac43\"}, {\"marker\": {\"color\": \"#9b59b6\"}, \"mode\": \"lines+markers\", \"name\": \"DEV Goal Name Accuracy\", \"x\": [0.02, 0.16, 0.28, 0.34, 0.42, 0.66, 0.74, 0.84, 0.96, 1.0], \"y\": [0.9065421, 0.9065421, 0.9065421, 0.9065421, 0.9065421, 0.9065421, 0.9065421, 0.9065421, 0.9065421, 0.9065421], \"type\": \"scatter\", \"uid\": \"2a59f383-0d5e-4fe1-96b2-bddf49befaa4\"}, {\"marker\": {\"color\": \"#e74c3c\"}, \"mode\": \"lines+markers\", \"name\": \"DEV Goal Food Accuracy\", \"x\": [0.02, 0.16, 0.28, 0.34, 0.42, 0.66, 0.74, 0.84, 0.96, 1.0], \"y\": [0.5955393, 0.5998668, 0.6131824, 0.614514, 0.6195073, 0.6328229, 0.6514647, 0.6577896, 0.6651132, 0.662783], \"type\": \"scatter\", \"uid\": \"19f10e69-4c99-481a-a4c8-ad99db694b16\"}, {\"marker\": {\"color\": \"#34495e\"}, \"mode\": \"lines+markers\", \"name\": \"DEV Requested Accuracy\", \"x\": [0.02, 0.16, 0.28, 0.34, 0.42, 0.66, 0.74, 0.84, 0.96, 1.0], \"y\": [0.7064551, 0.7500902, 0.803462, 0.8131987, 0.8222142, 0.8492607, 0.8993869, 0.9166967, 0.9408583, 0.9484313], \"type\": \"scatter\", \"uid\": \"1358d11c-1fd8-4c20-9893-ab5f6c275a1a\"}, {\"marker\": {\"color\": \"#f1c40f\"}, \"mode\": \"lines+markers\", \"name\": \"DEV Method Accuracy\", \"x\": [0.02, 0.16, 0.28, 0.34, 0.42, 0.66, 0.74, 0.84, 0.96, 1.0], \"y\": [0.7832385, 0.8572168, 0.873254, 0.8823073, 0.8836006, 0.8936886, 0.8931712, 0.8944646, 0.8957579, 0.8957579], \"type\": \"scatter\", \"uid\": \"9bf211d4-3677-451e-8e74-eae51d4d13b1\"}], {\"margin\": {\"b\": 150}, \"title\": {\"text\": \"<b>DEV Percentage - Accuracy</b>\"}, \"xaxis\": {\"dtick\": 0.1, \"title\": {\"font\": {\"color\": \"#34495e\"}, \"text\": \"<b>Percentage</b>\"}}, \"yaxis\": {\"dtick\": 0.05, \"title\": {\"font\": {\"color\": \"#34495e\"}, \"text\": \"<b>Accuracy</b>\"}}}, {\"showLink\": false, \"linkText\": \"Export to plot.ly\", \"plotlyServerURL\": \"https://plot.ly\"})});</script><script type=\"text/javascript\">window.addEventListener(\"resize\", function(){window._Plotly.Plots.resize(document.getElementById(\"d013c43f-8511-4865-9605-8eed074d55f5\"));});</script>"
      ],
      "text/vnd.plotly.v1+html": [
       "<div id=\"d013c43f-8511-4865-9605-8eed074d55f5\" style=\"height: 525px; width: 100%;\" class=\"plotly-graph-div\"></div><script type=\"text/javascript\">require([\"plotly\"], function(Plotly) { window.PLOTLYENV=window.PLOTLYENV || {};window.PLOTLYENV.BASE_URL=\"https://plot.ly\";Plotly.newPlot(\"d013c43f-8511-4865-9605-8eed074d55f5\", [{\"marker\": {\"color\": \"#1abc9c\"}, \"mode\": \"lines+markers\", \"name\": \"DEV Goal Pricerange Accuracy\", \"x\": [0.02, 0.16, 0.28, 0.34, 0.42, 0.66, 0.74, 0.84, 0.96, 1.0], \"y\": [0.7766254, 0.7822098, 0.7941763, 0.815716, 0.8356602, 0.8480255, 0.859992, 0.8631831, 0.8671719, 0.8675708], \"type\": \"scatter\", \"uid\": \"36423ac8-cb07-452c-8b1b-7e8b281e62ef\"}, {\"marker\": {\"color\": \"#3498db\"}, \"mode\": \"lines+markers\", \"name\": \"DEV Goal Area Accuracy\", \"x\": [0.02, 0.16, 0.28, 0.34, 0.42, 0.66, 0.74, 0.84, 0.96, 1.0], \"y\": [0.7424379, 0.7508236, 0.7559149, 0.7628032, 0.7732854, 0.7921533, 0.801737, 0.8203055, 0.8244984, 0.8271938], \"type\": \"scatter\", \"uid\": \"c7822573-7d4a-413e-bc3e-d80ae924ac43\"}, {\"marker\": {\"color\": \"#9b59b6\"}, \"mode\": \"lines+markers\", \"name\": \"DEV Goal Name Accuracy\", \"x\": [0.02, 0.16, 0.28, 0.34, 0.42, 0.66, 0.74, 0.84, 0.96, 1.0], \"y\": [0.9065421, 0.9065421, 0.9065421, 0.9065421, 0.9065421, 0.9065421, 0.9065421, 0.9065421, 0.9065421, 0.9065421], \"type\": \"scatter\", \"uid\": \"2a59f383-0d5e-4fe1-96b2-bddf49befaa4\"}, {\"marker\": {\"color\": \"#e74c3c\"}, \"mode\": \"lines+markers\", \"name\": \"DEV Goal Food Accuracy\", \"x\": [0.02, 0.16, 0.28, 0.34, 0.42, 0.66, 0.74, 0.84, 0.96, 1.0], \"y\": [0.5955393, 0.5998668, 0.6131824, 0.614514, 0.6195073, 0.6328229, 0.6514647, 0.6577896, 0.6651132, 0.662783], \"type\": \"scatter\", \"uid\": \"19f10e69-4c99-481a-a4c8-ad99db694b16\"}, {\"marker\": {\"color\": \"#34495e\"}, \"mode\": \"lines+markers\", \"name\": \"DEV Requested Accuracy\", \"x\": [0.02, 0.16, 0.28, 0.34, 0.42, 0.66, 0.74, 0.84, 0.96, 1.0], \"y\": [0.7064551, 0.7500902, 0.803462, 0.8131987, 0.8222142, 0.8492607, 0.8993869, 0.9166967, 0.9408583, 0.9484313], \"type\": \"scatter\", \"uid\": \"1358d11c-1fd8-4c20-9893-ab5f6c275a1a\"}, {\"marker\": {\"color\": \"#f1c40f\"}, \"mode\": \"lines+markers\", \"name\": \"DEV Method Accuracy\", \"x\": [0.02, 0.16, 0.28, 0.34, 0.42, 0.66, 0.74, 0.84, 0.96, 1.0], \"y\": [0.7832385, 0.8572168, 0.873254, 0.8823073, 0.8836006, 0.8936886, 0.8931712, 0.8944646, 0.8957579, 0.8957579], \"type\": \"scatter\", \"uid\": \"9bf211d4-3677-451e-8e74-eae51d4d13b1\"}], {\"margin\": {\"b\": 150}, \"title\": {\"text\": \"<b>DEV Percentage - Accuracy</b>\"}, \"xaxis\": {\"dtick\": 0.1, \"title\": {\"font\": {\"color\": \"#34495e\"}, \"text\": \"<b>Percentage</b>\"}}, \"yaxis\": {\"dtick\": 0.05, \"title\": {\"font\": {\"color\": \"#34495e\"}, \"text\": \"<b>Accuracy</b>\"}}}, {\"showLink\": false, \"linkText\": \"Export to plot.ly\", \"plotlyServerURL\": \"https://plot.ly\"})});</script><script type=\"text/javascript\">window.addEventListener(\"resize\", function(){window._Plotly.Plots.resize(document.getElementById(\"d013c43f-8511-4865-9605-8eed074d55f5\"));});</script>"
      ]
     },
     "metadata": {},
     "output_type": "display_data"
    }
   ],
   "source": [
    "plotly_plot_incremental(dev_goal_pricerange_accuracies, dev_goal_area_accuracies, dev_goal_name_accuracies, dev_goal_food_accuracies,\n",
    "                        dev_requested_accuracies, dev_method_accuracies, dev_percentages, \"dstc2_dev\")"
   ]
  },
  {
   "cell_type": "code",
   "execution_count": 28,
   "metadata": {},
   "outputs": [
    {
     "data": {
      "application/vnd.plotly.v1+json": {
       "config": {
        "linkText": "Export to plot.ly",
        "plotlyServerURL": "https://plot.ly",
        "showLink": false
       },
       "data": [
        {
         "marker": {
          "color": "#1abc9c"
         },
         "mode": "lines+markers",
         "name": "TEST Goal Pricerange Accuracy",
         "type": "scatter",
         "uid": "afb6a5a6-4018-486b-9fe6-a4fb81d25ba5",
         "x": [
          0.02,
          0.14,
          0.26,
          0.32,
          0.4,
          0.68,
          0.75,
          0.86,
          0.96,
          1
         ],
         "y": [
          0.7200358,
          0.728384,
          0.7435897,
          0.7552177,
          0.7768336,
          0.7926357,
          0.801133,
          0.8047108,
          0.8035182,
          0.8041145
         ]
        },
        {
         "marker": {
          "color": "#3498db"
         },
         "mode": "lines+markers",
         "name": "TEST Goal Area Accuracy",
         "type": "scatter",
         "uid": "8ae242c7-12b2-451f-85a3-11163908bc88",
         "x": [
          0.02,
          0.14,
          0.26,
          0.32,
          0.4,
          0.68,
          0.75,
          0.86,
          0.96,
          1
         ],
         "y": [
          0.7479403,
          0.7530746,
          0.7584478,
          0.7629851,
          0.7719403,
          0.792597,
          0.807403,
          0.8206567,
          0.822806,
          0.8241194
         ]
        },
        {
         "marker": {
          "color": "#9b59b6"
         },
         "mode": "lines+markers",
         "name": "TEST Goal Name Accuracy",
         "type": "scatter",
         "uid": "58d54534-ae77-4617-bfdb-f6dc10696320",
         "x": [
          0.02,
          0.14,
          0.26,
          0.32,
          0.4,
          0.68,
          0.75,
          0.86,
          0.96,
          1
         ],
         "y": [
          0.961326,
          0.961326,
          0.961326,
          0.961326,
          0.961326,
          0.961326,
          0.961326,
          0.961326,
          0.961326,
          0.961326
         ]
        },
        {
         "marker": {
          "color": "#e74c3c"
         },
         "mode": "lines+markers",
         "name": "TEST Goal Food Accuracy",
         "type": "scatter",
         "uid": "49684d36-28d1-4e69-b08c-6bb8bfd5f9bd",
         "x": [
          0.02,
          0.14,
          0.26,
          0.32,
          0.4,
          0.68,
          0.75,
          0.86,
          0.96,
          1
         ],
         "y": [
          0.6693576,
          0.6705909,
          0.6880816,
          0.6908846,
          0.6962664,
          0.7092723,
          0.7223904,
          0.7256419,
          0.7359569,
          0.7371903
         ]
        },
        {
         "marker": {
          "color": "#34495e"
         },
         "mode": "lines+markers",
         "name": "TEST Requested Accuracy",
         "type": "scatter",
         "uid": "790ddad8-bd0d-45c3-871c-3e132147a555",
         "x": [
          0.02,
          0.14,
          0.26,
          0.32,
          0.4,
          0.68,
          0.75,
          0.86,
          0.96,
          1
         ],
         "y": [
          0.7251259,
          0.7607223,
          0.8098628,
          0.8211495,
          0.8274006,
          0.856225,
          0.9053655,
          0.9279389,
          0.9466921,
          0.9513804
         ]
        },
        {
         "marker": {
          "color": "#f1c40f"
         },
         "mode": "lines+markers",
         "name": "TEST Method Accuracy",
         "type": "scatter",
         "uid": "37e3aaaf-b95e-4278-a0ee-e47aff031de2",
         "x": [
          0.02,
          0.14,
          0.26,
          0.32,
          0.4,
          0.68,
          0.75,
          0.86,
          0.96,
          1
         ],
         "y": [
          0.8217365,
          0.8834154,
          0.898399,
          0.9054803,
          0.9073276,
          0.9128695,
          0.9148194,
          0.9159483,
          0.9159483,
          0.9158456
         ]
        }
       ],
       "layout": {
        "margin": {
         "b": 150
        },
        "title": {
         "text": "<b>TEST Percentage - Accuracy</b>"
        },
        "xaxis": {
         "dtick": 0.1,
         "title": {
          "font": {
           "color": "#34495e"
          },
          "text": "<b>Percentage</b>"
         }
        },
        "yaxis": {
         "dtick": 0.05,
         "title": {
          "font": {
           "color": "#34495e"
          },
          "text": "<b>Accuracy</b>"
         }
        }
       }
      },
      "text/html": [
       "<div id=\"69bf602b-03a4-4afe-b596-5fb9330c7151\" style=\"height: 525px; width: 100%;\" class=\"plotly-graph-div\"></div><script type=\"text/javascript\">require([\"plotly\"], function(Plotly) { window.PLOTLYENV=window.PLOTLYENV || {};window.PLOTLYENV.BASE_URL=\"https://plot.ly\";Plotly.newPlot(\"69bf602b-03a4-4afe-b596-5fb9330c7151\", [{\"marker\": {\"color\": \"#1abc9c\"}, \"mode\": \"lines+markers\", \"name\": \"TEST Goal Pricerange Accuracy\", \"x\": [0.02, 0.14, 0.26, 0.32, 0.4, 0.68, 0.75, 0.86, 0.96, 1.0], \"y\": [0.7200358, 0.728384, 0.7435897, 0.7552177, 0.7768336, 0.7926357, 0.801133, 0.8047108, 0.8035182, 0.8041145], \"type\": \"scatter\", \"uid\": \"088bfe19-c423-4abf-a45c-7cd19e04a611\"}, {\"marker\": {\"color\": \"#3498db\"}, \"mode\": \"lines+markers\", \"name\": \"TEST Goal Area Accuracy\", \"x\": [0.02, 0.14, 0.26, 0.32, 0.4, 0.68, 0.75, 0.86, 0.96, 1.0], \"y\": [0.7479403, 0.7530746, 0.7584478, 0.7629851, 0.7719403, 0.792597, 0.807403, 0.8206567, 0.822806, 0.8241194], \"type\": \"scatter\", \"uid\": \"2dd9e822-b0bb-4cd8-9ecb-271d5b681fed\"}, {\"marker\": {\"color\": \"#9b59b6\"}, \"mode\": \"lines+markers\", \"name\": \"TEST Goal Name Accuracy\", \"x\": [0.02, 0.14, 0.26, 0.32, 0.4, 0.68, 0.75, 0.86, 0.96, 1.0], \"y\": [0.961326, 0.961326, 0.961326, 0.961326, 0.961326, 0.961326, 0.961326, 0.961326, 0.961326, 0.961326], \"type\": \"scatter\", \"uid\": \"10ae6199-be3f-4e8d-8d52-5d05f6847480\"}, {\"marker\": {\"color\": \"#e74c3c\"}, \"mode\": \"lines+markers\", \"name\": \"TEST Goal Food Accuracy\", \"x\": [0.02, 0.14, 0.26, 0.32, 0.4, 0.68, 0.75, 0.86, 0.96, 1.0], \"y\": [0.6693576, 0.6705909, 0.6880816, 0.6908846, 0.6962664, 0.7092723, 0.7223904, 0.7256419, 0.7359569, 0.7371903], \"type\": \"scatter\", \"uid\": \"7e900563-1827-4321-9ad8-0e96fc1093fe\"}, {\"marker\": {\"color\": \"#34495e\"}, \"mode\": \"lines+markers\", \"name\": \"TEST Requested Accuracy\", \"x\": [0.02, 0.14, 0.26, 0.32, 0.4, 0.68, 0.75, 0.86, 0.96, 1.0], \"y\": [0.7251259, 0.7607223, 0.8098628, 0.8211495, 0.8274006, 0.856225, 0.9053655, 0.9279389, 0.9466921, 0.9513804], \"type\": \"scatter\", \"uid\": \"af581767-2a82-4f4c-b9b8-b4827407aa71\"}, {\"marker\": {\"color\": \"#f1c40f\"}, \"mode\": \"lines+markers\", \"name\": \"TEST Method Accuracy\", \"x\": [0.02, 0.14, 0.26, 0.32, 0.4, 0.68, 0.75, 0.86, 0.96, 1.0], \"y\": [0.8217365, 0.8834154, 0.898399, 0.9054803, 0.9073276, 0.9128695, 0.9148194, 0.9159483, 0.9159483, 0.9158456], \"type\": \"scatter\", \"uid\": \"8def5d72-b2c3-4d5c-b023-786e7da66bc3\"}], {\"margin\": {\"b\": 150}, \"title\": {\"text\": \"<b>TEST Percentage - Accuracy</b>\"}, \"xaxis\": {\"dtick\": 0.1, \"title\": {\"font\": {\"color\": \"#34495e\"}, \"text\": \"<b>Percentage</b>\"}}, \"yaxis\": {\"dtick\": 0.05, \"title\": {\"font\": {\"color\": \"#34495e\"}, \"text\": \"<b>Accuracy</b>\"}}}, {\"showLink\": false, \"linkText\": \"Export to plot.ly\", \"plotlyServerURL\": \"https://plot.ly\"})});</script><script type=\"text/javascript\">window.addEventListener(\"resize\", function(){window._Plotly.Plots.resize(document.getElementById(\"69bf602b-03a4-4afe-b596-5fb9330c7151\"));});</script>"
      ],
      "text/vnd.plotly.v1+html": [
       "<div id=\"69bf602b-03a4-4afe-b596-5fb9330c7151\" style=\"height: 525px; width: 100%;\" class=\"plotly-graph-div\"></div><script type=\"text/javascript\">require([\"plotly\"], function(Plotly) { window.PLOTLYENV=window.PLOTLYENV || {};window.PLOTLYENV.BASE_URL=\"https://plot.ly\";Plotly.newPlot(\"69bf602b-03a4-4afe-b596-5fb9330c7151\", [{\"marker\": {\"color\": \"#1abc9c\"}, \"mode\": \"lines+markers\", \"name\": \"TEST Goal Pricerange Accuracy\", \"x\": [0.02, 0.14, 0.26, 0.32, 0.4, 0.68, 0.75, 0.86, 0.96, 1.0], \"y\": [0.7200358, 0.728384, 0.7435897, 0.7552177, 0.7768336, 0.7926357, 0.801133, 0.8047108, 0.8035182, 0.8041145], \"type\": \"scatter\", \"uid\": \"088bfe19-c423-4abf-a45c-7cd19e04a611\"}, {\"marker\": {\"color\": \"#3498db\"}, \"mode\": \"lines+markers\", \"name\": \"TEST Goal Area Accuracy\", \"x\": [0.02, 0.14, 0.26, 0.32, 0.4, 0.68, 0.75, 0.86, 0.96, 1.0], \"y\": [0.7479403, 0.7530746, 0.7584478, 0.7629851, 0.7719403, 0.792597, 0.807403, 0.8206567, 0.822806, 0.8241194], \"type\": \"scatter\", \"uid\": \"2dd9e822-b0bb-4cd8-9ecb-271d5b681fed\"}, {\"marker\": {\"color\": \"#9b59b6\"}, \"mode\": \"lines+markers\", \"name\": \"TEST Goal Name Accuracy\", \"x\": [0.02, 0.14, 0.26, 0.32, 0.4, 0.68, 0.75, 0.86, 0.96, 1.0], \"y\": [0.961326, 0.961326, 0.961326, 0.961326, 0.961326, 0.961326, 0.961326, 0.961326, 0.961326, 0.961326], \"type\": \"scatter\", \"uid\": \"10ae6199-be3f-4e8d-8d52-5d05f6847480\"}, {\"marker\": {\"color\": \"#e74c3c\"}, \"mode\": \"lines+markers\", \"name\": \"TEST Goal Food Accuracy\", \"x\": [0.02, 0.14, 0.26, 0.32, 0.4, 0.68, 0.75, 0.86, 0.96, 1.0], \"y\": [0.6693576, 0.6705909, 0.6880816, 0.6908846, 0.6962664, 0.7092723, 0.7223904, 0.7256419, 0.7359569, 0.7371903], \"type\": \"scatter\", \"uid\": \"7e900563-1827-4321-9ad8-0e96fc1093fe\"}, {\"marker\": {\"color\": \"#34495e\"}, \"mode\": \"lines+markers\", \"name\": \"TEST Requested Accuracy\", \"x\": [0.02, 0.14, 0.26, 0.32, 0.4, 0.68, 0.75, 0.86, 0.96, 1.0], \"y\": [0.7251259, 0.7607223, 0.8098628, 0.8211495, 0.8274006, 0.856225, 0.9053655, 0.9279389, 0.9466921, 0.9513804], \"type\": \"scatter\", \"uid\": \"af581767-2a82-4f4c-b9b8-b4827407aa71\"}, {\"marker\": {\"color\": \"#f1c40f\"}, \"mode\": \"lines+markers\", \"name\": \"TEST Method Accuracy\", \"x\": [0.02, 0.14, 0.26, 0.32, 0.4, 0.68, 0.75, 0.86, 0.96, 1.0], \"y\": [0.8217365, 0.8834154, 0.898399, 0.9054803, 0.9073276, 0.9128695, 0.9148194, 0.9159483, 0.9159483, 0.9158456], \"type\": \"scatter\", \"uid\": \"8def5d72-b2c3-4d5c-b023-786e7da66bc3\"}], {\"margin\": {\"b\": 150}, \"title\": {\"text\": \"<b>TEST Percentage - Accuracy</b>\"}, \"xaxis\": {\"dtick\": 0.1, \"title\": {\"font\": {\"color\": \"#34495e\"}, \"text\": \"<b>Percentage</b>\"}}, \"yaxis\": {\"dtick\": 0.05, \"title\": {\"font\": {\"color\": \"#34495e\"}, \"text\": \"<b>Accuracy</b>\"}}}, {\"showLink\": false, \"linkText\": \"Export to plot.ly\", \"plotlyServerURL\": \"https://plot.ly\"})});</script><script type=\"text/javascript\">window.addEventListener(\"resize\", function(){window._Plotly.Plots.resize(document.getElementById(\"69bf602b-03a4-4afe-b596-5fb9330c7151\"));});</script>"
      ]
     },
     "metadata": {},
     "output_type": "display_data"
    }
   ],
   "source": [
    "plotly_plot_incremental(test_goal_pricerange_accuracies, test_goal_area_accuracies, test_goal_name_accuracies, test_goal_food_accuracies,\n",
    "                        test_requested_accuracies, test_method_accuracies, test_percentages, \"dstc2_test\")"
   ]
  },
  {
   "cell_type": "code",
   "execution_count": null,
   "metadata": {},
   "outputs": [],
   "source": []
  }
 ],
 "metadata": {
  "kernelspec": {
   "display_name": "Python 3",
   "language": "python",
   "name": "python3"
  },
  "language_info": {
   "codemirror_mode": {
    "name": "ipython",
    "version": 3
   },
   "file_extension": ".py",
   "mimetype": "text/x-python",
   "name": "python",
   "nbconvert_exporter": "python",
   "pygments_lexer": "ipython3",
   "version": "3.6.5"
  }
 },
 "nbformat": 4,
 "nbformat_minor": 2
}
