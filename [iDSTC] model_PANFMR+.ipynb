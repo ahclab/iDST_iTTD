{
 "cells": [
  {
   "cell_type": "markdown",
   "metadata": {},
   "source": [
    "### Check GPU availability"
   ]
  },
  {
   "cell_type": "code",
   "execution_count": 1,
   "metadata": {},
   "outputs": [
    {
     "name": "stdout",
     "output_type": "stream",
     "text": [
      "Sun Jan  6 16:20:17 2019       \r\n",
      "+-----------------------------------------------------------------------------+\r\n",
      "| NVIDIA-SMI 384.145                Driver Version: 384.145                   |\r\n",
      "|-------------------------------+----------------------+----------------------+\r\n",
      "| GPU  Name        Persistence-M| Bus-Id        Disp.A | Volatile Uncorr. ECC |\r\n",
      "| Fan  Temp  Perf  Pwr:Usage/Cap|         Memory-Usage | GPU-Util  Compute M. |\r\n",
      "|===============================+======================+======================|\r\n",
      "|   0  GeForce GTX 108...  Off  | 00000000:02:00.0 Off |                  N/A |\r\n",
      "| 23%   33C    P8    17W / 250W |   1809MiB / 11172MiB |      0%      Default |\r\n",
      "+-------------------------------+----------------------+----------------------+\r\n",
      "|   1  GeForce GTX 108...  Off  | 00000000:03:00.0 Off |                  N/A |\r\n",
      "| 23%   31C    P8    17W / 250W |     10MiB / 11172MiB |      0%      Default |\r\n",
      "+-------------------------------+----------------------+----------------------+\r\n",
      "                                                                               \r\n",
      "+-----------------------------------------------------------------------------+\r\n",
      "| Processes:                                                       GPU Memory |\r\n",
      "|  GPU       PID   Type   Process name                             Usage      |\r\n",
      "|=============================================================================|\r\n",
      "|    0      3070      C   ...e/virtualenvs/iDST-PMaBuuf7/bin/python3   595MiB |\r\n",
      "|    0     20825      C   ...e/virtualenvs/iDST-PMaBuuf7/bin/python3   579MiB |\r\n",
      "|    0     32102      C   ...e/virtualenvs/iDST-PMaBuuf7/bin/python3   625MiB |\r\n",
      "+-----------------------------------------------------------------------------+\r\n"
     ]
    }
   ],
   "source": [
    "!nvidia-smi"
   ]
  },
  {
   "cell_type": "markdown",
   "metadata": {},
   "source": [
    "### Import libraries"
   ]
  },
  {
   "cell_type": "code",
   "execution_count": 2,
   "metadata": {},
   "outputs": [
    {
     "name": "stderr",
     "output_type": "stream",
     "text": [
      "[nltk_data] Downloading package punkt to /home/is/andrei-\n",
      "[nltk_data]     cc/nltk_data...\n",
      "[nltk_data]   Package punkt is already up-to-date!\n"
     ]
    },
    {
     "data": {
      "text/html": [
       "<script type=\"text/javascript\">window.PlotlyConfig = {MathJaxConfig: 'local'};</script><script type=\"text/javascript\">if (window.MathJax) {MathJax.Hub.Config({SVG: {font: \"STIX-Web\"}});}</script><script>requirejs.config({paths: { 'plotly': ['https://cdn.plot.ly/plotly-latest.min']},});if(!window._Plotly) {require(['plotly'],function(plotly) {window._Plotly=plotly;});}</script>"
      ],
      "text/vnd.plotly.v1+html": [
       "<script type=\"text/javascript\">window.PlotlyConfig = {MathJaxConfig: 'local'};</script><script type=\"text/javascript\">if (window.MathJax) {MathJax.Hub.Config({SVG: {font: \"STIX-Web\"}});}</script><script>requirejs.config({paths: { 'plotly': ['https://cdn.plot.ly/plotly-latest.min']},});if(!window._Plotly) {require(['plotly'],function(plotly) {window._Plotly=plotly;});}</script>"
      ]
     },
     "metadata": {},
     "output_type": "display_data"
    }
   ],
   "source": [
    "import torch\n",
    "import torch.nn as nn\n",
    "import torch.nn.functional as F\n",
    "import torch.optim as optim\n",
    "\n",
    "import io\n",
    "import math\n",
    "import numpy as np\n",
    "import time\n",
    "import json\n",
    "import plotly\n",
    "import logging\n",
    "logging.getLogger().setLevel(logging.INFO)\n",
    "\n",
    "from pprint import pprint\n",
    "from tqdm import tqdm\n",
    "from idst_util import trivial\n",
    "from idst_util import dstc2\n",
    "\n",
    "from plotly.graph_objs import Scatter, Layout\n",
    "from plotly.graph_objs.layout import Margin\n",
    "plotly.offline.init_notebook_mode(connected = True)"
   ]
  },
  {
   "cell_type": "markdown",
   "metadata": {},
   "source": [
    "### Check DSTC2 availability"
   ]
  },
  {
   "cell_type": "code",
   "execution_count": 3,
   "metadata": {},
   "outputs": [
    {
     "name": "stderr",
     "output_type": "stream",
     "text": [
      "INFO:root:+--------------------------------+\n",
      "INFO:root:|         _ ____  ___________    |\n",
      "INFO:root:|        (_) __ \\/ ___/_  __/    |\n",
      "INFO:root:|       / / / / /\\__ \\ / /       |\n",
      "INFO:root:|      / / /_/ /___/ // /        |\n",
      "INFO:root:|     /_/_____//____//_/         |\n",
      "INFO:root:|                                |\n",
      "INFO:root:+--------------------------------+\n",
      "INFO:root:|Incremental Dialog State Tracker|\n",
      "INFO:root:+--------------------------------+\n",
      "INFO:root:+--------------------------------+\n",
      "INFO:root:|     Dialog State Tracker 2     |\n",
      "INFO:root:|         Data Checker           |\n",
      "INFO:root:+--------------------------------+\n",
      "INFO:root:Looking for dstc2 directory in .\n",
      "INFO:root:dstc2 was found!\n",
      "INFO:root:Looking for dstc2_traindev directory in ./dstc2\n",
      "INFO:root:dstc2_traindev was found!\n",
      "INFO:root:Looking for dstc2_test directory in ./dstc2\n",
      "INFO:root:dstc2_test was found!\n",
      "INFO:root:Looking for dstc2_scripts directory in ./dstc2\n",
      "INFO:root:dstc2_scripts was found!\n",
      "INFO:root:Done!\n"
     ]
    }
   ],
   "source": [
    "trivial.print_idst()\n",
    "dstc2.check()"
   ]
  },
  {
   "cell_type": "markdown",
   "metadata": {},
   "source": [
    "### Retrieve data"
   ]
  },
  {
   "cell_type": "code",
   "execution_count": 4,
   "metadata": {},
   "outputs": [
    {
     "name": "stderr",
     "output_type": "stream",
     "text": [
      "INFO:root:+--------------------------------+\n",
      "INFO:root:|     Dialog State Tracker 2     |\n",
      "INFO:root:|       Dataset Retrieval        |\n",
      "INFO:root:+--------------------------------+\n",
      "INFO:root:Reading dstc2_train.flist, dstc2_dev.flist and ontology_dstc2.json\n",
      "INFO:root:Asserted 1612 dialogs for dstc2_train.flist\n",
      "INFO:root:Asserted 506 dialogs for dstc2_dev.flist\n",
      "INFO:root:Extracting raw train features\n",
      "100%|██████████| 1612/1612 [00:10<00:00, 148.91it/s]\n",
      "INFO:root:Extracting raw dev features\n",
      "100%|██████████| 506/506 [00:03<00:00, 168.03it/s]\n",
      "INFO:root:Reading dstc2_test.flist\n",
      "INFO:root:Asserted 1117 dialogs for dstc2_test.flist\n",
      "INFO:root:Extracting raw test features\n",
      "100%|██████████| 1117/1117 [00:07<00:00, 137.61it/s]\n"
     ]
    }
   ],
   "source": [
    "raw_X_train, raw_Y_train, \\\n",
    "raw_X_dev, raw_Y_dev, \\\n",
    "raw_X_test, raw_Y_test, \\\n",
    "ontology = dstc2.retrieve_raw_datasets(train_data_augmentation = True)"
   ]
  },
  {
   "cell_type": "markdown",
   "metadata": {},
   "source": [
    "### Set device"
   ]
  },
  {
   "cell_type": "code",
   "execution_count": 5,
   "metadata": {},
   "outputs": [
    {
     "name": "stderr",
     "output_type": "stream",
     "text": [
      "INFO:root:+--------------------------------+\n",
      "INFO:root:|            Baseline            |\n",
      "INFO:root:+--------------------------------+\n",
      "INFO:root:Running on GPU 0\n"
     ]
    }
   ],
   "source": [
    "logging.info(\"+--------------------------------+\")\n",
    "logging.info(\"|            Baseline            |\")\n",
    "logging.info(\"+--------------------------------+\")\n",
    "\n",
    "GPU_ID = 0\n",
    "DEVICE = torch.device(\"cuda:{}\".format(GPU_ID) if torch.cuda.is_available() else \"cpu\")\n",
    "#DEVICE = \"cpu\"\n",
    "if DEVICE == \"cpu\":\n",
    "    logging.warning(\"Running on CPU\")\n",
    "else:\n",
    "    logging.info(\"Running on GPU {}\".format(GPU_ID))"
   ]
  },
  {
   "cell_type": "markdown",
   "metadata": {},
   "source": [
    "### Create vocabularies"
   ]
  },
  {
   "cell_type": "code",
   "execution_count": 6,
   "metadata": {},
   "outputs": [
    {
     "name": "stderr",
     "output_type": "stream",
     "text": [
      "INFO:root:+--------------------------------+\n",
      "INFO:root:|          Vocabulary            |\n",
      "INFO:root:+--------------------------------+\n",
      "INFO:root:Creating token_to_index, index_to_token and token_to_count dictionaries\n",
      "100%|██████████| 3224/3224 [00:00<00:00, 33921.59it/s]\n"
     ]
    }
   ],
   "source": [
    "logging.info(\"+--------------------------------+\")\n",
    "logging.info(\"|          Vocabulary            |\")\n",
    "logging.info(\"+--------------------------------+\")\n",
    "logging.info(\"Creating token_to_index, index_to_token and token_to_count dictionaries\")\n",
    "\n",
    "token_to_index = {\"<unk>\": 0}\n",
    "index_to_token = {0: \"<unk>\"}\n",
    "token_to_count = {\"<unk>\": 1}\n",
    "\n",
    "for raw_train_dialog in tqdm(raw_X_train):\n",
    "    \n",
    "    for raw_train_turn in raw_train_dialog[\"turns\"]:\n",
    "        \n",
    "        tokens_scores = raw_train_turn[\"system\"] + raw_train_turn[\"user\"]\n",
    "        \n",
    "        for token_score in tokens_scores:\n",
    "            token = token_score[0]\n",
    "            if token not in token_to_index:\n",
    "                token_to_index[token] = len(token_to_index)\n",
    "                index_to_token[len(token_to_index)] = token\n",
    "                token_to_count[token] = 1\n",
    "            else:\n",
    "                token_to_count[token] += 1\n",
    "                \n",
    "assert len(token_to_index) == len(index_to_token)\n",
    "assert len(token_to_index) == len(token_to_count)"
   ]
  },
  {
   "cell_type": "markdown",
   "metadata": {},
   "source": [
    "### Import word embeddings"
   ]
  },
  {
   "cell_type": "code",
   "execution_count": 7,
   "metadata": {},
   "outputs": [],
   "source": [
    "def load_vectors(fname):\n",
    "    fin = io.open(fname, 'r', encoding='utf-8', newline='\\n', errors='ignore')\n",
    "    n, d = map(int, fin.readline().split())\n",
    "    data = {}\n",
    "    for line in fin:\n",
    "        tokens = line.rstrip().split(' ')\n",
    "        data[tokens[0]] = np.array(tokens[1:]).astype(np.float32)\n",
    "    return data"
   ]
  },
  {
   "cell_type": "code",
   "execution_count": 8,
   "metadata": {},
   "outputs": [],
   "source": [
    "fasttext_vectors = load_vectors(\"idst_util/wiki-news-300d-1M-subword.vec\")"
   ]
  },
  {
   "cell_type": "markdown",
   "metadata": {},
   "source": [
    "### Execution configuration"
   ]
  },
  {
   "cell_type": "code",
   "execution_count": 9,
   "metadata": {},
   "outputs": [
    {
     "name": "stderr",
     "output_type": "stream",
     "text": [
      "INFO:root:+--------------------------------+\n",
      "INFO:root:|         Configuration          |\n",
      "INFO:root:+--------------------------------+\n",
      "INFO:root:VOCABULARY_SIZE:\t\t1149\n",
      "INFO:root:GOAL_FOOD_DIM:\t\t93\n",
      "INFO:root:GOAL_PRICERANGE_DIM:\t\t5\n",
      "INFO:root:GOAL_NAME_DIM:\t\t115\n",
      "INFO:root:GOAL_AREA_DIM:\t\t7\n",
      "INFO:root:METHOD_DIM:\t\t\t5\n",
      "INFO:root:REQUESTED_DIM:\t\t8\n",
      "INFO:root:EMBEDDING_DIM:\t\t300\n",
      "INFO:root:ALTERED_EMBEDDING_DIM:\t310\n",
      "INFO:root:HIDDEN_DIM:\t\t\t100\n",
      "INFO:root:NUM_EPOCHS:\t\t\t30\n",
      "INFO:root:GOAL_LOSS_FUNCTION:\t\tCrossEntropyLoss()\n",
      "INFO:root:METHOD_LOSS_FUNCTION:\t\tCrossEntropyLoss()\n",
      "INFO:root:REQUESTED_LOSS_FUNCTION:\tBCELoss()\n"
     ]
    }
   ],
   "source": [
    "logging.info(\"+--------------------------------+\")\n",
    "logging.info(\"|         Configuration          |\")\n",
    "logging.info(\"+--------------------------------+\")\n",
    "\n",
    "VOCABULARY_SIZE = len(token_to_index)\n",
    "logging.info(\"VOCABULARY_SIZE:\\t\\t{}\".format(VOCABULARY_SIZE))\n",
    "\n",
    "# NOTE: +2 because of null and dontcare\n",
    "GOAL_FOOD_DIM = len(ontology[\"informable\"][\"food\"]) + 2 \n",
    "GOAL_PRICERANGE_DIM = len(ontology[\"informable\"][\"pricerange\"]) + 2\n",
    "GOAL_NAME_DIM = len(ontology[\"informable\"][\"name\"]) + 2\n",
    "GOAL_AREA_DIM = len(ontology[\"informable\"][\"area\"]) + 2\n",
    "METHOD_DIM = len(ontology[\"method\"])\n",
    "REQUESTED_DIM = len(ontology[\"requestable\"])\n",
    "EMBEDDING_DIM = 300\n",
    "ALTERED_EMBEDDING_DIM = 310\n",
    "HIDDEN_DIM = 100\n",
    "NUM_EPOCHS = 30\n",
    "GOAL_LOSS_FUNCTION = nn.CrossEntropyLoss()\n",
    "METHOD_LOSS_FUNCTION = nn.CrossEntropyLoss()\n",
    "REQUESTED_LOSS_FUNCTION = nn.BCELoss()\n",
    "logging.info(\"GOAL_FOOD_DIM:\\t\\t{}\".format(GOAL_FOOD_DIM))\n",
    "logging.info(\"GOAL_PRICERANGE_DIM:\\t\\t{}\".format(GOAL_PRICERANGE_DIM))\n",
    "logging.info(\"GOAL_NAME_DIM:\\t\\t{}\".format(GOAL_NAME_DIM))\n",
    "logging.info(\"GOAL_AREA_DIM:\\t\\t{}\".format(GOAL_AREA_DIM))\n",
    "logging.info(\"METHOD_DIM:\\t\\t\\t{}\".format(METHOD_DIM))\n",
    "logging.info(\"REQUESTED_DIM:\\t\\t{}\".format(REQUESTED_DIM))\n",
    "logging.info(\"EMBEDDING_DIM:\\t\\t{}\".format(EMBEDDING_DIM))\n",
    "logging.info(\"ALTERED_EMBEDDING_DIM:\\t{}\".format(ALTERED_EMBEDDING_DIM))\n",
    "logging.info(\"HIDDEN_DIM:\\t\\t\\t{}\".format(HIDDEN_DIM))\n",
    "logging.info(\"NUM_EPOCHS:\\t\\t\\t{}\".format(NUM_EPOCHS))\n",
    "logging.info(\"GOAL_LOSS_FUNCTION:\\t\\t{}\".format(GOAL_LOSS_FUNCTION))\n",
    "logging.info(\"METHOD_LOSS_FUNCTION:\\t\\t{}\".format(METHOD_LOSS_FUNCTION))\n",
    "logging.info(\"REQUESTED_LOSS_FUNCTION:\\t{}\".format(REQUESTED_LOSS_FUNCTION))"
   ]
  },
  {
   "cell_type": "markdown",
   "metadata": {},
   "source": [
    "### Create embeddings matrix"
   ]
  },
  {
   "cell_type": "code",
   "execution_count": 10,
   "metadata": {},
   "outputs": [],
   "source": [
    "# Xavier initialization\n",
    "EMBEDDING_MATRIX = np.random.randn(VOCABULARY_SIZE, EMBEDDING_DIM).astype(np.float32) * np.sqrt(2.0 / VOCABULARY_SIZE)\n",
    "\n",
    "# Resolving embeddings\n",
    "for token, index in token_to_index.items():\n",
    "    if fasttext_vectors.get(token, None) is not None:\n",
    "        EMBEDDING_MATRIX[index] = fasttext_vectors[token]\n",
    "\n",
    "# Rescaling embeddings\n",
    "means = np.mean(EMBEDDING_MATRIX, axis=0)\n",
    "variance = np.sqrt(np.mean((EMBEDDING_MATRIX - means) ** 2, axis=0))\n",
    "EMBEDDING_MATRIX = (EMBEDDING_MATRIX - means) / variance\n",
    "\n",
    "EMBEDDING_MATRIX = torch.FloatTensor(EMBEDDING_MATRIX)"
   ]
  },
  {
   "cell_type": "markdown",
   "metadata": {},
   "source": [
    "### Models utilities"
   ]
  },
  {
   "cell_type": "code",
   "execution_count": 11,
   "metadata": {},
   "outputs": [],
   "source": [
    "def get_index_and_score(turn, token_to_index, mode, device):\n",
    "    indices = []\n",
    "    scores = []\n",
    "    if mode == \"train\":\n",
    "        for system_token, system_token_score in turn[\"system\"]:\n",
    "            indices.append(token_to_index[system_token])\n",
    "            scores.append(system_token_score)\n",
    "        for user_token, user_token_score in turn[\"user\"]:\n",
    "            if np.random.binomial(n = 1, p = 0.1) == 1:\n",
    "                indices.append(token_to_index[\"<unk>\"])\n",
    "            else:\n",
    "                indices.append(token_to_index[user_token])\n",
    "            scores.append(user_token_score)\n",
    "    else:\n",
    "        tokens_scores = turn[\"system\"] + turn[\"user\"]\n",
    "        for token, score in tokens_scores:\n",
    "            if token not in token_to_index:\n",
    "                indices.append(token_to_index[\"<unk>\"])\n",
    "            else:\n",
    "                indices.append(token_to_index[token])\n",
    "            scores.append(score)\n",
    "    assert len(indices) == len(scores)\n",
    "    return torch.tensor(indices, dtype = torch.long, device = device), torch.tensor(scores, dtype = torch.float, device = device)\n",
    "\n",
    "def plotly_plot(dev_accuracies, test_accuracies, accuracy_type):\n",
    "    plotly.offline.iplot({\n",
    "                            \"data\": [Scatter(\n",
    "                                            x = list(range(len(dev_accuracies))),\n",
    "                                            y = dev_accuracies,\n",
    "                                            mode = \"lines+markers\",\n",
    "                                            name = \"Dev {} Accuracy\".format(accuracy_type),\n",
    "                                            marker = dict(color = \"#3498db\")),\n",
    "                                    Scatter(\n",
    "                                            x = list(range(len(test_accuracies))),\n",
    "                                            y = test_accuracies,\n",
    "                                            mode = \"lines+markers\",\n",
    "                                            name = \"Test {} Accuracy\".format(accuracy_type),\n",
    "                                            marker = dict(color = \"#9b59b6\"))],\n",
    "                            \"layout\": Layout(\n",
    "                                             title = \"<b>Dev-Test {} Accuracy</b>\".format(accuracy_type),\n",
    "                                             xaxis = dict(title = \"<b>Epoch</b>\",\n",
    "                                                          dtick = 1,\n",
    "                                                          titlefont = dict(color = \"#34495e\")),\n",
    "                                             yaxis = dict(title = \"<b>Accuracy</b>\",\n",
    "                                                          titlefont = dict(color = \"#34495e\")),\n",
    "                                             margin = Margin(b = 150))\n",
    "                        })\n",
    "\n",
    "class EarlyStopping():\n",
    "    \n",
    "    def __init__(self, min_delta = 0, patience = 1):\n",
    "        \n",
    "        self.min_delta = min_delta\n",
    "        self.patience = patience\n",
    "        self.wait = 0\n",
    "        self.stopped_epoch = 0\n",
    "        self.best = -np.Inf\n",
    "        self.stop_training = False\n",
    "    \n",
    "    def on_epoch_end(self, epoch, current_value):\n",
    "        if np.greater((current_value - self.min_delta), self.best):\n",
    "            self.best = current_value\n",
    "            self.wait = 0\n",
    "        else:\n",
    "            self.wait += 1\n",
    "            if self.wait > self.patience:\n",
    "                self.stopped_epoch = epoch\n",
    "                self.stop_training = True\n",
    "        return self.stop_training\n",
    "\n",
    "get_bin = lambda x, n: format(x, \"b\").zfill(n)\n",
    "\n",
    "def make_tracker(model_GoalPricerange, model_GoalArea, model_GoalName, model_GoalFood, model_Requested, model_Method, raw_X, raw_Y, dataset):\n",
    "    \n",
    "    model_GoalPricerange = model_GoalPricerange.eval()\n",
    "    model_GoalArea = model_GoalArea.eval()\n",
    "    model_GoalName = model_GoalName.eval()\n",
    "    model_GoalFood = model_GoalFood.eval()\n",
    "    model_Requested = model_Requested.eval()\n",
    "    model_Method = model_Method.eval()\n",
    "    \n",
    "    with torch.no_grad():\n",
    "        tracker_json = {}\n",
    "        tracker_json[\"dataset\"] = dataset\n",
    "        tracker_json[\"sessions\"] = []\n",
    "\n",
    "        start_time = time.time()\n",
    "        for raw_X_dialog, raw_Y_dialog in tqdm(zip(raw_X, raw_Y), total = len(raw_X)):\n",
    "            \n",
    "            model_GoalPricerange.hidden = model_GoalPricerange.init_hidden()\n",
    "            model_GoalArea.hidden = model_GoalArea.init_hidden()\n",
    "            model_GoalName.hidden = model_GoalName.init_hidden()\n",
    "            model_GoalFood.hidden = model_GoalFood.init_hidden()\n",
    "            model_Requested.hidden = model_Requested.init_hidden()\n",
    "            model_Method.hidden = model_Method.init_hidden()\n",
    "            \n",
    "            session = {}\n",
    "            session[\"session-id\"] = raw_X_dialog[\"session-id\"]\n",
    "            session[\"turns\"] = []\n",
    "\n",
    "            for raw_X_turn, raw_Y_turn in zip(raw_X_dialog[\"turns\"], raw_Y_dialog[\"turns\"]):\n",
    "                turn = {}\n",
    "                turn[\"goal-labels\"] = {}\n",
    "\n",
    "                indices, scores = get_index_and_score(raw_X_turn, token_to_index, mode = \"eval\", device = DEVICE)\n",
    "                \n",
    "                goal_food = model_GoalFood(indices, scores)\n",
    "                goal_pricerange = model_GoalPricerange(indices, scores)\n",
    "                goal_name = model_GoalName(indices, scores)\n",
    "                goal_area = model_GoalArea(indices, scores)\n",
    "                requested = model_Requested(indices, scores)\n",
    "                method = model_Method(indices, scores)\n",
    "                turn[\"goal-labels\"][\"food\"] = retrieve_output_GoalFood(goal_food, ontology)\n",
    "                turn[\"goal-labels\"][\"pricerange\"] = retrieve_output_GoalPricerange(goal_pricerange, ontology)\n",
    "                turn[\"goal-labels\"][\"name\"] = retrieve_output_GoalName(goal_name, ontology)\n",
    "                turn[\"goal-labels\"][\"area\"] = retrieve_output_GoalArea(goal_area, ontology)\n",
    "                turn[\"requested-slots\"] = retrieve_output_Requested(requested, ontology)\n",
    "                turn[\"method-label\"] = retrieve_output_Method(method, ontology)\n",
    "                \n",
    "                session[\"turns\"].append(turn)\n",
    "            tracker_json[\"sessions\"].append(session)\n",
    "        end_time = time.time()\n",
    "        tracker_json[\"wall-time\"] = end_time - start_time\n",
    "        \n",
    "        return tracker_json\n",
    "\n",
    "def get_scores(model_GoalPricerange, model_GoalArea, model_GoalName, model_GoalFood, model_Requested, model_Method, raw_X, raw_Y, dataset):\n",
    "    goal_accuracy = 0\n",
    "    requested_accuracy = 0\n",
    "    method_accuracy = 0\n",
    "    \n",
    "    tracker = make_tracker(model_GoalPricerange, model_GoalArea, model_GoalName, model_GoalFood, model_Requested, model_Method, raw_X, raw_Y, dataset = dataset)\n",
    "    \n",
    "    with open(\"tracker.json\", \"w\") as tracker_file:\n",
    "        json.dump(tracker, tracker_file)\n",
    "    \n",
    "    if dataset == \"dstc2_train\":\n",
    "        !python2 dstc2/dstc2_scripts/score.py\\\n",
    "        --dataset dstc2_train\\\n",
    "        --dataroot dstc2/dstc2_traindev/data\\\n",
    "        --ontology dstc2/dstc2_scripts/config/ontology_dstc2.json\\\n",
    "        --trackfile tracker.json\\\n",
    "        --scorefile tracker.score.csv\n",
    "    elif dataset == \"dstc2_dev\":\n",
    "        !python2 dstc2/dstc2_scripts/score.py\\\n",
    "        --dataset dstc2_dev\\\n",
    "        --dataroot dstc2/dstc2_traindev/data\\\n",
    "        --ontology dstc2/dstc2_scripts/config/ontology_dstc2.json\\\n",
    "        --trackfile tracker.json\\\n",
    "        --scorefile tracker.score.csv\n",
    "    else:\n",
    "        !python2 dstc2/dstc2_scripts/score.py\\\n",
    "        --dataset dstc2_test\\\n",
    "        --dataroot dstc2/dstc2_test/data\\\n",
    "        --ontology dstc2/dstc2_scripts/config/ontology_dstc2.json\\\n",
    "        --trackfile tracker.json\\\n",
    "        --scorefile tracker.score.csv\n",
    "\n",
    "    file_cat = !python2 dstc2/dstc2_scripts/report.py --scorefile tracker.score.csv\n",
    "    \n",
    "    found_accuracies = False\n",
    "    for line in file_cat:\n",
    "        if line.startswith(\"Accuracy\"):\n",
    "            accuracies = line.split(\"|\")\n",
    "            goal_accuracy = float(accuracies[1])\n",
    "            requested_accuracy = float(accuracies[2])\n",
    "            method_accuracy = float(accuracies[3])\n",
    "            found_accuracies = True\n",
    "        if found_accuracies and line.startswith(\"l2\"):\n",
    "            l2s = line.split(\"|\")\n",
    "            goal_l2 = float(l2s[1])\n",
    "            method_l2 = float(l2s[2])\n",
    "            requested_l2 = float(l2s[3])\n",
    "    \n",
    "    return goal_accuracy, goal_l2, requested_accuracy, requested_l2, method_accuracy, method_l2\n",
    "\n",
    "def retrieve_gold_GoalFood(raw_Y, ontology, device):\n",
    "    ontology_informable_food = ontology[\"informable\"][\"food\"]\n",
    "    raw_goal_food = raw_Y[\"goal\"][\"food\"]\n",
    "    goal_food = 0\n",
    "    if raw_goal_food != None:\n",
    "        if raw_goal_food == \"dontcare\":\n",
    "            goal_food = 1\n",
    "        else:    \n",
    "            goal_food = ontology_informable_food.index(raw_goal_food) + 2\n",
    "    return torch.tensor([goal_food], dtype = torch.long, device = device)\n",
    "\n",
    "def retrieve_output_GoalFood(output_tensor, ontology):\n",
    "    ontology_informable_food = ontology[\"informable\"][\"food\"]\n",
    "    output_tensor = output_tensor.view(-1)\n",
    "    output_tensor = torch.exp(output_tensor)\n",
    "    goal_food_dict = {}\n",
    "    \n",
    "    index = torch.argmax(output_tensor).item()\n",
    "    goal_food_dict[\"dontcare\"] = output_tensor[1].item() \n",
    "    for index in range(len(output_tensor) - 2):\n",
    "        goal_food_dict[ontology_informable_food[index]] = output_tensor[index + 2].item()\n",
    "    return goal_food_dict\n",
    "\n",
    "def retrieve_gold_GoalPriceRange(raw_Y, ontology, device):\n",
    "    ontology_informable_pricerange = ontology[\"informable\"][\"pricerange\"]\n",
    "    raw_goal_pricerange = raw_Y[\"goal\"][\"pricerange\"]\n",
    "    goal_pricerange = 0\n",
    "    if raw_goal_pricerange != None:\n",
    "        if raw_goal_pricerange == \"dontcare\":\n",
    "            goal_pricerange = 1\n",
    "        else:    \n",
    "            goal_pricerange = ontology_informable_pricerange.index(raw_goal_pricerange) + 2\n",
    "    return torch.tensor([goal_pricerange], dtype = torch.long, device = device)\n",
    "\n",
    "def retrieve_output_GoalPricerange(output_tensor, ontology):\n",
    "    ontology_informable_pricerange = ontology[\"informable\"][\"pricerange\"]\n",
    "    output_tensor = output_tensor.view(-1)\n",
    "    output_tensor = torch.exp(output_tensor)\n",
    "    goal_pricerange_dict = {}\n",
    "    \n",
    "    index = torch.argmax(output_tensor).item()\n",
    "    goal_pricerange_dict[\"dontcare\"] = output_tensor[1].item()\n",
    "    for index in range(len(output_tensor) - 2):     \n",
    "        goal_pricerange_dict[ontology_informable_pricerange[index]] = output_tensor[index + 2].item()\n",
    "    return goal_pricerange_dict\n",
    "\n",
    "def retrieve_gold_GoalName(raw_Y, ontology, device):\n",
    "    ontology_informable_name = ontology[\"informable\"][\"name\"]\n",
    "    raw_goal_name = raw_Y[\"goal\"][\"name\"]\n",
    "    goal_name = 0\n",
    "    if raw_goal_name != None:\n",
    "        if raw_goal_name == \"dontcare\":\n",
    "            goal_name = 1\n",
    "        else:    \n",
    "            goal_name = ontology_informable_name.index(raw_goal_name) + 2\n",
    "    return torch.tensor([goal_name], dtype = torch.long, device = device)\n",
    "\n",
    "def retrieve_output_GoalName(output_tensor, ontology):\n",
    "    ontology_informable_name = ontology[\"informable\"][\"name\"]\n",
    "    output_tensor = output_tensor.view(-1)\n",
    "    output_tensor = torch.exp(output_tensor)\n",
    "    goal_name_dict = {}\n",
    "    \n",
    "    index = torch.argmax(output_tensor).item()\n",
    "    goal_name_dict[\"dontcare\"] = output_tensor[1].item()\n",
    "    for index in range(len(output_tensor) - 2):\n",
    "        goal_name_dict[ontology_informable_name[index]] = output_tensor[index + 2].item()\n",
    "        \n",
    "    return goal_name_dict\n",
    "\n",
    "def retrieve_gold_GoalArea(raw_Y, ontology, device):\n",
    "    ontology_informable_area = ontology[\"informable\"][\"area\"]\n",
    "    raw_goal_area = raw_Y[\"goal\"][\"area\"]\n",
    "    goal_area = 0\n",
    "    if raw_goal_area != None:\n",
    "        if raw_goal_area == \"dontcare\":\n",
    "            goal_area = 1\n",
    "        else:    \n",
    "            goal_area = ontology_informable_area.index(raw_goal_area) + 2\n",
    "    return torch.tensor([goal_area], dtype = torch.long, device = device)\n",
    "\n",
    "def retrieve_output_GoalArea(output_tensor, ontology):\n",
    "    ontology_informable_area = ontology[\"informable\"][\"area\"]\n",
    "    output_tensor = output_tensor.view(-1)\n",
    "    output_tensor = torch.exp(output_tensor)\n",
    "    goal_area_dict = {}\n",
    "    \n",
    "    index = torch.argmax(output_tensor).item()\n",
    "    goal_area_dict[\"dontcare\"] = output_tensor[1].item()\n",
    "    for index in range(len(output_tensor) - 2):\n",
    "        goal_area_dict[ontology_informable_area[index]] = output_tensor[index + 2].item()\n",
    "        \n",
    "    return goal_area_dict\n",
    "\n",
    "def retrieve_gold_Method(raw_Y, ontology, device):\n",
    "    ontology_method = ontology[\"method\"]\n",
    "    raw_gold_method = raw_Y[\"method\"]\n",
    "    gold_method = ontology_method.index(raw_gold_method)\n",
    "    return torch.tensor([gold_method], dtype = torch.long, device = device)\n",
    "\n",
    "def retrieve_output_Method(output_tensor, ontology):\n",
    "    ontology_method = ontology[\"method\"]\n",
    "    output_tensor = output_tensor.view(-1)\n",
    "    output_tensor = torch.exp(output_tensor)\n",
    "    method_dict = {}\n",
    "    \n",
    "    for index in range(len(output_tensor)):\n",
    "        method_dict[ontology_method[index]] = output_tensor[index].item()\n",
    "    \n",
    "    return method_dict\n",
    "\n",
    "def retrieve_gold_Requested(raw_Y, ontology, device):\n",
    "    ontology_requestable = ontology[\"requestable\"]\n",
    "    raw_gold_requested = raw_Y[\"requested\"]\n",
    "    gold_requested = np.zeros(len(ontology_requestable), dtype = float)\n",
    "    if len(raw_gold_requested) != 0:\n",
    "        for requested in raw_gold_requested:\n",
    "            gold_requested[ontology_requestable.index(requested)] = 1.0\n",
    "    return torch.tensor([gold_requested], dtype = torch.float, device = device)\n",
    "\n",
    "def retrieve_output_Requested(output_tensor, ontology):\n",
    "    ontology_requestable = ontology[\"requestable\"]\n",
    "    output_tensor = output_tensor.view(-1)\n",
    "    requested_dict = {}\n",
    "    for index in range(len(output_tensor)):\n",
    "        probability_value = output_tensor[index].item()\n",
    "        if np.greater_equal(probability_value, 0.5):\n",
    "            requested_dict[ontology_requestable[index]] = probability_value\n",
    "    return requested_dict"
   ]
  },
  {
   "cell_type": "markdown",
   "metadata": {},
   "source": [
    "### Goal Pricerange Model"
   ]
  },
  {
   "cell_type": "code",
   "execution_count": 50,
   "metadata": {},
   "outputs": [],
   "source": [
    "class GoalPricerangeModel(nn.Module):\n",
    "    \n",
    "    def __init__(self,\n",
    "                 vocabulary_size,\n",
    "                 embedding_dim,\n",
    "                 altered_embedding_dim,\n",
    "                 hidden_dim,\n",
    "                 goal_pricerange_dim,\n",
    "                 embedding_matrix,\n",
    "                 device):\n",
    "        \n",
    "        super(GoalPricerangeModel, self).__init__()\n",
    "        \n",
    "        self.hidden_dim = hidden_dim\n",
    "        self.goal_pricerange_dim = goal_pricerange_dim\n",
    "        self.device = device\n",
    "        \n",
    "        self.embeddings = nn.Embedding.from_pretrained(embedding_matrix)\n",
    "        \n",
    "        self.altered_embeddings = nn.Linear(in_features = (embedding_dim + 1),\n",
    "                                            out_features = altered_embedding_dim)\n",
    "        \n",
    "        self.lstm = nn.LSTM(input_size = altered_embedding_dim,\n",
    "                            hidden_size = hidden_dim)\n",
    "        \n",
    "        self.goal_pricerange_classifier = nn.Linear(in_features = hidden_dim,\n",
    "                                                    out_features = goal_pricerange_dim)\n",
    "        \n",
    "        self.hidden = self.init_hidden()\n",
    "    \n",
    "    def init_hidden(self):\n",
    "        \n",
    "        return (torch.zeros(1, 1, self.hidden_dim, device = self.device),\n",
    "                torch.zeros(1, 1, self.hidden_dim, device = self.device))\n",
    "        \n",
    "    def forward(self, indices, scores):\n",
    "    \n",
    "        embeddings = self.embeddings(indices)\n",
    "        \n",
    "        embeddings_concat_score = torch.cat((embeddings, scores.unsqueeze(dim = 1)), dim = 1) \n",
    "        \n",
    "        altered_embeddings = F.relu(self.altered_embeddings(embeddings_concat_score))\n",
    "        \n",
    "        lstm_out, self.hidden = self.lstm(altered_embeddings.view(len(indices), 1, -1), self.hidden)\n",
    "        \n",
    "        goal_pricerange = F.log_softmax(self.goal_pricerange_classifier(self.hidden[0]).view(-1, self.goal_pricerange_dim), dim = 1) \n",
    "        \n",
    "        return goal_pricerange\n",
    "\n",
    "model_GoalPricerange = GoalPricerangeModel(vocabulary_size = VOCABULARY_SIZE,\n",
    "                                           embedding_dim = EMBEDDING_DIM,\n",
    "                                           altered_embedding_dim = ALTERED_EMBEDDING_DIM,\n",
    "                                           hidden_dim = HIDDEN_DIM,\n",
    "                                           goal_pricerange_dim = GOAL_PRICERANGE_DIM,\n",
    "                                           embedding_matrix = EMBEDDING_MATRIX,\n",
    "                                           device = DEVICE)\n",
    "\n",
    "model_GoalPricerange = model_GoalPricerange.to(DEVICE)\n",
    "\n",
    "optimizer_GoalPricerangeModel = optim.Adam(model_GoalPricerange.parameters(), lr = 1e-4)"
   ]
  },
  {
   "cell_type": "markdown",
   "metadata": {},
   "source": [
    "### Goal Area Model"
   ]
  },
  {
   "cell_type": "code",
   "execution_count": 13,
   "metadata": {},
   "outputs": [],
   "source": [
    "class GoalAreaModel(nn.Module):\n",
    "    \n",
    "    def __init__(self,\n",
    "                 vocabulary_size,\n",
    "                 embedding_dim,\n",
    "                 altered_embedding_dim,\n",
    "                 hidden_dim,\n",
    "                 goal_area_dim,\n",
    "                 embedding_matrix,\n",
    "                 device):\n",
    "        \n",
    "        super(GoalAreaModel, self).__init__()\n",
    "        \n",
    "        self.hidden_dim = hidden_dim\n",
    "        self.goal_area_dim = goal_area_dim\n",
    "        self.device = device\n",
    "        \n",
    "        self.embeddings = nn.Embedding.from_pretrained(embedding_matrix)\n",
    "        \n",
    "        self.altered_embeddings = nn.Linear(in_features = (embedding_dim + 1),\n",
    "                                            out_features = altered_embedding_dim)\n",
    "        \n",
    "        self.lstm = nn.LSTM(input_size = altered_embedding_dim,\n",
    "                            hidden_size = hidden_dim)\n",
    "        \n",
    "        self.goal_area_classifier = nn.Linear(in_features = hidden_dim,\n",
    "                                              out_features = goal_area_dim)\n",
    "        \n",
    "        self.hidden = self.init_hidden()\n",
    "    \n",
    "    def init_hidden(self):\n",
    "        \n",
    "        return (torch.zeros(1, 1, self.hidden_dim, device = self.device),\n",
    "                torch.zeros(1, 1, self.hidden_dim, device = self.device))\n",
    "        \n",
    "    def forward(self, indices, scores):\n",
    "    \n",
    "        embeddings = self.embeddings(indices)\n",
    "        \n",
    "        embeddings_concat_score = torch.cat((embeddings, scores.unsqueeze(dim = 1)), dim = 1) \n",
    "        \n",
    "        altered_embeddings = F.relu(self.altered_embeddings(embeddings_concat_score))\n",
    "        \n",
    "        lstm_out, self.hidden = self.lstm(altered_embeddings.view(len(indices), 1, -1), self.hidden)\n",
    "        \n",
    "        goal_area = F.log_softmax(self.goal_area_classifier(self.hidden[0]).view(-1, self.goal_area_dim), dim = 1)\n",
    "        \n",
    "        return goal_area\n",
    "\n",
    "model_GoalArea = GoalAreaModel(vocabulary_size = VOCABULARY_SIZE,\n",
    "                               embedding_dim = EMBEDDING_DIM,\n",
    "                               altered_embedding_dim = ALTERED_EMBEDDING_DIM,\n",
    "                               hidden_dim = HIDDEN_DIM,\n",
    "                               goal_area_dim = GOAL_AREA_DIM,\n",
    "                               embedding_matrix = EMBEDDING_MATRIX,\n",
    "                               device = DEVICE)\n",
    "\n",
    "model_GoalArea = model_GoalArea.to(DEVICE)\n",
    "\n",
    "optimizer_GoalAreaModel = optim.Adam(model_GoalArea.parameters(), lr = 1e-4)"
   ]
  },
  {
   "cell_type": "markdown",
   "metadata": {},
   "source": [
    "### Goal Name Model"
   ]
  },
  {
   "cell_type": "code",
   "execution_count": 14,
   "metadata": {},
   "outputs": [],
   "source": [
    "class GoalNameModel(nn.Module):\n",
    "    \n",
    "    def __init__(self,\n",
    "                 vocabulary_size,\n",
    "                 embedding_dim,\n",
    "                 altered_embedding_dim,\n",
    "                 hidden_dim,\n",
    "                 goal_name_dim,\n",
    "                 embedding_matrix,\n",
    "                 device):\n",
    "        \n",
    "        super(GoalNameModel, self).__init__()\n",
    "        \n",
    "        self.hidden_dim = hidden_dim\n",
    "        self.goal_name_dim = goal_name_dim\n",
    "        self.device = device\n",
    "        \n",
    "        self.embeddings = nn.Embedding.from_pretrained(embedding_matrix)\n",
    "        \n",
    "        self.altered_embeddings = nn.Linear(in_features = (embedding_dim + 1),\n",
    "                                            out_features = altered_embedding_dim)\n",
    "        \n",
    "        self.lstm = nn.LSTM(input_size = altered_embedding_dim,\n",
    "                            hidden_size = hidden_dim)\n",
    "        \n",
    "        self.goal_name_classifier = nn.Linear(in_features = hidden_dim,\n",
    "                                              out_features = goal_name_dim)\n",
    "        \n",
    "        self.hidden = self.init_hidden()\n",
    "    \n",
    "    def init_hidden(self):\n",
    "        \n",
    "        return (torch.zeros(1, 1, self.hidden_dim, device = self.device),\n",
    "                torch.zeros(1, 1, self.hidden_dim, device = self.device))\n",
    "        \n",
    "    def forward(self, indices, scores):\n",
    "    \n",
    "        embeddings = self.embeddings(indices)\n",
    "        \n",
    "        embeddings_concat_score = torch.cat((embeddings, scores.unsqueeze(dim = 1)), dim = 1) \n",
    "        \n",
    "        altered_embeddings = F.relu(self.altered_embeddings(embeddings_concat_score))\n",
    "        \n",
    "        lstm_out, self.hidden = self.lstm(altered_embeddings.view(len(indices), 1, -1), self.hidden)\n",
    "        \n",
    "        goal_name = F.log_softmax(self.goal_name_classifier(self.hidden[0]).view(-1, self.goal_name_dim), dim = 1)\n",
    "        \n",
    "        return goal_name\n",
    "\n",
    "model_GoalName = GoalNameModel(vocabulary_size = VOCABULARY_SIZE,\n",
    "                               embedding_dim = EMBEDDING_DIM,\n",
    "                               altered_embedding_dim = ALTERED_EMBEDDING_DIM,\n",
    "                               hidden_dim = HIDDEN_DIM,\n",
    "                               goal_name_dim = GOAL_NAME_DIM,\n",
    "                               embedding_matrix = EMBEDDING_MATRIX,\n",
    "                               device = DEVICE)\n",
    "\n",
    "model_GoalName = model_GoalName.to(DEVICE)\n",
    "\n",
    "optimizer_GoalNameModel = optim.Adam(model_GoalName.parameters(), lr = 1e-4)"
   ]
  },
  {
   "cell_type": "markdown",
   "metadata": {},
   "source": [
    "### Goal Food Model"
   ]
  },
  {
   "cell_type": "code",
   "execution_count": 15,
   "metadata": {},
   "outputs": [],
   "source": [
    "class GoalFoodModel(nn.Module):\n",
    "    \n",
    "    def __init__(self,\n",
    "                 vocabulary_size,\n",
    "                 embedding_dim,\n",
    "                 altered_embedding_dim,\n",
    "                 hidden_dim,\n",
    "                 goal_food_dim,\n",
    "                 embedding_matrix,\n",
    "                 device):\n",
    "        \n",
    "        super(GoalFoodModel, self).__init__()\n",
    "        \n",
    "        self.hidden_dim = hidden_dim\n",
    "        self.goal_food_dim = goal_food_dim\n",
    "        self.device = device\n",
    "        \n",
    "        self.embeddings = nn.Embedding.from_pretrained(embedding_matrix)\n",
    "        \n",
    "        self.altered_embeddings = nn.Linear(in_features = (embedding_dim + 1),\n",
    "                                            out_features = altered_embedding_dim)\n",
    "        \n",
    "        self.lstm = nn.LSTM(input_size = altered_embedding_dim,\n",
    "                            hidden_size = hidden_dim)\n",
    "        \n",
    "        self.goal_food_classifier = nn.Linear(in_features = hidden_dim,\n",
    "                                              out_features = goal_food_dim)\n",
    "        \n",
    "        self.hidden = self.init_hidden()\n",
    "    \n",
    "    def init_hidden(self):\n",
    "        \n",
    "        return (torch.zeros(1, 1, self.hidden_dim, device = self.device),\n",
    "                torch.zeros(1, 1, self.hidden_dim, device = self.device))\n",
    "        \n",
    "    def forward(self, indices, scores):\n",
    "    \n",
    "        embeddings = self.embeddings(indices)\n",
    "        \n",
    "        embeddings_concat_score = torch.cat((embeddings, scores.unsqueeze(dim = 1)), dim = 1) \n",
    "        \n",
    "        altered_embeddings = F.relu(self.altered_embeddings(embeddings_concat_score))\n",
    "        \n",
    "        lstm_out, self.hidden = self.lstm(altered_embeddings.view(len(indices), 1, -1), self.hidden)\n",
    "        \n",
    "        goal_food = F.log_softmax(self.goal_food_classifier(self.hidden[0]).view(-1, self.goal_food_dim), dim = 1)        \n",
    "        \n",
    "        return goal_food\n",
    "\n",
    "model_GoalFood = GoalFoodModel(vocabulary_size = VOCABULARY_SIZE,\n",
    "                               embedding_dim = EMBEDDING_DIM,\n",
    "                               altered_embedding_dim = ALTERED_EMBEDDING_DIM,\n",
    "                               hidden_dim = HIDDEN_DIM,\n",
    "                               goal_food_dim = GOAL_FOOD_DIM,\n",
    "                               embedding_matrix = EMBEDDING_MATRIX,\n",
    "                               device = DEVICE)\n",
    "\n",
    "model_GoalFood = model_GoalFood.to(DEVICE)\n",
    "\n",
    "optimizer_GoalFoodModel = optim.Adam(model_GoalFood.parameters(), lr = 1e-4)"
   ]
  },
  {
   "cell_type": "markdown",
   "metadata": {},
   "source": [
    "### Requested Model"
   ]
  },
  {
   "cell_type": "code",
   "execution_count": 16,
   "metadata": {},
   "outputs": [],
   "source": [
    "class RequestedModel(nn.Module):\n",
    "    \n",
    "    def __init__(self,\n",
    "                 vocabulary_size,\n",
    "                 embedding_dim,\n",
    "                 altered_embedding_dim,\n",
    "                 hidden_dim,\n",
    "                 requested_dim,\n",
    "                 embedding_matrix,\n",
    "                 device):\n",
    "        \n",
    "        super(RequestedModel, self).__init__()\n",
    "        \n",
    "        self.hidden_dim = hidden_dim\n",
    "        self.requested_dim = requested_dim\n",
    "        self.device = device\n",
    "        \n",
    "        self.embeddings = nn.Embedding.from_pretrained(embedding_matrix)\n",
    "        \n",
    "        self.altered_embeddings = nn.Linear(in_features = (embedding_dim + 1),\n",
    "                                            out_features = altered_embedding_dim)\n",
    "        \n",
    "        self.lstm = nn.LSTM(input_size = altered_embedding_dim,\n",
    "                            hidden_size = hidden_dim)\n",
    "        \n",
    "        self.requested_classifier = nn.Linear(in_features = hidden_dim,\n",
    "                                              out_features = requested_dim)\n",
    "        \n",
    "        self.hidden = self.init_hidden()\n",
    "    \n",
    "    def init_hidden(self):\n",
    "        \n",
    "        return (torch.zeros(1, 1, self.hidden_dim, device = self.device),\n",
    "                torch.zeros(1, 1, self.hidden_dim, device = self.device))\n",
    "        \n",
    "    def forward(self, indices, scores):\n",
    "    \n",
    "        embeddings = self.embeddings(indices)\n",
    "        \n",
    "        embeddings_concat_score = torch.cat((embeddings, scores.unsqueeze(dim = 1)), dim = 1) \n",
    "        \n",
    "        altered_embeddings = F.relu(self.altered_embeddings(embeddings_concat_score))\n",
    "        \n",
    "        lstm_out, self.hidden = self.lstm(altered_embeddings.view(len(indices), 1, -1), self.hidden)\n",
    "        \n",
    "        requested = torch.sigmoid(self.requested_classifier(self.hidden[0]).view(-1, self.requested_dim))\n",
    "        \n",
    "        return requested\n",
    "\n",
    "model_Requested = RequestedModel(vocabulary_size = VOCABULARY_SIZE,\n",
    "                                 embedding_dim = EMBEDDING_DIM,\n",
    "                                 altered_embedding_dim = ALTERED_EMBEDDING_DIM,\n",
    "                                 hidden_dim = HIDDEN_DIM,\n",
    "                                 requested_dim = REQUESTED_DIM,\n",
    "                                 embedding_matrix = EMBEDDING_MATRIX,\n",
    "                                 device = DEVICE)\n",
    "\n",
    "model_Requested = model_Requested.to(DEVICE)\n",
    "\n",
    "optimizer_RequestedModel = optim.Adam(model_Requested.parameters(), lr = 1e-4)"
   ]
  },
  {
   "cell_type": "markdown",
   "metadata": {},
   "source": [
    "### Method Model"
   ]
  },
  {
   "cell_type": "code",
   "execution_count": 17,
   "metadata": {},
   "outputs": [],
   "source": [
    "class MethodModel(nn.Module):\n",
    "    \n",
    "    def __init__(self,\n",
    "                 vocabulary_size,\n",
    "                 embedding_dim,\n",
    "                 altered_embedding_dim,\n",
    "                 hidden_dim,\n",
    "                 method_dim,\n",
    "                 embedding_matrix,\n",
    "                 device):\n",
    "        \n",
    "        super(MethodModel, self).__init__()\n",
    "        \n",
    "        self.hidden_dim = hidden_dim\n",
    "        self.method_dim = method_dim\n",
    "        self.device = device\n",
    "        \n",
    "        self.embeddings = nn.Embedding.from_pretrained(embedding_matrix)\n",
    "        \n",
    "        self.altered_embeddings = nn.Linear(in_features = (embedding_dim + 1),\n",
    "                                            out_features = altered_embedding_dim)\n",
    "        \n",
    "        self.lstm = nn.LSTM(input_size = altered_embedding_dim,\n",
    "                            hidden_size = hidden_dim)\n",
    "        \n",
    "        self.method_classifier = nn.Linear(in_features = hidden_dim,\n",
    "                                           out_features = method_dim)\n",
    "        \n",
    "        self.hidden = self.init_hidden()\n",
    "    \n",
    "    def init_hidden(self):\n",
    "        \n",
    "        return (torch.zeros(1, 1, self.hidden_dim, device = self.device),\n",
    "                torch.zeros(1, 1, self.hidden_dim, device = self.device))\n",
    "        \n",
    "    def forward(self, indices, scores):\n",
    "    \n",
    "        embeddings = self.embeddings(indices)\n",
    "        \n",
    "        embeddings_concat_score = torch.cat((embeddings, scores.unsqueeze(dim = 1)), dim = 1) \n",
    "        \n",
    "        altered_embeddings = F.relu(self.altered_embeddings(embeddings_concat_score))\n",
    "        \n",
    "        lstm_out, self.hidden = self.lstm(altered_embeddings.view(len(indices), 1, -1), self.hidden)\n",
    "        \n",
    "        method = F.log_softmax(self.method_classifier(self.hidden[0]).view(-1, self.method_dim), dim = 1)\n",
    "        \n",
    "        return method\n",
    "\n",
    "model_Method = MethodModel(vocabulary_size = VOCABULARY_SIZE,\n",
    "                           embedding_dim = EMBEDDING_DIM,\n",
    "                           altered_embedding_dim = ALTERED_EMBEDDING_DIM,\n",
    "                           hidden_dim = HIDDEN_DIM,\n",
    "                           method_dim = METHOD_DIM,\n",
    "                           embedding_matrix = EMBEDDING_MATRIX,\n",
    "                           device = DEVICE)\n",
    "\n",
    "model_Method = model_Method.to(DEVICE)\n",
    "\n",
    "optimizer_MethodModel = optim.Adam(model_Method.parameters(), lr = 1e-4)"
   ]
  },
  {
   "cell_type": "markdown",
   "metadata": {},
   "source": [
    "### Train Goal Pricerange Model"
   ]
  },
  {
   "cell_type": "code",
   "execution_count": 51,
   "metadata": {},
   "outputs": [
    {
     "name": "stderr",
     "output_type": "stream",
     "text": [
      "INFO:root:Epoch\t1/30\n",
      "100%|██████████| 3224/3224 [01:30<00:00, 42.00it/s]\n",
      "100%|██████████| 506/506 [00:21<00:00, 23.59it/s]\n",
      "INFO:root:DEV Acc:\t\t0.6379041(0.64)\t\t0.9661017(0.97)\t\t0.9061045(0.91)\n",
      "INFO:root:DEV L2:\t\t0.5318223(0.53)\t\t0.156931(0.16)\t\t0.0654636(0.07)\n",
      "100%|██████████| 1117/1117 [00:53<00:00, 23.30it/s]\n",
      "INFO:root:TEST Acc:\t\t0.6984209(0.7)\t\t0.9744747(0.97)\t\t0.9303161(0.93)\n",
      "INFO:root:TEST L2:\t\t0.4475089(0.45)\t\t0.1127883(0.11)\t\t0.0476845(0.05)\n",
      "INFO:root:Epoch\t2/30\n",
      "100%|██████████| 3224/3224 [01:31<00:00, 35.35it/s]\n",
      "100%|██████████| 506/506 [00:21<00:00, 23.59it/s]\n",
      "INFO:root:DEV Acc:\t\t0.6358186(0.64)\t\t0.9661017(0.97)\t\t0.9061045(0.91)\n",
      "INFO:root:DEV L2:\t\t0.5277174(0.53)\t\t0.156931(0.16)\t\t0.0654636(0.07)\n",
      "100%|██████████| 1117/1117 [00:53<00:00, 23.29it/s]\n",
      "INFO:root:TEST Acc:\t\t0.6563113(0.66)\t\t0.9744747(0.97)\t\t0.9303161(0.93)\n",
      "INFO:root:TEST L2:\t\t0.4948791(0.49)\t\t0.1127883(0.11)\t\t0.0476845(0.05)\n"
     ]
    },
    {
     "data": {
      "application/vnd.plotly.v1+json": {
       "config": {
        "linkText": "Export to plot.ly",
        "plotlyServerURL": "https://plot.ly",
        "showLink": true
       },
       "data": [
        {
         "marker": {
          "color": "#3498db"
         },
         "mode": "lines+markers",
         "name": "Dev Goal Accuracy",
         "type": "scatter",
         "uid": "9a5cb3cc-9860-42fa-b054-5401f9070130",
         "x": [
          0,
          1
         ],
         "y": [
          0.6379041,
          0.6358186
         ]
        },
        {
         "marker": {
          "color": "#9b59b6"
         },
         "mode": "lines+markers",
         "name": "Test Goal Accuracy",
         "type": "scatter",
         "uid": "350bb5e7-9ec9-43ca-93a7-6bc37e9a9bd8",
         "x": [
          0,
          1
         ],
         "y": [
          0.6984209,
          0.6563113
         ]
        }
       ],
       "layout": {
        "margin": {
         "b": 150
        },
        "title": "<b>Dev-Test Goal Accuracy</b>",
        "xaxis": {
         "dtick": 1,
         "title": "<b>Epoch</b>",
         "titlefont": {
          "color": "#34495e"
         }
        },
        "yaxis": {
         "title": "<b>Accuracy</b>",
         "titlefont": {
          "color": "#34495e"
         }
        }
       }
      },
      "text/html": [
       "<div id=\"65e180e3-51d0-44c7-9e03-970b9930463f\" style=\"height: 525px; width: 100%;\" class=\"plotly-graph-div\"></div><script type=\"text/javascript\">require([\"plotly\"], function(Plotly) { window.PLOTLYENV=window.PLOTLYENV || {};window.PLOTLYENV.BASE_URL=\"https://plot.ly\";Plotly.newPlot(\"65e180e3-51d0-44c7-9e03-970b9930463f\", [{\"marker\": {\"color\": \"#3498db\"}, \"mode\": \"lines+markers\", \"name\": \"Dev Goal Accuracy\", \"x\": [0, 1], \"y\": [0.6379041, 0.6358186], \"type\": \"scatter\", \"uid\": \"78b10604-8ba0-4e27-b4d1-fb0274acd764\"}, {\"marker\": {\"color\": \"#9b59b6\"}, \"mode\": \"lines+markers\", \"name\": \"Test Goal Accuracy\", \"x\": [0, 1], \"y\": [0.6984209, 0.6563113], \"type\": \"scatter\", \"uid\": \"9eb46aa6-8630-4eb0-aab0-8683ccffb557\"}], {\"margin\": {\"b\": 150}, \"title\": \"<b>Dev-Test Goal Accuracy</b>\", \"xaxis\": {\"dtick\": 1, \"title\": \"<b>Epoch</b>\", \"titlefont\": {\"color\": \"#34495e\"}}, \"yaxis\": {\"title\": \"<b>Accuracy</b>\", \"titlefont\": {\"color\": \"#34495e\"}}}, {\"showLink\": true, \"linkText\": \"Export to plot.ly\", \"plotlyServerURL\": \"https://plot.ly\"})});</script><script type=\"text/javascript\">window.addEventListener(\"resize\", function(){window._Plotly.Plots.resize(document.getElementById(\"65e180e3-51d0-44c7-9e03-970b9930463f\"));});</script>"
      ],
      "text/vnd.plotly.v1+html": [
       "<div id=\"65e180e3-51d0-44c7-9e03-970b9930463f\" style=\"height: 525px; width: 100%;\" class=\"plotly-graph-div\"></div><script type=\"text/javascript\">require([\"plotly\"], function(Plotly) { window.PLOTLYENV=window.PLOTLYENV || {};window.PLOTLYENV.BASE_URL=\"https://plot.ly\";Plotly.newPlot(\"65e180e3-51d0-44c7-9e03-970b9930463f\", [{\"marker\": {\"color\": \"#3498db\"}, \"mode\": \"lines+markers\", \"name\": \"Dev Goal Accuracy\", \"x\": [0, 1], \"y\": [0.6379041, 0.6358186], \"type\": \"scatter\", \"uid\": \"78b10604-8ba0-4e27-b4d1-fb0274acd764\"}, {\"marker\": {\"color\": \"#9b59b6\"}, \"mode\": \"lines+markers\", \"name\": \"Test Goal Accuracy\", \"x\": [0, 1], \"y\": [0.6984209, 0.6563113], \"type\": \"scatter\", \"uid\": \"9eb46aa6-8630-4eb0-aab0-8683ccffb557\"}], {\"margin\": {\"b\": 150}, \"title\": \"<b>Dev-Test Goal Accuracy</b>\", \"xaxis\": {\"dtick\": 1, \"title\": \"<b>Epoch</b>\", \"titlefont\": {\"color\": \"#34495e\"}}, \"yaxis\": {\"title\": \"<b>Accuracy</b>\", \"titlefont\": {\"color\": \"#34495e\"}}}, {\"showLink\": true, \"linkText\": \"Export to plot.ly\", \"plotlyServerURL\": \"https://plot.ly\"})});</script><script type=\"text/javascript\">window.addEventListener(\"resize\", function(){window._Plotly.Plots.resize(document.getElementById(\"65e180e3-51d0-44c7-9e03-970b9930463f\"));});</script>"
      ]
     },
     "metadata": {},
     "output_type": "display_data"
    }
   ],
   "source": [
    "dev_goal_accuracies = []\n",
    "dev_requested_accuracies = []\n",
    "dev_method_accuracies = []\n",
    "\n",
    "test_goal_accuracies = []\n",
    "test_requested_accuracies = []\n",
    "test_method_accuracies = []\n",
    "\n",
    "goal_pricerange_early_stopping = EarlyStopping(patience = 0)\n",
    "\n",
    "train_indices = np.arange(raw_X_train.shape[0])\n",
    "\n",
    "for epoch in range(NUM_EPOCHS):\n",
    "    \n",
    "    np.random.shuffle(train_indices)\n",
    "    \n",
    "    logging.info(\"Epoch\\t{}/{}\".format(epoch + 1, NUM_EPOCHS))\n",
    "    \n",
    "    model_GoalPricerange = model_GoalPricerange.train()\n",
    "    \n",
    "    for raw_X_train_dialog, raw_Y_train_dialog in tqdm(zip(raw_X_train[train_indices], raw_Y_train[train_indices]), total = len(raw_X_train)):\n",
    "\n",
    "        model_GoalPricerange.hidden = model_GoalPricerange.init_hidden()\n",
    "\n",
    "        for raw_X_train_turn, raw_Y_train_turn in zip(raw_X_train_dialog[\"turns\"], raw_Y_train_dialog[\"turns\"]):\n",
    "            \n",
    "            optimizer_GoalPricerangeModel.zero_grad()\n",
    "            \n",
    "            indices, scores = get_index_and_score(raw_X_train_turn, token_to_index, mode = \"train\", device = DEVICE)\n",
    "            \n",
    "            goal_pricerange = model_GoalPricerange(indices, scores)\n",
    "            \n",
    "            loss_goal_pricerange = GOAL_LOSS_FUNCTION(goal_pricerange,\n",
    "                                                      retrieve_gold_GoalPriceRange(raw_Y_train_turn,\n",
    "                                                                                   ontology = ontology,\n",
    "                                                                                   device = DEVICE))\n",
    "            \n",
    "            loss = loss_goal_pricerange\n",
    "            \n",
    "            loss.backward(retain_graph = True)\n",
    "            \n",
    "            optimizer_GoalPricerangeModel.step()\n",
    "    \n",
    "    dev_goal_accuracy, \\\n",
    "    dev_goal_l2, \\\n",
    "    dev_requested_accuracy, \\\n",
    "    dev_requested_l2, \\\n",
    "    dev_method_accuracy, \\\n",
    "    dev_method_l2 = get_scores(model_GoalPricerange,\n",
    "                               model_GoalArea,\n",
    "                               model_GoalName,\n",
    "                               model_GoalFood,\n",
    "                               model_Requested,\n",
    "                               model_Method,\n",
    "                               raw_X_dev, raw_Y_dev, dataset = \"dstc2_dev\")\n",
    "    logging.info(\"DEV Acc:\\t\\t{}({})\\t\\t{}({})\\t\\t{}({})\".format(dev_goal_accuracy,\n",
    "                                                                 np.around(dev_goal_accuracy, decimals = 2),\n",
    "                                                                 dev_requested_accuracy,\n",
    "                                                                 np.around(dev_requested_accuracy, decimals = 2),\n",
    "                                                                 dev_method_accuracy,\n",
    "                                                                 np.around(dev_method_accuracy, decimals = 2)))\n",
    "    logging.info(\"DEV L2:\\t\\t{}({})\\t\\t{}({})\\t\\t{}({})\".format(dev_goal_l2,\n",
    "                                                                np.around(dev_goal_l2, decimals = 2),\n",
    "                                                                dev_requested_l2,\n",
    "                                                                np.around(dev_requested_l2, decimals = 2),\n",
    "                                                                dev_method_l2,\n",
    "                                                                np.around(dev_method_l2, decimals = 2)))\n",
    "    dev_goal_accuracies.append(dev_goal_accuracy)\n",
    "    dev_requested_accuracies.append(dev_requested_accuracy)\n",
    "    dev_method_accuracies.append(dev_method_accuracy)\n",
    "\n",
    "    test_goal_accuracy, \\\n",
    "    test_goal_l2, \\\n",
    "    test_requested_accuracy, \\\n",
    "    test_requested_l2, \\\n",
    "    test_method_accuracy, \\\n",
    "    test_method_l2 = get_scores(model_GoalPricerange,\n",
    "                                model_GoalArea,\n",
    "                                model_GoalName,\n",
    "                                model_GoalFood,\n",
    "                                model_Requested,\n",
    "                                model_Method,\n",
    "                                raw_X_test, raw_Y_test, dataset = \"dstc2_test\")\n",
    "    logging.info(\"TEST Acc:\\t\\t{}({})\\t\\t{}({})\\t\\t{}({})\".format(test_goal_accuracy,\n",
    "                                                                  np.around(test_goal_accuracy, decimals = 2),\n",
    "                                                                  test_requested_accuracy,\n",
    "                                                                  np.around(test_requested_accuracy, decimals = 2),\n",
    "                                                                  test_method_accuracy,\n",
    "                                                                  np.around(test_method_accuracy, decimals = 2)))\n",
    "    logging.info(\"TEST L2:\\t\\t{}({})\\t\\t{}({})\\t\\t{}({})\".format(test_goal_l2,\n",
    "                                                                 np.around(test_goal_l2, decimals = 2),\n",
    "                                                                 test_requested_l2,\n",
    "                                                                 np.around(test_requested_l2, decimals = 2),\n",
    "                                                                 test_method_l2,\n",
    "                                                                 np.around(test_method_l2, decimals = 2)))\n",
    "    test_goal_accuracies.append(test_goal_accuracy)\n",
    "    test_requested_accuracies.append(test_requested_accuracy)\n",
    "    test_method_accuracies.append(test_requested_accuracy)\n",
    "        \n",
    "    goal_pricerange_early_stopping.on_epoch_end(epoch = (epoch + 1), current_value = (dev_goal_accuracy))\n",
    "    \n",
    "    if goal_pricerange_early_stopping.stop_training:\n",
    "        break\n",
    "\n",
    "plotly_plot(dev_goal_accuracies, test_goal_accuracies, \"Goal\")"
   ]
  },
  {
   "cell_type": "markdown",
   "metadata": {},
   "source": [
    "### Save Goal Pricerange Model"
   ]
  },
  {
   "cell_type": "code",
   "execution_count": 31,
   "metadata": {},
   "outputs": [],
   "source": [
    "torch.save(model_GoalPricerange.state_dict(), \"model_GoalPricerange.pt\")"
   ]
  },
  {
   "cell_type": "markdown",
   "metadata": {},
   "source": [
    "### Load Goal Pricerange Model"
   ]
  },
  {
   "cell_type": "code",
   "execution_count": 32,
   "metadata": {},
   "outputs": [
    {
     "data": {
      "text/plain": [
       "GoalPricerangeModel(\n",
       "  (embeddings): Embedding(1149, 300)\n",
       "  (altered_embeddings): Linear(in_features=301, out_features=310, bias=True)\n",
       "  (lstm): LSTM(310, 100)\n",
       "  (goal_pricerange_classifier): Linear(in_features=100, out_features=5, bias=True)\n",
       ")"
      ]
     },
     "execution_count": 32,
     "metadata": {},
     "output_type": "execute_result"
    }
   ],
   "source": [
    "model_GoalPricerange = GoalPricerangeModel(vocabulary_size = VOCABULARY_SIZE,\n",
    "                                           embedding_dim = EMBEDDING_DIM,\n",
    "                                           altered_embedding_dim = ALTERED_EMBEDDING_DIM,\n",
    "                                           hidden_dim = HIDDEN_DIM,\n",
    "                                           goal_pricerange_dim = GOAL_PRICERANGE_DIM,\n",
    "                                           embedding_matrix = EMBEDDING_MATRIX,\n",
    "                                           device = DEVICE)\n",
    "\n",
    "model_GoalPricerange = model_GoalPricerange.to(DEVICE)\n",
    "model_GoalPricerange.load_state_dict(torch.load(\"model_GoalPricerange.pt\"))\n",
    "model_GoalPricerange.eval()"
   ]
  },
  {
   "cell_type": "code",
   "execution_count": 33,
   "metadata": {},
   "outputs": [
    {
     "name": "stderr",
     "output_type": "stream",
     "text": [
      "100%|██████████| 506/506 [00:21<00:00, 24.02it/s]\n"
     ]
    },
    {
     "data": {
      "text/plain": [
       "(0.612878, 0.5667057, 0.4049766, 0.8277482, 0.1515779, 0.8261199)"
      ]
     },
     "execution_count": 33,
     "metadata": {},
     "output_type": "execute_result"
    }
   ],
   "source": [
    "get_scores(model_GoalPricerange,\n",
    "           model_GoalArea,\n",
    "           model_GoalName,\n",
    "           model_GoalFood,\n",
    "           model_Requested,\n",
    "           model_Method,\n",
    "           raw_X_dev, raw_Y_dev, dataset = \"dstc2_dev\")"
   ]
  },
  {
   "cell_type": "code",
   "execution_count": 34,
   "metadata": {},
   "outputs": [
    {
     "name": "stderr",
     "output_type": "stream",
     "text": [
      "100%|██████████| 1117/1117 [00:52<00:00, 21.32it/s]\n"
     ]
    },
    {
     "data": {
      "text/plain": [
       "(0.6355661, 0.5487108, 0.3912138, 0.8327182, 0.1200739, 0.8638991)"
      ]
     },
     "execution_count": 34,
     "metadata": {},
     "output_type": "execute_result"
    }
   ],
   "source": [
    "get_scores(model_GoalPricerange,\n",
    "           model_GoalArea,\n",
    "           model_GoalName,\n",
    "           model_GoalFood,\n",
    "           model_Requested,\n",
    "           model_Method,\n",
    "           raw_X_test, raw_Y_test, dataset = \"dstc2_test\")"
   ]
  },
  {
   "cell_type": "markdown",
   "metadata": {},
   "source": [
    "### Train Goal Area Model"
   ]
  },
  {
   "cell_type": "code",
   "execution_count": 35,
   "metadata": {
    "scrolled": false
   },
   "outputs": [
    {
     "name": "stderr",
     "output_type": "stream",
     "text": [
      "INFO:root:Epoch\t1/30\n",
      "100%|██████████| 3224/3224 [01:32<00:00, 34.58it/s]\n",
      "100%|██████████| 506/506 [00:21<00:00, 23.65it/s]\n",
      "INFO:root:DEV Acc:\t\t0.6425965(0.64)\t\t0.4049766(0.4)\t\t0.1515779(0.15)\n",
      "INFO:root:DEV L2:\t\t0.5262593(0.53)\t\t0.8277482(0.83)\t\t0.8261199(0.83)\n",
      "100%|██████████| 1117/1117 [00:53<00:00, 23.09it/s]\n",
      "INFO:root:TEST Acc:\t\t0.6521829(0.65)\t\t0.3912138(0.39)\t\t0.1200739(0.12)\n",
      "INFO:root:TEST L2:\t\t0.5252692(0.53)\t\t0.8327182(0.83)\t\t0.8638991(0.86)\n",
      "INFO:root:Epoch\t2/30\n",
      "100%|██████████| 3224/3224 [01:30<00:00, 32.76it/s]\n",
      "100%|██████████| 506/506 [00:21<00:00, 23.82it/s]\n",
      "INFO:root:DEV Acc:\t\t0.6470282(0.65)\t\t0.4049766(0.4)\t\t0.1515779(0.15)\n",
      "INFO:root:DEV L2:\t\t0.5202756(0.52)\t\t0.8277482(0.83)\t\t0.8261199(0.83)\n",
      "100%|██████████| 1117/1117 [00:54<00:00, 20.62it/s]\n",
      "INFO:root:TEST Acc:\t\t0.6408298(0.64)\t\t0.3912138(0.39)\t\t0.1200739(0.12)\n",
      "INFO:root:TEST L2:\t\t0.5385582(0.54)\t\t0.8327182(0.83)\t\t0.8638991(0.86)\n",
      "INFO:root:Epoch\t3/30\n",
      "100%|██████████| 3224/3224 [01:32<00:00, 34.95it/s]\n",
      "100%|██████████| 506/506 [00:21<00:00, 23.89it/s]\n",
      "INFO:root:DEV Acc:\t\t0.6480709(0.65)\t\t0.4049766(0.4)\t\t0.1515779(0.15)\n",
      "INFO:root:DEV L2:\t\t0.5196737(0.52)\t\t0.8277482(0.83)\t\t0.8261199(0.83)\n",
      "100%|██████████| 1117/1117 [00:54<00:00, 22.89it/s]\n",
      "INFO:root:TEST Acc:\t\t0.6474352(0.65)\t\t0.3912138(0.39)\t\t0.1200739(0.12)\n",
      "INFO:root:TEST L2:\t\t0.5354229(0.54)\t\t0.8327182(0.83)\t\t0.8638991(0.86)\n",
      "INFO:root:Epoch\t4/30\n",
      "100%|██████████| 3224/3224 [01:29<00:00, 36.18it/s]\n",
      "100%|██████████| 506/506 [00:21<00:00, 25.57it/s]\n",
      "INFO:root:DEV Acc:\t\t0.6457247(0.65)\t\t0.4049766(0.4)\t\t0.1515779(0.15)\n",
      "INFO:root:DEV L2:\t\t0.523165(0.52)\t\t0.8277482(0.83)\t\t0.8261199(0.83)\n",
      "100%|██████████| 1117/1117 [00:53<00:00, 23.24it/s]\n",
      "INFO:root:TEST Acc:\t\t0.6586851(0.66)\t\t0.3912138(0.39)\t\t0.1200739(0.12)\n",
      "INFO:root:TEST L2:\t\t0.5196926(0.52)\t\t0.8327182(0.83)\t\t0.8638991(0.86)\n"
     ]
    },
    {
     "data": {
      "application/vnd.plotly.v1+json": {
       "config": {
        "linkText": "Export to plot.ly",
        "plotlyServerURL": "https://plot.ly",
        "showLink": true
       },
       "data": [
        {
         "marker": {
          "color": "#3498db"
         },
         "mode": "lines+markers",
         "name": "Dev Goal Accuracy",
         "type": "scatter",
         "uid": "3a28e454-f799-478b-adac-ee921a5703da",
         "x": [
          0,
          1,
          2,
          3
         ],
         "y": [
          0.6425965,
          0.6470282,
          0.6480709,
          0.6457247
         ]
        },
        {
         "marker": {
          "color": "#9b59b6"
         },
         "mode": "lines+markers",
         "name": "Test Goal Accuracy",
         "type": "scatter",
         "uid": "b3a95dbc-80f5-4f87-ab62-a2ebf1d33af1",
         "x": [
          0,
          1,
          2,
          3
         ],
         "y": [
          0.6521829,
          0.6408298,
          0.6474352,
          0.6586851
         ]
        }
       ],
       "layout": {
        "margin": {
         "b": 150
        },
        "title": "<b>Dev-Test Goal Accuracy</b>",
        "xaxis": {
         "dtick": 1,
         "title": "<b>Epoch</b>",
         "titlefont": {
          "color": "#34495e"
         }
        },
        "yaxis": {
         "title": "<b>Accuracy</b>",
         "titlefont": {
          "color": "#34495e"
         }
        }
       }
      },
      "text/html": [
       "<div id=\"6269876a-30e0-4bf1-85fe-581294939928\" style=\"height: 525px; width: 100%;\" class=\"plotly-graph-div\"></div><script type=\"text/javascript\">require([\"plotly\"], function(Plotly) { window.PLOTLYENV=window.PLOTLYENV || {};window.PLOTLYENV.BASE_URL=\"https://plot.ly\";Plotly.newPlot(\"6269876a-30e0-4bf1-85fe-581294939928\", [{\"marker\": {\"color\": \"#3498db\"}, \"mode\": \"lines+markers\", \"name\": \"Dev Goal Accuracy\", \"x\": [0, 1, 2, 3], \"y\": [0.6425965, 0.6470282, 0.6480709, 0.6457247], \"type\": \"scatter\", \"uid\": \"9d7e6fe9-5530-45c1-a4b6-65a1773ee33c\"}, {\"marker\": {\"color\": \"#9b59b6\"}, \"mode\": \"lines+markers\", \"name\": \"Test Goal Accuracy\", \"x\": [0, 1, 2, 3], \"y\": [0.6521829, 0.6408298, 0.6474352, 0.6586851], \"type\": \"scatter\", \"uid\": \"09da416d-1211-4f4a-bae4-e3e01147ec9b\"}], {\"margin\": {\"b\": 150}, \"title\": \"<b>Dev-Test Goal Accuracy</b>\", \"xaxis\": {\"dtick\": 1, \"title\": \"<b>Epoch</b>\", \"titlefont\": {\"color\": \"#34495e\"}}, \"yaxis\": {\"title\": \"<b>Accuracy</b>\", \"titlefont\": {\"color\": \"#34495e\"}}}, {\"showLink\": true, \"linkText\": \"Export to plot.ly\", \"plotlyServerURL\": \"https://plot.ly\"})});</script><script type=\"text/javascript\">window.addEventListener(\"resize\", function(){window._Plotly.Plots.resize(document.getElementById(\"6269876a-30e0-4bf1-85fe-581294939928\"));});</script>"
      ],
      "text/vnd.plotly.v1+html": [
       "<div id=\"6269876a-30e0-4bf1-85fe-581294939928\" style=\"height: 525px; width: 100%;\" class=\"plotly-graph-div\"></div><script type=\"text/javascript\">require([\"plotly\"], function(Plotly) { window.PLOTLYENV=window.PLOTLYENV || {};window.PLOTLYENV.BASE_URL=\"https://plot.ly\";Plotly.newPlot(\"6269876a-30e0-4bf1-85fe-581294939928\", [{\"marker\": {\"color\": \"#3498db\"}, \"mode\": \"lines+markers\", \"name\": \"Dev Goal Accuracy\", \"x\": [0, 1, 2, 3], \"y\": [0.6425965, 0.6470282, 0.6480709, 0.6457247], \"type\": \"scatter\", \"uid\": \"9d7e6fe9-5530-45c1-a4b6-65a1773ee33c\"}, {\"marker\": {\"color\": \"#9b59b6\"}, \"mode\": \"lines+markers\", \"name\": \"Test Goal Accuracy\", \"x\": [0, 1, 2, 3], \"y\": [0.6521829, 0.6408298, 0.6474352, 0.6586851], \"type\": \"scatter\", \"uid\": \"09da416d-1211-4f4a-bae4-e3e01147ec9b\"}], {\"margin\": {\"b\": 150}, \"title\": \"<b>Dev-Test Goal Accuracy</b>\", \"xaxis\": {\"dtick\": 1, \"title\": \"<b>Epoch</b>\", \"titlefont\": {\"color\": \"#34495e\"}}, \"yaxis\": {\"title\": \"<b>Accuracy</b>\", \"titlefont\": {\"color\": \"#34495e\"}}}, {\"showLink\": true, \"linkText\": \"Export to plot.ly\", \"plotlyServerURL\": \"https://plot.ly\"})});</script><script type=\"text/javascript\">window.addEventListener(\"resize\", function(){window._Plotly.Plots.resize(document.getElementById(\"6269876a-30e0-4bf1-85fe-581294939928\"));});</script>"
      ]
     },
     "metadata": {},
     "output_type": "display_data"
    }
   ],
   "source": [
    "dev_goal_accuracies = []\n",
    "dev_requested_accuracies = []\n",
    "dev_method_accuracies = []\n",
    "\n",
    "test_goal_accuracies = []\n",
    "test_requested_accuracies = []\n",
    "test_method_accuracies = []\n",
    "\n",
    "goal_area_early_stopping = EarlyStopping(patience = 0)\n",
    "\n",
    "train_indices = np.arange(raw_X_train.shape[0])\n",
    "\n",
    "for epoch in range(NUM_EPOCHS):\n",
    "    \n",
    "    np.random.shuffle(train_indices)\n",
    "    \n",
    "    logging.info(\"Epoch\\t{}/{}\".format(epoch + 1, NUM_EPOCHS))\n",
    "    \n",
    "    model_GoalArea = model_GoalArea.train()\n",
    "    \n",
    "    for raw_X_train_dialog, raw_Y_train_dialog in tqdm(zip(raw_X_train[train_indices], raw_Y_train[train_indices]), total = len(raw_X_train)):\n",
    "\n",
    "        model_GoalArea.hidden = model_GoalArea.init_hidden()\n",
    "\n",
    "        for raw_X_train_turn, raw_Y_train_turn in zip(raw_X_train_dialog[\"turns\"], raw_Y_train_dialog[\"turns\"]):\n",
    "            \n",
    "            optimizer_GoalAreaModel.zero_grad()\n",
    "            \n",
    "            indices, scores = get_index_and_score(raw_X_train_turn, token_to_index, mode = \"train\", device = DEVICE)\n",
    "            \n",
    "            goal_area = model_GoalArea(indices, scores)\n",
    "            \n",
    "            loss_goal_area = GOAL_LOSS_FUNCTION(goal_area,\n",
    "                                                retrieve_gold_GoalArea(raw_Y_train_turn,\n",
    "                                                                       ontology = ontology,\n",
    "                                                                       device = DEVICE))\n",
    "            \n",
    "            loss = loss_goal_area\n",
    "            \n",
    "            loss.backward(retain_graph = True)\n",
    "            \n",
    "            optimizer_GoalAreaModel.step()\n",
    "    \n",
    "    dev_goal_accuracy, \\\n",
    "    dev_goal_l2, \\\n",
    "    dev_requested_accuracy, \\\n",
    "    dev_requested_l2, \\\n",
    "    dev_method_accuracy, \\\n",
    "    dev_method_l2 = get_scores(model_GoalPricerange,\n",
    "                               model_GoalArea,\n",
    "                               model_GoalName,\n",
    "                               model_GoalFood,\n",
    "                               model_Requested,\n",
    "                               model_Method,\n",
    "                               raw_X_dev, raw_Y_dev, dataset = \"dstc2_dev\")\n",
    "    logging.info(\"DEV Acc:\\t\\t{}({})\\t\\t{}({})\\t\\t{}({})\".format(dev_goal_accuracy,\n",
    "                                                                 np.around(dev_goal_accuracy, decimals = 2),\n",
    "                                                                 dev_requested_accuracy,\n",
    "                                                                 np.around(dev_requested_accuracy, decimals = 2),\n",
    "                                                                 dev_method_accuracy,\n",
    "                                                                 np.around(dev_method_accuracy, decimals = 2)))\n",
    "    logging.info(\"DEV L2:\\t\\t{}({})\\t\\t{}({})\\t\\t{}({})\".format(dev_goal_l2,\n",
    "                                                                np.around(dev_goal_l2, decimals = 2),\n",
    "                                                                dev_requested_l2,\n",
    "                                                                np.around(dev_requested_l2, decimals = 2),\n",
    "                                                                dev_method_l2,\n",
    "                                                                np.around(dev_method_l2, decimals = 2)))\n",
    "    dev_goal_accuracies.append(dev_goal_accuracy)\n",
    "    dev_requested_accuracies.append(dev_requested_accuracy)\n",
    "    dev_method_accuracies.append(dev_method_accuracy)\n",
    "\n",
    "    test_goal_accuracy, \\\n",
    "    test_goal_l2, \\\n",
    "    test_requested_accuracy, \\\n",
    "    test_requested_l2, \\\n",
    "    test_method_accuracy, \\\n",
    "    test_method_l2 = get_scores(model_GoalPricerange,\n",
    "                                model_GoalArea,\n",
    "                                model_GoalName,\n",
    "                                model_GoalFood,\n",
    "                                model_Requested,\n",
    "                                model_Method,\n",
    "                                raw_X_test, raw_Y_test, dataset = \"dstc2_test\")\n",
    "    logging.info(\"TEST Acc:\\t\\t{}({})\\t\\t{}({})\\t\\t{}({})\".format(test_goal_accuracy,\n",
    "                                                                  np.around(test_goal_accuracy, decimals = 2),\n",
    "                                                                  test_requested_accuracy,\n",
    "                                                                  np.around(test_requested_accuracy, decimals = 2),\n",
    "                                                                  test_method_accuracy,\n",
    "                                                                  np.around(test_method_accuracy, decimals = 2)))\n",
    "    logging.info(\"TEST L2:\\t\\t{}({})\\t\\t{}({})\\t\\t{}({})\".format(test_goal_l2,\n",
    "                                                                 np.around(test_goal_l2, decimals = 2),\n",
    "                                                                 test_requested_l2,\n",
    "                                                                 np.around(test_requested_l2, decimals = 2),\n",
    "                                                                 test_method_l2,\n",
    "                                                                 np.around(test_method_l2, decimals = 2)))\n",
    "    test_goal_accuracies.append(test_goal_accuracy)\n",
    "    test_requested_accuracies.append(test_requested_accuracy)\n",
    "    test_method_accuracies.append(test_requested_accuracy)\n",
    "        \n",
    "    goal_area_early_stopping.on_epoch_end(epoch = (epoch + 1), current_value = (dev_goal_accuracy))\n",
    "    \n",
    "    if goal_area_early_stopping.stop_training:\n",
    "        break\n",
    "\n",
    "plotly_plot(dev_goal_accuracies, test_goal_accuracies, \"Goal\")"
   ]
  },
  {
   "cell_type": "markdown",
   "metadata": {},
   "source": [
    "### Save Goal Area Model"
   ]
  },
  {
   "cell_type": "code",
   "execution_count": 36,
   "metadata": {},
   "outputs": [],
   "source": [
    "torch.save(model_GoalArea.state_dict(), \"model_GoalArea.pt\")"
   ]
  },
  {
   "cell_type": "markdown",
   "metadata": {},
   "source": [
    "### Load Goal Area Model"
   ]
  },
  {
   "cell_type": "code",
   "execution_count": 37,
   "metadata": {},
   "outputs": [
    {
     "data": {
      "text/plain": [
       "GoalAreaModel(\n",
       "  (embeddings): Embedding(1149, 300)\n",
       "  (altered_embeddings): Linear(in_features=301, out_features=310, bias=True)\n",
       "  (lstm): LSTM(310, 100)\n",
       "  (goal_area_classifier): Linear(in_features=100, out_features=7, bias=True)\n",
       ")"
      ]
     },
     "execution_count": 37,
     "metadata": {},
     "output_type": "execute_result"
    }
   ],
   "source": [
    "model_GoalArea = GoalAreaModel(vocabulary_size = VOCABULARY_SIZE,\n",
    "                               embedding_dim = EMBEDDING_DIM,\n",
    "                               altered_embedding_dim = ALTERED_EMBEDDING_DIM,\n",
    "                               hidden_dim = HIDDEN_DIM,\n",
    "                               goal_area_dim = GOAL_AREA_DIM,\n",
    "                               embedding_matrix = EMBEDDING_MATRIX,\n",
    "                               device = DEVICE)\n",
    "\n",
    "model_GoalArea = model_GoalArea.to(DEVICE)\n",
    "model_GoalArea.load_state_dict(torch.load(\"model_GoalArea.pt\"))\n",
    "model_GoalArea.eval()"
   ]
  },
  {
   "cell_type": "code",
   "execution_count": 38,
   "metadata": {},
   "outputs": [
    {
     "name": "stderr",
     "output_type": "stream",
     "text": [
      "100%|██████████| 506/506 [00:21<00:00, 26.25it/s]\n"
     ]
    },
    {
     "data": {
      "text/plain": [
       "(0.6457247, 0.523165, 0.4049766, 0.8277482, 0.1515779, 0.8261199)"
      ]
     },
     "execution_count": 38,
     "metadata": {},
     "output_type": "execute_result"
    }
   ],
   "source": [
    "get_scores(model_GoalPricerange,\n",
    "           model_GoalArea,\n",
    "           model_GoalName,\n",
    "           model_GoalFood,\n",
    "           model_Requested,\n",
    "           model_Method,\n",
    "           raw_X_dev, raw_Y_dev, dataset = \"dstc2_dev\")"
   ]
  },
  {
   "cell_type": "code",
   "execution_count": 39,
   "metadata": {},
   "outputs": [
    {
     "name": "stderr",
     "output_type": "stream",
     "text": [
      "100%|██████████| 1117/1117 [00:54<00:00, 23.24it/s]\n"
     ]
    },
    {
     "data": {
      "text/plain": [
       "(0.6586851, 0.5196926, 0.3912138, 0.8327182, 0.1200739, 0.8638991)"
      ]
     },
     "execution_count": 39,
     "metadata": {},
     "output_type": "execute_result"
    }
   ],
   "source": [
    "get_scores(model_GoalPricerange,\n",
    "           model_GoalArea,\n",
    "           model_GoalName,\n",
    "           model_GoalFood,\n",
    "           model_Requested,\n",
    "           model_Method,\n",
    "           raw_X_test, raw_Y_test, dataset = \"dstc2_test\")"
   ]
  },
  {
   "cell_type": "markdown",
   "metadata": {},
   "source": [
    "### Train Goal Name Model"
   ]
  },
  {
   "cell_type": "code",
   "execution_count": 20,
   "metadata": {
    "scrolled": true
   },
   "outputs": [
    {
     "name": "stderr",
     "output_type": "stream",
     "text": [
      "INFO:root:Epoch\t1/30\n",
      "100%|██████████| 3224/3224 [01:30<00:00, 35.73it/s]\n",
      "100%|██████████| 506/506 [00:20<00:00, 24.14it/s]\n",
      "INFO:root:DEV Acc:\t\t0.0099062(0.01)\t\t0.4049766(0.4)\t\t0.1515779(0.15)\n",
      "INFO:root:DEV L2:\t\t0.9933878(0.99)\t\t0.8277482(0.83)\t\t0.8261199(0.83)\n",
      "100%|██████████| 1117/1117 [00:53<00:00, 23.41it/s]\n",
      "INFO:root:TEST Acc:\t\t0.0036123(0.0)\t\t0.3912138(0.39)\t\t0.1200739(0.12)\n",
      "INFO:root:TEST L2:\t\t0.9933449(0.99)\t\t0.8327182(0.83)\t\t0.8638991(0.86)\n",
      "INFO:root:Epoch\t2/30\n",
      "100%|██████████| 3224/3224 [01:30<00:00, 35.72it/s]\n",
      "100%|██████████| 506/506 [00:21<00:00, 23.87it/s]\n",
      "INFO:root:DEV Acc:\t\t0.0099062(0.01)\t\t0.4049766(0.4)\t\t0.1515779(0.15)\n",
      "INFO:root:DEV L2:\t\t0.9933888(0.99)\t\t0.8277482(0.83)\t\t0.8261199(0.83)\n",
      "100%|██████████| 1117/1117 [00:53<00:00, 23.47it/s]\n",
      "INFO:root:TEST Acc:\t\t0.0036123(0.0)\t\t0.3912138(0.39)\t\t0.1200739(0.12)\n",
      "INFO:root:TEST L2:\t\t0.9933465(0.99)\t\t0.8327182(0.83)\t\t0.8638991(0.86)\n"
     ]
    },
    {
     "data": {
      "application/vnd.plotly.v1+json": {
       "config": {
        "linkText": "Export to plot.ly",
        "plotlyServerURL": "https://plot.ly",
        "showLink": true
       },
       "data": [
        {
         "marker": {
          "color": "#3498db"
         },
         "mode": "lines+markers",
         "name": "Dev Goal Accuracy",
         "type": "scatter",
         "uid": "204fcada-3676-45f8-89e7-ae3788386963",
         "x": [
          0,
          1
         ],
         "y": [
          0.0099062,
          0.0099062
         ]
        },
        {
         "marker": {
          "color": "#9b59b6"
         },
         "mode": "lines+markers",
         "name": "Test Goal Accuracy",
         "type": "scatter",
         "uid": "da0530d0-be20-4d86-9318-4aebff3c4212",
         "x": [
          0,
          1
         ],
         "y": [
          0.0036123,
          0.0036123
         ]
        }
       ],
       "layout": {
        "margin": {
         "b": 150
        },
        "title": "<b>Dev-Test Goal Accuracy</b>",
        "xaxis": {
         "dtick": 1,
         "title": "<b>Epoch</b>",
         "titlefont": {
          "color": "#34495e"
         }
        },
        "yaxis": {
         "title": "<b>Accuracy</b>",
         "titlefont": {
          "color": "#34495e"
         }
        }
       }
      },
      "text/html": [
       "<div id=\"032a227f-afa8-42a6-8b6a-f2c28f02c696\" style=\"height: 525px; width: 100%;\" class=\"plotly-graph-div\"></div><script type=\"text/javascript\">require([\"plotly\"], function(Plotly) { window.PLOTLYENV=window.PLOTLYENV || {};window.PLOTLYENV.BASE_URL=\"https://plot.ly\";Plotly.newPlot(\"032a227f-afa8-42a6-8b6a-f2c28f02c696\", [{\"marker\": {\"color\": \"#3498db\"}, \"mode\": \"lines+markers\", \"name\": \"Dev Goal Accuracy\", \"x\": [0, 1], \"y\": [0.0099062, 0.0099062], \"type\": \"scatter\", \"uid\": \"1bb4b0de-5246-4b09-b759-e27b51710948\"}, {\"marker\": {\"color\": \"#9b59b6\"}, \"mode\": \"lines+markers\", \"name\": \"Test Goal Accuracy\", \"x\": [0, 1], \"y\": [0.0036123, 0.0036123], \"type\": \"scatter\", \"uid\": \"1b7bcf7c-dfe9-44c8-9a6d-25f9b6fdaf4b\"}], {\"margin\": {\"b\": 150}, \"title\": \"<b>Dev-Test Goal Accuracy</b>\", \"xaxis\": {\"dtick\": 1, \"title\": \"<b>Epoch</b>\", \"titlefont\": {\"color\": \"#34495e\"}}, \"yaxis\": {\"title\": \"<b>Accuracy</b>\", \"titlefont\": {\"color\": \"#34495e\"}}}, {\"showLink\": true, \"linkText\": \"Export to plot.ly\", \"plotlyServerURL\": \"https://plot.ly\"})});</script><script type=\"text/javascript\">window.addEventListener(\"resize\", function(){window._Plotly.Plots.resize(document.getElementById(\"032a227f-afa8-42a6-8b6a-f2c28f02c696\"));});</script>"
      ],
      "text/vnd.plotly.v1+html": [
       "<div id=\"032a227f-afa8-42a6-8b6a-f2c28f02c696\" style=\"height: 525px; width: 100%;\" class=\"plotly-graph-div\"></div><script type=\"text/javascript\">require([\"plotly\"], function(Plotly) { window.PLOTLYENV=window.PLOTLYENV || {};window.PLOTLYENV.BASE_URL=\"https://plot.ly\";Plotly.newPlot(\"032a227f-afa8-42a6-8b6a-f2c28f02c696\", [{\"marker\": {\"color\": \"#3498db\"}, \"mode\": \"lines+markers\", \"name\": \"Dev Goal Accuracy\", \"x\": [0, 1], \"y\": [0.0099062, 0.0099062], \"type\": \"scatter\", \"uid\": \"1bb4b0de-5246-4b09-b759-e27b51710948\"}, {\"marker\": {\"color\": \"#9b59b6\"}, \"mode\": \"lines+markers\", \"name\": \"Test Goal Accuracy\", \"x\": [0, 1], \"y\": [0.0036123, 0.0036123], \"type\": \"scatter\", \"uid\": \"1b7bcf7c-dfe9-44c8-9a6d-25f9b6fdaf4b\"}], {\"margin\": {\"b\": 150}, \"title\": \"<b>Dev-Test Goal Accuracy</b>\", \"xaxis\": {\"dtick\": 1, \"title\": \"<b>Epoch</b>\", \"titlefont\": {\"color\": \"#34495e\"}}, \"yaxis\": {\"title\": \"<b>Accuracy</b>\", \"titlefont\": {\"color\": \"#34495e\"}}}, {\"showLink\": true, \"linkText\": \"Export to plot.ly\", \"plotlyServerURL\": \"https://plot.ly\"})});</script><script type=\"text/javascript\">window.addEventListener(\"resize\", function(){window._Plotly.Plots.resize(document.getElementById(\"032a227f-afa8-42a6-8b6a-f2c28f02c696\"));});</script>"
      ]
     },
     "metadata": {},
     "output_type": "display_data"
    }
   ],
   "source": [
    "dev_goal_accuracies = []\n",
    "dev_requested_accuracies = []\n",
    "dev_method_accuracies = []\n",
    "\n",
    "test_goal_accuracies = []\n",
    "test_requested_accuracies = []\n",
    "test_method_accuracies = []\n",
    "\n",
    "goal_name_early_stopping = EarlyStopping(patience = 0)\n",
    "\n",
    "train_indices = np.arange(raw_X_train.shape[0])\n",
    "\n",
    "for epoch in range(NUM_EPOCHS):\n",
    "    \n",
    "    np.random.shuffle(train_indices)\n",
    "    \n",
    "    logging.info(\"Epoch\\t{}/{}\".format(epoch + 1, NUM_EPOCHS))\n",
    "    \n",
    "    model_GoalName = model_GoalName.train()\n",
    "    \n",
    "    for raw_X_train_dialog, raw_Y_train_dialog in tqdm(zip(raw_X_train[train_indices], raw_Y_train[train_indices]), total = len(raw_X_train)):\n",
    "\n",
    "        model_GoalName.hidden = model_GoalName.init_hidden()\n",
    "\n",
    "        for raw_X_train_turn, raw_Y_train_turn in zip(raw_X_train_dialog[\"turns\"], raw_Y_train_dialog[\"turns\"]):\n",
    "            \n",
    "            optimizer_GoalNameModel.zero_grad()\n",
    "            \n",
    "            indices, scores = get_index_and_score(raw_X_train_turn, token_to_index, mode = \"train\", device = DEVICE)\n",
    "            \n",
    "            goal_name = model_GoalName(indices, scores)\n",
    "            \n",
    "            loss_goal_name = GOAL_LOSS_FUNCTION(goal_name,\n",
    "                                                retrieve_gold_GoalName(raw_Y_train_turn,\n",
    "                                                                       ontology = ontology,\n",
    "                                                                       device = DEVICE))\n",
    "            \n",
    "            loss = loss_goal_name\n",
    "            \n",
    "            loss.backward(retain_graph = True)\n",
    "            \n",
    "            optimizer_GoalNameModel.step()\n",
    "    \n",
    "    dev_goal_accuracy, \\\n",
    "    dev_goal_l2, \\\n",
    "    dev_requested_accuracy, \\\n",
    "    dev_requested_l2, \\\n",
    "    dev_method_accuracy, \\\n",
    "    dev_method_l2 = get_scores(model_GoalPricerange,\n",
    "                               model_GoalArea,\n",
    "                               model_GoalName,\n",
    "                               model_GoalFood,\n",
    "                               model_Requested,\n",
    "                               model_Method,\n",
    "                               raw_X_dev, raw_Y_dev, dataset = \"dstc2_dev\")\n",
    "    logging.info(\"DEV Acc:\\t\\t{}({})\\t\\t{}({})\\t\\t{}({})\".format(dev_goal_accuracy,\n",
    "                                                                 np.around(dev_goal_accuracy, decimals = 2),\n",
    "                                                                 dev_requested_accuracy,\n",
    "                                                                 np.around(dev_requested_accuracy, decimals = 2),\n",
    "                                                                 dev_method_accuracy,\n",
    "                                                                 np.around(dev_method_accuracy, decimals = 2)))\n",
    "    logging.info(\"DEV L2:\\t\\t{}({})\\t\\t{}({})\\t\\t{}({})\".format(dev_goal_l2,\n",
    "                                                                np.around(dev_goal_l2, decimals = 2),\n",
    "                                                                dev_requested_l2,\n",
    "                                                                np.around(dev_requested_l2, decimals = 2),\n",
    "                                                                dev_method_l2,\n",
    "                                                                np.around(dev_method_l2, decimals = 2)))\n",
    "    dev_goal_accuracies.append(dev_goal_accuracy)\n",
    "    dev_requested_accuracies.append(dev_requested_accuracy)\n",
    "    dev_method_accuracies.append(dev_method_accuracy)\n",
    "\n",
    "    test_goal_accuracy, \\\n",
    "    test_goal_l2, \\\n",
    "    test_requested_accuracy, \\\n",
    "    test_requested_l2, \\\n",
    "    test_method_accuracy, \\\n",
    "    test_method_l2 = get_scores(model_GoalPricerange,\n",
    "                                model_GoalArea,\n",
    "                                model_GoalName,\n",
    "                                model_GoalFood,\n",
    "                                model_Requested,\n",
    "                                model_Method,\n",
    "                                raw_X_test, raw_Y_test, dataset = \"dstc2_test\")\n",
    "    logging.info(\"TEST Acc:\\t\\t{}({})\\t\\t{}({})\\t\\t{}({})\".format(test_goal_accuracy,\n",
    "                                                                  np.around(test_goal_accuracy, decimals = 2),\n",
    "                                                                  test_requested_accuracy,\n",
    "                                                                  np.around(test_requested_accuracy, decimals = 2),\n",
    "                                                                  test_method_accuracy,\n",
    "                                                                  np.around(test_method_accuracy, decimals = 2)))\n",
    "    logging.info(\"TEST L2:\\t\\t{}({})\\t\\t{}({})\\t\\t{}({})\".format(test_goal_l2,\n",
    "                                                                 np.around(test_goal_l2, decimals = 2),\n",
    "                                                                 test_requested_l2,\n",
    "                                                                 np.around(test_requested_l2, decimals = 2),\n",
    "                                                                 test_method_l2,\n",
    "                                                                 np.around(test_method_l2, decimals = 2)))\n",
    "    test_goal_accuracies.append(test_goal_accuracy)\n",
    "    test_requested_accuracies.append(test_requested_accuracy)\n",
    "    test_method_accuracies.append(test_requested_accuracy)\n",
    "        \n",
    "    goal_name_early_stopping.on_epoch_end(epoch = (epoch + 1), current_value = (dev_goal_accuracy))\n",
    "    \n",
    "    if goal_name_early_stopping.stop_training:\n",
    "        break\n",
    "\n",
    "plotly_plot(dev_goal_accuracies, test_goal_accuracies, \"Goal\")"
   ]
  },
  {
   "cell_type": "markdown",
   "metadata": {},
   "source": [
    "### Save Goal Name Model"
   ]
  },
  {
   "cell_type": "code",
   "execution_count": 21,
   "metadata": {},
   "outputs": [],
   "source": [
    "torch.save(model_GoalName.state_dict(), \"model_GoalName.pt\")"
   ]
  },
  {
   "cell_type": "markdown",
   "metadata": {},
   "source": [
    "### Load Goal Name Model"
   ]
  },
  {
   "cell_type": "code",
   "execution_count": 22,
   "metadata": {},
   "outputs": [
    {
     "data": {
      "text/plain": [
       "GoalNameModel(\n",
       "  (embeddings): Embedding(1149, 300)\n",
       "  (altered_embeddings): Linear(in_features=301, out_features=310, bias=True)\n",
       "  (lstm): LSTM(310, 100)\n",
       "  (goal_name_classifier): Linear(in_features=100, out_features=115, bias=True)\n",
       ")"
      ]
     },
     "execution_count": 22,
     "metadata": {},
     "output_type": "execute_result"
    }
   ],
   "source": [
    "model_GoalName = GoalNameModel(vocabulary_size = VOCABULARY_SIZE,\n",
    "                               embedding_dim = EMBEDDING_DIM,\n",
    "                               altered_embedding_dim = ALTERED_EMBEDDING_DIM,\n",
    "                               hidden_dim = HIDDEN_DIM,\n",
    "                               goal_name_dim = GOAL_NAME_DIM,\n",
    "                               embedding_matrix = EMBEDDING_MATRIX,\n",
    "                               device = DEVICE)\n",
    "\n",
    "model_GoalName = model_GoalName.to(DEVICE)\n",
    "model_GoalName.load_state_dict(torch.load(\"model_GoalName.pt\"))\n",
    "model_GoalName.eval()"
   ]
  },
  {
   "cell_type": "code",
   "execution_count": 23,
   "metadata": {},
   "outputs": [
    {
     "name": "stderr",
     "output_type": "stream",
     "text": [
      "100%|██████████| 506/506 [00:22<00:00, 22.98it/s]\n"
     ]
    },
    {
     "data": {
      "text/plain": [
       "(0.0099062, 0.9933888, 0.4049766, 0.8277482, 0.1515779, 0.8261199)"
      ]
     },
     "execution_count": 23,
     "metadata": {},
     "output_type": "execute_result"
    }
   ],
   "source": [
    "get_scores(model_GoalPricerange,\n",
    "           model_GoalArea,\n",
    "           model_GoalName,\n",
    "           model_GoalFood,\n",
    "           model_Requested,\n",
    "           model_Method,\n",
    "           raw_X_dev, raw_Y_dev, dataset = \"dstc2_dev\")"
   ]
  },
  {
   "cell_type": "code",
   "execution_count": 24,
   "metadata": {},
   "outputs": [
    {
     "name": "stderr",
     "output_type": "stream",
     "text": [
      "100%|██████████| 1117/1117 [00:53<00:00, 23.31it/s]\n"
     ]
    },
    {
     "data": {
      "text/plain": [
       "(0.0036123, 0.9933465, 0.3912138, 0.8327182, 0.1200739, 0.8638991)"
      ]
     },
     "execution_count": 24,
     "metadata": {},
     "output_type": "execute_result"
    }
   ],
   "source": [
    "get_scores(model_GoalPricerange,\n",
    "           model_GoalArea,\n",
    "           model_GoalName,\n",
    "           model_GoalFood,\n",
    "           model_Requested,\n",
    "           model_Method,\n",
    "           raw_X_test, raw_Y_test, dataset = \"dstc2_test\")"
   ]
  },
  {
   "cell_type": "markdown",
   "metadata": {},
   "source": [
    "### Train Goal Food Model"
   ]
  },
  {
   "cell_type": "code",
   "execution_count": 25,
   "metadata": {
    "scrolled": true
   },
   "outputs": [
    {
     "name": "stderr",
     "output_type": "stream",
     "text": [
      "INFO:root:Epoch\t1/30\n",
      "100%|██████████| 3224/3224 [01:28<00:00, 36.27it/s]\n",
      "100%|██████████| 506/506 [00:21<00:00, 23.23it/s]\n",
      "INFO:root:DEV Acc:\t\t0.5143379(0.51)\t\t0.4049766(0.4)\t\t0.1515779(0.15)\n",
      "INFO:root:DEV L2:\t\t0.6597153(0.66)\t\t0.8277482(0.83)\t\t0.8261199(0.83)\n",
      "100%|██████████| 1117/1117 [00:54<00:00, 23.33it/s]\n",
      "INFO:root:TEST Acc:\t\t0.5447415(0.54)\t\t0.3912138(0.39)\t\t0.1200739(0.12)\n",
      "INFO:root:TEST L2:\t\t0.6257856(0.63)\t\t0.8327182(0.83)\t\t0.8638991(0.86)\n",
      "INFO:root:Epoch\t2/30\n",
      "100%|██████████| 3224/3224 [01:30<00:00, 35.74it/s]\n",
      "100%|██████████| 506/506 [00:21<00:00, 26.15it/s]\n",
      "INFO:root:DEV Acc:\t\t0.5729927(0.57)\t\t0.4049766(0.4)\t\t0.1515779(0.15)\n",
      "INFO:root:DEV L2:\t\t0.6054872(0.61)\t\t0.8277482(0.83)\t\t0.8261199(0.83)\n",
      "100%|██████████| 1117/1117 [00:53<00:00, 22.42it/s]\n",
      "INFO:root:TEST Acc:\t\t0.6295799(0.63)\t\t0.3912138(0.39)\t\t0.1200739(0.12)\n",
      "INFO:root:TEST L2:\t\t0.5278787(0.53)\t\t0.8327182(0.83)\t\t0.8638991(0.86)\n",
      "INFO:root:Epoch\t3/30\n",
      "100%|██████████| 3224/3224 [01:30<00:00, 35.80it/s]\n",
      "100%|██████████| 506/506 [00:21<00:00, 23.25it/s]\n",
      "INFO:root:DEV Acc:\t\t0.5836809(0.58)\t\t0.4049766(0.4)\t\t0.1515779(0.15)\n",
      "INFO:root:DEV L2:\t\t0.587617(0.59)\t\t0.8277482(0.83)\t\t0.8261199(0.83)\n",
      "100%|██████████| 1117/1117 [00:53<00:00, 22.30it/s]\n",
      "INFO:root:TEST Acc:\t\t0.6385592(0.64)\t\t0.3912138(0.39)\t\t0.1200739(0.12)\n",
      "INFO:root:TEST L2:\t\t0.5201645(0.52)\t\t0.8327182(0.83)\t\t0.8638991(0.86)\n",
      "INFO:root:Epoch\t4/30\n",
      "100%|██████████| 3224/3224 [01:32<00:00, 34.88it/s]\n",
      "100%|██████████| 506/506 [00:21<00:00, 23.73it/s]\n",
      "INFO:root:DEV Acc:\t\t0.5868092(0.59)\t\t0.4049766(0.4)\t\t0.1515779(0.15)\n",
      "INFO:root:DEV L2:\t\t0.5772583(0.58)\t\t0.8277482(0.83)\t\t0.8261199(0.83)\n",
      "100%|██████████| 1117/1117 [00:53<00:00, 23.45it/s]\n",
      "INFO:root:TEST Acc:\t\t0.6392817(0.64)\t\t0.3912138(0.39)\t\t0.1200739(0.12)\n",
      "INFO:root:TEST L2:\t\t0.5189294(0.52)\t\t0.8327182(0.83)\t\t0.8638991(0.86)\n",
      "INFO:root:Epoch\t5/30\n",
      "100%|██████████| 3224/3224 [01:30<00:00, 35.68it/s]\n",
      "100%|██████████| 506/506 [00:21<00:00, 25.79it/s]\n",
      "INFO:root:DEV Acc:\t\t0.5875912(0.59)\t\t0.4049766(0.4)\t\t0.1515779(0.15)\n",
      "INFO:root:DEV L2:\t\t0.5907076(0.59)\t\t0.8277482(0.83)\t\t0.8261199(0.83)\n",
      "100%|██████████| 1117/1117 [00:53<00:00, 23.29it/s]\n",
      "INFO:root:TEST Acc:\t\t0.640417(0.64)\t\t0.3912138(0.39)\t\t0.1200739(0.12)\n",
      "INFO:root:TEST L2:\t\t0.5206454(0.52)\t\t0.8327182(0.83)\t\t0.8638991(0.86)\n",
      "INFO:root:Epoch\t6/30\n",
      "100%|██████████| 3224/3224 [01:30<00:00, 37.75it/s]\n",
      "100%|██████████| 506/506 [00:21<00:00, 24.03it/s]\n",
      "INFO:root:DEV Acc:\t\t0.5948905(0.59)\t\t0.4049766(0.4)\t\t0.1515779(0.15)\n",
      "INFO:root:DEV L2:\t\t0.5714538(0.57)\t\t0.8277482(0.83)\t\t0.8261199(0.83)\n",
      "100%|██████████| 1117/1117 [00:53<00:00, 22.98it/s]\n",
      "INFO:root:TEST Acc:\t\t0.6519765(0.65)\t\t0.3912138(0.39)\t\t0.1200739(0.12)\n",
      "INFO:root:TEST L2:\t\t0.4990593(0.5)\t\t0.8327182(0.83)\t\t0.8638991(0.86)\n",
      "INFO:root:Epoch\t7/30\n",
      "100%|██████████| 3224/3224 [01:31<00:00, 35.06it/s]\n",
      "100%|██████████| 506/506 [00:21<00:00, 23.88it/s]\n",
      "INFO:root:DEV Acc:\t\t0.5894161(0.59)\t\t0.4049766(0.4)\t\t0.1515779(0.15)\n",
      "INFO:root:DEV L2:\t\t0.5838777(0.58)\t\t0.8277482(0.83)\t\t0.8261199(0.83)\n",
      "100%|██████████| 1117/1117 [00:53<00:00, 23.29it/s]\n",
      "INFO:root:TEST Acc:\t\t0.6515636(0.65)\t\t0.3912138(0.39)\t\t0.1200739(0.12)\n",
      "INFO:root:TEST L2:\t\t0.5062852(0.51)\t\t0.8327182(0.83)\t\t0.8638991(0.86)\n"
     ]
    },
    {
     "data": {
      "application/vnd.plotly.v1+json": {
       "config": {
        "linkText": "Export to plot.ly",
        "plotlyServerURL": "https://plot.ly",
        "showLink": true
       },
       "data": [
        {
         "marker": {
          "color": "#3498db"
         },
         "mode": "lines+markers",
         "name": "Dev Goal Accuracy",
         "type": "scatter",
         "uid": "d6f7c91c-568d-4d10-a5bf-7618c2fe6f57",
         "x": [
          0,
          1,
          2,
          3,
          4,
          5,
          6
         ],
         "y": [
          0.5143379,
          0.5729927,
          0.5836809,
          0.5868092,
          0.5875912,
          0.5948905,
          0.5894161
         ]
        },
        {
         "marker": {
          "color": "#9b59b6"
         },
         "mode": "lines+markers",
         "name": "Test Goal Accuracy",
         "type": "scatter",
         "uid": "14499905-1f6e-493a-b1d8-00f576b5303d",
         "x": [
          0,
          1,
          2,
          3,
          4,
          5,
          6
         ],
         "y": [
          0.5447415,
          0.6295799,
          0.6385592,
          0.6392817,
          0.640417,
          0.6519765,
          0.6515636
         ]
        }
       ],
       "layout": {
        "margin": {
         "b": 150
        },
        "title": "<b>Dev-Test Goal Accuracy</b>",
        "xaxis": {
         "dtick": 1,
         "title": "<b>Epoch</b>",
         "titlefont": {
          "color": "#34495e"
         }
        },
        "yaxis": {
         "title": "<b>Accuracy</b>",
         "titlefont": {
          "color": "#34495e"
         }
        }
       }
      },
      "text/html": [
       "<div id=\"0fc5aaa2-2153-4af9-ab56-8f958a2aa5e6\" style=\"height: 525px; width: 100%;\" class=\"plotly-graph-div\"></div><script type=\"text/javascript\">require([\"plotly\"], function(Plotly) { window.PLOTLYENV=window.PLOTLYENV || {};window.PLOTLYENV.BASE_URL=\"https://plot.ly\";Plotly.newPlot(\"0fc5aaa2-2153-4af9-ab56-8f958a2aa5e6\", [{\"marker\": {\"color\": \"#3498db\"}, \"mode\": \"lines+markers\", \"name\": \"Dev Goal Accuracy\", \"x\": [0, 1, 2, 3, 4, 5, 6], \"y\": [0.5143379, 0.5729927, 0.5836809, 0.5868092, 0.5875912, 0.5948905, 0.5894161], \"type\": \"scatter\", \"uid\": \"5ec0f126-b7a7-44b6-ac54-a7ea5b860f8b\"}, {\"marker\": {\"color\": \"#9b59b6\"}, \"mode\": \"lines+markers\", \"name\": \"Test Goal Accuracy\", \"x\": [0, 1, 2, 3, 4, 5, 6], \"y\": [0.5447415, 0.6295799, 0.6385592, 0.6392817, 0.640417, 0.6519765, 0.6515636], \"type\": \"scatter\", \"uid\": \"499482a8-e59d-4d2e-8dc0-d89b9359cded\"}], {\"margin\": {\"b\": 150}, \"title\": \"<b>Dev-Test Goal Accuracy</b>\", \"xaxis\": {\"dtick\": 1, \"title\": \"<b>Epoch</b>\", \"titlefont\": {\"color\": \"#34495e\"}}, \"yaxis\": {\"title\": \"<b>Accuracy</b>\", \"titlefont\": {\"color\": \"#34495e\"}}}, {\"showLink\": true, \"linkText\": \"Export to plot.ly\", \"plotlyServerURL\": \"https://plot.ly\"})});</script><script type=\"text/javascript\">window.addEventListener(\"resize\", function(){window._Plotly.Plots.resize(document.getElementById(\"0fc5aaa2-2153-4af9-ab56-8f958a2aa5e6\"));});</script>"
      ],
      "text/vnd.plotly.v1+html": [
       "<div id=\"0fc5aaa2-2153-4af9-ab56-8f958a2aa5e6\" style=\"height: 525px; width: 100%;\" class=\"plotly-graph-div\"></div><script type=\"text/javascript\">require([\"plotly\"], function(Plotly) { window.PLOTLYENV=window.PLOTLYENV || {};window.PLOTLYENV.BASE_URL=\"https://plot.ly\";Plotly.newPlot(\"0fc5aaa2-2153-4af9-ab56-8f958a2aa5e6\", [{\"marker\": {\"color\": \"#3498db\"}, \"mode\": \"lines+markers\", \"name\": \"Dev Goal Accuracy\", \"x\": [0, 1, 2, 3, 4, 5, 6], \"y\": [0.5143379, 0.5729927, 0.5836809, 0.5868092, 0.5875912, 0.5948905, 0.5894161], \"type\": \"scatter\", \"uid\": \"5ec0f126-b7a7-44b6-ac54-a7ea5b860f8b\"}, {\"marker\": {\"color\": \"#9b59b6\"}, \"mode\": \"lines+markers\", \"name\": \"Test Goal Accuracy\", \"x\": [0, 1, 2, 3, 4, 5, 6], \"y\": [0.5447415, 0.6295799, 0.6385592, 0.6392817, 0.640417, 0.6519765, 0.6515636], \"type\": \"scatter\", \"uid\": \"499482a8-e59d-4d2e-8dc0-d89b9359cded\"}], {\"margin\": {\"b\": 150}, \"title\": \"<b>Dev-Test Goal Accuracy</b>\", \"xaxis\": {\"dtick\": 1, \"title\": \"<b>Epoch</b>\", \"titlefont\": {\"color\": \"#34495e\"}}, \"yaxis\": {\"title\": \"<b>Accuracy</b>\", \"titlefont\": {\"color\": \"#34495e\"}}}, {\"showLink\": true, \"linkText\": \"Export to plot.ly\", \"plotlyServerURL\": \"https://plot.ly\"})});</script><script type=\"text/javascript\">window.addEventListener(\"resize\", function(){window._Plotly.Plots.resize(document.getElementById(\"0fc5aaa2-2153-4af9-ab56-8f958a2aa5e6\"));});</script>"
      ]
     },
     "metadata": {},
     "output_type": "display_data"
    }
   ],
   "source": [
    "dev_goal_accuracies = []\n",
    "dev_requested_accuracies = []\n",
    "dev_method_accuracies = []\n",
    "\n",
    "test_goal_accuracies = []\n",
    "test_requested_accuracies = []\n",
    "test_method_accuracies = []\n",
    "\n",
    "goal_food_early_stopping = EarlyStopping(patience = 0)\n",
    "\n",
    "train_indices = np.arange(raw_X_train.shape[0])\n",
    "\n",
    "for epoch in range(NUM_EPOCHS):\n",
    "    \n",
    "    np.random.shuffle(train_indices)\n",
    "    \n",
    "    logging.info(\"Epoch\\t{}/{}\".format(epoch + 1, NUM_EPOCHS))\n",
    "    \n",
    "    model_GoalFood = model_GoalFood.train()\n",
    "    \n",
    "    for raw_X_train_dialog, raw_Y_train_dialog in tqdm(zip(raw_X_train[train_indices], raw_Y_train[train_indices]), total = len(raw_X_train)):\n",
    "\n",
    "        model_GoalFood.hidden = model_GoalFood.init_hidden()\n",
    "\n",
    "        for raw_X_train_turn, raw_Y_train_turn in zip(raw_X_train_dialog[\"turns\"], raw_Y_train_dialog[\"turns\"]):\n",
    "            \n",
    "            optimizer_GoalFoodModel.zero_grad()\n",
    "            \n",
    "            indices, scores = get_index_and_score(raw_X_train_turn, token_to_index, mode = \"train\", device = DEVICE)\n",
    "            \n",
    "            goal_food = model_GoalFood(indices, scores)\n",
    "            \n",
    "            loss_goal_food = GOAL_LOSS_FUNCTION(goal_food,\n",
    "                                                retrieve_gold_GoalFood(raw_Y_train_turn,\n",
    "                                                                       ontology = ontology,\n",
    "                                                                       device = DEVICE))\n",
    "            \n",
    "            loss = loss_goal_food\n",
    "            \n",
    "            loss.backward(retain_graph = True)\n",
    "            \n",
    "            optimizer_GoalFoodModel.step()\n",
    "    \n",
    "    dev_goal_accuracy, \\\n",
    "    dev_goal_l2, \\\n",
    "    dev_requested_accuracy, \\\n",
    "    dev_requested_l2, \\\n",
    "    dev_method_accuracy, \\\n",
    "    dev_method_l2 = get_scores(model_GoalPricerange,\n",
    "                               model_GoalArea,\n",
    "                               model_GoalName,\n",
    "                               model_GoalFood,\n",
    "                               model_Requested,\n",
    "                               model_Method,\n",
    "                               raw_X_dev, raw_Y_dev, dataset = \"dstc2_dev\")\n",
    "    logging.info(\"DEV Acc:\\t\\t{}({})\\t\\t{}({})\\t\\t{}({})\".format(dev_goal_accuracy,\n",
    "                                                                 np.around(dev_goal_accuracy, decimals = 2),\n",
    "                                                                 dev_requested_accuracy,\n",
    "                                                                 np.around(dev_requested_accuracy, decimals = 2),\n",
    "                                                                 dev_method_accuracy,\n",
    "                                                                 np.around(dev_method_accuracy, decimals = 2)))\n",
    "    logging.info(\"DEV L2:\\t\\t{}({})\\t\\t{}({})\\t\\t{}({})\".format(dev_goal_l2,\n",
    "                                                                np.around(dev_goal_l2, decimals = 2),\n",
    "                                                                dev_requested_l2,\n",
    "                                                                np.around(dev_requested_l2, decimals = 2),\n",
    "                                                                dev_method_l2,\n",
    "                                                                np.around(dev_method_l2, decimals = 2)))\n",
    "    dev_goal_accuracies.append(dev_goal_accuracy)\n",
    "    dev_requested_accuracies.append(dev_requested_accuracy)\n",
    "    dev_method_accuracies.append(dev_method_accuracy)\n",
    "\n",
    "    test_goal_accuracy, \\\n",
    "    test_goal_l2, \\\n",
    "    test_requested_accuracy, \\\n",
    "    test_requested_l2, \\\n",
    "    test_method_accuracy, \\\n",
    "    test_method_l2 = get_scores(model_GoalPricerange,\n",
    "                                model_GoalArea,\n",
    "                                model_GoalName,\n",
    "                                model_GoalFood,\n",
    "                                model_Requested,\n",
    "                                model_Method,\n",
    "                                raw_X_test, raw_Y_test, dataset = \"dstc2_test\")\n",
    "    logging.info(\"TEST Acc:\\t\\t{}({})\\t\\t{}({})\\t\\t{}({})\".format(test_goal_accuracy,\n",
    "                                                                  np.around(test_goal_accuracy, decimals = 2),\n",
    "                                                                  test_requested_accuracy,\n",
    "                                                                  np.around(test_requested_accuracy, decimals = 2),\n",
    "                                                                  test_method_accuracy,\n",
    "                                                                  np.around(test_method_accuracy, decimals = 2)))\n",
    "    logging.info(\"TEST L2:\\t\\t{}({})\\t\\t{}({})\\t\\t{}({})\".format(test_goal_l2,\n",
    "                                                                 np.around(test_goal_l2, decimals = 2),\n",
    "                                                                 test_requested_l2,\n",
    "                                                                 np.around(test_requested_l2, decimals = 2),\n",
    "                                                                 test_method_l2,\n",
    "                                                                 np.around(test_method_l2, decimals = 2)))\n",
    "    test_goal_accuracies.append(test_goal_accuracy)\n",
    "    test_requested_accuracies.append(test_requested_accuracy)\n",
    "    test_method_accuracies.append(test_requested_accuracy)\n",
    "        \n",
    "    goal_food_early_stopping.on_epoch_end(epoch = (epoch + 1), current_value = (dev_goal_accuracy))\n",
    "    \n",
    "    if goal_food_early_stopping.stop_training:\n",
    "        break\n",
    "\n",
    "plotly_plot(dev_goal_accuracies, test_goal_accuracies, \"Goal\")"
   ]
  },
  {
   "cell_type": "markdown",
   "metadata": {},
   "source": [
    "### Save Goal Food Model"
   ]
  },
  {
   "cell_type": "code",
   "execution_count": 26,
   "metadata": {},
   "outputs": [],
   "source": [
    "torch.save(model_GoalFood.state_dict(), \"model_GoalFood.pt\")"
   ]
  },
  {
   "cell_type": "markdown",
   "metadata": {},
   "source": [
    "### Load Goal Food Model"
   ]
  },
  {
   "cell_type": "code",
   "execution_count": 27,
   "metadata": {},
   "outputs": [
    {
     "data": {
      "text/plain": [
       "GoalFoodModel(\n",
       "  (embeddings): Embedding(1149, 300)\n",
       "  (altered_embeddings): Linear(in_features=301, out_features=310, bias=True)\n",
       "  (lstm): LSTM(310, 100)\n",
       "  (goal_food_classifier): Linear(in_features=100, out_features=93, bias=True)\n",
       ")"
      ]
     },
     "execution_count": 27,
     "metadata": {},
     "output_type": "execute_result"
    }
   ],
   "source": [
    "model_GoalFood = GoalFoodModel(vocabulary_size = VOCABULARY_SIZE,\n",
    "                               embedding_dim = EMBEDDING_DIM,\n",
    "                               altered_embedding_dim = ALTERED_EMBEDDING_DIM,\n",
    "                               hidden_dim = HIDDEN_DIM,\n",
    "                               goal_food_dim = GOAL_FOOD_DIM,\n",
    "                               embedding_matrix = EMBEDDING_MATRIX,\n",
    "                               device = DEVICE)\n",
    "\n",
    "model_GoalFood = model_GoalFood.to(DEVICE)\n",
    "model_GoalFood.load_state_dict(torch.load(\"model_GoalFood.pt\"))\n",
    "model_GoalFood.eval()"
   ]
  },
  {
   "cell_type": "code",
   "execution_count": 28,
   "metadata": {},
   "outputs": [
    {
     "name": "stderr",
     "output_type": "stream",
     "text": [
      "100%|██████████| 506/506 [00:21<00:00, 23.71it/s]\n"
     ]
    },
    {
     "data": {
      "text/plain": [
       "(0.5894161, 0.5838777, 0.4049766, 0.8277482, 0.1515779, 0.8261199)"
      ]
     },
     "execution_count": 28,
     "metadata": {},
     "output_type": "execute_result"
    }
   ],
   "source": [
    "get_scores(model_GoalPricerange,\n",
    "           model_GoalArea,\n",
    "           model_GoalName,\n",
    "           model_GoalFood,\n",
    "           model_Requested,\n",
    "           model_Method,\n",
    "           raw_X_dev, raw_Y_dev, dataset = \"dstc2_dev\")"
   ]
  },
  {
   "cell_type": "code",
   "execution_count": 29,
   "metadata": {},
   "outputs": [
    {
     "name": "stderr",
     "output_type": "stream",
     "text": [
      "100%|██████████| 1117/1117 [00:52<00:00, 23.43it/s]\n"
     ]
    },
    {
     "data": {
      "text/plain": [
       "(0.6515636, 0.5062852, 0.3912138, 0.8327182, 0.1200739, 0.8638991)"
      ]
     },
     "execution_count": 29,
     "metadata": {},
     "output_type": "execute_result"
    }
   ],
   "source": [
    "get_scores(model_GoalPricerange,\n",
    "           model_GoalArea,\n",
    "           model_GoalName,\n",
    "           model_GoalFood,\n",
    "           model_Requested,\n",
    "           model_Method,\n",
    "           raw_X_test, raw_Y_test, dataset = \"dstc2_test\")"
   ]
  },
  {
   "cell_type": "markdown",
   "metadata": {},
   "source": [
    "### Train Requested Model"
   ]
  },
  {
   "cell_type": "code",
   "execution_count": 40,
   "metadata": {},
   "outputs": [
    {
     "name": "stderr",
     "output_type": "stream",
     "text": [
      "INFO:root:Epoch\t1/30\n",
      "100%|██████████| 3224/3224 [01:31<00:00, 35.29it/s]\n",
      "100%|██████████| 506/506 [00:20<00:00, 24.18it/s]\n",
      "INFO:root:DEV Acc:\t\t0.6457247(0.65)\t\t0.9556437(0.96)\t\t0.1515779(0.15)\n",
      "INFO:root:DEV L2:\t\t0.523165(0.52)\t\t0.8277482(0.83)\t\t0.0799728(0.08)\n",
      "100%|██████████| 1117/1117 [00:53<00:00, 23.15it/s]\n",
      "INFO:root:TEST Acc:\t\t0.6586851(0.66)\t\t0.9654454(0.97)\t\t0.1200739(0.12)\n",
      "INFO:root:TEST L2:\t\t0.5196926(0.52)\t\t0.8327182(0.83)\t\t0.0623262(0.06)\n",
      "INFO:root:Epoch\t2/30\n",
      "100%|██████████| 3224/3224 [01:30<00:00, 35.68it/s]\n",
      "100%|██████████| 506/506 [00:21<00:00, 24.05it/s]\n",
      "INFO:root:DEV Acc:\t\t0.6457247(0.65)\t\t0.9570862(0.96)\t\t0.1515779(0.15)\n",
      "INFO:root:DEV L2:\t\t0.523165(0.52)\t\t0.8277482(0.83)\t\t0.0849458(0.08)\n",
      "100%|██████████| 1117/1117 [00:53<00:00, 23.33it/s]\n",
      "INFO:root:TEST Acc:\t\t0.6586851(0.66)\t\t0.9687446(0.97)\t\t0.1200739(0.12)\n",
      "INFO:root:TEST L2:\t\t0.5196926(0.52)\t\t0.8327182(0.83)\t\t0.0637942(0.06)\n",
      "INFO:root:Epoch\t3/30\n",
      "100%|██████████| 3224/3224 [01:31<00:00, 35.40it/s]\n",
      "100%|██████████| 506/506 [00:21<00:00, 24.01it/s]\n",
      "INFO:root:DEV Acc:\t\t0.6457247(0.65)\t\t0.9642986(0.96)\t\t0.1515779(0.15)\n",
      "INFO:root:DEV L2:\t\t0.523165(0.52)\t\t0.8277482(0.83)\t\t0.0663178(0.07)\n",
      "100%|██████████| 1117/1117 [00:53<00:00, 21.04it/s]\n",
      "INFO:root:TEST Acc:\t\t0.6586851(0.66)\t\t0.9708283(0.97)\t\t0.1200739(0.12)\n",
      "INFO:root:TEST L2:\t\t0.5196926(0.52)\t\t0.8327182(0.83)\t\t0.0541657(0.05)\n",
      "INFO:root:Epoch\t4/30\n",
      "100%|██████████| 3224/3224 [01:31<00:00, 35.32it/s]\n",
      "100%|██████████| 506/506 [00:20<00:00, 24.29it/s]\n",
      "INFO:root:DEV Acc:\t\t0.6457247(0.65)\t\t0.961053(0.96)\t\t0.1515779(0.15)\n",
      "INFO:root:DEV L2:\t\t0.523165(0.52)\t\t0.8277482(0.83)\t\t0.0711557(0.07)\n",
      "100%|██████████| 1117/1117 [00:53<00:00, 23.22it/s]\n",
      "INFO:root:TEST Acc:\t\t0.6586851(0.66)\t\t0.9711756(0.97)\t\t0.1200739(0.12)\n",
      "INFO:root:TEST L2:\t\t0.5196926(0.52)\t\t0.8327182(0.83)\t\t0.0530267(0.05)\n",
      "INFO:root:Epoch\t5/30\n",
      "100%|██████████| 3224/3224 [01:31<00:00, 35.26it/s]\n",
      "100%|██████████| 506/506 [00:21<00:00, 26.24it/s]\n",
      "INFO:root:DEV Acc:\t\t0.6457247(0.65)\t\t0.9628561(0.96)\t\t0.1515779(0.15)\n",
      "INFO:root:DEV L2:\t\t0.523165(0.52)\t\t0.8277482(0.83)\t\t0.0658649(0.07)\n",
      "100%|██████████| 1117/1117 [00:54<00:00, 21.26it/s]\n",
      "INFO:root:TEST Acc:\t\t0.6586851(0.66)\t\t0.9701337(0.97)\t\t0.1200739(0.12)\n",
      "INFO:root:TEST L2:\t\t0.5196926(0.52)\t\t0.8327182(0.83)\t\t0.0527532(0.05)\n",
      "INFO:root:Epoch\t6/30\n",
      "100%|██████████| 3224/3224 [01:30<00:00, 35.68it/s]\n",
      "100%|██████████| 506/506 [00:21<00:00, 23.70it/s]\n",
      "INFO:root:DEV Acc:\t\t0.6457247(0.65)\t\t0.9653805(0.97)\t\t0.1515779(0.15)\n",
      "INFO:root:DEV L2:\t\t0.523165(0.52)\t\t0.8277482(0.83)\t\t0.0648996(0.06)\n",
      "100%|██████████| 1117/1117 [00:52<00:00, 21.23it/s]\n",
      "INFO:root:TEST Acc:\t\t0.6586851(0.66)\t\t0.9718701(0.97)\t\t0.1200739(0.12)\n",
      "INFO:root:TEST L2:\t\t0.5196926(0.52)\t\t0.8327182(0.83)\t\t0.0533652(0.05)\n",
      "INFO:root:Epoch\t7/30\n",
      "100%|██████████| 3224/3224 [01:31<00:00, 38.36it/s]\n",
      "100%|██████████| 506/506 [00:21<00:00, 23.28it/s]\n",
      "INFO:root:DEV Acc:\t\t0.6457247(0.65)\t\t0.9603318(0.96)\t\t0.1515779(0.15)\n",
      "INFO:root:DEV L2:\t\t0.523165(0.52)\t\t0.8277482(0.83)\t\t0.0781636(0.08)\n",
      "100%|██████████| 1117/1117 [00:53<00:00, 21.98it/s]\n",
      "INFO:root:TEST Acc:\t\t0.6586851(0.66)\t\t0.9716965(0.97)\t\t0.1200739(0.12)\n",
      "INFO:root:TEST L2:\t\t0.5196926(0.52)\t\t0.8327182(0.83)\t\t0.0561714(0.06)\n",
      "INFO:root:Epoch\t8/30\n",
      "100%|██████████| 3224/3224 [01:31<00:00, 35.25it/s]\n",
      "100%|██████████| 506/506 [00:21<00:00, 23.96it/s]\n",
      "INFO:root:DEV Acc:\t\t0.6457247(0.65)\t\t0.9664623(0.97)\t\t0.1515779(0.15)\n",
      "INFO:root:DEV L2:\t\t0.523165(0.52)\t\t0.8277482(0.83)\t\t0.0626478(0.06)\n",
      "100%|██████████| 1117/1117 [00:53<00:00, 22.85it/s]\n",
      "INFO:root:TEST Acc:\t\t0.6586851(0.66)\t\t0.9741275(0.97)\t\t0.1200739(0.12)\n",
      "INFO:root:TEST L2:\t\t0.5196926(0.52)\t\t0.8327182(0.83)\t\t0.0489473(0.05)\n",
      "INFO:root:Epoch\t9/30\n",
      "100%|██████████| 3224/3224 [01:29<00:00, 36.00it/s]\n",
      "100%|██████████| 506/506 [00:21<00:00, 23.65it/s]\n",
      "INFO:root:DEV Acc:\t\t0.6457247(0.65)\t\t0.9693473(0.97)\t\t0.1515779(0.15)\n",
      "INFO:root:DEV L2:\t\t0.523165(0.52)\t\t0.8277482(0.83)\t\t0.0564918(0.06)\n",
      "100%|██████████| 1117/1117 [00:52<00:00, 21.27it/s]\n",
      "INFO:root:TEST Acc:\t\t0.6586851(0.66)\t\t0.9720438(0.97)\t\t0.1200739(0.12)\n",
      "INFO:root:TEST L2:\t\t0.5196926(0.52)\t\t0.8327182(0.83)\t\t0.0510288(0.05)\n",
      "INFO:root:Epoch\t10/30\n",
      "100%|██████████| 3224/3224 [01:31<00:00, 35.37it/s]\n",
      "100%|██████████| 506/506 [00:21<00:00, 26.13it/s]\n",
      "INFO:root:DEV Acc:\t\t0.6457247(0.65)\t\t0.9682654(0.97)\t\t0.1515779(0.15)\n",
      "INFO:root:DEV L2:\t\t0.523165(0.52)\t\t0.8277482(0.83)\t\t0.0588296(0.06)\n",
      "100%|██████████| 1117/1117 [00:54<00:00, 21.19it/s]\n",
      "INFO:root:TEST Acc:\t\t0.6586851(0.66)\t\t0.9730856(0.97)\t\t0.1200739(0.12)\n",
      "INFO:root:TEST L2:\t\t0.5196926(0.52)\t\t0.8327182(0.83)\t\t0.0480796(0.05)\n",
      "INFO:root:Epoch\t11/30\n",
      "100%|██████████| 3224/3224 [01:30<00:00, 35.55it/s]\n",
      "100%|██████████| 506/506 [00:21<00:00, 26.76it/s]\n",
      "INFO:root:DEV Acc:\t\t0.6457247(0.65)\t\t0.9707898(0.97)\t\t0.1515779(0.15)\n",
      "INFO:root:DEV L2:\t\t0.523165(0.52)\t\t0.8277482(0.83)\t\t0.0565677(0.06)\n",
      "100%|██████████| 1117/1117 [00:52<00:00, 21.13it/s]\n",
      "INFO:root:TEST Acc:\t\t0.6586851(0.66)\t\t0.972391(0.97)\t\t0.1200739(0.12)\n",
      "INFO:root:TEST L2:\t\t0.5196926(0.52)\t\t0.8327182(0.83)\t\t0.049591(0.05)\n",
      "INFO:root:Epoch\t12/30\n",
      "100%|██████████| 3224/3224 [01:30<00:00, 35.64it/s]\n",
      "100%|██████████| 506/506 [00:21<00:00, 23.79it/s]\n",
      "INFO:root:DEV Acc:\t\t0.6457247(0.65)\t\t0.9668229(0.97)\t\t0.1515779(0.15)\n",
      "INFO:root:DEV L2:\t\t0.523165(0.52)\t\t0.8277482(0.83)\t\t0.0618949(0.06)\n",
      "100%|██████████| 1117/1117 [00:53<00:00, 23.24it/s]\n",
      "INFO:root:TEST Acc:\t\t0.6586851(0.66)\t\t0.9744747(0.97)\t\t0.1200739(0.12)\n",
      "INFO:root:TEST L2:\t\t0.5196926(0.52)\t\t0.8327182(0.83)\t\t0.0474633(0.05)\n",
      "INFO:root:Epoch\t13/30\n",
      "100%|██████████| 3224/3224 [01:31<00:00, 41.00it/s]\n",
      "100%|██████████| 506/506 [00:21<00:00, 23.27it/s]\n",
      "INFO:root:DEV Acc:\t\t0.6457247(0.65)\t\t0.9671836(0.97)\t\t0.1515779(0.15)\n",
      "INFO:root:DEV L2:\t\t0.523165(0.52)\t\t0.8277482(0.83)\t\t0.0635264(0.06)\n",
      "100%|██████████| 1117/1117 [00:53<00:00, 23.30it/s]\n",
      "INFO:root:TEST Acc:\t\t0.6586851(0.66)\t\t0.9727383(0.97)\t\t0.1200739(0.12)\n",
      "INFO:root:TEST L2:\t\t0.5196926(0.52)\t\t0.8327182(0.83)\t\t0.0503898(0.05)\n",
      "INFO:root:Epoch\t14/30\n",
      "100%|██████████| 3224/3224 [01:30<00:00, 35.48it/s]\n",
      "100%|██████████| 506/506 [00:21<00:00, 23.87it/s]\n",
      "INFO:root:DEV Acc:\t\t0.6457247(0.65)\t\t0.9661017(0.97)\t\t0.1515779(0.15)\n",
      "INFO:root:DEV L2:\t\t0.523165(0.52)\t\t0.8277482(0.83)\t\t0.0654636(0.07)\n",
      "100%|██████████| 1117/1117 [00:53<00:00, 22.93it/s]\n",
      "INFO:root:TEST Acc:\t\t0.6586851(0.66)\t\t0.9744747(0.97)\t\t0.1200739(0.12)\n",
      "INFO:root:TEST L2:\t\t0.5196926(0.52)\t\t0.8327182(0.83)\t\t0.0476845(0.05)\n"
     ]
    },
    {
     "data": {
      "application/vnd.plotly.v1+json": {
       "config": {
        "linkText": "Export to plot.ly",
        "plotlyServerURL": "https://plot.ly",
        "showLink": true
       },
       "data": [
        {
         "marker": {
          "color": "#3498db"
         },
         "mode": "lines+markers",
         "name": "Dev Requested Accuracy",
         "type": "scatter",
         "uid": "9fc74e0e-f6d9-41fa-886b-c266a3d1c6ef",
         "x": [
          0,
          1,
          2,
          3,
          4,
          5,
          6,
          7,
          8,
          9,
          10,
          11,
          12,
          13
         ],
         "y": [
          0.9556437,
          0.9570862,
          0.9642986,
          0.961053,
          0.9628561,
          0.9653805,
          0.9603318,
          0.9664623,
          0.9693473,
          0.9682654,
          0.9707898,
          0.9668229,
          0.9671836,
          0.9661017
         ]
        },
        {
         "marker": {
          "color": "#9b59b6"
         },
         "mode": "lines+markers",
         "name": "Test Requested Accuracy",
         "type": "scatter",
         "uid": "e051fd3e-300f-44d8-9212-da05b2c5c36b",
         "x": [
          0,
          1,
          2,
          3,
          4,
          5,
          6,
          7,
          8,
          9,
          10,
          11,
          12,
          13
         ],
         "y": [
          0.9654454,
          0.9687446,
          0.9708283,
          0.9711756,
          0.9701337,
          0.9718701,
          0.9716965,
          0.9741275,
          0.9720438,
          0.9730856,
          0.972391,
          0.9744747,
          0.9727383,
          0.9744747
         ]
        }
       ],
       "layout": {
        "margin": {
         "b": 150
        },
        "title": "<b>Dev-Test Requested Accuracy</b>",
        "xaxis": {
         "dtick": 1,
         "title": "<b>Epoch</b>",
         "titlefont": {
          "color": "#34495e"
         }
        },
        "yaxis": {
         "title": "<b>Accuracy</b>",
         "titlefont": {
          "color": "#34495e"
         }
        }
       }
      },
      "text/html": [
       "<div id=\"b74b59e5-8f4f-4c90-a17f-6f7f66e34549\" style=\"height: 525px; width: 100%;\" class=\"plotly-graph-div\"></div><script type=\"text/javascript\">require([\"plotly\"], function(Plotly) { window.PLOTLYENV=window.PLOTLYENV || {};window.PLOTLYENV.BASE_URL=\"https://plot.ly\";Plotly.newPlot(\"b74b59e5-8f4f-4c90-a17f-6f7f66e34549\", [{\"marker\": {\"color\": \"#3498db\"}, \"mode\": \"lines+markers\", \"name\": \"Dev Requested Accuracy\", \"x\": [0, 1, 2, 3, 4, 5, 6, 7, 8, 9, 10, 11, 12, 13], \"y\": [0.9556437, 0.9570862, 0.9642986, 0.961053, 0.9628561, 0.9653805, 0.9603318, 0.9664623, 0.9693473, 0.9682654, 0.9707898, 0.9668229, 0.9671836, 0.9661017], \"type\": \"scatter\", \"uid\": \"3ace32cb-f2b7-4e03-bc6d-6d375aef01c6\"}, {\"marker\": {\"color\": \"#9b59b6\"}, \"mode\": \"lines+markers\", \"name\": \"Test Requested Accuracy\", \"x\": [0, 1, 2, 3, 4, 5, 6, 7, 8, 9, 10, 11, 12, 13], \"y\": [0.9654454, 0.9687446, 0.9708283, 0.9711756, 0.9701337, 0.9718701, 0.9716965, 0.9741275, 0.9720438, 0.9730856, 0.972391, 0.9744747, 0.9727383, 0.9744747], \"type\": \"scatter\", \"uid\": \"33bda259-99bf-4a15-aa8c-eee44b95bb9f\"}], {\"margin\": {\"b\": 150}, \"title\": \"<b>Dev-Test Requested Accuracy</b>\", \"xaxis\": {\"dtick\": 1, \"title\": \"<b>Epoch</b>\", \"titlefont\": {\"color\": \"#34495e\"}}, \"yaxis\": {\"title\": \"<b>Accuracy</b>\", \"titlefont\": {\"color\": \"#34495e\"}}}, {\"showLink\": true, \"linkText\": \"Export to plot.ly\", \"plotlyServerURL\": \"https://plot.ly\"})});</script><script type=\"text/javascript\">window.addEventListener(\"resize\", function(){window._Plotly.Plots.resize(document.getElementById(\"b74b59e5-8f4f-4c90-a17f-6f7f66e34549\"));});</script>"
      ],
      "text/vnd.plotly.v1+html": [
       "<div id=\"b74b59e5-8f4f-4c90-a17f-6f7f66e34549\" style=\"height: 525px; width: 100%;\" class=\"plotly-graph-div\"></div><script type=\"text/javascript\">require([\"plotly\"], function(Plotly) { window.PLOTLYENV=window.PLOTLYENV || {};window.PLOTLYENV.BASE_URL=\"https://plot.ly\";Plotly.newPlot(\"b74b59e5-8f4f-4c90-a17f-6f7f66e34549\", [{\"marker\": {\"color\": \"#3498db\"}, \"mode\": \"lines+markers\", \"name\": \"Dev Requested Accuracy\", \"x\": [0, 1, 2, 3, 4, 5, 6, 7, 8, 9, 10, 11, 12, 13], \"y\": [0.9556437, 0.9570862, 0.9642986, 0.961053, 0.9628561, 0.9653805, 0.9603318, 0.9664623, 0.9693473, 0.9682654, 0.9707898, 0.9668229, 0.9671836, 0.9661017], \"type\": \"scatter\", \"uid\": \"3ace32cb-f2b7-4e03-bc6d-6d375aef01c6\"}, {\"marker\": {\"color\": \"#9b59b6\"}, \"mode\": \"lines+markers\", \"name\": \"Test Requested Accuracy\", \"x\": [0, 1, 2, 3, 4, 5, 6, 7, 8, 9, 10, 11, 12, 13], \"y\": [0.9654454, 0.9687446, 0.9708283, 0.9711756, 0.9701337, 0.9718701, 0.9716965, 0.9741275, 0.9720438, 0.9730856, 0.972391, 0.9744747, 0.9727383, 0.9744747], \"type\": \"scatter\", \"uid\": \"33bda259-99bf-4a15-aa8c-eee44b95bb9f\"}], {\"margin\": {\"b\": 150}, \"title\": \"<b>Dev-Test Requested Accuracy</b>\", \"xaxis\": {\"dtick\": 1, \"title\": \"<b>Epoch</b>\", \"titlefont\": {\"color\": \"#34495e\"}}, \"yaxis\": {\"title\": \"<b>Accuracy</b>\", \"titlefont\": {\"color\": \"#34495e\"}}}, {\"showLink\": true, \"linkText\": \"Export to plot.ly\", \"plotlyServerURL\": \"https://plot.ly\"})});</script><script type=\"text/javascript\">window.addEventListener(\"resize\", function(){window._Plotly.Plots.resize(document.getElementById(\"b74b59e5-8f4f-4c90-a17f-6f7f66e34549\"));});</script>"
      ]
     },
     "metadata": {},
     "output_type": "display_data"
    }
   ],
   "source": [
    "dev_goal_accuracies = []\n",
    "dev_requested_accuracies = []\n",
    "dev_method_accuracies = []\n",
    "\n",
    "test_goal_accuracies = []\n",
    "test_requested_accuracies = []\n",
    "test_method_accuracies = []\n",
    "\n",
    "requested_early_stopping = EarlyStopping(patience = 2)\n",
    "\n",
    "train_indices = np.arange(raw_X_train.shape[0])\n",
    "\n",
    "for epoch in range(NUM_EPOCHS):\n",
    "    \n",
    "    np.random.shuffle(train_indices)\n",
    "    \n",
    "    logging.info(\"Epoch\\t{}/{}\".format(epoch + 1, NUM_EPOCHS))\n",
    "    \n",
    "    model_Requested = model_Requested.train()\n",
    "    \n",
    "    for raw_X_train_dialog, raw_Y_train_dialog in tqdm(zip(raw_X_train[train_indices], raw_Y_train[train_indices]), total = len(raw_X_train)):\n",
    "\n",
    "        model_Requested.hidden = model_Requested.init_hidden()\n",
    "\n",
    "        for raw_X_train_turn, raw_Y_train_turn in zip(raw_X_train_dialog[\"turns\"], raw_Y_train_dialog[\"turns\"]):\n",
    "            \n",
    "            optimizer_RequestedModel.zero_grad()\n",
    "            \n",
    "            indices, scores = get_index_and_score(raw_X_train_turn, token_to_index, mode = \"train\", device = DEVICE)\n",
    "            \n",
    "            requested = model_Requested(indices, scores)\n",
    "            \n",
    "            loss_requested = REQUESTED_LOSS_FUNCTION(requested,\n",
    "                                                     retrieve_gold_Requested(raw_Y_train_turn,\n",
    "                                                                             ontology = ontology,\n",
    "                                                                             device = DEVICE))\n",
    "            loss = loss_requested\n",
    "            \n",
    "            loss.backward(retain_graph = True)\n",
    "            \n",
    "            optimizer_RequestedModel.step()\n",
    "    \n",
    "    dev_goal_accuracy, \\\n",
    "    dev_goal_l2, \\\n",
    "    dev_requested_accuracy, \\\n",
    "    dev_requested_l2, \\\n",
    "    dev_method_accuracy, \\\n",
    "    dev_method_l2 = get_scores(model_GoalPricerange,\n",
    "                               model_GoalArea,\n",
    "                               model_GoalName,\n",
    "                               model_GoalFood,\n",
    "                               model_Requested,\n",
    "                               model_Method,\n",
    "                               raw_X_dev, raw_Y_dev, dataset = \"dstc2_dev\")\n",
    "    logging.info(\"DEV Acc:\\t\\t{}({})\\t\\t{}({})\\t\\t{}({})\".format(dev_goal_accuracy,\n",
    "                                                                 np.around(dev_goal_accuracy, decimals = 2),\n",
    "                                                                 dev_requested_accuracy,\n",
    "                                                                 np.around(dev_requested_accuracy, decimals = 2),\n",
    "                                                                 dev_method_accuracy,\n",
    "                                                                 np.around(dev_method_accuracy, decimals = 2)))\n",
    "    logging.info(\"DEV L2:\\t\\t{}({})\\t\\t{}({})\\t\\t{}({})\".format(dev_goal_l2,\n",
    "                                                                np.around(dev_goal_l2, decimals = 2),\n",
    "                                                                dev_requested_l2,\n",
    "                                                                np.around(dev_requested_l2, decimals = 2),\n",
    "                                                                dev_method_l2,\n",
    "                                                                np.around(dev_method_l2, decimals = 2)))\n",
    "    dev_goal_accuracies.append(dev_goal_accuracy)\n",
    "    dev_requested_accuracies.append(dev_requested_accuracy)\n",
    "    dev_method_accuracies.append(dev_method_accuracy)\n",
    "\n",
    "    test_goal_accuracy, \\\n",
    "    test_goal_l2, \\\n",
    "    test_requested_accuracy, \\\n",
    "    test_requested_l2, \\\n",
    "    test_method_accuracy, \\\n",
    "    test_method_l2 = get_scores(model_GoalPricerange,\n",
    "                                model_GoalArea,\n",
    "                                model_GoalName,\n",
    "                                model_GoalFood,\n",
    "                                model_Requested,\n",
    "                                model_Method,\n",
    "                                raw_X_test, raw_Y_test, dataset = \"dstc2_test\")\n",
    "    logging.info(\"TEST Acc:\\t\\t{}({})\\t\\t{}({})\\t\\t{}({})\".format(test_goal_accuracy,\n",
    "                                                              np.around(test_goal_accuracy, decimals = 2),\n",
    "                                                              test_requested_accuracy,\n",
    "                                                              np.around(test_requested_accuracy, decimals = 2),\n",
    "                                                              test_method_accuracy,\n",
    "                                                              np.around(test_method_accuracy, decimals = 2)))\n",
    "    logging.info(\"TEST L2:\\t\\t{}({})\\t\\t{}({})\\t\\t{}({})\".format(test_goal_l2,\n",
    "                                                              np.around(test_goal_l2, decimals = 2),\n",
    "                                                              test_requested_l2,\n",
    "                                                              np.around(test_requested_l2, decimals = 2),\n",
    "                                                              test_method_l2,\n",
    "                                                              np.around(test_method_l2, decimals = 2)))\n",
    "    test_goal_accuracies.append(test_goal_accuracy)\n",
    "    test_requested_accuracies.append(test_requested_accuracy)\n",
    "    test_method_accuracies.append(test_requested_accuracy)\n",
    "        \n",
    "    requested_early_stopping.on_epoch_end(epoch = (epoch + 1), current_value = (dev_requested_accuracy))\n",
    "    \n",
    "    if requested_early_stopping.stop_training:\n",
    "        break\n",
    "\n",
    "plotly_plot(dev_requested_accuracies, test_requested_accuracies, \"Requested\")"
   ]
  },
  {
   "cell_type": "markdown",
   "metadata": {},
   "source": [
    "### Save Requested Model"
   ]
  },
  {
   "cell_type": "code",
   "execution_count": 41,
   "metadata": {},
   "outputs": [],
   "source": [
    "torch.save(model_Requested.state_dict(), \"model_Requested.pt\")"
   ]
  },
  {
   "cell_type": "markdown",
   "metadata": {},
   "source": [
    "### Load Requested Model"
   ]
  },
  {
   "cell_type": "code",
   "execution_count": 42,
   "metadata": {},
   "outputs": [
    {
     "data": {
      "text/plain": [
       "RequestedModel(\n",
       "  (embeddings): Embedding(1149, 300)\n",
       "  (altered_embeddings): Linear(in_features=301, out_features=310, bias=True)\n",
       "  (lstm): LSTM(310, 100)\n",
       "  (requested_classifier): Linear(in_features=100, out_features=8, bias=True)\n",
       ")"
      ]
     },
     "execution_count": 42,
     "metadata": {},
     "output_type": "execute_result"
    }
   ],
   "source": [
    "model_Requested = RequestedModel(vocabulary_size = VOCABULARY_SIZE,\n",
    "                                 embedding_dim = EMBEDDING_DIM,\n",
    "                                 altered_embedding_dim = ALTERED_EMBEDDING_DIM,\n",
    "                                 hidden_dim = HIDDEN_DIM,\n",
    "                                 requested_dim = REQUESTED_DIM,\n",
    "                                 embedding_matrix = EMBEDDING_MATRIX,\n",
    "                                 device = DEVICE)\n",
    "\n",
    "model_Requested = model_Requested.to(DEVICE)\n",
    "model_Requested.load_state_dict(torch.load(\"model_Requested.pt\"))\n",
    "model_Requested.eval()"
   ]
  },
  {
   "cell_type": "code",
   "execution_count": 43,
   "metadata": {},
   "outputs": [
    {
     "name": "stderr",
     "output_type": "stream",
     "text": [
      "100%|██████████| 506/506 [00:21<00:00, 24.50it/s]\n"
     ]
    },
    {
     "data": {
      "text/plain": [
       "(0.6457247, 0.523165, 0.9661017, 0.8277482, 0.1515779, 0.0654636)"
      ]
     },
     "execution_count": 43,
     "metadata": {},
     "output_type": "execute_result"
    }
   ],
   "source": [
    "get_scores(model_GoalPricerange,\n",
    "           model_GoalArea,\n",
    "           model_GoalName,\n",
    "           model_GoalFood,\n",
    "           model_Requested,\n",
    "           model_Method,\n",
    "           raw_X_dev, raw_Y_dev, dataset = \"dstc2_dev\")"
   ]
  },
  {
   "cell_type": "code",
   "execution_count": 44,
   "metadata": {},
   "outputs": [
    {
     "name": "stderr",
     "output_type": "stream",
     "text": [
      "100%|██████████| 1117/1117 [00:52<00:00, 21.36it/s]\n"
     ]
    },
    {
     "data": {
      "text/plain": [
       "(0.6586851, 0.5196926, 0.9744747, 0.8327182, 0.1200739, 0.0476845)"
      ]
     },
     "execution_count": 44,
     "metadata": {},
     "output_type": "execute_result"
    }
   ],
   "source": [
    "get_scores(model_GoalPricerange,\n",
    "           model_GoalArea,\n",
    "           model_GoalName,\n",
    "           model_GoalFood,\n",
    "           model_Requested,\n",
    "           model_Method,\n",
    "           raw_X_test, raw_Y_test, dataset = \"dstc2_test\")"
   ]
  },
  {
   "cell_type": "markdown",
   "metadata": {},
   "source": [
    "### Train Method Model"
   ]
  },
  {
   "cell_type": "code",
   "execution_count": 45,
   "metadata": {},
   "outputs": [
    {
     "name": "stderr",
     "output_type": "stream",
     "text": [
      "INFO:root:Epoch\t1/30\n",
      "100%|██████████| 3224/3224 [01:29<00:00, 35.89it/s]\n",
      "100%|██████████| 506/506 [00:21<00:00, 23.69it/s]\n",
      "INFO:root:DEV Acc:\t\t0.6457247(0.65)\t\t0.9661017(0.97)\t\t0.8993792(0.9)\n",
      "INFO:root:DEV L2:\t\t0.523165(0.52)\t\t0.164618(0.16)\t\t0.0654636(0.07)\n",
      "100%|██████████| 1117/1117 [00:53<00:00, 23.25it/s]\n",
      "INFO:root:TEST Acc:\t\t0.6586851(0.66)\t\t0.9744747(0.97)\t\t0.9215928(0.92)\n",
      "INFO:root:TEST L2:\t\t0.5196926(0.52)\t\t0.1246678(0.12)\t\t0.0476845(0.05)\n",
      "INFO:root:Epoch\t2/30\n",
      "100%|██████████| 3224/3224 [01:29<00:00, 36.06it/s]\n",
      "100%|██████████| 506/506 [00:21<00:00, 24.85it/s]\n",
      "INFO:root:DEV Acc:\t\t0.6457247(0.65)\t\t0.9661017(0.97)\t\t0.9040352(0.9)\n",
      "INFO:root:DEV L2:\t\t0.523165(0.52)\t\t0.1544842(0.15)\t\t0.0654636(0.07)\n",
      "100%|██████████| 1117/1117 [00:52<00:00, 23.29it/s]\n",
      "INFO:root:TEST Acc:\t\t0.6586851(0.66)\t\t0.9744747(0.97)\t\t0.9271346(0.93)\n",
      "INFO:root:TEST L2:\t\t0.5196926(0.52)\t\t0.1142255(0.11)\t\t0.0476845(0.05)\n",
      "INFO:root:Epoch\t3/30\n",
      "100%|██████████| 3224/3224 [01:30<00:00, 35.62it/s]\n",
      "100%|██████████| 506/506 [00:21<00:00, 24.00it/s]\n",
      "INFO:root:DEV Acc:\t\t0.6457247(0.65)\t\t0.9661017(0.97)\t\t0.9068805(0.91)\n",
      "INFO:root:DEV L2:\t\t0.523165(0.52)\t\t0.1548208(0.15)\t\t0.0654636(0.07)\n",
      "100%|██████████| 1117/1117 [00:52<00:00, 21.30it/s]\n",
      "INFO:root:TEST Acc:\t\t0.6586851(0.66)\t\t0.9744747(0.97)\t\t0.932266(0.93)\n",
      "INFO:root:TEST L2:\t\t0.5196926(0.52)\t\t0.1102324(0.11)\t\t0.0476845(0.05)\n",
      "INFO:root:Epoch\t4/30\n",
      "100%|██████████| 3224/3224 [01:30<00:00, 35.48it/s]\n",
      "100%|██████████| 506/506 [00:21<00:00, 24.04it/s]\n",
      "INFO:root:DEV Acc:\t\t0.6457247(0.65)\t\t0.9661017(0.97)\t\t0.9037765(0.9)\n",
      "INFO:root:DEV L2:\t\t0.523165(0.52)\t\t0.1568701(0.16)\t\t0.0654636(0.07)\n",
      "100%|██████████| 1117/1117 [00:53<00:00, 23.30it/s]\n",
      "INFO:root:TEST Acc:\t\t0.6586851(0.66)\t\t0.9744747(0.97)\t\t0.9279557(0.93)\n",
      "INFO:root:TEST L2:\t\t0.5196926(0.52)\t\t0.1159068(0.12)\t\t0.0476845(0.05)\n",
      "INFO:root:Epoch\t5/30\n",
      "100%|██████████| 3224/3224 [01:31<00:00, 35.33it/s]\n",
      "100%|██████████| 506/506 [00:21<00:00, 26.19it/s]\n",
      "INFO:root:DEV Acc:\t\t0.6457247(0.65)\t\t0.9661017(0.97)\t\t0.9073978(0.91)\n",
      "INFO:root:DEV L2:\t\t0.523165(0.52)\t\t0.1591687(0.16)\t\t0.0654636(0.07)\n",
      "100%|██████████| 1117/1117 [00:54<00:00, 23.06it/s]\n",
      "INFO:root:TEST Acc:\t\t0.6586851(0.66)\t\t0.9744747(0.97)\t\t0.9311371(0.93)\n",
      "INFO:root:TEST L2:\t\t0.5196926(0.52)\t\t0.1137734(0.11)\t\t0.0476845(0.05)\n",
      "INFO:root:Epoch\t6/30\n",
      "100%|██████████| 3224/3224 [01:31<00:00, 35.35it/s]\n",
      "100%|██████████| 506/506 [00:21<00:00, 25.89it/s]\n",
      "INFO:root:DEV Acc:\t\t0.6457247(0.65)\t\t0.9661017(0.97)\t\t0.9032592(0.9)\n",
      "INFO:root:DEV L2:\t\t0.523165(0.52)\t\t0.1634744(0.16)\t\t0.0654636(0.07)\n",
      "100%|██████████| 1117/1117 [00:54<00:00, 21.54it/s]\n",
      "INFO:root:TEST Acc:\t\t0.6586851(0.66)\t\t0.9744747(0.97)\t\t0.9346264(0.93)\n",
      "INFO:root:TEST L2:\t\t0.5196926(0.52)\t\t0.1105157(0.11)\t\t0.0476845(0.05)\n",
      "INFO:root:Epoch\t7/30\n",
      "100%|██████████| 3224/3224 [01:31<00:00, 35.42it/s]\n",
      "100%|██████████| 506/506 [00:21<00:00, 23.51it/s]\n",
      "INFO:root:DEV Acc:\t\t0.6457247(0.65)\t\t0.9661017(0.97)\t\t0.9071392(0.91)\n",
      "INFO:root:DEV L2:\t\t0.523165(0.52)\t\t0.1598491(0.16)\t\t0.0654636(0.07)\n",
      "100%|██████████| 1117/1117 [00:53<00:00, 23.08it/s]\n",
      "INFO:root:TEST Acc:\t\t0.6586851(0.66)\t\t0.9744747(0.97)\t\t0.9312397(0.93)\n",
      "INFO:root:TEST L2:\t\t0.5196926(0.52)\t\t0.1143466(0.11)\t\t0.0476845(0.05)\n",
      "INFO:root:Epoch\t8/30\n",
      "100%|██████████| 3224/3224 [01:30<00:00, 35.59it/s]\n",
      "100%|██████████| 506/506 [00:21<00:00, 23.26it/s]\n",
      "INFO:root:DEV Acc:\t\t0.6457247(0.65)\t\t0.9661017(0.97)\t\t0.9061045(0.91)\n",
      "INFO:root:DEV L2:\t\t0.523165(0.52)\t\t0.156931(0.16)\t\t0.0654636(0.07)\n",
      "100%|██████████| 1117/1117 [00:54<00:00, 20.68it/s]\n",
      "INFO:root:TEST Acc:\t\t0.6586851(0.66)\t\t0.9744747(0.97)\t\t0.9303161(0.93)\n",
      "INFO:root:TEST L2:\t\t0.5196926(0.52)\t\t0.1127883(0.11)\t\t0.0476845(0.05)\n"
     ]
    },
    {
     "data": {
      "application/vnd.plotly.v1+json": {
       "config": {
        "linkText": "Export to plot.ly",
        "plotlyServerURL": "https://plot.ly",
        "showLink": true
       },
       "data": [
        {
         "marker": {
          "color": "#3498db"
         },
         "mode": "lines+markers",
         "name": "Dev Method Accuracy",
         "type": "scatter",
         "uid": "570aad17-d0c7-4989-ba02-3fd116ceb842",
         "x": [
          0,
          1,
          2,
          3,
          4,
          5,
          6,
          7
         ],
         "y": [
          0.8993792,
          0.9040352,
          0.9068805,
          0.9037765,
          0.9073978,
          0.9032592,
          0.9071392,
          0.9061045
         ]
        },
        {
         "marker": {
          "color": "#9b59b6"
         },
         "mode": "lines+markers",
         "name": "Test Method Accuracy",
         "type": "scatter",
         "uid": "e5f7ecb1-be5a-476e-a376-b6586e1a9131",
         "x": [
          0,
          1,
          2,
          3,
          4,
          5,
          6,
          7
         ],
         "y": [
          0.9744747,
          0.9744747,
          0.9744747,
          0.9744747,
          0.9744747,
          0.9744747,
          0.9744747,
          0.9744747
         ]
        }
       ],
       "layout": {
        "margin": {
         "b": 150
        },
        "title": "<b>Dev-Test Method Accuracy</b>",
        "xaxis": {
         "dtick": 1,
         "title": "<b>Epoch</b>",
         "titlefont": {
          "color": "#34495e"
         }
        },
        "yaxis": {
         "title": "<b>Accuracy</b>",
         "titlefont": {
          "color": "#34495e"
         }
        }
       }
      },
      "text/html": [
       "<div id=\"b728590f-64cd-412e-9f10-d97bd84b5e8a\" style=\"height: 525px; width: 100%;\" class=\"plotly-graph-div\"></div><script type=\"text/javascript\">require([\"plotly\"], function(Plotly) { window.PLOTLYENV=window.PLOTLYENV || {};window.PLOTLYENV.BASE_URL=\"https://plot.ly\";Plotly.newPlot(\"b728590f-64cd-412e-9f10-d97bd84b5e8a\", [{\"marker\": {\"color\": \"#3498db\"}, \"mode\": \"lines+markers\", \"name\": \"Dev Method Accuracy\", \"x\": [0, 1, 2, 3, 4, 5, 6, 7], \"y\": [0.8993792, 0.9040352, 0.9068805, 0.9037765, 0.9073978, 0.9032592, 0.9071392, 0.9061045], \"type\": \"scatter\", \"uid\": \"17158f68-9d29-4a96-a52d-66a3fcbc5aae\"}, {\"marker\": {\"color\": \"#9b59b6\"}, \"mode\": \"lines+markers\", \"name\": \"Test Method Accuracy\", \"x\": [0, 1, 2, 3, 4, 5, 6, 7], \"y\": [0.9744747, 0.9744747, 0.9744747, 0.9744747, 0.9744747, 0.9744747, 0.9744747, 0.9744747], \"type\": \"scatter\", \"uid\": \"9f06c45d-3447-44e6-a53c-ca124b303319\"}], {\"margin\": {\"b\": 150}, \"title\": \"<b>Dev-Test Method Accuracy</b>\", \"xaxis\": {\"dtick\": 1, \"title\": \"<b>Epoch</b>\", \"titlefont\": {\"color\": \"#34495e\"}}, \"yaxis\": {\"title\": \"<b>Accuracy</b>\", \"titlefont\": {\"color\": \"#34495e\"}}}, {\"showLink\": true, \"linkText\": \"Export to plot.ly\", \"plotlyServerURL\": \"https://plot.ly\"})});</script><script type=\"text/javascript\">window.addEventListener(\"resize\", function(){window._Plotly.Plots.resize(document.getElementById(\"b728590f-64cd-412e-9f10-d97bd84b5e8a\"));});</script>"
      ],
      "text/vnd.plotly.v1+html": [
       "<div id=\"b728590f-64cd-412e-9f10-d97bd84b5e8a\" style=\"height: 525px; width: 100%;\" class=\"plotly-graph-div\"></div><script type=\"text/javascript\">require([\"plotly\"], function(Plotly) { window.PLOTLYENV=window.PLOTLYENV || {};window.PLOTLYENV.BASE_URL=\"https://plot.ly\";Plotly.newPlot(\"b728590f-64cd-412e-9f10-d97bd84b5e8a\", [{\"marker\": {\"color\": \"#3498db\"}, \"mode\": \"lines+markers\", \"name\": \"Dev Method Accuracy\", \"x\": [0, 1, 2, 3, 4, 5, 6, 7], \"y\": [0.8993792, 0.9040352, 0.9068805, 0.9037765, 0.9073978, 0.9032592, 0.9071392, 0.9061045], \"type\": \"scatter\", \"uid\": \"17158f68-9d29-4a96-a52d-66a3fcbc5aae\"}, {\"marker\": {\"color\": \"#9b59b6\"}, \"mode\": \"lines+markers\", \"name\": \"Test Method Accuracy\", \"x\": [0, 1, 2, 3, 4, 5, 6, 7], \"y\": [0.9744747, 0.9744747, 0.9744747, 0.9744747, 0.9744747, 0.9744747, 0.9744747, 0.9744747], \"type\": \"scatter\", \"uid\": \"9f06c45d-3447-44e6-a53c-ca124b303319\"}], {\"margin\": {\"b\": 150}, \"title\": \"<b>Dev-Test Method Accuracy</b>\", \"xaxis\": {\"dtick\": 1, \"title\": \"<b>Epoch</b>\", \"titlefont\": {\"color\": \"#34495e\"}}, \"yaxis\": {\"title\": \"<b>Accuracy</b>\", \"titlefont\": {\"color\": \"#34495e\"}}}, {\"showLink\": true, \"linkText\": \"Export to plot.ly\", \"plotlyServerURL\": \"https://plot.ly\"})});</script><script type=\"text/javascript\">window.addEventListener(\"resize\", function(){window._Plotly.Plots.resize(document.getElementById(\"b728590f-64cd-412e-9f10-d97bd84b5e8a\"));});</script>"
      ]
     },
     "metadata": {},
     "output_type": "display_data"
    }
   ],
   "source": [
    "dev_goal_accuracies = []\n",
    "dev_requested_accuracies = []\n",
    "dev_method_accuracies = []\n",
    "\n",
    "test_goal_accuracies = []\n",
    "test_requested_accuracies = []\n",
    "test_method_accuracies = []\n",
    "\n",
    "method_early_stopping = EarlyStopping(patience = 2)\n",
    "\n",
    "train_indices = np.arange(raw_X_train.shape[0])\n",
    "\n",
    "for epoch in range(NUM_EPOCHS):\n",
    "    \n",
    "    np.random.shuffle(train_indices)\n",
    "    \n",
    "    logging.info(\"Epoch\\t{}/{}\".format(epoch + 1, NUM_EPOCHS))\n",
    "    \n",
    "    model_Method = model_Method.train()\n",
    "    \n",
    "    for raw_X_train_dialog, raw_Y_train_dialog in tqdm(zip(raw_X_train[train_indices], raw_Y_train[train_indices]), total = len(raw_X_train)):\n",
    "\n",
    "        model_Method.hidden = model_Method.init_hidden()\n",
    "\n",
    "        for raw_X_train_turn, raw_Y_train_turn in zip(raw_X_train_dialog[\"turns\"], raw_Y_train_dialog[\"turns\"]):\n",
    "            \n",
    "            optimizer_MethodModel.zero_grad()\n",
    "            \n",
    "            indices, scores = get_index_and_score(raw_X_train_turn, token_to_index, mode = \"train\", device = DEVICE)\n",
    "            \n",
    "            method = model_Method(indices, scores)\n",
    "            \n",
    "            loss_method = METHOD_LOSS_FUNCTION(method,\n",
    "                                               retrieve_gold_Method(raw_Y_train_turn,\n",
    "                                                                    ontology = ontology,\n",
    "                                                                    device = DEVICE))\n",
    "            \n",
    "            loss = loss_method\n",
    "            \n",
    "            loss.backward(retain_graph = True)\n",
    "            \n",
    "            optimizer_MethodModel.step()\n",
    "    \n",
    "    dev_goal_accuracy, \\\n",
    "    dev_goal_l2, \\\n",
    "    dev_requested_accuracy, \\\n",
    "    dev_requested_l2, \\\n",
    "    dev_method_accuracy, \\\n",
    "    dev_method_l2 = get_scores(model_GoalPricerange,\n",
    "                               model_GoalArea,\n",
    "                               model_GoalName,\n",
    "                               model_GoalFood,\n",
    "                               model_Requested,\n",
    "                               model_Method,\n",
    "                               raw_X_dev, raw_Y_dev, dataset = \"dstc2_dev\")\n",
    "    logging.info(\"DEV Acc:\\t\\t{}({})\\t\\t{}({})\\t\\t{}({})\".format(dev_goal_accuracy,\n",
    "                                                                 np.around(dev_goal_accuracy, decimals = 2),\n",
    "                                                                 dev_requested_accuracy,\n",
    "                                                                 np.around(dev_requested_accuracy, decimals = 2),\n",
    "                                                                 dev_method_accuracy,\n",
    "                                                                 np.around(dev_method_accuracy, decimals = 2)))\n",
    "    logging.info(\"DEV L2:\\t\\t{}({})\\t\\t{}({})\\t\\t{}({})\".format(dev_goal_l2,\n",
    "                                                                np.around(dev_goal_l2, decimals = 2),\n",
    "                                                                dev_requested_l2,\n",
    "                                                                np.around(dev_requested_l2, decimals = 2),\n",
    "                                                                dev_method_l2,\n",
    "                                                                np.around(dev_method_l2, decimals = 2)))\n",
    "    dev_goal_accuracies.append(dev_goal_accuracy)\n",
    "    dev_requested_accuracies.append(dev_requested_accuracy)\n",
    "    dev_method_accuracies.append(dev_method_accuracy)\n",
    "\n",
    "    test_goal_accuracy, \\\n",
    "    test_goal_l2, \\\n",
    "    test_requested_accuracy, \\\n",
    "    test_requested_l2, \\\n",
    "    test_method_accuracy, \\\n",
    "    test_method_l2 = get_scores(model_GoalPricerange,\n",
    "                                model_GoalArea,\n",
    "                                model_GoalName,\n",
    "                                model_GoalFood,\n",
    "                                model_Requested,\n",
    "                                model_Method,\n",
    "                                raw_X_test, raw_Y_test, dataset = \"dstc2_test\")\n",
    "    logging.info(\"TEST Acc:\\t\\t{}({})\\t\\t{}({})\\t\\t{}({})\".format(test_goal_accuracy,\n",
    "                                                                  np.around(test_goal_accuracy, decimals = 2),\n",
    "                                                                  test_requested_accuracy,\n",
    "                                                                  np.around(test_requested_accuracy, decimals = 2),\n",
    "                                                                  test_method_accuracy,\n",
    "                                                                  np.around(test_method_accuracy, decimals = 2)))\n",
    "    logging.info(\"TEST L2:\\t\\t{}({})\\t\\t{}({})\\t\\t{}({})\".format(test_goal_l2,\n",
    "                                                                 np.around(test_goal_l2, decimals = 2),\n",
    "                                                                 test_requested_l2,\n",
    "                                                                 np.around(test_requested_l2, decimals = 2),\n",
    "                                                                 test_method_l2,\n",
    "                                                                 np.around(test_method_l2, decimals = 2)))\n",
    "    test_goal_accuracies.append(test_goal_accuracy)\n",
    "    test_requested_accuracies.append(test_requested_accuracy)\n",
    "    test_method_accuracies.append(test_requested_accuracy)\n",
    "        \n",
    "    method_early_stopping.on_epoch_end(epoch = (epoch + 1),\n",
    "                                    current_value = (dev_method_accuracy))\n",
    "    \n",
    "    if method_early_stopping.stop_training:\n",
    "        break\n",
    "\n",
    "plotly_plot(dev_method_accuracies, test_method_accuracies, \"Method\")"
   ]
  },
  {
   "cell_type": "markdown",
   "metadata": {},
   "source": [
    "### Save Method Model"
   ]
  },
  {
   "cell_type": "code",
   "execution_count": 46,
   "metadata": {},
   "outputs": [],
   "source": [
    "torch.save(model_Method.state_dict(), \"model_Method.pt\")"
   ]
  },
  {
   "cell_type": "markdown",
   "metadata": {},
   "source": [
    "### Load Method Model"
   ]
  },
  {
   "cell_type": "code",
   "execution_count": 47,
   "metadata": {},
   "outputs": [
    {
     "data": {
      "text/plain": [
       "MethodModel(\n",
       "  (embeddings): Embedding(1149, 300)\n",
       "  (altered_embeddings): Linear(in_features=301, out_features=310, bias=True)\n",
       "  (lstm): LSTM(310, 100)\n",
       "  (method_classifier): Linear(in_features=100, out_features=5, bias=True)\n",
       ")"
      ]
     },
     "execution_count": 47,
     "metadata": {},
     "output_type": "execute_result"
    }
   ],
   "source": [
    "model_Method = MethodModel(vocabulary_size = VOCABULARY_SIZE,\n",
    "                           embedding_dim = EMBEDDING_DIM,\n",
    "                           altered_embedding_dim = ALTERED_EMBEDDING_DIM,\n",
    "                           hidden_dim = HIDDEN_DIM,\n",
    "                           method_dim = METHOD_DIM,\n",
    "                           embedding_matrix = EMBEDDING_MATRIX,\n",
    "                           device = DEVICE)\n",
    "\n",
    "model_Method = model_Method.to(DEVICE)\n",
    "model_Method.load_state_dict(torch.load(\"model_Method.pt\"))\n",
    "model_Method.eval()"
   ]
  },
  {
   "cell_type": "code",
   "execution_count": 48,
   "metadata": {
    "scrolled": true
   },
   "outputs": [
    {
     "name": "stderr",
     "output_type": "stream",
     "text": [
      "100%|██████████| 506/506 [00:21<00:00, 22.39it/s]\n"
     ]
    },
    {
     "data": {
      "text/plain": [
       "(0.6457247, 0.523165, 0.9661017, 0.156931, 0.9061045, 0.0654636)"
      ]
     },
     "execution_count": 48,
     "metadata": {},
     "output_type": "execute_result"
    }
   ],
   "source": [
    "get_scores(model_GoalPricerange,\n",
    "           model_GoalArea,\n",
    "           model_GoalName,\n",
    "           model_GoalFood,\n",
    "           model_Requested,\n",
    "           model_Method,\n",
    "           raw_X_dev, raw_Y_dev, dataset = \"dstc2_dev\")"
   ]
  },
  {
   "cell_type": "code",
   "execution_count": 49,
   "metadata": {},
   "outputs": [
    {
     "name": "stderr",
     "output_type": "stream",
     "text": [
      "100%|██████████| 1117/1117 [00:53<00:00, 23.21it/s]\n"
     ]
    },
    {
     "data": {
      "text/plain": [
       "(0.6586851, 0.5196926, 0.9744747, 0.1127883, 0.9303161, 0.0476845)"
      ]
     },
     "execution_count": 49,
     "metadata": {},
     "output_type": "execute_result"
    }
   ],
   "source": [
    "get_scores(model_GoalPricerange,\n",
    "           model_GoalArea,\n",
    "           model_GoalName,\n",
    "           model_GoalFood,\n",
    "           model_Requested,\n",
    "           model_Method,\n",
    "           raw_X_test, raw_Y_test, dataset = \"dstc2_test\")"
   ]
  },
  {
   "cell_type": "code",
   "execution_count": null,
   "metadata": {},
   "outputs": [],
   "source": []
  }
 ],
 "metadata": {
  "kernelspec": {
   "display_name": "Python 3",
   "language": "python",
   "name": "python3"
  },
  "language_info": {
   "codemirror_mode": {
    "name": "ipython",
    "version": 3
   },
   "file_extension": ".py",
   "mimetype": "text/x-python",
   "name": "python",
   "nbconvert_exporter": "python",
   "pygments_lexer": "ipython3",
   "version": "3.6.5"
  }
 },
 "nbformat": 4,
 "nbformat_minor": 2
}
