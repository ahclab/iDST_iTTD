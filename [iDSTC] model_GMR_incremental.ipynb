{
 "cells": [
  {
   "cell_type": "markdown",
   "metadata": {},
   "source": [
    "### Check GPU availability"
   ]
  },
  {
   "cell_type": "code",
   "execution_count": 1,
   "metadata": {},
   "outputs": [
    {
     "name": "stdout",
     "output_type": "stream",
     "text": [
      "Tue Jan  8 10:56:35 2019       \r\n",
      "+-----------------------------------------------------------------------------+\r\n",
      "| NVIDIA-SMI 384.145                Driver Version: 384.145                   |\r\n",
      "|-------------------------------+----------------------+----------------------+\r\n",
      "| GPU  Name        Persistence-M| Bus-Id        Disp.A | Volatile Uncorr. ECC |\r\n",
      "| Fan  Temp  Perf  Pwr:Usage/Cap|         Memory-Usage | GPU-Util  Compute M. |\r\n",
      "|===============================+======================+======================|\r\n",
      "|   0  GeForce GTX 108...  Off  | 00000000:02:00.0 Off |                  N/A |\r\n",
      "| 26%   47C    P2    62W / 250W |    589MiB / 11172MiB |     18%      Default |\r\n",
      "+-------------------------------+----------------------+----------------------+\r\n",
      "|   1  GeForce GTX 108...  Off  | 00000000:03:00.0 Off |                  N/A |\r\n",
      "| 27%   39C    P8    18W / 250W |     10MiB / 11172MiB |      0%      Default |\r\n",
      "+-------------------------------+----------------------+----------------------+\r\n",
      "                                                                               \r\n",
      "+-----------------------------------------------------------------------------+\r\n",
      "| Processes:                                                       GPU Memory |\r\n",
      "|  GPU       PID   Type   Process name                             Usage      |\r\n",
      "|=============================================================================|\r\n",
      "|    0     26071      C   ...e/virtualenvs/iDST-PMaBuuf7/bin/python3   579MiB |\r\n",
      "+-----------------------------------------------------------------------------+\r\n"
     ]
    }
   ],
   "source": [
    "!nvidia-smi"
   ]
  },
  {
   "cell_type": "markdown",
   "metadata": {},
   "source": [
    "### Import libraries"
   ]
  },
  {
   "cell_type": "code",
   "execution_count": 2,
   "metadata": {},
   "outputs": [
    {
     "name": "stderr",
     "output_type": "stream",
     "text": [
      "[nltk_data] Downloading package punkt to /home/is/andrei-\n",
      "[nltk_data]     cc/nltk_data...\n",
      "[nltk_data]   Package punkt is already up-to-date!\n"
     ]
    },
    {
     "data": {
      "text/html": [
       "<script type=\"text/javascript\">window.PlotlyConfig = {MathJaxConfig: 'local'};</script><script type=\"text/javascript\">if (window.MathJax) {MathJax.Hub.Config({SVG: {font: \"STIX-Web\"}});}</script><script>requirejs.config({paths: { 'plotly': ['https://cdn.plot.ly/plotly-latest.min']},});if(!window._Plotly) {require(['plotly'],function(plotly) {window._Plotly=plotly;});}</script>"
      ],
      "text/vnd.plotly.v1+html": [
       "<script type=\"text/javascript\">window.PlotlyConfig = {MathJaxConfig: 'local'};</script><script type=\"text/javascript\">if (window.MathJax) {MathJax.Hub.Config({SVG: {font: \"STIX-Web\"}});}</script><script>requirejs.config({paths: { 'plotly': ['https://cdn.plot.ly/plotly-latest.min']},});if(!window._Plotly) {require(['plotly'],function(plotly) {window._Plotly=plotly;});}</script>"
      ]
     },
     "metadata": {},
     "output_type": "display_data"
    }
   ],
   "source": [
    "import torch\n",
    "import torch.nn as nn\n",
    "import torch.nn.functional as F\n",
    "import torch.optim as optim\n",
    "\n",
    "import math\n",
    "import numpy as np\n",
    "import time\n",
    "import json\n",
    "import plotly\n",
    "import logging\n",
    "logging.getLogger().setLevel(logging.INFO)\n",
    "\n",
    "from pprint import pprint\n",
    "from tqdm import tqdm\n",
    "from idst_util import trivial\n",
    "from idst_util import dstc2\n",
    "\n",
    "from plotly.graph_objs import Scatter, Layout\n",
    "from plotly.graph_objs.layout import Margin\n",
    "plotly.offline.init_notebook_mode(connected = True)"
   ]
  },
  {
   "cell_type": "markdown",
   "metadata": {},
   "source": [
    "### Check DSTC2 availability"
   ]
  },
  {
   "cell_type": "code",
   "execution_count": 3,
   "metadata": {},
   "outputs": [
    {
     "name": "stderr",
     "output_type": "stream",
     "text": [
      "INFO:root:+--------------------------------+\n",
      "INFO:root:|         _ ____  ___________    |\n",
      "INFO:root:|        (_) __ \\/ ___/_  __/    |\n",
      "INFO:root:|       / / / / /\\__ \\ / /       |\n",
      "INFO:root:|      / / /_/ /___/ // /        |\n",
      "INFO:root:|     /_/_____//____//_/         |\n",
      "INFO:root:|                                |\n",
      "INFO:root:+--------------------------------+\n",
      "INFO:root:|Incremental Dialog State Tracker|\n",
      "INFO:root:+--------------------------------+\n",
      "INFO:root:+--------------------------------+\n",
      "INFO:root:|     Dialog State Tracker 2     |\n",
      "INFO:root:|         Data Checker           |\n",
      "INFO:root:+--------------------------------+\n",
      "INFO:root:Looking for dstc2 directory in .\n",
      "INFO:root:dstc2 was found!\n",
      "INFO:root:Looking for dstc2_traindev directory in ./dstc2\n",
      "INFO:root:dstc2_traindev was found!\n",
      "INFO:root:Looking for dstc2_test directory in ./dstc2\n",
      "INFO:root:dstc2_test was found!\n",
      "INFO:root:Looking for dstc2_scripts directory in ./dstc2\n",
      "INFO:root:dstc2_scripts was found!\n",
      "INFO:root:Done!\n"
     ]
    }
   ],
   "source": [
    "trivial.print_idst()\n",
    "dstc2.check()"
   ]
  },
  {
   "cell_type": "markdown",
   "metadata": {},
   "source": [
    "### Retrieve data"
   ]
  },
  {
   "cell_type": "code",
   "execution_count": 4,
   "metadata": {},
   "outputs": [
    {
     "name": "stderr",
     "output_type": "stream",
     "text": [
      "INFO:root:+--------------------------------+\n",
      "INFO:root:|     Dialog State Tracker 2     |\n",
      "INFO:root:|       Dataset Retrieval        |\n",
      "INFO:root:+--------------------------------+\n",
      "INFO:root:Reading dstc2_train.flist, dstc2_dev.flist and ontology_dstc2.json\n",
      "INFO:root:Asserted 1612 dialogs for dstc2_train.flist\n",
      "INFO:root:Asserted 506 dialogs for dstc2_dev.flist\n",
      "INFO:root:Extracting raw train features\n",
      "100%|██████████| 1612/1612 [00:10<00:00, 151.18it/s]\n",
      "INFO:root:Extracting raw dev features\n",
      "100%|██████████| 506/506 [00:02<00:00, 155.05it/s]\n",
      "INFO:root:Reading dstc2_test.flist\n",
      "INFO:root:Asserted 1117 dialogs for dstc2_test.flist\n",
      "INFO:root:Extracting raw test features\n",
      "100%|██████████| 1117/1117 [00:07<00:00, 152.93it/s]\n"
     ]
    }
   ],
   "source": [
    "raw_X_train, raw_Y_train, \\\n",
    "raw_X_dev, raw_Y_dev, \\\n",
    "raw_X_test, raw_Y_test, \\\n",
    "ontology = dstc2.retrieve_raw_datasets(train_data_augmentation = True)"
   ]
  },
  {
   "cell_type": "markdown",
   "metadata": {},
   "source": [
    "### Set device"
   ]
  },
  {
   "cell_type": "code",
   "execution_count": 5,
   "metadata": {},
   "outputs": [
    {
     "name": "stderr",
     "output_type": "stream",
     "text": [
      "INFO:root:+--------------------------------+\n",
      "INFO:root:|            Baseline            |\n",
      "INFO:root:+--------------------------------+\n",
      "INFO:root:Running on GPU 1\n"
     ]
    }
   ],
   "source": [
    "logging.info(\"+--------------------------------+\")\n",
    "logging.info(\"|            Baseline            |\")\n",
    "logging.info(\"+--------------------------------+\")\n",
    "\n",
    "GPU_ID = 1\n",
    "DEVICE = torch.device(\"cuda:{}\".format(GPU_ID) if torch.cuda.is_available() else \"cpu\")\n",
    "#DEVICE = \"cpu\"\n",
    "if DEVICE == \"cpu\":\n",
    "    logging.warning(\"Running on CPU\")\n",
    "else:\n",
    "    logging.info(\"Running on GPU {}\".format(GPU_ID))"
   ]
  },
  {
   "cell_type": "markdown",
   "metadata": {},
   "source": [
    "### Create vocabularies"
   ]
  },
  {
   "cell_type": "code",
   "execution_count": 6,
   "metadata": {},
   "outputs": [
    {
     "name": "stderr",
     "output_type": "stream",
     "text": [
      "INFO:root:+--------------------------------+\n",
      "INFO:root:|          Vocabulary            |\n",
      "INFO:root:+--------------------------------+\n",
      "INFO:root:Creating token_to_index, index_to_token and token_to_count dictionaries\n",
      "100%|██████████| 3224/3224 [00:00<00:00, 37360.16it/s]\n"
     ]
    }
   ],
   "source": [
    "logging.info(\"+--------------------------------+\")\n",
    "logging.info(\"|          Vocabulary            |\")\n",
    "logging.info(\"+--------------------------------+\")\n",
    "logging.info(\"Creating token_to_index, index_to_token and token_to_count dictionaries\")\n",
    "\n",
    "token_to_index = {\"<unk>\": 0}\n",
    "index_to_token = {0: \"<unk>\"}\n",
    "token_to_count = {\"<unk>\": 1}\n",
    "\n",
    "for raw_train_dialog in tqdm(raw_X_train):\n",
    "    \n",
    "    for raw_train_turn in raw_train_dialog[\"turns\"]:\n",
    "        \n",
    "        tokens_scores = raw_train_turn[\"system\"] + raw_train_turn[\"user\"]\n",
    "        \n",
    "        for token_score in tokens_scores:\n",
    "            token = token_score[0]\n",
    "            if token not in token_to_index:\n",
    "                token_to_index[token] = len(token_to_index)\n",
    "                index_to_token[len(token_to_index)] = token\n",
    "                token_to_count[token] = 1\n",
    "            else:\n",
    "                token_to_count[token] += 1\n",
    "                \n",
    "assert len(token_to_index) == len(index_to_token)\n",
    "assert len(token_to_index) == len(token_to_count)"
   ]
  },
  {
   "cell_type": "markdown",
   "metadata": {},
   "source": [
    "### Execution configuration"
   ]
  },
  {
   "cell_type": "code",
   "execution_count": 7,
   "metadata": {},
   "outputs": [
    {
     "name": "stderr",
     "output_type": "stream",
     "text": [
      "INFO:root:+--------------------------------+\n",
      "INFO:root:|         Configuration          |\n",
      "INFO:root:+--------------------------------+\n",
      "INFO:root:VOCABULARY_SIZE:\t\t1149\n",
      "INFO:root:GOAL_FOOD_DIM:\t\t93\n",
      "INFO:root:GOAL_PRICERANGE_DIM:\t\t5\n",
      "INFO:root:GOAL_NAME_DIM:\t\t115\n",
      "INFO:root:GOAL_AREA_DIM:\t\t7\n",
      "INFO:root:METHOD_DIM:\t\t\t5\n",
      "INFO:root:REQUESTED_DIM:\t\t8\n",
      "INFO:root:EMBEDDING_DIM:\t\t170\n",
      "INFO:root:ALTERED_EMBEDDING_DIM:\t300\n",
      "INFO:root:HIDDEN_DIM:\t\t\t100\n",
      "INFO:root:NUM_EPOCHS:\t\t\t30\n",
      "INFO:root:GOAL_LOSS_FUNCTION:\t\tCrossEntropyLoss()\n",
      "INFO:root:METHOD_LOSS_FUNCTION:\t\tCrossEntropyLoss()\n",
      "INFO:root:REQUESTED_LOSS_FUNCTION:\tBCELoss()\n"
     ]
    }
   ],
   "source": [
    "logging.info(\"+--------------------------------+\")\n",
    "logging.info(\"|         Configuration          |\")\n",
    "logging.info(\"+--------------------------------+\")\n",
    "\n",
    "VOCABULARY_SIZE = len(token_to_index)\n",
    "logging.info(\"VOCABULARY_SIZE:\\t\\t{}\".format(VOCABULARY_SIZE))\n",
    "\n",
    "# NOTE: +2 because of null and dontcare\n",
    "GOAL_FOOD_DIM = len(ontology[\"informable\"][\"food\"]) + 2 \n",
    "GOAL_PRICERANGE_DIM = len(ontology[\"informable\"][\"pricerange\"]) + 2\n",
    "GOAL_NAME_DIM = len(ontology[\"informable\"][\"name\"]) + 2\n",
    "GOAL_AREA_DIM = len(ontology[\"informable\"][\"area\"]) + 2\n",
    "METHOD_DIM = len(ontology[\"method\"])\n",
    "REQUESTED_DIM = len(ontology[\"requestable\"])\n",
    "EMBEDDING_DIM = 170\n",
    "ALTERED_EMBEDDING_DIM = 300\n",
    "HIDDEN_DIM = 100\n",
    "NUM_EPOCHS = 30\n",
    "GOAL_LOSS_FUNCTION = nn.CrossEntropyLoss()\n",
    "METHOD_LOSS_FUNCTION = nn.CrossEntropyLoss()\n",
    "REQUESTED_LOSS_FUNCTION = nn.BCELoss()\n",
    "logging.info(\"GOAL_FOOD_DIM:\\t\\t{}\".format(GOAL_FOOD_DIM))\n",
    "logging.info(\"GOAL_PRICERANGE_DIM:\\t\\t{}\".format(GOAL_PRICERANGE_DIM))\n",
    "logging.info(\"GOAL_NAME_DIM:\\t\\t{}\".format(GOAL_NAME_DIM))\n",
    "logging.info(\"GOAL_AREA_DIM:\\t\\t{}\".format(GOAL_AREA_DIM))\n",
    "logging.info(\"METHOD_DIM:\\t\\t\\t{}\".format(METHOD_DIM))\n",
    "logging.info(\"REQUESTED_DIM:\\t\\t{}\".format(REQUESTED_DIM))\n",
    "logging.info(\"EMBEDDING_DIM:\\t\\t{}\".format(EMBEDDING_DIM))\n",
    "logging.info(\"ALTERED_EMBEDDING_DIM:\\t{}\".format(ALTERED_EMBEDDING_DIM))\n",
    "logging.info(\"HIDDEN_DIM:\\t\\t\\t{}\".format(HIDDEN_DIM))\n",
    "logging.info(\"NUM_EPOCHS:\\t\\t\\t{}\".format(NUM_EPOCHS))\n",
    "logging.info(\"GOAL_LOSS_FUNCTION:\\t\\t{}\".format(GOAL_LOSS_FUNCTION))\n",
    "logging.info(\"METHOD_LOSS_FUNCTION:\\t\\t{}\".format(METHOD_LOSS_FUNCTION))\n",
    "logging.info(\"REQUESTED_LOSS_FUNCTION:\\t{}\".format(REQUESTED_LOSS_FUNCTION))"
   ]
  },
  {
   "cell_type": "markdown",
   "metadata": {},
   "source": [
    "### Models utilities"
   ]
  },
  {
   "cell_type": "code",
   "execution_count": 8,
   "metadata": {},
   "outputs": [],
   "source": [
    "def get_index_and_score(turn, token_to_index, mode, device):\n",
    "    indices = []\n",
    "    scores = []\n",
    "    if mode == \"train\":\n",
    "        for system_token, system_token_score in turn[\"system\"]:\n",
    "            indices.append(token_to_index[system_token])\n",
    "            scores.append(system_token_score)\n",
    "        for user_token, user_token_score in turn[\"user\"]:\n",
    "            if np.random.binomial(n = 1, p = 0.1) == 1:\n",
    "                indices.append(token_to_index[\"<unk>\"])\n",
    "            else:\n",
    "                indices.append(token_to_index[user_token])\n",
    "            scores.append(user_token_score)\n",
    "    else:\n",
    "        tokens_scores = turn[\"system\"] + turn[\"user\"]\n",
    "        for token, score in tokens_scores:\n",
    "            if token not in token_to_index:\n",
    "                indices.append(token_to_index[\"<unk>\"])\n",
    "            else:\n",
    "                indices.append(token_to_index[token])\n",
    "            scores.append(score)\n",
    "    assert len(indices) == len(scores)\n",
    "    return torch.tensor(indices, dtype = torch.long, device = device), torch.tensor(scores, dtype = torch.float, device = device)\n",
    "\n",
    "def plotly_plot(dev_accuracies, test_accuracies, accuracy_type):\n",
    "    plotly.offline.iplot({\n",
    "                            \"data\": [Scatter(\n",
    "                                            x = list(range(len(dev_accuracies))),\n",
    "                                            y = dev_accuracies,\n",
    "                                            mode = \"lines+markers\",\n",
    "                                            name = \"Dev {} Accuracy\".format(accuracy_type),\n",
    "                                            marker = dict(color = \"#3498db\")),\n",
    "                                    Scatter(\n",
    "                                            x = list(range(len(test_accuracies))),\n",
    "                                            y = test_accuracies,\n",
    "                                            mode = \"lines+markers\",\n",
    "                                            name = \"Test {} Accuracy\".format(accuracy_type),\n",
    "                                            marker = dict(color = \"#9b59b6\"))],\n",
    "                            \"layout\": Layout(\n",
    "                                             title = \"<b>Dev-Test {} Accuracy</b>\".format(accuracy_type),\n",
    "                                             xaxis = dict(title = \"<b>Epoch</b>\",\n",
    "                                                          dtick = 1,\n",
    "                                                          titlefont = dict(color = \"#34495e\")),\n",
    "                                             yaxis = dict(title = \"<b>Accuracy</b>\",\n",
    "                                                          titlefont = dict(color = \"#34495e\")),\n",
    "                                             margin = Margin(b = 150))\n",
    "                        })\n",
    "\n",
    "class EarlyStopping():\n",
    "    \n",
    "    def __init__(self, min_delta = 0, patience = 1):\n",
    "        \n",
    "        self.min_delta = min_delta\n",
    "        self.patience = patience\n",
    "        self.wait = 0\n",
    "        self.stopped_epoch = 0\n",
    "        self.best = -np.Inf\n",
    "        self.stop_training = False\n",
    "    \n",
    "    def on_epoch_end(self, epoch, current_value):\n",
    "        if np.greater((current_value - self.min_delta), self.best):\n",
    "            self.best = current_value\n",
    "            self.wait = 0\n",
    "        else:\n",
    "            self.wait += 1\n",
    "            if self.wait > self.patience:\n",
    "                self.stopped_epoch = epoch\n",
    "                self.stop_training = True\n",
    "        return self.stop_training\n",
    "\n",
    "get_bin = lambda x, n: format(x, \"b\").zfill(n)\n",
    "\n",
    "def make_tracker(model_Goal, model_Requested, model_Method, raw_X, raw_Y, dataset):\n",
    "    \n",
    "    model_Goal = model_Goal.eval()\n",
    "    model_Requested = model_Requested.eval()\n",
    "    model_Method = model_Method.eval()\n",
    "    \n",
    "    with torch.no_grad():\n",
    "        tracker_json = {}\n",
    "        tracker_json[\"dataset\"] = dataset\n",
    "        tracker_json[\"sessions\"] = []\n",
    "\n",
    "        start_time = time.time()\n",
    "        for raw_X_dialog, raw_Y_dialog in tqdm(zip(raw_X, raw_Y), total = len(raw_X)):\n",
    "            \n",
    "            model_Goal.hidden = model_Goal.init_hidden()\n",
    "            model_Requested.hidden = model_Requested.init_hidden()\n",
    "            model_Method.hidden = model_Method.init_hidden()\n",
    "            \n",
    "            session = {}\n",
    "            session[\"session-id\"] = raw_X_dialog[\"session-id\"]\n",
    "            session[\"turns\"] = []\n",
    "\n",
    "            for raw_X_turn, raw_Y_turn in zip(raw_X_dialog[\"turns\"], raw_Y_dialog[\"turns\"]):\n",
    "                turn = {}\n",
    "                turn[\"goal-labels\"] = {}\n",
    "\n",
    "                indices, scores = get_index_and_score(raw_X_turn, token_to_index, mode = \"eval\", device = DEVICE)\n",
    "                \n",
    "                goal_foods, goal_priceranges, goal_names, goal_areas = model_Goal(indices, scores)\n",
    "                goal_food = goal_foods[-1]\n",
    "                goal_pricerange = goal_priceranges[-1]\n",
    "                goal_name = goal_names[-1]\n",
    "                goal_area = goal_areas[-1]\n",
    "                \n",
    "                requesteds = model_Requested(indices, scores)\n",
    "                requested = requesteds[-1]\n",
    "                \n",
    "                methods = model_Method(indices, scores)\n",
    "                method = methods[-1]\n",
    "                \n",
    "                turn[\"goal-labels\"][\"food\"] = retrieve_output_GoalFood(goal_food, ontology)\n",
    "                turn[\"goal-labels\"][\"pricerange\"] = retrieve_output_GoalPricerange(goal_pricerange, ontology)\n",
    "                turn[\"goal-labels\"][\"name\"] = retrieve_output_GoalName(goal_name, ontology)\n",
    "                turn[\"goal-labels\"][\"area\"] = retrieve_output_GoalArea(goal_area, ontology)\n",
    "                turn[\"requested-slots\"] = retrieve_output_Requested(requested, ontology)\n",
    "                turn[\"method-label\"] = retrieve_output_Method(method, ontology)\n",
    "                \n",
    "                session[\"turns\"].append(turn)\n",
    "            tracker_json[\"sessions\"].append(session)\n",
    "        end_time = time.time()\n",
    "        tracker_json[\"wall-time\"] = end_time - start_time\n",
    "        \n",
    "        return tracker_json\n",
    "\n",
    "def get_scores(model_Goal, model_Requested, model_Method, raw_X, raw_Y, dataset):\n",
    "    goal_accuracy = 0\n",
    "    requested_accuracy = 0\n",
    "    method_accuracy = 0\n",
    "    \n",
    "    tracker = make_tracker(model_Goal, model_Requested, model_Method, raw_X, raw_Y, dataset = dataset)\n",
    "    \n",
    "    with open(\"tracker_gmr_incremental.json\", \"w\") as tracker_file:\n",
    "        json.dump(tracker, tracker_file)\n",
    "    \n",
    "    if dataset == \"dstc2_train\":\n",
    "        !python2 dstc2/dstc2_scripts/score.py\\\n",
    "        --dataset dstc2_train\\\n",
    "        --dataroot dstc2/dstc2_traindev/data\\\n",
    "        --ontology dstc2/dstc2_scripts/config/ontology_dstc2.json\\\n",
    "        --trackfile tracker_gmr_incremental.json\\\n",
    "        --scorefile tracker_gmr_incremental.score.csv\n",
    "    elif dataset == \"dstc2_dev\":\n",
    "        !python2 dstc2/dstc2_scripts/score.py\\\n",
    "        --dataset dstc2_dev\\\n",
    "        --dataroot dstc2/dstc2_traindev/data\\\n",
    "        --ontology dstc2/dstc2_scripts/config/ontology_dstc2.json\\\n",
    "        --trackfile tracker_gmr_incremental.json\\\n",
    "        --scorefile tracker_gmr_incremental.score.csv\n",
    "    else:\n",
    "        !python2 dstc2/dstc2_scripts/score.py\\\n",
    "        --dataset dstc2_test\\\n",
    "        --dataroot dstc2/dstc2_test/data\\\n",
    "        --ontology dstc2/dstc2_scripts/config/ontology_dstc2.json\\\n",
    "        --trackfile tracker_gmr_incremental.json\\\n",
    "        --scorefile tracker_gmr_incremental.score.csv\n",
    "\n",
    "    file_cat = !python2 dstc2/dstc2_scripts/report.py --scorefile tracker_gmr_incremental.score.csv\n",
    "    \n",
    "    found_accuracies = False\n",
    "    for line in file_cat:\n",
    "        if line.startswith(\"Accuracy\"):\n",
    "            accuracies = line.split(\"|\")\n",
    "            goal_accuracy = float(accuracies[1])\n",
    "            requested_accuracy = float(accuracies[2])\n",
    "            method_accuracy = float(accuracies[3])\n",
    "            found_accuracies = True\n",
    "        if found_accuracies and line.startswith(\"l2\"):\n",
    "            l2s = line.split(\"|\")\n",
    "            goal_l2 = float(l2s[1])\n",
    "            method_l2 = float(l2s[2])\n",
    "            requested_l2 = float(l2s[3])\n",
    "    \n",
    "    return goal_accuracy, goal_l2, requested_accuracy, requested_l2, method_accuracy, method_l2\n",
    "\n",
    "def retrieve_gold_GoalFood(raw_Y, ontology, device):\n",
    "    ontology_informable_food = ontology[\"informable\"][\"food\"]\n",
    "    raw_goal_food = raw_Y[\"goal\"][\"food\"]\n",
    "    goal_food = 0\n",
    "    if raw_goal_food != None:\n",
    "        if raw_goal_food == \"dontcare\":\n",
    "            goal_food = 1\n",
    "        else:    \n",
    "            goal_food = ontology_informable_food.index(raw_goal_food) + 2\n",
    "    return torch.tensor([goal_food], dtype = torch.long, device = device)\n",
    "\n",
    "def retrieve_output_GoalFood(output_tensor, ontology):\n",
    "    ontology_informable_food = ontology[\"informable\"][\"food\"]\n",
    "    output_tensor = output_tensor.view(-1)\n",
    "    output_tensor = torch.exp(output_tensor)\n",
    "    goal_food_dict = {}\n",
    "    \n",
    "    index = torch.argmax(output_tensor).item()\n",
    "    goal_food_dict[\"dontcare\"] = output_tensor[1].item() \n",
    "    for index in range(len(output_tensor) - 2):\n",
    "        goal_food_dict[ontology_informable_food[index]] = output_tensor[index + 2].item()\n",
    "    return goal_food_dict\n",
    "\n",
    "def retrieve_gold_GoalPriceRange(raw_Y, ontology, device):\n",
    "    ontology_informable_pricerange = ontology[\"informable\"][\"pricerange\"]\n",
    "    raw_goal_pricerange = raw_Y[\"goal\"][\"pricerange\"]\n",
    "    goal_pricerange = 0\n",
    "    if raw_goal_pricerange != None:\n",
    "        if raw_goal_pricerange == \"dontcare\":\n",
    "            goal_pricerange = 1\n",
    "        else:    \n",
    "            goal_pricerange = ontology_informable_pricerange.index(raw_goal_pricerange) + 2\n",
    "    return torch.tensor([goal_pricerange], dtype = torch.long, device = device)\n",
    "\n",
    "def retrieve_output_GoalPricerange(output_tensor, ontology):\n",
    "    ontology_informable_pricerange = ontology[\"informable\"][\"pricerange\"]\n",
    "    output_tensor = output_tensor.view(-1)\n",
    "    output_tensor = torch.exp(output_tensor)\n",
    "    goal_pricerange_dict = {}\n",
    "    \n",
    "    index = torch.argmax(output_tensor).item()\n",
    "    goal_pricerange_dict[\"dontcare\"] = output_tensor[1].item()\n",
    "    for index in range(len(output_tensor) - 2):     \n",
    "        goal_pricerange_dict[ontology_informable_pricerange[index]] = output_tensor[index + 2].item()\n",
    "    return goal_pricerange_dict\n",
    "\n",
    "def retrieve_gold_GoalName(raw_Y, ontology, device):\n",
    "    ontology_informable_name = ontology[\"informable\"][\"name\"]\n",
    "    raw_goal_name = raw_Y[\"goal\"][\"name\"]\n",
    "    goal_name = 0\n",
    "    if raw_goal_name != None:\n",
    "        if raw_goal_name == \"dontcare\":\n",
    "            goal_name = 1\n",
    "        else:    \n",
    "            goal_name = ontology_informable_name.index(raw_goal_name) + 2\n",
    "    return torch.tensor([goal_name], dtype = torch.long, device = device)\n",
    "\n",
    "def retrieve_output_GoalName(output_tensor, ontology):\n",
    "    ontology_informable_name = ontology[\"informable\"][\"name\"]\n",
    "    output_tensor = output_tensor.view(-1)\n",
    "    output_tensor = torch.exp(output_tensor)\n",
    "    goal_name_dict = {}\n",
    "    \n",
    "    index = torch.argmax(output_tensor).item()\n",
    "    goal_name_dict[\"dontcare\"] = output_tensor[1].item()\n",
    "    for index in range(len(output_tensor) - 2):\n",
    "        goal_name_dict[ontology_informable_name[index]] = output_tensor[index + 2].item()\n",
    "        \n",
    "    return goal_name_dict\n",
    "\n",
    "def retrieve_gold_GoalArea(raw_Y, ontology, device):\n",
    "    ontology_informable_area = ontology[\"informable\"][\"area\"]\n",
    "    raw_goal_area = raw_Y[\"goal\"][\"area\"]\n",
    "    goal_area = 0\n",
    "    if raw_goal_area != None:\n",
    "        if raw_goal_area == \"dontcare\":\n",
    "            goal_area = 1\n",
    "        else:    \n",
    "            goal_area = ontology_informable_area.index(raw_goal_area) + 2\n",
    "    return torch.tensor([goal_area], dtype = torch.long, device = device)\n",
    "\n",
    "def retrieve_output_GoalArea(output_tensor, ontology):\n",
    "    ontology_informable_area = ontology[\"informable\"][\"area\"]\n",
    "    output_tensor = output_tensor.view(-1)\n",
    "    output_tensor = torch.exp(output_tensor)\n",
    "    goal_area_dict = {}\n",
    "    \n",
    "    index = torch.argmax(output_tensor).item()\n",
    "    goal_area_dict[\"dontcare\"] = output_tensor[1].item()\n",
    "    for index in range(len(output_tensor) - 2):\n",
    "        goal_area_dict[ontology_informable_area[index]] = output_tensor[index + 2].item()\n",
    "        \n",
    "    return goal_area_dict\n",
    "\n",
    "def retrieve_gold_Method(raw_Y, ontology, device):\n",
    "    ontology_method = ontology[\"method\"]\n",
    "    raw_gold_method = raw_Y[\"method\"]\n",
    "    gold_method = ontology_method.index(raw_gold_method)\n",
    "    return torch.tensor([gold_method], dtype = torch.long, device = device)\n",
    "\n",
    "def retrieve_output_Method(output_tensor, ontology):\n",
    "    ontology_method = ontology[\"method\"]\n",
    "    output_tensor = output_tensor.view(-1)\n",
    "    output_tensor = torch.exp(output_tensor)\n",
    "    method_dict = {}\n",
    "    \n",
    "    for index in range(len(output_tensor)):\n",
    "        method_dict[ontology_method[index]] = output_tensor[index].item()\n",
    "    \n",
    "    return method_dict\n",
    "\n",
    "def retrieve_gold_Requested(raw_Y, ontology, device):\n",
    "    ontology_requestable = ontology[\"requestable\"]\n",
    "    raw_gold_requested = raw_Y[\"requested\"]\n",
    "    gold_requested = np.zeros(len(ontology_requestable), dtype = float)\n",
    "    if len(raw_gold_requested) != 0:\n",
    "        for requested in raw_gold_requested:\n",
    "            gold_requested[ontology_requestable.index(requested)] = 1.0\n",
    "    return torch.tensor([gold_requested], dtype = torch.float, device = device)\n",
    "\n",
    "def retrieve_output_Requested(output_tensor, ontology):\n",
    "    ontology_requestable = ontology[\"requestable\"]\n",
    "    output_tensor = output_tensor.view(-1)\n",
    "    requested_dict = {}\n",
    "    for index in range(len(output_tensor)):\n",
    "        probability_value = output_tensor[index].item()\n",
    "        if np.greater_equal(probability_value, 0.5):\n",
    "            requested_dict[ontology_requestable[index]] = probability_value\n",
    "    return requested_dict"
   ]
  },
  {
   "cell_type": "markdown",
   "metadata": {},
   "source": [
    "### Goal Model"
   ]
  },
  {
   "cell_type": "code",
   "execution_count": 9,
   "metadata": {},
   "outputs": [],
   "source": [
    "class GoalModel(nn.Module):\n",
    "    \n",
    "    def __init__(self,\n",
    "                 vocabulary_size,\n",
    "                 embedding_dim,\n",
    "                 altered_embedding_dim,\n",
    "                 hidden_dim,\n",
    "                 goal_food_dim,\n",
    "                 goal_pricerange_dim,\n",
    "                 goal_name_dim,\n",
    "                 goal_area_dim,\n",
    "                 device):\n",
    "        \n",
    "        super(GoalModel, self).__init__()\n",
    "        \n",
    "        self.hidden_dim = hidden_dim\n",
    "        self.goal_food_dim = goal_food_dim\n",
    "        self.goal_pricerange_dim = goal_pricerange_dim\n",
    "        self.goal_name_dim = goal_name_dim\n",
    "        self.goal_area_dim = goal_area_dim\n",
    "        self.device = device\n",
    "        \n",
    "        self.embeddings = nn.Embedding(num_embeddings = vocabulary_size,\n",
    "                                       embedding_dim = embedding_dim)\n",
    "        \n",
    "        self.altered_embeddings = nn.Linear(in_features = (embedding_dim + 1),\n",
    "                                            out_features = altered_embedding_dim)\n",
    "        \n",
    "        self.lstm = nn.LSTM(input_size = altered_embedding_dim,\n",
    "                            hidden_size = hidden_dim)\n",
    "        \n",
    "        self.goal_food_classifier = nn.Linear(in_features = hidden_dim,\n",
    "                                              out_features = goal_food_dim)\n",
    "        \n",
    "        self.goal_pricerange_classifier = nn.Linear(in_features = hidden_dim,\n",
    "                                                    out_features = goal_pricerange_dim)\n",
    "        \n",
    "        self.goal_name_classifier = nn.Linear(in_features = hidden_dim,\n",
    "                                              out_features = goal_name_dim)\n",
    "        \n",
    "        self.goal_area_classifier = nn.Linear(in_features = hidden_dim,\n",
    "                                              out_features = goal_area_dim)\n",
    "        \n",
    "        self.hidden = self.init_hidden()\n",
    "    \n",
    "    def init_hidden(self):\n",
    "        \n",
    "        return (torch.zeros(1, 1, self.hidden_dim, device = self.device),\n",
    "                torch.zeros(1, 1, self.hidden_dim, device = self.device))\n",
    "        \n",
    "    def forward(self, indices, scores):\n",
    "    \n",
    "        embeddings = self.embeddings(indices)\n",
    "        \n",
    "        embeddings_concat_score = torch.cat((embeddings, scores.unsqueeze(dim = 1)), dim = 1) \n",
    "        \n",
    "        altered_embeddings = F.relu(self.altered_embeddings(embeddings_concat_score))\n",
    "        \n",
    "        lstm_out, self.hidden = self.lstm(altered_embeddings.view(len(indices), 1, -1), self.hidden)\n",
    "        \n",
    "        goal_food = F.log_softmax(self.goal_food_classifier(lstm_out).view(-1, self.goal_food_dim), dim = 1)        \n",
    "        \n",
    "        goal_pricerange = F.log_softmax(self.goal_pricerange_classifier(lstm_out).view(-1, self.goal_pricerange_dim), dim = 1) \n",
    "        \n",
    "        goal_name = F.log_softmax(self.goal_name_classifier(lstm_out).view(-1, self.goal_name_dim), dim = 1)\n",
    "        \n",
    "        goal_area = F.log_softmax(self.goal_area_classifier(lstm_out).view(-1, self.goal_area_dim), dim = 1)\n",
    "        \n",
    "        return goal_food, goal_pricerange, goal_name, goal_area\n",
    "\n",
    "model_Goal = GoalModel(vocabulary_size = VOCABULARY_SIZE,\n",
    "                       embedding_dim = EMBEDDING_DIM,\n",
    "                       altered_embedding_dim = ALTERED_EMBEDDING_DIM,\n",
    "                       hidden_dim = HIDDEN_DIM,\n",
    "                       goal_food_dim = GOAL_FOOD_DIM,\n",
    "                       goal_pricerange_dim = GOAL_PRICERANGE_DIM,\n",
    "                       goal_name_dim = GOAL_NAME_DIM,\n",
    "                       goal_area_dim = GOAL_AREA_DIM,\n",
    "                       device = DEVICE)\n",
    "\n",
    "model_Goal = model_Goal.to(DEVICE)\n",
    "\n",
    "optimizer_GoalModel = optim.Adam(model_Goal.parameters(), lr = 1e-4)"
   ]
  },
  {
   "cell_type": "markdown",
   "metadata": {},
   "source": [
    "### Requested Model"
   ]
  },
  {
   "cell_type": "code",
   "execution_count": 10,
   "metadata": {},
   "outputs": [],
   "source": [
    "class RequestedModel(nn.Module):\n",
    "    \n",
    "    def __init__(self,\n",
    "                 vocabulary_size,\n",
    "                 embedding_dim,\n",
    "                 altered_embedding_dim,\n",
    "                 hidden_dim,\n",
    "                 requested_dim,\n",
    "                 device):\n",
    "        \n",
    "        super(RequestedModel, self).__init__()\n",
    "        \n",
    "        self.hidden_dim = hidden_dim\n",
    "        self.requested_dim = requested_dim\n",
    "        self.device = device\n",
    "        \n",
    "        self.embeddings = nn.Embedding(num_embeddings = vocabulary_size,\n",
    "                                       embedding_dim = embedding_dim)\n",
    "        \n",
    "        self.altered_embeddings = nn.Linear(in_features = (embedding_dim + 1),\n",
    "                                            out_features = altered_embedding_dim)\n",
    "        \n",
    "        self.lstm = nn.LSTM(input_size = altered_embedding_dim,\n",
    "                            hidden_size = hidden_dim)\n",
    "        \n",
    "        self.requested_classifier = nn.Linear(in_features = hidden_dim,\n",
    "                                              out_features = requested_dim)\n",
    "        \n",
    "        self.hidden = self.init_hidden()\n",
    "    \n",
    "    def init_hidden(self):\n",
    "        \n",
    "        return (torch.zeros(1, 1, self.hidden_dim, device = self.device),\n",
    "                torch.zeros(1, 1, self.hidden_dim, device = self.device))\n",
    "        \n",
    "    def forward(self, indices, scores):\n",
    "    \n",
    "        embeddings = self.embeddings(indices)\n",
    "        \n",
    "        embeddings_concat_score = torch.cat((embeddings, scores.unsqueeze(dim = 1)), dim = 1) \n",
    "        \n",
    "        altered_embeddings = F.relu(self.altered_embeddings(embeddings_concat_score))\n",
    "        \n",
    "        lstm_out, self.hidden = self.lstm(altered_embeddings.view(len(indices), 1, -1), self.hidden)\n",
    "        \n",
    "        requested = torch.sigmoid(self.requested_classifier(lstm_out).view(-1, self.requested_dim))\n",
    "        \n",
    "        return requested\n",
    "\n",
    "model_Requested = RequestedModel(vocabulary_size = VOCABULARY_SIZE,\n",
    "                                 embedding_dim = EMBEDDING_DIM,\n",
    "                                 altered_embedding_dim = ALTERED_EMBEDDING_DIM,\n",
    "                                 hidden_dim = HIDDEN_DIM,\n",
    "                                 requested_dim = REQUESTED_DIM,\n",
    "                                 device = DEVICE)\n",
    "\n",
    "model_Requested = model_Requested.to(DEVICE)\n",
    "\n",
    "optimizer_RequestedModel = optim.Adam(model_Requested.parameters(), lr = 1e-4)"
   ]
  },
  {
   "cell_type": "markdown",
   "metadata": {},
   "source": [
    "### Method Model"
   ]
  },
  {
   "cell_type": "code",
   "execution_count": 11,
   "metadata": {},
   "outputs": [],
   "source": [
    "class MethodModel(nn.Module):\n",
    "    \n",
    "    def __init__(self,\n",
    "                 vocabulary_size,\n",
    "                 embedding_dim,\n",
    "                 altered_embedding_dim,\n",
    "                 hidden_dim,\n",
    "                 method_dim,\n",
    "                 device):\n",
    "        \n",
    "        super(MethodModel, self).__init__()\n",
    "        \n",
    "        self.hidden_dim = hidden_dim\n",
    "        self.method_dim = method_dim\n",
    "        self.device = device\n",
    "        \n",
    "        self.embeddings = nn.Embedding(num_embeddings = vocabulary_size,\n",
    "                                       embedding_dim = embedding_dim)\n",
    "        \n",
    "        self.altered_embeddings = nn.Linear(in_features = (embedding_dim + 1),\n",
    "                                            out_features = altered_embedding_dim)\n",
    "        \n",
    "        self.lstm = nn.LSTM(input_size = altered_embedding_dim,\n",
    "                            hidden_size = hidden_dim)\n",
    "        \n",
    "        self.method_classifier = nn.Linear(in_features = hidden_dim,\n",
    "                                           out_features = method_dim)\n",
    "        \n",
    "        self.hidden = self.init_hidden()\n",
    "    \n",
    "    def init_hidden(self):\n",
    "        \n",
    "        return (torch.zeros(1, 1, self.hidden_dim, device = self.device),\n",
    "                torch.zeros(1, 1, self.hidden_dim, device = self.device))\n",
    "        \n",
    "    def forward(self, indices, scores):\n",
    "    \n",
    "        embeddings = self.embeddings(indices)\n",
    "        \n",
    "        embeddings_concat_score = torch.cat((embeddings, scores.unsqueeze(dim = 1)), dim = 1) \n",
    "        \n",
    "        altered_embeddings = F.relu(self.altered_embeddings(embeddings_concat_score))\n",
    "        \n",
    "        lstm_out, self.hidden = self.lstm(altered_embeddings.view(len(indices), 1, -1), self.hidden)\n",
    "        \n",
    "        method = F.log_softmax(self.method_classifier(lstm_out).view(-1, self.method_dim), dim = 1)\n",
    "        \n",
    "        return method\n",
    "\n",
    "model_Method = MethodModel(vocabulary_size = VOCABULARY_SIZE,\n",
    "                           embedding_dim = EMBEDDING_DIM,\n",
    "                           altered_embedding_dim = ALTERED_EMBEDDING_DIM,\n",
    "                           hidden_dim = HIDDEN_DIM,\n",
    "                           method_dim = METHOD_DIM,\n",
    "                           device = DEVICE)\n",
    "\n",
    "model_Method = model_Method.to(DEVICE)\n",
    "\n",
    "optimizer_MethodModel = optim.Adam(model_Method.parameters(), lr = 1e-4)"
   ]
  },
  {
   "cell_type": "markdown",
   "metadata": {},
   "source": [
    "### Train Goal Model"
   ]
  },
  {
   "cell_type": "code",
   "execution_count": 27,
   "metadata": {
    "scrolled": false
   },
   "outputs": [
    {
     "name": "stderr",
     "output_type": "stream",
     "text": [
      "INFO:root:Epoch\t1/30\n",
      "100%|██████████| 3224/3224 [04:33<00:00, 11.28it/s]\n",
      "100%|██████████| 506/506 [00:18<00:00, 27.75it/s]\n",
      "INFO:root:DEV Acc:\t\t0.5529197(0.55)\t\t0.9498738(0.95)\t\t0.8823073(0.88)\n",
      "INFO:root:DEV L2:\t\t0.6093804(0.61)\t\t0.1955142(0.2)\t\t0.0935359(0.09)\n",
      "100%|██████████| 1117/1117 [00:46<00:00, 24.26it/s]\n",
      "INFO:root:TEST Acc:\t\t0.5751884(0.58)\t\t0.9519014(0.95)\t\t0.9120484(0.91)\n",
      "INFO:root:TEST L2:\t\t0.5868303(0.59)\t\t0.1433751(0.14)\t\t0.0832362(0.08)\n",
      "INFO:root:Epoch\t2/30\n",
      "100%|██████████| 3224/3224 [04:31<00:00, 11.86it/s]\n",
      "100%|██████████| 506/506 [00:18<00:00, 27.54it/s]\n",
      "INFO:root:DEV Acc:\t\t0.5529197(0.55)\t\t0.9498738(0.95)\t\t0.8823073(0.88)\n",
      "INFO:root:DEV L2:\t\t0.6093804(0.61)\t\t0.1955142(0.2)\t\t0.0935359(0.09)\n",
      "100%|██████████| 1117/1117 [00:46<00:00, 24.14it/s]\n",
      "INFO:root:TEST Acc:\t\t0.5751884(0.58)\t\t0.9519014(0.95)\t\t0.9120484(0.91)\n",
      "INFO:root:TEST L2:\t\t0.5868303(0.59)\t\t0.1433751(0.14)\t\t0.0832362(0.08)\n",
      "INFO:root:Epoch\t3/30\n",
      "100%|██████████| 3224/3224 [04:28<00:00, 11.99it/s]\n",
      "100%|██████████| 506/506 [00:18<00:00, 30.84it/s]\n",
      "INFO:root:DEV Acc:\t\t0.5529197(0.55)\t\t0.9498738(0.95)\t\t0.8823073(0.88)\n",
      "INFO:root:DEV L2:\t\t0.6093804(0.61)\t\t0.1955142(0.2)\t\t0.0935359(0.09)\n",
      "100%|██████████| 1117/1117 [00:46<00:00, 24.25it/s]\n",
      "INFO:root:TEST Acc:\t\t0.5751884(0.58)\t\t0.9519014(0.95)\t\t0.9120484(0.91)\n",
      "INFO:root:TEST L2:\t\t0.5868303(0.59)\t\t0.1433751(0.14)\t\t0.0832362(0.08)\n",
      "INFO:root:Epoch\t4/30\n",
      "100%|██████████| 3224/3224 [04:31<00:00, 11.86it/s]\n",
      "100%|██████████| 506/506 [00:18<00:00, 30.53it/s]\n",
      "INFO:root:DEV Acc:\t\t0.5529197(0.55)\t\t0.9498738(0.95)\t\t0.8823073(0.88)\n",
      "INFO:root:DEV L2:\t\t0.6093804(0.61)\t\t0.1955142(0.2)\t\t0.0935359(0.09)\n",
      "100%|██████████| 1117/1117 [00:46<00:00, 24.21it/s]\n",
      "INFO:root:TEST Acc:\t\t0.5751884(0.58)\t\t0.9519014(0.95)\t\t0.9120484(0.91)\n",
      "INFO:root:TEST L2:\t\t0.5868303(0.59)\t\t0.1433751(0.14)\t\t0.0832362(0.08)\n",
      "INFO:root:Epoch\t5/30\n",
      "100%|██████████| 3224/3224 [04:31<00:00, 12.00it/s]\n",
      "100%|██████████| 506/506 [00:18<00:00, 27.28it/s]\n",
      "INFO:root:DEV Acc:\t\t0.5529197(0.55)\t\t0.9498738(0.95)\t\t0.8823073(0.88)\n",
      "INFO:root:DEV L2:\t\t0.6093804(0.61)\t\t0.1955142(0.2)\t\t0.0935359(0.09)\n",
      "100%|██████████| 1117/1117 [00:45<00:00, 24.36it/s]\n",
      "INFO:root:TEST Acc:\t\t0.5751884(0.58)\t\t0.9519014(0.95)\t\t0.9120484(0.91)\n",
      "INFO:root:TEST L2:\t\t0.5868303(0.59)\t\t0.1433751(0.14)\t\t0.0832362(0.08)\n",
      "INFO:root:Epoch\t6/30\n",
      "100%|██████████| 3224/3224 [04:33<00:00, 14.91it/s]\n",
      "100%|██████████| 506/506 [00:18<00:00, 27.71it/s]\n",
      "INFO:root:DEV Acc:\t\t0.5529197(0.55)\t\t0.9498738(0.95)\t\t0.8823073(0.88)\n",
      "INFO:root:DEV L2:\t\t0.6093804(0.61)\t\t0.1955142(0.2)\t\t0.0935359(0.09)\n",
      "100%|██████████| 1117/1117 [00:45<00:00, 24.41it/s]\n",
      "INFO:root:TEST Acc:\t\t0.5751884(0.58)\t\t0.9519014(0.95)\t\t0.9120484(0.91)\n",
      "INFO:root:TEST L2:\t\t0.5868303(0.59)\t\t0.1433751(0.14)\t\t0.0832362(0.08)\n"
     ]
    },
    {
     "data": {
      "application/vnd.plotly.v1+json": {
       "config": {
        "linkText": "Export to plot.ly",
        "plotlyServerURL": "https://plot.ly",
        "showLink": true
       },
       "data": [
        {
         "marker": {
          "color": "#3498db"
         },
         "mode": "lines+markers",
         "name": "Dev Goal Accuracy",
         "type": "scatter",
         "uid": "9be70097-7e5d-4ebb-a7c7-4a069dd01e31",
         "x": [
          0,
          1,
          2,
          3,
          4,
          5
         ],
         "y": [
          0.5529197,
          0.5529197,
          0.5529197,
          0.5529197,
          0.5529197,
          0.5529197
         ]
        },
        {
         "marker": {
          "color": "#9b59b6"
         },
         "mode": "lines+markers",
         "name": "Test Goal Accuracy",
         "type": "scatter",
         "uid": "a5cf17b2-aedf-4ade-b974-a231c20a3c49",
         "x": [
          0,
          1,
          2,
          3,
          4,
          5
         ],
         "y": [
          0.5751884,
          0.5751884,
          0.5751884,
          0.5751884,
          0.5751884,
          0.5751884
         ]
        }
       ],
       "layout": {
        "margin": {
         "b": 150
        },
        "title": "<b>Dev-Test Goal Accuracy</b>",
        "xaxis": {
         "dtick": 1,
         "title": "<b>Epoch</b>",
         "titlefont": {
          "color": "#34495e"
         }
        },
        "yaxis": {
         "title": "<b>Accuracy</b>",
         "titlefont": {
          "color": "#34495e"
         }
        }
       }
      },
      "text/html": [
       "<div id=\"b796ce70-eb99-47f7-a09d-c9c761eed1b8\" style=\"height: 525px; width: 100%;\" class=\"plotly-graph-div\"></div><script type=\"text/javascript\">require([\"plotly\"], function(Plotly) { window.PLOTLYENV=window.PLOTLYENV || {};window.PLOTLYENV.BASE_URL=\"https://plot.ly\";Plotly.newPlot(\"b796ce70-eb99-47f7-a09d-c9c761eed1b8\", [{\"marker\": {\"color\": \"#3498db\"}, \"mode\": \"lines+markers\", \"name\": \"Dev Goal Accuracy\", \"x\": [0, 1, 2, 3, 4, 5], \"y\": [0.5529197, 0.5529197, 0.5529197, 0.5529197, 0.5529197, 0.5529197], \"type\": \"scatter\", \"uid\": \"1d9d2f5e-e5eb-4d9b-916e-de6fd28cfc5b\"}, {\"marker\": {\"color\": \"#9b59b6\"}, \"mode\": \"lines+markers\", \"name\": \"Test Goal Accuracy\", \"x\": [0, 1, 2, 3, 4, 5], \"y\": [0.5751884, 0.5751884, 0.5751884, 0.5751884, 0.5751884, 0.5751884], \"type\": \"scatter\", \"uid\": \"0dedc1a7-20e2-4c2b-a787-afafa1b4dc61\"}], {\"margin\": {\"b\": 150}, \"title\": \"<b>Dev-Test Goal Accuracy</b>\", \"xaxis\": {\"dtick\": 1, \"title\": \"<b>Epoch</b>\", \"titlefont\": {\"color\": \"#34495e\"}}, \"yaxis\": {\"title\": \"<b>Accuracy</b>\", \"titlefont\": {\"color\": \"#34495e\"}}}, {\"showLink\": true, \"linkText\": \"Export to plot.ly\", \"plotlyServerURL\": \"https://plot.ly\"})});</script><script type=\"text/javascript\">window.addEventListener(\"resize\", function(){window._Plotly.Plots.resize(document.getElementById(\"b796ce70-eb99-47f7-a09d-c9c761eed1b8\"));});</script>"
      ],
      "text/vnd.plotly.v1+html": [
       "<div id=\"b796ce70-eb99-47f7-a09d-c9c761eed1b8\" style=\"height: 525px; width: 100%;\" class=\"plotly-graph-div\"></div><script type=\"text/javascript\">require([\"plotly\"], function(Plotly) { window.PLOTLYENV=window.PLOTLYENV || {};window.PLOTLYENV.BASE_URL=\"https://plot.ly\";Plotly.newPlot(\"b796ce70-eb99-47f7-a09d-c9c761eed1b8\", [{\"marker\": {\"color\": \"#3498db\"}, \"mode\": \"lines+markers\", \"name\": \"Dev Goal Accuracy\", \"x\": [0, 1, 2, 3, 4, 5], \"y\": [0.5529197, 0.5529197, 0.5529197, 0.5529197, 0.5529197, 0.5529197], \"type\": \"scatter\", \"uid\": \"1d9d2f5e-e5eb-4d9b-916e-de6fd28cfc5b\"}, {\"marker\": {\"color\": \"#9b59b6\"}, \"mode\": \"lines+markers\", \"name\": \"Test Goal Accuracy\", \"x\": [0, 1, 2, 3, 4, 5], \"y\": [0.5751884, 0.5751884, 0.5751884, 0.5751884, 0.5751884, 0.5751884], \"type\": \"scatter\", \"uid\": \"0dedc1a7-20e2-4c2b-a787-afafa1b4dc61\"}], {\"margin\": {\"b\": 150}, \"title\": \"<b>Dev-Test Goal Accuracy</b>\", \"xaxis\": {\"dtick\": 1, \"title\": \"<b>Epoch</b>\", \"titlefont\": {\"color\": \"#34495e\"}}, \"yaxis\": {\"title\": \"<b>Accuracy</b>\", \"titlefont\": {\"color\": \"#34495e\"}}}, {\"showLink\": true, \"linkText\": \"Export to plot.ly\", \"plotlyServerURL\": \"https://plot.ly\"})});</script><script type=\"text/javascript\">window.addEventListener(\"resize\", function(){window._Plotly.Plots.resize(document.getElementById(\"b796ce70-eb99-47f7-a09d-c9c761eed1b8\"));});</script>"
      ]
     },
     "metadata": {},
     "output_type": "display_data"
    }
   ],
   "source": [
    "dev_goal_accuracies = []\n",
    "dev_requested_accuracies = []\n",
    "dev_method_accuracies = []\n",
    "\n",
    "test_goal_accuracies = []\n",
    "test_requested_accuracies = []\n",
    "test_method_accuracies = []\n",
    "\n",
    "goal_early_stopping = EarlyStopping(patience = 4)\n",
    "\n",
    "train_indices = np.arange(raw_X_train.shape[0])\n",
    "\n",
    "for epoch in range(NUM_EPOCHS):\n",
    "    \n",
    "    np.random.shuffle(train_indices)\n",
    "    \n",
    "    logging.info(\"Epoch\\t{}/{}\".format(epoch + 1, NUM_EPOCHS))\n",
    "    \n",
    "    model_Goal = model_Goal.train()\n",
    "    \n",
    "    for raw_X_train_dialog, raw_Y_train_dialog in tqdm(zip(raw_X_train[train_indices], raw_Y_train[train_indices]), total = len(raw_X_train)):\n",
    "\n",
    "        model_Goal.hidden = model_Goal.init_hidden()\n",
    "\n",
    "        for raw_X_train_turn, raw_Y_train_turn in zip(raw_X_train_dialog[\"turns\"], raw_Y_train_dialog[\"turns\"]):\n",
    "            \n",
    "            optimizer_GoalModel.zero_grad()\n",
    "            \n",
    "            indices, scores = get_index_and_score(raw_X_train_turn, token_to_index, mode = \"train\", device = DEVICE)\n",
    "            \n",
    "            goal_foods, goal_priceranges, goal_names, goal_areas = model_Goal(indices, scores)\n",
    "\n",
    "            goal_foods_losses = 0\n",
    "            goal_priceranges_losses = 0\n",
    "            goal_names_losses = 0\n",
    "            goal_areas_losses = 0\n",
    "            \n",
    "            for goal_food, goal_pricerange, goal_name, goal_area in zip(goal_foods, goal_priceranges, goal_names, goal_areas):\n",
    "                \n",
    "                goal_food = goal_food.unsqueeze(0)\n",
    "                goal_pricerange = goal_pricerange.unsqueeze(0)\n",
    "                goal_name = goal_name.unsqueeze(0)\n",
    "                goal_area = goal_area.unsqueeze(0)\n",
    "                \n",
    "                loss_goal_food = GOAL_LOSS_FUNCTION(goal_food,\n",
    "                                                    retrieve_gold_GoalFood(raw_Y_train_turn,\n",
    "                                                                           ontology = ontology,\n",
    "                                                                           device = DEVICE))\n",
    "\n",
    "                \n",
    "                goal_foods_losses += loss_goal_food\n",
    "                \n",
    "                loss_goal_pricerange = GOAL_LOSS_FUNCTION(goal_pricerange,\n",
    "                                                          retrieve_gold_GoalPriceRange(raw_Y_train_turn,\n",
    "                                                                                       ontology = ontology,\n",
    "                                                                                       device = DEVICE))\n",
    "\n",
    "                goal_priceranges_losses += loss_goal_pricerange\n",
    "                \n",
    "                loss_goal_name = GOAL_LOSS_FUNCTION(goal_name,\n",
    "                                                    retrieve_gold_GoalName(raw_Y_train_turn,\n",
    "                                                                           ontology = ontology,\n",
    "                                                                           device = DEVICE))\n",
    "\n",
    "                goal_names_losses += loss_goal_name\n",
    "                \n",
    "                loss_goal_area = GOAL_LOSS_FUNCTION(goal_area,\n",
    "                                                    retrieve_gold_GoalArea(raw_Y_train_turn,\n",
    "                                                                           ontology = ontology,\n",
    "                                                                           device = DEVICE))\n",
    "\n",
    "                goal_areas_losses += loss_goal_area\n",
    "                \n",
    "            loss = goal_foods_losses + goal_priceranges_losses + goal_names_losses + goal_areas_losses\n",
    "\n",
    "            loss.backward(retain_graph = True)\n",
    "\n",
    "            optimizer_GoalModel.step()\n",
    "    \n",
    "    dev_goal_accuracy, \\\n",
    "    dev_goal_l2, \\\n",
    "    dev_requested_accuracy, \\\n",
    "    dev_requested_l2, \\\n",
    "    dev_method_accuracy, \\\n",
    "    dev_method_l2 = get_scores(model_Goal, model_Requested, model_Method, raw_X_dev, raw_Y_dev, dataset = \"dstc2_dev\")\n",
    "    logging.info(\"DEV Acc:\\t\\t{}({})\\t\\t{}({})\\t\\t{}({})\".format(dev_goal_accuracy,\n",
    "                                                                 np.around(dev_goal_accuracy, decimals = 2),\n",
    "                                                                 dev_requested_accuracy,\n",
    "                                                                 np.around(dev_requested_accuracy, decimals = 2),\n",
    "                                                                 dev_method_accuracy,\n",
    "                                                                 np.around(dev_method_accuracy, decimals = 2)))\n",
    "    logging.info(\"DEV L2:\\t\\t{}({})\\t\\t{}({})\\t\\t{}({})\".format(dev_goal_l2,\n",
    "                                                                np.around(dev_goal_l2, decimals = 2),\n",
    "                                                                dev_requested_l2,\n",
    "                                                                np.around(dev_requested_l2, decimals = 2),\n",
    "                                                                dev_method_l2,\n",
    "                                                                np.around(dev_method_l2, decimals = 2)))\n",
    "    dev_goal_accuracies.append(dev_goal_accuracy)\n",
    "    dev_requested_accuracies.append(dev_requested_accuracy)\n",
    "    dev_method_accuracies.append(dev_method_accuracy)\n",
    "\n",
    "    test_goal_accuracy, \\\n",
    "    test_goal_l2, \\\n",
    "    test_requested_accuracy, \\\n",
    "    test_requested_l2, \\\n",
    "    test_method_accuracy, \\\n",
    "    test_method_l2 = get_scores(model_Goal, model_Requested, model_Method, raw_X_test, raw_Y_test, dataset = \"dstc2_test\")\n",
    "    logging.info(\"TEST Acc:\\t\\t{}({})\\t\\t{}({})\\t\\t{}({})\".format(test_goal_accuracy,\n",
    "                                                                  np.around(test_goal_accuracy, decimals = 2),\n",
    "                                                                  test_requested_accuracy,\n",
    "                                                                  np.around(test_requested_accuracy, decimals = 2),\n",
    "                                                                  test_method_accuracy,\n",
    "                                                                  np.around(test_method_accuracy, decimals = 2)))\n",
    "    logging.info(\"TEST L2:\\t\\t{}({})\\t\\t{}({})\\t\\t{}({})\".format(test_goal_l2,\n",
    "                                                                 np.around(test_goal_l2, decimals = 2),\n",
    "                                                                 test_requested_l2,\n",
    "                                                                 np.around(test_requested_l2, decimals = 2),\n",
    "                                                                 test_method_l2,\n",
    "                                                                 np.around(test_method_l2, decimals = 2)))\n",
    "    test_goal_accuracies.append(test_goal_accuracy)\n",
    "    test_requested_accuracies.append(test_requested_accuracy)\n",
    "    test_method_accuracies.append(test_requested_accuracy)\n",
    "        \n",
    "    goal_early_stopping.on_epoch_end(epoch = (epoch + 1), current_value = (dev_goal_accuracy))\n",
    "    \n",
    "    if goal_early_stopping.stop_training:\n",
    "        break\n",
    "\n",
    "plotly_plot(dev_goal_accuracies, test_goal_accuracies, \"Goal\")"
   ]
  },
  {
   "cell_type": "markdown",
   "metadata": {},
   "source": [
    "### Save Goal Model"
   ]
  },
  {
   "cell_type": "code",
   "execution_count": 28,
   "metadata": {},
   "outputs": [],
   "source": [
    "torch.save(model_Goal.state_dict(), \"model_GMR_incremental_Goal.pt\")"
   ]
  },
  {
   "cell_type": "markdown",
   "metadata": {},
   "source": [
    "### Load Goal Model"
   ]
  },
  {
   "cell_type": "code",
   "execution_count": 29,
   "metadata": {},
   "outputs": [
    {
     "data": {
      "text/plain": [
       "GoalModel(\n",
       "  (embeddings): Embedding(1149, 170)\n",
       "  (altered_embeddings): Linear(in_features=171, out_features=300, bias=True)\n",
       "  (lstm): LSTM(300, 100)\n",
       "  (goal_food_classifier): Linear(in_features=100, out_features=93, bias=True)\n",
       "  (goal_pricerange_classifier): Linear(in_features=100, out_features=5, bias=True)\n",
       "  (goal_name_classifier): Linear(in_features=100, out_features=115, bias=True)\n",
       "  (goal_area_classifier): Linear(in_features=100, out_features=7, bias=True)\n",
       ")"
      ]
     },
     "execution_count": 29,
     "metadata": {},
     "output_type": "execute_result"
    }
   ],
   "source": [
    "model_Goal = GoalModel(vocabulary_size = VOCABULARY_SIZE,\n",
    "                       embedding_dim = EMBEDDING_DIM,\n",
    "                       altered_embedding_dim = ALTERED_EMBEDDING_DIM,\n",
    "                       hidden_dim = HIDDEN_DIM,\n",
    "                       goal_food_dim = GOAL_FOOD_DIM,\n",
    "                       goal_pricerange_dim = GOAL_PRICERANGE_DIM,\n",
    "                       goal_name_dim = GOAL_NAME_DIM,\n",
    "                       goal_area_dim = GOAL_AREA_DIM,\n",
    "                       device = DEVICE)\n",
    "model_Goal = model_Goal.to(DEVICE)\n",
    "model_Goal.load_state_dict(torch.load(\"model_GMR_incremental_Goal.pt\"))\n",
    "model_Goal.eval()"
   ]
  },
  {
   "cell_type": "code",
   "execution_count": 30,
   "metadata": {},
   "outputs": [
    {
     "name": "stderr",
     "output_type": "stream",
     "text": [
      "100%|██████████| 506/506 [00:18<00:00, 28.48it/s]\n"
     ]
    },
    {
     "data": {
      "text/plain": [
       "(0.5529197, 0.6093804, 0.9498738, 0.1955142, 0.8823073, 0.0935359)"
      ]
     },
     "execution_count": 30,
     "metadata": {},
     "output_type": "execute_result"
    }
   ],
   "source": [
    "get_scores(model_Goal, model_Requested, model_Method, raw_X_dev, raw_Y_dev, dataset = \"dstc2_dev\")"
   ]
  },
  {
   "cell_type": "code",
   "execution_count": 31,
   "metadata": {},
   "outputs": [
    {
     "name": "stderr",
     "output_type": "stream",
     "text": [
      "100%|██████████| 1117/1117 [00:46<00:00, 24.16it/s]\n"
     ]
    },
    {
     "data": {
      "text/plain": [
       "(0.5751884, 0.5868303, 0.9519014, 0.1433751, 0.9120484, 0.0832362)"
      ]
     },
     "execution_count": 31,
     "metadata": {},
     "output_type": "execute_result"
    }
   ],
   "source": [
    "get_scores(model_Goal, model_Requested, model_Method, raw_X_test, raw_Y_test, dataset = \"dstc2_test\")"
   ]
  },
  {
   "cell_type": "markdown",
   "metadata": {},
   "source": [
    "### Train Requested Model"
   ]
  },
  {
   "cell_type": "code",
   "execution_count": 17,
   "metadata": {
    "scrolled": false
   },
   "outputs": [
    {
     "name": "stderr",
     "output_type": "stream",
     "text": [
      "INFO:root:Epoch\t1/30\n",
      "100%|██████████| 3224/3224 [02:20<00:00, 23.02it/s]\n",
      "100%|██████████| 506/506 [00:17<00:00, 30.24it/s]\n",
      "INFO:root:DEV Acc:\t\t0.5529197(0.55)\t\t0.90696(0.91)\t\t0.2969477(0.3)\n",
      "INFO:root:DEV L2:\t\t0.6093804(0.61)\t\t0.7964404(0.8)\t\t0.2051296(0.21)\n",
      "100%|██████████| 1117/1117 [00:45<00:00, 24.44it/s]\n",
      "INFO:root:TEST Acc:\t\t0.5751884(0.58)\t\t0.9138739(0.91)\t\t0.3304598(0.33)\n",
      "INFO:root:TEST L2:\t\t0.5868303(0.59)\t\t0.7949106(0.79)\t\t0.193649(0.19)\n",
      "INFO:root:Epoch\t2/30\n",
      "100%|██████████| 3224/3224 [02:21<00:00, 22.78it/s]\n",
      "100%|██████████| 506/506 [00:17<00:00, 28.23it/s]\n",
      "INFO:root:DEV Acc:\t\t0.5529197(0.55)\t\t0.9372521(0.94)\t\t0.2969477(0.3)\n",
      "INFO:root:DEV L2:\t\t0.6093804(0.61)\t\t0.7964404(0.8)\t\t0.1361092(0.14)\n",
      "100%|██████████| 1117/1117 [00:45<00:00, 24.51it/s]\n",
      "INFO:root:TEST Acc:\t\t0.5751884(0.58)\t\t0.9376628(0.94)\t\t0.3304598(0.33)\n",
      "INFO:root:TEST L2:\t\t0.5868303(0.59)\t\t0.7949106(0.79)\t\t0.1324222(0.13)\n",
      "INFO:root:Epoch\t3/30\n",
      "100%|██████████| 3224/3224 [02:21<00:00, 22.81it/s]\n",
      "100%|██████████| 506/506 [00:17<00:00, 30.66it/s]\n",
      "INFO:root:DEV Acc:\t\t0.5529197(0.55)\t\t0.943022(0.94)\t\t0.2969477(0.3)\n",
      "INFO:root:DEV L2:\t\t0.6093804(0.61)\t\t0.7964404(0.8)\t\t0.1230752(0.12)\n",
      "100%|██████████| 1117/1117 [00:45<00:00, 24.65it/s]\n",
      "INFO:root:TEST Acc:\t\t0.5751884(0.58)\t\t0.9458239(0.95)\t\t0.3304598(0.33)\n",
      "INFO:root:TEST L2:\t\t0.5868303(0.59)\t\t0.7949106(0.79)\t\t0.1156091(0.12)\n",
      "INFO:root:Epoch\t4/30\n",
      "100%|██████████| 3224/3224 [02:20<00:00, 29.44it/s]\n",
      "100%|██████████| 506/506 [00:18<00:00, 29.73it/s]\n",
      "INFO:root:DEV Acc:\t\t0.5529197(0.55)\t\t0.945907(0.95)\t\t0.2969477(0.3)\n",
      "INFO:root:DEV L2:\t\t0.6093804(0.61)\t\t0.7964404(0.8)\t\t0.1091243(0.11)\n",
      "100%|██████████| 1117/1117 [00:45<00:00, 24.66it/s]\n",
      "INFO:root:TEST Acc:\t\t0.5751884(0.58)\t\t0.9491231(0.95)\t\t0.3304598(0.33)\n",
      "INFO:root:TEST L2:\t\t0.5868303(0.59)\t\t0.7949106(0.79)\t\t0.1035735(0.1)\n",
      "INFO:root:Epoch\t5/30\n",
      "100%|██████████| 3224/3224 [02:20<00:00, 22.91it/s]\n",
      "100%|██████████| 506/506 [00:18<00:00, 30.59it/s]\n",
      "INFO:root:DEV Acc:\t\t0.5529197(0.55)\t\t0.9520375(0.95)\t\t0.2969477(0.3)\n",
      "INFO:root:DEV L2:\t\t0.6093804(0.61)\t\t0.7964404(0.8)\t\t0.092261(0.09)\n",
      "100%|██████████| 1117/1117 [00:45<00:00, 24.71it/s]\n",
      "INFO:root:TEST Acc:\t\t0.5751884(0.58)\t\t0.9552006(0.96)\t\t0.3304598(0.33)\n",
      "INFO:root:TEST L2:\t\t0.5868303(0.59)\t\t0.7949106(0.79)\t\t0.0843502(0.08)\n",
      "INFO:root:Epoch\t6/30\n",
      "100%|██████████| 3224/3224 [02:20<00:00, 22.96it/s]\n",
      "100%|██████████| 506/506 [00:17<00:00, 28.27it/s]\n",
      "INFO:root:DEV Acc:\t\t0.5529197(0.55)\t\t0.9520375(0.95)\t\t0.2969477(0.3)\n",
      "INFO:root:DEV L2:\t\t0.6093804(0.61)\t\t0.7964404(0.8)\t\t0.09192(0.09)\n",
      "100%|██████████| 1117/1117 [00:45<00:00, 24.47it/s]\n",
      "INFO:root:TEST Acc:\t\t0.5751884(0.58)\t\t0.9543323(0.95)\t\t0.3304598(0.33)\n",
      "INFO:root:TEST L2:\t\t0.5868303(0.59)\t\t0.7949106(0.79)\t\t0.0867885(0.09)\n",
      "INFO:root:Epoch\t7/30\n",
      "100%|██████████| 3224/3224 [02:21<00:00, 15.62it/s]\n",
      "100%|██████████| 506/506 [00:18<00:00, 26.85it/s]\n",
      "INFO:root:DEV Acc:\t\t0.5529197(0.55)\t\t0.9538406(0.95)\t\t0.2969477(0.3)\n",
      "INFO:root:DEV L2:\t\t0.6093804(0.61)\t\t0.7964404(0.8)\t\t0.0880689(0.09)\n",
      "100%|██████████| 1117/1117 [00:45<00:00, 24.36it/s]\n",
      "INFO:root:TEST Acc:\t\t0.5751884(0.58)\t\t0.9548533(0.95)\t\t0.3304598(0.33)\n",
      "INFO:root:TEST L2:\t\t0.5868303(0.59)\t\t0.7949106(0.79)\t\t0.0843736(0.08)\n",
      "INFO:root:Epoch\t8/30\n",
      "100%|██████████| 3224/3224 [02:21<00:00, 24.38it/s]\n",
      "100%|██████████| 506/506 [00:18<00:00, 27.99it/s]\n",
      "INFO:root:DEV Acc:\t\t0.5529197(0.55)\t\t0.9542012(0.95)\t\t0.2969477(0.3)\n",
      "INFO:root:DEV L2:\t\t0.6093804(0.61)\t\t0.7964404(0.8)\t\t0.0898695(0.09)\n",
      "100%|██████████| 1117/1117 [00:45<00:00, 24.42it/s]\n",
      "INFO:root:TEST Acc:\t\t0.5751884(0.58)\t\t0.9572843(0.96)\t\t0.3304598(0.33)\n",
      "INFO:root:TEST L2:\t\t0.5868303(0.59)\t\t0.7949106(0.79)\t\t0.0824881(0.08)\n",
      "INFO:root:Epoch\t9/30\n",
      "100%|██████████| 3224/3224 [02:20<00:00, 22.94it/s]\n",
      "100%|██████████| 506/506 [00:18<00:00, 30.11it/s]\n",
      "INFO:root:DEV Acc:\t\t0.5529197(0.55)\t\t0.9567256(0.96)\t\t0.2969477(0.3)\n",
      "INFO:root:DEV L2:\t\t0.6093804(0.61)\t\t0.7964404(0.8)\t\t0.0832183(0.08)\n",
      "100%|██████████| 1117/1117 [00:45<00:00, 24.36it/s]\n",
      "INFO:root:TEST Acc:\t\t0.5751884(0.58)\t\t0.956416(0.96)\t\t0.3304598(0.33)\n",
      "INFO:root:TEST L2:\t\t0.5868303(0.59)\t\t0.7949106(0.79)\t\t0.0817792(0.08)\n",
      "INFO:root:Epoch\t10/30\n",
      "100%|██████████| 3224/3224 [02:21<00:00, 22.81it/s]\n",
      "100%|██████████| 506/506 [00:17<00:00, 28.42it/s]\n",
      "INFO:root:DEV Acc:\t\t0.5529197(0.55)\t\t0.9520375(0.95)\t\t0.2969477(0.3)\n",
      "INFO:root:DEV L2:\t\t0.6093804(0.61)\t\t0.7964404(0.8)\t\t0.091016(0.09)\n",
      "100%|██████████| 1117/1117 [00:45<00:00, 24.58it/s]\n",
      "INFO:root:TEST Acc:\t\t0.5751884(0.58)\t\t0.956937(0.96)\t\t0.3304598(0.33)\n",
      "INFO:root:TEST L2:\t\t0.5868303(0.59)\t\t0.7949106(0.79)\t\t0.0800194(0.08)\n",
      "INFO:root:Epoch\t11/30\n",
      "100%|██████████| 3224/3224 [02:19<00:00, 23.06it/s]\n",
      "100%|██████████| 506/506 [00:17<00:00, 28.52it/s]\n",
      "INFO:root:DEV Acc:\t\t0.5529197(0.55)\t\t0.9560043(0.96)\t\t0.2969477(0.3)\n",
      "INFO:root:DEV L2:\t\t0.6093804(0.61)\t\t0.7964404(0.8)\t\t0.081047(0.08)\n",
      "100%|██████████| 1117/1117 [00:45<00:00, 24.48it/s]\n",
      "INFO:root:TEST Acc:\t\t0.5751884(0.58)\t\t0.956937(0.96)\t\t0.3304598(0.33)\n",
      "INFO:root:TEST L2:\t\t0.5868303(0.59)\t\t0.7949106(0.79)\t\t0.0775852(0.08)\n",
      "INFO:root:Epoch\t12/30\n",
      "100%|██████████| 3224/3224 [02:17<00:00, 27.14it/s]\n",
      "100%|██████████| 506/506 [00:18<00:00, 28.06it/s]\n",
      "INFO:root:DEV Acc:\t\t0.5529197(0.55)\t\t0.9531194(0.95)\t\t0.2969477(0.3)\n",
      "INFO:root:DEV L2:\t\t0.6093804(0.61)\t\t0.7964404(0.8)\t\t0.0876533(0.09)\n",
      "100%|██████████| 1117/1117 [00:45<00:00, 24.59it/s]\n",
      "INFO:root:TEST Acc:\t\t0.5751884(0.58)\t\t0.9584997(0.96)\t\t0.3304598(0.33)\n",
      "INFO:root:TEST L2:\t\t0.5868303(0.59)\t\t0.7949106(0.79)\t\t0.073604(0.07)\n",
      "INFO:root:Epoch\t13/30\n",
      "100%|██████████| 3224/3224 [02:21<00:00, 22.85it/s]\n",
      "100%|██████████| 506/506 [00:18<00:00, 27.81it/s]\n",
      "INFO:root:DEV Acc:\t\t0.5529197(0.55)\t\t0.9552831(0.96)\t\t0.2969477(0.3)\n",
      "INFO:root:DEV L2:\t\t0.6093804(0.61)\t\t0.7964404(0.8)\t\t0.085513(0.09)\n",
      "100%|██████████| 1117/1117 [00:45<00:00, 24.33it/s]\n",
      "INFO:root:TEST Acc:\t\t0.5751884(0.58)\t\t0.9584997(0.96)\t\t0.3304598(0.33)\n",
      "INFO:root:TEST L2:\t\t0.5868303(0.59)\t\t0.7949106(0.79)\t\t0.0728042(0.07)\n",
      "INFO:root:Epoch\t14/30\n",
      "100%|██████████| 3224/3224 [02:20<00:00, 22.93it/s]\n",
      "100%|██████████| 506/506 [00:18<00:00, 30.02it/s]\n",
      "INFO:root:DEV Acc:\t\t0.5529197(0.55)\t\t0.9498738(0.95)\t\t0.2969477(0.3)\n",
      "INFO:root:DEV L2:\t\t0.6093804(0.61)\t\t0.7964404(0.8)\t\t0.0935359(0.09)\n",
      "100%|██████████| 1117/1117 [00:45<00:00, 24.51it/s]\n",
      "INFO:root:TEST Acc:\t\t0.5751884(0.58)\t\t0.9519014(0.95)\t\t0.3304598(0.33)\n",
      "INFO:root:TEST L2:\t\t0.5868303(0.59)\t\t0.7949106(0.79)\t\t0.0832362(0.08)\n"
     ]
    },
    {
     "data": {
      "application/vnd.plotly.v1+json": {
       "config": {
        "linkText": "Export to plot.ly",
        "plotlyServerURL": "https://plot.ly",
        "showLink": true
       },
       "data": [
        {
         "marker": {
          "color": "#3498db"
         },
         "mode": "lines+markers",
         "name": "Dev Requested Accuracy",
         "type": "scatter",
         "uid": "ab5a1888-cae1-4308-afb9-ddcad2cc16c7",
         "x": [
          0,
          1,
          2,
          3,
          4,
          5,
          6,
          7,
          8,
          9,
          10,
          11,
          12,
          13
         ],
         "y": [
          0.90696,
          0.9372521,
          0.943022,
          0.945907,
          0.9520375,
          0.9520375,
          0.9538406,
          0.9542012,
          0.9567256,
          0.9520375,
          0.9560043,
          0.9531194,
          0.9552831,
          0.9498738
         ]
        },
        {
         "marker": {
          "color": "#9b59b6"
         },
         "mode": "lines+markers",
         "name": "Test Requested Accuracy",
         "type": "scatter",
         "uid": "a4f7c9a6-ad08-44b5-b0c0-262956ebb0be",
         "x": [
          0,
          1,
          2,
          3,
          4,
          5,
          6,
          7,
          8,
          9,
          10,
          11,
          12,
          13
         ],
         "y": [
          0.9138739,
          0.9376628,
          0.9458239,
          0.9491231,
          0.9552006,
          0.9543323,
          0.9548533,
          0.9572843,
          0.956416,
          0.956937,
          0.956937,
          0.9584997,
          0.9584997,
          0.9519014
         ]
        }
       ],
       "layout": {
        "margin": {
         "b": 150
        },
        "title": "<b>Dev-Test Requested Accuracy</b>",
        "xaxis": {
         "dtick": 1,
         "title": "<b>Epoch</b>",
         "titlefont": {
          "color": "#34495e"
         }
        },
        "yaxis": {
         "title": "<b>Accuracy</b>",
         "titlefont": {
          "color": "#34495e"
         }
        }
       }
      },
      "text/html": [
       "<div id=\"5064bab2-df12-4137-9e8b-e87b50806644\" style=\"height: 525px; width: 100%;\" class=\"plotly-graph-div\"></div><script type=\"text/javascript\">require([\"plotly\"], function(Plotly) { window.PLOTLYENV=window.PLOTLYENV || {};window.PLOTLYENV.BASE_URL=\"https://plot.ly\";Plotly.newPlot(\"5064bab2-df12-4137-9e8b-e87b50806644\", [{\"marker\": {\"color\": \"#3498db\"}, \"mode\": \"lines+markers\", \"name\": \"Dev Requested Accuracy\", \"x\": [0, 1, 2, 3, 4, 5, 6, 7, 8, 9, 10, 11, 12, 13], \"y\": [0.90696, 0.9372521, 0.943022, 0.945907, 0.9520375, 0.9520375, 0.9538406, 0.9542012, 0.9567256, 0.9520375, 0.9560043, 0.9531194, 0.9552831, 0.9498738], \"type\": \"scatter\", \"uid\": \"3202f080-6f24-43a0-8436-9d51e0db3124\"}, {\"marker\": {\"color\": \"#9b59b6\"}, \"mode\": \"lines+markers\", \"name\": \"Test Requested Accuracy\", \"x\": [0, 1, 2, 3, 4, 5, 6, 7, 8, 9, 10, 11, 12, 13], \"y\": [0.9138739, 0.9376628, 0.9458239, 0.9491231, 0.9552006, 0.9543323, 0.9548533, 0.9572843, 0.956416, 0.956937, 0.956937, 0.9584997, 0.9584997, 0.9519014], \"type\": \"scatter\", \"uid\": \"7458d533-866f-4c90-a3f0-8451b9e28751\"}], {\"margin\": {\"b\": 150}, \"title\": \"<b>Dev-Test Requested Accuracy</b>\", \"xaxis\": {\"dtick\": 1, \"title\": \"<b>Epoch</b>\", \"titlefont\": {\"color\": \"#34495e\"}}, \"yaxis\": {\"title\": \"<b>Accuracy</b>\", \"titlefont\": {\"color\": \"#34495e\"}}}, {\"showLink\": true, \"linkText\": \"Export to plot.ly\", \"plotlyServerURL\": \"https://plot.ly\"})});</script><script type=\"text/javascript\">window.addEventListener(\"resize\", function(){window._Plotly.Plots.resize(document.getElementById(\"5064bab2-df12-4137-9e8b-e87b50806644\"));});</script>"
      ],
      "text/vnd.plotly.v1+html": [
       "<div id=\"5064bab2-df12-4137-9e8b-e87b50806644\" style=\"height: 525px; width: 100%;\" class=\"plotly-graph-div\"></div><script type=\"text/javascript\">require([\"plotly\"], function(Plotly) { window.PLOTLYENV=window.PLOTLYENV || {};window.PLOTLYENV.BASE_URL=\"https://plot.ly\";Plotly.newPlot(\"5064bab2-df12-4137-9e8b-e87b50806644\", [{\"marker\": {\"color\": \"#3498db\"}, \"mode\": \"lines+markers\", \"name\": \"Dev Requested Accuracy\", \"x\": [0, 1, 2, 3, 4, 5, 6, 7, 8, 9, 10, 11, 12, 13], \"y\": [0.90696, 0.9372521, 0.943022, 0.945907, 0.9520375, 0.9520375, 0.9538406, 0.9542012, 0.9567256, 0.9520375, 0.9560043, 0.9531194, 0.9552831, 0.9498738], \"type\": \"scatter\", \"uid\": \"3202f080-6f24-43a0-8436-9d51e0db3124\"}, {\"marker\": {\"color\": \"#9b59b6\"}, \"mode\": \"lines+markers\", \"name\": \"Test Requested Accuracy\", \"x\": [0, 1, 2, 3, 4, 5, 6, 7, 8, 9, 10, 11, 12, 13], \"y\": [0.9138739, 0.9376628, 0.9458239, 0.9491231, 0.9552006, 0.9543323, 0.9548533, 0.9572843, 0.956416, 0.956937, 0.956937, 0.9584997, 0.9584997, 0.9519014], \"type\": \"scatter\", \"uid\": \"7458d533-866f-4c90-a3f0-8451b9e28751\"}], {\"margin\": {\"b\": 150}, \"title\": \"<b>Dev-Test Requested Accuracy</b>\", \"xaxis\": {\"dtick\": 1, \"title\": \"<b>Epoch</b>\", \"titlefont\": {\"color\": \"#34495e\"}}, \"yaxis\": {\"title\": \"<b>Accuracy</b>\", \"titlefont\": {\"color\": \"#34495e\"}}}, {\"showLink\": true, \"linkText\": \"Export to plot.ly\", \"plotlyServerURL\": \"https://plot.ly\"})});</script><script type=\"text/javascript\">window.addEventListener(\"resize\", function(){window._Plotly.Plots.resize(document.getElementById(\"5064bab2-df12-4137-9e8b-e87b50806644\"));});</script>"
      ]
     },
     "metadata": {},
     "output_type": "display_data"
    }
   ],
   "source": [
    "dev_goal_accuracies = []\n",
    "dev_requested_accuracies = []\n",
    "dev_method_accuracies = []\n",
    "\n",
    "test_goal_accuracies = []\n",
    "test_requested_accuracies = []\n",
    "test_method_accuracies = []\n",
    "\n",
    "requested_early_stopping = EarlyStopping(patience = 4)\n",
    "\n",
    "train_indices = np.arange(raw_X_train.shape[0])\n",
    "\n",
    "for epoch in range(NUM_EPOCHS):\n",
    "    \n",
    "    np.random.shuffle(train_indices)\n",
    "    \n",
    "    logging.info(\"Epoch\\t{}/{}\".format(epoch + 1, NUM_EPOCHS))\n",
    "    \n",
    "    model_Requested = model_Requested.train()\n",
    "    \n",
    "    for raw_X_train_dialog, raw_Y_train_dialog in tqdm(zip(raw_X_train[train_indices], raw_Y_train[train_indices]), total = len(raw_X_train)):\n",
    "\n",
    "        model_Requested.hidden = model_Requested.init_hidden()\n",
    "\n",
    "        for raw_X_train_turn, raw_Y_train_turn in zip(raw_X_train_dialog[\"turns\"], raw_Y_train_dialog[\"turns\"]):\n",
    "                        \n",
    "            optimizer_RequestedModel.zero_grad()\n",
    "            \n",
    "            indices, scores = get_index_and_score(raw_X_train_turn, token_to_index, mode = \"train\", device = DEVICE)\n",
    "            \n",
    "            requesteds = model_Requested(indices, scores)\n",
    "            \n",
    "            requesteds_loss = 0\n",
    "            \n",
    "            for requested in requesteds:\n",
    "                \n",
    "                requested = requested.unsqueeze(0)\n",
    "                \n",
    "                loss_requested = REQUESTED_LOSS_FUNCTION(requested,\n",
    "                                                         retrieve_gold_Requested(raw_Y_train_turn,\n",
    "                                                                                 ontology = ontology,\n",
    "                                                                                 device = DEVICE))\n",
    "                requesteds_loss += loss_requested\n",
    "                \n",
    "            loss = requesteds_loss\n",
    "\n",
    "            loss.backward(retain_graph = True)\n",
    "\n",
    "            optimizer_RequestedModel.step()\n",
    "    \n",
    "    dev_goal_accuracy, \\\n",
    "    dev_goal_l2, \\\n",
    "    dev_requested_accuracy, \\\n",
    "    dev_requested_l2, \\\n",
    "    dev_method_accuracy, \\\n",
    "    dev_method_l2 = get_scores(model_Goal, model_Requested, model_Method, raw_X_dev, raw_Y_dev, dataset = \"dstc2_dev\")\n",
    "    logging.info(\"DEV Acc:\\t\\t{}({})\\t\\t{}({})\\t\\t{}({})\".format(dev_goal_accuracy,\n",
    "                                                                 np.around(dev_goal_accuracy, decimals = 2),\n",
    "                                                                 dev_requested_accuracy,\n",
    "                                                                 np.around(dev_requested_accuracy, decimals = 2),\n",
    "                                                                 dev_method_accuracy,\n",
    "                                                                 np.around(dev_method_accuracy, decimals = 2)))\n",
    "    logging.info(\"DEV L2:\\t\\t{}({})\\t\\t{}({})\\t\\t{}({})\".format(dev_goal_l2,\n",
    "                                                                np.around(dev_goal_l2, decimals = 2),\n",
    "                                                                dev_requested_l2,\n",
    "                                                                np.around(dev_requested_l2, decimals = 2),\n",
    "                                                                dev_method_l2,\n",
    "                                                                np.around(dev_method_l2, decimals = 2)))\n",
    "    dev_goal_accuracies.append(dev_goal_accuracy)\n",
    "    dev_requested_accuracies.append(dev_requested_accuracy)\n",
    "    dev_method_accuracies.append(dev_method_accuracy)\n",
    "\n",
    "    test_goal_accuracy, \\\n",
    "    test_goal_l2, \\\n",
    "    test_requested_accuracy, \\\n",
    "    test_requested_l2, \\\n",
    "    test_method_accuracy, \\\n",
    "    test_method_l2 = get_scores(model_Goal, model_Requested, model_Method, raw_X_test, raw_Y_test, dataset = \"dstc2_test\")\n",
    "    logging.info(\"TEST Acc:\\t\\t{}({})\\t\\t{}({})\\t\\t{}({})\".format(test_goal_accuracy,\n",
    "                                                              np.around(test_goal_accuracy, decimals = 2),\n",
    "                                                              test_requested_accuracy,\n",
    "                                                              np.around(test_requested_accuracy, decimals = 2),\n",
    "                                                              test_method_accuracy,\n",
    "                                                              np.around(test_method_accuracy, decimals = 2)))\n",
    "    logging.info(\"TEST L2:\\t\\t{}({})\\t\\t{}({})\\t\\t{}({})\".format(test_goal_l2,\n",
    "                                                              np.around(test_goal_l2, decimals = 2),\n",
    "                                                              test_requested_l2,\n",
    "                                                              np.around(test_requested_l2, decimals = 2),\n",
    "                                                              test_method_l2,\n",
    "                                                              np.around(test_method_l2, decimals = 2)))\n",
    "    test_goal_accuracies.append(test_goal_accuracy)\n",
    "    test_requested_accuracies.append(test_requested_accuracy)\n",
    "    test_method_accuracies.append(test_requested_accuracy)\n",
    "        \n",
    "    requested_early_stopping.on_epoch_end(epoch = (epoch + 1), current_value = (dev_requested_accuracy))\n",
    "    \n",
    "    if requested_early_stopping.stop_training:\n",
    "        break\n",
    "\n",
    "plotly_plot(dev_requested_accuracies, test_requested_accuracies, \"Requested\")"
   ]
  },
  {
   "cell_type": "markdown",
   "metadata": {},
   "source": [
    "### Save Requested Model"
   ]
  },
  {
   "cell_type": "code",
   "execution_count": 18,
   "metadata": {},
   "outputs": [],
   "source": [
    "torch.save(model_Requested.state_dict(), \"model_GMR_incremental_Requested.pt\")"
   ]
  },
  {
   "cell_type": "markdown",
   "metadata": {},
   "source": [
    "### Load Requested Model"
   ]
  },
  {
   "cell_type": "code",
   "execution_count": 19,
   "metadata": {},
   "outputs": [
    {
     "data": {
      "text/plain": [
       "RequestedModel(\n",
       "  (embeddings): Embedding(1149, 170)\n",
       "  (altered_embeddings): Linear(in_features=171, out_features=300, bias=True)\n",
       "  (lstm): LSTM(300, 100)\n",
       "  (requested_classifier): Linear(in_features=100, out_features=8, bias=True)\n",
       ")"
      ]
     },
     "execution_count": 19,
     "metadata": {},
     "output_type": "execute_result"
    }
   ],
   "source": [
    "model_Requested = RequestedModel(vocabulary_size = VOCABULARY_SIZE,\n",
    "                                 embedding_dim = EMBEDDING_DIM,\n",
    "                                 altered_embedding_dim = ALTERED_EMBEDDING_DIM,\n",
    "                                 hidden_dim = HIDDEN_DIM,\n",
    "                                 requested_dim = REQUESTED_DIM,\n",
    "                                 device = DEVICE)\n",
    "\n",
    "model_Requested = model_Requested.to(DEVICE)\n",
    "model_Requested.load_state_dict(torch.load(\"model_GMR_incremental_Requested.pt\"))\n",
    "model_Requested.eval()"
   ]
  },
  {
   "cell_type": "code",
   "execution_count": 20,
   "metadata": {},
   "outputs": [
    {
     "name": "stderr",
     "output_type": "stream",
     "text": [
      "100%|██████████| 506/506 [00:18<00:00, 27.61it/s]\n"
     ]
    },
    {
     "data": {
      "text/plain": [
       "(0.5529197, 0.6093804, 0.9498738, 0.7964404, 0.2969477, 0.0935359)"
      ]
     },
     "execution_count": 20,
     "metadata": {},
     "output_type": "execute_result"
    }
   ],
   "source": [
    "get_scores(model_Goal, model_Requested, model_Method, raw_X_dev, raw_Y_dev, dataset = \"dstc2_dev\")"
   ]
  },
  {
   "cell_type": "code",
   "execution_count": 21,
   "metadata": {},
   "outputs": [
    {
     "name": "stderr",
     "output_type": "stream",
     "text": [
      "100%|██████████| 1117/1117 [00:45<00:00, 24.71it/s]\n"
     ]
    },
    {
     "data": {
      "text/plain": [
       "(0.5751884, 0.5868303, 0.9519014, 0.7949106, 0.3304598, 0.0832362)"
      ]
     },
     "execution_count": 21,
     "metadata": {},
     "output_type": "execute_result"
    }
   ],
   "source": [
    "get_scores(model_Goal, model_Requested, model_Method, raw_X_test, raw_Y_test, dataset = \"dstc2_test\")"
   ]
  },
  {
   "cell_type": "markdown",
   "metadata": {},
   "source": [
    "### Train Method Model"
   ]
  },
  {
   "cell_type": "code",
   "execution_count": 22,
   "metadata": {},
   "outputs": [
    {
     "name": "stderr",
     "output_type": "stream",
     "text": [
      "INFO:root:Epoch\t1/30\n",
      "100%|██████████| 3224/3224 [02:14<00:00, 23.91it/s]\n",
      "100%|██████████| 506/506 [00:18<00:00, 27.92it/s]\n",
      "INFO:root:DEV Acc:\t\t0.5529197(0.55)\t\t0.9498738(0.95)\t\t0.8859286(0.89)\n",
      "INFO:root:DEV L2:\t\t0.6093804(0.61)\t\t0.1928363(0.19)\t\t0.0935359(0.09)\n",
      "100%|██████████| 1117/1117 [00:46<00:00, 24.13it/s]\n",
      "INFO:root:TEST Acc:\t\t0.5751884(0.58)\t\t0.9519014(0.95)\t\t0.9112274(0.91)\n",
      "INFO:root:TEST L2:\t\t0.5868303(0.59)\t\t0.1450344(0.15)\t\t0.0832362(0.08)\n",
      "INFO:root:Epoch\t2/30\n",
      "100%|██████████| 3224/3224 [02:16<00:00, 17.67it/s]\n",
      "100%|██████████| 506/506 [00:18<00:00, 30.38it/s]\n",
      "INFO:root:DEV Acc:\t\t0.5529197(0.55)\t\t0.9498738(0.95)\t\t0.8890326(0.89)\n",
      "INFO:root:DEV L2:\t\t0.6093804(0.61)\t\t0.1857993(0.19)\t\t0.0935359(0.09)\n",
      "100%|██████████| 1117/1117 [00:46<00:00, 24.28it/s]\n",
      "INFO:root:TEST Acc:\t\t0.5751884(0.58)\t\t0.9519014(0.95)\t\t0.9189245(0.92)\n",
      "INFO:root:TEST L2:\t\t0.5868303(0.59)\t\t0.1353347(0.14)\t\t0.0832362(0.08)\n",
      "INFO:root:Epoch\t3/30\n",
      "100%|██████████| 3224/3224 [02:16<00:00, 23.65it/s]\n",
      "100%|██████████| 506/506 [00:18<00:00, 27.89it/s]\n",
      "INFO:root:DEV Acc:\t\t0.5529197(0.55)\t\t0.9498738(0.95)\t\t0.882566(0.88)\n",
      "INFO:root:DEV L2:\t\t0.6093804(0.61)\t\t0.1898282(0.19)\t\t0.0935359(0.09)\n",
      "100%|██████████| 1117/1117 [00:45<00:00, 24.35it/s]\n",
      "INFO:root:TEST Acc:\t\t0.5751884(0.58)\t\t0.9519014(0.95)\t\t0.8942939(0.89)\n",
      "INFO:root:TEST L2:\t\t0.5868303(0.59)\t\t0.1718181(0.17)\t\t0.0832362(0.08)\n",
      "INFO:root:Epoch\t4/30\n",
      "100%|██████████| 3224/3224 [02:16<00:00, 23.58it/s]\n",
      "100%|██████████| 506/506 [00:18<00:00, 30.65it/s]\n",
      "INFO:root:DEV Acc:\t\t0.5529197(0.55)\t\t0.9498738(0.95)\t\t0.883342(0.88)\n",
      "INFO:root:DEV L2:\t\t0.6093804(0.61)\t\t0.192406(0.19)\t\t0.0935359(0.09)\n",
      "100%|██████████| 1117/1117 [00:45<00:00, 24.56it/s]\n",
      "INFO:root:TEST Acc:\t\t0.5751884(0.58)\t\t0.9519014(0.95)\t\t0.9077381(0.91)\n",
      "INFO:root:TEST L2:\t\t0.5868303(0.59)\t\t0.1494554(0.15)\t\t0.0832362(0.08)\n",
      "INFO:root:Epoch\t5/30\n",
      "100%|██████████| 3224/3224 [02:16<00:00, 23.64it/s]\n",
      "100%|██████████| 506/506 [00:18<00:00, 30.34it/s]\n",
      "INFO:root:DEV Acc:\t\t0.5529197(0.55)\t\t0.9498738(0.95)\t\t0.8851526(0.89)\n",
      "INFO:root:DEV L2:\t\t0.6093804(0.61)\t\t0.1865584(0.19)\t\t0.0935359(0.09)\n",
      "100%|██████████| 1117/1117 [00:45<00:00, 24.65it/s]\n",
      "INFO:root:TEST Acc:\t\t0.5751884(0.58)\t\t0.9519014(0.95)\t\t0.9084565(0.91)\n",
      "INFO:root:TEST L2:\t\t0.5868303(0.59)\t\t0.1496555(0.15)\t\t0.0832362(0.08)\n",
      "INFO:root:Epoch\t6/30\n",
      "100%|██████████| 3224/3224 [02:15<00:00, 23.79it/s]\n",
      "100%|██████████| 506/506 [00:18<00:00, 28.08it/s]\n",
      "INFO:root:DEV Acc:\t\t0.5529197(0.55)\t\t0.9498738(0.95)\t\t0.8784273(0.88)\n",
      "INFO:root:DEV L2:\t\t0.6093804(0.61)\t\t0.1928617(0.19)\t\t0.0935359(0.09)\n",
      "100%|██████████| 1117/1117 [00:45<00:00, 24.57it/s]\n",
      "INFO:root:TEST Acc:\t\t0.5751884(0.58)\t\t0.9519014(0.95)\t\t0.9106117(0.91)\n",
      "INFO:root:TEST L2:\t\t0.5868303(0.59)\t\t0.1419236(0.14)\t\t0.0832362(0.08)\n",
      "INFO:root:Epoch\t7/30\n",
      "100%|██████████| 3224/3224 [02:17<00:00, 23.43it/s]\n",
      "100%|██████████| 506/506 [00:18<00:00, 30.43it/s]\n",
      "INFO:root:DEV Acc:\t\t0.5529197(0.55)\t\t0.9498738(0.95)\t\t0.8823073(0.88)\n",
      "INFO:root:DEV L2:\t\t0.6093804(0.61)\t\t0.1955142(0.2)\t\t0.0935359(0.09)\n",
      "100%|██████████| 1117/1117 [00:45<00:00, 24.28it/s]\n",
      "INFO:root:TEST Acc:\t\t0.5751884(0.58)\t\t0.9519014(0.95)\t\t0.9120484(0.91)\n",
      "INFO:root:TEST L2:\t\t0.5868303(0.59)\t\t0.1433751(0.14)\t\t0.0832362(0.08)\n"
     ]
    },
    {
     "data": {
      "application/vnd.plotly.v1+json": {
       "config": {
        "linkText": "Export to plot.ly",
        "plotlyServerURL": "https://plot.ly",
        "showLink": true
       },
       "data": [
        {
         "marker": {
          "color": "#3498db"
         },
         "mode": "lines+markers",
         "name": "Dev Method Accuracy",
         "type": "scatter",
         "uid": "98dcecb9-1497-4671-bd84-c48e522edb6a",
         "x": [
          0,
          1,
          2,
          3,
          4,
          5,
          6
         ],
         "y": [
          0.8859286,
          0.8890326,
          0.882566,
          0.883342,
          0.8851526,
          0.8784273,
          0.8823073
         ]
        },
        {
         "marker": {
          "color": "#9b59b6"
         },
         "mode": "lines+markers",
         "name": "Test Method Accuracy",
         "type": "scatter",
         "uid": "e93075ad-3554-49c1-9d01-163f55c7be00",
         "x": [
          0,
          1,
          2,
          3,
          4,
          5,
          6
         ],
         "y": [
          0.9519014,
          0.9519014,
          0.9519014,
          0.9519014,
          0.9519014,
          0.9519014,
          0.9519014
         ]
        }
       ],
       "layout": {
        "margin": {
         "b": 150
        },
        "title": "<b>Dev-Test Method Accuracy</b>",
        "xaxis": {
         "dtick": 1,
         "title": "<b>Epoch</b>",
         "titlefont": {
          "color": "#34495e"
         }
        },
        "yaxis": {
         "title": "<b>Accuracy</b>",
         "titlefont": {
          "color": "#34495e"
         }
        }
       }
      },
      "text/html": [
       "<div id=\"b6993d4a-b1d0-40e3-b463-f972740bfa54\" style=\"height: 525px; width: 100%;\" class=\"plotly-graph-div\"></div><script type=\"text/javascript\">require([\"plotly\"], function(Plotly) { window.PLOTLYENV=window.PLOTLYENV || {};window.PLOTLYENV.BASE_URL=\"https://plot.ly\";Plotly.newPlot(\"b6993d4a-b1d0-40e3-b463-f972740bfa54\", [{\"marker\": {\"color\": \"#3498db\"}, \"mode\": \"lines+markers\", \"name\": \"Dev Method Accuracy\", \"x\": [0, 1, 2, 3, 4, 5, 6], \"y\": [0.8859286, 0.8890326, 0.882566, 0.883342, 0.8851526, 0.8784273, 0.8823073], \"type\": \"scatter\", \"uid\": \"16043feb-af83-4699-8269-1c2d0515c7a6\"}, {\"marker\": {\"color\": \"#9b59b6\"}, \"mode\": \"lines+markers\", \"name\": \"Test Method Accuracy\", \"x\": [0, 1, 2, 3, 4, 5, 6], \"y\": [0.9519014, 0.9519014, 0.9519014, 0.9519014, 0.9519014, 0.9519014, 0.9519014], \"type\": \"scatter\", \"uid\": \"eb3a26a2-ffbd-4f97-8428-a92099e9ba77\"}], {\"margin\": {\"b\": 150}, \"title\": \"<b>Dev-Test Method Accuracy</b>\", \"xaxis\": {\"dtick\": 1, \"title\": \"<b>Epoch</b>\", \"titlefont\": {\"color\": \"#34495e\"}}, \"yaxis\": {\"title\": \"<b>Accuracy</b>\", \"titlefont\": {\"color\": \"#34495e\"}}}, {\"showLink\": true, \"linkText\": \"Export to plot.ly\", \"plotlyServerURL\": \"https://plot.ly\"})});</script><script type=\"text/javascript\">window.addEventListener(\"resize\", function(){window._Plotly.Plots.resize(document.getElementById(\"b6993d4a-b1d0-40e3-b463-f972740bfa54\"));});</script>"
      ],
      "text/vnd.plotly.v1+html": [
       "<div id=\"b6993d4a-b1d0-40e3-b463-f972740bfa54\" style=\"height: 525px; width: 100%;\" class=\"plotly-graph-div\"></div><script type=\"text/javascript\">require([\"plotly\"], function(Plotly) { window.PLOTLYENV=window.PLOTLYENV || {};window.PLOTLYENV.BASE_URL=\"https://plot.ly\";Plotly.newPlot(\"b6993d4a-b1d0-40e3-b463-f972740bfa54\", [{\"marker\": {\"color\": \"#3498db\"}, \"mode\": \"lines+markers\", \"name\": \"Dev Method Accuracy\", \"x\": [0, 1, 2, 3, 4, 5, 6], \"y\": [0.8859286, 0.8890326, 0.882566, 0.883342, 0.8851526, 0.8784273, 0.8823073], \"type\": \"scatter\", \"uid\": \"16043feb-af83-4699-8269-1c2d0515c7a6\"}, {\"marker\": {\"color\": \"#9b59b6\"}, \"mode\": \"lines+markers\", \"name\": \"Test Method Accuracy\", \"x\": [0, 1, 2, 3, 4, 5, 6], \"y\": [0.9519014, 0.9519014, 0.9519014, 0.9519014, 0.9519014, 0.9519014, 0.9519014], \"type\": \"scatter\", \"uid\": \"eb3a26a2-ffbd-4f97-8428-a92099e9ba77\"}], {\"margin\": {\"b\": 150}, \"title\": \"<b>Dev-Test Method Accuracy</b>\", \"xaxis\": {\"dtick\": 1, \"title\": \"<b>Epoch</b>\", \"titlefont\": {\"color\": \"#34495e\"}}, \"yaxis\": {\"title\": \"<b>Accuracy</b>\", \"titlefont\": {\"color\": \"#34495e\"}}}, {\"showLink\": true, \"linkText\": \"Export to plot.ly\", \"plotlyServerURL\": \"https://plot.ly\"})});</script><script type=\"text/javascript\">window.addEventListener(\"resize\", function(){window._Plotly.Plots.resize(document.getElementById(\"b6993d4a-b1d0-40e3-b463-f972740bfa54\"));});</script>"
      ]
     },
     "metadata": {},
     "output_type": "display_data"
    }
   ],
   "source": [
    "dev_goal_accuracies = []\n",
    "dev_requested_accuracies = []\n",
    "dev_method_accuracies = []\n",
    "\n",
    "test_goal_accuracies = []\n",
    "test_requested_accuracies = []\n",
    "test_method_accuracies = []\n",
    "\n",
    "method_early_stopping = EarlyStopping(patience = 4)\n",
    "\n",
    "train_indices = np.arange(raw_X_train.shape[0])\n",
    "\n",
    "for epoch in range(NUM_EPOCHS):\n",
    "    \n",
    "    np.random.shuffle(train_indices)\n",
    "    \n",
    "    logging.info(\"Epoch\\t{}/{}\".format(epoch + 1, NUM_EPOCHS))\n",
    "    \n",
    "    model_Method = model_Method.train()\n",
    "    \n",
    "    for raw_X_train_dialog, raw_Y_train_dialog in tqdm(zip(raw_X_train[train_indices], raw_Y_train[train_indices]), total = len(raw_X_train)):\n",
    "\n",
    "        model_Method.hidden = model_Method.init_hidden()\n",
    "\n",
    "        for raw_X_train_turn, raw_Y_train_turn in zip(raw_X_train_dialog[\"turns\"], raw_Y_train_dialog[\"turns\"]):\n",
    "            \n",
    "            optimizer_MethodModel.zero_grad()\n",
    "            \n",
    "            indices, scores = get_index_and_score(raw_X_train_turn, token_to_index, mode = \"train\", device = DEVICE)\n",
    "            \n",
    "            methods = model_Method(indices, scores)\n",
    "\n",
    "            methods_loss = 0\n",
    "            \n",
    "            for method in methods:\n",
    "                \n",
    "                method = method.unsqueeze(0)\n",
    "                \n",
    "                loss_method = METHOD_LOSS_FUNCTION(method,\n",
    "                                                   retrieve_gold_Method(raw_Y_train_turn,\n",
    "                                                                        ontology = ontology,\n",
    "                                                                        device = DEVICE))\n",
    "\n",
    "                methods_loss += loss_method\n",
    "                \n",
    "            loss = methods_loss\n",
    "\n",
    "            loss.backward(retain_graph = True)\n",
    "\n",
    "            optimizer_MethodModel.step()\n",
    "\n",
    "    dev_goal_accuracy, \\\n",
    "    dev_goal_l2, \\\n",
    "    dev_requested_accuracy, \\\n",
    "    dev_requested_l2, \\\n",
    "    dev_method_accuracy, \\\n",
    "    dev_method_l2 = get_scores(model_Goal, model_Requested, model_Method, raw_X_dev, raw_Y_dev, dataset = \"dstc2_dev\")\n",
    "    logging.info(\"DEV Acc:\\t\\t{}({})\\t\\t{}({})\\t\\t{}({})\".format(dev_goal_accuracy,\n",
    "                                                                 np.around(dev_goal_accuracy, decimals = 2),\n",
    "                                                                 dev_requested_accuracy,\n",
    "                                                                 np.around(dev_requested_accuracy, decimals = 2),\n",
    "                                                                 dev_method_accuracy,\n",
    "                                                                 np.around(dev_method_accuracy, decimals = 2)))\n",
    "    logging.info(\"DEV L2:\\t\\t{}({})\\t\\t{}({})\\t\\t{}({})\".format(dev_goal_l2,\n",
    "                                                                np.around(dev_goal_l2, decimals = 2),\n",
    "                                                                dev_requested_l2,\n",
    "                                                                np.around(dev_requested_l2, decimals = 2),\n",
    "                                                                dev_method_l2,\n",
    "                                                                np.around(dev_method_l2, decimals = 2)))\n",
    "    dev_goal_accuracies.append(dev_goal_accuracy)\n",
    "    dev_requested_accuracies.append(dev_requested_accuracy)\n",
    "    dev_method_accuracies.append(dev_method_accuracy)\n",
    "\n",
    "    test_goal_accuracy, \\\n",
    "    test_goal_l2, \\\n",
    "    test_requested_accuracy, \\\n",
    "    test_requested_l2, \\\n",
    "    test_method_accuracy, \\\n",
    "    test_method_l2 = get_scores(model_Goal, model_Requested, model_Method, raw_X_test, raw_Y_test, dataset = \"dstc2_test\")\n",
    "    logging.info(\"TEST Acc:\\t\\t{}({})\\t\\t{}({})\\t\\t{}({})\".format(test_goal_accuracy,\n",
    "                                                                  np.around(test_goal_accuracy, decimals = 2),\n",
    "                                                                  test_requested_accuracy,\n",
    "                                                                  np.around(test_requested_accuracy, decimals = 2),\n",
    "                                                                  test_method_accuracy,\n",
    "                                                                  np.around(test_method_accuracy, decimals = 2)))\n",
    "    logging.info(\"TEST L2:\\t\\t{}({})\\t\\t{}({})\\t\\t{}({})\".format(test_goal_l2,\n",
    "                                                                 np.around(test_goal_l2, decimals = 2),\n",
    "                                                                 test_requested_l2,\n",
    "                                                                 np.around(test_requested_l2, decimals = 2),\n",
    "                                                                 test_method_l2,\n",
    "                                                                 np.around(test_method_l2, decimals = 2)))\n",
    "    test_goal_accuracies.append(test_goal_accuracy)\n",
    "    test_requested_accuracies.append(test_requested_accuracy)\n",
    "    test_method_accuracies.append(test_requested_accuracy)\n",
    "        \n",
    "    method_early_stopping.on_epoch_end(epoch = (epoch + 1),\n",
    "                                    current_value = (dev_method_accuracy))\n",
    "    \n",
    "    if method_early_stopping.stop_training:\n",
    "        break\n",
    "\n",
    "plotly_plot(dev_method_accuracies, test_method_accuracies, \"Method\")"
   ]
  },
  {
   "cell_type": "markdown",
   "metadata": {},
   "source": [
    "### Save Method Model"
   ]
  },
  {
   "cell_type": "code",
   "execution_count": 23,
   "metadata": {},
   "outputs": [],
   "source": [
    "torch.save(model_Method.state_dict(), \"model_GMR_incremental_Method.pt\")"
   ]
  },
  {
   "cell_type": "markdown",
   "metadata": {},
   "source": [
    "### Load Method Model"
   ]
  },
  {
   "cell_type": "code",
   "execution_count": 24,
   "metadata": {},
   "outputs": [
    {
     "data": {
      "text/plain": [
       "MethodModel(\n",
       "  (embeddings): Embedding(1149, 170)\n",
       "  (altered_embeddings): Linear(in_features=171, out_features=300, bias=True)\n",
       "  (lstm): LSTM(300, 100)\n",
       "  (method_classifier): Linear(in_features=100, out_features=5, bias=True)\n",
       ")"
      ]
     },
     "execution_count": 24,
     "metadata": {},
     "output_type": "execute_result"
    }
   ],
   "source": [
    "model_Method = MethodModel(vocabulary_size = VOCABULARY_SIZE,\n",
    "                           embedding_dim = EMBEDDING_DIM,\n",
    "                           altered_embedding_dim = ALTERED_EMBEDDING_DIM,\n",
    "                           hidden_dim = HIDDEN_DIM,\n",
    "                           method_dim = METHOD_DIM,\n",
    "                           device = DEVICE)\n",
    "\n",
    "model_Method = model_Method.to(DEVICE)\n",
    "model_Method.load_state_dict(torch.load(\"model_GMR_incremental_Method.pt\"))\n",
    "model_Method.eval()"
   ]
  },
  {
   "cell_type": "code",
   "execution_count": 25,
   "metadata": {},
   "outputs": [
    {
     "name": "stderr",
     "output_type": "stream",
     "text": [
      "100%|██████████| 506/506 [00:18<00:00, 27.76it/s]\n"
     ]
    },
    {
     "data": {
      "text/plain": [
       "(0.5529197, 0.6093804, 0.9498738, 0.1955142, 0.8823073, 0.0935359)"
      ]
     },
     "execution_count": 25,
     "metadata": {},
     "output_type": "execute_result"
    }
   ],
   "source": [
    "get_scores(model_Goal, model_Requested, model_Method, raw_X_dev, raw_Y_dev, dataset = \"dstc2_dev\")"
   ]
  },
  {
   "cell_type": "code",
   "execution_count": 26,
   "metadata": {},
   "outputs": [
    {
     "name": "stderr",
     "output_type": "stream",
     "text": [
      "100%|██████████| 1117/1117 [00:45<00:00, 24.48it/s]\n"
     ]
    },
    {
     "data": {
      "text/plain": [
       "(0.5751884, 0.5868303, 0.9519014, 0.1433751, 0.9120484, 0.0832362)"
      ]
     },
     "execution_count": 26,
     "metadata": {},
     "output_type": "execute_result"
    }
   ],
   "source": [
    "get_scores(model_Goal, model_Requested, model_Method, raw_X_test, raw_Y_test, dataset = \"dstc2_test\")"
   ]
  }
 ],
 "metadata": {
  "kernelspec": {
   "display_name": "Python 3",
   "language": "python",
   "name": "python3"
  },
  "language_info": {
   "codemirror_mode": {
    "name": "ipython",
    "version": 3
   },
   "file_extension": ".py",
   "mimetype": "text/x-python",
   "name": "python",
   "nbconvert_exporter": "python",
   "pygments_lexer": "ipython3",
   "version": "3.6.5"
  }
 },
 "nbformat": 4,
 "nbformat_minor": 2
}
