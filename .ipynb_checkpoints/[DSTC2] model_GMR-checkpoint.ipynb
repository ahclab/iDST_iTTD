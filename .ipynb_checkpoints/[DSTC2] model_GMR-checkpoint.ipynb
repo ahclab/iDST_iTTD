{
 "cells": [
  {
   "cell_type": "markdown",
   "metadata": {},
   "source": [
    "### Check GPU availability"
   ]
  },
  {
   "cell_type": "code",
   "execution_count": 1,
   "metadata": {},
   "outputs": [
    {
     "name": "stdout",
     "output_type": "stream",
     "text": [
      "Fri Jan  4 15:46:37 2019       \r\n",
      "+-----------------------------------------------------------------------------+\r\n",
      "| NVIDIA-SMI 384.145                Driver Version: 384.145                   |\r\n",
      "|-------------------------------+----------------------+----------------------+\r\n",
      "| GPU  Name        Persistence-M| Bus-Id        Disp.A | Volatile Uncorr. ECC |\r\n",
      "| Fan  Temp  Perf  Pwr:Usage/Cap|         Memory-Usage | GPU-Util  Compute M. |\r\n",
      "|===============================+======================+======================|\r\n",
      "|   0  GeForce GTX 108...  Off  | 00000000:02:00.0 Off |                  N/A |\r\n",
      "| 23%   27C    P8    17W / 250W |    589MiB / 11172MiB |      0%      Default |\r\n",
      "+-------------------------------+----------------------+----------------------+\r\n",
      "|   1  GeForce GTX 108...  Off  | 00000000:03:00.0 Off |                  N/A |\r\n",
      "| 23%   32C    P8    17W / 250W |     10MiB / 11172MiB |      0%      Default |\r\n",
      "+-------------------------------+----------------------+----------------------+\r\n",
      "                                                                               \r\n",
      "+-----------------------------------------------------------------------------+\r\n",
      "| Processes:                                                       GPU Memory |\r\n",
      "|  GPU       PID   Type   Process name                             Usage      |\r\n",
      "|=============================================================================|\r\n",
      "|    0     20825      C   ...e/virtualenvs/iDST-PMaBuuf7/bin/python3   579MiB |\r\n",
      "+-----------------------------------------------------------------------------+\r\n"
     ]
    }
   ],
   "source": [
    "!nvidia-smi"
   ]
  },
  {
   "cell_type": "markdown",
   "metadata": {},
   "source": [
    "### Import libraries"
   ]
  },
  {
   "cell_type": "code",
   "execution_count": 2,
   "metadata": {},
   "outputs": [
    {
     "name": "stderr",
     "output_type": "stream",
     "text": [
      "[nltk_data] Downloading package punkt to /home/is/andrei-\n",
      "[nltk_data]     cc/nltk_data...\n",
      "[nltk_data]   Package punkt is already up-to-date!\n"
     ]
    },
    {
     "data": {
      "text/html": [
       "<script type=\"text/javascript\">window.PlotlyConfig = {MathJaxConfig: 'local'};</script><script type=\"text/javascript\">if (window.MathJax) {MathJax.Hub.Config({SVG: {font: \"STIX-Web\"}});}</script><script>requirejs.config({paths: { 'plotly': ['https://cdn.plot.ly/plotly-latest.min']},});if(!window._Plotly) {require(['plotly'],function(plotly) {window._Plotly=plotly;});}</script>"
      ],
      "text/vnd.plotly.v1+html": [
       "<script type=\"text/javascript\">window.PlotlyConfig = {MathJaxConfig: 'local'};</script><script type=\"text/javascript\">if (window.MathJax) {MathJax.Hub.Config({SVG: {font: \"STIX-Web\"}});}</script><script>requirejs.config({paths: { 'plotly': ['https://cdn.plot.ly/plotly-latest.min']},});if(!window._Plotly) {require(['plotly'],function(plotly) {window._Plotly=plotly;});}</script>"
      ]
     },
     "metadata": {},
     "output_type": "display_data"
    }
   ],
   "source": [
    "import torch\n",
    "import torch.nn as nn\n",
    "import torch.nn.functional as F\n",
    "import torch.optim as optim\n",
    "\n",
    "import math\n",
    "import numpy as np\n",
    "import time\n",
    "import json\n",
    "import plotly\n",
    "import logging\n",
    "logging.getLogger().setLevel(logging.INFO)\n",
    "\n",
    "from pprint import pprint\n",
    "from tqdm import tqdm\n",
    "from idst_util import trivial\n",
    "from idst_util import dstc2\n",
    "\n",
    "from plotly.graph_objs import Scatter, Layout\n",
    "from plotly.graph_objs.layout import Margin\n",
    "plotly.offline.init_notebook_mode(connected = True)"
   ]
  },
  {
   "cell_type": "markdown",
   "metadata": {},
   "source": [
    "### Check DSTC2 availability"
   ]
  },
  {
   "cell_type": "code",
   "execution_count": 3,
   "metadata": {},
   "outputs": [
    {
     "name": "stderr",
     "output_type": "stream",
     "text": [
      "INFO:root:+--------------------------------+\n",
      "INFO:root:|         _ ____  ___________    |\n",
      "INFO:root:|        (_) __ \\/ ___/_  __/    |\n",
      "INFO:root:|       / / / / /\\__ \\ / /       |\n",
      "INFO:root:|      / / /_/ /___/ // /        |\n",
      "INFO:root:|     /_/_____//____//_/         |\n",
      "INFO:root:|                                |\n",
      "INFO:root:+--------------------------------+\n",
      "INFO:root:|Incremental Dialog State Tracker|\n",
      "INFO:root:+--------------------------------+\n",
      "INFO:root:+--------------------------------+\n",
      "INFO:root:|     Dialog State Tracker 2     |\n",
      "INFO:root:|         Data Checker           |\n",
      "INFO:root:+--------------------------------+\n",
      "INFO:root:Looking for dstc2 directory in .\n",
      "INFO:root:dstc2 was found!\n",
      "INFO:root:Looking for dstc2_traindev directory in ./dstc2\n",
      "INFO:root:dstc2_traindev was found!\n",
      "INFO:root:Looking for dstc2_test directory in ./dstc2\n",
      "INFO:root:dstc2_test was found!\n",
      "INFO:root:Looking for dstc2_scripts directory in ./dstc2\n",
      "INFO:root:dstc2_scripts was found!\n",
      "INFO:root:Done!\n"
     ]
    }
   ],
   "source": [
    "trivial.print_idst()\n",
    "dstc2.check()"
   ]
  },
  {
   "cell_type": "markdown",
   "metadata": {},
   "source": [
    "### Retrieve data"
   ]
  },
  {
   "cell_type": "code",
   "execution_count": 4,
   "metadata": {},
   "outputs": [
    {
     "name": "stderr",
     "output_type": "stream",
     "text": [
      "INFO:root:+--------------------------------+\n",
      "INFO:root:|     Dialog State Tracker 2     |\n",
      "INFO:root:|       Dataset Retrieval        |\n",
      "INFO:root:+--------------------------------+\n",
      "INFO:root:Reading dstc2_train.flist, dstc2_dev.flist and ontology_dstc2.json\n",
      "INFO:root:Asserted 1612 dialogs for dstc2_train.flist\n",
      "INFO:root:Asserted 506 dialogs for dstc2_dev.flist\n",
      "INFO:root:Extracting raw train features\n",
      "100%|██████████| 1612/1612 [00:11<00:00, 144.13it/s]\n",
      "INFO:root:Extracting raw dev features\n",
      "100%|██████████| 506/506 [00:03<00:00, 160.29it/s]\n",
      "INFO:root:Reading dstc2_test.flist\n",
      "INFO:root:Asserted 1117 dialogs for dstc2_test.flist\n",
      "INFO:root:Extracting raw test features\n",
      "100%|██████████| 1117/1117 [00:07<00:00, 144.79it/s]\n"
     ]
    }
   ],
   "source": [
    "raw_X_train, raw_Y_train, \\\n",
    "raw_X_dev, raw_Y_dev, \\\n",
    "raw_X_test, raw_Y_test, \\\n",
    "ontology = dstc2.retrieve_raw_datasets(train_data_augmentation = True)"
   ]
  },
  {
   "cell_type": "markdown",
   "metadata": {},
   "source": [
    "### Set device"
   ]
  },
  {
   "cell_type": "code",
   "execution_count": 5,
   "metadata": {},
   "outputs": [
    {
     "name": "stderr",
     "output_type": "stream",
     "text": [
      "INFO:root:+--------------------------------+\n",
      "INFO:root:|            Baseline            |\n",
      "INFO:root:+--------------------------------+\n",
      "INFO:root:Running on GPU 0\n"
     ]
    }
   ],
   "source": [
    "logging.info(\"+--------------------------------+\")\n",
    "logging.info(\"|            Baseline            |\")\n",
    "logging.info(\"+--------------------------------+\")\n",
    "\n",
    "GPU_ID = 0\n",
    "DEVICE = torch.device(\"cuda:{}\".format(GPU_ID) if torch.cuda.is_available() else \"cpu\")\n",
    "#DEVICE = \"cpu\"\n",
    "if DEVICE == \"cpu\":\n",
    "    logging.warning(\"Running on CPU\")\n",
    "else:\n",
    "    logging.info(\"Running on GPU {}\".format(GPU_ID))"
   ]
  },
  {
   "cell_type": "markdown",
   "metadata": {},
   "source": [
    "### Create vocabularies"
   ]
  },
  {
   "cell_type": "code",
   "execution_count": 6,
   "metadata": {},
   "outputs": [
    {
     "name": "stderr",
     "output_type": "stream",
     "text": [
      "INFO:root:+--------------------------------+\n",
      "INFO:root:|          Vocabulary            |\n",
      "INFO:root:+--------------------------------+\n",
      "INFO:root:Creating token_to_index, index_to_token and token_to_count dictionaries\n",
      "100%|██████████| 3224/3224 [00:00<00:00, 20772.27it/s]\n"
     ]
    }
   ],
   "source": [
    "logging.info(\"+--------------------------------+\")\n",
    "logging.info(\"|          Vocabulary            |\")\n",
    "logging.info(\"+--------------------------------+\")\n",
    "logging.info(\"Creating token_to_index, index_to_token and token_to_count dictionaries\")\n",
    "\n",
    "token_to_index = {\"<unk>\": 0}\n",
    "index_to_token = {0: \"<unk>\"}\n",
    "token_to_count = {\"<unk>\": 1}\n",
    "\n",
    "for raw_train_dialog in tqdm(raw_X_train):\n",
    "    \n",
    "    for raw_train_turn in raw_train_dialog[\"turns\"]:\n",
    "        \n",
    "        tokens_scores = raw_train_turn[\"system\"] + raw_train_turn[\"user\"]\n",
    "        \n",
    "        for token_score in tokens_scores:\n",
    "            token = token_score[0]\n",
    "            if token not in token_to_index:\n",
    "                token_to_index[token] = len(token_to_index)\n",
    "                index_to_token[len(token_to_index)] = token\n",
    "                token_to_count[token] = 1\n",
    "            else:\n",
    "                token_to_count[token] += 1\n",
    "                \n",
    "assert len(token_to_index) == len(index_to_token)\n",
    "assert len(token_to_index) == len(token_to_count)"
   ]
  },
  {
   "cell_type": "markdown",
   "metadata": {},
   "source": [
    "### Execution configuration"
   ]
  },
  {
   "cell_type": "code",
   "execution_count": 7,
   "metadata": {},
   "outputs": [
    {
     "name": "stderr",
     "output_type": "stream",
     "text": [
      "INFO:root:+--------------------------------+\n",
      "INFO:root:|         Configuration          |\n",
      "INFO:root:+--------------------------------+\n",
      "INFO:root:VOCABULARY_SIZE:\t\t1149\n",
      "INFO:root:GOAL_FOOD_DIM:\t\t93\n",
      "INFO:root:GOAL_PRICERANGE_DIM:\t\t5\n",
      "INFO:root:GOAL_NAME_DIM:\t\t115\n",
      "INFO:root:GOAL_AREA_DIM:\t\t7\n",
      "INFO:root:METHOD_DIM:\t\t\t5\n",
      "INFO:root:REQUESTED_DIM:\t\t8\n",
      "INFO:root:EMBEDDING_DIM:\t\t170\n",
      "INFO:root:ALTERED_EMBEDDING_DIM:\t300\n",
      "INFO:root:HIDDEN_DIM:\t\t\t100\n",
      "INFO:root:NUM_EPOCHS:\t\t\t30\n",
      "INFO:root:GOAL_LOSS_FUNCTION:\t\tCrossEntropyLoss()\n",
      "INFO:root:METHOD_LOSS_FUNCTION:\t\tCrossEntropyLoss()\n",
      "INFO:root:REQUESTED_LOSS_FUNCTION:\tBCELoss()\n"
     ]
    }
   ],
   "source": [
    "logging.info(\"+--------------------------------+\")\n",
    "logging.info(\"|         Configuration          |\")\n",
    "logging.info(\"+--------------------------------+\")\n",
    "\n",
    "VOCABULARY_SIZE = len(token_to_index)\n",
    "logging.info(\"VOCABULARY_SIZE:\\t\\t{}\".format(VOCABULARY_SIZE))\n",
    "\n",
    "# NOTE: +2 because of null and dontcare\n",
    "GOAL_FOOD_DIM = len(ontology[\"informable\"][\"food\"]) + 2 \n",
    "GOAL_PRICERANGE_DIM = len(ontology[\"informable\"][\"pricerange\"]) + 2\n",
    "GOAL_NAME_DIM = len(ontology[\"informable\"][\"name\"]) + 2\n",
    "GOAL_AREA_DIM = len(ontology[\"informable\"][\"area\"]) + 2\n",
    "METHOD_DIM = len(ontology[\"method\"])\n",
    "REQUESTED_DIM = len(ontology[\"requestable\"])\n",
    "EMBEDDING_DIM = 170\n",
    "ALTERED_EMBEDDING_DIM = 300\n",
    "HIDDEN_DIM = 100\n",
    "NUM_EPOCHS = 30\n",
    "GOAL_LOSS_FUNCTION = nn.CrossEntropyLoss()\n",
    "METHOD_LOSS_FUNCTION = nn.CrossEntropyLoss()\n",
    "REQUESTED_LOSS_FUNCTION = nn.BCELoss()\n",
    "logging.info(\"GOAL_FOOD_DIM:\\t\\t{}\".format(GOAL_FOOD_DIM))\n",
    "logging.info(\"GOAL_PRICERANGE_DIM:\\t\\t{}\".format(GOAL_PRICERANGE_DIM))\n",
    "logging.info(\"GOAL_NAME_DIM:\\t\\t{}\".format(GOAL_NAME_DIM))\n",
    "logging.info(\"GOAL_AREA_DIM:\\t\\t{}\".format(GOAL_AREA_DIM))\n",
    "logging.info(\"METHOD_DIM:\\t\\t\\t{}\".format(METHOD_DIM))\n",
    "logging.info(\"REQUESTED_DIM:\\t\\t{}\".format(REQUESTED_DIM))\n",
    "logging.info(\"EMBEDDING_DIM:\\t\\t{}\".format(EMBEDDING_DIM))\n",
    "logging.info(\"ALTERED_EMBEDDING_DIM:\\t{}\".format(ALTERED_EMBEDDING_DIM))\n",
    "logging.info(\"HIDDEN_DIM:\\t\\t\\t{}\".format(HIDDEN_DIM))\n",
    "logging.info(\"NUM_EPOCHS:\\t\\t\\t{}\".format(NUM_EPOCHS))\n",
    "logging.info(\"GOAL_LOSS_FUNCTION:\\t\\t{}\".format(GOAL_LOSS_FUNCTION))\n",
    "logging.info(\"METHOD_LOSS_FUNCTION:\\t\\t{}\".format(METHOD_LOSS_FUNCTION))\n",
    "logging.info(\"REQUESTED_LOSS_FUNCTION:\\t{}\".format(REQUESTED_LOSS_FUNCTION))"
   ]
  },
  {
   "cell_type": "markdown",
   "metadata": {},
   "source": [
    "### Models utilities"
   ]
  },
  {
   "cell_type": "code",
   "execution_count": 88,
   "metadata": {},
   "outputs": [],
   "source": [
    "def get_index_and_score(turn, token_to_index, mode, device):\n",
    "    indices = []\n",
    "    scores = []\n",
    "    if mode == \"train\":\n",
    "        for system_token, system_token_score in turn[\"system\"]:\n",
    "            indices.append(token_to_index[system_token])\n",
    "            scores.append(system_token_score)\n",
    "        for user_token, user_token_score in turn[\"user\"]:\n",
    "            if np.random.binomial(n = 1, p = 0.1) == 1:\n",
    "                indices.append(token_to_index[\"<unk>\"])\n",
    "            else:\n",
    "                indices.append(token_to_index[user_token])\n",
    "            scores.append(user_token_score)\n",
    "    else:\n",
    "        tokens_scores = turn[\"system\"] + turn[\"user\"]\n",
    "        for token, score in tokens_scores:\n",
    "            if token not in token_to_index:\n",
    "                indices.append(token_to_index[\"<unk>\"])\n",
    "            else:\n",
    "                indices.append(token_to_index[token])\n",
    "            scores.append(score)\n",
    "    assert len(indices) == len(scores)\n",
    "    return torch.tensor(indices, dtype = torch.long, device = device), torch.tensor(scores, dtype = torch.float, device = device)\n",
    "\n",
    "def plotly_plot(dev_accuracies, test_accuracies, accuracy_type):\n",
    "    plotly.offline.iplot({\n",
    "                            \"data\": [Scatter(\n",
    "                                            x = list(range(len(dev_accuracies))),\n",
    "                                            y = dev_accuracies,\n",
    "                                            mode = \"lines+markers\",\n",
    "                                            name = \"Dev {} Accuracy\".format(accuracy_type),\n",
    "                                            marker = dict(color = \"#3498db\")),\n",
    "                                    Scatter(\n",
    "                                            x = list(range(len(test_accuracies))),\n",
    "                                            y = test_accuracies,\n",
    "                                            mode = \"lines+markers\",\n",
    "                                            name = \"Test {} Accuracy\".format(accuracy_type),\n",
    "                                            marker = dict(color = \"#9b59b6\"))],\n",
    "                            \"layout\": Layout(\n",
    "                                             title = \"<b>Dev-Test {} Accuracy</b>\".format(accuracy_type),\n",
    "                                             xaxis = dict(title = \"<b>Epoch</b>\",\n",
    "                                                          dtick = 1,\n",
    "                                                          titlefont = dict(color = \"#34495e\")),\n",
    "                                             yaxis = dict(title = \"<b>Accuracy</b>\",\n",
    "                                                          titlefont = dict(color = \"#34495e\")),\n",
    "                                             margin = Margin(b = 150))\n",
    "                        })\n",
    "\n",
    "class EarlyStopping():\n",
    "    \n",
    "    def __init__(self, min_delta = 0, patience = 1):\n",
    "        \n",
    "        self.min_delta = min_delta\n",
    "        self.patience = patience\n",
    "        self.wait = 0\n",
    "        self.stopped_epoch = 0\n",
    "        self.best = -np.Inf\n",
    "        self.stop_training = False\n",
    "    \n",
    "    def on_epoch_end(self, epoch, current_value):\n",
    "        if np.greater((current_value - self.min_delta), self.best):\n",
    "            self.best = current_value\n",
    "            self.wait = 0\n",
    "        else:\n",
    "            self.wait += 1\n",
    "            if self.wait > self.patience:\n",
    "                self.stopped_epoch = epoch\n",
    "                self.stop_training = True\n",
    "        return self.stop_training\n",
    "\n",
    "get_bin = lambda x, n: format(x, \"b\").zfill(n)\n",
    "\n",
    "def make_tracker(model_Goal, model_Requested, model_Method, raw_X, raw_Y, dataset):\n",
    "    \n",
    "    model_Goal = model_Goal.eval()\n",
    "    model_Requested = model_Requested.eval()\n",
    "    model_Method = model_Method.eval()\n",
    "    \n",
    "    with torch.no_grad():\n",
    "        tracker_json = {}\n",
    "        tracker_json[\"dataset\"] = dataset\n",
    "        tracker_json[\"sessions\"] = []\n",
    "\n",
    "        start_time = time.time()\n",
    "        for raw_X_dialog, raw_Y_dialog in tqdm(zip(raw_X, raw_Y), total = len(raw_X)):\n",
    "            \n",
    "            model_Goal.hidden = model_Goal.init_hidden()\n",
    "            model_Requested.hidden = model_Requested.init_hidden()\n",
    "            model_Method.hidden = model_Method.init_hidden()\n",
    "            \n",
    "            session = {}\n",
    "            session[\"session-id\"] = raw_X_dialog[\"session-id\"]\n",
    "            session[\"turns\"] = []\n",
    "\n",
    "            for raw_X_turn, raw_Y_turn in zip(raw_X_dialog[\"turns\"], raw_Y_dialog[\"turns\"]):\n",
    "                turn = {}\n",
    "                turn[\"goal-labels\"] = {}\n",
    "\n",
    "                indices, scores = get_index_and_score(raw_X_turn, token_to_index, mode = \"eval\", device = DEVICE)\n",
    "                \n",
    "                goal_food, goal_pricerange, goal_name, goal_area = model_Goal(indices, scores)\n",
    "                requested = model_Requested(indices, scores)\n",
    "                method = model_Method(indices, scores)\n",
    "                turn[\"goal-labels\"][\"food\"] = retrieve_output_GoalFood(goal_food, ontology)\n",
    "                turn[\"goal-labels\"][\"pricerange\"] = retrieve_output_GoalPricerange(goal_pricerange, ontology)\n",
    "                turn[\"goal-labels\"][\"name\"] = retrieve_output_GoalName(goal_name, ontology)\n",
    "                turn[\"goal-labels\"][\"area\"] = retrieve_output_GoalArea(goal_area, ontology)\n",
    "                turn[\"requested-slots\"] = retrieve_output_Requested(requested, ontology)\n",
    "                turn[\"method-label\"] = retrieve_output_Method(method, ontology)\n",
    "                \n",
    "                session[\"turns\"].append(turn)\n",
    "            tracker_json[\"sessions\"].append(session)\n",
    "        end_time = time.time()\n",
    "        tracker_json[\"wall-time\"] = end_time - start_time\n",
    "        \n",
    "        return tracker_json\n",
    "\n",
    "def get_scores(model_Goal, model_Requested, model_Method, raw_X, raw_Y, dataset):\n",
    "    goal_accuracy = 0\n",
    "    requested_accuracy = 0\n",
    "    method_accuracy = 0\n",
    "    \n",
    "    tracker = make_tracker(model_Goal, model_Requested, model_Method, raw_X, raw_Y, dataset = dataset)\n",
    "    \n",
    "    with open(\"tracker.json\", \"w\") as tracker_file:\n",
    "        json.dump(tracker, tracker_file)\n",
    "    \n",
    "    if dataset == \"dstc2_train\":\n",
    "        !python2 dstc2/dstc2_scripts/score.py\\\n",
    "        --dataset dstc2_train\\\n",
    "        --dataroot dstc2/dstc2_traindev/data\\\n",
    "        --ontology dstc2/dstc2_scripts/config/ontology_dstc2.json\\\n",
    "        --trackfile tracker.json\\\n",
    "        --scorefile tracker.score.csv\n",
    "    elif dataset == \"dstc2_dev\":\n",
    "        !python2 dstc2/dstc2_scripts/score.py\\\n",
    "        --dataset dstc2_dev\\\n",
    "        --dataroot dstc2/dstc2_traindev/data\\\n",
    "        --ontology dstc2/dstc2_scripts/config/ontology_dstc2.json\\\n",
    "        --trackfile tracker.json\\\n",
    "        --scorefile tracker.score.csv\n",
    "    else:\n",
    "        !python2 dstc2/dstc2_scripts/score.py\\\n",
    "        --dataset dstc2_test\\\n",
    "        --dataroot dstc2/dstc2_test/data\\\n",
    "        --ontology dstc2/dstc2_scripts/config/ontology_dstc2.json\\\n",
    "        --trackfile tracker.json\\\n",
    "        --scorefile tracker.score.csv\n",
    "\n",
    "    file_cat = !python2 dstc2/dstc2_scripts/report.py --scorefile tracker.score.csv\n",
    "    \n",
    "    found_accuracies = False\n",
    "    for line in file_cat:\n",
    "        if line.startswith(\"Accuracy\"):\n",
    "            accuracies = line.split(\"|\")\n",
    "            goal_accuracy = float(accuracies[1])\n",
    "            requested_accuracy = float(accuracies[2])\n",
    "            method_accuracy = float(accuracies[3])\n",
    "            found_accuracies = True\n",
    "        if found_accuracies and line.startswith(\"l2\"):\n",
    "            l2s = line.split(\"|\")\n",
    "            goal_l2 = float(l2s[1])\n",
    "            method_l2 = float(l2s[2])\n",
    "            requested_l2 = float(l2s[3])\n",
    "    \n",
    "    return goal_accuracy, goal_l2, requested_accuracy, requested_l2, method_accuracy, method_l2\n",
    "\n",
    "def retrieve_gold_GoalFood(raw_Y, ontology, device):\n",
    "    ontology_informable_food = ontology[\"informable\"][\"food\"]\n",
    "    raw_goal_food = raw_Y[\"goal\"][\"food\"]\n",
    "    goal_food = 0\n",
    "    if raw_goal_food != None:\n",
    "        if raw_goal_food == \"dontcare\":\n",
    "            goal_food = 1\n",
    "        else:    \n",
    "            goal_food = ontology_informable_food.index(raw_goal_food) + 2\n",
    "    return torch.tensor([goal_food], dtype = torch.long, device = device)\n",
    "\n",
    "def retrieve_output_GoalFood(output_tensor, ontology):\n",
    "    ontology_informable_food = ontology[\"informable\"][\"food\"]\n",
    "    output_tensor = output_tensor.view(-1)\n",
    "    output_tensor = torch.exp(output_tensor)\n",
    "    goal_food_dict = {}\n",
    "    \n",
    "    index = torch.argmax(output_tensor).item()\n",
    "    goal_food_dict[\"dontcare\"] = output_tensor[1].item() \n",
    "    for index in range(len(output_tensor) - 2):\n",
    "        goal_food_dict[ontology_informable_food[index]] = output_tensor[index + 2].item()\n",
    "    return goal_food_dict\n",
    "\n",
    "def retrieve_gold_GoalPriceRange(raw_Y, ontology, device):\n",
    "    ontology_informable_pricerange = ontology[\"informable\"][\"pricerange\"]\n",
    "    raw_goal_pricerange = raw_Y[\"goal\"][\"pricerange\"]\n",
    "    goal_pricerange = 0\n",
    "    if raw_goal_pricerange != None:\n",
    "        if raw_goal_pricerange == \"dontcare\":\n",
    "            goal_pricerange = 1\n",
    "        else:    \n",
    "            goal_pricerange = ontology_informable_pricerange.index(raw_goal_pricerange) + 2\n",
    "    return torch.tensor([goal_pricerange], dtype = torch.long, device = device)\n",
    "\n",
    "def retrieve_output_GoalPricerange(output_tensor, ontology):\n",
    "    ontology_informable_pricerange = ontology[\"informable\"][\"pricerange\"]\n",
    "    output_tensor = output_tensor.view(-1)\n",
    "    output_tensor = torch.exp(output_tensor)\n",
    "    goal_pricerange_dict = {}\n",
    "    \n",
    "    index = torch.argmax(output_tensor).item()\n",
    "    goal_pricerange_dict[\"dontcare\"] = output_tensor[1].item()\n",
    "    for index in range(len(output_tensor) - 2):     \n",
    "        goal_pricerange_dict[ontology_informable_pricerange[index]] = output_tensor[index + 2].item()\n",
    "    return goal_pricerange_dict\n",
    "\n",
    "def retrieve_gold_GoalName(raw_Y, ontology, device):\n",
    "    ontology_informable_name = ontology[\"informable\"][\"name\"]\n",
    "    raw_goal_name = raw_Y[\"goal\"][\"name\"]\n",
    "    goal_name = 0\n",
    "    if raw_goal_name != None:\n",
    "        if raw_goal_name == \"dontcare\":\n",
    "            goal_name = 1\n",
    "        else:    \n",
    "            goal_name = ontology_informable_name.index(raw_goal_name) + 2\n",
    "    return torch.tensor([goal_name], dtype = torch.long, device = device)\n",
    "\n",
    "def retrieve_output_GoalName(output_tensor, ontology):\n",
    "    ontology_informable_name = ontology[\"informable\"][\"name\"]\n",
    "    output_tensor = output_tensor.view(-1)\n",
    "    output_tensor = torch.exp(output_tensor)\n",
    "    goal_name_dict = {}\n",
    "    \n",
    "    index = torch.argmax(output_tensor).item()\n",
    "    goal_name_dict[\"dontcare\"] = output_tensor[1].item()\n",
    "    for index in range(len(output_tensor) - 2):\n",
    "        goal_name_dict[ontology_informable_name[index]] = output_tensor[index + 2].item()\n",
    "        \n",
    "    return goal_name_dict\n",
    "\n",
    "def retrieve_gold_GoalArea(raw_Y, ontology, device):\n",
    "    ontology_informable_area = ontology[\"informable\"][\"area\"]\n",
    "    raw_goal_area = raw_Y[\"goal\"][\"area\"]\n",
    "    goal_area = 0\n",
    "    if raw_goal_area != None:\n",
    "        if raw_goal_area == \"dontcare\":\n",
    "            goal_area = 1\n",
    "        else:    \n",
    "            goal_area = ontology_informable_area.index(raw_goal_area) + 2\n",
    "    return torch.tensor([goal_area], dtype = torch.long, device = device)\n",
    "\n",
    "def retrieve_output_GoalArea(output_tensor, ontology):\n",
    "    ontology_informable_area = ontology[\"informable\"][\"area\"]\n",
    "    output_tensor = output_tensor.view(-1)\n",
    "    output_tensor = torch.exp(output_tensor)\n",
    "    goal_area_dict = {}\n",
    "    \n",
    "    index = torch.argmax(output_tensor).item()\n",
    "    goal_area_dict[\"dontcare\"] = output_tensor[1].item()\n",
    "    for index in range(len(output_tensor) - 2):\n",
    "        goal_area_dict[ontology_informable_area[index]] = output_tensor[index + 2].item()\n",
    "        \n",
    "    return goal_area_dict\n",
    "\n",
    "def retrieve_gold_Method(raw_Y, ontology, device):\n",
    "    ontology_method = ontology[\"method\"]\n",
    "    raw_gold_method = raw_Y[\"method\"]\n",
    "    gold_method = ontology_method.index(raw_gold_method)\n",
    "    return torch.tensor([gold_method], dtype = torch.long, device = device)\n",
    "\n",
    "def retrieve_output_Method(output_tensor, ontology):\n",
    "    ontology_method = ontology[\"method\"]\n",
    "    output_tensor = output_tensor.view(-1)\n",
    "    output_tensor = torch.exp(output_tensor)\n",
    "    method_dict = {}\n",
    "    \n",
    "    for index in range(len(output_tensor)):\n",
    "        method_dict[ontology_method[index]] = output_tensor[index].item()\n",
    "    \n",
    "    return method_dict\n",
    "\n",
    "def retrieve_gold_Requested(raw_Y, ontology, device):\n",
    "    ontology_requestable = ontology[\"requestable\"]\n",
    "    raw_gold_requested = raw_Y[\"requested\"]\n",
    "    gold_requested = np.zeros(len(ontology_requestable), dtype = float)\n",
    "    if len(raw_gold_requested) != 0:\n",
    "        for requested in raw_gold_requested:\n",
    "            gold_requested[ontology_requestable.index(requested)] = 1.0\n",
    "    return torch.tensor([gold_requested], dtype = torch.float, device = device)\n",
    "\n",
    "def retrieve_output_Requested(output_tensor, ontology):\n",
    "    ontology_requestable = ontology[\"requestable\"]\n",
    "    output_tensor = output_tensor.view(-1)\n",
    "    requested_dict = {}\n",
    "    for index in range(len(output_tensor)):\n",
    "        probability_value = output_tensor[index].item()\n",
    "        if np.greater_equal(probability_value, 0.5):\n",
    "            requested_dict[ontology_requestable[index]] = probability_value\n",
    "    return requested_dict"
   ]
  },
  {
   "cell_type": "code",
   "execution_count": 89,
   "metadata": {
    "scrolled": true
   },
   "outputs": [
    {
     "name": "stderr",
     "output_type": "stream",
     "text": [
      "100%|██████████| 506/506 [00:17<00:00, 29.46it/s]\n"
     ]
    },
    {
     "data": {
      "text/plain": [
       "(0.9911366, 0.0178883, 0.9653805, 0.1578462, 0.9042938, 0.0643769)"
      ]
     },
     "execution_count": 89,
     "metadata": {},
     "output_type": "execute_result"
    }
   ],
   "source": [
    "get_scores(model_Goal, model_Requested, model_Method, raw_X_dev, raw_Y_dev, dataset = \"dstc2_dev\")"
   ]
  },
  {
   "cell_type": "markdown",
   "metadata": {},
   "source": [
    "### Goal Model"
   ]
  },
  {
   "cell_type": "code",
   "execution_count": 13,
   "metadata": {},
   "outputs": [],
   "source": [
    "class GoalModel(nn.Module):\n",
    "    \n",
    "    def __init__(self,\n",
    "                 vocabulary_size,\n",
    "                 embedding_dim,\n",
    "                 altered_embedding_dim,\n",
    "                 hidden_dim,\n",
    "                 goal_food_dim,\n",
    "                 goal_pricerange_dim,\n",
    "                 goal_name_dim,\n",
    "                 goal_area_dim,\n",
    "                 device):\n",
    "        \n",
    "        super(GoalModel, self).__init__()\n",
    "        \n",
    "        self.hidden_dim = hidden_dim\n",
    "        self.goal_food_dim = goal_food_dim\n",
    "        self.goal_pricerange_dim = goal_pricerange_dim\n",
    "        self.goal_name_dim = goal_name_dim\n",
    "        self.goal_area_dim = goal_area_dim\n",
    "        self.device = device\n",
    "        \n",
    "        self.embeddings = nn.Embedding(num_embeddings = vocabulary_size,\n",
    "                                       embedding_dim = embedding_dim)\n",
    "        \n",
    "        self.altered_embeddings = nn.Linear(in_features = (embedding_dim + 1),\n",
    "                                            out_features = altered_embedding_dim)\n",
    "        \n",
    "        self.lstm = nn.LSTM(input_size = altered_embedding_dim,\n",
    "                            hidden_size = hidden_dim)\n",
    "        \n",
    "        self.goal_food_classifier = nn.Linear(in_features = hidden_dim,\n",
    "                                              out_features = goal_food_dim)\n",
    "        \n",
    "        self.goal_pricerange_classifier = nn.Linear(in_features = hidden_dim,\n",
    "                                                    out_features = goal_pricerange_dim)\n",
    "        \n",
    "        self.goal_name_classifier = nn.Linear(in_features = hidden_dim,\n",
    "                                              out_features = goal_name_dim)\n",
    "        \n",
    "        self.goal_area_classifier = nn.Linear(in_features = hidden_dim,\n",
    "                                              out_features = goal_area_dim)\n",
    "        \n",
    "        self.hidden = self.init_hidden()\n",
    "    \n",
    "    def init_hidden(self):\n",
    "        \n",
    "        return (torch.zeros(1, 1, self.hidden_dim, device = self.device),\n",
    "                torch.zeros(1, 1, self.hidden_dim, device = self.device))\n",
    "        \n",
    "    def forward(self, indices, scores):\n",
    "    \n",
    "        embeddings = self.embeddings(indices)\n",
    "        \n",
    "        embeddings_concat_score = torch.cat((embeddings, scores.unsqueeze(dim = 1)), dim = 1) \n",
    "        \n",
    "        altered_embeddings = F.relu(self.altered_embeddings(embeddings_concat_score))\n",
    "        \n",
    "        lstm_out, self.hidden = self.lstm(altered_embeddings.view(len(indices), 1, -1), self.hidden)\n",
    "        \n",
    "        goal_food = F.log_softmax(self.goal_food_classifier(self.hidden[0]).view(-1, self.goal_food_dim), dim = 1)        \n",
    "        \n",
    "        goal_pricerange = F.log_softmax(self.goal_pricerange_classifier(self.hidden[0]).view(-1, self.goal_pricerange_dim), dim = 1) \n",
    "        \n",
    "        goal_name = F.log_softmax(self.goal_name_classifier(self.hidden[0]).view(-1, self.goal_name_dim), dim = 1)\n",
    "        \n",
    "        goal_area = F.log_softmax(self.goal_area_classifier(self.hidden[0]).view(-1, self.goal_area_dim), dim = 1)\n",
    "        \n",
    "        return goal_food, goal_pricerange, goal_name, goal_area\n",
    "\n",
    "model_Goal = GoalModel(vocabulary_size = VOCABULARY_SIZE,\n",
    "                       embedding_dim = EMBEDDING_DIM,\n",
    "                       altered_embedding_dim = ALTERED_EMBEDDING_DIM,\n",
    "                       hidden_dim = HIDDEN_DIM,\n",
    "                       goal_food_dim = GOAL_FOOD_DIM,\n",
    "                       goal_pricerange_dim = GOAL_PRICERANGE_DIM,\n",
    "                       goal_name_dim = GOAL_NAME_DIM,\n",
    "                       goal_area_dim = GOAL_AREA_DIM,\n",
    "                       device = DEVICE)\n",
    "\n",
    "model_Goal = model_Goal.to(DEVICE)\n",
    "\n",
    "optimizer_GoalModel = optim.Adam(model_Goal.parameters(), lr = 1e-4)"
   ]
  },
  {
   "cell_type": "markdown",
   "metadata": {},
   "source": [
    "### Requested Model"
   ]
  },
  {
   "cell_type": "code",
   "execution_count": 22,
   "metadata": {},
   "outputs": [],
   "source": [
    "class RequestedModel(nn.Module):\n",
    "    \n",
    "    def __init__(self,\n",
    "                 vocabulary_size,\n",
    "                 embedding_dim,\n",
    "                 altered_embedding_dim,\n",
    "                 hidden_dim,\n",
    "                 requested_dim,\n",
    "                 device):\n",
    "        \n",
    "        super(RequestedModel, self).__init__()\n",
    "        \n",
    "        self.hidden_dim = hidden_dim\n",
    "        self.requested_dim = requested_dim\n",
    "        self.device = device\n",
    "        \n",
    "        self.embeddings = nn.Embedding(num_embeddings = vocabulary_size,\n",
    "                                       embedding_dim = embedding_dim)\n",
    "        \n",
    "        self.altered_embeddings = nn.Linear(in_features = (embedding_dim + 1),\n",
    "                                            out_features = altered_embedding_dim)\n",
    "        \n",
    "        self.lstm = nn.LSTM(input_size = altered_embedding_dim,\n",
    "                            hidden_size = hidden_dim)\n",
    "        \n",
    "        self.requested_classifier = nn.Linear(in_features = hidden_dim,\n",
    "                                              out_features = requested_dim)\n",
    "        \n",
    "        self.hidden = self.init_hidden()\n",
    "    \n",
    "    def init_hidden(self):\n",
    "        \n",
    "        return (torch.zeros(1, 1, self.hidden_dim, device = self.device),\n",
    "                torch.zeros(1, 1, self.hidden_dim, device = self.device))\n",
    "        \n",
    "    def forward(self, indices, scores):\n",
    "    \n",
    "        embeddings = self.embeddings(indices)\n",
    "        \n",
    "        embeddings_concat_score = torch.cat((embeddings, scores.unsqueeze(dim = 1)), dim = 1) \n",
    "        \n",
    "        altered_embeddings = F.relu(self.altered_embeddings(embeddings_concat_score))\n",
    "        \n",
    "        lstm_out, self.hidden = self.lstm(altered_embeddings.view(len(indices), 1, -1), self.hidden)\n",
    "        \n",
    "        requested = torch.sigmoid(self.requested_classifier(self.hidden[0]).view(-1, self.requested_dim))\n",
    "        \n",
    "        return requested\n",
    "\n",
    "model_Requested = RequestedModel(vocabulary_size = VOCABULARY_SIZE,\n",
    "                                 embedding_dim = EMBEDDING_DIM,\n",
    "                                 altered_embedding_dim = ALTERED_EMBEDDING_DIM,\n",
    "                                 hidden_dim = HIDDEN_DIM,\n",
    "                                 requested_dim = REQUESTED_DIM,\n",
    "                                 device = DEVICE)\n",
    "\n",
    "model_Requested = model_Requested.to(DEVICE)\n",
    "\n",
    "optimizer_RequestedModel = optim.Adam(model_Requested.parameters(), lr = 1e-4)"
   ]
  },
  {
   "cell_type": "markdown",
   "metadata": {},
   "source": [
    "### Method Model"
   ]
  },
  {
   "cell_type": "code",
   "execution_count": 29,
   "metadata": {},
   "outputs": [],
   "source": [
    "class MethodModel(nn.Module):\n",
    "    \n",
    "    def __init__(self,\n",
    "                 vocabulary_size,\n",
    "                 embedding_dim,\n",
    "                 altered_embedding_dim,\n",
    "                 hidden_dim,\n",
    "                 method_dim,\n",
    "                 device):\n",
    "        \n",
    "        super(MethodModel, self).__init__()\n",
    "        \n",
    "        self.hidden_dim = hidden_dim\n",
    "        self.method_dim = method_dim\n",
    "        self.device = device\n",
    "        \n",
    "        self.embeddings = nn.Embedding(num_embeddings = vocabulary_size,\n",
    "                                       embedding_dim = embedding_dim)\n",
    "        \n",
    "        self.altered_embeddings = nn.Linear(in_features = (embedding_dim + 1),\n",
    "                                            out_features = altered_embedding_dim)\n",
    "        \n",
    "        self.lstm = nn.LSTM(input_size = altered_embedding_dim,\n",
    "                            hidden_size = hidden_dim)\n",
    "        \n",
    "        self.method_classifier = nn.Linear(in_features = hidden_dim,\n",
    "                                           out_features = method_dim)\n",
    "        \n",
    "        self.hidden = self.init_hidden()\n",
    "    \n",
    "    def init_hidden(self):\n",
    "        \n",
    "        return (torch.zeros(1, 1, self.hidden_dim, device = self.device),\n",
    "                torch.zeros(1, 1, self.hidden_dim, device = self.device))\n",
    "        \n",
    "    def forward(self, indices, scores):\n",
    "    \n",
    "        embeddings = self.embeddings(indices)\n",
    "        \n",
    "        embeddings_concat_score = torch.cat((embeddings, scores.unsqueeze(dim = 1)), dim = 1) \n",
    "        \n",
    "        altered_embeddings = F.relu(self.altered_embeddings(embeddings_concat_score))\n",
    "        \n",
    "        lstm_out, self.hidden = self.lstm(altered_embeddings.view(len(indices), 1, -1), self.hidden)\n",
    "        \n",
    "        method = F.log_softmax(self.method_classifier(self.hidden[0]).view(-1, self.method_dim), dim = 1)\n",
    "        \n",
    "        return method\n",
    "\n",
    "model_Method = MethodModel(vocabulary_size = VOCABULARY_SIZE,\n",
    "                           embedding_dim = EMBEDDING_DIM,\n",
    "                           altered_embedding_dim = ALTERED_EMBEDDING_DIM,\n",
    "                           hidden_dim = HIDDEN_DIM,\n",
    "                           method_dim = METHOD_DIM,\n",
    "                           device = DEVICE)\n",
    "\n",
    "model_Method = model_Method.to(DEVICE)\n",
    "\n",
    "optimizer_MethodModel = optim.Adam(model_Method.parameters(), lr = 1e-4)"
   ]
  },
  {
   "cell_type": "markdown",
   "metadata": {},
   "source": [
    "### Train Goal Model"
   ]
  },
  {
   "cell_type": "code",
   "execution_count": 16,
   "metadata": {
    "scrolled": false
   },
   "outputs": [
    {
     "name": "stderr",
     "output_type": "stream",
     "text": [
      "INFO:root:Epoch\t1/30\n",
      "100%|██████████| 3224/3224 [02:06<00:00, 26.86it/s]\n",
      "100%|██████████| 506/506 [00:10<00:00, 48.12it/s]\n",
      "INFO:root:DEV Acc:\t\t0.3769552(0.38)\t\t0.4352687(0.44)\t\t0.195551(0.2)\n",
      "INFO:root:DEV L2:\t\t0.835278(0.84)\t\t0.7988181(0.8)\t\t0.5059599(0.51)\n",
      "100%|██████████| 1117/1117 [00:28<00:00, 44.00it/s]\n",
      "INFO:root:TEST Acc:\t\t0.3529776(0.35)\t\t0.4717833(0.47)\t\t0.1707718(0.17)\n",
      "INFO:root:TEST L2:\t\t0.8594798(0.86)\t\t0.8002195(0.8)\t\t0.4903061(0.49)\n",
      "INFO:root:Epoch\t2/30\n",
      "100%|██████████| 3224/3224 [02:07<00:00, 25.29it/s]\n",
      "100%|██████████| 506/506 [00:11<00:00, 44.43it/s]\n",
      "INFO:root:DEV Acc:\t\t0.5336288(0.53)\t\t0.4352687(0.44)\t\t0.195551(0.2)\n",
      "INFO:root:DEV L2:\t\t0.6680517(0.67)\t\t0.7988181(0.8)\t\t0.5059599(0.51)\n",
      "100%|██████████| 1117/1117 [00:29<00:00, 38.19it/s]\n",
      "INFO:root:TEST Acc:\t\t0.5580555(0.56)\t\t0.4717833(0.47)\t\t0.1707718(0.17)\n",
      "INFO:root:TEST L2:\t\t0.6381853(0.64)\t\t0.8002195(0.8)\t\t0.4903061(0.49)\n",
      "INFO:root:Epoch\t3/30\n",
      "100%|██████████| 3224/3224 [02:07<00:00, 18.39it/s]\n",
      "100%|██████████| 506/506 [00:10<00:00, 47.30it/s]\n",
      "INFO:root:DEV Acc:\t\t0.5576121(0.56)\t\t0.4352687(0.44)\t\t0.195551(0.2)\n",
      "INFO:root:DEV L2:\t\t0.6252799(0.63)\t\t0.7988181(0.8)\t\t0.5059599(0.51)\n",
      "100%|██████████| 1117/1117 [00:29<00:00, 43.53it/s]\n",
      "INFO:root:TEST Acc:\t\t0.6080091(0.61)\t\t0.4717833(0.47)\t\t0.1707718(0.17)\n",
      "INFO:root:TEST L2:\t\t0.5635845(0.56)\t\t0.8002195(0.8)\t\t0.4903061(0.49)\n",
      "INFO:root:Epoch\t4/30\n",
      "100%|██████████| 3224/3224 [02:07<00:00, 22.61it/s]\n",
      "100%|██████████| 506/506 [00:10<00:00, 47.60it/s]\n",
      "INFO:root:DEV Acc:\t\t0.6014077(0.6)\t\t0.4352687(0.44)\t\t0.195551(0.2)\n",
      "INFO:root:DEV L2:\t\t0.5956738(0.6)\t\t0.7988181(0.8)\t\t0.5059599(0.51)\n",
      "100%|██████████| 1117/1117 [00:29<00:00, 37.65it/s]\n",
      "INFO:root:TEST Acc:\t\t0.6196718(0.62)\t\t0.4717833(0.47)\t\t0.1707718(0.17)\n",
      "INFO:root:TEST L2:\t\t0.5701276(0.57)\t\t0.8002195(0.8)\t\t0.4903061(0.49)\n",
      "INFO:root:Epoch\t5/30\n",
      "100%|██████████| 3224/3224 [02:07<00:00, 25.35it/s]\n",
      "100%|██████████| 506/506 [00:10<00:00, 46.59it/s]\n",
      "INFO:root:DEV Acc:\t\t0.6136601(0.61)\t\t0.4352687(0.44)\t\t0.195551(0.2)\n",
      "INFO:root:DEV L2:\t\t0.5821973(0.58)\t\t0.7988181(0.8)\t\t0.5059599(0.51)\n",
      "100%|██████████| 1117/1117 [00:28<00:00, 44.19it/s]\n",
      "INFO:root:TEST Acc:\t\t0.6427908(0.64)\t\t0.4717833(0.47)\t\t0.1707718(0.17)\n",
      "INFO:root:TEST L2:\t\t0.5326411(0.53)\t\t0.8002195(0.8)\t\t0.4903061(0.49)\n",
      "INFO:root:Epoch\t6/30\n",
      "100%|██████████| 3224/3224 [02:07<00:00, 25.37it/s]\n",
      "100%|██████████| 506/506 [00:10<00:00, 46.40it/s]\n",
      "INFO:root:DEV Acc:\t\t0.6136601(0.61)\t\t0.4352687(0.44)\t\t0.195551(0.2)\n",
      "INFO:root:DEV L2:\t\t0.5935619(0.59)\t\t0.7988181(0.8)\t\t0.5059599(0.51)\n",
      "100%|██████████| 1117/1117 [00:28<00:00, 39.64it/s]\n",
      "INFO:root:TEST Acc:\t\t0.6274125(0.63)\t\t0.4717833(0.47)\t\t0.1707718(0.17)\n",
      "INFO:root:TEST L2:\t\t0.5720471(0.57)\t\t0.8002195(0.8)\t\t0.4903061(0.49)\n",
      "INFO:root:Epoch\t7/30\n",
      "100%|██████████| 3224/3224 [02:06<00:00, 24.92it/s]\n",
      "100%|██████████| 506/506 [00:10<00:00, 47.68it/s]\n",
      "INFO:root:DEV Acc:\t\t0.605318(0.61)\t\t0.4352687(0.44)\t\t0.195551(0.2)\n",
      "INFO:root:DEV L2:\t\t0.6024947(0.6)\t\t0.7988181(0.8)\t\t0.5059599(0.51)\n",
      "100%|██████████| 1117/1117 [00:29<00:00, 38.18it/s]\n",
      "INFO:root:TEST Acc:\t\t0.634018(0.63)\t\t0.4717833(0.47)\t\t0.1707718(0.17)\n",
      "INFO:root:TEST L2:\t\t0.5732624(0.57)\t\t0.8002195(0.8)\t\t0.4903061(0.49)\n",
      "INFO:root:Epoch\t8/30\n",
      "100%|██████████| 3224/3224 [02:07<00:00, 17.83it/s]\n",
      "100%|██████████| 506/506 [00:10<00:00, 47.19it/s]\n",
      "INFO:root:DEV Acc:\t\t0.62878(0.63)\t\t0.4352687(0.44)\t\t0.195551(0.2)\n",
      "INFO:root:DEV L2:\t\t0.5851497(0.59)\t\t0.7988181(0.8)\t\t0.5059599(0.51)\n",
      "100%|██████████| 1117/1117 [00:28<00:00, 44.41it/s]\n",
      "INFO:root:TEST Acc:\t\t0.6254515(0.63)\t\t0.4717833(0.47)\t\t0.1707718(0.17)\n",
      "INFO:root:TEST L2:\t\t0.6014412(0.6)\t\t0.8002195(0.8)\t\t0.4903061(0.49)\n",
      "INFO:root:Epoch\t9/30\n",
      "100%|██████████| 3224/3224 [02:05<00:00, 23.97it/s]\n",
      "100%|██████████| 506/506 [00:10<00:00, 46.35it/s]\n",
      "INFO:root:DEV Acc:\t\t0.6240876(0.62)\t\t0.4352687(0.44)\t\t0.195551(0.2)\n",
      "INFO:root:DEV L2:\t\t0.5710179(0.57)\t\t0.7988181(0.8)\t\t0.5059599(0.51)\n",
      "100%|██████████| 1117/1117 [00:28<00:00, 41.95it/s]\n",
      "INFO:root:TEST Acc:\t\t0.6397977(0.64)\t\t0.4717833(0.47)\t\t0.1707718(0.17)\n",
      "INFO:root:TEST L2:\t\t0.5554654(0.56)\t\t0.8002195(0.8)\t\t0.4903061(0.49)\n",
      "INFO:root:Epoch\t10/30\n",
      "100%|██████████| 3224/3224 [02:07<00:00, 25.37it/s]\n",
      "100%|██████████| 506/506 [00:11<00:00, 47.03it/s]\n",
      "INFO:root:DEV Acc:\t\t0.6243483(0.62)\t\t0.4352687(0.44)\t\t0.195551(0.2)\n",
      "INFO:root:DEV L2:\t\t0.5945863(0.59)\t\t0.7988181(0.8)\t\t0.5059599(0.51)\n",
      "100%|██████████| 1117/1117 [00:29<00:00, 41.34it/s]\n",
      "INFO:root:TEST Acc:\t\t0.6438229(0.64)\t\t0.4717833(0.47)\t\t0.1707718(0.17)\n",
      "INFO:root:TEST L2:\t\t0.5779944(0.58)\t\t0.8002195(0.8)\t\t0.4903061(0.49)\n",
      "INFO:root:Epoch\t11/30\n",
      "100%|██████████| 3224/3224 [02:07<00:00, 27.32it/s]\n",
      "100%|██████████| 506/506 [00:11<00:00, 45.13it/s]\n",
      "INFO:root:DEV Acc:\t\t0.6366006(0.64)\t\t0.4352687(0.44)\t\t0.195551(0.2)\n",
      "INFO:root:DEV L2:\t\t0.5601862(0.56)\t\t0.7988181(0.8)\t\t0.5059599(0.51)\n",
      "100%|██████████| 1117/1117 [00:29<00:00, 38.38it/s]\n",
      "INFO:root:TEST Acc:\t\t0.6181236(0.62)\t\t0.4717833(0.47)\t\t0.1707718(0.17)\n",
      "INFO:root:TEST L2:\t\t0.6124894(0.61)\t\t0.8002195(0.8)\t\t0.4903061(0.49)\n",
      "INFO:root:Epoch\t12/30\n",
      "100%|██████████| 3224/3224 [02:05<00:00, 26.44it/s]\n",
      "100%|██████████| 506/506 [00:11<00:00, 45.55it/s]\n",
      "INFO:root:DEV Acc:\t\t0.6303441(0.63)\t\t0.4352687(0.44)\t\t0.195551(0.2)\n",
      "INFO:root:DEV L2:\t\t0.5751453(0.58)\t\t0.7988181(0.8)\t\t0.5059599(0.51)\n",
      "100%|██████████| 1117/1117 [00:29<00:00, 38.03it/s]\n",
      "INFO:root:TEST Acc:\t\t0.6385592(0.64)\t\t0.4717833(0.47)\t\t0.1707718(0.17)\n",
      "INFO:root:TEST L2:\t\t0.572953(0.57)\t\t0.8002195(0.8)\t\t0.4903061(0.49)\n",
      "INFO:root:Epoch\t13/30\n",
      "100%|██████████| 3224/3224 [02:06<00:00, 31.54it/s]\n",
      "100%|██████████| 506/506 [00:11<00:00, 47.10it/s]\n",
      "INFO:root:DEV Acc:\t\t0.6110532(0.61)\t\t0.4352687(0.44)\t\t0.195551(0.2)\n",
      "INFO:root:DEV L2:\t\t0.5919309(0.59)\t\t0.7988181(0.8)\t\t0.5059599(0.51)\n",
      "100%|██████████| 1117/1117 [00:29<00:00, 38.42it/s]\n",
      "INFO:root:TEST Acc:\t\t0.6441325(0.64)\t\t0.4717833(0.47)\t\t0.1707718(0.17)\n",
      "INFO:root:TEST L2:\t\t0.5540672(0.55)\t\t0.8002195(0.8)\t\t0.4903061(0.49)\n",
      "INFO:root:Epoch\t14/30\n",
      "100%|██████████| 3224/3224 [02:06<00:00, 28.65it/s]\n",
      "100%|██████████| 506/506 [00:10<00:00, 46.99it/s]\n",
      "INFO:root:DEV Acc:\t\t0.6256517(0.63)\t\t0.4352687(0.44)\t\t0.195551(0.2)\n",
      "INFO:root:DEV L2:\t\t0.5816602(0.58)\t\t0.7988181(0.8)\t\t0.5059599(0.51)\n",
      "100%|██████████| 1117/1117 [00:28<00:00, 39.56it/s]\n",
      "INFO:root:TEST Acc:\t\t0.6434101(0.64)\t\t0.4717833(0.47)\t\t0.1707718(0.17)\n",
      "INFO:root:TEST L2:\t\t0.5571967(0.56)\t\t0.8002195(0.8)\t\t0.4903061(0.49)\n"
     ]
    },
    {
     "data": {
      "application/vnd.plotly.v1+json": {
       "config": {
        "linkText": "Export to plot.ly",
        "plotlyServerURL": "https://plot.ly",
        "showLink": true
       },
       "data": [
        {
         "marker": {
          "color": "#3498db"
         },
         "mode": "lines+markers",
         "name": "Dev Goal Accuracy",
         "type": "scatter",
         "uid": "1a37471b-51bb-456d-b4b1-0cfb438a1e1f",
         "x": [
          0,
          1,
          2,
          3,
          4,
          5,
          6,
          7,
          8,
          9,
          10,
          11,
          12,
          13
         ],
         "y": [
          0.3769552,
          0.5336288,
          0.5576121,
          0.6014077,
          0.6136601,
          0.6136601,
          0.605318,
          0.62878,
          0.6240876,
          0.6243483,
          0.6366006,
          0.6303441,
          0.6110532,
          0.6256517
         ]
        },
        {
         "marker": {
          "color": "#9b59b6"
         },
         "mode": "lines+markers",
         "name": "Test Goal Accuracy",
         "type": "scatter",
         "uid": "d05b1645-377d-4dbb-94aa-ece091dbf711",
         "x": [
          0,
          1,
          2,
          3,
          4,
          5,
          6,
          7,
          8,
          9,
          10,
          11,
          12,
          13
         ],
         "y": [
          0.3529776,
          0.5580555,
          0.6080091,
          0.6196718,
          0.6427908,
          0.6274125,
          0.634018,
          0.6254515,
          0.6397977,
          0.6438229,
          0.6181236,
          0.6385592,
          0.6441325,
          0.6434101
         ]
        }
       ],
       "layout": {
        "margin": {
         "b": 150
        },
        "title": "<b>Dev-Test Goal Accuracy</b>",
        "xaxis": {
         "dtick": 1,
         "title": "<b>Epoch</b>",
         "titlefont": {
          "color": "#34495e"
         }
        },
        "yaxis": {
         "title": "<b>Accuracy</b>",
         "titlefont": {
          "color": "#34495e"
         }
        }
       }
      },
      "text/html": [
       "<div id=\"85713b15-2f41-4be5-8f01-84b6d72276f0\" style=\"height: 525px; width: 100%;\" class=\"plotly-graph-div\"></div><script type=\"text/javascript\">require([\"plotly\"], function(Plotly) { window.PLOTLYENV=window.PLOTLYENV || {};window.PLOTLYENV.BASE_URL=\"https://plot.ly\";Plotly.newPlot(\"85713b15-2f41-4be5-8f01-84b6d72276f0\", [{\"marker\": {\"color\": \"#3498db\"}, \"mode\": \"lines+markers\", \"name\": \"Dev Goal Accuracy\", \"x\": [0, 1, 2, 3, 4, 5, 6, 7, 8, 9, 10, 11, 12, 13], \"y\": [0.3769552, 0.5336288, 0.5576121, 0.6014077, 0.6136601, 0.6136601, 0.605318, 0.62878, 0.6240876, 0.6243483, 0.6366006, 0.6303441, 0.6110532, 0.6256517], \"type\": \"scatter\", \"uid\": \"cd819f9a-cea1-4466-b405-81c797673fc4\"}, {\"marker\": {\"color\": \"#9b59b6\"}, \"mode\": \"lines+markers\", \"name\": \"Test Goal Accuracy\", \"x\": [0, 1, 2, 3, 4, 5, 6, 7, 8, 9, 10, 11, 12, 13], \"y\": [0.3529776, 0.5580555, 0.6080091, 0.6196718, 0.6427908, 0.6274125, 0.634018, 0.6254515, 0.6397977, 0.6438229, 0.6181236, 0.6385592, 0.6441325, 0.6434101], \"type\": \"scatter\", \"uid\": \"2a4aa142-3808-4ba1-9e26-38e27c76e32a\"}], {\"margin\": {\"b\": 150}, \"title\": \"<b>Dev-Test Goal Accuracy</b>\", \"xaxis\": {\"dtick\": 1, \"title\": \"<b>Epoch</b>\", \"titlefont\": {\"color\": \"#34495e\"}}, \"yaxis\": {\"title\": \"<b>Accuracy</b>\", \"titlefont\": {\"color\": \"#34495e\"}}}, {\"showLink\": true, \"linkText\": \"Export to plot.ly\", \"plotlyServerURL\": \"https://plot.ly\"})});</script><script type=\"text/javascript\">window.addEventListener(\"resize\", function(){window._Plotly.Plots.resize(document.getElementById(\"85713b15-2f41-4be5-8f01-84b6d72276f0\"));});</script>"
      ],
      "text/vnd.plotly.v1+html": [
       "<div id=\"85713b15-2f41-4be5-8f01-84b6d72276f0\" style=\"height: 525px; width: 100%;\" class=\"plotly-graph-div\"></div><script type=\"text/javascript\">require([\"plotly\"], function(Plotly) { window.PLOTLYENV=window.PLOTLYENV || {};window.PLOTLYENV.BASE_URL=\"https://plot.ly\";Plotly.newPlot(\"85713b15-2f41-4be5-8f01-84b6d72276f0\", [{\"marker\": {\"color\": \"#3498db\"}, \"mode\": \"lines+markers\", \"name\": \"Dev Goal Accuracy\", \"x\": [0, 1, 2, 3, 4, 5, 6, 7, 8, 9, 10, 11, 12, 13], \"y\": [0.3769552, 0.5336288, 0.5576121, 0.6014077, 0.6136601, 0.6136601, 0.605318, 0.62878, 0.6240876, 0.6243483, 0.6366006, 0.6303441, 0.6110532, 0.6256517], \"type\": \"scatter\", \"uid\": \"cd819f9a-cea1-4466-b405-81c797673fc4\"}, {\"marker\": {\"color\": \"#9b59b6\"}, \"mode\": \"lines+markers\", \"name\": \"Test Goal Accuracy\", \"x\": [0, 1, 2, 3, 4, 5, 6, 7, 8, 9, 10, 11, 12, 13], \"y\": [0.3529776, 0.5580555, 0.6080091, 0.6196718, 0.6427908, 0.6274125, 0.634018, 0.6254515, 0.6397977, 0.6438229, 0.6181236, 0.6385592, 0.6441325, 0.6434101], \"type\": \"scatter\", \"uid\": \"2a4aa142-3808-4ba1-9e26-38e27c76e32a\"}], {\"margin\": {\"b\": 150}, \"title\": \"<b>Dev-Test Goal Accuracy</b>\", \"xaxis\": {\"dtick\": 1, \"title\": \"<b>Epoch</b>\", \"titlefont\": {\"color\": \"#34495e\"}}, \"yaxis\": {\"title\": \"<b>Accuracy</b>\", \"titlefont\": {\"color\": \"#34495e\"}}}, {\"showLink\": true, \"linkText\": \"Export to plot.ly\", \"plotlyServerURL\": \"https://plot.ly\"})});</script><script type=\"text/javascript\">window.addEventListener(\"resize\", function(){window._Plotly.Plots.resize(document.getElementById(\"85713b15-2f41-4be5-8f01-84b6d72276f0\"));});</script>"
      ]
     },
     "metadata": {},
     "output_type": "display_data"
    }
   ],
   "source": [
    "dev_goal_accuracies = []\n",
    "dev_requested_accuracies = []\n",
    "dev_method_accuracies = []\n",
    "\n",
    "test_goal_accuracies = []\n",
    "test_requested_accuracies = []\n",
    "test_method_accuracies = []\n",
    "\n",
    "goal_early_stopping = EarlyStopping(patience = 2,\n",
    "                                    min_delta = 0.005)\n",
    "\n",
    "train_indices = np.arange(raw_X_train.shape[0])\n",
    "\n",
    "for epoch in range(NUM_EPOCHS):\n",
    "    \n",
    "    np.random.shuffle(train_indices)\n",
    "    \n",
    "    logging.info(\"Epoch\\t{}/{}\".format(epoch + 1, NUM_EPOCHS))\n",
    "    \n",
    "    model_Goal = model_Goal.train()\n",
    "    \n",
    "    for raw_X_train_dialog, raw_Y_train_dialog in tqdm(zip(raw_X_train[train_indices], raw_Y_train[train_indices]), total = len(raw_X_train)):\n",
    "\n",
    "        model_Goal.hidden = model_Goal.init_hidden()\n",
    "\n",
    "        for raw_X_train_turn, raw_Y_train_turn in zip(raw_X_train_dialog[\"turns\"], raw_Y_train_dialog[\"turns\"]):\n",
    "            \n",
    "            optimizer_GoalModel.zero_grad()\n",
    "            \n",
    "            indices, scores = get_index_and_score(raw_X_train_turn, token_to_index, mode = \"train\", device = DEVICE)\n",
    "            \n",
    "            goal_food, goal_pricerange, goal_name, goal_area = model_Goal(indices, scores)\n",
    "            \n",
    "            loss_goal_food = GOAL_LOSS_FUNCTION(goal_food,\n",
    "                                                retrieve_gold_GoalFood(raw_Y_train_turn,\n",
    "                                                                       ontology = ontology,\n",
    "                                                                       device = DEVICE))\n",
    "            \n",
    "            loss_goal_pricerange = GOAL_LOSS_FUNCTION(goal_pricerange,\n",
    "                                                      retrieve_gold_GoalPriceRange(raw_Y_train_turn,\n",
    "                                                                                   ontology = ontology,\n",
    "                                                                                   device = DEVICE))\n",
    "            \n",
    "            loss_goal_name = GOAL_LOSS_FUNCTION(goal_name,\n",
    "                                                retrieve_gold_GoalName(raw_Y_train_turn,\n",
    "                                                                       ontology = ontology,\n",
    "                                                                       device = DEVICE))\n",
    "            \n",
    "            loss_goal_area = GOAL_LOSS_FUNCTION(goal_area,\n",
    "                                                retrieve_gold_GoalArea(raw_Y_train_turn,\n",
    "                                                                       ontology = ontology,\n",
    "                                                                       device = DEVICE))\n",
    "\n",
    "            loss = loss_goal_food + loss_goal_pricerange + loss_goal_name + loss_goal_area\n",
    "            \n",
    "            loss.backward(retain_graph = True)\n",
    "            \n",
    "            optimizer_GoalModel.step()\n",
    "    \n",
    "    dev_goal_accuracy, \\\n",
    "    dev_goal_l2, \\\n",
    "    dev_requested_accuracy, \\\n",
    "    dev_requested_l2, \\\n",
    "    dev_method_accuracy, \\\n",
    "    dev_method_l2 = get_scores(model_Goal, model_Requested, model_Method, raw_X_dev, raw_Y_dev, dataset = \"dstc2_dev\")\n",
    "    logging.info(\"DEV Acc:\\t\\t{}({})\\t\\t{}({})\\t\\t{}({})\".format(dev_goal_accuracy,\n",
    "                                                                 np.around(dev_goal_accuracy, decimals = 2),\n",
    "                                                                 dev_requested_accuracy,\n",
    "                                                                 np.around(dev_requested_accuracy, decimals = 2),\n",
    "                                                                 dev_method_accuracy,\n",
    "                                                                 np.around(dev_method_accuracy, decimals = 2)))\n",
    "    logging.info(\"DEV L2:\\t\\t{}({})\\t\\t{}({})\\t\\t{}({})\".format(dev_goal_l2,\n",
    "                                                                np.around(dev_goal_l2, decimals = 2),\n",
    "                                                                dev_requested_l2,\n",
    "                                                                np.around(dev_requested_l2, decimals = 2),\n",
    "                                                                dev_method_l2,\n",
    "                                                                np.around(dev_method_l2, decimals = 2)))\n",
    "    dev_goal_accuracies.append(dev_goal_accuracy)\n",
    "    dev_requested_accuracies.append(dev_requested_accuracy)\n",
    "    dev_method_accuracies.append(dev_method_accuracy)\n",
    "\n",
    "    test_goal_accuracy, \\\n",
    "    test_goal_l2, \\\n",
    "    test_requested_accuracy, \\\n",
    "    test_requested_l2, \\\n",
    "    test_method_accuracy, \\\n",
    "    test_method_l2 = get_scores(model_Goal, model_Requested, model_Method, raw_X_test, raw_Y_test, dataset = \"dstc2_test\")\n",
    "    logging.info(\"TEST Acc:\\t\\t{}({})\\t\\t{}({})\\t\\t{}({})\".format(test_goal_accuracy,\n",
    "                                                                  np.around(test_goal_accuracy, decimals = 2),\n",
    "                                                                  test_requested_accuracy,\n",
    "                                                                  np.around(test_requested_accuracy, decimals = 2),\n",
    "                                                                  test_method_accuracy,\n",
    "                                                                  np.around(test_method_accuracy, decimals = 2)))\n",
    "    logging.info(\"TEST L2:\\t\\t{}({})\\t\\t{}({})\\t\\t{}({})\".format(test_goal_l2,\n",
    "                                                                 np.around(test_goal_l2, decimals = 2),\n",
    "                                                                 test_requested_l2,\n",
    "                                                                 np.around(test_requested_l2, decimals = 2),\n",
    "                                                                 test_method_l2,\n",
    "                                                                 np.around(test_method_l2, decimals = 2)))\n",
    "    test_goal_accuracies.append(test_goal_accuracy)\n",
    "    test_requested_accuracies.append(test_requested_accuracy)\n",
    "    test_method_accuracies.append(test_requested_accuracy)\n",
    "        \n",
    "    goal_early_stopping.on_epoch_end(epoch = (epoch + 1), current_value = (dev_goal_accuracy))\n",
    "    \n",
    "    if goal_early_stopping.stop_training:\n",
    "        break\n",
    "\n",
    "plotly_plot(dev_goal_accuracies, test_goal_accuracies, \"Goal\")"
   ]
  },
  {
   "cell_type": "markdown",
   "metadata": {},
   "source": [
    "### Save Goal Model"
   ]
  },
  {
   "cell_type": "code",
   "execution_count": 17,
   "metadata": {},
   "outputs": [],
   "source": [
    "torch.save(model_Goal.state_dict(), \"model_Goal.pt\")"
   ]
  },
  {
   "cell_type": "markdown",
   "metadata": {},
   "source": [
    "### Load Goal Model"
   ]
  },
  {
   "cell_type": "code",
   "execution_count": 18,
   "metadata": {},
   "outputs": [
    {
     "data": {
      "text/plain": [
       "GoalModel(\n",
       "  (embeddings): Embedding(1149, 170)\n",
       "  (altered_embeddings): Linear(in_features=171, out_features=300, bias=True)\n",
       "  (lstm): LSTM(300, 100)\n",
       "  (goal_food_classifier): Linear(in_features=100, out_features=93, bias=True)\n",
       "  (goal_pricerange_classifier): Linear(in_features=100, out_features=5, bias=True)\n",
       "  (goal_name_classifier): Linear(in_features=100, out_features=115, bias=True)\n",
       "  (goal_area_classifier): Linear(in_features=100, out_features=7, bias=True)\n",
       ")"
      ]
     },
     "execution_count": 18,
     "metadata": {},
     "output_type": "execute_result"
    }
   ],
   "source": [
    "model_Goal = GoalModel(vocabulary_size = VOCABULARY_SIZE,\n",
    "                       embedding_dim = EMBEDDING_DIM,\n",
    "                       altered_embedding_dim = ALTERED_EMBEDDING_DIM,\n",
    "                       hidden_dim = HIDDEN_DIM,\n",
    "                       goal_food_dim = GOAL_FOOD_DIM,\n",
    "                       goal_pricerange_dim = GOAL_PRICERANGE_DIM,\n",
    "                       goal_name_dim = GOAL_NAME_DIM,\n",
    "                       goal_area_dim = GOAL_AREA_DIM,\n",
    "                       device = DEVICE)\n",
    "model_Goal = model_Goal.to(DEVICE)\n",
    "model_Goal.load_state_dict(torch.load(\"model_Goal.pt\"))\n",
    "model_Goal.eval()"
   ]
  },
  {
   "cell_type": "code",
   "execution_count": 19,
   "metadata": {},
   "outputs": [
    {
     "name": "stderr",
     "output_type": "stream",
     "text": [
      "100%|██████████| 506/506 [00:10<00:00, 47.12it/s]\n"
     ]
    },
    {
     "data": {
      "text/plain": [
       "(0.6256517, 0.5816602, 0.4352687, 0.7988181, 0.195551, 0.5059599)"
      ]
     },
     "execution_count": 19,
     "metadata": {},
     "output_type": "execute_result"
    }
   ],
   "source": [
    "get_scores(model_Goal, model_Requested, model_Method, raw_X_dev, raw_Y_dev, dataset = \"dstc2_dev\")"
   ]
  },
  {
   "cell_type": "code",
   "execution_count": 20,
   "metadata": {},
   "outputs": [
    {
     "name": "stderr",
     "output_type": "stream",
     "text": [
      "100%|██████████| 1117/1117 [00:29<00:00, 38.31it/s]\n"
     ]
    },
    {
     "data": {
      "text/plain": [
       "(0.6434101, 0.5571967, 0.4717833, 0.8002195, 0.1707718, 0.4903061)"
      ]
     },
     "execution_count": 20,
     "metadata": {},
     "output_type": "execute_result"
    }
   ],
   "source": [
    "get_scores(model_Goal, model_Requested, model_Method, raw_X_test, raw_Y_test, dataset = \"dstc2_test\")"
   ]
  },
  {
   "cell_type": "markdown",
   "metadata": {},
   "source": [
    "### Train Requested Model"
   ]
  },
  {
   "cell_type": "code",
   "execution_count": 23,
   "metadata": {},
   "outputs": [
    {
     "name": "stderr",
     "output_type": "stream",
     "text": [
      "INFO:root:Epoch\t1/30\n",
      "100%|██████████| 3224/3224 [01:39<00:00, 32.29it/s]\n",
      "100%|██████████| 506/506 [00:10<00:00, 46.02it/s]\n",
      "INFO:root:DEV Acc:\t\t0.6256517(0.63)\t\t0.9531194(0.95)\t\t0.195551(0.2)\n",
      "INFO:root:DEV L2:\t\t0.5816602(0.58)\t\t0.7988181(0.8)\t\t0.0896553(0.09)\n",
      "100%|██████████| 1117/1117 [00:29<00:00, 37.89it/s]\n",
      "INFO:root:TEST Acc:\t\t0.6434101(0.64)\t\t0.9649245(0.96)\t\t0.1707718(0.17)\n",
      "INFO:root:TEST L2:\t\t0.5571967(0.56)\t\t0.8002195(0.8)\t\t0.0698412(0.07)\n",
      "INFO:root:Epoch\t2/30\n",
      "100%|██████████| 3224/3224 [01:38<00:00, 29.25it/s]\n",
      "100%|██████████| 506/506 [00:11<00:00, 45.89it/s]\n",
      "INFO:root:DEV Acc:\t\t0.6256517(0.63)\t\t0.9606924(0.96)\t\t0.195551(0.2)\n",
      "INFO:root:DEV L2:\t\t0.5816602(0.58)\t\t0.7988181(0.8)\t\t0.0757663(0.08)\n",
      "100%|██████████| 1117/1117 [00:29<00:00, 38.30it/s]\n",
      "INFO:root:TEST Acc:\t\t0.6434101(0.64)\t\t0.9697864(0.97)\t\t0.1707718(0.17)\n",
      "INFO:root:TEST L2:\t\t0.5571967(0.56)\t\t0.8002195(0.8)\t\t0.0592697(0.06)\n",
      "INFO:root:Epoch\t3/30\n",
      "100%|██████████| 3224/3224 [01:39<00:00, 32.39it/s]\n",
      "100%|██████████| 506/506 [00:11<00:00, 45.81it/s]\n",
      "INFO:root:DEV Acc:\t\t0.6256517(0.63)\t\t0.9635774(0.96)\t\t0.195551(0.2)\n",
      "INFO:root:DEV L2:\t\t0.5816602(0.58)\t\t0.7988181(0.8)\t\t0.0684069(0.07)\n",
      "100%|██████████| 1117/1117 [00:28<00:00, 44.34it/s]\n",
      "INFO:root:TEST Acc:\t\t0.6434101(0.64)\t\t0.972912(0.97)\t\t0.1707718(0.17)\n",
      "INFO:root:TEST L2:\t\t0.5571967(0.56)\t\t0.8002195(0.8)\t\t0.0499891(0.05)\n",
      "INFO:root:Epoch\t4/30\n",
      "100%|██████████| 3224/3224 [01:37<00:00, 32.95it/s]\n",
      "100%|██████████| 506/506 [00:10<00:00, 46.01it/s]\n",
      "INFO:root:DEV Acc:\t\t0.6256517(0.63)\t\t0.9657411(0.97)\t\t0.195551(0.2)\n",
      "INFO:root:DEV L2:\t\t0.5816602(0.58)\t\t0.7988181(0.8)\t\t0.0669064(0.07)\n",
      "100%|██████████| 1117/1117 [00:28<00:00, 38.65it/s]\n",
      "INFO:root:TEST Acc:\t\t0.6434101(0.64)\t\t0.9722174(0.97)\t\t0.1707718(0.17)\n",
      "INFO:root:TEST L2:\t\t0.5571967(0.56)\t\t0.8002195(0.8)\t\t0.0514861(0.05)\n",
      "INFO:root:Epoch\t5/30\n",
      "100%|██████████| 3224/3224 [01:38<00:00, 32.65it/s]\n",
      "100%|██████████| 506/506 [00:10<00:00, 47.85it/s]\n",
      "INFO:root:DEV Acc:\t\t0.6256517(0.63)\t\t0.9657411(0.97)\t\t0.195551(0.2)\n",
      "INFO:root:DEV L2:\t\t0.5816602(0.58)\t\t0.7988181(0.8)\t\t0.0645774(0.06)\n",
      "100%|██████████| 1117/1117 [00:28<00:00, 44.16it/s]\n",
      "INFO:root:TEST Acc:\t\t0.6434101(0.64)\t\t0.9736065(0.97)\t\t0.1707718(0.17)\n",
      "INFO:root:TEST L2:\t\t0.5571967(0.56)\t\t0.8002195(0.8)\t\t0.0476055(0.05)\n",
      "INFO:root:Epoch\t6/30\n",
      "100%|██████████| 3224/3224 [01:39<00:00, 32.33it/s]\n",
      "100%|██████████| 506/506 [00:11<00:00, 44.15it/s]\n",
      "INFO:root:DEV Acc:\t\t0.6256517(0.63)\t\t0.9668229(0.97)\t\t0.195551(0.2)\n",
      "INFO:root:DEV L2:\t\t0.5816602(0.58)\t\t0.7988181(0.8)\t\t0.061767(0.06)\n",
      "100%|██████████| 1117/1117 [00:28<00:00, 44.39it/s]\n",
      "INFO:root:TEST Acc:\t\t0.6434101(0.64)\t\t0.9730856(0.97)\t\t0.1707718(0.17)\n",
      "INFO:root:TEST L2:\t\t0.5571967(0.56)\t\t0.8002195(0.8)\t\t0.049004(0.05)\n",
      "INFO:root:Epoch\t7/30\n",
      "100%|██████████| 3224/3224 [01:38<00:00, 29.20it/s]\n",
      "100%|██████████| 506/506 [00:10<00:00, 44.71it/s]\n",
      "INFO:root:DEV Acc:\t\t0.6256517(0.63)\t\t0.9653805(0.97)\t\t0.195551(0.2)\n",
      "INFO:root:DEV L2:\t\t0.5816602(0.58)\t\t0.7988181(0.8)\t\t0.0643769(0.06)\n",
      "100%|██████████| 1117/1117 [00:29<00:00, 42.39it/s]\n",
      "INFO:root:TEST Acc:\t\t0.6434101(0.64)\t\t0.9756902(0.98)\t\t0.1707718(0.17)\n",
      "INFO:root:TEST L2:\t\t0.5571967(0.56)\t\t0.8002195(0.8)\t\t0.0460278(0.05)\n"
     ]
    },
    {
     "data": {
      "application/vnd.plotly.v1+json": {
       "config": {
        "linkText": "Export to plot.ly",
        "plotlyServerURL": "https://plot.ly",
        "showLink": true
       },
       "data": [
        {
         "marker": {
          "color": "#3498db"
         },
         "mode": "lines+markers",
         "name": "Dev Requested Accuracy",
         "type": "scatter",
         "uid": "3c809b83-b6f6-496a-9abe-813baa4adad4",
         "x": [
          0,
          1,
          2,
          3,
          4,
          5,
          6
         ],
         "y": [
          0.9531194,
          0.9606924,
          0.9635774,
          0.9657411,
          0.9657411,
          0.9668229,
          0.9653805
         ]
        },
        {
         "marker": {
          "color": "#9b59b6"
         },
         "mode": "lines+markers",
         "name": "Test Requested Accuracy",
         "type": "scatter",
         "uid": "aff3039c-191e-41e1-b949-3447d27a8205",
         "x": [
          0,
          1,
          2,
          3,
          4,
          5,
          6
         ],
         "y": [
          0.9649245,
          0.9697864,
          0.972912,
          0.9722174,
          0.9736065,
          0.9730856,
          0.9756902
         ]
        }
       ],
       "layout": {
        "margin": {
         "b": 150
        },
        "title": "<b>Dev-Test Requested Accuracy</b>",
        "xaxis": {
         "dtick": 1,
         "title": "<b>Epoch</b>",
         "titlefont": {
          "color": "#34495e"
         }
        },
        "yaxis": {
         "title": "<b>Accuracy</b>",
         "titlefont": {
          "color": "#34495e"
         }
        }
       }
      },
      "text/html": [
       "<div id=\"dda1afc6-0d19-42ac-bda1-06828112fc10\" style=\"height: 525px; width: 100%;\" class=\"plotly-graph-div\"></div><script type=\"text/javascript\">require([\"plotly\"], function(Plotly) { window.PLOTLYENV=window.PLOTLYENV || {};window.PLOTLYENV.BASE_URL=\"https://plot.ly\";Plotly.newPlot(\"dda1afc6-0d19-42ac-bda1-06828112fc10\", [{\"marker\": {\"color\": \"#3498db\"}, \"mode\": \"lines+markers\", \"name\": \"Dev Requested Accuracy\", \"x\": [0, 1, 2, 3, 4, 5, 6], \"y\": [0.9531194, 0.9606924, 0.9635774, 0.9657411, 0.9657411, 0.9668229, 0.9653805], \"type\": \"scatter\", \"uid\": \"04a852a2-a37c-4063-bce1-4993fc89fc05\"}, {\"marker\": {\"color\": \"#9b59b6\"}, \"mode\": \"lines+markers\", \"name\": \"Test Requested Accuracy\", \"x\": [0, 1, 2, 3, 4, 5, 6], \"y\": [0.9649245, 0.9697864, 0.972912, 0.9722174, 0.9736065, 0.9730856, 0.9756902], \"type\": \"scatter\", \"uid\": \"b8dc830c-54ec-476d-a02f-dc012f37aadc\"}], {\"margin\": {\"b\": 150}, \"title\": \"<b>Dev-Test Requested Accuracy</b>\", \"xaxis\": {\"dtick\": 1, \"title\": \"<b>Epoch</b>\", \"titlefont\": {\"color\": \"#34495e\"}}, \"yaxis\": {\"title\": \"<b>Accuracy</b>\", \"titlefont\": {\"color\": \"#34495e\"}}}, {\"showLink\": true, \"linkText\": \"Export to plot.ly\", \"plotlyServerURL\": \"https://plot.ly\"})});</script><script type=\"text/javascript\">window.addEventListener(\"resize\", function(){window._Plotly.Plots.resize(document.getElementById(\"dda1afc6-0d19-42ac-bda1-06828112fc10\"));});</script>"
      ],
      "text/vnd.plotly.v1+html": [
       "<div id=\"dda1afc6-0d19-42ac-bda1-06828112fc10\" style=\"height: 525px; width: 100%;\" class=\"plotly-graph-div\"></div><script type=\"text/javascript\">require([\"plotly\"], function(Plotly) { window.PLOTLYENV=window.PLOTLYENV || {};window.PLOTLYENV.BASE_URL=\"https://plot.ly\";Plotly.newPlot(\"dda1afc6-0d19-42ac-bda1-06828112fc10\", [{\"marker\": {\"color\": \"#3498db\"}, \"mode\": \"lines+markers\", \"name\": \"Dev Requested Accuracy\", \"x\": [0, 1, 2, 3, 4, 5, 6], \"y\": [0.9531194, 0.9606924, 0.9635774, 0.9657411, 0.9657411, 0.9668229, 0.9653805], \"type\": \"scatter\", \"uid\": \"04a852a2-a37c-4063-bce1-4993fc89fc05\"}, {\"marker\": {\"color\": \"#9b59b6\"}, \"mode\": \"lines+markers\", \"name\": \"Test Requested Accuracy\", \"x\": [0, 1, 2, 3, 4, 5, 6], \"y\": [0.9649245, 0.9697864, 0.972912, 0.9722174, 0.9736065, 0.9730856, 0.9756902], \"type\": \"scatter\", \"uid\": \"b8dc830c-54ec-476d-a02f-dc012f37aadc\"}], {\"margin\": {\"b\": 150}, \"title\": \"<b>Dev-Test Requested Accuracy</b>\", \"xaxis\": {\"dtick\": 1, \"title\": \"<b>Epoch</b>\", \"titlefont\": {\"color\": \"#34495e\"}}, \"yaxis\": {\"title\": \"<b>Accuracy</b>\", \"titlefont\": {\"color\": \"#34495e\"}}}, {\"showLink\": true, \"linkText\": \"Export to plot.ly\", \"plotlyServerURL\": \"https://plot.ly\"})});</script><script type=\"text/javascript\">window.addEventListener(\"resize\", function(){window._Plotly.Plots.resize(document.getElementById(\"dda1afc6-0d19-42ac-bda1-06828112fc10\"));});</script>"
      ]
     },
     "metadata": {},
     "output_type": "display_data"
    }
   ],
   "source": [
    "dev_goal_accuracies = []\n",
    "dev_requested_accuracies = []\n",
    "dev_method_accuracies = []\n",
    "\n",
    "test_goal_accuracies = []\n",
    "test_requested_accuracies = []\n",
    "test_method_accuracies = []\n",
    "\n",
    "requested_early_stopping = EarlyStopping(patience = 2,\n",
    "                                         min_delta = 0.005)\n",
    "\n",
    "train_indices = np.arange(raw_X_train.shape[0])\n",
    "\n",
    "for epoch in range(NUM_EPOCHS):\n",
    "    \n",
    "    np.random.shuffle(train_indices)\n",
    "    \n",
    "    logging.info(\"Epoch\\t{}/{}\".format(epoch + 1, NUM_EPOCHS))\n",
    "    \n",
    "    model_Requested = model_Requested.train()\n",
    "    \n",
    "    for raw_X_train_dialog, raw_Y_train_dialog in tqdm(zip(raw_X_train[train_indices], raw_Y_train[train_indices]), total = len(raw_X_train)):\n",
    "\n",
    "        model_Requested.hidden = model_Requested.init_hidden()\n",
    "\n",
    "        for raw_X_train_turn, raw_Y_train_turn in zip(raw_X_train_dialog[\"turns\"], raw_Y_train_dialog[\"turns\"]):\n",
    "            \n",
    "            optimizer_RequestedModel.zero_grad()\n",
    "            \n",
    "            indices, scores = get_index_and_score(raw_X_train_turn, token_to_index, mode = \"train\", device = DEVICE)\n",
    "            \n",
    "            requested = model_Requested(indices, scores)\n",
    "            \n",
    "            loss_requested = REQUESTED_LOSS_FUNCTION(requested,\n",
    "                                                     retrieve_gold_Requested(raw_Y_train_turn,\n",
    "                                                                             ontology = ontology,\n",
    "                                                                             device = DEVICE))\n",
    "            loss = loss_requested\n",
    "            \n",
    "            loss.backward(retain_graph = True)\n",
    "            \n",
    "            optimizer_RequestedModel.step()\n",
    "    \n",
    "    dev_goal_accuracy, \\\n",
    "    dev_goal_l2, \\\n",
    "    dev_requested_accuracy, \\\n",
    "    dev_requested_l2, \\\n",
    "    dev_method_accuracy, \\\n",
    "    dev_method_l2 = get_scores(model_Goal, model_Requested, model_Method, raw_X_dev, raw_Y_dev, dataset = \"dstc2_dev\")\n",
    "    logging.info(\"DEV Acc:\\t\\t{}({})\\t\\t{}({})\\t\\t{}({})\".format(dev_goal_accuracy,\n",
    "                                                                 np.around(dev_goal_accuracy, decimals = 2),\n",
    "                                                                 dev_requested_accuracy,\n",
    "                                                                 np.around(dev_requested_accuracy, decimals = 2),\n",
    "                                                                 dev_method_accuracy,\n",
    "                                                                 np.around(dev_method_accuracy, decimals = 2)))\n",
    "    logging.info(\"DEV L2:\\t\\t{}({})\\t\\t{}({})\\t\\t{}({})\".format(dev_goal_l2,\n",
    "                                                                np.around(dev_goal_l2, decimals = 2),\n",
    "                                                                dev_requested_l2,\n",
    "                                                                np.around(dev_requested_l2, decimals = 2),\n",
    "                                                                dev_method_l2,\n",
    "                                                                np.around(dev_method_l2, decimals = 2)))\n",
    "    dev_goal_accuracies.append(dev_goal_accuracy)\n",
    "    dev_requested_accuracies.append(dev_requested_accuracy)\n",
    "    dev_method_accuracies.append(dev_method_accuracy)\n",
    "\n",
    "    test_goal_accuracy, \\\n",
    "    test_goal_l2, \\\n",
    "    test_requested_accuracy, \\\n",
    "    test_requested_l2, \\\n",
    "    test_method_accuracy, \\\n",
    "    test_method_l2 = get_scores(model_Goal, model_Requested, model_Method, raw_X_test, raw_Y_test, dataset = \"dstc2_test\")\n",
    "    logging.info(\"TEST Acc:\\t\\t{}({})\\t\\t{}({})\\t\\t{}({})\".format(test_goal_accuracy,\n",
    "                                                              np.around(test_goal_accuracy, decimals = 2),\n",
    "                                                              test_requested_accuracy,\n",
    "                                                              np.around(test_requested_accuracy, decimals = 2),\n",
    "                                                              test_method_accuracy,\n",
    "                                                              np.around(test_method_accuracy, decimals = 2)))\n",
    "    logging.info(\"TEST L2:\\t\\t{}({})\\t\\t{}({})\\t\\t{}({})\".format(test_goal_l2,\n",
    "                                                              np.around(test_goal_l2, decimals = 2),\n",
    "                                                              test_requested_l2,\n",
    "                                                              np.around(test_requested_l2, decimals = 2),\n",
    "                                                              test_method_l2,\n",
    "                                                              np.around(test_method_l2, decimals = 2)))\n",
    "    test_goal_accuracies.append(test_goal_accuracy)\n",
    "    test_requested_accuracies.append(test_requested_accuracy)\n",
    "    test_method_accuracies.append(test_requested_accuracy)\n",
    "        \n",
    "    requested_early_stopping.on_epoch_end(epoch = (epoch + 1), current_value = (dev_requested_accuracy))\n",
    "    \n",
    "    if requested_early_stopping.stop_training:\n",
    "        break\n",
    "\n",
    "plotly_plot(dev_requested_accuracies, test_requested_accuracies, \"Requested\")"
   ]
  },
  {
   "cell_type": "markdown",
   "metadata": {},
   "source": [
    "### Save Requested Model"
   ]
  },
  {
   "cell_type": "code",
   "execution_count": 24,
   "metadata": {},
   "outputs": [],
   "source": [
    "torch.save(model_Requested.state_dict(), \"model_Requested.pt\")"
   ]
  },
  {
   "cell_type": "markdown",
   "metadata": {},
   "source": [
    "### Load Requested Model"
   ]
  },
  {
   "cell_type": "code",
   "execution_count": 25,
   "metadata": {},
   "outputs": [
    {
     "data": {
      "text/plain": [
       "RequestedModel(\n",
       "  (embeddings): Embedding(1149, 170)\n",
       "  (altered_embeddings): Linear(in_features=171, out_features=300, bias=True)\n",
       "  (lstm): LSTM(300, 100)\n",
       "  (requested_classifier): Linear(in_features=100, out_features=8, bias=True)\n",
       ")"
      ]
     },
     "execution_count": 25,
     "metadata": {},
     "output_type": "execute_result"
    }
   ],
   "source": [
    "model_Requested = RequestedModel(vocabulary_size = VOCABULARY_SIZE,\n",
    "                                 embedding_dim = EMBEDDING_DIM,\n",
    "                                 altered_embedding_dim = ALTERED_EMBEDDING_DIM,\n",
    "                                 hidden_dim = HIDDEN_DIM,\n",
    "                                 requested_dim = REQUESTED_DIM,\n",
    "                                 device = DEVICE)\n",
    "\n",
    "model_Requested = model_Requested.to(DEVICE)\n",
    "model_Requested.load_state_dict(torch.load(\"model_Requested.pt\"))\n",
    "model_Requested.eval()"
   ]
  },
  {
   "cell_type": "code",
   "execution_count": 26,
   "metadata": {},
   "outputs": [
    {
     "name": "stderr",
     "output_type": "stream",
     "text": [
      "100%|██████████| 506/506 [00:11<00:00, 45.38it/s]\n"
     ]
    },
    {
     "data": {
      "text/plain": [
       "(0.6256517, 0.5816602, 0.9653805, 0.7988181, 0.195551, 0.0643769)"
      ]
     },
     "execution_count": 26,
     "metadata": {},
     "output_type": "execute_result"
    }
   ],
   "source": [
    "get_scores(model_Goal, model_Requested, model_Method, raw_X_dev, raw_Y_dev, dataset = \"dstc2_dev\")"
   ]
  },
  {
   "cell_type": "code",
   "execution_count": 27,
   "metadata": {},
   "outputs": [
    {
     "name": "stderr",
     "output_type": "stream",
     "text": [
      "100%|██████████| 1117/1117 [00:28<00:00, 44.48it/s]\n"
     ]
    },
    {
     "data": {
      "text/plain": [
       "(0.6434101, 0.5571967, 0.9756902, 0.8002195, 0.1707718, 0.0460278)"
      ]
     },
     "execution_count": 27,
     "metadata": {},
     "output_type": "execute_result"
    }
   ],
   "source": [
    "get_scores(model_Goal, model_Requested, model_Method, raw_X_test, raw_Y_test, dataset = \"dstc2_test\")"
   ]
  },
  {
   "cell_type": "markdown",
   "metadata": {},
   "source": [
    "### Train Method Model"
   ]
  },
  {
   "cell_type": "code",
   "execution_count": 30,
   "metadata": {},
   "outputs": [
    {
     "name": "stderr",
     "output_type": "stream",
     "text": [
      "INFO:root:Epoch\t1/30\n",
      "100%|██████████| 3224/3224 [01:36<00:00, 33.53it/s]\n",
      "100%|██████████| 506/506 [00:10<00:00, 46.52it/s]\n",
      "INFO:root:DEV Acc:\t\t0.6256517(0.63)\t\t0.9653805(0.97)\t\t0.8957579(0.9)\n",
      "INFO:root:DEV L2:\t\t0.5816602(0.58)\t\t0.1754309(0.18)\t\t0.0643769(0.06)\n",
      "100%|██████████| 1117/1117 [00:29<00:00, 38.12it/s]\n",
      "INFO:root:TEST Acc:\t\t0.6434101(0.64)\t\t0.9756902(0.98)\t\t0.914922(0.91)\n",
      "INFO:root:TEST L2:\t\t0.5571967(0.56)\t\t0.136469(0.14)\t\t0.0460278(0.05)\n",
      "INFO:root:Epoch\t2/30\n",
      "100%|██████████| 3224/3224 [01:37<00:00, 33.18it/s]\n",
      "100%|██████████| 506/506 [00:10<00:00, 47.36it/s]\n",
      "INFO:root:DEV Acc:\t\t0.6256517(0.63)\t\t0.9653805(0.97)\t\t0.9024832(0.9)\n",
      "INFO:root:DEV L2:\t\t0.5816602(0.58)\t\t0.1576406(0.16)\t\t0.0643769(0.06)\n",
      "100%|██████████| 1117/1117 [00:29<00:00, 37.61it/s]\n",
      "INFO:root:TEST Acc:\t\t0.6434101(0.64)\t\t0.9756902(0.98)\t\t0.9279557(0.93)\n",
      "INFO:root:TEST L2:\t\t0.5571967(0.56)\t\t0.1144655(0.11)\t\t0.0460278(0.05)\n",
      "INFO:root:Epoch\t3/30\n",
      "100%|██████████| 3224/3224 [01:39<00:00, 32.47it/s]\n",
      "100%|██████████| 506/506 [00:10<00:00, 46.90it/s]\n",
      "INFO:root:DEV Acc:\t\t0.6256517(0.63)\t\t0.9653805(0.97)\t\t0.9076565(0.91)\n",
      "INFO:root:DEV L2:\t\t0.5816602(0.58)\t\t0.1562975(0.16)\t\t0.0643769(0.06)\n",
      "100%|██████████| 1117/1117 [00:29<00:00, 41.60it/s]\n",
      "INFO:root:TEST Acc:\t\t0.6434101(0.64)\t\t0.9756902(0.98)\t\t0.9280583(0.93)\n",
      "INFO:root:TEST L2:\t\t0.5571967(0.56)\t\t0.1133555(0.11)\t\t0.0460278(0.05)\n",
      "INFO:root:Epoch\t4/30\n",
      "100%|██████████| 3224/3224 [01:38<00:00, 32.75it/s]\n",
      "100%|██████████| 506/506 [00:10<00:00, 51.13it/s]\n",
      "INFO:root:DEV Acc:\t\t0.6256517(0.63)\t\t0.9653805(0.97)\t\t0.9058458(0.91)\n",
      "INFO:root:DEV L2:\t\t0.5816602(0.58)\t\t0.1579517(0.16)\t\t0.0643769(0.06)\n",
      "100%|██████████| 1117/1117 [00:28<00:00, 43.16it/s]\n",
      "INFO:root:TEST Acc:\t\t0.6434101(0.64)\t\t0.9756902(0.98)\t\t0.929803(0.93)\n",
      "INFO:root:TEST L2:\t\t0.5571967(0.56)\t\t0.1150108(0.12)\t\t0.0460278(0.05)\n",
      "INFO:root:Epoch\t5/30\n",
      "100%|██████████| 3224/3224 [01:38<00:00, 32.78it/s]\n",
      "100%|██████████| 506/506 [00:11<00:00, 45.55it/s]\n",
      "INFO:root:DEV Acc:\t\t0.6256517(0.63)\t\t0.9653805(0.97)\t\t0.9063632(0.91)\n",
      "INFO:root:DEV L2:\t\t0.5816602(0.58)\t\t0.1580514(0.16)\t\t0.0643769(0.06)\n",
      "100%|██████████| 1117/1117 [00:30<00:00, 42.07it/s]\n",
      "INFO:root:TEST Acc:\t\t0.6434101(0.64)\t\t0.9756902(0.98)\t\t0.9329844(0.93)\n",
      "INFO:root:TEST L2:\t\t0.5571967(0.56)\t\t0.1080377(0.11)\t\t0.0460278(0.05)\n",
      "INFO:root:Epoch\t6/30\n",
      "100%|██████████| 3224/3224 [01:40<00:00, 32.07it/s]\n",
      "100%|██████████| 506/506 [00:11<00:00, 44.61it/s]\n",
      "INFO:root:DEV Acc:\t\t0.6256517(0.63)\t\t0.9653805(0.97)\t\t0.9042938(0.9)\n",
      "INFO:root:DEV L2:\t\t0.5816602(0.58)\t\t0.1578462(0.16)\t\t0.0643769(0.06)\n",
      "100%|██████████| 1117/1117 [00:28<00:00, 38.70it/s]\n",
      "INFO:root:TEST Acc:\t\t0.6434101(0.64)\t\t0.9756902(0.98)\t\t0.9336002(0.93)\n",
      "INFO:root:TEST L2:\t\t0.5571967(0.56)\t\t0.1110376(0.11)\t\t0.0460278(0.05)\n"
     ]
    },
    {
     "data": {
      "application/vnd.plotly.v1+json": {
       "config": {
        "linkText": "Export to plot.ly",
        "plotlyServerURL": "https://plot.ly",
        "showLink": true
       },
       "data": [
        {
         "marker": {
          "color": "#3498db"
         },
         "mode": "lines+markers",
         "name": "Dev Method Accuracy",
         "type": "scatter",
         "uid": "1de292d2-d9f5-4fb9-b755-71124eeb7383",
         "x": [
          0,
          1,
          2,
          3,
          4,
          5
         ],
         "y": [
          0.8957579,
          0.9024832,
          0.9076565,
          0.9058458,
          0.9063632,
          0.9042938
         ]
        },
        {
         "marker": {
          "color": "#9b59b6"
         },
         "mode": "lines+markers",
         "name": "Test Method Accuracy",
         "type": "scatter",
         "uid": "38187b3a-b9cf-4295-bfb2-0cb5078306e8",
         "x": [
          0,
          1,
          2,
          3,
          4,
          5
         ],
         "y": [
          0.9756902,
          0.9756902,
          0.9756902,
          0.9756902,
          0.9756902,
          0.9756902
         ]
        }
       ],
       "layout": {
        "margin": {
         "b": 150
        },
        "title": "<b>Dev-Test Method Accuracy</b>",
        "xaxis": {
         "dtick": 1,
         "title": "<b>Epoch</b>",
         "titlefont": {
          "color": "#34495e"
         }
        },
        "yaxis": {
         "title": "<b>Accuracy</b>",
         "titlefont": {
          "color": "#34495e"
         }
        }
       }
      },
      "text/html": [
       "<div id=\"f89f6032-6828-4992-bcfc-b6916479067e\" style=\"height: 525px; width: 100%;\" class=\"plotly-graph-div\"></div><script type=\"text/javascript\">require([\"plotly\"], function(Plotly) { window.PLOTLYENV=window.PLOTLYENV || {};window.PLOTLYENV.BASE_URL=\"https://plot.ly\";Plotly.newPlot(\"f89f6032-6828-4992-bcfc-b6916479067e\", [{\"marker\": {\"color\": \"#3498db\"}, \"mode\": \"lines+markers\", \"name\": \"Dev Method Accuracy\", \"x\": [0, 1, 2, 3, 4, 5], \"y\": [0.8957579, 0.9024832, 0.9076565, 0.9058458, 0.9063632, 0.9042938], \"type\": \"scatter\", \"uid\": \"6c423c8e-78bd-4987-8b61-a316d28b3396\"}, {\"marker\": {\"color\": \"#9b59b6\"}, \"mode\": \"lines+markers\", \"name\": \"Test Method Accuracy\", \"x\": [0, 1, 2, 3, 4, 5], \"y\": [0.9756902, 0.9756902, 0.9756902, 0.9756902, 0.9756902, 0.9756902], \"type\": \"scatter\", \"uid\": \"81638c39-275c-4476-ab9b-2eda64e20baf\"}], {\"margin\": {\"b\": 150}, \"title\": \"<b>Dev-Test Method Accuracy</b>\", \"xaxis\": {\"dtick\": 1, \"title\": \"<b>Epoch</b>\", \"titlefont\": {\"color\": \"#34495e\"}}, \"yaxis\": {\"title\": \"<b>Accuracy</b>\", \"titlefont\": {\"color\": \"#34495e\"}}}, {\"showLink\": true, \"linkText\": \"Export to plot.ly\", \"plotlyServerURL\": \"https://plot.ly\"})});</script><script type=\"text/javascript\">window.addEventListener(\"resize\", function(){window._Plotly.Plots.resize(document.getElementById(\"f89f6032-6828-4992-bcfc-b6916479067e\"));});</script>"
      ],
      "text/vnd.plotly.v1+html": [
       "<div id=\"f89f6032-6828-4992-bcfc-b6916479067e\" style=\"height: 525px; width: 100%;\" class=\"plotly-graph-div\"></div><script type=\"text/javascript\">require([\"plotly\"], function(Plotly) { window.PLOTLYENV=window.PLOTLYENV || {};window.PLOTLYENV.BASE_URL=\"https://plot.ly\";Plotly.newPlot(\"f89f6032-6828-4992-bcfc-b6916479067e\", [{\"marker\": {\"color\": \"#3498db\"}, \"mode\": \"lines+markers\", \"name\": \"Dev Method Accuracy\", \"x\": [0, 1, 2, 3, 4, 5], \"y\": [0.8957579, 0.9024832, 0.9076565, 0.9058458, 0.9063632, 0.9042938], \"type\": \"scatter\", \"uid\": \"6c423c8e-78bd-4987-8b61-a316d28b3396\"}, {\"marker\": {\"color\": \"#9b59b6\"}, \"mode\": \"lines+markers\", \"name\": \"Test Method Accuracy\", \"x\": [0, 1, 2, 3, 4, 5], \"y\": [0.9756902, 0.9756902, 0.9756902, 0.9756902, 0.9756902, 0.9756902], \"type\": \"scatter\", \"uid\": \"81638c39-275c-4476-ab9b-2eda64e20baf\"}], {\"margin\": {\"b\": 150}, \"title\": \"<b>Dev-Test Method Accuracy</b>\", \"xaxis\": {\"dtick\": 1, \"title\": \"<b>Epoch</b>\", \"titlefont\": {\"color\": \"#34495e\"}}, \"yaxis\": {\"title\": \"<b>Accuracy</b>\", \"titlefont\": {\"color\": \"#34495e\"}}}, {\"showLink\": true, \"linkText\": \"Export to plot.ly\", \"plotlyServerURL\": \"https://plot.ly\"})});</script><script type=\"text/javascript\">window.addEventListener(\"resize\", function(){window._Plotly.Plots.resize(document.getElementById(\"f89f6032-6828-4992-bcfc-b6916479067e\"));});</script>"
      ]
     },
     "metadata": {},
     "output_type": "display_data"
    }
   ],
   "source": [
    "dev_goal_accuracies = []\n",
    "dev_requested_accuracies = []\n",
    "dev_method_accuracies = []\n",
    "\n",
    "test_goal_accuracies = []\n",
    "test_requested_accuracies = []\n",
    "test_method_accuracies = []\n",
    "\n",
    "method_early_stopping = EarlyStopping(patience = 2,\n",
    "                                   min_delta = 0.005)\n",
    "\n",
    "train_indices = np.arange(raw_X_train.shape[0])\n",
    "\n",
    "for epoch in range(NUM_EPOCHS):\n",
    "    \n",
    "    np.random.shuffle(train_indices)\n",
    "    \n",
    "    logging.info(\"Epoch\\t{}/{}\".format(epoch + 1, NUM_EPOCHS))\n",
    "    \n",
    "    model_Method = model_Method.train()\n",
    "    \n",
    "    for raw_X_train_dialog, raw_Y_train_dialog in tqdm(zip(raw_X_train[train_indices], raw_Y_train[train_indices]), total = len(raw_X_train)):\n",
    "\n",
    "        model_Method.hidden = model_Method.init_hidden()\n",
    "\n",
    "        for raw_X_train_turn, raw_Y_train_turn in zip(raw_X_train_dialog[\"turns\"], raw_Y_train_dialog[\"turns\"]):\n",
    "            \n",
    "            optimizer_MethodModel.zero_grad()\n",
    "            \n",
    "            indices, scores = get_index_and_score(raw_X_train_turn, token_to_index, mode = \"train\", device = DEVICE)\n",
    "            \n",
    "            method = model_Method(indices, scores)\n",
    "            \n",
    "            loss_method = METHOD_LOSS_FUNCTION(method,\n",
    "                                               retrieve_gold_Method(raw_Y_train_turn,\n",
    "                                                                    ontology = ontology,\n",
    "                                                                    device = DEVICE))\n",
    "            \n",
    "            loss = loss_method\n",
    "            \n",
    "            loss.backward(retain_graph = True)\n",
    "            \n",
    "            optimizer_MethodModel.step()\n",
    "    \n",
    "    dev_goal_accuracy, \\\n",
    "    dev_goal_l2, \\\n",
    "    dev_requested_accuracy, \\\n",
    "    dev_requested_l2, \\\n",
    "    dev_method_accuracy, \\\n",
    "    dev_method_l2 = get_scores(model_Goal, model_Requested, model_Method, raw_X_dev, raw_Y_dev, dataset = \"dstc2_dev\")\n",
    "    logging.info(\"DEV Acc:\\t\\t{}({})\\t\\t{}({})\\t\\t{}({})\".format(dev_goal_accuracy,\n",
    "                                                                 np.around(dev_goal_accuracy, decimals = 2),\n",
    "                                                                 dev_requested_accuracy,\n",
    "                                                                 np.around(dev_requested_accuracy, decimals = 2),\n",
    "                                                                 dev_method_accuracy,\n",
    "                                                                 np.around(dev_method_accuracy, decimals = 2)))\n",
    "    logging.info(\"DEV L2:\\t\\t{}({})\\t\\t{}({})\\t\\t{}({})\".format(dev_goal_l2,\n",
    "                                                                np.around(dev_goal_l2, decimals = 2),\n",
    "                                                                dev_requested_l2,\n",
    "                                                                np.around(dev_requested_l2, decimals = 2),\n",
    "                                                                dev_method_l2,\n",
    "                                                                np.around(dev_method_l2, decimals = 2)))\n",
    "    dev_goal_accuracies.append(dev_goal_accuracy)\n",
    "    dev_requested_accuracies.append(dev_requested_accuracy)\n",
    "    dev_method_accuracies.append(dev_method_accuracy)\n",
    "\n",
    "    test_goal_accuracy, \\\n",
    "    test_goal_l2, \\\n",
    "    test_requested_accuracy, \\\n",
    "    test_requested_l2, \\\n",
    "    test_method_accuracy, \\\n",
    "    test_method_l2 = get_scores(model_Goal, model_Requested, model_Method, raw_X_test, raw_Y_test, dataset = \"dstc2_test\")\n",
    "    logging.info(\"TEST Acc:\\t\\t{}({})\\t\\t{}({})\\t\\t{}({})\".format(test_goal_accuracy,\n",
    "                                                                  np.around(test_goal_accuracy, decimals = 2),\n",
    "                                                                  test_requested_accuracy,\n",
    "                                                                  np.around(test_requested_accuracy, decimals = 2),\n",
    "                                                                  test_method_accuracy,\n",
    "                                                                  np.around(test_method_accuracy, decimals = 2)))\n",
    "    logging.info(\"TEST L2:\\t\\t{}({})\\t\\t{}({})\\t\\t{}({})\".format(test_goal_l2,\n",
    "                                                                 np.around(test_goal_l2, decimals = 2),\n",
    "                                                                 test_requested_l2,\n",
    "                                                                 np.around(test_requested_l2, decimals = 2),\n",
    "                                                                 test_method_l2,\n",
    "                                                                 np.around(test_method_l2, decimals = 2)))\n",
    "    test_goal_accuracies.append(test_goal_accuracy)\n",
    "    test_requested_accuracies.append(test_requested_accuracy)\n",
    "    test_method_accuracies.append(test_requested_accuracy)\n",
    "        \n",
    "    method_early_stopping.on_epoch_end(epoch = (epoch + 1),\n",
    "                                    current_value = (dev_method_accuracy))\n",
    "    \n",
    "    if method_early_stopping.stop_training:\n",
    "        break\n",
    "\n",
    "plotly_plot(dev_method_accuracies, test_method_accuracies, \"Method\")"
   ]
  },
  {
   "cell_type": "markdown",
   "metadata": {},
   "source": [
    "### Save Method Model"
   ]
  },
  {
   "cell_type": "code",
   "execution_count": 31,
   "metadata": {},
   "outputs": [],
   "source": [
    "torch.save(model_Method.state_dict(), \"model_Method.pt\")"
   ]
  },
  {
   "cell_type": "markdown",
   "metadata": {},
   "source": [
    "### Load Method Model"
   ]
  },
  {
   "cell_type": "code",
   "execution_count": 32,
   "metadata": {},
   "outputs": [
    {
     "data": {
      "text/plain": [
       "MethodModel(\n",
       "  (embeddings): Embedding(1149, 170)\n",
       "  (altered_embeddings): Linear(in_features=171, out_features=300, bias=True)\n",
       "  (lstm): LSTM(300, 100)\n",
       "  (method_classifier): Linear(in_features=100, out_features=5, bias=True)\n",
       ")"
      ]
     },
     "execution_count": 32,
     "metadata": {},
     "output_type": "execute_result"
    }
   ],
   "source": [
    "model_Method = MethodModel(vocabulary_size = VOCABULARY_SIZE,\n",
    "                           embedding_dim = EMBEDDING_DIM,\n",
    "                           altered_embedding_dim = ALTERED_EMBEDDING_DIM,\n",
    "                           hidden_dim = HIDDEN_DIM,\n",
    "                           method_dim = METHOD_DIM,\n",
    "                           device = DEVICE)\n",
    "\n",
    "model_Method = model_Method.to(DEVICE)\n",
    "model_Method.load_state_dict(torch.load(\"model_Method.pt\"))\n",
    "model_Method.eval()"
   ]
  },
  {
   "cell_type": "code",
   "execution_count": 35,
   "metadata": {},
   "outputs": [
    {
     "name": "stderr",
     "output_type": "stream",
     "text": [
      "100%|██████████| 506/506 [00:10<00:00, 46.49it/s]\n"
     ]
    },
    {
     "data": {
      "text/plain": [
       "(0.6256517, 0.5816602, 0.9653805, 0.1578462, 0.9042938, 0.0643769)"
      ]
     },
     "execution_count": 35,
     "metadata": {},
     "output_type": "execute_result"
    }
   ],
   "source": [
    "get_scores(model_Goal, model_Requested, model_Method, raw_X_dev, raw_Y_dev, dataset = \"dstc2_dev\")"
   ]
  },
  {
   "cell_type": "code",
   "execution_count": 34,
   "metadata": {},
   "outputs": [
    {
     "name": "stderr",
     "output_type": "stream",
     "text": [
      "100%|██████████| 1117/1117 [00:29<00:00, 37.58it/s]\n"
     ]
    },
    {
     "data": {
      "text/plain": [
       "(0.6434101, 0.5571967, 0.9756902, 0.1110376, 0.9336002, 0.0460278)"
      ]
     },
     "execution_count": 34,
     "metadata": {},
     "output_type": "execute_result"
    }
   ],
   "source": [
    "get_scores(model_Goal, model_Requested, model_Method, raw_X_test, raw_Y_test, dataset = \"dstc2_test\")"
   ]
  }
 ],
 "metadata": {
  "kernelspec": {
   "display_name": "Python 3",
   "language": "python",
   "name": "python3"
  },
  "language_info": {
   "codemirror_mode": {
    "name": "ipython",
    "version": 3
   },
   "file_extension": ".py",
   "mimetype": "text/x-python",
   "name": "python",
   "nbconvert_exporter": "python",
   "pygments_lexer": "ipython3",
   "version": "3.6.5"
  }
 },
 "nbformat": 4,
 "nbformat_minor": 2
}
