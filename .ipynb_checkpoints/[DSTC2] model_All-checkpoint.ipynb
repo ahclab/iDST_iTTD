{
 "cells": [
  {
   "cell_type": "markdown",
   "metadata": {},
   "source": [
    "### Check GPU availability"
   ]
  },
  {
   "cell_type": "code",
   "execution_count": null,
   "metadata": {},
   "outputs": [],
   "source": []
  },
  {
   "cell_type": "code",
   "execution_count": 1,
   "metadata": {},
   "outputs": [
    {
     "name": "stdout",
     "output_type": "stream",
     "text": [
      "Fri Jan  4 13:47:06 2019       \r\n",
      "+-----------------------------------------------------------------------------+\r\n",
      "| NVIDIA-SMI 384.145                Driver Version: 384.145                   |\r\n",
      "|-------------------------------+----------------------+----------------------+\r\n",
      "| GPU  Name        Persistence-M| Bus-Id        Disp.A | Volatile Uncorr. ECC |\r\n",
      "| Fan  Temp  Perf  Pwr:Usage/Cap|         Memory-Usage | GPU-Util  Compute M. |\r\n",
      "|===============================+======================+======================|\r\n",
      "|   0  GeForce GTX 108...  Off  | 00000000:02:00.0 Off |                  N/A |\r\n",
      "| 23%   30C    P8    17W / 250W |     10MiB / 11172MiB |      0%      Default |\r\n",
      "+-------------------------------+----------------------+----------------------+\r\n",
      "|   1  GeForce GTX 108...  Off  | 00000000:03:00.0 Off |                  N/A |\r\n",
      "| 23%   31C    P8    17W / 250W |    589MiB / 11172MiB |      0%      Default |\r\n",
      "+-------------------------------+----------------------+----------------------+\r\n",
      "                                                                               \r\n",
      "+-----------------------------------------------------------------------------+\r\n",
      "| Processes:                                                       GPU Memory |\r\n",
      "|  GPU       PID   Type   Process name                             Usage      |\r\n",
      "|=============================================================================|\r\n",
      "|    1     26689      C   ...e/virtualenvs/iDST-PMaBuuf7/bin/python3   579MiB |\r\n",
      "+-----------------------------------------------------------------------------+\r\n"
     ]
    }
   ],
   "source": [
    "!nvidia-smi"
   ]
  },
  {
   "cell_type": "markdown",
   "metadata": {},
   "source": [
    "### Import libraries"
   ]
  },
  {
   "cell_type": "code",
   "execution_count": 2,
   "metadata": {},
   "outputs": [
    {
     "name": "stderr",
     "output_type": "stream",
     "text": [
      "[nltk_data] Downloading package punkt to /home/is/andrei-\n",
      "[nltk_data]     cc/nltk_data...\n",
      "[nltk_data]   Package punkt is already up-to-date!\n"
     ]
    },
    {
     "data": {
      "text/html": [
       "<script type=\"text/javascript\">window.PlotlyConfig = {MathJaxConfig: 'local'};</script><script type=\"text/javascript\">if (window.MathJax) {MathJax.Hub.Config({SVG: {font: \"STIX-Web\"}});}</script><script>requirejs.config({paths: { 'plotly': ['https://cdn.plot.ly/plotly-latest.min']},});if(!window._Plotly) {require(['plotly'],function(plotly) {window._Plotly=plotly;});}</script>"
      ],
      "text/vnd.plotly.v1+html": [
       "<script type=\"text/javascript\">window.PlotlyConfig = {MathJaxConfig: 'local'};</script><script type=\"text/javascript\">if (window.MathJax) {MathJax.Hub.Config({SVG: {font: \"STIX-Web\"}});}</script><script>requirejs.config({paths: { 'plotly': ['https://cdn.plot.ly/plotly-latest.min']},});if(!window._Plotly) {require(['plotly'],function(plotly) {window._Plotly=plotly;});}</script>"
      ]
     },
     "metadata": {},
     "output_type": "display_data"
    }
   ],
   "source": [
    "import torch\n",
    "import torch.nn as nn\n",
    "import torch.nn.functional as F\n",
    "import torch.optim as optim\n",
    "\n",
    "import math\n",
    "import numpy as np\n",
    "import time\n",
    "import json\n",
    "import plotly\n",
    "import logging\n",
    "logging.getLogger().setLevel(logging.INFO)\n",
    "\n",
    "from pprint import pprint\n",
    "from tqdm import tqdm\n",
    "from idst_util import trivial\n",
    "from idst_util import dstc2\n",
    "\n",
    "from plotly.graph_objs import Scatter, Layout\n",
    "from plotly.graph_objs.layout import Margin\n",
    "plotly.offline.init_notebook_mode(connected = True)"
   ]
  },
  {
   "cell_type": "markdown",
   "metadata": {},
   "source": [
    "### Check DSTC2 availability"
   ]
  },
  {
   "cell_type": "code",
   "execution_count": 3,
   "metadata": {},
   "outputs": [
    {
     "name": "stderr",
     "output_type": "stream",
     "text": [
      "INFO:root:+--------------------------------+\n",
      "INFO:root:|         _ ____  ___________    |\n",
      "INFO:root:|        (_) __ \\/ ___/_  __/    |\n",
      "INFO:root:|       / / / / /\\__ \\ / /       |\n",
      "INFO:root:|      / / /_/ /___/ // /        |\n",
      "INFO:root:|     /_/_____//____//_/         |\n",
      "INFO:root:|                                |\n",
      "INFO:root:+--------------------------------+\n",
      "INFO:root:|Incremental Dialog State Tracker|\n",
      "INFO:root:+--------------------------------+\n",
      "INFO:root:+--------------------------------+\n",
      "INFO:root:|     Dialog State Tracker 2     |\n",
      "INFO:root:|         Data Checker           |\n",
      "INFO:root:+--------------------------------+\n",
      "INFO:root:Looking for dstc2 directory in .\n",
      "INFO:root:dstc2 was found!\n",
      "INFO:root:Looking for dstc2_traindev directory in ./dstc2\n",
      "INFO:root:dstc2_traindev was found!\n",
      "INFO:root:Looking for dstc2_test directory in ./dstc2\n",
      "INFO:root:dstc2_test was found!\n",
      "INFO:root:Looking for dstc2_scripts directory in ./dstc2\n",
      "INFO:root:dstc2_scripts was found!\n",
      "INFO:root:Done!\n"
     ]
    }
   ],
   "source": [
    "trivial.print_idst()\n",
    "dstc2.check()"
   ]
  },
  {
   "cell_type": "markdown",
   "metadata": {},
   "source": [
    "### Retrieve data"
   ]
  },
  {
   "cell_type": "code",
   "execution_count": 4,
   "metadata": {},
   "outputs": [
    {
     "name": "stderr",
     "output_type": "stream",
     "text": [
      "INFO:root:+--------------------------------+\n",
      "INFO:root:|     Dialog State Tracker 2     |\n",
      "INFO:root:|       Dataset Retrieval        |\n",
      "INFO:root:+--------------------------------+\n",
      "INFO:root:Reading dstc2_train.flist, dstc2_dev.flist and ontology_dstc2.json\n",
      "INFO:root:Asserted 1612 dialogs for dstc2_train.flist\n",
      "INFO:root:Asserted 506 dialogs for dstc2_dev.flist\n",
      "INFO:root:Extracting raw train features\n",
      "100%|██████████| 1612/1612 [00:10<00:00, 148.82it/s]\n",
      "INFO:root:Extracting raw dev features\n",
      "100%|██████████| 506/506 [00:02<00:00, 176.71it/s]\n",
      "INFO:root:Reading dstc2_test.flist\n",
      "INFO:root:Asserted 1117 dialogs for dstc2_test.flist\n",
      "INFO:root:Extracting raw test features\n",
      "100%|██████████| 1117/1117 [00:07<00:00, 155.53it/s]\n"
     ]
    }
   ],
   "source": [
    "raw_X_train, raw_Y_train, \\\n",
    "raw_X_dev, raw_Y_dev, \\\n",
    "raw_X_test, raw_Y_test, \\\n",
    "ontology = dstc2.retrieve_raw_datasets(train_data_augmentation = True)"
   ]
  },
  {
   "cell_type": "markdown",
   "metadata": {},
   "source": [
    "### Set device"
   ]
  },
  {
   "cell_type": "code",
   "execution_count": 5,
   "metadata": {},
   "outputs": [
    {
     "name": "stderr",
     "output_type": "stream",
     "text": [
      "INFO:root:+--------------------------------+\n",
      "INFO:root:|            Baseline            |\n",
      "INFO:root:+--------------------------------+\n",
      "INFO:root:Running on GPU 0\n"
     ]
    }
   ],
   "source": [
    "logging.info(\"+--------------------------------+\")\n",
    "logging.info(\"|            Baseline            |\")\n",
    "logging.info(\"+--------------------------------+\")\n",
    "\n",
    "GPU_ID = 0\n",
    "DEVICE = torch.device(\"cuda:{}\".format(GPU_ID) if torch.cuda.is_available() else \"cpu\")\n",
    "#DEVICE = \"cpu\"\n",
    "if DEVICE == \"cpu\":\n",
    "    logging.warning(\"Running on CPU\")\n",
    "else:\n",
    "    logging.info(\"Running on GPU {}\".format(GPU_ID))"
   ]
  },
  {
   "cell_type": "markdown",
   "metadata": {},
   "source": [
    "### Create vocabularies"
   ]
  },
  {
   "cell_type": "code",
   "execution_count": 6,
   "metadata": {},
   "outputs": [
    {
     "name": "stderr",
     "output_type": "stream",
     "text": [
      "INFO:root:+--------------------------------+\n",
      "INFO:root:|          Vocabulary            |\n",
      "INFO:root:+--------------------------------+\n",
      "INFO:root:Creating token_to_index, index_to_token and token_to_count dictionaries\n",
      "100%|██████████| 3224/3224 [00:00<00:00, 38189.91it/s]\n"
     ]
    }
   ],
   "source": [
    "logging.info(\"+--------------------------------+\")\n",
    "logging.info(\"|          Vocabulary            |\")\n",
    "logging.info(\"+--------------------------------+\")\n",
    "logging.info(\"Creating token_to_index, index_to_token and token_to_count dictionaries\")\n",
    "\n",
    "token_to_index = {\"<unk>\": 0}\n",
    "index_to_token = {0: \"<unk>\"}\n",
    "token_to_count = {\"<unk>\": 1}\n",
    "\n",
    "for raw_train_dialog in tqdm(raw_X_train):\n",
    "    \n",
    "    for raw_train_turn in raw_train_dialog[\"turns\"]:\n",
    "        \n",
    "        tokens_scores = raw_train_turn[\"system\"] + raw_train_turn[\"user\"]\n",
    "        \n",
    "        for token_score in tokens_scores:\n",
    "            token = token_score[0]\n",
    "            if token not in token_to_index:\n",
    "                token_to_index[token] = len(token_to_index)\n",
    "                index_to_token[len(token_to_index)] = token\n",
    "                token_to_count[token] = 1\n",
    "            else:\n",
    "                token_to_count[token] += 1\n",
    "                \n",
    "assert len(token_to_index) == len(index_to_token)\n",
    "assert len(token_to_index) == len(token_to_count)"
   ]
  },
  {
   "cell_type": "markdown",
   "metadata": {},
   "source": [
    "### Execution configuration"
   ]
  },
  {
   "cell_type": "code",
   "execution_count": 7,
   "metadata": {},
   "outputs": [
    {
     "name": "stderr",
     "output_type": "stream",
     "text": [
      "INFO:root:+--------------------------------+\n",
      "INFO:root:|         Configuration          |\n",
      "INFO:root:+--------------------------------+\n",
      "INFO:root:VOCABULARY_SIZE:\t\t1149\n",
      "INFO:root:GOAL_FOOD_DIM:\t\t93\n",
      "INFO:root:GOAL_PRICERANGE_DIM:\t\t5\n",
      "INFO:root:GOAL_NAME_DIM:\t\t115\n",
      "INFO:root:GOAL_AREA_DIM:\t\t7\n",
      "INFO:root:METHOD_DIM:\t\t\t5\n",
      "INFO:root:REQUESTED_DIM:\t\t8\n",
      "INFO:root:EMBEDDING_DIM:\t\t170\n",
      "INFO:root:ALTERED_EMBEDDING_DIM:\t300\n",
      "INFO:root:HIDDEN_DIM:\t\t\t100\n",
      "INFO:root:NUM_EPOCHS:\t\t\t30\n",
      "INFO:root:GOAL_LOSS_FUNCTION:\t\tCrossEntropyLoss()\n",
      "INFO:root:METHOD_LOSS_FUNCTION:\t\tCrossEntropyLoss()\n",
      "INFO:root:REQUESTED_LOSS_FUNCTION:\tBCELoss()\n"
     ]
    }
   ],
   "source": [
    "logging.info(\"+--------------------------------+\")\n",
    "logging.info(\"|         Configuration          |\")\n",
    "logging.info(\"+--------------------------------+\")\n",
    "\n",
    "VOCABULARY_SIZE = len(token_to_index)\n",
    "logging.info(\"VOCABULARY_SIZE:\\t\\t{}\".format(VOCABULARY_SIZE))\n",
    "\n",
    "# NOTE: +2 because of null and dontcare\n",
    "GOAL_FOOD_DIM = len(ontology[\"informable\"][\"food\"]) + 2 \n",
    "GOAL_PRICERANGE_DIM = len(ontology[\"informable\"][\"pricerange\"]) + 2\n",
    "GOAL_NAME_DIM = len(ontology[\"informable\"][\"name\"]) + 2\n",
    "GOAL_AREA_DIM = len(ontology[\"informable\"][\"area\"]) + 2\n",
    "METHOD_DIM = len(ontology[\"method\"])\n",
    "REQUESTED_DIM = len(ontology[\"requestable\"])\n",
    "EMBEDDING_DIM = 170\n",
    "ALTERED_EMBEDDING_DIM = 300\n",
    "HIDDEN_DIM = 100\n",
    "NUM_EPOCHS = 30\n",
    "GOAL_LOSS_FUNCTION = nn.CrossEntropyLoss()\n",
    "METHOD_LOSS_FUNCTION = nn.CrossEntropyLoss()\n",
    "REQUESTED_LOSS_FUNCTION = nn.BCELoss()\n",
    "logging.info(\"GOAL_FOOD_DIM:\\t\\t{}\".format(GOAL_FOOD_DIM))\n",
    "logging.info(\"GOAL_PRICERANGE_DIM:\\t\\t{}\".format(GOAL_PRICERANGE_DIM))\n",
    "logging.info(\"GOAL_NAME_DIM:\\t\\t{}\".format(GOAL_NAME_DIM))\n",
    "logging.info(\"GOAL_AREA_DIM:\\t\\t{}\".format(GOAL_AREA_DIM))\n",
    "logging.info(\"METHOD_DIM:\\t\\t\\t{}\".format(METHOD_DIM))\n",
    "logging.info(\"REQUESTED_DIM:\\t\\t{}\".format(REQUESTED_DIM))\n",
    "logging.info(\"EMBEDDING_DIM:\\t\\t{}\".format(EMBEDDING_DIM))\n",
    "logging.info(\"ALTERED_EMBEDDING_DIM:\\t{}\".format(ALTERED_EMBEDDING_DIM))\n",
    "logging.info(\"HIDDEN_DIM:\\t\\t\\t{}\".format(HIDDEN_DIM))\n",
    "logging.info(\"NUM_EPOCHS:\\t\\t\\t{}\".format(NUM_EPOCHS))\n",
    "logging.info(\"GOAL_LOSS_FUNCTION:\\t\\t{}\".format(GOAL_LOSS_FUNCTION))\n",
    "logging.info(\"METHOD_LOSS_FUNCTION:\\t\\t{}\".format(METHOD_LOSS_FUNCTION))\n",
    "logging.info(\"REQUESTED_LOSS_FUNCTION:\\t{}\".format(REQUESTED_LOSS_FUNCTION))"
   ]
  },
  {
   "cell_type": "markdown",
   "metadata": {},
   "source": [
    "### Models utilities"
   ]
  },
  {
   "cell_type": "code",
   "execution_count": 8,
   "metadata": {},
   "outputs": [],
   "source": [
    "def get_index_and_score(turn, token_to_index, mode, device):\n",
    "    indices = []\n",
    "    scores = []\n",
    "    if mode == \"train\":\n",
    "        for system_token, system_token_score in turn[\"system\"]:\n",
    "            indices.append(token_to_index[system_token])\n",
    "            scores.append(system_token_score)\n",
    "        for user_token, user_token_score in turn[\"user\"]:\n",
    "            if np.random.binomial(n = 1, p = 0.1) == 1:\n",
    "                indices.append(token_to_index[\"<unk>\"])\n",
    "            else:\n",
    "                indices.append(token_to_index[user_token])\n",
    "            scores.append(user_token_score)\n",
    "    else:\n",
    "        tokens_scores = turn[\"system\"] + turn[\"user\"]\n",
    "        for token, score in tokens_scores:\n",
    "            if token not in token_to_index:\n",
    "                indices.append(token_to_index[\"<unk>\"])\n",
    "            else:\n",
    "                indices.append(token_to_index[token])\n",
    "            scores.append(score)\n",
    "    assert len(indices) == len(scores)\n",
    "    return torch.tensor(indices, dtype = torch.long, device = device), torch.tensor(scores, dtype = torch.float, device = device)\n",
    "\n",
    "def plotly_plot(dev_accuracies, test_accuracies, accuracy_type):\n",
    "    plotly.offline.iplot({\n",
    "                            \"data\": [Scatter(\n",
    "                                            x = list(range(len(dev_accuracies))),\n",
    "                                            y = dev_accuracies,\n",
    "                                            mode = \"lines+markers\",\n",
    "                                            name = \"Dev {} Accuracy\".format(accuracy_type),\n",
    "                                            marker = dict(color = \"#3498db\")),\n",
    "                                    Scatter(\n",
    "                                            x = list(range(len(test_accuracies))),\n",
    "                                            y = test_accuracies,\n",
    "                                            mode = \"lines+markers\",\n",
    "                                            name = \"Test {} Accuracy\".format(accuracy_type),\n",
    "                                            marker = dict(color = \"#9b59b6\"))],\n",
    "                            \"layout\": Layout(\n",
    "                                             title = \"<b>Dev-Test {} Accuracy</b>\".format(accuracy_type),\n",
    "                                             xaxis = dict(title = \"<b>Epoch</b>\",\n",
    "                                                          dtick = 1,\n",
    "                                                          titlefont = dict(color = \"#34495e\")),\n",
    "                                             yaxis = dict(title = \"<b>Accuracy</b>\",\n",
    "                                                          titlefont = dict(color = \"#34495e\")),\n",
    "                                             margin = Margin(b = 150))\n",
    "                        })\n",
    "\n",
    "class EarlyStopping():\n",
    "    \n",
    "    def __init__(self, min_delta = 0, patience = 1):\n",
    "        \n",
    "        self.min_delta = min_delta\n",
    "        self.patience = patience\n",
    "        self.wait = 0\n",
    "        self.stopped_epoch = 0\n",
    "        self.best = -np.Inf\n",
    "        self.stop_training = False\n",
    "    \n",
    "    def on_epoch_end(self, epoch, current_value):\n",
    "        if np.greater((current_value - self.min_delta), self.best):\n",
    "            self.best = current_value\n",
    "            self.wait = 0\n",
    "        else:\n",
    "            self.wait += 1\n",
    "            if self.wait > self.patience:\n",
    "                self.stopped_epoch = epoch\n",
    "                self.stop_training = True\n",
    "        return self.stop_training\n",
    "\n",
    "get_bin = lambda x, n: format(x, \"b\").zfill(n)\n",
    "\n",
    "def make_tracker(model_All, raw_X, raw_Y, dataset):\n",
    "    \n",
    "    model_All = model_All.eval()\n",
    "    \n",
    "    with torch.no_grad():\n",
    "        tracker_json = {}\n",
    "        tracker_json[\"dataset\"] = dataset\n",
    "        tracker_json[\"sessions\"] = []\n",
    "\n",
    "        start_time = time.time()\n",
    "        for raw_X_dialog, raw_Y_dialog in tqdm(zip(raw_X, raw_Y), total = len(raw_X)):\n",
    "            \n",
    "            model_All.hidden = model_All.init_hidden()\n",
    "            \n",
    "            session = {}\n",
    "            session[\"session-id\"] = raw_X_dialog[\"session-id\"]\n",
    "            session[\"turns\"] = []\n",
    "\n",
    "            for raw_X_turn, raw_Y_turn in zip(raw_X_dialog[\"turns\"], raw_Y_dialog[\"turns\"]):\n",
    "                turn = {}\n",
    "                turn[\"goal-labels\"] = {}\n",
    "\n",
    "                indices, scores = get_index_and_score(raw_X_turn, token_to_index, mode = \"eval\", device = DEVICE)\n",
    "                \n",
    "                goal_food, goal_pricerange, goal_name, goal_area, method, requested = model_All(indices, scores)\n",
    "                turn[\"goal-labels\"][\"food\"] = retrieve_output_GoalFood(goal_food, ontology)\n",
    "                turn[\"goal-labels\"][\"pricerange\"] = retrieve_output_GoalPricerange(goal_pricerange, ontology)\n",
    "                turn[\"goal-labels\"][\"name\"] = retrieve_output_GoalName(goal_name, ontology)\n",
    "                turn[\"goal-labels\"][\"area\"] = retrieve_output_GoalArea(goal_area, ontology)\n",
    "                turn[\"requested-slots\"] = retrieve_output_Requested(requested, ontology)\n",
    "                turn[\"method-label\"] = retrieve_output_Method(method, ontology)\n",
    "                \n",
    "                session[\"turns\"].append(turn)\n",
    "            tracker_json[\"sessions\"].append(session)\n",
    "        end_time = time.time()\n",
    "        tracker_json[\"wall-time\"] = end_time - start_time\n",
    "        \n",
    "        return tracker_json\n",
    "\n",
    "def get_scores(model_All, raw_X, raw_Y, dataset):\n",
    "    goal_accuracy = 0\n",
    "    requested_accuracy = 0\n",
    "    method_accuracy = 0\n",
    "    \n",
    "    tracker = make_tracker(model_All, raw_X, raw_Y, dataset = dataset)\n",
    "    \n",
    "    with open(\"tracker.json\", \"w\") as tracker_file:\n",
    "        json.dump(tracker, tracker_file)\n",
    "    \n",
    "    if dataset == \"dstc2_train\":\n",
    "        !python2 dstc2/dstc2_scripts/score.py\\\n",
    "        --dataset dstc2_train\\\n",
    "        --dataroot dstc2/dstc2_traindev/data\\\n",
    "        --ontology dstc2/dstc2_scripts/config/ontology_dstc2.json\\\n",
    "        --trackfile tracker.json\\\n",
    "        --scorefile tracker.score.csv\n",
    "    elif dataset == \"dstc2_dev\":\n",
    "        !python2 dstc2/dstc2_scripts/score.py\\\n",
    "        --dataset dstc2_dev\\\n",
    "        --dataroot dstc2/dstc2_traindev/data\\\n",
    "        --ontology dstc2/dstc2_scripts/config/ontology_dstc2.json\\\n",
    "        --trackfile tracker.json\\\n",
    "        --scorefile tracker.score.csv\n",
    "    else:\n",
    "        !python2 dstc2/dstc2_scripts/score.py\\\n",
    "        --dataset dstc2_test\\\n",
    "        --dataroot dstc2/dstc2_test/data\\\n",
    "        --ontology dstc2/dstc2_scripts/config/ontology_dstc2.json\\\n",
    "        --trackfile tracker.json\\\n",
    "        --scorefile tracker.score.csv\n",
    "\n",
    "    file_cat = !python2 dstc2/dstc2_scripts/report.py --scorefile tracker.score.csv\n",
    "    \n",
    "    found_accuracies = False\n",
    "    for line in file_cat:\n",
    "        if line.startswith(\"Accuracy\"):\n",
    "            accuracies = line.split(\"|\")\n",
    "            goal_accuracy = float(accuracies[1])\n",
    "            requested_accuracy = float(accuracies[2])\n",
    "            method_accuracy = float(accuracies[3])\n",
    "            found_accuracies = True\n",
    "        if found_accuracies and line.startswith(\"l2\"):\n",
    "            l2s = line.split(\"|\")\n",
    "            goal_l2 = float(l2s[1])\n",
    "            method_l2 = float(l2s[2])\n",
    "            requested_l2 = float(l2s[3])\n",
    "    \n",
    "    return goal_accuracy, goal_l2, requested_accuracy, requested_l2, method_accuracy, method_l2\n",
    "\n",
    "def retrieve_gold_GoalFood(raw_Y, ontology, device):\n",
    "    ontology_informable_food = ontology[\"informable\"][\"food\"]\n",
    "    raw_goal_food = raw_Y[\"goal\"][\"food\"]\n",
    "    goal_food = 0\n",
    "    if raw_goal_food != None:\n",
    "        if raw_goal_food == \"dontcare\":\n",
    "            goal_food = 1\n",
    "        else:    \n",
    "            goal_food = ontology_informable_food.index(raw_goal_food) + 2\n",
    "    return torch.tensor([goal_food], dtype = torch.long, device = device)\n",
    "\n",
    "def retrieve_output_GoalFood(output_tensor, ontology):\n",
    "    ontology_informable_food = ontology[\"informable\"][\"food\"]\n",
    "    output_tensor = output_tensor.view(-1)\n",
    "    output_tensor = torch.exp(output_tensor)\n",
    "    goal_food_dict = {}\n",
    "    \n",
    "    index = torch.argmax(output_tensor).item()\n",
    "    if index != 0:\n",
    "        goal_food_dict[\"dontcare\"] = output_tensor[1].item() \n",
    "        for index in range(len(output_tensor) - 2):\n",
    "            goal_food_dict[ontology_informable_food[index]] = output_tensor[index + 2].item()\n",
    "    return goal_food_dict\n",
    "\n",
    "def retrieve_gold_GoalPriceRange(raw_Y, ontology, device):\n",
    "    ontology_informable_pricerange = ontology[\"informable\"][\"pricerange\"]\n",
    "    raw_goal_pricerange = raw_Y[\"goal\"][\"pricerange\"]\n",
    "    goal_pricerange = 0\n",
    "    if raw_goal_pricerange != None:\n",
    "        if raw_goal_pricerange == \"dontcare\":\n",
    "            goal_pricerange = 1\n",
    "        else:    \n",
    "            goal_pricerange = ontology_informable_pricerange.index(raw_goal_pricerange) + 2\n",
    "    return torch.tensor([goal_pricerange], dtype = torch.long, device = device)\n",
    "\n",
    "def retrieve_output_GoalPricerange(output_tensor, ontology):\n",
    "    ontology_informable_pricerange = ontology[\"informable\"][\"pricerange\"]\n",
    "    output_tensor = output_tensor.view(-1)\n",
    "    output_tensor = torch.exp(output_tensor)\n",
    "    goal_pricerange_dict = {}\n",
    "    \n",
    "    index = torch.argmax(output_tensor).item()\n",
    "    if index != 0:\n",
    "        goal_pricerange_dict[\"dontcare\"] = output_tensor[1].item()\n",
    "        for index in range(len(output_tensor) - 2):     \n",
    "            goal_pricerange_dict[ontology_informable_pricerange[index]] = output_tensor[index + 2].item()\n",
    "    return goal_pricerange_dict\n",
    "\n",
    "def retrieve_gold_GoalName(raw_Y, ontology, device):\n",
    "    ontology_informable_name = ontology[\"informable\"][\"name\"]\n",
    "    raw_goal_name = raw_Y[\"goal\"][\"name\"]\n",
    "    goal_name = 0\n",
    "    if raw_goal_name != None:\n",
    "        if raw_goal_name == \"dontcare\":\n",
    "            goal_name = 1\n",
    "        else:    \n",
    "            goal_name = ontology_informable_name.index(raw_goal_name) + 2\n",
    "    return torch.tensor([goal_name], dtype = torch.long, device = device)\n",
    "\n",
    "def retrieve_output_GoalName(output_tensor, ontology):\n",
    "    ontology_informable_name = ontology[\"informable\"][\"name\"]\n",
    "    output_tensor = output_tensor.view(-1)\n",
    "    output_tensor = torch.exp(output_tensor)\n",
    "    goal_name_dict = {}\n",
    "    \n",
    "    index = torch.argmax(output_tensor).item()\n",
    "    if index != 0:\n",
    "        goal_name_dict[\"dontcare\"] = output_tensor[1].item()\n",
    "        for index in range(len(output_tensor) - 2):\n",
    "            goal_name_dict[ontology_informable_name[index]] = output_tensor[index + 2].item()\n",
    "        \n",
    "    return goal_name_dict\n",
    "\n",
    "def retrieve_gold_GoalArea(raw_Y, ontology, device):\n",
    "    ontology_informable_area = ontology[\"informable\"][\"area\"]\n",
    "    raw_goal_area = raw_Y[\"goal\"][\"area\"]\n",
    "    goal_area = 0\n",
    "    if raw_goal_area != None:\n",
    "        if raw_goal_area == \"dontcare\":\n",
    "            goal_area = 1\n",
    "        else:    \n",
    "            goal_area = ontology_informable_area.index(raw_goal_area) + 2\n",
    "    return torch.tensor([goal_area], dtype = torch.long, device = device)\n",
    "\n",
    "def retrieve_output_GoalArea(output_tensor, ontology):\n",
    "    ontology_informable_area = ontology[\"informable\"][\"area\"]\n",
    "    output_tensor = output_tensor.view(-1)\n",
    "    output_tensor = torch.exp(output_tensor)\n",
    "    goal_area_dict = {}\n",
    "    \n",
    "    index = torch.argmax(output_tensor).item()\n",
    "    if index != 0:\n",
    "        goal_area_dict[\"dontcare\"] = output_tensor[1].item()\n",
    "        for index in range(len(output_tensor) - 2):\n",
    "            goal_area_dict[ontology_informable_area[index]] = output_tensor[index + 2].item()\n",
    "        \n",
    "    return goal_area_dict\n",
    "\n",
    "def retrieve_gold_Method(raw_Y, ontology, device):\n",
    "    ontology_method = ontology[\"method\"]\n",
    "    raw_gold_method = raw_Y[\"method\"]\n",
    "    gold_method = ontology_method.index(raw_gold_method)\n",
    "    return torch.tensor([gold_method], dtype = torch.long, device = device)\n",
    "\n",
    "def retrieve_output_Method(output_tensor, ontology):\n",
    "    ontology_method = ontology[\"method\"]\n",
    "    output_tensor = output_tensor.view(-1)\n",
    "    output_tensor = torch.exp(output_tensor)\n",
    "    method_dict = {}\n",
    "    \n",
    "    for index in range(len(output_tensor)):\n",
    "        method_dict[ontology_method[index]] = output_tensor[index].item()\n",
    "    \n",
    "    return method_dict\n",
    "\n",
    "def retrieve_gold_Requested(raw_Y, ontology, device):\n",
    "    ontology_requestable = ontology[\"requestable\"]\n",
    "    raw_gold_requested = raw_Y[\"requested\"]\n",
    "    gold_requested = np.zeros(len(ontology_requestable), dtype = float)\n",
    "    if len(raw_gold_requested) != 0:\n",
    "        for requested in raw_gold_requested:\n",
    "            gold_requested[ontology_requestable.index(requested)] = 1.0\n",
    "    return torch.tensor([gold_requested], dtype = torch.float, device = device)\n",
    "\n",
    "def retrieve_output_Requested(output_tensor, ontology):\n",
    "    ontology_requestable = ontology[\"requestable\"]\n",
    "    output_tensor = output_tensor.view(-1)\n",
    "    requested_dict = {}\n",
    "    for index in range(len(output_tensor)):\n",
    "        probability_value = output_tensor[index].item()\n",
    "        if np.greater_equal(probability_value, 0.5):\n",
    "            requested_dict[ontology_requestable[index]] = probability_value\n",
    "    return requested_dict"
   ]
  },
  {
   "cell_type": "markdown",
   "metadata": {},
   "source": [
    "### All Model"
   ]
  },
  {
   "cell_type": "code",
   "execution_count": 9,
   "metadata": {},
   "outputs": [],
   "source": [
    "class AllModel(nn.Module):\n",
    "    \n",
    "    def __init__(self,\n",
    "                 vocabulary_size,\n",
    "                 embedding_dim,\n",
    "                 altered_embedding_dim,\n",
    "                 hidden_dim,\n",
    "                 goal_food_dim,\n",
    "                 goal_pricerange_dim,\n",
    "                 goal_name_dim,\n",
    "                 goal_area_dim,\n",
    "                 method_dim,\n",
    "                 requested_dim,\n",
    "                 device):\n",
    "        \n",
    "        super(AllModel, self).__init__()\n",
    "        \n",
    "        self.hidden_dim = hidden_dim\n",
    "        self.goal_food_dim = goal_food_dim\n",
    "        self.goal_pricerange_dim = goal_pricerange_dim\n",
    "        self.goal_name_dim = goal_name_dim\n",
    "        self.goal_area_dim = goal_area_dim\n",
    "        self.method_dim = method_dim\n",
    "        self.requested_dim = requested_dim\n",
    "        self.device = device\n",
    "        \n",
    "        self.embeddings = nn.Embedding(num_embeddings = vocabulary_size,\n",
    "                                       embedding_dim = embedding_dim)\n",
    "        \n",
    "        self.altered_embeddings = nn.Linear(in_features = (embedding_dim + 1),\n",
    "                                            out_features = altered_embedding_dim)\n",
    "        \n",
    "        self.lstm = nn.LSTM(input_size = altered_embedding_dim,\n",
    "                            hidden_size = hidden_dim)\n",
    "        \n",
    "        self.goal_food_classifier = nn.Linear(in_features = hidden_dim,\n",
    "                                              out_features = goal_food_dim)\n",
    "        \n",
    "        self.goal_pricerange_classifier = nn.Linear(in_features = hidden_dim,\n",
    "                                                    out_features = goal_pricerange_dim)\n",
    "        \n",
    "        self.goal_name_classifier = nn.Linear(in_features = hidden_dim,\n",
    "                                              out_features = goal_name_dim)\n",
    "        \n",
    "        self.goal_area_classifier = nn.Linear(in_features = hidden_dim,\n",
    "                                              out_features = goal_area_dim)\n",
    "        \n",
    "        self.method_classifier = nn.Linear(in_features = hidden_dim,\n",
    "                                           out_features = method_dim)\n",
    "        \n",
    "        self.requested_classifier = nn.Linear(in_features = hidden_dim,\n",
    "                                              out_features = requested_dim)\n",
    "        \n",
    "        self.hidden = self.init_hidden()\n",
    "    \n",
    "    def init_hidden(self):\n",
    "        \n",
    "        return (torch.zeros(1, 1, self.hidden_dim, device = self.device),\n",
    "                torch.zeros(1, 1, self.hidden_dim, device = self.device))\n",
    "        \n",
    "    def forward(self, indices, scores):\n",
    "    \n",
    "        embeddings = self.embeddings(indices)\n",
    "        \n",
    "        embeddings_concat_score = torch.cat((embeddings, scores.unsqueeze(dim = 1)), dim = 1) \n",
    "        \n",
    "        altered_embeddings = F.relu(self.altered_embeddings(embeddings_concat_score))\n",
    "        \n",
    "        lstm_out, self.hidden = self.lstm(altered_embeddings.view(len(indices), 1, -1), self.hidden)\n",
    "        \n",
    "        goal_food = F.log_softmax(self.goal_food_classifier(self.hidden[0]).view(-1, self.goal_food_dim), dim = 1)        \n",
    "        \n",
    "        goal_pricerange = F.log_softmax(self.goal_pricerange_classifier(self.hidden[0]).view(-1, self.goal_pricerange_dim), dim = 1) \n",
    "        \n",
    "        goal_name = F.log_softmax(self.goal_name_classifier(self.hidden[0]).view(-1, self.goal_name_dim), dim = 1)\n",
    "        \n",
    "        goal_area = F.log_softmax(self.goal_area_classifier(self.hidden[0]).view(-1, self.goal_area_dim), dim = 1)\n",
    "        \n",
    "        method = F.log_softmax(self.method_classifier(self.hidden[0]).view(-1, self.method_dim), dim = 1)\n",
    "        \n",
    "        requested = torch.sigmoid(self.requested_classifier(self.hidden[0]).view(-1, self.requested_dim))\n",
    "        \n",
    "        return goal_food, goal_pricerange, goal_name, goal_area, method, requested\n",
    "\n",
    "model_All = AllModel(vocabulary_size = VOCABULARY_SIZE,\n",
    "                               embedding_dim = EMBEDDING_DIM,\n",
    "                               altered_embedding_dim = ALTERED_EMBEDDING_DIM,\n",
    "                               hidden_dim = HIDDEN_DIM,\n",
    "                               goal_food_dim = GOAL_FOOD_DIM,\n",
    "                               goal_pricerange_dim = GOAL_PRICERANGE_DIM,\n",
    "                               goal_name_dim = GOAL_NAME_DIM,\n",
    "                               goal_area_dim = GOAL_AREA_DIM,\n",
    "                               method_dim = METHOD_DIM,\n",
    "                               requested_dim = REQUESTED_DIM,\n",
    "                               device = DEVICE)\n",
    "\n",
    "model_All = model_All.to(DEVICE)\n",
    "\n",
    "optimizer_AllModel = optim.Adam(model_All.parameters(), lr = 1e-4)"
   ]
  },
  {
   "cell_type": "markdown",
   "metadata": {},
   "source": [
    "### Train All Model"
   ]
  },
  {
   "cell_type": "code",
   "execution_count": 10,
   "metadata": {
    "scrolled": false
   },
   "outputs": [
    {
     "name": "stderr",
     "output_type": "stream",
     "text": [
      "INFO:root:Epoch\t1/30\n",
      "100%|██████████| 3224/3224 [02:27<00:00, 21.92it/s]\n",
      "100%|██████████| 506/506 [00:07<00:00, 65.03it/s]\n",
      "INFO:root:DEV Acc:\t\t0.3967675(0.4)\t\t0.7969708(0.8)\t\t0.8574754(0.86)\n",
      "INFO:root:DEV L2:\t\t0.8129726(0.81)\t\t0.2048655(0.2)\t\t0.437068(0.44)\n",
      "100%|██████████| 1117/1117 [00:21<00:00, 51.56it/s]\n",
      "INFO:root:TEST Acc:\t\t0.415626(0.42)\t\t0.8136829(0.81)\t\t0.8877258(0.89)\n",
      "INFO:root:TEST L2:\t\t0.7996968(0.8)\t\t0.1685807(0.17)\t\t0.4113131(0.41)\n",
      "INFO:root:Epoch\t2/30\n",
      "100%|██████████| 3224/3224 [02:28<00:00, 19.77it/s]\n",
      "100%|██████████| 506/506 [00:07<00:00, 69.78it/s]\n",
      "INFO:root:DEV Acc:\t\t0.5341502(0.53)\t\t0.8543094(0.85)\t\t0.8900673(0.89)\n",
      "INFO:root:DEV L2:\t\t0.6812191(0.68)\t\t0.1782022(0.18)\t\t0.3099616(0.31)\n",
      "100%|██████████| 1117/1117 [00:21<00:00, 53.18it/s]\n",
      "INFO:root:TEST Acc:\t\t0.5521726(0.55)\t\t0.8640389(0.86)\t\t0.9160509(0.92)\n",
      "INFO:root:TEST L2:\t\t0.6566101(0.66)\t\t0.1338466(0.13)\t\t0.2921044(0.29)\n",
      "INFO:root:Epoch\t3/30\n",
      "100%|██████████| 3224/3224 [02:27<00:00, 20.14it/s]\n",
      "100%|██████████| 506/506 [00:07<00:00, 64.69it/s]\n",
      "INFO:root:DEV Acc:\t\t0.5578728(0.56)\t\t0.8846015(0.88)\t\t0.8936886(0.89)\n",
      "INFO:root:DEV L2:\t\t0.6561937(0.66)\t\t0.1738686(0.17)\t\t0.2365695(0.24)\n",
      "100%|██████████| 1117/1117 [00:21<00:00, 52.85it/s]\n",
      "INFO:root:TEST Acc:\t\t0.5741563(0.57)\t\t0.8923424(0.89)\t\t0.9187192(0.92)\n",
      "INFO:root:TEST L2:\t\t0.651123(0.65)\t\t0.1290583(0.13)\t\t0.2177197(0.22)\n",
      "INFO:root:Epoch\t4/30\n",
      "100%|██████████| 3224/3224 [02:26<00:00, 21.95it/s]\n",
      "100%|██████████| 506/506 [00:08<00:00, 61.31it/s]\n",
      "INFO:root:DEV Acc:\t\t0.5750782(0.58)\t\t0.9001082(0.9)\t\t0.8960166(0.9)\n",
      "INFO:root:DEV L2:\t\t0.6535851(0.65)\t\t0.1716496(0.17)\t\t0.203664(0.2)\n",
      "100%|██████████| 1117/1117 [00:21<00:00, 51.71it/s]\n",
      "INFO:root:TEST Acc:\t\t0.5983074(0.6)\t\t0.9112693(0.91)\t\t0.9220033(0.92)\n",
      "INFO:root:TEST L2:\t\t0.6259139(0.63)\t\t0.1234646(0.12)\t\t0.179423(0.18)\n",
      "INFO:root:Epoch\t5/30\n",
      "100%|██████████| 3224/3224 [02:26<00:00, 21.95it/s]\n",
      "100%|██████████| 506/506 [00:07<00:00, 64.77it/s]\n",
      "INFO:root:DEV Acc:\t\t0.5828989(0.58)\t\t0.9098449(0.91)\t\t0.8905846(0.89)\n",
      "INFO:root:DEV L2:\t\t0.6377384(0.64)\t\t0.1773103(0.18)\t\t0.182775(0.18)\n",
      "100%|██████████| 1117/1117 [00:20<00:00, 53.92it/s]\n",
      "INFO:root:TEST Acc:\t\t0.5960367(0.6)\t\t0.9145685(0.91)\t\t0.92539(0.93)\n",
      "INFO:root:TEST L2:\t\t0.6270425(0.63)\t\t0.119364(0.12)\t\t0.1696225(0.17)\n",
      "INFO:root:Epoch\t6/30\n",
      "100%|██████████| 3224/3224 [02:27<00:00, 21.85it/s]\n",
      "100%|██████████| 506/506 [00:07<00:00, 64.34it/s]\n",
      "INFO:root:DEV Acc:\t\t0.5922836(0.59)\t\t0.9177786(0.92)\t\t0.8931712(0.89)\n",
      "INFO:root:DEV L2:\t\t0.6152658(0.62)\t\t0.1788411(0.18)\t\t0.1675484(0.17)\n",
      "100%|██████████| 1117/1117 [00:21<00:00, 52.49it/s]\n",
      "INFO:root:TEST Acc:\t\t0.6234906(0.62)\t\t0.9301962(0.93)\t\t0.9240558(0.92)\n",
      "INFO:root:TEST L2:\t\t0.5748415(0.57)\t\t0.122309(0.12)\t\t0.1397823(0.14)\n",
      "INFO:root:Epoch\t7/30\n",
      "100%|██████████| 3224/3224 [02:27<00:00, 21.83it/s]\n",
      "100%|██████████| 506/506 [00:07<00:00, 65.65it/s]\n",
      "INFO:root:DEV Acc:\t\t0.5995829(0.6)\t\t0.917418(0.92)\t\t0.8973099(0.9)\n",
      "INFO:root:DEV L2:\t\t0.5994483(0.6)\t\t0.1760664(0.18)\t\t0.1627951(0.16)\n",
      "100%|██████████| 1117/1117 [00:21<00:00, 51.38it/s]\n",
      "INFO:root:TEST Acc:\t\t0.6243162(0.62)\t\t0.938531(0.94)\t\t0.9266215(0.93)\n",
      "INFO:root:TEST L2:\t\t0.5638726(0.56)\t\t0.1197434(0.12)\t\t0.1228941(0.12)\n",
      "INFO:root:Epoch\t8/30\n",
      "100%|██████████| 3224/3224 [02:27<00:00, 21.80it/s]\n",
      "100%|██████████| 506/506 [00:08<00:00, 60.36it/s]\n",
      "INFO:root:DEV Acc:\t\t0.5901981(0.59)\t\t0.9314821(0.93)\t\t0.8929126(0.89)\n",
      "INFO:root:DEV L2:\t\t0.6137992(0.61)\t\t0.1768849(0.18)\t\t0.1373558(0.14)\n",
      "100%|██████████| 1117/1117 [00:21<00:00, 52.25it/s]\n",
      "INFO:root:TEST Acc:\t\t0.636495(0.64)\t\t0.9359264(0.94)\t\t0.9255952(0.93)\n",
      "INFO:root:TEST L2:\t\t0.5481907(0.55)\t\t0.1204485(0.12)\t\t0.1247566(0.12)\n",
      "INFO:root:Epoch\t9/30\n",
      "100%|██████████| 3224/3224 [02:28<00:00, 28.21it/s]\n",
      "100%|██████████| 506/506 [00:07<00:00, 64.05it/s]\n",
      "INFO:root:DEV Acc:\t\t0.6055787(0.61)\t\t0.9307609(0.93)\t\t0.8892913(0.89)\n",
      "INFO:root:DEV L2:\t\t0.6100011(0.61)\t\t0.1816795(0.18)\t\t0.1330181(0.13)\n",
      "100%|██████████| 1117/1117 [00:21<00:00, 51.31it/s]\n",
      "INFO:root:TEST Acc:\t\t0.6436165(0.64)\t\t0.9461712(0.95)\t\t0.924569(0.92)\n",
      "INFO:root:TEST L2:\t\t0.5602269(0.56)\t\t0.1233643(0.12)\t\t0.1007843(0.1)\n",
      "INFO:root:Epoch\t10/30\n",
      "100%|██████████| 3224/3224 [02:27<00:00, 19.06it/s]\n",
      "100%|██████████| 506/506 [00:08<00:00, 62.90it/s]\n",
      "INFO:root:DEV Acc:\t\t0.6152242(0.62)\t\t0.9343671(0.93)\t\t0.8923952(0.89)\n",
      "INFO:root:DEV L2:\t\t0.5821954(0.58)\t\t0.1809959(0.18)\t\t0.125063(0.13)\n",
      "100%|██████████| 1117/1117 [00:20<00:00, 53.27it/s]\n",
      "INFO:root:TEST Acc:\t\t0.6375271(0.64)\t\t0.9470394(0.95)\t\t0.9277504(0.93)\n",
      "INFO:root:TEST L2:\t\t0.5602929(0.56)\t\t0.1184104(0.12)\t\t0.1000593(0.1)\n",
      "INFO:root:Epoch\t11/30\n",
      "100%|██████████| 3224/3224 [02:27<00:00, 21.88it/s]\n",
      "100%|██████████| 506/506 [00:07<00:00, 66.32it/s]\n",
      "INFO:root:DEV Acc:\t\t0.6167883(0.62)\t\t0.9350884(0.94)\t\t0.8947232(0.89)\n",
      "INFO:root:DEV L2:\t\t0.6077016(0.61)\t\t0.1794058(0.18)\t\t0.1251012(0.13)\n",
      "100%|██████████| 1117/1117 [00:21<00:00, 52.95it/s]\n",
      "INFO:root:TEST Acc:\t\t0.6198782(0.62)\t\t0.9459976(0.95)\t\t0.9280583(0.93)\n",
      "INFO:root:TEST L2:\t\t0.6145543(0.61)\t\t0.1196243(0.12)\t\t0.1023859(0.1)\n",
      "INFO:root:Epoch\t12/30\n",
      "100%|██████████| 3224/3224 [02:26<00:00, 22.00it/s]\n",
      "100%|██████████| 506/506 [00:08<00:00, 62.96it/s]\n",
      "INFO:root:DEV Acc:\t\t0.6019291(0.6)\t\t0.9347277(0.93)\t\t0.8890326(0.89)\n",
      "INFO:root:DEV L2:\t\t0.6095959(0.61)\t\t0.1875596(0.19)\t\t0.1240777(0.12)\n",
      "100%|██████████| 1117/1117 [00:21<00:00, 53.15it/s]\n",
      "INFO:root:TEST Acc:\t\t0.6119311(0.61)\t\t0.9465185(0.95)\t\t0.9235427(0.92)\n",
      "INFO:root:TEST L2:\t\t0.6160791(0.62)\t\t0.1282675(0.13)\t\t0.1006496(0.1)\n",
      "INFO:root:Epoch\t13/30\n",
      "100%|██████████| 3224/3224 [02:25<00:00, 22.14it/s]\n",
      "100%|██████████| 506/506 [00:07<00:00, 65.67it/s]\n",
      "INFO:root:DEV Acc:\t\t0.6120959(0.61)\t\t0.9368915(0.94)\t\t0.8898086(0.89)\n",
      "INFO:root:DEV L2:\t\t0.6104155(0.61)\t\t0.1863511(0.19)\t\t0.1220506(0.12)\n",
      "100%|██████████| 1117/1117 [00:20<00:00, 53.85it/s]\n",
      "INFO:root:TEST Acc:\t\t0.6214264(0.62)\t\t0.9492968(0.95)\t\t0.9259031(0.93)\n",
      "INFO:root:TEST L2:\t\t0.618731(0.62)\t\t0.1215501(0.12)\t\t0.1001914(0.1)\n"
     ]
    },
    {
     "data": {
      "application/vnd.plotly.v1+json": {
       "config": {
        "linkText": "Export to plot.ly",
        "plotlyServerURL": "https://plot.ly",
        "showLink": true
       },
       "data": [
        {
         "marker": {
          "color": "#3498db"
         },
         "mode": "lines+markers",
         "name": "Dev Global Accuracy",
         "type": "scatter",
         "uid": "ca687ca9-a1eb-4a47-96d3-dd51f753e02f",
         "x": [
          0,
          1,
          2,
          3,
          4,
          5,
          6,
          7,
          8,
          9,
          10,
          11,
          12
         ],
         "y": [
          0.3967675,
          0.5341502,
          0.5578728,
          0.5750782,
          0.5828989,
          0.5922836,
          0.5995829,
          0.5901981,
          0.6055787,
          0.6152242,
          0.6167883,
          0.6019291,
          0.6120959
         ]
        },
        {
         "marker": {
          "color": "#9b59b6"
         },
         "mode": "lines+markers",
         "name": "Test Global Accuracy",
         "type": "scatter",
         "uid": "1c903a6d-f3eb-4fd3-8ed3-cbd9e4c15446",
         "x": [
          0,
          1,
          2,
          3,
          4,
          5,
          6,
          7,
          8,
          9,
          10,
          11,
          12
         ],
         "y": [
          0.415626,
          0.5521726,
          0.5741563,
          0.5983074,
          0.5960367,
          0.6234906,
          0.6243162,
          0.636495,
          0.6436165,
          0.6375271,
          0.6198782,
          0.6119311,
          0.6214264
         ]
        }
       ],
       "layout": {
        "margin": {
         "b": 150
        },
        "title": "<b>Train-Dev-Test Global Accuracy</b>",
        "xaxis": {
         "dtick": 1,
         "title": "<b>Epoch</b>",
         "titlefont": {
          "color": "#34495e"
         }
        },
        "yaxis": {
         "title": "<b>Accuracy</b>",
         "titlefont": {
          "color": "#34495e"
         }
        }
       }
      },
      "text/html": [
       "<div id=\"2a376739-1ac2-4e0d-98c4-38768b4398ab\" style=\"height: 525px; width: 100%;\" class=\"plotly-graph-div\"></div><script type=\"text/javascript\">require([\"plotly\"], function(Plotly) { window.PLOTLYENV=window.PLOTLYENV || {};window.PLOTLYENV.BASE_URL=\"https://plot.ly\";Plotly.newPlot(\"2a376739-1ac2-4e0d-98c4-38768b4398ab\", [{\"marker\": {\"color\": \"#3498db\"}, \"mode\": \"lines+markers\", \"name\": \"Dev Global Accuracy\", \"x\": [0, 1, 2, 3, 4, 5, 6, 7, 8, 9, 10, 11, 12], \"y\": [0.3967675, 0.5341502, 0.5578728, 0.5750782, 0.5828989, 0.5922836, 0.5995829, 0.5901981, 0.6055787, 0.6152242, 0.6167883, 0.6019291, 0.6120959], \"type\": \"scatter\", \"uid\": \"b8de7600-a57f-4d19-bcfb-5354751d26cd\"}, {\"marker\": {\"color\": \"#9b59b6\"}, \"mode\": \"lines+markers\", \"name\": \"Test Global Accuracy\", \"x\": [0, 1, 2, 3, 4, 5, 6, 7, 8, 9, 10, 11, 12], \"y\": [0.415626, 0.5521726, 0.5741563, 0.5983074, 0.5960367, 0.6234906, 0.6243162, 0.636495, 0.6436165, 0.6375271, 0.6198782, 0.6119311, 0.6214264], \"type\": \"scatter\", \"uid\": \"b897823d-7537-4679-b0ef-c4047f8d36f3\"}], {\"margin\": {\"b\": 150}, \"title\": \"<b>Train-Dev-Test Global Accuracy</b>\", \"xaxis\": {\"dtick\": 1, \"title\": \"<b>Epoch</b>\", \"titlefont\": {\"color\": \"#34495e\"}}, \"yaxis\": {\"title\": \"<b>Accuracy</b>\", \"titlefont\": {\"color\": \"#34495e\"}}}, {\"showLink\": true, \"linkText\": \"Export to plot.ly\", \"plotlyServerURL\": \"https://plot.ly\"})});</script><script type=\"text/javascript\">window.addEventListener(\"resize\", function(){window._Plotly.Plots.resize(document.getElementById(\"2a376739-1ac2-4e0d-98c4-38768b4398ab\"));});</script>"
      ],
      "text/vnd.plotly.v1+html": [
       "<div id=\"2a376739-1ac2-4e0d-98c4-38768b4398ab\" style=\"height: 525px; width: 100%;\" class=\"plotly-graph-div\"></div><script type=\"text/javascript\">require([\"plotly\"], function(Plotly) { window.PLOTLYENV=window.PLOTLYENV || {};window.PLOTLYENV.BASE_URL=\"https://plot.ly\";Plotly.newPlot(\"2a376739-1ac2-4e0d-98c4-38768b4398ab\", [{\"marker\": {\"color\": \"#3498db\"}, \"mode\": \"lines+markers\", \"name\": \"Dev Global Accuracy\", \"x\": [0, 1, 2, 3, 4, 5, 6, 7, 8, 9, 10, 11, 12], \"y\": [0.3967675, 0.5341502, 0.5578728, 0.5750782, 0.5828989, 0.5922836, 0.5995829, 0.5901981, 0.6055787, 0.6152242, 0.6167883, 0.6019291, 0.6120959], \"type\": \"scatter\", \"uid\": \"b8de7600-a57f-4d19-bcfb-5354751d26cd\"}, {\"marker\": {\"color\": \"#9b59b6\"}, \"mode\": \"lines+markers\", \"name\": \"Test Global Accuracy\", \"x\": [0, 1, 2, 3, 4, 5, 6, 7, 8, 9, 10, 11, 12], \"y\": [0.415626, 0.5521726, 0.5741563, 0.5983074, 0.5960367, 0.6234906, 0.6243162, 0.636495, 0.6436165, 0.6375271, 0.6198782, 0.6119311, 0.6214264], \"type\": \"scatter\", \"uid\": \"b897823d-7537-4679-b0ef-c4047f8d36f3\"}], {\"margin\": {\"b\": 150}, \"title\": \"<b>Train-Dev-Test Global Accuracy</b>\", \"xaxis\": {\"dtick\": 1, \"title\": \"<b>Epoch</b>\", \"titlefont\": {\"color\": \"#34495e\"}}, \"yaxis\": {\"title\": \"<b>Accuracy</b>\", \"titlefont\": {\"color\": \"#34495e\"}}}, {\"showLink\": true, \"linkText\": \"Export to plot.ly\", \"plotlyServerURL\": \"https://plot.ly\"})});</script><script type=\"text/javascript\">window.addEventListener(\"resize\", function(){window._Plotly.Plots.resize(document.getElementById(\"2a376739-1ac2-4e0d-98c4-38768b4398ab\"));});</script>"
      ]
     },
     "metadata": {},
     "output_type": "display_data"
    },
    {
     "data": {
      "application/vnd.plotly.v1+json": {
       "config": {
        "linkText": "Export to plot.ly",
        "plotlyServerURL": "https://plot.ly",
        "showLink": true
       },
       "data": [
        {
         "marker": {
          "color": "#3498db"
         },
         "mode": "lines+markers",
         "name": "Dev Requested Accuracy",
         "type": "scatter",
         "uid": "c3ada383-400c-43f1-bf66-b848a1af2f54",
         "x": [
          0,
          1,
          2,
          3,
          4,
          5,
          6,
          7,
          8,
          9,
          10,
          11,
          12
         ],
         "y": [
          0.7969708,
          0.8543094,
          0.8846015,
          0.9001082,
          0.9098449,
          0.9177786,
          0.917418,
          0.9314821,
          0.9307609,
          0.9343671,
          0.9350884,
          0.9347277,
          0.9368915
         ]
        },
        {
         "marker": {
          "color": "#9b59b6"
         },
         "mode": "lines+markers",
         "name": "Test Requested Accuracy",
         "type": "scatter",
         "uid": "9ff18cbc-ded5-446e-9912-8d595e21641b",
         "x": [
          0,
          1,
          2,
          3,
          4,
          5,
          6,
          7,
          8,
          9,
          10,
          11,
          12
         ],
         "y": [
          0.8136829,
          0.8640389,
          0.8923424,
          0.9112693,
          0.9145685,
          0.9301962,
          0.938531,
          0.9359264,
          0.9461712,
          0.9470394,
          0.9459976,
          0.9465185,
          0.9492968
         ]
        }
       ],
       "layout": {
        "margin": {
         "b": 150
        },
        "title": "<b>Train-Dev-Test Requested Accuracy</b>",
        "xaxis": {
         "dtick": 1,
         "title": "<b>Epoch</b>",
         "titlefont": {
          "color": "#34495e"
         }
        },
        "yaxis": {
         "title": "<b>Accuracy</b>",
         "titlefont": {
          "color": "#34495e"
         }
        }
       }
      },
      "text/html": [
       "<div id=\"43bd86b9-2cb1-4dfa-8b3d-8ebce31862c4\" style=\"height: 525px; width: 100%;\" class=\"plotly-graph-div\"></div><script type=\"text/javascript\">require([\"plotly\"], function(Plotly) { window.PLOTLYENV=window.PLOTLYENV || {};window.PLOTLYENV.BASE_URL=\"https://plot.ly\";Plotly.newPlot(\"43bd86b9-2cb1-4dfa-8b3d-8ebce31862c4\", [{\"marker\": {\"color\": \"#3498db\"}, \"mode\": \"lines+markers\", \"name\": \"Dev Requested Accuracy\", \"x\": [0, 1, 2, 3, 4, 5, 6, 7, 8, 9, 10, 11, 12], \"y\": [0.7969708, 0.8543094, 0.8846015, 0.9001082, 0.9098449, 0.9177786, 0.917418, 0.9314821, 0.9307609, 0.9343671, 0.9350884, 0.9347277, 0.9368915], \"type\": \"scatter\", \"uid\": \"079d1bc8-6a0d-4691-abac-ca7d32348f03\"}, {\"marker\": {\"color\": \"#9b59b6\"}, \"mode\": \"lines+markers\", \"name\": \"Test Requested Accuracy\", \"x\": [0, 1, 2, 3, 4, 5, 6, 7, 8, 9, 10, 11, 12], \"y\": [0.8136829, 0.8640389, 0.8923424, 0.9112693, 0.9145685, 0.9301962, 0.938531, 0.9359264, 0.9461712, 0.9470394, 0.9459976, 0.9465185, 0.9492968], \"type\": \"scatter\", \"uid\": \"3ed5cbc8-af51-4829-8ffd-38fb8d1ca5c3\"}], {\"margin\": {\"b\": 150}, \"title\": \"<b>Train-Dev-Test Requested Accuracy</b>\", \"xaxis\": {\"dtick\": 1, \"title\": \"<b>Epoch</b>\", \"titlefont\": {\"color\": \"#34495e\"}}, \"yaxis\": {\"title\": \"<b>Accuracy</b>\", \"titlefont\": {\"color\": \"#34495e\"}}}, {\"showLink\": true, \"linkText\": \"Export to plot.ly\", \"plotlyServerURL\": \"https://plot.ly\"})});</script><script type=\"text/javascript\">window.addEventListener(\"resize\", function(){window._Plotly.Plots.resize(document.getElementById(\"43bd86b9-2cb1-4dfa-8b3d-8ebce31862c4\"));});</script>"
      ],
      "text/vnd.plotly.v1+html": [
       "<div id=\"43bd86b9-2cb1-4dfa-8b3d-8ebce31862c4\" style=\"height: 525px; width: 100%;\" class=\"plotly-graph-div\"></div><script type=\"text/javascript\">require([\"plotly\"], function(Plotly) { window.PLOTLYENV=window.PLOTLYENV || {};window.PLOTLYENV.BASE_URL=\"https://plot.ly\";Plotly.newPlot(\"43bd86b9-2cb1-4dfa-8b3d-8ebce31862c4\", [{\"marker\": {\"color\": \"#3498db\"}, \"mode\": \"lines+markers\", \"name\": \"Dev Requested Accuracy\", \"x\": [0, 1, 2, 3, 4, 5, 6, 7, 8, 9, 10, 11, 12], \"y\": [0.7969708, 0.8543094, 0.8846015, 0.9001082, 0.9098449, 0.9177786, 0.917418, 0.9314821, 0.9307609, 0.9343671, 0.9350884, 0.9347277, 0.9368915], \"type\": \"scatter\", \"uid\": \"079d1bc8-6a0d-4691-abac-ca7d32348f03\"}, {\"marker\": {\"color\": \"#9b59b6\"}, \"mode\": \"lines+markers\", \"name\": \"Test Requested Accuracy\", \"x\": [0, 1, 2, 3, 4, 5, 6, 7, 8, 9, 10, 11, 12], \"y\": [0.8136829, 0.8640389, 0.8923424, 0.9112693, 0.9145685, 0.9301962, 0.938531, 0.9359264, 0.9461712, 0.9470394, 0.9459976, 0.9465185, 0.9492968], \"type\": \"scatter\", \"uid\": \"3ed5cbc8-af51-4829-8ffd-38fb8d1ca5c3\"}], {\"margin\": {\"b\": 150}, \"title\": \"<b>Train-Dev-Test Requested Accuracy</b>\", \"xaxis\": {\"dtick\": 1, \"title\": \"<b>Epoch</b>\", \"titlefont\": {\"color\": \"#34495e\"}}, \"yaxis\": {\"title\": \"<b>Accuracy</b>\", \"titlefont\": {\"color\": \"#34495e\"}}}, {\"showLink\": true, \"linkText\": \"Export to plot.ly\", \"plotlyServerURL\": \"https://plot.ly\"})});</script><script type=\"text/javascript\">window.addEventListener(\"resize\", function(){window._Plotly.Plots.resize(document.getElementById(\"43bd86b9-2cb1-4dfa-8b3d-8ebce31862c4\"));});</script>"
      ]
     },
     "metadata": {},
     "output_type": "display_data"
    },
    {
     "data": {
      "application/vnd.plotly.v1+json": {
       "config": {
        "linkText": "Export to plot.ly",
        "plotlyServerURL": "https://plot.ly",
        "showLink": true
       },
       "data": [
        {
         "marker": {
          "color": "#3498db"
         },
         "mode": "lines+markers",
         "name": "Dev Method Accuracy",
         "type": "scatter",
         "uid": "f49e1a9a-32bd-450a-b16b-c14806ab813f",
         "x": [
          0,
          1,
          2,
          3,
          4,
          5,
          6,
          7,
          8,
          9,
          10,
          11,
          12
         ],
         "y": [
          0.8574754,
          0.8900673,
          0.8936886,
          0.8960166,
          0.8905846,
          0.8931712,
          0.8973099,
          0.8929126,
          0.8892913,
          0.8923952,
          0.8947232,
          0.8890326,
          0.8898086
         ]
        },
        {
         "marker": {
          "color": "#9b59b6"
         },
         "mode": "lines+markers",
         "name": "Test Method Accuracy",
         "type": "scatter",
         "uid": "71a088c4-901b-439c-84da-15e3c89b1e87",
         "x": [
          0,
          1,
          2,
          3,
          4,
          5,
          6,
          7,
          8,
          9,
          10,
          11,
          12
         ],
         "y": [
          0.8136829,
          0.8640389,
          0.8923424,
          0.9112693,
          0.9145685,
          0.9301962,
          0.938531,
          0.9359264,
          0.9461712,
          0.9470394,
          0.9459976,
          0.9465185,
          0.9492968
         ]
        }
       ],
       "layout": {
        "margin": {
         "b": 150
        },
        "title": "<b>Train-Dev-Test Method Accuracy</b>",
        "xaxis": {
         "dtick": 1,
         "title": "<b>Epoch</b>",
         "titlefont": {
          "color": "#34495e"
         }
        },
        "yaxis": {
         "title": "<b>Accuracy</b>",
         "titlefont": {
          "color": "#34495e"
         }
        }
       }
      },
      "text/html": [
       "<div id=\"c13402c2-8f07-4e22-b40a-02f293be83d5\" style=\"height: 525px; width: 100%;\" class=\"plotly-graph-div\"></div><script type=\"text/javascript\">require([\"plotly\"], function(Plotly) { window.PLOTLYENV=window.PLOTLYENV || {};window.PLOTLYENV.BASE_URL=\"https://plot.ly\";Plotly.newPlot(\"c13402c2-8f07-4e22-b40a-02f293be83d5\", [{\"marker\": {\"color\": \"#3498db\"}, \"mode\": \"lines+markers\", \"name\": \"Dev Method Accuracy\", \"x\": [0, 1, 2, 3, 4, 5, 6, 7, 8, 9, 10, 11, 12], \"y\": [0.8574754, 0.8900673, 0.8936886, 0.8960166, 0.8905846, 0.8931712, 0.8973099, 0.8929126, 0.8892913, 0.8923952, 0.8947232, 0.8890326, 0.8898086], \"type\": \"scatter\", \"uid\": \"4e5039fe-27eb-497b-9882-d709e2d1547c\"}, {\"marker\": {\"color\": \"#9b59b6\"}, \"mode\": \"lines+markers\", \"name\": \"Test Method Accuracy\", \"x\": [0, 1, 2, 3, 4, 5, 6, 7, 8, 9, 10, 11, 12], \"y\": [0.8136829, 0.8640389, 0.8923424, 0.9112693, 0.9145685, 0.9301962, 0.938531, 0.9359264, 0.9461712, 0.9470394, 0.9459976, 0.9465185, 0.9492968], \"type\": \"scatter\", \"uid\": \"5013ade1-427c-4f40-bde1-5b661213c8fa\"}], {\"margin\": {\"b\": 150}, \"title\": \"<b>Train-Dev-Test Method Accuracy</b>\", \"xaxis\": {\"dtick\": 1, \"title\": \"<b>Epoch</b>\", \"titlefont\": {\"color\": \"#34495e\"}}, \"yaxis\": {\"title\": \"<b>Accuracy</b>\", \"titlefont\": {\"color\": \"#34495e\"}}}, {\"showLink\": true, \"linkText\": \"Export to plot.ly\", \"plotlyServerURL\": \"https://plot.ly\"})});</script><script type=\"text/javascript\">window.addEventListener(\"resize\", function(){window._Plotly.Plots.resize(document.getElementById(\"c13402c2-8f07-4e22-b40a-02f293be83d5\"));});</script>"
      ],
      "text/vnd.plotly.v1+html": [
       "<div id=\"c13402c2-8f07-4e22-b40a-02f293be83d5\" style=\"height: 525px; width: 100%;\" class=\"plotly-graph-div\"></div><script type=\"text/javascript\">require([\"plotly\"], function(Plotly) { window.PLOTLYENV=window.PLOTLYENV || {};window.PLOTLYENV.BASE_URL=\"https://plot.ly\";Plotly.newPlot(\"c13402c2-8f07-4e22-b40a-02f293be83d5\", [{\"marker\": {\"color\": \"#3498db\"}, \"mode\": \"lines+markers\", \"name\": \"Dev Method Accuracy\", \"x\": [0, 1, 2, 3, 4, 5, 6, 7, 8, 9, 10, 11, 12], \"y\": [0.8574754, 0.8900673, 0.8936886, 0.8960166, 0.8905846, 0.8931712, 0.8973099, 0.8929126, 0.8892913, 0.8923952, 0.8947232, 0.8890326, 0.8898086], \"type\": \"scatter\", \"uid\": \"4e5039fe-27eb-497b-9882-d709e2d1547c\"}, {\"marker\": {\"color\": \"#9b59b6\"}, \"mode\": \"lines+markers\", \"name\": \"Test Method Accuracy\", \"x\": [0, 1, 2, 3, 4, 5, 6, 7, 8, 9, 10, 11, 12], \"y\": [0.8136829, 0.8640389, 0.8923424, 0.9112693, 0.9145685, 0.9301962, 0.938531, 0.9359264, 0.9461712, 0.9470394, 0.9459976, 0.9465185, 0.9492968], \"type\": \"scatter\", \"uid\": \"5013ade1-427c-4f40-bde1-5b661213c8fa\"}], {\"margin\": {\"b\": 150}, \"title\": \"<b>Train-Dev-Test Method Accuracy</b>\", \"xaxis\": {\"dtick\": 1, \"title\": \"<b>Epoch</b>\", \"titlefont\": {\"color\": \"#34495e\"}}, \"yaxis\": {\"title\": \"<b>Accuracy</b>\", \"titlefont\": {\"color\": \"#34495e\"}}}, {\"showLink\": true, \"linkText\": \"Export to plot.ly\", \"plotlyServerURL\": \"https://plot.ly\"})});</script><script type=\"text/javascript\">window.addEventListener(\"resize\", function(){window._Plotly.Plots.resize(document.getElementById(\"c13402c2-8f07-4e22-b40a-02f293be83d5\"));});</script>"
      ]
     },
     "metadata": {},
     "output_type": "display_data"
    }
   ],
   "source": [
    "dev_goal_accuracies = []\n",
    "dev_requested_accuracies = []\n",
    "dev_method_accuracies = []\n",
    "\n",
    "test_goal_accuracies = []\n",
    "test_requested_accuracies = []\n",
    "test_method_accuracies = []\n",
    "\n",
    "all_early_stopping = EarlyStopping(patience = 2,\n",
    "                                   min_delta = 0.005)\n",
    "\n",
    "train_indices = np.arange(raw_X_train.shape[0])\n",
    "\n",
    "for epoch in range(NUM_EPOCHS):\n",
    "    \n",
    "    np.random.shuffle(train_indices)\n",
    "    \n",
    "    logging.info(\"Epoch\\t{}/{}\".format(epoch + 1, NUM_EPOCHS))\n",
    "    \n",
    "    model_All = model_All.train()\n",
    "    \n",
    "    for raw_X_train_dialog, raw_Y_train_dialog in tqdm(zip(raw_X_train[train_indices], raw_Y_train[train_indices]), total = len(raw_X_train)):\n",
    "\n",
    "        model_All.hidden = model_All.init_hidden()\n",
    "\n",
    "        for raw_X_train_turn, raw_Y_train_turn in zip(raw_X_train_dialog[\"turns\"], raw_Y_train_dialog[\"turns\"]):\n",
    "            \n",
    "            optimizer_AllModel.zero_grad()\n",
    "            \n",
    "            indices, scores = get_index_and_score(raw_X_train_turn, token_to_index, mode = \"train\", device = DEVICE)\n",
    "            \n",
    "            goal_food, goal_pricerange, goal_name, goal_area, method, requested = model_All(indices, scores)\n",
    "            \n",
    "            loss_goal_food = GOAL_LOSS_FUNCTION(goal_food,\n",
    "                                                retrieve_gold_GoalFood(raw_Y_train_turn,\n",
    "                                                                       ontology = ontology,\n",
    "                                                                       device = DEVICE))\n",
    "            \n",
    "            loss_goal_pricerange = GOAL_LOSS_FUNCTION(goal_pricerange,\n",
    "                                                      retrieve_gold_GoalPriceRange(raw_Y_train_turn,\n",
    "                                                                                   ontology = ontology,\n",
    "                                                                                   device = DEVICE))\n",
    "            \n",
    "            loss_goal_name = GOAL_LOSS_FUNCTION(goal_name,\n",
    "                                                retrieve_gold_GoalName(raw_Y_train_turn,\n",
    "                                                                       ontology = ontology,\n",
    "                                                                       device = DEVICE))\n",
    "            \n",
    "            loss_goal_area = GOAL_LOSS_FUNCTION(goal_area,\n",
    "                                                retrieve_gold_GoalArea(raw_Y_train_turn,\n",
    "                                                                       ontology = ontology,\n",
    "                                                                       device = DEVICE))\n",
    "            \n",
    "            loss_method = METHOD_LOSS_FUNCTION(method,\n",
    "                                               retrieve_gold_Method(raw_Y_train_turn,\n",
    "                                                                    ontology = ontology,\n",
    "                                                                    device = DEVICE))\n",
    "            \n",
    "            loss_requested = REQUESTED_LOSS_FUNCTION(requested,\n",
    "                                                     retrieve_gold_Requested(raw_Y_train_turn,\n",
    "                                                                             ontology = ontology,\n",
    "                                                                             device = DEVICE))\n",
    "\n",
    "            loss = loss_goal_food + loss_goal_pricerange + loss_goal_name + loss_goal_area + loss_method + loss_requested\n",
    "            loss.backward(retain_graph = True)\n",
    "            \n",
    "            optimizer_AllModel.step()\n",
    "    \n",
    "    dev_goal_accuracy, \\\n",
    "    dev_goal_l2, \\\n",
    "    dev_requested_accuracy, \\\n",
    "    dev_requested_l2, \\\n",
    "    dev_method_accuracy, \\\n",
    "    dev_method_l2 = get_scores(model_All, raw_X_dev, raw_Y_dev, dataset = \"dstc2_dev\")\n",
    "    logging.info(\"DEV Acc:\\t\\t{}({})\\t\\t{}({})\\t\\t{}({})\".format(dev_goal_accuracy,\n",
    "                                                             np.around(dev_goal_accuracy, decimals = 2),\n",
    "                                                             dev_requested_accuracy,\n",
    "                                                             np.around(dev_requested_accuracy, decimals = 2),\n",
    "                                                             dev_method_accuracy,\n",
    "                                                             np.around(dev_method_accuracy, decimals = 2)))\n",
    "    logging.info(\"DEV L2:\\t\\t{}({})\\t\\t{}({})\\t\\t{}({})\".format(dev_goal_l2,\n",
    "                                                             np.around(dev_goal_l2, decimals = 2),\n",
    "                                                             dev_requested_l2,\n",
    "                                                             np.around(dev_requested_l2, decimals = 2),\n",
    "                                                             dev_method_l2,\n",
    "                                                             np.around(dev_method_l2, decimals = 2)))\n",
    "    dev_goal_accuracies.append(dev_goal_accuracy)\n",
    "    dev_requested_accuracies.append(dev_requested_accuracy)\n",
    "    dev_method_accuracies.append(dev_method_accuracy)\n",
    "\n",
    "    test_goal_accuracy, \\\n",
    "    test_goal_l2, \\\n",
    "    test_requested_accuracy, \\\n",
    "    test_requested_l2, \\\n",
    "    test_method_accuracy, \\\n",
    "    test_method_l2 = get_scores(model_All, raw_X_test, raw_Y_test, dataset = \"dstc2_test\")\n",
    "    logging.info(\"TEST Acc:\\t\\t{}({})\\t\\t{}({})\\t\\t{}({})\".format(test_goal_accuracy,\n",
    "                                                              np.around(test_goal_accuracy, decimals = 2),\n",
    "                                                              test_requested_accuracy,\n",
    "                                                              np.around(test_requested_accuracy, decimals = 2),\n",
    "                                                              test_method_accuracy,\n",
    "                                                              np.around(test_method_accuracy, decimals = 2)))\n",
    "    logging.info(\"TEST L2:\\t\\t{}({})\\t\\t{}({})\\t\\t{}({})\".format(test_goal_l2,\n",
    "                                                              np.around(test_goal_l2, decimals = 2),\n",
    "                                                              test_requested_l2,\n",
    "                                                              np.around(test_requested_l2, decimals = 2),\n",
    "                                                              test_method_l2,\n",
    "                                                              np.around(test_method_l2, decimals = 2)))\n",
    "    test_goal_accuracies.append(test_goal_accuracy)\n",
    "    test_requested_accuracies.append(test_requested_accuracy)\n",
    "    test_method_accuracies.append(test_requested_accuracy)\n",
    "        \n",
    "    all_early_stopping.on_epoch_end(epoch = (epoch + 1),\n",
    "                                    current_value = (dev_goal_accuracy + dev_requested_accuracy + dev_method_accuracy))\n",
    "    \n",
    "    if all_early_stopping.stop_training:\n",
    "        break\n",
    "\n",
    "plotly_plot(dev_goal_accuracies, test_goal_accuracies, \"Goal\")\n",
    "plotly_plot(dev_requested_accuracies, test_requested_accuracies, \"Requested\")\n",
    "plotly_plot(dev_method_accuracies, test_method_accuracies, \"Method\")"
   ]
  },
  {
   "cell_type": "markdown",
   "metadata": {},
   "source": [
    "### Save All Model"
   ]
  },
  {
   "cell_type": "code",
   "execution_count": 11,
   "metadata": {},
   "outputs": [],
   "source": [
    "torch.save(model_All.state_dict(), \"model_All.pt\")"
   ]
  },
  {
   "cell_type": "markdown",
   "metadata": {},
   "source": [
    "### Load All Model"
   ]
  },
  {
   "cell_type": "code",
   "execution_count": 12,
   "metadata": {},
   "outputs": [
    {
     "data": {
      "text/plain": [
       "AllModel(\n",
       "  (embeddings): Embedding(1149, 170)\n",
       "  (altered_embeddings): Linear(in_features=171, out_features=300, bias=True)\n",
       "  (lstm): LSTM(300, 100)\n",
       "  (goal_food_classifier): Linear(in_features=100, out_features=93, bias=True)\n",
       "  (goal_pricerange_classifier): Linear(in_features=100, out_features=5, bias=True)\n",
       "  (goal_name_classifier): Linear(in_features=100, out_features=115, bias=True)\n",
       "  (goal_area_classifier): Linear(in_features=100, out_features=7, bias=True)\n",
       "  (method_classifier): Linear(in_features=100, out_features=5, bias=True)\n",
       "  (requested_classifier): Linear(in_features=100, out_features=8, bias=True)\n",
       ")"
      ]
     },
     "execution_count": 12,
     "metadata": {},
     "output_type": "execute_result"
    }
   ],
   "source": [
    "model_All = AllModel(vocabulary_size = VOCABULARY_SIZE,\n",
    "                               embedding_dim = EMBEDDING_DIM,\n",
    "                               altered_embedding_dim = ALTERED_EMBEDDING_DIM,\n",
    "                               hidden_dim = HIDDEN_DIM,\n",
    "                               goal_food_dim = GOAL_FOOD_DIM,\n",
    "                               goal_pricerange_dim = GOAL_PRICERANGE_DIM,\n",
    "                               goal_name_dim = GOAL_NAME_DIM,\n",
    "                               goal_area_dim = GOAL_AREA_DIM,\n",
    "                               method_dim = METHOD_DIM,\n",
    "                               requested_dim = REQUESTED_DIM,\n",
    "                               device = DEVICE)\n",
    "model_All = model_All.to(DEVICE)\n",
    "model_All.load_state_dict(torch.load(\"model_All.pt\"))\n",
    "model_All.eval()"
   ]
  },
  {
   "cell_type": "code",
   "execution_count": 15,
   "metadata": {},
   "outputs": [
    {
     "name": "stderr",
     "output_type": "stream",
     "text": [
      "100%|██████████| 506/506 [00:08<00:00, 61.20it/s]\n"
     ]
    },
    {
     "data": {
      "text/plain": [
       "(0.6120959, 0.6104155, 0.9368915, 0.1863511, 0.8898086, 0.1220506)"
      ]
     },
     "execution_count": 15,
     "metadata": {},
     "output_type": "execute_result"
    }
   ],
   "source": [
    "get_scores(model_All, raw_X_dev, raw_Y_dev, dataset = \"dstc2_dev\")"
   ]
  },
  {
   "cell_type": "code",
   "execution_count": 16,
   "metadata": {},
   "outputs": [
    {
     "name": "stderr",
     "output_type": "stream",
     "text": [
      "100%|██████████| 1117/1117 [00:21<00:00, 51.24it/s]\n"
     ]
    },
    {
     "data": {
      "text/plain": [
       "(0.6214264, 0.618731, 0.9492968, 0.1215501, 0.9259031, 0.1001914)"
      ]
     },
     "execution_count": 16,
     "metadata": {},
     "output_type": "execute_result"
    }
   ],
   "source": [
    "get_scores(model_All, raw_X_test, raw_Y_test, dataset = \"dstc2_test\")"
   ]
  }
 ],
 "metadata": {
  "kernelspec": {
   "display_name": "Python 3",
   "language": "python",
   "name": "python3"
  },
  "language_info": {
   "codemirror_mode": {
    "name": "ipython",
    "version": 3
   },
   "file_extension": ".py",
   "mimetype": "text/x-python",
   "name": "python",
   "nbconvert_exporter": "python",
   "pygments_lexer": "ipython3",
   "version": "3.6.5"
  }
 },
 "nbformat": 4,
 "nbformat_minor": 2
}
