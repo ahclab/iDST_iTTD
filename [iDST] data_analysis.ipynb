{
 "cells": [
  {
   "cell_type": "code",
   "execution_count": 1,
   "metadata": {},
   "outputs": [
    {
     "name": "stderr",
     "output_type": "stream",
     "text": [
      "[nltk_data] Downloading package punkt to /home/is/andrei-\n",
      "[nltk_data]     cc/nltk_data...\n",
      "[nltk_data]   Package punkt is already up-to-date!\n"
     ]
    },
    {
     "data": {
      "text/html": [
       "<script type=\"text/javascript\">window.PlotlyConfig = {MathJaxConfig: 'local'};</script><script type=\"text/javascript\">if (window.MathJax) {MathJax.Hub.Config({SVG: {font: \"STIX-Web\"}});}</script><script>requirejs.config({paths: { 'plotly': ['https://cdn.plot.ly/plotly-latest.min']},});if(!window._Plotly) {require(['plotly'],function(plotly) {window._Plotly=plotly;});}</script>"
      ],
      "text/vnd.plotly.v1+html": [
       "<script type=\"text/javascript\">window.PlotlyConfig = {MathJaxConfig: 'local'};</script><script type=\"text/javascript\">if (window.MathJax) {MathJax.Hub.Config({SVG: {font: \"STIX-Web\"}});}</script><script>requirejs.config({paths: { 'plotly': ['https://cdn.plot.ly/plotly-latest.min']},});if(!window._Plotly) {require(['plotly'],function(plotly) {window._Plotly=plotly;});}</script>"
      ]
     },
     "metadata": {},
     "output_type": "display_data"
    }
   ],
   "source": [
    "import numpy as np\n",
    "import plotly\n",
    "import logging\n",
    "logging.getLogger().setLevel(logging.INFO)\n",
    "\n",
    "from idst_util import trivial\n",
    "from idst_util import dstc2\n",
    "from operator import itemgetter\n",
    "from plotly.graph_objs import Bar, Layout\n",
    "from plotly.graph_objs.layout import Margin\n",
    "plotly.offline.init_notebook_mode(connected = True)"
   ]
  },
  {
   "cell_type": "code",
   "execution_count": 3,
   "metadata": {},
   "outputs": [
    {
     "name": "stderr",
     "output_type": "stream",
     "text": [
      "INFO:root:+--------------------------------+\n",
      "INFO:root:|         _ ____  ___________    |\n",
      "INFO:root:|        (_) __ \\/ ___/_  __/    |\n",
      "INFO:root:|       / / / / /\\__ \\ / /       |\n",
      "INFO:root:|      / / /_/ /___/ // /        |\n",
      "INFO:root:|     /_/_____//____//_/         |\n",
      "INFO:root:|                                |\n",
      "INFO:root:+--------------------------------+\n",
      "INFO:root:|Incremental Dialog State Tracker|\n",
      "INFO:root:+--------------------------------+\n",
      "INFO:root:+--------------------------------+\n",
      "INFO:root:|     Dialog State Tracker 2     |\n",
      "INFO:root:|         Data Checker           |\n",
      "INFO:root:+--------------------------------+\n",
      "INFO:root:Looking for dstc2 directory in .\n",
      "INFO:root:dstc2 was found!\n",
      "INFO:root:Looking for dstc2_traindev directory in ./dstc2\n",
      "INFO:root:dstc2_traindev was found!\n",
      "INFO:root:Looking for dstc2_test directory in ./dstc2\n",
      "INFO:root:dstc2_test was found!\n",
      "INFO:root:Looking for dstc2_scripts directory in ./dstc2\n",
      "INFO:root:dstc2_scripts was found!\n",
      "INFO:root:Done!\n",
      "INFO:root:+--------------------------------+\n",
      "INFO:root:|     Dialog State Tracker 2     |\n",
      "INFO:root:|       Dataset Retrieval        |\n",
      "INFO:root:+--------------------------------+\n",
      "INFO:root:Reading dstc2_train.flist, dstc2_dev.flist and ontology_dstc2.json\n",
      "INFO:root:Asserted 1612 dialogs for dstc2_train.flist\n",
      "INFO:root:Asserted 506 dialogs for dstc2_dev.flist\n",
      "INFO:root:Extracting raw train features\n"
     ]
    },
    {
     "data": {
      "application/vnd.jupyter.widget-view+json": {
       "model_id": "d543aff6df50484b962bd633f70b6973",
       "version_major": 2,
       "version_minor": 0
      },
      "text/plain": [
       "HBox(children=(IntProgress(value=0, max=1612), HTML(value='')))"
      ]
     },
     "metadata": {},
     "output_type": "display_data"
    },
    {
     "name": "stderr",
     "output_type": "stream",
     "text": [
      "INFO:root:Extracting raw dev features\n"
     ]
    },
    {
     "name": "stdout",
     "output_type": "stream",
     "text": [
      "\n"
     ]
    },
    {
     "data": {
      "application/vnd.jupyter.widget-view+json": {
       "model_id": "bd20922e92ef433faff2c76c1d7b3978",
       "version_major": 2,
       "version_minor": 0
      },
      "text/plain": [
       "HBox(children=(IntProgress(value=0, max=506), HTML(value='')))"
      ]
     },
     "metadata": {},
     "output_type": "display_data"
    },
    {
     "name": "stderr",
     "output_type": "stream",
     "text": [
      "INFO:root:Reading dstc2_test.flist\n",
      "INFO:root:Asserted 1117 dialogs for dstc2_test.flist\n",
      "INFO:root:Extracting raw test features\n"
     ]
    },
    {
     "name": "stdout",
     "output_type": "stream",
     "text": [
      "\n"
     ]
    },
    {
     "data": {
      "application/vnd.jupyter.widget-view+json": {
       "model_id": "6206a644311c40ffa8ebcd24dbdd8ffe",
       "version_major": 2,
       "version_minor": 0
      },
      "text/plain": [
       "HBox(children=(IntProgress(value=0, max=1117), HTML(value='')))"
      ]
     },
     "metadata": {},
     "output_type": "display_data"
    },
    {
     "name": "stderr",
     "output_type": "stream",
     "text": [
      "INFO:root:Done!\n"
     ]
    },
    {
     "name": "stdout",
     "output_type": "stream",
     "text": [
      "\n"
     ]
    }
   ],
   "source": [
    "# Make sure data is available\n",
    "trivial.print_idst()\n",
    "dstc2.check()\n",
    "\n",
    "# Retrieve raw data\n",
    "raw_X_train, raw_Y_train, \\\n",
    "raw_X_dev, raw_Y_dev, \\\n",
    "raw_X_test, raw_Y_test, \\\n",
    "ontology = dstc2.retrieve_raw_datasets(only_transcript = False)"
   ]
  },
  {
   "cell_type": "code",
   "execution_count": 4,
   "metadata": {},
   "outputs": [],
   "source": [
    "def retrieve_info(raw_X, only_user_utterance = False):\n",
    "    \n",
    "    token_to_count = {}\n",
    "    max_sequence_length = 0\n",
    "    turns_list = []\n",
    "    tokens_per_turn = []\n",
    "    \n",
    "    for raw_dialog in raw_X:\n",
    "        turns_count = 0\n",
    "        for raw_turn in raw_dialog[\"turns\"]:\n",
    "            turns_count += 1\n",
    "            if only_user_utterance:\n",
    "                tokens_scores = raw_turn[\"user\"]\n",
    "            else:    \n",
    "                tokens_scores = raw_turn[\"system\"] + raw_turn[\"user\"]\n",
    "            for token_score in tokens_scores:\n",
    "                token = token_score[0]\n",
    "                if token not in token_to_count:\n",
    "                    token_to_count[token] = 1\n",
    "                else:\n",
    "                    token_to_count[token] += 1\n",
    "            turns_list.append(turns_count)\n",
    "            turn_length = len(tokens_scores)\n",
    "            if turn_length > max_sequence_length:\n",
    "                max_sequence_length = turn_length\n",
    "            tokens_per_turn.append(turn_length)\n",
    "    \n",
    "    return token_to_count, max_sequence_length, np.mean(turns_list), np.mean(tokens_per_turn)"
   ]
  },
  {
   "cell_type": "code",
   "execution_count": 5,
   "metadata": {},
   "outputs": [],
   "source": [
    "train_vocabulary, \\\n",
    "train_max_sequence_length, \\\n",
    "train_average_turns_per_dialog, \\\n",
    "train_average_tokens_per_turn = retrieve_info(raw_X_train, only_user_utterance = True)\n",
    "\n",
    "\n",
    "dev_vocabulary, \\\n",
    "dev_max_sequence_length, \\\n",
    "dev_average_turns_per_dialog, \\\n",
    "dev_average_tokens_per_turn = retrieve_info(raw_X_dev, only_user_utterance = True)\n",
    "\n",
    "test_vocabulary, \\\n",
    "test_max_sequence_length, \\\n",
    "test_average_turns_per_dialog, \\\n",
    "test_average_tokens_per_turn = retrieve_info(raw_X_test, only_user_utterance = True)"
   ]
  },
  {
   "cell_type": "code",
   "execution_count": 7,
   "metadata": {},
   "outputs": [
    {
     "name": "stderr",
     "output_type": "stream",
     "text": [
      "INFO:root:+--------------------------------+\n",
      "INFO:root:|     Dialog State Tracker 2     |\n",
      "INFO:root:|         Data Analysis          |\n",
      "INFO:root:+--------------------------------+\n",
      "\n",
      "INFO:root:TRAIN number of dialogs:\t\t1612\n",
      "INFO:root:TRAIN vocabulary length:\t\t578\n",
      "INFO:root:TRAIN max sequence length:\t\t25\n",
      "INFO:root:TRAIN average turns per dialog:\t4.930461591162113\n",
      "INFO:root:TRAIN average tokens per turn:\t3.8784790614027576\n",
      "\n",
      "INFO:root:DEV number of dialogs:\t\t506\n",
      "INFO:root:DEV vocabulary length:\t\t435\n",
      "INFO:root:DEV max sequence length:\t\t21\n",
      "INFO:root:DEV average turns per dialog:\t\t5.454499237417387\n",
      "INFO:root:DEV average tokens per turn:\t\t3.91687849517031\n",
      "\n",
      "INFO:root:TEST number of dialogs:\t\t1117\n",
      "INFO:root:TEST vocabulary length:\t\t580\n",
      "INFO:root:TEST max sequence length:\t\t22\n",
      "INFO:root:TEST average turns per dialog:\t5.983923154701719\n",
      "INFO:root:TEST average tokens per turn:\t\t3.671991911021234\n",
      "\n"
     ]
    }
   ],
   "source": [
    "logging.info(\"+--------------------------------+\")\n",
    "logging.info(\"|     Dialog State Tracker 2     |\")\n",
    "logging.info(\"|         Data Analysis          |\")\n",
    "logging.info(\"+--------------------------------+\\n\")\n",
    "\n",
    "logging.info(\"TRAIN number of dialogs:\\t\\t{}\".format(len(raw_X_train)))\n",
    "logging.info(\"TRAIN vocabulary length:\\t\\t{}\".format(len(train_vocabulary)))\n",
    "logging.info(\"TRAIN max sequence length:\\t\\t{}\".format(train_max_sequence_length))\n",
    "logging.info(\"TRAIN average turns per dialog:\\t{}\".format(train_average_turns_per_dialog))\n",
    "logging.info(\"TRAIN average tokens per turn:\\t{}\\n\".format(train_average_tokens_per_turn))\n",
    "\n",
    "logging.info(\"DEV number of dialogs:\\t\\t{}\".format(len(raw_X_dev)))\n",
    "logging.info(\"DEV vocabulary length:\\t\\t{}\".format(len(dev_vocabulary)))\n",
    "logging.info(\"DEV max sequence length:\\t\\t{}\".format(dev_max_sequence_length))\n",
    "logging.info(\"DEV average turns per dialog:\\t\\t{}\".format(dev_average_turns_per_dialog))\n",
    "logging.info(\"DEV average tokens per turn:\\t\\t{}\\n\".format(dev_average_tokens_per_turn))\n",
    "\n",
    "logging.info(\"TEST number of dialogs:\\t\\t{}\".format(len(raw_X_test)))\n",
    "logging.info(\"TEST vocabulary length:\\t\\t{}\".format(len(test_vocabulary)))\n",
    "logging.info(\"TEST max sequence length:\\t\\t{}\".format(test_max_sequence_length))\n",
    "logging.info(\"TEST average turns per dialog:\\t{}\".format(test_average_turns_per_dialog))\n",
    "logging.info(\"TEST average tokens per turn:\\t\\t{}\\n\".format(test_average_tokens_per_turn))"
   ]
  },
  {
   "cell_type": "code",
   "execution_count": 8,
   "metadata": {},
   "outputs": [
    {
     "data": {
      "application/vnd.plotly.v1+json": {
       "config": {
        "linkText": "Export to plot.ly",
        "plotlyServerURL": "https://plot.ly",
        "showLink": false
       },
       "data": [
        {
         "marker": {
          "color": "#1abc9c"
         },
         "orientation": "v",
         "type": "bar",
         "uid": "3daae6a9-0f45-4143-aca6-3b0cb1bffa66",
         "x": [
          "the",
          "i",
          "you",
          "food",
          "thank",
          "what",
          "number",
          "phone",
          "restaurant",
          "address",
          "of",
          "goodbye",
          "a",
          "in",
          "is",
          "part",
          "town",
          "for",
          "looking",
          "and",
          "'s",
          "n't",
          "'m",
          "bye",
          "good",
          "do",
          "that",
          "about",
          "can",
          "care",
          "cheap",
          "yes",
          "any",
          "post",
          "serves",
          "code",
          "ok",
          "moderately",
          "how",
          "price",
          "have",
          "north",
          "priced",
          "expensive",
          "it",
          "south",
          "there",
          "anything",
          "type",
          "else",
          "range",
          "east",
          "does",
          "area",
          "want",
          "west",
          "okay",
          "no",
          "uh",
          "matter",
          "please",
          "like",
          "indian",
          "to",
          "european",
          "chinese",
          "centre",
          "serve",
          "find",
          "moderate",
          "asian",
          "hi"
         ],
         "y": [
          2768,
          1904,
          1844,
          1663,
          1640,
          1501,
          1402,
          1370,
          1288,
          1258,
          1118,
          1039,
          999,
          898,
          844,
          760,
          754,
          746,
          731,
          718,
          636,
          616,
          611,
          598,
          588,
          522,
          516,
          484,
          455,
          421,
          389,
          384,
          354,
          347,
          346,
          343,
          336,
          331,
          328,
          315,
          312,
          302,
          298,
          297,
          294,
          288,
          258,
          255,
          255,
          247,
          240,
          238,
          234,
          214,
          204,
          203,
          196,
          187,
          168,
          161,
          161,
          156,
          151,
          148,
          144,
          131,
          122,
          117,
          115,
          110,
          109,
          101
         ]
        }
       ],
       "layout": {
        "margin": {
         "b": 180
        },
        "title": {
         "text": "<b>TRAIN tokens distribution</b>"
        },
        "xaxis": {
         "dtick": 1,
         "title": {
          "text": "<b>Tokens</b>"
         }
        },
        "yaxis": {
         "title": {
          "text": "<b>Frequency</b>"
         }
        }
       }
      },
      "text/html": [
       "<div id=\"2c80e56a-2e69-4995-ac17-a324be45c8ff\" style=\"height: 525px; width: 100%;\" class=\"plotly-graph-div\"></div><script type=\"text/javascript\">require([\"plotly\"], function(Plotly) { window.PLOTLYENV=window.PLOTLYENV || {};window.PLOTLYENV.BASE_URL=\"https://plot.ly\";Plotly.newPlot(\"2c80e56a-2e69-4995-ac17-a324be45c8ff\", [{\"marker\": {\"color\": \"#1abc9c\"}, \"orientation\": \"v\", \"x\": [\"the\", \"i\", \"you\", \"food\", \"thank\", \"what\", \"number\", \"phone\", \"restaurant\", \"address\", \"of\", \"goodbye\", \"a\", \"in\", \"is\", \"part\", \"town\", \"for\", \"looking\", \"and\", \"'s\", \"n't\", \"'m\", \"bye\", \"good\", \"do\", \"that\", \"about\", \"can\", \"care\", \"cheap\", \"yes\", \"any\", \"post\", \"serves\", \"code\", \"ok\", \"moderately\", \"how\", \"price\", \"have\", \"north\", \"priced\", \"expensive\", \"it\", \"south\", \"there\", \"anything\", \"type\", \"else\", \"range\", \"east\", \"does\", \"area\", \"want\", \"west\", \"okay\", \"no\", \"uh\", \"matter\", \"please\", \"like\", \"indian\", \"to\", \"european\", \"chinese\", \"centre\", \"serve\", \"find\", \"moderate\", \"asian\", \"hi\"], \"y\": [2768, 1904, 1844, 1663, 1640, 1501, 1402, 1370, 1288, 1258, 1118, 1039, 999, 898, 844, 760, 754, 746, 731, 718, 636, 616, 611, 598, 588, 522, 516, 484, 455, 421, 389, 384, 354, 347, 346, 343, 336, 331, 328, 315, 312, 302, 298, 297, 294, 288, 258, 255, 255, 247, 240, 238, 234, 214, 204, 203, 196, 187, 168, 161, 161, 156, 151, 148, 144, 131, 122, 117, 115, 110, 109, 101], \"type\": \"bar\", \"uid\": \"f306a561-4259-49ea-88ce-ab53dc696ceb\"}], {\"margin\": {\"b\": 180}, \"title\": {\"text\": \"<b>TRAIN tokens distribution</b>\"}, \"xaxis\": {\"dtick\": 1, \"title\": {\"text\": \"<b>Tokens</b>\"}}, \"yaxis\": {\"title\": {\"text\": \"<b>Frequency</b>\"}}}, {\"showLink\": false, \"linkText\": \"Export to plot.ly\", \"plotlyServerURL\": \"https://plot.ly\"})});</script><script type=\"text/javascript\">window.addEventListener(\"resize\", function(){window._Plotly.Plots.resize(document.getElementById(\"2c80e56a-2e69-4995-ac17-a324be45c8ff\"));});</script>"
      ],
      "text/vnd.plotly.v1+html": [
       "<div id=\"2c80e56a-2e69-4995-ac17-a324be45c8ff\" style=\"height: 525px; width: 100%;\" class=\"plotly-graph-div\"></div><script type=\"text/javascript\">require([\"plotly\"], function(Plotly) { window.PLOTLYENV=window.PLOTLYENV || {};window.PLOTLYENV.BASE_URL=\"https://plot.ly\";Plotly.newPlot(\"2c80e56a-2e69-4995-ac17-a324be45c8ff\", [{\"marker\": {\"color\": \"#1abc9c\"}, \"orientation\": \"v\", \"x\": [\"the\", \"i\", \"you\", \"food\", \"thank\", \"what\", \"number\", \"phone\", \"restaurant\", \"address\", \"of\", \"goodbye\", \"a\", \"in\", \"is\", \"part\", \"town\", \"for\", \"looking\", \"and\", \"'s\", \"n't\", \"'m\", \"bye\", \"good\", \"do\", \"that\", \"about\", \"can\", \"care\", \"cheap\", \"yes\", \"any\", \"post\", \"serves\", \"code\", \"ok\", \"moderately\", \"how\", \"price\", \"have\", \"north\", \"priced\", \"expensive\", \"it\", \"south\", \"there\", \"anything\", \"type\", \"else\", \"range\", \"east\", \"does\", \"area\", \"want\", \"west\", \"okay\", \"no\", \"uh\", \"matter\", \"please\", \"like\", \"indian\", \"to\", \"european\", \"chinese\", \"centre\", \"serve\", \"find\", \"moderate\", \"asian\", \"hi\"], \"y\": [2768, 1904, 1844, 1663, 1640, 1501, 1402, 1370, 1288, 1258, 1118, 1039, 999, 898, 844, 760, 754, 746, 731, 718, 636, 616, 611, 598, 588, 522, 516, 484, 455, 421, 389, 384, 354, 347, 346, 343, 336, 331, 328, 315, 312, 302, 298, 297, 294, 288, 258, 255, 255, 247, 240, 238, 234, 214, 204, 203, 196, 187, 168, 161, 161, 156, 151, 148, 144, 131, 122, 117, 115, 110, 109, 101], \"type\": \"bar\", \"uid\": \"f306a561-4259-49ea-88ce-ab53dc696ceb\"}], {\"margin\": {\"b\": 180}, \"title\": {\"text\": \"<b>TRAIN tokens distribution</b>\"}, \"xaxis\": {\"dtick\": 1, \"title\": {\"text\": \"<b>Tokens</b>\"}}, \"yaxis\": {\"title\": {\"text\": \"<b>Frequency</b>\"}}}, {\"showLink\": false, \"linkText\": \"Export to plot.ly\", \"plotlyServerURL\": \"https://plot.ly\"})});</script><script type=\"text/javascript\">window.addEventListener(\"resize\", function(){window._Plotly.Plots.resize(document.getElementById(\"2c80e56a-2e69-4995-ac17-a324be45c8ff\"));});</script>"
      ]
     },
     "metadata": {},
     "output_type": "display_data"
    },
    {
     "name": "stderr",
     "output_type": "stream",
     "text": [
      "INFO:root:Train top tokens:\t[('the', 2768), ('i', 1904), ('you', 1844), ('food', 1663), ('thank', 1640), ('what', 1501), ('number', 1402), ('phone', 1370), ('restaurant', 1288), ('address', 1258), ('of', 1118)]\n"
     ]
    }
   ],
   "source": [
    "train_X_axis = []\n",
    "train_Y_axis = []\n",
    "train_top_tokens = []\n",
    "sorted_dict = sorted(train_vocabulary.items(), key = itemgetter(1), reverse = True)\n",
    "\n",
    "for token, token_count in sorted_dict:\n",
    "    if len(train_top_tokens) <= 10:\n",
    "        train_top_tokens.append((token, token_count))\n",
    "    if token_count > 100:\n",
    "        train_X_axis.append(token)\n",
    "        train_Y_axis.append(token_count)\n",
    "\n",
    "assert(len(train_X_axis) == len(train_Y_axis)) \n",
    "\n",
    "plotly.offline.iplot({\n",
    "    \"data\": [Bar(orientation = \"v\",\n",
    "                 x = train_X_axis,\n",
    "                 y = train_Y_axis,\n",
    "                 marker = dict(color = \"#1abc9c\"))],\n",
    "    \"layout\": Layout(title = \"<b>TRAIN tokens distribution</b>\",\n",
    "                     xaxis = dict(title = \"<b>Tokens</b>\", dtick = 1),\n",
    "                     yaxis = dict(title = \"<b>Frequency</b>\"),\n",
    "                     margin = Margin(b = 180)\n",
    "                    )\n",
    "})\n",
    "\n",
    "logging.info(\"Train top tokens:\\t{}\".format(train_top_tokens))"
   ]
  },
  {
   "cell_type": "code",
   "execution_count": 9,
   "metadata": {},
   "outputs": [
    {
     "data": {
      "application/vnd.plotly.v1+json": {
       "config": {
        "linkText": "Export to plot.ly",
        "plotlyServerURL": "https://plot.ly",
        "showLink": false
       },
       "data": [
        {
         "marker": {
          "color": "#3498db"
         },
         "orientation": "v",
         "type": "bar",
         "uid": "da46f3ec-4a7e-4313-92df-9acd0ece9e99",
         "x": [
          "the",
          "i",
          "you",
          "food",
          "thank",
          "what",
          "number",
          "restaurant",
          "phone",
          "of",
          "address",
          "is",
          "goodbye",
          "a",
          "in",
          "town",
          "part",
          "for",
          "and",
          "looking",
          "'m",
          "bye",
          "do",
          "good",
          "n't",
          "can",
          "'s",
          "any",
          "that",
          "yes",
          "ok",
          "about",
          "price",
          "cheap",
          "care",
          "it",
          "how",
          "code",
          "post",
          "north",
          "range",
          "have",
          "type",
          "moderately",
          "serves",
          "priced",
          "there",
          "no",
          "south",
          "anything",
          "east",
          "expensive",
          "else",
          "west",
          "area",
          "get",
          "serving",
          "please",
          "does",
          "serve",
          "uh",
          "to",
          "want",
          "asian",
          "european",
          "am",
          "chinese",
          "indian",
          "need"
         ],
         "y": [
          944,
          701,
          604,
          572,
          523,
          475,
          423,
          416,
          414,
          413,
          388,
          327,
          320,
          316,
          304,
          279,
          276,
          269,
          257,
          256,
          213,
          199,
          198,
          197,
          191,
          187,
          178,
          150,
          147,
          145,
          144,
          143,
          140,
          137,
          128,
          122,
          121,
          121,
          119,
          109,
          103,
          102,
          100,
          100,
          98,
          90,
          89,
          89,
          83,
          81,
          78,
          74,
          73,
          69,
          67,
          65,
          60,
          53,
          52,
          50,
          50,
          48,
          48,
          48,
          46,
          43,
          42,
          41,
          41
         ]
        }
       ],
       "layout": {
        "margin": {
         "b": 180
        },
        "title": {
         "text": "<b>DEV tokens distribution</b>"
        },
        "xaxis": {
         "dtick": 1,
         "title": {
          "text": "<b>Tokens</b>"
         }
        },
        "yaxis": {
         "title": {
          "text": "<b>Frequency</b>"
         }
        }
       }
      },
      "text/html": [
       "<div id=\"5552ce13-08f1-4708-a637-7953959b51e5\" style=\"height: 525px; width: 100%;\" class=\"plotly-graph-div\"></div><script type=\"text/javascript\">require([\"plotly\"], function(Plotly) { window.PLOTLYENV=window.PLOTLYENV || {};window.PLOTLYENV.BASE_URL=\"https://plot.ly\";Plotly.newPlot(\"5552ce13-08f1-4708-a637-7953959b51e5\", [{\"marker\": {\"color\": \"#3498db\"}, \"orientation\": \"v\", \"x\": [\"the\", \"i\", \"you\", \"food\", \"thank\", \"what\", \"number\", \"restaurant\", \"phone\", \"of\", \"address\", \"is\", \"goodbye\", \"a\", \"in\", \"town\", \"part\", \"for\", \"and\", \"looking\", \"'m\", \"bye\", \"do\", \"good\", \"n't\", \"can\", \"'s\", \"any\", \"that\", \"yes\", \"ok\", \"about\", \"price\", \"cheap\", \"care\", \"it\", \"how\", \"code\", \"post\", \"north\", \"range\", \"have\", \"type\", \"moderately\", \"serves\", \"priced\", \"there\", \"no\", \"south\", \"anything\", \"east\", \"expensive\", \"else\", \"west\", \"area\", \"get\", \"serving\", \"please\", \"does\", \"serve\", \"uh\", \"to\", \"want\", \"asian\", \"european\", \"am\", \"chinese\", \"indian\", \"need\"], \"y\": [944, 701, 604, 572, 523, 475, 423, 416, 414, 413, 388, 327, 320, 316, 304, 279, 276, 269, 257, 256, 213, 199, 198, 197, 191, 187, 178, 150, 147, 145, 144, 143, 140, 137, 128, 122, 121, 121, 119, 109, 103, 102, 100, 100, 98, 90, 89, 89, 83, 81, 78, 74, 73, 69, 67, 65, 60, 53, 52, 50, 50, 48, 48, 48, 46, 43, 42, 41, 41], \"type\": \"bar\", \"uid\": \"5ebed59a-ff53-4f12-b24b-01d368abf0a1\"}], {\"margin\": {\"b\": 180}, \"title\": {\"text\": \"<b>DEV tokens distribution</b>\"}, \"xaxis\": {\"dtick\": 1, \"title\": {\"text\": \"<b>Tokens</b>\"}}, \"yaxis\": {\"title\": {\"text\": \"<b>Frequency</b>\"}}}, {\"showLink\": false, \"linkText\": \"Export to plot.ly\", \"plotlyServerURL\": \"https://plot.ly\"})});</script><script type=\"text/javascript\">window.addEventListener(\"resize\", function(){window._Plotly.Plots.resize(document.getElementById(\"5552ce13-08f1-4708-a637-7953959b51e5\"));});</script>"
      ],
      "text/vnd.plotly.v1+html": [
       "<div id=\"5552ce13-08f1-4708-a637-7953959b51e5\" style=\"height: 525px; width: 100%;\" class=\"plotly-graph-div\"></div><script type=\"text/javascript\">require([\"plotly\"], function(Plotly) { window.PLOTLYENV=window.PLOTLYENV || {};window.PLOTLYENV.BASE_URL=\"https://plot.ly\";Plotly.newPlot(\"5552ce13-08f1-4708-a637-7953959b51e5\", [{\"marker\": {\"color\": \"#3498db\"}, \"orientation\": \"v\", \"x\": [\"the\", \"i\", \"you\", \"food\", \"thank\", \"what\", \"number\", \"restaurant\", \"phone\", \"of\", \"address\", \"is\", \"goodbye\", \"a\", \"in\", \"town\", \"part\", \"for\", \"and\", \"looking\", \"'m\", \"bye\", \"do\", \"good\", \"n't\", \"can\", \"'s\", \"any\", \"that\", \"yes\", \"ok\", \"about\", \"price\", \"cheap\", \"care\", \"it\", \"how\", \"code\", \"post\", \"north\", \"range\", \"have\", \"type\", \"moderately\", \"serves\", \"priced\", \"there\", \"no\", \"south\", \"anything\", \"east\", \"expensive\", \"else\", \"west\", \"area\", \"get\", \"serving\", \"please\", \"does\", \"serve\", \"uh\", \"to\", \"want\", \"asian\", \"european\", \"am\", \"chinese\", \"indian\", \"need\"], \"y\": [944, 701, 604, 572, 523, 475, 423, 416, 414, 413, 388, 327, 320, 316, 304, 279, 276, 269, 257, 256, 213, 199, 198, 197, 191, 187, 178, 150, 147, 145, 144, 143, 140, 137, 128, 122, 121, 121, 119, 109, 103, 102, 100, 100, 98, 90, 89, 89, 83, 81, 78, 74, 73, 69, 67, 65, 60, 53, 52, 50, 50, 48, 48, 48, 46, 43, 42, 41, 41], \"type\": \"bar\", \"uid\": \"5ebed59a-ff53-4f12-b24b-01d368abf0a1\"}], {\"margin\": {\"b\": 180}, \"title\": {\"text\": \"<b>DEV tokens distribution</b>\"}, \"xaxis\": {\"dtick\": 1, \"title\": {\"text\": \"<b>Tokens</b>\"}}, \"yaxis\": {\"title\": {\"text\": \"<b>Frequency</b>\"}}}, {\"showLink\": false, \"linkText\": \"Export to plot.ly\", \"plotlyServerURL\": \"https://plot.ly\"})});</script><script type=\"text/javascript\">window.addEventListener(\"resize\", function(){window._Plotly.Plots.resize(document.getElementById(\"5552ce13-08f1-4708-a637-7953959b51e5\"));});</script>"
      ]
     },
     "metadata": {},
     "output_type": "display_data"
    },
    {
     "name": "stderr",
     "output_type": "stream",
     "text": [
      "INFO:root:Dev top tokens:\t[('the', 944), ('i', 701), ('you', 604), ('food', 572), ('thank', 523), ('what', 475), ('number', 423), ('restaurant', 416), ('phone', 414), ('of', 413), ('address', 388)]\n"
     ]
    }
   ],
   "source": [
    "dev_X_axis = []\n",
    "dev_Y_axis = []\n",
    "dev_top_tokens = []\n",
    "sorted_dict = sorted(dev_vocabulary.items(), key = itemgetter(1), reverse = True)\n",
    "\n",
    "for token, token_count in sorted_dict:\n",
    "    if len(dev_top_tokens) <= 10:\n",
    "        dev_top_tokens.append((token, token_count))\n",
    "    if token_count > 40:\n",
    "        dev_X_axis.append(token)\n",
    "        dev_Y_axis.append(token_count)\n",
    "\n",
    "assert(len(dev_X_axis) == len(dev_Y_axis)) \n",
    "\n",
    "plotly.offline.iplot({\n",
    "    \"data\": [Bar(orientation = \"v\",\n",
    "                 x = dev_X_axis,\n",
    "                 y = dev_Y_axis,\n",
    "                 marker = dict(color = \"#3498db\"))],\n",
    "    \"layout\": Layout(title = \"<b>DEV tokens distribution</b>\",\n",
    "                     xaxis = dict(title = \"<b>Tokens</b>\", dtick = 1),\n",
    "                     yaxis = dict(title = \"<b>Frequency</b>\"),\n",
    "                     margin = Margin(b = 180)\n",
    "                    )\n",
    "})\n",
    "\n",
    "\n",
    "logging.info(\"Dev top tokens:\\t{}\".format(dev_top_tokens))"
   ]
  },
  {
   "cell_type": "code",
   "execution_count": 10,
   "metadata": {},
   "outputs": [
    {
     "data": {
      "application/vnd.plotly.v1+json": {
       "config": {
        "linkText": "Export to plot.ly",
        "plotlyServerURL": "https://plot.ly",
        "showLink": false
       },
       "data": [
        {
         "marker": {
          "color": "#9b59b6"
         },
         "orientation": "v",
         "type": "bar",
         "uid": "a35c7abf-ce60-4daa-8fba-6b3129f22f78",
         "x": [
          "the",
          "i",
          "food",
          "you",
          "thank",
          "what",
          "restaurant",
          "number",
          "phone",
          "of",
          "address",
          "a",
          "goodbye",
          "in",
          "part",
          "town",
          "is",
          "n't",
          "for",
          "looking",
          "yes",
          "and",
          "do",
          "'m",
          "care",
          "'s",
          "bye",
          "good",
          "any",
          "that",
          "about",
          "can",
          "ok",
          "cheap",
          "no",
          "how",
          "code",
          "price",
          "post",
          "moderately",
          "serves",
          "south",
          "priced",
          "it",
          "area",
          "expensive",
          "east",
          "north",
          "have",
          "range",
          "there",
          "does",
          "type",
          "west",
          "anything",
          "else",
          "want",
          "chinese",
          "matter",
          "centre",
          "indian",
          "italian",
          "please",
          "serving",
          "to",
          "okay",
          "need",
          "european",
          "uh",
          "moderate",
          "um",
          "like",
          "asian",
          "hi",
          "get",
          "oriental",
          "am",
          "find",
          "not",
          "korean"
         ],
         "y": [
          2104,
          1611,
          1481,
          1322,
          1167,
          1067,
          1001,
          981,
          956,
          914,
          883,
          764,
          723,
          709,
          635,
          629,
          621,
          620,
          595,
          570,
          543,
          543,
          527,
          485,
          431,
          429,
          424,
          423,
          383,
          378,
          370,
          330,
          322,
          300,
          300,
          276,
          262,
          262,
          254,
          254,
          247,
          234,
          234,
          223,
          222,
          218,
          218,
          217,
          216,
          197,
          193,
          187,
          175,
          171,
          170,
          159,
          153,
          150,
          148,
          138,
          120,
          116,
          114,
          110,
          109,
          106,
          105,
          104,
          104,
          101,
          99,
          99,
          99,
          97,
          90,
          90,
          76,
          74,
          73,
          72
         ]
        }
       ],
       "layout": {
        "margin": {
         "b": 180
        },
        "title": {
         "text": "<b>TEST tokens distribution</b>"
        },
        "xaxis": {
         "dtick": 1,
         "title": {
          "text": "<b>Tokens</b>"
         }
        },
        "yaxis": {
         "title": {
          "text": "<b>Frequency</b>"
         }
        }
       }
      },
      "text/html": [
       "<div id=\"619bd987-bba8-4c50-9cc0-ad6d5cbdde34\" style=\"height: 525px; width: 100%;\" class=\"plotly-graph-div\"></div><script type=\"text/javascript\">require([\"plotly\"], function(Plotly) { window.PLOTLYENV=window.PLOTLYENV || {};window.PLOTLYENV.BASE_URL=\"https://plot.ly\";Plotly.newPlot(\"619bd987-bba8-4c50-9cc0-ad6d5cbdde34\", [{\"marker\": {\"color\": \"#9b59b6\"}, \"orientation\": \"v\", \"x\": [\"the\", \"i\", \"food\", \"you\", \"thank\", \"what\", \"restaurant\", \"number\", \"phone\", \"of\", \"address\", \"a\", \"goodbye\", \"in\", \"part\", \"town\", \"is\", \"n't\", \"for\", \"looking\", \"yes\", \"and\", \"do\", \"'m\", \"care\", \"'s\", \"bye\", \"good\", \"any\", \"that\", \"about\", \"can\", \"ok\", \"cheap\", \"no\", \"how\", \"code\", \"price\", \"post\", \"moderately\", \"serves\", \"south\", \"priced\", \"it\", \"area\", \"expensive\", \"east\", \"north\", \"have\", \"range\", \"there\", \"does\", \"type\", \"west\", \"anything\", \"else\", \"want\", \"chinese\", \"matter\", \"centre\", \"indian\", \"italian\", \"please\", \"serving\", \"to\", \"okay\", \"need\", \"european\", \"uh\", \"moderate\", \"um\", \"like\", \"asian\", \"hi\", \"get\", \"oriental\", \"am\", \"find\", \"not\", \"korean\"], \"y\": [2104, 1611, 1481, 1322, 1167, 1067, 1001, 981, 956, 914, 883, 764, 723, 709, 635, 629, 621, 620, 595, 570, 543, 543, 527, 485, 431, 429, 424, 423, 383, 378, 370, 330, 322, 300, 300, 276, 262, 262, 254, 254, 247, 234, 234, 223, 222, 218, 218, 217, 216, 197, 193, 187, 175, 171, 170, 159, 153, 150, 148, 138, 120, 116, 114, 110, 109, 106, 105, 104, 104, 101, 99, 99, 99, 97, 90, 90, 76, 74, 73, 72], \"type\": \"bar\", \"uid\": \"7498a416-8e29-4438-b27d-209d5a3b547b\"}], {\"margin\": {\"b\": 180}, \"title\": {\"text\": \"<b>TEST tokens distribution</b>\"}, \"xaxis\": {\"dtick\": 1, \"title\": {\"text\": \"<b>Tokens</b>\"}}, \"yaxis\": {\"title\": {\"text\": \"<b>Frequency</b>\"}}}, {\"showLink\": false, \"linkText\": \"Export to plot.ly\", \"plotlyServerURL\": \"https://plot.ly\"})});</script><script type=\"text/javascript\">window.addEventListener(\"resize\", function(){window._Plotly.Plots.resize(document.getElementById(\"619bd987-bba8-4c50-9cc0-ad6d5cbdde34\"));});</script>"
      ],
      "text/vnd.plotly.v1+html": [
       "<div id=\"619bd987-bba8-4c50-9cc0-ad6d5cbdde34\" style=\"height: 525px; width: 100%;\" class=\"plotly-graph-div\"></div><script type=\"text/javascript\">require([\"plotly\"], function(Plotly) { window.PLOTLYENV=window.PLOTLYENV || {};window.PLOTLYENV.BASE_URL=\"https://plot.ly\";Plotly.newPlot(\"619bd987-bba8-4c50-9cc0-ad6d5cbdde34\", [{\"marker\": {\"color\": \"#9b59b6\"}, \"orientation\": \"v\", \"x\": [\"the\", \"i\", \"food\", \"you\", \"thank\", \"what\", \"restaurant\", \"number\", \"phone\", \"of\", \"address\", \"a\", \"goodbye\", \"in\", \"part\", \"town\", \"is\", \"n't\", \"for\", \"looking\", \"yes\", \"and\", \"do\", \"'m\", \"care\", \"'s\", \"bye\", \"good\", \"any\", \"that\", \"about\", \"can\", \"ok\", \"cheap\", \"no\", \"how\", \"code\", \"price\", \"post\", \"moderately\", \"serves\", \"south\", \"priced\", \"it\", \"area\", \"expensive\", \"east\", \"north\", \"have\", \"range\", \"there\", \"does\", \"type\", \"west\", \"anything\", \"else\", \"want\", \"chinese\", \"matter\", \"centre\", \"indian\", \"italian\", \"please\", \"serving\", \"to\", \"okay\", \"need\", \"european\", \"uh\", \"moderate\", \"um\", \"like\", \"asian\", \"hi\", \"get\", \"oriental\", \"am\", \"find\", \"not\", \"korean\"], \"y\": [2104, 1611, 1481, 1322, 1167, 1067, 1001, 981, 956, 914, 883, 764, 723, 709, 635, 629, 621, 620, 595, 570, 543, 543, 527, 485, 431, 429, 424, 423, 383, 378, 370, 330, 322, 300, 300, 276, 262, 262, 254, 254, 247, 234, 234, 223, 222, 218, 218, 217, 216, 197, 193, 187, 175, 171, 170, 159, 153, 150, 148, 138, 120, 116, 114, 110, 109, 106, 105, 104, 104, 101, 99, 99, 99, 97, 90, 90, 76, 74, 73, 72], \"type\": \"bar\", \"uid\": \"7498a416-8e29-4438-b27d-209d5a3b547b\"}], {\"margin\": {\"b\": 180}, \"title\": {\"text\": \"<b>TEST tokens distribution</b>\"}, \"xaxis\": {\"dtick\": 1, \"title\": {\"text\": \"<b>Tokens</b>\"}}, \"yaxis\": {\"title\": {\"text\": \"<b>Frequency</b>\"}}}, {\"showLink\": false, \"linkText\": \"Export to plot.ly\", \"plotlyServerURL\": \"https://plot.ly\"})});</script><script type=\"text/javascript\">window.addEventListener(\"resize\", function(){window._Plotly.Plots.resize(document.getElementById(\"619bd987-bba8-4c50-9cc0-ad6d5cbdde34\"));});</script>"
      ]
     },
     "metadata": {},
     "output_type": "display_data"
    },
    {
     "name": "stderr",
     "output_type": "stream",
     "text": [
      "INFO:root:Test top tokens:\t[('the', 2104), ('i', 1611), ('food', 1481), ('you', 1322), ('thank', 1167), ('what', 1067), ('restaurant', 1001), ('number', 981), ('phone', 956), ('of', 914), ('address', 883)]\n"
     ]
    }
   ],
   "source": [
    "test_X_axis = []\n",
    "test_Y_axis = []\n",
    "test_top_tokens = []\n",
    "sorted_dict = sorted(test_vocabulary.items(), key = itemgetter(1), reverse = True)\n",
    "\n",
    "for token, token_count in sorted_dict:\n",
    "    if len(test_top_tokens) <= 10:\n",
    "        test_top_tokens.append((token, token_count))\n",
    "    if token_count > 70:\n",
    "        test_X_axis.append(token)\n",
    "        test_Y_axis.append(token_count)\n",
    "\n",
    "assert(len(test_X_axis) == len(test_Y_axis)) \n",
    "\n",
    "plotly.offline.iplot({\n",
    "    \"data\": [Bar(orientation = \"v\",\n",
    "                 x = test_X_axis,\n",
    "                 y = test_Y_axis,\n",
    "                 marker = dict(color = \"#9b59b6\"))],\n",
    "    \"layout\": Layout(title = \"<b>TEST tokens distribution</b>\",\n",
    "                     xaxis = dict(title = \"<b>Tokens</b>\", dtick = 1),\n",
    "                     yaxis = dict(title = \"<b>Frequency</b>\"),\n",
    "                     margin = Margin(b = 180)\n",
    "                    )\n",
    "})\n",
    "\n",
    "\n",
    "logging.info(\"Test top tokens:\\t{}\".format(test_top_tokens))"
   ]
  },
  {
   "cell_type": "code",
   "execution_count": 11,
   "metadata": {},
   "outputs": [
    {
     "name": "stderr",
     "output_type": "stream",
     "text": [
      "INFO:root:Train-Dev OOV rate:\t0.21149425287356322\n",
      "\n",
      "INFO:root:Train-Dev OOV tokens:\t['allowed', 'quarter', 'venue', 'such', 'essentially', 'best', 'twenty', 'search', 'touch', 'move', 'typical', 'direct', 'comments', 'wo', 'noon', 'alone', 'americas', 'recognised', 'drink', 'exchange', 'wine', 'queen', 'nice', 'eclectic', 'third', 'found', 'worry', 'twelve', 'global', 'club', 'hold', 'drop', 'affordable', 'helpful', 'bridge', 'miles', 'available', 'ranges', 'bennys', 'connection', 'brb', 'goes', 'cow', \"'re\", 'two', 'point', 'mentioned', 'below', 'clowns', 'behind', 'cuisine', 'seen', 'answer', 'pitch', 'recommend', 'eleven', 'tight', 'children', \"'ve\", 'exact', 'theme', 'content', 'has', 'lasts', 'uno', 'come', 'piece', 'true', 'seem', 'millers', 'avenue', 'luck', 'around', 'g', 'zealand', 'intermediate', 'cars', 'meze', 'tour', 'tells', 'arrange', 'stores', 'info', 'still', 'shows', 'areas', 'meet', 'super', 'small', 'varsity', 'thing', 'signature']\n"
     ]
    }
   ],
   "source": [
    "train_dev_oov_tokens = []\n",
    "\n",
    "for token, count in dev_vocabulary.items():\n",
    "    if token not in train_vocabulary:\n",
    "        if token not in train_dev_oov_tokens:\n",
    "            train_dev_oov_tokens.append(token)\n",
    "\n",
    "train_dev_oov_rate = len(train_dev_oov_tokens)/len(dev_vocabulary)\n",
    "\n",
    "logging.info(\"Train-Dev OOV rate:\\t{}\\n\".format(train_dev_oov_rate))\n",
    "logging.info(\"Train-Dev OOV tokens:\\t{}\".format(train_dev_oov_tokens))"
   ]
  },
  {
   "cell_type": "code",
   "execution_count": 12,
   "metadata": {},
   "outputs": [
    {
     "name": "stderr",
     "output_type": "stream",
     "text": [
      "INFO:root:Train-Test OOV rate:\t0.29310344827586204\n",
      "\n",
      "INFO:root:Train-Test OOV tokens:\t['directly', 'tight', 'wo', 'fare', 'cow', 'benny', 'spend', 'includes', 'essentially', 'uno', 'quickly', 'two', 'excuse', 'make', 'suggestions', 'ho', 'eight', 'spent', 'spain', 'still', 'seen', 'up', 'county', \"'re\", 'p', 'such', 'meal', 'books', 'cocum', 'dear', 'wine', 'hong', 'third', 'hotel', 'storey', 'wow', 'advice', 'confirm', 'salad', 'comment', 'remember', 'h', 'nice', 'stops', 'useless', 'found', 'connect', 'cheapest', 'longer', 'kinds', 'itself', 'reference', 'tomorrow', 'continues', 'signature', 'thru', 'fill', 'kings', 'pool', 'union', 'twenty', 'has', 'movies', 'forty', 'helpful', 'hate', 'seem', 'names', 'pig', 'quick', 'green', 'straight', 'homerton', 'checking', 'beers', 'collecting', 'continue', 'nothing', 'feature', 'kettle', 'granta', 'selling', 'sheet', 'public', 'walk', 'charging', 'church', 'man', 'lucky', 'star', 'into', 'going', 'suggest', 'global', 'current', 'smallish', 'special', 'open', 'move', 'high', 'onto', 'snack', 'lunch', 'preference', 'cars', 'downwards', 'burger', 'kitchen', 'clearly', 'porsche', 'pools', 'search', 'details', 'field', 'tourists', \"'ve\", 'assuming', 'actual', 'apart', 'available', 'highest', 'inclined', 'clowns', 'family', 'peking', 'crowne', 'front', 'nirala', 'helps', 'costly', 'expect', 'usually', 'eclectic', 'seeing', 'point', 'nandos', 'come', 'already', 'yu', 'garden', 'rice', 'gon', 'around', 'reform', 'applies', 'answer', 'small', 'vary', 'able', 'royal', 'spice', 'ever', 'finished', 'us', 't', 'trinity', 'bennys', 'bridge', 'ranges', 'offer', 'interested', 'park', 'bit', 'arrange', 'way', 'popular', 'rang', 'recommend', 'vere', 'areas']\n"
     ]
    }
   ],
   "source": [
    "train_test_oov_tokens = []\n",
    "\n",
    "for token, count in test_vocabulary.items():\n",
    "    if token not in train_vocabulary:\n",
    "        if token not in train_test_oov_tokens:\n",
    "            train_test_oov_tokens.append(token)\n",
    "\n",
    "train_test_oov_rate = len(train_test_oov_tokens)/len(test_vocabulary)\n",
    "\n",
    "logging.info(\"Train-Test OOV rate:\\t{}\\n\".format(train_test_oov_rate))\n",
    "logging.info(\"Train-Test OOV tokens:\\t{}\".format(train_test_oov_tokens))"
   ]
  },
  {
   "cell_type": "code",
   "execution_count": null,
   "metadata": {},
   "outputs": [],
   "source": []
  }
 ],
 "metadata": {
  "kernelspec": {
   "display_name": "Python 3",
   "language": "python",
   "name": "python3"
  },
  "language_info": {
   "codemirror_mode": {
    "name": "ipython",
    "version": 3
   },
   "file_extension": ".py",
   "mimetype": "text/x-python",
   "name": "python",
   "nbconvert_exporter": "python",
   "pygments_lexer": "ipython3",
   "version": "3.6.5"
  }
 },
 "nbformat": 4,
 "nbformat_minor": 2
}
