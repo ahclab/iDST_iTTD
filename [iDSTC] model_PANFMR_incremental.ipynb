{
 "cells": [
  {
   "cell_type": "markdown",
   "metadata": {},
   "source": [
    "### Check GPU availability"
   ]
  },
  {
   "cell_type": "code",
   "execution_count": 1,
   "metadata": {},
   "outputs": [
    {
     "name": "stdout",
     "output_type": "stream",
     "text": [
      "Thu Jan 17 01:55:39 2019       \r\n",
      "+-----------------------------------------------------------------------------+\r\n",
      "| NVIDIA-SMI 384.145                Driver Version: 384.145                   |\r\n",
      "|-------------------------------+----------------------+----------------------+\r\n",
      "| GPU  Name        Persistence-M| Bus-Id        Disp.A | Volatile Uncorr. ECC |\r\n",
      "| Fan  Temp  Perf  Pwr:Usage/Cap|         Memory-Usage | GPU-Util  Compute M. |\r\n",
      "|===============================+======================+======================|\r\n",
      "|   0  GeForce GTX 108...  Off  | 00000000:02:00.0 Off |                  N/A |\r\n",
      "| 23%   30C    P8    17W / 250W |    760MiB / 11172MiB |      0%      Default |\r\n",
      "+-------------------------------+----------------------+----------------------+\r\n",
      "|   1  GeForce GTX 108...  Off  | 00000000:03:00.0 Off |                  N/A |\r\n",
      "| 23%   33C    P8    17W / 250W |    631MiB / 11172MiB |      0%      Default |\r\n",
      "+-------------------------------+----------------------+----------------------+\r\n",
      "                                                                               \r\n",
      "+-----------------------------------------------------------------------------+\r\n",
      "| Processes:                                                       GPU Memory |\r\n",
      "|  GPU       PID   Type   Process name                             Usage      |\r\n",
      "|=============================================================================|\r\n",
      "|    0     20352      C   ...e/virtualenvs/iDST-PMaBuuf7/bin/python3   599MiB |\r\n",
      "|    0     24907      C   ...e/virtualenvs/iDST-PMaBuuf7/bin/python3   151MiB |\r\n",
      "|    1     24907      C   ...e/virtualenvs/iDST-PMaBuuf7/bin/python3   621MiB |\r\n",
      "+-----------------------------------------------------------------------------+\r\n"
     ]
    }
   ],
   "source": [
    "!nvidia-smi"
   ]
  },
  {
   "cell_type": "markdown",
   "metadata": {},
   "source": [
    "### Import libraries"
   ]
  },
  {
   "cell_type": "code",
   "execution_count": 2,
   "metadata": {},
   "outputs": [
    {
     "name": "stderr",
     "output_type": "stream",
     "text": [
      "[nltk_data] Downloading package punkt to /home/is/andrei-\n",
      "[nltk_data]     cc/nltk_data...\n",
      "[nltk_data]   Package punkt is already up-to-date!\n"
     ]
    },
    {
     "data": {
      "text/html": [
       "<script type=\"text/javascript\">window.PlotlyConfig = {MathJaxConfig: 'local'};</script><script type=\"text/javascript\">if (window.MathJax) {MathJax.Hub.Config({SVG: {font: \"STIX-Web\"}});}</script><script>requirejs.config({paths: { 'plotly': ['https://cdn.plot.ly/plotly-latest.min']},});if(!window._Plotly) {require(['plotly'],function(plotly) {window._Plotly=plotly;});}</script>"
      ],
      "text/vnd.plotly.v1+html": [
       "<script type=\"text/javascript\">window.PlotlyConfig = {MathJaxConfig: 'local'};</script><script type=\"text/javascript\">if (window.MathJax) {MathJax.Hub.Config({SVG: {font: \"STIX-Web\"}});}</script><script>requirejs.config({paths: { 'plotly': ['https://cdn.plot.ly/plotly-latest.min']},});if(!window._Plotly) {require(['plotly'],function(plotly) {window._Plotly=plotly;});}</script>"
      ]
     },
     "metadata": {},
     "output_type": "display_data"
    }
   ],
   "source": [
    "import torch\n",
    "import torch.nn as nn\n",
    "import torch.nn.functional as F\n",
    "import torch.optim as optim\n",
    "\n",
    "import math\n",
    "import numpy as np\n",
    "import time\n",
    "import json\n",
    "import plotly\n",
    "import logging\n",
    "logging.getLogger().setLevel(logging.INFO)\n",
    "\n",
    "from pprint import pprint\n",
    "from tqdm import tqdm_notebook\n",
    "from idst_util import trivial\n",
    "from idst_util import dstc2\n",
    "\n",
    "from plotly.graph_objs import Scatter, Layout\n",
    "from plotly.graph_objs.layout import Margin\n",
    "plotly.offline.init_notebook_mode(connected = True)"
   ]
  },
  {
   "cell_type": "markdown",
   "metadata": {},
   "source": [
    "### Check DSTC2 availability"
   ]
  },
  {
   "cell_type": "code",
   "execution_count": 3,
   "metadata": {},
   "outputs": [
    {
     "name": "stderr",
     "output_type": "stream",
     "text": [
      "INFO:root:+--------------------------------+\n",
      "INFO:root:|         _ ____  ___________    |\n",
      "INFO:root:|        (_) __ \\/ ___/_  __/    |\n",
      "INFO:root:|       / / / / /\\__ \\ / /       |\n",
      "INFO:root:|      / / /_/ /___/ // /        |\n",
      "INFO:root:|     /_/_____//____//_/         |\n",
      "INFO:root:|                                |\n",
      "INFO:root:+--------------------------------+\n",
      "INFO:root:|Incremental Dialog State Tracker|\n",
      "INFO:root:+--------------------------------+\n",
      "INFO:root:+--------------------------------+\n",
      "INFO:root:|     Dialog State Tracker 2     |\n",
      "INFO:root:|         Data Checker           |\n",
      "INFO:root:+--------------------------------+\n",
      "INFO:root:Looking for dstc2 directory in .\n",
      "INFO:root:dstc2 was found!\n",
      "INFO:root:Looking for dstc2_traindev directory in ./dstc2\n",
      "INFO:root:dstc2_traindev was found!\n",
      "INFO:root:Looking for dstc2_test directory in ./dstc2\n",
      "INFO:root:dstc2_test was found!\n",
      "INFO:root:Looking for dstc2_scripts directory in ./dstc2\n",
      "INFO:root:dstc2_scripts was found!\n",
      "INFO:root:Done!\n"
     ]
    }
   ],
   "source": [
    "trivial.print_idst()\n",
    "dstc2.check()"
   ]
  },
  {
   "cell_type": "markdown",
   "metadata": {},
   "source": [
    "### Retrieve data"
   ]
  },
  {
   "cell_type": "code",
   "execution_count": 4,
   "metadata": {},
   "outputs": [
    {
     "name": "stderr",
     "output_type": "stream",
     "text": [
      "INFO:root:+--------------------------------+\n",
      "INFO:root:|     Dialog State Tracker 2     |\n",
      "INFO:root:|       Dataset Retrieval        |\n",
      "INFO:root:+--------------------------------+\n",
      "INFO:root:Reading dstc2_train.flist, dstc2_dev.flist and ontology_dstc2.json\n",
      "INFO:root:Asserted 1612 dialogs for dstc2_train.flist\n",
      "INFO:root:Asserted 506 dialogs for dstc2_dev.flist\n",
      "INFO:root:Extracting raw train features\n",
      "100%|██████████| 1612/1612 [00:10<00:00, 147.87it/s]\n",
      "INFO:root:Extracting raw dev features\n",
      "100%|██████████| 506/506 [00:03<00:00, 167.78it/s]\n",
      "INFO:root:Reading dstc2_test.flist\n",
      "INFO:root:Asserted 1117 dialogs for dstc2_test.flist\n",
      "INFO:root:Extracting raw test features\n",
      "100%|██████████| 1117/1117 [00:07<00:00, 145.78it/s]\n"
     ]
    }
   ],
   "source": [
    "raw_X_train, raw_Y_train, \\\n",
    "raw_X_dev, raw_Y_dev, \\\n",
    "raw_X_test, raw_Y_test, \\\n",
    "ontology = dstc2.retrieve_raw_datasets(train_data_augmentation = True)"
   ]
  },
  {
   "cell_type": "markdown",
   "metadata": {},
   "source": [
    "### Set device"
   ]
  },
  {
   "cell_type": "code",
   "execution_count": 5,
   "metadata": {},
   "outputs": [
    {
     "name": "stderr",
     "output_type": "stream",
     "text": [
      "INFO:root:+--------------------------------+\n",
      "INFO:root:|            Baseline            |\n",
      "INFO:root:+--------------------------------+\n",
      "INFO:root:Running on GPU 0\n"
     ]
    }
   ],
   "source": [
    "logging.info(\"+--------------------------------+\")\n",
    "logging.info(\"|            Baseline            |\")\n",
    "logging.info(\"+--------------------------------+\")\n",
    "\n",
    "GPU_ID = 0\n",
    "DEVICE = torch.device(\"cuda:{}\".format(GPU_ID) if torch.cuda.is_available() else \"cpu\")\n",
    "#DEVICE = \"cpu\"\n",
    "if DEVICE == \"cpu\":\n",
    "    logging.warning(\"Running on CPU\")\n",
    "else:\n",
    "    logging.info(\"Running on GPU {}\".format(GPU_ID))"
   ]
  },
  {
   "cell_type": "markdown",
   "metadata": {},
   "source": [
    "### Create vocabularies"
   ]
  },
  {
   "cell_type": "code",
   "execution_count": 6,
   "metadata": {},
   "outputs": [
    {
     "name": "stderr",
     "output_type": "stream",
     "text": [
      "INFO:root:+--------------------------------+\n",
      "INFO:root:|          Vocabulary            |\n",
      "INFO:root:+--------------------------------+\n",
      "INFO:root:Creating token_to_index, index_to_token and token_to_count dictionaries\n"
     ]
    },
    {
     "data": {
      "application/vnd.jupyter.widget-view+json": {
       "model_id": "f0cb4dd49ed74fefbe003be7d0a0cd3c",
       "version_major": 2,
       "version_minor": 0
      },
      "text/plain": [
       "HBox(children=(IntProgress(value=0, max=3224), HTML(value='')))"
      ]
     },
     "metadata": {},
     "output_type": "display_data"
    },
    {
     "name": "stdout",
     "output_type": "stream",
     "text": [
      "\n"
     ]
    }
   ],
   "source": [
    "logging.info(\"+--------------------------------+\")\n",
    "logging.info(\"|          Vocabulary            |\")\n",
    "logging.info(\"+--------------------------------+\")\n",
    "logging.info(\"Creating token_to_index, index_to_token and token_to_count dictionaries\")\n",
    "\n",
    "token_to_index = {\"<unk>\": 0}\n",
    "index_to_token = {0: \"<unk>\"}\n",
    "token_to_count = {\"<unk>\": 1}\n",
    "\n",
    "for raw_train_dialog in tqdm_notebook(raw_X_train):\n",
    "    \n",
    "    for raw_train_turn in raw_train_dialog[\"turns\"]:\n",
    "        \n",
    "        tokens_scores = raw_train_turn[\"system\"] + raw_train_turn[\"user\"]\n",
    "        \n",
    "        for token_score in tokens_scores:\n",
    "            token = token_score[0]\n",
    "            if token not in token_to_index:\n",
    "                token_to_index[token] = len(token_to_index)\n",
    "                index_to_token[len(token_to_index)] = token\n",
    "                token_to_count[token] = 1\n",
    "            else:\n",
    "                token_to_count[token] += 1\n",
    "                \n",
    "assert len(token_to_index) == len(index_to_token)\n",
    "assert len(token_to_index) == len(token_to_count)"
   ]
  },
  {
   "cell_type": "markdown",
   "metadata": {},
   "source": [
    "### Execution configuration"
   ]
  },
  {
   "cell_type": "code",
   "execution_count": 7,
   "metadata": {},
   "outputs": [
    {
     "name": "stderr",
     "output_type": "stream",
     "text": [
      "INFO:root:+--------------------------------+\n",
      "INFO:root:|         Configuration          |\n",
      "INFO:root:+--------------------------------+\n",
      "INFO:root:VOCABULARY_SIZE:\t\t1149\n",
      "INFO:root:GOAL_FOOD_DIM:\t\t93\n",
      "INFO:root:GOAL_PRICERANGE_DIM:\t\t5\n",
      "INFO:root:GOAL_NAME_DIM:\t\t115\n",
      "INFO:root:GOAL_AREA_DIM:\t\t7\n",
      "INFO:root:METHOD_DIM:\t\t\t5\n",
      "INFO:root:REQUESTED_DIM:\t\t8\n",
      "INFO:root:EMBEDDING_DIM:\t\t170\n",
      "INFO:root:ALTERED_EMBEDDING_DIM:\t300\n",
      "INFO:root:HIDDEN_DIM:\t\t\t100\n",
      "INFO:root:NUM_EPOCHS:\t\t\t30\n",
      "INFO:root:GOAL_LOSS_FUNCTION:\t\tCrossEntropyLoss()\n",
      "INFO:root:METHOD_LOSS_FUNCTION:\t\tCrossEntropyLoss()\n",
      "INFO:root:REQUESTED_LOSS_FUNCTION:\tBCELoss()\n"
     ]
    }
   ],
   "source": [
    "logging.info(\"+--------------------------------+\")\n",
    "logging.info(\"|         Configuration          |\")\n",
    "logging.info(\"+--------------------------------+\")\n",
    "\n",
    "VOCABULARY_SIZE = len(token_to_index)\n",
    "logging.info(\"VOCABULARY_SIZE:\\t\\t{}\".format(VOCABULARY_SIZE))\n",
    "\n",
    "# NOTE: +2 because of null and dontcare\n",
    "GOAL_FOOD_DIM = len(ontology[\"informable\"][\"food\"]) + 2 \n",
    "GOAL_PRICERANGE_DIM = len(ontology[\"informable\"][\"pricerange\"]) + 2\n",
    "GOAL_NAME_DIM = len(ontology[\"informable\"][\"name\"]) + 2\n",
    "GOAL_AREA_DIM = len(ontology[\"informable\"][\"area\"]) + 2\n",
    "METHOD_DIM = len(ontology[\"method\"])\n",
    "REQUESTED_DIM = len(ontology[\"requestable\"])\n",
    "EMBEDDING_DIM = 170\n",
    "ALTERED_EMBEDDING_DIM = 300\n",
    "HIDDEN_DIM = 100\n",
    "NUM_EPOCHS = 30\n",
    "GOAL_LOSS_FUNCTION = nn.CrossEntropyLoss()\n",
    "METHOD_LOSS_FUNCTION = nn.CrossEntropyLoss()\n",
    "REQUESTED_LOSS_FUNCTION = nn.BCELoss()\n",
    "logging.info(\"GOAL_FOOD_DIM:\\t\\t{}\".format(GOAL_FOOD_DIM))\n",
    "logging.info(\"GOAL_PRICERANGE_DIM:\\t\\t{}\".format(GOAL_PRICERANGE_DIM))\n",
    "logging.info(\"GOAL_NAME_DIM:\\t\\t{}\".format(GOAL_NAME_DIM))\n",
    "logging.info(\"GOAL_AREA_DIM:\\t\\t{}\".format(GOAL_AREA_DIM))\n",
    "logging.info(\"METHOD_DIM:\\t\\t\\t{}\".format(METHOD_DIM))\n",
    "logging.info(\"REQUESTED_DIM:\\t\\t{}\".format(REQUESTED_DIM))\n",
    "logging.info(\"EMBEDDING_DIM:\\t\\t{}\".format(EMBEDDING_DIM))\n",
    "logging.info(\"ALTERED_EMBEDDING_DIM:\\t{}\".format(ALTERED_EMBEDDING_DIM))\n",
    "logging.info(\"HIDDEN_DIM:\\t\\t\\t{}\".format(HIDDEN_DIM))\n",
    "logging.info(\"NUM_EPOCHS:\\t\\t\\t{}\".format(NUM_EPOCHS))\n",
    "logging.info(\"GOAL_LOSS_FUNCTION:\\t\\t{}\".format(GOAL_LOSS_FUNCTION))\n",
    "logging.info(\"METHOD_LOSS_FUNCTION:\\t\\t{}\".format(METHOD_LOSS_FUNCTION))\n",
    "logging.info(\"REQUESTED_LOSS_FUNCTION:\\t{}\".format(REQUESTED_LOSS_FUNCTION))"
   ]
  },
  {
   "cell_type": "markdown",
   "metadata": {},
   "source": [
    "### Models utilities"
   ]
  },
  {
   "cell_type": "code",
   "execution_count": 8,
   "metadata": {},
   "outputs": [],
   "source": [
    "def get_index_and_score(turn, token_to_index, mode, device):\n",
    "    indices = []\n",
    "    scores = []\n",
    "    if mode == \"train\":\n",
    "        for system_token, system_token_score in turn[\"system\"]:\n",
    "            indices.append(token_to_index[system_token])\n",
    "            scores.append(system_token_score)\n",
    "        for user_token, user_token_score in turn[\"user\"]:\n",
    "            if np.random.binomial(n = 1, p = 0.1) == 1:\n",
    "                indices.append(token_to_index[\"<unk>\"])\n",
    "            else:\n",
    "                indices.append(token_to_index[user_token])\n",
    "            scores.append(user_token_score)\n",
    "    else:\n",
    "        tokens_scores = turn[\"system\"] + turn[\"user\"]\n",
    "        for token, score in tokens_scores:\n",
    "            if token not in token_to_index:\n",
    "                indices.append(token_to_index[\"<unk>\"])\n",
    "            else:\n",
    "                indices.append(token_to_index[token])\n",
    "            scores.append(score)\n",
    "    assert len(indices) == len(scores)\n",
    "    return torch.tensor(indices, dtype = torch.long, device = device), torch.tensor(scores, dtype = torch.float, device = device)\n",
    "\n",
    "def plotly_plot(dev_accuracies, test_accuracies, accuracy_type):\n",
    "    plotly.offline.iplot({\n",
    "                            \"data\": [Scatter(\n",
    "                                            x = list(range(len(dev_accuracies))),\n",
    "                                            y = dev_accuracies,\n",
    "                                            mode = \"lines+markers\",\n",
    "                                            name = \"Dev {} Accuracy\".format(accuracy_type),\n",
    "                                            marker = dict(color = \"#3498db\")),\n",
    "                                    Scatter(\n",
    "                                            x = list(range(len(test_accuracies))),\n",
    "                                            y = test_accuracies,\n",
    "                                            mode = \"lines+markers\",\n",
    "                                            name = \"Test {} Accuracy\".format(accuracy_type),\n",
    "                                            marker = dict(color = \"#9b59b6\"))],\n",
    "                            \"layout\": Layout(\n",
    "                                             title = \"<b>Dev-Test {} Accuracy</b>\".format(accuracy_type),\n",
    "                                             xaxis = dict(title = \"<b>Epoch</b>\",\n",
    "                                                          dtick = 1,\n",
    "                                                          titlefont = dict(color = \"#34495e\")),\n",
    "                                             yaxis = dict(title = \"<b>Accuracy</b>\",\n",
    "                                                          titlefont = dict(color = \"#34495e\")),\n",
    "                                             margin = Margin(b = 150))\n",
    "                        })\n",
    "\n",
    "class EarlyStopping():\n",
    "    \n",
    "    def __init__(self, min_delta = 0, patience = 1):\n",
    "        \n",
    "        self.min_delta = min_delta\n",
    "        self.patience = patience\n",
    "        self.wait = 0\n",
    "        self.stopped_epoch = 0\n",
    "        self.best = -np.Inf\n",
    "        self.stop_training = False\n",
    "    \n",
    "    def on_epoch_end(self, epoch, current_value):\n",
    "        if np.greater((current_value - self.min_delta), self.best):\n",
    "            self.best = current_value\n",
    "            self.wait = 0\n",
    "        else:\n",
    "            self.wait += 1\n",
    "            if self.wait > self.patience:\n",
    "                self.stopped_epoch = epoch\n",
    "                self.stop_training = True\n",
    "        return self.stop_training\n",
    "\n",
    "get_bin = lambda x, n: format(x, \"b\").zfill(n)\n",
    "\n",
    "def make_tracker(model_GoalPricerange, model_GoalArea, model_GoalName, model_GoalFood, model_Requested, model_Method, raw_X, raw_Y, dataset):\n",
    "    \n",
    "    model_GoalPricerange = model_GoalPricerange.eval()\n",
    "    model_GoalArea = model_GoalArea.eval()\n",
    "    model_GoalName = model_GoalName.eval()\n",
    "    model_GoalFood = model_GoalFood.eval()\n",
    "    model_Requested = model_Requested.eval()\n",
    "    model_Method = model_Method.eval()\n",
    "    \n",
    "    with torch.no_grad():\n",
    "        tracker_json = {}\n",
    "        tracker_json[\"dataset\"] = dataset\n",
    "        tracker_json[\"sessions\"] = []\n",
    "\n",
    "        start_time = time.time()\n",
    "        for raw_X_dialog, raw_Y_dialog in tqdm_notebook(zip(raw_X, raw_Y), total = len(raw_X)):\n",
    "            \n",
    "            model_GoalPricerange.hidden = model_GoalPricerange.init_hidden()\n",
    "            model_GoalArea.hidden = model_GoalArea.init_hidden()\n",
    "            model_GoalName.hidden = model_GoalName.init_hidden()\n",
    "            model_GoalFood.hidden = model_GoalFood.init_hidden()\n",
    "            model_Requested.hidden = model_Requested.init_hidden()\n",
    "            model_Method.hidden = model_Method.init_hidden()\n",
    "            \n",
    "            session = {}\n",
    "            session[\"session-id\"] = raw_X_dialog[\"session-id\"]\n",
    "            session[\"turns\"] = []\n",
    "\n",
    "            for raw_X_turn, raw_Y_turn in zip(raw_X_dialog[\"turns\"], raw_Y_dialog[\"turns\"]):\n",
    "                turn = {}\n",
    "                turn[\"goal-labels\"] = {}\n",
    "\n",
    "                indices, scores = get_index_and_score(raw_X_turn, token_to_index, mode = \"eval\", device = DEVICE)\n",
    "                \n",
    "                goal_foods = model_GoalFood(indices, scores)\n",
    "                goal_food = goal_foods[-1]\n",
    "                \n",
    "                goal_priceranges = model_GoalPricerange(indices, scores)\n",
    "                goal_pricerange = goal_priceranges[-1]\n",
    "                \n",
    "                goal_names = model_GoalName(indices, scores)\n",
    "                goal_name = goal_names[-1]\n",
    "                \n",
    "                goal_areas = model_GoalArea(indices, scores)\n",
    "                goal_area = goal_areas[-1]\n",
    "                \n",
    "                requesteds = model_Requested(indices, scores)\n",
    "                requested = requesteds[-1]\n",
    "                \n",
    "                methods = model_Method(indices, scores)\n",
    "                method = methods[-1]\n",
    "                \n",
    "                turn[\"goal-labels\"][\"food\"] = retrieve_output_GoalFood(goal_food, ontology)\n",
    "                turn[\"goal-labels\"][\"pricerange\"] = retrieve_output_GoalPricerange(goal_pricerange, ontology)\n",
    "                turn[\"goal-labels\"][\"name\"] = retrieve_output_GoalName(goal_name, ontology)\n",
    "                turn[\"goal-labels\"][\"area\"] = retrieve_output_GoalArea(goal_area, ontology)\n",
    "                turn[\"requested-slots\"] = retrieve_output_Requested(requested, ontology)\n",
    "                turn[\"method-label\"] = retrieve_output_Method(method, ontology)\n",
    "                \n",
    "                session[\"turns\"].append(turn)\n",
    "            tracker_json[\"sessions\"].append(session)\n",
    "        end_time = time.time()\n",
    "        tracker_json[\"wall-time\"] = end_time - start_time\n",
    "        \n",
    "        return tracker_json\n",
    "\n",
    "def get_scores(model_GoalPricerange, model_GoalArea, model_GoalName, model_GoalFood, model_Requested, model_Method, raw_X, raw_Y, dataset):\n",
    "    goal_accuracy = 0\n",
    "    goal_l2 = 0\n",
    "    requested_accuracy = 0\n",
    "    requested_l2 = 0\n",
    "    method_accuracy = 0\n",
    "    method_l2 = 0\n",
    "    \n",
    "    tracker = make_tracker(model_GoalPricerange, model_GoalArea, model_GoalName, model_GoalFood, model_Requested, model_Method, raw_X, raw_Y, dataset = dataset)\n",
    "    \n",
    "    with open(\"tracker_panfmr_incremental.json\", \"w\") as tracker_file:\n",
    "        json.dump(tracker, tracker_file)\n",
    "    \n",
    "    if dataset == \"dstc2_train\":\n",
    "        !python2 dstc2/dstc2_scripts/score.py\\\n",
    "        --dataset dstc2_train\\\n",
    "        --dataroot dstc2/dstc2_traindev/data\\\n",
    "        --ontology dstc2/dstc2_scripts/config/ontology_dstc2.json\\\n",
    "        --trackfile tracker_panfmr_incremental.json\\\n",
    "        --scorefile tracker_panfmr_incremental.score.csv\n",
    "    elif dataset == \"dstc2_dev\":\n",
    "        !python2 dstc2/dstc2_scripts/score.py\\\n",
    "        --dataset dstc2_dev\\\n",
    "        --dataroot dstc2/dstc2_traindev/data\\\n",
    "        --ontology dstc2/dstc2_scripts/config/ontology_dstc2.json\\\n",
    "        --trackfile tracker_panfmr_incremental.json\\\n",
    "        --scorefile tracker_panfmr_incremental.score.csv\n",
    "    else:\n",
    "        !python2 dstc2/dstc2_scripts/score.py\\\n",
    "        --dataset dstc2_test\\\n",
    "        --dataroot dstc2/dstc2_test/data\\\n",
    "        --ontology dstc2/dstc2_scripts/config/ontology_dstc2.json\\\n",
    "        --trackfile tracker_panfmr_incremental.json\\\n",
    "        --scorefile tracker_panfmr_incremental.score.csv\n",
    "\n",
    "    file_cat = !python2 dstc2/dstc2_scripts/report.py --scorefile tracker_panfmr_incremental.score.csv\n",
    "    \n",
    "    found_accuracies = False\n",
    "    for line in file_cat:\n",
    "        if line.startswith(\"Accuracy\"):\n",
    "            accuracies = line.split(\"|\")\n",
    "            goal_accuracy = float(accuracies[1])\n",
    "            requested_accuracy = float(accuracies[2])\n",
    "            method_accuracy = float(accuracies[3])\n",
    "            found_accuracies = True\n",
    "        if found_accuracies and line.startswith(\"l2\"):\n",
    "            l2s = line.split(\"|\")\n",
    "            goal_l2 = float(l2s[1])\n",
    "            method_l2 = float(l2s[2])\n",
    "            requested_l2 = float(l2s[3])\n",
    "    \n",
    "    return goal_accuracy, goal_l2, requested_accuracy, requested_l2, method_accuracy, method_l2\n",
    "\n",
    "def retrieve_gold_GoalFood(raw_Y, ontology, device):\n",
    "    ontology_informable_food = ontology[\"informable\"][\"food\"]\n",
    "    raw_goal_food = raw_Y[\"goal\"][\"food\"]\n",
    "    goal_food = 0\n",
    "    if raw_goal_food != None:\n",
    "        if raw_goal_food == \"dontcare\":\n",
    "            goal_food = 1\n",
    "        else:    \n",
    "            goal_food = ontology_informable_food.index(raw_goal_food) + 2\n",
    "    return torch.tensor([goal_food], dtype = torch.long, device = device)\n",
    "\n",
    "def retrieve_output_GoalFood(output_tensor, ontology):\n",
    "    ontology_informable_food = ontology[\"informable\"][\"food\"]\n",
    "    output_tensor = output_tensor.view(-1)\n",
    "    output_tensor = torch.exp(output_tensor)\n",
    "    goal_food_dict = {}\n",
    "    \n",
    "    index = torch.argmax(output_tensor).item()\n",
    "    goal_food_dict[\"dontcare\"] = output_tensor[1].item() \n",
    "    for index in range(len(output_tensor) - 2):\n",
    "        goal_food_dict[ontology_informable_food[index]] = output_tensor[index + 2].item()\n",
    "    return goal_food_dict\n",
    "\n",
    "def retrieve_gold_GoalPriceRange(raw_Y, ontology, device):\n",
    "    ontology_informable_pricerange = ontology[\"informable\"][\"pricerange\"]\n",
    "    raw_goal_pricerange = raw_Y[\"goal\"][\"pricerange\"]\n",
    "    goal_pricerange = 0\n",
    "    if raw_goal_pricerange != None:\n",
    "        if raw_goal_pricerange == \"dontcare\":\n",
    "            goal_pricerange = 1\n",
    "        else:    \n",
    "            goal_pricerange = ontology_informable_pricerange.index(raw_goal_pricerange) + 2\n",
    "    return torch.tensor([goal_pricerange], dtype = torch.long, device = device)\n",
    "\n",
    "def retrieve_output_GoalPricerange(output_tensor, ontology):\n",
    "    ontology_informable_pricerange = ontology[\"informable\"][\"pricerange\"]\n",
    "    output_tensor = output_tensor.view(-1)\n",
    "    output_tensor = torch.exp(output_tensor)\n",
    "    goal_pricerange_dict = {}\n",
    "    \n",
    "    index = torch.argmax(output_tensor).item()\n",
    "    goal_pricerange_dict[\"dontcare\"] = output_tensor[1].item()\n",
    "    for index in range(len(output_tensor) - 2):     \n",
    "        goal_pricerange_dict[ontology_informable_pricerange[index]] = output_tensor[index + 2].item()\n",
    "    return goal_pricerange_dict\n",
    "\n",
    "def retrieve_gold_GoalName(raw_Y, ontology, device):\n",
    "    ontology_informable_name = ontology[\"informable\"][\"name\"]\n",
    "    raw_goal_name = raw_Y[\"goal\"][\"name\"]\n",
    "    goal_name = 0\n",
    "    if raw_goal_name != None:\n",
    "        if raw_goal_name == \"dontcare\":\n",
    "            goal_name = 1\n",
    "        else:    \n",
    "            goal_name = ontology_informable_name.index(raw_goal_name) + 2\n",
    "    return torch.tensor([goal_name], dtype = torch.long, device = device)\n",
    "\n",
    "def retrieve_output_GoalName(output_tensor, ontology):\n",
    "    ontology_informable_name = ontology[\"informable\"][\"name\"]\n",
    "    output_tensor = output_tensor.view(-1)\n",
    "    output_tensor = torch.exp(output_tensor)\n",
    "    goal_name_dict = {}\n",
    "    \n",
    "    index = torch.argmax(output_tensor).item()\n",
    "    goal_name_dict[\"dontcare\"] = output_tensor[1].item()\n",
    "    for index in range(len(output_tensor) - 2):\n",
    "        goal_name_dict[ontology_informable_name[index]] = output_tensor[index + 2].item()\n",
    "        \n",
    "    return goal_name_dict\n",
    "\n",
    "def retrieve_gold_GoalArea(raw_Y, ontology, device):\n",
    "    ontology_informable_area = ontology[\"informable\"][\"area\"]\n",
    "    raw_goal_area = raw_Y[\"goal\"][\"area\"]\n",
    "    goal_area = 0\n",
    "    if raw_goal_area != None:\n",
    "        if raw_goal_area == \"dontcare\":\n",
    "            goal_area = 1\n",
    "        else:    \n",
    "            goal_area = ontology_informable_area.index(raw_goal_area) + 2\n",
    "    return torch.tensor([goal_area], dtype = torch.long, device = device)\n",
    "\n",
    "def retrieve_output_GoalArea(output_tensor, ontology):\n",
    "    ontology_informable_area = ontology[\"informable\"][\"area\"]\n",
    "    output_tensor = output_tensor.view(-1)\n",
    "    output_tensor = torch.exp(output_tensor)\n",
    "    goal_area_dict = {}\n",
    "    \n",
    "    index = torch.argmax(output_tensor).item()\n",
    "    goal_area_dict[\"dontcare\"] = output_tensor[1].item()\n",
    "    for index in range(len(output_tensor) - 2):\n",
    "        goal_area_dict[ontology_informable_area[index]] = output_tensor[index + 2].item()\n",
    "        \n",
    "    return goal_area_dict\n",
    "\n",
    "def retrieve_gold_Method(raw_Y, ontology, device):\n",
    "    ontology_method = ontology[\"method\"]\n",
    "    raw_gold_method = raw_Y[\"method\"]\n",
    "    gold_method = ontology_method.index(raw_gold_method)\n",
    "    return torch.tensor([gold_method], dtype = torch.long, device = device)\n",
    "\n",
    "def retrieve_output_Method(output_tensor, ontology):\n",
    "    ontology_method = ontology[\"method\"]\n",
    "    output_tensor = output_tensor.view(-1)\n",
    "    output_tensor = torch.exp(output_tensor)\n",
    "    method_dict = {}\n",
    "    \n",
    "    for index in range(len(output_tensor)):\n",
    "        method_dict[ontology_method[index]] = output_tensor[index].item()\n",
    "    \n",
    "    return method_dict\n",
    "\n",
    "def retrieve_gold_Requested(raw_Y, ontology, device):\n",
    "    ontology_requestable = ontology[\"requestable\"]\n",
    "    raw_gold_requested = raw_Y[\"requested\"]\n",
    "    gold_requested = np.zeros(len(ontology_requestable), dtype = float)\n",
    "    if len(raw_gold_requested) != 0:\n",
    "        for requested in raw_gold_requested:\n",
    "            gold_requested[ontology_requestable.index(requested)] = 1.0\n",
    "    return torch.tensor([gold_requested], dtype = torch.float, device = device)\n",
    "\n",
    "def retrieve_output_Requested(output_tensor, ontology):\n",
    "    ontology_requestable = ontology[\"requestable\"]\n",
    "    output_tensor = output_tensor.view(-1)\n",
    "    requested_dict = {}\n",
    "    for index in range(len(output_tensor)):\n",
    "        probability_value = output_tensor[index].item()\n",
    "        if np.greater_equal(probability_value, 0.5):\n",
    "            requested_dict[ontology_requestable[index]] = probability_value\n",
    "    return requested_dict"
   ]
  },
  {
   "cell_type": "markdown",
   "metadata": {},
   "source": [
    "### Goal Pricerange Model"
   ]
  },
  {
   "cell_type": "code",
   "execution_count": 9,
   "metadata": {},
   "outputs": [],
   "source": [
    "class GoalPricerangeModel(nn.Module):\n",
    "    \n",
    "    def __init__(self,\n",
    "                 vocabulary_size,\n",
    "                 embedding_dim,\n",
    "                 altered_embedding_dim,\n",
    "                 hidden_dim,\n",
    "                 goal_pricerange_dim,\n",
    "                 device):\n",
    "        \n",
    "        super(GoalPricerangeModel, self).__init__()\n",
    "        \n",
    "        self.hidden_dim = hidden_dim\n",
    "        self.goal_pricerange_dim = goal_pricerange_dim\n",
    "        self.device = device\n",
    "        \n",
    "        self.embeddings = nn.Embedding(num_embeddings = vocabulary_size,\n",
    "                                       embedding_dim = embedding_dim)\n",
    "        \n",
    "        self.altered_embeddings = nn.Linear(in_features = (embedding_dim + 1),\n",
    "                                            out_features = altered_embedding_dim)\n",
    "        \n",
    "        self.lstm = nn.LSTM(input_size = altered_embedding_dim,\n",
    "                            hidden_size = hidden_dim)\n",
    "        \n",
    "        self.goal_pricerange_classifier = nn.Linear(in_features = hidden_dim,\n",
    "                                                    out_features = goal_pricerange_dim)\n",
    "        \n",
    "        self.hidden = self.init_hidden()\n",
    "    \n",
    "    def init_hidden(self):\n",
    "        \n",
    "        return (torch.zeros(1, 1, self.hidden_dim, device = self.device),\n",
    "                torch.zeros(1, 1, self.hidden_dim, device = self.device))\n",
    "        \n",
    "    def forward(self, indices, scores):\n",
    "    \n",
    "        embeddings = self.embeddings(indices)\n",
    "        \n",
    "        embeddings_concat_score = torch.cat((embeddings, scores.unsqueeze(dim = 1)), dim = 1) \n",
    "        \n",
    "        altered_embeddings = F.relu(self.altered_embeddings(embeddings_concat_score))\n",
    "        \n",
    "        lstm_out, self.hidden = self.lstm(altered_embeddings.view(len(indices), 1, -1), self.hidden)\n",
    "        \n",
    "        goal_pricerange = F.log_softmax(self.goal_pricerange_classifier(lstm_out).view(-1, self.goal_pricerange_dim), dim = 1) \n",
    "        \n",
    "        return goal_pricerange\n",
    "\n",
    "model_GoalPricerange = GoalPricerangeModel(vocabulary_size = VOCABULARY_SIZE,\n",
    "                                           embedding_dim = EMBEDDING_DIM,\n",
    "                                           altered_embedding_dim = ALTERED_EMBEDDING_DIM,\n",
    "                                           hidden_dim = HIDDEN_DIM,\n",
    "                                           goal_pricerange_dim = GOAL_PRICERANGE_DIM,\n",
    "                                           device = DEVICE)\n",
    "\n",
    "model_GoalPricerange = model_GoalPricerange.to(DEVICE)\n",
    "\n",
    "optimizer_GoalPricerangeModel = optim.Adam(model_GoalPricerange.parameters(), lr = 1e-4)"
   ]
  },
  {
   "cell_type": "markdown",
   "metadata": {},
   "source": [
    "### Goal Area Model"
   ]
  },
  {
   "cell_type": "code",
   "execution_count": 10,
   "metadata": {},
   "outputs": [],
   "source": [
    "class GoalAreaModel(nn.Module):\n",
    "    \n",
    "    def __init__(self,\n",
    "                 vocabulary_size,\n",
    "                 embedding_dim,\n",
    "                 altered_embedding_dim,\n",
    "                 hidden_dim,\n",
    "                 goal_area_dim,\n",
    "                 device):\n",
    "        \n",
    "        super(GoalAreaModel, self).__init__()\n",
    "        \n",
    "        self.hidden_dim = hidden_dim\n",
    "        self.goal_area_dim = goal_area_dim\n",
    "        self.device = device\n",
    "        \n",
    "        self.embeddings = nn.Embedding(num_embeddings = vocabulary_size,\n",
    "                                       embedding_dim = embedding_dim)\n",
    "        \n",
    "        self.altered_embeddings = nn.Linear(in_features = (embedding_dim + 1),\n",
    "                                            out_features = altered_embedding_dim)\n",
    "        \n",
    "        self.lstm = nn.LSTM(input_size = altered_embedding_dim,\n",
    "                            hidden_size = hidden_dim)\n",
    "        \n",
    "        self.goal_area_classifier = nn.Linear(in_features = hidden_dim,\n",
    "                                              out_features = goal_area_dim)\n",
    "        \n",
    "        self.hidden = self.init_hidden()\n",
    "    \n",
    "    def init_hidden(self):\n",
    "        \n",
    "        return (torch.zeros(1, 1, self.hidden_dim, device = self.device),\n",
    "                torch.zeros(1, 1, self.hidden_dim, device = self.device))\n",
    "        \n",
    "    def forward(self, indices, scores):\n",
    "    \n",
    "        embeddings = self.embeddings(indices)\n",
    "        \n",
    "        embeddings_concat_score = torch.cat((embeddings, scores.unsqueeze(dim = 1)), dim = 1) \n",
    "        \n",
    "        altered_embeddings = F.relu(self.altered_embeddings(embeddings_concat_score))\n",
    "        \n",
    "        lstm_out, self.hidden = self.lstm(altered_embeddings.view(len(indices), 1, -1), self.hidden)\n",
    "        \n",
    "        goal_area = F.log_softmax(self.goal_area_classifier(lstm_out).view(-1, self.goal_area_dim), dim = 1)\n",
    "        \n",
    "        return goal_area\n",
    "\n",
    "model_GoalArea = GoalAreaModel(vocabulary_size = VOCABULARY_SIZE,\n",
    "                               embedding_dim = EMBEDDING_DIM,\n",
    "                               altered_embedding_dim = ALTERED_EMBEDDING_DIM,\n",
    "                               hidden_dim = HIDDEN_DIM,\n",
    "                               goal_area_dim = GOAL_AREA_DIM,\n",
    "                               device = DEVICE)\n",
    "\n",
    "model_GoalArea = model_GoalArea.to(DEVICE)\n",
    "\n",
    "optimizer_GoalAreaModel = optim.Adam(model_GoalArea.parameters(), lr = 1e-4)"
   ]
  },
  {
   "cell_type": "markdown",
   "metadata": {},
   "source": [
    "### Goal Name Model"
   ]
  },
  {
   "cell_type": "code",
   "execution_count": 11,
   "metadata": {},
   "outputs": [],
   "source": [
    "class GoalNameModel(nn.Module):\n",
    "    \n",
    "    def __init__(self,\n",
    "                 vocabulary_size,\n",
    "                 embedding_dim,\n",
    "                 altered_embedding_dim,\n",
    "                 hidden_dim,\n",
    "                 goal_name_dim,\n",
    "                 device):\n",
    "        \n",
    "        super(GoalNameModel, self).__init__()\n",
    "        \n",
    "        self.hidden_dim = hidden_dim\n",
    "        self.goal_name_dim = goal_name_dim\n",
    "        self.device = device\n",
    "        \n",
    "        self.embeddings = nn.Embedding(num_embeddings = vocabulary_size,\n",
    "                                       embedding_dim = embedding_dim)\n",
    "        \n",
    "        self.altered_embeddings = nn.Linear(in_features = (embedding_dim + 1),\n",
    "                                            out_features = altered_embedding_dim)\n",
    "        \n",
    "        self.lstm = nn.LSTM(input_size = altered_embedding_dim,\n",
    "                            hidden_size = hidden_dim)\n",
    "        \n",
    "        self.goal_name_classifier = nn.Linear(in_features = hidden_dim,\n",
    "                                              out_features = goal_name_dim)\n",
    "        \n",
    "        self.hidden = self.init_hidden()\n",
    "    \n",
    "    def init_hidden(self):\n",
    "        \n",
    "        return (torch.zeros(1, 1, self.hidden_dim, device = self.device),\n",
    "                torch.zeros(1, 1, self.hidden_dim, device = self.device))\n",
    "        \n",
    "    def forward(self, indices, scores):\n",
    "    \n",
    "        embeddings = self.embeddings(indices)\n",
    "        \n",
    "        embeddings_concat_score = torch.cat((embeddings, scores.unsqueeze(dim = 1)), dim = 1) \n",
    "        \n",
    "        altered_embeddings = F.relu(self.altered_embeddings(embeddings_concat_score))\n",
    "        \n",
    "        lstm_out, self.hidden = self.lstm(altered_embeddings.view(len(indices), 1, -1), self.hidden)\n",
    "        \n",
    "        goal_name = F.log_softmax(self.goal_name_classifier(lstm_out).view(-1, self.goal_name_dim), dim = 1)\n",
    "        \n",
    "        return goal_name\n",
    "\n",
    "model_GoalName = GoalNameModel(vocabulary_size = VOCABULARY_SIZE,\n",
    "                               embedding_dim = EMBEDDING_DIM,\n",
    "                               altered_embedding_dim = ALTERED_EMBEDDING_DIM,\n",
    "                               hidden_dim = HIDDEN_DIM,\n",
    "                               goal_name_dim = GOAL_NAME_DIM,\n",
    "                               device = DEVICE)\n",
    "\n",
    "model_GoalName = model_GoalName.to(DEVICE)\n",
    "\n",
    "optimizer_GoalNameModel = optim.Adam(model_GoalName.parameters(), lr = 1e-4)"
   ]
  },
  {
   "cell_type": "markdown",
   "metadata": {},
   "source": [
    "### Goal Food Model"
   ]
  },
  {
   "cell_type": "code",
   "execution_count": 12,
   "metadata": {},
   "outputs": [],
   "source": [
    "class GoalFoodModel(nn.Module):\n",
    "    \n",
    "    def __init__(self,\n",
    "                 vocabulary_size,\n",
    "                 embedding_dim,\n",
    "                 altered_embedding_dim,\n",
    "                 hidden_dim,\n",
    "                 goal_food_dim,\n",
    "                 device):\n",
    "        \n",
    "        super(GoalFoodModel, self).__init__()\n",
    "        \n",
    "        self.hidden_dim = hidden_dim\n",
    "        self.goal_food_dim = goal_food_dim\n",
    "        self.device = device\n",
    "        \n",
    "        self.embeddings = nn.Embedding(num_embeddings = vocabulary_size,\n",
    "                                       embedding_dim = embedding_dim)\n",
    "        \n",
    "        self.altered_embeddings = nn.Linear(in_features = (embedding_dim + 1),\n",
    "                                            out_features = altered_embedding_dim)\n",
    "        \n",
    "        self.lstm = nn.LSTM(input_size = altered_embedding_dim,\n",
    "                            hidden_size = hidden_dim)\n",
    "        \n",
    "        self.goal_food_classifier = nn.Linear(in_features = hidden_dim,\n",
    "                                              out_features = goal_food_dim)\n",
    "        \n",
    "        self.hidden = self.init_hidden()\n",
    "    \n",
    "    def init_hidden(self):\n",
    "        \n",
    "        return (torch.zeros(1, 1, self.hidden_dim, device = self.device),\n",
    "                torch.zeros(1, 1, self.hidden_dim, device = self.device))\n",
    "        \n",
    "    def forward(self, indices, scores):\n",
    "    \n",
    "        embeddings = self.embeddings(indices)\n",
    "        \n",
    "        embeddings_concat_score = torch.cat((embeddings, scores.unsqueeze(dim = 1)), dim = 1) \n",
    "        \n",
    "        altered_embeddings = F.relu(self.altered_embeddings(embeddings_concat_score))\n",
    "        \n",
    "        lstm_out, self.hidden = self.lstm(altered_embeddings.view(len(indices), 1, -1), self.hidden)\n",
    "        \n",
    "        goal_food = F.log_softmax(self.goal_food_classifier(lstm_out).view(-1, self.goal_food_dim), dim = 1)        \n",
    "        \n",
    "        return goal_food\n",
    "\n",
    "model_GoalFood = GoalFoodModel(vocabulary_size = VOCABULARY_SIZE,\n",
    "                               embedding_dim = EMBEDDING_DIM,\n",
    "                               altered_embedding_dim = ALTERED_EMBEDDING_DIM,\n",
    "                               hidden_dim = HIDDEN_DIM,\n",
    "                               goal_food_dim = GOAL_FOOD_DIM,\n",
    "                               device = DEVICE)\n",
    "\n",
    "model_GoalFood = model_GoalFood.to(DEVICE)\n",
    "\n",
    "optimizer_GoalFoodModel = optim.Adam(model_GoalFood.parameters(), lr = 1e-4)"
   ]
  },
  {
   "cell_type": "markdown",
   "metadata": {},
   "source": [
    "### Requested Model"
   ]
  },
  {
   "cell_type": "code",
   "execution_count": 13,
   "metadata": {},
   "outputs": [],
   "source": [
    "class RequestedModel(nn.Module):\n",
    "    \n",
    "    def __init__(self,\n",
    "                 vocabulary_size,\n",
    "                 embedding_dim,\n",
    "                 altered_embedding_dim,\n",
    "                 hidden_dim,\n",
    "                 requested_dim,\n",
    "                 device):\n",
    "        \n",
    "        super(RequestedModel, self).__init__()\n",
    "        \n",
    "        self.hidden_dim = hidden_dim\n",
    "        self.requested_dim = requested_dim\n",
    "        self.device = device\n",
    "        \n",
    "        self.embeddings = nn.Embedding(num_embeddings = vocabulary_size,\n",
    "                                       embedding_dim = embedding_dim)\n",
    "        \n",
    "        self.altered_embeddings = nn.Linear(in_features = (embedding_dim + 1),\n",
    "                                            out_features = altered_embedding_dim)\n",
    "        \n",
    "        self.lstm = nn.LSTM(input_size = altered_embedding_dim,\n",
    "                            hidden_size = hidden_dim)\n",
    "        \n",
    "        self.requested_classifier = nn.Linear(in_features = hidden_dim,\n",
    "                                              out_features = requested_dim)\n",
    "        \n",
    "        self.hidden = self.init_hidden()\n",
    "    \n",
    "    def init_hidden(self):\n",
    "        \n",
    "        return (torch.zeros(1, 1, self.hidden_dim, device = self.device),\n",
    "                torch.zeros(1, 1, self.hidden_dim, device = self.device))\n",
    "        \n",
    "    def forward(self, indices, scores):\n",
    "    \n",
    "        embeddings = self.embeddings(indices)\n",
    "        \n",
    "        embeddings_concat_score = torch.cat((embeddings, scores.unsqueeze(dim = 1)), dim = 1) \n",
    "        \n",
    "        altered_embeddings = F.relu(self.altered_embeddings(embeddings_concat_score))\n",
    "        \n",
    "        lstm_out, self.hidden = self.lstm(altered_embeddings.view(len(indices), 1, -1), self.hidden)\n",
    "        \n",
    "        requested = torch.sigmoid(self.requested_classifier(lstm_out).view(-1, self.requested_dim))\n",
    "        \n",
    "        return requested\n",
    "\n",
    "model_Requested = RequestedModel(vocabulary_size = VOCABULARY_SIZE,\n",
    "                                 embedding_dim = EMBEDDING_DIM,\n",
    "                                 altered_embedding_dim = ALTERED_EMBEDDING_DIM,\n",
    "                                 hidden_dim = HIDDEN_DIM,\n",
    "                                 requested_dim = REQUESTED_DIM,\n",
    "                                 device = DEVICE)\n",
    "\n",
    "model_Requested = model_Requested.to(DEVICE)\n",
    "\n",
    "optimizer_RequestedModel = optim.Adam(model_Requested.parameters(), lr = 1e-4)"
   ]
  },
  {
   "cell_type": "markdown",
   "metadata": {},
   "source": [
    "### Method Model"
   ]
  },
  {
   "cell_type": "code",
   "execution_count": 14,
   "metadata": {},
   "outputs": [],
   "source": [
    "class MethodModel(nn.Module):\n",
    "    \n",
    "    def __init__(self,\n",
    "                 vocabulary_size,\n",
    "                 embedding_dim,\n",
    "                 altered_embedding_dim,\n",
    "                 hidden_dim,\n",
    "                 method_dim,\n",
    "                 device):\n",
    "        \n",
    "        super(MethodModel, self).__init__()\n",
    "        \n",
    "        self.hidden_dim = hidden_dim\n",
    "        self.method_dim = method_dim\n",
    "        self.device = device\n",
    "        \n",
    "        self.embeddings = nn.Embedding(num_embeddings = vocabulary_size,\n",
    "                                       embedding_dim = embedding_dim)\n",
    "        \n",
    "        self.altered_embeddings = nn.Linear(in_features = (embedding_dim + 1),\n",
    "                                            out_features = altered_embedding_dim)\n",
    "        \n",
    "        self.lstm = nn.LSTM(input_size = altered_embedding_dim,\n",
    "                            hidden_size = hidden_dim)\n",
    "        \n",
    "        self.method_classifier = nn.Linear(in_features = hidden_dim,\n",
    "                                           out_features = method_dim)\n",
    "        \n",
    "        self.hidden = self.init_hidden()\n",
    "    \n",
    "    def init_hidden(self):\n",
    "        \n",
    "        return (torch.zeros(1, 1, self.hidden_dim, device = self.device),\n",
    "                torch.zeros(1, 1, self.hidden_dim, device = self.device))\n",
    "        \n",
    "    def forward(self, indices, scores):\n",
    "    \n",
    "        embeddings = self.embeddings(indices)\n",
    "        \n",
    "        embeddings_concat_score = torch.cat((embeddings, scores.unsqueeze(dim = 1)), dim = 1) \n",
    "        \n",
    "        altered_embeddings = F.relu(self.altered_embeddings(embeddings_concat_score))\n",
    "        \n",
    "        lstm_out, self.hidden = self.lstm(altered_embeddings.view(len(indices), 1, -1), self.hidden)\n",
    "        \n",
    "        method = F.log_softmax(self.method_classifier(lstm_out).view(-1, self.method_dim), dim = 1)\n",
    "        \n",
    "        return method\n",
    "\n",
    "model_Method = MethodModel(vocabulary_size = VOCABULARY_SIZE,\n",
    "                           embedding_dim = EMBEDDING_DIM,\n",
    "                           altered_embedding_dim = ALTERED_EMBEDDING_DIM,\n",
    "                           hidden_dim = HIDDEN_DIM,\n",
    "                           method_dim = METHOD_DIM,\n",
    "                           device = DEVICE)\n",
    "\n",
    "model_Method = model_Method.to(DEVICE)\n",
    "\n",
    "optimizer_MethodModel = optim.Adam(model_Method.parameters(), lr = 1e-4)"
   ]
  },
  {
   "cell_type": "markdown",
   "metadata": {},
   "source": [
    "### Train Goal Pricerange Model"
   ]
  },
  {
   "cell_type": "code",
   "execution_count": 19,
   "metadata": {},
   "outputs": [
    {
     "name": "stderr",
     "output_type": "stream",
     "text": [
      "INFO:root:Epoch\t1/30\n"
     ]
    },
    {
     "data": {
      "application/vnd.jupyter.widget-view+json": {
       "model_id": "4067c4c2d89e4524b034d4befdcfdaa7",
       "version_major": 2,
       "version_minor": 0
      },
      "text/plain": [
       "HBox(children=(IntProgress(value=0, max=3224), HTML(value='')))"
      ]
     },
     "metadata": {},
     "output_type": "display_data"
    },
    {
     "name": "stdout",
     "output_type": "stream",
     "text": [
      "\n"
     ]
    },
    {
     "data": {
      "application/vnd.jupyter.widget-view+json": {
       "model_id": "433dcd28211f47dfbbc2004ca769d74f",
       "version_major": 2,
       "version_minor": 0
      },
      "text/plain": [
       "HBox(children=(IntProgress(value=0, max=506), HTML(value='')))"
      ]
     },
     "metadata": {},
     "output_type": "display_data"
    },
    {
     "name": "stdout",
     "output_type": "stream",
     "text": [
      "\n"
     ]
    },
    {
     "name": "stderr",
     "output_type": "stream",
     "text": [
      "INFO:root:DEV Acc:\t\t0.0148592(0.01)\t\t0.4572665(0.46)\t\t0.0206932(0.02)\n",
      "INFO:root:DEV L2:\t\t0.9910679(0.99)\t\t0.81642(0.82)\t\t0.6142292(0.61)\n"
     ]
    },
    {
     "data": {
      "application/vnd.jupyter.widget-view+json": {
       "model_id": "5533366e6c2043a494d5ccaf7ae45d5b",
       "version_major": 2,
       "version_minor": 0
      },
      "text/plain": [
       "HBox(children=(IntProgress(value=0, max=1117), HTML(value='')))"
      ]
     },
     "metadata": {},
     "output_type": "display_data"
    },
    {
     "name": "stdout",
     "output_type": "stream",
     "text": [
      "\n"
     ]
    },
    {
     "name": "stderr",
     "output_type": "stream",
     "text": [
      "INFO:root:TEST Acc:\t\t0.0287955(0.03)\t\t0.4820281(0.48)\t\t0.0166256(0.02)\n",
      "INFO:root:TEST L2:\t\t0.9921205(0.99)\t\t0.8182356(0.82)\t\t0.6121364(0.61)\n",
      "INFO:root:Epoch\t2/30\n"
     ]
    },
    {
     "data": {
      "application/vnd.jupyter.widget-view+json": {
       "model_id": "d7c8fd5c10214d609fbe6b9afa1b1763",
       "version_major": 2,
       "version_minor": 0
      },
      "text/plain": [
       "HBox(children=(IntProgress(value=0, max=3224), HTML(value='')))"
      ]
     },
     "metadata": {},
     "output_type": "display_data"
    },
    {
     "name": "stdout",
     "output_type": "stream",
     "text": [
      "\n"
     ]
    },
    {
     "data": {
      "application/vnd.jupyter.widget-view+json": {
       "model_id": "15bdf012ae8146b1b61f04bbd5c4d126",
       "version_major": 2,
       "version_minor": 0
      },
      "text/plain": [
       "HBox(children=(IntProgress(value=0, max=506), HTML(value='')))"
      ]
     },
     "metadata": {},
     "output_type": "display_data"
    },
    {
     "name": "stdout",
     "output_type": "stream",
     "text": [
      "\n"
     ]
    },
    {
     "name": "stderr",
     "output_type": "stream",
     "text": [
      "INFO:root:DEV Acc:\t\t0.0156413(0.02)\t\t0.4572665(0.46)\t\t0.0206932(0.02)\n",
      "INFO:root:DEV L2:\t\t0.9908609(0.99)\t\t0.81642(0.82)\t\t0.6142292(0.61)\n"
     ]
    },
    {
     "data": {
      "application/vnd.jupyter.widget-view+json": {
       "model_id": "1ba40474a6784e8c9b8154df26be22cf",
       "version_major": 2,
       "version_minor": 0
      },
      "text/plain": [
       "HBox(children=(IntProgress(value=0, max=1117), HTML(value='')))"
      ]
     },
     "metadata": {},
     "output_type": "display_data"
    },
    {
     "name": "stdout",
     "output_type": "stream",
     "text": [
      "\n"
     ]
    },
    {
     "name": "stderr",
     "output_type": "stream",
     "text": [
      "INFO:root:TEST Acc:\t\t0.0303437(0.03)\t\t0.4820281(0.48)\t\t0.0166256(0.02)\n",
      "INFO:root:TEST L2:\t\t0.9909904(0.99)\t\t0.8182356(0.82)\t\t0.6121364(0.61)\n",
      "INFO:root:Epoch\t3/30\n"
     ]
    },
    {
     "data": {
      "application/vnd.jupyter.widget-view+json": {
       "model_id": "2d79a947a7034b45a9df38cc876430cf",
       "version_major": 2,
       "version_minor": 0
      },
      "text/plain": [
       "HBox(children=(IntProgress(value=0, max=3224), HTML(value='')))"
      ]
     },
     "metadata": {},
     "output_type": "display_data"
    },
    {
     "name": "stdout",
     "output_type": "stream",
     "text": [
      "\n"
     ]
    },
    {
     "data": {
      "application/vnd.jupyter.widget-view+json": {
       "model_id": "2091b9dccb5247e69852b698c5437e6a",
       "version_major": 2,
       "version_minor": 0
      },
      "text/plain": [
       "HBox(children=(IntProgress(value=0, max=506), HTML(value='')))"
      ]
     },
     "metadata": {},
     "output_type": "display_data"
    },
    {
     "name": "stdout",
     "output_type": "stream",
     "text": [
      "\n"
     ]
    },
    {
     "name": "stderr",
     "output_type": "stream",
     "text": [
      "INFO:root:DEV Acc:\t\t0.0156413(0.02)\t\t0.4572665(0.46)\t\t0.0206932(0.02)\n",
      "INFO:root:DEV L2:\t\t0.9914312(0.99)\t\t0.81642(0.82)\t\t0.6142292(0.61)\n"
     ]
    },
    {
     "data": {
      "application/vnd.jupyter.widget-view+json": {
       "model_id": "3835183dcc5146138843cf9d9584d2a6",
       "version_major": 2,
       "version_minor": 0
      },
      "text/plain": [
       "HBox(children=(IntProgress(value=0, max=1117), HTML(value='')))"
      ]
     },
     "metadata": {},
     "output_type": "display_data"
    },
    {
     "name": "stdout",
     "output_type": "stream",
     "text": [
      "\n"
     ]
    },
    {
     "name": "stderr",
     "output_type": "stream",
     "text": [
      "INFO:root:TEST Acc:\t\t0.0301373(0.03)\t\t0.4820281(0.48)\t\t0.0166256(0.02)\n",
      "INFO:root:TEST L2:\t\t0.9915199(0.99)\t\t0.8182356(0.82)\t\t0.6121364(0.61)\n",
      "INFO:root:Epoch\t4/30\n"
     ]
    },
    {
     "data": {
      "application/vnd.jupyter.widget-view+json": {
       "model_id": "eb70e05a395648c982313ada8705edaa",
       "version_major": 2,
       "version_minor": 0
      },
      "text/plain": [
       "HBox(children=(IntProgress(value=0, max=3224), HTML(value='')))"
      ]
     },
     "metadata": {},
     "output_type": "display_data"
    },
    {
     "name": "stdout",
     "output_type": "stream",
     "text": [
      "\n"
     ]
    },
    {
     "data": {
      "application/vnd.jupyter.widget-view+json": {
       "model_id": "ca474cc20fd74f0e8bcfe952fdbd2e2a",
       "version_major": 2,
       "version_minor": 0
      },
      "text/plain": [
       "HBox(children=(IntProgress(value=0, max=506), HTML(value='')))"
      ]
     },
     "metadata": {},
     "output_type": "display_data"
    },
    {
     "name": "stdout",
     "output_type": "stream",
     "text": [
      "\n"
     ]
    },
    {
     "name": "stderr",
     "output_type": "stream",
     "text": [
      "INFO:root:DEV Acc:\t\t0.0151199(0.02)\t\t0.4572665(0.46)\t\t0.0206932(0.02)\n",
      "INFO:root:DEV L2:\t\t0.9912878(0.99)\t\t0.81642(0.82)\t\t0.6142292(0.61)\n"
     ]
    },
    {
     "data": {
      "application/vnd.jupyter.widget-view+json": {
       "model_id": "8fbd69c594b745c58619e405705e02d4",
       "version_major": 2,
       "version_minor": 0
      },
      "text/plain": [
       "HBox(children=(IntProgress(value=0, max=1117), HTML(value='')))"
      ]
     },
     "metadata": {},
     "output_type": "display_data"
    },
    {
     "name": "stdout",
     "output_type": "stream",
     "text": [
      "\n"
     ]
    },
    {
     "name": "stderr",
     "output_type": "stream",
     "text": [
      "INFO:root:TEST Acc:\t\t0.0302405(0.03)\t\t0.4820281(0.48)\t\t0.0166256(0.02)\n",
      "INFO:root:TEST L2:\t\t0.9914662(0.99)\t\t0.8182356(0.82)\t\t0.6121364(0.61)\n",
      "INFO:root:Epoch\t5/30\n"
     ]
    },
    {
     "data": {
      "application/vnd.jupyter.widget-view+json": {
       "model_id": "b6cb22e655dd4fb5b0e37c9392967119",
       "version_major": 2,
       "version_minor": 0
      },
      "text/plain": [
       "HBox(children=(IntProgress(value=0, max=3224), HTML(value='')))"
      ]
     },
     "metadata": {},
     "output_type": "display_data"
    },
    {
     "name": "stdout",
     "output_type": "stream",
     "text": [
      "\n"
     ]
    },
    {
     "data": {
      "application/vnd.jupyter.widget-view+json": {
       "model_id": "c35adfcaec324c0a8dcfaf331e8cdaca",
       "version_major": 2,
       "version_minor": 0
      },
      "text/plain": [
       "HBox(children=(IntProgress(value=0, max=506), HTML(value='')))"
      ]
     },
     "metadata": {},
     "output_type": "display_data"
    },
    {
     "name": "stdout",
     "output_type": "stream",
     "text": [
      "\n"
     ]
    },
    {
     "name": "stderr",
     "output_type": "stream",
     "text": [
      "INFO:root:DEV Acc:\t\t0.0153806(0.02)\t\t0.4572665(0.46)\t\t0.0206932(0.02)\n",
      "INFO:root:DEV L2:\t\t0.9911074(0.99)\t\t0.81642(0.82)\t\t0.6142292(0.61)\n"
     ]
    },
    {
     "data": {
      "application/vnd.jupyter.widget-view+json": {
       "model_id": "1d7d50b0157a43c6bc3763dc19e1fa76",
       "version_major": 2,
       "version_minor": 0
      },
      "text/plain": [
       "HBox(children=(IntProgress(value=0, max=1117), HTML(value='')))"
      ]
     },
     "metadata": {},
     "output_type": "display_data"
    },
    {
     "name": "stdout",
     "output_type": "stream",
     "text": [
      "\n"
     ]
    },
    {
     "name": "stderr",
     "output_type": "stream",
     "text": [
      "INFO:root:TEST Acc:\t\t0.0300341(0.03)\t\t0.4820281(0.48)\t\t0.0166256(0.02)\n",
      "INFO:root:TEST L2:\t\t0.991368(0.99)\t\t0.8182356(0.82)\t\t0.6121364(0.61)\n"
     ]
    },
    {
     "data": {
      "application/vnd.plotly.v1+json": {
       "config": {
        "linkText": "Export to plot.ly",
        "plotlyServerURL": "https://plot.ly",
        "showLink": true
       },
       "data": [
        {
         "marker": {
          "color": "#3498db"
         },
         "mode": "lines+markers",
         "name": "Dev Goal Accuracy",
         "type": "scatter",
         "uid": "707b708e-d181-41fe-8aad-2ab9c91218d6",
         "x": [
          0,
          1,
          2,
          3,
          4
         ],
         "y": [
          0.0148592,
          0.0156413,
          0.0156413,
          0.0151199,
          0.0153806
         ]
        },
        {
         "marker": {
          "color": "#9b59b6"
         },
         "mode": "lines+markers",
         "name": "Test Goal Accuracy",
         "type": "scatter",
         "uid": "374aa239-863d-4235-8f37-e5b9ec076124",
         "x": [
          0,
          1,
          2,
          3,
          4
         ],
         "y": [
          0.0287955,
          0.0303437,
          0.0301373,
          0.0302405,
          0.0300341
         ]
        }
       ],
       "layout": {
        "margin": {
         "b": 150
        },
        "title": "<b>Dev-Test Goal Accuracy</b>",
        "xaxis": {
         "dtick": 1,
         "title": "<b>Epoch</b>",
         "titlefont": {
          "color": "#34495e"
         }
        },
        "yaxis": {
         "title": "<b>Accuracy</b>",
         "titlefont": {
          "color": "#34495e"
         }
        }
       }
      },
      "text/html": [
       "<div id=\"af7975d3-df0d-495b-a681-1c05c93f373f\" style=\"height: 525px; width: 100%;\" class=\"plotly-graph-div\"></div><script type=\"text/javascript\">require([\"plotly\"], function(Plotly) { window.PLOTLYENV=window.PLOTLYENV || {};window.PLOTLYENV.BASE_URL=\"https://plot.ly\";Plotly.newPlot(\"af7975d3-df0d-495b-a681-1c05c93f373f\", [{\"marker\": {\"color\": \"#3498db\"}, \"mode\": \"lines+markers\", \"name\": \"Dev Goal Accuracy\", \"x\": [0, 1, 2, 3, 4], \"y\": [0.0148592, 0.0156413, 0.0156413, 0.0151199, 0.0153806], \"type\": \"scatter\", \"uid\": \"ee4703eb-f954-4286-9167-ea226bd52aa6\"}, {\"marker\": {\"color\": \"#9b59b6\"}, \"mode\": \"lines+markers\", \"name\": \"Test Goal Accuracy\", \"x\": [0, 1, 2, 3, 4], \"y\": [0.0287955, 0.0303437, 0.0301373, 0.0302405, 0.0300341], \"type\": \"scatter\", \"uid\": \"e2722d73-fc5c-4a37-96f5-fd978f413b6d\"}], {\"margin\": {\"b\": 150}, \"title\": \"<b>Dev-Test Goal Accuracy</b>\", \"xaxis\": {\"dtick\": 1, \"title\": \"<b>Epoch</b>\", \"titlefont\": {\"color\": \"#34495e\"}}, \"yaxis\": {\"title\": \"<b>Accuracy</b>\", \"titlefont\": {\"color\": \"#34495e\"}}}, {\"showLink\": true, \"linkText\": \"Export to plot.ly\", \"plotlyServerURL\": \"https://plot.ly\"})});</script><script type=\"text/javascript\">window.addEventListener(\"resize\", function(){window._Plotly.Plots.resize(document.getElementById(\"af7975d3-df0d-495b-a681-1c05c93f373f\"));});</script>"
      ],
      "text/vnd.plotly.v1+html": [
       "<div id=\"af7975d3-df0d-495b-a681-1c05c93f373f\" style=\"height: 525px; width: 100%;\" class=\"plotly-graph-div\"></div><script type=\"text/javascript\">require([\"plotly\"], function(Plotly) { window.PLOTLYENV=window.PLOTLYENV || {};window.PLOTLYENV.BASE_URL=\"https://plot.ly\";Plotly.newPlot(\"af7975d3-df0d-495b-a681-1c05c93f373f\", [{\"marker\": {\"color\": \"#3498db\"}, \"mode\": \"lines+markers\", \"name\": \"Dev Goal Accuracy\", \"x\": [0, 1, 2, 3, 4], \"y\": [0.0148592, 0.0156413, 0.0156413, 0.0151199, 0.0153806], \"type\": \"scatter\", \"uid\": \"ee4703eb-f954-4286-9167-ea226bd52aa6\"}, {\"marker\": {\"color\": \"#9b59b6\"}, \"mode\": \"lines+markers\", \"name\": \"Test Goal Accuracy\", \"x\": [0, 1, 2, 3, 4], \"y\": [0.0287955, 0.0303437, 0.0301373, 0.0302405, 0.0300341], \"type\": \"scatter\", \"uid\": \"e2722d73-fc5c-4a37-96f5-fd978f413b6d\"}], {\"margin\": {\"b\": 150}, \"title\": \"<b>Dev-Test Goal Accuracy</b>\", \"xaxis\": {\"dtick\": 1, \"title\": \"<b>Epoch</b>\", \"titlefont\": {\"color\": \"#34495e\"}}, \"yaxis\": {\"title\": \"<b>Accuracy</b>\", \"titlefont\": {\"color\": \"#34495e\"}}}, {\"showLink\": true, \"linkText\": \"Export to plot.ly\", \"plotlyServerURL\": \"https://plot.ly\"})});</script><script type=\"text/javascript\">window.addEventListener(\"resize\", function(){window._Plotly.Plots.resize(document.getElementById(\"af7975d3-df0d-495b-a681-1c05c93f373f\"));});</script>"
      ]
     },
     "metadata": {},
     "output_type": "display_data"
    }
   ],
   "source": [
    "dev_goal_accuracies = []\n",
    "dev_requested_accuracies = []\n",
    "dev_method_accuracies = []\n",
    "\n",
    "test_goal_accuracies = []\n",
    "test_requested_accuracies = []\n",
    "test_method_accuracies = []\n",
    "\n",
    "goal_pricerange_early_stopping = EarlyStopping(patience = 2)\n",
    "\n",
    "train_indices = np.arange(raw_X_train.shape[0])\n",
    "\n",
    "for epoch in range(NUM_EPOCHS):\n",
    "    \n",
    "    np.random.shuffle(train_indices)\n",
    "    \n",
    "    logging.info(\"Epoch\\t{}/{}\".format(epoch + 1, NUM_EPOCHS))\n",
    "    \n",
    "    model_GoalPricerange = model_GoalPricerange.train()\n",
    "    \n",
    "    for raw_X_train_dialog, raw_Y_train_dialog in tqdm_notebook(zip(raw_X_train[train_indices], raw_Y_train[train_indices]), total = len(raw_X_train)):\n",
    "\n",
    "        model_GoalPricerange.hidden = model_GoalPricerange.init_hidden()\n",
    "                        \n",
    "        for raw_X_train_turn, raw_Y_train_turn in zip(raw_X_train_dialog[\"turns\"], raw_Y_train_dialog[\"turns\"]):\n",
    "            \n",
    "            optimizer_GoalPricerangeModel.zero_grad()\n",
    "            \n",
    "            turn_loss = 0\n",
    "            \n",
    "            indices, scores = get_index_and_score(raw_X_train_turn, token_to_index, mode = \"train\", device = DEVICE)\n",
    "\n",
    "            goal_priceranges = model_GoalPricerange(indices, scores)\n",
    "\n",
    "            for goal_pricerange in goal_priceranges:\n",
    "                \n",
    "                goal_pricerange = goal_pricerange.unsqueeze(0)\n",
    "                \n",
    "                loss_goal_pricerange = GOAL_LOSS_FUNCTION(goal_pricerange,\n",
    "                                                          retrieve_gold_GoalPriceRange(raw_Y_train_turn,\n",
    "                                                                                       ontology = ontology,\n",
    "                                                                                       device = DEVICE))\n",
    "                turn_loss += loss_goal_pricerange\n",
    "                \n",
    "            turn_loss.backward(retain_graph = True)\n",
    "\n",
    "            optimizer_GoalPricerangeModel.step()\n",
    "\n",
    "    dev_goal_accuracy, \\\n",
    "    dev_goal_l2, \\\n",
    "    dev_requested_accuracy, \\\n",
    "    dev_requested_l2, \\\n",
    "    dev_method_accuracy, \\\n",
    "    dev_method_l2 = get_scores(model_GoalPricerange,\n",
    "                               model_GoalArea,\n",
    "                               model_GoalName,\n",
    "                               model_GoalFood,\n",
    "                               model_Requested,\n",
    "                               model_Method,\n",
    "                               raw_X_dev, raw_Y_dev, dataset = \"dstc2_dev\")\n",
    "    logging.info(\"DEV Acc:\\t\\t{}({})\\t\\t{}({})\\t\\t{}({})\".format(dev_goal_accuracy,\n",
    "                                                                 np.around(dev_goal_accuracy, decimals = 2),\n",
    "                                                                 dev_requested_accuracy,\n",
    "                                                                 np.around(dev_requested_accuracy, decimals = 2),\n",
    "                                                                 dev_method_accuracy,\n",
    "                                                                 np.around(dev_method_accuracy, decimals = 2)))\n",
    "    logging.info(\"DEV L2:\\t\\t{}({})\\t\\t{}({})\\t\\t{}({})\".format(dev_goal_l2,\n",
    "                                                                np.around(dev_goal_l2, decimals = 2),\n",
    "                                                                dev_requested_l2,\n",
    "                                                                np.around(dev_requested_l2, decimals = 2),\n",
    "                                                                dev_method_l2,\n",
    "                                                                np.around(dev_method_l2, decimals = 2)))\n",
    "    dev_goal_accuracies.append(dev_goal_accuracy)\n",
    "    dev_requested_accuracies.append(dev_requested_accuracy)\n",
    "    dev_method_accuracies.append(dev_method_accuracy)\n",
    "\n",
    "    test_goal_accuracy, \\\n",
    "    test_goal_l2, \\\n",
    "    test_requested_accuracy, \\\n",
    "    test_requested_l2, \\\n",
    "    test_method_accuracy, \\\n",
    "    test_method_l2 = get_scores(model_GoalPricerange,\n",
    "                                model_GoalArea,\n",
    "                                model_GoalName,\n",
    "                                model_GoalFood,\n",
    "                                model_Requested,\n",
    "                                model_Method,\n",
    "                                raw_X_test, raw_Y_test, dataset = \"dstc2_test\")\n",
    "    logging.info(\"TEST Acc:\\t\\t{}({})\\t\\t{}({})\\t\\t{}({})\".format(test_goal_accuracy,\n",
    "                                                                  np.around(test_goal_accuracy, decimals = 2),\n",
    "                                                                  test_requested_accuracy,\n",
    "                                                                  np.around(test_requested_accuracy, decimals = 2),\n",
    "                                                                  test_method_accuracy,\n",
    "                                                                  np.around(test_method_accuracy, decimals = 2)))\n",
    "    logging.info(\"TEST L2:\\t\\t{}({})\\t\\t{}({})\\t\\t{}({})\".format(test_goal_l2,\n",
    "                                                                 np.around(test_goal_l2, decimals = 2),\n",
    "                                                                 test_requested_l2,\n",
    "                                                                 np.around(test_requested_l2, decimals = 2),\n",
    "                                                                 test_method_l2,\n",
    "                                                                 np.around(test_method_l2, decimals = 2)))\n",
    "    test_goal_accuracies.append(test_goal_accuracy)\n",
    "    test_requested_accuracies.append(test_requested_accuracy)\n",
    "    test_method_accuracies.append(test_requested_accuracy)\n",
    "        \n",
    "    goal_pricerange_early_stopping.on_epoch_end(epoch = (epoch + 1), current_value = (dev_goal_accuracy))\n",
    "    \n",
    "    if goal_pricerange_early_stopping.stop_training:\n",
    "        break\n",
    "\n",
    "plotly_plot(dev_goal_accuracies, test_goal_accuracies, \"Goal\")"
   ]
  },
  {
   "cell_type": "markdown",
   "metadata": {},
   "source": [
    "### Save Goal Pricerange Model"
   ]
  },
  {
   "cell_type": "code",
   "execution_count": 20,
   "metadata": {},
   "outputs": [],
   "source": [
    "torch.save(model_GoalPricerange.state_dict(), \"model_PANFMR_incremental_GoalPricerange.pt\")"
   ]
  },
  {
   "cell_type": "markdown",
   "metadata": {},
   "source": [
    "### Load Goal Pricerange Model"
   ]
  },
  {
   "cell_type": "code",
   "execution_count": 21,
   "metadata": {},
   "outputs": [
    {
     "data": {
      "text/plain": [
       "GoalPricerangeModel(\n",
       "  (embeddings): Embedding(1149, 170)\n",
       "  (altered_embeddings): Linear(in_features=171, out_features=300, bias=True)\n",
       "  (lstm): LSTM(300, 100)\n",
       "  (goal_pricerange_classifier): Linear(in_features=100, out_features=5, bias=True)\n",
       ")"
      ]
     },
     "execution_count": 21,
     "metadata": {},
     "output_type": "execute_result"
    }
   ],
   "source": [
    "model_GoalPricerange = GoalPricerangeModel(vocabulary_size = VOCABULARY_SIZE,\n",
    "                                           embedding_dim = EMBEDDING_DIM,\n",
    "                                           altered_embedding_dim = ALTERED_EMBEDDING_DIM,\n",
    "                                           hidden_dim = HIDDEN_DIM,\n",
    "                                           goal_pricerange_dim = GOAL_PRICERANGE_DIM,\n",
    "                                           device = DEVICE)\n",
    "\n",
    "model_GoalPricerange = model_GoalPricerange.to(DEVICE)\n",
    "model_GoalPricerange.load_state_dict(torch.load(\"model_PANFMR_incremental_GoalPricerange.pt\"))\n",
    "model_GoalPricerange.eval()"
   ]
  },
  {
   "cell_type": "code",
   "execution_count": 22,
   "metadata": {},
   "outputs": [
    {
     "data": {
      "application/vnd.jupyter.widget-view+json": {
       "model_id": "4f7141365a0e4b79912786914f41a4aa",
       "version_major": 2,
       "version_minor": 0
      },
      "text/plain": [
       "HBox(children=(IntProgress(value=0, max=506), HTML(value='')))"
      ]
     },
     "metadata": {},
     "output_type": "display_data"
    },
    {
     "name": "stdout",
     "output_type": "stream",
     "text": [
      "\n"
     ]
    },
    {
     "data": {
      "text/plain": [
       "(0.0153806, 0.9911074, 0.4572665, 0.81642, 0.0206932, 0.6142292)"
      ]
     },
     "execution_count": 22,
     "metadata": {},
     "output_type": "execute_result"
    }
   ],
   "source": [
    "get_scores(model_GoalPricerange,\n",
    "           model_GoalArea,\n",
    "           model_GoalName,\n",
    "           model_GoalFood,\n",
    "           model_Requested,\n",
    "           model_Method,\n",
    "           raw_X_dev, raw_Y_dev, dataset = \"dstc2_dev\")"
   ]
  },
  {
   "cell_type": "code",
   "execution_count": 23,
   "metadata": {},
   "outputs": [
    {
     "data": {
      "application/vnd.jupyter.widget-view+json": {
       "model_id": "181429d59e874504a0a8b6f2fdc83c37",
       "version_major": 2,
       "version_minor": 0
      },
      "text/plain": [
       "HBox(children=(IntProgress(value=0, max=1117), HTML(value='')))"
      ]
     },
     "metadata": {},
     "output_type": "display_data"
    },
    {
     "name": "stdout",
     "output_type": "stream",
     "text": [
      "\n"
     ]
    },
    {
     "data": {
      "text/plain": [
       "(0.0300341, 0.991368, 0.4820281, 0.8182356, 0.0166256, 0.6121364)"
      ]
     },
     "execution_count": 23,
     "metadata": {},
     "output_type": "execute_result"
    }
   ],
   "source": [
    "get_scores(model_GoalPricerange,\n",
    "           model_GoalArea,\n",
    "           model_GoalName,\n",
    "           model_GoalFood,\n",
    "           model_Requested,\n",
    "           model_Method,\n",
    "           raw_X_test, raw_Y_test, dataset = \"dstc2_test\")"
   ]
  },
  {
   "cell_type": "markdown",
   "metadata": {},
   "source": [
    "### Train Goal Area Model"
   ]
  },
  {
   "cell_type": "code",
   "execution_count": 24,
   "metadata": {
    "scrolled": false
   },
   "outputs": [
    {
     "name": "stderr",
     "output_type": "stream",
     "text": [
      "INFO:root:Epoch\t1/30\n"
     ]
    },
    {
     "data": {
      "application/vnd.jupyter.widget-view+json": {
       "model_id": "b06ac425c1dd474492eac544e97e6f3f",
       "version_major": 2,
       "version_minor": 0
      },
      "text/plain": [
       "HBox(children=(IntProgress(value=0, max=3224), HTML(value='')))"
      ]
     },
     "metadata": {},
     "output_type": "display_data"
    },
    {
     "name": "stdout",
     "output_type": "stream",
     "text": [
      "\n"
     ]
    },
    {
     "data": {
      "application/vnd.jupyter.widget-view+json": {
       "model_id": "c5f3dd454f1847829710aa1eeb417595",
       "version_major": 2,
       "version_minor": 0
      },
      "text/plain": [
       "HBox(children=(IntProgress(value=0, max=506), HTML(value='')))"
      ]
     },
     "metadata": {},
     "output_type": "display_data"
    },
    {
     "name": "stdout",
     "output_type": "stream",
     "text": [
      "\n"
     ]
    },
    {
     "name": "stderr",
     "output_type": "stream",
     "text": [
      "INFO:root:DEV Acc:\t\t0.1160063(0.12)\t\t0.4572665(0.46)\t\t0.0206932(0.02)\n",
      "INFO:root:DEV L2:\t\t0.9604749(0.96)\t\t0.81642(0.82)\t\t0.6142292(0.61)\n"
     ]
    },
    {
     "data": {
      "application/vnd.jupyter.widget-view+json": {
       "model_id": "a53f6648d5d5406cbbaca98957736e5a",
       "version_major": 2,
       "version_minor": 0
      },
      "text/plain": [
       "HBox(children=(IntProgress(value=0, max=1117), HTML(value='')))"
      ]
     },
     "metadata": {},
     "output_type": "display_data"
    },
    {
     "name": "stdout",
     "output_type": "stream",
     "text": [
      "\n"
     ]
    },
    {
     "name": "stderr",
     "output_type": "stream",
     "text": [
      "INFO:root:TEST Acc:\t\t0.1831974(0.18)\t\t0.4820281(0.48)\t\t0.0166256(0.02)\n",
      "INFO:root:TEST L2:\t\t0.958017(0.96)\t\t0.8182356(0.82)\t\t0.6121364(0.61)\n",
      "INFO:root:Epoch\t2/30\n"
     ]
    },
    {
     "data": {
      "application/vnd.jupyter.widget-view+json": {
       "model_id": "dd3bf3cf0ad7464dbd56203e9d1f4c8e",
       "version_major": 2,
       "version_minor": 0
      },
      "text/plain": [
       "HBox(children=(IntProgress(value=0, max=3224), HTML(value='')))"
      ]
     },
     "metadata": {},
     "output_type": "display_data"
    },
    {
     "name": "stdout",
     "output_type": "stream",
     "text": [
      "\n"
     ]
    },
    {
     "data": {
      "application/vnd.jupyter.widget-view+json": {
       "model_id": "eb0346ead5494b1bbc7f63d3b66262e1",
       "version_major": 2,
       "version_minor": 0
      },
      "text/plain": [
       "HBox(children=(IntProgress(value=0, max=506), HTML(value='')))"
      ]
     },
     "metadata": {},
     "output_type": "display_data"
    },
    {
     "name": "stdout",
     "output_type": "stream",
     "text": [
      "\n"
     ]
    },
    {
     "name": "stderr",
     "output_type": "stream",
     "text": [
      "INFO:root:DEV Acc:\t\t0.1165276(0.12)\t\t0.4572665(0.46)\t\t0.0206932(0.02)\n",
      "INFO:root:DEV L2:\t\t0.9592414(0.96)\t\t0.81642(0.82)\t\t0.6142292(0.61)\n"
     ]
    },
    {
     "data": {
      "application/vnd.jupyter.widget-view+json": {
       "model_id": "39b2f0fe84534f6aa90dc9fd3da46a82",
       "version_major": 2,
       "version_minor": 0
      },
      "text/plain": [
       "HBox(children=(IntProgress(value=0, max=1117), HTML(value='')))"
      ]
     },
     "metadata": {},
     "output_type": "display_data"
    },
    {
     "name": "stdout",
     "output_type": "stream",
     "text": [
      "\n"
     ]
    },
    {
     "name": "stderr",
     "output_type": "stream",
     "text": [
      "INFO:root:TEST Acc:\t\t0.1852616(0.19)\t\t0.4820281(0.48)\t\t0.0166256(0.02)\n",
      "INFO:root:TEST L2:\t\t0.9587613(0.96)\t\t0.8182356(0.82)\t\t0.6121364(0.61)\n",
      "INFO:root:Epoch\t3/30\n"
     ]
    },
    {
     "data": {
      "application/vnd.jupyter.widget-view+json": {
       "model_id": "025a721270e44cbbb1b3382961740bc8",
       "version_major": 2,
       "version_minor": 0
      },
      "text/plain": [
       "HBox(children=(IntProgress(value=0, max=3224), HTML(value='')))"
      ]
     },
     "metadata": {},
     "output_type": "display_data"
    },
    {
     "name": "stdout",
     "output_type": "stream",
     "text": [
      "\n"
     ]
    },
    {
     "data": {
      "application/vnd.jupyter.widget-view+json": {
       "model_id": "047696e217544ef9a7b7e21cd9b122f0",
       "version_major": 2,
       "version_minor": 0
      },
      "text/plain": [
       "HBox(children=(IntProgress(value=0, max=506), HTML(value='')))"
      ]
     },
     "metadata": {},
     "output_type": "display_data"
    },
    {
     "name": "stdout",
     "output_type": "stream",
     "text": [
      "\n"
     ]
    },
    {
     "name": "stderr",
     "output_type": "stream",
     "text": [
      "INFO:root:DEV Acc:\t\t0.1180918(0.12)\t\t0.4572665(0.46)\t\t0.0206932(0.02)\n",
      "INFO:root:DEV L2:\t\t0.957381(0.96)\t\t0.81642(0.82)\t\t0.6142292(0.61)\n"
     ]
    },
    {
     "data": {
      "application/vnd.jupyter.widget-view+json": {
       "model_id": "8444124e62b24d9e9819b1cae8373a54",
       "version_major": 2,
       "version_minor": 0
      },
      "text/plain": [
       "HBox(children=(IntProgress(value=0, max=1117), HTML(value='')))"
      ]
     },
     "metadata": {},
     "output_type": "display_data"
    },
    {
     "name": "stdout",
     "output_type": "stream",
     "text": [
      "\n"
     ]
    },
    {
     "name": "stderr",
     "output_type": "stream",
     "text": [
      "INFO:root:TEST Acc:\t\t0.1876355(0.19)\t\t0.4820281(0.48)\t\t0.0166256(0.02)\n",
      "INFO:root:TEST L2:\t\t0.9553617(0.96)\t\t0.8182356(0.82)\t\t0.6121364(0.61)\n",
      "INFO:root:Epoch\t4/30\n"
     ]
    },
    {
     "data": {
      "application/vnd.jupyter.widget-view+json": {
       "model_id": "1c6601c10cd946ea99b317ff6eb5706c",
       "version_major": 2,
       "version_minor": 0
      },
      "text/plain": [
       "HBox(children=(IntProgress(value=0, max=3224), HTML(value='')))"
      ]
     },
     "metadata": {},
     "output_type": "display_data"
    },
    {
     "name": "stdout",
     "output_type": "stream",
     "text": [
      "\n"
     ]
    },
    {
     "data": {
      "application/vnd.jupyter.widget-view+json": {
       "model_id": "03fb168f7e644a0ea2394da0ec8b2dd5",
       "version_major": 2,
       "version_minor": 0
      },
      "text/plain": [
       "HBox(children=(IntProgress(value=0, max=506), HTML(value='')))"
      ]
     },
     "metadata": {},
     "output_type": "display_data"
    },
    {
     "name": "stdout",
     "output_type": "stream",
     "text": [
      "\n"
     ]
    },
    {
     "name": "stderr",
     "output_type": "stream",
     "text": [
      "INFO:root:DEV Acc:\t\t0.1173097(0.12)\t\t0.4572665(0.46)\t\t0.0206932(0.02)\n",
      "INFO:root:DEV L2:\t\t0.9590724(0.96)\t\t0.81642(0.82)\t\t0.6142292(0.61)\n"
     ]
    },
    {
     "data": {
      "application/vnd.jupyter.widget-view+json": {
       "model_id": "8bb172d1a35a442ca84525bc60c2817b",
       "version_major": 2,
       "version_minor": 0
      },
      "text/plain": [
       "HBox(children=(IntProgress(value=0, max=1117), HTML(value='')))"
      ]
     },
     "metadata": {},
     "output_type": "display_data"
    },
    {
     "name": "stdout",
     "output_type": "stream",
     "text": [
      "\n"
     ]
    },
    {
     "name": "stderr",
     "output_type": "stream",
     "text": [
      "INFO:root:TEST Acc:\t\t0.1884611(0.19)\t\t0.4820281(0.48)\t\t0.0166256(0.02)\n",
      "INFO:root:TEST L2:\t\t0.9556447(0.96)\t\t0.8182356(0.82)\t\t0.6121364(0.61)\n",
      "INFO:root:Epoch\t5/30\n"
     ]
    },
    {
     "data": {
      "application/vnd.jupyter.widget-view+json": {
       "model_id": "5f9ed3e84f3d443e82bf31806a0ff259",
       "version_major": 2,
       "version_minor": 0
      },
      "text/plain": [
       "HBox(children=(IntProgress(value=0, max=3224), HTML(value='')))"
      ]
     },
     "metadata": {},
     "output_type": "display_data"
    },
    {
     "name": "stdout",
     "output_type": "stream",
     "text": [
      "\n"
     ]
    },
    {
     "data": {
      "application/vnd.jupyter.widget-view+json": {
       "model_id": "66ff8624aa1d431a8a55a2b15d87603f",
       "version_major": 2,
       "version_minor": 0
      },
      "text/plain": [
       "HBox(children=(IntProgress(value=0, max=506), HTML(value='')))"
      ]
     },
     "metadata": {},
     "output_type": "display_data"
    },
    {
     "name": "stdout",
     "output_type": "stream",
     "text": [
      "\n"
     ]
    },
    {
     "name": "stderr",
     "output_type": "stream",
     "text": [
      "INFO:root:DEV Acc:\t\t0.1167883(0.12)\t\t0.4572665(0.46)\t\t0.0206932(0.02)\n",
      "INFO:root:DEV L2:\t\t0.9592725(0.96)\t\t0.81642(0.82)\t\t0.6142292(0.61)\n"
     ]
    },
    {
     "data": {
      "application/vnd.jupyter.widget-view+json": {
       "model_id": "13bae63372d441bf9ba7986cf775aceb",
       "version_major": 2,
       "version_minor": 0
      },
      "text/plain": [
       "HBox(children=(IntProgress(value=0, max=1117), HTML(value='')))"
      ]
     },
     "metadata": {},
     "output_type": "display_data"
    },
    {
     "name": "stdout",
     "output_type": "stream",
     "text": [
      "\n"
     ]
    },
    {
     "name": "stderr",
     "output_type": "stream",
     "text": [
      "INFO:root:TEST Acc:\t\t0.1847456(0.18)\t\t0.4820281(0.48)\t\t0.0166256(0.02)\n",
      "INFO:root:TEST L2:\t\t0.9590725(0.96)\t\t0.8182356(0.82)\t\t0.6121364(0.61)\n",
      "INFO:root:Epoch\t6/30\n"
     ]
    },
    {
     "data": {
      "application/vnd.jupyter.widget-view+json": {
       "model_id": "8e6931347baa4615b538de99e9b1c73c",
       "version_major": 2,
       "version_minor": 0
      },
      "text/plain": [
       "HBox(children=(IntProgress(value=0, max=3224), HTML(value='')))"
      ]
     },
     "metadata": {},
     "output_type": "display_data"
    },
    {
     "name": "stdout",
     "output_type": "stream",
     "text": [
      "\n"
     ]
    },
    {
     "data": {
      "application/vnd.jupyter.widget-view+json": {
       "model_id": "a04295741eab472e8be28181171f4af5",
       "version_major": 2,
       "version_minor": 0
      },
      "text/plain": [
       "HBox(children=(IntProgress(value=0, max=506), HTML(value='')))"
      ]
     },
     "metadata": {},
     "output_type": "display_data"
    },
    {
     "name": "stdout",
     "output_type": "stream",
     "text": [
      "\n"
     ]
    },
    {
     "name": "stderr",
     "output_type": "stream",
     "text": [
      "INFO:root:DEV Acc:\t\t0.1173097(0.12)\t\t0.4572665(0.46)\t\t0.0206932(0.02)\n",
      "INFO:root:DEV L2:\t\t0.9605633(0.96)\t\t0.81642(0.82)\t\t0.6142292(0.61)\n"
     ]
    },
    {
     "data": {
      "application/vnd.jupyter.widget-view+json": {
       "model_id": "ec559b8e7954464094493da7e64e0272",
       "version_major": 2,
       "version_minor": 0
      },
      "text/plain": [
       "HBox(children=(IntProgress(value=0, max=1117), HTML(value='')))"
      ]
     },
     "metadata": {},
     "output_type": "display_data"
    },
    {
     "name": "stdout",
     "output_type": "stream",
     "text": [
      "\n"
     ]
    },
    {
     "name": "stderr",
     "output_type": "stream",
     "text": [
      "INFO:root:TEST Acc:\t\t0.1839199(0.18)\t\t0.4820281(0.48)\t\t0.0166256(0.02)\n",
      "INFO:root:TEST L2:\t\t0.9589216(0.96)\t\t0.8182356(0.82)\t\t0.6121364(0.61)\n"
     ]
    },
    {
     "data": {
      "application/vnd.plotly.v1+json": {
       "config": {
        "linkText": "Export to plot.ly",
        "plotlyServerURL": "https://plot.ly",
        "showLink": true
       },
       "data": [
        {
         "marker": {
          "color": "#3498db"
         },
         "mode": "lines+markers",
         "name": "Dev Goal Accuracy",
         "type": "scatter",
         "uid": "c951bb80-9cdf-4b1a-9b67-e25b7e9dbbbd",
         "x": [
          0,
          1,
          2,
          3,
          4,
          5
         ],
         "y": [
          0.1160063,
          0.1165276,
          0.1180918,
          0.1173097,
          0.1167883,
          0.1173097
         ]
        },
        {
         "marker": {
          "color": "#9b59b6"
         },
         "mode": "lines+markers",
         "name": "Test Goal Accuracy",
         "type": "scatter",
         "uid": "792b5313-991a-4222-9dea-768d0c29ff4e",
         "x": [
          0,
          1,
          2,
          3,
          4,
          5
         ],
         "y": [
          0.1831974,
          0.1852616,
          0.1876355,
          0.1884611,
          0.1847456,
          0.1839199
         ]
        }
       ],
       "layout": {
        "margin": {
         "b": 150
        },
        "title": "<b>Dev-Test Goal Accuracy</b>",
        "xaxis": {
         "dtick": 1,
         "title": "<b>Epoch</b>",
         "titlefont": {
          "color": "#34495e"
         }
        },
        "yaxis": {
         "title": "<b>Accuracy</b>",
         "titlefont": {
          "color": "#34495e"
         }
        }
       }
      },
      "text/html": [
       "<div id=\"42a357a8-d547-4965-b450-047a80f9d88a\" style=\"height: 525px; width: 100%;\" class=\"plotly-graph-div\"></div><script type=\"text/javascript\">require([\"plotly\"], function(Plotly) { window.PLOTLYENV=window.PLOTLYENV || {};window.PLOTLYENV.BASE_URL=\"https://plot.ly\";Plotly.newPlot(\"42a357a8-d547-4965-b450-047a80f9d88a\", [{\"marker\": {\"color\": \"#3498db\"}, \"mode\": \"lines+markers\", \"name\": \"Dev Goal Accuracy\", \"x\": [0, 1, 2, 3, 4, 5], \"y\": [0.1160063, 0.1165276, 0.1180918, 0.1173097, 0.1167883, 0.1173097], \"type\": \"scatter\", \"uid\": \"ba167a96-fcb8-414f-9eb9-6ed76b163ce4\"}, {\"marker\": {\"color\": \"#9b59b6\"}, \"mode\": \"lines+markers\", \"name\": \"Test Goal Accuracy\", \"x\": [0, 1, 2, 3, 4, 5], \"y\": [0.1831974, 0.1852616, 0.1876355, 0.1884611, 0.1847456, 0.1839199], \"type\": \"scatter\", \"uid\": \"0ecef6bc-45b8-4f01-90d8-f232862528e7\"}], {\"margin\": {\"b\": 150}, \"title\": \"<b>Dev-Test Goal Accuracy</b>\", \"xaxis\": {\"dtick\": 1, \"title\": \"<b>Epoch</b>\", \"titlefont\": {\"color\": \"#34495e\"}}, \"yaxis\": {\"title\": \"<b>Accuracy</b>\", \"titlefont\": {\"color\": \"#34495e\"}}}, {\"showLink\": true, \"linkText\": \"Export to plot.ly\", \"plotlyServerURL\": \"https://plot.ly\"})});</script><script type=\"text/javascript\">window.addEventListener(\"resize\", function(){window._Plotly.Plots.resize(document.getElementById(\"42a357a8-d547-4965-b450-047a80f9d88a\"));});</script>"
      ],
      "text/vnd.plotly.v1+html": [
       "<div id=\"42a357a8-d547-4965-b450-047a80f9d88a\" style=\"height: 525px; width: 100%;\" class=\"plotly-graph-div\"></div><script type=\"text/javascript\">require([\"plotly\"], function(Plotly) { window.PLOTLYENV=window.PLOTLYENV || {};window.PLOTLYENV.BASE_URL=\"https://plot.ly\";Plotly.newPlot(\"42a357a8-d547-4965-b450-047a80f9d88a\", [{\"marker\": {\"color\": \"#3498db\"}, \"mode\": \"lines+markers\", \"name\": \"Dev Goal Accuracy\", \"x\": [0, 1, 2, 3, 4, 5], \"y\": [0.1160063, 0.1165276, 0.1180918, 0.1173097, 0.1167883, 0.1173097], \"type\": \"scatter\", \"uid\": \"ba167a96-fcb8-414f-9eb9-6ed76b163ce4\"}, {\"marker\": {\"color\": \"#9b59b6\"}, \"mode\": \"lines+markers\", \"name\": \"Test Goal Accuracy\", \"x\": [0, 1, 2, 3, 4, 5], \"y\": [0.1831974, 0.1852616, 0.1876355, 0.1884611, 0.1847456, 0.1839199], \"type\": \"scatter\", \"uid\": \"0ecef6bc-45b8-4f01-90d8-f232862528e7\"}], {\"margin\": {\"b\": 150}, \"title\": \"<b>Dev-Test Goal Accuracy</b>\", \"xaxis\": {\"dtick\": 1, \"title\": \"<b>Epoch</b>\", \"titlefont\": {\"color\": \"#34495e\"}}, \"yaxis\": {\"title\": \"<b>Accuracy</b>\", \"titlefont\": {\"color\": \"#34495e\"}}}, {\"showLink\": true, \"linkText\": \"Export to plot.ly\", \"plotlyServerURL\": \"https://plot.ly\"})});</script><script type=\"text/javascript\">window.addEventListener(\"resize\", function(){window._Plotly.Plots.resize(document.getElementById(\"42a357a8-d547-4965-b450-047a80f9d88a\"));});</script>"
      ]
     },
     "metadata": {},
     "output_type": "display_data"
    }
   ],
   "source": [
    "dev_goal_accuracies = []\n",
    "dev_requested_accuracies = []\n",
    "dev_method_accuracies = []\n",
    "\n",
    "test_goal_accuracies = []\n",
    "test_requested_accuracies = []\n",
    "test_method_accuracies = []\n",
    "\n",
    "goal_area_early_stopping = EarlyStopping(patience = 2)\n",
    "\n",
    "train_indices = np.arange(raw_X_train.shape[0])\n",
    "\n",
    "for epoch in range(NUM_EPOCHS):\n",
    "    \n",
    "    np.random.shuffle(train_indices)\n",
    "    \n",
    "    logging.info(\"Epoch\\t{}/{}\".format(epoch + 1, NUM_EPOCHS))\n",
    "    \n",
    "    model_GoalArea = model_GoalArea.train()\n",
    "    \n",
    "    for raw_X_train_dialog, raw_Y_train_dialog in tqdm_notebook(zip(raw_X_train[train_indices], raw_Y_train[train_indices]), total = len(raw_X_train)):\n",
    "\n",
    "        model_GoalArea.hidden = model_GoalArea.init_hidden()\n",
    "\n",
    "        for raw_X_train_turn, raw_Y_train_turn in zip(raw_X_train_dialog[\"turns\"], raw_Y_train_dialog[\"turns\"]):\n",
    "            \n",
    "            optimizer_GoalAreaModel.zero_grad()\n",
    "        \n",
    "            turn_loss = 0\n",
    "            \n",
    "            indices, scores = get_index_and_score(raw_X_train_turn, token_to_index, mode = \"train\", device = DEVICE)\n",
    "\n",
    "            goal_areas = model_GoalArea(indices, scores)\n",
    "            \n",
    "            for goal_area in goal_areas:\n",
    "\n",
    "                goal_area = goal_area.unsqueeze(0)\n",
    "                \n",
    "                loss_goal_area = GOAL_LOSS_FUNCTION(goal_area,\n",
    "                                                    retrieve_gold_GoalArea(raw_Y_train_turn,\n",
    "                                                                           ontology = ontology,\n",
    "                                                                           device = DEVICE))\n",
    "                turn_loss += loss_goal_area\n",
    "                \n",
    "            turn_loss.backward(retain_graph = True)\n",
    "\n",
    "            optimizer_GoalAreaModel.step()\n",
    "    \n",
    "    dev_goal_accuracy, \\\n",
    "    dev_goal_l2, \\\n",
    "    dev_requested_accuracy, \\\n",
    "    dev_requested_l2, \\\n",
    "    dev_method_accuracy, \\\n",
    "    dev_method_l2 = get_scores(model_GoalPricerange,\n",
    "                               model_GoalArea,\n",
    "                               model_GoalName,\n",
    "                               model_GoalFood,\n",
    "                               model_Requested,\n",
    "                               model_Method,\n",
    "                               raw_X_dev, raw_Y_dev, dataset = \"dstc2_dev\")\n",
    "    logging.info(\"DEV Acc:\\t\\t{}({})\\t\\t{}({})\\t\\t{}({})\".format(dev_goal_accuracy,\n",
    "                                                                 np.around(dev_goal_accuracy, decimals = 2),\n",
    "                                                                 dev_requested_accuracy,\n",
    "                                                                 np.around(dev_requested_accuracy, decimals = 2),\n",
    "                                                                 dev_method_accuracy,\n",
    "                                                                 np.around(dev_method_accuracy, decimals = 2)))\n",
    "    logging.info(\"DEV L2:\\t\\t{}({})\\t\\t{}({})\\t\\t{}({})\".format(dev_goal_l2,\n",
    "                                                                np.around(dev_goal_l2, decimals = 2),\n",
    "                                                                dev_requested_l2,\n",
    "                                                                np.around(dev_requested_l2, decimals = 2),\n",
    "                                                                dev_method_l2,\n",
    "                                                                np.around(dev_method_l2, decimals = 2)))\n",
    "    dev_goal_accuracies.append(dev_goal_accuracy)\n",
    "    dev_requested_accuracies.append(dev_requested_accuracy)\n",
    "    dev_method_accuracies.append(dev_method_accuracy)\n",
    "\n",
    "    test_goal_accuracy, \\\n",
    "    test_goal_l2, \\\n",
    "    test_requested_accuracy, \\\n",
    "    test_requested_l2, \\\n",
    "    test_method_accuracy, \\\n",
    "    test_method_l2 = get_scores(model_GoalPricerange,\n",
    "                                model_GoalArea,\n",
    "                                model_GoalName,\n",
    "                                model_GoalFood,\n",
    "                                model_Requested,\n",
    "                                model_Method,\n",
    "                                raw_X_test, raw_Y_test, dataset = \"dstc2_test\")\n",
    "    logging.info(\"TEST Acc:\\t\\t{}({})\\t\\t{}({})\\t\\t{}({})\".format(test_goal_accuracy,\n",
    "                                                                  np.around(test_goal_accuracy, decimals = 2),\n",
    "                                                                  test_requested_accuracy,\n",
    "                                                                  np.around(test_requested_accuracy, decimals = 2),\n",
    "                                                                  test_method_accuracy,\n",
    "                                                                  np.around(test_method_accuracy, decimals = 2)))\n",
    "    logging.info(\"TEST L2:\\t\\t{}({})\\t\\t{}({})\\t\\t{}({})\".format(test_goal_l2,\n",
    "                                                                 np.around(test_goal_l2, decimals = 2),\n",
    "                                                                 test_requested_l2,\n",
    "                                                                 np.around(test_requested_l2, decimals = 2),\n",
    "                                                                 test_method_l2,\n",
    "                                                                 np.around(test_method_l2, decimals = 2)))\n",
    "    test_goal_accuracies.append(test_goal_accuracy)\n",
    "    test_requested_accuracies.append(test_requested_accuracy)\n",
    "    test_method_accuracies.append(test_requested_accuracy)\n",
    "        \n",
    "    goal_area_early_stopping.on_epoch_end(epoch = (epoch + 1), current_value = (dev_goal_accuracy))\n",
    "    \n",
    "    if goal_area_early_stopping.stop_training:\n",
    "        break\n",
    "\n",
    "plotly_plot(dev_goal_accuracies, test_goal_accuracies, \"Goal\")"
   ]
  },
  {
   "cell_type": "markdown",
   "metadata": {},
   "source": [
    "### Save Goal Area Model"
   ]
  },
  {
   "cell_type": "code",
   "execution_count": 25,
   "metadata": {},
   "outputs": [],
   "source": [
    "torch.save(model_GoalArea.state_dict(), \"model_PANFRM_incremental_GoalArea.pt\")"
   ]
  },
  {
   "cell_type": "markdown",
   "metadata": {},
   "source": [
    "### Load Goal Area Model"
   ]
  },
  {
   "cell_type": "code",
   "execution_count": 26,
   "metadata": {},
   "outputs": [
    {
     "data": {
      "text/plain": [
       "GoalAreaModel(\n",
       "  (embeddings): Embedding(1149, 170)\n",
       "  (altered_embeddings): Linear(in_features=171, out_features=300, bias=True)\n",
       "  (lstm): LSTM(300, 100)\n",
       "  (goal_area_classifier): Linear(in_features=100, out_features=7, bias=True)\n",
       ")"
      ]
     },
     "execution_count": 26,
     "metadata": {},
     "output_type": "execute_result"
    }
   ],
   "source": [
    "model_GoalArea = GoalAreaModel(vocabulary_size = VOCABULARY_SIZE,\n",
    "                               embedding_dim = EMBEDDING_DIM,\n",
    "                               altered_embedding_dim = ALTERED_EMBEDDING_DIM,\n",
    "                               hidden_dim = HIDDEN_DIM,\n",
    "                               goal_area_dim = GOAL_AREA_DIM,\n",
    "                               device = DEVICE)\n",
    "\n",
    "model_GoalArea = model_GoalArea.to(DEVICE)\n",
    "model_GoalArea.load_state_dict(torch.load(\"model_PANFRM_incremental_GoalArea.pt\"))\n",
    "model_GoalArea.eval()"
   ]
  },
  {
   "cell_type": "code",
   "execution_count": 27,
   "metadata": {},
   "outputs": [
    {
     "data": {
      "application/vnd.jupyter.widget-view+json": {
       "model_id": "1c15a896ecbc4c09924145d390649136",
       "version_major": 2,
       "version_minor": 0
      },
      "text/plain": [
       "HBox(children=(IntProgress(value=0, max=506), HTML(value='')))"
      ]
     },
     "metadata": {},
     "output_type": "display_data"
    },
    {
     "name": "stdout",
     "output_type": "stream",
     "text": [
      "\n"
     ]
    },
    {
     "data": {
      "text/plain": [
       "(0.1173097, 0.9605633, 0.4572665, 0.81642, 0.0206932, 0.6142292)"
      ]
     },
     "execution_count": 27,
     "metadata": {},
     "output_type": "execute_result"
    }
   ],
   "source": [
    "get_scores(model_GoalPricerange,\n",
    "           model_GoalArea,\n",
    "           model_GoalName,\n",
    "           model_GoalFood,\n",
    "           model_Requested,\n",
    "           model_Method,\n",
    "           raw_X_dev, raw_Y_dev, dataset = \"dstc2_dev\")"
   ]
  },
  {
   "cell_type": "code",
   "execution_count": 28,
   "metadata": {},
   "outputs": [
    {
     "data": {
      "application/vnd.jupyter.widget-view+json": {
       "model_id": "d5ee657cde78457486cd97546b5dc20e",
       "version_major": 2,
       "version_minor": 0
      },
      "text/plain": [
       "HBox(children=(IntProgress(value=0, max=1117), HTML(value='')))"
      ]
     },
     "metadata": {},
     "output_type": "display_data"
    },
    {
     "name": "stdout",
     "output_type": "stream",
     "text": [
      "\n"
     ]
    },
    {
     "data": {
      "text/plain": [
       "(0.1839199, 0.9589216, 0.4820281, 0.8182356, 0.0166256, 0.6121364)"
      ]
     },
     "execution_count": 28,
     "metadata": {},
     "output_type": "execute_result"
    }
   ],
   "source": [
    "get_scores(model_GoalPricerange,\n",
    "           model_GoalArea,\n",
    "           model_GoalName,\n",
    "           model_GoalFood,\n",
    "           model_Requested,\n",
    "           model_Method,\n",
    "           raw_X_test, raw_Y_test, dataset = \"dstc2_test\")"
   ]
  },
  {
   "cell_type": "markdown",
   "metadata": {},
   "source": [
    "### Train Goal Name Model"
   ]
  },
  {
   "cell_type": "code",
   "execution_count": 29,
   "metadata": {
    "scrolled": false
   },
   "outputs": [
    {
     "name": "stderr",
     "output_type": "stream",
     "text": [
      "INFO:root:Epoch\t1/30\n"
     ]
    },
    {
     "data": {
      "application/vnd.jupyter.widget-view+json": {
       "model_id": "0629faa12f6949178065cecd7e1778b5",
       "version_major": 2,
       "version_minor": 0
      },
      "text/plain": [
       "HBox(children=(IntProgress(value=0, max=3224), HTML(value='')))"
      ]
     },
     "metadata": {},
     "output_type": "display_data"
    },
    {
     "name": "stdout",
     "output_type": "stream",
     "text": [
      "\n"
     ]
    },
    {
     "data": {
      "application/vnd.jupyter.widget-view+json": {
       "model_id": "516377d68c384dc1acfbfe9ed4059e0a",
       "version_major": 2,
       "version_minor": 0
      },
      "text/plain": [
       "HBox(children=(IntProgress(value=0, max=506), HTML(value='')))"
      ]
     },
     "metadata": {},
     "output_type": "display_data"
    },
    {
     "name": "stdout",
     "output_type": "stream",
     "text": [
      "\n"
     ]
    },
    {
     "name": "stderr",
     "output_type": "stream",
     "text": [
      "INFO:root:DEV Acc:\t\t0.1173097(0.12)\t\t0.4572665(0.46)\t\t0.0206932(0.02)\n",
      "INFO:root:DEV L2:\t\t0.9638609(0.96)\t\t0.81642(0.82)\t\t0.6142292(0.61)\n"
     ]
    },
    {
     "data": {
      "application/vnd.jupyter.widget-view+json": {
       "model_id": "17032e86f6fb489991676835e9c29a5a",
       "version_major": 2,
       "version_minor": 0
      },
      "text/plain": [
       "HBox(children=(IntProgress(value=0, max=1117), HTML(value='')))"
      ]
     },
     "metadata": {},
     "output_type": "display_data"
    },
    {
     "name": "stdout",
     "output_type": "stream",
     "text": [
      "\n"
     ]
    },
    {
     "name": "stderr",
     "output_type": "stream",
     "text": [
      "INFO:root:TEST Acc:\t\t0.1839199(0.18)\t\t0.4820281(0.48)\t\t0.0166256(0.02)\n",
      "INFO:root:TEST L2:\t\t0.9619787(0.96)\t\t0.8182356(0.82)\t\t0.6121364(0.61)\n",
      "INFO:root:Epoch\t2/30\n"
     ]
    },
    {
     "data": {
      "application/vnd.jupyter.widget-view+json": {
       "model_id": "91fa5dc64ef14d5fbc81363ec4f0e6bf",
       "version_major": 2,
       "version_minor": 0
      },
      "text/plain": [
       "HBox(children=(IntProgress(value=0, max=3224), HTML(value='')))"
      ]
     },
     "metadata": {},
     "output_type": "display_data"
    },
    {
     "name": "stdout",
     "output_type": "stream",
     "text": [
      "\n"
     ]
    },
    {
     "data": {
      "application/vnd.jupyter.widget-view+json": {
       "model_id": "37fc592898d34383b6fc1cbc418aae4b",
       "version_major": 2,
       "version_minor": 0
      },
      "text/plain": [
       "HBox(children=(IntProgress(value=0, max=506), HTML(value='')))"
      ]
     },
     "metadata": {},
     "output_type": "display_data"
    },
    {
     "name": "stdout",
     "output_type": "stream",
     "text": [
      "\n"
     ]
    },
    {
     "name": "stderr",
     "output_type": "stream",
     "text": [
      "INFO:root:DEV Acc:\t\t0.1173097(0.12)\t\t0.4572665(0.46)\t\t0.0206932(0.02)\n",
      "INFO:root:DEV L2:\t\t0.9636942(0.96)\t\t0.81642(0.82)\t\t0.6142292(0.61)\n"
     ]
    },
    {
     "data": {
      "application/vnd.jupyter.widget-view+json": {
       "model_id": "0f2dc499e7394e1eaf5bbc05bd59d616",
       "version_major": 2,
       "version_minor": 0
      },
      "text/plain": [
       "HBox(children=(IntProgress(value=0, max=1117), HTML(value='')))"
      ]
     },
     "metadata": {},
     "output_type": "display_data"
    },
    {
     "name": "stdout",
     "output_type": "stream",
     "text": [
      "\n"
     ]
    },
    {
     "name": "stderr",
     "output_type": "stream",
     "text": [
      "INFO:root:TEST Acc:\t\t0.1839199(0.18)\t\t0.4820281(0.48)\t\t0.0166256(0.02)\n",
      "INFO:root:TEST L2:\t\t0.9618674(0.96)\t\t0.8182356(0.82)\t\t0.6121364(0.61)\n",
      "INFO:root:Epoch\t3/30\n"
     ]
    },
    {
     "data": {
      "application/vnd.jupyter.widget-view+json": {
       "model_id": "b5a404162e7a4474b880b1e722d8c14e",
       "version_major": 2,
       "version_minor": 0
      },
      "text/plain": [
       "HBox(children=(IntProgress(value=0, max=3224), HTML(value='')))"
      ]
     },
     "metadata": {},
     "output_type": "display_data"
    },
    {
     "name": "stdout",
     "output_type": "stream",
     "text": [
      "\n"
     ]
    },
    {
     "data": {
      "application/vnd.jupyter.widget-view+json": {
       "model_id": "e0ad2ea01dea46fc97d52a98342c2466",
       "version_major": 2,
       "version_minor": 0
      },
      "text/plain": [
       "HBox(children=(IntProgress(value=0, max=506), HTML(value='')))"
      ]
     },
     "metadata": {},
     "output_type": "display_data"
    },
    {
     "name": "stdout",
     "output_type": "stream",
     "text": [
      "\n"
     ]
    },
    {
     "name": "stderr",
     "output_type": "stream",
     "text": [
      "INFO:root:DEV Acc:\t\t0.1173097(0.12)\t\t0.4572665(0.46)\t\t0.0206932(0.02)\n",
      "INFO:root:DEV L2:\t\t0.9638622(0.96)\t\t0.81642(0.82)\t\t0.6142292(0.61)\n"
     ]
    },
    {
     "data": {
      "application/vnd.jupyter.widget-view+json": {
       "model_id": "c1597dddd2994cfca5c07a0a02645acf",
       "version_major": 2,
       "version_minor": 0
      },
      "text/plain": [
       "HBox(children=(IntProgress(value=0, max=1117), HTML(value='')))"
      ]
     },
     "metadata": {},
     "output_type": "display_data"
    },
    {
     "name": "stdout",
     "output_type": "stream",
     "text": [
      "\n"
     ]
    },
    {
     "name": "stderr",
     "output_type": "stream",
     "text": [
      "INFO:root:TEST Acc:\t\t0.1839199(0.18)\t\t0.4820281(0.48)\t\t0.0166256(0.02)\n",
      "INFO:root:TEST L2:\t\t0.9619856(0.96)\t\t0.8182356(0.82)\t\t0.6121364(0.61)\n",
      "INFO:root:Epoch\t4/30\n"
     ]
    },
    {
     "data": {
      "application/vnd.jupyter.widget-view+json": {
       "model_id": "52ad6fb9be8540b9ace9aa62ab69eed9",
       "version_major": 2,
       "version_minor": 0
      },
      "text/plain": [
       "HBox(children=(IntProgress(value=0, max=3224), HTML(value='')))"
      ]
     },
     "metadata": {},
     "output_type": "display_data"
    },
    {
     "name": "stdout",
     "output_type": "stream",
     "text": [
      "\n"
     ]
    },
    {
     "data": {
      "application/vnd.jupyter.widget-view+json": {
       "model_id": "9409aace071b4cffbc8ca09dc4841ba9",
       "version_major": 2,
       "version_minor": 0
      },
      "text/plain": [
       "HBox(children=(IntProgress(value=0, max=506), HTML(value='')))"
      ]
     },
     "metadata": {},
     "output_type": "display_data"
    },
    {
     "name": "stdout",
     "output_type": "stream",
     "text": [
      "\n"
     ]
    },
    {
     "name": "stderr",
     "output_type": "stream",
     "text": [
      "INFO:root:DEV Acc:\t\t0.1173097(0.12)\t\t0.4572665(0.46)\t\t0.0206932(0.02)\n",
      "INFO:root:DEV L2:\t\t0.9637806(0.96)\t\t0.81642(0.82)\t\t0.6142292(0.61)\n"
     ]
    },
    {
     "data": {
      "application/vnd.jupyter.widget-view+json": {
       "model_id": "7829e56c50544171b7d676ac76937e8f",
       "version_major": 2,
       "version_minor": 0
      },
      "text/plain": [
       "HBox(children=(IntProgress(value=0, max=1117), HTML(value='')))"
      ]
     },
     "metadata": {},
     "output_type": "display_data"
    },
    {
     "name": "stdout",
     "output_type": "stream",
     "text": [
      "\n"
     ]
    },
    {
     "name": "stderr",
     "output_type": "stream",
     "text": [
      "INFO:root:TEST Acc:\t\t0.1839199(0.18)\t\t0.4820281(0.48)\t\t0.0166256(0.02)\n",
      "INFO:root:TEST L2:\t\t0.9619596(0.96)\t\t0.8182356(0.82)\t\t0.6121364(0.61)\n"
     ]
    },
    {
     "data": {
      "application/vnd.plotly.v1+json": {
       "config": {
        "linkText": "Export to plot.ly",
        "plotlyServerURL": "https://plot.ly",
        "showLink": true
       },
       "data": [
        {
         "marker": {
          "color": "#3498db"
         },
         "mode": "lines+markers",
         "name": "Dev Goal Accuracy",
         "type": "scatter",
         "uid": "aca9387c-dc56-4322-ac52-5374037f5f51",
         "x": [
          0,
          1,
          2,
          3
         ],
         "y": [
          0.1173097,
          0.1173097,
          0.1173097,
          0.1173097
         ]
        },
        {
         "marker": {
          "color": "#9b59b6"
         },
         "mode": "lines+markers",
         "name": "Test Goal Accuracy",
         "type": "scatter",
         "uid": "de3b75b8-dd17-41a3-8762-b2cfef480634",
         "x": [
          0,
          1,
          2,
          3
         ],
         "y": [
          0.1839199,
          0.1839199,
          0.1839199,
          0.1839199
         ]
        }
       ],
       "layout": {
        "margin": {
         "b": 150
        },
        "title": "<b>Dev-Test Goal Accuracy</b>",
        "xaxis": {
         "dtick": 1,
         "title": "<b>Epoch</b>",
         "titlefont": {
          "color": "#34495e"
         }
        },
        "yaxis": {
         "title": "<b>Accuracy</b>",
         "titlefont": {
          "color": "#34495e"
         }
        }
       }
      },
      "text/html": [
       "<div id=\"5b6820c9-e511-4c81-ba45-a270c8d76103\" style=\"height: 525px; width: 100%;\" class=\"plotly-graph-div\"></div><script type=\"text/javascript\">require([\"plotly\"], function(Plotly) { window.PLOTLYENV=window.PLOTLYENV || {};window.PLOTLYENV.BASE_URL=\"https://plot.ly\";Plotly.newPlot(\"5b6820c9-e511-4c81-ba45-a270c8d76103\", [{\"marker\": {\"color\": \"#3498db\"}, \"mode\": \"lines+markers\", \"name\": \"Dev Goal Accuracy\", \"x\": [0, 1, 2, 3], \"y\": [0.1173097, 0.1173097, 0.1173097, 0.1173097], \"type\": \"scatter\", \"uid\": \"9a383c8d-1210-46a1-bb63-56a2140ee440\"}, {\"marker\": {\"color\": \"#9b59b6\"}, \"mode\": \"lines+markers\", \"name\": \"Test Goal Accuracy\", \"x\": [0, 1, 2, 3], \"y\": [0.1839199, 0.1839199, 0.1839199, 0.1839199], \"type\": \"scatter\", \"uid\": \"30ec2202-eb14-4fc9-8007-266a96a46dad\"}], {\"margin\": {\"b\": 150}, \"title\": \"<b>Dev-Test Goal Accuracy</b>\", \"xaxis\": {\"dtick\": 1, \"title\": \"<b>Epoch</b>\", \"titlefont\": {\"color\": \"#34495e\"}}, \"yaxis\": {\"title\": \"<b>Accuracy</b>\", \"titlefont\": {\"color\": \"#34495e\"}}}, {\"showLink\": true, \"linkText\": \"Export to plot.ly\", \"plotlyServerURL\": \"https://plot.ly\"})});</script><script type=\"text/javascript\">window.addEventListener(\"resize\", function(){window._Plotly.Plots.resize(document.getElementById(\"5b6820c9-e511-4c81-ba45-a270c8d76103\"));});</script>"
      ],
      "text/vnd.plotly.v1+html": [
       "<div id=\"5b6820c9-e511-4c81-ba45-a270c8d76103\" style=\"height: 525px; width: 100%;\" class=\"plotly-graph-div\"></div><script type=\"text/javascript\">require([\"plotly\"], function(Plotly) { window.PLOTLYENV=window.PLOTLYENV || {};window.PLOTLYENV.BASE_URL=\"https://plot.ly\";Plotly.newPlot(\"5b6820c9-e511-4c81-ba45-a270c8d76103\", [{\"marker\": {\"color\": \"#3498db\"}, \"mode\": \"lines+markers\", \"name\": \"Dev Goal Accuracy\", \"x\": [0, 1, 2, 3], \"y\": [0.1173097, 0.1173097, 0.1173097, 0.1173097], \"type\": \"scatter\", \"uid\": \"9a383c8d-1210-46a1-bb63-56a2140ee440\"}, {\"marker\": {\"color\": \"#9b59b6\"}, \"mode\": \"lines+markers\", \"name\": \"Test Goal Accuracy\", \"x\": [0, 1, 2, 3], \"y\": [0.1839199, 0.1839199, 0.1839199, 0.1839199], \"type\": \"scatter\", \"uid\": \"30ec2202-eb14-4fc9-8007-266a96a46dad\"}], {\"margin\": {\"b\": 150}, \"title\": \"<b>Dev-Test Goal Accuracy</b>\", \"xaxis\": {\"dtick\": 1, \"title\": \"<b>Epoch</b>\", \"titlefont\": {\"color\": \"#34495e\"}}, \"yaxis\": {\"title\": \"<b>Accuracy</b>\", \"titlefont\": {\"color\": \"#34495e\"}}}, {\"showLink\": true, \"linkText\": \"Export to plot.ly\", \"plotlyServerURL\": \"https://plot.ly\"})});</script><script type=\"text/javascript\">window.addEventListener(\"resize\", function(){window._Plotly.Plots.resize(document.getElementById(\"5b6820c9-e511-4c81-ba45-a270c8d76103\"));});</script>"
      ]
     },
     "metadata": {},
     "output_type": "display_data"
    }
   ],
   "source": [
    "dev_goal_accuracies = []\n",
    "dev_requested_accuracies = []\n",
    "dev_method_accuracies = []\n",
    "\n",
    "test_goal_accuracies = []\n",
    "test_requested_accuracies = []\n",
    "test_method_accuracies = []\n",
    "\n",
    "goal_name_early_stopping = EarlyStopping(patience = 2)\n",
    "\n",
    "train_indices = np.arange(raw_X_train.shape[0])\n",
    "\n",
    "for epoch in range(NUM_EPOCHS):\n",
    "    \n",
    "    np.random.shuffle(train_indices)\n",
    "    \n",
    "    logging.info(\"Epoch\\t{}/{}\".format(epoch + 1, NUM_EPOCHS))\n",
    "    \n",
    "    model_GoalName = model_GoalName.train()\n",
    "    \n",
    "    for raw_X_train_dialog, raw_Y_train_dialog in tqdm_notebook(zip(raw_X_train[train_indices], raw_Y_train[train_indices]), total = len(raw_X_train)):\n",
    "\n",
    "        model_GoalName.hidden = model_GoalName.init_hidden()\n",
    "\n",
    "        for raw_X_train_turn, raw_Y_train_turn in zip(raw_X_train_dialog[\"turns\"], raw_Y_train_dialog[\"turns\"]):\n",
    "            \n",
    "            optimizer_GoalNameModel.zero_grad()\n",
    "        \n",
    "            turn_loss = 0\n",
    "\n",
    "            indices, scores = get_index_and_score(raw_X_train_turn, token_to_index, mode = \"train\", device = DEVICE)\n",
    "            \n",
    "            goal_names = model_GoalName(indices, scores)\n",
    "            \n",
    "            for goal_name in goal_names:\n",
    "                \n",
    "                goal_name = goal_name.unsqueeze(0)\n",
    "                \n",
    "                loss_goal_name = GOAL_LOSS_FUNCTION(goal_name,\n",
    "                                                    retrieve_gold_GoalName(raw_Y_train_turn,\n",
    "                                                                           ontology = ontology,\n",
    "                                                                           device = DEVICE))\n",
    "                turn_loss += loss_goal_name\n",
    "                \n",
    "            turn_loss.backward(retain_graph = True)\n",
    "\n",
    "            optimizer_GoalNameModel.step()\n",
    "    \n",
    "    dev_goal_accuracy, \\\n",
    "    dev_goal_l2, \\\n",
    "    dev_requested_accuracy, \\\n",
    "    dev_requested_l2, \\\n",
    "    dev_method_accuracy, \\\n",
    "    dev_method_l2 = get_scores(model_GoalPricerange,\n",
    "                               model_GoalArea,\n",
    "                               model_GoalName,\n",
    "                               model_GoalFood,\n",
    "                               model_Requested,\n",
    "                               model_Method,\n",
    "                               raw_X_dev, raw_Y_dev, dataset = \"dstc2_dev\")\n",
    "    logging.info(\"DEV Acc:\\t\\t{}({})\\t\\t{}({})\\t\\t{}({})\".format(dev_goal_accuracy,\n",
    "                                                                 np.around(dev_goal_accuracy, decimals = 2),\n",
    "                                                                 dev_requested_accuracy,\n",
    "                                                                 np.around(dev_requested_accuracy, decimals = 2),\n",
    "                                                                 dev_method_accuracy,\n",
    "                                                                 np.around(dev_method_accuracy, decimals = 2)))\n",
    "    logging.info(\"DEV L2:\\t\\t{}({})\\t\\t{}({})\\t\\t{}({})\".format(dev_goal_l2,\n",
    "                                                                np.around(dev_goal_l2, decimals = 2),\n",
    "                                                                dev_requested_l2,\n",
    "                                                                np.around(dev_requested_l2, decimals = 2),\n",
    "                                                                dev_method_l2,\n",
    "                                                                np.around(dev_method_l2, decimals = 2)))\n",
    "    dev_goal_accuracies.append(dev_goal_accuracy)\n",
    "    dev_requested_accuracies.append(dev_requested_accuracy)\n",
    "    dev_method_accuracies.append(dev_method_accuracy)\n",
    "\n",
    "    test_goal_accuracy, \\\n",
    "    test_goal_l2, \\\n",
    "    test_requested_accuracy, \\\n",
    "    test_requested_l2, \\\n",
    "    test_method_accuracy, \\\n",
    "    test_method_l2 = get_scores(model_GoalPricerange,\n",
    "                                model_GoalArea,\n",
    "                                model_GoalName,\n",
    "                                model_GoalFood,\n",
    "                                model_Requested,\n",
    "                                model_Method,\n",
    "                                raw_X_test, raw_Y_test, dataset = \"dstc2_test\")\n",
    "    logging.info(\"TEST Acc:\\t\\t{}({})\\t\\t{}({})\\t\\t{}({})\".format(test_goal_accuracy,\n",
    "                                                                  np.around(test_goal_accuracy, decimals = 2),\n",
    "                                                                  test_requested_accuracy,\n",
    "                                                                  np.around(test_requested_accuracy, decimals = 2),\n",
    "                                                                  test_method_accuracy,\n",
    "                                                                  np.around(test_method_accuracy, decimals = 2)))\n",
    "    logging.info(\"TEST L2:\\t\\t{}({})\\t\\t{}({})\\t\\t{}({})\".format(test_goal_l2,\n",
    "                                                                 np.around(test_goal_l2, decimals = 2),\n",
    "                                                                 test_requested_l2,\n",
    "                                                                 np.around(test_requested_l2, decimals = 2),\n",
    "                                                                 test_method_l2,\n",
    "                                                                 np.around(test_method_l2, decimals = 2)))\n",
    "    test_goal_accuracies.append(test_goal_accuracy)\n",
    "    test_requested_accuracies.append(test_requested_accuracy)\n",
    "    test_method_accuracies.append(test_requested_accuracy)\n",
    "        \n",
    "    goal_name_early_stopping.on_epoch_end(epoch = (epoch + 1), current_value = (dev_goal_accuracy))\n",
    "    \n",
    "    if goal_name_early_stopping.stop_training:\n",
    "        break\n",
    "\n",
    "plotly_plot(dev_goal_accuracies, test_goal_accuracies, \"Goal\")"
   ]
  },
  {
   "cell_type": "markdown",
   "metadata": {},
   "source": [
    "### Save Goal Name Model"
   ]
  },
  {
   "cell_type": "code",
   "execution_count": 30,
   "metadata": {},
   "outputs": [],
   "source": [
    "torch.save(model_GoalName.state_dict(), \"model_PANFMR_incremental_GoalName.pt\")"
   ]
  },
  {
   "cell_type": "markdown",
   "metadata": {},
   "source": [
    "### Load Goal Name Model"
   ]
  },
  {
   "cell_type": "code",
   "execution_count": 31,
   "metadata": {},
   "outputs": [
    {
     "data": {
      "text/plain": [
       "GoalNameModel(\n",
       "  (embeddings): Embedding(1149, 170)\n",
       "  (altered_embeddings): Linear(in_features=171, out_features=300, bias=True)\n",
       "  (lstm): LSTM(300, 100)\n",
       "  (goal_name_classifier): Linear(in_features=100, out_features=115, bias=True)\n",
       ")"
      ]
     },
     "execution_count": 31,
     "metadata": {},
     "output_type": "execute_result"
    }
   ],
   "source": [
    "model_GoalName = GoalNameModel(vocabulary_size = VOCABULARY_SIZE,\n",
    "                               embedding_dim = EMBEDDING_DIM,\n",
    "                               altered_embedding_dim = ALTERED_EMBEDDING_DIM,\n",
    "                               hidden_dim = HIDDEN_DIM,\n",
    "                               goal_name_dim = GOAL_NAME_DIM,\n",
    "                               device = DEVICE)\n",
    "\n",
    "model_GoalName = model_GoalName.to(DEVICE)\n",
    "model_GoalName.load_state_dict(torch.load(\"model_PANFMR_incremental_GoalName.pt\"))\n",
    "model_GoalName.eval()"
   ]
  },
  {
   "cell_type": "code",
   "execution_count": 32,
   "metadata": {},
   "outputs": [
    {
     "data": {
      "application/vnd.jupyter.widget-view+json": {
       "model_id": "08858c1bbea841fd96aef93ed4388b6c",
       "version_major": 2,
       "version_minor": 0
      },
      "text/plain": [
       "HBox(children=(IntProgress(value=0, max=506), HTML(value='')))"
      ]
     },
     "metadata": {},
     "output_type": "display_data"
    },
    {
     "name": "stdout",
     "output_type": "stream",
     "text": [
      "\n"
     ]
    },
    {
     "data": {
      "text/plain": [
       "(0.1173097, 0.9637806, 0.4572665, 0.81642, 0.0206932, 0.6142292)"
      ]
     },
     "execution_count": 32,
     "metadata": {},
     "output_type": "execute_result"
    }
   ],
   "source": [
    "get_scores(model_GoalPricerange,\n",
    "           model_GoalArea,\n",
    "           model_GoalName,\n",
    "           model_GoalFood,\n",
    "           model_Requested,\n",
    "           model_Method,\n",
    "           raw_X_dev, raw_Y_dev, dataset = \"dstc2_dev\")"
   ]
  },
  {
   "cell_type": "code",
   "execution_count": 33,
   "metadata": {},
   "outputs": [
    {
     "data": {
      "application/vnd.jupyter.widget-view+json": {
       "model_id": "3ed2ff30c0cb48e498970874b374b5d2",
       "version_major": 2,
       "version_minor": 0
      },
      "text/plain": [
       "HBox(children=(IntProgress(value=0, max=1117), HTML(value='')))"
      ]
     },
     "metadata": {},
     "output_type": "display_data"
    },
    {
     "name": "stdout",
     "output_type": "stream",
     "text": [
      "\n"
     ]
    },
    {
     "data": {
      "text/plain": [
       "(0.1839199, 0.9619596, 0.4820281, 0.8182356, 0.0166256, 0.6121364)"
      ]
     },
     "execution_count": 33,
     "metadata": {},
     "output_type": "execute_result"
    }
   ],
   "source": [
    "get_scores(model_GoalPricerange,\n",
    "           model_GoalArea,\n",
    "           model_GoalName,\n",
    "           model_GoalFood,\n",
    "           model_Requested,\n",
    "           model_Method,\n",
    "           raw_X_test, raw_Y_test, dataset = \"dstc2_test\")"
   ]
  },
  {
   "cell_type": "markdown",
   "metadata": {},
   "source": [
    "### Train Goal Food Model"
   ]
  },
  {
   "cell_type": "code",
   "execution_count": 34,
   "metadata": {
    "scrolled": false
   },
   "outputs": [
    {
     "name": "stderr",
     "output_type": "stream",
     "text": [
      "INFO:root:Epoch\t1/30\n"
     ]
    },
    {
     "data": {
      "application/vnd.jupyter.widget-view+json": {
       "model_id": "11c4789abedc42d4832343135dcfcc1d",
       "version_major": 2,
       "version_minor": 0
      },
      "text/plain": [
       "HBox(children=(IntProgress(value=0, max=3224), HTML(value='')))"
      ]
     },
     "metadata": {},
     "output_type": "display_data"
    },
    {
     "name": "stdout",
     "output_type": "stream",
     "text": [
      "\n"
     ]
    },
    {
     "data": {
      "application/vnd.jupyter.widget-view+json": {
       "model_id": "19db8c8d4f7442a3b07cf2d5228750c2",
       "version_major": 2,
       "version_minor": 0
      },
      "text/plain": [
       "HBox(children=(IntProgress(value=0, max=506), HTML(value='')))"
      ]
     },
     "metadata": {},
     "output_type": "display_data"
    },
    {
     "name": "stdout",
     "output_type": "stream",
     "text": [
      "\n"
     ]
    },
    {
     "name": "stderr",
     "output_type": "stream",
     "text": [
      "INFO:root:DEV Acc:\t\t0.5594369(0.56)\t\t0.4572665(0.46)\t\t0.0206932(0.02)\n",
      "INFO:root:DEV L2:\t\t0.6179199(0.62)\t\t0.81642(0.82)\t\t0.6142292(0.61)\n"
     ]
    },
    {
     "data": {
      "application/vnd.jupyter.widget-view+json": {
       "model_id": "baec6f5db75746789a285bcc94962bd9",
       "version_major": 2,
       "version_minor": 0
      },
      "text/plain": [
       "HBox(children=(IntProgress(value=0, max=1117), HTML(value='')))"
      ]
     },
     "metadata": {},
     "output_type": "display_data"
    },
    {
     "name": "stdout",
     "output_type": "stream",
     "text": [
      "\n"
     ]
    },
    {
     "name": "stderr",
     "output_type": "stream",
     "text": [
      "INFO:root:TEST Acc:\t\t0.5828259(0.58)\t\t0.4820281(0.48)\t\t0.0166256(0.02)\n",
      "INFO:root:TEST L2:\t\t0.5922178(0.59)\t\t0.8182356(0.82)\t\t0.6121364(0.61)\n",
      "INFO:root:Epoch\t2/30\n"
     ]
    },
    {
     "data": {
      "application/vnd.jupyter.widget-view+json": {
       "model_id": "aae43457d51f43b997a27ce550e5b9df",
       "version_major": 2,
       "version_minor": 0
      },
      "text/plain": [
       "HBox(children=(IntProgress(value=0, max=3224), HTML(value='')))"
      ]
     },
     "metadata": {},
     "output_type": "display_data"
    },
    {
     "name": "stdout",
     "output_type": "stream",
     "text": [
      "\n"
     ]
    },
    {
     "data": {
      "application/vnd.jupyter.widget-view+json": {
       "model_id": "47fffb9f93344526999a60202a11053b",
       "version_major": 2,
       "version_minor": 0
      },
      "text/plain": [
       "HBox(children=(IntProgress(value=0, max=506), HTML(value='')))"
      ]
     },
     "metadata": {},
     "output_type": "display_data"
    },
    {
     "name": "stdout",
     "output_type": "stream",
     "text": [
      "\n"
     ]
    },
    {
     "name": "stderr",
     "output_type": "stream",
     "text": [
      "INFO:root:DEV Acc:\t\t0.5988008(0.6)\t\t0.4572665(0.46)\t\t0.0206932(0.02)\n",
      "INFO:root:DEV L2:\t\t0.5583862(0.56)\t\t0.81642(0.82)\t\t0.6142292(0.61)\n"
     ]
    },
    {
     "data": {
      "application/vnd.jupyter.widget-view+json": {
       "model_id": "00c0593e24524e77a1b746dcb83427a2",
       "version_major": 2,
       "version_minor": 0
      },
      "text/plain": [
       "HBox(children=(IntProgress(value=0, max=1117), HTML(value='')))"
      ]
     },
     "metadata": {},
     "output_type": "display_data"
    },
    {
     "name": "stdout",
     "output_type": "stream",
     "text": [
      "\n"
     ]
    },
    {
     "name": "stderr",
     "output_type": "stream",
     "text": [
      "INFO:root:TEST Acc:\t\t0.6285478(0.63)\t\t0.4820281(0.48)\t\t0.0166256(0.02)\n",
      "INFO:root:TEST L2:\t\t0.5203424(0.52)\t\t0.8182356(0.82)\t\t0.6121364(0.61)\n",
      "INFO:root:Epoch\t3/30\n"
     ]
    },
    {
     "data": {
      "application/vnd.jupyter.widget-view+json": {
       "model_id": "4d49ba5de69044bb9db4d53015ab1404",
       "version_major": 2,
       "version_minor": 0
      },
      "text/plain": [
       "HBox(children=(IntProgress(value=0, max=3224), HTML(value='')))"
      ]
     },
     "metadata": {},
     "output_type": "display_data"
    },
    {
     "name": "stdout",
     "output_type": "stream",
     "text": [
      "\n"
     ]
    },
    {
     "data": {
      "application/vnd.jupyter.widget-view+json": {
       "model_id": "4dca796d42224ea884bbf4ad5da55026",
       "version_major": 2,
       "version_minor": 0
      },
      "text/plain": [
       "HBox(children=(IntProgress(value=0, max=506), HTML(value='')))"
      ]
     },
     "metadata": {},
     "output_type": "display_data"
    },
    {
     "name": "stdout",
     "output_type": "stream",
     "text": [
      "\n"
     ]
    },
    {
     "name": "stderr",
     "output_type": "stream",
     "text": [
      "INFO:root:DEV Acc:\t\t0.608707(0.61)\t\t0.4572665(0.46)\t\t0.0206932(0.02)\n",
      "INFO:root:DEV L2:\t\t0.5485056(0.55)\t\t0.81642(0.82)\t\t0.6142292(0.61)\n"
     ]
    },
    {
     "data": {
      "application/vnd.jupyter.widget-view+json": {
       "model_id": "6ac5b04c2e954b47bd3641bb612ee775",
       "version_major": 2,
       "version_minor": 0
      },
      "text/plain": [
       "HBox(children=(IntProgress(value=0, max=1117), HTML(value='')))"
      ]
     },
     "metadata": {},
     "output_type": "display_data"
    },
    {
     "name": "stdout",
     "output_type": "stream",
     "text": [
      "\n"
     ]
    },
    {
     "name": "stderr",
     "output_type": "stream",
     "text": [
      "INFO:root:TEST Acc:\t\t0.6365982(0.64)\t\t0.4820281(0.48)\t\t0.0166256(0.02)\n",
      "INFO:root:TEST L2:\t\t0.5142786(0.51)\t\t0.8182356(0.82)\t\t0.6121364(0.61)\n",
      "INFO:root:Epoch\t4/30\n"
     ]
    },
    {
     "data": {
      "application/vnd.jupyter.widget-view+json": {
       "model_id": "452cf00c9da147a7a8e217381e438b38",
       "version_major": 2,
       "version_minor": 0
      },
      "text/plain": [
       "HBox(children=(IntProgress(value=0, max=3224), HTML(value='')))"
      ]
     },
     "metadata": {},
     "output_type": "display_data"
    },
    {
     "name": "stdout",
     "output_type": "stream",
     "text": [
      "\n"
     ]
    },
    {
     "data": {
      "application/vnd.jupyter.widget-view+json": {
       "model_id": "32e034d1273540bf8d53f75c1b6b1d72",
       "version_major": 2,
       "version_minor": 0
      },
      "text/plain": [
       "HBox(children=(IntProgress(value=0, max=506), HTML(value='')))"
      ]
     },
     "metadata": {},
     "output_type": "display_data"
    },
    {
     "name": "stdout",
     "output_type": "stream",
     "text": [
      "\n"
     ]
    },
    {
     "name": "stderr",
     "output_type": "stream",
     "text": [
      "INFO:root:DEV Acc:\t\t0.6024505(0.6)\t\t0.4572665(0.46)\t\t0.0206932(0.02)\n",
      "INFO:root:DEV L2:\t\t0.566751(0.57)\t\t0.81642(0.82)\t\t0.6142292(0.61)\n"
     ]
    },
    {
     "data": {
      "application/vnd.jupyter.widget-view+json": {
       "model_id": "69ab5af7946742839c2b721c9df74665",
       "version_major": 2,
       "version_minor": 0
      },
      "text/plain": [
       "HBox(children=(IntProgress(value=0, max=1117), HTML(value='')))"
      ]
     },
     "metadata": {},
     "output_type": "display_data"
    },
    {
     "name": "stdout",
     "output_type": "stream",
     "text": [
      "\n"
     ]
    },
    {
     "name": "stderr",
     "output_type": "stream",
     "text": [
      "INFO:root:TEST Acc:\t\t0.6279286(0.63)\t\t0.4820281(0.48)\t\t0.0166256(0.02)\n",
      "INFO:root:TEST L2:\t\t0.5374455(0.54)\t\t0.8182356(0.82)\t\t0.6121364(0.61)\n",
      "INFO:root:Epoch\t5/30\n"
     ]
    },
    {
     "data": {
      "application/vnd.jupyter.widget-view+json": {
       "model_id": "1e832333a40342299d8461e27542e58b",
       "version_major": 2,
       "version_minor": 0
      },
      "text/plain": [
       "HBox(children=(IntProgress(value=0, max=3224), HTML(value='')))"
      ]
     },
     "metadata": {},
     "output_type": "display_data"
    },
    {
     "name": "stdout",
     "output_type": "stream",
     "text": [
      "\n"
     ]
    },
    {
     "data": {
      "application/vnd.jupyter.widget-view+json": {
       "model_id": "139b0b2d063f4df5ac498e165aa1ea8f",
       "version_major": 2,
       "version_minor": 0
      },
      "text/plain": [
       "HBox(children=(IntProgress(value=0, max=506), HTML(value='')))"
      ]
     },
     "metadata": {},
     "output_type": "display_data"
    },
    {
     "name": "stdout",
     "output_type": "stream",
     "text": [
      "\n"
     ]
    },
    {
     "name": "stderr",
     "output_type": "stream",
     "text": [
      "INFO:root:DEV Acc:\t\t0.6084463(0.61)\t\t0.4572665(0.46)\t\t0.0206932(0.02)\n",
      "INFO:root:DEV L2:\t\t0.5583708(0.56)\t\t0.81642(0.82)\t\t0.6142292(0.61)\n"
     ]
    },
    {
     "data": {
      "application/vnd.jupyter.widget-view+json": {
       "model_id": "0bd477dabe3f487d9dc7894f7bee33ec",
       "version_major": 2,
       "version_minor": 0
      },
      "text/plain": [
       "HBox(children=(IntProgress(value=0, max=1117), HTML(value='')))"
      ]
     },
     "metadata": {},
     "output_type": "display_data"
    },
    {
     "name": "stdout",
     "output_type": "stream",
     "text": [
      "\n"
     ]
    },
    {
     "name": "stderr",
     "output_type": "stream",
     "text": [
      "INFO:root:TEST Acc:\t\t0.6406234(0.64)\t\t0.4820281(0.48)\t\t0.0166256(0.02)\n",
      "INFO:root:TEST L2:\t\t0.5186173(0.52)\t\t0.8182356(0.82)\t\t0.6121364(0.61)\n",
      "INFO:root:Epoch\t6/30\n"
     ]
    },
    {
     "data": {
      "application/vnd.jupyter.widget-view+json": {
       "model_id": "df78888e9063438dafc79ddd75798f60",
       "version_major": 2,
       "version_minor": 0
      },
      "text/plain": [
       "HBox(children=(IntProgress(value=0, max=3224), HTML(value='')))"
      ]
     },
     "metadata": {},
     "output_type": "display_data"
    },
    {
     "name": "stdout",
     "output_type": "stream",
     "text": [
      "\n"
     ]
    },
    {
     "data": {
      "application/vnd.jupyter.widget-view+json": {
       "model_id": "5d87c1d88be34e5aaadd6d14ce57052a",
       "version_major": 2,
       "version_minor": 0
      },
      "text/plain": [
       "HBox(children=(IntProgress(value=0, max=506), HTML(value='')))"
      ]
     },
     "metadata": {},
     "output_type": "display_data"
    },
    {
     "name": "stdout",
     "output_type": "stream",
     "text": [
      "\n"
     ]
    },
    {
     "name": "stderr",
     "output_type": "stream",
     "text": [
      "INFO:root:DEV Acc:\t\t0.6240876(0.62)\t\t0.4572665(0.46)\t\t0.0206932(0.02)\n",
      "INFO:root:DEV L2:\t\t0.5478538(0.55)\t\t0.81642(0.82)\t\t0.6142292(0.61)\n"
     ]
    },
    {
     "data": {
      "application/vnd.jupyter.widget-view+json": {
       "model_id": "93d50aa7971849b2929f04e1ed9a365c",
       "version_major": 2,
       "version_minor": 0
      },
      "text/plain": [
       "HBox(children=(IntProgress(value=0, max=1117), HTML(value='')))"
      ]
     },
     "metadata": {},
     "output_type": "display_data"
    },
    {
     "name": "stdout",
     "output_type": "stream",
     "text": [
      "\n"
     ]
    },
    {
     "name": "stderr",
     "output_type": "stream",
     "text": [
      "INFO:root:TEST Acc:\t\t0.6377335(0.64)\t\t0.4820281(0.48)\t\t0.0166256(0.02)\n",
      "INFO:root:TEST L2:\t\t0.5327205(0.53)\t\t0.8182356(0.82)\t\t0.6121364(0.61)\n",
      "INFO:root:Epoch\t7/30\n"
     ]
    },
    {
     "data": {
      "application/vnd.jupyter.widget-view+json": {
       "model_id": "f7937ff4f72d43c2aa204595cc965026",
       "version_major": 2,
       "version_minor": 0
      },
      "text/plain": [
       "HBox(children=(IntProgress(value=0, max=3224), HTML(value='')))"
      ]
     },
     "metadata": {},
     "output_type": "display_data"
    },
    {
     "name": "stdout",
     "output_type": "stream",
     "text": [
      "\n"
     ]
    },
    {
     "data": {
      "application/vnd.jupyter.widget-view+json": {
       "model_id": "bcd408940ddd40b7b0773a68e71e4693",
       "version_major": 2,
       "version_minor": 0
      },
      "text/plain": [
       "HBox(children=(IntProgress(value=0, max=506), HTML(value='')))"
      ]
     },
     "metadata": {},
     "output_type": "display_data"
    },
    {
     "name": "stdout",
     "output_type": "stream",
     "text": [
      "\n"
     ]
    },
    {
     "name": "stderr",
     "output_type": "stream",
     "text": [
      "INFO:root:DEV Acc:\t\t0.6233055(0.62)\t\t0.4572665(0.46)\t\t0.0206932(0.02)\n",
      "INFO:root:DEV L2:\t\t0.5539316(0.55)\t\t0.81642(0.82)\t\t0.6142292(0.61)\n"
     ]
    },
    {
     "data": {
      "application/vnd.jupyter.widget-view+json": {
       "model_id": "31165987887c466eae5131f190f223a7",
       "version_major": 2,
       "version_minor": 0
      },
      "text/plain": [
       "HBox(children=(IntProgress(value=0, max=1117), HTML(value='')))"
      ]
     },
     "metadata": {},
     "output_type": "display_data"
    },
    {
     "name": "stdout",
     "output_type": "stream",
     "text": [
      "\n"
     ]
    },
    {
     "name": "stderr",
     "output_type": "stream",
     "text": [
      "INFO:root:TEST Acc:\t\t0.6378367(0.64)\t\t0.4820281(0.48)\t\t0.0166256(0.02)\n",
      "INFO:root:TEST L2:\t\t0.5389997(0.54)\t\t0.8182356(0.82)\t\t0.6121364(0.61)\n",
      "INFO:root:Epoch\t8/30\n"
     ]
    },
    {
     "data": {
      "application/vnd.jupyter.widget-view+json": {
       "model_id": "e3cc01d5e15d4464a2460cf5a65432c2",
       "version_major": 2,
       "version_minor": 0
      },
      "text/plain": [
       "HBox(children=(IntProgress(value=0, max=3224), HTML(value='')))"
      ]
     },
     "metadata": {},
     "output_type": "display_data"
    },
    {
     "name": "stdout",
     "output_type": "stream",
     "text": [
      "\n"
     ]
    },
    {
     "data": {
      "application/vnd.jupyter.widget-view+json": {
       "model_id": "c06c59fe17ee4423a7ad5fdc2f45e7a0",
       "version_major": 2,
       "version_minor": 0
      },
      "text/plain": [
       "HBox(children=(IntProgress(value=0, max=506), HTML(value='')))"
      ]
     },
     "metadata": {},
     "output_type": "display_data"
    },
    {
     "name": "stdout",
     "output_type": "stream",
     "text": [
      "\n"
     ]
    },
    {
     "name": "stderr",
     "output_type": "stream",
     "text": [
      "INFO:root:DEV Acc:\t\t0.62878(0.63)\t\t0.4572665(0.46)\t\t0.0206932(0.02)\n",
      "INFO:root:DEV L2:\t\t0.547242(0.55)\t\t0.81642(0.82)\t\t0.6142292(0.61)\n"
     ]
    },
    {
     "data": {
      "application/vnd.jupyter.widget-view+json": {
       "model_id": "d0e5d880e70c4c418f0342d6b8ceffea",
       "version_major": 2,
       "version_minor": 0
      },
      "text/plain": [
       "HBox(children=(IntProgress(value=0, max=1117), HTML(value='')))"
      ]
     },
     "metadata": {},
     "output_type": "display_data"
    },
    {
     "name": "stdout",
     "output_type": "stream",
     "text": [
      "\n"
     ]
    },
    {
     "name": "stderr",
     "output_type": "stream",
     "text": [
      "INFO:root:TEST Acc:\t\t0.6452678(0.65)\t\t0.4820281(0.48)\t\t0.0166256(0.02)\n",
      "INFO:root:TEST L2:\t\t0.5243501(0.52)\t\t0.8182356(0.82)\t\t0.6121364(0.61)\n",
      "INFO:root:Epoch\t9/30\n"
     ]
    },
    {
     "data": {
      "application/vnd.jupyter.widget-view+json": {
       "model_id": "6422346b080343d1a841fd6b28289b97",
       "version_major": 2,
       "version_minor": 0
      },
      "text/plain": [
       "HBox(children=(IntProgress(value=0, max=3224), HTML(value='')))"
      ]
     },
     "metadata": {},
     "output_type": "display_data"
    },
    {
     "name": "stdout",
     "output_type": "stream",
     "text": [
      "\n"
     ]
    },
    {
     "data": {
      "application/vnd.jupyter.widget-view+json": {
       "model_id": "b54d3c990e4f43fda86d393e1b4ca99e",
       "version_major": 2,
       "version_minor": 0
      },
      "text/plain": [
       "HBox(children=(IntProgress(value=0, max=506), HTML(value='')))"
      ]
     },
     "metadata": {},
     "output_type": "display_data"
    },
    {
     "name": "stdout",
     "output_type": "stream",
     "text": [
      "\n"
     ]
    },
    {
     "name": "stderr",
     "output_type": "stream",
     "text": [
      "INFO:root:DEV Acc:\t\t0.6186131(0.62)\t\t0.4572665(0.46)\t\t0.0206932(0.02)\n",
      "INFO:root:DEV L2:\t\t0.5666467(0.57)\t\t0.81642(0.82)\t\t0.6142292(0.61)\n"
     ]
    },
    {
     "data": {
      "application/vnd.jupyter.widget-view+json": {
       "model_id": "f895937cca44478a91178786d67ccaf2",
       "version_major": 2,
       "version_minor": 0
      },
      "text/plain": [
       "HBox(children=(IntProgress(value=0, max=1117), HTML(value='')))"
      ]
     },
     "metadata": {},
     "output_type": "display_data"
    },
    {
     "name": "stdout",
     "output_type": "stream",
     "text": [
      "\n"
     ]
    },
    {
     "name": "stderr",
     "output_type": "stream",
     "text": [
      "INFO:root:TEST Acc:\t\t0.6346372(0.63)\t\t0.4820281(0.48)\t\t0.0166256(0.02)\n",
      "INFO:root:TEST L2:\t\t0.5503111(0.55)\t\t0.8182356(0.82)\t\t0.6121364(0.61)\n",
      "INFO:root:Epoch\t10/30\n"
     ]
    },
    {
     "data": {
      "application/vnd.jupyter.widget-view+json": {
       "model_id": "d5b464954c56438591fcb2c43ffdac05",
       "version_major": 2,
       "version_minor": 0
      },
      "text/plain": [
       "HBox(children=(IntProgress(value=0, max=3224), HTML(value='')))"
      ]
     },
     "metadata": {},
     "output_type": "display_data"
    },
    {
     "name": "stdout",
     "output_type": "stream",
     "text": [
      "\n"
     ]
    },
    {
     "data": {
      "application/vnd.jupyter.widget-view+json": {
       "model_id": "906d6622ddbd4be99e54c6b314a5c3c0",
       "version_major": 2,
       "version_minor": 0
      },
      "text/plain": [
       "HBox(children=(IntProgress(value=0, max=506), HTML(value='')))"
      ]
     },
     "metadata": {},
     "output_type": "display_data"
    },
    {
     "name": "stdout",
     "output_type": "stream",
     "text": [
      "\n"
     ]
    },
    {
     "name": "stderr",
     "output_type": "stream",
     "text": [
      "INFO:root:DEV Acc:\t\t0.6193952(0.62)\t\t0.4572665(0.46)\t\t0.0206932(0.02)\n",
      "INFO:root:DEV L2:\t\t0.5609688(0.56)\t\t0.81642(0.82)\t\t0.6142292(0.61)\n"
     ]
    },
    {
     "data": {
      "application/vnd.jupyter.widget-view+json": {
       "model_id": "c468396305e24f6f9974564214e5fab5",
       "version_major": 2,
       "version_minor": 0
      },
      "text/plain": [
       "HBox(children=(IntProgress(value=0, max=1117), HTML(value='')))"
      ]
     },
     "metadata": {},
     "output_type": "display_data"
    },
    {
     "name": "stdout",
     "output_type": "stream",
     "text": [
      "\n"
     ]
    },
    {
     "name": "stderr",
     "output_type": "stream",
     "text": [
      "INFO:root:TEST Acc:\t\t0.638972(0.64)\t\t0.4820281(0.48)\t\t0.0166256(0.02)\n",
      "INFO:root:TEST L2:\t\t0.5369122(0.54)\t\t0.8182356(0.82)\t\t0.6121364(0.61)\n",
      "INFO:root:Epoch\t11/30\n"
     ]
    },
    {
     "data": {
      "application/vnd.jupyter.widget-view+json": {
       "model_id": "0ac175e4b286402991fb063719581fbe",
       "version_major": 2,
       "version_minor": 0
      },
      "text/plain": [
       "HBox(children=(IntProgress(value=0, max=3224), HTML(value='')))"
      ]
     },
     "metadata": {},
     "output_type": "display_data"
    },
    {
     "name": "stdout",
     "output_type": "stream",
     "text": [
      "\n"
     ]
    },
    {
     "data": {
      "application/vnd.jupyter.widget-view+json": {
       "model_id": "1228ff804def4d7e88c4e8ffce409002",
       "version_major": 2,
       "version_minor": 0
      },
      "text/plain": [
       "HBox(children=(IntProgress(value=0, max=506), HTML(value='')))"
      ]
     },
     "metadata": {},
     "output_type": "display_data"
    },
    {
     "name": "stdout",
     "output_type": "stream",
     "text": [
      "\n"
     ]
    },
    {
     "name": "stderr",
     "output_type": "stream",
     "text": [
      "INFO:root:DEV Acc:\t\t0.6139208(0.61)\t\t0.4572665(0.46)\t\t0.0206932(0.02)\n",
      "INFO:root:DEV L2:\t\t0.5781036(0.58)\t\t0.81642(0.82)\t\t0.6142292(0.61)\n"
     ]
    },
    {
     "data": {
      "application/vnd.jupyter.widget-view+json": {
       "model_id": "c0f504b2cfdf4533a93eddf019ca8a60",
       "version_major": 2,
       "version_minor": 0
      },
      "text/plain": [
       "HBox(children=(IntProgress(value=0, max=1117), HTML(value='')))"
      ]
     },
     "metadata": {},
     "output_type": "display_data"
    },
    {
     "name": "stdout",
     "output_type": "stream",
     "text": [
      "\n"
     ]
    },
    {
     "name": "stderr",
     "output_type": "stream",
     "text": [
      "INFO:root:TEST Acc:\t\t0.6282382(0.63)\t\t0.4820281(0.48)\t\t0.0166256(0.02)\n",
      "INFO:root:TEST L2:\t\t0.5631499(0.56)\t\t0.8182356(0.82)\t\t0.6121364(0.61)\n"
     ]
    },
    {
     "data": {
      "application/vnd.plotly.v1+json": {
       "config": {
        "linkText": "Export to plot.ly",
        "plotlyServerURL": "https://plot.ly",
        "showLink": true
       },
       "data": [
        {
         "marker": {
          "color": "#3498db"
         },
         "mode": "lines+markers",
         "name": "Dev Goal Accuracy",
         "type": "scatter",
         "uid": "c89daea5-0328-4ade-9144-32d664192e2b",
         "x": [
          0,
          1,
          2,
          3,
          4,
          5,
          6,
          7,
          8,
          9,
          10
         ],
         "y": [
          0.5594369,
          0.5988008,
          0.608707,
          0.6024505,
          0.6084463,
          0.6240876,
          0.6233055,
          0.62878,
          0.6186131,
          0.6193952,
          0.6139208
         ]
        },
        {
         "marker": {
          "color": "#9b59b6"
         },
         "mode": "lines+markers",
         "name": "Test Goal Accuracy",
         "type": "scatter",
         "uid": "07a84883-9a83-401c-9ee4-059c4401c7ec",
         "x": [
          0,
          1,
          2,
          3,
          4,
          5,
          6,
          7,
          8,
          9,
          10
         ],
         "y": [
          0.5828259,
          0.6285478,
          0.6365982,
          0.6279286,
          0.6406234,
          0.6377335,
          0.6378367,
          0.6452678,
          0.6346372,
          0.638972,
          0.6282382
         ]
        }
       ],
       "layout": {
        "margin": {
         "b": 150
        },
        "title": "<b>Dev-Test Goal Accuracy</b>",
        "xaxis": {
         "dtick": 1,
         "title": "<b>Epoch</b>",
         "titlefont": {
          "color": "#34495e"
         }
        },
        "yaxis": {
         "title": "<b>Accuracy</b>",
         "titlefont": {
          "color": "#34495e"
         }
        }
       }
      },
      "text/html": [
       "<div id=\"aef707cf-cedc-471f-b47d-f170d6f935a1\" style=\"height: 525px; width: 100%;\" class=\"plotly-graph-div\"></div><script type=\"text/javascript\">require([\"plotly\"], function(Plotly) { window.PLOTLYENV=window.PLOTLYENV || {};window.PLOTLYENV.BASE_URL=\"https://plot.ly\";Plotly.newPlot(\"aef707cf-cedc-471f-b47d-f170d6f935a1\", [{\"marker\": {\"color\": \"#3498db\"}, \"mode\": \"lines+markers\", \"name\": \"Dev Goal Accuracy\", \"x\": [0, 1, 2, 3, 4, 5, 6, 7, 8, 9, 10], \"y\": [0.5594369, 0.5988008, 0.608707, 0.6024505, 0.6084463, 0.6240876, 0.6233055, 0.62878, 0.6186131, 0.6193952, 0.6139208], \"type\": \"scatter\", \"uid\": \"42048bdc-8b2c-45fc-86f2-67d1ca5bbab9\"}, {\"marker\": {\"color\": \"#9b59b6\"}, \"mode\": \"lines+markers\", \"name\": \"Test Goal Accuracy\", \"x\": [0, 1, 2, 3, 4, 5, 6, 7, 8, 9, 10], \"y\": [0.5828259, 0.6285478, 0.6365982, 0.6279286, 0.6406234, 0.6377335, 0.6378367, 0.6452678, 0.6346372, 0.638972, 0.6282382], \"type\": \"scatter\", \"uid\": \"ced1532d-710b-4c4c-a47c-6fecf60d3ec2\"}], {\"margin\": {\"b\": 150}, \"title\": \"<b>Dev-Test Goal Accuracy</b>\", \"xaxis\": {\"dtick\": 1, \"title\": \"<b>Epoch</b>\", \"titlefont\": {\"color\": \"#34495e\"}}, \"yaxis\": {\"title\": \"<b>Accuracy</b>\", \"titlefont\": {\"color\": \"#34495e\"}}}, {\"showLink\": true, \"linkText\": \"Export to plot.ly\", \"plotlyServerURL\": \"https://plot.ly\"})});</script><script type=\"text/javascript\">window.addEventListener(\"resize\", function(){window._Plotly.Plots.resize(document.getElementById(\"aef707cf-cedc-471f-b47d-f170d6f935a1\"));});</script>"
      ],
      "text/vnd.plotly.v1+html": [
       "<div id=\"aef707cf-cedc-471f-b47d-f170d6f935a1\" style=\"height: 525px; width: 100%;\" class=\"plotly-graph-div\"></div><script type=\"text/javascript\">require([\"plotly\"], function(Plotly) { window.PLOTLYENV=window.PLOTLYENV || {};window.PLOTLYENV.BASE_URL=\"https://plot.ly\";Plotly.newPlot(\"aef707cf-cedc-471f-b47d-f170d6f935a1\", [{\"marker\": {\"color\": \"#3498db\"}, \"mode\": \"lines+markers\", \"name\": \"Dev Goal Accuracy\", \"x\": [0, 1, 2, 3, 4, 5, 6, 7, 8, 9, 10], \"y\": [0.5594369, 0.5988008, 0.608707, 0.6024505, 0.6084463, 0.6240876, 0.6233055, 0.62878, 0.6186131, 0.6193952, 0.6139208], \"type\": \"scatter\", \"uid\": \"42048bdc-8b2c-45fc-86f2-67d1ca5bbab9\"}, {\"marker\": {\"color\": \"#9b59b6\"}, \"mode\": \"lines+markers\", \"name\": \"Test Goal Accuracy\", \"x\": [0, 1, 2, 3, 4, 5, 6, 7, 8, 9, 10], \"y\": [0.5828259, 0.6285478, 0.6365982, 0.6279286, 0.6406234, 0.6377335, 0.6378367, 0.6452678, 0.6346372, 0.638972, 0.6282382], \"type\": \"scatter\", \"uid\": \"ced1532d-710b-4c4c-a47c-6fecf60d3ec2\"}], {\"margin\": {\"b\": 150}, \"title\": \"<b>Dev-Test Goal Accuracy</b>\", \"xaxis\": {\"dtick\": 1, \"title\": \"<b>Epoch</b>\", \"titlefont\": {\"color\": \"#34495e\"}}, \"yaxis\": {\"title\": \"<b>Accuracy</b>\", \"titlefont\": {\"color\": \"#34495e\"}}}, {\"showLink\": true, \"linkText\": \"Export to plot.ly\", \"plotlyServerURL\": \"https://plot.ly\"})});</script><script type=\"text/javascript\">window.addEventListener(\"resize\", function(){window._Plotly.Plots.resize(document.getElementById(\"aef707cf-cedc-471f-b47d-f170d6f935a1\"));});</script>"
      ]
     },
     "metadata": {},
     "output_type": "display_data"
    }
   ],
   "source": [
    "dev_goal_accuracies = []\n",
    "dev_requested_accuracies = []\n",
    "dev_method_accuracies = []\n",
    "\n",
    "test_goal_accuracies = []\n",
    "test_requested_accuracies = []\n",
    "test_method_accuracies = []\n",
    "\n",
    "goal_food_early_stopping = EarlyStopping(patience = 2)\n",
    "\n",
    "train_indices = np.arange(raw_X_train.shape[0])\n",
    "\n",
    "for epoch in range(NUM_EPOCHS):\n",
    "    \n",
    "    np.random.shuffle(train_indices)\n",
    "    \n",
    "    logging.info(\"Epoch\\t{}/{}\".format(epoch + 1, NUM_EPOCHS))\n",
    "    \n",
    "    model_GoalFood = model_GoalFood.train()\n",
    "    \n",
    "    for raw_X_train_dialog, raw_Y_train_dialog in tqdm_notebook(zip(raw_X_train[train_indices], raw_Y_train[train_indices]), total = len(raw_X_train)):\n",
    "\n",
    "        model_GoalFood.hidden = model_GoalFood.init_hidden()\n",
    "\n",
    "        for raw_X_train_turn, raw_Y_train_turn in zip(raw_X_train_dialog[\"turns\"], raw_Y_train_dialog[\"turns\"]):\n",
    "                    \n",
    "            optimizer_GoalFoodModel.zero_grad()\n",
    "        \n",
    "            turn_loss = 0\n",
    "            \n",
    "            indices, scores = get_index_and_score(raw_X_train_turn, token_to_index, mode = \"train\", device = DEVICE)\n",
    "            \n",
    "            goal_foods = model_GoalFood(indices, scores)\n",
    "            \n",
    "            for goal_food in goal_foods:\n",
    "                \n",
    "                goal_food = goal_food.unsqueeze(0)\n",
    "                \n",
    "                loss_goal_food = GOAL_LOSS_FUNCTION(goal_food,\n",
    "                                                    retrieve_gold_GoalFood(raw_Y_train_turn,\n",
    "                                                                           ontology = ontology,\n",
    "                                                                           device = DEVICE))\n",
    "                turn_loss += loss_goal_food\n",
    "                \n",
    "            turn_loss.backward(retain_graph = True)\n",
    "\n",
    "            optimizer_GoalFoodModel.step()\n",
    "    \n",
    "    dev_goal_accuracy, \\\n",
    "    dev_goal_l2, \\\n",
    "    dev_requested_accuracy, \\\n",
    "    dev_requested_l2, \\\n",
    "    dev_method_accuracy, \\\n",
    "    dev_method_l2 = get_scores(model_GoalPricerange,\n",
    "                               model_GoalArea,\n",
    "                               model_GoalName,\n",
    "                               model_GoalFood,\n",
    "                               model_Requested,\n",
    "                               model_Method,\n",
    "                               raw_X_dev, raw_Y_dev, dataset = \"dstc2_dev\")\n",
    "    logging.info(\"DEV Acc:\\t\\t{}({})\\t\\t{}({})\\t\\t{}({})\".format(dev_goal_accuracy,\n",
    "                                                                 np.around(dev_goal_accuracy, decimals = 2),\n",
    "                                                                 dev_requested_accuracy,\n",
    "                                                                 np.around(dev_requested_accuracy, decimals = 2),\n",
    "                                                                 dev_method_accuracy,\n",
    "                                                                 np.around(dev_method_accuracy, decimals = 2)))\n",
    "    logging.info(\"DEV L2:\\t\\t{}({})\\t\\t{}({})\\t\\t{}({})\".format(dev_goal_l2,\n",
    "                                                                np.around(dev_goal_l2, decimals = 2),\n",
    "                                                                dev_requested_l2,\n",
    "                                                                np.around(dev_requested_l2, decimals = 2),\n",
    "                                                                dev_method_l2,\n",
    "                                                                np.around(dev_method_l2, decimals = 2)))\n",
    "    dev_goal_accuracies.append(dev_goal_accuracy)\n",
    "    dev_requested_accuracies.append(dev_requested_accuracy)\n",
    "    dev_method_accuracies.append(dev_method_accuracy)\n",
    "\n",
    "    test_goal_accuracy, \\\n",
    "    test_goal_l2, \\\n",
    "    test_requested_accuracy, \\\n",
    "    test_requested_l2, \\\n",
    "    test_method_accuracy, \\\n",
    "    test_method_l2 = get_scores(model_GoalPricerange,\n",
    "                                model_GoalArea,\n",
    "                                model_GoalName,\n",
    "                                model_GoalFood,\n",
    "                                model_Requested,\n",
    "                                model_Method,\n",
    "                                raw_X_test, raw_Y_test, dataset = \"dstc2_test\")\n",
    "    logging.info(\"TEST Acc:\\t\\t{}({})\\t\\t{}({})\\t\\t{}({})\".format(test_goal_accuracy,\n",
    "                                                                  np.around(test_goal_accuracy, decimals = 2),\n",
    "                                                                  test_requested_accuracy,\n",
    "                                                                  np.around(test_requested_accuracy, decimals = 2),\n",
    "                                                                  test_method_accuracy,\n",
    "                                                                  np.around(test_method_accuracy, decimals = 2)))\n",
    "    logging.info(\"TEST L2:\\t\\t{}({})\\t\\t{}({})\\t\\t{}({})\".format(test_goal_l2,\n",
    "                                                                 np.around(test_goal_l2, decimals = 2),\n",
    "                                                                 test_requested_l2,\n",
    "                                                                 np.around(test_requested_l2, decimals = 2),\n",
    "                                                                 test_method_l2,\n",
    "                                                                 np.around(test_method_l2, decimals = 2)))\n",
    "    test_goal_accuracies.append(test_goal_accuracy)\n",
    "    test_requested_accuracies.append(test_requested_accuracy)\n",
    "    test_method_accuracies.append(test_requested_accuracy)\n",
    "        \n",
    "    goal_food_early_stopping.on_epoch_end(epoch = (epoch + 1), current_value = (dev_goal_accuracy))\n",
    "    \n",
    "    if goal_food_early_stopping.stop_training:\n",
    "        break\n",
    "\n",
    "plotly_plot(dev_goal_accuracies, test_goal_accuracies, \"Goal\")"
   ]
  },
  {
   "cell_type": "markdown",
   "metadata": {},
   "source": [
    "### Save Goal Food Model"
   ]
  },
  {
   "cell_type": "code",
   "execution_count": 35,
   "metadata": {},
   "outputs": [],
   "source": [
    "torch.save(model_GoalFood.state_dict(), \"model_PANFMR_incremental_GoalFood.pt\")"
   ]
  },
  {
   "cell_type": "markdown",
   "metadata": {},
   "source": [
    "### Load Goal Food Model"
   ]
  },
  {
   "cell_type": "code",
   "execution_count": 36,
   "metadata": {},
   "outputs": [
    {
     "data": {
      "text/plain": [
       "GoalFoodModel(\n",
       "  (embeddings): Embedding(1149, 170)\n",
       "  (altered_embeddings): Linear(in_features=171, out_features=300, bias=True)\n",
       "  (lstm): LSTM(300, 100)\n",
       "  (goal_food_classifier): Linear(in_features=100, out_features=93, bias=True)\n",
       ")"
      ]
     },
     "execution_count": 36,
     "metadata": {},
     "output_type": "execute_result"
    }
   ],
   "source": [
    "model_GoalFood = GoalFoodModel(vocabulary_size = VOCABULARY_SIZE,\n",
    "                               embedding_dim = EMBEDDING_DIM,\n",
    "                               altered_embedding_dim = ALTERED_EMBEDDING_DIM,\n",
    "                               hidden_dim = HIDDEN_DIM,\n",
    "                               goal_food_dim = GOAL_FOOD_DIM,\n",
    "                               device = DEVICE)\n",
    "\n",
    "model_GoalFood = model_GoalFood.to(DEVICE)\n",
    "model_GoalFood.load_state_dict(torch.load(\"model_PANFMR_incremental_GoalFood.pt\"))\n",
    "model_GoalFood.eval()"
   ]
  },
  {
   "cell_type": "code",
   "execution_count": 37,
   "metadata": {},
   "outputs": [
    {
     "data": {
      "application/vnd.jupyter.widget-view+json": {
       "model_id": "4820b44cbd064976a32ebc231ea2931e",
       "version_major": 2,
       "version_minor": 0
      },
      "text/plain": [
       "HBox(children=(IntProgress(value=0, max=506), HTML(value='')))"
      ]
     },
     "metadata": {},
     "output_type": "display_data"
    },
    {
     "name": "stdout",
     "output_type": "stream",
     "text": [
      "\n"
     ]
    },
    {
     "data": {
      "text/plain": [
       "(0.6139208, 0.5781036, 0.4572665, 0.81642, 0.0206932, 0.6142292)"
      ]
     },
     "execution_count": 37,
     "metadata": {},
     "output_type": "execute_result"
    }
   ],
   "source": [
    "get_scores(model_GoalPricerange,\n",
    "           model_GoalArea,\n",
    "           model_GoalName,\n",
    "           model_GoalFood,\n",
    "           model_Requested,\n",
    "           model_Method,\n",
    "           raw_X_dev, raw_Y_dev, dataset = \"dstc2_dev\")"
   ]
  },
  {
   "cell_type": "code",
   "execution_count": 38,
   "metadata": {},
   "outputs": [
    {
     "data": {
      "application/vnd.jupyter.widget-view+json": {
       "model_id": "2ca2b30f72354957bbf8be271e7c4281",
       "version_major": 2,
       "version_minor": 0
      },
      "text/plain": [
       "HBox(children=(IntProgress(value=0, max=1117), HTML(value='')))"
      ]
     },
     "metadata": {},
     "output_type": "display_data"
    },
    {
     "name": "stdout",
     "output_type": "stream",
     "text": [
      "\n"
     ]
    },
    {
     "data": {
      "text/plain": [
       "(0.6282382, 0.5631499, 0.4820281, 0.8182356, 0.0166256, 0.6121364)"
      ]
     },
     "execution_count": 38,
     "metadata": {},
     "output_type": "execute_result"
    }
   ],
   "source": [
    "get_scores(model_GoalPricerange,\n",
    "           model_GoalArea,\n",
    "           model_GoalName,\n",
    "           model_GoalFood,\n",
    "           model_Requested,\n",
    "           model_Method,\n",
    "           raw_X_test, raw_Y_test, dataset = \"dstc2_test\")"
   ]
  },
  {
   "cell_type": "markdown",
   "metadata": {},
   "source": [
    "### Train Requested Model"
   ]
  },
  {
   "cell_type": "code",
   "execution_count": 39,
   "metadata": {
    "scrolled": false
   },
   "outputs": [
    {
     "name": "stderr",
     "output_type": "stream",
     "text": [
      "INFO:root:Epoch\t1/30\n"
     ]
    },
    {
     "data": {
      "application/vnd.jupyter.widget-view+json": {
       "model_id": "57c9f2eedd094b8b9cecb1fc1e75b5db",
       "version_major": 2,
       "version_minor": 0
      },
      "text/plain": [
       "HBox(children=(IntProgress(value=0, max=3224), HTML(value='')))"
      ]
     },
     "metadata": {},
     "output_type": "display_data"
    },
    {
     "name": "stdout",
     "output_type": "stream",
     "text": [
      "\n"
     ]
    },
    {
     "data": {
      "application/vnd.jupyter.widget-view+json": {
       "model_id": "baba9e622a75424a80fe218231b2ef70",
       "version_major": 2,
       "version_minor": 0
      },
      "text/plain": [
       "HBox(children=(IntProgress(value=0, max=506), HTML(value='')))"
      ]
     },
     "metadata": {},
     "output_type": "display_data"
    },
    {
     "name": "stdout",
     "output_type": "stream",
     "text": [
      "\n"
     ]
    },
    {
     "name": "stderr",
     "output_type": "stream",
     "text": [
      "INFO:root:DEV Acc:\t\t0.6139208(0.61)\t\t0.8943383(0.89)\t\t0.0206932(0.02)\n",
      "INFO:root:DEV L2:\t\t0.5781036(0.58)\t\t0.81642(0.82)\t\t0.2394439(0.24)\n"
     ]
    },
    {
     "data": {
      "application/vnd.jupyter.widget-view+json": {
       "model_id": "51886beb626a480d84d58db6bbc100a0",
       "version_major": 2,
       "version_minor": 0
      },
      "text/plain": [
       "HBox(children=(IntProgress(value=0, max=1117), HTML(value='')))"
      ]
     },
     "metadata": {},
     "output_type": "display_data"
    },
    {
     "name": "stdout",
     "output_type": "stream",
     "text": [
      "\n"
     ]
    },
    {
     "name": "stderr",
     "output_type": "stream",
     "text": [
      "INFO:root:TEST Acc:\t\t0.6282382(0.63)\t\t0.9062337(0.91)\t\t0.0166256(0.02)\n",
      "INFO:root:TEST L2:\t\t0.5631499(0.56)\t\t0.8182356(0.82)\t\t0.2171742(0.22)\n",
      "INFO:root:Epoch\t2/30\n"
     ]
    },
    {
     "data": {
      "application/vnd.jupyter.widget-view+json": {
       "model_id": "f4abf29afa5949f3bd96f126973cc2cf",
       "version_major": 2,
       "version_minor": 0
      },
      "text/plain": [
       "HBox(children=(IntProgress(value=0, max=3224), HTML(value='')))"
      ]
     },
     "metadata": {},
     "output_type": "display_data"
    },
    {
     "name": "stdout",
     "output_type": "stream",
     "text": [
      "\n"
     ]
    },
    {
     "data": {
      "application/vnd.jupyter.widget-view+json": {
       "model_id": "df552afaf29249fab934f55de60b22a9",
       "version_major": 2,
       "version_minor": 0
      },
      "text/plain": [
       "HBox(children=(IntProgress(value=0, max=506), HTML(value='')))"
      ]
     },
     "metadata": {},
     "output_type": "display_data"
    },
    {
     "name": "stdout",
     "output_type": "stream",
     "text": [
      "\n"
     ]
    },
    {
     "name": "stderr",
     "output_type": "stream",
     "text": [
      "INFO:root:DEV Acc:\t\t0.6139208(0.61)\t\t0.9448251(0.94)\t\t0.0206932(0.02)\n",
      "INFO:root:DEV L2:\t\t0.5781036(0.58)\t\t0.81642(0.82)\t\t0.1211013(0.12)\n"
     ]
    },
    {
     "data": {
      "application/vnd.jupyter.widget-view+json": {
       "model_id": "0839157d7d0e4eb28ee81bd1b9e1e91c",
       "version_major": 2,
       "version_minor": 0
      },
      "text/plain": [
       "HBox(children=(IntProgress(value=0, max=1117), HTML(value='')))"
      ]
     },
     "metadata": {},
     "output_type": "display_data"
    },
    {
     "name": "stdout",
     "output_type": "stream",
     "text": [
      "\n"
     ]
    },
    {
     "name": "stderr",
     "output_type": "stream",
     "text": [
      "INFO:root:TEST Acc:\t\t0.6282382(0.63)\t\t0.9472131(0.95)\t\t0.0166256(0.02)\n",
      "INFO:root:TEST L2:\t\t0.5631499(0.56)\t\t0.8182356(0.82)\t\t0.1124408(0.11)\n",
      "INFO:root:Epoch\t3/30\n"
     ]
    },
    {
     "data": {
      "application/vnd.jupyter.widget-view+json": {
       "model_id": "602eb801c93c4377a0268a3ab8301c48",
       "version_major": 2,
       "version_minor": 0
      },
      "text/plain": [
       "HBox(children=(IntProgress(value=0, max=3224), HTML(value='')))"
      ]
     },
     "metadata": {},
     "output_type": "display_data"
    },
    {
     "name": "stdout",
     "output_type": "stream",
     "text": [
      "\n"
     ]
    },
    {
     "data": {
      "application/vnd.jupyter.widget-view+json": {
       "model_id": "f883020b00b94e1d8c287644137344c7",
       "version_major": 2,
       "version_minor": 0
      },
      "text/plain": [
       "HBox(children=(IntProgress(value=0, max=506), HTML(value='')))"
      ]
     },
     "metadata": {},
     "output_type": "display_data"
    },
    {
     "name": "stdout",
     "output_type": "stream",
     "text": [
      "\n"
     ]
    },
    {
     "name": "stderr",
     "output_type": "stream",
     "text": [
      "INFO:root:DEV Acc:\t\t0.6139208(0.61)\t\t0.9484313(0.95)\t\t0.0206932(0.02)\n",
      "INFO:root:DEV L2:\t\t0.5781036(0.58)\t\t0.81642(0.82)\t\t0.1058504(0.11)\n"
     ]
    },
    {
     "data": {
      "application/vnd.jupyter.widget-view+json": {
       "model_id": "48f8f6460b4e47ebab64afadcd169c94",
       "version_major": 2,
       "version_minor": 0
      },
      "text/plain": [
       "HBox(children=(IntProgress(value=0, max=1117), HTML(value='')))"
      ]
     },
     "metadata": {},
     "output_type": "display_data"
    },
    {
     "name": "stdout",
     "output_type": "stream",
     "text": [
      "\n"
     ]
    },
    {
     "name": "stderr",
     "output_type": "stream",
     "text": [
      "INFO:root:TEST Acc:\t\t0.6282382(0.63)\t\t0.9532905(0.95)\t\t0.0166256(0.02)\n",
      "INFO:root:TEST L2:\t\t0.5631499(0.56)\t\t0.8182356(0.82)\t\t0.0934786(0.09)\n",
      "INFO:root:Epoch\t4/30\n"
     ]
    },
    {
     "data": {
      "application/vnd.jupyter.widget-view+json": {
       "model_id": "2bcf04fdf0654ab0a287068c348bc0e8",
       "version_major": 2,
       "version_minor": 0
      },
      "text/plain": [
       "HBox(children=(IntProgress(value=0, max=3224), HTML(value='')))"
      ]
     },
     "metadata": {},
     "output_type": "display_data"
    },
    {
     "name": "stdout",
     "output_type": "stream",
     "text": [
      "\n"
     ]
    },
    {
     "data": {
      "application/vnd.jupyter.widget-view+json": {
       "model_id": "8eb582485764435cb3a3fd6b8c852e3f",
       "version_major": 2,
       "version_minor": 0
      },
      "text/plain": [
       "HBox(children=(IntProgress(value=0, max=506), HTML(value='')))"
      ]
     },
     "metadata": {},
     "output_type": "display_data"
    },
    {
     "name": "stdout",
     "output_type": "stream",
     "text": [
      "\n"
     ]
    },
    {
     "name": "stderr",
     "output_type": "stream",
     "text": [
      "INFO:root:DEV Acc:\t\t0.6139208(0.61)\t\t0.9545618(0.95)\t\t0.0206932(0.02)\n",
      "INFO:root:DEV L2:\t\t0.5781036(0.58)\t\t0.81642(0.82)\t\t0.0913625(0.09)\n"
     ]
    },
    {
     "data": {
      "application/vnd.jupyter.widget-view+json": {
       "model_id": "6235b22d13104ae89adebe3572562f65",
       "version_major": 2,
       "version_minor": 0
      },
      "text/plain": [
       "HBox(children=(IntProgress(value=0, max=1117), HTML(value='')))"
      ]
     },
     "metadata": {},
     "output_type": "display_data"
    },
    {
     "name": "stdout",
     "output_type": "stream",
     "text": [
      "\n"
     ]
    },
    {
     "name": "stderr",
     "output_type": "stream",
     "text": [
      "INFO:root:TEST Acc:\t\t0.6282382(0.63)\t\t0.9574579(0.96)\t\t0.0166256(0.02)\n",
      "INFO:root:TEST L2:\t\t0.5631499(0.56)\t\t0.8182356(0.82)\t\t0.0810559(0.08)\n",
      "INFO:root:Epoch\t5/30\n"
     ]
    },
    {
     "data": {
      "application/vnd.jupyter.widget-view+json": {
       "model_id": "33baf18dbe31427bbe47d39b9ae11275",
       "version_major": 2,
       "version_minor": 0
      },
      "text/plain": [
       "HBox(children=(IntProgress(value=0, max=3224), HTML(value='')))"
      ]
     },
     "metadata": {},
     "output_type": "display_data"
    },
    {
     "name": "stdout",
     "output_type": "stream",
     "text": [
      "\n"
     ]
    },
    {
     "data": {
      "application/vnd.jupyter.widget-view+json": {
       "model_id": "52435abe55174d80bbbaed081db170bc",
       "version_major": 2,
       "version_minor": 0
      },
      "text/plain": [
       "HBox(children=(IntProgress(value=0, max=506), HTML(value='')))"
      ]
     },
     "metadata": {},
     "output_type": "display_data"
    },
    {
     "name": "stdout",
     "output_type": "stream",
     "text": [
      "\n"
     ]
    },
    {
     "name": "stderr",
     "output_type": "stream",
     "text": [
      "INFO:root:DEV Acc:\t\t0.6139208(0.61)\t\t0.9527587(0.95)\t\t0.0206932(0.02)\n",
      "INFO:root:DEV L2:\t\t0.5781036(0.58)\t\t0.81642(0.82)\t\t0.0957392(0.1)\n"
     ]
    },
    {
     "data": {
      "application/vnd.jupyter.widget-view+json": {
       "model_id": "75d0164731334c70a53be5f20333dcec",
       "version_major": 2,
       "version_minor": 0
      },
      "text/plain": [
       "HBox(children=(IntProgress(value=0, max=1117), HTML(value='')))"
      ]
     },
     "metadata": {},
     "output_type": "display_data"
    },
    {
     "name": "stdout",
     "output_type": "stream",
     "text": [
      "\n"
     ]
    },
    {
     "name": "stderr",
     "output_type": "stream",
     "text": [
      "INFO:root:TEST Acc:\t\t0.6282382(0.63)\t\t0.9583261(0.96)\t\t0.0166256(0.02)\n",
      "INFO:root:TEST L2:\t\t0.5631499(0.56)\t\t0.8182356(0.82)\t\t0.0800374(0.08)\n",
      "INFO:root:Epoch\t6/30\n"
     ]
    },
    {
     "data": {
      "application/vnd.jupyter.widget-view+json": {
       "model_id": "b19174f41b054f37963f4c3ac710ce95",
       "version_major": 2,
       "version_minor": 0
      },
      "text/plain": [
       "HBox(children=(IntProgress(value=0, max=3224), HTML(value='')))"
      ]
     },
     "metadata": {},
     "output_type": "display_data"
    },
    {
     "name": "stdout",
     "output_type": "stream",
     "text": [
      "\n"
     ]
    },
    {
     "data": {
      "application/vnd.jupyter.widget-view+json": {
       "model_id": "e1d7844d29fa497f8d821ea13286ae86",
       "version_major": 2,
       "version_minor": 0
      },
      "text/plain": [
       "HBox(children=(IntProgress(value=0, max=506), HTML(value='')))"
      ]
     },
     "metadata": {},
     "output_type": "display_data"
    },
    {
     "name": "stdout",
     "output_type": "stream",
     "text": [
      "\n"
     ]
    },
    {
     "name": "stderr",
     "output_type": "stream",
     "text": [
      "INFO:root:DEV Acc:\t\t0.6139208(0.61)\t\t0.9538406(0.95)\t\t0.0206932(0.02)\n",
      "INFO:root:DEV L2:\t\t0.5781036(0.58)\t\t0.81642(0.82)\t\t0.0882573(0.09)\n"
     ]
    },
    {
     "data": {
      "application/vnd.jupyter.widget-view+json": {
       "model_id": "12cf87d431504649bb3bf559a4819312",
       "version_major": 2,
       "version_minor": 0
      },
      "text/plain": [
       "HBox(children=(IntProgress(value=0, max=1117), HTML(value='')))"
      ]
     },
     "metadata": {},
     "output_type": "display_data"
    },
    {
     "name": "stdout",
     "output_type": "stream",
     "text": [
      "\n"
     ]
    },
    {
     "name": "stderr",
     "output_type": "stream",
     "text": [
      "INFO:root:TEST Acc:\t\t0.6282382(0.63)\t\t0.9572843(0.96)\t\t0.0166256(0.02)\n",
      "INFO:root:TEST L2:\t\t0.5631499(0.56)\t\t0.8182356(0.82)\t\t0.0768784(0.08)\n",
      "INFO:root:Epoch\t7/30\n"
     ]
    },
    {
     "data": {
      "application/vnd.jupyter.widget-view+json": {
       "model_id": "d3bb417978b14a68a873b8d98c9b1d0a",
       "version_major": 2,
       "version_minor": 0
      },
      "text/plain": [
       "HBox(children=(IntProgress(value=0, max=3224), HTML(value='')))"
      ]
     },
     "metadata": {},
     "output_type": "display_data"
    },
    {
     "name": "stdout",
     "output_type": "stream",
     "text": [
      "\n"
     ]
    },
    {
     "data": {
      "application/vnd.jupyter.widget-view+json": {
       "model_id": "6b7f216cdd924ce29454549398f36294",
       "version_major": 2,
       "version_minor": 0
      },
      "text/plain": [
       "HBox(children=(IntProgress(value=0, max=506), HTML(value='')))"
      ]
     },
     "metadata": {},
     "output_type": "display_data"
    },
    {
     "name": "stdout",
     "output_type": "stream",
     "text": [
      "\n"
     ]
    },
    {
     "name": "stderr",
     "output_type": "stream",
     "text": [
      "INFO:root:DEV Acc:\t\t0.6139208(0.61)\t\t0.9585287(0.96)\t\t0.0206932(0.02)\n",
      "INFO:root:DEV L2:\t\t0.5781036(0.58)\t\t0.81642(0.82)\t\t0.0766901(0.08)\n"
     ]
    },
    {
     "data": {
      "application/vnd.jupyter.widget-view+json": {
       "model_id": "9e4b2b390f6e4ba9b14edd896d2fd79f",
       "version_major": 2,
       "version_minor": 0
      },
      "text/plain": [
       "HBox(children=(IntProgress(value=0, max=1117), HTML(value='')))"
      ]
     },
     "metadata": {},
     "output_type": "display_data"
    },
    {
     "name": "stdout",
     "output_type": "stream",
     "text": [
      "\n"
     ]
    },
    {
     "name": "stderr",
     "output_type": "stream",
     "text": [
      "INFO:root:TEST Acc:\t\t0.6282382(0.63)\t\t0.9571106(0.96)\t\t0.0166256(0.02)\n",
      "INFO:root:TEST L2:\t\t0.5631499(0.56)\t\t0.8182356(0.82)\t\t0.0726088(0.07)\n",
      "INFO:root:Epoch\t8/30\n"
     ]
    },
    {
     "data": {
      "application/vnd.jupyter.widget-view+json": {
       "model_id": "5c86e2187c4240dc8742f0ae1834e6f5",
       "version_major": 2,
       "version_minor": 0
      },
      "text/plain": [
       "HBox(children=(IntProgress(value=0, max=3224), HTML(value='')))"
      ]
     },
     "metadata": {},
     "output_type": "display_data"
    },
    {
     "name": "stdout",
     "output_type": "stream",
     "text": [
      "\n"
     ]
    },
    {
     "data": {
      "application/vnd.jupyter.widget-view+json": {
       "model_id": "0c0bd591199b4413aaf7c0803abe943b",
       "version_major": 2,
       "version_minor": 0
      },
      "text/plain": [
       "HBox(children=(IntProgress(value=0, max=506), HTML(value='')))"
      ]
     },
     "metadata": {},
     "output_type": "display_data"
    },
    {
     "name": "stdout",
     "output_type": "stream",
     "text": [
      "\n"
     ]
    },
    {
     "name": "stderr",
     "output_type": "stream",
     "text": [
      "INFO:root:DEV Acc:\t\t0.6139208(0.61)\t\t0.9560043(0.96)\t\t0.0206932(0.02)\n",
      "INFO:root:DEV L2:\t\t0.5781036(0.58)\t\t0.81642(0.82)\t\t0.0811601(0.08)\n"
     ]
    },
    {
     "data": {
      "application/vnd.jupyter.widget-view+json": {
       "model_id": "6b848fa0f480414c9a05c44149ea084e",
       "version_major": 2,
       "version_minor": 0
      },
      "text/plain": [
       "HBox(children=(IntProgress(value=0, max=1117), HTML(value='')))"
      ]
     },
     "metadata": {},
     "output_type": "display_data"
    },
    {
     "name": "stdout",
     "output_type": "stream",
     "text": [
      "\n"
     ]
    },
    {
     "name": "stderr",
     "output_type": "stream",
     "text": [
      "INFO:root:TEST Acc:\t\t0.6282382(0.63)\t\t0.9590207(0.96)\t\t0.0166256(0.02)\n",
      "INFO:root:TEST L2:\t\t0.5631499(0.56)\t\t0.8182356(0.82)\t\t0.0725027(0.07)\n",
      "INFO:root:Epoch\t9/30\n"
     ]
    },
    {
     "data": {
      "application/vnd.jupyter.widget-view+json": {
       "model_id": "9c1c226a4bb5482eb23cbb11768a5731",
       "version_major": 2,
       "version_minor": 0
      },
      "text/plain": [
       "HBox(children=(IntProgress(value=0, max=3224), HTML(value='')))"
      ]
     },
     "metadata": {},
     "output_type": "display_data"
    },
    {
     "name": "stdout",
     "output_type": "stream",
     "text": [
      "\n"
     ]
    },
    {
     "data": {
      "application/vnd.jupyter.widget-view+json": {
       "model_id": "c42ead044dea4e84ad913c463c0b8aa8",
       "version_major": 2,
       "version_minor": 0
      },
      "text/plain": [
       "HBox(children=(IntProgress(value=0, max=506), HTML(value='')))"
      ]
     },
     "metadata": {},
     "output_type": "display_data"
    },
    {
     "name": "stdout",
     "output_type": "stream",
     "text": [
      "\n"
     ]
    },
    {
     "name": "stderr",
     "output_type": "stream",
     "text": [
      "INFO:root:DEV Acc:\t\t0.6139208(0.61)\t\t0.9567256(0.96)\t\t0.0206932(0.02)\n",
      "INFO:root:DEV L2:\t\t0.5781036(0.58)\t\t0.81642(0.82)\t\t0.0818476(0.08)\n"
     ]
    },
    {
     "data": {
      "application/vnd.jupyter.widget-view+json": {
       "model_id": "f5c3d6e370aa4e4ab6960fced6898a34",
       "version_major": 2,
       "version_minor": 0
      },
      "text/plain": [
       "HBox(children=(IntProgress(value=0, max=1117), HTML(value='')))"
      ]
     },
     "metadata": {},
     "output_type": "display_data"
    },
    {
     "name": "stdout",
     "output_type": "stream",
     "text": [
      "\n"
     ]
    },
    {
     "name": "stderr",
     "output_type": "stream",
     "text": [
      "INFO:root:TEST Acc:\t\t0.6282382(0.63)\t\t0.9576315(0.96)\t\t0.0166256(0.02)\n",
      "INFO:root:TEST L2:\t\t0.5631499(0.56)\t\t0.8182356(0.82)\t\t0.074297(0.07)\n",
      "INFO:root:Epoch\t10/30\n"
     ]
    },
    {
     "data": {
      "application/vnd.jupyter.widget-view+json": {
       "model_id": "f4996b6dfdfd41578dfbb7da2a16261d",
       "version_major": 2,
       "version_minor": 0
      },
      "text/plain": [
       "HBox(children=(IntProgress(value=0, max=3224), HTML(value='')))"
      ]
     },
     "metadata": {},
     "output_type": "display_data"
    },
    {
     "name": "stdout",
     "output_type": "stream",
     "text": [
      "\n"
     ]
    },
    {
     "data": {
      "application/vnd.jupyter.widget-view+json": {
       "model_id": "1159761f66a649e08b78498525fa731f",
       "version_major": 2,
       "version_minor": 0
      },
      "text/plain": [
       "HBox(children=(IntProgress(value=0, max=506), HTML(value='')))"
      ]
     },
     "metadata": {},
     "output_type": "display_data"
    },
    {
     "name": "stdout",
     "output_type": "stream",
     "text": [
      "\n"
     ]
    },
    {
     "name": "stderr",
     "output_type": "stream",
     "text": [
      "INFO:root:DEV Acc:\t\t0.6139208(0.61)\t\t0.9563649(0.96)\t\t0.0206932(0.02)\n",
      "INFO:root:DEV L2:\t\t0.5781036(0.58)\t\t0.81642(0.82)\t\t0.0792081(0.08)\n"
     ]
    },
    {
     "data": {
      "application/vnd.jupyter.widget-view+json": {
       "model_id": "8e081715e7f14700a23fa961b4e1949a",
       "version_major": 2,
       "version_minor": 0
      },
      "text/plain": [
       "HBox(children=(IntProgress(value=0, max=1117), HTML(value='')))"
      ]
     },
     "metadata": {},
     "output_type": "display_data"
    },
    {
     "name": "stdout",
     "output_type": "stream",
     "text": [
      "\n"
     ]
    },
    {
     "name": "stderr",
     "output_type": "stream",
     "text": [
      "INFO:root:TEST Acc:\t\t0.6282382(0.63)\t\t0.9565897(0.96)\t\t0.0166256(0.02)\n",
      "INFO:root:TEST L2:\t\t0.5631499(0.56)\t\t0.8182356(0.82)\t\t0.0738848(0.07)\n"
     ]
    },
    {
     "data": {
      "application/vnd.plotly.v1+json": {
       "config": {
        "linkText": "Export to plot.ly",
        "plotlyServerURL": "https://plot.ly",
        "showLink": true
       },
       "data": [
        {
         "marker": {
          "color": "#3498db"
         },
         "mode": "lines+markers",
         "name": "Dev Requested Accuracy",
         "type": "scatter",
         "uid": "eda40fd3-9c37-4b52-950c-4d1b86b83372",
         "x": [
          0,
          1,
          2,
          3,
          4,
          5,
          6,
          7,
          8,
          9
         ],
         "y": [
          0.8943383,
          0.9448251,
          0.9484313,
          0.9545618,
          0.9527587,
          0.9538406,
          0.9585287,
          0.9560043,
          0.9567256,
          0.9563649
         ]
        },
        {
         "marker": {
          "color": "#9b59b6"
         },
         "mode": "lines+markers",
         "name": "Test Requested Accuracy",
         "type": "scatter",
         "uid": "4099271b-40d0-44ec-9f78-a661becac3a1",
         "x": [
          0,
          1,
          2,
          3,
          4,
          5,
          6,
          7,
          8,
          9
         ],
         "y": [
          0.9062337,
          0.9472131,
          0.9532905,
          0.9574579,
          0.9583261,
          0.9572843,
          0.9571106,
          0.9590207,
          0.9576315,
          0.9565897
         ]
        }
       ],
       "layout": {
        "margin": {
         "b": 150
        },
        "title": "<b>Dev-Test Requested Accuracy</b>",
        "xaxis": {
         "dtick": 1,
         "title": "<b>Epoch</b>",
         "titlefont": {
          "color": "#34495e"
         }
        },
        "yaxis": {
         "title": "<b>Accuracy</b>",
         "titlefont": {
          "color": "#34495e"
         }
        }
       }
      },
      "text/html": [
       "<div id=\"32cd1847-8f66-4180-bece-712060b384ff\" style=\"height: 525px; width: 100%;\" class=\"plotly-graph-div\"></div><script type=\"text/javascript\">require([\"plotly\"], function(Plotly) { window.PLOTLYENV=window.PLOTLYENV || {};window.PLOTLYENV.BASE_URL=\"https://plot.ly\";Plotly.newPlot(\"32cd1847-8f66-4180-bece-712060b384ff\", [{\"marker\": {\"color\": \"#3498db\"}, \"mode\": \"lines+markers\", \"name\": \"Dev Requested Accuracy\", \"x\": [0, 1, 2, 3, 4, 5, 6, 7, 8, 9], \"y\": [0.8943383, 0.9448251, 0.9484313, 0.9545618, 0.9527587, 0.9538406, 0.9585287, 0.9560043, 0.9567256, 0.9563649], \"type\": \"scatter\", \"uid\": \"263ca9b4-d5d2-4a53-870c-d9a951764256\"}, {\"marker\": {\"color\": \"#9b59b6\"}, \"mode\": \"lines+markers\", \"name\": \"Test Requested Accuracy\", \"x\": [0, 1, 2, 3, 4, 5, 6, 7, 8, 9], \"y\": [0.9062337, 0.9472131, 0.9532905, 0.9574579, 0.9583261, 0.9572843, 0.9571106, 0.9590207, 0.9576315, 0.9565897], \"type\": \"scatter\", \"uid\": \"00c9fb08-29f2-4409-b21a-2d90aa30ab51\"}], {\"margin\": {\"b\": 150}, \"title\": \"<b>Dev-Test Requested Accuracy</b>\", \"xaxis\": {\"dtick\": 1, \"title\": \"<b>Epoch</b>\", \"titlefont\": {\"color\": \"#34495e\"}}, \"yaxis\": {\"title\": \"<b>Accuracy</b>\", \"titlefont\": {\"color\": \"#34495e\"}}}, {\"showLink\": true, \"linkText\": \"Export to plot.ly\", \"plotlyServerURL\": \"https://plot.ly\"})});</script><script type=\"text/javascript\">window.addEventListener(\"resize\", function(){window._Plotly.Plots.resize(document.getElementById(\"32cd1847-8f66-4180-bece-712060b384ff\"));});</script>"
      ],
      "text/vnd.plotly.v1+html": [
       "<div id=\"32cd1847-8f66-4180-bece-712060b384ff\" style=\"height: 525px; width: 100%;\" class=\"plotly-graph-div\"></div><script type=\"text/javascript\">require([\"plotly\"], function(Plotly) { window.PLOTLYENV=window.PLOTLYENV || {};window.PLOTLYENV.BASE_URL=\"https://plot.ly\";Plotly.newPlot(\"32cd1847-8f66-4180-bece-712060b384ff\", [{\"marker\": {\"color\": \"#3498db\"}, \"mode\": \"lines+markers\", \"name\": \"Dev Requested Accuracy\", \"x\": [0, 1, 2, 3, 4, 5, 6, 7, 8, 9], \"y\": [0.8943383, 0.9448251, 0.9484313, 0.9545618, 0.9527587, 0.9538406, 0.9585287, 0.9560043, 0.9567256, 0.9563649], \"type\": \"scatter\", \"uid\": \"263ca9b4-d5d2-4a53-870c-d9a951764256\"}, {\"marker\": {\"color\": \"#9b59b6\"}, \"mode\": \"lines+markers\", \"name\": \"Test Requested Accuracy\", \"x\": [0, 1, 2, 3, 4, 5, 6, 7, 8, 9], \"y\": [0.9062337, 0.9472131, 0.9532905, 0.9574579, 0.9583261, 0.9572843, 0.9571106, 0.9590207, 0.9576315, 0.9565897], \"type\": \"scatter\", \"uid\": \"00c9fb08-29f2-4409-b21a-2d90aa30ab51\"}], {\"margin\": {\"b\": 150}, \"title\": \"<b>Dev-Test Requested Accuracy</b>\", \"xaxis\": {\"dtick\": 1, \"title\": \"<b>Epoch</b>\", \"titlefont\": {\"color\": \"#34495e\"}}, \"yaxis\": {\"title\": \"<b>Accuracy</b>\", \"titlefont\": {\"color\": \"#34495e\"}}}, {\"showLink\": true, \"linkText\": \"Export to plot.ly\", \"plotlyServerURL\": \"https://plot.ly\"})});</script><script type=\"text/javascript\">window.addEventListener(\"resize\", function(){window._Plotly.Plots.resize(document.getElementById(\"32cd1847-8f66-4180-bece-712060b384ff\"));});</script>"
      ]
     },
     "metadata": {},
     "output_type": "display_data"
    }
   ],
   "source": [
    "dev_goal_accuracies = []\n",
    "dev_requested_accuracies = []\n",
    "dev_method_accuracies = []\n",
    "\n",
    "test_goal_accuracies = []\n",
    "test_requested_accuracies = []\n",
    "test_method_accuracies = []\n",
    "\n",
    "requested_early_stopping = EarlyStopping(patience = 2)\n",
    "\n",
    "train_indices = np.arange(raw_X_train.shape[0])\n",
    "\n",
    "for epoch in range(NUM_EPOCHS):\n",
    "    \n",
    "    np.random.shuffle(train_indices)\n",
    "    \n",
    "    logging.info(\"Epoch\\t{}/{}\".format(epoch + 1, NUM_EPOCHS))\n",
    "    \n",
    "    model_Requested = model_Requested.train()\n",
    "    \n",
    "    for raw_X_train_dialog, raw_Y_train_dialog in tqdm_notebook(zip(raw_X_train[train_indices], raw_Y_train[train_indices]), total = len(raw_X_train)):\n",
    "\n",
    "        model_Requested.hidden = model_Requested.init_hidden()\n",
    "\n",
    "        for raw_X_train_turn, raw_Y_train_turn in zip(raw_X_train_dialog[\"turns\"], raw_Y_train_dialog[\"turns\"]):\n",
    "            \n",
    "            optimizer_RequestedModel.zero_grad()\n",
    "        \n",
    "            turn_loss = 0\n",
    "            \n",
    "            indices, scores = get_index_and_score(raw_X_train_turn, token_to_index, mode = \"train\", device = DEVICE)\n",
    "            \n",
    "            requesteds = model_Requested(indices, scores)\n",
    "\n",
    "            for requested in requesteds:\n",
    "                \n",
    "                requested = requested.unsqueeze(0)\n",
    "                \n",
    "                loss_requested = REQUESTED_LOSS_FUNCTION(requested,\n",
    "                                                         retrieve_gold_Requested(raw_Y_train_turn,\n",
    "                                                                                 ontology = ontology,\n",
    "                                                                                 device = DEVICE))\n",
    "                turn_loss += loss_requested\n",
    "                \n",
    "            turn_loss.backward(retain_graph = True)\n",
    "\n",
    "            optimizer_RequestedModel.step()\n",
    "    \n",
    "    dev_goal_accuracy, \\\n",
    "    dev_goal_l2, \\\n",
    "    dev_requested_accuracy, \\\n",
    "    dev_requested_l2, \\\n",
    "    dev_method_accuracy, \\\n",
    "    dev_method_l2 = get_scores(model_GoalPricerange,\n",
    "                               model_GoalArea,\n",
    "                               model_GoalName,\n",
    "                               model_GoalFood,\n",
    "                               model_Requested,\n",
    "                               model_Method,\n",
    "                               raw_X_dev, raw_Y_dev, dataset = \"dstc2_dev\")\n",
    "    logging.info(\"DEV Acc:\\t\\t{}({})\\t\\t{}({})\\t\\t{}({})\".format(dev_goal_accuracy,\n",
    "                                                                 np.around(dev_goal_accuracy, decimals = 2),\n",
    "                                                                 dev_requested_accuracy,\n",
    "                                                                 np.around(dev_requested_accuracy, decimals = 2),\n",
    "                                                                 dev_method_accuracy,\n",
    "                                                                 np.around(dev_method_accuracy, decimals = 2)))\n",
    "    logging.info(\"DEV L2:\\t\\t{}({})\\t\\t{}({})\\t\\t{}({})\".format(dev_goal_l2,\n",
    "                                                                np.around(dev_goal_l2, decimals = 2),\n",
    "                                                                dev_requested_l2,\n",
    "                                                                np.around(dev_requested_l2, decimals = 2),\n",
    "                                                                dev_method_l2,\n",
    "                                                                np.around(dev_method_l2, decimals = 2)))\n",
    "    dev_goal_accuracies.append(dev_goal_accuracy)\n",
    "    dev_requested_accuracies.append(dev_requested_accuracy)\n",
    "    dev_method_accuracies.append(dev_method_accuracy)\n",
    "\n",
    "    test_goal_accuracy, \\\n",
    "    test_goal_l2, \\\n",
    "    test_requested_accuracy, \\\n",
    "    test_requested_l2, \\\n",
    "    test_method_accuracy, \\\n",
    "    test_method_l2 = get_scores(model_GoalPricerange,\n",
    "                                model_GoalArea,\n",
    "                                model_GoalName,\n",
    "                                model_GoalFood,\n",
    "                                model_Requested,\n",
    "                                model_Method,\n",
    "                                raw_X_test, raw_Y_test, dataset = \"dstc2_test\")\n",
    "    logging.info(\"TEST Acc:\\t\\t{}({})\\t\\t{}({})\\t\\t{}({})\".format(test_goal_accuracy,\n",
    "                                                              np.around(test_goal_accuracy, decimals = 2),\n",
    "                                                              test_requested_accuracy,\n",
    "                                                              np.around(test_requested_accuracy, decimals = 2),\n",
    "                                                              test_method_accuracy,\n",
    "                                                              np.around(test_method_accuracy, decimals = 2)))\n",
    "    logging.info(\"TEST L2:\\t\\t{}({})\\t\\t{}({})\\t\\t{}({})\".format(test_goal_l2,\n",
    "                                                              np.around(test_goal_l2, decimals = 2),\n",
    "                                                              test_requested_l2,\n",
    "                                                              np.around(test_requested_l2, decimals = 2),\n",
    "                                                              test_method_l2,\n",
    "                                                              np.around(test_method_l2, decimals = 2)))\n",
    "    test_goal_accuracies.append(test_goal_accuracy)\n",
    "    test_requested_accuracies.append(test_requested_accuracy)\n",
    "    test_method_accuracies.append(test_requested_accuracy)\n",
    "        \n",
    "    requested_early_stopping.on_epoch_end(epoch = (epoch + 1), current_value = (dev_requested_accuracy))\n",
    "    \n",
    "    if requested_early_stopping.stop_training:\n",
    "        break\n",
    "\n",
    "plotly_plot(dev_requested_accuracies, test_requested_accuracies, \"Requested\")"
   ]
  },
  {
   "cell_type": "markdown",
   "metadata": {},
   "source": [
    "### Save Requested Model"
   ]
  },
  {
   "cell_type": "code",
   "execution_count": 40,
   "metadata": {},
   "outputs": [],
   "source": [
    "torch.save(model_Requested.state_dict(), \"model_PANFMR_incremental_Requested.pt\")"
   ]
  },
  {
   "cell_type": "markdown",
   "metadata": {},
   "source": [
    "### Load Requested Model"
   ]
  },
  {
   "cell_type": "code",
   "execution_count": 41,
   "metadata": {},
   "outputs": [
    {
     "data": {
      "text/plain": [
       "RequestedModel(\n",
       "  (embeddings): Embedding(1149, 170)\n",
       "  (altered_embeddings): Linear(in_features=171, out_features=300, bias=True)\n",
       "  (lstm): LSTM(300, 100)\n",
       "  (requested_classifier): Linear(in_features=100, out_features=8, bias=True)\n",
       ")"
      ]
     },
     "execution_count": 41,
     "metadata": {},
     "output_type": "execute_result"
    }
   ],
   "source": [
    "model_Requested = RequestedModel(vocabulary_size = VOCABULARY_SIZE,\n",
    "                                 embedding_dim = EMBEDDING_DIM,\n",
    "                                 altered_embedding_dim = ALTERED_EMBEDDING_DIM,\n",
    "                                 hidden_dim = HIDDEN_DIM,\n",
    "                                 requested_dim = REQUESTED_DIM,\n",
    "                                 device = DEVICE)\n",
    "\n",
    "model_Requested = model_Requested.to(DEVICE)\n",
    "model_Requested.load_state_dict(torch.load(\"model_PANFMR_incremental_Requested.pt\"))\n",
    "model_Requested.eval()"
   ]
  },
  {
   "cell_type": "code",
   "execution_count": 42,
   "metadata": {},
   "outputs": [
    {
     "data": {
      "application/vnd.jupyter.widget-view+json": {
       "model_id": "9ed46e7b19f744eebd6e790f26b550fb",
       "version_major": 2,
       "version_minor": 0
      },
      "text/plain": [
       "HBox(children=(IntProgress(value=0, max=506), HTML(value='')))"
      ]
     },
     "metadata": {},
     "output_type": "display_data"
    },
    {
     "name": "stdout",
     "output_type": "stream",
     "text": [
      "\n"
     ]
    },
    {
     "data": {
      "text/plain": [
       "(0.6139208, 0.5781036, 0.9563649, 0.81642, 0.0206932, 0.0792081)"
      ]
     },
     "execution_count": 42,
     "metadata": {},
     "output_type": "execute_result"
    }
   ],
   "source": [
    "get_scores(model_GoalPricerange,\n",
    "           model_GoalArea,\n",
    "           model_GoalName,\n",
    "           model_GoalFood,\n",
    "           model_Requested,\n",
    "           model_Method,\n",
    "           raw_X_dev, raw_Y_dev, dataset = \"dstc2_dev\")"
   ]
  },
  {
   "cell_type": "code",
   "execution_count": 43,
   "metadata": {},
   "outputs": [
    {
     "data": {
      "application/vnd.jupyter.widget-view+json": {
       "model_id": "dc12ed47b08547e1804aae10a54f14d5",
       "version_major": 2,
       "version_minor": 0
      },
      "text/plain": [
       "HBox(children=(IntProgress(value=0, max=1117), HTML(value='')))"
      ]
     },
     "metadata": {},
     "output_type": "display_data"
    },
    {
     "name": "stdout",
     "output_type": "stream",
     "text": [
      "\n"
     ]
    },
    {
     "data": {
      "text/plain": [
       "(0.6282382, 0.5631499, 0.9565897, 0.8182356, 0.0166256, 0.0738848)"
      ]
     },
     "execution_count": 43,
     "metadata": {},
     "output_type": "execute_result"
    }
   ],
   "source": [
    "get_scores(model_GoalPricerange,\n",
    "           model_GoalArea,\n",
    "           model_GoalName,\n",
    "           model_GoalFood,\n",
    "           model_Requested,\n",
    "           model_Method,\n",
    "           raw_X_test, raw_Y_test, dataset = \"dstc2_test\")"
   ]
  },
  {
   "cell_type": "markdown",
   "metadata": {},
   "source": [
    "### Train Method Model"
   ]
  },
  {
   "cell_type": "code",
   "execution_count": 44,
   "metadata": {
    "scrolled": false
   },
   "outputs": [
    {
     "name": "stderr",
     "output_type": "stream",
     "text": [
      "INFO:root:Epoch\t1/30\n"
     ]
    },
    {
     "data": {
      "application/vnd.jupyter.widget-view+json": {
       "model_id": "14bf354f9aea422e983f327cea8a5552",
       "version_major": 2,
       "version_minor": 0
      },
      "text/plain": [
       "HBox(children=(IntProgress(value=0, max=3224), HTML(value='')))"
      ]
     },
     "metadata": {},
     "output_type": "display_data"
    },
    {
     "name": "stdout",
     "output_type": "stream",
     "text": [
      "\n"
     ]
    },
    {
     "data": {
      "application/vnd.jupyter.widget-view+json": {
       "model_id": "55b34517fecf41638118c68f97cc94e3",
       "version_major": 2,
       "version_minor": 0
      },
      "text/plain": [
       "HBox(children=(IntProgress(value=0, max=506), HTML(value='')))"
      ]
     },
     "metadata": {},
     "output_type": "display_data"
    },
    {
     "name": "stdout",
     "output_type": "stream",
     "text": [
      "\n"
     ]
    },
    {
     "name": "stderr",
     "output_type": "stream",
     "text": [
      "INFO:root:DEV Acc:\t\t0.6139208(0.61)\t\t0.9563649(0.96)\t\t0.8807553(0.88)\n",
      "INFO:root:DEV L2:\t\t0.5781036(0.58)\t\t0.1958952(0.2)\t\t0.0792081(0.08)\n"
     ]
    },
    {
     "data": {
      "application/vnd.jupyter.widget-view+json": {
       "model_id": "daf52a47c9b2484c9e7364810b9baee0",
       "version_major": 2,
       "version_minor": 0
      },
      "text/plain": [
       "HBox(children=(IntProgress(value=0, max=1117), HTML(value='')))"
      ]
     },
     "metadata": {},
     "output_type": "display_data"
    },
    {
     "name": "stdout",
     "output_type": "stream",
     "text": [
      "\n"
     ]
    },
    {
     "name": "stderr",
     "output_type": "stream",
     "text": [
      "INFO:root:TEST Acc:\t\t0.6282382(0.63)\t\t0.9565897(0.96)\t\t0.9129721(0.91)\n",
      "INFO:root:TEST L2:\t\t0.5631499(0.56)\t\t0.1440707(0.14)\t\t0.0738848(0.07)\n",
      "INFO:root:Epoch\t2/30\n"
     ]
    },
    {
     "data": {
      "application/vnd.jupyter.widget-view+json": {
       "model_id": "804a13ad778c4afab038cf7fd7019666",
       "version_major": 2,
       "version_minor": 0
      },
      "text/plain": [
       "HBox(children=(IntProgress(value=0, max=3224), HTML(value='')))"
      ]
     },
     "metadata": {},
     "output_type": "display_data"
    },
    {
     "name": "stdout",
     "output_type": "stream",
     "text": [
      "\n"
     ]
    },
    {
     "data": {
      "application/vnd.jupyter.widget-view+json": {
       "model_id": "1ca526ed671b4b0cb6a9c9e79cbe7bdc",
       "version_major": 2,
       "version_minor": 0
      },
      "text/plain": [
       "HBox(children=(IntProgress(value=0, max=506), HTML(value='')))"
      ]
     },
     "metadata": {},
     "output_type": "display_data"
    },
    {
     "name": "stdout",
     "output_type": "stream",
     "text": [
      "\n"
     ]
    },
    {
     "name": "stderr",
     "output_type": "stream",
     "text": [
      "INFO:root:DEV Acc:\t\t0.6139208(0.61)\t\t0.9563649(0.96)\t\t0.8843766(0.88)\n",
      "INFO:root:DEV L2:\t\t0.5781036(0.58)\t\t0.1885741(0.19)\t\t0.0792081(0.08)\n"
     ]
    },
    {
     "data": {
      "application/vnd.jupyter.widget-view+json": {
       "model_id": "b356e46a72ee4822bc305ee2b3206144",
       "version_major": 2,
       "version_minor": 0
      },
      "text/plain": [
       "HBox(children=(IntProgress(value=0, max=1117), HTML(value='')))"
      ]
     },
     "metadata": {},
     "output_type": "display_data"
    },
    {
     "name": "stdout",
     "output_type": "stream",
     "text": [
      "\n"
     ]
    },
    {
     "name": "stderr",
     "output_type": "stream",
     "text": [
      "INFO:root:TEST Acc:\t\t0.6282382(0.63)\t\t0.9565897(0.96)\t\t0.9148194(0.91)\n",
      "INFO:root:TEST L2:\t\t0.5631499(0.56)\t\t0.1366519(0.14)\t\t0.0738848(0.07)\n",
      "INFO:root:Epoch\t3/30\n"
     ]
    },
    {
     "data": {
      "application/vnd.jupyter.widget-view+json": {
       "model_id": "c26a3c189000406ab4db8737b1f1c054",
       "version_major": 2,
       "version_minor": 0
      },
      "text/plain": [
       "HBox(children=(IntProgress(value=0, max=3224), HTML(value='')))"
      ]
     },
     "metadata": {},
     "output_type": "display_data"
    },
    {
     "name": "stdout",
     "output_type": "stream",
     "text": [
      "\n"
     ]
    },
    {
     "data": {
      "application/vnd.jupyter.widget-view+json": {
       "model_id": "0c9238529a36415198e94a345f8565b6",
       "version_major": 2,
       "version_minor": 0
      },
      "text/plain": [
       "HBox(children=(IntProgress(value=0, max=506), HTML(value='')))"
      ]
     },
     "metadata": {},
     "output_type": "display_data"
    },
    {
     "name": "stdout",
     "output_type": "stream",
     "text": [
      "\n"
     ]
    },
    {
     "name": "stderr",
     "output_type": "stream",
     "text": [
      "INFO:root:DEV Acc:\t\t0.6139208(0.61)\t\t0.9563649(0.96)\t\t0.8867046(0.89)\n",
      "INFO:root:DEV L2:\t\t0.5781036(0.58)\t\t0.1876028(0.19)\t\t0.0792081(0.08)\n"
     ]
    },
    {
     "data": {
      "application/vnd.jupyter.widget-view+json": {
       "model_id": "656f245a7e884818ae21648e371350ef",
       "version_major": 2,
       "version_minor": 0
      },
      "text/plain": [
       "HBox(children=(IntProgress(value=0, max=1117), HTML(value='')))"
      ]
     },
     "metadata": {},
     "output_type": "display_data"
    },
    {
     "name": "stdout",
     "output_type": "stream",
     "text": [
      "\n"
     ]
    },
    {
     "name": "stderr",
     "output_type": "stream",
     "text": [
      "INFO:root:TEST Acc:\t\t0.6282382(0.63)\t\t0.9565897(0.96)\t\t0.9174877(0.92)\n",
      "INFO:root:TEST L2:\t\t0.5631499(0.56)\t\t0.1346573(0.13)\t\t0.0738848(0.07)\n",
      "INFO:root:Epoch\t4/30\n"
     ]
    },
    {
     "data": {
      "application/vnd.jupyter.widget-view+json": {
       "model_id": "b5945d6c4d6c4fdf99bcbb5861285c0d",
       "version_major": 2,
       "version_minor": 0
      },
      "text/plain": [
       "HBox(children=(IntProgress(value=0, max=3224), HTML(value='')))"
      ]
     },
     "metadata": {},
     "output_type": "display_data"
    },
    {
     "name": "stdout",
     "output_type": "stream",
     "text": [
      "\n"
     ]
    },
    {
     "data": {
      "application/vnd.jupyter.widget-view+json": {
       "model_id": "16f1c1f004b84afab478d0dfd7f2fbbc",
       "version_major": 2,
       "version_minor": 0
      },
      "text/plain": [
       "HBox(children=(IntProgress(value=0, max=506), HTML(value='')))"
      ]
     },
     "metadata": {},
     "output_type": "display_data"
    },
    {
     "name": "stdout",
     "output_type": "stream",
     "text": [
      "\n"
     ]
    },
    {
     "name": "stderr",
     "output_type": "stream",
     "text": [
      "INFO:root:DEV Acc:\t\t0.6139208(0.61)\t\t0.9563649(0.96)\t\t0.8869633(0.89)\n",
      "INFO:root:DEV L2:\t\t0.5781036(0.58)\t\t0.1882394(0.19)\t\t0.0792081(0.08)\n"
     ]
    },
    {
     "data": {
      "application/vnd.jupyter.widget-view+json": {
       "model_id": "ec4bccf48c2a43e698c8b8072a5a7c19",
       "version_major": 2,
       "version_minor": 0
      },
      "text/plain": [
       "HBox(children=(IntProgress(value=0, max=1117), HTML(value='')))"
      ]
     },
     "metadata": {},
     "output_type": "display_data"
    },
    {
     "name": "stdout",
     "output_type": "stream",
     "text": [
      "\n"
     ]
    },
    {
     "name": "stderr",
     "output_type": "stream",
     "text": [
      "INFO:root:TEST Acc:\t\t0.6282382(0.63)\t\t0.9565897(0.96)\t\t0.9200534(0.92)\n",
      "INFO:root:TEST L2:\t\t0.5631499(0.56)\t\t0.1333818(0.13)\t\t0.0738848(0.07)\n",
      "INFO:root:Epoch\t5/30\n"
     ]
    },
    {
     "data": {
      "application/vnd.jupyter.widget-view+json": {
       "model_id": "074b685461244c858f4e9f041106baf5",
       "version_major": 2,
       "version_minor": 0
      },
      "text/plain": [
       "HBox(children=(IntProgress(value=0, max=3224), HTML(value='')))"
      ]
     },
     "metadata": {},
     "output_type": "display_data"
    },
    {
     "name": "stdout",
     "output_type": "stream",
     "text": [
      "\n"
     ]
    },
    {
     "data": {
      "application/vnd.jupyter.widget-view+json": {
       "model_id": "44c341ec398049bba479067b02ede5c3",
       "version_major": 2,
       "version_minor": 0
      },
      "text/plain": [
       "HBox(children=(IntProgress(value=0, max=506), HTML(value='')))"
      ]
     },
     "metadata": {},
     "output_type": "display_data"
    },
    {
     "name": "stdout",
     "output_type": "stream",
     "text": [
      "\n"
     ]
    },
    {
     "name": "stderr",
     "output_type": "stream",
     "text": [
      "INFO:root:DEV Acc:\t\t0.6139208(0.61)\t\t0.9563649(0.96)\t\t0.8854113(0.89)\n",
      "INFO:root:DEV L2:\t\t0.5781036(0.58)\t\t0.1879253(0.19)\t\t0.0792081(0.08)\n"
     ]
    },
    {
     "data": {
      "application/vnd.jupyter.widget-view+json": {
       "model_id": "3bbcbf601c5e477b990f369dfa8544b4",
       "version_major": 2,
       "version_minor": 0
      },
      "text/plain": [
       "HBox(children=(IntProgress(value=0, max=1117), HTML(value='')))"
      ]
     },
     "metadata": {},
     "output_type": "display_data"
    },
    {
     "name": "stdout",
     "output_type": "stream",
     "text": [
      "\n"
     ]
    },
    {
     "name": "stderr",
     "output_type": "stream",
     "text": [
      "INFO:root:TEST Acc:\t\t0.6282382(0.63)\t\t0.9565897(0.96)\t\t0.9183087(0.92)\n",
      "INFO:root:TEST L2:\t\t0.5631499(0.56)\t\t0.132724(0.13)\t\t0.0738848(0.07)\n",
      "INFO:root:Epoch\t6/30\n"
     ]
    },
    {
     "data": {
      "application/vnd.jupyter.widget-view+json": {
       "model_id": "7e2c714b63ae42e09cfd1adc41add4b1",
       "version_major": 2,
       "version_minor": 0
      },
      "text/plain": [
       "HBox(children=(IntProgress(value=0, max=3224), HTML(value='')))"
      ]
     },
     "metadata": {},
     "output_type": "display_data"
    },
    {
     "name": "stdout",
     "output_type": "stream",
     "text": [
      "\n"
     ]
    },
    {
     "data": {
      "application/vnd.jupyter.widget-view+json": {
       "model_id": "a3f3a9a716fc43a48c633805fa98b640",
       "version_major": 2,
       "version_minor": 0
      },
      "text/plain": [
       "HBox(children=(IntProgress(value=0, max=506), HTML(value='')))"
      ]
     },
     "metadata": {},
     "output_type": "display_data"
    },
    {
     "name": "stdout",
     "output_type": "stream",
     "text": [
      "\n"
     ]
    },
    {
     "name": "stderr",
     "output_type": "stream",
     "text": [
      "INFO:root:DEV Acc:\t\t0.6139208(0.61)\t\t0.9563649(0.96)\t\t0.884118(0.88)\n",
      "INFO:root:DEV L2:\t\t0.5781036(0.58)\t\t0.1888297(0.19)\t\t0.0792081(0.08)\n"
     ]
    },
    {
     "data": {
      "application/vnd.jupyter.widget-view+json": {
       "model_id": "882096988148450186346957a6663f22",
       "version_major": 2,
       "version_minor": 0
      },
      "text/plain": [
       "HBox(children=(IntProgress(value=0, max=1117), HTML(value='')))"
      ]
     },
     "metadata": {},
     "output_type": "display_data"
    },
    {
     "name": "stdout",
     "output_type": "stream",
     "text": [
      "\n"
     ]
    },
    {
     "name": "stderr",
     "output_type": "stream",
     "text": [
      "INFO:root:TEST Acc:\t\t0.6282382(0.63)\t\t0.9565897(0.96)\t\t0.9082512(0.91)\n",
      "INFO:root:TEST L2:\t\t0.5631499(0.56)\t\t0.1463414(0.15)\t\t0.0738848(0.07)\n",
      "INFO:root:Epoch\t7/30\n"
     ]
    },
    {
     "data": {
      "application/vnd.jupyter.widget-view+json": {
       "model_id": "873122ed750c4b9786218bd54aee8316",
       "version_major": 2,
       "version_minor": 0
      },
      "text/plain": [
       "HBox(children=(IntProgress(value=0, max=3224), HTML(value='')))"
      ]
     },
     "metadata": {},
     "output_type": "display_data"
    },
    {
     "name": "stdout",
     "output_type": "stream",
     "text": [
      "\n"
     ]
    },
    {
     "data": {
      "application/vnd.jupyter.widget-view+json": {
       "model_id": "801035be0425407192fbdd5f2bded08d",
       "version_major": 2,
       "version_minor": 0
      },
      "text/plain": [
       "HBox(children=(IntProgress(value=0, max=506), HTML(value='')))"
      ]
     },
     "metadata": {},
     "output_type": "display_data"
    },
    {
     "name": "stdout",
     "output_type": "stream",
     "text": [
      "\n"
     ]
    },
    {
     "name": "stderr",
     "output_type": "stream",
     "text": [
      "INFO:root:DEV Acc:\t\t0.6139208(0.61)\t\t0.9563649(0.96)\t\t0.8766167(0.88)\n",
      "INFO:root:DEV L2:\t\t0.5781036(0.58)\t\t0.197838(0.2)\t\t0.0792081(0.08)\n"
     ]
    },
    {
     "data": {
      "application/vnd.jupyter.widget-view+json": {
       "model_id": "0913983dea814082972f7195ea3ac428",
       "version_major": 2,
       "version_minor": 0
      },
      "text/plain": [
       "HBox(children=(IntProgress(value=0, max=1117), HTML(value='')))"
      ]
     },
     "metadata": {},
     "output_type": "display_data"
    },
    {
     "name": "stdout",
     "output_type": "stream",
     "text": [
      "\n"
     ]
    },
    {
     "name": "stderr",
     "output_type": "stream",
     "text": [
      "INFO:root:TEST Acc:\t\t0.6282382(0.63)\t\t0.9565897(0.96)\t\t0.9069171(0.91)\n",
      "INFO:root:TEST L2:\t\t0.5631499(0.56)\t\t0.1469578(0.15)\t\t0.0738848(0.07)\n"
     ]
    },
    {
     "data": {
      "application/vnd.plotly.v1+json": {
       "config": {
        "linkText": "Export to plot.ly",
        "plotlyServerURL": "https://plot.ly",
        "showLink": true
       },
       "data": [
        {
         "marker": {
          "color": "#3498db"
         },
         "mode": "lines+markers",
         "name": "Dev Method Accuracy",
         "type": "scatter",
         "uid": "758a0458-b901-4e51-8a7a-806ba8aaf361",
         "x": [
          0,
          1,
          2,
          3,
          4,
          5,
          6
         ],
         "y": [
          0.8807553,
          0.8843766,
          0.8867046,
          0.8869633,
          0.8854113,
          0.884118,
          0.8766167
         ]
        },
        {
         "marker": {
          "color": "#9b59b6"
         },
         "mode": "lines+markers",
         "name": "Test Method Accuracy",
         "type": "scatter",
         "uid": "be56fb67-9779-4cf4-8b39-c8bbf106baf5",
         "x": [
          0,
          1,
          2,
          3,
          4,
          5,
          6
         ],
         "y": [
          0.9129721,
          0.9148194,
          0.9174877,
          0.9200534,
          0.9183087,
          0.9082512,
          0.9069171
         ]
        }
       ],
       "layout": {
        "margin": {
         "b": 150
        },
        "title": "<b>Dev-Test Method Accuracy</b>",
        "xaxis": {
         "dtick": 1,
         "title": "<b>Epoch</b>",
         "titlefont": {
          "color": "#34495e"
         }
        },
        "yaxis": {
         "title": "<b>Accuracy</b>",
         "titlefont": {
          "color": "#34495e"
         }
        }
       }
      },
      "text/html": [
       "<div id=\"6f6d633d-e2b3-4602-ac5c-a0658f8798a5\" style=\"height: 525px; width: 100%;\" class=\"plotly-graph-div\"></div><script type=\"text/javascript\">require([\"plotly\"], function(Plotly) { window.PLOTLYENV=window.PLOTLYENV || {};window.PLOTLYENV.BASE_URL=\"https://plot.ly\";Plotly.newPlot(\"6f6d633d-e2b3-4602-ac5c-a0658f8798a5\", [{\"marker\": {\"color\": \"#3498db\"}, \"mode\": \"lines+markers\", \"name\": \"Dev Method Accuracy\", \"x\": [0, 1, 2, 3, 4, 5, 6], \"y\": [0.8807553, 0.8843766, 0.8867046, 0.8869633, 0.8854113, 0.884118, 0.8766167], \"type\": \"scatter\", \"uid\": \"47399bb4-21ec-4899-adfe-ae6af5d4433c\"}, {\"marker\": {\"color\": \"#9b59b6\"}, \"mode\": \"lines+markers\", \"name\": \"Test Method Accuracy\", \"x\": [0, 1, 2, 3, 4, 5, 6], \"y\": [0.9129721, 0.9148194, 0.9174877, 0.9200534, 0.9183087, 0.9082512, 0.9069171], \"type\": \"scatter\", \"uid\": \"4520710a-15b0-411b-8436-398fac996e00\"}], {\"margin\": {\"b\": 150}, \"title\": \"<b>Dev-Test Method Accuracy</b>\", \"xaxis\": {\"dtick\": 1, \"title\": \"<b>Epoch</b>\", \"titlefont\": {\"color\": \"#34495e\"}}, \"yaxis\": {\"title\": \"<b>Accuracy</b>\", \"titlefont\": {\"color\": \"#34495e\"}}}, {\"showLink\": true, \"linkText\": \"Export to plot.ly\", \"plotlyServerURL\": \"https://plot.ly\"})});</script><script type=\"text/javascript\">window.addEventListener(\"resize\", function(){window._Plotly.Plots.resize(document.getElementById(\"6f6d633d-e2b3-4602-ac5c-a0658f8798a5\"));});</script>"
      ],
      "text/vnd.plotly.v1+html": [
       "<div id=\"6f6d633d-e2b3-4602-ac5c-a0658f8798a5\" style=\"height: 525px; width: 100%;\" class=\"plotly-graph-div\"></div><script type=\"text/javascript\">require([\"plotly\"], function(Plotly) { window.PLOTLYENV=window.PLOTLYENV || {};window.PLOTLYENV.BASE_URL=\"https://plot.ly\";Plotly.newPlot(\"6f6d633d-e2b3-4602-ac5c-a0658f8798a5\", [{\"marker\": {\"color\": \"#3498db\"}, \"mode\": \"lines+markers\", \"name\": \"Dev Method Accuracy\", \"x\": [0, 1, 2, 3, 4, 5, 6], \"y\": [0.8807553, 0.8843766, 0.8867046, 0.8869633, 0.8854113, 0.884118, 0.8766167], \"type\": \"scatter\", \"uid\": \"47399bb4-21ec-4899-adfe-ae6af5d4433c\"}, {\"marker\": {\"color\": \"#9b59b6\"}, \"mode\": \"lines+markers\", \"name\": \"Test Method Accuracy\", \"x\": [0, 1, 2, 3, 4, 5, 6], \"y\": [0.9129721, 0.9148194, 0.9174877, 0.9200534, 0.9183087, 0.9082512, 0.9069171], \"type\": \"scatter\", \"uid\": \"4520710a-15b0-411b-8436-398fac996e00\"}], {\"margin\": {\"b\": 150}, \"title\": \"<b>Dev-Test Method Accuracy</b>\", \"xaxis\": {\"dtick\": 1, \"title\": \"<b>Epoch</b>\", \"titlefont\": {\"color\": \"#34495e\"}}, \"yaxis\": {\"title\": \"<b>Accuracy</b>\", \"titlefont\": {\"color\": \"#34495e\"}}}, {\"showLink\": true, \"linkText\": \"Export to plot.ly\", \"plotlyServerURL\": \"https://plot.ly\"})});</script><script type=\"text/javascript\">window.addEventListener(\"resize\", function(){window._Plotly.Plots.resize(document.getElementById(\"6f6d633d-e2b3-4602-ac5c-a0658f8798a5\"));});</script>"
      ]
     },
     "metadata": {},
     "output_type": "display_data"
    }
   ],
   "source": [
    "dev_goal_accuracies = []\n",
    "dev_requested_accuracies = []\n",
    "dev_method_accuracies = []\n",
    "\n",
    "test_goal_accuracies = []\n",
    "test_requested_accuracies = []\n",
    "test_method_accuracies = []\n",
    "\n",
    "method_early_stopping = EarlyStopping(patience = 2)\n",
    "\n",
    "train_indices = np.arange(raw_X_train.shape[0])\n",
    "\n",
    "for epoch in range(NUM_EPOCHS):\n",
    "    \n",
    "    np.random.shuffle(train_indices)\n",
    "    \n",
    "    logging.info(\"Epoch\\t{}/{}\".format(epoch + 1, NUM_EPOCHS))\n",
    "    \n",
    "    model_Method = model_Method.train()\n",
    "    \n",
    "    for raw_X_train_dialog, raw_Y_train_dialog in tqdm_notebook(zip(raw_X_train[train_indices], raw_Y_train[train_indices]), total = len(raw_X_train)):\n",
    "\n",
    "        model_Method.hidden = model_Method.init_hidden()\n",
    "\n",
    "        for raw_X_train_turn, raw_Y_train_turn in zip(raw_X_train_dialog[\"turns\"], raw_Y_train_dialog[\"turns\"]):\n",
    "            \n",
    "            optimizer_MethodModel.zero_grad()\n",
    "        \n",
    "            turn_loss = 0\n",
    "            \n",
    "            indices, scores = get_index_and_score(raw_X_train_turn, token_to_index, mode = \"train\", device = DEVICE)\n",
    "            \n",
    "            methods = model_Method(indices, scores)\n",
    "            \n",
    "            for method in methods:\n",
    "                \n",
    "                method = method.unsqueeze(0)\n",
    "\n",
    "                loss_method = METHOD_LOSS_FUNCTION(method,\n",
    "                                                   retrieve_gold_Method(raw_Y_train_turn,\n",
    "                                                                        ontology = ontology,\n",
    "                                                                        device = DEVICE))\n",
    "                turn_loss += loss_method\n",
    "                \n",
    "            turn_loss.backward(retain_graph = True)\n",
    "\n",
    "            optimizer_MethodModel.step()\n",
    "    \n",
    "    dev_goal_accuracy, \\\n",
    "    dev_goal_l2, \\\n",
    "    dev_requested_accuracy, \\\n",
    "    dev_requested_l2, \\\n",
    "    dev_method_accuracy, \\\n",
    "    dev_method_l2 = get_scores(model_GoalPricerange,\n",
    "                               model_GoalArea,\n",
    "                               model_GoalName,\n",
    "                               model_GoalFood,\n",
    "                               model_Requested,\n",
    "                               model_Method,\n",
    "                               raw_X_dev, raw_Y_dev, dataset = \"dstc2_dev\")\n",
    "    logging.info(\"DEV Acc:\\t\\t{}({})\\t\\t{}({})\\t\\t{}({})\".format(dev_goal_accuracy,\n",
    "                                                                 np.around(dev_goal_accuracy, decimals = 2),\n",
    "                                                                 dev_requested_accuracy,\n",
    "                                                                 np.around(dev_requested_accuracy, decimals = 2),\n",
    "                                                                 dev_method_accuracy,\n",
    "                                                                 np.around(dev_method_accuracy, decimals = 2)))\n",
    "    logging.info(\"DEV L2:\\t\\t{}({})\\t\\t{}({})\\t\\t{}({})\".format(dev_goal_l2,\n",
    "                                                                np.around(dev_goal_l2, decimals = 2),\n",
    "                                                                dev_requested_l2,\n",
    "                                                                np.around(dev_requested_l2, decimals = 2),\n",
    "                                                                dev_method_l2,\n",
    "                                                                np.around(dev_method_l2, decimals = 2)))\n",
    "    dev_goal_accuracies.append(dev_goal_accuracy)\n",
    "    dev_requested_accuracies.append(dev_requested_accuracy)\n",
    "    dev_method_accuracies.append(dev_method_accuracy)\n",
    "\n",
    "    test_goal_accuracy, \\\n",
    "    test_goal_l2, \\\n",
    "    test_requested_accuracy, \\\n",
    "    test_requested_l2, \\\n",
    "    test_method_accuracy, \\\n",
    "    test_method_l2 = get_scores(model_GoalPricerange,\n",
    "                                model_GoalArea,\n",
    "                                model_GoalName,\n",
    "                                model_GoalFood,\n",
    "                                model_Requested,\n",
    "                                model_Method,\n",
    "                                raw_X_test, raw_Y_test, dataset = \"dstc2_test\")\n",
    "    logging.info(\"TEST Acc:\\t\\t{}({})\\t\\t{}({})\\t\\t{}({})\".format(test_goal_accuracy,\n",
    "                                                                  np.around(test_goal_accuracy, decimals = 2),\n",
    "                                                                  test_requested_accuracy,\n",
    "                                                                  np.around(test_requested_accuracy, decimals = 2),\n",
    "                                                                  test_method_accuracy,\n",
    "                                                                  np.around(test_method_accuracy, decimals = 2)))\n",
    "    logging.info(\"TEST L2:\\t\\t{}({})\\t\\t{}({})\\t\\t{}({})\".format(test_goal_l2,\n",
    "                                                                 np.around(test_goal_l2, decimals = 2),\n",
    "                                                                 test_requested_l2,\n",
    "                                                                 np.around(test_requested_l2, decimals = 2),\n",
    "                                                                 test_method_l2,\n",
    "                                                                 np.around(test_method_l2, decimals = 2)))\n",
    "    test_goal_accuracies.append(test_goal_accuracy)\n",
    "    test_requested_accuracies.append(test_requested_accuracy)\n",
    "    test_method_accuracies.append(test_method_accuracy)\n",
    "        \n",
    "    method_early_stopping.on_epoch_end(epoch = (epoch + 1),\n",
    "                                    current_value = (dev_method_accuracy))\n",
    "    \n",
    "    if method_early_stopping.stop_training:\n",
    "        break\n",
    "\n",
    "plotly_plot(dev_method_accuracies, test_method_accuracies, \"Method\")"
   ]
  },
  {
   "cell_type": "markdown",
   "metadata": {},
   "source": [
    "### Save Method Model"
   ]
  },
  {
   "cell_type": "code",
   "execution_count": 45,
   "metadata": {},
   "outputs": [],
   "source": [
    "torch.save(model_Method.state_dict(), \"model_PANFMR_incremental_Method.pt\")"
   ]
  },
  {
   "cell_type": "markdown",
   "metadata": {},
   "source": [
    "### Load Method Model"
   ]
  },
  {
   "cell_type": "code",
   "execution_count": 46,
   "metadata": {},
   "outputs": [
    {
     "data": {
      "text/plain": [
       "MethodModel(\n",
       "  (embeddings): Embedding(1149, 170)\n",
       "  (altered_embeddings): Linear(in_features=171, out_features=300, bias=True)\n",
       "  (lstm): LSTM(300, 100)\n",
       "  (method_classifier): Linear(in_features=100, out_features=5, bias=True)\n",
       ")"
      ]
     },
     "execution_count": 46,
     "metadata": {},
     "output_type": "execute_result"
    }
   ],
   "source": [
    "model_Method = MethodModel(vocabulary_size = VOCABULARY_SIZE,\n",
    "                           embedding_dim = EMBEDDING_DIM,\n",
    "                           altered_embedding_dim = ALTERED_EMBEDDING_DIM,\n",
    "                           hidden_dim = HIDDEN_DIM,\n",
    "                           method_dim = METHOD_DIM,\n",
    "                           device = DEVICE)\n",
    "\n",
    "model_Method = model_Method.to(DEVICE)\n",
    "model_Method.load_state_dict(torch.load(\"model_PANFMR_incremental_Method.pt\"))\n",
    "model_Method.eval()"
   ]
  },
  {
   "cell_type": "code",
   "execution_count": 47,
   "metadata": {
    "scrolled": true
   },
   "outputs": [
    {
     "data": {
      "application/vnd.jupyter.widget-view+json": {
       "model_id": "ac1a945dfb744b6fb1a62bdb0bdf23a5",
       "version_major": 2,
       "version_minor": 0
      },
      "text/plain": [
       "HBox(children=(IntProgress(value=0, max=506), HTML(value='')))"
      ]
     },
     "metadata": {},
     "output_type": "display_data"
    },
    {
     "name": "stdout",
     "output_type": "stream",
     "text": [
      "\n"
     ]
    },
    {
     "data": {
      "text/plain": [
       "(0.6139208, 0.5781036, 0.9563649, 0.197838, 0.8766167, 0.0792081)"
      ]
     },
     "execution_count": 47,
     "metadata": {},
     "output_type": "execute_result"
    }
   ],
   "source": [
    "get_scores(model_GoalPricerange,\n",
    "           model_GoalArea,\n",
    "           model_GoalName,\n",
    "           model_GoalFood,\n",
    "           model_Requested,\n",
    "           model_Method,\n",
    "           raw_X_dev, raw_Y_dev, dataset = \"dstc2_dev\")"
   ]
  },
  {
   "cell_type": "code",
   "execution_count": 48,
   "metadata": {},
   "outputs": [
    {
     "data": {
      "application/vnd.jupyter.widget-view+json": {
       "model_id": "98032eeb79f442588c74ab17729be6ec",
       "version_major": 2,
       "version_minor": 0
      },
      "text/plain": [
       "HBox(children=(IntProgress(value=0, max=1117), HTML(value='')))"
      ]
     },
     "metadata": {},
     "output_type": "display_data"
    },
    {
     "name": "stdout",
     "output_type": "stream",
     "text": [
      "\n"
     ]
    },
    {
     "data": {
      "text/plain": [
       "(0.6282382, 0.5631499, 0.9565897, 0.1469578, 0.9069171, 0.0738848)"
      ]
     },
     "execution_count": 48,
     "metadata": {},
     "output_type": "execute_result"
    }
   ],
   "source": [
    "get_scores(model_GoalPricerange,\n",
    "           model_GoalArea,\n",
    "           model_GoalName,\n",
    "           model_GoalFood,\n",
    "           model_Requested,\n",
    "           model_Method,\n",
    "           raw_X_test, raw_Y_test, dataset = \"dstc2_test\")"
   ]
  },
  {
   "cell_type": "markdown",
   "metadata": {},
   "source": [
    "### Plot incremental accuracies"
   ]
  },
  {
   "cell_type": "code",
   "execution_count": 83,
   "metadata": {},
   "outputs": [],
   "source": [
    "def make_tracker_incremental(percentage, model_GoalPricerange, model_GoalArea, model_GoalName, model_GoalFood, model_Requested, model_Method, raw_X, raw_Y, dataset):\n",
    "    \n",
    "    model_GoalPricerange = model_GoalPricerange.eval()\n",
    "    model_GoalArea = model_GoalArea.eval()\n",
    "    model_GoalName = model_GoalName.eval()\n",
    "    model_GoalFood = model_GoalFood.eval()\n",
    "    model_Requested = model_Requested.eval()\n",
    "    model_Method = model_Method.eval()\n",
    "    \n",
    "    with torch.no_grad():\n",
    "        tracker_json = {}\n",
    "        tracker_json[\"dataset\"] = dataset\n",
    "        tracker_json[\"sessions\"] = []\n",
    "\n",
    "        start_time = time.time()\n",
    "        for raw_X_dialog, raw_Y_dialog in tqdm_notebook(zip(raw_X, raw_Y), total = len(raw_X)):\n",
    "            \n",
    "            model_GoalPricerange.hidden = model_GoalPricerange.init_hidden()\n",
    "            model_GoalArea.hidden = model_GoalArea.init_hidden()\n",
    "            model_GoalName.hidden = model_GoalName.init_hidden()\n",
    "            model_GoalFood.hidden = model_GoalFood.init_hidden()\n",
    "            model_Requested.hidden = model_Requested.init_hidden()\n",
    "            model_Method.hidden = model_Method.init_hidden()\n",
    "            \n",
    "            session = {}\n",
    "            session[\"session-id\"] = raw_X_dialog[\"session-id\"]\n",
    "            session[\"turns\"] = []\n",
    "\n",
    "            for raw_X_turn, raw_Y_turn in zip(raw_X_dialog[\"turns\"], raw_Y_dialog[\"turns\"]):\n",
    "                turn = {}\n",
    "                turn[\"goal-labels\"] = {}\n",
    "\n",
    "                indices, scores = get_index_and_score(raw_X_turn, token_to_index, mode = \"eval\", device = DEVICE)\n",
    "                \n",
    "                incremental_index = int(np.around(percentage * len(indices))) - 1\n",
    "                \n",
    "                goal_foods = model_GoalFood(indices, scores)\n",
    "                goal_food = goal_foods[incremental_index]\n",
    "                \n",
    "                goal_priceranges = model_GoalPricerange(indices, scores)\n",
    "                goal_pricerange = goal_priceranges[incremental_index]\n",
    "                \n",
    "                goal_names = model_GoalName(indices, scores)\n",
    "                goal_name = goal_names[incremental_index]\n",
    "                \n",
    "                goal_areas = model_GoalArea(indices, scores)\n",
    "                goal_area = goal_areas[incremental_index]\n",
    "                \n",
    "                requesteds = model_Requested(indices, scores)\n",
    "                requested = requesteds[incremental_index]\n",
    "                \n",
    "                methods = model_Method(indices, scores)\n",
    "                method = methods[incremental_index]\n",
    "                \n",
    "                turn[\"goal-labels\"][\"food\"] = retrieve_output_GoalFood(goal_food, ontology)\n",
    "                turn[\"goal-labels\"][\"pricerange\"] = retrieve_output_GoalPricerange(goal_pricerange, ontology)\n",
    "                turn[\"goal-labels\"][\"name\"] = retrieve_output_GoalName(goal_name, ontology)\n",
    "                turn[\"goal-labels\"][\"area\"] = retrieve_output_GoalArea(goal_area, ontology)\n",
    "                turn[\"requested-slots\"] = retrieve_output_Requested(requested, ontology)\n",
    "                turn[\"method-label\"] = retrieve_output_Method(method, ontology)\n",
    "                \n",
    "                session[\"turns\"].append(turn)\n",
    "            tracker_json[\"sessions\"].append(session)\n",
    "        end_time = time.time()\n",
    "        tracker_json[\"wall-time\"] = end_time - start_time\n",
    "        \n",
    "        return tracker_json"
   ]
  },
  {
   "cell_type": "code",
   "execution_count": 84,
   "metadata": {},
   "outputs": [],
   "source": [
    "def get_scores_incremental(percentage, model_GoalPricerange, model_GoalArea, model_GoalName, model_GoalFood, model_Requested, model_Method, raw_X, raw_Y, dataset):\n",
    "    goal_accuracy = 0\n",
    "    goal_l2 = 0\n",
    "    requested_accuracy = 0\n",
    "    requested_l2 = 0\n",
    "    method_accuracy = 0\n",
    "    method_l2 = 0\n",
    "    \n",
    "    tracker = make_tracker_incremental(percentage, model_GoalPricerange, model_GoalArea, model_GoalName, model_GoalFood, model_Requested, model_Method, raw_X, raw_Y, dataset = dataset)\n",
    "    \n",
    "    with open(\"tracker_panfmr_incremental.json\", \"w\") as tracker_file:\n",
    "        json.dump(tracker, tracker_file)\n",
    "    \n",
    "    if dataset == \"dstc2_train\":\n",
    "        !python2 dstc2/dstc2_scripts/score.py\\\n",
    "        --dataset dstc2_train\\\n",
    "        --dataroot dstc2/dstc2_traindev/data\\\n",
    "        --ontology dstc2/dstc2_scripts/config/ontology_dstc2.json\\\n",
    "        --trackfile tracker_panfmr_incremental.json\\\n",
    "        --scorefile tracker_panfmr_incremental.score.csv\n",
    "    elif dataset == \"dstc2_dev\":\n",
    "        !python2 dstc2/dstc2_scripts/score.py\\\n",
    "        --dataset dstc2_dev\\\n",
    "        --dataroot dstc2/dstc2_traindev/data\\\n",
    "        --ontology dstc2/dstc2_scripts/config/ontology_dstc2.json\\\n",
    "        --trackfile tracker_panfmr_incremental.json\\\n",
    "        --scorefile tracker_panfmr_incremental.score.csv\n",
    "    else:\n",
    "        !python2 dstc2/dstc2_scripts/score.py\\\n",
    "        --dataset dstc2_test\\\n",
    "        --dataroot dstc2/dstc2_test/data\\\n",
    "        --ontology dstc2/dstc2_scripts/config/ontology_dstc2.json\\\n",
    "        --trackfile tracker_panfmr_incremental.json\\\n",
    "        --scorefile tracker_panfmr_incremental.score.csv\n",
    "\n",
    "    file_cat = !python2 dstc2/dstc2_scripts/report.py --scorefile tracker_panfmr_incremental.score.csv\n",
    "    \n",
    "    found_accuracies = False\n",
    "    for line in file_cat:\n",
    "        if line.startswith(\"Accuracy\"):\n",
    "            accuracies = line.split(\"|\")\n",
    "            goal_accuracy = float(accuracies[1])\n",
    "            requested_accuracy = float(accuracies[2])\n",
    "            method_accuracy = float(accuracies[3])\n",
    "            found_accuracies = True\n",
    "        if found_accuracies and line.startswith(\"l2\"):\n",
    "            l2s = line.split(\"|\")\n",
    "            goal_l2 = float(l2s[1])\n",
    "            method_l2 = float(l2s[2])\n",
    "            requested_l2 = float(l2s[3])\n",
    "    \n",
    "    return goal_accuracy, goal_l2, requested_accuracy, requested_l2, method_accuracy, method_l2"
   ]
  },
  {
   "cell_type": "code",
   "execution_count": 100,
   "metadata": {},
   "outputs": [],
   "source": [
    "def plotly_plot_incremental(percentages, goal_accuracies, requested_accuracies, method_accuracies, dataset):\n",
    "    plotly.offline.iplot({\n",
    "                            \"data\": [Scatter(\n",
    "                                            x = percentages,\n",
    "                                            y = goal_accuracies,\n",
    "                                            mode = \"lines+markers\",\n",
    "                                            name = \"{} Goal Accuracy\".format(dataset),\n",
    "                                            marker = dict(color = \"#3498db\")),\n",
    "                                    Scatter(\n",
    "                                            x = percentages,\n",
    "                                            y = requested_accuracies,\n",
    "                                            mode = \"lines+markers\",\n",
    "                                            name = \"{} Requested Accuracy\".format(dataset),\n",
    "                                            marker = dict(color = \"#1abc9c\")),\n",
    "                                    Scatter(\n",
    "                                            x = percentages,\n",
    "                                            y = method_accuracies,\n",
    "                                            mode = \"lines+markers\",\n",
    "                                            name = \"{} Method Accuracy\".format(dataset),\n",
    "                                            marker = dict(color = \"#9b59b6\"))],\n",
    "                            \"layout\": Layout(\n",
    "                                             title = \"<b>Percentage - Accuracy</b>\",\n",
    "                                             xaxis = dict(title = \"<b>Percentage</b>\",\n",
    "                                                          dtick = 0.1,\n",
    "                                                          titlefont = dict(color = \"#34495e\")),\n",
    "                                             yaxis = dict(title = \"<b>Accuracy</b>\",\n",
    "                                                          titlefont = dict(color = \"#34495e\")),\n",
    "                                             margin = Margin(b = 150))\n",
    "                        })"
   ]
  },
  {
   "cell_type": "code",
   "execution_count": 87,
   "metadata": {},
   "outputs": [
    {
     "data": {
      "application/vnd.jupyter.widget-view+json": {
       "model_id": "d76e11e667c94f64b22ab1296d1760f5",
       "version_major": 2,
       "version_minor": 0
      },
      "text/plain": [
       "HBox(children=(IntProgress(value=0, max=10), HTML(value='')))"
      ]
     },
     "metadata": {},
     "output_type": "display_data"
    },
    {
     "data": {
      "application/vnd.jupyter.widget-view+json": {
       "model_id": "e6d6f3a98560475497d34bf23c8343cb",
       "version_major": 2,
       "version_minor": 0
      },
      "text/plain": [
       "HBox(children=(IntProgress(value=0, max=506), HTML(value='')))"
      ]
     },
     "metadata": {},
     "output_type": "display_data"
    },
    {
     "data": {
      "application/vnd.jupyter.widget-view+json": {
       "model_id": "be8d3340b853476a8ee64555676715c9",
       "version_major": 2,
       "version_minor": 0
      },
      "text/plain": [
       "HBox(children=(IntProgress(value=0, max=1117), HTML(value='')))"
      ]
     },
     "metadata": {},
     "output_type": "display_data"
    },
    {
     "data": {
      "application/vnd.jupyter.widget-view+json": {
       "model_id": "a0360257ba0840babe70251a432afcb2",
       "version_major": 2,
       "version_minor": 0
      },
      "text/plain": [
       "HBox(children=(IntProgress(value=0, max=506), HTML(value='')))"
      ]
     },
     "metadata": {},
     "output_type": "display_data"
    },
    {
     "data": {
      "application/vnd.jupyter.widget-view+json": {
       "model_id": "5fb665c2c4024d3f806e260f6e6dbe9e",
       "version_major": 2,
       "version_minor": 0
      },
      "text/plain": [
       "HBox(children=(IntProgress(value=0, max=1117), HTML(value='')))"
      ]
     },
     "metadata": {},
     "output_type": "display_data"
    },
    {
     "data": {
      "application/vnd.jupyter.widget-view+json": {
       "model_id": "a89fd98761c9461aacf60f54edf32766",
       "version_major": 2,
       "version_minor": 0
      },
      "text/plain": [
       "HBox(children=(IntProgress(value=0, max=506), HTML(value='')))"
      ]
     },
     "metadata": {},
     "output_type": "display_data"
    },
    {
     "data": {
      "application/vnd.jupyter.widget-view+json": {
       "model_id": "e2b9c3cda3b6493b87c2d85320b13df3",
       "version_major": 2,
       "version_minor": 0
      },
      "text/plain": [
       "HBox(children=(IntProgress(value=0, max=1117), HTML(value='')))"
      ]
     },
     "metadata": {},
     "output_type": "display_data"
    },
    {
     "data": {
      "application/vnd.jupyter.widget-view+json": {
       "model_id": "259f2579e5364d2cb64f3de63ed611a3",
       "version_major": 2,
       "version_minor": 0
      },
      "text/plain": [
       "HBox(children=(IntProgress(value=0, max=506), HTML(value='')))"
      ]
     },
     "metadata": {},
     "output_type": "display_data"
    },
    {
     "data": {
      "application/vnd.jupyter.widget-view+json": {
       "model_id": "a2513548e87b48f49c0dfab679147ae0",
       "version_major": 2,
       "version_minor": 0
      },
      "text/plain": [
       "HBox(children=(IntProgress(value=0, max=1117), HTML(value='')))"
      ]
     },
     "metadata": {},
     "output_type": "display_data"
    },
    {
     "data": {
      "application/vnd.jupyter.widget-view+json": {
       "model_id": "b8043b81100f4350b4e187c98995447c",
       "version_major": 2,
       "version_minor": 0
      },
      "text/plain": [
       "HBox(children=(IntProgress(value=0, max=506), HTML(value='')))"
      ]
     },
     "metadata": {},
     "output_type": "display_data"
    },
    {
     "data": {
      "application/vnd.jupyter.widget-view+json": {
       "model_id": "75471f78abf947bb841339899c4ecec2",
       "version_major": 2,
       "version_minor": 0
      },
      "text/plain": [
       "HBox(children=(IntProgress(value=0, max=1117), HTML(value='')))"
      ]
     },
     "metadata": {},
     "output_type": "display_data"
    },
    {
     "data": {
      "application/vnd.jupyter.widget-view+json": {
       "model_id": "f3cb008b6c364f8da575dffddd60fbfe",
       "version_major": 2,
       "version_minor": 0
      },
      "text/plain": [
       "HBox(children=(IntProgress(value=0, max=506), HTML(value='')))"
      ]
     },
     "metadata": {},
     "output_type": "display_data"
    },
    {
     "data": {
      "application/vnd.jupyter.widget-view+json": {
       "model_id": "f376afe584a04e53a2b9a6a6b80a4f50",
       "version_major": 2,
       "version_minor": 0
      },
      "text/plain": [
       "HBox(children=(IntProgress(value=0, max=1117), HTML(value='')))"
      ]
     },
     "metadata": {},
     "output_type": "display_data"
    },
    {
     "data": {
      "application/vnd.jupyter.widget-view+json": {
       "model_id": "912725830ff94c208676940eefa5dded",
       "version_major": 2,
       "version_minor": 0
      },
      "text/plain": [
       "HBox(children=(IntProgress(value=0, max=506), HTML(value='')))"
      ]
     },
     "metadata": {},
     "output_type": "display_data"
    },
    {
     "data": {
      "application/vnd.jupyter.widget-view+json": {
       "model_id": "56101298977b46ee970ff489c058bbeb",
       "version_major": 2,
       "version_minor": 0
      },
      "text/plain": [
       "HBox(children=(IntProgress(value=0, max=1117), HTML(value='')))"
      ]
     },
     "metadata": {},
     "output_type": "display_data"
    },
    {
     "data": {
      "application/vnd.jupyter.widget-view+json": {
       "model_id": "414021a0cdb14e0ca80e94710fa40a25",
       "version_major": 2,
       "version_minor": 0
      },
      "text/plain": [
       "HBox(children=(IntProgress(value=0, max=506), HTML(value='')))"
      ]
     },
     "metadata": {},
     "output_type": "display_data"
    },
    {
     "data": {
      "application/vnd.jupyter.widget-view+json": {
       "model_id": "fa02980cc9ff4634bea09ca8cfe60c92",
       "version_major": 2,
       "version_minor": 0
      },
      "text/plain": [
       "HBox(children=(IntProgress(value=0, max=1117), HTML(value='')))"
      ]
     },
     "metadata": {},
     "output_type": "display_data"
    },
    {
     "data": {
      "application/vnd.jupyter.widget-view+json": {
       "model_id": "98d2316d9472455694be168fd29ae3d1",
       "version_major": 2,
       "version_minor": 0
      },
      "text/plain": [
       "HBox(children=(IntProgress(value=0, max=506), HTML(value='')))"
      ]
     },
     "metadata": {},
     "output_type": "display_data"
    },
    {
     "data": {
      "application/vnd.jupyter.widget-view+json": {
       "model_id": "64dce3982cb045c389ccb1980c3c555f",
       "version_major": 2,
       "version_minor": 0
      },
      "text/plain": [
       "HBox(children=(IntProgress(value=0, max=1117), HTML(value='')))"
      ]
     },
     "metadata": {},
     "output_type": "display_data"
    },
    {
     "data": {
      "application/vnd.jupyter.widget-view+json": {
       "model_id": "96f44bcf784344aabc352c9c77d4d796",
       "version_major": 2,
       "version_minor": 0
      },
      "text/plain": [
       "HBox(children=(IntProgress(value=0, max=506), HTML(value='')))"
      ]
     },
     "metadata": {},
     "output_type": "display_data"
    },
    {
     "data": {
      "application/vnd.jupyter.widget-view+json": {
       "model_id": "4844456fb67f4d91abffbb5bdb04fc5b",
       "version_major": 2,
       "version_minor": 0
      },
      "text/plain": [
       "HBox(children=(IntProgress(value=0, max=1117), HTML(value='')))"
      ]
     },
     "metadata": {},
     "output_type": "display_data"
    }
   ],
   "source": [
    "percentages = [0.1, 0.2, 0.3, 0.4, 0.5, 0.6, 0.7, 0.8, 0.9, 1.0]\n",
    "\n",
    "dev_goal_accuracies = []\n",
    "dev_goal_l2s = []\n",
    "dev_requested_accuracies = []\n",
    "dev_requested_l2s = []\n",
    "dev_method_accuracies = []\n",
    "dev_method_l2s = []\n",
    "\n",
    "test_goal_accuracies = []\n",
    "test_goal_l2s = []\n",
    "test_requested_accuracies = []\n",
    "test_requested_l2s = []\n",
    "test_method_accuracies = []\n",
    "test_method_l2s = []\n",
    "\n",
    "for percentage in tqdm_notebook(percentages, total = len(percentages)):\n",
    "\n",
    "    dev_goal_accuracy, \\\n",
    "    dev_goal_l2, \\\n",
    "    dev_requested_accuracy, \\\n",
    "    dev_requested_l2, \\\n",
    "    dev_method_accuracy, \\\n",
    "    dev_method_l2 = get_scores_incremental(percentage, model_GoalPricerange, model_GoalArea, model_GoalName, model_GoalFood, model_Requested, model_Method, raw_X_dev, raw_Y_dev, dataset = \"dstc2_dev\")\n",
    "    \n",
    "    dev_goal_accuracies.append(dev_goal_accuracy)\n",
    "    dev_goal_l2s.append(dev_goal_l2)\n",
    "    dev_requested_accuracies.append(dev_requested_accuracy)\n",
    "    dev_requested_l2s.append(dev_requested_l2)\n",
    "    dev_method_accuracies.append(dev_method_accuracy)\n",
    "    dev_method_l2s.append(dev_method_l2)\n",
    "    \n",
    "    test_goal_accuracy, \\\n",
    "    test_goal_l2, \\\n",
    "    test_requested_accuracy, \\\n",
    "    test_requested_l2, \\\n",
    "    test_method_accuracy, \\\n",
    "    test_method_l2 = get_scores_incremental(percentage, model_GoalPricerange, model_GoalArea, model_GoalName, model_GoalFood, model_Requested, model_Method, raw_X_test, raw_Y_test, dataset = \"dstc2_test\")\n",
    "    \n",
    "    test_goal_accuracies.append(test_goal_accuracy)\n",
    "    test_goal_l2s.append(test_goal_l2)\n",
    "    test_requested_accuracies.append(test_requested_accuracy)\n",
    "    test_requested_l2s.append(test_requested_l2)\n",
    "    test_method_accuracies.append(test_method_accuracy)\n",
    "    test_method_l2s.append(test_method_l2)"
   ]
  },
  {
   "cell_type": "code",
   "execution_count": 101,
   "metadata": {},
   "outputs": [
    {
     "data": {
      "application/vnd.plotly.v1+json": {
       "config": {
        "linkText": "Export to plot.ly",
        "plotlyServerURL": "https://plot.ly",
        "showLink": true
       },
       "data": [
        {
         "marker": {
          "color": "#3498db"
         },
         "mode": "lines+markers",
         "name": "Dev Goal Accuracy",
         "type": "scatter",
         "uid": "c0bb82e9-acbd-4d58-8ced-4af0f20e3f15",
         "x": [
          0.1,
          0.2,
          0.3,
          0.4,
          0.5,
          0.6,
          0.7,
          0.8,
          0.9,
          1
         ],
         "y": [
          0.4968717,
          0.4460375,
          0.443952,
          0.4491658,
          0.4684567,
          0.4767987,
          0.5132951,
          0.5471846,
          0.5993222,
          0.6139208
         ]
        },
        {
         "marker": {
          "color": "#1abc9c"
         },
         "mode": "lines+markers",
         "name": "Dev Requested Accuracy",
         "type": "scatter",
         "uid": "97665ec3-4f83-451c-bea1-59fb9686eb7a",
         "x": [
          0.1,
          0.2,
          0.3,
          0.4,
          0.5,
          0.6,
          0.7,
          0.8,
          0.9,
          1
         ],
         "y": [
          0.6754418,
          0.683736,
          0.6931122,
          0.6938334,
          0.7068157,
          0.7136675,
          0.736026,
          0.7879553,
          0.8835197,
          0.9563649
         ]
        },
        {
         "marker": {
          "color": "#9b59b6"
         },
         "mode": "lines+markers",
         "name": "Dev Method Accuracy",
         "type": "scatter",
         "uid": "d242f701-fcf8-46ab-a7a2-f01f9aae4bbe",
         "x": [
          0.1,
          0.2,
          0.3,
          0.4,
          0.5,
          0.6,
          0.7,
          0.8,
          0.9,
          1
         ],
         "y": [
          0.7803932,
          0.7744439,
          0.7690119,
          0.7721159,
          0.7783238,
          0.7834972,
          0.8039317,
          0.8422142,
          0.872478,
          0.8766167
         ]
        }
       ],
       "layout": {
        "margin": {
         "b": 150
        },
        "title": "<b>Percentage - Accuracy</b>",
        "xaxis": {
         "dtick": 0.1,
         "title": "<b>Percentage</b>",
         "titlefont": {
          "color": "#34495e"
         }
        },
        "yaxis": {
         "title": "<b>Accuracy</b>",
         "titlefont": {
          "color": "#34495e"
         }
        }
       }
      },
      "text/html": [
       "<div id=\"8a060927-4b39-450e-9eaf-022325bf4ae7\" style=\"height: 525px; width: 100%;\" class=\"plotly-graph-div\"></div><script type=\"text/javascript\">require([\"plotly\"], function(Plotly) { window.PLOTLYENV=window.PLOTLYENV || {};window.PLOTLYENV.BASE_URL=\"https://plot.ly\";Plotly.newPlot(\"8a060927-4b39-450e-9eaf-022325bf4ae7\", [{\"marker\": {\"color\": \"#3498db\"}, \"mode\": \"lines+markers\", \"name\": \"Dev Goal Accuracy\", \"x\": [0.1, 0.2, 0.3, 0.4, 0.5, 0.6, 0.7, 0.8, 0.9, 1.0], \"y\": [0.4968717, 0.4460375, 0.443952, 0.4491658, 0.4684567, 0.4767987, 0.5132951, 0.5471846, 0.5993222, 0.6139208], \"type\": \"scatter\", \"uid\": \"482d3b1c-fa9f-4d28-9ee1-df19799a15cd\"}, {\"marker\": {\"color\": \"#1abc9c\"}, \"mode\": \"lines+markers\", \"name\": \"Dev Requested Accuracy\", \"x\": [0.1, 0.2, 0.3, 0.4, 0.5, 0.6, 0.7, 0.8, 0.9, 1.0], \"y\": [0.6754418, 0.683736, 0.6931122, 0.6938334, 0.7068157, 0.7136675, 0.736026, 0.7879553, 0.8835197, 0.9563649], \"type\": \"scatter\", \"uid\": \"96b2ceaa-6978-4c15-b06a-6f4a92dcb74a\"}, {\"marker\": {\"color\": \"#9b59b6\"}, \"mode\": \"lines+markers\", \"name\": \"Dev Method Accuracy\", \"x\": [0.1, 0.2, 0.3, 0.4, 0.5, 0.6, 0.7, 0.8, 0.9, 1.0], \"y\": [0.7803932, 0.7744439, 0.7690119, 0.7721159, 0.7783238, 0.7834972, 0.8039317, 0.8422142, 0.872478, 0.8766167], \"type\": \"scatter\", \"uid\": \"b5bc223e-7a40-4476-b5fa-bbec7d71ba21\"}], {\"margin\": {\"b\": 150}, \"title\": \"<b>Percentage - Accuracy</b>\", \"xaxis\": {\"dtick\": 0.1, \"title\": \"<b>Percentage</b>\", \"titlefont\": {\"color\": \"#34495e\"}}, \"yaxis\": {\"title\": \"<b>Accuracy</b>\", \"titlefont\": {\"color\": \"#34495e\"}}}, {\"showLink\": true, \"linkText\": \"Export to plot.ly\", \"plotlyServerURL\": \"https://plot.ly\"})});</script><script type=\"text/javascript\">window.addEventListener(\"resize\", function(){window._Plotly.Plots.resize(document.getElementById(\"8a060927-4b39-450e-9eaf-022325bf4ae7\"));});</script>"
      ],
      "text/vnd.plotly.v1+html": [
       "<div id=\"8a060927-4b39-450e-9eaf-022325bf4ae7\" style=\"height: 525px; width: 100%;\" class=\"plotly-graph-div\"></div><script type=\"text/javascript\">require([\"plotly\"], function(Plotly) { window.PLOTLYENV=window.PLOTLYENV || {};window.PLOTLYENV.BASE_URL=\"https://plot.ly\";Plotly.newPlot(\"8a060927-4b39-450e-9eaf-022325bf4ae7\", [{\"marker\": {\"color\": \"#3498db\"}, \"mode\": \"lines+markers\", \"name\": \"Dev Goal Accuracy\", \"x\": [0.1, 0.2, 0.3, 0.4, 0.5, 0.6, 0.7, 0.8, 0.9, 1.0], \"y\": [0.4968717, 0.4460375, 0.443952, 0.4491658, 0.4684567, 0.4767987, 0.5132951, 0.5471846, 0.5993222, 0.6139208], \"type\": \"scatter\", \"uid\": \"482d3b1c-fa9f-4d28-9ee1-df19799a15cd\"}, {\"marker\": {\"color\": \"#1abc9c\"}, \"mode\": \"lines+markers\", \"name\": \"Dev Requested Accuracy\", \"x\": [0.1, 0.2, 0.3, 0.4, 0.5, 0.6, 0.7, 0.8, 0.9, 1.0], \"y\": [0.6754418, 0.683736, 0.6931122, 0.6938334, 0.7068157, 0.7136675, 0.736026, 0.7879553, 0.8835197, 0.9563649], \"type\": \"scatter\", \"uid\": \"96b2ceaa-6978-4c15-b06a-6f4a92dcb74a\"}, {\"marker\": {\"color\": \"#9b59b6\"}, \"mode\": \"lines+markers\", \"name\": \"Dev Method Accuracy\", \"x\": [0.1, 0.2, 0.3, 0.4, 0.5, 0.6, 0.7, 0.8, 0.9, 1.0], \"y\": [0.7803932, 0.7744439, 0.7690119, 0.7721159, 0.7783238, 0.7834972, 0.8039317, 0.8422142, 0.872478, 0.8766167], \"type\": \"scatter\", \"uid\": \"b5bc223e-7a40-4476-b5fa-bbec7d71ba21\"}], {\"margin\": {\"b\": 150}, \"title\": \"<b>Percentage - Accuracy</b>\", \"xaxis\": {\"dtick\": 0.1, \"title\": \"<b>Percentage</b>\", \"titlefont\": {\"color\": \"#34495e\"}}, \"yaxis\": {\"title\": \"<b>Accuracy</b>\", \"titlefont\": {\"color\": \"#34495e\"}}}, {\"showLink\": true, \"linkText\": \"Export to plot.ly\", \"plotlyServerURL\": \"https://plot.ly\"})});</script><script type=\"text/javascript\">window.addEventListener(\"resize\", function(){window._Plotly.Plots.resize(document.getElementById(\"8a060927-4b39-450e-9eaf-022325bf4ae7\"));});</script>"
      ]
     },
     "metadata": {},
     "output_type": "display_data"
    }
   ],
   "source": [
    "plotly_plot_incremental(percentages, dev_goal_accuracies, dev_requested_accuracies, dev_method_accuracies, \"Dev\")"
   ]
  },
  {
   "cell_type": "code",
   "execution_count": 102,
   "metadata": {},
   "outputs": [
    {
     "data": {
      "application/vnd.plotly.v1+json": {
       "config": {
        "linkText": "Export to plot.ly",
        "plotlyServerURL": "https://plot.ly",
        "showLink": true
       },
       "data": [
        {
         "marker": {
          "color": "#3498db"
         },
         "mode": "lines+markers",
         "name": "Test Goal Accuracy",
         "type": "scatter",
         "uid": "0a2b65f4-e665-486c-9aaa-a044324cc979",
         "x": [
          0.1,
          0.2,
          0.3,
          0.4,
          0.5,
          0.6,
          0.7,
          0.8,
          0.9,
          1
         ],
         "y": [
          0.5027351,
          0.478584,
          0.4800289,
          0.4780679,
          0.486944,
          0.489937,
          0.5168748,
          0.556817,
          0.6008876,
          0.6282382
         ]
        },
        {
         "marker": {
          "color": "#1abc9c"
         },
         "mode": "lines+markers",
         "name": "Test Requested Accuracy",
         "type": "scatter",
         "uid": "83f9e0e4-7788-49e9-aed5-a72a224a171a",
         "x": [
          0.1,
          0.2,
          0.3,
          0.4,
          0.5,
          0.6,
          0.7,
          0.8,
          0.9,
          1
         ],
         "y": [
          0.6843202,
          0.6931759,
          0.7055044,
          0.7143601,
          0.7204376,
          0.7358916,
          0.7556868,
          0.7890259,
          0.8807085,
          0.9565897
         ]
        },
        {
         "marker": {
          "color": "#9b59b6"
         },
         "mode": "lines+markers",
         "name": "Test Method Accuracy",
         "type": "scatter",
         "uid": "c2fe973c-0216-4bb8-b124-2fec9f728274",
         "x": [
          0.1,
          0.2,
          0.3,
          0.4,
          0.5,
          0.6,
          0.7,
          0.8,
          0.9,
          1
         ],
         "y": [
          0.8145525,
          0.8033662,
          0.8021346,
          0.802853,
          0.8088054,
          0.818555,
          0.831486,
          0.8703818,
          0.8961412,
          0.9069171
         ]
        }
       ],
       "layout": {
        "margin": {
         "b": 150
        },
        "title": "<b>Percentage - Accuracy</b>",
        "xaxis": {
         "dtick": 0.1,
         "title": "<b>Percentage</b>",
         "titlefont": {
          "color": "#34495e"
         }
        },
        "yaxis": {
         "title": "<b>Accuracy</b>",
         "titlefont": {
          "color": "#34495e"
         }
        }
       }
      },
      "text/html": [
       "<div id=\"c14791df-15b0-424d-8b84-47b821d088e9\" style=\"height: 525px; width: 100%;\" class=\"plotly-graph-div\"></div><script type=\"text/javascript\">require([\"plotly\"], function(Plotly) { window.PLOTLYENV=window.PLOTLYENV || {};window.PLOTLYENV.BASE_URL=\"https://plot.ly\";Plotly.newPlot(\"c14791df-15b0-424d-8b84-47b821d088e9\", [{\"marker\": {\"color\": \"#3498db\"}, \"mode\": \"lines+markers\", \"name\": \"Test Goal Accuracy\", \"x\": [0.1, 0.2, 0.3, 0.4, 0.5, 0.6, 0.7, 0.8, 0.9, 1.0], \"y\": [0.5027351, 0.478584, 0.4800289, 0.4780679, 0.486944, 0.489937, 0.5168748, 0.556817, 0.6008876, 0.6282382], \"type\": \"scatter\", \"uid\": \"921d9550-733f-40e8-9a16-49102df9c837\"}, {\"marker\": {\"color\": \"#1abc9c\"}, \"mode\": \"lines+markers\", \"name\": \"Test Requested Accuracy\", \"x\": [0.1, 0.2, 0.3, 0.4, 0.5, 0.6, 0.7, 0.8, 0.9, 1.0], \"y\": [0.6843202, 0.6931759, 0.7055044, 0.7143601, 0.7204376, 0.7358916, 0.7556868, 0.7890259, 0.8807085, 0.9565897], \"type\": \"scatter\", \"uid\": \"1e025488-9501-421b-acc6-b2c3ff5e1c37\"}, {\"marker\": {\"color\": \"#9b59b6\"}, \"mode\": \"lines+markers\", \"name\": \"Test Method Accuracy\", \"x\": [0.1, 0.2, 0.3, 0.4, 0.5, 0.6, 0.7, 0.8, 0.9, 1.0], \"y\": [0.8145525, 0.8033662, 0.8021346, 0.802853, 0.8088054, 0.818555, 0.831486, 0.8703818, 0.8961412, 0.9069171], \"type\": \"scatter\", \"uid\": \"138e1be3-9190-489c-b8b7-55a984ee0c47\"}], {\"margin\": {\"b\": 150}, \"title\": \"<b>Percentage - Accuracy</b>\", \"xaxis\": {\"dtick\": 0.1, \"title\": \"<b>Percentage</b>\", \"titlefont\": {\"color\": \"#34495e\"}}, \"yaxis\": {\"title\": \"<b>Accuracy</b>\", \"titlefont\": {\"color\": \"#34495e\"}}}, {\"showLink\": true, \"linkText\": \"Export to plot.ly\", \"plotlyServerURL\": \"https://plot.ly\"})});</script><script type=\"text/javascript\">window.addEventListener(\"resize\", function(){window._Plotly.Plots.resize(document.getElementById(\"c14791df-15b0-424d-8b84-47b821d088e9\"));});</script>"
      ],
      "text/vnd.plotly.v1+html": [
       "<div id=\"c14791df-15b0-424d-8b84-47b821d088e9\" style=\"height: 525px; width: 100%;\" class=\"plotly-graph-div\"></div><script type=\"text/javascript\">require([\"plotly\"], function(Plotly) { window.PLOTLYENV=window.PLOTLYENV || {};window.PLOTLYENV.BASE_URL=\"https://plot.ly\";Plotly.newPlot(\"c14791df-15b0-424d-8b84-47b821d088e9\", [{\"marker\": {\"color\": \"#3498db\"}, \"mode\": \"lines+markers\", \"name\": \"Test Goal Accuracy\", \"x\": [0.1, 0.2, 0.3, 0.4, 0.5, 0.6, 0.7, 0.8, 0.9, 1.0], \"y\": [0.5027351, 0.478584, 0.4800289, 0.4780679, 0.486944, 0.489937, 0.5168748, 0.556817, 0.6008876, 0.6282382], \"type\": \"scatter\", \"uid\": \"921d9550-733f-40e8-9a16-49102df9c837\"}, {\"marker\": {\"color\": \"#1abc9c\"}, \"mode\": \"lines+markers\", \"name\": \"Test Requested Accuracy\", \"x\": [0.1, 0.2, 0.3, 0.4, 0.5, 0.6, 0.7, 0.8, 0.9, 1.0], \"y\": [0.6843202, 0.6931759, 0.7055044, 0.7143601, 0.7204376, 0.7358916, 0.7556868, 0.7890259, 0.8807085, 0.9565897], \"type\": \"scatter\", \"uid\": \"1e025488-9501-421b-acc6-b2c3ff5e1c37\"}, {\"marker\": {\"color\": \"#9b59b6\"}, \"mode\": \"lines+markers\", \"name\": \"Test Method Accuracy\", \"x\": [0.1, 0.2, 0.3, 0.4, 0.5, 0.6, 0.7, 0.8, 0.9, 1.0], \"y\": [0.8145525, 0.8033662, 0.8021346, 0.802853, 0.8088054, 0.818555, 0.831486, 0.8703818, 0.8961412, 0.9069171], \"type\": \"scatter\", \"uid\": \"138e1be3-9190-489c-b8b7-55a984ee0c47\"}], {\"margin\": {\"b\": 150}, \"title\": \"<b>Percentage - Accuracy</b>\", \"xaxis\": {\"dtick\": 0.1, \"title\": \"<b>Percentage</b>\", \"titlefont\": {\"color\": \"#34495e\"}}, \"yaxis\": {\"title\": \"<b>Accuracy</b>\", \"titlefont\": {\"color\": \"#34495e\"}}}, {\"showLink\": true, \"linkText\": \"Export to plot.ly\", \"plotlyServerURL\": \"https://plot.ly\"})});</script><script type=\"text/javascript\">window.addEventListener(\"resize\", function(){window._Plotly.Plots.resize(document.getElementById(\"c14791df-15b0-424d-8b84-47b821d088e9\"));});</script>"
      ]
     },
     "metadata": {},
     "output_type": "display_data"
    }
   ],
   "source": [
    "plotly_plot_incremental(percentages, test_goal_accuracies, test_requested_accuracies, test_method_accuracies, \"Test\")"
   ]
  },
  {
   "cell_type": "code",
   "execution_count": null,
   "metadata": {},
   "outputs": [],
   "source": []
  }
 ],
 "metadata": {
  "kernelspec": {
   "display_name": "Python 3",
   "language": "python",
   "name": "python3"
  },
  "language_info": {
   "codemirror_mode": {
    "name": "ipython",
    "version": 3
   },
   "file_extension": ".py",
   "mimetype": "text/x-python",
   "name": "python",
   "nbconvert_exporter": "python",
   "pygments_lexer": "ipython3",
   "version": "3.6.5"
  }
 },
 "nbformat": 4,
 "nbformat_minor": 2
}
