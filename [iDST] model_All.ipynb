{
 "cells": [
  {
   "cell_type": "markdown",
   "metadata": {},
   "source": [
    "### Check GPU availability"
   ]
  },
  {
   "cell_type": "code",
   "execution_count": 1,
   "metadata": {},
   "outputs": [
    {
     "name": "stdout",
     "output_type": "stream",
     "text": [
      "Tue Feb 19 18:46:04 2019       \r\n",
      "+-----------------------------------------------------------------------------+\r\n",
      "| NVIDIA-SMI 384.145                Driver Version: 384.145                   |\r\n",
      "|-------------------------------+----------------------+----------------------+\r\n",
      "| GPU  Name        Persistence-M| Bus-Id        Disp.A | Volatile Uncorr. ECC |\r\n",
      "| Fan  Temp  Perf  Pwr:Usage/Cap|         Memory-Usage | GPU-Util  Compute M. |\r\n",
      "|===============================+======================+======================|\r\n",
      "|   0  GeForce GTX 108...  Off  | 00000000:02:00.0 Off |                  N/A |\r\n",
      "| 23%   29C    P8    17W / 250W |    589MiB / 11172MiB |      0%      Default |\r\n",
      "+-------------------------------+----------------------+----------------------+\r\n",
      "|   1  GeForce GTX 108...  Off  | 00000000:03:00.0 Off |                  N/A |\r\n",
      "| 23%   36C    P8    17W / 250W |     10MiB / 11172MiB |      0%      Default |\r\n",
      "+-------------------------------+----------------------+----------------------+\r\n",
      "                                                                               \r\n",
      "+-----------------------------------------------------------------------------+\r\n",
      "| Processes:                                                       GPU Memory |\r\n",
      "|  GPU       PID   Type   Process name                             Usage      |\r\n",
      "|=============================================================================|\r\n",
      "|    0     23796      C   ...e/virtualenvs/iDST-PMaBuuf7/bin/python3   579MiB |\r\n",
      "+-----------------------------------------------------------------------------+\r\n"
     ]
    }
   ],
   "source": [
    "!nvidia-smi"
   ]
  },
  {
   "cell_type": "markdown",
   "metadata": {},
   "source": [
    "### Import libraries"
   ]
  },
  {
   "cell_type": "code",
   "execution_count": 2,
   "metadata": {},
   "outputs": [
    {
     "name": "stderr",
     "output_type": "stream",
     "text": [
      "[nltk_data] Downloading package punkt to /home/is/andrei-\n",
      "[nltk_data]     cc/nltk_data...\n",
      "[nltk_data]   Package punkt is already up-to-date!\n"
     ]
    },
    {
     "data": {
      "text/html": [
       "<script type=\"text/javascript\">window.PlotlyConfig = {MathJaxConfig: 'local'};</script><script type=\"text/javascript\">if (window.MathJax) {MathJax.Hub.Config({SVG: {font: \"STIX-Web\"}});}</script><script>requirejs.config({paths: { 'plotly': ['https://cdn.plot.ly/plotly-latest.min']},});if(!window._Plotly) {require(['plotly'],function(plotly) {window._Plotly=plotly;});}</script>"
      ],
      "text/vnd.plotly.v1+html": [
       "<script type=\"text/javascript\">window.PlotlyConfig = {MathJaxConfig: 'local'};</script><script type=\"text/javascript\">if (window.MathJax) {MathJax.Hub.Config({SVG: {font: \"STIX-Web\"}});}</script><script>requirejs.config({paths: { 'plotly': ['https://cdn.plot.ly/plotly-latest.min']},});if(!window._Plotly) {require(['plotly'],function(plotly) {window._Plotly=plotly;});}</script>"
      ]
     },
     "metadata": {},
     "output_type": "display_data"
    }
   ],
   "source": [
    "import torch\n",
    "import torch.utils.data\n",
    "import torch.nn as nn\n",
    "import torch.nn.functional as F\n",
    "import torch.optim as optim\n",
    "\n",
    "import copy\n",
    "import numpy as np\n",
    "import time\n",
    "import json\n",
    "import plotly\n",
    "import logging\n",
    "logging.getLogger().setLevel(logging.INFO)\n",
    "\n",
    "from pprint import pprint\n",
    "from tqdm import tqdm_notebook\n",
    "from idst_util import trivial\n",
    "from idst_util import dstc2\n",
    "from dstc2.dstc2_scripts import score\n",
    "\n",
    "from plotly.graph_objs import Scatter, Layout, Histogram, Histogram2d\n",
    "from plotly.graph_objs.layout import Margin\n",
    "plotly.offline.init_notebook_mode(connected = True)"
   ]
  },
  {
   "cell_type": "markdown",
   "metadata": {},
   "source": [
    "### Check DSTC2 availability and retrieve data"
   ]
  },
  {
   "cell_type": "code",
   "execution_count": 3,
   "metadata": {},
   "outputs": [
    {
     "name": "stderr",
     "output_type": "stream",
     "text": [
      "INFO:root:+--------------------------------+\n",
      "INFO:root:|         _ ____  ___________    |\n",
      "INFO:root:|        (_) __ \\/ ___/_  __/    |\n",
      "INFO:root:|       / / / / /\\__ \\ / /       |\n",
      "INFO:root:|      / / /_/ /___/ // /        |\n",
      "INFO:root:|     /_/_____//____//_/         |\n",
      "INFO:root:|                                |\n",
      "INFO:root:+--------------------------------+\n",
      "INFO:root:|Incremental Dialog State Tracker|\n",
      "INFO:root:+--------------------------------+\n",
      "INFO:root:+--------------------------------+\n",
      "INFO:root:|     Dialog State Tracker 2     |\n",
      "INFO:root:|         Data Checker           |\n",
      "INFO:root:+--------------------------------+\n",
      "INFO:root:Looking for dstc2 directory in .\n",
      "INFO:root:dstc2 was found!\n",
      "INFO:root:Looking for dstc2_traindev directory in ./dstc2\n",
      "INFO:root:dstc2_traindev was found!\n",
      "INFO:root:Looking for dstc2_test directory in ./dstc2\n",
      "INFO:root:dstc2_test was found!\n",
      "INFO:root:Looking for dstc2_scripts directory in ./dstc2\n",
      "INFO:root:dstc2_scripts was found!\n",
      "INFO:root:Done!\n",
      "INFO:root:+--------------------------------+\n",
      "INFO:root:|     Dialog State Tracker 2     |\n",
      "INFO:root:|       Dataset Retrieval        |\n",
      "INFO:root:+--------------------------------+\n",
      "INFO:root:Reading dstc2_train.flist, dstc2_dev.flist and ontology_dstc2.json\n",
      "INFO:root:Asserted 1612 dialogs for dstc2_train.flist\n",
      "INFO:root:Asserted 506 dialogs for dstc2_dev.flist\n",
      "INFO:root:Extracting raw train features\n"
     ]
    },
    {
     "data": {
      "application/vnd.jupyter.widget-view+json": {
       "model_id": "ae726381359f453f84ae979de15d90c2",
       "version_major": 2,
       "version_minor": 0
      },
      "text/plain": [
       "HBox(children=(IntProgress(value=0, max=1612), HTML(value='')))"
      ]
     },
     "metadata": {},
     "output_type": "display_data"
    },
    {
     "name": "stderr",
     "output_type": "stream",
     "text": [
      "INFO:root:Extracting raw dev features\n"
     ]
    },
    {
     "name": "stdout",
     "output_type": "stream",
     "text": [
      "\n"
     ]
    },
    {
     "data": {
      "application/vnd.jupyter.widget-view+json": {
       "model_id": "00e1f2e460f641dbb287c7625980a886",
       "version_major": 2,
       "version_minor": 0
      },
      "text/plain": [
       "HBox(children=(IntProgress(value=0, max=506), HTML(value='')))"
      ]
     },
     "metadata": {},
     "output_type": "display_data"
    },
    {
     "name": "stderr",
     "output_type": "stream",
     "text": [
      "INFO:root:Reading dstc2_test.flist\n",
      "INFO:root:Asserted 1117 dialogs for dstc2_test.flist\n",
      "INFO:root:Extracting raw test features\n"
     ]
    },
    {
     "name": "stdout",
     "output_type": "stream",
     "text": [
      "\n"
     ]
    },
    {
     "data": {
      "application/vnd.jupyter.widget-view+json": {
       "model_id": "6c80b55064404a86b5b5aaf1cca5fd06",
       "version_major": 2,
       "version_minor": 0
      },
      "text/plain": [
       "HBox(children=(IntProgress(value=0, max=1117), HTML(value='')))"
      ]
     },
     "metadata": {},
     "output_type": "display_data"
    },
    {
     "name": "stderr",
     "output_type": "stream",
     "text": [
      "INFO:root:Done!\n"
     ]
    },
    {
     "name": "stdout",
     "output_type": "stream",
     "text": [
      "\n"
     ]
    }
   ],
   "source": [
    "trivial.print_idst()\n",
    "\n",
    "dstc2.check()\n",
    "\n",
    "raw_X_train, raw_Y_train, \\\n",
    "raw_X_dev, raw_Y_dev, \\\n",
    "raw_X_test, raw_Y_test, \\\n",
    "ontology = dstc2.retrieve_raw_datasets()"
   ]
  },
  {
   "cell_type": "markdown",
   "metadata": {},
   "source": [
    "### Set device"
   ]
  },
  {
   "cell_type": "code",
   "execution_count": 4,
   "metadata": {},
   "outputs": [
    {
     "name": "stderr",
     "output_type": "stream",
     "text": [
      "INFO:root:+--------------------------------+\n",
      "INFO:root:|             Device             |\n",
      "INFO:root:+--------------------------------+\n",
      "INFO:root:Running on GPU 0\n"
     ]
    }
   ],
   "source": [
    "logging.info(\"+--------------------------------+\")\n",
    "logging.info(\"|             Device             |\")\n",
    "logging.info(\"+--------------------------------+\")\n",
    "\n",
    "GPU_ID = 0\n",
    "DEVICE = torch.device(\"cuda:{}\".format(GPU_ID) if torch.cuda.is_available() else \"cpu\")\n",
    "if str(DEVICE) == \"cpu\":\n",
    "    logging.warning(\"Running on CPU\")\n",
    "else:\n",
    "    logging.info(\"Running on GPU {}\".format(GPU_ID))"
   ]
  },
  {
   "cell_type": "markdown",
   "metadata": {},
   "source": [
    "### Create vocabularies"
   ]
  },
  {
   "cell_type": "code",
   "execution_count": 5,
   "metadata": {},
   "outputs": [
    {
     "name": "stderr",
     "output_type": "stream",
     "text": [
      "INFO:root:+--------------------------------+\n",
      "INFO:root:|          Vocabulary            |\n",
      "INFO:root:+--------------------------------+\n",
      "INFO:root:Creating token_to_index, index_to_token and token_to_count dictionaries\n"
     ]
    },
    {
     "data": {
      "application/vnd.jupyter.widget-view+json": {
       "model_id": "05a7ed35bcea4c86b0ced34558d2034c",
       "version_major": 2,
       "version_minor": 0
      },
      "text/plain": [
       "HBox(children=(IntProgress(value=0, max=1612), HTML(value='')))"
      ]
     },
     "metadata": {},
     "output_type": "display_data"
    },
    {
     "name": "stderr",
     "output_type": "stream",
     "text": [
      "INFO:root:Done!\n"
     ]
    },
    {
     "name": "stdout",
     "output_type": "stream",
     "text": [
      "\n"
     ]
    }
   ],
   "source": [
    "logging.info(\"+--------------------------------+\")\n",
    "logging.info(\"|          Vocabulary            |\")\n",
    "logging.info(\"+--------------------------------+\")\n",
    "logging.info(\"Creating token_to_index, index_to_token and token_to_count dictionaries\")\n",
    "\n",
    "token_to_index = {\"<unk>\": 0}\n",
    "index_to_token = {0: \"<unk>\"}\n",
    "token_to_count = {\"<unk>\": 1}\n",
    "\n",
    "for raw_train_dialog in tqdm_notebook(raw_X_train):\n",
    "    for raw_train_turn in raw_train_dialog[\"turns\"]:\n",
    "        tokens_scores = raw_train_turn[\"system\"] + raw_train_turn[\"user\"]\n",
    "        for token_score in tokens_scores:\n",
    "            token = token_score[0]\n",
    "            if token not in token_to_index:\n",
    "                token_to_index[token] = len(token_to_index)\n",
    "                index_to_token[len(token_to_index)] = token\n",
    "                token_to_count[token] = 1\n",
    "            else:\n",
    "                token_to_count[token] += 1\n",
    "                \n",
    "assert len(token_to_index) == len(index_to_token)\n",
    "assert len(token_to_index) == len(token_to_count)\n",
    "\n",
    "logging.info(\"Done!\")"
   ]
  },
  {
   "cell_type": "markdown",
   "metadata": {},
   "source": [
    "### Execution configuration"
   ]
  },
  {
   "cell_type": "code",
   "execution_count": 6,
   "metadata": {},
   "outputs": [
    {
     "name": "stderr",
     "output_type": "stream",
     "text": [
      "INFO:root:+--------------------------------+\n",
      "INFO:root:|         Configuration          |\n",
      "INFO:root:+--------------------------------+\n",
      "INFO:root:VOCABULARY_SIZE:\t\t\t897\n",
      "INFO:root:GOAL_FOOD_DIM:\t\t\t93\n",
      "INFO:root:GOAL_PRICERANGE_DIM:\t\t\t5\n",
      "INFO:root:GOAL_NAME_DIM:\t\t\t115\n",
      "INFO:root:GOAL_AREA_DIM:\t\t\t7\n",
      "INFO:root:METHOD_DIM:\t\t\t\t5\n",
      "INFO:root:REQUESTED_DIM:\t\t\t8\n",
      "INFO:root:EMBEDDING_DIM:\t\t\t170\n",
      "INFO:root:ALTERED_EMBEDDING_DIM:\t\t300\n",
      "INFO:root:HIDDEN_DIM:\t\t\t\t100\n",
      "INFO:root:NUM_EPOCHS:\t\t\t\t100\n",
      "INFO:root:BATCH_SIZE:\t\t\t\t10\n",
      "INFO:root:PATIENCE:\t\t\t\t4\n",
      "INFO:root:GOAL_LOSS_FUNCTION:\t\t\tCrossEntropyLoss()\n",
      "INFO:root:METHOD_LOSS_FUNCTION:\t\t\tCrossEntropyLoss()\n",
      "INFO:root:REQUESTED_LOSS_FUNCTION:\t\tBCELoss()\n"
     ]
    }
   ],
   "source": [
    "logging.info(\"+--------------------------------+\")\n",
    "logging.info(\"|         Configuration          |\")\n",
    "logging.info(\"+--------------------------------+\")\n",
    "\n",
    "VOCABULARY_SIZE = len(token_to_index)\n",
    "\n",
    "# NOTE: we add +2 because of null and dontcare cases\n",
    "GOAL_FOOD_DIM = len(ontology[\"informable\"][\"food\"]) + 2 \n",
    "GOAL_PRICERANGE_DIM = len(ontology[\"informable\"][\"pricerange\"]) + 2\n",
    "GOAL_NAME_DIM = len(ontology[\"informable\"][\"name\"]) + 2\n",
    "GOAL_AREA_DIM = len(ontology[\"informable\"][\"area\"]) + 2\n",
    "\n",
    "METHOD_DIM = len(ontology[\"method\"])\n",
    "\n",
    "REQUESTED_DIM = len(ontology[\"requestable\"])\n",
    "\n",
    "EMBEDDING_DIM = 170\n",
    "ALTERED_EMBEDDING_DIM = 300\n",
    "HIDDEN_DIM = 100\n",
    "\n",
    "NUM_EPOCHS = 100\n",
    "BATCH_SIZE = 10\n",
    "PATIENCE = 4\n",
    "\n",
    "GOAL_LOSS_FUNCTION = nn.CrossEntropyLoss()\n",
    "METHOD_LOSS_FUNCTION = nn.CrossEntropyLoss()\n",
    "REQUESTED_LOSS_FUNCTION = nn.BCELoss()\n",
    "\n",
    "logging.info(\"VOCABULARY_SIZE:\\t\\t\\t{}\".format(VOCABULARY_SIZE))\n",
    "\n",
    "logging.info(\"GOAL_FOOD_DIM:\\t\\t\\t{}\".format(GOAL_FOOD_DIM))\n",
    "logging.info(\"GOAL_PRICERANGE_DIM:\\t\\t\\t{}\".format(GOAL_PRICERANGE_DIM))\n",
    "logging.info(\"GOAL_NAME_DIM:\\t\\t\\t{}\".format(GOAL_NAME_DIM))\n",
    "logging.info(\"GOAL_AREA_DIM:\\t\\t\\t{}\".format(GOAL_AREA_DIM))\n",
    "\n",
    "logging.info(\"METHOD_DIM:\\t\\t\\t\\t{}\".format(METHOD_DIM))\n",
    "\n",
    "logging.info(\"REQUESTED_DIM:\\t\\t\\t{}\".format(REQUESTED_DIM))\n",
    "\n",
    "logging.info(\"EMBEDDING_DIM:\\t\\t\\t{}\".format(EMBEDDING_DIM))\n",
    "logging.info(\"ALTERED_EMBEDDING_DIM:\\t\\t{}\".format(ALTERED_EMBEDDING_DIM))\n",
    "logging.info(\"HIDDEN_DIM:\\t\\t\\t\\t{}\".format(HIDDEN_DIM))\n",
    "\n",
    "logging.info(\"NUM_EPOCHS:\\t\\t\\t\\t{}\".format(NUM_EPOCHS))\n",
    "logging.info(\"BATCH_SIZE:\\t\\t\\t\\t{}\".format(BATCH_SIZE))\n",
    "logging.info(\"PATIENCE:\\t\\t\\t\\t{}\".format(PATIENCE))\n",
    "\n",
    "logging.info(\"GOAL_LOSS_FUNCTION:\\t\\t\\t{}\".format(GOAL_LOSS_FUNCTION))\n",
    "logging.info(\"METHOD_LOSS_FUNCTION:\\t\\t\\t{}\".format(METHOD_LOSS_FUNCTION))\n",
    "logging.info(\"REQUESTED_LOSS_FUNCTION:\\t\\t{}\".format(REQUESTED_LOSS_FUNCTION))"
   ]
  },
  {
   "cell_type": "markdown",
   "metadata": {},
   "source": [
    "### Utilities"
   ]
  },
  {
   "cell_type": "code",
   "execution_count": 7,
   "metadata": {},
   "outputs": [],
   "source": [
    "def get_index_and_score(turn, token_to_index, mode, device):\n",
    "    \n",
    "    indices = []\n",
    "    scores = []\n",
    "    \n",
    "    if mode == \"train\": # LecTrack 4.3: Out-of-Vocabulary Words\n",
    "        for system_token, system_token_score in turn[\"system\"]:\n",
    "            indices.append(token_to_index[system_token])\n",
    "            scores.append(system_token_score)\n",
    "        for user_token, user_token_score in turn[\"user\"]:\n",
    "            if np.random.binomial(n = 1, p = 0.1) == 1:\n",
    "                indices.append(token_to_index[\"<unk>\"])\n",
    "            else:\n",
    "                indices.append(token_to_index[user_token])\n",
    "            scores.append(user_token_score)\n",
    "    else:\n",
    "        tokens_scores = turn[\"system\"] + turn[\"user\"]\n",
    "        for token, score in tokens_scores:\n",
    "            if token not in token_to_index:\n",
    "                indices.append(token_to_index[\"<unk>\"])\n",
    "            else:\n",
    "                indices.append(token_to_index[token])\n",
    "            scores.append(score)\n",
    "            \n",
    "    assert len(indices) == len(scores)\n",
    "    \n",
    "    return torch.tensor(indices, dtype = torch.long, device = device), torch.tensor(scores, dtype = torch.float, device = device)\n",
    "\n",
    "# --------------------\n",
    "\n",
    "class EarlyStopping():\n",
    "    \n",
    "    def __init__(self, min_delta = 0, patience = 0):\n",
    "        \n",
    "        self.min_delta = min_delta\n",
    "        self.patience = patience\n",
    "        self.wait = 0\n",
    "        self.stopped_epoch = 0\n",
    "        self.best = -np.Inf\n",
    "        self.stop_training = False\n",
    "    \n",
    "    def on_epoch_end(self, epoch, current_value):\n",
    "        if np.greater((current_value - self.min_delta), self.best):\n",
    "            self.best = current_value\n",
    "            self.wait = 0\n",
    "        else:\n",
    "            self.wait += 1\n",
    "            if self.wait > self.patience:\n",
    "                self.stopped_epoch = epoch\n",
    "                self.stop_training = True\n",
    "        return self.stop_training\n",
    "\n",
    "# --------------------\n",
    "    \n",
    "def get_incremental_index_and_percentage(percentage, length):\n",
    "    \n",
    "    incremental_index = -1\n",
    "    new_percentage = None\n",
    "    \n",
    "    if length != 0:\n",
    "        incremental_index = int(np.around(percentage * length)) - 1\n",
    "        new_percentage = np.around(((incremental_index + 1) / length), decimals = 2)\n",
    "    \n",
    "    return incremental_index, new_percentage\n",
    "\n",
    "# --------------------\n",
    "\n",
    "def make_tracker(model_All, raw_X, raw_Y, dataset, percentage = 1.0):\n",
    "    \n",
    "    model_All = model_All.eval()\n",
    "    \n",
    "    percentage_points = []\n",
    "    \n",
    "    with torch.no_grad():\n",
    "        tracker_json = {}\n",
    "        tracker_json[\"dataset\"] = dataset\n",
    "        tracker_json[\"sessions\"] = []\n",
    "\n",
    "        start_time = time.time()\n",
    "        \n",
    "        for raw_X_dialog, raw_Y_dialog in tqdm_notebook(zip(raw_X, raw_Y), total = len(raw_X)):\n",
    "            \n",
    "            model_All.hidden = model_All.init_hidden()\n",
    "            \n",
    "            session = {}\n",
    "            session[\"session-id\"] = raw_X_dialog[\"session-id\"]\n",
    "            session[\"turns\"] = []\n",
    "\n",
    "            for turn_num, (raw_X_turn, raw_Y_turn) in enumerate(zip(raw_X_dialog[\"turns\"], raw_Y_dialog[\"turns\"])):\n",
    "\n",
    "                indices, scores = get_index_and_score(raw_X_turn, token_to_index, mode = \"eval\", device = DEVICE)\n",
    "                \n",
    "                # NOTE: percentage is based on user utterance\n",
    "                incremental_index, new_percentage_point = get_incremental_index_and_percentage(percentage = percentage, length = len(raw_X_turn[\"user\"]))\n",
    "                incremental_index += len(raw_X_turn[\"system\"])\n",
    "                if new_percentage_point != None:\n",
    "                    percentage_points.append(new_percentage_point)\n",
    "                \n",
    "                goal_priceranges, goal_areas, goal_names, goal_foods, requesteds, methods = model_All(indices, scores)\n",
    "                goal_pricerange = goal_priceranges[incremental_index]\n",
    "                goal_name = goal_names[incremental_index]\n",
    "                goal_area = goal_areas[incremental_index]\n",
    "                goal_food = goal_foods[incremental_index]\n",
    "                requested = requesteds[incremental_index]\n",
    "                method = methods[incremental_index]\n",
    "                \n",
    "                turn = {}\n",
    "                turn[\"num\"] = turn_num\n",
    "                turn[\"goal-labels\"] = {}\n",
    "                turn[\"goal-labels\"][\"food\"] = retrieve_output_GoalFood(goal_food, ontology)\n",
    "                turn[\"goal-labels\"][\"pricerange\"] = retrieve_output_GoalPricerange(goal_pricerange, ontology)\n",
    "                turn[\"goal-labels\"][\"name\"] = retrieve_output_GoalName(goal_name, ontology)\n",
    "                turn[\"goal-labels\"][\"area\"] = retrieve_output_GoalArea(goal_area, ontology)\n",
    "                turn[\"requested-slots\"] = retrieve_output_Requested(requested, ontology)\n",
    "                turn[\"method-label\"] = retrieve_output_Method(method, ontology)\n",
    "                \n",
    "                session[\"turns\"].append(turn)\n",
    "                \n",
    "            tracker_json[\"sessions\"].append(session)\n",
    "            \n",
    "        end_time = time.time()\n",
    "        tracker_json[\"wall-time\"] = end_time - start_time\n",
    "        \n",
    "        return tracker_json, np.around(np.mean(np.array(percentage_points)), decimals = 2)\n",
    "\n",
    "# --------------------\n",
    "    \n",
    "def get_scores(tracker, dataset, ontology):\n",
    "    \n",
    "    scores_dict = None\n",
    "\n",
    "    if dataset == \"dstc2_train\":\n",
    "        scores_dict = score.compute_score(dataset = \"dstc2_train\", dataroot = \"dstc2/dstc2_traindev/data\", tracker_output = tracker, ontology = ontology)\n",
    "    elif dataset == \"dstc2_dev\":\n",
    "        scores_dict = score.compute_score(dataset = \"dstc2_dev\", dataroot = \"dstc2/dstc2_traindev/data\", tracker_output = tracker, ontology = ontology)\n",
    "    else: # dataset == \"dstc2_test\"\n",
    "        scores_dict = score.compute_score(dataset = \"dstc2_test\", dataroot = \"dstc2/dstc2_test/data\", tracker_output = tracker, ontology = ontology)\n",
    "            \n",
    "    return scores_dict\n",
    "\n",
    "# --------------------\n",
    "\n",
    "def retrieve_gold_GoalPricerange(raw_Y, ontology, device):\n",
    "    ontology_informable_pricerange = ontology[\"informable\"][\"pricerange\"]\n",
    "    raw_goal_pricerange = raw_Y[\"goal\"][\"pricerange\"]\n",
    "    goal_pricerange = 0\n",
    "    if raw_goal_pricerange != None:\n",
    "        if raw_goal_pricerange == \"dontcare\":\n",
    "            goal_pricerange = 1\n",
    "        else:    \n",
    "            goal_pricerange = ontology_informable_pricerange.index(raw_goal_pricerange) + 2\n",
    "    return torch.tensor([goal_pricerange], dtype = torch.long, device = device)\n",
    "\n",
    "def retrieve_output_GoalPricerange(output_tensor, ontology):\n",
    "    ontology_informable_pricerange = ontology[\"informable\"][\"pricerange\"]\n",
    "    output_tensor = output_tensor.view(-1)\n",
    "    output_tensor = torch.exp(output_tensor)\n",
    "    goal_pricerange_dict = {}\n",
    "    goal_pricerange_dict[\"dontcare\"] = output_tensor[1].item()\n",
    "    for index in range(len(output_tensor) - 2):     \n",
    "        goal_pricerange_dict[ontology_informable_pricerange[index]] = output_tensor[index + 2].item()\n",
    "    return goal_pricerange_dict\n",
    "\n",
    "# --------------------\n",
    "\n",
    "def retrieve_gold_GoalArea(raw_Y, ontology, device):\n",
    "    ontology_informable_area = ontology[\"informable\"][\"area\"]\n",
    "    raw_goal_area = raw_Y[\"goal\"][\"area\"]\n",
    "    goal_area = 0\n",
    "    if raw_goal_area != None:\n",
    "        if raw_goal_area == \"dontcare\":\n",
    "            goal_area = 1\n",
    "        else:    \n",
    "            goal_area = ontology_informable_area.index(raw_goal_area) + 2\n",
    "    return torch.tensor([goal_area], dtype = torch.long, device = device)\n",
    "\n",
    "def retrieve_output_GoalArea(output_tensor, ontology):\n",
    "    ontology_informable_area = ontology[\"informable\"][\"area\"]\n",
    "    output_tensor = output_tensor.view(-1)\n",
    "    output_tensor = torch.exp(output_tensor)\n",
    "    goal_area_dict = {}\n",
    "    goal_area_dict[\"dontcare\"] = output_tensor[1].item()\n",
    "    for index in range(len(output_tensor) - 2):\n",
    "        goal_area_dict[ontology_informable_area[index]] = output_tensor[index + 2].item()\n",
    "    return goal_area_dict\n",
    "\n",
    "# --------------------\n",
    "\n",
    "def retrieve_gold_GoalName(raw_Y, ontology, device):\n",
    "    ontology_informable_name = ontology[\"informable\"][\"name\"]\n",
    "    raw_goal_name = raw_Y[\"goal\"][\"name\"]\n",
    "    goal_name = 0\n",
    "    if raw_goal_name != None:\n",
    "        if raw_goal_name == \"dontcare\":\n",
    "            goal_name = 1\n",
    "        else:    \n",
    "            goal_name = ontology_informable_name.index(raw_goal_name) + 2\n",
    "    return torch.tensor([goal_name], dtype = torch.long, device = device)\n",
    "\n",
    "def retrieve_output_GoalName(output_tensor, ontology):\n",
    "    ontology_informable_name = ontology[\"informable\"][\"name\"]\n",
    "    output_tensor = output_tensor.view(-1)\n",
    "    output_tensor = torch.exp(output_tensor)\n",
    "    goal_name_dict = {}\n",
    "    goal_name_dict[\"dontcare\"] = output_tensor[1].item()\n",
    "    for index in range(len(output_tensor) - 2):\n",
    "        goal_name_dict[ontology_informable_name[index]] = output_tensor[index + 2].item()\n",
    "    return goal_name_dict\n",
    "\n",
    "# --------------------\n",
    "\n",
    "def retrieve_gold_GoalFood(raw_Y, ontology, device):\n",
    "    ontology_informable_food = ontology[\"informable\"][\"food\"]\n",
    "    raw_goal_food = raw_Y[\"goal\"][\"food\"]\n",
    "    goal_food = 0\n",
    "    if raw_goal_food != None:\n",
    "        if raw_goal_food == \"dontcare\":\n",
    "            goal_food = 1\n",
    "        else:    \n",
    "            goal_food = ontology_informable_food.index(raw_goal_food) + 2\n",
    "    return torch.tensor([goal_food], dtype = torch.long, device = device)\n",
    "\n",
    "def retrieve_output_GoalFood(output_tensor, ontology):\n",
    "    ontology_informable_food = ontology[\"informable\"][\"food\"]\n",
    "    output_tensor = output_tensor.view(-1)\n",
    "    output_tensor = torch.exp(output_tensor)\n",
    "    goal_food_dict = {}\n",
    "    goal_food_dict[\"dontcare\"] = output_tensor[1].item() \n",
    "    for index in range(len(output_tensor) - 2):\n",
    "        goal_food_dict[ontology_informable_food[index]] = output_tensor[index + 2].item()\n",
    "    return goal_food_dict\n",
    "\n",
    "# --------------------\n",
    "\n",
    "def retrieve_gold_Requested(raw_Y, ontology, device):\n",
    "    ontology_requestable = ontology[\"requestable\"]\n",
    "    raw_gold_requested = raw_Y[\"requested\"]\n",
    "    gold_requested = np.zeros(len(ontology_requestable), dtype = float)\n",
    "    if len(raw_gold_requested) != 0:\n",
    "        for requested in raw_gold_requested:\n",
    "            gold_requested[ontology_requestable.index(requested)] = 1.0\n",
    "    return torch.tensor([gold_requested], dtype = torch.float, device = device)\n",
    "\n",
    "def retrieve_output_Requested(output_tensor, ontology):\n",
    "    ontology_requestable = ontology[\"requestable\"]\n",
    "    output_tensor = output_tensor.view(-1)\n",
    "    requested_dict = {}\n",
    "    for index in range(len(output_tensor)):\n",
    "        probability_value = output_tensor[index].item()\n",
    "        requested_dict[ontology_requestable[index]] = probability_value\n",
    "    return requested_dict\n",
    "\n",
    "# --------------------\n",
    "\n",
    "def retrieve_gold_Method(raw_Y, ontology, device):\n",
    "    ontology_method = ontology[\"method\"]\n",
    "    raw_gold_method = raw_Y[\"method\"]\n",
    "    gold_method = ontology_method.index(raw_gold_method)\n",
    "    return torch.tensor([gold_method], dtype = torch.long, device = device)\n",
    "\n",
    "def retrieve_output_Method(output_tensor, ontology):\n",
    "    ontology_method = ontology[\"method\"]\n",
    "    output_tensor = output_tensor.view(-1)\n",
    "    output_tensor = torch.exp(output_tensor)\n",
    "    method_dict = {}\n",
    "    for index in range(len(output_tensor)):\n",
    "        method_dict[ontology_method[index]] = output_tensor[index].item()\n",
    "    return method_dict"
   ]
  },
  {
   "cell_type": "markdown",
   "metadata": {},
   "source": [
    "### iDST All Model"
   ]
  },
  {
   "cell_type": "code",
   "execution_count": 8,
   "metadata": {},
   "outputs": [],
   "source": [
    "class iDSTAllModel(nn.Module):\n",
    "    \n",
    "    def __init__(self, vocabulary_size, embedding_dim, altered_embedding_dim, hidden_dim,\n",
    "                 goal_pricerange_dim, goal_area_dim, goal_name_dim, goal_food_dim, requested_dim, method_dim, device):\n",
    "        super(iDSTAllModel, self).__init__()\n",
    "        self.hidden_dim = hidden_dim\n",
    "        self.device = device\n",
    "        self.goal_pricerange_dim = goal_pricerange_dim\n",
    "        self.goal_area_dim = goal_area_dim\n",
    "        self.goal_name_dim = goal_name_dim\n",
    "        self.goal_food_dim = goal_food_dim\n",
    "        self.requested_dim = requested_dim\n",
    "        self.method_dim = method_dim\n",
    "        self.embeddings = nn.Embedding(num_embeddings = vocabulary_size, embedding_dim = embedding_dim)\n",
    "        self.altered_embeddings = nn.Linear(in_features = (embedding_dim + 1), out_features = altered_embedding_dim) # +1 for the ASR-score\n",
    "        self.lstm = nn.LSTM(input_size = altered_embedding_dim, hidden_size = hidden_dim)\n",
    "        self.goal_pricerange_classifier = nn.Linear(in_features = hidden_dim, out_features = goal_pricerange_dim)\n",
    "        self.goal_area_classifier = nn.Linear(in_features = hidden_dim, out_features = goal_area_dim)\n",
    "        self.goal_name_classifier = nn.Linear(in_features = hidden_dim, out_features = goal_name_dim)\n",
    "        self.goal_food_classifier = nn.Linear(in_features = hidden_dim, out_features = goal_food_dim)\n",
    "        self.requested_classifier = nn.Linear(in_features = hidden_dim, out_features = requested_dim)\n",
    "        self.method_classifier = nn.Linear(in_features = hidden_dim, out_features = method_dim)\n",
    "        self.hidden = self.init_hidden()\n",
    "\n",
    "    def init_hidden(self):\n",
    "        return (torch.zeros(1, 1, self.hidden_dim, device = self.device),\n",
    "                torch.zeros(1, 1, self.hidden_dim, device = self.device))\n",
    "\n",
    "    def forward(self, indices, scores):\n",
    "        embeddings = self.embeddings(indices)\n",
    "        embeddings_concat_score = torch.cat((embeddings, scores.unsqueeze(dim = 1)), dim = 1) \n",
    "        altered_embeddings = F.relu(self.altered_embeddings(embeddings_concat_score))\n",
    "        lstm_out, self.hidden = self.lstm(altered_embeddings.view(len(indices), 1, -1), self.hidden)\n",
    "        goal_pricerange_output = F.log_softmax(self.goal_pricerange_classifier(lstm_out).view(-1, self.goal_pricerange_dim), dim = 1)\n",
    "        goal_area_output = F.log_softmax(self.goal_area_classifier(lstm_out).view(-1, self.goal_area_dim), dim = 1)\n",
    "        goal_name_output = F.log_softmax(self.goal_name_classifier(lstm_out).view(-1, self.goal_name_dim), dim = 1)\n",
    "        goal_food_output = F.log_softmax(self.goal_food_classifier(lstm_out).view(-1, self.goal_food_dim), dim = 1)\n",
    "        requested_output = torch.sigmoid(self.requested_classifier(lstm_out).view(-1, self.requested_dim))\n",
    "        method_output = F.log_softmax(self.method_classifier(lstm_out).view(-1, self.method_dim), dim = 1)\n",
    "        return goal_pricerange_output, goal_area_output, goal_name_output, goal_food_output, requested_output, method_output"
   ]
  },
  {
   "cell_type": "markdown",
   "metadata": {},
   "source": [
    "### All Model"
   ]
  },
  {
   "cell_type": "code",
   "execution_count": 9,
   "metadata": {},
   "outputs": [],
   "source": [
    "model_All = iDSTAllModel(vocabulary_size = VOCABULARY_SIZE,\n",
    "                         embedding_dim = EMBEDDING_DIM,\n",
    "                         altered_embedding_dim = ALTERED_EMBEDDING_DIM,\n",
    "                         hidden_dim = HIDDEN_DIM,\n",
    "                         goal_pricerange_dim = GOAL_PRICERANGE_DIM,\n",
    "                         goal_area_dim = GOAL_AREA_DIM,\n",
    "                         goal_name_dim = GOAL_NAME_DIM,\n",
    "                         goal_food_dim = GOAL_FOOD_DIM,\n",
    "                         requested_dim = REQUESTED_DIM,\n",
    "                         method_dim = METHOD_DIM,\n",
    "                         device = DEVICE).to(DEVICE)\n",
    "optimizer_All = optim.Adam(model_All.parameters(), lr = 1e-3, amsgrad = True) "
   ]
  },
  {
   "cell_type": "markdown",
   "metadata": {},
   "source": [
    "### Train iDST All Model"
   ]
  },
  {
   "cell_type": "code",
   "execution_count": 10,
   "metadata": {
    "scrolled": false
   },
   "outputs": [
    {
     "name": "stderr",
     "output_type": "stream",
     "text": [
      "INFO:root:Epoch\t1/100\n"
     ]
    },
    {
     "data": {
      "application/vnd.jupyter.widget-view+json": {
       "model_id": "ddf3643af83c4776aba5e93524bde783",
       "version_major": 2,
       "version_minor": 0
      },
      "text/plain": [
       "HBox(children=(IntProgress(value=0, max=162), HTML(value='')))"
      ]
     },
     "metadata": {},
     "output_type": "display_data"
    },
    {
     "name": "stdout",
     "output_type": "stream",
     "text": [
      "\n"
     ]
    },
    {
     "data": {
      "application/vnd.jupyter.widget-view+json": {
       "model_id": "64a45c2be496473fa1c914ff2ecd8040",
       "version_major": 2,
       "version_minor": 0
      },
      "text/plain": [
       "HBox(children=(IntProgress(value=0, max=506), HTML(value='')))"
      ]
     },
     "metadata": {},
     "output_type": "display_data"
    },
    {
     "name": "stdout",
     "output_type": "stream",
     "text": [
      "\n"
     ]
    },
    {
     "name": "stderr",
     "output_type": "stream",
     "text": [
      "INFO:root:{'goal_food_accuracy': 0.1794274, 'goal_food_l2': 0.904136, 'goal_pricerange_accuracy': 0.3438373, 'goal_pricerange_l2': 0.7788252, 'goal_name_accuracy': 0.9065421, 'goal_name_l2': 0.1852795, 'goal_area_accuracy': 0.2961965, 'goal_area_l2': 0.78379, 'goal_joint_accuracy': 0.0573514, 'goal_joint_l2': 0.9873674, 'requested_all_accuracy': 0.6004327, 'requested_all_l2': 0.664727, 'method_accuracy': 0.7899638, 'method_l2': 0.3457163}\n",
      "INFO:root:Epoch\t2/100\n"
     ]
    },
    {
     "data": {
      "application/vnd.jupyter.widget-view+json": {
       "model_id": "858255ff89334145b3a22fe62d317ac8",
       "version_major": 2,
       "version_minor": 0
      },
      "text/plain": [
       "HBox(children=(IntProgress(value=0, max=162), HTML(value='')))"
      ]
     },
     "metadata": {},
     "output_type": "display_data"
    },
    {
     "name": "stdout",
     "output_type": "stream",
     "text": [
      "\n"
     ]
    },
    {
     "data": {
      "application/vnd.jupyter.widget-view+json": {
       "model_id": "22ea257a8f7e463eabe061fddbf6cbe4",
       "version_major": 2,
       "version_minor": 0
      },
      "text/plain": [
       "HBox(children=(IntProgress(value=0, max=506), HTML(value='')))"
      ]
     },
     "metadata": {},
     "output_type": "display_data"
    },
    {
     "name": "stdout",
     "output_type": "stream",
     "text": [
      "\n"
     ]
    },
    {
     "name": "stderr",
     "output_type": "stream",
     "text": [
      "INFO:root:{'goal_food_accuracy': 0.2237017, 'goal_food_l2': 0.8669971, 'goal_pricerange_accuracy': 0.6713203, 'goal_pricerange_l2': 0.5439237, 'goal_name_accuracy': 0.9065421, 'goal_name_l2': 0.1852623, 'goal_area_accuracy': 0.5142258, 'goal_area_l2': 0.6812801, 'goal_joint_accuracy': 0.1631908, 'goal_joint_l2': 0.9615847, 'requested_all_accuracy': 0.6004327, 'requested_all_l2': 0.6152298, 'method_accuracy': 0.7969477, 'method_l2': 0.3118477}\n",
      "INFO:root:Epoch\t3/100\n"
     ]
    },
    {
     "data": {
      "application/vnd.jupyter.widget-view+json": {
       "model_id": "03cd61457fc44a099354fec5cc2bf01c",
       "version_major": 2,
       "version_minor": 0
      },
      "text/plain": [
       "HBox(children=(IntProgress(value=0, max=162), HTML(value='')))"
      ]
     },
     "metadata": {},
     "output_type": "display_data"
    },
    {
     "name": "stdout",
     "output_type": "stream",
     "text": [
      "\n"
     ]
    },
    {
     "data": {
      "application/vnd.jupyter.widget-view+json": {
       "model_id": "2f721c2ea0dc4ee597506efe69a8e904",
       "version_major": 2,
       "version_minor": 0
      },
      "text/plain": [
       "HBox(children=(IntProgress(value=0, max=506), HTML(value='')))"
      ]
     },
     "metadata": {},
     "output_type": "display_data"
    },
    {
     "name": "stdout",
     "output_type": "stream",
     "text": [
      "\n"
     ]
    },
    {
     "name": "stderr",
     "output_type": "stream",
     "text": [
      "INFO:root:{'goal_food_accuracy': 0.3049268, 'goal_food_l2': 0.8451595, 'goal_pricerange_accuracy': 0.6980455, 'goal_pricerange_l2': 0.4582337, 'goal_name_accuracy': 0.9065421, 'goal_name_l2': 0.1849616, 'goal_area_accuracy': 0.7187781, 'goal_area_l2': 0.5227894, 'goal_joint_accuracy': 0.2546924, 'goal_joint_l2': 0.9200817, 'requested_all_accuracy': 0.6004327, 'requested_all_l2': 0.6363887, 'method_accuracy': 0.8039317, 'method_l2': 0.2810991}\n",
      "INFO:root:Epoch\t4/100\n"
     ]
    },
    {
     "data": {
      "application/vnd.jupyter.widget-view+json": {
       "model_id": "a887d1e9f6f34bf5b765ec58b3259ab9",
       "version_major": 2,
       "version_minor": 0
      },
      "text/plain": [
       "HBox(children=(IntProgress(value=0, max=162), HTML(value='')))"
      ]
     },
     "metadata": {},
     "output_type": "display_data"
    },
    {
     "name": "stdout",
     "output_type": "stream",
     "text": [
      "\n"
     ]
    },
    {
     "data": {
      "application/vnd.jupyter.widget-view+json": {
       "model_id": "78c56dd517f94856a1276bad0d7bf8f4",
       "version_major": 2,
       "version_minor": 0
      },
      "text/plain": [
       "HBox(children=(IntProgress(value=0, max=506), HTML(value='')))"
      ]
     },
     "metadata": {},
     "output_type": "display_data"
    },
    {
     "name": "stdout",
     "output_type": "stream",
     "text": [
      "\n"
     ]
    },
    {
     "name": "stderr",
     "output_type": "stream",
     "text": [
      "INFO:root:{'goal_food_accuracy': 0.349534, 'goal_food_l2': 0.8096147, 'goal_pricerange_accuracy': 0.832868, 'goal_pricerange_l2': 0.2894157, 'goal_name_accuracy': 0.9065421, 'goal_name_l2': 0.1848635, 'goal_area_accuracy': 0.7604073, 'goal_area_l2': 0.4331716, 'goal_joint_accuracy': 0.30683, 'goal_joint_l2': 0.874074, 'requested_all_accuracy': 0.6004327, 'requested_all_l2': 0.5705887, 'method_accuracy': 0.8259183, 'method_l2': 0.2733262}\n",
      "INFO:root:Epoch\t5/100\n"
     ]
    },
    {
     "data": {
      "application/vnd.jupyter.widget-view+json": {
       "model_id": "20d20b3eb9ea4b689412e88c98ddf559",
       "version_major": 2,
       "version_minor": 0
      },
      "text/plain": [
       "HBox(children=(IntProgress(value=0, max=162), HTML(value='')))"
      ]
     },
     "metadata": {},
     "output_type": "display_data"
    },
    {
     "name": "stdout",
     "output_type": "stream",
     "text": [
      "\n"
     ]
    },
    {
     "data": {
      "application/vnd.jupyter.widget-view+json": {
       "model_id": "a2ddd9a0158a4946a4db664f68276600",
       "version_major": 2,
       "version_minor": 0
      },
      "text/plain": [
       "HBox(children=(IntProgress(value=0, max=506), HTML(value='')))"
      ]
     },
     "metadata": {},
     "output_type": "display_data"
    },
    {
     "name": "stdout",
     "output_type": "stream",
     "text": [
      "\n"
     ]
    },
    {
     "name": "stderr",
     "output_type": "stream",
     "text": [
      "INFO:root:{'goal_food_accuracy': 0.4094541, 'goal_food_l2': 0.7781223, 'goal_pricerange_accuracy': 0.812126, 'goal_pricerange_l2': 0.28794, 'goal_name_accuracy': 0.9065421, 'goal_name_l2': 0.1851325, 'goal_area_accuracy': 0.753519, 'goal_area_l2': 0.3946339, 'goal_joint_accuracy': 0.3373306, 'goal_joint_l2': 0.8439496, 'requested_all_accuracy': 0.6004327, 'requested_all_l2': 0.5682468, 'method_accuracy': 0.8375582, 'method_l2': 0.246441}\n",
      "INFO:root:Epoch\t6/100\n"
     ]
    },
    {
     "data": {
      "application/vnd.jupyter.widget-view+json": {
       "model_id": "1466e8259de2478e820974b520b956d5",
       "version_major": 2,
       "version_minor": 0
      },
      "text/plain": [
       "HBox(children=(IntProgress(value=0, max=162), HTML(value='')))"
      ]
     },
     "metadata": {},
     "output_type": "display_data"
    },
    {
     "name": "stdout",
     "output_type": "stream",
     "text": [
      "\n"
     ]
    },
    {
     "data": {
      "application/vnd.jupyter.widget-view+json": {
       "model_id": "7fdd88579fda41aab8aea26522be0136",
       "version_major": 2,
       "version_minor": 0
      },
      "text/plain": [
       "HBox(children=(IntProgress(value=0, max=506), HTML(value='')))"
      ]
     },
     "metadata": {},
     "output_type": "display_data"
    },
    {
     "name": "stdout",
     "output_type": "stream",
     "text": [
      "\n"
     ]
    },
    {
     "name": "stderr",
     "output_type": "stream",
     "text": [
      "INFO:root:{'goal_food_accuracy': 0.4733688, 'goal_food_l2': 0.7309267, 'goal_pricerange_accuracy': 0.8236937, 'goal_pricerange_l2': 0.2656325, 'goal_name_accuracy': 0.9065421, 'goal_name_l2': 0.1852007, 'goal_area_accuracy': 0.7849656, 'goal_area_l2': 0.3555857, 'goal_joint_accuracy': 0.3852972, 'goal_joint_l2': 0.8116501, 'requested_all_accuracy': 0.6051208, 'requested_all_l2': 0.5099557, 'method_accuracy': 0.8484221, 'method_l2': 0.2420555}\n",
      "INFO:root:Epoch\t7/100\n"
     ]
    },
    {
     "data": {
      "application/vnd.jupyter.widget-view+json": {
       "model_id": "b13dbfc1f8c4419d8c3d6bfdb787fe8a",
       "version_major": 2,
       "version_minor": 0
      },
      "text/plain": [
       "HBox(children=(IntProgress(value=0, max=162), HTML(value='')))"
      ]
     },
     "metadata": {},
     "output_type": "display_data"
    },
    {
     "name": "stdout",
     "output_type": "stream",
     "text": [
      "\n"
     ]
    },
    {
     "data": {
      "application/vnd.jupyter.widget-view+json": {
       "model_id": "baa55a9acba0432898534128ca3a3e1c",
       "version_major": 2,
       "version_minor": 0
      },
      "text/plain": [
       "HBox(children=(IntProgress(value=0, max=506), HTML(value='')))"
      ]
     },
     "metadata": {},
     "output_type": "display_data"
    },
    {
     "name": "stdout",
     "output_type": "stream",
     "text": [
      "\n"
     ]
    },
    {
     "name": "stderr",
     "output_type": "stream",
     "text": [
      "INFO:root:{'goal_food_accuracy': 0.5129827, 'goal_food_l2': 0.6972842, 'goal_pricerange_accuracy': 0.808935, 'goal_pricerange_l2': 0.2767995, 'goal_name_accuracy': 0.9065421, 'goal_name_l2': 0.1855178, 'goal_area_accuracy': 0.8008386, 'goal_area_l2': 0.3173957, 'goal_joint_accuracy': 0.4053702, 'goal_joint_l2': 0.7941512, 'requested_all_accuracy': 0.605842, 'requested_all_l2': 0.5063281, 'method_accuracy': 0.8484221, 'method_l2': 0.2401268}\n",
      "INFO:root:Epoch\t8/100\n"
     ]
    },
    {
     "data": {
      "application/vnd.jupyter.widget-view+json": {
       "model_id": "777ad8e3bfb547a594ee3f10ae4bae79",
       "version_major": 2,
       "version_minor": 0
      },
      "text/plain": [
       "HBox(children=(IntProgress(value=0, max=162), HTML(value='')))"
      ]
     },
     "metadata": {},
     "output_type": "display_data"
    },
    {
     "name": "stdout",
     "output_type": "stream",
     "text": [
      "\n"
     ]
    },
    {
     "data": {
      "application/vnd.jupyter.widget-view+json": {
       "model_id": "0a3192c2cf2c4d4ca55d60c2cce803b8",
       "version_major": 2,
       "version_minor": 0
      },
      "text/plain": [
       "HBox(children=(IntProgress(value=0, max=506), HTML(value='')))"
      ]
     },
     "metadata": {},
     "output_type": "display_data"
    },
    {
     "name": "stdout",
     "output_type": "stream",
     "text": [
      "\n"
     ]
    },
    {
     "name": "stderr",
     "output_type": "stream",
     "text": [
      "INFO:root:{'goal_food_accuracy': 0.554261, 'goal_food_l2': 0.6627138, 'goal_pricerange_accuracy': 0.8368568, 'goal_pricerange_l2': 0.2523495, 'goal_name_accuracy': 0.9065421, 'goal_name_l2': 0.1847706, 'goal_area_accuracy': 0.7915544, 'goal_area_l2': 0.3232612, 'goal_joint_accuracy': 0.4306569, 'goal_joint_l2': 0.7751808, 'requested_all_accuracy': 0.608727, 'requested_all_l2': 0.4905326, 'method_accuracy': 0.8517848, 'method_l2': 0.2369352}\n",
      "INFO:root:Epoch\t9/100\n"
     ]
    },
    {
     "data": {
      "application/vnd.jupyter.widget-view+json": {
       "model_id": "8eddff0ffd7d443595b3087c18f6f6d9",
       "version_major": 2,
       "version_minor": 0
      },
      "text/plain": [
       "HBox(children=(IntProgress(value=0, max=162), HTML(value='')))"
      ]
     },
     "metadata": {},
     "output_type": "display_data"
    },
    {
     "name": "stdout",
     "output_type": "stream",
     "text": [
      "\n"
     ]
    },
    {
     "data": {
      "application/vnd.jupyter.widget-view+json": {
       "model_id": "507185bf9d4145a6821e248628c8cf41",
       "version_major": 2,
       "version_minor": 0
      },
      "text/plain": [
       "HBox(children=(IntProgress(value=0, max=506), HTML(value='')))"
      ]
     },
     "metadata": {},
     "output_type": "display_data"
    },
    {
     "name": "stdout",
     "output_type": "stream",
     "text": [
      "\n"
     ]
    },
    {
     "name": "stderr",
     "output_type": "stream",
     "text": [
      "INFO:root:{'goal_food_accuracy': 0.590213, 'goal_food_l2': 0.6199431, 'goal_pricerange_accuracy': 0.8432389, 'goal_pricerange_l2': 0.2307587, 'goal_name_accuracy': 0.9065421, 'goal_name_l2': 0.1853583, 'goal_area_accuracy': 0.7957472, 'goal_area_l2': 0.3144737, 'goal_joint_accuracy': 0.463243, 'goal_joint_l2': 0.7407954, 'requested_all_accuracy': 0.6300036, 'requested_all_l2': 0.4593794, 'method_accuracy': 0.8559234, 'method_l2': 0.2298423}\n",
      "INFO:root:Epoch\t10/100\n"
     ]
    },
    {
     "data": {
      "application/vnd.jupyter.widget-view+json": {
       "model_id": "faba34b85e3d471b91ccb56e68f9c563",
       "version_major": 2,
       "version_minor": 0
      },
      "text/plain": [
       "HBox(children=(IntProgress(value=0, max=162), HTML(value='')))"
      ]
     },
     "metadata": {},
     "output_type": "display_data"
    },
    {
     "name": "stdout",
     "output_type": "stream",
     "text": [
      "\n"
     ]
    },
    {
     "data": {
      "application/vnd.jupyter.widget-view+json": {
       "model_id": "65ded1f332914e9f9b124b08a578e9cc",
       "version_major": 2,
       "version_minor": 0
      },
      "text/plain": [
       "HBox(children=(IntProgress(value=0, max=506), HTML(value='')))"
      ]
     },
     "metadata": {},
     "output_type": "display_data"
    },
    {
     "name": "stdout",
     "output_type": "stream",
     "text": [
      "\n"
     ]
    },
    {
     "name": "stderr",
     "output_type": "stream",
     "text": [
      "INFO:root:{'goal_food_accuracy': 0.5955393, 'goal_food_l2': 0.5958338, 'goal_pricerange_accuracy': 0.8492222, 'goal_pricerange_l2': 0.2276292, 'goal_name_accuracy': 0.9065421, 'goal_name_l2': 0.1846165, 'goal_area_accuracy': 0.8119197, 'goal_area_l2': 0.2986329, 'goal_joint_accuracy': 0.4627216, 'goal_joint_l2': 0.7321948, 'requested_all_accuracy': 0.6584926, 'requested_all_l2': 0.4364998, 'method_accuracy': 0.8528195, 'method_l2': 0.2355973}\n",
      "INFO:root:Epoch\t11/100\n"
     ]
    },
    {
     "data": {
      "application/vnd.jupyter.widget-view+json": {
       "model_id": "43c45a3f2ac54d009f44d9f84e3c7dc9",
       "version_major": 2,
       "version_minor": 0
      },
      "text/plain": [
       "HBox(children=(IntProgress(value=0, max=162), HTML(value='')))"
      ]
     },
     "metadata": {},
     "output_type": "display_data"
    },
    {
     "name": "stdout",
     "output_type": "stream",
     "text": [
      "\n"
     ]
    },
    {
     "data": {
      "application/vnd.jupyter.widget-view+json": {
       "model_id": "c86fb17aa86f410baa578661cdd51bf8",
       "version_major": 2,
       "version_minor": 0
      },
      "text/plain": [
       "HBox(children=(IntProgress(value=0, max=506), HTML(value='')))"
      ]
     },
     "metadata": {},
     "output_type": "display_data"
    },
    {
     "name": "stdout",
     "output_type": "stream",
     "text": [
      "\n"
     ]
    },
    {
     "name": "stderr",
     "output_type": "stream",
     "text": [
      "INFO:root:{'goal_food_accuracy': 0.620506, 'goal_food_l2': 0.5777403, 'goal_pricerange_accuracy': 0.8504188, 'goal_pricerange_l2': 0.2222424, 'goal_name_accuracy': 0.9065421, 'goal_name_l2': 0.1848736, 'goal_area_accuracy': 0.8131177, 'goal_area_l2': 0.296953, 'goal_joint_accuracy': 0.4887904, 'goal_joint_l2': 0.7082464, 'requested_all_accuracy': 0.7104219, 'requested_all_l2': 0.4059161, 'method_accuracy': 0.8554061, 'method_l2': 0.2251957}\n",
      "INFO:root:Epoch\t12/100\n"
     ]
    },
    {
     "data": {
      "application/vnd.jupyter.widget-view+json": {
       "model_id": "d7656cbea16f42a4bc5ae4825cf52200",
       "version_major": 2,
       "version_minor": 0
      },
      "text/plain": [
       "HBox(children=(IntProgress(value=0, max=162), HTML(value='')))"
      ]
     },
     "metadata": {},
     "output_type": "display_data"
    },
    {
     "name": "stdout",
     "output_type": "stream",
     "text": [
      "\n"
     ]
    },
    {
     "data": {
      "application/vnd.jupyter.widget-view+json": {
       "model_id": "ecacdf643c1e48be9239167f8dc9609a",
       "version_major": 2,
       "version_minor": 0
      },
      "text/plain": [
       "HBox(children=(IntProgress(value=0, max=506), HTML(value='')))"
      ]
     },
     "metadata": {},
     "output_type": "display_data"
    },
    {
     "name": "stdout",
     "output_type": "stream",
     "text": [
      "\n"
     ]
    },
    {
     "name": "stderr",
     "output_type": "stream",
     "text": [
      "INFO:root:{'goal_food_accuracy': 0.6288282, 'goal_food_l2': 0.5608276, 'goal_pricerange_accuracy': 0.8611887, 'goal_pricerange_l2': 0.2174185, 'goal_name_accuracy': 0.9065421, 'goal_name_l2': 0.185227, 'goal_area_accuracy': 0.8065289, 'goal_area_l2': 0.3072923, 'goal_joint_accuracy': 0.491658, 'goal_joint_l2': 0.7038062, 'requested_all_accuracy': 0.7446809, 'requested_all_l2': 0.3838323, 'method_accuracy': 0.8618727, 'method_l2': 0.2187109}\n",
      "INFO:root:Epoch\t13/100\n"
     ]
    },
    {
     "data": {
      "application/vnd.jupyter.widget-view+json": {
       "model_id": "a75d81356c0a41e7a662d3fc01c1a388",
       "version_major": 2,
       "version_minor": 0
      },
      "text/plain": [
       "HBox(children=(IntProgress(value=0, max=162), HTML(value='')))"
      ]
     },
     "metadata": {},
     "output_type": "display_data"
    },
    {
     "name": "stdout",
     "output_type": "stream",
     "text": [
      "\n"
     ]
    },
    {
     "data": {
      "application/vnd.jupyter.widget-view+json": {
       "model_id": "d1a14fdf7dcf42d6b63ff3c80dd4a813",
       "version_major": 2,
       "version_minor": 0
      },
      "text/plain": [
       "HBox(children=(IntProgress(value=0, max=506), HTML(value='')))"
      ]
     },
     "metadata": {},
     "output_type": "display_data"
    },
    {
     "name": "stdout",
     "output_type": "stream",
     "text": [
      "\n"
     ]
    },
    {
     "name": "stderr",
     "output_type": "stream",
     "text": [
      "INFO:root:{'goal_food_accuracy': 0.638482, 'goal_food_l2': 0.5493264, 'goal_pricerange_accuracy': 0.8520144, 'goal_pricerange_l2': 0.2270083, 'goal_name_accuracy': 0.9065421, 'goal_name_l2': 0.1842459, 'goal_area_accuracy': 0.8167116, 'goal_area_l2': 0.2946073, 'goal_joint_accuracy': 0.4908759, 'goal_joint_l2': 0.7035826, 'requested_all_accuracy': 0.7493689, 'requested_all_l2': 0.3786045, 'method_accuracy': 0.86627, 'method_l2': 0.2114839}\n",
      "INFO:root:Epoch\t14/100\n"
     ]
    },
    {
     "data": {
      "application/vnd.jupyter.widget-view+json": {
       "model_id": "1b3e8961e73e4a23a2511f6ed3c592dc",
       "version_major": 2,
       "version_minor": 0
      },
      "text/plain": [
       "HBox(children=(IntProgress(value=0, max=162), HTML(value='')))"
      ]
     },
     "metadata": {},
     "output_type": "display_data"
    },
    {
     "name": "stdout",
     "output_type": "stream",
     "text": [
      "\n"
     ]
    },
    {
     "data": {
      "application/vnd.jupyter.widget-view+json": {
       "model_id": "9232e0d2d79e43f3a2591eb24c9f8ea8",
       "version_major": 2,
       "version_minor": 0
      },
      "text/plain": [
       "HBox(children=(IntProgress(value=0, max=506), HTML(value='')))"
      ]
     },
     "metadata": {},
     "output_type": "display_data"
    },
    {
     "name": "stdout",
     "output_type": "stream",
     "text": [
      "\n"
     ]
    },
    {
     "name": "stderr",
     "output_type": "stream",
     "text": [
      "INFO:root:{'goal_food_accuracy': 0.6471372, 'goal_food_l2': 0.5210977, 'goal_pricerange_accuracy': 0.8436378, 'goal_pricerange_l2': 0.2351004, 'goal_name_accuracy': 0.9065421, 'goal_name_l2': 0.1845227, 'goal_area_accuracy': 0.8011381, 'goal_area_l2': 0.3043612, 'goal_joint_accuracy': 0.4989572, 'goal_joint_l2': 0.6814508, 'requested_all_accuracy': 0.7641543, 'requested_all_l2': 0.3599963, 'method_accuracy': 0.8618727, 'method_l2': 0.2210034}\n",
      "INFO:root:Epoch\t15/100\n"
     ]
    },
    {
     "data": {
      "application/vnd.jupyter.widget-view+json": {
       "model_id": "aa21fdae1d4842cd959d528c583f1550",
       "version_major": 2,
       "version_minor": 0
      },
      "text/plain": [
       "HBox(children=(IntProgress(value=0, max=162), HTML(value='')))"
      ]
     },
     "metadata": {},
     "output_type": "display_data"
    },
    {
     "name": "stdout",
     "output_type": "stream",
     "text": [
      "\n"
     ]
    },
    {
     "data": {
      "application/vnd.jupyter.widget-view+json": {
       "model_id": "81858ddd8a5946cabd035a7b6cc8706a",
       "version_major": 2,
       "version_minor": 0
      },
      "text/plain": [
       "HBox(children=(IntProgress(value=0, max=506), HTML(value='')))"
      ]
     },
     "metadata": {},
     "output_type": "display_data"
    },
    {
     "name": "stdout",
     "output_type": "stream",
     "text": [
      "\n"
     ]
    },
    {
     "name": "stderr",
     "output_type": "stream",
     "text": [
      "INFO:root:{'goal_food_accuracy': 0.650466, 'goal_food_l2': 0.5084299, 'goal_pricerange_accuracy': 0.8452333, 'goal_pricerange_l2': 0.2313288, 'goal_name_accuracy': 0.9065421, 'goal_name_l2': 0.1861027, 'goal_area_accuracy': 0.8238994, 'goal_area_l2': 0.2796676, 'goal_joint_accuracy': 0.5, 'goal_joint_l2': 0.6777723, 'requested_all_accuracy': 0.7800216, 'requested_all_l2': 0.3519368, 'method_accuracy': 0.8644594, 'method_l2': 0.2216467}\n",
      "INFO:root:Epoch\t16/100\n"
     ]
    },
    {
     "data": {
      "application/vnd.jupyter.widget-view+json": {
       "model_id": "d75bd0f9dc0c4d19a9aa29bcfd8ac07d",
       "version_major": 2,
       "version_minor": 0
      },
      "text/plain": [
       "HBox(children=(IntProgress(value=0, max=162), HTML(value='')))"
      ]
     },
     "metadata": {},
     "output_type": "display_data"
    },
    {
     "name": "stdout",
     "output_type": "stream",
     "text": [
      "\n"
     ]
    },
    {
     "data": {
      "application/vnd.jupyter.widget-view+json": {
       "model_id": "ac3c18b055284b5c9d92a2a9613637b2",
       "version_major": 2,
       "version_minor": 0
      },
      "text/plain": [
       "HBox(children=(IntProgress(value=0, max=506), HTML(value='')))"
      ]
     },
     "metadata": {},
     "output_type": "display_data"
    },
    {
     "name": "stdout",
     "output_type": "stream",
     "text": [
      "\n"
     ]
    },
    {
     "name": "stderr",
     "output_type": "stream",
     "text": [
      "INFO:root:{'goal_food_accuracy': 0.6488016, 'goal_food_l2': 0.5019257, 'goal_pricerange_accuracy': 0.8536099, 'goal_pricerange_l2': 0.2259283, 'goal_name_accuracy': 0.9065421, 'goal_name_l2': 0.1857074, 'goal_area_accuracy': 0.8149146, 'goal_area_l2': 0.2899239, 'goal_joint_accuracy': 0.4979145, 'goal_joint_l2': 0.6657409, 'requested_all_accuracy': 0.7637937, 'requested_all_l2': 0.364035, 'method_accuracy': 0.8613554, 'method_l2': 0.2211103}\n",
      "INFO:root:Epoch\t17/100\n"
     ]
    },
    {
     "data": {
      "application/vnd.jupyter.widget-view+json": {
       "model_id": "1b2baa7256f64d5b95ba2128b5753626",
       "version_major": 2,
       "version_minor": 0
      },
      "text/plain": [
       "HBox(children=(IntProgress(value=0, max=162), HTML(value='')))"
      ]
     },
     "metadata": {},
     "output_type": "display_data"
    },
    {
     "name": "stdout",
     "output_type": "stream",
     "text": [
      "\n"
     ]
    },
    {
     "data": {
      "application/vnd.jupyter.widget-view+json": {
       "model_id": "5067bff788be42d8ba1fe735035d0fc5",
       "version_major": 2,
       "version_minor": 0
      },
      "text/plain": [
       "HBox(children=(IntProgress(value=0, max=506), HTML(value='')))"
      ]
     },
     "metadata": {},
     "output_type": "display_data"
    },
    {
     "name": "stdout",
     "output_type": "stream",
     "text": [
      "\n"
     ]
    },
    {
     "name": "stderr",
     "output_type": "stream",
     "text": [
      "INFO:root:{'goal_food_accuracy': 0.6617843, 'goal_food_l2': 0.4916085, 'goal_pricerange_accuracy': 0.8663742, 'goal_pricerange_l2': 0.2113415, 'goal_name_accuracy': 0.9065421, 'goal_name_l2': 0.1848615, 'goal_area_accuracy': 0.8227014, 'goal_area_l2': 0.2786273, 'goal_joint_accuracy': 0.5182482, 'goal_joint_l2': 0.6609745, 'requested_all_accuracy': 0.7673999, 'requested_all_l2': 0.3578135, 'method_accuracy': 0.8649767, 'method_l2': 0.2160512}\n",
      "INFO:root:Epoch\t18/100\n"
     ]
    },
    {
     "data": {
      "application/vnd.jupyter.widget-view+json": {
       "model_id": "09c39b45c6d341f3bbe12eee7aa12383",
       "version_major": 2,
       "version_minor": 0
      },
      "text/plain": [
       "HBox(children=(IntProgress(value=0, max=162), HTML(value='')))"
      ]
     },
     "metadata": {},
     "output_type": "display_data"
    },
    {
     "name": "stdout",
     "output_type": "stream",
     "text": [
      "\n"
     ]
    },
    {
     "data": {
      "application/vnd.jupyter.widget-view+json": {
       "model_id": "9c72cb6b03594be0b74af7a55abcd037",
       "version_major": 2,
       "version_minor": 0
      },
      "text/plain": [
       "HBox(children=(IntProgress(value=0, max=506), HTML(value='')))"
      ]
     },
     "metadata": {},
     "output_type": "display_data"
    },
    {
     "name": "stdout",
     "output_type": "stream",
     "text": [
      "\n"
     ]
    },
    {
     "name": "stderr",
     "output_type": "stream",
     "text": [
      "INFO:root:{'goal_food_accuracy': 0.671771, 'goal_food_l2': 0.4909989, 'goal_pricerange_accuracy': 0.8556043, 'goal_pricerange_l2': 0.2186913, 'goal_name_accuracy': 0.9065421, 'goal_name_l2': 0.1855032, 'goal_area_accuracy': 0.8161126, 'goal_area_l2': 0.2827645, 'goal_joint_accuracy': 0.5239833, 'goal_joint_l2': 0.6530299, 'requested_all_accuracy': 0.7951677, 'requested_all_l2': 0.3275933, 'method_accuracy': 0.8579928, 'method_l2': 0.21864}\n",
      "INFO:root:Epoch\t19/100\n"
     ]
    },
    {
     "data": {
      "application/vnd.jupyter.widget-view+json": {
       "model_id": "6d486c8f221e486ca2148d8d8caf096a",
       "version_major": 2,
       "version_minor": 0
      },
      "text/plain": [
       "HBox(children=(IntProgress(value=0, max=162), HTML(value='')))"
      ]
     },
     "metadata": {},
     "output_type": "display_data"
    },
    {
     "name": "stdout",
     "output_type": "stream",
     "text": [
      "\n"
     ]
    },
    {
     "data": {
      "application/vnd.jupyter.widget-view+json": {
       "model_id": "6372e37532fa4644ad5a59aac6b4f011",
       "version_major": 2,
       "version_minor": 0
      },
      "text/plain": [
       "HBox(children=(IntProgress(value=0, max=506), HTML(value='')))"
      ]
     },
     "metadata": {},
     "output_type": "display_data"
    },
    {
     "name": "stdout",
     "output_type": "stream",
     "text": [
      "\n"
     ]
    },
    {
     "name": "stderr",
     "output_type": "stream",
     "text": [
      "INFO:root:{'goal_food_accuracy': 0.6674434, 'goal_food_l2': 0.4814666, 'goal_pricerange_accuracy': 0.8631831, 'goal_pricerange_l2': 0.213395, 'goal_name_accuracy': 0.9065421, 'goal_name_l2': 0.1856993, 'goal_area_accuracy': 0.83528, 'goal_area_l2': 0.2610568, 'goal_joint_accuracy': 0.5286757, 'goal_joint_l2': 0.6430179, 'requested_all_accuracy': 0.787234, 'requested_all_l2': 0.3372282, 'method_accuracy': 0.8603207, 'method_l2': 0.2192113}\n",
      "INFO:root:Epoch\t20/100\n"
     ]
    },
    {
     "data": {
      "application/vnd.jupyter.widget-view+json": {
       "model_id": "ea43b264f666419eae59aaa076f4b96c",
       "version_major": 2,
       "version_minor": 0
      },
      "text/plain": [
       "HBox(children=(IntProgress(value=0, max=162), HTML(value='')))"
      ]
     },
     "metadata": {},
     "output_type": "display_data"
    },
    {
     "name": "stdout",
     "output_type": "stream",
     "text": [
      "\n"
     ]
    },
    {
     "data": {
      "application/vnd.jupyter.widget-view+json": {
       "model_id": "5d176fc22b6e4128b49e699b1dc22c90",
       "version_major": 2,
       "version_minor": 0
      },
      "text/plain": [
       "HBox(children=(IntProgress(value=0, max=506), HTML(value='')))"
      ]
     },
     "metadata": {},
     "output_type": "display_data"
    },
    {
     "name": "stdout",
     "output_type": "stream",
     "text": [
      "\n"
     ]
    },
    {
     "name": "stderr",
     "output_type": "stream",
     "text": [
      "INFO:root:{'goal_food_accuracy': 0.6667776, 'goal_food_l2': 0.4852017, 'goal_pricerange_accuracy': 0.8456322, 'goal_pricerange_l2': 0.237784, 'goal_name_accuracy': 0.9065421, 'goal_name_l2': 0.186396, 'goal_area_accuracy': 0.818808, 'goal_area_l2': 0.2803331, 'goal_joint_accuracy': 0.5182482, 'goal_joint_l2': 0.6504366, 'requested_all_accuracy': 0.7688424, 'requested_all_l2': 0.3561331, 'method_accuracy': 0.8533368, 'method_l2': 0.2273834}\n",
      "INFO:root:Epoch\t21/100\n"
     ]
    },
    {
     "data": {
      "application/vnd.jupyter.widget-view+json": {
       "model_id": "a731df7753224dd18846804ca3acc4b5",
       "version_major": 2,
       "version_minor": 0
      },
      "text/plain": [
       "HBox(children=(IntProgress(value=0, max=162), HTML(value='')))"
      ]
     },
     "metadata": {},
     "output_type": "display_data"
    },
    {
     "name": "stdout",
     "output_type": "stream",
     "text": [
      "\n"
     ]
    },
    {
     "data": {
      "application/vnd.jupyter.widget-view+json": {
       "model_id": "d623056867ec4ba69677eb715ac475df",
       "version_major": 2,
       "version_minor": 0
      },
      "text/plain": [
       "HBox(children=(IntProgress(value=0, max=506), HTML(value='')))"
      ]
     },
     "metadata": {},
     "output_type": "display_data"
    },
    {
     "name": "stdout",
     "output_type": "stream",
     "text": [
      "\n"
     ]
    },
    {
     "name": "stderr",
     "output_type": "stream",
     "text": [
      "INFO:root:{'goal_food_accuracy': 0.662783, 'goal_food_l2': 0.4840882, 'goal_pricerange_accuracy': 0.8408456, 'goal_pricerange_l2': 0.2453927, 'goal_name_accuracy': 0.9065421, 'goal_name_l2': 0.1859257, 'goal_area_accuracy': 0.8140162, 'goal_area_l2': 0.2858237, 'goal_joint_accuracy': 0.5104275, 'goal_joint_l2': 0.6569661, 'requested_all_accuracy': 0.7706455, 'requested_all_l2': 0.3488621, 'method_accuracy': 0.8579928, 'method_l2': 0.2229681}\n",
      "INFO:root:Epoch\t22/100\n"
     ]
    },
    {
     "data": {
      "application/vnd.jupyter.widget-view+json": {
       "model_id": "3b55bb625f1744bbb19dca16a4d0e1f1",
       "version_major": 2,
       "version_minor": 0
      },
      "text/plain": [
       "HBox(children=(IntProgress(value=0, max=162), HTML(value='')))"
      ]
     },
     "metadata": {},
     "output_type": "display_data"
    },
    {
     "name": "stdout",
     "output_type": "stream",
     "text": [
      "\n"
     ]
    },
    {
     "data": {
      "application/vnd.jupyter.widget-view+json": {
       "model_id": "75a07ab6828f47b3a1799db7aba58721",
       "version_major": 2,
       "version_minor": 0
      },
      "text/plain": [
       "HBox(children=(IntProgress(value=0, max=506), HTML(value='')))"
      ]
     },
     "metadata": {},
     "output_type": "display_data"
    },
    {
     "name": "stdout",
     "output_type": "stream",
     "text": [
      "\n"
     ]
    },
    {
     "name": "stderr",
     "output_type": "stream",
     "text": [
      "INFO:root:{'goal_food_accuracy': 0.662783, 'goal_food_l2': 0.4755407, 'goal_pricerange_accuracy': 0.8611887, 'goal_pricerange_l2': 0.212195, 'goal_name_accuracy': 0.9065421, 'goal_name_l2': 0.1860972, 'goal_area_accuracy': 0.8230009, 'goal_area_l2': 0.2690455, 'goal_joint_accuracy': 0.5255474, 'goal_joint_l2': 0.6402881, 'requested_all_accuracy': 0.7832672, 'requested_all_l2': 0.3331629, 'method_accuracy': 0.8595447, 'method_l2': 0.2240503}\n",
      "INFO:root:Epoch\t23/100\n"
     ]
    },
    {
     "data": {
      "application/vnd.jupyter.widget-view+json": {
       "model_id": "18155774a21744c0bf30446d3a6848d7",
       "version_major": 2,
       "version_minor": 0
      },
      "text/plain": [
       "HBox(children=(IntProgress(value=0, max=162), HTML(value='')))"
      ]
     },
     "metadata": {},
     "output_type": "display_data"
    },
    {
     "name": "stdout",
     "output_type": "stream",
     "text": [
      "\n"
     ]
    },
    {
     "data": {
      "application/vnd.jupyter.widget-view+json": {
       "model_id": "38dd8c8f711442ef8fd1adcd80a6e412",
       "version_major": 2,
       "version_minor": 0
      },
      "text/plain": [
       "HBox(children=(IntProgress(value=0, max=506), HTML(value='')))"
      ]
     },
     "metadata": {},
     "output_type": "display_data"
    },
    {
     "name": "stdout",
     "output_type": "stream",
     "text": [
      "\n"
     ]
    },
    {
     "name": "stderr",
     "output_type": "stream",
     "text": [
      "INFO:root:{'goal_food_accuracy': 0.6707723, 'goal_food_l2': 0.4756857, 'goal_pricerange_accuracy': 0.8591943, 'goal_pricerange_l2': 0.2160794, 'goal_name_accuracy': 0.9065421, 'goal_name_l2': 0.1858809, 'goal_area_accuracy': 0.8107218, 'goal_area_l2': 0.2938905, 'goal_joint_accuracy': 0.5250261, 'goal_joint_l2': 0.6400882, 'requested_all_accuracy': 0.7994951, 'requested_all_l2': 0.3182197, 'method_accuracy': 0.8592861, 'method_l2': 0.2167514}\n",
      "INFO:root:Epoch\t24/100\n"
     ]
    },
    {
     "data": {
      "application/vnd.jupyter.widget-view+json": {
       "model_id": "38904f5697dc426083ec13d121d4214d",
       "version_major": 2,
       "version_minor": 0
      },
      "text/plain": [
       "HBox(children=(IntProgress(value=0, max=162), HTML(value='')))"
      ]
     },
     "metadata": {},
     "output_type": "display_data"
    },
    {
     "name": "stdout",
     "output_type": "stream",
     "text": [
      "\n"
     ]
    },
    {
     "data": {
      "application/vnd.jupyter.widget-view+json": {
       "model_id": "fc5a3be2fa4f41a7aa54f4946b345b55",
       "version_major": 2,
       "version_minor": 0
      },
      "text/plain": [
       "HBox(children=(IntProgress(value=0, max=506), HTML(value='')))"
      ]
     },
     "metadata": {},
     "output_type": "display_data"
    },
    {
     "name": "stdout",
     "output_type": "stream",
     "text": [
      "\n"
     ]
    },
    {
     "name": "stderr",
     "output_type": "stream",
     "text": [
      "INFO:root:{'goal_food_accuracy': 0.6780959, 'goal_food_l2': 0.4668013, 'goal_pricerange_accuracy': 0.8595931, 'goal_pricerange_l2': 0.2172161, 'goal_name_accuracy': 0.9065421, 'goal_name_l2': 0.1859454, 'goal_area_accuracy': 0.8265948, 'goal_area_l2': 0.2696827, 'goal_joint_accuracy': 0.5328467, 'goal_joint_l2': 0.6349449, 'requested_all_accuracy': 0.8092319, 'requested_all_l2': 0.3077394, 'method_accuracy': 0.8608381, 'method_l2': 0.2156442}\n",
      "INFO:root:Epoch\t25/100\n"
     ]
    },
    {
     "data": {
      "application/vnd.jupyter.widget-view+json": {
       "model_id": "83997ca18f7b4b8d82b3ae35bba62732",
       "version_major": 2,
       "version_minor": 0
      },
      "text/plain": [
       "HBox(children=(IntProgress(value=0, max=162), HTML(value='')))"
      ]
     },
     "metadata": {},
     "output_type": "display_data"
    },
    {
     "name": "stdout",
     "output_type": "stream",
     "text": [
      "\n"
     ]
    },
    {
     "data": {
      "application/vnd.jupyter.widget-view+json": {
       "model_id": "b2e6dfda30e645e5a3ce759ff54f4ab3",
       "version_major": 2,
       "version_minor": 0
      },
      "text/plain": [
       "HBox(children=(IntProgress(value=0, max=506), HTML(value='')))"
      ]
     },
     "metadata": {},
     "output_type": "display_data"
    },
    {
     "name": "stdout",
     "output_type": "stream",
     "text": [
      "\n"
     ]
    },
    {
     "name": "stderr",
     "output_type": "stream",
     "text": [
      "INFO:root:{'goal_food_accuracy': 0.6741012, 'goal_food_l2': 0.4677305, 'goal_pricerange_accuracy': 0.8520144, 'goal_pricerange_l2': 0.2303912, 'goal_name_accuracy': 0.9065421, 'goal_name_l2': 0.1864503, 'goal_area_accuracy': 0.8152141, 'goal_area_l2': 0.2851698, 'goal_joint_accuracy': 0.5252868, 'goal_joint_l2': 0.641757, 'requested_all_accuracy': 0.7893978, 'requested_all_l2': 0.3299989, 'method_accuracy': 0.8657527, 'method_l2': 0.2137137}\n",
      "INFO:root:Epoch\t26/100\n"
     ]
    },
    {
     "data": {
      "application/vnd.jupyter.widget-view+json": {
       "model_id": "5d2ea0de724d472bb8e92f882e895880",
       "version_major": 2,
       "version_minor": 0
      },
      "text/plain": [
       "HBox(children=(IntProgress(value=0, max=162), HTML(value='')))"
      ]
     },
     "metadata": {},
     "output_type": "display_data"
    },
    {
     "name": "stdout",
     "output_type": "stream",
     "text": [
      "\n"
     ]
    },
    {
     "data": {
      "application/vnd.jupyter.widget-view+json": {
       "model_id": "6af41aa71382431ba2cb1a1bf4fa73e1",
       "version_major": 2,
       "version_minor": 0
      },
      "text/plain": [
       "HBox(children=(IntProgress(value=0, max=506), HTML(value='')))"
      ]
     },
     "metadata": {},
     "output_type": "display_data"
    },
    {
     "name": "stdout",
     "output_type": "stream",
     "text": [
      "\n"
     ]
    },
    {
     "name": "stderr",
     "output_type": "stream",
     "text": [
      "INFO:root:{'goal_food_accuracy': 0.6790945, 'goal_food_l2': 0.4715134, 'goal_pricerange_accuracy': 0.8659753, 'goal_pricerange_l2': 0.2088414, 'goal_name_accuracy': 0.9065421, 'goal_name_l2': 0.1862492, 'goal_area_accuracy': 0.8313866, 'goal_area_l2': 0.2635253, 'goal_joint_accuracy': 0.5404067, 'goal_joint_l2': 0.6288591, 'requested_all_accuracy': 0.8067075, 'requested_all_l2': 0.3057918, 'method_accuracy': 0.8579928, 'method_l2': 0.2185461}\n",
      "INFO:root:Epoch\t27/100\n"
     ]
    },
    {
     "data": {
      "application/vnd.jupyter.widget-view+json": {
       "model_id": "ef4fb696b6e5420c94e3c1224dda0393",
       "version_major": 2,
       "version_minor": 0
      },
      "text/plain": [
       "HBox(children=(IntProgress(value=0, max=162), HTML(value='')))"
      ]
     },
     "metadata": {},
     "output_type": "display_data"
    },
    {
     "name": "stdout",
     "output_type": "stream",
     "text": [
      "\n"
     ]
    },
    {
     "data": {
      "application/vnd.jupyter.widget-view+json": {
       "model_id": "837023815886496ca9913bc85f61eecb",
       "version_major": 2,
       "version_minor": 0
      },
      "text/plain": [
       "HBox(children=(IntProgress(value=0, max=506), HTML(value='')))"
      ]
     },
     "metadata": {},
     "output_type": "display_data"
    },
    {
     "name": "stdout",
     "output_type": "stream",
     "text": [
      "\n"
     ]
    },
    {
     "name": "stderr",
     "output_type": "stream",
     "text": [
      "INFO:root:{'goal_food_accuracy': 0.6767643, 'goal_food_l2': 0.4630026, 'goal_pricerange_accuracy': 0.8556043, 'goal_pricerange_l2': 0.2259956, 'goal_name_accuracy': 0.9065421, 'goal_name_l2': 0.186298, 'goal_area_accuracy': 0.818209, 'goal_area_l2': 0.2805664, 'goal_joint_accuracy': 0.5344108, 'goal_joint_l2': 0.6313006, 'requested_all_accuracy': 0.8023801, 'requested_all_l2': 0.3125405, 'method_accuracy': 0.8528195, 'method_l2': 0.2279978}\n",
      "INFO:root:Epoch\t28/100\n"
     ]
    },
    {
     "data": {
      "application/vnd.jupyter.widget-view+json": {
       "model_id": "b712a80dffaa404d8b4a75ba9205f3d4",
       "version_major": 2,
       "version_minor": 0
      },
      "text/plain": [
       "HBox(children=(IntProgress(value=0, max=162), HTML(value='')))"
      ]
     },
     "metadata": {},
     "output_type": "display_data"
    },
    {
     "name": "stdout",
     "output_type": "stream",
     "text": [
      "\n"
     ]
    },
    {
     "data": {
      "application/vnd.jupyter.widget-view+json": {
       "model_id": "018c6c233dc641b3ad45854dbf781bbf",
       "version_major": 2,
       "version_minor": 0
      },
      "text/plain": [
       "HBox(children=(IntProgress(value=0, max=506), HTML(value='')))"
      ]
     },
     "metadata": {},
     "output_type": "display_data"
    },
    {
     "name": "stdout",
     "output_type": "stream",
     "text": [
      "\n"
     ]
    },
    {
     "name": "stderr",
     "output_type": "stream",
     "text": [
      "INFO:root:{'goal_food_accuracy': 0.6677763, 'goal_food_l2': 0.4723655, 'goal_pricerange_accuracy': 0.8484244, 'goal_pricerange_l2': 0.230426, 'goal_name_accuracy': 0.9065421, 'goal_name_l2': 0.1861208, 'goal_area_accuracy': 0.8283917, 'goal_area_l2': 0.2646347, 'goal_joint_accuracy': 0.5252868, 'goal_joint_l2': 0.6421508, 'requested_all_accuracy': 0.8031013, 'requested_all_l2': 0.3088536, 'method_accuracy': 0.8629074, 'method_l2': 0.2165852}\n",
      "INFO:root:Epoch\t29/100\n"
     ]
    },
    {
     "data": {
      "application/vnd.jupyter.widget-view+json": {
       "model_id": "0ea36f029fca4f70a5bc5e791203b332",
       "version_major": 2,
       "version_minor": 0
      },
      "text/plain": [
       "HBox(children=(IntProgress(value=0, max=162), HTML(value='')))"
      ]
     },
     "metadata": {},
     "output_type": "display_data"
    },
    {
     "name": "stdout",
     "output_type": "stream",
     "text": [
      "\n"
     ]
    },
    {
     "data": {
      "application/vnd.jupyter.widget-view+json": {
       "model_id": "9e1c4e7490de4e618c8b01765485f7c9",
       "version_major": 2,
       "version_minor": 0
      },
      "text/plain": [
       "HBox(children=(IntProgress(value=0, max=506), HTML(value='')))"
      ]
     },
     "metadata": {},
     "output_type": "display_data"
    },
    {
     "name": "stdout",
     "output_type": "stream",
     "text": [
      "\n"
     ]
    },
    {
     "name": "stderr",
     "output_type": "stream",
     "text": [
      "INFO:root:{'goal_food_accuracy': 0.6800932, 'goal_food_l2': 0.4585046, 'goal_pricerange_accuracy': 0.8496211, 'goal_pricerange_l2': 0.2359391, 'goal_name_accuracy': 0.9065421, 'goal_name_l2': 0.1862744, 'goal_area_accuracy': 0.8274933, 'goal_area_l2': 0.2646013, 'goal_joint_accuracy': 0.5393639, 'goal_joint_l2': 0.6211138, 'requested_all_accuracy': 0.8121168, 'requested_all_l2': 0.3023479, 'method_accuracy': 0.8644594, 'method_l2': 0.2157169}\n",
      "INFO:root:Epoch\t30/100\n"
     ]
    },
    {
     "data": {
      "application/vnd.jupyter.widget-view+json": {
       "model_id": "14c1e8c6b40241668f04896198bb1baa",
       "version_major": 2,
       "version_minor": 0
      },
      "text/plain": [
       "HBox(children=(IntProgress(value=0, max=162), HTML(value='')))"
      ]
     },
     "metadata": {},
     "output_type": "display_data"
    },
    {
     "name": "stdout",
     "output_type": "stream",
     "text": [
      "\n"
     ]
    },
    {
     "data": {
      "application/vnd.jupyter.widget-view+json": {
       "model_id": "35c81bff453f465b85b21a4545844277",
       "version_major": 2,
       "version_minor": 0
      },
      "text/plain": [
       "HBox(children=(IntProgress(value=0, max=506), HTML(value='')))"
      ]
     },
     "metadata": {},
     "output_type": "display_data"
    },
    {
     "name": "stdout",
     "output_type": "stream",
     "text": [
      "\n"
     ]
    },
    {
     "name": "stderr",
     "output_type": "stream",
     "text": [
      "INFO:root:{'goal_food_accuracy': 0.683755, 'goal_food_l2': 0.4556029, 'goal_pricerange_accuracy': 0.8571998, 'goal_pricerange_l2': 0.2166697, 'goal_name_accuracy': 0.9065421, 'goal_name_l2': 0.1862709, 'goal_area_accuracy': 0.8286912, 'goal_area_l2': 0.2669732, 'goal_joint_accuracy': 0.5406674, 'goal_joint_l2': 0.6256877, 'requested_all_accuracy': 0.8153624, 'requested_all_l2': 0.2944208, 'method_accuracy': 0.8605794, 'method_l2': 0.218628}\n",
      "INFO:root:Epoch\t31/100\n"
     ]
    },
    {
     "data": {
      "application/vnd.jupyter.widget-view+json": {
       "model_id": "5dc73f59aeb04da2bcf653fcac988f84",
       "version_major": 2,
       "version_minor": 0
      },
      "text/plain": [
       "HBox(children=(IntProgress(value=0, max=162), HTML(value='')))"
      ]
     },
     "metadata": {},
     "output_type": "display_data"
    },
    {
     "name": "stdout",
     "output_type": "stream",
     "text": [
      "\n"
     ]
    },
    {
     "data": {
      "application/vnd.jupyter.widget-view+json": {
       "model_id": "f20b009758304282bd80eeca1cf12d29",
       "version_major": 2,
       "version_minor": 0
      },
      "text/plain": [
       "HBox(children=(IntProgress(value=0, max=506), HTML(value='')))"
      ]
     },
     "metadata": {},
     "output_type": "display_data"
    },
    {
     "name": "stdout",
     "output_type": "stream",
     "text": [
      "\n"
     ]
    },
    {
     "name": "stderr",
     "output_type": "stream",
     "text": [
      "INFO:root:{'goal_food_accuracy': 0.6727696, 'goal_food_l2': 0.462218, 'goal_pricerange_accuracy': 0.853211, 'goal_pricerange_l2': 0.2259756, 'goal_name_accuracy': 0.9065421, 'goal_name_l2': 0.1858911, 'goal_area_accuracy': 0.8298892, 'goal_area_l2': 0.2675207, 'goal_joint_accuracy': 0.5315433, 'goal_joint_l2': 0.6349649, 'requested_all_accuracy': 0.8225748, 'requested_all_l2': 0.2781162, 'method_accuracy': 0.8623901, 'method_l2': 0.2186153}\n",
      "INFO:root:Epoch\t32/100\n"
     ]
    },
    {
     "data": {
      "application/vnd.jupyter.widget-view+json": {
       "model_id": "059516dc430b47df8dd89f7b870c4c61",
       "version_major": 2,
       "version_minor": 0
      },
      "text/plain": [
       "HBox(children=(IntProgress(value=0, max=162), HTML(value='')))"
      ]
     },
     "metadata": {},
     "output_type": "display_data"
    },
    {
     "name": "stdout",
     "output_type": "stream",
     "text": [
      "\n"
     ]
    },
    {
     "data": {
      "application/vnd.jupyter.widget-view+json": {
       "model_id": "437c0bc89b8b4438840875995a674b57",
       "version_major": 2,
       "version_minor": 0
      },
      "text/plain": [
       "HBox(children=(IntProgress(value=0, max=506), HTML(value='')))"
      ]
     },
     "metadata": {},
     "output_type": "display_data"
    },
    {
     "name": "stdout",
     "output_type": "stream",
     "text": [
      "\n"
     ]
    },
    {
     "name": "stderr",
     "output_type": "stream",
     "text": [
      "INFO:root:{'goal_food_accuracy': 0.671771, 'goal_food_l2': 0.4508894, 'goal_pricerange_accuracy': 0.8671719, 'goal_pricerange_l2': 0.207705, 'goal_name_accuracy': 0.9065421, 'goal_name_l2': 0.186419, 'goal_area_accuracy': 0.8274933, 'goal_area_l2': 0.270431, 'goal_joint_accuracy': 0.5385819, 'goal_joint_l2': 0.6212192, 'requested_all_accuracy': 0.8142806, 'requested_all_l2': 0.2942453, 'method_accuracy': 0.8554061, 'method_l2': 0.2228709}\n",
      "INFO:root:Epoch\t33/100\n"
     ]
    },
    {
     "data": {
      "application/vnd.jupyter.widget-view+json": {
       "model_id": "c2d010305941492a8ef04e45fe4c2c4b",
       "version_major": 2,
       "version_minor": 0
      },
      "text/plain": [
       "HBox(children=(IntProgress(value=0, max=162), HTML(value='')))"
      ]
     },
     "metadata": {},
     "output_type": "display_data"
    },
    {
     "name": "stdout",
     "output_type": "stream",
     "text": [
      "\n"
     ]
    },
    {
     "data": {
      "application/vnd.jupyter.widget-view+json": {
       "model_id": "0f48d3e9db094a20a6970b3e65dc0ff0",
       "version_major": 2,
       "version_minor": 0
      },
      "text/plain": [
       "HBox(children=(IntProgress(value=0, max=506), HTML(value='')))"
      ]
     },
     "metadata": {},
     "output_type": "display_data"
    },
    {
     "name": "stdout",
     "output_type": "stream",
     "text": [
      "\n"
     ]
    },
    {
     "name": "stderr",
     "output_type": "stream",
     "text": [
      "INFO:root:{'goal_food_accuracy': 0.6750999, 'goal_food_l2': 0.4560606, 'goal_pricerange_accuracy': 0.8679697, 'goal_pricerange_l2': 0.2082356, 'goal_name_accuracy': 0.9065421, 'goal_name_l2': 0.1864188, 'goal_area_accuracy': 0.8301887, 'goal_area_l2': 0.2687154, 'goal_joint_accuracy': 0.5404067, 'goal_joint_l2': 0.6203148, 'requested_all_accuracy': 0.815723, 'requested_all_l2': 0.2893188, 'method_accuracy': 0.8546301, 'method_l2': 0.2287089}\n",
      "INFO:root:Epoch\t34/100\n"
     ]
    },
    {
     "data": {
      "application/vnd.jupyter.widget-view+json": {
       "model_id": "2c0308ccf47c435a86857148c3225f01",
       "version_major": 2,
       "version_minor": 0
      },
      "text/plain": [
       "HBox(children=(IntProgress(value=0, max=162), HTML(value='')))"
      ]
     },
     "metadata": {},
     "output_type": "display_data"
    },
    {
     "name": "stdout",
     "output_type": "stream",
     "text": [
      "\n"
     ]
    },
    {
     "data": {
      "application/vnd.jupyter.widget-view+json": {
       "model_id": "e953e9bbee7f4469a36014769045b707",
       "version_major": 2,
       "version_minor": 0
      },
      "text/plain": [
       "HBox(children=(IntProgress(value=0, max=506), HTML(value='')))"
      ]
     },
     "metadata": {},
     "output_type": "display_data"
    },
    {
     "name": "stdout",
     "output_type": "stream",
     "text": [
      "\n"
     ]
    },
    {
     "name": "stderr",
     "output_type": "stream",
     "text": [
      "INFO:root:{'goal_food_accuracy': 0.6834221, 'goal_food_l2': 0.4423658, 'goal_pricerange_accuracy': 0.8356602, 'goal_pricerange_l2': 0.2292381, 'goal_name_accuracy': 0.9065421, 'goal_name_l2': 0.1863623, 'goal_area_accuracy': 0.8298892, 'goal_area_l2': 0.269634, 'goal_joint_accuracy': 0.536757, 'goal_joint_l2': 0.6186854, 'requested_all_accuracy': 0.8168049, 'requested_all_l2': 0.2874643, 'method_accuracy': 0.8497155, 'method_l2': 0.2261533}\n",
      "INFO:root:Epoch\t35/100\n"
     ]
    },
    {
     "data": {
      "application/vnd.jupyter.widget-view+json": {
       "model_id": "c7623c1a38dd40fd8959310aefaa90a7",
       "version_major": 2,
       "version_minor": 0
      },
      "text/plain": [
       "HBox(children=(IntProgress(value=0, max=162), HTML(value='')))"
      ]
     },
     "metadata": {},
     "output_type": "display_data"
    },
    {
     "name": "stdout",
     "output_type": "stream",
     "text": [
      "\n"
     ]
    },
    {
     "data": {
      "application/vnd.jupyter.widget-view+json": {
       "model_id": "264e8f8a09fa49febbfe3d1dede75f27",
       "version_major": 2,
       "version_minor": 0
      },
      "text/plain": [
       "HBox(children=(IntProgress(value=0, max=506), HTML(value='')))"
      ]
     },
     "metadata": {},
     "output_type": "display_data"
    },
    {
     "name": "stdout",
     "output_type": "stream",
     "text": [
      "\n"
     ]
    },
    {
     "name": "stderr",
     "output_type": "stream",
     "text": [
      "INFO:root:{'goal_food_accuracy': 0.6824234, 'goal_food_l2': 0.4507909, 'goal_pricerange_accuracy': 0.8691663, 'goal_pricerange_l2': 0.1980752, 'goal_name_accuracy': 0.9065421, 'goal_name_l2': 0.1864809, 'goal_area_accuracy': 0.8340821, 'goal_area_l2': 0.2634912, 'goal_joint_accuracy': 0.5474453, 'goal_joint_l2': 0.616392, 'requested_all_accuracy': 0.8222142, 'requested_all_l2': 0.282803, 'method_accuracy': 0.8564408, 'method_l2': 0.2238429}\n",
      "INFO:root:Epoch\t36/100\n"
     ]
    },
    {
     "data": {
      "application/vnd.jupyter.widget-view+json": {
       "model_id": "b2c3e8294d0645e5ab60058e212ee5e2",
       "version_major": 2,
       "version_minor": 0
      },
      "text/plain": [
       "HBox(children=(IntProgress(value=0, max=162), HTML(value='')))"
      ]
     },
     "metadata": {},
     "output_type": "display_data"
    },
    {
     "name": "stdout",
     "output_type": "stream",
     "text": [
      "\n"
     ]
    },
    {
     "data": {
      "application/vnd.jupyter.widget-view+json": {
       "model_id": "4449730af8e34138912b0372fa8591ed",
       "version_major": 2,
       "version_minor": 0
      },
      "text/plain": [
       "HBox(children=(IntProgress(value=0, max=506), HTML(value='')))"
      ]
     },
     "metadata": {},
     "output_type": "display_data"
    },
    {
     "name": "stdout",
     "output_type": "stream",
     "text": [
      "\n"
     ]
    },
    {
     "name": "stderr",
     "output_type": "stream",
     "text": [
      "INFO:root:{'goal_food_accuracy': 0.6790945, 'goal_food_l2': 0.452558, 'goal_pricerange_accuracy': 0.8583965, 'goal_pricerange_l2': 0.2226202, 'goal_name_accuracy': 0.9065421, 'goal_name_l2': 0.1865072, 'goal_area_accuracy': 0.8274933, 'goal_area_l2': 0.2644154, 'goal_joint_accuracy': 0.5398853, 'goal_joint_l2': 0.6224608, 'requested_all_accuracy': 0.8175261, 'requested_all_l2': 0.289065, 'method_accuracy': 0.8608381, 'method_l2': 0.2201914}\n",
      "INFO:root:Epoch\t37/100\n"
     ]
    },
    {
     "data": {
      "application/vnd.jupyter.widget-view+json": {
       "model_id": "696118e9eb40433d9ea0a4f74e684cf8",
       "version_major": 2,
       "version_minor": 0
      },
      "text/plain": [
       "HBox(children=(IntProgress(value=0, max=162), HTML(value='')))"
      ]
     },
     "metadata": {},
     "output_type": "display_data"
    },
    {
     "name": "stdout",
     "output_type": "stream",
     "text": [
      "\n"
     ]
    },
    {
     "data": {
      "application/vnd.jupyter.widget-view+json": {
       "model_id": "a5091abf458b48568332f15cca481ed9",
       "version_major": 2,
       "version_minor": 0
      },
      "text/plain": [
       "HBox(children=(IntProgress(value=0, max=506), HTML(value='')))"
      ]
     },
     "metadata": {},
     "output_type": "display_data"
    },
    {
     "name": "stdout",
     "output_type": "stream",
     "text": [
      "\n"
     ]
    },
    {
     "name": "stderr",
     "output_type": "stream",
     "text": [
      "INFO:root:{'goal_food_accuracy': 0.6900799, 'goal_food_l2': 0.4469025, 'goal_pricerange_accuracy': 0.8460311, 'goal_pricerange_l2': 0.2385214, 'goal_name_accuracy': 0.9065421, 'goal_name_l2': 0.1865803, 'goal_area_accuracy': 0.8283917, 'goal_area_l2': 0.2627365, 'goal_joint_accuracy': 0.5456204, 'goal_joint_l2': 0.6146105, 'requested_all_accuracy': 0.8200505, 'requested_all_l2': 0.2859265, 'method_accuracy': 0.8548888, 'method_l2': 0.2218904}\n",
      "INFO:root:Epoch\t38/100\n"
     ]
    },
    {
     "data": {
      "application/vnd.jupyter.widget-view+json": {
       "model_id": "45ad9e5dd1bb49c99ea9e994832f01e0",
       "version_major": 2,
       "version_minor": 0
      },
      "text/plain": [
       "HBox(children=(IntProgress(value=0, max=162), HTML(value='')))"
      ]
     },
     "metadata": {},
     "output_type": "display_data"
    },
    {
     "name": "stdout",
     "output_type": "stream",
     "text": [
      "\n"
     ]
    },
    {
     "data": {
      "application/vnd.jupyter.widget-view+json": {
       "model_id": "be93b199eb954a8581c6fd2dd33eca4e",
       "version_major": 2,
       "version_minor": 0
      },
      "text/plain": [
       "HBox(children=(IntProgress(value=0, max=506), HTML(value='')))"
      ]
     },
     "metadata": {},
     "output_type": "display_data"
    },
    {
     "name": "stdout",
     "output_type": "stream",
     "text": [
      "\n"
     ]
    },
    {
     "name": "stderr",
     "output_type": "stream",
     "text": [
      "INFO:root:{'goal_food_accuracy': 0.6787617, 'goal_food_l2': 0.4537631, 'goal_pricerange_accuracy': 0.8583965, 'goal_pricerange_l2': 0.2240368, 'goal_name_accuracy': 0.9065421, 'goal_name_l2': 0.1865492, 'goal_area_accuracy': 0.8233004, 'goal_area_l2': 0.268391, 'goal_joint_accuracy': 0.5346715, 'goal_joint_l2': 0.6247631, 'requested_all_accuracy': 0.818608, 'requested_all_l2': 0.2902628, 'method_accuracy': 0.8556648, 'method_l2': 0.2235395}\n",
      "INFO:root:Epoch\t39/100\n"
     ]
    },
    {
     "data": {
      "application/vnd.jupyter.widget-view+json": {
       "model_id": "371f374642ce441b92d98614932ead1d",
       "version_major": 2,
       "version_minor": 0
      },
      "text/plain": [
       "HBox(children=(IntProgress(value=0, max=162), HTML(value='')))"
      ]
     },
     "metadata": {},
     "output_type": "display_data"
    },
    {
     "name": "stdout",
     "output_type": "stream",
     "text": [
      "\n"
     ]
    },
    {
     "data": {
      "application/vnd.jupyter.widget-view+json": {
       "model_id": "208ac6842bb24d33a4a10b24904a9977",
       "version_major": 2,
       "version_minor": 0
      },
      "text/plain": [
       "HBox(children=(IntProgress(value=0, max=506), HTML(value='')))"
      ]
     },
     "metadata": {},
     "output_type": "display_data"
    },
    {
     "name": "stdout",
     "output_type": "stream",
     "text": [
      "\n"
     ]
    },
    {
     "name": "stderr",
     "output_type": "stream",
     "text": [
      "INFO:root:{'goal_food_accuracy': 0.6691079, 'goal_food_l2': 0.4712361, 'goal_pricerange_accuracy': 0.8528121, 'goal_pricerange_l2': 0.214965, 'goal_name_accuracy': 0.9065421, 'goal_name_l2': 0.1863158, 'goal_area_accuracy': 0.8134172, 'goal_area_l2': 0.2885391, 'goal_joint_accuracy': 0.528415, 'goal_joint_l2': 0.6372206, 'requested_all_accuracy': 0.8189686, 'requested_all_l2': 0.2883526, 'method_accuracy': 0.8554061, 'method_l2': 0.2280622}\n",
      "INFO:root:Epoch\t40/100\n"
     ]
    },
    {
     "data": {
      "application/vnd.jupyter.widget-view+json": {
       "model_id": "21d2f4cff01b43b6a7914cd0e42bfaff",
       "version_major": 2,
       "version_minor": 0
      },
      "text/plain": [
       "HBox(children=(IntProgress(value=0, max=162), HTML(value='')))"
      ]
     },
     "metadata": {},
     "output_type": "display_data"
    },
    {
     "name": "stdout",
     "output_type": "stream",
     "text": [
      "\n"
     ]
    },
    {
     "data": {
      "application/vnd.jupyter.widget-view+json": {
       "model_id": "ed91423ae4b8455c8bcc97ebeb867689",
       "version_major": 2,
       "version_minor": 0
      },
      "text/plain": [
       "HBox(children=(IntProgress(value=0, max=506), HTML(value='')))"
      ]
     },
     "metadata": {},
     "output_type": "display_data"
    },
    {
     "name": "stdout",
     "output_type": "stream",
     "text": [
      "\n"
     ]
    },
    {
     "name": "stderr",
     "output_type": "stream",
     "text": [
      "INFO:root:{'goal_food_accuracy': 0.6814248, 'goal_food_l2': 0.4531595, 'goal_pricerange_accuracy': 0.8575987, 'goal_pricerange_l2': 0.2174959, 'goal_name_accuracy': 0.9065421, 'goal_name_l2': 0.1863577, 'goal_area_accuracy': 0.818808, 'goal_area_l2': 0.2816717, 'goal_joint_accuracy': 0.540146, 'goal_joint_l2': 0.623869, 'requested_all_accuracy': 0.8200505, 'requested_all_l2': 0.2836612, 'method_accuracy': 0.8533368, 'method_l2': 0.2307491}\n"
     ]
    }
   ],
   "source": [
    "all_early_stopping = EarlyStopping(patience = PATIENCE)\n",
    "\n",
    "train_indices_loader = torch.utils.data.DataLoader(np.arange(raw_X_train.shape[0]), batch_size = BATCH_SIZE, shuffle = True)\n",
    "\n",
    "for epoch in range(NUM_EPOCHS):\n",
    "    \n",
    "    logging.info(\"Epoch\\t{}/{}\".format(epoch + 1, NUM_EPOCHS))\n",
    "    \n",
    "    if not all_early_stopping.stop_training:\n",
    "        model_All = model_All.train()\n",
    "    \n",
    "    for train_indices in tqdm_notebook(train_indices_loader, total = len(train_indices_loader)):\n",
    "        \n",
    "        if not all_early_stopping.stop_training:\n",
    "            optimizer_All.zero_grad()\n",
    "            all_accumulated_loss = 0\n",
    "        \n",
    "        for raw_X_train_dialog, raw_Y_train_dialog in zip(raw_X_train[train_indices], raw_Y_train[train_indices]):\n",
    "            \n",
    "            if not all_early_stopping.stop_training:\n",
    "                model_All.hidden = model_All.init_hidden()\n",
    "                \n",
    "            for raw_X_train_turn, raw_Y_train_turn in zip(raw_X_train_dialog[\"turns\"], raw_Y_train_dialog[\"turns\"]):\n",
    "\n",
    "                indices, scores = get_index_and_score(raw_X_train_turn, token_to_index, mode = \"train\", device = DEVICE)\n",
    "                \n",
    "                if not all_early_stopping.stop_training:\n",
    "                    goal_pricerange_outputs, goal_area_outputs, goal_name_outputs, goal_food_outputs, requested_outputs, method_outputs = model_All(indices, scores)\n",
    "                    gold_goal_pricerange = retrieve_gold_GoalPricerange(raw_Y_train_turn, ontology = ontology, device = DEVICE).repeat(len(goal_pricerange_outputs))\n",
    "                    all_accumulated_loss += GOAL_LOSS_FUNCTION(goal_pricerange_outputs, gold_goal_pricerange)\n",
    "                    gold_goal_area = retrieve_gold_GoalArea(raw_Y_train_turn, ontology = ontology, device = DEVICE).repeat(len(goal_area_outputs))\n",
    "                    all_accumulated_loss += GOAL_LOSS_FUNCTION(goal_area_outputs, gold_goal_area)\n",
    "                    gold_goal_name = retrieve_gold_GoalName(raw_Y_train_turn, ontology = ontology, device = DEVICE).repeat(len(goal_name_outputs))\n",
    "                    all_accumulated_loss += GOAL_LOSS_FUNCTION(goal_name_outputs, gold_goal_name)\n",
    "                    gold_goal_food = retrieve_gold_GoalFood(raw_Y_train_turn, ontology = ontology, device = DEVICE).repeat(len(goal_food_outputs))\n",
    "                    all_accumulated_loss += GOAL_LOSS_FUNCTION(goal_food_outputs, gold_goal_food)\n",
    "                    gold_requested = retrieve_gold_Requested(raw_Y_train_turn, ontology = ontology, device = DEVICE).repeat(requested_outputs.size(0), 1)\n",
    "                    all_accumulated_loss += REQUESTED_LOSS_FUNCTION(requested_outputs, gold_requested)\n",
    "                    gold_method = retrieve_gold_Method(raw_Y_train_turn, ontology = ontology, device = DEVICE).repeat(len(method_outputs))\n",
    "                    all_accumulated_loss += METHOD_LOSS_FUNCTION(method_outputs, gold_method)\n",
    "                    \n",
    "        if not all_early_stopping.stop_training:\n",
    "            all_accumulated_loss.backward()\n",
    "            optimizer_All.step()\n",
    "        \n",
    "    dev_tracker, _ = make_tracker(model_All, raw_X_dev, raw_Y_dev, dataset = \"dstc2_dev\", percentage = 1.0)\n",
    "    \n",
    "    dev_scores_dict = get_scores(dev_tracker, dataset = \"dstc2_dev\", ontology = ontology)\n",
    "    \n",
    "    logging.info(dev_scores_dict)\n",
    "    \n",
    "    current_score_value = dev_scores_dict[\"goal_pricerange_accuracy\"] + dev_scores_dict[\"goal_area_accuracy\"] + dev_scores_dict[\"goal_name_accuracy\"] + dev_scores_dict[\"goal_food_accuracy\"] + dev_scores_dict[\"requested_all_accuracy\"] + dev_scores_dict[\"method_accuracy\"]  \n",
    "\n",
    "    all_early_stopping.on_epoch_end(epoch = (epoch + 1), current_value = current_score_value)\n",
    "    \n",
    "    if all_early_stopping.wait == 0:\n",
    "        torch.save(model_All.state_dict(), \"model_All.pt\")\n",
    "        \n",
    "    if all_early_stopping.stop_training:\n",
    "        break"
   ]
  },
  {
   "cell_type": "markdown",
   "metadata": {},
   "source": [
    "### Load iDST All Model"
   ]
  },
  {
   "cell_type": "code",
   "execution_count": 11,
   "metadata": {},
   "outputs": [
    {
     "data": {
      "text/plain": [
       "iDSTAllModel(\n",
       "  (embeddings): Embedding(897, 170)\n",
       "  (altered_embeddings): Linear(in_features=171, out_features=300, bias=True)\n",
       "  (lstm): LSTM(300, 100)\n",
       "  (goal_pricerange_classifier): Linear(in_features=100, out_features=5, bias=True)\n",
       "  (goal_area_classifier): Linear(in_features=100, out_features=7, bias=True)\n",
       "  (goal_name_classifier): Linear(in_features=100, out_features=115, bias=True)\n",
       "  (goal_food_classifier): Linear(in_features=100, out_features=93, bias=True)\n",
       "  (requested_classifier): Linear(in_features=100, out_features=8, bias=True)\n",
       "  (method_classifier): Linear(in_features=100, out_features=5, bias=True)\n",
       ")"
      ]
     },
     "execution_count": 11,
     "metadata": {},
     "output_type": "execute_result"
    }
   ],
   "source": [
    "model_All = iDSTAllModel(vocabulary_size = VOCABULARY_SIZE,\n",
    "                         embedding_dim = EMBEDDING_DIM,\n",
    "                         altered_embedding_dim = ALTERED_EMBEDDING_DIM,\n",
    "                         hidden_dim = HIDDEN_DIM,\n",
    "                         goal_pricerange_dim = GOAL_PRICERANGE_DIM,\n",
    "                         goal_area_dim = GOAL_AREA_DIM,\n",
    "                         goal_name_dim = GOAL_NAME_DIM,\n",
    "                         goal_food_dim = GOAL_FOOD_DIM,\n",
    "                         requested_dim = REQUESTED_DIM,\n",
    "                         method_dim = METHOD_DIM,\n",
    "                         device = DEVICE).to(DEVICE)\n",
    "model_All.load_state_dict(torch.load(\"model_All.pt\"))\n",
    "model_All.eval()"
   ]
  },
  {
   "cell_type": "markdown",
   "metadata": {},
   "source": [
    "### Print scores"
   ]
  },
  {
   "cell_type": "code",
   "execution_count": 12,
   "metadata": {
    "scrolled": false
   },
   "outputs": [
    {
     "data": {
      "application/vnd.jupyter.widget-view+json": {
       "model_id": "2527e8cf17d8426bb217d79464ea38a8",
       "version_major": 2,
       "version_minor": 0
      },
      "text/plain": [
       "HBox(children=(IntProgress(value=0, max=506), HTML(value='')))"
      ]
     },
     "metadata": {},
     "output_type": "display_data"
    },
    {
     "name": "stdout",
     "output_type": "stream",
     "text": [
      "\n"
     ]
    },
    {
     "data": {
      "text/plain": [
       "{'goal_food_accuracy': 0.6824234,\n",
       " 'goal_food_l2': 0.4507909,\n",
       " 'goal_pricerange_accuracy': 0.8691663,\n",
       " 'goal_pricerange_l2': 0.1980752,\n",
       " 'goal_name_accuracy': 0.9065421,\n",
       " 'goal_name_l2': 0.1864809,\n",
       " 'goal_area_accuracy': 0.8340821,\n",
       " 'goal_area_l2': 0.2634912,\n",
       " 'goal_joint_accuracy': 0.5474453,\n",
       " 'goal_joint_l2': 0.616392,\n",
       " 'requested_all_accuracy': 0.8222142,\n",
       " 'requested_all_l2': 0.282803,\n",
       " 'method_accuracy': 0.8564408,\n",
       " 'method_l2': 0.2238429}"
      ]
     },
     "execution_count": 12,
     "metadata": {},
     "output_type": "execute_result"
    }
   ],
   "source": [
    "dev_tracker, _ = make_tracker(model_All, raw_X_dev, raw_Y_dev, dataset = \"dstc2_dev\", percentage = 1.0)\n",
    "get_scores(dev_tracker, dataset = \"dstc2_dev\", ontology = ontology)"
   ]
  },
  {
   "cell_type": "code",
   "execution_count": 13,
   "metadata": {},
   "outputs": [
    {
     "data": {
      "application/vnd.jupyter.widget-view+json": {
       "model_id": "67dee83dca58466e818f93757cbaee40",
       "version_major": 2,
       "version_minor": 0
      },
      "text/plain": [
       "HBox(children=(IntProgress(value=0, max=1117), HTML(value='')))"
      ]
     },
     "metadata": {},
     "output_type": "display_data"
    },
    {
     "name": "stdout",
     "output_type": "stream",
     "text": [
      "\n"
     ]
    },
    {
     "data": {
      "text/plain": [
       "{'goal_food_accuracy': 0.7550174,\n",
       " 'goal_food_l2': 0.3484232,\n",
       " 'goal_pricerange_accuracy': 0.8415325,\n",
       " 'goal_pricerange_l2': 0.246297,\n",
       " 'goal_name_accuracy': 0.961326,\n",
       " 'goal_name_l2': 0.077427,\n",
       " 'goal_area_accuracy': 0.8169552,\n",
       " 'goal_area_l2': 0.2771145,\n",
       " 'goal_joint_accuracy': 0.5609454,\n",
       " 'goal_joint_l2': 0.5856348,\n",
       " 'requested_all_accuracy': 0.8393818,\n",
       " 'requested_all_l2': 0.2425617,\n",
       " 'method_accuracy': 0.8952176,\n",
       " 'method_l2': 0.1626297}"
      ]
     },
     "execution_count": 13,
     "metadata": {},
     "output_type": "execute_result"
    }
   ],
   "source": [
    "test_tracker, _ = make_tracker(model_All, raw_X_test, raw_Y_test, dataset = \"dstc2_test\", percentage = 1.0)\n",
    "get_scores(test_tracker, dataset = \"dstc2_test\", ontology = ontology)"
   ]
  },
  {
   "cell_type": "markdown",
   "metadata": {},
   "source": [
    "### Plotting"
   ]
  },
  {
   "cell_type": "code",
   "execution_count": 18,
   "metadata": {},
   "outputs": [],
   "source": [
    "def frange(start, stop, step):\n",
    "    i = start\n",
    "    while i < stop:\n",
    "        i = np.around(i, decimals = 2)\n",
    "        yield i\n",
    "        i += step    \n",
    "    \n",
    "#--------------------\n",
    "\n",
    "def plotly_plot_incremental(goal_pricerange_accuracies, goal_area_accuracies, goal_name_accuracies, goal_food_accuracies,\n",
    "                            requested_accuracies, method_accuracies, percentages, dataset):\n",
    "    \n",
    "    if dataset == \"dstc2_train\":\n",
    "        dataset = \"TRAIN\"\n",
    "    elif dataset == \"dstc2_dev\":\n",
    "        dataset = \"DEV\"\n",
    "    else:\n",
    "        dataset = \"TEST\"\n",
    "        \n",
    "    plotly.offline.iplot({\"data\": [Scatter(x = percentages, y = goal_pricerange_accuracies, mode = \"lines+markers\", name = \"{} Goal Pricerange Accuracy\".format(dataset), marker = dict(color = \"#1abc9c\")),\n",
    "                                   Scatter(x = percentages, y = goal_area_accuracies, mode = \"lines+markers\", name = \"{} Goal Area Accuracy\".format(dataset), marker = dict(color = \"#3498db\")),\n",
    "                                   Scatter(x = percentages, y = goal_name_accuracies, mode = \"lines+markers\", name = \"{} Goal Name Accuracy\".format(dataset), marker = dict(color = \"#9b59b6\")),\n",
    "                                   Scatter(x = percentages, y = goal_food_accuracies, mode = \"lines+markers\", name = \"{} Goal Food Accuracy\".format(dataset), marker = dict(color = \"#e74c3c\")),\n",
    "                                   Scatter(x = percentages, y = requested_accuracies, mode = \"lines+markers\", name = \"{} Requested Accuracy\".format(dataset), marker = dict(color = \"#34495e\")),\n",
    "                                   Scatter(x = percentages, y = method_accuracies, mode = \"lines+markers\", name = \"{} Method Accuracy\".format(dataset), marker = dict(color = \"#f1c40f\"))],\n",
    "                            \"layout\": Layout(title = \"<b>{} Percentage - Accuracy</b>\".format(dataset),\n",
    "                                             xaxis = dict(title = \"<b>Percentage</b>\",\n",
    "                                                          dtick = 0.1,\n",
    "                                                          titlefont = dict(color = \"#34495e\")),\n",
    "                                             yaxis = dict(title = \"<b>Accuracy</b>\",\n",
    "                                                          dtick = 0.05,\n",
    "                                                          titlefont = dict(color = \"#34495e\")),\n",
    "                                             margin = Margin(b = 150))})"
   ]
  },
  {
   "cell_type": "code",
   "execution_count": 16,
   "metadata": {},
   "outputs": [
    {
     "data": {
      "application/vnd.jupyter.widget-view+json": {
       "model_id": "97970ad217784ee5bb9f22bc5e86da08",
       "version_major": 2,
       "version_minor": 0
      },
      "text/plain": [
       "HBox(children=(IntProgress(value=0, max=10), HTML(value='')))"
      ]
     },
     "metadata": {},
     "output_type": "display_data"
    },
    {
     "data": {
      "application/vnd.jupyter.widget-view+json": {
       "model_id": "4b95c335233c4a36907423fb420063d3",
       "version_major": 2,
       "version_minor": 0
      },
      "text/plain": [
       "HBox(children=(IntProgress(value=0, max=506), HTML(value='')))"
      ]
     },
     "metadata": {},
     "output_type": "display_data"
    },
    {
     "data": {
      "application/vnd.jupyter.widget-view+json": {
       "model_id": "20ca71f6679d4f40b6474f18cd348b69",
       "version_major": 2,
       "version_minor": 0
      },
      "text/plain": [
       "HBox(children=(IntProgress(value=0, max=1117), HTML(value='')))"
      ]
     },
     "metadata": {},
     "output_type": "display_data"
    },
    {
     "data": {
      "application/vnd.jupyter.widget-view+json": {
       "model_id": "c8fbd66ef52c45d385b7a78e71716b5e",
       "version_major": 2,
       "version_minor": 0
      },
      "text/plain": [
       "HBox(children=(IntProgress(value=0, max=506), HTML(value='')))"
      ]
     },
     "metadata": {},
     "output_type": "display_data"
    },
    {
     "data": {
      "application/vnd.jupyter.widget-view+json": {
       "model_id": "6013e581f64447bf867ec63cdeaf1a14",
       "version_major": 2,
       "version_minor": 0
      },
      "text/plain": [
       "HBox(children=(IntProgress(value=0, max=1117), HTML(value='')))"
      ]
     },
     "metadata": {},
     "output_type": "display_data"
    },
    {
     "data": {
      "application/vnd.jupyter.widget-view+json": {
       "model_id": "2038b40f27d94a0f9dd4be95eb6baa74",
       "version_major": 2,
       "version_minor": 0
      },
      "text/plain": [
       "HBox(children=(IntProgress(value=0, max=506), HTML(value='')))"
      ]
     },
     "metadata": {},
     "output_type": "display_data"
    },
    {
     "data": {
      "application/vnd.jupyter.widget-view+json": {
       "model_id": "efc36b309417459787d625b8a6b53a29",
       "version_major": 2,
       "version_minor": 0
      },
      "text/plain": [
       "HBox(children=(IntProgress(value=0, max=1117), HTML(value='')))"
      ]
     },
     "metadata": {},
     "output_type": "display_data"
    },
    {
     "data": {
      "application/vnd.jupyter.widget-view+json": {
       "model_id": "5437a8da74fe449e82e25c02a3ae4324",
       "version_major": 2,
       "version_minor": 0
      },
      "text/plain": [
       "HBox(children=(IntProgress(value=0, max=506), HTML(value='')))"
      ]
     },
     "metadata": {},
     "output_type": "display_data"
    },
    {
     "data": {
      "application/vnd.jupyter.widget-view+json": {
       "model_id": "8cf9d038246f4fc096aebfc347a45008",
       "version_major": 2,
       "version_minor": 0
      },
      "text/plain": [
       "HBox(children=(IntProgress(value=0, max=1117), HTML(value='')))"
      ]
     },
     "metadata": {},
     "output_type": "display_data"
    },
    {
     "data": {
      "application/vnd.jupyter.widget-view+json": {
       "model_id": "d65614d425854e6a8846c829a1c32955",
       "version_major": 2,
       "version_minor": 0
      },
      "text/plain": [
       "HBox(children=(IntProgress(value=0, max=506), HTML(value='')))"
      ]
     },
     "metadata": {},
     "output_type": "display_data"
    },
    {
     "data": {
      "application/vnd.jupyter.widget-view+json": {
       "model_id": "e59c19265aa0427b975732f8a39c1fb5",
       "version_major": 2,
       "version_minor": 0
      },
      "text/plain": [
       "HBox(children=(IntProgress(value=0, max=1117), HTML(value='')))"
      ]
     },
     "metadata": {},
     "output_type": "display_data"
    },
    {
     "data": {
      "application/vnd.jupyter.widget-view+json": {
       "model_id": "7ea01249332945e39c9a664997b82295",
       "version_major": 2,
       "version_minor": 0
      },
      "text/plain": [
       "HBox(children=(IntProgress(value=0, max=506), HTML(value='')))"
      ]
     },
     "metadata": {},
     "output_type": "display_data"
    },
    {
     "data": {
      "application/vnd.jupyter.widget-view+json": {
       "model_id": "ee09170d0f454705ac9cbbe9a2c01187",
       "version_major": 2,
       "version_minor": 0
      },
      "text/plain": [
       "HBox(children=(IntProgress(value=0, max=1117), HTML(value='')))"
      ]
     },
     "metadata": {},
     "output_type": "display_data"
    },
    {
     "data": {
      "application/vnd.jupyter.widget-view+json": {
       "model_id": "d6a2b619f6904f4bbf899f14e0eaac14",
       "version_major": 2,
       "version_minor": 0
      },
      "text/plain": [
       "HBox(children=(IntProgress(value=0, max=506), HTML(value='')))"
      ]
     },
     "metadata": {},
     "output_type": "display_data"
    },
    {
     "data": {
      "application/vnd.jupyter.widget-view+json": {
       "model_id": "a9dfcd4fffd248cc85a445251be66263",
       "version_major": 2,
       "version_minor": 0
      },
      "text/plain": [
       "HBox(children=(IntProgress(value=0, max=1117), HTML(value='')))"
      ]
     },
     "metadata": {},
     "output_type": "display_data"
    },
    {
     "data": {
      "application/vnd.jupyter.widget-view+json": {
       "model_id": "20e0cebd90af4c8f82405985f6256020",
       "version_major": 2,
       "version_minor": 0
      },
      "text/plain": [
       "HBox(children=(IntProgress(value=0, max=506), HTML(value='')))"
      ]
     },
     "metadata": {},
     "output_type": "display_data"
    },
    {
     "data": {
      "application/vnd.jupyter.widget-view+json": {
       "model_id": "d0a4c28e4a804543885ed2062ef5818d",
       "version_major": 2,
       "version_minor": 0
      },
      "text/plain": [
       "HBox(children=(IntProgress(value=0, max=1117), HTML(value='')))"
      ]
     },
     "metadata": {},
     "output_type": "display_data"
    },
    {
     "data": {
      "application/vnd.jupyter.widget-view+json": {
       "model_id": "586904cd2cbf4ca889609c70ecfac60e",
       "version_major": 2,
       "version_minor": 0
      },
      "text/plain": [
       "HBox(children=(IntProgress(value=0, max=506), HTML(value='')))"
      ]
     },
     "metadata": {},
     "output_type": "display_data"
    },
    {
     "data": {
      "application/vnd.jupyter.widget-view+json": {
       "model_id": "12fb2134e0cd408190d37913b2c2f33f",
       "version_major": 2,
       "version_minor": 0
      },
      "text/plain": [
       "HBox(children=(IntProgress(value=0, max=1117), HTML(value='')))"
      ]
     },
     "metadata": {},
     "output_type": "display_data"
    },
    {
     "data": {
      "application/vnd.jupyter.widget-view+json": {
       "model_id": "93459959ca0c4073ba825adab8eff2c8",
       "version_major": 2,
       "version_minor": 0
      },
      "text/plain": [
       "HBox(children=(IntProgress(value=0, max=506), HTML(value='')))"
      ]
     },
     "metadata": {},
     "output_type": "display_data"
    },
    {
     "data": {
      "application/vnd.jupyter.widget-view+json": {
       "model_id": "a13e23e6fb5241dfbe0bcfd87e4e5dda",
       "version_major": 2,
       "version_minor": 0
      },
      "text/plain": [
       "HBox(children=(IntProgress(value=0, max=1117), HTML(value='')))"
      ]
     },
     "metadata": {},
     "output_type": "display_data"
    },
    {
     "name": "stdout",
     "output_type": "stream",
     "text": [
      "\n"
     ]
    }
   ],
   "source": [
    "dev_goal_pricerange_accuracies = []\n",
    "dev_goal_area_accuracies = []\n",
    "dev_goal_name_accuracies = []\n",
    "dev_goal_food_accuracies = []\n",
    "dev_requested_accuracies = []\n",
    "dev_method_accuracies = []\n",
    "dev_percentages = []\n",
    "\n",
    "test_goal_pricerange_accuracies = []\n",
    "test_goal_area_accuracies = []\n",
    "test_goal_name_accuracies = []\n",
    "test_goal_food_accuracies = []\n",
    "test_requested_accuracies = []\n",
    "test_method_accuracies = []\n",
    "test_percentages = []\n",
    "\n",
    "percentages = list(frange(0.1, 1.05, 0.1))\n",
    "for percentage in tqdm_notebook(percentages, total = len(percentages)):\n",
    "    \n",
    "    dev_incremental_tracker, dev_incremental_percentage = make_tracker(model_All, raw_X_dev, raw_Y_dev, dataset = \"dstc2_dev\", percentage = percentage)\n",
    "    dev_percentages.append(dev_incremental_percentage)\n",
    "    dev_scores_dict = get_scores(dev_incremental_tracker, dataset = \"dstc2_dev\", ontology = ontology)\n",
    "    dev_goal_pricerange_accuracies.append(dev_scores_dict[\"goal_pricerange_accuracy\"])\n",
    "    dev_goal_area_accuracies.append(dev_scores_dict[\"goal_area_accuracy\"])\n",
    "    dev_goal_name_accuracies.append(dev_scores_dict[\"goal_name_accuracy\"])\n",
    "    dev_goal_food_accuracies.append(dev_scores_dict[\"goal_food_accuracy\"])\n",
    "    dev_requested_accuracies.append(dev_scores_dict[\"requested_all_accuracy\"])\n",
    "    dev_method_accuracies.append(dev_scores_dict[\"method_accuracy\"])\n",
    "    \n",
    "    test_incremental_tracker, test_incremental_percentage = make_tracker(model_All, raw_X_test, raw_Y_test, dataset = \"dstc2_test\", percentage = percentage)\n",
    "    test_percentages.append(test_incremental_percentage)\n",
    "    test_scores_dict = get_scores(test_incremental_tracker, dataset = \"dstc2_test\", ontology = ontology)\n",
    "    test_goal_pricerange_accuracies.append(test_scores_dict[\"goal_pricerange_accuracy\"])\n",
    "    test_goal_area_accuracies.append(test_scores_dict[\"goal_area_accuracy\"])\n",
    "    test_goal_name_accuracies.append(test_scores_dict[\"goal_name_accuracy\"])\n",
    "    test_goal_food_accuracies.append(test_scores_dict[\"goal_food_accuracy\"])\n",
    "    test_requested_accuracies.append(test_scores_dict[\"requested_all_accuracy\"])\n",
    "    test_method_accuracies.append(test_scores_dict[\"method_accuracy\"])"
   ]
  },
  {
   "cell_type": "code",
   "execution_count": 19,
   "metadata": {},
   "outputs": [
    {
     "data": {
      "application/vnd.plotly.v1+json": {
       "config": {
        "linkText": "Export to plot.ly",
        "plotlyServerURL": "https://plot.ly",
        "showLink": false
       },
       "data": [
        {
         "marker": {
          "color": "#1abc9c"
         },
         "mode": "lines+markers",
         "name": "DEV Goal Pricerange Accuracy",
         "type": "scatter",
         "uid": "d27112a4-3e62-4004-a3a7-f9f406ebfbd5",
         "x": [
          0.02,
          0.16,
          0.28,
          0.34,
          0.42,
          0.66,
          0.74,
          0.84,
          0.96,
          1
         ],
         "y": [
          0.7794176,
          0.7865975,
          0.7977663,
          0.8177104,
          0.8356602,
          0.8520144,
          0.8623853,
          0.8647786,
          0.8675708,
          0.8691663
         ]
        },
        {
         "marker": {
          "color": "#3498db"
         },
         "mode": "lines+markers",
         "name": "DEV Goal Area Accuracy",
         "type": "scatter",
         "uid": "c4ccb300-eee0-4c99-a1aa-3622b106a63d",
         "x": [
          0.02,
          0.16,
          0.28,
          0.34,
          0.42,
          0.66,
          0.74,
          0.84,
          0.96,
          1
         ],
         "y": [
          0.7481282,
          0.7526205,
          0.7592093,
          0.7634022,
          0.7723869,
          0.7966457,
          0.8095238,
          0.8289907,
          0.8313866,
          0.8340821
         ]
        },
        {
         "marker": {
          "color": "#9b59b6"
         },
         "mode": "lines+markers",
         "name": "DEV Goal Name Accuracy",
         "type": "scatter",
         "uid": "251f9e6a-aa42-4189-bedf-8b1499a11d7a",
         "x": [
          0.02,
          0.16,
          0.28,
          0.34,
          0.42,
          0.66,
          0.74,
          0.84,
          0.96,
          1
         ],
         "y": [
          0.9065421,
          0.9065421,
          0.9065421,
          0.9065421,
          0.9065421,
          0.9065421,
          0.9065421,
          0.9065421,
          0.9065421,
          0.9065421
         ]
        },
        {
         "marker": {
          "color": "#e74c3c"
         },
         "mode": "lines+markers",
         "name": "DEV Goal Food Accuracy",
         "type": "scatter",
         "uid": "d358a68a-5651-4f08-96c4-4a457594a712",
         "x": [
          0.02,
          0.16,
          0.28,
          0.34,
          0.42,
          0.66,
          0.74,
          0.84,
          0.96,
          1
         ],
         "y": [
          0.6081891,
          0.611518,
          0.6254993,
          0.6278296,
          0.6344874,
          0.6471372,
          0.662783,
          0.6714381,
          0.6860852,
          0.6824234
         ]
        },
        {
         "marker": {
          "color": "#34495e"
         },
         "mode": "lines+markers",
         "name": "DEV Requested Accuracy",
         "type": "scatter",
         "uid": "0be49c10-bf2e-418a-9ab1-40d002635dfb",
         "x": [
          0.02,
          0.16,
          0.28,
          0.34,
          0.42,
          0.66,
          0.74,
          0.84,
          0.96,
          1
         ],
         "y": [
          0.619185,
          0.6498377,
          0.6678687,
          0.6736387,
          0.686621,
          0.7201587,
          0.7500902,
          0.7847097,
          0.8113956,
          0.8222142
         ]
        },
        {
         "marker": {
          "color": "#f1c40f"
         },
         "mode": "lines+markers",
         "name": "DEV Method Accuracy",
         "type": "scatter",
         "uid": "32450173-c0c1-4593-9f84-fa66610c4b95",
         "x": [
          0.02,
          0.16,
          0.28,
          0.34,
          0.42,
          0.66,
          0.74,
          0.84,
          0.96,
          1
         ],
         "y": [
          0.7490947,
          0.8150543,
          0.8352302,
          0.8463528,
          0.8486808,
          0.8554061,
          0.8569581,
          0.8572168,
          0.8569581,
          0.8564408
         ]
        }
       ],
       "layout": {
        "margin": {
         "b": 150
        },
        "title": {
         "text": "<b>DEV Percentage - Accuracy</b>"
        },
        "xaxis": {
         "dtick": 0.1,
         "title": {
          "font": {
           "color": "#34495e"
          },
          "text": "<b>Percentage</b>"
         }
        },
        "yaxis": {
         "dtick": 0.05,
         "title": {
          "font": {
           "color": "#34495e"
          },
          "text": "<b>Accuracy</b>"
         }
        }
       }
      },
      "text/html": [
       "<div id=\"08379a92-53f7-4eb3-9cfa-6a761999f78e\" style=\"height: 525px; width: 100%;\" class=\"plotly-graph-div\"></div><script type=\"text/javascript\">require([\"plotly\"], function(Plotly) { window.PLOTLYENV=window.PLOTLYENV || {};window.PLOTLYENV.BASE_URL=\"https://plot.ly\";Plotly.newPlot(\"08379a92-53f7-4eb3-9cfa-6a761999f78e\", [{\"marker\": {\"color\": \"#1abc9c\"}, \"mode\": \"lines+markers\", \"name\": \"DEV Goal Pricerange Accuracy\", \"x\": [0.02, 0.16, 0.28, 0.34, 0.42, 0.66, 0.74, 0.84, 0.96, 1.0], \"y\": [0.7794176, 0.7865975, 0.7977663, 0.8177104, 0.8356602, 0.8520144, 0.8623853, 0.8647786, 0.8675708, 0.8691663], \"type\": \"scatter\", \"uid\": \"8a80c70c-7199-4e62-b473-b7dd82e56dc5\"}, {\"marker\": {\"color\": \"#3498db\"}, \"mode\": \"lines+markers\", \"name\": \"DEV Goal Area Accuracy\", \"x\": [0.02, 0.16, 0.28, 0.34, 0.42, 0.66, 0.74, 0.84, 0.96, 1.0], \"y\": [0.7481282, 0.7526205, 0.7592093, 0.7634022, 0.7723869, 0.7966457, 0.8095238, 0.8289907, 0.8313866, 0.8340821], \"type\": \"scatter\", \"uid\": \"37cf7595-29a6-476e-bc5d-a7a169d1f18a\"}, {\"marker\": {\"color\": \"#9b59b6\"}, \"mode\": \"lines+markers\", \"name\": \"DEV Goal Name Accuracy\", \"x\": [0.02, 0.16, 0.28, 0.34, 0.42, 0.66, 0.74, 0.84, 0.96, 1.0], \"y\": [0.9065421, 0.9065421, 0.9065421, 0.9065421, 0.9065421, 0.9065421, 0.9065421, 0.9065421, 0.9065421, 0.9065421], \"type\": \"scatter\", \"uid\": \"54ec0f45-22bb-40b5-b075-80ec29e792ec\"}, {\"marker\": {\"color\": \"#e74c3c\"}, \"mode\": \"lines+markers\", \"name\": \"DEV Goal Food Accuracy\", \"x\": [0.02, 0.16, 0.28, 0.34, 0.42, 0.66, 0.74, 0.84, 0.96, 1.0], \"y\": [0.6081891, 0.611518, 0.6254993, 0.6278296, 0.6344874, 0.6471372, 0.662783, 0.6714381, 0.6860852, 0.6824234], \"type\": \"scatter\", \"uid\": \"0cbd3557-0bd9-4e4d-bfd4-c2c84b4bde3d\"}, {\"marker\": {\"color\": \"#34495e\"}, \"mode\": \"lines+markers\", \"name\": \"DEV Requested Accuracy\", \"x\": [0.02, 0.16, 0.28, 0.34, 0.42, 0.66, 0.74, 0.84, 0.96, 1.0], \"y\": [0.619185, 0.6498377, 0.6678687, 0.6736387, 0.686621, 0.7201587, 0.7500902, 0.7847097, 0.8113956, 0.8222142], \"type\": \"scatter\", \"uid\": \"eed45772-edd3-48dd-8990-00d48b671988\"}, {\"marker\": {\"color\": \"#f1c40f\"}, \"mode\": \"lines+markers\", \"name\": \"DEV Method Accuracy\", \"x\": [0.02, 0.16, 0.28, 0.34, 0.42, 0.66, 0.74, 0.84, 0.96, 1.0], \"y\": [0.7490947, 0.8150543, 0.8352302, 0.8463528, 0.8486808, 0.8554061, 0.8569581, 0.8572168, 0.8569581, 0.8564408], \"type\": \"scatter\", \"uid\": \"b2150f2f-4516-41fe-85f0-16489f56d3df\"}], {\"margin\": {\"b\": 150}, \"title\": {\"text\": \"<b>DEV Percentage - Accuracy</b>\"}, \"xaxis\": {\"dtick\": 0.1, \"title\": {\"font\": {\"color\": \"#34495e\"}, \"text\": \"<b>Percentage</b>\"}}, \"yaxis\": {\"dtick\": 0.05, \"title\": {\"font\": {\"color\": \"#34495e\"}, \"text\": \"<b>Accuracy</b>\"}}}, {\"showLink\": false, \"linkText\": \"Export to plot.ly\", \"plotlyServerURL\": \"https://plot.ly\"})});</script><script type=\"text/javascript\">window.addEventListener(\"resize\", function(){window._Plotly.Plots.resize(document.getElementById(\"08379a92-53f7-4eb3-9cfa-6a761999f78e\"));});</script>"
      ],
      "text/vnd.plotly.v1+html": [
       "<div id=\"08379a92-53f7-4eb3-9cfa-6a761999f78e\" style=\"height: 525px; width: 100%;\" class=\"plotly-graph-div\"></div><script type=\"text/javascript\">require([\"plotly\"], function(Plotly) { window.PLOTLYENV=window.PLOTLYENV || {};window.PLOTLYENV.BASE_URL=\"https://plot.ly\";Plotly.newPlot(\"08379a92-53f7-4eb3-9cfa-6a761999f78e\", [{\"marker\": {\"color\": \"#1abc9c\"}, \"mode\": \"lines+markers\", \"name\": \"DEV Goal Pricerange Accuracy\", \"x\": [0.02, 0.16, 0.28, 0.34, 0.42, 0.66, 0.74, 0.84, 0.96, 1.0], \"y\": [0.7794176, 0.7865975, 0.7977663, 0.8177104, 0.8356602, 0.8520144, 0.8623853, 0.8647786, 0.8675708, 0.8691663], \"type\": \"scatter\", \"uid\": \"8a80c70c-7199-4e62-b473-b7dd82e56dc5\"}, {\"marker\": {\"color\": \"#3498db\"}, \"mode\": \"lines+markers\", \"name\": \"DEV Goal Area Accuracy\", \"x\": [0.02, 0.16, 0.28, 0.34, 0.42, 0.66, 0.74, 0.84, 0.96, 1.0], \"y\": [0.7481282, 0.7526205, 0.7592093, 0.7634022, 0.7723869, 0.7966457, 0.8095238, 0.8289907, 0.8313866, 0.8340821], \"type\": \"scatter\", \"uid\": \"37cf7595-29a6-476e-bc5d-a7a169d1f18a\"}, {\"marker\": {\"color\": \"#9b59b6\"}, \"mode\": \"lines+markers\", \"name\": \"DEV Goal Name Accuracy\", \"x\": [0.02, 0.16, 0.28, 0.34, 0.42, 0.66, 0.74, 0.84, 0.96, 1.0], \"y\": [0.9065421, 0.9065421, 0.9065421, 0.9065421, 0.9065421, 0.9065421, 0.9065421, 0.9065421, 0.9065421, 0.9065421], \"type\": \"scatter\", \"uid\": \"54ec0f45-22bb-40b5-b075-80ec29e792ec\"}, {\"marker\": {\"color\": \"#e74c3c\"}, \"mode\": \"lines+markers\", \"name\": \"DEV Goal Food Accuracy\", \"x\": [0.02, 0.16, 0.28, 0.34, 0.42, 0.66, 0.74, 0.84, 0.96, 1.0], \"y\": [0.6081891, 0.611518, 0.6254993, 0.6278296, 0.6344874, 0.6471372, 0.662783, 0.6714381, 0.6860852, 0.6824234], \"type\": \"scatter\", \"uid\": \"0cbd3557-0bd9-4e4d-bfd4-c2c84b4bde3d\"}, {\"marker\": {\"color\": \"#34495e\"}, \"mode\": \"lines+markers\", \"name\": \"DEV Requested Accuracy\", \"x\": [0.02, 0.16, 0.28, 0.34, 0.42, 0.66, 0.74, 0.84, 0.96, 1.0], \"y\": [0.619185, 0.6498377, 0.6678687, 0.6736387, 0.686621, 0.7201587, 0.7500902, 0.7847097, 0.8113956, 0.8222142], \"type\": \"scatter\", \"uid\": \"eed45772-edd3-48dd-8990-00d48b671988\"}, {\"marker\": {\"color\": \"#f1c40f\"}, \"mode\": \"lines+markers\", \"name\": \"DEV Method Accuracy\", \"x\": [0.02, 0.16, 0.28, 0.34, 0.42, 0.66, 0.74, 0.84, 0.96, 1.0], \"y\": [0.7490947, 0.8150543, 0.8352302, 0.8463528, 0.8486808, 0.8554061, 0.8569581, 0.8572168, 0.8569581, 0.8564408], \"type\": \"scatter\", \"uid\": \"b2150f2f-4516-41fe-85f0-16489f56d3df\"}], {\"margin\": {\"b\": 150}, \"title\": {\"text\": \"<b>DEV Percentage - Accuracy</b>\"}, \"xaxis\": {\"dtick\": 0.1, \"title\": {\"font\": {\"color\": \"#34495e\"}, \"text\": \"<b>Percentage</b>\"}}, \"yaxis\": {\"dtick\": 0.05, \"title\": {\"font\": {\"color\": \"#34495e\"}, \"text\": \"<b>Accuracy</b>\"}}}, {\"showLink\": false, \"linkText\": \"Export to plot.ly\", \"plotlyServerURL\": \"https://plot.ly\"})});</script><script type=\"text/javascript\">window.addEventListener(\"resize\", function(){window._Plotly.Plots.resize(document.getElementById(\"08379a92-53f7-4eb3-9cfa-6a761999f78e\"));});</script>"
      ]
     },
     "metadata": {},
     "output_type": "display_data"
    }
   ],
   "source": [
    "plotly_plot_incremental(dev_goal_pricerange_accuracies, dev_goal_area_accuracies, dev_goal_name_accuracies, dev_goal_food_accuracies,\n",
    "                        dev_requested_accuracies, dev_method_accuracies, dev_percentages, \"dstc2_dev\")"
   ]
  },
  {
   "cell_type": "code",
   "execution_count": 20,
   "metadata": {},
   "outputs": [
    {
     "data": {
      "application/vnd.plotly.v1+json": {
       "config": {
        "linkText": "Export to plot.ly",
        "plotlyServerURL": "https://plot.ly",
        "showLink": false
       },
       "data": [
        {
         "marker": {
          "color": "#1abc9c"
         },
         "mode": "lines+markers",
         "name": "TEST Goal Pricerange Accuracy",
         "type": "scatter",
         "uid": "9380f234-2914-4d2f-881d-e25fbec69553",
         "x": [
          0.02,
          0.14,
          0.26,
          0.32,
          0.4,
          0.68,
          0.75,
          0.86,
          0.96,
          1
         ],
         "y": [
          0.7574538,
          0.7640131,
          0.7792188,
          0.7895051,
          0.8121646,
          0.8290101,
          0.8369112,
          0.8398927,
          0.840638,
          0.8415325
         ]
        },
        {
         "marker": {
          "color": "#3498db"
         },
         "mode": "lines+markers",
         "name": "TEST Goal Area Accuracy",
         "type": "scatter",
         "uid": "21bdc971-b63d-423e-b7c2-7469bcf5693a",
         "x": [
          0.02,
          0.14,
          0.26,
          0.32,
          0.4,
          0.68,
          0.75,
          0.86,
          0.96,
          1
         ],
         "y": [
          0.7436418,
          0.7480597,
          0.7515224,
          0.7540299,
          0.7648955,
          0.7825672,
          0.7970149,
          0.8122985,
          0.8149254,
          0.8169552
         ]
        },
        {
         "marker": {
          "color": "#9b59b6"
         },
         "mode": "lines+markers",
         "name": "TEST Goal Name Accuracy",
         "type": "scatter",
         "uid": "1b453e4e-296a-4b76-bab0-c5a868481714",
         "x": [
          0.02,
          0.14,
          0.26,
          0.32,
          0.4,
          0.68,
          0.75,
          0.86,
          0.96,
          1
         ],
         "y": [
          0.961326,
          0.961326,
          0.961326,
          0.961326,
          0.961326,
          0.961326,
          0.961326,
          0.961326,
          0.961326,
          0.961326
         ]
        },
        {
         "marker": {
          "color": "#e74c3c"
         },
         "mode": "lines+markers",
         "name": "TEST Goal Food Accuracy",
         "type": "scatter",
         "uid": "b3b750e3-887f-4ffe-8f5f-7e2cf8e622a0",
         "x": [
          0.02,
          0.14,
          0.26,
          0.32,
          0.4,
          0.68,
          0.75,
          0.86,
          0.96,
          1
         ],
         "y": [
          0.6863998,
          0.6889786,
          0.7064693,
          0.7085996,
          0.7131965,
          0.7255298,
          0.7394327,
          0.7427963,
          0.7545689,
          0.7550174
         ]
        },
        {
         "marker": {
          "color": "#34495e"
         },
         "mode": "lines+markers",
         "name": "TEST Requested Accuracy",
         "type": "scatter",
         "uid": "18799a36-a6e6-4b98-beef-5c160ffb1e22",
         "x": [
          0.02,
          0.14,
          0.26,
          0.32,
          0.4,
          0.68,
          0.75,
          0.86,
          0.96,
          1
         ],
         "y": [
          0.6122591,
          0.6480292,
          0.6709498,
          0.6817156,
          0.695086,
          0.7445737,
          0.7815593,
          0.8152457,
          0.833478,
          0.8393818
         ]
        },
        {
         "marker": {
          "color": "#f1c40f"
         },
         "mode": "lines+markers",
         "name": "TEST Method Accuracy",
         "type": "scatter",
         "uid": "d31e7391-a029-4b49-8152-613f5a39248f",
         "x": [
          0.02,
          0.14,
          0.26,
          0.32,
          0.4,
          0.68,
          0.75,
          0.86,
          0.96,
          1
         ],
         "y": [
          0.8008005,
          0.8610427,
          0.8757184,
          0.8841338,
          0.8865969,
          0.8895731,
          0.8921388,
          0.8971675,
          0.8958333,
          0.8952176
         ]
        }
       ],
       "layout": {
        "margin": {
         "b": 150
        },
        "title": {
         "text": "<b>TEST Percentage - Accuracy</b>"
        },
        "xaxis": {
         "dtick": 0.1,
         "title": {
          "font": {
           "color": "#34495e"
          },
          "text": "<b>Percentage</b>"
         }
        },
        "yaxis": {
         "dtick": 0.05,
         "title": {
          "font": {
           "color": "#34495e"
          },
          "text": "<b>Accuracy</b>"
         }
        }
       }
      },
      "text/html": [
       "<div id=\"f9b2594c-e0c6-4e17-b7df-c5cb651bcd9b\" style=\"height: 525px; width: 100%;\" class=\"plotly-graph-div\"></div><script type=\"text/javascript\">require([\"plotly\"], function(Plotly) { window.PLOTLYENV=window.PLOTLYENV || {};window.PLOTLYENV.BASE_URL=\"https://plot.ly\";Plotly.newPlot(\"f9b2594c-e0c6-4e17-b7df-c5cb651bcd9b\", [{\"marker\": {\"color\": \"#1abc9c\"}, \"mode\": \"lines+markers\", \"name\": \"TEST Goal Pricerange Accuracy\", \"x\": [0.02, 0.14, 0.26, 0.32, 0.4, 0.68, 0.75, 0.86, 0.96, 1.0], \"y\": [0.7574538, 0.7640131, 0.7792188, 0.7895051, 0.8121646, 0.8290101, 0.8369112, 0.8398927, 0.840638, 0.8415325], \"type\": \"scatter\", \"uid\": \"4c6ac1d0-959d-4268-813d-a3f402710510\"}, {\"marker\": {\"color\": \"#3498db\"}, \"mode\": \"lines+markers\", \"name\": \"TEST Goal Area Accuracy\", \"x\": [0.02, 0.14, 0.26, 0.32, 0.4, 0.68, 0.75, 0.86, 0.96, 1.0], \"y\": [0.7436418, 0.7480597, 0.7515224, 0.7540299, 0.7648955, 0.7825672, 0.7970149, 0.8122985, 0.8149254, 0.8169552], \"type\": \"scatter\", \"uid\": \"0fa1a687-a650-4fe1-83a3-b6e3306fca9b\"}, {\"marker\": {\"color\": \"#9b59b6\"}, \"mode\": \"lines+markers\", \"name\": \"TEST Goal Name Accuracy\", \"x\": [0.02, 0.14, 0.26, 0.32, 0.4, 0.68, 0.75, 0.86, 0.96, 1.0], \"y\": [0.961326, 0.961326, 0.961326, 0.961326, 0.961326, 0.961326, 0.961326, 0.961326, 0.961326, 0.961326], \"type\": \"scatter\", \"uid\": \"e8e23b5e-54ed-4079-a796-1389f9ee2ba6\"}, {\"marker\": {\"color\": \"#e74c3c\"}, \"mode\": \"lines+markers\", \"name\": \"TEST Goal Food Accuracy\", \"x\": [0.02, 0.14, 0.26, 0.32, 0.4, 0.68, 0.75, 0.86, 0.96, 1.0], \"y\": [0.6863998, 0.6889786, 0.7064693, 0.7085996, 0.7131965, 0.7255298, 0.7394327, 0.7427963, 0.7545689, 0.7550174], \"type\": \"scatter\", \"uid\": \"81a7ed7a-1c39-430d-9bbd-02699257c3bc\"}, {\"marker\": {\"color\": \"#34495e\"}, \"mode\": \"lines+markers\", \"name\": \"TEST Requested Accuracy\", \"x\": [0.02, 0.14, 0.26, 0.32, 0.4, 0.68, 0.75, 0.86, 0.96, 1.0], \"y\": [0.6122591, 0.6480292, 0.6709498, 0.6817156, 0.695086, 0.7445737, 0.7815593, 0.8152457, 0.833478, 0.8393818], \"type\": \"scatter\", \"uid\": \"0579e95e-9c2e-44a2-b90f-312e693e86f4\"}, {\"marker\": {\"color\": \"#f1c40f\"}, \"mode\": \"lines+markers\", \"name\": \"TEST Method Accuracy\", \"x\": [0.02, 0.14, 0.26, 0.32, 0.4, 0.68, 0.75, 0.86, 0.96, 1.0], \"y\": [0.8008005, 0.8610427, 0.8757184, 0.8841338, 0.8865969, 0.8895731, 0.8921388, 0.8971675, 0.8958333, 0.8952176], \"type\": \"scatter\", \"uid\": \"43158116-94a4-4256-8f72-a0066e7a1380\"}], {\"margin\": {\"b\": 150}, \"title\": {\"text\": \"<b>TEST Percentage - Accuracy</b>\"}, \"xaxis\": {\"dtick\": 0.1, \"title\": {\"font\": {\"color\": \"#34495e\"}, \"text\": \"<b>Percentage</b>\"}}, \"yaxis\": {\"dtick\": 0.05, \"title\": {\"font\": {\"color\": \"#34495e\"}, \"text\": \"<b>Accuracy</b>\"}}}, {\"showLink\": false, \"linkText\": \"Export to plot.ly\", \"plotlyServerURL\": \"https://plot.ly\"})});</script><script type=\"text/javascript\">window.addEventListener(\"resize\", function(){window._Plotly.Plots.resize(document.getElementById(\"f9b2594c-e0c6-4e17-b7df-c5cb651bcd9b\"));});</script>"
      ],
      "text/vnd.plotly.v1+html": [
       "<div id=\"f9b2594c-e0c6-4e17-b7df-c5cb651bcd9b\" style=\"height: 525px; width: 100%;\" class=\"plotly-graph-div\"></div><script type=\"text/javascript\">require([\"plotly\"], function(Plotly) { window.PLOTLYENV=window.PLOTLYENV || {};window.PLOTLYENV.BASE_URL=\"https://plot.ly\";Plotly.newPlot(\"f9b2594c-e0c6-4e17-b7df-c5cb651bcd9b\", [{\"marker\": {\"color\": \"#1abc9c\"}, \"mode\": \"lines+markers\", \"name\": \"TEST Goal Pricerange Accuracy\", \"x\": [0.02, 0.14, 0.26, 0.32, 0.4, 0.68, 0.75, 0.86, 0.96, 1.0], \"y\": [0.7574538, 0.7640131, 0.7792188, 0.7895051, 0.8121646, 0.8290101, 0.8369112, 0.8398927, 0.840638, 0.8415325], \"type\": \"scatter\", \"uid\": \"4c6ac1d0-959d-4268-813d-a3f402710510\"}, {\"marker\": {\"color\": \"#3498db\"}, \"mode\": \"lines+markers\", \"name\": \"TEST Goal Area Accuracy\", \"x\": [0.02, 0.14, 0.26, 0.32, 0.4, 0.68, 0.75, 0.86, 0.96, 1.0], \"y\": [0.7436418, 0.7480597, 0.7515224, 0.7540299, 0.7648955, 0.7825672, 0.7970149, 0.8122985, 0.8149254, 0.8169552], \"type\": \"scatter\", \"uid\": \"0fa1a687-a650-4fe1-83a3-b6e3306fca9b\"}, {\"marker\": {\"color\": \"#9b59b6\"}, \"mode\": \"lines+markers\", \"name\": \"TEST Goal Name Accuracy\", \"x\": [0.02, 0.14, 0.26, 0.32, 0.4, 0.68, 0.75, 0.86, 0.96, 1.0], \"y\": [0.961326, 0.961326, 0.961326, 0.961326, 0.961326, 0.961326, 0.961326, 0.961326, 0.961326, 0.961326], \"type\": \"scatter\", \"uid\": \"e8e23b5e-54ed-4079-a796-1389f9ee2ba6\"}, {\"marker\": {\"color\": \"#e74c3c\"}, \"mode\": \"lines+markers\", \"name\": \"TEST Goal Food Accuracy\", \"x\": [0.02, 0.14, 0.26, 0.32, 0.4, 0.68, 0.75, 0.86, 0.96, 1.0], \"y\": [0.6863998, 0.6889786, 0.7064693, 0.7085996, 0.7131965, 0.7255298, 0.7394327, 0.7427963, 0.7545689, 0.7550174], \"type\": \"scatter\", \"uid\": \"81a7ed7a-1c39-430d-9bbd-02699257c3bc\"}, {\"marker\": {\"color\": \"#34495e\"}, \"mode\": \"lines+markers\", \"name\": \"TEST Requested Accuracy\", \"x\": [0.02, 0.14, 0.26, 0.32, 0.4, 0.68, 0.75, 0.86, 0.96, 1.0], \"y\": [0.6122591, 0.6480292, 0.6709498, 0.6817156, 0.695086, 0.7445737, 0.7815593, 0.8152457, 0.833478, 0.8393818], \"type\": \"scatter\", \"uid\": \"0579e95e-9c2e-44a2-b90f-312e693e86f4\"}, {\"marker\": {\"color\": \"#f1c40f\"}, \"mode\": \"lines+markers\", \"name\": \"TEST Method Accuracy\", \"x\": [0.02, 0.14, 0.26, 0.32, 0.4, 0.68, 0.75, 0.86, 0.96, 1.0], \"y\": [0.8008005, 0.8610427, 0.8757184, 0.8841338, 0.8865969, 0.8895731, 0.8921388, 0.8971675, 0.8958333, 0.8952176], \"type\": \"scatter\", \"uid\": \"43158116-94a4-4256-8f72-a0066e7a1380\"}], {\"margin\": {\"b\": 150}, \"title\": {\"text\": \"<b>TEST Percentage - Accuracy</b>\"}, \"xaxis\": {\"dtick\": 0.1, \"title\": {\"font\": {\"color\": \"#34495e\"}, \"text\": \"<b>Percentage</b>\"}}, \"yaxis\": {\"dtick\": 0.05, \"title\": {\"font\": {\"color\": \"#34495e\"}, \"text\": \"<b>Accuracy</b>\"}}}, {\"showLink\": false, \"linkText\": \"Export to plot.ly\", \"plotlyServerURL\": \"https://plot.ly\"})});</script><script type=\"text/javascript\">window.addEventListener(\"resize\", function(){window._Plotly.Plots.resize(document.getElementById(\"f9b2594c-e0c6-4e17-b7df-c5cb651bcd9b\"));});</script>"
      ]
     },
     "metadata": {},
     "output_type": "display_data"
    }
   ],
   "source": [
    "plotly_plot_incremental(test_goal_pricerange_accuracies, test_goal_area_accuracies, test_goal_name_accuracies, test_goal_food_accuracies,\n",
    "                        test_requested_accuracies, test_method_accuracies, test_percentages, \"dstc2_test\")"
   ]
  },
  {
   "cell_type": "code",
   "execution_count": null,
   "metadata": {},
   "outputs": [],
   "source": []
  }
 ],
 "metadata": {
  "kernelspec": {
   "display_name": "Python 3",
   "language": "python",
   "name": "python3"
  },
  "language_info": {
   "codemirror_mode": {
    "name": "ipython",
    "version": 3
   },
   "file_extension": ".py",
   "mimetype": "text/x-python",
   "name": "python",
   "nbconvert_exporter": "python",
   "pygments_lexer": "ipython3",
   "version": "3.6.5"
  }
 },
 "nbformat": 4,
 "nbformat_minor": 2
}
