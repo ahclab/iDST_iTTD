{
 "cells": [
  {
   "cell_type": "markdown",
   "metadata": {},
   "source": [
    "### Check GPU availability"
   ]
  },
  {
   "cell_type": "code",
   "execution_count": 1,
   "metadata": {},
   "outputs": [
    {
     "name": "stdout",
     "output_type": "stream",
     "text": [
      "Mon Dec 31 00:03:24 2018       \r\n",
      "+-----------------------------------------------------------------------------+\r\n",
      "| NVIDIA-SMI 384.145                Driver Version: 384.145                   |\r\n",
      "|-------------------------------+----------------------+----------------------+\r\n",
      "| GPU  Name        Persistence-M| Bus-Id        Disp.A | Volatile Uncorr. ECC |\r\n",
      "| Fan  Temp  Perf  Pwr:Usage/Cap|         Memory-Usage | GPU-Util  Compute M. |\r\n",
      "|===============================+======================+======================|\r\n",
      "|   0  GeForce GTX 108...  Off  | 00000000:02:00.0 Off |                  N/A |\r\n",
      "| 23%   28C    P8    17W / 250W |      0MiB / 11172MiB |      0%      Default |\r\n",
      "+-------------------------------+----------------------+----------------------+\r\n",
      "|   1  GeForce GTX 108...  Off  | 00000000:03:00.0 Off |                  N/A |\r\n",
      "| 25%   38C    P8    17W / 250W |      0MiB / 11172MiB |      0%      Default |\r\n",
      "+-------------------------------+----------------------+----------------------+\r\n",
      "                                                                               \r\n",
      "+-----------------------------------------------------------------------------+\r\n",
      "| Processes:                                                       GPU Memory |\r\n",
      "|  GPU       PID   Type   Process name                             Usage      |\r\n",
      "|=============================================================================|\r\n",
      "|  No running processes found                                                 |\r\n",
      "+-----------------------------------------------------------------------------+\r\n"
     ]
    }
   ],
   "source": [
    "!nvidia-smi"
   ]
  },
  {
   "cell_type": "markdown",
   "metadata": {},
   "source": [
    "### Import libraries"
   ]
  },
  {
   "cell_type": "code",
   "execution_count": 2,
   "metadata": {},
   "outputs": [
    {
     "name": "stderr",
     "output_type": "stream",
     "text": [
      "[nltk_data] Downloading package punkt to /home/is/andrei-\n",
      "[nltk_data]     cc/nltk_data...\n",
      "[nltk_data]   Package punkt is already up-to-date!\n"
     ]
    },
    {
     "data": {
      "text/html": [
       "<script type=\"text/javascript\">window.PlotlyConfig = {MathJaxConfig: 'local'};</script><script type=\"text/javascript\">if (window.MathJax) {MathJax.Hub.Config({SVG: {font: \"STIX-Web\"}});}</script><script>requirejs.config({paths: { 'plotly': ['https://cdn.plot.ly/plotly-latest.min']},});if(!window._Plotly) {require(['plotly'],function(plotly) {window._Plotly=plotly;});}</script>"
      ],
      "text/vnd.plotly.v1+html": [
       "<script type=\"text/javascript\">window.PlotlyConfig = {MathJaxConfig: 'local'};</script><script type=\"text/javascript\">if (window.MathJax) {MathJax.Hub.Config({SVG: {font: \"STIX-Web\"}});}</script><script>requirejs.config({paths: { 'plotly': ['https://cdn.plot.ly/plotly-latest.min']},});if(!window._Plotly) {require(['plotly'],function(plotly) {window._Plotly=plotly;});}</script>"
      ]
     },
     "metadata": {},
     "output_type": "display_data"
    }
   ],
   "source": [
    "import torch\n",
    "import torch.nn as nn\n",
    "import torch.nn.functional as F\n",
    "import torch.optim as optim\n",
    "\n",
    "import math\n",
    "import numpy as np\n",
    "import time\n",
    "import json\n",
    "import plotly\n",
    "import logging\n",
    "logging.getLogger().setLevel(logging.INFO)\n",
    "\n",
    "from tqdm import tqdm\n",
    "from idst_util import trivial\n",
    "from idst_util import dstc2\n",
    "\n",
    "from plotly.graph_objs import Scatter, Layout\n",
    "from plotly.graph_objs.layout import Margin\n",
    "plotly.offline.init_notebook_mode(connected = True)"
   ]
  },
  {
   "cell_type": "markdown",
   "metadata": {},
   "source": [
    "### Check DSTC2 availability"
   ]
  },
  {
   "cell_type": "code",
   "execution_count": 3,
   "metadata": {},
   "outputs": [
    {
     "name": "stderr",
     "output_type": "stream",
     "text": [
      "INFO:root:+--------------------------------+\n",
      "INFO:root:|         _ ____  ___________    |\n",
      "INFO:root:|        (_) __ \\/ ___/_  __/    |\n",
      "INFO:root:|       / / / / /\\__ \\ / /       |\n",
      "INFO:root:|      / / /_/ /___/ // /        |\n",
      "INFO:root:|     /_/_____//____//_/         |\n",
      "INFO:root:|                                |\n",
      "INFO:root:+--------------------------------+\n",
      "INFO:root:|Incremental Dialog State Tracker|\n",
      "INFO:root:+--------------------------------+\n",
      "INFO:root:+--------------------------------+\n",
      "INFO:root:|     Dialog State Tracker 2     |\n",
      "INFO:root:|         Data Checker           |\n",
      "INFO:root:+--------------------------------+\n",
      "INFO:root:Looking for dstc2 directory in .\n",
      "INFO:root:dstc2 was found!\n",
      "INFO:root:Looking for dstc2_traindev directory in ./dstc2\n",
      "INFO:root:dstc2_traindev was found!\n",
      "INFO:root:Looking for dstc2_test directory in ./dstc2\n",
      "INFO:root:dstc2_test was found!\n",
      "INFO:root:Looking for dstc2_scripts directory in ./dstc2\n",
      "INFO:root:dstc2_scripts was found!\n",
      "INFO:root:Done!\n"
     ]
    }
   ],
   "source": [
    "trivial.print_idst()\n",
    "dstc2.check()"
   ]
  },
  {
   "cell_type": "markdown",
   "metadata": {},
   "source": [
    "### Retrieve data"
   ]
  },
  {
   "cell_type": "code",
   "execution_count": 4,
   "metadata": {},
   "outputs": [
    {
     "name": "stderr",
     "output_type": "stream",
     "text": [
      "INFO:root:+--------------------------------+\n",
      "INFO:root:|     Dialog State Tracker 2     |\n",
      "INFO:root:|       Dataset Retrieval        |\n",
      "INFO:root:+--------------------------------+\n",
      "INFO:root:Reading dstc2_train.flist, dstc2_dev.flist and ontology_dstc2.json\n",
      "INFO:root:Asserted 1612 dialogs for dstc2_train.flist\n",
      "INFO:root:Asserted 506 dialogs for dstc2_dev.flist\n",
      "INFO:root:Extracting raw train features\n",
      "100%|██████████| 1612/1612 [00:09<00:00, 176.92it/s]\n",
      "INFO:root:Extracting raw dev features\n",
      "100%|██████████| 506/506 [00:02<00:00, 211.68it/s]\n",
      "INFO:root:Reading dstc2_test.flist\n",
      "INFO:root:Asserted 1117 dialogs for dstc2_test.flist\n",
      "INFO:root:Extracting raw test features\n",
      "100%|██████████| 1117/1117 [00:06<00:00, 182.43it/s]\n"
     ]
    }
   ],
   "source": [
    "raw_X_train, raw_Y_train, \\\n",
    "raw_X_dev, raw_Y_dev, \\\n",
    "raw_X_test, raw_Y_test, \\\n",
    "ontology = dstc2.retrieve_raw_datasets(train_data_augmentation = True)"
   ]
  },
  {
   "cell_type": "markdown",
   "metadata": {},
   "source": [
    "### Set device"
   ]
  },
  {
   "cell_type": "code",
   "execution_count": 5,
   "metadata": {},
   "outputs": [
    {
     "name": "stderr",
     "output_type": "stream",
     "text": [
      "INFO:root:+--------------------------------+\n",
      "INFO:root:|            Baseline            |\n",
      "INFO:root:+--------------------------------+\n",
      "INFO:root:Running on GPU 1\n"
     ]
    }
   ],
   "source": [
    "logging.info(\"+--------------------------------+\")\n",
    "logging.info(\"|            Baseline            |\")\n",
    "logging.info(\"+--------------------------------+\")\n",
    "\n",
    "GPU_ID = 1\n",
    "DEVICE = torch.device(\"cuda:{}\".format(GPU_ID) if torch.cuda.is_available() else \"cpu\")\n",
    "#DEVICE = \"cpu\"\n",
    "if DEVICE == \"cpu\":\n",
    "    logging.warning(\"Running on CPU\")\n",
    "else:\n",
    "    logging.info(\"Running on GPU {}\".format(GPU_ID))"
   ]
  },
  {
   "cell_type": "markdown",
   "metadata": {},
   "source": [
    "### Create vocabularies"
   ]
  },
  {
   "cell_type": "code",
   "execution_count": 6,
   "metadata": {},
   "outputs": [
    {
     "name": "stderr",
     "output_type": "stream",
     "text": [
      "INFO:root:+--------------------------------+\n",
      "INFO:root:|          Vocabulary            |\n",
      "INFO:root:+--------------------------------+\n",
      "INFO:root:Creating token_to_index, index_to_token and token_to_count dictionaries\n",
      "100%|██████████| 3224/3224 [00:00<00:00, 37930.99it/s]\n"
     ]
    }
   ],
   "source": [
    "logging.info(\"+--------------------------------+\")\n",
    "logging.info(\"|          Vocabulary            |\")\n",
    "logging.info(\"+--------------------------------+\")\n",
    "logging.info(\"Creating token_to_index, index_to_token and token_to_count dictionaries\")\n",
    "\n",
    "token_to_index = {\"<unk>\": 0}\n",
    "index_to_token = {0: \"<unk>\"}\n",
    "token_to_count = {\"<unk>\": 1}\n",
    "\n",
    "for raw_train_dialog in tqdm(raw_X_train):\n",
    "    \n",
    "    for raw_train_turn in raw_train_dialog[\"turns\"]:\n",
    "        \n",
    "        tokens_scores = raw_train_turn[\"system\"] + raw_train_turn[\"user\"]\n",
    "        \n",
    "        for token_score in tokens_scores:\n",
    "            token = token_score[0]\n",
    "            if token not in token_to_index:\n",
    "                token_to_index[token] = len(token_to_index)\n",
    "                index_to_token[len(token_to_index)] = token\n",
    "                token_to_count[token] = 1\n",
    "            else:\n",
    "                token_to_count[token] += 1\n",
    "                \n",
    "assert len(token_to_index) == len(index_to_token)\n",
    "assert len(token_to_index) == len(token_to_count)"
   ]
  },
  {
   "cell_type": "markdown",
   "metadata": {},
   "source": [
    "### Execution configuration"
   ]
  },
  {
   "cell_type": "code",
   "execution_count": 7,
   "metadata": {},
   "outputs": [
    {
     "name": "stderr",
     "output_type": "stream",
     "text": [
      "INFO:root:+--------------------------------+\n",
      "INFO:root:|         Configuration          |\n",
      "INFO:root:+--------------------------------+\n",
      "INFO:root:VOCABULARY_SIZE:\t\t1149\n",
      "INFO:root:GOAL_FOOD_DIM:\t\t93\n",
      "INFO:root:GOAL_PRICERANGE_DIM:\t\t5\n",
      "INFO:root:GOAL_NAME_DIM:\t\t115\n",
      "INFO:root:GOAL_AREA_DIM:\t\t7\n",
      "INFO:root:METHOD_DIM:\t\t\t5\n",
      "INFO:root:REQUESTED_DIM:\t\t8\n",
      "INFO:root:EMBEDDING_DIM:\t\t170\n",
      "INFO:root:ALTERED_EMBEDDING_DIM:\t300\n",
      "INFO:root:HIDDEN_DIM:\t\t\t100\n",
      "INFO:root:NUM_EPOCHS:\t\t\t30\n",
      "INFO:root:GOAL_LOSS_FUNCTION:\t\tCrossEntropyLoss()\n",
      "INFO:root:METHOD_LOSS_FUNCTION:\t\tCrossEntropyLoss()\n",
      "INFO:root:REQUESTED_LOSS_FUNCTION:\tBCELoss()\n"
     ]
    }
   ],
   "source": [
    "logging.info(\"+--------------------------------+\")\n",
    "logging.info(\"|         Configuration          |\")\n",
    "logging.info(\"+--------------------------------+\")\n",
    "\n",
    "VOCABULARY_SIZE = len(token_to_index)\n",
    "logging.info(\"VOCABULARY_SIZE:\\t\\t{}\".format(VOCABULARY_SIZE))\n",
    "\n",
    "# NOTE: +2 because of null and dontcare\n",
    "GOAL_FOOD_DIM = len(ontology[\"informable\"][\"food\"]) + 2 \n",
    "GOAL_PRICERANGE_DIM = len(ontology[\"informable\"][\"pricerange\"]) + 2\n",
    "GOAL_NAME_DIM = len(ontology[\"informable\"][\"name\"]) + 2\n",
    "GOAL_AREA_DIM = len(ontology[\"informable\"][\"area\"]) + 2\n",
    "METHOD_DIM = len(ontology[\"method\"])\n",
    "REQUESTED_DIM = len(ontology[\"requestable\"])\n",
    "EMBEDDING_DIM = 170\n",
    "ALTERED_EMBEDDING_DIM = 300\n",
    "HIDDEN_DIM = 100\n",
    "NUM_EPOCHS = 30\n",
    "GOAL_LOSS_FUNCTION = nn.CrossEntropyLoss()\n",
    "METHOD_LOSS_FUNCTION = nn.CrossEntropyLoss()\n",
    "REQUESTED_LOSS_FUNCTION = nn.BCELoss()\n",
    "logging.info(\"GOAL_FOOD_DIM:\\t\\t{}\".format(GOAL_FOOD_DIM))\n",
    "logging.info(\"GOAL_PRICERANGE_DIM:\\t\\t{}\".format(GOAL_PRICERANGE_DIM))\n",
    "logging.info(\"GOAL_NAME_DIM:\\t\\t{}\".format(GOAL_NAME_DIM))\n",
    "logging.info(\"GOAL_AREA_DIM:\\t\\t{}\".format(GOAL_AREA_DIM))\n",
    "logging.info(\"METHOD_DIM:\\t\\t\\t{}\".format(METHOD_DIM))\n",
    "logging.info(\"REQUESTED_DIM:\\t\\t{}\".format(REQUESTED_DIM))\n",
    "logging.info(\"EMBEDDING_DIM:\\t\\t{}\".format(EMBEDDING_DIM))\n",
    "logging.info(\"ALTERED_EMBEDDING_DIM:\\t{}\".format(ALTERED_EMBEDDING_DIM))\n",
    "logging.info(\"HIDDEN_DIM:\\t\\t\\t{}\".format(HIDDEN_DIM))\n",
    "logging.info(\"NUM_EPOCHS:\\t\\t\\t{}\".format(NUM_EPOCHS))\n",
    "logging.info(\"GOAL_LOSS_FUNCTION:\\t\\t{}\".format(GOAL_LOSS_FUNCTION))\n",
    "logging.info(\"METHOD_LOSS_FUNCTION:\\t\\t{}\".format(METHOD_LOSS_FUNCTION))\n",
    "logging.info(\"REQUESTED_LOSS_FUNCTION:\\t{}\".format(REQUESTED_LOSS_FUNCTION))"
   ]
  },
  {
   "cell_type": "markdown",
   "metadata": {},
   "source": [
    "### Models utilities"
   ]
  },
  {
   "cell_type": "code",
   "execution_count": 8,
   "metadata": {},
   "outputs": [],
   "source": [
    "def get_index_and_score(turn, token_to_index, device):\n",
    "    indices = []\n",
    "    scores = []\n",
    "    tokens_scores = turn[\"system\"] + turn[\"user\"]\n",
    "    for token, score in tokens_scores:\n",
    "        if token not in token_to_index:\n",
    "            indices.append(token_to_index[\"<unk>\"])\n",
    "        else:\n",
    "            indices.append(token_to_index[token])\n",
    "        scores.append(score)\n",
    "    assert len(indices) == len(scores)\n",
    "    return torch.tensor(indices, dtype = torch.long, device = device), torch.tensor(scores, dtype = torch.float, device = device)\n",
    "\n",
    "def plotly_plot(train_accuracies, dev_accuracies, test_accuracies, accuracy_type):\n",
    "    plotly.offline.iplot({\n",
    "                            \"data\": [Scatter(\n",
    "                                            x = list(range(len(train_accuracies))),\n",
    "                                            y = train_accuracies,\n",
    "                                            mode = \"lines+markers\",\n",
    "                                            name = \"Train {} Accuracy\".format(accuracy_type),\n",
    "                                            marker = dict(color = \"#1abc9c\")),\n",
    "                                    Scatter(\n",
    "                                            x = list(range(len(dev_accuracies))),\n",
    "                                            y = dev_accuracies,\n",
    "                                            mode = \"lines+markers\",\n",
    "                                            name = \"Dev {} Accuracy\".format(accuracy_type),\n",
    "                                            marker = dict(color = \"#3498db\")),\n",
    "                                    Scatter(\n",
    "                                            x = list(range(len(test_accuracies))),\n",
    "                                            y = test_accuracies,\n",
    "                                            mode = \"lines+markers\",\n",
    "                                            name = \"Test {} Accuracy\".format(accuracy_type),\n",
    "                                            marker = dict(color = \"#9b59b6\"))],\n",
    "                            \"layout\": Layout(\n",
    "                                             title = \"<b>Train-Dev-Test {} Accuracy</b>\".format(accuracy_type),\n",
    "                                             xaxis = dict(title = \"<b>Epoch</b>\",\n",
    "                                                          dtick = 1,\n",
    "                                                          titlefont = dict(color = \"#34495e\")),\n",
    "                                             yaxis = dict(title = \"<b>Accuracy</b>\",\n",
    "                                                          titlefont = dict(color = \"#34495e\")),\n",
    "                                             margin = Margin(b = 150))\n",
    "                        })\n",
    "\n",
    "class EarlyStopping():\n",
    "    \n",
    "    def __init__(self, min_delta = 0, patience = 1):\n",
    "        \n",
    "        self.min_delta = min_delta\n",
    "        self.patience = patience\n",
    "        self.wait = 0\n",
    "        self.stopped_epoch = 0\n",
    "        self.best = -np.Inf\n",
    "        self.stop_training = False\n",
    "    \n",
    "    def on_epoch_end(self, epoch, current_value):\n",
    "        if np.greater((current_value - self.min_delta), self.best):\n",
    "            self.best = current_value\n",
    "            self.wait = 0\n",
    "        else:\n",
    "            self.wait += 1\n",
    "            if self.wait > self.patience:\n",
    "                self.stopped_epoch = epoch\n",
    "                self.stop_training = True\n",
    "        return self.stop_training\n",
    "\n",
    "get_bin = lambda x, n: format(x, \"b\").zfill(n)\n",
    "\n",
    "def make_tracker(raw_X, raw_Y, dataset):\n",
    "    with torch.no_grad():\n",
    "        tracker_json = {}\n",
    "        tracker_json[\"dataset\"] = dataset\n",
    "        tracker_json[\"sessions\"] = []\n",
    "\n",
    "        start_time = time.time()\n",
    "        for raw_X_dialog, raw_Y_dialog in tqdm(zip(raw_X, raw_Y), total = len(raw_X)):\n",
    "            \n",
    "            model_LecTrack.hidden = model_LecTrack.init_hidden()\n",
    "            \n",
    "            session = {}\n",
    "            session[\"session-id\"] = raw_X_dialog[\"session-id\"]\n",
    "            session[\"turns\"] = []\n",
    "\n",
    "            for raw_X_turn, raw_Y_turn in zip(raw_X_dialog[\"turns\"], raw_Y_dialog[\"turns\"]):\n",
    "                turn = {}\n",
    "                turn[\"goal-labels\"] = {}\n",
    "\n",
    "                indices, scores = get_index_and_score(raw_X_turn, token_to_index, device = DEVICE)\n",
    "                \n",
    "                goal_foods, goal_priceranges, goal_names, goal_areas, methods, requesteds = model_LecTrack(indices, scores)\n",
    "                \n",
    "                goal_food = goal_foods[-1]\n",
    "                goal_pricerange = goal_priceranges[-1]\n",
    "                goal_name = goal_names[-1]\n",
    "                goal_area = goal_areas[-1]\n",
    "                method = methods[-1]\n",
    "                requested = requesteds[-1]\n",
    "                \n",
    "                if torch.argmax(goal_food).item() != 0:\n",
    "                    turn[\"goal-labels\"][\"food\"] = retrieve_output_GoalFood(goal_food, ontology)\n",
    "                if torch.argmax(goal_pricerange).item() != 0:\n",
    "                    turn[\"goal-labels\"][\"pricerange\"] = retrieve_output_GoalPricerange(goal_pricerange, ontology)\n",
    "                if torch.argmax(goal_name).item() != 0:\n",
    "                    turn[\"goal-labels\"][\"name\"] = retrieve_output_GoalName(goal_name, ontology)\n",
    "                if torch.argmax(goal_area).item() != 0:\n",
    "                    turn[\"goal-labels\"][\"area\"] = retrieve_output_GoalArea(goal_area, ontology)\n",
    "                turn[\"method-label\"] = retrieve_output_Method(method, ontology)\n",
    "                turn[\"requested-slots\"] = retrieve_output_Requested(requested, ontology)\n",
    "                \n",
    "                session[\"turns\"].append(turn)\n",
    "            tracker_json[\"sessions\"].append(session)\n",
    "        end_time = time.time()\n",
    "        tracker_json[\"wall-time\"] = end_time - start_time\n",
    "        \n",
    "        return tracker_json\n",
    "\n",
    "def get_scores(raw_X, raw_Y, dataset):\n",
    "    goal_accuracy = 0\n",
    "    requested_accuracy = 0\n",
    "    method_accuracy = 0\n",
    "    \n",
    "    tracker_incremental = make_tracker(raw_X, raw_Y, dataset = dataset)\n",
    "    \n",
    "    with open(\"tracker_incremental.json\", \"w\") as tracker_incremental_file:\n",
    "        json.dump(tracker_incremental, tracker_incremental_file)\n",
    "    \n",
    "    if dataset == \"dstc2_train\":\n",
    "        !python2 dstc2/dstc2_scripts/score.py\\\n",
    "        --dataset dstc2_train\\\n",
    "        --dataroot dstc2/dstc2_traindev/data\\\n",
    "        --ontology dstc2/dstc2_scripts/config/ontology_dstc2.json\\\n",
    "        --trackfile tracker_incremental.json\\\n",
    "        --scorefile tracker_incremental.score.csv\n",
    "    elif dataset == \"dstc2_dev\":\n",
    "        !python2 dstc2/dstc2_scripts/score.py\\\n",
    "        --dataset dstc2_dev\\\n",
    "        --dataroot dstc2/dstc2_traindev/data\\\n",
    "        --ontology dstc2/dstc2_scripts/config/ontology_dstc2.json\\\n",
    "        --trackfile tracker_incremental.json\\\n",
    "        --scorefile tracker_incremental.score.csv\n",
    "    else:\n",
    "        !python2 dstc2/dstc2_scripts/score.py\\\n",
    "        --dataset dstc2_test\\\n",
    "        --dataroot dstc2/dstc2_test/data\\\n",
    "        --ontology dstc2/dstc2_scripts/config/ontology_dstc2.json\\\n",
    "        --trackfile tracker_incremental.json\\\n",
    "        --scorefile tracker_incremental.score.csv\n",
    "\n",
    "    file_cat = !python2 dstc2/dstc2_scripts/report.py --scorefile tracker_incremental.score.csv\n",
    "    \n",
    "    for line in file_cat:\n",
    "        if line.startswith(\"Accuracy\"):\n",
    "            accuracies = line.split(\"|\")\n",
    "            goal_accuracy = float(accuracies[1])\n",
    "            requested_accuracy = float(accuracies[2])\n",
    "            method_accuracy = float(accuracies[3])\n",
    "    \n",
    "    return goal_accuracy, requested_accuracy, method_accuracy"
   ]
  },
  {
   "cell_type": "markdown",
   "metadata": {},
   "source": [
    "### LecTrack"
   ]
  },
  {
   "cell_type": "code",
   "execution_count": 9,
   "metadata": {},
   "outputs": [],
   "source": [
    "class LecTrackModel(nn.Module):\n",
    "    \n",
    "    def __init__(self,\n",
    "                 vocabulary_size,\n",
    "                 embedding_dim,\n",
    "                 altered_embedding_dim,\n",
    "                 hidden_dim,\n",
    "                 goal_food_dim,\n",
    "                 goal_pricerange_dim,\n",
    "                 goal_name_dim,\n",
    "                 goal_area_dim,\n",
    "                 method_dim,\n",
    "                 requested_dim,\n",
    "                 device):\n",
    "        \n",
    "        super(LecTrackModel, self).__init__()\n",
    "        \n",
    "        self.hidden_dim = hidden_dim\n",
    "        self.goal_food_dim = goal_food_dim\n",
    "        self.goal_pricerange_dim = goal_pricerange_dim\n",
    "        self.goal_name_dim = goal_name_dim\n",
    "        self.goal_area_dim = goal_area_dim\n",
    "        self.method_dim = method_dim\n",
    "        self.requested_dim = requested_dim\n",
    "        self.device = device\n",
    "        \n",
    "        self.embeddings = nn.Embedding(num_embeddings = vocabulary_size,\n",
    "                                       embedding_dim = embedding_dim)\n",
    "        \n",
    "        self.altered_embeddings = nn.Linear(in_features = (embedding_dim + 1),\n",
    "                                            out_features = altered_embedding_dim)\n",
    "        \n",
    "        self.lstm = nn.LSTM(input_size = altered_embedding_dim,\n",
    "                            hidden_size = hidden_dim)\n",
    "        \n",
    "        self.goal_food_classifier = nn.Linear(in_features = hidden_dim,\n",
    "                                              out_features = goal_food_dim)\n",
    "        \n",
    "        self.goal_pricerange_classifier = nn.Linear(in_features = hidden_dim,\n",
    "                                                    out_features = goal_pricerange_dim)\n",
    "        \n",
    "        self.goal_name_classifier = nn.Linear(in_features = hidden_dim,\n",
    "                                              out_features = goal_name_dim)\n",
    "        \n",
    "        self.goal_area_classifier = nn.Linear(in_features = hidden_dim,\n",
    "                                              out_features = goal_area_dim)\n",
    "        \n",
    "        self.method_classifier = nn.Linear(in_features = hidden_dim,\n",
    "                                           out_features = method_dim)\n",
    "        \n",
    "        self.requested_classifier = nn.Linear(in_features = hidden_dim,\n",
    "                                              out_features = requested_dim)\n",
    "        \n",
    "        self.hidden = self.init_hidden()\n",
    "    \n",
    "    def init_hidden(self):\n",
    "        \n",
    "        return (torch.zeros(1, 1, self.hidden_dim, device = self.device),\n",
    "                torch.zeros(1, 1, self.hidden_dim, device = self.device))\n",
    "        \n",
    "    def forward(self, indices, scores):\n",
    "    \n",
    "        embeddings = self.embeddings(indices)\n",
    "        \n",
    "        embeddings_concat_score = torch.cat((embeddings, scores.unsqueeze(dim = 1)), dim = 1) \n",
    "        \n",
    "        altered_embeddings = F.relu(self.altered_embeddings(embeddings_concat_score))\n",
    "        \n",
    "        lstm_out, self.hidden = self.lstm(altered_embeddings.view(len(indices), 1, -1), self.hidden)\n",
    "        \n",
    "        goal_food = F.log_softmax(self.goal_food_classifier(lstm_out).view(-1, self.goal_food_dim), dim = 1)        \n",
    "        \n",
    "        goal_pricerange = F.log_softmax(self.goal_pricerange_classifier(lstm_out).view(-1, self.goal_pricerange_dim), dim = 1) \n",
    "        \n",
    "        goal_name = F.log_softmax(self.goal_name_classifier(lstm_out).view(-1, self.goal_name_dim), dim = 1)\n",
    "        \n",
    "        goal_area = F.log_softmax(self.goal_area_classifier(lstm_out).view(-1, self.goal_area_dim), dim = 1)\n",
    "        \n",
    "        method = F.log_softmax(self.method_classifier(lstm_out).view(-1, self.method_dim), dim = 1)\n",
    "        \n",
    "        requested = torch.sigmoid(self.requested_classifier(lstm_out).view(-1, self.requested_dim))\n",
    "        \n",
    "        return goal_food, goal_pricerange, goal_name, goal_area, method, requested\n",
    "\n",
    "def retrieve_gold_GoalFood(raw_Y, ontology, device):\n",
    "    ontology_informable_food = ontology[\"informable\"][\"food\"]\n",
    "    raw_goal_food = raw_Y[\"goal\"][\"food\"]\n",
    "    goal_food = 0\n",
    "    if raw_goal_food != None:\n",
    "        if raw_goal_food == \"dontcare\":\n",
    "            goal_food = 1\n",
    "        else:    \n",
    "            goal_food = ontology_informable_food.index(raw_goal_food) + 2\n",
    "    return torch.tensor([goal_food], dtype = torch.long, device = device)\n",
    "\n",
    "def retrieve_output_GoalFood(output_tensor, ontology):\n",
    "    ontology_informable_food = ontology[\"informable\"][\"food\"]\n",
    "    output_tensor = output_tensor.view(-1)\n",
    "    output_tensor = torch.exp(output_tensor)\n",
    "    goal_food_dict = {}\n",
    "    \n",
    "    index = torch.argmax(output_tensor).item()\n",
    "    if index != 0:\n",
    "        goal_food_dict[\"dontcare\"] = output_tensor[1].item() \n",
    "        for index in range(len(output_tensor) - 2):\n",
    "            goal_food_dict[ontology_informable_food[index]] = output_tensor[index + 2].item()\n",
    "    return goal_food_dict\n",
    "\n",
    "def retrieve_gold_GoalPriceRange(raw_Y, ontology, device):\n",
    "    ontology_informable_pricerange = ontology[\"informable\"][\"pricerange\"]\n",
    "    raw_goal_pricerange = raw_Y[\"goal\"][\"pricerange\"]\n",
    "    goal_pricerange = 0\n",
    "    if raw_goal_pricerange != None:\n",
    "        if raw_goal_pricerange == \"dontcare\":\n",
    "            goal_pricerange = 1\n",
    "        else:    \n",
    "            goal_pricerange = ontology_informable_pricerange.index(raw_goal_pricerange) + 2\n",
    "    return torch.tensor([goal_pricerange], dtype = torch.long, device = device)\n",
    "\n",
    "def retrieve_output_GoalPricerange(output_tensor, ontology):\n",
    "    ontology_informable_pricerange = ontology[\"informable\"][\"pricerange\"]\n",
    "    output_tensor = output_tensor.view(-1)\n",
    "    output_tensor = torch.exp(output_tensor)\n",
    "    goal_pricerange_dict = {}\n",
    "    \n",
    "    index = torch.argmax(output_tensor).item()\n",
    "    if index != 0:\n",
    "        goal_pricerange_dict[\"dontcare\"] = output_tensor[1].item()\n",
    "        for index in range(len(output_tensor) - 2):     \n",
    "            goal_pricerange_dict[ontology_informable_pricerange[index]] = output_tensor[index + 2].item()\n",
    "    return goal_pricerange_dict\n",
    "\n",
    "def retrieve_gold_GoalName(raw_Y, ontology, device):\n",
    "    ontology_informable_name = ontology[\"informable\"][\"name\"]\n",
    "    raw_goal_name = raw_Y[\"goal\"][\"name\"]\n",
    "    goal_name = 0\n",
    "    if raw_goal_name != None:\n",
    "        if raw_goal_name == \"dontcare\":\n",
    "            goal_name = 1\n",
    "        else:    \n",
    "            goal_name = ontology_informable_name.index(raw_goal_name) + 2\n",
    "    return torch.tensor([goal_name], dtype = torch.long, device = device)\n",
    "\n",
    "def retrieve_output_GoalName(output_tensor, ontology):\n",
    "    ontology_informable_name = ontology[\"informable\"][\"name\"]\n",
    "    output_tensor = output_tensor.view(-1)\n",
    "    output_tensor = torch.exp(output_tensor)\n",
    "    goal_name_dict = {}\n",
    "    \n",
    "    index = torch.argmax(output_tensor).item()\n",
    "    if index != 0:\n",
    "        goal_name_dict[\"dontcare\"] = output_tensor[1].item()\n",
    "        for index in range(len(output_tensor) - 2):\n",
    "            goal_name_dict[ontology_informable_name[index]] = output_tensor[index + 2].item()\n",
    "        \n",
    "    return goal_name_dict\n",
    "\n",
    "def retrieve_gold_GoalArea(raw_Y, ontology, device):\n",
    "    ontology_informable_area = ontology[\"informable\"][\"area\"]\n",
    "    raw_goal_area = raw_Y[\"goal\"][\"area\"]\n",
    "    goal_area = 0\n",
    "    if raw_goal_area != None:\n",
    "        if raw_goal_area == \"dontcare\":\n",
    "            goal_area = 1\n",
    "        else:    \n",
    "            goal_area = ontology_informable_area.index(raw_goal_area) + 2\n",
    "    return torch.tensor([goal_area], dtype = torch.long, device = device)\n",
    "\n",
    "def retrieve_output_GoalArea(output_tensor, ontology):\n",
    "    ontology_informable_area = ontology[\"informable\"][\"area\"]\n",
    "    output_tensor = output_tensor.view(-1)\n",
    "    output_tensor = torch.exp(output_tensor)\n",
    "    goal_area_dict = {}\n",
    "    \n",
    "    index = torch.argmax(output_tensor).item()\n",
    "    if index != 0:\n",
    "        goal_area_dict[\"dontcare\"] = output_tensor[1].item()\n",
    "        for index in range(len(output_tensor) - 2):\n",
    "            goal_area_dict[ontology_informable_area[index]] = output_tensor[index + 2].item()\n",
    "        \n",
    "    return goal_area_dict\n",
    "\n",
    "def retrieve_gold_Method(raw_Y, ontology, device):\n",
    "    ontology_method = ontology[\"method\"]\n",
    "    raw_gold_method = raw_Y[\"method\"]\n",
    "    gold_method = ontology_method.index(raw_gold_method)\n",
    "    return torch.tensor([gold_method], dtype = torch.long, device = device)\n",
    "\n",
    "def retrieve_output_Method(output_tensor, ontology):\n",
    "    ontology_method = ontology[\"method\"]\n",
    "    output_tensor = output_tensor.view(-1)\n",
    "    output_tensor = torch.exp(output_tensor)\n",
    "    method_dict = {}\n",
    "    \n",
    "    for index in range(len(output_tensor)):\n",
    "        method_dict[ontology_method[index]] = output_tensor[index].item()\n",
    "    \n",
    "    return method_dict\n",
    "\n",
    "def retrieve_gold_Requested(raw_Y, ontology, device):\n",
    "    ontology_requestable = ontology[\"requestable\"]\n",
    "    raw_gold_requested = raw_Y[\"requested\"]\n",
    "    gold_requested = np.zeros(len(ontology_requestable), dtype = float)\n",
    "    if len(raw_gold_requested) != 0:\n",
    "        for requested in raw_gold_requested:\n",
    "            gold_requested[ontology_requestable.index(requested)] = 1.0\n",
    "    return torch.tensor([gold_requested], dtype = torch.float, device = device)\n",
    "\n",
    "def retrieve_output_Requested(output_tensor, ontology):\n",
    "    ontology_requestable = ontology[\"requestable\"]\n",
    "    output_tensor = output_tensor.view(-1)\n",
    "    requested_dict = {}\n",
    "    for index in range(len(output_tensor)):\n",
    "        probability_value = output_tensor[index].item()\n",
    "        if np.greater_equal(probability_value, 0.5):\n",
    "            requested_dict[ontology_requestable[index]] = probability_value\n",
    "    return requested_dict\n",
    "\n",
    "model_LecTrack = LecTrackModel(vocabulary_size = VOCABULARY_SIZE,\n",
    "                               embedding_dim = EMBEDDING_DIM,\n",
    "                               altered_embedding_dim = ALTERED_EMBEDDING_DIM,\n",
    "                               hidden_dim = HIDDEN_DIM,\n",
    "                               goal_food_dim = GOAL_FOOD_DIM,\n",
    "                               goal_pricerange_dim = GOAL_PRICERANGE_DIM,\n",
    "                               goal_name_dim = GOAL_NAME_DIM,\n",
    "                               goal_area_dim = GOAL_AREA_DIM,\n",
    "                               method_dim = METHOD_DIM,\n",
    "                               requested_dim = REQUESTED_DIM,\n",
    "                               device = DEVICE)\n",
    "\n",
    "model_LecTrack = model_LecTrack.to(DEVICE)\n",
    "\n",
    "optimizer_LecTrackModel = optim.Adam(model_LecTrack.parameters(), lr = 1e-4)"
   ]
  },
  {
   "cell_type": "markdown",
   "metadata": {},
   "source": [
    "### Train LecTrack"
   ]
  },
  {
   "cell_type": "code",
   "execution_count": 10,
   "metadata": {},
   "outputs": [
    {
     "name": "stderr",
     "output_type": "stream",
     "text": [
      "INFO:root:Epoch\t1/30\n",
      "100%|██████████| 3224/3224 [23:09<00:00,  2.67it/s]  \n",
      "100%|██████████| 3224/3224 [00:55<00:00, 58.23it/s]\n",
      "INFO:root:TRAIN:\t0.0104344\t0.4553571\t0.5948286\n",
      "100%|██████████| 506/506 [00:09<00:00, 54.12it/s]\n",
      "INFO:root:DEV:\t\t0.214025\t\t0.6004327\t\t0.6852043\n",
      "100%|██████████| 1117/1117 [00:23<00:00, 46.72it/s]\n",
      "INFO:root:TEST:\t\t0.2706162\t\t0.5815246\t\t0.7037151\n",
      "INFO:root:Epoch\t2/30\n",
      "100%|██████████| 3224/3224 [23:13<00:00,  2.76it/s]  \n",
      "100%|██████████| 3224/3224 [00:50<00:00, 63.57it/s]\n",
      "INFO:root:TRAIN:\t0.0085063\t0.4538328\t0.6468803\n",
      "100%|██████████| 506/506 [00:08<00:00, 58.60it/s]\n",
      "INFO:root:DEV:\t\t0.1634515\t\t0.5975478\t\t0.7578893\n",
      "100%|██████████| 1117/1117 [00:22<00:00, 49.45it/s]\n",
      "INFO:root:TEST:\t\t0.1811332\t\t0.5782254\t\t0.8067529\n",
      "INFO:root:Epoch\t3/30\n",
      "100%|██████████| 3224/3224 [23:14<00:00,  2.63it/s]  \n",
      "100%|██████████| 3224/3224 [00:52<00:00, 61.51it/s]\n",
      "INFO:root:TRAIN:\t0.0139503\t0.4736498\t0.6321529\n",
      "100%|██████████| 506/506 [00:09<00:00, 56.13it/s]\n",
      "INFO:root:DEV:\t\t0.2244526\t\t0.6393797\t\t0.8041904\n",
      "100%|██████████| 1117/1117 [00:22<00:00, 48.76it/s]\n",
      "INFO:root:TEST:\t\t0.2823821\t\t0.6414308\t\t0.78828\n",
      "INFO:root:Epoch\t4/30\n",
      "100%|██████████| 3224/3224 [23:16<00:00,  2.49it/s]  \n",
      "100%|██████████| 3224/3224 [00:52<00:00, 61.79it/s]\n",
      "INFO:root:TRAIN:\t0.0151979\t0.4581882\t0.6592468\n",
      "100%|██████████| 506/506 [00:08<00:00, 57.40it/s]\n",
      "INFO:root:DEV:\t\t0.2546924\t\t0.6231518\t\t0.8088464\n",
      "100%|██████████| 1117/1117 [00:22<00:00, 49.27it/s]\n",
      "INFO:root:TEST:\t\t0.2736092\t\t0.5981941\t\t0.8506773\n",
      "INFO:root:Epoch\t5/30\n",
      "100%|██████████| 3224/3224 [23:20<00:00,  2.61it/s]  \n",
      "100%|██████████| 3224/3224 [00:50<00:00, 63.30it/s]\n",
      "INFO:root:TRAIN:\t0.0147442\t0.453615\t0.6322653\n",
      "100%|██████████| 506/506 [00:08<00:00, 53.23it/s]\n",
      "INFO:root:DEV:\t\t0.3198644\t\t0.6022358\t\t0.7705639\n",
      "100%|██████████| 1117/1117 [00:21<00:00, 51.14it/s]\n",
      "INFO:root:TEST:\t\t0.3062236\t\t0.5834346\t\t0.8078818\n",
      "INFO:root:Epoch\t6/30\n",
      "100%|██████████| 3224/3224 [23:16<00:00,  2.47it/s]  \n",
      "100%|██████████| 3224/3224 [00:52<00:00, 61.89it/s]\n",
      "INFO:root:TRAIN:\t0.0129296\t0.4560105\t0.6362001\n",
      "100%|██████████| 506/506 [00:09<00:00, 55.50it/s]\n",
      "INFO:root:DEV:\t\t0.2570386\t\t0.6018752\t\t0.7928091\n",
      "100%|██████████| 1117/1117 [00:22<00:00, 49.07it/s]\n",
      "INFO:root:TEST:\t\t0.2807307\t\t0.5893384\t\t0.8461617\n",
      "INFO:root:Epoch\t7/30\n",
      "100%|██████████| 3224/3224 [23:13<00:00,  2.47it/s]  \n",
      "100%|██████████| 3224/3224 [00:52<00:00, 61.35it/s]\n",
      "INFO:root:TRAIN:\t0.0140637\t0.4618902\t0.6105677\n",
      "100%|██████████| 506/506 [00:08<00:00, 58.38it/s]\n",
      "INFO:root:DEV:\t\t0.2872784\t\t0.6022358\t\t0.7123642\n",
      "100%|██████████| 1117/1117 [00:22<00:00, 48.79it/s]\n",
      "INFO:root:TEST:\t\t0.3564867\t\t0.5862129\t\t0.733477\n",
      "INFO:root:Epoch\t8/30\n",
      "100%|██████████| 3224/3224 [23:17<00:00,  2.71it/s]  \n",
      "100%|██████████| 3224/3224 [00:51<00:00, 62.70it/s]\n",
      "INFO:root:TRAIN:\t0.0133832\t0.4547038\t0.6405846\n",
      "100%|██████████| 506/506 [00:08<00:00, 58.75it/s]\n",
      "INFO:root:DEV:\t\t0.2917101\t\t0.6083664\t\t0.7718572\n",
      "100%|██████████| 1117/1117 [00:22<00:00, 50.09it/s]\n",
      "INFO:root:TEST:\t\t0.3412117\t\t0.5837819\t\t0.7978243\n",
      "INFO:root:Epoch\t9/30\n",
      "100%|██████████| 3224/3224 [23:16<00:00,  2.59it/s]  \n",
      "100%|██████████| 3224/3224 [00:51<00:00, 62.30it/s]\n",
      "INFO:root:TRAIN:\t0.0134967\t0.4849739\t0.6450815\n",
      "100%|██████████| 506/506 [00:08<00:00, 58.04it/s]\n",
      "INFO:root:DEV:\t\t0.2539103\t\t0.7097007\t\t0.7902225\n",
      "100%|██████████| 1117/1117 [00:22<00:00, 49.88it/s]\n",
      "INFO:root:TEST:\t\t0.275467\t\t0.7023789\t\t0.6837028\n",
      "INFO:root:Epoch\t10/30\n",
      "100%|██████████| 3224/3224 [23:14<00:00,  2.62it/s]  \n",
      "100%|██████████| 3224/3224 [00:49<00:00, 65.59it/s]\n",
      "INFO:root:TRAIN:\t0.0104344\t0.4686411\t0.6598089\n",
      "100%|██████████| 506/506 [00:08<00:00, 61.57it/s]\n",
      "INFO:root:DEV:\t\t0.1895203\t\t0.6682294\t\t0.7563373\n",
      "100%|██████████| 1117/1117 [00:20<00:00, 53.22it/s]\n",
      "INFO:root:TEST:\t\t0.2343895\t\t0.6581004\t\t0.8070608\n",
      "INFO:root:Epoch\t11/30\n",
      "100%|██████████| 3224/3224 [23:19<00:00,  2.63it/s]  \n",
      "100%|██████████| 3224/3224 [00:49<00:00, 64.82it/s]\n",
      "INFO:root:TRAIN:\t0.0110015\t0.4732143\t0.6192243\n",
      "100%|██████████| 506/506 [00:08<00:00, 60.04it/s]\n",
      "INFO:root:DEV:\t\t0.2228884\t\t0.6458709\t\t0.7056389\n",
      "100%|██████████| 1117/1117 [00:21<00:00, 52.40it/s]\n",
      "INFO:root:TEST:\t\t0.2487357\t\t0.6436881\t\t0.7640599\n"
     ]
    },
    {
     "data": {
      "application/vnd.plotly.v1+json": {
       "config": {
        "linkText": "Export to plot.ly",
        "plotlyServerURL": "https://plot.ly",
        "showLink": true
       },
       "data": [
        {
         "marker": {
          "color": "#1abc9c"
         },
         "mode": "lines+markers",
         "name": "Train Global Accuracy",
         "type": "scatter",
         "uid": "402d5e29-6986-409f-9724-983ef5f59df6",
         "x": [
          0,
          1,
          2,
          3,
          4,
          5,
          6,
          7,
          8,
          9,
          10
         ],
         "y": [
          0.0104344,
          0.0085063,
          0.0139503,
          0.0151979,
          0.0147442,
          0.0129296,
          0.0140637,
          0.0133832,
          0.0134967,
          0.0104344,
          0.0110015
         ]
        },
        {
         "marker": {
          "color": "#3498db"
         },
         "mode": "lines+markers",
         "name": "Dev Global Accuracy",
         "type": "scatter",
         "uid": "0770fff4-411b-4aa3-a0b0-bb22b690bb1f",
         "x": [
          0,
          1,
          2,
          3,
          4,
          5,
          6,
          7,
          8,
          9,
          10
         ],
         "y": [
          0.214025,
          0.1634515,
          0.2244526,
          0.2546924,
          0.3198644,
          0.2570386,
          0.2872784,
          0.2917101,
          0.2539103,
          0.1895203,
          0.2228884
         ]
        },
        {
         "marker": {
          "color": "#9b59b6"
         },
         "mode": "lines+markers",
         "name": "Test Global Accuracy",
         "type": "scatter",
         "uid": "4ddb619e-209e-4995-95c1-bc55e88c086a",
         "x": [
          0,
          1,
          2,
          3,
          4,
          5,
          6,
          7,
          8,
          9,
          10
         ],
         "y": [
          0.2706162,
          0.1811332,
          0.2823821,
          0.2736092,
          0.3062236,
          0.2807307,
          0.3564867,
          0.3412117,
          0.275467,
          0.2343895,
          0.2487357
         ]
        }
       ],
       "layout": {
        "margin": {
         "b": 150
        },
        "title": "<b>Train-Dev-Test Global Accuracy</b>",
        "xaxis": {
         "dtick": 1,
         "title": "<b>Epoch</b>",
         "titlefont": {
          "color": "#34495e"
         }
        },
        "yaxis": {
         "title": "<b>Accuracy</b>",
         "titlefont": {
          "color": "#34495e"
         }
        }
       }
      },
      "text/html": [
       "<div id=\"127795d8-16a9-41e7-b6ee-f05b36bc0bda\" style=\"height: 525px; width: 100%;\" class=\"plotly-graph-div\"></div><script type=\"text/javascript\">require([\"plotly\"], function(Plotly) { window.PLOTLYENV=window.PLOTLYENV || {};window.PLOTLYENV.BASE_URL=\"https://plot.ly\";Plotly.newPlot(\"127795d8-16a9-41e7-b6ee-f05b36bc0bda\", [{\"marker\": {\"color\": \"#1abc9c\"}, \"mode\": \"lines+markers\", \"name\": \"Train Global Accuracy\", \"x\": [0, 1, 2, 3, 4, 5, 6, 7, 8, 9, 10], \"y\": [0.0104344, 0.0085063, 0.0139503, 0.0151979, 0.0147442, 0.0129296, 0.0140637, 0.0133832, 0.0134967, 0.0104344, 0.0110015], \"type\": \"scatter\", \"uid\": \"9c1a632f-dab9-4e7a-9a20-6e49061b3884\"}, {\"marker\": {\"color\": \"#3498db\"}, \"mode\": \"lines+markers\", \"name\": \"Dev Global Accuracy\", \"x\": [0, 1, 2, 3, 4, 5, 6, 7, 8, 9, 10], \"y\": [0.214025, 0.1634515, 0.2244526, 0.2546924, 0.3198644, 0.2570386, 0.2872784, 0.2917101, 0.2539103, 0.1895203, 0.2228884], \"type\": \"scatter\", \"uid\": \"de658143-5de5-4afa-813c-712995c2deed\"}, {\"marker\": {\"color\": \"#9b59b6\"}, \"mode\": \"lines+markers\", \"name\": \"Test Global Accuracy\", \"x\": [0, 1, 2, 3, 4, 5, 6, 7, 8, 9, 10], \"y\": [0.2706162, 0.1811332, 0.2823821, 0.2736092, 0.3062236, 0.2807307, 0.3564867, 0.3412117, 0.275467, 0.2343895, 0.2487357], \"type\": \"scatter\", \"uid\": \"a0feea15-b479-43b4-a047-967d03bc8520\"}], {\"margin\": {\"b\": 150}, \"title\": \"<b>Train-Dev-Test Global Accuracy</b>\", \"xaxis\": {\"dtick\": 1, \"title\": \"<b>Epoch</b>\", \"titlefont\": {\"color\": \"#34495e\"}}, \"yaxis\": {\"title\": \"<b>Accuracy</b>\", \"titlefont\": {\"color\": \"#34495e\"}}}, {\"showLink\": true, \"linkText\": \"Export to plot.ly\", \"plotlyServerURL\": \"https://plot.ly\"})});</script><script type=\"text/javascript\">window.addEventListener(\"resize\", function(){window._Plotly.Plots.resize(document.getElementById(\"127795d8-16a9-41e7-b6ee-f05b36bc0bda\"));});</script>"
      ],
      "text/vnd.plotly.v1+html": [
       "<div id=\"127795d8-16a9-41e7-b6ee-f05b36bc0bda\" style=\"height: 525px; width: 100%;\" class=\"plotly-graph-div\"></div><script type=\"text/javascript\">require([\"plotly\"], function(Plotly) { window.PLOTLYENV=window.PLOTLYENV || {};window.PLOTLYENV.BASE_URL=\"https://plot.ly\";Plotly.newPlot(\"127795d8-16a9-41e7-b6ee-f05b36bc0bda\", [{\"marker\": {\"color\": \"#1abc9c\"}, \"mode\": \"lines+markers\", \"name\": \"Train Global Accuracy\", \"x\": [0, 1, 2, 3, 4, 5, 6, 7, 8, 9, 10], \"y\": [0.0104344, 0.0085063, 0.0139503, 0.0151979, 0.0147442, 0.0129296, 0.0140637, 0.0133832, 0.0134967, 0.0104344, 0.0110015], \"type\": \"scatter\", \"uid\": \"9c1a632f-dab9-4e7a-9a20-6e49061b3884\"}, {\"marker\": {\"color\": \"#3498db\"}, \"mode\": \"lines+markers\", \"name\": \"Dev Global Accuracy\", \"x\": [0, 1, 2, 3, 4, 5, 6, 7, 8, 9, 10], \"y\": [0.214025, 0.1634515, 0.2244526, 0.2546924, 0.3198644, 0.2570386, 0.2872784, 0.2917101, 0.2539103, 0.1895203, 0.2228884], \"type\": \"scatter\", \"uid\": \"de658143-5de5-4afa-813c-712995c2deed\"}, {\"marker\": {\"color\": \"#9b59b6\"}, \"mode\": \"lines+markers\", \"name\": \"Test Global Accuracy\", \"x\": [0, 1, 2, 3, 4, 5, 6, 7, 8, 9, 10], \"y\": [0.2706162, 0.1811332, 0.2823821, 0.2736092, 0.3062236, 0.2807307, 0.3564867, 0.3412117, 0.275467, 0.2343895, 0.2487357], \"type\": \"scatter\", \"uid\": \"a0feea15-b479-43b4-a047-967d03bc8520\"}], {\"margin\": {\"b\": 150}, \"title\": \"<b>Train-Dev-Test Global Accuracy</b>\", \"xaxis\": {\"dtick\": 1, \"title\": \"<b>Epoch</b>\", \"titlefont\": {\"color\": \"#34495e\"}}, \"yaxis\": {\"title\": \"<b>Accuracy</b>\", \"titlefont\": {\"color\": \"#34495e\"}}}, {\"showLink\": true, \"linkText\": \"Export to plot.ly\", \"plotlyServerURL\": \"https://plot.ly\"})});</script><script type=\"text/javascript\">window.addEventListener(\"resize\", function(){window._Plotly.Plots.resize(document.getElementById(\"127795d8-16a9-41e7-b6ee-f05b36bc0bda\"));});</script>"
      ]
     },
     "metadata": {},
     "output_type": "display_data"
    },
    {
     "data": {
      "application/vnd.plotly.v1+json": {
       "config": {
        "linkText": "Export to plot.ly",
        "plotlyServerURL": "https://plot.ly",
        "showLink": true
       },
       "data": [
        {
         "marker": {
          "color": "#1abc9c"
         },
         "mode": "lines+markers",
         "name": "Train Requested Accuracy",
         "type": "scatter",
         "uid": "f8bb50bb-6249-467e-b3dc-a5f30613f9df",
         "x": [
          0,
          1,
          2,
          3,
          4,
          5,
          6,
          7,
          8,
          9,
          10
         ],
         "y": [
          0.4553571,
          0.4538328,
          0.4736498,
          0.4581882,
          0.453615,
          0.4560105,
          0.4618902,
          0.4547038,
          0.4849739,
          0.4686411,
          0.4732143
         ]
        },
        {
         "marker": {
          "color": "#3498db"
         },
         "mode": "lines+markers",
         "name": "Dev Requested Accuracy",
         "type": "scatter",
         "uid": "72c9a012-7c61-4819-bd0a-9946dfbea705",
         "x": [
          0,
          1,
          2,
          3,
          4,
          5,
          6,
          7,
          8,
          9,
          10
         ],
         "y": [
          0.6004327,
          0.5975478,
          0.6393797,
          0.6231518,
          0.6022358,
          0.6018752,
          0.6022358,
          0.6083664,
          0.7097007,
          0.6682294,
          0.6458709
         ]
        },
        {
         "marker": {
          "color": "#9b59b6"
         },
         "mode": "lines+markers",
         "name": "Test Requested Accuracy",
         "type": "scatter",
         "uid": "8276d29c-123f-4800-9468-dd3d83db4f19",
         "x": [
          0,
          1,
          2,
          3,
          4,
          5,
          6,
          7,
          8,
          9,
          10
         ],
         "y": [
          0.5815246,
          0.5782254,
          0.6414308,
          0.5981941,
          0.5834346,
          0.5893384,
          0.5862129,
          0.5837819,
          0.7023789,
          0.6581004,
          0.6436881
         ]
        }
       ],
       "layout": {
        "margin": {
         "b": 150
        },
        "title": "<b>Train-Dev-Test Requested Accuracy</b>",
        "xaxis": {
         "dtick": 1,
         "title": "<b>Epoch</b>",
         "titlefont": {
          "color": "#34495e"
         }
        },
        "yaxis": {
         "title": "<b>Accuracy</b>",
         "titlefont": {
          "color": "#34495e"
         }
        }
       }
      },
      "text/html": [
       "<div id=\"3ddd6c3d-6afb-4abc-9147-a1b076b21ee2\" style=\"height: 525px; width: 100%;\" class=\"plotly-graph-div\"></div><script type=\"text/javascript\">require([\"plotly\"], function(Plotly) { window.PLOTLYENV=window.PLOTLYENV || {};window.PLOTLYENV.BASE_URL=\"https://plot.ly\";Plotly.newPlot(\"3ddd6c3d-6afb-4abc-9147-a1b076b21ee2\", [{\"marker\": {\"color\": \"#1abc9c\"}, \"mode\": \"lines+markers\", \"name\": \"Train Requested Accuracy\", \"x\": [0, 1, 2, 3, 4, 5, 6, 7, 8, 9, 10], \"y\": [0.4553571, 0.4538328, 0.4736498, 0.4581882, 0.453615, 0.4560105, 0.4618902, 0.4547038, 0.4849739, 0.4686411, 0.4732143], \"type\": \"scatter\", \"uid\": \"ddb9428b-e4cb-4cdc-8de4-8027aaff6a0c\"}, {\"marker\": {\"color\": \"#3498db\"}, \"mode\": \"lines+markers\", \"name\": \"Dev Requested Accuracy\", \"x\": [0, 1, 2, 3, 4, 5, 6, 7, 8, 9, 10], \"y\": [0.6004327, 0.5975478, 0.6393797, 0.6231518, 0.6022358, 0.6018752, 0.6022358, 0.6083664, 0.7097007, 0.6682294, 0.6458709], \"type\": \"scatter\", \"uid\": \"53afb94f-b150-48bb-b9a6-908f7bed3f33\"}, {\"marker\": {\"color\": \"#9b59b6\"}, \"mode\": \"lines+markers\", \"name\": \"Test Requested Accuracy\", \"x\": [0, 1, 2, 3, 4, 5, 6, 7, 8, 9, 10], \"y\": [0.5815246, 0.5782254, 0.6414308, 0.5981941, 0.5834346, 0.5893384, 0.5862129, 0.5837819, 0.7023789, 0.6581004, 0.6436881], \"type\": \"scatter\", \"uid\": \"358db531-9977-44e8-bf3e-5e30fe604a28\"}], {\"margin\": {\"b\": 150}, \"title\": \"<b>Train-Dev-Test Requested Accuracy</b>\", \"xaxis\": {\"dtick\": 1, \"title\": \"<b>Epoch</b>\", \"titlefont\": {\"color\": \"#34495e\"}}, \"yaxis\": {\"title\": \"<b>Accuracy</b>\", \"titlefont\": {\"color\": \"#34495e\"}}}, {\"showLink\": true, \"linkText\": \"Export to plot.ly\", \"plotlyServerURL\": \"https://plot.ly\"})});</script><script type=\"text/javascript\">window.addEventListener(\"resize\", function(){window._Plotly.Plots.resize(document.getElementById(\"3ddd6c3d-6afb-4abc-9147-a1b076b21ee2\"));});</script>"
      ],
      "text/vnd.plotly.v1+html": [
       "<div id=\"3ddd6c3d-6afb-4abc-9147-a1b076b21ee2\" style=\"height: 525px; width: 100%;\" class=\"plotly-graph-div\"></div><script type=\"text/javascript\">require([\"plotly\"], function(Plotly) { window.PLOTLYENV=window.PLOTLYENV || {};window.PLOTLYENV.BASE_URL=\"https://plot.ly\";Plotly.newPlot(\"3ddd6c3d-6afb-4abc-9147-a1b076b21ee2\", [{\"marker\": {\"color\": \"#1abc9c\"}, \"mode\": \"lines+markers\", \"name\": \"Train Requested Accuracy\", \"x\": [0, 1, 2, 3, 4, 5, 6, 7, 8, 9, 10], \"y\": [0.4553571, 0.4538328, 0.4736498, 0.4581882, 0.453615, 0.4560105, 0.4618902, 0.4547038, 0.4849739, 0.4686411, 0.4732143], \"type\": \"scatter\", \"uid\": \"ddb9428b-e4cb-4cdc-8de4-8027aaff6a0c\"}, {\"marker\": {\"color\": \"#3498db\"}, \"mode\": \"lines+markers\", \"name\": \"Dev Requested Accuracy\", \"x\": [0, 1, 2, 3, 4, 5, 6, 7, 8, 9, 10], \"y\": [0.6004327, 0.5975478, 0.6393797, 0.6231518, 0.6022358, 0.6018752, 0.6022358, 0.6083664, 0.7097007, 0.6682294, 0.6458709], \"type\": \"scatter\", \"uid\": \"53afb94f-b150-48bb-b9a6-908f7bed3f33\"}, {\"marker\": {\"color\": \"#9b59b6\"}, \"mode\": \"lines+markers\", \"name\": \"Test Requested Accuracy\", \"x\": [0, 1, 2, 3, 4, 5, 6, 7, 8, 9, 10], \"y\": [0.5815246, 0.5782254, 0.6414308, 0.5981941, 0.5834346, 0.5893384, 0.5862129, 0.5837819, 0.7023789, 0.6581004, 0.6436881], \"type\": \"scatter\", \"uid\": \"358db531-9977-44e8-bf3e-5e30fe604a28\"}], {\"margin\": {\"b\": 150}, \"title\": \"<b>Train-Dev-Test Requested Accuracy</b>\", \"xaxis\": {\"dtick\": 1, \"title\": \"<b>Epoch</b>\", \"titlefont\": {\"color\": \"#34495e\"}}, \"yaxis\": {\"title\": \"<b>Accuracy</b>\", \"titlefont\": {\"color\": \"#34495e\"}}}, {\"showLink\": true, \"linkText\": \"Export to plot.ly\", \"plotlyServerURL\": \"https://plot.ly\"})});</script><script type=\"text/javascript\">window.addEventListener(\"resize\", function(){window._Plotly.Plots.resize(document.getElementById(\"3ddd6c3d-6afb-4abc-9147-a1b076b21ee2\"));});</script>"
      ]
     },
     "metadata": {},
     "output_type": "display_data"
    },
    {
     "data": {
      "application/vnd.plotly.v1+json": {
       "config": {
        "linkText": "Export to plot.ly",
        "plotlyServerURL": "https://plot.ly",
        "showLink": true
       },
       "data": [
        {
         "marker": {
          "color": "#1abc9c"
         },
         "mode": "lines+markers",
         "name": "Train Method Accuracy",
         "type": "scatter",
         "uid": "e91a98f1-e5d1-4878-a346-4b73e80b070a",
         "x": [
          0,
          1,
          2,
          3,
          4,
          5,
          6,
          7,
          8,
          9,
          10
         ],
         "y": [
          0.5948286,
          0.6468803,
          0.6321529,
          0.6592468,
          0.6322653,
          0.6362001,
          0.6105677,
          0.6405846,
          0.6450815,
          0.6598089,
          0.6192243
         ]
        },
        {
         "marker": {
          "color": "#3498db"
         },
         "mode": "lines+markers",
         "name": "Dev Method Accuracy",
         "type": "scatter",
         "uid": "cfda01db-b139-4507-97dc-4a41651ed9f3",
         "x": [
          0,
          1,
          2,
          3,
          4,
          5,
          6,
          7,
          8,
          9,
          10
         ],
         "y": [
          0.6852043,
          0.7578893,
          0.8041904,
          0.8088464,
          0.7705639,
          0.7928091,
          0.7123642,
          0.7718572,
          0.7902225,
          0.7563373,
          0.7056389
         ]
        },
        {
         "marker": {
          "color": "#9b59b6"
         },
         "mode": "lines+markers",
         "name": "Test Method Accuracy",
         "type": "scatter",
         "uid": "c6b63070-830b-4329-992d-c10504b1d7eb",
         "x": [
          0,
          1,
          2,
          3,
          4,
          5,
          6,
          7,
          8,
          9,
          10
         ],
         "y": [
          0.5815246,
          0.5782254,
          0.6414308,
          0.5981941,
          0.5834346,
          0.5893384,
          0.5862129,
          0.5837819,
          0.7023789,
          0.6581004,
          0.6436881
         ]
        }
       ],
       "layout": {
        "margin": {
         "b": 150
        },
        "title": "<b>Train-Dev-Test Method Accuracy</b>",
        "xaxis": {
         "dtick": 1,
         "title": "<b>Epoch</b>",
         "titlefont": {
          "color": "#34495e"
         }
        },
        "yaxis": {
         "title": "<b>Accuracy</b>",
         "titlefont": {
          "color": "#34495e"
         }
        }
       }
      },
      "text/html": [
       "<div id=\"8ad8aab5-6c58-4abe-9d9b-d0120608a9ae\" style=\"height: 525px; width: 100%;\" class=\"plotly-graph-div\"></div><script type=\"text/javascript\">require([\"plotly\"], function(Plotly) { window.PLOTLYENV=window.PLOTLYENV || {};window.PLOTLYENV.BASE_URL=\"https://plot.ly\";Plotly.newPlot(\"8ad8aab5-6c58-4abe-9d9b-d0120608a9ae\", [{\"marker\": {\"color\": \"#1abc9c\"}, \"mode\": \"lines+markers\", \"name\": \"Train Method Accuracy\", \"x\": [0, 1, 2, 3, 4, 5, 6, 7, 8, 9, 10], \"y\": [0.5948286, 0.6468803, 0.6321529, 0.6592468, 0.6322653, 0.6362001, 0.6105677, 0.6405846, 0.6450815, 0.6598089, 0.6192243], \"type\": \"scatter\", \"uid\": \"0741eb72-be98-4091-8dad-c85d5a2cf3dd\"}, {\"marker\": {\"color\": \"#3498db\"}, \"mode\": \"lines+markers\", \"name\": \"Dev Method Accuracy\", \"x\": [0, 1, 2, 3, 4, 5, 6, 7, 8, 9, 10], \"y\": [0.6852043, 0.7578893, 0.8041904, 0.8088464, 0.7705639, 0.7928091, 0.7123642, 0.7718572, 0.7902225, 0.7563373, 0.7056389], \"type\": \"scatter\", \"uid\": \"7046bc8e-02e7-4419-a223-8f7bb1e75917\"}, {\"marker\": {\"color\": \"#9b59b6\"}, \"mode\": \"lines+markers\", \"name\": \"Test Method Accuracy\", \"x\": [0, 1, 2, 3, 4, 5, 6, 7, 8, 9, 10], \"y\": [0.5815246, 0.5782254, 0.6414308, 0.5981941, 0.5834346, 0.5893384, 0.5862129, 0.5837819, 0.7023789, 0.6581004, 0.6436881], \"type\": \"scatter\", \"uid\": \"0a3a279b-6215-41dc-ae8d-0b975870f520\"}], {\"margin\": {\"b\": 150}, \"title\": \"<b>Train-Dev-Test Method Accuracy</b>\", \"xaxis\": {\"dtick\": 1, \"title\": \"<b>Epoch</b>\", \"titlefont\": {\"color\": \"#34495e\"}}, \"yaxis\": {\"title\": \"<b>Accuracy</b>\", \"titlefont\": {\"color\": \"#34495e\"}}}, {\"showLink\": true, \"linkText\": \"Export to plot.ly\", \"plotlyServerURL\": \"https://plot.ly\"})});</script><script type=\"text/javascript\">window.addEventListener(\"resize\", function(){window._Plotly.Plots.resize(document.getElementById(\"8ad8aab5-6c58-4abe-9d9b-d0120608a9ae\"));});</script>"
      ],
      "text/vnd.plotly.v1+html": [
       "<div id=\"8ad8aab5-6c58-4abe-9d9b-d0120608a9ae\" style=\"height: 525px; width: 100%;\" class=\"plotly-graph-div\"></div><script type=\"text/javascript\">require([\"plotly\"], function(Plotly) { window.PLOTLYENV=window.PLOTLYENV || {};window.PLOTLYENV.BASE_URL=\"https://plot.ly\";Plotly.newPlot(\"8ad8aab5-6c58-4abe-9d9b-d0120608a9ae\", [{\"marker\": {\"color\": \"#1abc9c\"}, \"mode\": \"lines+markers\", \"name\": \"Train Method Accuracy\", \"x\": [0, 1, 2, 3, 4, 5, 6, 7, 8, 9, 10], \"y\": [0.5948286, 0.6468803, 0.6321529, 0.6592468, 0.6322653, 0.6362001, 0.6105677, 0.6405846, 0.6450815, 0.6598089, 0.6192243], \"type\": \"scatter\", \"uid\": \"0741eb72-be98-4091-8dad-c85d5a2cf3dd\"}, {\"marker\": {\"color\": \"#3498db\"}, \"mode\": \"lines+markers\", \"name\": \"Dev Method Accuracy\", \"x\": [0, 1, 2, 3, 4, 5, 6, 7, 8, 9, 10], \"y\": [0.6852043, 0.7578893, 0.8041904, 0.8088464, 0.7705639, 0.7928091, 0.7123642, 0.7718572, 0.7902225, 0.7563373, 0.7056389], \"type\": \"scatter\", \"uid\": \"7046bc8e-02e7-4419-a223-8f7bb1e75917\"}, {\"marker\": {\"color\": \"#9b59b6\"}, \"mode\": \"lines+markers\", \"name\": \"Test Method Accuracy\", \"x\": [0, 1, 2, 3, 4, 5, 6, 7, 8, 9, 10], \"y\": [0.5815246, 0.5782254, 0.6414308, 0.5981941, 0.5834346, 0.5893384, 0.5862129, 0.5837819, 0.7023789, 0.6581004, 0.6436881], \"type\": \"scatter\", \"uid\": \"0a3a279b-6215-41dc-ae8d-0b975870f520\"}], {\"margin\": {\"b\": 150}, \"title\": \"<b>Train-Dev-Test Method Accuracy</b>\", \"xaxis\": {\"dtick\": 1, \"title\": \"<b>Epoch</b>\", \"titlefont\": {\"color\": \"#34495e\"}}, \"yaxis\": {\"title\": \"<b>Accuracy</b>\", \"titlefont\": {\"color\": \"#34495e\"}}}, {\"showLink\": true, \"linkText\": \"Export to plot.ly\", \"plotlyServerURL\": \"https://plot.ly\"})});</script><script type=\"text/javascript\">window.addEventListener(\"resize\", function(){window._Plotly.Plots.resize(document.getElementById(\"8ad8aab5-6c58-4abe-9d9b-d0120608a9ae\"));});</script>"
      ]
     },
     "metadata": {},
     "output_type": "display_data"
    }
   ],
   "source": [
    "train_global_accuracies = []\n",
    "train_requested_accuracies = []\n",
    "train_method_accuracies = []\n",
    "\n",
    "dev_global_accuracies = []\n",
    "dev_requested_accuracies = []\n",
    "dev_method_accuracies = []\n",
    "\n",
    "test_global_accuracies = []\n",
    "test_requested_accuracies = []\n",
    "test_method_accuracies = []\n",
    "\n",
    "lectrack_early_stopping = EarlyStopping(patience = 5,\n",
    "                                        min_delta = 0.005)\n",
    "\n",
    "for epoch in range(NUM_EPOCHS):\n",
    "    \n",
    "    logging.info(\"Epoch\\t{}/{}\".format(epoch + 1, NUM_EPOCHS))\n",
    "    \n",
    "    model_LecTrack = model_LecTrack.train()\n",
    "    \n",
    "    for raw_X_train_dialog, raw_Y_train_dialog in tqdm(zip(raw_X_train, raw_Y_train), total = len(raw_X_train)):\n",
    "\n",
    "        model_LecTrack.hidden = model_LecTrack.init_hidden()\n",
    "\n",
    "        for raw_X_train_turn, raw_Y_train_turn in zip(raw_X_train_dialog[\"turns\"], raw_Y_train_dialog[\"turns\"]):\n",
    "            \n",
    "            optimizer_LecTrackModel.zero_grad()\n",
    "            \n",
    "            indices, scores = get_index_and_score(raw_X_train_turn, token_to_index, device = DEVICE)\n",
    "        \n",
    "            goal_foods, goal_priceranges, goal_names, goal_areas, methods, requesteds = model_LecTrack(indices, scores)\n",
    "            \n",
    "            for goal_food, goal_pricerange, goal_name, goal_area, method, requested in zip(goal_foods, goal_priceranges, goal_names, goal_areas, methods, requesteds):\n",
    "                \n",
    "                goal_food = goal_food.unsqueeze(0)\n",
    "                goal_pricerange = goal_pricerange.unsqueeze(0)\n",
    "                goal_name = goal_name.unsqueeze(0)\n",
    "                goal_area = goal_area.unsqueeze(0)\n",
    "                method = method.unsqueeze(0)\n",
    "                requested = requested.unsqueeze(0)\n",
    "                \n",
    "                loss_goal_food = GOAL_LOSS_FUNCTION(goal_food,\n",
    "                                                    retrieve_gold_GoalFood(raw_Y_train_turn,\n",
    "                                                                           ontology = ontology,\n",
    "                                                                           device = DEVICE))\n",
    "\n",
    "                loss_goal_pricerange = GOAL_LOSS_FUNCTION(goal_pricerange,\n",
    "                                                          retrieve_gold_GoalPriceRange(raw_Y_train_turn,\n",
    "                                                                                       ontology = ontology,\n",
    "                                                                                       device = DEVICE))\n",
    "\n",
    "                loss_goal_name = GOAL_LOSS_FUNCTION(goal_name,\n",
    "                                                    retrieve_gold_GoalName(raw_Y_train_turn,\n",
    "                                                                           ontology = ontology,\n",
    "                                                                           device = DEVICE))\n",
    "\n",
    "                loss_goal_area = GOAL_LOSS_FUNCTION(goal_area,\n",
    "                                                    retrieve_gold_GoalArea(raw_Y_train_turn,\n",
    "                                                                           ontology = ontology,\n",
    "                                                                           device = DEVICE))\n",
    "\n",
    "                loss_method = METHOD_LOSS_FUNCTION(method,\n",
    "                                                   retrieve_gold_Method(raw_Y_train_turn,\n",
    "                                                                        ontology = ontology,\n",
    "                                                                        device = DEVICE))\n",
    "\n",
    "                loss_requested = REQUESTED_LOSS_FUNCTION(requested,\n",
    "                                                         retrieve_gold_Requested(raw_Y_train_turn,\n",
    "                                                                                 ontology = ontology,\n",
    "                                                                                 device = DEVICE))\n",
    "\n",
    "                loss = loss_goal_food + loss_goal_pricerange + loss_goal_name + loss_goal_area + loss_method + loss_requested\n",
    "                loss.backward(retain_graph = True)\n",
    "\n",
    "                optimizer_LecTrackModel.step()\n",
    "    \n",
    "    model_LecTrack = model_LecTrack.eval()\n",
    "    \n",
    "    with torch.no_grad():\n",
    "        \n",
    "        train_global_accuracy, \\\n",
    "        train_requested_accuracy, \\\n",
    "        train_method_accuracy = get_scores(raw_X_train, raw_Y_train, dataset = \"dstc2_train\")\n",
    "        logging.info(\"TRAIN:\\t{}\\t{}\\t{}\".format(train_global_accuracy, train_requested_accuracy, train_method_accuracy))\n",
    "        train_global_accuracies.append(train_global_accuracy)\n",
    "        train_requested_accuracies.append(train_requested_accuracy)\n",
    "        train_method_accuracies.append(train_method_accuracy)\n",
    "        \n",
    "        dev_global_accuracy, \\\n",
    "        dev_requested_accuracy, \\\n",
    "        dev_method_accuracy = get_scores(raw_X_dev, raw_Y_dev, dataset = \"dstc2_dev\")\n",
    "        logging.info(\"DEV:\\t\\t{}\\t\\t{}\\t\\t{}\".format(dev_global_accuracy, dev_requested_accuracy, dev_method_accuracy))\n",
    "        dev_global_accuracies.append(dev_global_accuracy)\n",
    "        dev_requested_accuracies.append(dev_requested_accuracy)\n",
    "        dev_method_accuracies.append(dev_method_accuracy)\n",
    "        \n",
    "        test_global_accuracy, \\\n",
    "        test_requested_accuracy, \\\n",
    "        test_method_accuracy = get_scores(raw_X_test, raw_Y_test, dataset = \"dstc2_test\")\n",
    "        logging.info(\"TEST:\\t\\t{}\\t\\t{}\\t\\t{}\".format(test_global_accuracy, test_requested_accuracy, test_method_accuracy))\n",
    "        test_global_accuracies.append(test_global_accuracy)\n",
    "        test_requested_accuracies.append(test_requested_accuracy)\n",
    "        test_method_accuracies.append(test_requested_accuracy)\n",
    "        \n",
    "    lectrack_early_stopping.on_epoch_end(epoch = (epoch + 1), current_value = dev_global_accuracy)\n",
    "    \n",
    "    if lectrack_early_stopping.stop_training:\n",
    "        break\n",
    "\n",
    "plotly_plot(train_global_accuracies, dev_global_accuracies, test_global_accuracies, \"Global\")\n",
    "plotly_plot(train_requested_accuracies, dev_requested_accuracies, test_requested_accuracies, \"Requested\")\n",
    "plotly_plot(train_method_accuracies, dev_method_accuracies, test_method_accuracies, \"Method\")"
   ]
  }
 ],
 "metadata": {
  "kernelspec": {
   "display_name": "Python 3",
   "language": "python",
   "name": "python3"
  },
  "language_info": {
   "codemirror_mode": {
    "name": "ipython",
    "version": 3
   },
   "file_extension": ".py",
   "mimetype": "text/x-python",
   "name": "python",
   "nbconvert_exporter": "python",
   "pygments_lexer": "ipython3",
   "version": "3.6.5"
  }
 },
 "nbformat": 4,
 "nbformat_minor": 2
}
