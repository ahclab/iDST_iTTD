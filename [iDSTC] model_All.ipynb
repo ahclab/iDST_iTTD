{
 "cells": [
  {
   "cell_type": "markdown",
   "metadata": {},
   "source": [
    "### Check GPU availability"
   ]
  },
  {
   "cell_type": "code",
   "execution_count": 1,
   "metadata": {},
   "outputs": [
    {
     "name": "stdout",
     "output_type": "stream",
     "text": [
      "Sat Jan 19 13:40:14 2019       \r\n",
      "+-----------------------------------------------------------------------------+\r\n",
      "| NVIDIA-SMI 384.145                Driver Version: 384.145                   |\r\n",
      "|-------------------------------+----------------------+----------------------+\r\n",
      "| GPU  Name        Persistence-M| Bus-Id        Disp.A | Volatile Uncorr. ECC |\r\n",
      "| Fan  Temp  Perf  Pwr:Usage/Cap|         Memory-Usage | GPU-Util  Compute M. |\r\n",
      "|===============================+======================+======================|\r\n",
      "|   0  GeForce GTX 108...  Off  | 00000000:02:00.0 Off |                  N/A |\r\n",
      "| 23%   32C    P8    17W / 250W |      0MiB / 11172MiB |      0%      Default |\r\n",
      "+-------------------------------+----------------------+----------------------+\r\n",
      "|   1  GeForce GTX 108...  Off  | 00000000:03:00.0 Off |                  N/A |\r\n",
      "| 23%   39C    P8    17W / 250W |      0MiB / 11172MiB |      0%      Default |\r\n",
      "+-------------------------------+----------------------+----------------------+\r\n",
      "                                                                               \r\n",
      "+-----------------------------------------------------------------------------+\r\n",
      "| Processes:                                                       GPU Memory |\r\n",
      "|  GPU       PID   Type   Process name                             Usage      |\r\n",
      "|=============================================================================|\r\n",
      "|  No running processes found                                                 |\r\n",
      "+-----------------------------------------------------------------------------+\r\n"
     ]
    }
   ],
   "source": [
    "!nvidia-smi"
   ]
  },
  {
   "cell_type": "markdown",
   "metadata": {},
   "source": [
    "### Import libraries"
   ]
  },
  {
   "cell_type": "code",
   "execution_count": 2,
   "metadata": {},
   "outputs": [
    {
     "name": "stderr",
     "output_type": "stream",
     "text": [
      "[nltk_data] Downloading package punkt to /home/is/andrei-\n",
      "[nltk_data]     cc/nltk_data...\n",
      "[nltk_data]   Package punkt is already up-to-date!\n"
     ]
    },
    {
     "data": {
      "text/html": [
       "<script type=\"text/javascript\">window.PlotlyConfig = {MathJaxConfig: 'local'};</script><script type=\"text/javascript\">if (window.MathJax) {MathJax.Hub.Config({SVG: {font: \"STIX-Web\"}});}</script><script>requirejs.config({paths: { 'plotly': ['https://cdn.plot.ly/plotly-latest.min']},});if(!window._Plotly) {require(['plotly'],function(plotly) {window._Plotly=plotly;});}</script>"
      ],
      "text/vnd.plotly.v1+html": [
       "<script type=\"text/javascript\">window.PlotlyConfig = {MathJaxConfig: 'local'};</script><script type=\"text/javascript\">if (window.MathJax) {MathJax.Hub.Config({SVG: {font: \"STIX-Web\"}});}</script><script>requirejs.config({paths: { 'plotly': ['https://cdn.plot.ly/plotly-latest.min']},});if(!window._Plotly) {require(['plotly'],function(plotly) {window._Plotly=plotly;});}</script>"
      ]
     },
     "metadata": {},
     "output_type": "display_data"
    }
   ],
   "source": [
    "import torch\n",
    "import torch.nn as nn\n",
    "import torch.nn.functional as F\n",
    "import torch.optim as optim\n",
    "\n",
    "import math\n",
    "import numpy as np\n",
    "import time\n",
    "import json\n",
    "import plotly\n",
    "import logging\n",
    "logging.getLogger().setLevel(logging.INFO)\n",
    "\n",
    "from pprint import pprint\n",
    "from tqdm import tqdm_notebook\n",
    "from idst_util import trivial\n",
    "from idst_util import dstc2\n",
    "\n",
    "from plotly.graph_objs import Scatter, Layout\n",
    "from plotly.graph_objs.layout import Margin\n",
    "plotly.offline.init_notebook_mode(connected = True)"
   ]
  },
  {
   "cell_type": "markdown",
   "metadata": {},
   "source": [
    "### Check DSTC2 availability"
   ]
  },
  {
   "cell_type": "code",
   "execution_count": 3,
   "metadata": {},
   "outputs": [
    {
     "name": "stderr",
     "output_type": "stream",
     "text": [
      "INFO:root:+--------------------------------+\n",
      "INFO:root:|         _ ____  ___________    |\n",
      "INFO:root:|        (_) __ \\/ ___/_  __/    |\n",
      "INFO:root:|       / / / / /\\__ \\ / /       |\n",
      "INFO:root:|      / / /_/ /___/ // /        |\n",
      "INFO:root:|     /_/_____//____//_/         |\n",
      "INFO:root:|                                |\n",
      "INFO:root:+--------------------------------+\n",
      "INFO:root:|Incremental Dialog State Tracker|\n",
      "INFO:root:+--------------------------------+\n",
      "INFO:root:+--------------------------------+\n",
      "INFO:root:|     Dialog State Tracker 2     |\n",
      "INFO:root:|         Data Checker           |\n",
      "INFO:root:+--------------------------------+\n",
      "INFO:root:Looking for dstc2 directory in .\n",
      "INFO:root:dstc2 was found!\n",
      "INFO:root:Looking for dstc2_traindev directory in ./dstc2\n",
      "INFO:root:dstc2_traindev was found!\n",
      "INFO:root:Looking for dstc2_test directory in ./dstc2\n",
      "INFO:root:dstc2_test was found!\n",
      "INFO:root:Looking for dstc2_scripts directory in ./dstc2\n",
      "INFO:root:dstc2_scripts was found!\n",
      "INFO:root:Done!\n"
     ]
    }
   ],
   "source": [
    "trivial.print_idst()\n",
    "dstc2.check()"
   ]
  },
  {
   "cell_type": "markdown",
   "metadata": {},
   "source": [
    "### Retrieve data"
   ]
  },
  {
   "cell_type": "code",
   "execution_count": 4,
   "metadata": {},
   "outputs": [
    {
     "name": "stderr",
     "output_type": "stream",
     "text": [
      "INFO:root:+--------------------------------+\n",
      "INFO:root:|     Dialog State Tracker 2     |\n",
      "INFO:root:|       Dataset Retrieval        |\n",
      "INFO:root:+--------------------------------+\n",
      "INFO:root:Reading dstc2_train.flist, dstc2_dev.flist and ontology_dstc2.json\n",
      "INFO:root:Asserted 1612 dialogs for dstc2_train.flist\n",
      "INFO:root:Asserted 506 dialogs for dstc2_dev.flist\n",
      "INFO:root:Extracting raw train features\n",
      "100%|██████████| 1612/1612 [00:11<00:00, 143.47it/s]\n",
      "INFO:root:Extracting raw dev features\n",
      "100%|██████████| 506/506 [00:02<00:00, 182.46it/s]\n",
      "INFO:root:Reading dstc2_test.flist\n",
      "INFO:root:Asserted 1117 dialogs for dstc2_test.flist\n",
      "INFO:root:Extracting raw test features\n",
      "100%|██████████| 1117/1117 [00:07<00:00, 151.10it/s]\n"
     ]
    }
   ],
   "source": [
    "raw_X_train, raw_Y_train, \\\n",
    "raw_X_dev, raw_Y_dev, \\\n",
    "raw_X_test, raw_Y_test, \\\n",
    "ontology = dstc2.retrieve_raw_datasets(train_data_augmentation = True)"
   ]
  },
  {
   "cell_type": "markdown",
   "metadata": {},
   "source": [
    "### Set device"
   ]
  },
  {
   "cell_type": "code",
   "execution_count": 5,
   "metadata": {},
   "outputs": [
    {
     "name": "stderr",
     "output_type": "stream",
     "text": [
      "INFO:root:+--------------------------------+\n",
      "INFO:root:|            Baseline            |\n",
      "INFO:root:+--------------------------------+\n",
      "INFO:root:Running on GPU 0\n"
     ]
    }
   ],
   "source": [
    "logging.info(\"+--------------------------------+\")\n",
    "logging.info(\"|            Baseline            |\")\n",
    "logging.info(\"+--------------------------------+\")\n",
    "\n",
    "GPU_ID = 0\n",
    "DEVICE = torch.device(\"cuda:{}\".format(GPU_ID) if torch.cuda.is_available() else \"cpu\")\n",
    "#DEVICE = \"cpu\"\n",
    "if DEVICE == \"cpu\":\n",
    "    logging.warning(\"Running on CPU\")\n",
    "else:\n",
    "    logging.info(\"Running on GPU {}\".format(GPU_ID))"
   ]
  },
  {
   "cell_type": "markdown",
   "metadata": {},
   "source": [
    "### Create vocabularies"
   ]
  },
  {
   "cell_type": "code",
   "execution_count": 6,
   "metadata": {},
   "outputs": [
    {
     "name": "stderr",
     "output_type": "stream",
     "text": [
      "INFO:root:+--------------------------------+\n",
      "INFO:root:|          Vocabulary            |\n",
      "INFO:root:+--------------------------------+\n",
      "INFO:root:Creating token_to_index, index_to_token and token_to_count dictionaries\n"
     ]
    },
    {
     "data": {
      "application/vnd.jupyter.widget-view+json": {
       "model_id": "e33b0355fefb4787bae9f8a686158d2a",
       "version_major": 2,
       "version_minor": 0
      },
      "text/plain": [
       "HBox(children=(IntProgress(value=0, max=3224), HTML(value='')))"
      ]
     },
     "metadata": {},
     "output_type": "display_data"
    },
    {
     "name": "stdout",
     "output_type": "stream",
     "text": [
      "\n"
     ]
    }
   ],
   "source": [
    "logging.info(\"+--------------------------------+\")\n",
    "logging.info(\"|          Vocabulary            |\")\n",
    "logging.info(\"+--------------------------------+\")\n",
    "logging.info(\"Creating token_to_index, index_to_token and token_to_count dictionaries\")\n",
    "\n",
    "token_to_index = {\"<unk>\": 0}\n",
    "index_to_token = {0: \"<unk>\"}\n",
    "token_to_count = {\"<unk>\": 1}\n",
    "\n",
    "for raw_train_dialog in tqdm_notebook(raw_X_train):\n",
    "    \n",
    "    for raw_train_turn in raw_train_dialog[\"turns\"]:\n",
    "        \n",
    "        tokens_scores = raw_train_turn[\"system\"] + raw_train_turn[\"user\"]\n",
    "        \n",
    "        for token_score in tokens_scores:\n",
    "            token = token_score[0]\n",
    "            if token not in token_to_index:\n",
    "                token_to_index[token] = len(token_to_index)\n",
    "                index_to_token[len(token_to_index)] = token\n",
    "                token_to_count[token] = 1\n",
    "            else:\n",
    "                token_to_count[token] += 1\n",
    "                \n",
    "assert len(token_to_index) == len(index_to_token)\n",
    "assert len(token_to_index) == len(token_to_count)"
   ]
  },
  {
   "cell_type": "markdown",
   "metadata": {},
   "source": [
    "### Execution configuration"
   ]
  },
  {
   "cell_type": "code",
   "execution_count": 7,
   "metadata": {},
   "outputs": [
    {
     "name": "stderr",
     "output_type": "stream",
     "text": [
      "INFO:root:+--------------------------------+\n",
      "INFO:root:|         Configuration          |\n",
      "INFO:root:+--------------------------------+\n",
      "INFO:root:VOCABULARY_SIZE:\t\t1149\n",
      "INFO:root:GOAL_FOOD_DIM:\t\t93\n",
      "INFO:root:GOAL_PRICERANGE_DIM:\t\t5\n",
      "INFO:root:GOAL_NAME_DIM:\t\t115\n",
      "INFO:root:GOAL_AREA_DIM:\t\t7\n",
      "INFO:root:METHOD_DIM:\t\t\t5\n",
      "INFO:root:REQUESTED_DIM:\t\t8\n",
      "INFO:root:EMBEDDING_DIM:\t\t170\n",
      "INFO:root:ALTERED_EMBEDDING_DIM:\t300\n",
      "INFO:root:HIDDEN_DIM:\t\t\t100\n",
      "INFO:root:NUM_EPOCHS:\t\t\t30\n",
      "INFO:root:GOAL_LOSS_FUNCTION:\t\tCrossEntropyLoss()\n",
      "INFO:root:METHOD_LOSS_FUNCTION:\t\tCrossEntropyLoss()\n",
      "INFO:root:REQUESTED_LOSS_FUNCTION:\tBCELoss()\n"
     ]
    }
   ],
   "source": [
    "logging.info(\"+--------------------------------+\")\n",
    "logging.info(\"|         Configuration          |\")\n",
    "logging.info(\"+--------------------------------+\")\n",
    "\n",
    "VOCABULARY_SIZE = len(token_to_index)\n",
    "logging.info(\"VOCABULARY_SIZE:\\t\\t{}\".format(VOCABULARY_SIZE))\n",
    "\n",
    "# NOTE: +2 because of null and dontcare\n",
    "GOAL_FOOD_DIM = len(ontology[\"informable\"][\"food\"]) + 2 \n",
    "GOAL_PRICERANGE_DIM = len(ontology[\"informable\"][\"pricerange\"]) + 2\n",
    "GOAL_NAME_DIM = len(ontology[\"informable\"][\"name\"]) + 2\n",
    "GOAL_AREA_DIM = len(ontology[\"informable\"][\"area\"]) + 2\n",
    "METHOD_DIM = len(ontology[\"method\"])\n",
    "REQUESTED_DIM = len(ontology[\"requestable\"])\n",
    "EMBEDDING_DIM = 170\n",
    "ALTERED_EMBEDDING_DIM = 300\n",
    "HIDDEN_DIM = 100\n",
    "NUM_EPOCHS = 30\n",
    "GOAL_LOSS_FUNCTION = nn.CrossEntropyLoss()\n",
    "METHOD_LOSS_FUNCTION = nn.CrossEntropyLoss()\n",
    "REQUESTED_LOSS_FUNCTION = nn.BCELoss()\n",
    "logging.info(\"GOAL_FOOD_DIM:\\t\\t{}\".format(GOAL_FOOD_DIM))\n",
    "logging.info(\"GOAL_PRICERANGE_DIM:\\t\\t{}\".format(GOAL_PRICERANGE_DIM))\n",
    "logging.info(\"GOAL_NAME_DIM:\\t\\t{}\".format(GOAL_NAME_DIM))\n",
    "logging.info(\"GOAL_AREA_DIM:\\t\\t{}\".format(GOAL_AREA_DIM))\n",
    "logging.info(\"METHOD_DIM:\\t\\t\\t{}\".format(METHOD_DIM))\n",
    "logging.info(\"REQUESTED_DIM:\\t\\t{}\".format(REQUESTED_DIM))\n",
    "logging.info(\"EMBEDDING_DIM:\\t\\t{}\".format(EMBEDDING_DIM))\n",
    "logging.info(\"ALTERED_EMBEDDING_DIM:\\t{}\".format(ALTERED_EMBEDDING_DIM))\n",
    "logging.info(\"HIDDEN_DIM:\\t\\t\\t{}\".format(HIDDEN_DIM))\n",
    "logging.info(\"NUM_EPOCHS:\\t\\t\\t{}\".format(NUM_EPOCHS))\n",
    "logging.info(\"GOAL_LOSS_FUNCTION:\\t\\t{}\".format(GOAL_LOSS_FUNCTION))\n",
    "logging.info(\"METHOD_LOSS_FUNCTION:\\t\\t{}\".format(METHOD_LOSS_FUNCTION))\n",
    "logging.info(\"REQUESTED_LOSS_FUNCTION:\\t{}\".format(REQUESTED_LOSS_FUNCTION))"
   ]
  },
  {
   "cell_type": "markdown",
   "metadata": {},
   "source": [
    "### Models utilities"
   ]
  },
  {
   "cell_type": "code",
   "execution_count": 8,
   "metadata": {},
   "outputs": [],
   "source": [
    "def get_index_and_score(turn, token_to_index, mode, device):\n",
    "    indices = []\n",
    "    scores = []\n",
    "    if mode == \"train\":\n",
    "        for system_token, system_token_score in turn[\"system\"]:\n",
    "            indices.append(token_to_index[system_token])\n",
    "            scores.append(system_token_score)\n",
    "        for user_token, user_token_score in turn[\"user\"]:\n",
    "            if np.random.binomial(n = 1, p = 0.1) == 1:\n",
    "                indices.append(token_to_index[\"<unk>\"])\n",
    "            else:\n",
    "                indices.append(token_to_index[user_token])\n",
    "            scores.append(user_token_score)\n",
    "    else:\n",
    "        tokens_scores = turn[\"system\"] + turn[\"user\"]\n",
    "        for token, score in tokens_scores:\n",
    "            if token not in token_to_index:\n",
    "                indices.append(token_to_index[\"<unk>\"])\n",
    "            else:\n",
    "                indices.append(token_to_index[token])\n",
    "            scores.append(score)\n",
    "    assert len(indices) == len(scores)\n",
    "    return torch.tensor(indices, dtype = torch.long, device = device), torch.tensor(scores, dtype = torch.float, device = device)\n",
    "\n",
    "def plotly_plot(dev_accuracies, test_accuracies, accuracy_type):\n",
    "    plotly.offline.iplot({\n",
    "                            \"data\": [Scatter(\n",
    "                                            x = list(range(len(dev_accuracies))),\n",
    "                                            y = dev_accuracies,\n",
    "                                            mode = \"lines+markers\",\n",
    "                                            name = \"Dev {} Accuracy\".format(accuracy_type),\n",
    "                                            marker = dict(color = \"#3498db\")),\n",
    "                                    Scatter(\n",
    "                                            x = list(range(len(test_accuracies))),\n",
    "                                            y = test_accuracies,\n",
    "                                            mode = \"lines+markers\",\n",
    "                                            name = \"Test {} Accuracy\".format(accuracy_type),\n",
    "                                            marker = dict(color = \"#9b59b6\"))],\n",
    "                            \"layout\": Layout(\n",
    "                                             title = \"<b>Dev-Test {} Accuracy</b>\".format(accuracy_type),\n",
    "                                             xaxis = dict(title = \"<b>Epoch</b>\",\n",
    "                                                          dtick = 1,\n",
    "                                                          titlefont = dict(color = \"#34495e\")),\n",
    "                                             yaxis = dict(title = \"<b>Accuracy</b>\",\n",
    "                                                          titlefont = dict(color = \"#34495e\")),\n",
    "                                             margin = Margin(b = 150))\n",
    "                        })\n",
    "\n",
    "class EarlyStopping():\n",
    "    \n",
    "    def __init__(self, min_delta = 0, patience = 0):\n",
    "        \n",
    "        self.min_delta = min_delta\n",
    "        self.patience = patience\n",
    "        self.wait = 0\n",
    "        self.stopped_epoch = 0\n",
    "        self.best = -np.Inf\n",
    "        self.stop_training = False\n",
    "    \n",
    "    def on_epoch_end(self, epoch, current_value):\n",
    "        if np.greater((current_value - self.min_delta), self.best):\n",
    "            self.best = current_value\n",
    "            self.wait = 0\n",
    "        else:\n",
    "            self.wait += 1\n",
    "            if self.wait > self.patience:\n",
    "                self.stopped_epoch = epoch\n",
    "                self.stop_training = True\n",
    "        return self.stop_training\n",
    "\n",
    "def make_tracker(model_All, raw_X, raw_Y, dataset):\n",
    "    \n",
    "    model_All = model_All.eval()\n",
    "    \n",
    "    with torch.no_grad():\n",
    "        tracker_json = {}\n",
    "        tracker_json[\"dataset\"] = dataset\n",
    "        tracker_json[\"sessions\"] = []\n",
    "\n",
    "        start_time = time.time()\n",
    "        for raw_X_dialog, raw_Y_dialog in tqdm_notebook(zip(raw_X, raw_Y), total = len(raw_X)):\n",
    "            \n",
    "            model_All.hidden = model_All.init_hidden()\n",
    "            \n",
    "            session = {}\n",
    "            session[\"session-id\"] = raw_X_dialog[\"session-id\"]\n",
    "            session[\"turns\"] = []\n",
    "\n",
    "            for raw_X_turn, raw_Y_turn in zip(raw_X_dialog[\"turns\"], raw_Y_dialog[\"turns\"]):\n",
    "                turn = {}\n",
    "                turn[\"goal-labels\"] = {}\n",
    "\n",
    "                indices, scores = get_index_and_score(raw_X_turn, token_to_index, mode = \"eval\", device = DEVICE)\n",
    "                \n",
    "                goal_food, goal_pricerange, goal_name, goal_area, method, requested = model_All(indices, scores)\n",
    "                turn[\"goal-labels\"][\"food\"] = retrieve_output_GoalFood(goal_food, ontology)\n",
    "                turn[\"goal-labels\"][\"pricerange\"] = retrieve_output_GoalPricerange(goal_pricerange, ontology)\n",
    "                turn[\"goal-labels\"][\"name\"] = retrieve_output_GoalName(goal_name, ontology)\n",
    "                turn[\"goal-labels\"][\"area\"] = retrieve_output_GoalArea(goal_area, ontology)\n",
    "                turn[\"requested-slots\"] = retrieve_output_Requested(requested, ontology)\n",
    "                turn[\"method-label\"] = retrieve_output_Method(method, ontology)\n",
    "                \n",
    "                session[\"turns\"].append(turn)\n",
    "            tracker_json[\"sessions\"].append(session)\n",
    "        end_time = time.time()\n",
    "        tracker_json[\"wall-time\"] = end_time - start_time\n",
    "        \n",
    "        return tracker_json\n",
    "\n",
    "def get_scores(model_All, raw_X, raw_Y, dataset):\n",
    "    goal_accuracy = 0\n",
    "    goal_l2 = 0\n",
    "    requested_accuracy = 0\n",
    "    requested_l2 = 0\n",
    "    method_accuracy = 0\n",
    "    method_l2 = 0\n",
    "    \n",
    "    tracker = make_tracker(model_All, raw_X, raw_Y, dataset = dataset)\n",
    "    \n",
    "    with open(\"tracker_all.json\", \"w\") as tracker_file:\n",
    "        json.dump(tracker, tracker_file)\n",
    "    \n",
    "    if dataset == \"dstc2_train\":\n",
    "        !python2 dstc2/dstc2_scripts/score.py\\\n",
    "        --dataset dstc2_train\\\n",
    "        --dataroot dstc2/dstc2_traindev/data\\\n",
    "        --ontology dstc2/dstc2_scripts/config/ontology_dstc2.json\\\n",
    "        --trackfile tracker_all.json\\\n",
    "        --scorefile tracker_all.score.csv\n",
    "    elif dataset == \"dstc2_dev\":\n",
    "        !python2 dstc2/dstc2_scripts/score.py\\\n",
    "        --dataset dstc2_dev\\\n",
    "        --dataroot dstc2/dstc2_traindev/data\\\n",
    "        --ontology dstc2/dstc2_scripts/config/ontology_dstc2.json\\\n",
    "        --trackfile tracker_all.json\\\n",
    "        --scorefile tracker_all.score.csv\n",
    "    else:\n",
    "        !python2 dstc2/dstc2_scripts/score.py\\\n",
    "        --dataset dstc2_test\\\n",
    "        --dataroot dstc2/dstc2_test/data\\\n",
    "        --ontology dstc2/dstc2_scripts/config/ontology_dstc2.json\\\n",
    "        --trackfile tracker_all.json\\\n",
    "        --scorefile tracker_all.score.csv\n",
    "\n",
    "    file_cat = !python2 dstc2/dstc2_scripts/report.py --scorefile tracker_all.score.csv\n",
    "    \n",
    "    found_accuracies = False\n",
    "    for line in file_cat:\n",
    "        if line.startswith(\"Accuracy\"):\n",
    "            accuracies = line.split(\"|\")\n",
    "            goal_accuracy = float(accuracies[1])\n",
    "            requested_accuracy = float(accuracies[2])\n",
    "            method_accuracy = float(accuracies[3])\n",
    "            found_accuracies = True\n",
    "        if found_accuracies and line.startswith(\"l2\"):\n",
    "            l2s = line.split(\"|\")\n",
    "            goal_l2 = float(l2s[1])\n",
    "            method_l2 = float(l2s[2])\n",
    "            requested_l2 = float(l2s[3])\n",
    "    \n",
    "    return goal_accuracy, goal_l2, requested_accuracy, requested_l2, method_accuracy, method_l2\n",
    "\n",
    "def retrieve_gold_GoalFood(raw_Y, ontology, device):\n",
    "    ontology_informable_food = ontology[\"informable\"][\"food\"]\n",
    "    raw_goal_food = raw_Y[\"goal\"][\"food\"]\n",
    "    goal_food = 0\n",
    "    if raw_goal_food != None:\n",
    "        if raw_goal_food == \"dontcare\":\n",
    "            goal_food = 1\n",
    "        else:    \n",
    "            goal_food = ontology_informable_food.index(raw_goal_food) + 2\n",
    "    return torch.tensor([goal_food], dtype = torch.long, device = device)\n",
    "\n",
    "def retrieve_output_GoalFood(output_tensor, ontology):\n",
    "    ontology_informable_food = ontology[\"informable\"][\"food\"]\n",
    "    output_tensor = output_tensor.view(-1)\n",
    "    output_tensor = torch.exp(output_tensor)\n",
    "    goal_food_dict = {}\n",
    "    \n",
    "    index = torch.argmax(output_tensor).item()\n",
    "    goal_food_dict[\"dontcare\"] = output_tensor[1].item() \n",
    "    for index in range(len(output_tensor) - 2):\n",
    "        goal_food_dict[ontology_informable_food[index]] = output_tensor[index + 2].item()\n",
    "    return goal_food_dict\n",
    "\n",
    "def retrieve_gold_GoalPriceRange(raw_Y, ontology, device):\n",
    "    ontology_informable_pricerange = ontology[\"informable\"][\"pricerange\"]\n",
    "    raw_goal_pricerange = raw_Y[\"goal\"][\"pricerange\"]\n",
    "    goal_pricerange = 0\n",
    "    if raw_goal_pricerange != None:\n",
    "        if raw_goal_pricerange == \"dontcare\":\n",
    "            goal_pricerange = 1\n",
    "        else:    \n",
    "            goal_pricerange = ontology_informable_pricerange.index(raw_goal_pricerange) + 2\n",
    "    return torch.tensor([goal_pricerange], dtype = torch.long, device = device)\n",
    "\n",
    "def retrieve_output_GoalPricerange(output_tensor, ontology):\n",
    "    ontology_informable_pricerange = ontology[\"informable\"][\"pricerange\"]\n",
    "    output_tensor = output_tensor.view(-1)\n",
    "    output_tensor = torch.exp(output_tensor)\n",
    "    goal_pricerange_dict = {}\n",
    "    \n",
    "    index = torch.argmax(output_tensor).item()\n",
    "    goal_pricerange_dict[\"dontcare\"] = output_tensor[1].item()\n",
    "    for index in range(len(output_tensor) - 2):     \n",
    "        goal_pricerange_dict[ontology_informable_pricerange[index]] = output_tensor[index + 2].item()\n",
    "    return goal_pricerange_dict\n",
    "\n",
    "def retrieve_gold_GoalName(raw_Y, ontology, device):\n",
    "    ontology_informable_name = ontology[\"informable\"][\"name\"]\n",
    "    raw_goal_name = raw_Y[\"goal\"][\"name\"]\n",
    "    goal_name = 0\n",
    "    if raw_goal_name != None:\n",
    "        if raw_goal_name == \"dontcare\":\n",
    "            goal_name = 1\n",
    "        else:    \n",
    "            goal_name = ontology_informable_name.index(raw_goal_name) + 2\n",
    "    return torch.tensor([goal_name], dtype = torch.long, device = device)\n",
    "\n",
    "def retrieve_output_GoalName(output_tensor, ontology):\n",
    "    ontology_informable_name = ontology[\"informable\"][\"name\"]\n",
    "    output_tensor = output_tensor.view(-1)\n",
    "    output_tensor = torch.exp(output_tensor)\n",
    "    goal_name_dict = {}\n",
    "    \n",
    "    index = torch.argmax(output_tensor).item()\n",
    "    goal_name_dict[\"dontcare\"] = output_tensor[1].item()\n",
    "    for index in range(len(output_tensor) - 2):\n",
    "        goal_name_dict[ontology_informable_name[index]] = output_tensor[index + 2].item()\n",
    "        \n",
    "    return goal_name_dict\n",
    "\n",
    "def retrieve_gold_GoalArea(raw_Y, ontology, device):\n",
    "    ontology_informable_area = ontology[\"informable\"][\"area\"]\n",
    "    raw_goal_area = raw_Y[\"goal\"][\"area\"]\n",
    "    goal_area = 0\n",
    "    if raw_goal_area != None:\n",
    "        if raw_goal_area == \"dontcare\":\n",
    "            goal_area = 1\n",
    "        else:    \n",
    "            goal_area = ontology_informable_area.index(raw_goal_area) + 2\n",
    "    return torch.tensor([goal_area], dtype = torch.long, device = device)\n",
    "\n",
    "def retrieve_output_GoalArea(output_tensor, ontology):\n",
    "    ontology_informable_area = ontology[\"informable\"][\"area\"]\n",
    "    output_tensor = output_tensor.view(-1)\n",
    "    output_tensor = torch.exp(output_tensor)\n",
    "    goal_area_dict = {}\n",
    "    \n",
    "    index = torch.argmax(output_tensor).item()\n",
    "    goal_area_dict[\"dontcare\"] = output_tensor[1].item()\n",
    "    for index in range(len(output_tensor) - 2):\n",
    "        goal_area_dict[ontology_informable_area[index]] = output_tensor[index + 2].item()\n",
    "        \n",
    "    return goal_area_dict\n",
    "\n",
    "def retrieve_gold_Method(raw_Y, ontology, device):\n",
    "    ontology_method = ontology[\"method\"]\n",
    "    raw_gold_method = raw_Y[\"method\"]\n",
    "    gold_method = ontology_method.index(raw_gold_method)\n",
    "    return torch.tensor([gold_method], dtype = torch.long, device = device)\n",
    "\n",
    "def retrieve_output_Method(output_tensor, ontology):\n",
    "    ontology_method = ontology[\"method\"]\n",
    "    output_tensor = output_tensor.view(-1)\n",
    "    output_tensor = torch.exp(output_tensor)\n",
    "    method_dict = {}\n",
    "    \n",
    "    for index in range(len(output_tensor)):\n",
    "        method_dict[ontology_method[index]] = output_tensor[index].item()\n",
    "    \n",
    "    return method_dict\n",
    "\n",
    "def retrieve_gold_Requested(raw_Y, ontology, device):\n",
    "    ontology_requestable = ontology[\"requestable\"]\n",
    "    raw_gold_requested = raw_Y[\"requested\"]\n",
    "    gold_requested = np.zeros(len(ontology_requestable), dtype = float)\n",
    "    if len(raw_gold_requested) != 0:\n",
    "        for requested in raw_gold_requested:\n",
    "            gold_requested[ontology_requestable.index(requested)] = 1.0\n",
    "    return torch.tensor([gold_requested], dtype = torch.float, device = device)\n",
    "\n",
    "def retrieve_output_Requested(output_tensor, ontology):\n",
    "    ontology_requestable = ontology[\"requestable\"]\n",
    "    output_tensor = output_tensor.view(-1)\n",
    "    requested_dict = {}\n",
    "    for index in range(len(output_tensor)):\n",
    "        probability_value = output_tensor[index].item()\n",
    "        if np.greater_equal(probability_value, 0.5):\n",
    "            requested_dict[ontology_requestable[index]] = probability_value\n",
    "    return requested_dict"
   ]
  },
  {
   "cell_type": "markdown",
   "metadata": {},
   "source": [
    "### All Model"
   ]
  },
  {
   "cell_type": "code",
   "execution_count": 9,
   "metadata": {},
   "outputs": [],
   "source": [
    "class AllModel(nn.Module):\n",
    "    \n",
    "    def __init__(self,\n",
    "                 vocabulary_size,\n",
    "                 embedding_dim,\n",
    "                 altered_embedding_dim,\n",
    "                 hidden_dim,\n",
    "                 goal_food_dim,\n",
    "                 goal_pricerange_dim,\n",
    "                 goal_name_dim,\n",
    "                 goal_area_dim,\n",
    "                 method_dim,\n",
    "                 requested_dim,\n",
    "                 device):\n",
    "        \n",
    "        super(AllModel, self).__init__()\n",
    "        \n",
    "        self.hidden_dim = hidden_dim\n",
    "        self.goal_food_dim = goal_food_dim\n",
    "        self.goal_pricerange_dim = goal_pricerange_dim\n",
    "        self.goal_name_dim = goal_name_dim\n",
    "        self.goal_area_dim = goal_area_dim\n",
    "        self.method_dim = method_dim\n",
    "        self.requested_dim = requested_dim\n",
    "        self.device = device\n",
    "        \n",
    "        self.embeddings = nn.Embedding(num_embeddings = vocabulary_size,\n",
    "                                       embedding_dim = embedding_dim)\n",
    "        \n",
    "        self.altered_embeddings = nn.Linear(in_features = (embedding_dim + 1),\n",
    "                                            out_features = altered_embedding_dim)\n",
    "        \n",
    "        self.lstm = nn.LSTM(input_size = altered_embedding_dim,\n",
    "                            hidden_size = hidden_dim)\n",
    "        \n",
    "        self.goal_food_classifier = nn.Linear(in_features = hidden_dim,\n",
    "                                              out_features = goal_food_dim)\n",
    "        \n",
    "        self.goal_pricerange_classifier = nn.Linear(in_features = hidden_dim,\n",
    "                                                    out_features = goal_pricerange_dim)\n",
    "        \n",
    "        self.goal_name_classifier = nn.Linear(in_features = hidden_dim,\n",
    "                                              out_features = goal_name_dim)\n",
    "        \n",
    "        self.goal_area_classifier = nn.Linear(in_features = hidden_dim,\n",
    "                                              out_features = goal_area_dim)\n",
    "        \n",
    "        self.method_classifier = nn.Linear(in_features = hidden_dim,\n",
    "                                           out_features = method_dim)\n",
    "        \n",
    "        self.requested_classifier = nn.Linear(in_features = hidden_dim,\n",
    "                                              out_features = requested_dim)\n",
    "        \n",
    "        self.hidden = self.init_hidden()\n",
    "    \n",
    "    def init_hidden(self):\n",
    "        \n",
    "        return (torch.zeros(1, 1, self.hidden_dim, device = self.device),\n",
    "                torch.zeros(1, 1, self.hidden_dim, device = self.device))\n",
    "        \n",
    "    def forward(self, indices, scores):\n",
    "    \n",
    "        embeddings = self.embeddings(indices)\n",
    "        \n",
    "        embeddings_concat_score = torch.cat((embeddings, scores.unsqueeze(dim = 1)), dim = 1) \n",
    "        \n",
    "        altered_embeddings = F.relu(self.altered_embeddings(embeddings_concat_score))\n",
    "        \n",
    "        lstm_out, self.hidden = self.lstm(altered_embeddings.view(len(indices), 1, -1), self.hidden)\n",
    "        \n",
    "        goal_food = F.log_softmax(self.goal_food_classifier(self.hidden[0]).view(-1, self.goal_food_dim), dim = 1)        \n",
    "        \n",
    "        goal_pricerange = F.log_softmax(self.goal_pricerange_classifier(self.hidden[0]).view(-1, self.goal_pricerange_dim), dim = 1) \n",
    "        \n",
    "        goal_name = F.log_softmax(self.goal_name_classifier(self.hidden[0]).view(-1, self.goal_name_dim), dim = 1)\n",
    "        \n",
    "        goal_area = F.log_softmax(self.goal_area_classifier(self.hidden[0]).view(-1, self.goal_area_dim), dim = 1)\n",
    "        \n",
    "        method = F.log_softmax(self.method_classifier(self.hidden[0]).view(-1, self.method_dim), dim = 1)\n",
    "        \n",
    "        requested = torch.sigmoid(self.requested_classifier(self.hidden[0]).view(-1, self.requested_dim))\n",
    "        \n",
    "        return goal_food, goal_pricerange, goal_name, goal_area, method, requested\n",
    "\n",
    "model_All = AllModel(vocabulary_size = VOCABULARY_SIZE,\n",
    "                     embedding_dim = EMBEDDING_DIM,\n",
    "                     altered_embedding_dim = ALTERED_EMBEDDING_DIM,\n",
    "                     hidden_dim = HIDDEN_DIM,\n",
    "                     goal_food_dim = GOAL_FOOD_DIM,\n",
    "                     goal_pricerange_dim = GOAL_PRICERANGE_DIM,\n",
    "                     goal_name_dim = GOAL_NAME_DIM,\n",
    "                     goal_area_dim = GOAL_AREA_DIM,\n",
    "                     method_dim = METHOD_DIM,\n",
    "                     requested_dim = REQUESTED_DIM,\n",
    "                     device = DEVICE)\n",
    "\n",
    "model_All = model_All.to(DEVICE)\n",
    "\n",
    "optimizer_AllModel = optim.Adam(model_All.parameters(), lr = 1e-4)"
   ]
  },
  {
   "cell_type": "markdown",
   "metadata": {},
   "source": [
    "### Train All Model"
   ]
  },
  {
   "cell_type": "code",
   "execution_count": 10,
   "metadata": {
    "scrolled": false
   },
   "outputs": [
    {
     "name": "stderr",
     "output_type": "stream",
     "text": [
      "INFO:root:Epoch\t1/30\n"
     ]
    },
    {
     "data": {
      "application/vnd.jupyter.widget-view+json": {
       "model_id": "10ec56f7d7ed4627ac3f28dbf664ef99",
       "version_major": 2,
       "version_minor": 0
      },
      "text/plain": [
       "HBox(children=(IntProgress(value=0, max=3224), HTML(value='')))"
      ]
     },
     "metadata": {},
     "output_type": "display_data"
    },
    {
     "name": "stdout",
     "output_type": "stream",
     "text": [
      "\n"
     ]
    },
    {
     "data": {
      "application/vnd.jupyter.widget-view+json": {
       "model_id": "03208e8c7e70422fbd0847a3242ab735",
       "version_major": 2,
       "version_minor": 0
      },
      "text/plain": [
       "HBox(children=(IntProgress(value=0, max=506), HTML(value='')))"
      ]
     },
     "metadata": {},
     "output_type": "display_data"
    },
    {
     "name": "stdout",
     "output_type": "stream",
     "text": [
      "\n"
     ]
    },
    {
     "name": "stderr",
     "output_type": "stream",
     "text": [
      "INFO:root:DEV Acc:\t\t0.3396767(0.34)\t\t0.8023801(0.8)\t\t0.8551474(0.86)\n",
      "INFO:root:DEV L2:\t\t0.8347543(0.83)\t\t0.2177491(0.22)\t\t0.4318618(0.43)\n"
     ]
    },
    {
     "data": {
      "application/vnd.jupyter.widget-view+json": {
       "model_id": "38fc95e4472e402d89f2c64b45c27af5",
       "version_major": 2,
       "version_minor": 0
      },
      "text/plain": [
       "HBox(children=(IntProgress(value=0, max=1117), HTML(value='')))"
      ]
     },
     "metadata": {},
     "output_type": "display_data"
    },
    {
     "name": "stdout",
     "output_type": "stream",
     "text": [
      "\n"
     ]
    },
    {
     "name": "stderr",
     "output_type": "stream",
     "text": [
      "INFO:root:TEST Acc:\t\t0.2977603(0.3)\t\t0.8119465(0.81)\t\t0.885468(0.89)\n",
      "INFO:root:TEST L2:\t\t0.8562687(0.86)\t\t0.1779756(0.18)\t\t0.416929(0.42)\n",
      "INFO:root:Epoch\t2/30\n"
     ]
    },
    {
     "data": {
      "application/vnd.jupyter.widget-view+json": {
       "model_id": "542c4115d08e476aa2c3e3b2a0212035",
       "version_major": 2,
       "version_minor": 0
      },
      "text/plain": [
       "HBox(children=(IntProgress(value=0, max=3224), HTML(value='')))"
      ]
     },
     "metadata": {},
     "output_type": "display_data"
    },
    {
     "name": "stdout",
     "output_type": "stream",
     "text": [
      "\n"
     ]
    },
    {
     "data": {
      "application/vnd.jupyter.widget-view+json": {
       "model_id": "e717dc31c7d149cd8b7e482e910665e7",
       "version_major": 2,
       "version_minor": 0
      },
      "text/plain": [
       "HBox(children=(IntProgress(value=0, max=506), HTML(value='')))"
      ]
     },
     "metadata": {},
     "output_type": "display_data"
    },
    {
     "name": "stdout",
     "output_type": "stream",
     "text": [
      "\n"
     ]
    },
    {
     "name": "stderr",
     "output_type": "stream",
     "text": [
      "INFO:root:DEV Acc:\t\t0.5315433(0.53)\t\t0.8373603(0.84)\t\t0.8890326(0.89)\n",
      "INFO:root:DEV L2:\t\t0.6374744(0.64)\t\t0.1784195(0.18)\t\t0.3358648(0.34)\n"
     ]
    },
    {
     "data": {
      "application/vnd.jupyter.widget-view+json": {
       "model_id": "0600ac907d004f318b17f92ed3222440",
       "version_major": 2,
       "version_minor": 0
      },
      "text/plain": [
       "HBox(children=(IntProgress(value=0, max=1117), HTML(value='')))"
      ]
     },
     "metadata": {},
     "output_type": "display_data"
    },
    {
     "name": "stdout",
     "output_type": "stream",
     "text": [
      "\n"
     ]
    },
    {
     "name": "stderr",
     "output_type": "stream",
     "text": [
      "INFO:root:TEST Acc:\t\t0.5547528(0.55)\t\t0.8517104(0.85)\t\t0.9166667(0.92)\n",
      "INFO:root:TEST L2:\t\t0.6056081(0.61)\t\t0.1341186(0.13)\t\t0.3080352(0.31)\n",
      "INFO:root:Epoch\t3/30\n"
     ]
    },
    {
     "data": {
      "application/vnd.jupyter.widget-view+json": {
       "model_id": "6476a953828141e6b11f475b6c661e82",
       "version_major": 2,
       "version_minor": 0
      },
      "text/plain": [
       "HBox(children=(IntProgress(value=0, max=3224), HTML(value='')))"
      ]
     },
     "metadata": {},
     "output_type": "display_data"
    },
    {
     "name": "stdout",
     "output_type": "stream",
     "text": [
      "\n"
     ]
    },
    {
     "data": {
      "application/vnd.jupyter.widget-view+json": {
       "model_id": "eab090aef0db494587efbc29ab898646",
       "version_major": 2,
       "version_minor": 0
      },
      "text/plain": [
       "HBox(children=(IntProgress(value=0, max=506), HTML(value='')))"
      ]
     },
     "metadata": {},
     "output_type": "display_data"
    },
    {
     "name": "stdout",
     "output_type": "stream",
     "text": [
      "\n"
     ]
    },
    {
     "name": "stderr",
     "output_type": "stream",
     "text": [
      "INFO:root:DEV Acc:\t\t0.5505735(0.55)\t\t0.8766679(0.88)\t\t0.8944646(0.89)\n",
      "INFO:root:DEV L2:\t\t0.606607(0.61)\t\t0.1715(0.17)\t\t0.2537247(0.25)\n"
     ]
    },
    {
     "data": {
      "application/vnd.jupyter.widget-view+json": {
       "model_id": "dac2f0e3161a4257aa6d9cc322658260",
       "version_major": 2,
       "version_minor": 0
      },
      "text/plain": [
       "HBox(children=(IntProgress(value=0, max=1117), HTML(value='')))"
      ]
     },
     "metadata": {},
     "output_type": "display_data"
    },
    {
     "name": "stdout",
     "output_type": "stream",
     "text": [
      "\n"
     ]
    },
    {
     "name": "stderr",
     "output_type": "stream",
     "text": [
      "INFO:root:TEST Acc:\t\t0.5868511(0.59)\t\t0.888175(0.89)\t\t0.9210796(0.92)\n",
      "INFO:root:TEST L2:\t\t0.5591204(0.56)\t\t0.1318327(0.13)\t\t0.2273545(0.23)\n",
      "INFO:root:Epoch\t4/30\n"
     ]
    },
    {
     "data": {
      "application/vnd.jupyter.widget-view+json": {
       "model_id": "04540bb83ae24f489fc89436ae287809",
       "version_major": 2,
       "version_minor": 0
      },
      "text/plain": [
       "HBox(children=(IntProgress(value=0, max=3224), HTML(value='')))"
      ]
     },
     "metadata": {},
     "output_type": "display_data"
    },
    {
     "name": "stdout",
     "output_type": "stream",
     "text": [
      "\n"
     ]
    },
    {
     "data": {
      "application/vnd.jupyter.widget-view+json": {
       "model_id": "d9cf9f96c60847cf9f7a1a0b3886af6e",
       "version_major": 2,
       "version_minor": 0
      },
      "text/plain": [
       "HBox(children=(IntProgress(value=0, max=506), HTML(value='')))"
      ]
     },
     "metadata": {},
     "output_type": "display_data"
    },
    {
     "name": "stdout",
     "output_type": "stream",
     "text": [
      "\n"
     ]
    },
    {
     "name": "stderr",
     "output_type": "stream",
     "text": [
      "INFO:root:DEV Acc:\t\t0.5787278(0.58)\t\t0.8907321(0.89)\t\t0.8926539(0.89)\n",
      "INFO:root:DEV L2:\t\t0.5695195(0.57)\t\t0.1757752(0.18)\t\t0.2195733(0.22)\n"
     ]
    },
    {
     "data": {
      "application/vnd.jupyter.widget-view+json": {
       "model_id": "5ba11a3d115b43de8f2258a2a788954d",
       "version_major": 2,
       "version_minor": 0
      },
      "text/plain": [
       "HBox(children=(IntProgress(value=0, max=1117), HTML(value='')))"
      ]
     },
     "metadata": {},
     "output_type": "display_data"
    },
    {
     "name": "stdout",
     "output_type": "stream",
     "text": [
      "\n"
     ]
    },
    {
     "name": "stderr",
     "output_type": "stream",
     "text": [
      "INFO:root:TEST Acc:\t\t0.6303024(0.63)\t\t0.9038027(0.9)\t\t0.915743(0.92)\n",
      "INFO:root:TEST L2:\t\t0.5033421(0.5)\t\t0.1359334(0.14)\t\t0.1889252(0.19)\n",
      "INFO:root:Epoch\t5/30\n"
     ]
    },
    {
     "data": {
      "application/vnd.jupyter.widget-view+json": {
       "model_id": "46a70ac029fa48da878f2f330d201ce2",
       "version_major": 2,
       "version_minor": 0
      },
      "text/plain": [
       "HBox(children=(IntProgress(value=0, max=3224), HTML(value='')))"
      ]
     },
     "metadata": {},
     "output_type": "display_data"
    },
    {
     "name": "stdout",
     "output_type": "stream",
     "text": [
      "\n"
     ]
    },
    {
     "data": {
      "application/vnd.jupyter.widget-view+json": {
       "model_id": "f10d49ff85784a13a1db652fdb47718e",
       "version_major": 2,
       "version_minor": 0
      },
      "text/plain": [
       "HBox(children=(IntProgress(value=0, max=506), HTML(value='')))"
      ]
     },
     "metadata": {},
     "output_type": "display_data"
    },
    {
     "name": "stdout",
     "output_type": "stream",
     "text": [
      "\n"
     ]
    },
    {
     "name": "stderr",
     "output_type": "stream",
     "text": [
      "INFO:root:DEV Acc:\t\t0.5857664(0.59)\t\t0.9084025(0.91)\t\t0.8934299(0.89)\n",
      "INFO:root:DEV L2:\t\t0.5649409(0.56)\t\t0.1735371(0.17)\t\t0.1791486(0.18)\n"
     ]
    },
    {
     "data": {
      "application/vnd.jupyter.widget-view+json": {
       "model_id": "35291bd6689f4bdeaa04c35e39691fd5",
       "version_major": 2,
       "version_minor": 0
      },
      "text/plain": [
       "HBox(children=(IntProgress(value=0, max=1117), HTML(value='')))"
      ]
     },
     "metadata": {},
     "output_type": "display_data"
    },
    {
     "name": "stdout",
     "output_type": "stream",
     "text": [
      "\n"
     ]
    },
    {
     "name": "stderr",
     "output_type": "stream",
     "text": [
      "INFO:root:TEST Acc:\t\t0.6482609(0.65)\t\t0.9215142(0.92)\t\t0.9195402(0.92)\n",
      "INFO:root:TEST L2:\t\t0.4933038(0.49)\t\t0.1274313(0.13)\t\t0.1504398(0.15)\n",
      "INFO:root:Epoch\t6/30\n"
     ]
    },
    {
     "data": {
      "application/vnd.jupyter.widget-view+json": {
       "model_id": "66c86e3a0b4f4aaaaf996bcff75518b9",
       "version_major": 2,
       "version_minor": 0
      },
      "text/plain": [
       "HBox(children=(IntProgress(value=0, max=3224), HTML(value='')))"
      ]
     },
     "metadata": {},
     "output_type": "display_data"
    },
    {
     "name": "stdout",
     "output_type": "stream",
     "text": [
      "\n"
     ]
    },
    {
     "data": {
      "application/vnd.jupyter.widget-view+json": {
       "model_id": "480c741acc2a43209a80c7c18f7d0c1a",
       "version_major": 2,
       "version_minor": 0
      },
      "text/plain": [
       "HBox(children=(IntProgress(value=0, max=506), HTML(value='')))"
      ]
     },
     "metadata": {},
     "output_type": "display_data"
    },
    {
     "name": "stdout",
     "output_type": "stream",
     "text": [
      "\n"
     ]
    },
    {
     "name": "stderr",
     "output_type": "stream",
     "text": [
      "INFO:root:DEV Acc:\t\t0.6040146(0.6)\t\t0.911648(0.91)\t\t0.8900673(0.89)\n",
      "INFO:root:DEV L2:\t\t0.5628145(0.56)\t\t0.1812367(0.18)\t\t0.1748967(0.17)\n"
     ]
    },
    {
     "data": {
      "application/vnd.jupyter.widget-view+json": {
       "model_id": "9694927d5fc545e7a5764efab62399ff",
       "version_major": 2,
       "version_minor": 0
      },
      "text/plain": [
       "HBox(children=(IntProgress(value=0, max=1117), HTML(value='')))"
      ]
     },
     "metadata": {},
     "output_type": "display_data"
    },
    {
     "name": "stdout",
     "output_type": "stream",
     "text": [
      "\n"
     ]
    },
    {
     "name": "stderr",
     "output_type": "stream",
     "text": [
      "INFO:root:TEST Acc:\t\t0.6465063(0.65)\t\t0.9328008(0.93)\t\t0.9223112(0.92)\n",
      "INFO:root:TEST L2:\t\t0.4971124(0.5)\t\t0.1264712(0.13)\t\t0.1352073(0.14)\n",
      "INFO:root:Epoch\t7/30\n"
     ]
    },
    {
     "data": {
      "application/vnd.jupyter.widget-view+json": {
       "model_id": "e6db500c94c84aafa4f9a5bd2d1f8399",
       "version_major": 2,
       "version_minor": 0
      },
      "text/plain": [
       "HBox(children=(IntProgress(value=0, max=3224), HTML(value='')))"
      ]
     },
     "metadata": {},
     "output_type": "display_data"
    },
    {
     "name": "stdout",
     "output_type": "stream",
     "text": [
      "\n"
     ]
    },
    {
     "data": {
      "application/vnd.jupyter.widget-view+json": {
       "model_id": "55029e6ff12d4323afbee3290c7c0ab4",
       "version_major": 2,
       "version_minor": 0
      },
      "text/plain": [
       "HBox(children=(IntProgress(value=0, max=506), HTML(value='')))"
      ]
     },
     "metadata": {},
     "output_type": "display_data"
    },
    {
     "name": "stdout",
     "output_type": "stream",
     "text": [
      "\n"
     ]
    },
    {
     "name": "stderr",
     "output_type": "stream",
     "text": [
      "INFO:root:DEV Acc:\t\t0.6021898(0.6)\t\t0.9213848(0.92)\t\t0.8965339(0.9)\n",
      "INFO:root:DEV L2:\t\t0.5661742(0.57)\t\t0.1699675(0.17)\t\t0.1549079(0.15)\n"
     ]
    },
    {
     "data": {
      "application/vnd.jupyter.widget-view+json": {
       "model_id": "1a1886dfd82e4c1b95ecd60f7f873c4e",
       "version_major": 2,
       "version_minor": 0
      },
      "text/plain": [
       "HBox(children=(IntProgress(value=0, max=1117), HTML(value='')))"
      ]
     },
     "metadata": {},
     "output_type": "display_data"
    },
    {
     "name": "stdout",
     "output_type": "stream",
     "text": [
      "\n"
     ]
    },
    {
     "name": "stderr",
     "output_type": "stream",
     "text": [
      "INFO:root:TEST Acc:\t\t0.6388688(0.64)\t\t0.9319326(0.93)\t\t0.9247742(0.92)\n",
      "INFO:root:TEST L2:\t\t0.5164327(0.52)\t\t0.1221252(0.12)\t\t0.1313986(0.13)\n",
      "INFO:root:Epoch\t8/30\n"
     ]
    },
    {
     "data": {
      "application/vnd.jupyter.widget-view+json": {
       "model_id": "4034ce08151041bba0b269a83b6222e4",
       "version_major": 2,
       "version_minor": 0
      },
      "text/plain": [
       "HBox(children=(IntProgress(value=0, max=3224), HTML(value='')))"
      ]
     },
     "metadata": {},
     "output_type": "display_data"
    },
    {
     "name": "stdout",
     "output_type": "stream",
     "text": [
      "\n"
     ]
    },
    {
     "data": {
      "application/vnd.jupyter.widget-view+json": {
       "model_id": "4e48b94f75f945619d62d2d24892a6fd",
       "version_major": 2,
       "version_minor": 0
      },
      "text/plain": [
       "HBox(children=(IntProgress(value=0, max=506), HTML(value='')))"
      ]
     },
     "metadata": {},
     "output_type": "display_data"
    },
    {
     "name": "stdout",
     "output_type": "stream",
     "text": [
      "\n"
     ]
    },
    {
     "name": "stderr",
     "output_type": "stream",
     "text": [
      "INFO:root:DEV Acc:\t\t0.6008863(0.6)\t\t0.9242697(0.92)\t\t0.9014485(0.9)\n",
      "INFO:root:DEV L2:\t\t0.5685498(0.57)\t\t0.1683067(0.17)\t\t0.1475406(0.15)\n"
     ]
    },
    {
     "data": {
      "application/vnd.jupyter.widget-view+json": {
       "model_id": "38a274baaecb4c7e97f12b7432c9d003",
       "version_major": 2,
       "version_minor": 0
      },
      "text/plain": [
       "HBox(children=(IntProgress(value=0, max=1117), HTML(value='')))"
      ]
     },
     "metadata": {},
     "output_type": "display_data"
    },
    {
     "name": "stdout",
     "output_type": "stream",
     "text": [
      "\n"
     ]
    },
    {
     "name": "stderr",
     "output_type": "stream",
     "text": [
      "INFO:root:TEST Acc:\t\t0.6522861(0.65)\t\t0.940962(0.94)\t\t0.9291872(0.93)\n",
      "INFO:root:TEST L2:\t\t0.5012579(0.5)\t\t0.1170904(0.12)\t\t0.1148073(0.11)\n",
      "INFO:root:Epoch\t9/30\n"
     ]
    },
    {
     "data": {
      "application/vnd.jupyter.widget-view+json": {
       "model_id": "bae235b001be45f4bf3e375290e48cf2",
       "version_major": 2,
       "version_minor": 0
      },
      "text/plain": [
       "HBox(children=(IntProgress(value=0, max=3224), HTML(value='')))"
      ]
     },
     "metadata": {},
     "output_type": "display_data"
    },
    {
     "name": "stdout",
     "output_type": "stream",
     "text": [
      "\n"
     ]
    },
    {
     "data": {
      "application/vnd.jupyter.widget-view+json": {
       "model_id": "141eaff02ae841e99e37e36adf163d16",
       "version_major": 2,
       "version_minor": 0
      },
      "text/plain": [
       "HBox(children=(IntProgress(value=0, max=506), HTML(value='')))"
      ]
     },
     "metadata": {},
     "output_type": "display_data"
    },
    {
     "name": "stdout",
     "output_type": "stream",
     "text": [
      "\n"
     ]
    },
    {
     "name": "stderr",
     "output_type": "stream",
     "text": [
      "INFO:root:DEV Acc:\t\t0.605318(0.61)\t\t0.9228273(0.92)\t\t0.8923952(0.89)\n",
      "INFO:root:DEV L2:\t\t0.5593747(0.56)\t\t0.1752892(0.18)\t\t0.1481146(0.15)\n"
     ]
    },
    {
     "data": {
      "application/vnd.jupyter.widget-view+json": {
       "model_id": "c6446d9fe71344e9bc73d19823bd0514",
       "version_major": 2,
       "version_minor": 0
      },
      "text/plain": [
       "HBox(children=(IntProgress(value=0, max=1117), HTML(value='')))"
      ]
     },
     "metadata": {},
     "output_type": "display_data"
    },
    {
     "name": "stdout",
     "output_type": "stream",
     "text": [
      "\n"
     ]
    },
    {
     "name": "stderr",
     "output_type": "stream",
     "text": [
      "INFO:root:TEST Acc:\t\t0.6584787(0.66)\t\t0.9402674(0.94)\t\t0.9194376(0.92)\n",
      "INFO:root:TEST L2:\t\t0.4918125(0.49)\t\t0.1289052(0.13)\t\t0.1144071(0.11)\n",
      "INFO:root:Epoch\t10/30\n"
     ]
    },
    {
     "data": {
      "application/vnd.jupyter.widget-view+json": {
       "model_id": "a0e26a229cee450a82cff24f1ae1a041",
       "version_major": 2,
       "version_minor": 0
      },
      "text/plain": [
       "HBox(children=(IntProgress(value=0, max=3224), HTML(value='')))"
      ]
     },
     "metadata": {},
     "output_type": "display_data"
    },
    {
     "name": "stdout",
     "output_type": "stream",
     "text": [
      "\n"
     ]
    },
    {
     "data": {
      "application/vnd.jupyter.widget-view+json": {
       "model_id": "7bd8d3854aa74f13b75bf5b93d5c4a31",
       "version_major": 2,
       "version_minor": 0
      },
      "text/plain": [
       "HBox(children=(IntProgress(value=0, max=506), HTML(value='')))"
      ]
     },
     "metadata": {},
     "output_type": "display_data"
    },
    {
     "name": "stdout",
     "output_type": "stream",
     "text": [
      "\n"
     ]
    },
    {
     "name": "stderr",
     "output_type": "stream",
     "text": [
      "INFO:root:DEV Acc:\t\t0.6008863(0.6)\t\t0.9329246(0.93)\t\t0.8942059(0.89)\n",
      "INFO:root:DEV L2:\t\t0.5673182(0.57)\t\t0.1756136(0.18)\t\t0.1254916(0.13)\n"
     ]
    },
    {
     "data": {
      "application/vnd.jupyter.widget-view+json": {
       "model_id": "9dcaaa97e7f7475fa090dcf4e80e73c9",
       "version_major": 2,
       "version_minor": 0
      },
      "text/plain": [
       "HBox(children=(IntProgress(value=0, max=1117), HTML(value='')))"
      ]
     },
     "metadata": {},
     "output_type": "display_data"
    },
    {
     "name": "stdout",
     "output_type": "stream",
     "text": [
      "\n"
     ]
    },
    {
     "name": "stderr",
     "output_type": "stream",
     "text": [
      "INFO:root:TEST Acc:\t\t0.6645681(0.66)\t\t0.9527696(0.95)\t\t0.9229269(0.92)\n",
      "INFO:root:TEST L2:\t\t0.4855225(0.49)\t\t0.1263492(0.13)\t\t0.0901924(0.09)\n",
      "INFO:root:Epoch\t11/30\n"
     ]
    },
    {
     "data": {
      "application/vnd.jupyter.widget-view+json": {
       "model_id": "299f719bfa21437cb1cce3c6f5c5453a",
       "version_major": 2,
       "version_minor": 0
      },
      "text/plain": [
       "HBox(children=(IntProgress(value=0, max=3224), HTML(value='')))"
      ]
     },
     "metadata": {},
     "output_type": "display_data"
    },
    {
     "name": "stdout",
     "output_type": "stream",
     "text": [
      "\n"
     ]
    },
    {
     "data": {
      "application/vnd.jupyter.widget-view+json": {
       "model_id": "bdeceda01f6d46dfb0cf5fd90cd1c434",
       "version_major": 2,
       "version_minor": 0
      },
      "text/plain": [
       "HBox(children=(IntProgress(value=0, max=506), HTML(value='')))"
      ]
     },
     "metadata": {},
     "output_type": "display_data"
    },
    {
     "name": "stdout",
     "output_type": "stream",
     "text": [
      "\n"
     ]
    },
    {
     "name": "stderr",
     "output_type": "stream",
     "text": [
      "INFO:root:DEV Acc:\t\t0.6105318(0.61)\t\t0.9376127(0.94)\t\t0.8952406(0.9)\n",
      "INFO:root:DEV L2:\t\t0.5589147(0.56)\t\t0.1771077(0.18)\t\t0.1231344(0.12)\n"
     ]
    },
    {
     "data": {
      "application/vnd.jupyter.widget-view+json": {
       "model_id": "cab063c83bf448978e026e426cea3af1",
       "version_major": 2,
       "version_minor": 0
      },
      "text/plain": [
       "HBox(children=(IntProgress(value=0, max=1117), HTML(value='')))"
      ]
     },
     "metadata": {},
     "output_type": "display_data"
    },
    {
     "name": "stdout",
     "output_type": "stream",
     "text": [
      "\n"
     ]
    },
    {
     "name": "stderr",
     "output_type": "stream",
     "text": [
      "INFO:root:TEST Acc:\t\t0.6555888(0.66)\t\t0.9498177(0.95)\t\t0.9178982(0.92)\n",
      "INFO:root:TEST L2:\t\t0.4970272(0.5)\t\t0.1337462(0.13)\t\t0.0957413(0.1)\n",
      "INFO:root:Epoch\t12/30\n"
     ]
    },
    {
     "data": {
      "application/vnd.jupyter.widget-view+json": {
       "model_id": "2c5f56dd929347a3ae174c3bcd39af9f",
       "version_major": 2,
       "version_minor": 0
      },
      "text/plain": [
       "HBox(children=(IntProgress(value=0, max=3224), HTML(value='')))"
      ]
     },
     "metadata": {},
     "output_type": "display_data"
    },
    {
     "name": "stdout",
     "output_type": "stream",
     "text": [
      "\n"
     ]
    },
    {
     "data": {
      "application/vnd.jupyter.widget-view+json": {
       "model_id": "07940a0c69024db2adb2d9683d856241",
       "version_major": 2,
       "version_minor": 0
      },
      "text/plain": [
       "HBox(children=(IntProgress(value=0, max=506), HTML(value='')))"
      ]
     },
     "metadata": {},
     "output_type": "display_data"
    },
    {
     "name": "stdout",
     "output_type": "stream",
     "text": [
      "\n"
     ]
    },
    {
     "name": "stderr",
     "output_type": "stream",
     "text": [
      "INFO:root:DEV Acc:\t\t0.5912409(0.59)\t\t0.9358096(0.94)\t\t0.8993792(0.9)\n",
      "INFO:root:DEV L2:\t\t0.5921941(0.59)\t\t0.1725563(0.17)\t\t0.1247897(0.12)\n"
     ]
    },
    {
     "data": {
      "application/vnd.jupyter.widget-view+json": {
       "model_id": "4ff84f7a688d499fbc8b7e8b85ad48ca",
       "version_major": 2,
       "version_minor": 0
      },
      "text/plain": [
       "HBox(children=(IntProgress(value=0, max=1117), HTML(value='')))"
      ]
     },
     "metadata": {},
     "output_type": "display_data"
    },
    {
     "name": "stdout",
     "output_type": "stream",
     "text": [
      "\n"
     ]
    },
    {
     "name": "stderr",
     "output_type": "stream",
     "text": [
      "INFO:root:TEST Acc:\t\t0.6505315(0.65)\t\t0.9499913(0.95)\t\t0.9178982(0.92)\n",
      "INFO:root:TEST L2:\t\t0.5054248(0.51)\t\t0.133811(0.13)\t\t0.0960591(0.1)\n",
      "INFO:root:Epoch\t13/30\n"
     ]
    },
    {
     "data": {
      "application/vnd.jupyter.widget-view+json": {
       "model_id": "d9c898244e774f0aa5a8911dc1a3231f",
       "version_major": 2,
       "version_minor": 0
      },
      "text/plain": [
       "HBox(children=(IntProgress(value=0, max=3224), HTML(value='')))"
      ]
     },
     "metadata": {},
     "output_type": "display_data"
    },
    {
     "name": "stdout",
     "output_type": "stream",
     "text": [
      "\n"
     ]
    },
    {
     "data": {
      "application/vnd.jupyter.widget-view+json": {
       "model_id": "fb90e072bc0a40ae887192a543524afd",
       "version_major": 2,
       "version_minor": 0
      },
      "text/plain": [
       "HBox(children=(IntProgress(value=0, max=506), HTML(value='')))"
      ]
     },
     "metadata": {},
     "output_type": "display_data"
    },
    {
     "name": "stdout",
     "output_type": "stream",
     "text": [
      "\n"
     ]
    },
    {
     "name": "stderr",
     "output_type": "stream",
     "text": [
      "INFO:root:DEV Acc:\t\t0.6154849(0.62)\t\t0.9311215(0.93)\t\t0.8942059(0.89)\n",
      "INFO:root:DEV L2:\t\t0.5533455(0.55)\t\t0.1804184(0.18)\t\t0.1319081(0.13)\n"
     ]
    },
    {
     "data": {
      "application/vnd.jupyter.widget-view+json": {
       "model_id": "e03c1ec83c5f422dbf7d213db7ec6589",
       "version_major": 2,
       "version_minor": 0
      },
      "text/plain": [
       "HBox(children=(IntProgress(value=0, max=1117), HTML(value='')))"
      ]
     },
     "metadata": {},
     "output_type": "display_data"
    },
    {
     "name": "stdout",
     "output_type": "stream",
     "text": [
      "\n"
     ]
    },
    {
     "name": "stderr",
     "output_type": "stream",
     "text": [
      "INFO:root:TEST Acc:\t\t0.6515636(0.65)\t\t0.9456503(0.95)\t\t0.9252874(0.93)\n",
      "INFO:root:TEST L2:\t\t0.5078121(0.51)\t\t0.1219462(0.12)\t\t0.1039425(0.1)\n",
      "INFO:root:Epoch\t14/30\n"
     ]
    },
    {
     "data": {
      "application/vnd.jupyter.widget-view+json": {
       "model_id": "052302da00ec4bc69cd84eeef469c70f",
       "version_major": 2,
       "version_minor": 0
      },
      "text/plain": [
       "HBox(children=(IntProgress(value=0, max=3224), HTML(value='')))"
      ]
     },
     "metadata": {},
     "output_type": "display_data"
    },
    {
     "name": "stdout",
     "output_type": "stream",
     "text": [
      "\n"
     ]
    },
    {
     "data": {
      "application/vnd.jupyter.widget-view+json": {
       "model_id": "ebb2a9e10b1b42c38438b55a909242e4",
       "version_major": 2,
       "version_minor": 0
      },
      "text/plain": [
       "HBox(children=(IntProgress(value=0, max=506), HTML(value='')))"
      ]
     },
     "metadata": {},
     "output_type": "display_data"
    },
    {
     "name": "stdout",
     "output_type": "stream",
     "text": [
      "\n"
     ]
    },
    {
     "name": "stderr",
     "output_type": "stream",
     "text": [
      "INFO:root:DEV Acc:\t\t0.6113139(0.61)\t\t0.9293184(0.93)\t\t0.8898086(0.89)\n",
      "INFO:root:DEV L2:\t\t0.5705262(0.57)\t\t0.1792818(0.18)\t\t0.1362973(0.14)\n"
     ]
    },
    {
     "data": {
      "application/vnd.jupyter.widget-view+json": {
       "model_id": "6f578091e08840a5ba680690c827beda",
       "version_major": 2,
       "version_minor": 0
      },
      "text/plain": [
       "HBox(children=(IntProgress(value=0, max=1117), HTML(value='')))"
      ]
     },
     "metadata": {},
     "output_type": "display_data"
    },
    {
     "name": "stdout",
     "output_type": "stream",
     "text": [
      "\n"
     ]
    },
    {
     "name": "stderr",
     "output_type": "stream",
     "text": [
      "INFO:root:TEST Acc:\t\t0.6493962(0.65)\t\t0.9484285(0.95)\t\t0.9215928(0.92)\n",
      "INFO:root:TEST L2:\t\t0.517523(0.52)\t\t0.1269662(0.13)\t\t0.0979736(0.1)\n"
     ]
    },
    {
     "data": {
      "application/vnd.plotly.v1+json": {
       "config": {
        "linkText": "Export to plot.ly",
        "plotlyServerURL": "https://plot.ly",
        "showLink": false
       },
       "data": [
        {
         "marker": {
          "color": "#3498db"
         },
         "mode": "lines+markers",
         "name": "Dev Goal Accuracy",
         "type": "scatter",
         "uid": "5cf54b18-612c-4323-aa3e-60a5c06cd546",
         "x": [
          0,
          1,
          2,
          3,
          4,
          5,
          6,
          7,
          8,
          9,
          10,
          11,
          12,
          13
         ],
         "y": [
          0.3396767,
          0.5315433,
          0.5505735,
          0.5787278,
          0.5857664,
          0.6040146,
          0.6021898,
          0.6008863,
          0.605318,
          0.6008863,
          0.6105318,
          0.5912409,
          0.6154849,
          0.6113139
         ]
        },
        {
         "marker": {
          "color": "#9b59b6"
         },
         "mode": "lines+markers",
         "name": "Test Goal Accuracy",
         "type": "scatter",
         "uid": "3536a4fa-bc8c-4d0d-8515-28d0e890d4d3",
         "x": [
          0,
          1,
          2,
          3,
          4,
          5,
          6,
          7,
          8,
          9,
          10,
          11,
          12,
          13
         ],
         "y": [
          0.2977603,
          0.5547528,
          0.5868511,
          0.6303024,
          0.6482609,
          0.6465063,
          0.6388688,
          0.6522861,
          0.6584787,
          0.6645681,
          0.6555888,
          0.6505315,
          0.6515636,
          0.6493962
         ]
        }
       ],
       "layout": {
        "margin": {
         "b": 150
        },
        "title": {
         "text": "<b>Dev-Test Goal Accuracy</b>"
        },
        "xaxis": {
         "dtick": 1,
         "title": {
          "font": {
           "color": "#34495e"
          },
          "text": "<b>Epoch</b>"
         }
        },
        "yaxis": {
         "title": {
          "font": {
           "color": "#34495e"
          },
          "text": "<b>Accuracy</b>"
         }
        }
       }
      },
      "text/html": [
       "<div id=\"5b84028c-e883-4455-8401-01f799c01f4c\" style=\"height: 525px; width: 100%;\" class=\"plotly-graph-div\"></div><script type=\"text/javascript\">require([\"plotly\"], function(Plotly) { window.PLOTLYENV=window.PLOTLYENV || {};window.PLOTLYENV.BASE_URL=\"https://plot.ly\";Plotly.newPlot(\"5b84028c-e883-4455-8401-01f799c01f4c\", [{\"marker\": {\"color\": \"#3498db\"}, \"mode\": \"lines+markers\", \"name\": \"Dev Goal Accuracy\", \"x\": [0, 1, 2, 3, 4, 5, 6, 7, 8, 9, 10, 11, 12, 13], \"y\": [0.3396767, 0.5315433, 0.5505735, 0.5787278, 0.5857664, 0.6040146, 0.6021898, 0.6008863, 0.605318, 0.6008863, 0.6105318, 0.5912409, 0.6154849, 0.6113139], \"type\": \"scatter\", \"uid\": \"a7d5fc1c-354a-4384-a240-cad3a1f62a15\"}, {\"marker\": {\"color\": \"#9b59b6\"}, \"mode\": \"lines+markers\", \"name\": \"Test Goal Accuracy\", \"x\": [0, 1, 2, 3, 4, 5, 6, 7, 8, 9, 10, 11, 12, 13], \"y\": [0.2977603, 0.5547528, 0.5868511, 0.6303024, 0.6482609, 0.6465063, 0.6388688, 0.6522861, 0.6584787, 0.6645681, 0.6555888, 0.6505315, 0.6515636, 0.6493962], \"type\": \"scatter\", \"uid\": \"b8f26ea7-faf8-4c09-ae4f-43cf6e31a56a\"}], {\"margin\": {\"b\": 150}, \"title\": {\"text\": \"<b>Dev-Test Goal Accuracy</b>\"}, \"xaxis\": {\"dtick\": 1, \"title\": {\"font\": {\"color\": \"#34495e\"}, \"text\": \"<b>Epoch</b>\"}}, \"yaxis\": {\"title\": {\"font\": {\"color\": \"#34495e\"}, \"text\": \"<b>Accuracy</b>\"}}}, {\"showLink\": false, \"linkText\": \"Export to plot.ly\", \"plotlyServerURL\": \"https://plot.ly\"})});</script><script type=\"text/javascript\">window.addEventListener(\"resize\", function(){window._Plotly.Plots.resize(document.getElementById(\"5b84028c-e883-4455-8401-01f799c01f4c\"));});</script>"
      ],
      "text/vnd.plotly.v1+html": [
       "<div id=\"5b84028c-e883-4455-8401-01f799c01f4c\" style=\"height: 525px; width: 100%;\" class=\"plotly-graph-div\"></div><script type=\"text/javascript\">require([\"plotly\"], function(Plotly) { window.PLOTLYENV=window.PLOTLYENV || {};window.PLOTLYENV.BASE_URL=\"https://plot.ly\";Plotly.newPlot(\"5b84028c-e883-4455-8401-01f799c01f4c\", [{\"marker\": {\"color\": \"#3498db\"}, \"mode\": \"lines+markers\", \"name\": \"Dev Goal Accuracy\", \"x\": [0, 1, 2, 3, 4, 5, 6, 7, 8, 9, 10, 11, 12, 13], \"y\": [0.3396767, 0.5315433, 0.5505735, 0.5787278, 0.5857664, 0.6040146, 0.6021898, 0.6008863, 0.605318, 0.6008863, 0.6105318, 0.5912409, 0.6154849, 0.6113139], \"type\": \"scatter\", \"uid\": \"a7d5fc1c-354a-4384-a240-cad3a1f62a15\"}, {\"marker\": {\"color\": \"#9b59b6\"}, \"mode\": \"lines+markers\", \"name\": \"Test Goal Accuracy\", \"x\": [0, 1, 2, 3, 4, 5, 6, 7, 8, 9, 10, 11, 12, 13], \"y\": [0.2977603, 0.5547528, 0.5868511, 0.6303024, 0.6482609, 0.6465063, 0.6388688, 0.6522861, 0.6584787, 0.6645681, 0.6555888, 0.6505315, 0.6515636, 0.6493962], \"type\": \"scatter\", \"uid\": \"b8f26ea7-faf8-4c09-ae4f-43cf6e31a56a\"}], {\"margin\": {\"b\": 150}, \"title\": {\"text\": \"<b>Dev-Test Goal Accuracy</b>\"}, \"xaxis\": {\"dtick\": 1, \"title\": {\"font\": {\"color\": \"#34495e\"}, \"text\": \"<b>Epoch</b>\"}}, \"yaxis\": {\"title\": {\"font\": {\"color\": \"#34495e\"}, \"text\": \"<b>Accuracy</b>\"}}}, {\"showLink\": false, \"linkText\": \"Export to plot.ly\", \"plotlyServerURL\": \"https://plot.ly\"})});</script><script type=\"text/javascript\">window.addEventListener(\"resize\", function(){window._Plotly.Plots.resize(document.getElementById(\"5b84028c-e883-4455-8401-01f799c01f4c\"));});</script>"
      ]
     },
     "metadata": {},
     "output_type": "display_data"
    },
    {
     "data": {
      "application/vnd.plotly.v1+json": {
       "config": {
        "linkText": "Export to plot.ly",
        "plotlyServerURL": "https://plot.ly",
        "showLink": false
       },
       "data": [
        {
         "marker": {
          "color": "#3498db"
         },
         "mode": "lines+markers",
         "name": "Dev Requested Accuracy",
         "type": "scatter",
         "uid": "6302eba8-60d6-4990-aa90-19c17cadf0cc",
         "x": [
          0,
          1,
          2,
          3,
          4,
          5,
          6,
          7,
          8,
          9,
          10,
          11,
          12,
          13
         ],
         "y": [
          0.8023801,
          0.8373603,
          0.8766679,
          0.8907321,
          0.9084025,
          0.911648,
          0.9213848,
          0.9242697,
          0.9228273,
          0.9329246,
          0.9376127,
          0.9358096,
          0.9311215,
          0.9293184
         ]
        },
        {
         "marker": {
          "color": "#9b59b6"
         },
         "mode": "lines+markers",
         "name": "Test Requested Accuracy",
         "type": "scatter",
         "uid": "ff170f65-cc46-437c-a2db-726874971671",
         "x": [
          0,
          1,
          2,
          3,
          4,
          5,
          6,
          7,
          8,
          9,
          10,
          11,
          12,
          13
         ],
         "y": [
          0.8119465,
          0.8517104,
          0.888175,
          0.9038027,
          0.9215142,
          0.9328008,
          0.9319326,
          0.940962,
          0.9402674,
          0.9527696,
          0.9498177,
          0.9499913,
          0.9456503,
          0.9484285
         ]
        }
       ],
       "layout": {
        "margin": {
         "b": 150
        },
        "title": {
         "text": "<b>Dev-Test Requested Accuracy</b>"
        },
        "xaxis": {
         "dtick": 1,
         "title": {
          "font": {
           "color": "#34495e"
          },
          "text": "<b>Epoch</b>"
         }
        },
        "yaxis": {
         "title": {
          "font": {
           "color": "#34495e"
          },
          "text": "<b>Accuracy</b>"
         }
        }
       }
      },
      "text/html": [
       "<div id=\"8144a156-5037-4181-ba88-0af831b18331\" style=\"height: 525px; width: 100%;\" class=\"plotly-graph-div\"></div><script type=\"text/javascript\">require([\"plotly\"], function(Plotly) { window.PLOTLYENV=window.PLOTLYENV || {};window.PLOTLYENV.BASE_URL=\"https://plot.ly\";Plotly.newPlot(\"8144a156-5037-4181-ba88-0af831b18331\", [{\"marker\": {\"color\": \"#3498db\"}, \"mode\": \"lines+markers\", \"name\": \"Dev Requested Accuracy\", \"x\": [0, 1, 2, 3, 4, 5, 6, 7, 8, 9, 10, 11, 12, 13], \"y\": [0.8023801, 0.8373603, 0.8766679, 0.8907321, 0.9084025, 0.911648, 0.9213848, 0.9242697, 0.9228273, 0.9329246, 0.9376127, 0.9358096, 0.9311215, 0.9293184], \"type\": \"scatter\", \"uid\": \"5b339320-b269-477a-9cb6-53e0c4327769\"}, {\"marker\": {\"color\": \"#9b59b6\"}, \"mode\": \"lines+markers\", \"name\": \"Test Requested Accuracy\", \"x\": [0, 1, 2, 3, 4, 5, 6, 7, 8, 9, 10, 11, 12, 13], \"y\": [0.8119465, 0.8517104, 0.888175, 0.9038027, 0.9215142, 0.9328008, 0.9319326, 0.940962, 0.9402674, 0.9527696, 0.9498177, 0.9499913, 0.9456503, 0.9484285], \"type\": \"scatter\", \"uid\": \"241025d6-e27f-44d4-a2bc-970d5022ca7a\"}], {\"margin\": {\"b\": 150}, \"title\": {\"text\": \"<b>Dev-Test Requested Accuracy</b>\"}, \"xaxis\": {\"dtick\": 1, \"title\": {\"font\": {\"color\": \"#34495e\"}, \"text\": \"<b>Epoch</b>\"}}, \"yaxis\": {\"title\": {\"font\": {\"color\": \"#34495e\"}, \"text\": \"<b>Accuracy</b>\"}}}, {\"showLink\": false, \"linkText\": \"Export to plot.ly\", \"plotlyServerURL\": \"https://plot.ly\"})});</script><script type=\"text/javascript\">window.addEventListener(\"resize\", function(){window._Plotly.Plots.resize(document.getElementById(\"8144a156-5037-4181-ba88-0af831b18331\"));});</script>"
      ],
      "text/vnd.plotly.v1+html": [
       "<div id=\"8144a156-5037-4181-ba88-0af831b18331\" style=\"height: 525px; width: 100%;\" class=\"plotly-graph-div\"></div><script type=\"text/javascript\">require([\"plotly\"], function(Plotly) { window.PLOTLYENV=window.PLOTLYENV || {};window.PLOTLYENV.BASE_URL=\"https://plot.ly\";Plotly.newPlot(\"8144a156-5037-4181-ba88-0af831b18331\", [{\"marker\": {\"color\": \"#3498db\"}, \"mode\": \"lines+markers\", \"name\": \"Dev Requested Accuracy\", \"x\": [0, 1, 2, 3, 4, 5, 6, 7, 8, 9, 10, 11, 12, 13], \"y\": [0.8023801, 0.8373603, 0.8766679, 0.8907321, 0.9084025, 0.911648, 0.9213848, 0.9242697, 0.9228273, 0.9329246, 0.9376127, 0.9358096, 0.9311215, 0.9293184], \"type\": \"scatter\", \"uid\": \"5b339320-b269-477a-9cb6-53e0c4327769\"}, {\"marker\": {\"color\": \"#9b59b6\"}, \"mode\": \"lines+markers\", \"name\": \"Test Requested Accuracy\", \"x\": [0, 1, 2, 3, 4, 5, 6, 7, 8, 9, 10, 11, 12, 13], \"y\": [0.8119465, 0.8517104, 0.888175, 0.9038027, 0.9215142, 0.9328008, 0.9319326, 0.940962, 0.9402674, 0.9527696, 0.9498177, 0.9499913, 0.9456503, 0.9484285], \"type\": \"scatter\", \"uid\": \"241025d6-e27f-44d4-a2bc-970d5022ca7a\"}], {\"margin\": {\"b\": 150}, \"title\": {\"text\": \"<b>Dev-Test Requested Accuracy</b>\"}, \"xaxis\": {\"dtick\": 1, \"title\": {\"font\": {\"color\": \"#34495e\"}, \"text\": \"<b>Epoch</b>\"}}, \"yaxis\": {\"title\": {\"font\": {\"color\": \"#34495e\"}, \"text\": \"<b>Accuracy</b>\"}}}, {\"showLink\": false, \"linkText\": \"Export to plot.ly\", \"plotlyServerURL\": \"https://plot.ly\"})});</script><script type=\"text/javascript\">window.addEventListener(\"resize\", function(){window._Plotly.Plots.resize(document.getElementById(\"8144a156-5037-4181-ba88-0af831b18331\"));});</script>"
      ]
     },
     "metadata": {},
     "output_type": "display_data"
    },
    {
     "data": {
      "application/vnd.plotly.v1+json": {
       "config": {
        "linkText": "Export to plot.ly",
        "plotlyServerURL": "https://plot.ly",
        "showLink": false
       },
       "data": [
        {
         "marker": {
          "color": "#3498db"
         },
         "mode": "lines+markers",
         "name": "Dev Method Accuracy",
         "type": "scatter",
         "uid": "04cca516-9db7-4437-981d-b57ac30d22d9",
         "x": [
          0,
          1,
          2,
          3,
          4,
          5,
          6,
          7,
          8,
          9,
          10,
          11,
          12,
          13
         ],
         "y": [
          0.8551474,
          0.8890326,
          0.8944646,
          0.8926539,
          0.8934299,
          0.8900673,
          0.8965339,
          0.9014485,
          0.8923952,
          0.8942059,
          0.8952406,
          0.8993792,
          0.8942059,
          0.8898086
         ]
        },
        {
         "marker": {
          "color": "#9b59b6"
         },
         "mode": "lines+markers",
         "name": "Test Method Accuracy",
         "type": "scatter",
         "uid": "adefbcde-0387-48e2-8e23-7f9be8f3f591",
         "x": [
          0,
          1,
          2,
          3,
          4,
          5,
          6,
          7,
          8,
          9,
          10,
          11,
          12,
          13
         ],
         "y": [
          0.885468,
          0.9166667,
          0.9210796,
          0.915743,
          0.9195402,
          0.9223112,
          0.9247742,
          0.9291872,
          0.9194376,
          0.9229269,
          0.9178982,
          0.9178982,
          0.9252874,
          0.9215928
         ]
        }
       ],
       "layout": {
        "margin": {
         "b": 150
        },
        "title": {
         "text": "<b>Dev-Test Method Accuracy</b>"
        },
        "xaxis": {
         "dtick": 1,
         "title": {
          "font": {
           "color": "#34495e"
          },
          "text": "<b>Epoch</b>"
         }
        },
        "yaxis": {
         "title": {
          "font": {
           "color": "#34495e"
          },
          "text": "<b>Accuracy</b>"
         }
        }
       }
      },
      "text/html": [
       "<div id=\"8638421f-ea47-4620-92db-9f771b97fe78\" style=\"height: 525px; width: 100%;\" class=\"plotly-graph-div\"></div><script type=\"text/javascript\">require([\"plotly\"], function(Plotly) { window.PLOTLYENV=window.PLOTLYENV || {};window.PLOTLYENV.BASE_URL=\"https://plot.ly\";Plotly.newPlot(\"8638421f-ea47-4620-92db-9f771b97fe78\", [{\"marker\": {\"color\": \"#3498db\"}, \"mode\": \"lines+markers\", \"name\": \"Dev Method Accuracy\", \"x\": [0, 1, 2, 3, 4, 5, 6, 7, 8, 9, 10, 11, 12, 13], \"y\": [0.8551474, 0.8890326, 0.8944646, 0.8926539, 0.8934299, 0.8900673, 0.8965339, 0.9014485, 0.8923952, 0.8942059, 0.8952406, 0.8993792, 0.8942059, 0.8898086], \"type\": \"scatter\", \"uid\": \"28df484c-197f-4416-a86c-dc1044e91f28\"}, {\"marker\": {\"color\": \"#9b59b6\"}, \"mode\": \"lines+markers\", \"name\": \"Test Method Accuracy\", \"x\": [0, 1, 2, 3, 4, 5, 6, 7, 8, 9, 10, 11, 12, 13], \"y\": [0.885468, 0.9166667, 0.9210796, 0.915743, 0.9195402, 0.9223112, 0.9247742, 0.9291872, 0.9194376, 0.9229269, 0.9178982, 0.9178982, 0.9252874, 0.9215928], \"type\": \"scatter\", \"uid\": \"e8b1bf84-cdf5-475d-9eab-658880117ca0\"}], {\"margin\": {\"b\": 150}, \"title\": {\"text\": \"<b>Dev-Test Method Accuracy</b>\"}, \"xaxis\": {\"dtick\": 1, \"title\": {\"font\": {\"color\": \"#34495e\"}, \"text\": \"<b>Epoch</b>\"}}, \"yaxis\": {\"title\": {\"font\": {\"color\": \"#34495e\"}, \"text\": \"<b>Accuracy</b>\"}}}, {\"showLink\": false, \"linkText\": \"Export to plot.ly\", \"plotlyServerURL\": \"https://plot.ly\"})});</script><script type=\"text/javascript\">window.addEventListener(\"resize\", function(){window._Plotly.Plots.resize(document.getElementById(\"8638421f-ea47-4620-92db-9f771b97fe78\"));});</script>"
      ],
      "text/vnd.plotly.v1+html": [
       "<div id=\"8638421f-ea47-4620-92db-9f771b97fe78\" style=\"height: 525px; width: 100%;\" class=\"plotly-graph-div\"></div><script type=\"text/javascript\">require([\"plotly\"], function(Plotly) { window.PLOTLYENV=window.PLOTLYENV || {};window.PLOTLYENV.BASE_URL=\"https://plot.ly\";Plotly.newPlot(\"8638421f-ea47-4620-92db-9f771b97fe78\", [{\"marker\": {\"color\": \"#3498db\"}, \"mode\": \"lines+markers\", \"name\": \"Dev Method Accuracy\", \"x\": [0, 1, 2, 3, 4, 5, 6, 7, 8, 9, 10, 11, 12, 13], \"y\": [0.8551474, 0.8890326, 0.8944646, 0.8926539, 0.8934299, 0.8900673, 0.8965339, 0.9014485, 0.8923952, 0.8942059, 0.8952406, 0.8993792, 0.8942059, 0.8898086], \"type\": \"scatter\", \"uid\": \"28df484c-197f-4416-a86c-dc1044e91f28\"}, {\"marker\": {\"color\": \"#9b59b6\"}, \"mode\": \"lines+markers\", \"name\": \"Test Method Accuracy\", \"x\": [0, 1, 2, 3, 4, 5, 6, 7, 8, 9, 10, 11, 12, 13], \"y\": [0.885468, 0.9166667, 0.9210796, 0.915743, 0.9195402, 0.9223112, 0.9247742, 0.9291872, 0.9194376, 0.9229269, 0.9178982, 0.9178982, 0.9252874, 0.9215928], \"type\": \"scatter\", \"uid\": \"e8b1bf84-cdf5-475d-9eab-658880117ca0\"}], {\"margin\": {\"b\": 150}, \"title\": {\"text\": \"<b>Dev-Test Method Accuracy</b>\"}, \"xaxis\": {\"dtick\": 1, \"title\": {\"font\": {\"color\": \"#34495e\"}, \"text\": \"<b>Epoch</b>\"}}, \"yaxis\": {\"title\": {\"font\": {\"color\": \"#34495e\"}, \"text\": \"<b>Accuracy</b>\"}}}, {\"showLink\": false, \"linkText\": \"Export to plot.ly\", \"plotlyServerURL\": \"https://plot.ly\"})});</script><script type=\"text/javascript\">window.addEventListener(\"resize\", function(){window._Plotly.Plots.resize(document.getElementById(\"8638421f-ea47-4620-92db-9f771b97fe78\"));});</script>"
      ]
     },
     "metadata": {},
     "output_type": "display_data"
    }
   ],
   "source": [
    "dev_goal_accuracies = []\n",
    "dev_requested_accuracies = []\n",
    "dev_method_accuracies = []\n",
    "\n",
    "test_goal_accuracies = []\n",
    "test_requested_accuracies = []\n",
    "test_method_accuracies = []\n",
    "\n",
    "all_early_stopping = EarlyStopping(patience = 2)\n",
    "\n",
    "train_indices = np.arange(raw_X_train.shape[0])\n",
    "\n",
    "for epoch in range(NUM_EPOCHS):\n",
    "    \n",
    "    np.random.shuffle(train_indices)\n",
    "    \n",
    "    logging.info(\"Epoch\\t{}/{}\".format(epoch + 1, NUM_EPOCHS))\n",
    "    \n",
    "    model_All = model_All.train()\n",
    "    \n",
    "    for raw_X_train_dialog, raw_Y_train_dialog in tqdm_notebook(zip(raw_X_train[train_indices], raw_Y_train[train_indices]), total = len(raw_X_train)):\n",
    "\n",
    "        model_All.hidden = model_All.init_hidden()\n",
    "\n",
    "        for raw_X_train_turn, raw_Y_train_turn in zip(raw_X_train_dialog[\"turns\"], raw_Y_train_dialog[\"turns\"]):\n",
    "            \n",
    "            optimizer_AllModel.zero_grad()\n",
    "            \n",
    "            indices, scores = get_index_and_score(raw_X_train_turn, token_to_index, mode = \"train\", device = DEVICE)\n",
    "            \n",
    "            goal_food, goal_pricerange, goal_name, goal_area, method, requested = model_All(indices, scores)\n",
    "            \n",
    "            loss_goal_food = GOAL_LOSS_FUNCTION(goal_food,\n",
    "                                                retrieve_gold_GoalFood(raw_Y_train_turn,\n",
    "                                                                       ontology = ontology,\n",
    "                                                                       device = DEVICE))\n",
    "            \n",
    "            loss_goal_pricerange = GOAL_LOSS_FUNCTION(goal_pricerange,\n",
    "                                                      retrieve_gold_GoalPriceRange(raw_Y_train_turn,\n",
    "                                                                                   ontology = ontology,\n",
    "                                                                                   device = DEVICE))\n",
    "            \n",
    "            loss_goal_name = GOAL_LOSS_FUNCTION(goal_name,\n",
    "                                                retrieve_gold_GoalName(raw_Y_train_turn,\n",
    "                                                                       ontology = ontology,\n",
    "                                                                       device = DEVICE))\n",
    "            \n",
    "            loss_goal_area = GOAL_LOSS_FUNCTION(goal_area,\n",
    "                                                retrieve_gold_GoalArea(raw_Y_train_turn,\n",
    "                                                                       ontology = ontology,\n",
    "                                                                       device = DEVICE))\n",
    "            \n",
    "            loss_method = METHOD_LOSS_FUNCTION(method,\n",
    "                                               retrieve_gold_Method(raw_Y_train_turn,\n",
    "                                                                    ontology = ontology,\n",
    "                                                                    device = DEVICE))\n",
    "            \n",
    "            loss_requested = REQUESTED_LOSS_FUNCTION(requested,\n",
    "                                                     retrieve_gold_Requested(raw_Y_train_turn,\n",
    "                                                                             ontology = ontology,\n",
    "                                                                             device = DEVICE))\n",
    "\n",
    "            loss = loss_goal_food + loss_goal_pricerange + loss_goal_name + loss_goal_area + loss_method + loss_requested\n",
    "            \n",
    "            loss.backward(retain_graph = True)\n",
    "            \n",
    "            optimizer_AllModel.step()\n",
    "    \n",
    "    dev_goal_accuracy, \\\n",
    "    dev_goal_l2, \\\n",
    "    dev_requested_accuracy, \\\n",
    "    dev_requested_l2, \\\n",
    "    dev_method_accuracy, \\\n",
    "    dev_method_l2 = get_scores(model_All, raw_X_dev, raw_Y_dev, dataset = \"dstc2_dev\")\n",
    "    logging.info(\"DEV Acc:\\t\\t{}({})\\t\\t{}({})\\t\\t{}({})\".format(dev_goal_accuracy,\n",
    "                                                             np.around(dev_goal_accuracy, decimals = 2),\n",
    "                                                             dev_requested_accuracy,\n",
    "                                                             np.around(dev_requested_accuracy, decimals = 2),\n",
    "                                                             dev_method_accuracy,\n",
    "                                                             np.around(dev_method_accuracy, decimals = 2)))\n",
    "    logging.info(\"DEV L2:\\t\\t{}({})\\t\\t{}({})\\t\\t{}({})\".format(dev_goal_l2,\n",
    "                                                             np.around(dev_goal_l2, decimals = 2),\n",
    "                                                             dev_requested_l2,\n",
    "                                                             np.around(dev_requested_l2, decimals = 2),\n",
    "                                                             dev_method_l2,\n",
    "                                                             np.around(dev_method_l2, decimals = 2)))\n",
    "    dev_goal_accuracies.append(dev_goal_accuracy)\n",
    "    dev_requested_accuracies.append(dev_requested_accuracy)\n",
    "    dev_method_accuracies.append(dev_method_accuracy)\n",
    "\n",
    "    test_goal_accuracy, \\\n",
    "    test_goal_l2, \\\n",
    "    test_requested_accuracy, \\\n",
    "    test_requested_l2, \\\n",
    "    test_method_accuracy, \\\n",
    "    test_method_l2 = get_scores(model_All, raw_X_test, raw_Y_test, dataset = \"dstc2_test\")\n",
    "    logging.info(\"TEST Acc:\\t\\t{}({})\\t\\t{}({})\\t\\t{}({})\".format(test_goal_accuracy,\n",
    "                                                              np.around(test_goal_accuracy, decimals = 2),\n",
    "                                                              test_requested_accuracy,\n",
    "                                                              np.around(test_requested_accuracy, decimals = 2),\n",
    "                                                              test_method_accuracy,\n",
    "                                                              np.around(test_method_accuracy, decimals = 2)))\n",
    "    logging.info(\"TEST L2:\\t\\t{}({})\\t\\t{}({})\\t\\t{}({})\".format(test_goal_l2,\n",
    "                                                              np.around(test_goal_l2, decimals = 2),\n",
    "                                                              test_requested_l2,\n",
    "                                                              np.around(test_requested_l2, decimals = 2),\n",
    "                                                              test_method_l2,\n",
    "                                                              np.around(test_method_l2, decimals = 2)))\n",
    "    test_goal_accuracies.append(test_goal_accuracy)\n",
    "    test_requested_accuracies.append(test_requested_accuracy)\n",
    "    test_method_accuracies.append(test_method_accuracy)\n",
    "        \n",
    "    all_early_stopping.on_epoch_end(epoch = (epoch + 1),\n",
    "                                    current_value = (dev_goal_accuracy + dev_requested_accuracy + dev_method_accuracy))\n",
    "    \n",
    "    if all_early_stopping.wait == 0:\n",
    "        torch.save(model_All.state_dict(), \"model_All.pt\")\n",
    "    \n",
    "    if all_early_stopping.stop_training:\n",
    "        break\n",
    "\n",
    "plotly_plot(dev_goal_accuracies, test_goal_accuracies, \"Goal\")\n",
    "plotly_plot(dev_requested_accuracies, test_requested_accuracies, \"Requested\")\n",
    "plotly_plot(dev_method_accuracies, test_method_accuracies, \"Method\")"
   ]
  },
  {
   "cell_type": "markdown",
   "metadata": {},
   "source": [
    "### Load All Model"
   ]
  },
  {
   "cell_type": "code",
   "execution_count": 11,
   "metadata": {},
   "outputs": [
    {
     "data": {
      "text/plain": [
       "AllModel(\n",
       "  (embeddings): Embedding(1149, 170)\n",
       "  (altered_embeddings): Linear(in_features=171, out_features=300, bias=True)\n",
       "  (lstm): LSTM(300, 100)\n",
       "  (goal_food_classifier): Linear(in_features=100, out_features=93, bias=True)\n",
       "  (goal_pricerange_classifier): Linear(in_features=100, out_features=5, bias=True)\n",
       "  (goal_name_classifier): Linear(in_features=100, out_features=115, bias=True)\n",
       "  (goal_area_classifier): Linear(in_features=100, out_features=7, bias=True)\n",
       "  (method_classifier): Linear(in_features=100, out_features=5, bias=True)\n",
       "  (requested_classifier): Linear(in_features=100, out_features=8, bias=True)\n",
       ")"
      ]
     },
     "execution_count": 11,
     "metadata": {},
     "output_type": "execute_result"
    }
   ],
   "source": [
    "model_All = AllModel(vocabulary_size = VOCABULARY_SIZE,\n",
    "                               embedding_dim = EMBEDDING_DIM,\n",
    "                               altered_embedding_dim = ALTERED_EMBEDDING_DIM,\n",
    "                               hidden_dim = HIDDEN_DIM,\n",
    "                               goal_food_dim = GOAL_FOOD_DIM,\n",
    "                               goal_pricerange_dim = GOAL_PRICERANGE_DIM,\n",
    "                               goal_name_dim = GOAL_NAME_DIM,\n",
    "                               goal_area_dim = GOAL_AREA_DIM,\n",
    "                               method_dim = METHOD_DIM,\n",
    "                               requested_dim = REQUESTED_DIM,\n",
    "                               device = DEVICE)\n",
    "model_All = model_All.to(DEVICE)\n",
    "model_All.load_state_dict(torch.load(\"model_All.pt\"))\n",
    "model_All.eval()"
   ]
  },
  {
   "cell_type": "markdown",
   "metadata": {},
   "source": [
    "### Print scores"
   ]
  },
  {
   "cell_type": "code",
   "execution_count": 12,
   "metadata": {},
   "outputs": [
    {
     "data": {
      "application/vnd.jupyter.widget-view+json": {
       "model_id": "9b19f475bae34f10824aa3cfcb1ccd62",
       "version_major": 2,
       "version_minor": 0
      },
      "text/plain": [
       "HBox(children=(IntProgress(value=0, max=506), HTML(value='')))"
      ]
     },
     "metadata": {},
     "output_type": "display_data"
    },
    {
     "name": "stdout",
     "output_type": "stream",
     "text": [
      "\n"
     ]
    },
    {
     "data": {
      "text/plain": [
       "(0.6105318, 0.5589147, 0.9376127, 0.1771077, 0.8952406, 0.1231344)"
      ]
     },
     "execution_count": 12,
     "metadata": {},
     "output_type": "execute_result"
    }
   ],
   "source": [
    "get_scores(model_All, raw_X_dev, raw_Y_dev, dataset = \"dstc2_dev\")"
   ]
  },
  {
   "cell_type": "code",
   "execution_count": 13,
   "metadata": {},
   "outputs": [
    {
     "data": {
      "application/vnd.jupyter.widget-view+json": {
       "model_id": "a8a3101dd5b64dafab9dbc545a4f619a",
       "version_major": 2,
       "version_minor": 0
      },
      "text/plain": [
       "HBox(children=(IntProgress(value=0, max=1117), HTML(value='')))"
      ]
     },
     "metadata": {},
     "output_type": "display_data"
    },
    {
     "name": "stdout",
     "output_type": "stream",
     "text": [
      "\n"
     ]
    },
    {
     "data": {
      "text/plain": [
       "(0.6555888, 0.4970272, 0.9498177, 0.1337462, 0.9178982, 0.0957413)"
      ]
     },
     "execution_count": 13,
     "metadata": {},
     "output_type": "execute_result"
    }
   ],
   "source": [
    "get_scores(model_All, raw_X_test, raw_Y_test, dataset = \"dstc2_test\")"
   ]
  }
 ],
 "metadata": {
  "kernelspec": {
   "display_name": "Python 3",
   "language": "python",
   "name": "python3"
  },
  "language_info": {
   "codemirror_mode": {
    "name": "ipython",
    "version": 3
   },
   "file_extension": ".py",
   "mimetype": "text/x-python",
   "name": "python",
   "nbconvert_exporter": "python",
   "pygments_lexer": "ipython3",
   "version": "3.6.5"
  }
 },
 "nbformat": 4,
 "nbformat_minor": 2
}
