{
 "cells": [
  {
   "cell_type": "markdown",
   "metadata": {},
   "source": [
    "### Check GPU availability"
   ]
  },
  {
   "cell_type": "code",
   "execution_count": 1,
   "metadata": {},
   "outputs": [
    {
     "name": "stdout",
     "output_type": "stream",
     "text": [
      "Sun Feb  3 11:56:20 2019       \r\n",
      "+-----------------------------------------------------------------------------+\r\n",
      "| NVIDIA-SMI 384.145                Driver Version: 384.145                   |\r\n",
      "|-------------------------------+----------------------+----------------------+\r\n",
      "| GPU  Name        Persistence-M| Bus-Id        Disp.A | Volatile Uncorr. ECC |\r\n",
      "| Fan  Temp  Perf  Pwr:Usage/Cap|         Memory-Usage | GPU-Util  Compute M. |\r\n",
      "|===============================+======================+======================|\r\n",
      "|   0  GeForce GTX 108...  Off  | 00000000:02:00.0 Off |                  N/A |\r\n",
      "| 23%   26C    P8    17W / 250W |      0MiB / 11172MiB |      0%      Default |\r\n",
      "+-------------------------------+----------------------+----------------------+\r\n",
      "|   1  GeForce GTX 108...  Off  | 00000000:03:00.0 Off |                  N/A |\r\n",
      "| 32%   51C    P8    19W / 250W |      0MiB / 11172MiB |      0%      Default |\r\n",
      "+-------------------------------+----------------------+----------------------+\r\n",
      "                                                                               \r\n",
      "+-----------------------------------------------------------------------------+\r\n",
      "| Processes:                                                       GPU Memory |\r\n",
      "|  GPU       PID   Type   Process name                             Usage      |\r\n",
      "|=============================================================================|\r\n",
      "|  No running processes found                                                 |\r\n",
      "+-----------------------------------------------------------------------------+\r\n"
     ]
    }
   ],
   "source": [
    "!nvidia-smi"
   ]
  },
  {
   "cell_type": "markdown",
   "metadata": {},
   "source": [
    "### Import libraries"
   ]
  },
  {
   "cell_type": "code",
   "execution_count": 2,
   "metadata": {},
   "outputs": [
    {
     "name": "stderr",
     "output_type": "stream",
     "text": [
      "[nltk_data] Downloading package punkt to /home/is/andrei-\n",
      "[nltk_data]     cc/nltk_data...\n",
      "[nltk_data]   Package punkt is already up-to-date!\n"
     ]
    },
    {
     "data": {
      "text/html": [
       "<script type=\"text/javascript\">window.PlotlyConfig = {MathJaxConfig: 'local'};</script><script type=\"text/javascript\">if (window.MathJax) {MathJax.Hub.Config({SVG: {font: \"STIX-Web\"}});}</script><script>requirejs.config({paths: { 'plotly': ['https://cdn.plot.ly/plotly-latest.min']},});if(!window._Plotly) {require(['plotly'],function(plotly) {window._Plotly=plotly;});}</script>"
      ],
      "text/vnd.plotly.v1+html": [
       "<script type=\"text/javascript\">window.PlotlyConfig = {MathJaxConfig: 'local'};</script><script type=\"text/javascript\">if (window.MathJax) {MathJax.Hub.Config({SVG: {font: \"STIX-Web\"}});}</script><script>requirejs.config({paths: { 'plotly': ['https://cdn.plot.ly/plotly-latest.min']},});if(!window._Plotly) {require(['plotly'],function(plotly) {window._Plotly=plotly;});}</script>"
      ]
     },
     "metadata": {},
     "output_type": "display_data"
    }
   ],
   "source": [
    "import torch\n",
    "import torch.utils.data\n",
    "import torch.nn as nn\n",
    "import torch.nn.functional as F\n",
    "import torch.optim as optim\n",
    "\n",
    "import copy\n",
    "import numpy as np\n",
    "import time\n",
    "import json\n",
    "import plotly\n",
    "import logging\n",
    "logging.getLogger().setLevel(logging.INFO)\n",
    "\n",
    "from pprint import pprint\n",
    "from tqdm import tqdm_notebook\n",
    "from idst_util import trivial\n",
    "from idst_util import dstc2\n",
    "\n",
    "from plotly.graph_objs import Scatter, Layout\n",
    "from plotly.graph_objs.layout import Margin\n",
    "plotly.offline.init_notebook_mode(connected = True)"
   ]
  },
  {
   "cell_type": "markdown",
   "metadata": {},
   "source": [
    "### Check DSTC2 availability"
   ]
  },
  {
   "cell_type": "code",
   "execution_count": 3,
   "metadata": {},
   "outputs": [
    {
     "name": "stderr",
     "output_type": "stream",
     "text": [
      "INFO:root:+--------------------------------+\n",
      "INFO:root:|         _ ____  ___________    |\n",
      "INFO:root:|        (_) __ \\/ ___/_  __/    |\n",
      "INFO:root:|       / / / / /\\__ \\ / /       |\n",
      "INFO:root:|      / / /_/ /___/ // /        |\n",
      "INFO:root:|     /_/_____//____//_/         |\n",
      "INFO:root:|                                |\n",
      "INFO:root:+--------------------------------+\n",
      "INFO:root:|Incremental Dialog State Tracker|\n",
      "INFO:root:+--------------------------------+\n",
      "INFO:root:+--------------------------------+\n",
      "INFO:root:|     Dialog State Tracker 2     |\n",
      "INFO:root:|         Data Checker           |\n",
      "INFO:root:+--------------------------------+\n",
      "INFO:root:Looking for dstc2 directory in .\n",
      "INFO:root:dstc2 was found!\n",
      "INFO:root:Looking for dstc2_traindev directory in ./dstc2\n",
      "INFO:root:dstc2_traindev was found!\n",
      "INFO:root:Looking for dstc2_test directory in ./dstc2\n",
      "INFO:root:dstc2_test was found!\n",
      "INFO:root:Looking for dstc2_scripts directory in ./dstc2\n",
      "INFO:root:dstc2_scripts was found!\n",
      "INFO:root:Done!\n"
     ]
    }
   ],
   "source": [
    "trivial.print_idst()\n",
    "dstc2.check()"
   ]
  },
  {
   "cell_type": "markdown",
   "metadata": {},
   "source": [
    "### Retrieve data"
   ]
  },
  {
   "cell_type": "code",
   "execution_count": 4,
   "metadata": {},
   "outputs": [
    {
     "name": "stderr",
     "output_type": "stream",
     "text": [
      "INFO:root:+--------------------------------+\n",
      "INFO:root:|     Dialog State Tracker 2     |\n",
      "INFO:root:|       Dataset Retrieval        |\n",
      "INFO:root:+--------------------------------+\n",
      "INFO:root:Reading dstc2_train.flist, dstc2_dev.flist and ontology_dstc2.json\n",
      "INFO:root:Asserted 1612 dialogs for dstc2_train.flist\n",
      "INFO:root:Asserted 506 dialogs for dstc2_dev.flist\n",
      "INFO:root:Extracting raw train features\n",
      "100%|██████████| 1612/1612 [00:13<00:00, 117.49it/s]\n",
      "INFO:root:Extracting raw dev features\n",
      "100%|██████████| 506/506 [00:03<00:00, 144.81it/s]\n",
      "INFO:root:Reading dstc2_test.flist\n",
      "INFO:root:Asserted 1117 dialogs for dstc2_test.flist\n",
      "INFO:root:Extracting raw test features\n",
      "100%|██████████| 1117/1117 [00:09<00:00, 123.43it/s]\n"
     ]
    }
   ],
   "source": [
    "raw_X_train, raw_Y_train, \\\n",
    "raw_X_dev, raw_Y_dev, \\\n",
    "raw_X_test, raw_Y_test, \\\n",
    "ontology = dstc2.retrieve_raw_datasets(train_data_augmentation = True)"
   ]
  },
  {
   "cell_type": "markdown",
   "metadata": {},
   "source": [
    "### Set device"
   ]
  },
  {
   "cell_type": "code",
   "execution_count": 5,
   "metadata": {},
   "outputs": [
    {
     "name": "stderr",
     "output_type": "stream",
     "text": [
      "INFO:root:+--------------------------------+\n",
      "INFO:root:|            Baseline            |\n",
      "INFO:root:+--------------------------------+\n",
      "INFO:root:Running on GPU 1\n"
     ]
    }
   ],
   "source": [
    "logging.info(\"+--------------------------------+\")\n",
    "logging.info(\"|            Baseline            |\")\n",
    "logging.info(\"+--------------------------------+\")\n",
    "\n",
    "GPU_ID = 1\n",
    "DEVICE = torch.device(\"cuda:{}\".format(GPU_ID) if torch.cuda.is_available() else \"cpu\")\n",
    "#DEVICE = \"cpu\"\n",
    "if DEVICE == \"cpu\":\n",
    "    logging.warning(\"Running on CPU\")\n",
    "else:\n",
    "    logging.info(\"Running on GPU {}\".format(GPU_ID))"
   ]
  },
  {
   "cell_type": "markdown",
   "metadata": {},
   "source": [
    "### Models utilities"
   ]
  },
  {
   "cell_type": "code",
   "execution_count": 6,
   "metadata": {},
   "outputs": [],
   "source": [
    "def get_index_and_score(turn, token_to_index, mode, device):\n",
    "    indices = []\n",
    "    scores = []\n",
    "    if mode == \"train\":\n",
    "        for system_token, system_token_score in turn[\"system\"]:\n",
    "            indices.append(token_to_index[system_token])\n",
    "            scores.append(system_token_score)\n",
    "        for user_token, user_token_score in turn[\"user\"]:\n",
    "            if np.random.binomial(n = 1, p = 0.1) == 1:\n",
    "                indices.append(token_to_index[\"<unk>\"])\n",
    "            else:\n",
    "                indices.append(token_to_index[user_token])\n",
    "            scores.append(user_token_score)\n",
    "    else:\n",
    "        tokens_scores = turn[\"system\"] + turn[\"user\"]\n",
    "        for token, score in tokens_scores:\n",
    "            if token not in token_to_index:\n",
    "                indices.append(token_to_index[\"<unk>\"])\n",
    "            else:\n",
    "                indices.append(token_to_index[token])\n",
    "            scores.append(score)\n",
    "    assert len(indices) == len(scores)\n",
    "    return torch.tensor(indices, dtype = torch.long, device = device), torch.tensor(scores, dtype = torch.float, device = device)\n",
    "\n",
    "class EarlyStopping():\n",
    "    \n",
    "    def __init__(self, min_delta = 0, patience = 0):\n",
    "        \n",
    "        self.min_delta = min_delta\n",
    "        self.patience = patience\n",
    "        self.wait = 0\n",
    "        self.stopped_epoch = 0\n",
    "        self.best = -np.Inf\n",
    "        self.stop_training = False\n",
    "    \n",
    "    def on_epoch_end(self, epoch, current_value):\n",
    "        if np.greater((current_value - self.min_delta), self.best):\n",
    "            self.best = current_value\n",
    "            self.wait = 0\n",
    "        else:\n",
    "            self.wait += 1\n",
    "            if self.wait > self.patience:\n",
    "                self.stopped_epoch = epoch\n",
    "                self.stop_training = True\n",
    "        return self.stop_training\n",
    "\n",
    "def make_tracker(model_GoalPricerange, model_GoalArea, model_GoalName, model_GoalFood, model_Requested, model_Method, raw_X, raw_Y, dataset, percentage = 1.0):\n",
    "    \n",
    "    model_GoalPricerange = model_GoalPricerange.eval()\n",
    "    model_GoalArea = model_GoalArea.eval()\n",
    "    model_GoalName = model_GoalName.eval()\n",
    "    model_GoalFood = model_GoalFood.eval()\n",
    "    model_Requested = model_Requested.eval()\n",
    "    model_Method = model_Method.eval()\n",
    "    \n",
    "    with torch.no_grad():\n",
    "        tracker_json = {}\n",
    "        tracker_json[\"dataset\"] = dataset\n",
    "        tracker_json[\"sessions\"] = []\n",
    "\n",
    "        start_time = time.time()\n",
    "        for raw_X_dialog, raw_Y_dialog in tqdm_notebook(zip(raw_X, raw_Y), total = len(raw_X)):\n",
    "            \n",
    "            model_GoalPricerange.hidden = model_GoalPricerange.init_hidden()\n",
    "            model_GoalArea.hidden = model_GoalArea.init_hidden()\n",
    "            model_GoalName.hidden = model_GoalName.init_hidden()\n",
    "            model_GoalFood.hidden = model_GoalFood.init_hidden()\n",
    "            model_Requested.hidden = model_Requested.init_hidden()\n",
    "            model_Method.hidden = model_Method.init_hidden()\n",
    "            \n",
    "            session = {}\n",
    "            session[\"session-id\"] = raw_X_dialog[\"session-id\"]\n",
    "            session[\"turns\"] = []\n",
    "\n",
    "            for raw_X_turn, raw_Y_turn in zip(raw_X_dialog[\"turns\"], raw_Y_dialog[\"turns\"]):\n",
    "                turn = {}\n",
    "                turn[\"goal-labels\"] = {}\n",
    "\n",
    "                indices, scores = get_index_and_score(raw_X_turn, token_to_index, mode = \"eval\", device = DEVICE)\n",
    "                \n",
    "                incremental_index = int(np.around(percentage * len(indices))) - 1\n",
    "                \n",
    "                goal_foods = model_GoalFood(indices, scores)\n",
    "                goal_food = goal_foods[incremental_index]\n",
    "                \n",
    "                goal_priceranges = model_GoalPricerange(indices, scores)\n",
    "                goal_pricerange = goal_priceranges[incremental_index]\n",
    "                \n",
    "                goal_names = model_GoalName(indices, scores)\n",
    "                goal_name = goal_names[incremental_index]\n",
    "                \n",
    "                goal_areas = model_GoalArea(indices, scores)\n",
    "                goal_area = goal_areas[incremental_index]\n",
    "                \n",
    "                requesteds = model_Requested(indices, scores)\n",
    "                requested = requesteds[incremental_index]\n",
    "                \n",
    "                methods = model_Method(indices, scores)\n",
    "                method = methods[incremental_index]\n",
    "                \n",
    "                turn[\"goal-labels\"][\"food\"] = retrieve_output_GoalFood(goal_food, ontology)\n",
    "                turn[\"goal-labels\"][\"pricerange\"] = retrieve_output_GoalPricerange(goal_pricerange, ontology)\n",
    "                turn[\"goal-labels\"][\"name\"] = retrieve_output_GoalName(goal_name, ontology)\n",
    "                turn[\"goal-labels\"][\"area\"] = retrieve_output_GoalArea(goal_area, ontology)\n",
    "                turn[\"requested-slots\"] = retrieve_output_Requested(requested, ontology)\n",
    "                turn[\"method-label\"] = retrieve_output_Method(method, ontology)\n",
    "                \n",
    "                session[\"turns\"].append(turn)\n",
    "                \n",
    "            tracker_json[\"sessions\"].append(session)\n",
    "            \n",
    "        end_time = time.time()\n",
    "        tracker_json[\"wall-time\"] = end_time - start_time\n",
    "        \n",
    "        return tracker_json\n",
    "\n",
    "def get_scores(tracker, dataset, predictor = False):\n",
    "    goal_pricerange_accuracy = None\n",
    "    goal_pricerange_l2 = None\n",
    "    goal_area_accuracy = None\n",
    "    goal_area_l2 = None\n",
    "    goal_name_accuracy = None\n",
    "    goal_name_l2 = None\n",
    "    goal_food_accuracy = None\n",
    "    goal_food_l2 = None\n",
    "    \n",
    "    goal_accuracy = None\n",
    "    goal_l2 = None\n",
    "    requested_accuracy = None\n",
    "    requested_l2 = None\n",
    "    method_accuracy = None\n",
    "    method_l2 = None\n",
    "    \n",
    "    with open(\"tracker_panfmr_incremental.json\", \"w\") as tracker_file:\n",
    "        json.dump(tracker, tracker_file)\n",
    "    \n",
    "    if predictor:\n",
    "        \n",
    "        if dataset == \"dstc2_train\":\n",
    "            !python2 dstc2/dstc2_scripts/score_predictor.py\\\n",
    "            --dataset dstc2_train\\\n",
    "            --dataroot dstc2/dstc2_traindev/data\\\n",
    "            --ontology dstc2/dstc2_scripts/config/ontology_dstc2.json\\\n",
    "            --trackfile tracker_panfmr_incremental.json\\\n",
    "            --scorefile tracker_panfmr_incremental.score.csv\n",
    "        elif dataset == \"dstc2_dev\":\n",
    "            !python2 dstc2/dstc2_scripts/score_predictor.py\\\n",
    "            --dataset dstc2_dev\\\n",
    "            --dataroot dstc2/dstc2_traindev/data\\\n",
    "            --ontology dstc2/dstc2_scripts/config/ontology_dstc2.json\\\n",
    "            --trackfile tracker_panfmr_incremental.json\\\n",
    "            --scorefile tracker_panfmr_incremental.score.csv\n",
    "        else:\n",
    "            !python2 dstc2/dstc2_scripts/score_predictor.py\\\n",
    "            --dataset dstc2_test\\\n",
    "            --dataroot dstc2/dstc2_test/data\\\n",
    "            --ontology dstc2/dstc2_scripts/config/ontology_dstc2.json\\\n",
    "            --trackfile tracker_panfmr_incremental.json\\\n",
    "            --scorefile tracker_panfmr_incremental.score.csv\n",
    "            \n",
    "    else: # predictor == False\n",
    "        \n",
    "        if dataset == \"dstc2_train\":\n",
    "            !python2 dstc2/dstc2_scripts/score.py\\\n",
    "            --dataset dstc2_train\\\n",
    "            --dataroot dstc2/dstc2_traindev/data\\\n",
    "            --ontology dstc2/dstc2_scripts/config/ontology_dstc2.json\\\n",
    "            --trackfile tracker_panfmr_incremental.json\\\n",
    "            --scorefile tracker_panfmr_incremental.score.csv\n",
    "        elif dataset == \"dstc2_dev\":\n",
    "            !python2 dstc2/dstc2_scripts/score.py\\\n",
    "            --dataset dstc2_dev\\\n",
    "            --dataroot dstc2/dstc2_traindev/data\\\n",
    "            --ontology dstc2/dstc2_scripts/config/ontology_dstc2.json\\\n",
    "            --trackfile tracker_panfmr_incremental.json\\\n",
    "            --scorefile tracker_panfmr_incremental.score.csv\n",
    "        else:\n",
    "            !python2 dstc2/dstc2_scripts/score.py\\\n",
    "            --dataset dstc2_test\\\n",
    "            --dataroot dstc2/dstc2_test/data\\\n",
    "            --ontology dstc2/dstc2_scripts/config/ontology_dstc2.json\\\n",
    "            --trackfile tracker_panfmr_incremental.json\\\n",
    "            --scorefile tracker_panfmr_incremental.score.csv\n",
    "        \n",
    "    score_file_cat = !cat tracker_panfmr_incremental.score.csv\n",
    "    \n",
    "    for line in score_file_cat:\n",
    "        if line.startswith(\"goal.pricerange, acc, 2, a\"):\n",
    "            value = line.split(\",\")[-1]\n",
    "            if \"-\" not in value:\n",
    "                goal_pricerange_accuracy = float(value)\n",
    "        if line.startswith(\"goal.pricerange, l2, 2, a\"):\n",
    "            value = line.split(\",\")[-1]\n",
    "            if \"-\" not in value:\n",
    "                goal_pricerange_l2 = float(value)\n",
    "        if line.startswith(\"goal.area, acc, 2, a\"):\n",
    "            value = line.split(\",\")[-1]\n",
    "            if \"-\" not in value:\n",
    "                goal_area_accuracy = float(value)\n",
    "        if line.startswith(\"goal.area, l2, 2, a\"):\n",
    "            value = line.split(\",\")[-1]\n",
    "            if \"-\" not in value:\n",
    "                goal_area_l2 = float(value)\n",
    "        if line.startswith(\"goal.name, acc, 2, a\"):\n",
    "            value = line.split(\",\")[-1]\n",
    "            if \"-\" not in value:\n",
    "                goal_name_accuracy = float(value)\n",
    "        if line.startswith(\"goal.name, l2, 2, a\"):\n",
    "            value = line.split(\",\")[-1]\n",
    "            if \"-\" not in value:\n",
    "                goal_name_l2 = float(value)\n",
    "        if line.startswith(\"goal.food, acc, 2, a\"):\n",
    "            value = line.split(\",\")[-1]\n",
    "            if \"-\" not in value:\n",
    "                goal_food_accuracy = float(value)\n",
    "        if line.startswith(\"goal.food, l2, 2, a\"):\n",
    "            value = line.split(\",\")[-1]\n",
    "            if \"-\" not in value:\n",
    "                goal_food_l2 = float(value)\n",
    "        if line.startswith(\"goal.joint, acc, 2, a\"):\n",
    "            value = line.split(\",\")[-1]\n",
    "            if \"-\" not in value:\n",
    "                goal_accuracy = float(value)\n",
    "        if line.startswith(\"goal.joint, l2, 2, a\"):\n",
    "            value = line.split(\",\")[-1]\n",
    "            if \"-\" not in value:\n",
    "                goal_l2 = float(value)\n",
    "        if line.startswith(\"requested.all, acc, 2, a\"):\n",
    "            value = line.split(\",\")[-1]\n",
    "            if \"-\" not in value:\n",
    "                requested_accuracy = float(value)\n",
    "        if line.startswith(\"requested.all, l2, 2, a\"):\n",
    "            value = line.split(\",\")[-1]\n",
    "            if \"-\" not in value:\n",
    "                requested_l2 = float(value)\n",
    "        if line.startswith(\"method, acc, 2, a\"):\n",
    "            value = line.split(\",\")[-1]\n",
    "            if \"-\" not in value:\n",
    "                method_accuracy = float(value)\n",
    "        if line.startswith(\"method, l2, 2, a\"):\n",
    "            value = line.split(\",\")[-1]\n",
    "            if \"-\" not in value:\n",
    "                method_l2 = float(value)\n",
    "    \n",
    "    scores_dict = {}\n",
    "    scores_dict[\"goal_pricerange_accuracy\"] = goal_pricerange_accuracy\n",
    "    scores_dict[\"goal_pricerange_l2\"] = goal_pricerange_l2\n",
    "    scores_dict[\"goal_area_accuracy\"] = goal_area_accuracy\n",
    "    scores_dict[\"goal_area_l2\"] = goal_area_l2\n",
    "    scores_dict[\"goal_name_accuracy\"] = goal_name_accuracy\n",
    "    scores_dict[\"goal_name_l2\"] = goal_name_l2\n",
    "    scores_dict[\"goal_food_accuracy\"] = goal_food_accuracy\n",
    "    scores_dict[\"goal_food_l2\"] = goal_food_l2\n",
    "    scores_dict[\"goal_accuracy\"] = goal_accuracy\n",
    "    scores_dict[\"goal_l2\"] = goal_l2\n",
    "    scores_dict[\"requested_accuracy\"] = requested_accuracy\n",
    "    scores_dict[\"requested_l2\"] = requested_l2\n",
    "    scores_dict[\"method_accuracy\"] = method_accuracy\n",
    "    scores_dict[\"method_l2\"] = method_l2\n",
    "    \n",
    "    return scores_dict\n",
    "\n",
    "def retrieve_gold_GoalFood(raw_Y, ontology, device):\n",
    "    ontology_informable_food = ontology[\"informable\"][\"food\"]\n",
    "    raw_goal_food = raw_Y[\"goal\"][\"food\"]\n",
    "    goal_food = 0\n",
    "    if raw_goal_food != None:\n",
    "        if raw_goal_food == \"dontcare\":\n",
    "            goal_food = 1\n",
    "        else:    \n",
    "            goal_food = ontology_informable_food.index(raw_goal_food) + 2\n",
    "    return torch.tensor([goal_food], dtype = torch.long, device = device)\n",
    "\n",
    "def retrieve_output_GoalFood(output_tensor, ontology):\n",
    "    ontology_informable_food = ontology[\"informable\"][\"food\"]\n",
    "    output_tensor = output_tensor.view(-1)\n",
    "    output_tensor = torch.exp(output_tensor)\n",
    "    goal_food_dict = {}\n",
    "    \n",
    "    index = torch.argmax(output_tensor).item()\n",
    "    goal_food_dict[\"dontcare\"] = output_tensor[1].item() \n",
    "    for index in range(len(output_tensor) - 2):\n",
    "        goal_food_dict[ontology_informable_food[index]] = output_tensor[index + 2].item()\n",
    "    return goal_food_dict\n",
    "\n",
    "def retrieve_gold_GoalPricerange(raw_Y, ontology, device):\n",
    "    ontology_informable_pricerange = ontology[\"informable\"][\"pricerange\"]\n",
    "    raw_goal_pricerange = raw_Y[\"goal\"][\"pricerange\"]\n",
    "    goal_pricerange = 0\n",
    "    if raw_goal_pricerange != None:\n",
    "        if raw_goal_pricerange == \"dontcare\":\n",
    "            goal_pricerange = 1\n",
    "        else:    \n",
    "            goal_pricerange = ontology_informable_pricerange.index(raw_goal_pricerange) + 2\n",
    "    return torch.tensor([goal_pricerange], dtype = torch.long, device = device)\n",
    "\n",
    "def retrieve_output_GoalPricerange(output_tensor, ontology):\n",
    "    ontology_informable_pricerange = ontology[\"informable\"][\"pricerange\"]\n",
    "    output_tensor = output_tensor.view(-1)\n",
    "    output_tensor = torch.exp(output_tensor)\n",
    "    goal_pricerange_dict = {}\n",
    "    \n",
    "    index = torch.argmax(output_tensor).item()\n",
    "    goal_pricerange_dict[\"dontcare\"] = output_tensor[1].item()\n",
    "    for index in range(len(output_tensor) - 2):     \n",
    "        goal_pricerange_dict[ontology_informable_pricerange[index]] = output_tensor[index + 2].item()\n",
    "    return goal_pricerange_dict\n",
    "\n",
    "def retrieve_gold_GoalName(raw_Y, ontology, device):\n",
    "    ontology_informable_name = ontology[\"informable\"][\"name\"]\n",
    "    raw_goal_name = raw_Y[\"goal\"][\"name\"]\n",
    "    goal_name = 0\n",
    "    if raw_goal_name != None:\n",
    "        if raw_goal_name == \"dontcare\":\n",
    "            goal_name = 1\n",
    "        else:    \n",
    "            goal_name = ontology_informable_name.index(raw_goal_name) + 2\n",
    "    return torch.tensor([goal_name], dtype = torch.long, device = device)\n",
    "\n",
    "def retrieve_output_GoalName(output_tensor, ontology):\n",
    "    ontology_informable_name = ontology[\"informable\"][\"name\"]\n",
    "    output_tensor = output_tensor.view(-1)\n",
    "    output_tensor = torch.exp(output_tensor)\n",
    "    goal_name_dict = {}\n",
    "    \n",
    "    index = torch.argmax(output_tensor).item()\n",
    "    goal_name_dict[\"dontcare\"] = output_tensor[1].item()\n",
    "    for index in range(len(output_tensor) - 2):\n",
    "        goal_name_dict[ontology_informable_name[index]] = output_tensor[index + 2].item()\n",
    "        \n",
    "    return goal_name_dict\n",
    "\n",
    "def retrieve_gold_GoalArea(raw_Y, ontology, device):\n",
    "    ontology_informable_area = ontology[\"informable\"][\"area\"]\n",
    "    raw_goal_area = raw_Y[\"goal\"][\"area\"]\n",
    "    goal_area = 0\n",
    "    if raw_goal_area != None:\n",
    "        if raw_goal_area == \"dontcare\":\n",
    "            goal_area = 1\n",
    "        else:    \n",
    "            goal_area = ontology_informable_area.index(raw_goal_area) + 2\n",
    "    return torch.tensor([goal_area], dtype = torch.long, device = device)\n",
    "\n",
    "def retrieve_output_GoalArea(output_tensor, ontology):\n",
    "    ontology_informable_area = ontology[\"informable\"][\"area\"]\n",
    "    output_tensor = output_tensor.view(-1)\n",
    "    output_tensor = torch.exp(output_tensor)\n",
    "    goal_area_dict = {}\n",
    "    \n",
    "    index = torch.argmax(output_tensor).item()\n",
    "    goal_area_dict[\"dontcare\"] = output_tensor[1].item()\n",
    "    for index in range(len(output_tensor) - 2):\n",
    "        goal_area_dict[ontology_informable_area[index]] = output_tensor[index + 2].item()\n",
    "        \n",
    "    return goal_area_dict\n",
    "\n",
    "def retrieve_gold_Method(raw_Y, ontology, device):\n",
    "    ontology_method = ontology[\"method\"]\n",
    "    raw_gold_method = raw_Y[\"method\"]\n",
    "    gold_method = ontology_method.index(raw_gold_method)\n",
    "    return torch.tensor([gold_method], dtype = torch.long, device = device)\n",
    "\n",
    "def retrieve_output_Method(output_tensor, ontology):\n",
    "    ontology_method = ontology[\"method\"]\n",
    "    output_tensor = output_tensor.view(-1)\n",
    "    output_tensor = torch.exp(output_tensor)\n",
    "    method_dict = {}\n",
    "    \n",
    "    for index in range(len(output_tensor)):\n",
    "        method_dict[ontology_method[index]] = output_tensor[index].item()\n",
    "    \n",
    "    return method_dict\n",
    "\n",
    "def retrieve_gold_Requested(raw_Y, ontology, device):\n",
    "    ontology_requestable = ontology[\"requestable\"]\n",
    "    raw_gold_requested = raw_Y[\"requested\"]\n",
    "    gold_requested = np.zeros(len(ontology_requestable), dtype = float)\n",
    "    if len(raw_gold_requested) != 0:\n",
    "        for requested in raw_gold_requested:\n",
    "            gold_requested[ontology_requestable.index(requested)] = 1.0\n",
    "    return torch.tensor([gold_requested], dtype = torch.float, device = device)\n",
    "\n",
    "def retrieve_output_Requested(output_tensor, ontology):\n",
    "    ontology_requestable = ontology[\"requestable\"]\n",
    "    output_tensor = output_tensor.view(-1)\n",
    "    requested_dict = {}\n",
    "    for index in range(len(output_tensor)):\n",
    "        probability_value = output_tensor[index].item()\n",
    "        if np.greater_equal(probability_value, 0.5):\n",
    "            requested_dict[ontology_requestable[index]] = probability_value\n",
    "    return requested_dict"
   ]
  },
  {
   "cell_type": "markdown",
   "metadata": {},
   "source": [
    "### Create vocabularies"
   ]
  },
  {
   "cell_type": "code",
   "execution_count": 7,
   "metadata": {},
   "outputs": [
    {
     "name": "stderr",
     "output_type": "stream",
     "text": [
      "INFO:root:+--------------------------------+\n",
      "INFO:root:|          Vocabulary            |\n",
      "INFO:root:+--------------------------------+\n",
      "INFO:root:Creating token_to_index, index_to_token and token_to_count dictionaries\n"
     ]
    },
    {
     "data": {
      "application/vnd.jupyter.widget-view+json": {
       "model_id": "084664f5d9ae40a784ed75ecffea626f",
       "version_major": 2,
       "version_minor": 0
      },
      "text/plain": [
       "HBox(children=(IntProgress(value=0, max=3224), HTML(value='')))"
      ]
     },
     "metadata": {},
     "output_type": "display_data"
    },
    {
     "name": "stdout",
     "output_type": "stream",
     "text": [
      "\n"
     ]
    }
   ],
   "source": [
    "logging.info(\"+--------------------------------+\")\n",
    "logging.info(\"|          Vocabulary            |\")\n",
    "logging.info(\"+--------------------------------+\")\n",
    "logging.info(\"Creating token_to_index, index_to_token and token_to_count dictionaries\")\n",
    "\n",
    "token_to_index = {\"<unk>\": 0}\n",
    "index_to_token = {0: \"<unk>\"}\n",
    "token_to_count = {\"<unk>\": 1}\n",
    "\n",
    "for raw_train_dialog in tqdm_notebook(raw_X_train):\n",
    "    \n",
    "    for raw_train_turn in raw_train_dialog[\"turns\"]:\n",
    "        \n",
    "        tokens_scores = raw_train_turn[\"system\"] + raw_train_turn[\"user\"]\n",
    "        \n",
    "        for token_score in tokens_scores:\n",
    "            token = token_score[0]\n",
    "            if token not in token_to_index:\n",
    "                token_to_index[token] = len(token_to_index)\n",
    "                index_to_token[len(token_to_index)] = token\n",
    "                token_to_count[token] = 1\n",
    "            else:\n",
    "                token_to_count[token] += 1\n",
    "                \n",
    "assert len(token_to_index) == len(index_to_token)\n",
    "assert len(token_to_index) == len(token_to_count)"
   ]
  },
  {
   "cell_type": "markdown",
   "metadata": {},
   "source": [
    "### Execution configuration"
   ]
  },
  {
   "cell_type": "code",
   "execution_count": 8,
   "metadata": {},
   "outputs": [
    {
     "name": "stderr",
     "output_type": "stream",
     "text": [
      "INFO:root:+--------------------------------+\n",
      "INFO:root:|         Configuration          |\n",
      "INFO:root:+--------------------------------+\n",
      "INFO:root:VOCABULARY_SIZE:\t\t\t1149\n",
      "INFO:root:GOAL_FOOD_DIM:\t\t\t93\n",
      "INFO:root:GOAL_PRICERANGE_DIM:\t\t\t5\n",
      "INFO:root:GOAL_NAME_DIM:\t\t\t115\n",
      "INFO:root:GOAL_AREA_DIM:\t\t\t7\n",
      "INFO:root:METHOD_DIM:\t\t\t\t5\n",
      "INFO:root:REQUESTED_DIM:\t\t\t8\n",
      "INFO:root:EMBEDDING_DIM:\t\t\t170\n",
      "INFO:root:ALTERED_EMBEDDING_DIM:\t\t300\n",
      "INFO:root:HIDDEN_DIM:\t\t\t\t100\n",
      "INFO:root:NUM_EPOCHS:\t\t\t\t100\n",
      "INFO:root:BATCH_SIZE:\t\t\t\t10\n",
      "INFO:root:PREDICTOR_DIM:\t\t\t2\n",
      "INFO:root:PREDICTOR_LOSS_FUNCTION:\t\tCrossEntropyLoss()\n",
      "INFO:root:GOAL_LOSS_FUNCTION:\t\t\tCrossEntropyLoss()\n",
      "INFO:root:METHOD_LOSS_FUNCTION:\t\t\tCrossEntropyLoss()\n",
      "INFO:root:REQUESTED_LOSS_FUNCTION:\t\tBCELoss()\n"
     ]
    }
   ],
   "source": [
    "logging.info(\"+--------------------------------+\")\n",
    "logging.info(\"|         Configuration          |\")\n",
    "logging.info(\"+--------------------------------+\")\n",
    "\n",
    "VOCABULARY_SIZE = len(token_to_index)\n",
    "logging.info(\"VOCABULARY_SIZE:\\t\\t\\t{}\".format(VOCABULARY_SIZE))\n",
    "\n",
    "# NOTE: +2 because of null and dontcare\n",
    "GOAL_FOOD_DIM = len(ontology[\"informable\"][\"food\"]) + 2 \n",
    "GOAL_PRICERANGE_DIM = len(ontology[\"informable\"][\"pricerange\"]) + 2\n",
    "GOAL_NAME_DIM = len(ontology[\"informable\"][\"name\"]) + 2\n",
    "GOAL_AREA_DIM = len(ontology[\"informable\"][\"area\"]) + 2\n",
    "METHOD_DIM = len(ontology[\"method\"])\n",
    "REQUESTED_DIM = len(ontology[\"requestable\"])\n",
    "EMBEDDING_DIM = 170\n",
    "ALTERED_EMBEDDING_DIM = 300\n",
    "HIDDEN_DIM = 100\n",
    "NUM_EPOCHS = 100\n",
    "BATCH_SIZE = 10\n",
    "PREDICTOR_DIM = 2\n",
    "PREDICTOR_LOSS_FUNCTION = nn.CrossEntropyLoss()\n",
    "GOAL_LOSS_FUNCTION = nn.CrossEntropyLoss()\n",
    "METHOD_LOSS_FUNCTION = nn.CrossEntropyLoss()\n",
    "REQUESTED_LOSS_FUNCTION = nn.BCELoss()\n",
    "logging.info(\"GOAL_FOOD_DIM:\\t\\t\\t{}\".format(GOAL_FOOD_DIM))\n",
    "logging.info(\"GOAL_PRICERANGE_DIM:\\t\\t\\t{}\".format(GOAL_PRICERANGE_DIM))\n",
    "logging.info(\"GOAL_NAME_DIM:\\t\\t\\t{}\".format(GOAL_NAME_DIM))\n",
    "logging.info(\"GOAL_AREA_DIM:\\t\\t\\t{}\".format(GOAL_AREA_DIM))\n",
    "logging.info(\"METHOD_DIM:\\t\\t\\t\\t{}\".format(METHOD_DIM))\n",
    "logging.info(\"REQUESTED_DIM:\\t\\t\\t{}\".format(REQUESTED_DIM))\n",
    "logging.info(\"EMBEDDING_DIM:\\t\\t\\t{}\".format(EMBEDDING_DIM))\n",
    "logging.info(\"ALTERED_EMBEDDING_DIM:\\t\\t{}\".format(ALTERED_EMBEDDING_DIM))\n",
    "logging.info(\"HIDDEN_DIM:\\t\\t\\t\\t{}\".format(HIDDEN_DIM))\n",
    "logging.info(\"NUM_EPOCHS:\\t\\t\\t\\t{}\".format(NUM_EPOCHS))\n",
    "logging.info(\"BATCH_SIZE:\\t\\t\\t\\t{}\".format(BATCH_SIZE))\n",
    "logging.info(\"PREDICTOR_DIM:\\t\\t\\t{}\".format(PREDICTOR_DIM))\n",
    "logging.info(\"PREDICTOR_LOSS_FUNCTION:\\t\\t{}\".format(PREDICTOR_LOSS_FUNCTION))\n",
    "logging.info(\"GOAL_LOSS_FUNCTION:\\t\\t\\t{}\".format(GOAL_LOSS_FUNCTION))\n",
    "logging.info(\"METHOD_LOSS_FUNCTION:\\t\\t\\t{}\".format(METHOD_LOSS_FUNCTION))\n",
    "logging.info(\"REQUESTED_LOSS_FUNCTION:\\t\\t{}\".format(REQUESTED_LOSS_FUNCTION))"
   ]
  },
  {
   "cell_type": "markdown",
   "metadata": {},
   "source": [
    "### Goal Pricerange Model"
   ]
  },
  {
   "cell_type": "code",
   "execution_count": 9,
   "metadata": {},
   "outputs": [],
   "source": [
    "class GoalPricerangeModel(nn.Module):\n",
    "    \n",
    "    def __init__(self,\n",
    "                 vocabulary_size,\n",
    "                 embedding_dim,\n",
    "                 altered_embedding_dim,\n",
    "                 hidden_dim,\n",
    "                 goal_pricerange_dim,\n",
    "                 device):\n",
    "        \n",
    "        super(GoalPricerangeModel, self).__init__()\n",
    "        \n",
    "        self.hidden_dim = hidden_dim\n",
    "        self.goal_pricerange_dim = goal_pricerange_dim\n",
    "        self.device = device\n",
    "        \n",
    "        self.embeddings = nn.Embedding(num_embeddings = vocabulary_size,\n",
    "                                       embedding_dim = embedding_dim)\n",
    "        \n",
    "        self.altered_embeddings = nn.Linear(in_features = (embedding_dim + 1),\n",
    "                                            out_features = altered_embedding_dim)\n",
    "        \n",
    "        self.lstm = nn.LSTM(input_size = altered_embedding_dim,\n",
    "                            hidden_size = hidden_dim)\n",
    "        \n",
    "        self.goal_pricerange_classifier = nn.Linear(in_features = hidden_dim,\n",
    "                                                    out_features = goal_pricerange_dim)\n",
    "        \n",
    "        self.hidden = self.init_hidden()\n",
    "    \n",
    "    def init_hidden(self):\n",
    "        \n",
    "        return (torch.zeros(1, 1, self.hidden_dim, device = self.device),\n",
    "                torch.zeros(1, 1, self.hidden_dim, device = self.device))\n",
    "        \n",
    "    def forward(self, indices, scores, predictor_mode = False):\n",
    "    \n",
    "        embeddings = self.embeddings(indices)\n",
    "        \n",
    "        embeddings_concat_score = torch.cat((embeddings, scores.unsqueeze(dim = 1)), dim = 1) \n",
    "        \n",
    "        altered_embeddings = F.relu(self.altered_embeddings(embeddings_concat_score))\n",
    "        \n",
    "        lstm_out, self.hidden = self.lstm(altered_embeddings.view(len(indices), 1, -1), self.hidden)\n",
    "        \n",
    "        if predictor_mode:\n",
    "            return lstm_out\n",
    "        else:\n",
    "            goal_pricerange = F.log_softmax(self.goal_pricerange_classifier(lstm_out).view(-1, self.goal_pricerange_dim), dim = 1) \n",
    "            return goal_pricerange\n",
    "\n",
    "model_GoalPricerange = GoalPricerangeModel(vocabulary_size = VOCABULARY_SIZE,\n",
    "                                           embedding_dim = EMBEDDING_DIM,\n",
    "                                           altered_embedding_dim = ALTERED_EMBEDDING_DIM,\n",
    "                                           hidden_dim = HIDDEN_DIM,\n",
    "                                           goal_pricerange_dim = GOAL_PRICERANGE_DIM,\n",
    "                                           device = DEVICE)\n",
    "\n",
    "model_GoalPricerange = model_GoalPricerange.to(DEVICE)\n",
    "\n",
    "optimizer_GoalPricerangeModel = optim.Adam(model_GoalPricerange.parameters(), lr = 1e-3, amsgrad = True) "
   ]
  },
  {
   "cell_type": "markdown",
   "metadata": {},
   "source": [
    "### Goal Area Model"
   ]
  },
  {
   "cell_type": "code",
   "execution_count": 10,
   "metadata": {},
   "outputs": [],
   "source": [
    "class GoalAreaModel(nn.Module):\n",
    "    \n",
    "    def __init__(self,\n",
    "                 vocabulary_size,\n",
    "                 embedding_dim,\n",
    "                 altered_embedding_dim,\n",
    "                 hidden_dim,\n",
    "                 goal_area_dim,\n",
    "                 device):\n",
    "        \n",
    "        super(GoalAreaModel, self).__init__()\n",
    "        \n",
    "        self.hidden_dim = hidden_dim\n",
    "        self.goal_area_dim = goal_area_dim\n",
    "        self.device = device\n",
    "        \n",
    "        self.embeddings = nn.Embedding(num_embeddings = vocabulary_size,\n",
    "                                       embedding_dim = embedding_dim)\n",
    "        \n",
    "        self.altered_embeddings = nn.Linear(in_features = (embedding_dim + 1),\n",
    "                                            out_features = altered_embedding_dim)\n",
    "        \n",
    "        self.lstm = nn.LSTM(input_size = altered_embedding_dim,\n",
    "                            hidden_size = hidden_dim)\n",
    "        \n",
    "        self.goal_area_classifier = nn.Linear(in_features = hidden_dim,\n",
    "                                              out_features = goal_area_dim)\n",
    "        \n",
    "        self.hidden = self.init_hidden()\n",
    "    \n",
    "    def init_hidden(self):\n",
    "        \n",
    "        return (torch.zeros(1, 1, self.hidden_dim, device = self.device),\n",
    "                torch.zeros(1, 1, self.hidden_dim, device = self.device))\n",
    "        \n",
    "    def forward(self, indices, scores, predictor_mode = False):\n",
    "    \n",
    "        embeddings = self.embeddings(indices)\n",
    "        \n",
    "        embeddings_concat_score = torch.cat((embeddings, scores.unsqueeze(dim = 1)), dim = 1) \n",
    "        \n",
    "        altered_embeddings = F.relu(self.altered_embeddings(embeddings_concat_score))\n",
    "        \n",
    "        lstm_out, self.hidden = self.lstm(altered_embeddings.view(len(indices), 1, -1), self.hidden)\n",
    "        \n",
    "        if predictor_mode:\n",
    "            return lstm_out\n",
    "        else:\n",
    "            goal_area = F.log_softmax(self.goal_area_classifier(lstm_out).view(-1, self.goal_area_dim), dim = 1)\n",
    "            return goal_area\n",
    "\n",
    "model_GoalArea = GoalAreaModel(vocabulary_size = VOCABULARY_SIZE,\n",
    "                               embedding_dim = EMBEDDING_DIM,\n",
    "                               altered_embedding_dim = ALTERED_EMBEDDING_DIM,\n",
    "                               hidden_dim = HIDDEN_DIM,\n",
    "                               goal_area_dim = GOAL_AREA_DIM,\n",
    "                               device = DEVICE)\n",
    "\n",
    "model_GoalArea = model_GoalArea.to(DEVICE)\n",
    "\n",
    "optimizer_GoalAreaModel = optim.Adam(model_GoalArea.parameters(), lr = 1e-3, amsgrad = True) "
   ]
  },
  {
   "cell_type": "markdown",
   "metadata": {},
   "source": [
    "### Goal Name Model"
   ]
  },
  {
   "cell_type": "code",
   "execution_count": 11,
   "metadata": {},
   "outputs": [],
   "source": [
    "class GoalNameModel(nn.Module):\n",
    "    \n",
    "    def __init__(self,\n",
    "                 vocabulary_size,\n",
    "                 embedding_dim,\n",
    "                 altered_embedding_dim,\n",
    "                 hidden_dim,\n",
    "                 goal_name_dim,\n",
    "                 device):\n",
    "        \n",
    "        super(GoalNameModel, self).__init__()\n",
    "        \n",
    "        self.hidden_dim = hidden_dim\n",
    "        self.goal_name_dim = goal_name_dim\n",
    "        self.device = device\n",
    "        \n",
    "        self.embeddings = nn.Embedding(num_embeddings = vocabulary_size,\n",
    "                                       embedding_dim = embedding_dim)\n",
    "        \n",
    "        self.altered_embeddings = nn.Linear(in_features = (embedding_dim + 1),\n",
    "                                            out_features = altered_embedding_dim)\n",
    "        \n",
    "        self.lstm = nn.LSTM(input_size = altered_embedding_dim,\n",
    "                            hidden_size = hidden_dim)\n",
    "        \n",
    "        self.goal_name_classifier = nn.Linear(in_features = hidden_dim,\n",
    "                                              out_features = goal_name_dim)\n",
    "        \n",
    "        self.hidden = self.init_hidden()\n",
    "    \n",
    "    def init_hidden(self):\n",
    "        \n",
    "        return (torch.zeros(1, 1, self.hidden_dim, device = self.device),\n",
    "                torch.zeros(1, 1, self.hidden_dim, device = self.device))\n",
    "        \n",
    "    def forward(self, indices, scores, predictor_mode = False):\n",
    "    \n",
    "        embeddings = self.embeddings(indices)\n",
    "        \n",
    "        embeddings_concat_score = torch.cat((embeddings, scores.unsqueeze(dim = 1)), dim = 1) \n",
    "        \n",
    "        altered_embeddings = F.relu(self.altered_embeddings(embeddings_concat_score))\n",
    "        \n",
    "        lstm_out, self.hidden = self.lstm(altered_embeddings.view(len(indices), 1, -1), self.hidden)\n",
    "        \n",
    "        if predictor_mode:\n",
    "            return lstm_out\n",
    "        else:\n",
    "            goal_name = F.log_softmax(self.goal_name_classifier(lstm_out).view(-1, self.goal_name_dim), dim = 1)\n",
    "            return goal_name\n",
    "\n",
    "model_GoalName = GoalNameModel(vocabulary_size = VOCABULARY_SIZE,\n",
    "                               embedding_dim = EMBEDDING_DIM,\n",
    "                               altered_embedding_dim = ALTERED_EMBEDDING_DIM,\n",
    "                               hidden_dim = HIDDEN_DIM,\n",
    "                               goal_name_dim = GOAL_NAME_DIM,\n",
    "                               device = DEVICE)\n",
    "\n",
    "model_GoalName = model_GoalName.to(DEVICE)\n",
    "\n",
    "optimizer_GoalNameModel = optim.Adam(model_GoalName.parameters(), lr = 1e-3, amsgrad = True) "
   ]
  },
  {
   "cell_type": "markdown",
   "metadata": {},
   "source": [
    "### Goal Food Model"
   ]
  },
  {
   "cell_type": "code",
   "execution_count": 12,
   "metadata": {},
   "outputs": [],
   "source": [
    "class GoalFoodModel(nn.Module):\n",
    "    \n",
    "    def __init__(self,\n",
    "                 vocabulary_size,\n",
    "                 embedding_dim,\n",
    "                 altered_embedding_dim,\n",
    "                 hidden_dim,\n",
    "                 goal_food_dim,\n",
    "                 device):\n",
    "        \n",
    "        super(GoalFoodModel, self).__init__()\n",
    "        \n",
    "        self.hidden_dim = hidden_dim\n",
    "        self.goal_food_dim = goal_food_dim\n",
    "        self.device = device\n",
    "        \n",
    "        self.embeddings = nn.Embedding(num_embeddings = vocabulary_size,\n",
    "                                       embedding_dim = embedding_dim)\n",
    "        \n",
    "        self.altered_embeddings = nn.Linear(in_features = (embedding_dim + 1),\n",
    "                                            out_features = altered_embedding_dim)\n",
    "        \n",
    "        self.lstm = nn.LSTM(input_size = altered_embedding_dim,\n",
    "                            hidden_size = hidden_dim)\n",
    "        \n",
    "        self.goal_food_classifier = nn.Linear(in_features = hidden_dim,\n",
    "                                              out_features = goal_food_dim)\n",
    "        \n",
    "        self.hidden = self.init_hidden()\n",
    "    \n",
    "    def init_hidden(self):\n",
    "        \n",
    "        return (torch.zeros(1, 1, self.hidden_dim, device = self.device),\n",
    "                torch.zeros(1, 1, self.hidden_dim, device = self.device))\n",
    "        \n",
    "    def forward(self, indices, scores, predictor_mode = False):\n",
    "    \n",
    "        embeddings = self.embeddings(indices)\n",
    "        \n",
    "        embeddings_concat_score = torch.cat((embeddings, scores.unsqueeze(dim = 1)), dim = 1) \n",
    "        \n",
    "        altered_embeddings = F.relu(self.altered_embeddings(embeddings_concat_score))\n",
    "        \n",
    "        lstm_out, self.hidden = self.lstm(altered_embeddings.view(len(indices), 1, -1), self.hidden)\n",
    "        \n",
    "        if predictor_mode:\n",
    "            return lstm_out\n",
    "        else:\n",
    "            goal_food = F.log_softmax(self.goal_food_classifier(lstm_out).view(-1, self.goal_food_dim), dim = 1)        \n",
    "            return goal_food\n",
    "\n",
    "model_GoalFood = GoalFoodModel(vocabulary_size = VOCABULARY_SIZE,\n",
    "                               embedding_dim = EMBEDDING_DIM,\n",
    "                               altered_embedding_dim = ALTERED_EMBEDDING_DIM,\n",
    "                               hidden_dim = HIDDEN_DIM,\n",
    "                               goal_food_dim = GOAL_FOOD_DIM,\n",
    "                               device = DEVICE)\n",
    "\n",
    "model_GoalFood = model_GoalFood.to(DEVICE)\n",
    "\n",
    "optimizer_GoalFoodModel = optim.Adam(model_GoalFood.parameters(), lr = 1e-3, amsgrad = True) "
   ]
  },
  {
   "cell_type": "markdown",
   "metadata": {},
   "source": [
    "### Requested Model"
   ]
  },
  {
   "cell_type": "code",
   "execution_count": 13,
   "metadata": {},
   "outputs": [],
   "source": [
    "class RequestedModel(nn.Module):\n",
    "    \n",
    "    def __init__(self,\n",
    "                 vocabulary_size,\n",
    "                 embedding_dim,\n",
    "                 altered_embedding_dim,\n",
    "                 hidden_dim,\n",
    "                 requested_dim,\n",
    "                 device):\n",
    "        \n",
    "        super(RequestedModel, self).__init__()\n",
    "        \n",
    "        self.hidden_dim = hidden_dim\n",
    "        self.requested_dim = requested_dim\n",
    "        self.device = device\n",
    "        \n",
    "        self.embeddings = nn.Embedding(num_embeddings = vocabulary_size,\n",
    "                                       embedding_dim = embedding_dim)\n",
    "        \n",
    "        self.altered_embeddings = nn.Linear(in_features = (embedding_dim + 1),\n",
    "                                            out_features = altered_embedding_dim)\n",
    "        \n",
    "        self.lstm = nn.LSTM(input_size = altered_embedding_dim,\n",
    "                            hidden_size = hidden_dim)\n",
    "        \n",
    "        self.requested_classifier = nn.Linear(in_features = hidden_dim,\n",
    "                                              out_features = requested_dim)\n",
    "        \n",
    "        self.hidden = self.init_hidden()\n",
    "    \n",
    "    def init_hidden(self):\n",
    "        \n",
    "        return (torch.zeros(1, 1, self.hidden_dim, device = self.device),\n",
    "                torch.zeros(1, 1, self.hidden_dim, device = self.device))\n",
    "        \n",
    "    def forward(self, indices, scores, predictor_mode = False):\n",
    "    \n",
    "        embeddings = self.embeddings(indices)\n",
    "        \n",
    "        embeddings_concat_score = torch.cat((embeddings, scores.unsqueeze(dim = 1)), dim = 1) \n",
    "        \n",
    "        altered_embeddings = F.relu(self.altered_embeddings(embeddings_concat_score))\n",
    "        \n",
    "        lstm_out, self.hidden = self.lstm(altered_embeddings.view(len(indices), 1, -1), self.hidden)\n",
    "        \n",
    "        if predictor_mode:\n",
    "            return lstm_out\n",
    "        else:\n",
    "            requested = torch.sigmoid(self.requested_classifier(lstm_out).view(-1, self.requested_dim))\n",
    "            return requested\n",
    "\n",
    "model_Requested = RequestedModel(vocabulary_size = VOCABULARY_SIZE,\n",
    "                                 embedding_dim = EMBEDDING_DIM,\n",
    "                                 altered_embedding_dim = ALTERED_EMBEDDING_DIM,\n",
    "                                 hidden_dim = HIDDEN_DIM,\n",
    "                                 requested_dim = REQUESTED_DIM,\n",
    "                                 device = DEVICE)\n",
    "\n",
    "model_Requested = model_Requested.to(DEVICE)\n",
    "\n",
    "optimizer_RequestedModel = optim.Adam(model_Requested.parameters(), lr = 1e-3, amsgrad = True) "
   ]
  },
  {
   "cell_type": "markdown",
   "metadata": {},
   "source": [
    "### Method Model"
   ]
  },
  {
   "cell_type": "code",
   "execution_count": 14,
   "metadata": {},
   "outputs": [],
   "source": [
    "class MethodModel(nn.Module):\n",
    "    \n",
    "    def __init__(self,\n",
    "                 vocabulary_size,\n",
    "                 embedding_dim,\n",
    "                 altered_embedding_dim,\n",
    "                 hidden_dim,\n",
    "                 method_dim,\n",
    "                 device):\n",
    "        \n",
    "        super(MethodModel, self).__init__()\n",
    "        \n",
    "        self.hidden_dim = hidden_dim\n",
    "        self.method_dim = method_dim\n",
    "        self.device = device\n",
    "        \n",
    "        self.embeddings = nn.Embedding(num_embeddings = vocabulary_size,\n",
    "                                       embedding_dim = embedding_dim)\n",
    "        \n",
    "        self.altered_embeddings = nn.Linear(in_features = (embedding_dim + 1),\n",
    "                                            out_features = altered_embedding_dim)\n",
    "        \n",
    "        self.lstm = nn.LSTM(input_size = altered_embedding_dim,\n",
    "                            hidden_size = hidden_dim)\n",
    "        \n",
    "        self.method_classifier = nn.Linear(in_features = hidden_dim,\n",
    "                                           out_features = method_dim)\n",
    "        \n",
    "        self.hidden = self.init_hidden()\n",
    "    \n",
    "    def init_hidden(self):\n",
    "        \n",
    "        return (torch.zeros(1, 1, self.hidden_dim, device = self.device),\n",
    "                torch.zeros(1, 1, self.hidden_dim, device = self.device))\n",
    "        \n",
    "    def forward(self, indices, scores, predictor_mode = False):\n",
    "    \n",
    "        embeddings = self.embeddings(indices)\n",
    "        \n",
    "        embeddings_concat_score = torch.cat((embeddings, scores.unsqueeze(dim = 1)), dim = 1) \n",
    "        \n",
    "        altered_embeddings = F.relu(self.altered_embeddings(embeddings_concat_score))\n",
    "        \n",
    "        lstm_out, self.hidden = self.lstm(altered_embeddings.view(len(indices), 1, -1), self.hidden)\n",
    "        \n",
    "        if predictor_mode:\n",
    "            return lstm_out\n",
    "        else:\n",
    "            method = F.log_softmax(self.method_classifier(lstm_out).view(-1, self.method_dim), dim = 1)\n",
    "            return method\n",
    "\n",
    "model_Method = MethodModel(vocabulary_size = VOCABULARY_SIZE,\n",
    "                           embedding_dim = EMBEDDING_DIM,\n",
    "                           altered_embedding_dim = ALTERED_EMBEDDING_DIM,\n",
    "                           hidden_dim = HIDDEN_DIM,\n",
    "                           method_dim = METHOD_DIM,\n",
    "                           device = DEVICE)\n",
    "\n",
    "model_Method = model_Method.to(DEVICE)\n",
    "\n",
    "optimizer_MethodModel = optim.Adam(model_Method.parameters(), lr = 1e-3, amsgrad = True) "
   ]
  },
  {
   "cell_type": "markdown",
   "metadata": {},
   "source": [
    "### Train Goal Pricerange Model"
   ]
  },
  {
   "cell_type": "code",
   "execution_count": null,
   "metadata": {
    "scrolled": false
   },
   "outputs": [],
   "source": [
    "dev_goal_accuracies = []\n",
    "dev_requested_accuracies = []\n",
    "dev_method_accuracies = []\n",
    "\n",
    "goal_pricerange_early_stopping = EarlyStopping(patience = 4)\n",
    "\n",
    "train_indices_loader = torch.utils.data.DataLoader(np.arange(raw_X_train.shape[0]), batch_size = BATCH_SIZE, shuffle = True)\n",
    "\n",
    "for epoch in range(NUM_EPOCHS):\n",
    "    \n",
    "    logging.info(\"Epoch\\t{}/{}\".format(epoch + 1, NUM_EPOCHS))\n",
    "    \n",
    "    model_GoalPricerange = model_GoalPricerange.train()\n",
    "    \n",
    "    for train_indices in tqdm_notebook(train_indices_loader, total = len(train_indices_loader)):\n",
    "        \n",
    "        optimizer_GoalPricerangeModel.zero_grad()\n",
    "\n",
    "        dialogs_loss = 0\n",
    "    \n",
    "        for raw_X_train_dialog, raw_Y_train_dialog in zip(raw_X_train[train_indices], raw_Y_train[train_indices]):\n",
    "\n",
    "            model_GoalPricerange.hidden = model_GoalPricerange.init_hidden()\n",
    "\n",
    "            for raw_X_train_turn, raw_Y_train_turn in zip(raw_X_train_dialog[\"turns\"], raw_Y_train_dialog[\"turns\"]):\n",
    "\n",
    "                indices, scores = get_index_and_score(raw_X_train_turn, token_to_index, mode = \"train\", device = DEVICE)\n",
    "\n",
    "                goal_priceranges = model_GoalPricerange(indices, scores)\n",
    "\n",
    "                for goal_pricerange in goal_priceranges:\n",
    "\n",
    "                    goal_pricerange = goal_pricerange.unsqueeze(0)\n",
    "\n",
    "                    loss_goal_pricerange = GOAL_LOSS_FUNCTION(goal_pricerange,\n",
    "                                                              retrieve_gold_GoalPricerange(raw_Y_train_turn,\n",
    "                                                                                           ontology = ontology,\n",
    "                                                                                           device = DEVICE))\n",
    "                    dialogs_loss += loss_goal_pricerange\n",
    "\n",
    "        dialogs_loss.backward(retain_graph = False)\n",
    "\n",
    "        optimizer_GoalPricerangeModel.step()\n",
    "        \n",
    "    dev_tracker = make_tracker(model_GoalPricerange,\n",
    "                       model_GoalArea,\n",
    "                       model_GoalName,\n",
    "                       model_GoalFood,\n",
    "                       model_Requested,\n",
    "                       model_Method,\n",
    "                       raw_X_dev, raw_Y_dev, dataset = \"dstc2_dev\", percentage = 1.0)\n",
    "    dev_scores_dict = get_scores(dev_tracker, dataset = \"dstc2_dev\")\n",
    "    \n",
    "    logging.info(\"DEV Goal Pricerange Acc: {}\".format(dev_scores_dict[\"goal_pricerange_accuracy\"]))\n",
    "    \n",
    "    logging.info(\"DEV Acc:\\t\\t{}({})\\t\\t{}({})\\t\\t{}({})\".format(dev_scores_dict[\"goal_accuracy\"],\n",
    "                                                                 np.around(dev_scores_dict[\"goal_accuracy\"], decimals = 2),\n",
    "                                                                 dev_scores_dict[\"requested_accuracy\"],\n",
    "                                                                 np.around(dev_scores_dict[\"requested_accuracy\"], decimals = 2),\n",
    "                                                                 dev_scores_dict[\"method_accuracy\"],\n",
    "                                                                 np.around(dev_scores_dict[\"method_accuracy\"], decimals = 2)))\n",
    "    logging.info(\"DEV L2:\\t\\t{}({})\\t\\t{}({})\\t\\t{}({})\".format(dev_scores_dict[\"goal_l2\"],\n",
    "                                                                np.around(dev_scores_dict[\"goal_l2\"], decimals = 2),\n",
    "                                                                dev_scores_dict[\"requested_l2\"],\n",
    "                                                                np.around(dev_scores_dict[\"requested_l2\"], decimals = 2),\n",
    "                                                                dev_scores_dict[\"method_l2\"],\n",
    "                                                                np.around(dev_scores_dict[\"method_l2\"], decimals = 2)))\n",
    "\n",
    "    goal_pricerange_early_stopping.on_epoch_end(epoch = (epoch + 1), current_value = (dev_scores_dict[\"goal_pricerange_accuracy\"]))\n",
    "    \n",
    "    if goal_pricerange_early_stopping.wait == 0:\n",
    "        torch.save(model_GoalPricerange.state_dict(), \"model_PANFMR_incremental_GoalPricerange.pt\")\n",
    "    \n",
    "    if goal_pricerange_early_stopping.stop_training:\n",
    "        break"
   ]
  },
  {
   "cell_type": "markdown",
   "metadata": {},
   "source": [
    "### Load Goal Pricerange Model"
   ]
  },
  {
   "cell_type": "code",
   "execution_count": null,
   "metadata": {},
   "outputs": [],
   "source": [
    "model_GoalPricerange = GoalPricerangeModel(vocabulary_size = VOCABULARY_SIZE,\n",
    "                                           embedding_dim = EMBEDDING_DIM,\n",
    "                                           altered_embedding_dim = ALTERED_EMBEDDING_DIM,\n",
    "                                           hidden_dim = HIDDEN_DIM,\n",
    "                                           goal_pricerange_dim = GOAL_PRICERANGE_DIM,\n",
    "                                           device = DEVICE)\n",
    "\n",
    "model_GoalPricerange = model_GoalPricerange.to(DEVICE)\n",
    "model_GoalPricerange.load_state_dict(torch.load(\"model_PANFMR_incremental_GoalPricerange.pt\"))\n",
    "model_GoalPricerange.eval()"
   ]
  },
  {
   "cell_type": "markdown",
   "metadata": {},
   "source": [
    "### Print scores"
   ]
  },
  {
   "cell_type": "code",
   "execution_count": null,
   "metadata": {},
   "outputs": [],
   "source": [
    "dev_tracker = make_tracker(model_GoalPricerange,\n",
    "                           model_GoalArea,\n",
    "                           model_GoalName,\n",
    "                           model_GoalFood,\n",
    "                           model_Requested,\n",
    "                           model_Method,\n",
    "                           raw_X_dev, raw_Y_dev, dataset = \"dstc2_dev\", percentage = 1.0)\n",
    "get_scores(dev_tracker, dataset = \"dstc2_dev\")"
   ]
  },
  {
   "cell_type": "code",
   "execution_count": null,
   "metadata": {},
   "outputs": [],
   "source": [
    "test_tracker = make_tracker(model_GoalPricerange,\n",
    "                            model_GoalArea,\n",
    "                            model_GoalName,\n",
    "                            model_GoalFood,\n",
    "                            model_Requested,\n",
    "                            model_Method,\n",
    "                            raw_X_test, raw_Y_test, dataset = \"dstc2_test\", percentage = 1.0)\n",
    "get_scores(test_tracker, dataset = \"dstc2_test\")"
   ]
  },
  {
   "cell_type": "markdown",
   "metadata": {},
   "source": [
    "### Train Goal Area Model"
   ]
  },
  {
   "cell_type": "code",
   "execution_count": null,
   "metadata": {
    "scrolled": false
   },
   "outputs": [],
   "source": [
    "dev_goal_accuracies = []\n",
    "dev_requested_accuracies = []\n",
    "dev_method_accuracies = []\n",
    "\n",
    "goal_area_early_stopping = EarlyStopping(patience = 4)\n",
    "\n",
    "train_indices_loader = torch.utils.data.DataLoader(np.arange(raw_X_train.shape[0]), batch_size = BATCH_SIZE, shuffle = True)\n",
    "\n",
    "for epoch in range(NUM_EPOCHS):\n",
    "    \n",
    "    logging.info(\"Epoch\\t{}/{}\".format(epoch + 1, NUM_EPOCHS))\n",
    "    \n",
    "    model_GoalArea = model_GoalArea.train()\n",
    "    \n",
    "    for train_indices in tqdm_notebook(train_indices_loader, total = len(train_indices_loader)):\n",
    "        \n",
    "        optimizer_GoalAreaModel.zero_grad()\n",
    "\n",
    "        dialogs_loss = 0\n",
    "    \n",
    "        for raw_X_train_dialog, raw_Y_train_dialog in zip(raw_X_train[train_indices], raw_Y_train[train_indices]):\n",
    "\n",
    "            model_GoalArea.hidden = model_GoalArea.init_hidden()\n",
    "\n",
    "            for raw_X_train_turn, raw_Y_train_turn in zip(raw_X_train_dialog[\"turns\"], raw_Y_train_dialog[\"turns\"]):\n",
    "\n",
    "                indices, scores = get_index_and_score(raw_X_train_turn, token_to_index, mode = \"train\", device = DEVICE)\n",
    "\n",
    "                goal_areas = model_GoalArea(indices, scores)\n",
    "\n",
    "                for goal_area in goal_areas:\n",
    "\n",
    "                    goal_area = goal_area.unsqueeze(0)\n",
    "\n",
    "                    loss_goal_area = GOAL_LOSS_FUNCTION(goal_area,\n",
    "                                                        retrieve_gold_GoalArea(raw_Y_train_turn,\n",
    "                                                                               ontology = ontology,\n",
    "                                                                               device = DEVICE))\n",
    "                    dialogs_loss += loss_goal_area\n",
    "\n",
    "        dialogs_loss.backward(retain_graph = False)\n",
    "\n",
    "        optimizer_GoalAreaModel.step()\n",
    "    \n",
    "    dev_tracker = make_tracker(model_GoalPricerange,\n",
    "                   model_GoalArea,\n",
    "                   model_GoalName,\n",
    "                   model_GoalFood,\n",
    "                   model_Requested,\n",
    "                   model_Method,\n",
    "                   raw_X_dev, raw_Y_dev, dataset = \"dstc2_dev\", percentage = 1.0)\n",
    "    dev_scores_dict = get_scores(dev_tracker, dataset = \"dstc2_dev\")\n",
    "\n",
    "    logging.info(\"DEV Goal Area Acc: {}\".format(dev_scores_dict[\"goal_area_accuracy\"]))\n",
    "\n",
    "    logging.info(\"DEV Acc:\\t\\t{}({})\\t\\t{}({})\\t\\t{}({})\".format(dev_scores_dict[\"goal_accuracy\"],\n",
    "                                                                 np.around(dev_scores_dict[\"goal_accuracy\"], decimals = 2),\n",
    "                                                                 dev_scores_dict[\"requested_accuracy\"],\n",
    "                                                                 np.around(dev_scores_dict[\"requested_accuracy\"], decimals = 2),\n",
    "                                                                 dev_scores_dict[\"method_accuracy\"],\n",
    "                                                                 np.around(dev_scores_dict[\"method_accuracy\"], decimals = 2)))\n",
    "    logging.info(\"DEV L2:\\t\\t{}({})\\t\\t{}({})\\t\\t{}({})\".format(dev_scores_dict[\"goal_l2\"],\n",
    "                                                                np.around(dev_scores_dict[\"goal_l2\"], decimals = 2),\n",
    "                                                                dev_scores_dict[\"requested_l2\"],\n",
    "                                                                np.around(dev_scores_dict[\"requested_l2\"], decimals = 2),\n",
    "                                                                dev_scores_dict[\"method_l2\"],\n",
    "                                                                np.around(dev_scores_dict[\"method_l2\"], decimals = 2)))\n",
    "\n",
    "    goal_area_early_stopping.on_epoch_end(epoch = (epoch + 1), current_value = (dev_scores_dict[\"goal_area_accuracy\"]))\n",
    "    \n",
    "    if goal_area_early_stopping.wait == 0:\n",
    "        torch.save(model_GoalArea.state_dict(), \"model_PANFMR_incremental_GoalArea.pt\")\n",
    "    \n",
    "    if goal_area_early_stopping.stop_training:\n",
    "        break"
   ]
  },
  {
   "cell_type": "markdown",
   "metadata": {},
   "source": [
    "### Load Goal Area Model"
   ]
  },
  {
   "cell_type": "code",
   "execution_count": null,
   "metadata": {},
   "outputs": [],
   "source": [
    "model_GoalArea = GoalAreaModel(vocabulary_size = VOCABULARY_SIZE,\n",
    "                               embedding_dim = EMBEDDING_DIM,\n",
    "                               altered_embedding_dim = ALTERED_EMBEDDING_DIM,\n",
    "                               hidden_dim = HIDDEN_DIM,\n",
    "                               goal_area_dim = GOAL_AREA_DIM,\n",
    "                               device = DEVICE)\n",
    "\n",
    "model_GoalArea = model_GoalArea.to(DEVICE)\n",
    "model_GoalArea.load_state_dict(torch.load(\"model_PANFMR_incremental_GoalArea.pt\"))\n",
    "model_GoalArea.eval()"
   ]
  },
  {
   "cell_type": "markdown",
   "metadata": {},
   "source": [
    "### Print scores"
   ]
  },
  {
   "cell_type": "code",
   "execution_count": null,
   "metadata": {},
   "outputs": [],
   "source": [
    "dev_tracker = make_tracker(model_GoalPricerange,\n",
    "                           model_GoalArea,\n",
    "                           model_GoalName,\n",
    "                           model_GoalFood,\n",
    "                           model_Requested,\n",
    "                           model_Method,\n",
    "                           raw_X_dev, raw_Y_dev, dataset = \"dstc2_dev\", percentage = 1.0)\n",
    "get_scores(dev_tracker, dataset = \"dstc2_dev\")"
   ]
  },
  {
   "cell_type": "code",
   "execution_count": null,
   "metadata": {},
   "outputs": [],
   "source": [
    "test_tracker = make_tracker(model_GoalPricerange,\n",
    "                            model_GoalArea,\n",
    "                            model_GoalName,\n",
    "                            model_GoalFood,\n",
    "                            model_Requested,\n",
    "                            model_Method,\n",
    "                            raw_X_test, raw_Y_test, dataset = \"dstc2_test\", percentage = 1.0)\n",
    "get_scores(test_tracker, dataset = \"dstc2_test\")"
   ]
  },
  {
   "cell_type": "markdown",
   "metadata": {},
   "source": [
    "### Train Goal Name Model"
   ]
  },
  {
   "cell_type": "code",
   "execution_count": null,
   "metadata": {
    "scrolled": false
   },
   "outputs": [],
   "source": [
    "dev_goal_accuracies = []\n",
    "dev_requested_accuracies = []\n",
    "dev_method_accuracies = []\n",
    "\n",
    "goal_name_early_stopping = EarlyStopping(patience = 4)\n",
    "\n",
    "train_indices_loader = torch.utils.data.DataLoader(np.arange(raw_X_train.shape[0]), batch_size = BATCH_SIZE, shuffle = True)\n",
    "\n",
    "for epoch in range(NUM_EPOCHS):\n",
    "    \n",
    "    logging.info(\"Epoch\\t{}/{}\".format(epoch + 1, NUM_EPOCHS))\n",
    "    \n",
    "    model_GoalName = model_GoalName.train()\n",
    "    \n",
    "    for train_indices in tqdm_notebook(train_indices_loader, total = len(train_indices_loader)):\n",
    "        \n",
    "        optimizer_GoalNameModel.zero_grad()\n",
    "\n",
    "        dialogs_loss = 0\n",
    "    \n",
    "        for raw_X_train_dialog, raw_Y_train_dialog in zip(raw_X_train[train_indices], raw_Y_train[train_indices]):\n",
    "\n",
    "            model_GoalName.hidden = model_GoalName.init_hidden()\n",
    "\n",
    "            for raw_X_train_turn, raw_Y_train_turn in zip(raw_X_train_dialog[\"turns\"], raw_Y_train_dialog[\"turns\"]):\n",
    "\n",
    "                indices, scores = get_index_and_score(raw_X_train_turn, token_to_index, mode = \"train\", device = DEVICE)\n",
    "\n",
    "                goal_names = model_GoalName(indices, scores)\n",
    "\n",
    "                for goal_name in goal_names:\n",
    "\n",
    "                    goal_name = goal_name.unsqueeze(0)\n",
    "\n",
    "                    loss_goal_name = GOAL_LOSS_FUNCTION(goal_name,\n",
    "                                                        retrieve_gold_GoalName(raw_Y_train_turn,\n",
    "                                                                               ontology = ontology,\n",
    "                                                                               device = DEVICE))\n",
    "                    dialogs_loss += loss_goal_name\n",
    "\n",
    "        dialogs_loss.backward(retain_graph = False)\n",
    "\n",
    "        optimizer_GoalNameModel.step()\n",
    "    \n",
    "    dev_tracker = make_tracker(model_GoalPricerange,\n",
    "                   model_GoalArea,\n",
    "                   model_GoalName,\n",
    "                   model_GoalFood,\n",
    "                   model_Requested,\n",
    "                   model_Method,\n",
    "                   raw_X_dev, raw_Y_dev, dataset = \"dstc2_dev\", percentage = 1.0)\n",
    "    dev_scores_dict = get_scores(dev_tracker, dataset = \"dstc2_dev\")\n",
    "\n",
    "    logging.info(\"DEV Goal Name Acc: {}\".format(dev_scores_dict[\"goal_name_accuracy\"]))\n",
    "\n",
    "    logging.info(\"DEV Acc:\\t\\t{}({})\\t\\t{}({})\\t\\t{}({})\".format(dev_scores_dict[\"goal_accuracy\"],\n",
    "                                                                 np.around(dev_scores_dict[\"goal_accuracy\"], decimals = 2),\n",
    "                                                                 dev_scores_dict[\"requested_accuracy\"],\n",
    "                                                                 np.around(dev_scores_dict[\"requested_accuracy\"], decimals = 2),\n",
    "                                                                 dev_scores_dict[\"method_accuracy\"],\n",
    "                                                                 np.around(dev_scores_dict[\"method_accuracy\"], decimals = 2)))\n",
    "    logging.info(\"DEV L2:\\t\\t{}({})\\t\\t{}({})\\t\\t{}({})\".format(dev_scores_dict[\"goal_l2\"],\n",
    "                                                                np.around(dev_scores_dict[\"goal_l2\"], decimals = 2),\n",
    "                                                                dev_scores_dict[\"requested_l2\"],\n",
    "                                                                np.around(dev_scores_dict[\"requested_l2\"], decimals = 2),\n",
    "                                                                dev_scores_dict[\"method_l2\"],\n",
    "                                                                np.around(dev_scores_dict[\"method_l2\"], decimals = 2)))\n",
    "\n",
    "    goal_name_early_stopping.on_epoch_end(epoch = (epoch + 1), current_value = (dev_scores_dict[\"goal_name_accuracy\"]))\n",
    "    \n",
    "    if goal_name_early_stopping.wait == 0:\n",
    "        torch.save(model_GoalName.state_dict(), \"model_PANFMR_incremental_GoalName.pt\")\n",
    "    \n",
    "    if goal_name_early_stopping.stop_training:\n",
    "        break"
   ]
  },
  {
   "cell_type": "markdown",
   "metadata": {},
   "source": [
    "### Load Goal Name Model"
   ]
  },
  {
   "cell_type": "code",
   "execution_count": null,
   "metadata": {},
   "outputs": [],
   "source": [
    "model_GoalName = GoalNameModel(vocabulary_size = VOCABULARY_SIZE,\n",
    "                               embedding_dim = EMBEDDING_DIM,\n",
    "                               altered_embedding_dim = ALTERED_EMBEDDING_DIM,\n",
    "                               hidden_dim = HIDDEN_DIM,\n",
    "                               goal_name_dim = GOAL_NAME_DIM,\n",
    "                               device = DEVICE)\n",
    "\n",
    "model_GoalName = model_GoalName.to(DEVICE)\n",
    "model_GoalName.load_state_dict(torch.load(\"model_PANFMR_incremental_GoalName.pt\"))\n",
    "model_GoalName.eval()"
   ]
  },
  {
   "cell_type": "markdown",
   "metadata": {},
   "source": [
    "### Print scores"
   ]
  },
  {
   "cell_type": "code",
   "execution_count": null,
   "metadata": {},
   "outputs": [],
   "source": [
    "dev_tracker = make_tracker(model_GoalPricerange,\n",
    "                           model_GoalArea,\n",
    "                           model_GoalName,\n",
    "                           model_GoalFood,\n",
    "                           model_Requested,\n",
    "                           model_Method,\n",
    "                           raw_X_dev, raw_Y_dev, dataset = \"dstc2_dev\", percentage = 1.0)\n",
    "get_scores(dev_tracker, dataset = \"dstc2_dev\")"
   ]
  },
  {
   "cell_type": "code",
   "execution_count": null,
   "metadata": {},
   "outputs": [],
   "source": [
    "test_tracker = make_tracker(model_GoalPricerange,\n",
    "                            model_GoalArea,\n",
    "                            model_GoalName,\n",
    "                            model_GoalFood,\n",
    "                            model_Requested,\n",
    "                            model_Method,\n",
    "                            raw_X_test, raw_Y_test, dataset = \"dstc2_test\", percentage = 1.0)\n",
    "get_scores(test_tracker, dataset = \"dstc2_test\")"
   ]
  },
  {
   "cell_type": "markdown",
   "metadata": {},
   "source": [
    "### Train Goal Food Model"
   ]
  },
  {
   "cell_type": "code",
   "execution_count": null,
   "metadata": {
    "scrolled": false
   },
   "outputs": [],
   "source": [
    "dev_goal_accuracies = []\n",
    "dev_requested_accuracies = []\n",
    "dev_method_accuracies = []\n",
    "\n",
    "goal_food_early_stopping = EarlyStopping(patience = 6)\n",
    "\n",
    "train_indices_loader = torch.utils.data.DataLoader(np.arange(raw_X_train.shape[0]), batch_size = BATCH_SIZE, shuffle = True)\n",
    "\n",
    "for epoch in range(NUM_EPOCHS):\n",
    "    \n",
    "    logging.info(\"Epoch\\t{}/{}\".format(epoch + 1, NUM_EPOCHS))\n",
    "    \n",
    "    model_GoalFood = model_GoalFood.train()\n",
    "    \n",
    "    for train_indices in tqdm_notebook(train_indices_loader, total = len(train_indices_loader)):\n",
    "        \n",
    "        optimizer_GoalFoodModel.zero_grad()\n",
    "\n",
    "        dialogs_loss = 0\n",
    "    \n",
    "        for raw_X_train_dialog, raw_Y_train_dialog in zip(raw_X_train[train_indices], raw_Y_train[train_indices]):\n",
    "\n",
    "            model_GoalFood.hidden = model_GoalFood.init_hidden()\n",
    "\n",
    "            for raw_X_train_turn, raw_Y_train_turn in zip(raw_X_train_dialog[\"turns\"], raw_Y_train_dialog[\"turns\"]):\n",
    "\n",
    "                indices, scores = get_index_and_score(raw_X_train_turn, token_to_index, mode = \"train\", device = DEVICE)\n",
    "\n",
    "                goal_foods = model_GoalFood(indices, scores)\n",
    "\n",
    "                for goal_food in goal_foods:\n",
    "\n",
    "                    goal_food = goal_food.unsqueeze(0)\n",
    "\n",
    "                    loss_goal_food = GOAL_LOSS_FUNCTION(goal_food,\n",
    "                                                        retrieve_gold_GoalFood(raw_Y_train_turn,\n",
    "                                                                               ontology = ontology,\n",
    "                                                                               device = DEVICE))\n",
    "                    dialogs_loss += loss_goal_food\n",
    "\n",
    "        dialogs_loss.backward(retain_graph = False)\n",
    "\n",
    "        optimizer_GoalFoodModel.step()\n",
    "    \n",
    "    dev_tracker = make_tracker(model_GoalPricerange,\n",
    "                   model_GoalArea,\n",
    "                   model_GoalName,\n",
    "                   model_GoalFood,\n",
    "                   model_Requested,\n",
    "                   model_Method,\n",
    "                   raw_X_dev, raw_Y_dev, dataset = \"dstc2_dev\", percentage = 1.0)\n",
    "    dev_scores_dict = get_scores(dev_tracker, dataset = \"dstc2_dev\")\n",
    "\n",
    "    logging.info(\"DEV Goal Food Acc: {}\".format(dev_scores_dict[\"goal_food_accuracy\"]))\n",
    "\n",
    "    logging.info(\"DEV Acc:\\t\\t{}({})\\t\\t{}({})\\t\\t{}({})\".format(dev_scores_dict[\"goal_accuracy\"],\n",
    "                                                                 np.around(dev_scores_dict[\"goal_accuracy\"], decimals = 2),\n",
    "                                                                 dev_scores_dict[\"requested_accuracy\"],\n",
    "                                                                 np.around(dev_scores_dict[\"requested_accuracy\"], decimals = 2),\n",
    "                                                                 dev_scores_dict[\"method_accuracy\"],\n",
    "                                                                 np.around(dev_scores_dict[\"method_accuracy\"], decimals = 2)))\n",
    "    logging.info(\"DEV L2:\\t\\t{}({})\\t\\t{}({})\\t\\t{}({})\".format(dev_scores_dict[\"goal_l2\"],\n",
    "                                                                np.around(dev_scores_dict[\"goal_l2\"], decimals = 2),\n",
    "                                                                dev_scores_dict[\"requested_l2\"],\n",
    "                                                                np.around(dev_scores_dict[\"requested_l2\"], decimals = 2),\n",
    "                                                                dev_scores_dict[\"method_l2\"],\n",
    "                                                                np.around(dev_scores_dict[\"method_l2\"], decimals = 2)))\n",
    "\n",
    "    goal_food_early_stopping.on_epoch_end(epoch = (epoch + 1), current_value = (dev_scores_dict[\"goal_food_accuracy\"]))\n",
    "    \n",
    "    if goal_food_early_stopping.wait == 0:\n",
    "        torch.save(model_GoalFood.state_dict(), \"model_PANFMR_incremental_GoalFood.pt\")\n",
    "    \n",
    "    if goal_food_early_stopping.stop_training:\n",
    "        break"
   ]
  },
  {
   "cell_type": "markdown",
   "metadata": {},
   "source": [
    "### Load Goal Food Model"
   ]
  },
  {
   "cell_type": "code",
   "execution_count": null,
   "metadata": {},
   "outputs": [],
   "source": [
    "model_GoalFood = GoalFoodModel(vocabulary_size = VOCABULARY_SIZE,\n",
    "                               embedding_dim = EMBEDDING_DIM,\n",
    "                               altered_embedding_dim = ALTERED_EMBEDDING_DIM,\n",
    "                               hidden_dim = HIDDEN_DIM,\n",
    "                               goal_food_dim = GOAL_FOOD_DIM,\n",
    "                               device = DEVICE)\n",
    "\n",
    "model_GoalFood = model_GoalFood.to(DEVICE)\n",
    "model_GoalFood.load_state_dict(torch.load(\"model_PANFMR_incremental_GoalFood.pt\"))\n",
    "model_GoalFood.eval()"
   ]
  },
  {
   "cell_type": "markdown",
   "metadata": {},
   "source": [
    "### Print scores"
   ]
  },
  {
   "cell_type": "code",
   "execution_count": null,
   "metadata": {},
   "outputs": [],
   "source": [
    "dev_tracker = make_tracker(model_GoalPricerange,\n",
    "                           model_GoalArea,\n",
    "                           model_GoalName,\n",
    "                           model_GoalFood,\n",
    "                           model_Requested,\n",
    "                           model_Method,\n",
    "                           raw_X_dev, raw_Y_dev, dataset = \"dstc2_dev\", percentage = 1.0)\n",
    "get_scores(dev_tracker, dataset = \"dstc2_dev\")"
   ]
  },
  {
   "cell_type": "code",
   "execution_count": null,
   "metadata": {},
   "outputs": [],
   "source": [
    "test_tracker = make_tracker(model_GoalPricerange,\n",
    "                            model_GoalArea,\n",
    "                            model_GoalName,\n",
    "                            model_GoalFood,\n",
    "                            model_Requested,\n",
    "                            model_Method,\n",
    "                            raw_X_test, raw_Y_test, dataset = \"dstc2_test\", percentage = 1.0)\n",
    "get_scores(test_tracker, dataset = \"dstc2_test\")"
   ]
  },
  {
   "cell_type": "markdown",
   "metadata": {},
   "source": [
    "### Train Requested Model"
   ]
  },
  {
   "cell_type": "code",
   "execution_count": null,
   "metadata": {
    "scrolled": false
   },
   "outputs": [],
   "source": [
    "dev_goal_accuracies = []\n",
    "dev_requested_accuracies = []\n",
    "dev_method_accuracies = []\n",
    "\n",
    "requested_early_stopping = EarlyStopping(patience = 6)\n",
    "\n",
    "train_indices_loader = torch.utils.data.DataLoader(np.arange(raw_X_train.shape[0]), batch_size = BATCH_SIZE, shuffle = True)\n",
    "\n",
    "for epoch in range(NUM_EPOCHS):\n",
    "    \n",
    "    logging.info(\"Epoch\\t{}/{}\".format(epoch + 1, NUM_EPOCHS))\n",
    "    \n",
    "    model_Requested = model_Requested.train()\n",
    "    \n",
    "    for train_indices in tqdm_notebook(train_indices_loader, total = len(train_indices_loader)):\n",
    "        \n",
    "        optimizer_RequestedModel.zero_grad()\n",
    "\n",
    "        dialogs_loss = 0\n",
    "    \n",
    "        for raw_X_train_dialog, raw_Y_train_dialog in zip(raw_X_train[train_indices], raw_Y_train[train_indices]):\n",
    "\n",
    "            model_Requested.hidden = model_Requested.init_hidden()\n",
    "\n",
    "            for raw_X_train_turn, raw_Y_train_turn in zip(raw_X_train_dialog[\"turns\"], raw_Y_train_dialog[\"turns\"]):\n",
    "\n",
    "                indices, scores = get_index_and_score(raw_X_train_turn, token_to_index, mode = \"train\", device = DEVICE)\n",
    "\n",
    "                requesteds = model_Requested(indices, scores)\n",
    "\n",
    "                for requested in requesteds:\n",
    "\n",
    "                    requested = requested.unsqueeze(0)\n",
    "\n",
    "                    loss_requested = REQUESTED_LOSS_FUNCTION(requested,\n",
    "                                                             retrieve_gold_Requested(raw_Y_train_turn,\n",
    "                                                                                     ontology = ontology,\n",
    "                                                                                     device = DEVICE))\n",
    "                    dialogs_loss += loss_requested\n",
    "\n",
    "        dialogs_loss.backward(retain_graph = False)\n",
    "\n",
    "        optimizer_RequestedModel.step()\n",
    "    \n",
    "    dev_tracker = make_tracker(model_GoalPricerange,\n",
    "                   model_GoalArea,\n",
    "                   model_GoalName,\n",
    "                   model_GoalFood,\n",
    "                   model_Requested,\n",
    "                   model_Method,\n",
    "                   raw_X_dev, raw_Y_dev, dataset = \"dstc2_dev\", percentage = 1.0)\n",
    "    dev_scores_dict = get_scores(dev_tracker, dataset = \"dstc2_dev\")\n",
    "    \n",
    "    logging.info(\"DEV Acc:\\t\\t{}({})\\t\\t{}({})\\t\\t{}({})\".format(dev_scores_dict[\"goal_accuracy\"],\n",
    "                                                                 np.around(dev_scores_dict[\"goal_accuracy\"], decimals = 2),\n",
    "                                                                 dev_scores_dict[\"requested_accuracy\"],\n",
    "                                                                 np.around(dev_scores_dict[\"requested_accuracy\"], decimals = 2),\n",
    "                                                                 dev_scores_dict[\"method_accuracy\"],\n",
    "                                                                 np.around(dev_scores_dict[\"method_accuracy\"], decimals = 2)))\n",
    "    logging.info(\"DEV L2:\\t\\t{}({})\\t\\t{}({})\\t\\t{}({})\".format(dev_scores_dict[\"goal_l2\"],\n",
    "                                                                np.around(dev_scores_dict[\"goal_l2\"], decimals = 2),\n",
    "                                                                dev_scores_dict[\"requested_l2\"],\n",
    "                                                                np.around(dev_scores_dict[\"requested_l2\"], decimals = 2),\n",
    "                                                                dev_scores_dict[\"method_l2\"],\n",
    "                                                                np.around(dev_scores_dict[\"method_l2\"], decimals = 2)))\n",
    "\n",
    "    requested_early_stopping.on_epoch_end(epoch = (epoch + 1), current_value = (dev_scores_dict[\"requested_accuracy\"]))\n",
    "    \n",
    "    if requested_early_stopping.wait == 0:\n",
    "        torch.save(model_Requested.state_dict(), \"model_PANFMR_incremental_Requested.pt\")\n",
    "    \n",
    "    if requested_early_stopping.stop_training:\n",
    "        break"
   ]
  },
  {
   "cell_type": "markdown",
   "metadata": {},
   "source": [
    "### Load Requested Model"
   ]
  },
  {
   "cell_type": "code",
   "execution_count": null,
   "metadata": {},
   "outputs": [],
   "source": [
    "model_Requested = RequestedModel(vocabulary_size = VOCABULARY_SIZE,\n",
    "                                 embedding_dim = EMBEDDING_DIM,\n",
    "                                 altered_embedding_dim = ALTERED_EMBEDDING_DIM,\n",
    "                                 hidden_dim = HIDDEN_DIM,\n",
    "                                 requested_dim = REQUESTED_DIM,\n",
    "                                 device = DEVICE)\n",
    "\n",
    "model_Requested = model_Requested.to(DEVICE)\n",
    "model_Requested.load_state_dict(torch.load(\"model_PANFMR_incremental_Requested.pt\"))\n",
    "model_Requested.eval()"
   ]
  },
  {
   "cell_type": "markdown",
   "metadata": {},
   "source": [
    "### Print scores"
   ]
  },
  {
   "cell_type": "code",
   "execution_count": null,
   "metadata": {},
   "outputs": [],
   "source": [
    "dev_tracker = make_tracker(model_GoalPricerange,\n",
    "                           model_GoalArea,\n",
    "                           model_GoalName,\n",
    "                           model_GoalFood,\n",
    "                           model_Requested,\n",
    "                           model_Method,\n",
    "                           raw_X_dev, raw_Y_dev, dataset = \"dstc2_dev\", percentage = 1.0)\n",
    "get_scores(dev_tracker, dataset = \"dstc2_dev\")"
   ]
  },
  {
   "cell_type": "code",
   "execution_count": null,
   "metadata": {},
   "outputs": [],
   "source": [
    "test_tracker = make_tracker(model_GoalPricerange,\n",
    "                            model_GoalArea,\n",
    "                            model_GoalName,\n",
    "                            model_GoalFood,\n",
    "                            model_Requested,\n",
    "                            model_Method,\n",
    "                            raw_X_test, raw_Y_test, dataset = \"dstc2_test\", percentage = 1.0)\n",
    "get_scores(test_tracker, dataset = \"dstc2_test\")"
   ]
  },
  {
   "cell_type": "markdown",
   "metadata": {},
   "source": [
    "### Train Method Model"
   ]
  },
  {
   "cell_type": "code",
   "execution_count": null,
   "metadata": {
    "scrolled": false
   },
   "outputs": [],
   "source": [
    "dev_goal_accuracies = []\n",
    "dev_requested_accuracies = []\n",
    "dev_method_accuracies = []\n",
    "\n",
    "method_early_stopping = EarlyStopping(patience = 6)\n",
    "\n",
    "train_indices_loader = torch.utils.data.DataLoader(np.arange(raw_X_train.shape[0]), batch_size = BATCH_SIZE, shuffle = True)\n",
    "\n",
    "for epoch in range(NUM_EPOCHS):\n",
    "    \n",
    "    logging.info(\"Epoch\\t{}/{}\".format(epoch + 1, NUM_EPOCHS))\n",
    "    \n",
    "    model_Method = model_Method.train()\n",
    "    \n",
    "    for train_indices in tqdm_notebook(train_indices_loader, total = len(train_indices_loader)):\n",
    "    \n",
    "        optimizer_MethodModel.zero_grad()\n",
    "\n",
    "        dialogs_loss = 0\n",
    "    \n",
    "        for raw_X_train_dialog, raw_Y_train_dialog in zip(raw_X_train[train_indices], raw_Y_train[train_indices]):\n",
    "\n",
    "            model_Method.hidden = model_Method.init_hidden()\n",
    "\n",
    "            for raw_X_train_turn, raw_Y_train_turn in zip(raw_X_train_dialog[\"turns\"], raw_Y_train_dialog[\"turns\"]):\n",
    "\n",
    "                indices, scores = get_index_and_score(raw_X_train_turn, token_to_index, mode = \"train\", device = DEVICE)\n",
    "\n",
    "                methods = model_Method(indices, scores)\n",
    "\n",
    "                for method in methods:\n",
    "\n",
    "                    method = method.unsqueeze(0)\n",
    "\n",
    "                    loss_method = METHOD_LOSS_FUNCTION(method,\n",
    "                                                       retrieve_gold_Method(raw_Y_train_turn,\n",
    "                                                                            ontology = ontology,\n",
    "                                                                            device = DEVICE))\n",
    "                    dialogs_loss += loss_method\n",
    "\n",
    "        dialogs_loss.backward(retain_graph = False)\n",
    "\n",
    "        optimizer_MethodModel.step()\n",
    "    \n",
    "    dev_tracker = make_tracker(model_GoalPricerange,\n",
    "                   model_GoalArea,\n",
    "                   model_GoalName,\n",
    "                   model_GoalFood,\n",
    "                   model_Requested,\n",
    "                   model_Method,\n",
    "                   raw_X_dev, raw_Y_dev, dataset = \"dstc2_dev\", percentage = 1.0)\n",
    "    dev_scores_dict = get_scores(dev_tracker, dataset = \"dstc2_dev\")\n",
    "    \n",
    "    logging.info(\"DEV Acc:\\t\\t{}({})\\t\\t{}({})\\t\\t{}({})\".format(dev_scores_dict[\"goal_accuracy\"],\n",
    "                                                                 np.around(dev_scores_dict[\"goal_accuracy\"], decimals = 2),\n",
    "                                                                 dev_scores_dict[\"requested_accuracy\"],\n",
    "                                                                 np.around(dev_scores_dict[\"requested_accuracy\"], decimals = 2),\n",
    "                                                                 dev_scores_dict[\"method_accuracy\"],\n",
    "                                                                 np.around(dev_scores_dict[\"method_accuracy\"], decimals = 2)))\n",
    "    logging.info(\"DEV L2:\\t\\t{}({})\\t\\t{}({})\\t\\t{}({})\".format(dev_scores_dict[\"goal_l2\"],\n",
    "                                                                np.around(dev_scores_dict[\"goal_l2\"], decimals = 2),\n",
    "                                                                dev_scores_dict[\"requested_l2\"],\n",
    "                                                                np.around(dev_scores_dict[\"requested_l2\"], decimals = 2),\n",
    "                                                                dev_scores_dict[\"method_l2\"],\n",
    "                                                                np.around(dev_scores_dict[\"method_l2\"], decimals = 2)))\n",
    "\n",
    "    method_early_stopping.on_epoch_end(epoch = (epoch + 1), current_value = (dev_scores_dict[\"method_accuracy\"]))\n",
    "    \n",
    "    if method_early_stopping.wait == 0:\n",
    "        torch.save(model_Method.state_dict(), \"model_PANFMR_incremental_Method.pt\")\n",
    "    \n",
    "    if method_early_stopping.stop_training:\n",
    "        break"
   ]
  },
  {
   "cell_type": "markdown",
   "metadata": {},
   "source": [
    "### Load Method Model"
   ]
  },
  {
   "cell_type": "code",
   "execution_count": null,
   "metadata": {},
   "outputs": [],
   "source": [
    "model_Method = MethodModel(vocabulary_size = VOCABULARY_SIZE,\n",
    "                           embedding_dim = EMBEDDING_DIM,\n",
    "                           altered_embedding_dim = ALTERED_EMBEDDING_DIM,\n",
    "                           hidden_dim = HIDDEN_DIM,\n",
    "                           method_dim = METHOD_DIM,\n",
    "                           device = DEVICE)\n",
    "\n",
    "model_Method = model_Method.to(DEVICE)\n",
    "model_Method.load_state_dict(torch.load(\"model_PANFMR_incremental_Method.pt\"))\n",
    "model_Method.eval()"
   ]
  },
  {
   "cell_type": "markdown",
   "metadata": {},
   "source": [
    "### Print scores"
   ]
  },
  {
   "cell_type": "code",
   "execution_count": null,
   "metadata": {
    "scrolled": true
   },
   "outputs": [],
   "source": [
    "dev_tracker = make_tracker(model_GoalPricerange,\n",
    "                           model_GoalArea,\n",
    "                           model_GoalName,\n",
    "                           model_GoalFood,\n",
    "                           model_Requested,\n",
    "                           model_Method,\n",
    "                           raw_X_dev, raw_Y_dev, dataset = \"dstc2_dev\", percentage = 1.0)\n",
    "get_scores(dev_tracker, dataset = \"dstc2_dev\")"
   ]
  },
  {
   "cell_type": "code",
   "execution_count": null,
   "metadata": {},
   "outputs": [],
   "source": [
    "test_tracker = make_tracker(model_GoalPricerange,\n",
    "                            model_GoalArea,\n",
    "                            model_GoalName,\n",
    "                            model_GoalFood,\n",
    "                            model_Requested,\n",
    "                            model_Method,\n",
    "                            raw_X_test, raw_Y_test, dataset = \"dstc2_test\", percentage = 1.0)\n",
    "get_scores(test_tracker, dataset = \"dstc2_test\")"
   ]
  },
  {
   "cell_type": "markdown",
   "metadata": {},
   "source": [
    "### Plot incremental accuracies"
   ]
  },
  {
   "cell_type": "code",
   "execution_count": null,
   "metadata": {},
   "outputs": [],
   "source": [
    "def plotly_plot_incremental(percentages, goal_accuracies, requested_accuracies, method_accuracies, dataset):\n",
    "    plotly.offline.iplot({\n",
    "                            \"data\": [Scatter(\n",
    "                                            x = percentages,\n",
    "                                            y = goal_accuracies,\n",
    "                                            mode = \"lines+markers\",\n",
    "                                            name = \"{} Goal Accuracy\".format(dataset),\n",
    "                                            marker = dict(color = \"#3498db\")),\n",
    "                                    Scatter(\n",
    "                                            x = percentages,\n",
    "                                            y = requested_accuracies,\n",
    "                                            mode = \"lines+markers\",\n",
    "                                            name = \"{} Requested Accuracy\".format(dataset),\n",
    "                                            marker = dict(color = \"#1abc9c\")),\n",
    "                                    Scatter(\n",
    "                                            x = percentages,\n",
    "                                            y = method_accuracies,\n",
    "                                            mode = \"lines+markers\",\n",
    "                                            name = \"{} Method Accuracy\".format(dataset),\n",
    "                                            marker = dict(color = \"#9b59b6\"))],\n",
    "                            \"layout\": Layout(\n",
    "                                             title = \"<b>Percentage - Accuracy</b>\",\n",
    "                                             xaxis = dict(title = \"<b>Percentage</b>\",\n",
    "                                                          dtick = 0.1,\n",
    "                                                          titlefont = dict(color = \"#34495e\")),\n",
    "                                             yaxis = dict(title = \"<b>Accuracy</b>\",\n",
    "                                                          titlefont = dict(color = \"#34495e\")),\n",
    "                                             margin = Margin(b = 150))\n",
    "                        })"
   ]
  },
  {
   "cell_type": "code",
   "execution_count": null,
   "metadata": {},
   "outputs": [],
   "source": [
    "percentages = [0.1, 0.2, 0.3, 0.4, 0.5, 0.6, 0.7, 0.8, 0.9, 1.0]\n",
    "\n",
    "dev_goal_accuracies = []\n",
    "dev_goal_l2s = []\n",
    "dev_requested_accuracies = []\n",
    "dev_requested_l2s = []\n",
    "dev_method_accuracies = []\n",
    "dev_method_l2s = []\n",
    "\n",
    "test_goal_accuracies = []\n",
    "test_goal_l2s = []\n",
    "test_requested_accuracies = []\n",
    "test_requested_l2s = []\n",
    "test_method_accuracies = []\n",
    "test_method_l2s = []\n",
    "\n",
    "for percentage in tqdm_notebook(percentages, total = len(percentages)):\n",
    "    \n",
    "    dev_incremental_tracker = make_tracker(model_GoalPricerange, model_GoalArea, model_GoalName, model_GoalFood, model_Requested, model_Method, raw_X_dev, raw_Y_dev, dataset = \"dstc2_dev\", percentage = percentage)\n",
    "    \n",
    "    dev_scores_dict = get_scores(dev_incremental_tracker, dataset = \"dstc2_dev\")\n",
    "    \n",
    "    dev_goal_accuracies.append(dev_scores_dict[\"goal_accuracy\"])\n",
    "    dev_goal_l2s.append(dev_scores_dict[\"goal_l2\"])\n",
    "    dev_requested_accuracies.append(dev_scores_dict[\"requested_accuracy\"])\n",
    "    dev_requested_l2s.append(dev_scores_dict[\"requested_l2\"])\n",
    "    dev_method_accuracies.append(dev_scores_dict[\"method_accuracy\"])\n",
    "    dev_method_l2s.append(dev_scores_dict[\"method_l2\"])\n",
    "    \n",
    "    test_incremental_tracker = make_tracker(model_GoalPricerange, model_GoalArea, model_GoalName, model_GoalFood, model_Requested, model_Method, raw_X_test, raw_Y_test, dataset = \"dstc2_test\", percentage = percentage)\n",
    "    \n",
    "    test_scores_dict = get_scores(test_incremental_tracker, dataset = \"dstc2_test\")\n",
    "    \n",
    "    test_goal_accuracies.append(test_scores_dict[\"goal_accuracy\"])\n",
    "    test_goal_l2s.append(test_scores_dict[\"goal_l2\"])\n",
    "    test_requested_accuracies.append(test_scores_dict[\"requested_accuracy\"])\n",
    "    test_requested_l2s.append(test_scores_dict[\"requested_l2\"])\n",
    "    test_method_accuracies.append(test_scores_dict[\"method_accuracy\"])\n",
    "    test_method_l2s.append(test_scores_dict[\"method_l2\"])"
   ]
  },
  {
   "cell_type": "code",
   "execution_count": null,
   "metadata": {},
   "outputs": [],
   "source": [
    "plotly_plot_incremental(percentages, dev_goal_accuracies, dev_requested_accuracies, dev_method_accuracies, \"Dev\")"
   ]
  },
  {
   "cell_type": "code",
   "execution_count": null,
   "metadata": {},
   "outputs": [],
   "source": [
    "plotly_plot_incremental(percentages, test_goal_accuracies, test_requested_accuracies, test_method_accuracies, \"Test\")"
   ]
  },
  {
   "cell_type": "markdown",
   "metadata": {},
   "source": [
    "### SUPERVISED TURN TAKING"
   ]
  },
  {
   "cell_type": "markdown",
   "metadata": {},
   "source": [
    "### Load Goal Pricerange Model"
   ]
  },
  {
   "cell_type": "code",
   "execution_count": 15,
   "metadata": {},
   "outputs": [
    {
     "data": {
      "text/plain": [
       "GoalPricerangeModel(\n",
       "  (embeddings): Embedding(1149, 170)\n",
       "  (altered_embeddings): Linear(in_features=171, out_features=300, bias=True)\n",
       "  (lstm): LSTM(300, 100)\n",
       "  (goal_pricerange_classifier): Linear(in_features=100, out_features=5, bias=True)\n",
       ")"
      ]
     },
     "execution_count": 15,
     "metadata": {},
     "output_type": "execute_result"
    }
   ],
   "source": [
    "model_GoalPricerange = GoalPricerangeModel(vocabulary_size = VOCABULARY_SIZE,\n",
    "                                           embedding_dim = EMBEDDING_DIM,\n",
    "                                           altered_embedding_dim = ALTERED_EMBEDDING_DIM,\n",
    "                                           hidden_dim = HIDDEN_DIM,\n",
    "                                           goal_pricerange_dim = GOAL_PRICERANGE_DIM,\n",
    "                                           device = DEVICE)\n",
    "\n",
    "model_GoalPricerange = model_GoalPricerange.to(DEVICE)\n",
    "model_GoalPricerange.load_state_dict(torch.load(\"model_PANFMR_incremental_GoalPricerange.pt\"))\n",
    "model_GoalPricerange.eval()"
   ]
  },
  {
   "cell_type": "markdown",
   "metadata": {},
   "source": [
    "### Load Goal Area Model"
   ]
  },
  {
   "cell_type": "code",
   "execution_count": 16,
   "metadata": {},
   "outputs": [
    {
     "data": {
      "text/plain": [
       "GoalAreaModel(\n",
       "  (embeddings): Embedding(1149, 170)\n",
       "  (altered_embeddings): Linear(in_features=171, out_features=300, bias=True)\n",
       "  (lstm): LSTM(300, 100)\n",
       "  (goal_area_classifier): Linear(in_features=100, out_features=7, bias=True)\n",
       ")"
      ]
     },
     "execution_count": 16,
     "metadata": {},
     "output_type": "execute_result"
    }
   ],
   "source": [
    "model_GoalArea = GoalAreaModel(vocabulary_size = VOCABULARY_SIZE,\n",
    "                               embedding_dim = EMBEDDING_DIM,\n",
    "                               altered_embedding_dim = ALTERED_EMBEDDING_DIM,\n",
    "                               hidden_dim = HIDDEN_DIM,\n",
    "                               goal_area_dim = GOAL_AREA_DIM,\n",
    "                               device = DEVICE)\n",
    "\n",
    "model_GoalArea = model_GoalArea.to(DEVICE)\n",
    "model_GoalArea.load_state_dict(torch.load(\"model_PANFMR_incremental_GoalArea.pt\"))\n",
    "model_GoalArea.eval()"
   ]
  },
  {
   "cell_type": "markdown",
   "metadata": {},
   "source": [
    "### Load Goal Name Model"
   ]
  },
  {
   "cell_type": "code",
   "execution_count": 17,
   "metadata": {},
   "outputs": [
    {
     "data": {
      "text/plain": [
       "GoalNameModel(\n",
       "  (embeddings): Embedding(1149, 170)\n",
       "  (altered_embeddings): Linear(in_features=171, out_features=300, bias=True)\n",
       "  (lstm): LSTM(300, 100)\n",
       "  (goal_name_classifier): Linear(in_features=100, out_features=115, bias=True)\n",
       ")"
      ]
     },
     "execution_count": 17,
     "metadata": {},
     "output_type": "execute_result"
    }
   ],
   "source": [
    "model_GoalName = GoalNameModel(vocabulary_size = VOCABULARY_SIZE,\n",
    "                               embedding_dim = EMBEDDING_DIM,\n",
    "                               altered_embedding_dim = ALTERED_EMBEDDING_DIM,\n",
    "                               hidden_dim = HIDDEN_DIM,\n",
    "                               goal_name_dim = GOAL_NAME_DIM,\n",
    "                               device = DEVICE)\n",
    "\n",
    "model_GoalName = model_GoalName.to(DEVICE)\n",
    "model_GoalName.load_state_dict(torch.load(\"model_PANFMR_incremental_GoalName.pt\"))\n",
    "model_GoalName.eval()"
   ]
  },
  {
   "cell_type": "markdown",
   "metadata": {},
   "source": [
    "### Load Goal Food Model"
   ]
  },
  {
   "cell_type": "code",
   "execution_count": 18,
   "metadata": {},
   "outputs": [
    {
     "data": {
      "text/plain": [
       "GoalFoodModel(\n",
       "  (embeddings): Embedding(1149, 170)\n",
       "  (altered_embeddings): Linear(in_features=171, out_features=300, bias=True)\n",
       "  (lstm): LSTM(300, 100)\n",
       "  (goal_food_classifier): Linear(in_features=100, out_features=93, bias=True)\n",
       ")"
      ]
     },
     "execution_count": 18,
     "metadata": {},
     "output_type": "execute_result"
    }
   ],
   "source": [
    "model_GoalFood = GoalFoodModel(vocabulary_size = VOCABULARY_SIZE,\n",
    "                               embedding_dim = EMBEDDING_DIM,\n",
    "                               altered_embedding_dim = ALTERED_EMBEDDING_DIM,\n",
    "                               hidden_dim = HIDDEN_DIM,\n",
    "                               goal_food_dim = GOAL_FOOD_DIM,\n",
    "                               device = DEVICE)\n",
    "\n",
    "model_GoalFood = model_GoalFood.to(DEVICE)\n",
    "model_GoalFood.load_state_dict(torch.load(\"model_PANFMR_incremental_GoalFood.pt\"))\n",
    "model_GoalFood.eval()"
   ]
  },
  {
   "cell_type": "markdown",
   "metadata": {},
   "source": [
    "### Load Requested Model"
   ]
  },
  {
   "cell_type": "code",
   "execution_count": 19,
   "metadata": {},
   "outputs": [
    {
     "data": {
      "text/plain": [
       "RequestedModel(\n",
       "  (embeddings): Embedding(1149, 170)\n",
       "  (altered_embeddings): Linear(in_features=171, out_features=300, bias=True)\n",
       "  (lstm): LSTM(300, 100)\n",
       "  (requested_classifier): Linear(in_features=100, out_features=8, bias=True)\n",
       ")"
      ]
     },
     "execution_count": 19,
     "metadata": {},
     "output_type": "execute_result"
    }
   ],
   "source": [
    "model_Requested = RequestedModel(vocabulary_size = VOCABULARY_SIZE,\n",
    "                                 embedding_dim = EMBEDDING_DIM,\n",
    "                                 altered_embedding_dim = ALTERED_EMBEDDING_DIM,\n",
    "                                 hidden_dim = HIDDEN_DIM,\n",
    "                                 requested_dim = REQUESTED_DIM,\n",
    "                                 device = DEVICE)\n",
    "\n",
    "model_Requested = model_Requested.to(DEVICE)\n",
    "model_Requested.load_state_dict(torch.load(\"model_PANFMR_incremental_Requested.pt\"))\n",
    "model_Requested.eval()"
   ]
  },
  {
   "cell_type": "markdown",
   "metadata": {},
   "source": [
    "### Load Method Model"
   ]
  },
  {
   "cell_type": "code",
   "execution_count": 20,
   "metadata": {},
   "outputs": [
    {
     "data": {
      "text/plain": [
       "MethodModel(\n",
       "  (embeddings): Embedding(1149, 170)\n",
       "  (altered_embeddings): Linear(in_features=171, out_features=300, bias=True)\n",
       "  (lstm): LSTM(300, 100)\n",
       "  (method_classifier): Linear(in_features=100, out_features=5, bias=True)\n",
       ")"
      ]
     },
     "execution_count": 20,
     "metadata": {},
     "output_type": "execute_result"
    }
   ],
   "source": [
    "model_Method = MethodModel(vocabulary_size = VOCABULARY_SIZE,\n",
    "                           embedding_dim = EMBEDDING_DIM,\n",
    "                           altered_embedding_dim = ALTERED_EMBEDDING_DIM,\n",
    "                           hidden_dim = HIDDEN_DIM,\n",
    "                           method_dim = METHOD_DIM,\n",
    "                           device = DEVICE)\n",
    "\n",
    "model_Method = model_Method.to(DEVICE)\n",
    "model_Method.load_state_dict(torch.load(\"model_PANFMR_incremental_Method.pt\"))\n",
    "model_Method.eval()"
   ]
  },
  {
   "cell_type": "markdown",
   "metadata": {},
   "source": [
    "### Print scores"
   ]
  },
  {
   "cell_type": "code",
   "execution_count": 21,
   "metadata": {},
   "outputs": [
    {
     "data": {
      "application/vnd.jupyter.widget-view+json": {
       "model_id": "5b517a29682f49a0983087e2751985ec",
       "version_major": 2,
       "version_minor": 0
      },
      "text/plain": [
       "HBox(children=(IntProgress(value=0, max=506), HTML(value='')))"
      ]
     },
     "metadata": {},
     "output_type": "display_data"
    },
    {
     "name": "stdout",
     "output_type": "stream",
     "text": [
      "\n"
     ]
    },
    {
     "data": {
      "text/plain": [
       "{'goal_pricerange_accuracy': 0.9313921,\n",
       " 'goal_pricerange_l2': 0.1279822,\n",
       " 'goal_area_accuracy': 0.869422,\n",
       " 'goal_area_l2': 0.2168585,\n",
       " 'goal_name_accuracy': 0.9065421,\n",
       " 'goal_name_l2': 0.1865058,\n",
       " 'goal_food_accuracy': 0.7390146,\n",
       " 'goal_food_l2': 0.3931449,\n",
       " 'goal_accuracy': 0.6279979,\n",
       " 'goal_l2': 0.548125,\n",
       " 'requested_accuracy': 0.9520375,\n",
       " 'requested_l2': 0.0926594,\n",
       " 'method_accuracy': 0.8843766,\n",
       " 'method_l2': 0.1939879}"
      ]
     },
     "execution_count": 21,
     "metadata": {},
     "output_type": "execute_result"
    }
   ],
   "source": [
    "dev_tracker = make_tracker(model_GoalPricerange,\n",
    "                           model_GoalArea,\n",
    "                           model_GoalName,\n",
    "                           model_GoalFood,\n",
    "                           model_Requested,\n",
    "                           model_Method,\n",
    "                           raw_X_dev, raw_Y_dev, dataset = \"dstc2_dev\", percentage = 1.0)\n",
    "get_scores(dev_tracker, dataset = \"dstc2_dev\")"
   ]
  },
  {
   "cell_type": "code",
   "execution_count": 22,
   "metadata": {},
   "outputs": [
    {
     "data": {
      "application/vnd.jupyter.widget-view+json": {
       "model_id": "c6e362bbfc614f0c8b18b800ff3fb1f4",
       "version_major": 2,
       "version_minor": 0
      },
      "text/plain": [
       "HBox(children=(IntProgress(value=0, max=1117), HTML(value='')))"
      ]
     },
     "metadata": {},
     "output_type": "display_data"
    },
    {
     "name": "stdout",
     "output_type": "stream",
     "text": [
      "\n"
     ]
    },
    {
     "data": {
      "text/plain": [
       "{'goal_pricerange_accuracy': 0.8999702,\n",
       " 'goal_pricerange_l2': 0.1616,\n",
       " 'goal_area_accuracy': 0.8712836,\n",
       " 'goal_area_l2': 0.2099117,\n",
       " 'goal_name_accuracy': 0.961326,\n",
       " 'goal_name_l2': 0.0771805,\n",
       " 'goal_food_accuracy': 0.7859626,\n",
       " 'goal_food_l2': 0.3395131,\n",
       " 'goal_accuracy': 0.6420683,\n",
       " 'goal_l2': 0.5420125,\n",
       " 'requested_accuracy': 0.9567633,\n",
       " 'requested_l2': 0.0826556,\n",
       " 'method_accuracy': 0.9063013,\n",
       " 'method_l2': 0.1489813}"
      ]
     },
     "execution_count": 22,
     "metadata": {},
     "output_type": "execute_result"
    }
   ],
   "source": [
    "test_tracker = make_tracker(model_GoalPricerange,\n",
    "                            model_GoalArea,\n",
    "                            model_GoalName,\n",
    "                            model_GoalFood,\n",
    "                            model_Requested,\n",
    "                            model_Method,\n",
    "                            raw_X_test, raw_Y_test, dataset = \"dstc2_test\", percentage = 1.0)\n",
    "get_scores(test_tracker, dataset = \"dstc2_test\")"
   ]
  },
  {
   "cell_type": "markdown",
   "metadata": {},
   "source": [
    "### Predictor utilities"
   ]
  },
  {
   "cell_type": "code",
   "execution_count": 23,
   "metadata": {},
   "outputs": [],
   "source": [
    "def compute_predictor_loss(model, model_predictor, raw_X, predictor_Y, objective, device):\n",
    "    \n",
    "    model = model.eval()\n",
    "    \n",
    "    model_predictor = model_predictor.eval()\n",
    "    \n",
    "    loss = 0\n",
    "                           \n",
    "    for raw_X_dialog, predictor_Y_dialog in zip(raw_X, predictor_Y):\n",
    "\n",
    "            model.hidden = model.init_hidden()\n",
    "\n",
    "            for raw_X_turn, predictor_Y_turn in zip(raw_X_dialog[\"turns\"], predictor_Y_dialog[\"turns\"]):\n",
    "\n",
    "                indices, scores = get_index_and_score(raw_X_turn, token_to_index, mode = \"eval\", device = DEVICE)\n",
    "\n",
    "                model_tensor = model(indices, scores, predictor_mode = True)\n",
    "                \n",
    "                model_predictions = model_predictor(model_tensor)\n",
    "\n",
    "                for model_prediction, gold_prediction in zip(model_predictions, predictor_Y_turn[objective]):\n",
    "\n",
    "                    model_prediction = model_prediction.unsqueeze(0)\n",
    "                    \n",
    "                    gold_prediction = torch.tensor([gold_prediction], dtype = torch.long, device = DEVICE)\n",
    "\n",
    "                    prediction_loss = PREDICTOR_LOSS_FUNCTION(model_prediction, gold_prediction)\n",
    "\n",
    "                    loss += prediction_loss\n",
    "    return loss\n",
    "\n",
    "def get_gaps_vector(vector):\n",
    "    gaps_vector = []\n",
    "    \n",
    "    for value in vector:\n",
    "        if value == vector[-1]:\n",
    "            gaps_vector.append(0)\n",
    "        else:\n",
    "            gaps_vector.append(1)\n",
    "    \n",
    "    return gaps_vector\n",
    "\n",
    "\n",
    "def get_predictor_score(dataset, session_id, turns_so_far):\n",
    "    start_time = time.time()\n",
    "    \n",
    "    tracker_json = {}\n",
    "    tracker_json[\"dataset\"] = dataset\n",
    "    tracker_json[\"sessions\"] = []\n",
    "    \n",
    "    session = {}\n",
    "    session[\"session-id\"] = session_id\n",
    "    session[\"turns\"] = turns_so_far\n",
    "    \n",
    "    tracker_json[\"sessions\"].append(session)\n",
    "        \n",
    "    end_time = time.time()\n",
    "    \n",
    "    tracker_json[\"wall-time\"] = end_time - start_time\n",
    "    \n",
    "    return get_scores(tracker_json, dataset, predictor = True)\n",
    "    \n",
    "\n",
    "def get_predictor_Y(model_GoalPricerange, model_GoalArea, model_GoalName, model_GoalFood, model_Requested, model_Method, dataset, ontology):\n",
    "    \n",
    "    predictor_Y = []\n",
    "    \n",
    "    if dataset == \"dstc2_train\":\n",
    "        raw_X = raw_X_train\n",
    "        raw_Y = raw_Y_train\n",
    "    elif dataset == \"dstc2_dev\":\n",
    "        raw_X = raw_X_dev\n",
    "        raw_Y = raw_Y_dev\n",
    "    else: # dataset == \"dstc2_test\"\n",
    "        raw_X = raw_X_test\n",
    "        raw_Y = raw_Y_test\n",
    "    \n",
    "    model_GoalPricerange = model_GoalPricerange.eval()\n",
    "    model_GoalArea = model_GoalArea.eval()\n",
    "    model_GoalName = model_GoalName.eval()\n",
    "    model_GoalFood = model_GoalFood.eval()\n",
    "    model_Requested = model_Requested.eval()\n",
    "    model_Method = model_Method.eval()\n",
    "    \n",
    "    for raw_X_dialog, raw_Y_dialog in tqdm_notebook(zip(raw_X, raw_Y), total = len(raw_X)):\n",
    "        \n",
    "        assert(raw_X_dialog[\"session-id\"] == raw_Y_dialog[\"session-id\"])\n",
    "        \n",
    "        predictor_Y_dialog = {}\n",
    "        predictor_Y_dialog[\"session-id\"] = raw_Y_dialog[\"session-id\"]\n",
    "        predictor_Y_dialog[\"turns\"] = []\n",
    "        \n",
    "        model_GoalPricerange.hidden = model_GoalPricerange.init_hidden()\n",
    "        model_GoalArea.hidden = model_GoalArea.init_hidden()\n",
    "        model_GoalName.hidden = model_GoalName.init_hidden()\n",
    "        model_GoalFood.hidden = model_GoalFood.init_hidden()\n",
    "        model_Requested.hidden = model_Requested.init_hidden()\n",
    "        model_Method.hidden = model_Method.init_hidden()\n",
    "\n",
    "        turns_so_far = []\n",
    "\n",
    "        for raw_X_turn, raw_Y_turn in zip(raw_X_dialog[\"turns\"], raw_Y_dialog[\"turns\"]):\n",
    "            \n",
    "            predictor_Y_turn = {}\n",
    "            predictor_Y_turn[\"goal_pricerange_predictor\"] = []\n",
    "            predictor_Y_turn[\"goal_area_predictor\"] = []\n",
    "            predictor_Y_turn[\"goal_name_predictor\"] = []\n",
    "            predictor_Y_turn[\"goal_food_predictor\"] = []\n",
    "            predictor_Y_turn[\"requested_predictor\"] = []\n",
    "            predictor_Y_turn[\"method_predictor\"] = []\n",
    "            \n",
    "            turn = {}\n",
    "            turn[\"goal-labels\"] = {}\n",
    "\n",
    "            indices, scores = get_index_and_score(raw_X_turn, token_to_index, mode = \"eval\", device = DEVICE)\n",
    "\n",
    "            goal_foods = model_GoalFood(indices, scores)\n",
    "            goal_priceranges = model_GoalPricerange(indices, scores)\n",
    "            goal_names = model_GoalName(indices, scores)\n",
    "            goal_areas = model_GoalArea(indices, scores)\n",
    "            requesteds = model_Requested(indices, scores)\n",
    "            methods = model_Method(indices, scores)\n",
    "            \n",
    "            for goal_food, goal_pricerange, goal_name, goal_area, requested, method in zip(goal_foods, goal_priceranges, goal_names, goal_areas, requesteds, methods):\n",
    "                \n",
    "                turns_so_far_copy = copy.deepcopy(turns_so_far)\n",
    "                \n",
    "                turn[\"goal-labels\"][\"food\"] = retrieve_output_GoalFood(goal_food, ontology)\n",
    "                turn[\"goal-labels\"][\"pricerange\"] = retrieve_output_GoalPricerange(goal_pricerange, ontology)\n",
    "                turn[\"goal-labels\"][\"name\"] = retrieve_output_GoalName(goal_name, ontology)\n",
    "                turn[\"goal-labels\"][\"area\"] = retrieve_output_GoalArea(goal_area, ontology)\n",
    "                turn[\"requested-slots\"] = retrieve_output_Requested(requested, ontology)\n",
    "                turn[\"method-label\"] = retrieve_output_Method(method, ontology)\n",
    "            \n",
    "                turns_so_far_copy.append(turn)\n",
    "                \n",
    "                scores_dict = get_predictor_score(dataset, raw_X_dialog[\"session-id\"], turns_so_far_copy)\n",
    "                \n",
    "                predictor_Y_turn[\"goal_pricerange_predictor\"].append(scores_dict[\"goal_pricerange_accuracy\"])\n",
    "                predictor_Y_turn[\"goal_area_predictor\"].append(scores_dict[\"goal_area_accuracy\"])\n",
    "                predictor_Y_turn[\"goal_name_predictor\"].append(scores_dict[\"goal_name_accuracy\"])\n",
    "                predictor_Y_turn[\"goal_food_predictor\"].append(scores_dict[\"goal_food_accuracy\"])\n",
    "                predictor_Y_turn[\"requested_predictor\"].append(scores_dict[\"requested_accuracy\"])\n",
    "                predictor_Y_turn[\"method_predictor\"].append(scores_dict[\"method_accuracy\"])\n",
    "                                \n",
    "            turns_so_far.append(turn)\n",
    "                \n",
    "            predictor_Y_turn[\"goal_pricerange_predictor\"] = get_gaps_vector(predictor_Y_turn[\"goal_pricerange_predictor\"])\n",
    "            predictor_Y_turn[\"goal_area_predictor\"] = get_gaps_vector(predictor_Y_turn[\"goal_area_predictor\"])\n",
    "            predictor_Y_turn[\"goal_name_predictor\"] = get_gaps_vector(predictor_Y_turn[\"goal_name_predictor\"])\n",
    "            predictor_Y_turn[\"goal_food_predictor\"] = get_gaps_vector(predictor_Y_turn[\"goal_food_predictor\"])\n",
    "            predictor_Y_turn[\"requested_predictor\"] = get_gaps_vector(predictor_Y_turn[\"requested_predictor\"])\n",
    "            predictor_Y_turn[\"method_predictor\"] = get_gaps_vector(predictor_Y_turn[\"method_predictor\"])\n",
    "            \n",
    "            predictor_Y_dialog[\"turns\"].append(predictor_Y_turn)\n",
    "            \n",
    "        predictor_Y.append(predictor_Y_dialog) \n",
    "    \n",
    "    return np.array(predictor_Y)"
   ]
  },
  {
   "cell_type": "markdown",
   "metadata": {},
   "source": [
    "### Compute development set predictor labels"
   ]
  },
  {
   "cell_type": "code",
   "execution_count": null,
   "metadata": {
    "scrolled": true
   },
   "outputs": [],
   "source": [
    "dev_predictor_Y = get_predictor_Y(model_GoalPricerange,\n",
    "                                  model_GoalArea,\n",
    "                                  model_GoalName,\n",
    "                                  model_GoalFood,\n",
    "                                  model_Requested,\n",
    "                                  model_Method,\n",
    "                                  \"dstc2_dev\",\n",
    "                                  ontology)"
   ]
  },
  {
   "cell_type": "markdown",
   "metadata": {},
   "source": [
    "### Save development set predictor labels"
   ]
  },
  {
   "cell_type": "code",
   "execution_count": null,
   "metadata": {},
   "outputs": [],
   "source": [
    "np.save(\"dev_predictor_Y\", dev_predictor_Y)"
   ]
  },
  {
   "cell_type": "markdown",
   "metadata": {},
   "source": [
    "### Load development set predictor labels"
   ]
  },
  {
   "cell_type": "code",
   "execution_count": 24,
   "metadata": {},
   "outputs": [],
   "source": [
    "dev_predictor_Y = np.load(\"dev_predictor_Y.npy\")"
   ]
  },
  {
   "cell_type": "markdown",
   "metadata": {},
   "source": [
    "### Compute train set predictor labels"
   ]
  },
  {
   "cell_type": "code",
   "execution_count": null,
   "metadata": {},
   "outputs": [],
   "source": [
    "train_predictor_Y = get_predictor_Y(model_GoalPricerange,\n",
    "                                    model_GoalArea,\n",
    "                                    model_GoalName,\n",
    "                                    model_GoalFood,\n",
    "                                    model_Requested,\n",
    "                                    model_Method,\n",
    "                                    \"dstc2_train\",\n",
    "                                    ontology)"
   ]
  },
  {
   "cell_type": "markdown",
   "metadata": {},
   "source": [
    "### Save train set predictor labels"
   ]
  },
  {
   "cell_type": "code",
   "execution_count": null,
   "metadata": {},
   "outputs": [],
   "source": [
    "np.save(\"train_predictor_Y\", train_predictor_Y)"
   ]
  },
  {
   "cell_type": "markdown",
   "metadata": {},
   "source": [
    "### Load train set predictor labels"
   ]
  },
  {
   "cell_type": "code",
   "execution_count": 25,
   "metadata": {},
   "outputs": [],
   "source": [
    "train_predictor_Y = np.load(\"train_predictor_Y.npy\")"
   ]
  },
  {
   "cell_type": "markdown",
   "metadata": {},
   "source": [
    "### Goal Pricerange Predictor Model"
   ]
  },
  {
   "cell_type": "code",
   "execution_count": 30,
   "metadata": {},
   "outputs": [],
   "source": [
    "class GoalPricerangePredictorModel(nn.Module):\n",
    "    \n",
    "    def __init__(self,\n",
    "                 input_dim,\n",
    "                 goal_pricerange_predictor_dim,\n",
    "                 device):\n",
    "        \n",
    "        super(GoalPricerangePredictorModel, self).__init__()\n",
    "        \n",
    "        self.goal_pricerange_predictor_dim = goal_pricerange_predictor_dim\n",
    "        self.goal_pricerange_predictor_classifier = nn.Linear(in_features = input_dim,\n",
    "                                                              out_features = goal_pricerange_predictor_dim)\n",
    "        \n",
    "    def forward(self, input_tensor):\n",
    "    \n",
    "        goal_pricerange_predictor = F.log_softmax(self.goal_pricerange_predictor_classifier(input_tensor).view(-1, self.goal_pricerange_predictor_dim), dim = 1) \n",
    "        \n",
    "        return goal_pricerange_predictor\n",
    "\n",
    "model_GoalPricerangePredictor = GoalPricerangePredictorModel(input_dim = HIDDEN_DIM,\n",
    "                                                             goal_pricerange_predictor_dim = PREDICTOR_DIM,\n",
    "                                                             device = DEVICE)\n",
    "\n",
    "model_GoalPricerangePredictor = model_GoalPricerangePredictor.to(DEVICE)\n",
    "\n",
    "optimizer_GoalPricerangePredictorModel = optim.Adam(model_GoalPricerangePredictor.parameters(), lr = 1e-3, amsgrad = True)"
   ]
  },
  {
   "cell_type": "markdown",
   "metadata": {},
   "source": [
    "### Goal Area Predictor Model"
   ]
  },
  {
   "cell_type": "code",
   "execution_count": 42,
   "metadata": {},
   "outputs": [],
   "source": [
    "class GoalAreaPredictorModel(nn.Module):\n",
    "    \n",
    "    def __init__(self,\n",
    "                 input_dim,\n",
    "                 goal_area_predictor_dim,\n",
    "                 device):\n",
    "        \n",
    "        super(GoalAreaPredictorModel, self).__init__()\n",
    "        \n",
    "        self.goal_area_predictor_dim = goal_area_predictor_dim\n",
    "        self.goal_area_predictor_classifier = nn.Linear(in_features = input_dim,\n",
    "                                                        out_features = goal_area_predictor_dim)\n",
    "        \n",
    "    def forward(self, input_tensor):\n",
    "    \n",
    "        goal_area_predictor = F.log_softmax(self.goal_area_predictor_classifier(input_tensor).view(-1, self.goal_area_predictor_dim), dim = 1)\n",
    "        \n",
    "        return goal_area_predictor\n",
    "\n",
    "model_GoalAreaPredictor = GoalAreaPredictorModel(input_dim = HIDDEN_DIM,\n",
    "                                                 goal_area_predictor_dim = PREDICTOR_DIM,\n",
    "                                                 device = DEVICE)\n",
    "\n",
    "model_GoalAreaPredictor = model_GoalAreaPredictor.to(DEVICE)\n",
    "\n",
    "optimizer_GoalAreaPredictorModel = optim.Adam(model_GoalAreaPredictor.parameters(), lr = 1e-3, amsgrad = True) "
   ]
  },
  {
   "cell_type": "markdown",
   "metadata": {},
   "source": [
    "### Goal Name Predictor Model"
   ]
  },
  {
   "cell_type": "code",
   "execution_count": 32,
   "metadata": {},
   "outputs": [],
   "source": [
    "class GoalNamePredictorModel(nn.Module):\n",
    "    \n",
    "    def __init__(self,\n",
    "                 input_dim,\n",
    "                 goal_name_predictor_dim,\n",
    "                 device):\n",
    "        \n",
    "        super(GoalNamePredictorModel, self).__init__()\n",
    "        \n",
    "        self.goal_name_predictor_dim = goal_name_predictor_dim\n",
    "        self.goal_name_predictor_classifier = nn.Linear(in_features = input_dim,\n",
    "                                                        out_features = goal_name_predictor_dim)\n",
    "        \n",
    "    def forward(self, input_tensor):\n",
    "    \n",
    "        goal_name_predictor = F.log_softmax(self.goal_name_predictor_classifier(input_tensor).view(-1, self.goal_name_predictor_dim), dim = 1)\n",
    "        \n",
    "        return goal_name_predictor\n",
    "\n",
    "model_GoalNamePredictor = GoalNamePredictorModel(input_dim = HIDDEN_DIM,\n",
    "                                                 goal_name_predictor_dim = PREDICTOR_DIM,\n",
    "                                                 device = DEVICE)\n",
    "\n",
    "model_GoalNamePredictor = model_GoalNamePredictor.to(DEVICE)\n",
    "\n",
    "optimizer_GoalNamePredictorModel = optim.Adam(model_GoalNamePredictor.parameters(), lr = 1e-3, amsgrad = True) "
   ]
  },
  {
   "cell_type": "markdown",
   "metadata": {},
   "source": [
    "### Goal Food Predictor Model"
   ]
  },
  {
   "cell_type": "code",
   "execution_count": 33,
   "metadata": {},
   "outputs": [],
   "source": [
    "class GoalFoodPredictorModel(nn.Module):\n",
    "    \n",
    "    def __init__(self,\n",
    "                 input_dim,\n",
    "                 goal_food_predictor_dim,\n",
    "                 device):\n",
    "        \n",
    "        super(GoalFoodPredictorModel, self).__init__()\n",
    "        \n",
    "        self.goal_food_predictor_dim = goal_food_predictor_dim\n",
    "        self.goal_food_predictor_classifier = nn.Linear(in_features = input_dim,\n",
    "                                                        out_features = goal_food_predictor_dim)\n",
    "        \n",
    "    def forward(self, input_tensor):\n",
    "    \n",
    "        goal_food_predictor = F.log_softmax(self.goal_food_predictor_classifier(input_tensor).view(-1, self.goal_food_predictor_dim), dim = 1)        \n",
    "        \n",
    "        return goal_food_predictor\n",
    "\n",
    "model_GoalFoodPredictor = GoalFoodPredictorModel(input_dim = HIDDEN_DIM,\n",
    "                                                 goal_food_predictor_dim = PREDICTOR_DIM,\n",
    "                                                 device = DEVICE)\n",
    "\n",
    "model_GoalFoodPredictor = model_GoalFoodPredictor.to(DEVICE)\n",
    "\n",
    "optimizer_GoalFoodPredictorModel = optim.Adam(model_GoalFoodPredictor.parameters(), lr = 1e-3, amsgrad = True) "
   ]
  },
  {
   "cell_type": "markdown",
   "metadata": {},
   "source": [
    "### Requested Predictor Model"
   ]
  },
  {
   "cell_type": "code",
   "execution_count": 34,
   "metadata": {},
   "outputs": [],
   "source": [
    "class RequestedPredictorModel(nn.Module):\n",
    "    \n",
    "    def __init__(self,\n",
    "                 input_dim,\n",
    "                 requested_predictor_dim,\n",
    "                 device):\n",
    "        \n",
    "        super(RequestedPredictorModel, self).__init__()\n",
    "        \n",
    "        self.requested_predictor_dim = requested_predictor_dim\n",
    "        self.requested_predictor_classifier = nn.Linear(in_features = input_dim,\n",
    "                                                        out_features = requested_predictor_dim)\n",
    "        \n",
    "    def forward(self, input_tensor):\n",
    "    \n",
    "        requested_predictor = F.log_softmax(self.requested_predictor_classifier(input_tensor).view(-1, self.requested_predictor_dim), dim = 1)\n",
    "        \n",
    "        return requested_predictor\n",
    "\n",
    "model_RequestedPredictor = RequestedPredictorModel(input_dim = HIDDEN_DIM,\n",
    "                                                   requested_predictor_dim = PREDICTOR_DIM,\n",
    "                                                   device = DEVICE)\n",
    "\n",
    "model_RequestedPredictor = model_RequestedPredictor.to(DEVICE)\n",
    "\n",
    "optimizer_RequestedPredictorModel = optim.Adam(model_RequestedPredictor.parameters(), lr = 1e-3, amsgrad = True)"
   ]
  },
  {
   "cell_type": "markdown",
   "metadata": {},
   "source": [
    "### Method Predictor Model"
   ]
  },
  {
   "cell_type": "code",
   "execution_count": 35,
   "metadata": {},
   "outputs": [],
   "source": [
    "class MethodPredictorModel(nn.Module):\n",
    "    \n",
    "    def __init__(self,\n",
    "                 input_dim,\n",
    "                 method_predictor_dim,\n",
    "                 device):\n",
    "        \n",
    "        super(MethodPredictorModel, self).__init__()\n",
    "        \n",
    "        self.method_predictor_dim = method_predictor_dim\n",
    "        self.method_predictor_classifier = nn.Linear(in_features = input_dim,\n",
    "                                                     out_features = method_predictor_dim)\n",
    "        \n",
    "    def forward(self, input_tensor):\n",
    "    \n",
    "        method_predictor = F.log_softmax(self.method_predictor_classifier(input_tensor).view(-1, self.method_predictor_dim), dim = 1)\n",
    "        \n",
    "        return method_predictor\n",
    "\n",
    "model_MethodPredictor = MethodPredictorModel(input_dim = HIDDEN_DIM,\n",
    "                                             method_predictor_dim = PREDICTOR_DIM,\n",
    "                                             device = DEVICE)\n",
    "\n",
    "model_MethodPredictor = model_MethodPredictor.to(DEVICE)\n",
    "\n",
    "optimizer_MethodPredictorModel = optim.Adam(model_MethodPredictor.parameters(), lr = 1e-3, amsgrad = True) "
   ]
  },
  {
   "cell_type": "markdown",
   "metadata": {},
   "source": [
    "### Train Goal Pricerange Predictor Model"
   ]
  },
  {
   "cell_type": "code",
   "execution_count": 36,
   "metadata": {},
   "outputs": [
    {
     "name": "stderr",
     "output_type": "stream",
     "text": [
      "INFO:root:Epoch\t1/100\n"
     ]
    },
    {
     "data": {
      "application/vnd.jupyter.widget-view+json": {
       "model_id": "acf06b4e996b4e8eaff364ffc6ce9577",
       "version_major": 2,
       "version_minor": 0
      },
      "text/plain": [
       "HBox(children=(IntProgress(value=0, max=323), HTML(value='')))"
      ]
     },
     "metadata": {},
     "output_type": "display_data"
    },
    {
     "name": "stdout",
     "output_type": "stream",
     "text": [
      "\n"
     ]
    },
    {
     "name": "stderr",
     "output_type": "stream",
     "text": [
      "INFO:root:TRAIN LOSS: 26185.39453125\tDEV LOSS: 4908.0810546875\n",
      "INFO:root:Epoch\t2/100\n"
     ]
    },
    {
     "data": {
      "application/vnd.jupyter.widget-view+json": {
       "model_id": "6079370eb3c941cfbf16adb82288de69",
       "version_major": 2,
       "version_minor": 0
      },
      "text/plain": [
       "HBox(children=(IntProgress(value=0, max=323), HTML(value='')))"
      ]
     },
     "metadata": {},
     "output_type": "display_data"
    },
    {
     "name": "stdout",
     "output_type": "stream",
     "text": [
      "\n"
     ]
    },
    {
     "name": "stderr",
     "output_type": "stream",
     "text": [
      "INFO:root:TRAIN LOSS: 24193.6328125\tDEV LOSS: 4697.494140625\n",
      "INFO:root:Epoch\t3/100\n"
     ]
    },
    {
     "data": {
      "application/vnd.jupyter.widget-view+json": {
       "model_id": "08e2635214c141bc95a7b6e7be1a522b",
       "version_major": 2,
       "version_minor": 0
      },
      "text/plain": [
       "HBox(children=(IntProgress(value=0, max=323), HTML(value='')))"
      ]
     },
     "metadata": {},
     "output_type": "display_data"
    },
    {
     "name": "stdout",
     "output_type": "stream",
     "text": [
      "\n"
     ]
    },
    {
     "name": "stderr",
     "output_type": "stream",
     "text": [
      "INFO:root:TRAIN LOSS: 23446.107421875\tDEV LOSS: 4620.998046875\n",
      "INFO:root:Epoch\t4/100\n"
     ]
    },
    {
     "data": {
      "application/vnd.jupyter.widget-view+json": {
       "model_id": "babc602259fc48daab031e166c99a816",
       "version_major": 2,
       "version_minor": 0
      },
      "text/plain": [
       "HBox(children=(IntProgress(value=0, max=323), HTML(value='')))"
      ]
     },
     "metadata": {},
     "output_type": "display_data"
    },
    {
     "name": "stdout",
     "output_type": "stream",
     "text": [
      "\n"
     ]
    },
    {
     "name": "stderr",
     "output_type": "stream",
     "text": [
      "INFO:root:TRAIN LOSS: 22957.142578125\tDEV LOSS: 4565.591796875\n",
      "INFO:root:Epoch\t5/100\n"
     ]
    },
    {
     "data": {
      "application/vnd.jupyter.widget-view+json": {
       "model_id": "1f8899cc74f64b3cb9534a51978e0902",
       "version_major": 2,
       "version_minor": 0
      },
      "text/plain": [
       "HBox(children=(IntProgress(value=0, max=323), HTML(value='')))"
      ]
     },
     "metadata": {},
     "output_type": "display_data"
    },
    {
     "name": "stdout",
     "output_type": "stream",
     "text": [
      "\n"
     ]
    },
    {
     "name": "stderr",
     "output_type": "stream",
     "text": [
      "INFO:root:TRAIN LOSS: 22663.927734375\tDEV LOSS: 4548.5048828125\n",
      "INFO:root:Epoch\t6/100\n"
     ]
    },
    {
     "data": {
      "application/vnd.jupyter.widget-view+json": {
       "model_id": "2fe5bf598715418a87dad1a12ca4e9cf",
       "version_major": 2,
       "version_minor": 0
      },
      "text/plain": [
       "HBox(children=(IntProgress(value=0, max=323), HTML(value='')))"
      ]
     },
     "metadata": {},
     "output_type": "display_data"
    },
    {
     "name": "stdout",
     "output_type": "stream",
     "text": [
      "\n"
     ]
    },
    {
     "name": "stderr",
     "output_type": "stream",
     "text": [
      "INFO:root:TRAIN LOSS: 22370.8359375\tDEV LOSS: 4496.3544921875\n",
      "INFO:root:Epoch\t7/100\n"
     ]
    },
    {
     "data": {
      "application/vnd.jupyter.widget-view+json": {
       "model_id": "3e24d64e4a064cc9b227f7edb838a67f",
       "version_major": 2,
       "version_minor": 0
      },
      "text/plain": [
       "HBox(children=(IntProgress(value=0, max=323), HTML(value='')))"
      ]
     },
     "metadata": {},
     "output_type": "display_data"
    },
    {
     "name": "stdout",
     "output_type": "stream",
     "text": [
      "\n"
     ]
    },
    {
     "name": "stderr",
     "output_type": "stream",
     "text": [
      "INFO:root:TRAIN LOSS: 22194.48828125\tDEV LOSS: 4465.8076171875\n",
      "INFO:root:Epoch\t8/100\n"
     ]
    },
    {
     "data": {
      "application/vnd.jupyter.widget-view+json": {
       "model_id": "e35a9142b3424ff3a9926e9c7e382a3d",
       "version_major": 2,
       "version_minor": 0
      },
      "text/plain": [
       "HBox(children=(IntProgress(value=0, max=323), HTML(value='')))"
      ]
     },
     "metadata": {},
     "output_type": "display_data"
    },
    {
     "name": "stdout",
     "output_type": "stream",
     "text": [
      "\n"
     ]
    },
    {
     "name": "stderr",
     "output_type": "stream",
     "text": [
      "INFO:root:TRAIN LOSS: 22023.0078125\tDEV LOSS: 4452.13818359375\n",
      "INFO:root:Epoch\t9/100\n"
     ]
    },
    {
     "data": {
      "application/vnd.jupyter.widget-view+json": {
       "model_id": "fbaf9555aa304c18a1539a92a347071b",
       "version_major": 2,
       "version_minor": 0
      },
      "text/plain": [
       "HBox(children=(IntProgress(value=0, max=323), HTML(value='')))"
      ]
     },
     "metadata": {},
     "output_type": "display_data"
    },
    {
     "name": "stdout",
     "output_type": "stream",
     "text": [
      "\n"
     ]
    },
    {
     "name": "stderr",
     "output_type": "stream",
     "text": [
      "INFO:root:TRAIN LOSS: 21910.935546875\tDEV LOSS: 4432.619140625\n",
      "INFO:root:Epoch\t10/100\n"
     ]
    },
    {
     "data": {
      "application/vnd.jupyter.widget-view+json": {
       "model_id": "53f8b808ad39417c86937ab2618dfcc1",
       "version_major": 2,
       "version_minor": 0
      },
      "text/plain": [
       "HBox(children=(IntProgress(value=0, max=323), HTML(value='')))"
      ]
     },
     "metadata": {},
     "output_type": "display_data"
    },
    {
     "name": "stdout",
     "output_type": "stream",
     "text": [
      "\n"
     ]
    },
    {
     "name": "stderr",
     "output_type": "stream",
     "text": [
      "INFO:root:TRAIN LOSS: 21802.248046875\tDEV LOSS: 4417.95947265625\n",
      "INFO:root:Epoch\t11/100\n"
     ]
    },
    {
     "data": {
      "application/vnd.jupyter.widget-view+json": {
       "model_id": "7b32e35213e94fac9ad2300d25066c58",
       "version_major": 2,
       "version_minor": 0
      },
      "text/plain": [
       "HBox(children=(IntProgress(value=0, max=323), HTML(value='')))"
      ]
     },
     "metadata": {},
     "output_type": "display_data"
    },
    {
     "name": "stdout",
     "output_type": "stream",
     "text": [
      "\n"
     ]
    },
    {
     "name": "stderr",
     "output_type": "stream",
     "text": [
      "INFO:root:TRAIN LOSS: 21742.640625\tDEV LOSS: 4404.26611328125\n",
      "INFO:root:Epoch\t12/100\n"
     ]
    },
    {
     "data": {
      "application/vnd.jupyter.widget-view+json": {
       "model_id": "18535ead7ee64fc1bbd2d057110e9624",
       "version_major": 2,
       "version_minor": 0
      },
      "text/plain": [
       "HBox(children=(IntProgress(value=0, max=323), HTML(value='')))"
      ]
     },
     "metadata": {},
     "output_type": "display_data"
    },
    {
     "name": "stdout",
     "output_type": "stream",
     "text": [
      "\n"
     ]
    },
    {
     "name": "stderr",
     "output_type": "stream",
     "text": [
      "INFO:root:TRAIN LOSS: 21649.859375\tDEV LOSS: 4416.71875\n",
      "INFO:root:Epoch\t13/100\n"
     ]
    },
    {
     "data": {
      "application/vnd.jupyter.widget-view+json": {
       "model_id": "52e576ebc0774a0bab16eec23f590728",
       "version_major": 2,
       "version_minor": 0
      },
      "text/plain": [
       "HBox(children=(IntProgress(value=0, max=323), HTML(value='')))"
      ]
     },
     "metadata": {},
     "output_type": "display_data"
    },
    {
     "name": "stdout",
     "output_type": "stream",
     "text": [
      "\n"
     ]
    },
    {
     "name": "stderr",
     "output_type": "stream",
     "text": [
      "INFO:root:TRAIN LOSS: 21559.923828125\tDEV LOSS: 4387.84814453125\n",
      "INFO:root:Epoch\t14/100\n"
     ]
    },
    {
     "data": {
      "application/vnd.jupyter.widget-view+json": {
       "model_id": "31f82da9e49549fa995568e30ab8160d",
       "version_major": 2,
       "version_minor": 0
      },
      "text/plain": [
       "HBox(children=(IntProgress(value=0, max=323), HTML(value='')))"
      ]
     },
     "metadata": {},
     "output_type": "display_data"
    },
    {
     "name": "stdout",
     "output_type": "stream",
     "text": [
      "\n"
     ]
    },
    {
     "name": "stderr",
     "output_type": "stream",
     "text": [
      "INFO:root:TRAIN LOSS: 21517.826171875\tDEV LOSS: 4370.34130859375\n",
      "INFO:root:Epoch\t15/100\n"
     ]
    },
    {
     "data": {
      "application/vnd.jupyter.widget-view+json": {
       "model_id": "d5819d3c597a44b9afede1b471c04bd9",
       "version_major": 2,
       "version_minor": 0
      },
      "text/plain": [
       "HBox(children=(IntProgress(value=0, max=323), HTML(value='')))"
      ]
     },
     "metadata": {},
     "output_type": "display_data"
    },
    {
     "name": "stdout",
     "output_type": "stream",
     "text": [
      "\n"
     ]
    },
    {
     "name": "stderr",
     "output_type": "stream",
     "text": [
      "INFO:root:TRAIN LOSS: 21467.572265625\tDEV LOSS: 4384.87744140625\n",
      "INFO:root:Epoch\t16/100\n"
     ]
    },
    {
     "data": {
      "application/vnd.jupyter.widget-view+json": {
       "model_id": "ff8987ade7e84ffa998b97b04a714072",
       "version_major": 2,
       "version_minor": 0
      },
      "text/plain": [
       "HBox(children=(IntProgress(value=0, max=323), HTML(value='')))"
      ]
     },
     "metadata": {},
     "output_type": "display_data"
    },
    {
     "name": "stdout",
     "output_type": "stream",
     "text": [
      "\n"
     ]
    },
    {
     "name": "stderr",
     "output_type": "stream",
     "text": [
      "INFO:root:TRAIN LOSS: 21398.7578125\tDEV LOSS: 4362.63134765625\n",
      "INFO:root:Epoch\t17/100\n"
     ]
    },
    {
     "data": {
      "application/vnd.jupyter.widget-view+json": {
       "model_id": "ae12eeb9cd2d44348d9e8fa9d5c9f75d",
       "version_major": 2,
       "version_minor": 0
      },
      "text/plain": [
       "HBox(children=(IntProgress(value=0, max=323), HTML(value='')))"
      ]
     },
     "metadata": {},
     "output_type": "display_data"
    },
    {
     "name": "stdout",
     "output_type": "stream",
     "text": [
      "\n"
     ]
    },
    {
     "name": "stderr",
     "output_type": "stream",
     "text": [
      "INFO:root:TRAIN LOSS: 21361.05859375\tDEV LOSS: 4352.11669921875\n",
      "INFO:root:Epoch\t18/100\n"
     ]
    },
    {
     "data": {
      "application/vnd.jupyter.widget-view+json": {
       "model_id": "89592457f2fe4048813462b7a61c8fe1",
       "version_major": 2,
       "version_minor": 0
      },
      "text/plain": [
       "HBox(children=(IntProgress(value=0, max=323), HTML(value='')))"
      ]
     },
     "metadata": {},
     "output_type": "display_data"
    },
    {
     "name": "stdout",
     "output_type": "stream",
     "text": [
      "\n"
     ]
    },
    {
     "name": "stderr",
     "output_type": "stream",
     "text": [
      "INFO:root:TRAIN LOSS: 21321.51171875\tDEV LOSS: 4354.6201171875\n",
      "INFO:root:Epoch\t19/100\n"
     ]
    },
    {
     "data": {
      "application/vnd.jupyter.widget-view+json": {
       "model_id": "bd3a389302934014815cf2109825d6ca",
       "version_major": 2,
       "version_minor": 0
      },
      "text/plain": [
       "HBox(children=(IntProgress(value=0, max=323), HTML(value='')))"
      ]
     },
     "metadata": {},
     "output_type": "display_data"
    },
    {
     "name": "stdout",
     "output_type": "stream",
     "text": [
      "\n"
     ]
    },
    {
     "name": "stderr",
     "output_type": "stream",
     "text": [
      "INFO:root:TRAIN LOSS: 21282.244140625\tDEV LOSS: 4344.84423828125\n",
      "INFO:root:Epoch\t20/100\n"
     ]
    },
    {
     "data": {
      "application/vnd.jupyter.widget-view+json": {
       "model_id": "90354306bca54382a5dc3bd50a790e6d",
       "version_major": 2,
       "version_minor": 0
      },
      "text/plain": [
       "HBox(children=(IntProgress(value=0, max=323), HTML(value='')))"
      ]
     },
     "metadata": {},
     "output_type": "display_data"
    },
    {
     "name": "stdout",
     "output_type": "stream",
     "text": [
      "\n"
     ]
    },
    {
     "name": "stderr",
     "output_type": "stream",
     "text": [
      "INFO:root:TRAIN LOSS: 21249.4765625\tDEV LOSS: 4338.125\n",
      "INFO:root:Epoch\t21/100\n"
     ]
    },
    {
     "data": {
      "application/vnd.jupyter.widget-view+json": {
       "model_id": "4497e70da55b4ce6932662008e6b8836",
       "version_major": 2,
       "version_minor": 0
      },
      "text/plain": [
       "HBox(children=(IntProgress(value=0, max=323), HTML(value='')))"
      ]
     },
     "metadata": {},
     "output_type": "display_data"
    },
    {
     "name": "stdout",
     "output_type": "stream",
     "text": [
      "\n"
     ]
    },
    {
     "name": "stderr",
     "output_type": "stream",
     "text": [
      "INFO:root:TRAIN LOSS: 21221.142578125\tDEV LOSS: 4326.44970703125\n",
      "INFO:root:Epoch\t22/100\n"
     ]
    },
    {
     "data": {
      "application/vnd.jupyter.widget-view+json": {
       "model_id": "074365998fe74775a6df2791d5a9134d",
       "version_major": 2,
       "version_minor": 0
      },
      "text/plain": [
       "HBox(children=(IntProgress(value=0, max=323), HTML(value='')))"
      ]
     },
     "metadata": {},
     "output_type": "display_data"
    },
    {
     "name": "stdout",
     "output_type": "stream",
     "text": [
      "\n"
     ]
    },
    {
     "name": "stderr",
     "output_type": "stream",
     "text": [
      "INFO:root:TRAIN LOSS: 21189.32421875\tDEV LOSS: 4324.5166015625\n",
      "INFO:root:Epoch\t23/100\n"
     ]
    },
    {
     "data": {
      "application/vnd.jupyter.widget-view+json": {
       "model_id": "a3f5c6fc71354a9082ad729736a26235",
       "version_major": 2,
       "version_minor": 0
      },
      "text/plain": [
       "HBox(children=(IntProgress(value=0, max=323), HTML(value='')))"
      ]
     },
     "metadata": {},
     "output_type": "display_data"
    },
    {
     "name": "stdout",
     "output_type": "stream",
     "text": [
      "\n"
     ]
    },
    {
     "name": "stderr",
     "output_type": "stream",
     "text": [
      "INFO:root:TRAIN LOSS: 21165.587890625\tDEV LOSS: 4319.98193359375\n",
      "INFO:root:Epoch\t24/100\n"
     ]
    },
    {
     "data": {
      "application/vnd.jupyter.widget-view+json": {
       "model_id": "236a662aa2934b218193d045c1c174f1",
       "version_major": 2,
       "version_minor": 0
      },
      "text/plain": [
       "HBox(children=(IntProgress(value=0, max=323), HTML(value='')))"
      ]
     },
     "metadata": {},
     "output_type": "display_data"
    },
    {
     "name": "stdout",
     "output_type": "stream",
     "text": [
      "\n"
     ]
    },
    {
     "name": "stderr",
     "output_type": "stream",
     "text": [
      "INFO:root:TRAIN LOSS: 21144.318359375\tDEV LOSS: 4329.7958984375\n",
      "INFO:root:Epoch\t25/100\n"
     ]
    },
    {
     "data": {
      "application/vnd.jupyter.widget-view+json": {
       "model_id": "db80a68e9c354f4abf8338b9cc9bb75f",
       "version_major": 2,
       "version_minor": 0
      },
      "text/plain": [
       "HBox(children=(IntProgress(value=0, max=323), HTML(value='')))"
      ]
     },
     "metadata": {},
     "output_type": "display_data"
    },
    {
     "name": "stdout",
     "output_type": "stream",
     "text": [
      "\n"
     ]
    },
    {
     "name": "stderr",
     "output_type": "stream",
     "text": [
      "INFO:root:TRAIN LOSS: 21152.169921875\tDEV LOSS: 4340.19580078125\n",
      "INFO:root:Epoch\t26/100\n"
     ]
    },
    {
     "data": {
      "application/vnd.jupyter.widget-view+json": {
       "model_id": "9a26a9f3a07f4bce98e021d7841d14ea",
       "version_major": 2,
       "version_minor": 0
      },
      "text/plain": [
       "HBox(children=(IntProgress(value=0, max=323), HTML(value='')))"
      ]
     },
     "metadata": {},
     "output_type": "display_data"
    },
    {
     "name": "stdout",
     "output_type": "stream",
     "text": [
      "\n"
     ]
    },
    {
     "name": "stderr",
     "output_type": "stream",
     "text": [
      "INFO:root:TRAIN LOSS: 21098.3984375\tDEV LOSS: 4319.4111328125\n",
      "INFO:root:Epoch\t27/100\n"
     ]
    },
    {
     "data": {
      "application/vnd.jupyter.widget-view+json": {
       "model_id": "3f2ab9e43cf84c848f62a4cd6edc0690",
       "version_major": 2,
       "version_minor": 0
      },
      "text/plain": [
       "HBox(children=(IntProgress(value=0, max=323), HTML(value='')))"
      ]
     },
     "metadata": {},
     "output_type": "display_data"
    },
    {
     "name": "stdout",
     "output_type": "stream",
     "text": [
      "\n"
     ]
    },
    {
     "name": "stderr",
     "output_type": "stream",
     "text": [
      "INFO:root:TRAIN LOSS: 21076.376953125\tDEV LOSS: 4314.771484375\n",
      "INFO:root:Epoch\t28/100\n"
     ]
    },
    {
     "data": {
      "application/vnd.jupyter.widget-view+json": {
       "model_id": "ca404c4bed7f490dbca74a5f2a9975cc",
       "version_major": 2,
       "version_minor": 0
      },
      "text/plain": [
       "HBox(children=(IntProgress(value=0, max=323), HTML(value='')))"
      ]
     },
     "metadata": {},
     "output_type": "display_data"
    },
    {
     "name": "stdout",
     "output_type": "stream",
     "text": [
      "\n"
     ]
    },
    {
     "name": "stderr",
     "output_type": "stream",
     "text": [
      "INFO:root:TRAIN LOSS: 21072.556640625\tDEV LOSS: 4302.51953125\n",
      "INFO:root:Epoch\t29/100\n"
     ]
    },
    {
     "data": {
      "application/vnd.jupyter.widget-view+json": {
       "model_id": "b9f18c2dc83d437d97c03271f221c380",
       "version_major": 2,
       "version_minor": 0
      },
      "text/plain": [
       "HBox(children=(IntProgress(value=0, max=323), HTML(value='')))"
      ]
     },
     "metadata": {},
     "output_type": "display_data"
    },
    {
     "name": "stdout",
     "output_type": "stream",
     "text": [
      "\n"
     ]
    },
    {
     "name": "stderr",
     "output_type": "stream",
     "text": [
      "INFO:root:TRAIN LOSS: 21043.283203125\tDEV LOSS: 4308.517578125\n",
      "INFO:root:Epoch\t30/100\n"
     ]
    },
    {
     "data": {
      "application/vnd.jupyter.widget-view+json": {
       "model_id": "b2454880cb92459aae2ad851b5045658",
       "version_major": 2,
       "version_minor": 0
      },
      "text/plain": [
       "HBox(children=(IntProgress(value=0, max=323), HTML(value='')))"
      ]
     },
     "metadata": {},
     "output_type": "display_data"
    },
    {
     "name": "stdout",
     "output_type": "stream",
     "text": [
      "\n"
     ]
    },
    {
     "name": "stderr",
     "output_type": "stream",
     "text": [
      "INFO:root:TRAIN LOSS: 21039.302734375\tDEV LOSS: 4315.4765625\n",
      "INFO:root:Epoch\t31/100\n"
     ]
    },
    {
     "data": {
      "application/vnd.jupyter.widget-view+json": {
       "model_id": "087fce15f1ad422e86d4311ee678da26",
       "version_major": 2,
       "version_minor": 0
      },
      "text/plain": [
       "HBox(children=(IntProgress(value=0, max=323), HTML(value='')))"
      ]
     },
     "metadata": {},
     "output_type": "display_data"
    },
    {
     "name": "stdout",
     "output_type": "stream",
     "text": [
      "\n"
     ]
    },
    {
     "name": "stderr",
     "output_type": "stream",
     "text": [
      "INFO:root:TRAIN LOSS: 21018.16015625\tDEV LOSS: 4303.783203125\n",
      "INFO:root:Epoch\t32/100\n"
     ]
    },
    {
     "data": {
      "application/vnd.jupyter.widget-view+json": {
       "model_id": "567f37c8ed444b6f8417fe5fdcdc4bb7",
       "version_major": 2,
       "version_minor": 0
      },
      "text/plain": [
       "HBox(children=(IntProgress(value=0, max=323), HTML(value='')))"
      ]
     },
     "metadata": {},
     "output_type": "display_data"
    },
    {
     "name": "stdout",
     "output_type": "stream",
     "text": [
      "\n"
     ]
    },
    {
     "name": "stderr",
     "output_type": "stream",
     "text": [
      "INFO:root:TRAIN LOSS: 21004.595703125\tDEV LOSS: 4293.97607421875\n",
      "INFO:root:Epoch\t33/100\n"
     ]
    },
    {
     "data": {
      "application/vnd.jupyter.widget-view+json": {
       "model_id": "f727900fd5d943ff9c66d7c1a714415a",
       "version_major": 2,
       "version_minor": 0
      },
      "text/plain": [
       "HBox(children=(IntProgress(value=0, max=323), HTML(value='')))"
      ]
     },
     "metadata": {},
     "output_type": "display_data"
    },
    {
     "name": "stdout",
     "output_type": "stream",
     "text": [
      "\n"
     ]
    },
    {
     "name": "stderr",
     "output_type": "stream",
     "text": [
      "INFO:root:TRAIN LOSS: 20982.404296875\tDEV LOSS: 4297.43017578125\n",
      "INFO:root:Epoch\t34/100\n"
     ]
    },
    {
     "data": {
      "application/vnd.jupyter.widget-view+json": {
       "model_id": "51b5bd0e43d7478eb54b408a96c35212",
       "version_major": 2,
       "version_minor": 0
      },
      "text/plain": [
       "HBox(children=(IntProgress(value=0, max=323), HTML(value='')))"
      ]
     },
     "metadata": {},
     "output_type": "display_data"
    },
    {
     "name": "stdout",
     "output_type": "stream",
     "text": [
      "\n"
     ]
    },
    {
     "name": "stderr",
     "output_type": "stream",
     "text": [
      "INFO:root:TRAIN LOSS: 20975.935546875\tDEV LOSS: 4303.92919921875\n",
      "INFO:root:Epoch\t35/100\n"
     ]
    },
    {
     "data": {
      "application/vnd.jupyter.widget-view+json": {
       "model_id": "e92a244a37a745ec8e6922569761dd3e",
       "version_major": 2,
       "version_minor": 0
      },
      "text/plain": [
       "HBox(children=(IntProgress(value=0, max=323), HTML(value='')))"
      ]
     },
     "metadata": {},
     "output_type": "display_data"
    },
    {
     "name": "stdout",
     "output_type": "stream",
     "text": [
      "\n"
     ]
    },
    {
     "name": "stderr",
     "output_type": "stream",
     "text": [
      "INFO:root:TRAIN LOSS: 20977.78125\tDEV LOSS: 4311.4482421875\n",
      "INFO:root:Epoch\t36/100\n"
     ]
    },
    {
     "data": {
      "application/vnd.jupyter.widget-view+json": {
       "model_id": "153d9cde6ed44f858b2c581333da2aeb",
       "version_major": 2,
       "version_minor": 0
      },
      "text/plain": [
       "HBox(children=(IntProgress(value=0, max=323), HTML(value='')))"
      ]
     },
     "metadata": {},
     "output_type": "display_data"
    },
    {
     "name": "stdout",
     "output_type": "stream",
     "text": [
      "\n"
     ]
    },
    {
     "name": "stderr",
     "output_type": "stream",
     "text": [
      "INFO:root:TRAIN LOSS: 20949.357421875\tDEV LOSS: 4290.46142578125\n",
      "INFO:root:Epoch\t37/100\n"
     ]
    },
    {
     "data": {
      "application/vnd.jupyter.widget-view+json": {
       "model_id": "92b313b71b4c4347917a212977092806",
       "version_major": 2,
       "version_minor": 0
      },
      "text/plain": [
       "HBox(children=(IntProgress(value=0, max=323), HTML(value='')))"
      ]
     },
     "metadata": {},
     "output_type": "display_data"
    },
    {
     "name": "stdout",
     "output_type": "stream",
     "text": [
      "\n"
     ]
    },
    {
     "name": "stderr",
     "output_type": "stream",
     "text": [
      "INFO:root:TRAIN LOSS: 20963.716796875\tDEV LOSS: 4310.5693359375\n",
      "INFO:root:Epoch\t38/100\n"
     ]
    },
    {
     "data": {
      "application/vnd.jupyter.widget-view+json": {
       "model_id": "fc35d0474ff144e183e353a438883b46",
       "version_major": 2,
       "version_minor": 0
      },
      "text/plain": [
       "HBox(children=(IntProgress(value=0, max=323), HTML(value='')))"
      ]
     },
     "metadata": {},
     "output_type": "display_data"
    },
    {
     "name": "stdout",
     "output_type": "stream",
     "text": [
      "\n"
     ]
    },
    {
     "name": "stderr",
     "output_type": "stream",
     "text": [
      "INFO:root:TRAIN LOSS: 20926.796875\tDEV LOSS: 4291.19677734375\n",
      "INFO:root:Epoch\t39/100\n"
     ]
    },
    {
     "data": {
      "application/vnd.jupyter.widget-view+json": {
       "model_id": "553c3d7b189948488c9a2cf6adf98611",
       "version_major": 2,
       "version_minor": 0
      },
      "text/plain": [
       "HBox(children=(IntProgress(value=0, max=323), HTML(value='')))"
      ]
     },
     "metadata": {},
     "output_type": "display_data"
    },
    {
     "name": "stdout",
     "output_type": "stream",
     "text": [
      "\n"
     ]
    },
    {
     "name": "stderr",
     "output_type": "stream",
     "text": [
      "INFO:root:TRAIN LOSS: 20954.53515625\tDEV LOSS: 4282.4150390625\n",
      "INFO:root:Epoch\t40/100\n"
     ]
    },
    {
     "data": {
      "application/vnd.jupyter.widget-view+json": {
       "model_id": "388c593d547d4a319c4ce1f3fa15270a",
       "version_major": 2,
       "version_minor": 0
      },
      "text/plain": [
       "HBox(children=(IntProgress(value=0, max=323), HTML(value='')))"
      ]
     },
     "metadata": {},
     "output_type": "display_data"
    },
    {
     "name": "stdout",
     "output_type": "stream",
     "text": [
      "\n"
     ]
    },
    {
     "name": "stderr",
     "output_type": "stream",
     "text": [
      "INFO:root:TRAIN LOSS: 20932.65234375\tDEV LOSS: 4303.53125\n",
      "INFO:root:Epoch\t41/100\n"
     ]
    },
    {
     "data": {
      "application/vnd.jupyter.widget-view+json": {
       "model_id": "8bd8be1c912042b6b4f75b22050fbf2c",
       "version_major": 2,
       "version_minor": 0
      },
      "text/plain": [
       "HBox(children=(IntProgress(value=0, max=323), HTML(value='')))"
      ]
     },
     "metadata": {},
     "output_type": "display_data"
    },
    {
     "name": "stdout",
     "output_type": "stream",
     "text": [
      "\n"
     ]
    },
    {
     "name": "stderr",
     "output_type": "stream",
     "text": [
      "INFO:root:TRAIN LOSS: 20917.611328125\tDEV LOSS: 4280.1396484375\n",
      "INFO:root:Epoch\t42/100\n"
     ]
    },
    {
     "data": {
      "application/vnd.jupyter.widget-view+json": {
       "model_id": "83ece1ff49034dbab842fb66e87a8e50",
       "version_major": 2,
       "version_minor": 0
      },
      "text/plain": [
       "HBox(children=(IntProgress(value=0, max=323), HTML(value='')))"
      ]
     },
     "metadata": {},
     "output_type": "display_data"
    },
    {
     "name": "stdout",
     "output_type": "stream",
     "text": [
      "\n"
     ]
    },
    {
     "name": "stderr",
     "output_type": "stream",
     "text": [
      "INFO:root:TRAIN LOSS: 20894.50390625\tDEV LOSS: 4285.4716796875\n",
      "INFO:root:Epoch\t43/100\n"
     ]
    },
    {
     "data": {
      "application/vnd.jupyter.widget-view+json": {
       "model_id": "f0c86d8bec374321922ae0b64b3c336a",
       "version_major": 2,
       "version_minor": 0
      },
      "text/plain": [
       "HBox(children=(IntProgress(value=0, max=323), HTML(value='')))"
      ]
     },
     "metadata": {},
     "output_type": "display_data"
    },
    {
     "name": "stdout",
     "output_type": "stream",
     "text": [
      "\n"
     ]
    },
    {
     "name": "stderr",
     "output_type": "stream",
     "text": [
      "INFO:root:TRAIN LOSS: 20889.1953125\tDEV LOSS: 4295.400390625\n",
      "INFO:root:Epoch\t44/100\n"
     ]
    },
    {
     "data": {
      "application/vnd.jupyter.widget-view+json": {
       "model_id": "d5e94d6ff31f42efb2ede20a7d4b0dc9",
       "version_major": 2,
       "version_minor": 0
      },
      "text/plain": [
       "HBox(children=(IntProgress(value=0, max=323), HTML(value='')))"
      ]
     },
     "metadata": {},
     "output_type": "display_data"
    },
    {
     "name": "stdout",
     "output_type": "stream",
     "text": [
      "\n"
     ]
    },
    {
     "name": "stderr",
     "output_type": "stream",
     "text": [
      "INFO:root:TRAIN LOSS: 20881.791015625\tDEV LOSS: 4284.34912109375\n",
      "INFO:root:Epoch\t45/100\n"
     ]
    },
    {
     "data": {
      "application/vnd.jupyter.widget-view+json": {
       "model_id": "699b5d7d3e2b4c1c971676f0326465e5",
       "version_major": 2,
       "version_minor": 0
      },
      "text/plain": [
       "HBox(children=(IntProgress(value=0, max=323), HTML(value='')))"
      ]
     },
     "metadata": {},
     "output_type": "display_data"
    },
    {
     "name": "stdout",
     "output_type": "stream",
     "text": [
      "\n"
     ]
    },
    {
     "name": "stderr",
     "output_type": "stream",
     "text": [
      "INFO:root:TRAIN LOSS: 20888.85546875\tDEV LOSS: 4278.05224609375\n",
      "INFO:root:Epoch\t46/100\n"
     ]
    },
    {
     "data": {
      "application/vnd.jupyter.widget-view+json": {
       "model_id": "0b183d4946414fb0817511470bb824f3",
       "version_major": 2,
       "version_minor": 0
      },
      "text/plain": [
       "HBox(children=(IntProgress(value=0, max=323), HTML(value='')))"
      ]
     },
     "metadata": {},
     "output_type": "display_data"
    },
    {
     "name": "stdout",
     "output_type": "stream",
     "text": [
      "\n"
     ]
    },
    {
     "name": "stderr",
     "output_type": "stream",
     "text": [
      "INFO:root:TRAIN LOSS: 20871.203125\tDEV LOSS: 4292.35595703125\n",
      "INFO:root:Epoch\t47/100\n"
     ]
    },
    {
     "data": {
      "application/vnd.jupyter.widget-view+json": {
       "model_id": "c082ba3c3f9342abacb22af6ed86b9d6",
       "version_major": 2,
       "version_minor": 0
      },
      "text/plain": [
       "HBox(children=(IntProgress(value=0, max=323), HTML(value='')))"
      ]
     },
     "metadata": {},
     "output_type": "display_data"
    },
    {
     "name": "stdout",
     "output_type": "stream",
     "text": [
      "\n"
     ]
    },
    {
     "name": "stderr",
     "output_type": "stream",
     "text": [
      "INFO:root:TRAIN LOSS: 20875.794921875\tDEV LOSS: 4299.7109375\n",
      "INFO:root:Epoch\t48/100\n"
     ]
    },
    {
     "data": {
      "application/vnd.jupyter.widget-view+json": {
       "model_id": "eb5dee03e66c4401b9808ab921adef85",
       "version_major": 2,
       "version_minor": 0
      },
      "text/plain": [
       "HBox(children=(IntProgress(value=0, max=323), HTML(value='')))"
      ]
     },
     "metadata": {},
     "output_type": "display_data"
    },
    {
     "name": "stdout",
     "output_type": "stream",
     "text": [
      "\n"
     ]
    },
    {
     "name": "stderr",
     "output_type": "stream",
     "text": [
      "INFO:root:TRAIN LOSS: 20848.06640625\tDEV LOSS: 4287.767578125\n",
      "INFO:root:Epoch\t49/100\n"
     ]
    },
    {
     "data": {
      "application/vnd.jupyter.widget-view+json": {
       "model_id": "f3f06cde86cf4ed89dc57f0a90c2a104",
       "version_major": 2,
       "version_minor": 0
      },
      "text/plain": [
       "HBox(children=(IntProgress(value=0, max=323), HTML(value='')))"
      ]
     },
     "metadata": {},
     "output_type": "display_data"
    },
    {
     "name": "stdout",
     "output_type": "stream",
     "text": [
      "\n"
     ]
    },
    {
     "name": "stderr",
     "output_type": "stream",
     "text": [
      "INFO:root:TRAIN LOSS: 20846.755859375\tDEV LOSS: 4289.60888671875\n",
      "INFO:root:Epoch\t50/100\n"
     ]
    },
    {
     "data": {
      "application/vnd.jupyter.widget-view+json": {
       "model_id": "775cd8fe7a2d469f832a686e02ceffd2",
       "version_major": 2,
       "version_minor": 0
      },
      "text/plain": [
       "HBox(children=(IntProgress(value=0, max=323), HTML(value='')))"
      ]
     },
     "metadata": {},
     "output_type": "display_data"
    },
    {
     "name": "stdout",
     "output_type": "stream",
     "text": [
      "\n"
     ]
    },
    {
     "name": "stderr",
     "output_type": "stream",
     "text": [
      "INFO:root:TRAIN LOSS: 20840.28125\tDEV LOSS: 4290.1357421875\n",
      "INFO:root:Epoch\t51/100\n"
     ]
    },
    {
     "data": {
      "application/vnd.jupyter.widget-view+json": {
       "model_id": "dc69fef9ad33484f95830c172b06fe97",
       "version_major": 2,
       "version_minor": 0
      },
      "text/plain": [
       "HBox(children=(IntProgress(value=0, max=323), HTML(value='')))"
      ]
     },
     "metadata": {},
     "output_type": "display_data"
    },
    {
     "name": "stdout",
     "output_type": "stream",
     "text": [
      "\n"
     ]
    },
    {
     "name": "stderr",
     "output_type": "stream",
     "text": [
      "INFO:root:TRAIN LOSS: 20839.673828125\tDEV LOSS: 4293.16455078125\n",
      "INFO:root:Epoch\t52/100\n"
     ]
    },
    {
     "data": {
      "application/vnd.jupyter.widget-view+json": {
       "model_id": "8999fb2874e948c59bc11e8f0911b5e8",
       "version_major": 2,
       "version_minor": 0
      },
      "text/plain": [
       "HBox(children=(IntProgress(value=0, max=323), HTML(value='')))"
      ]
     },
     "metadata": {},
     "output_type": "display_data"
    },
    {
     "name": "stdout",
     "output_type": "stream",
     "text": [
      "\n"
     ]
    },
    {
     "name": "stderr",
     "output_type": "stream",
     "text": [
      "INFO:root:TRAIN LOSS: 20878.140625\tDEV LOSS: 4277.2919921875\n",
      "INFO:root:Epoch\t53/100\n"
     ]
    },
    {
     "data": {
      "application/vnd.jupyter.widget-view+json": {
       "model_id": "8d667e982ec7460cb5a0f6c99b953baf",
       "version_major": 2,
       "version_minor": 0
      },
      "text/plain": [
       "HBox(children=(IntProgress(value=0, max=323), HTML(value='')))"
      ]
     },
     "metadata": {},
     "output_type": "display_data"
    },
    {
     "name": "stdout",
     "output_type": "stream",
     "text": [
      "\n"
     ]
    },
    {
     "name": "stderr",
     "output_type": "stream",
     "text": [
      "INFO:root:TRAIN LOSS: 20829.4453125\tDEV LOSS: 4280.65576171875\n",
      "INFO:root:Epoch\t54/100\n"
     ]
    },
    {
     "data": {
      "application/vnd.jupyter.widget-view+json": {
       "model_id": "36c7a0b2aab24977afbbb40af0050460",
       "version_major": 2,
       "version_minor": 0
      },
      "text/plain": [
       "HBox(children=(IntProgress(value=0, max=323), HTML(value='')))"
      ]
     },
     "metadata": {},
     "output_type": "display_data"
    },
    {
     "name": "stdout",
     "output_type": "stream",
     "text": [
      "\n"
     ]
    },
    {
     "name": "stderr",
     "output_type": "stream",
     "text": [
      "INFO:root:TRAIN LOSS: 20830.447265625\tDEV LOSS: 4275.9033203125\n",
      "INFO:root:Epoch\t55/100\n"
     ]
    },
    {
     "data": {
      "application/vnd.jupyter.widget-view+json": {
       "model_id": "a0c88f85b10847c8a0b8ef78706eb426",
       "version_major": 2,
       "version_minor": 0
      },
      "text/plain": [
       "HBox(children=(IntProgress(value=0, max=323), HTML(value='')))"
      ]
     },
     "metadata": {},
     "output_type": "display_data"
    },
    {
     "name": "stdout",
     "output_type": "stream",
     "text": [
      "\n"
     ]
    },
    {
     "name": "stderr",
     "output_type": "stream",
     "text": [
      "INFO:root:TRAIN LOSS: 20809.013671875\tDEV LOSS: 4283.70751953125\n",
      "INFO:root:Epoch\t56/100\n"
     ]
    },
    {
     "data": {
      "application/vnd.jupyter.widget-view+json": {
       "model_id": "11ff0fce58e54fe5af89ac4d1c473356",
       "version_major": 2,
       "version_minor": 0
      },
      "text/plain": [
       "HBox(children=(IntProgress(value=0, max=323), HTML(value='')))"
      ]
     },
     "metadata": {},
     "output_type": "display_data"
    },
    {
     "name": "stdout",
     "output_type": "stream",
     "text": [
      "\n"
     ]
    },
    {
     "name": "stderr",
     "output_type": "stream",
     "text": [
      "INFO:root:TRAIN LOSS: 20820.59375\tDEV LOSS: 4296.8291015625\n",
      "INFO:root:Epoch\t57/100\n"
     ]
    },
    {
     "data": {
      "application/vnd.jupyter.widget-view+json": {
       "model_id": "50a9147bd8c540399b904ba531df0f89",
       "version_major": 2,
       "version_minor": 0
      },
      "text/plain": [
       "HBox(children=(IntProgress(value=0, max=323), HTML(value='')))"
      ]
     },
     "metadata": {},
     "output_type": "display_data"
    },
    {
     "name": "stdout",
     "output_type": "stream",
     "text": [
      "\n"
     ]
    },
    {
     "name": "stderr",
     "output_type": "stream",
     "text": [
      "INFO:root:TRAIN LOSS: 20820.080078125\tDEV LOSS: 4299.87548828125\n",
      "INFO:root:Epoch\t58/100\n"
     ]
    },
    {
     "data": {
      "application/vnd.jupyter.widget-view+json": {
       "model_id": "65496efb38104a0d9bef2919e224c1af",
       "version_major": 2,
       "version_minor": 0
      },
      "text/plain": [
       "HBox(children=(IntProgress(value=0, max=323), HTML(value='')))"
      ]
     },
     "metadata": {},
     "output_type": "display_data"
    },
    {
     "name": "stdout",
     "output_type": "stream",
     "text": [
      "\n"
     ]
    },
    {
     "name": "stderr",
     "output_type": "stream",
     "text": [
      "INFO:root:TRAIN LOSS: 20804.236328125\tDEV LOSS: 4277.31298828125\n",
      "INFO:root:Epoch\t59/100\n"
     ]
    },
    {
     "data": {
      "application/vnd.jupyter.widget-view+json": {
       "model_id": "e7393ed321e040abaa389ea66ec210dd",
       "version_major": 2,
       "version_minor": 0
      },
      "text/plain": [
       "HBox(children=(IntProgress(value=0, max=323), HTML(value='')))"
      ]
     },
     "metadata": {},
     "output_type": "display_data"
    },
    {
     "name": "stdout",
     "output_type": "stream",
     "text": [
      "\n"
     ]
    },
    {
     "name": "stderr",
     "output_type": "stream",
     "text": [
      "INFO:root:TRAIN LOSS: 20796.294921875\tDEV LOSS: 4286.013671875\n",
      "INFO:root:Epoch\t60/100\n"
     ]
    },
    {
     "data": {
      "application/vnd.jupyter.widget-view+json": {
       "model_id": "a327fa99130a462ea03ffcfef75bf2d9",
       "version_major": 2,
       "version_minor": 0
      },
      "text/plain": [
       "HBox(children=(IntProgress(value=0, max=323), HTML(value='')))"
      ]
     },
     "metadata": {},
     "output_type": "display_data"
    },
    {
     "name": "stdout",
     "output_type": "stream",
     "text": [
      "\n"
     ]
    },
    {
     "name": "stderr",
     "output_type": "stream",
     "text": [
      "INFO:root:TRAIN LOSS: 20801.94921875\tDEV LOSS: 4276.59814453125\n",
      "INFO:root:Epoch\t61/100\n"
     ]
    },
    {
     "data": {
      "application/vnd.jupyter.widget-view+json": {
       "model_id": "093190e13252428f9c7c1d0d512589fd",
       "version_major": 2,
       "version_minor": 0
      },
      "text/plain": [
       "HBox(children=(IntProgress(value=0, max=323), HTML(value='')))"
      ]
     },
     "metadata": {},
     "output_type": "display_data"
    },
    {
     "name": "stdout",
     "output_type": "stream",
     "text": [
      "\n"
     ]
    },
    {
     "name": "stderr",
     "output_type": "stream",
     "text": [
      "INFO:root:TRAIN LOSS: 20791.10546875\tDEV LOSS: 4290.10693359375\n"
     ]
    }
   ],
   "source": [
    "goal_pricerange_predictor_early_stopping = EarlyStopping(patience = 6)\n",
    "\n",
    "train_indices_loader = torch.utils.data.DataLoader(np.arange(raw_X_train.shape[0]), batch_size = BATCH_SIZE, shuffle = True)\n",
    "\n",
    "for epoch in range(NUM_EPOCHS):\n",
    "    \n",
    "    logging.info(\"Epoch\\t{}/{}\".format(epoch + 1, NUM_EPOCHS))\n",
    "    \n",
    "    model_GoalPricerange = model_GoalPricerange.eval()\n",
    "    model_GoalPricerangePredictor = model_GoalPricerangePredictor.train()\n",
    "    \n",
    "    for train_indices in tqdm_notebook(train_indices_loader, total = len(train_indices_loader)):\n",
    "        \n",
    "        optimizer_GoalPricerangePredictorModel.zero_grad()\n",
    "            \n",
    "        dialogs_loss = 0\n",
    "    \n",
    "        for raw_X_train_dialog, train_predictor_Y_dialog in zip(raw_X_train[train_indices], train_predictor_Y[train_indices]):\n",
    "            \n",
    "            model_GoalPricerange.hidden = model_GoalPricerange.init_hidden()\n",
    "\n",
    "            for raw_X_train_turn, train_predictor_Y_turn in zip(raw_X_train_dialog[\"turns\"], train_predictor_Y_dialog[\"turns\"]):\n",
    "\n",
    "                indices, scores = get_index_and_score(raw_X_train_turn, token_to_index, mode = \"eval\", device = DEVICE)\n",
    "                \n",
    "                with torch.no_grad():\n",
    "                    goal_priceranges_tensor = model_GoalPricerange(indices, scores, predictor_mode = True)\n",
    "                \n",
    "                goal_priceranges_predictor = model_GoalPricerangePredictor(goal_priceranges_tensor)\n",
    "\n",
    "                for goal_pricerange_predictor, gold_goal_pricerange_predictor in zip(goal_priceranges_predictor, train_predictor_Y_turn[\"goal_pricerange_predictor\"]):\n",
    "\n",
    "                    goal_pricerange_predictor = goal_pricerange_predictor.unsqueeze(0)\n",
    "                    \n",
    "                    gold_goal_pricerange_predictor = torch.tensor([gold_goal_pricerange_predictor], dtype = torch.long, device = DEVICE)\n",
    "                    \n",
    "                    loss_goal_pricerange_predictor = PREDICTOR_LOSS_FUNCTION(goal_pricerange_predictor, gold_goal_pricerange_predictor)\n",
    "\n",
    "                    dialogs_loss += loss_goal_pricerange_predictor\n",
    "                \n",
    "        dialogs_loss.backward(retain_graph = False)\n",
    "\n",
    "        optimizer_GoalPricerangePredictorModel.step()\n",
    "    \n",
    "    #train_loss = compute_predictor_loss(model_GoalPricerange, model_GoalPricerangePredictor, raw_X_train, train_predictor_Y, objective = \"goal_pricerange_predictor\", device = DEVICE)\n",
    "    dev_loss = compute_predictor_loss(model_GoalPricerange, model_GoalPricerangePredictor, raw_X_dev, dev_predictor_Y, objective = \"goal_pricerange_predictor\", device = DEVICE)\n",
    "    \n",
    "    #logging.info(\"TRAIN LOSS: {}\\tDEV LOSS: {}\".format(train_loss.item(), dev_loss.item()))\n",
    "    logging.info(\"DEV LOSS: {}\".format(dev_loss.item()))\n",
    "    \n",
    "    goal_pricerange_predictor_early_stopping.on_epoch_end(epoch = (epoch + 1), current_value = -dev_loss.item())\n",
    "    \n",
    "    if goal_pricerange_predictor_early_stopping.wait == 0:\n",
    "        torch.save(model_GoalPricerangePredictor.state_dict(), \"model_PANFMR_incremental_GoalPricerangePredictor.pt\")\n",
    "    \n",
    "    if goal_pricerange_predictor_early_stopping.stop_training:\n",
    "        break"
   ]
  },
  {
   "cell_type": "markdown",
   "metadata": {},
   "source": [
    "### Load Goal Pricerange Predictor Model"
   ]
  },
  {
   "cell_type": "code",
   "execution_count": 37,
   "metadata": {},
   "outputs": [
    {
     "data": {
      "text/plain": [
       "GoalPricerangePredictorModel(\n",
       "  (goal_pricerange_predictor_classifier): Linear(in_features=100, out_features=2, bias=True)\n",
       ")"
      ]
     },
     "execution_count": 37,
     "metadata": {},
     "output_type": "execute_result"
    }
   ],
   "source": [
    "model_GoalPricerangePredictor = GoalPricerangePredictorModel(input_dim = HIDDEN_DIM,\n",
    "                                                             goal_pricerange_predictor_dim = PREDICTOR_DIM,\n",
    "                                                             device = DEVICE)\n",
    "\n",
    "model_GoalPricerangePredictor = model_GoalPricerangePredictor.to(DEVICE)\n",
    "model_GoalPricerangePredictor.load_state_dict(torch.load(\"model_PANFMR_incremental_GoalPricerangePredictor.pt\"))\n",
    "model_GoalPricerangePredictor.eval()"
   ]
  },
  {
   "cell_type": "markdown",
   "metadata": {},
   "source": [
    "### Train Goal Area Predictor Model"
   ]
  },
  {
   "cell_type": "code",
   "execution_count": 43,
   "metadata": {},
   "outputs": [
    {
     "name": "stderr",
     "output_type": "stream",
     "text": [
      "INFO:root:Epoch\t1/100\n"
     ]
    },
    {
     "data": {
      "application/vnd.jupyter.widget-view+json": {
       "model_id": "4708d099ca024c7388a03f19d0e1835e",
       "version_major": 2,
       "version_minor": 0
      },
      "text/plain": [
       "HBox(children=(IntProgress(value=0, max=323), HTML(value='')))"
      ]
     },
     "metadata": {},
     "output_type": "display_data"
    },
    {
     "name": "stderr",
     "output_type": "stream",
     "text": [
      "INFO:root:DEV LOSS: 6999.94677734375\n",
      "INFO:root:Epoch\t2/100\n"
     ]
    },
    {
     "data": {
      "application/vnd.jupyter.widget-view+json": {
       "model_id": "30be26a3c7f345a7afc8bdd98663f61f",
       "version_major": 2,
       "version_minor": 0
      },
      "text/plain": [
       "HBox(children=(IntProgress(value=0, max=323), HTML(value='')))"
      ]
     },
     "metadata": {},
     "output_type": "display_data"
    },
    {
     "name": "stderr",
     "output_type": "stream",
     "text": [
      "INFO:root:DEV LOSS: 6913.0556640625\n",
      "INFO:root:Epoch\t3/100\n"
     ]
    },
    {
     "data": {
      "application/vnd.jupyter.widget-view+json": {
       "model_id": "11e6690e273845e0b413ad6ed8f63724",
       "version_major": 2,
       "version_minor": 0
      },
      "text/plain": [
       "HBox(children=(IntProgress(value=0, max=323), HTML(value='')))"
      ]
     },
     "metadata": {},
     "output_type": "display_data"
    },
    {
     "name": "stderr",
     "output_type": "stream",
     "text": [
      "INFO:root:DEV LOSS: 6797.513671875\n",
      "INFO:root:Epoch\t4/100\n"
     ]
    },
    {
     "data": {
      "application/vnd.jupyter.widget-view+json": {
       "model_id": "4a756f2fe27141219344c986beaa9500",
       "version_major": 2,
       "version_minor": 0
      },
      "text/plain": [
       "HBox(children=(IntProgress(value=0, max=323), HTML(value='')))"
      ]
     },
     "metadata": {},
     "output_type": "display_data"
    },
    {
     "name": "stderr",
     "output_type": "stream",
     "text": [
      "INFO:root:DEV LOSS: 6719.76318359375\n",
      "INFO:root:Epoch\t5/100\n"
     ]
    },
    {
     "data": {
      "application/vnd.jupyter.widget-view+json": {
       "model_id": "59f1b84a378a426c9452a911fb6db729",
       "version_major": 2,
       "version_minor": 0
      },
      "text/plain": [
       "HBox(children=(IntProgress(value=0, max=323), HTML(value='')))"
      ]
     },
     "metadata": {},
     "output_type": "display_data"
    },
    {
     "name": "stderr",
     "output_type": "stream",
     "text": [
      "INFO:root:DEV LOSS: 6636.8349609375\n",
      "INFO:root:Epoch\t6/100\n"
     ]
    },
    {
     "data": {
      "application/vnd.jupyter.widget-view+json": {
       "model_id": "23afd37ad1da41868aa48227288befe8",
       "version_major": 2,
       "version_minor": 0
      },
      "text/plain": [
       "HBox(children=(IntProgress(value=0, max=323), HTML(value='')))"
      ]
     },
     "metadata": {},
     "output_type": "display_data"
    },
    {
     "name": "stderr",
     "output_type": "stream",
     "text": [
      "INFO:root:DEV LOSS: 6565.33056640625\n",
      "INFO:root:Epoch\t7/100\n"
     ]
    },
    {
     "data": {
      "application/vnd.jupyter.widget-view+json": {
       "model_id": "ed06a64e466d485e97501f5d5474bfaa",
       "version_major": 2,
       "version_minor": 0
      },
      "text/plain": [
       "HBox(children=(IntProgress(value=0, max=323), HTML(value='')))"
      ]
     },
     "metadata": {},
     "output_type": "display_data"
    },
    {
     "name": "stderr",
     "output_type": "stream",
     "text": [
      "INFO:root:DEV LOSS: 6524.158203125\n",
      "INFO:root:Epoch\t8/100\n"
     ]
    },
    {
     "data": {
      "application/vnd.jupyter.widget-view+json": {
       "model_id": "426755e1e07d44ba934b99f7fa3e1aaa",
       "version_major": 2,
       "version_minor": 0
      },
      "text/plain": [
       "HBox(children=(IntProgress(value=0, max=323), HTML(value='')))"
      ]
     },
     "metadata": {},
     "output_type": "display_data"
    },
    {
     "name": "stderr",
     "output_type": "stream",
     "text": [
      "INFO:root:DEV LOSS: 6490.0419921875\n",
      "INFO:root:Epoch\t9/100\n"
     ]
    },
    {
     "data": {
      "application/vnd.jupyter.widget-view+json": {
       "model_id": "a312eff800eb4f8ba5373a665620ded5",
       "version_major": 2,
       "version_minor": 0
      },
      "text/plain": [
       "HBox(children=(IntProgress(value=0, max=323), HTML(value='')))"
      ]
     },
     "metadata": {},
     "output_type": "display_data"
    },
    {
     "name": "stderr",
     "output_type": "stream",
     "text": [
      "INFO:root:DEV LOSS: 6453.39453125\n",
      "INFO:root:Epoch\t10/100\n"
     ]
    },
    {
     "data": {
      "application/vnd.jupyter.widget-view+json": {
       "model_id": "ace216329796409caf620f511c3af717",
       "version_major": 2,
       "version_minor": 0
      },
      "text/plain": [
       "HBox(children=(IntProgress(value=0, max=323), HTML(value='')))"
      ]
     },
     "metadata": {},
     "output_type": "display_data"
    },
    {
     "name": "stderr",
     "output_type": "stream",
     "text": [
      "INFO:root:DEV LOSS: 6457.51708984375\n",
      "INFO:root:Epoch\t11/100\n"
     ]
    },
    {
     "data": {
      "application/vnd.jupyter.widget-view+json": {
       "model_id": "7d403a181dd74e9fb49dabefd96c69af",
       "version_major": 2,
       "version_minor": 0
      },
      "text/plain": [
       "HBox(children=(IntProgress(value=0, max=323), HTML(value='')))"
      ]
     },
     "metadata": {},
     "output_type": "display_data"
    },
    {
     "name": "stderr",
     "output_type": "stream",
     "text": [
      "INFO:root:DEV LOSS: 6416.2705078125\n",
      "INFO:root:Epoch\t12/100\n"
     ]
    },
    {
     "data": {
      "application/vnd.jupyter.widget-view+json": {
       "model_id": "530a4ed170ad4acc97428b1c3fca479a",
       "version_major": 2,
       "version_minor": 0
      },
      "text/plain": [
       "HBox(children=(IntProgress(value=0, max=323), HTML(value='')))"
      ]
     },
     "metadata": {},
     "output_type": "display_data"
    },
    {
     "name": "stderr",
     "output_type": "stream",
     "text": [
      "INFO:root:DEV LOSS: 6385.93212890625\n",
      "INFO:root:Epoch\t13/100\n"
     ]
    },
    {
     "data": {
      "application/vnd.jupyter.widget-view+json": {
       "model_id": "96c31a9b415c4f67b19677d620eb8fb2",
       "version_major": 2,
       "version_minor": 0
      },
      "text/plain": [
       "HBox(children=(IntProgress(value=0, max=323), HTML(value='')))"
      ]
     },
     "metadata": {},
     "output_type": "display_data"
    },
    {
     "name": "stderr",
     "output_type": "stream",
     "text": [
      "INFO:root:DEV LOSS: 6382.6728515625\n",
      "INFO:root:Epoch\t14/100\n"
     ]
    },
    {
     "data": {
      "application/vnd.jupyter.widget-view+json": {
       "model_id": "99cf0a79843d4547a478d64e7fcb630a",
       "version_major": 2,
       "version_minor": 0
      },
      "text/plain": [
       "HBox(children=(IntProgress(value=0, max=323), HTML(value='')))"
      ]
     },
     "metadata": {},
     "output_type": "display_data"
    },
    {
     "name": "stderr",
     "output_type": "stream",
     "text": [
      "INFO:root:DEV LOSS: 6356.1474609375\n",
      "INFO:root:Epoch\t15/100\n"
     ]
    },
    {
     "data": {
      "application/vnd.jupyter.widget-view+json": {
       "model_id": "d0f76266b8a64faa910006ed393235d5",
       "version_major": 2,
       "version_minor": 0
      },
      "text/plain": [
       "HBox(children=(IntProgress(value=0, max=323), HTML(value='')))"
      ]
     },
     "metadata": {},
     "output_type": "display_data"
    },
    {
     "name": "stderr",
     "output_type": "stream",
     "text": [
      "INFO:root:DEV LOSS: 6364.041015625\n",
      "INFO:root:Epoch\t16/100\n"
     ]
    },
    {
     "data": {
      "application/vnd.jupyter.widget-view+json": {
       "model_id": "3cd8419f25cf434088ade2187341f914",
       "version_major": 2,
       "version_minor": 0
      },
      "text/plain": [
       "HBox(children=(IntProgress(value=0, max=323), HTML(value='')))"
      ]
     },
     "metadata": {},
     "output_type": "display_data"
    },
    {
     "name": "stderr",
     "output_type": "stream",
     "text": [
      "INFO:root:DEV LOSS: 6346.2900390625\n",
      "INFO:root:Epoch\t17/100\n"
     ]
    },
    {
     "data": {
      "application/vnd.jupyter.widget-view+json": {
       "model_id": "52156caf73c74333aa110862f28c2712",
       "version_major": 2,
       "version_minor": 0
      },
      "text/plain": [
       "HBox(children=(IntProgress(value=0, max=323), HTML(value='')))"
      ]
     },
     "metadata": {},
     "output_type": "display_data"
    },
    {
     "name": "stderr",
     "output_type": "stream",
     "text": [
      "INFO:root:DEV LOSS: 6319.7744140625\n",
      "INFO:root:Epoch\t18/100\n"
     ]
    },
    {
     "data": {
      "application/vnd.jupyter.widget-view+json": {
       "model_id": "6a02b1a2453a49b6ad9a1683169e1be7",
       "version_major": 2,
       "version_minor": 0
      },
      "text/plain": [
       "HBox(children=(IntProgress(value=0, max=323), HTML(value='')))"
      ]
     },
     "metadata": {},
     "output_type": "display_data"
    },
    {
     "name": "stderr",
     "output_type": "stream",
     "text": [
      "INFO:root:DEV LOSS: 6309.34130859375\n",
      "INFO:root:Epoch\t19/100\n"
     ]
    },
    {
     "data": {
      "application/vnd.jupyter.widget-view+json": {
       "model_id": "29102e36e35d411aa0159d515a3368cc",
       "version_major": 2,
       "version_minor": 0
      },
      "text/plain": [
       "HBox(children=(IntProgress(value=0, max=323), HTML(value='')))"
      ]
     },
     "metadata": {},
     "output_type": "display_data"
    },
    {
     "name": "stderr",
     "output_type": "stream",
     "text": [
      "INFO:root:DEV LOSS: 6316.7470703125\n",
      "INFO:root:Epoch\t20/100\n"
     ]
    },
    {
     "data": {
      "application/vnd.jupyter.widget-view+json": {
       "model_id": "11d95feda5ee498989d7b0e41a9815be",
       "version_major": 2,
       "version_minor": 0
      },
      "text/plain": [
       "HBox(children=(IntProgress(value=0, max=323), HTML(value='')))"
      ]
     },
     "metadata": {},
     "output_type": "display_data"
    },
    {
     "name": "stderr",
     "output_type": "stream",
     "text": [
      "INFO:root:DEV LOSS: 6329.51025390625\n",
      "INFO:root:Epoch\t21/100\n"
     ]
    },
    {
     "data": {
      "application/vnd.jupyter.widget-view+json": {
       "model_id": "db6abc589dda4ec9b665e4467d059ada",
       "version_major": 2,
       "version_minor": 0
      },
      "text/plain": [
       "HBox(children=(IntProgress(value=0, max=323), HTML(value='')))"
      ]
     },
     "metadata": {},
     "output_type": "display_data"
    },
    {
     "name": "stderr",
     "output_type": "stream",
     "text": [
      "INFO:root:DEV LOSS: 6293.490234375\n",
      "INFO:root:Epoch\t22/100\n"
     ]
    },
    {
     "data": {
      "application/vnd.jupyter.widget-view+json": {
       "model_id": "c2396389350442749084a5530e9cf124",
       "version_major": 2,
       "version_minor": 0
      },
      "text/plain": [
       "HBox(children=(IntProgress(value=0, max=323), HTML(value='')))"
      ]
     },
     "metadata": {},
     "output_type": "display_data"
    },
    {
     "name": "stderr",
     "output_type": "stream",
     "text": [
      "INFO:root:DEV LOSS: 6297.888671875\n",
      "INFO:root:Epoch\t23/100\n"
     ]
    },
    {
     "data": {
      "application/vnd.jupyter.widget-view+json": {
       "model_id": "398fde5b84644f40b6d3e54ffdd624f4",
       "version_major": 2,
       "version_minor": 0
      },
      "text/plain": [
       "HBox(children=(IntProgress(value=0, max=323), HTML(value='')))"
      ]
     },
     "metadata": {},
     "output_type": "display_data"
    },
    {
     "name": "stderr",
     "output_type": "stream",
     "text": [
      "INFO:root:DEV LOSS: 6283.388671875\n",
      "INFO:root:Epoch\t24/100\n"
     ]
    },
    {
     "data": {
      "application/vnd.jupyter.widget-view+json": {
       "model_id": "60a80ea591ad425fb9a6a83541dce765",
       "version_major": 2,
       "version_minor": 0
      },
      "text/plain": [
       "HBox(children=(IntProgress(value=0, max=323), HTML(value='')))"
      ]
     },
     "metadata": {},
     "output_type": "display_data"
    },
    {
     "name": "stderr",
     "output_type": "stream",
     "text": [
      "INFO:root:DEV LOSS: 6282.0498046875\n",
      "INFO:root:Epoch\t25/100\n"
     ]
    },
    {
     "data": {
      "application/vnd.jupyter.widget-view+json": {
       "model_id": "2a84bf01c63e44f495f97dbcd8ed2de1",
       "version_major": 2,
       "version_minor": 0
      },
      "text/plain": [
       "HBox(children=(IntProgress(value=0, max=323), HTML(value='')))"
      ]
     },
     "metadata": {},
     "output_type": "display_data"
    },
    {
     "name": "stderr",
     "output_type": "stream",
     "text": [
      "INFO:root:DEV LOSS: 6270.9619140625\n",
      "INFO:root:Epoch\t26/100\n"
     ]
    },
    {
     "data": {
      "application/vnd.jupyter.widget-view+json": {
       "model_id": "63529501b3c34da9a4be13b0eb296ad4",
       "version_major": 2,
       "version_minor": 0
      },
      "text/plain": [
       "HBox(children=(IntProgress(value=0, max=323), HTML(value='')))"
      ]
     },
     "metadata": {},
     "output_type": "display_data"
    },
    {
     "name": "stderr",
     "output_type": "stream",
     "text": [
      "INFO:root:DEV LOSS: 6270.11279296875\n",
      "INFO:root:Epoch\t27/100\n"
     ]
    },
    {
     "data": {
      "application/vnd.jupyter.widget-view+json": {
       "model_id": "b002fcc6612d4e96869b4c3ae74355c4",
       "version_major": 2,
       "version_minor": 0
      },
      "text/plain": [
       "HBox(children=(IntProgress(value=0, max=323), HTML(value='')))"
      ]
     },
     "metadata": {},
     "output_type": "display_data"
    },
    {
     "name": "stderr",
     "output_type": "stream",
     "text": [
      "INFO:root:DEV LOSS: 6274.91943359375\n",
      "INFO:root:Epoch\t28/100\n"
     ]
    },
    {
     "data": {
      "application/vnd.jupyter.widget-view+json": {
       "model_id": "43cd887f62df443a9de3fd27f24836eb",
       "version_major": 2,
       "version_minor": 0
      },
      "text/plain": [
       "HBox(children=(IntProgress(value=0, max=323), HTML(value='')))"
      ]
     },
     "metadata": {},
     "output_type": "display_data"
    },
    {
     "name": "stderr",
     "output_type": "stream",
     "text": [
      "INFO:root:DEV LOSS: 6266.44482421875\n",
      "INFO:root:Epoch\t29/100\n"
     ]
    },
    {
     "data": {
      "application/vnd.jupyter.widget-view+json": {
       "model_id": "0dacc48b4bc94341ab4685c3e8ee7268",
       "version_major": 2,
       "version_minor": 0
      },
      "text/plain": [
       "HBox(children=(IntProgress(value=0, max=323), HTML(value='')))"
      ]
     },
     "metadata": {},
     "output_type": "display_data"
    },
    {
     "name": "stderr",
     "output_type": "stream",
     "text": [
      "INFO:root:DEV LOSS: 6258.6630859375\n",
      "INFO:root:Epoch\t30/100\n"
     ]
    },
    {
     "data": {
      "application/vnd.jupyter.widget-view+json": {
       "model_id": "69689ce050444728a09796b61ab32716",
       "version_major": 2,
       "version_minor": 0
      },
      "text/plain": [
       "HBox(children=(IntProgress(value=0, max=323), HTML(value='')))"
      ]
     },
     "metadata": {},
     "output_type": "display_data"
    },
    {
     "name": "stderr",
     "output_type": "stream",
     "text": [
      "INFO:root:DEV LOSS: 6268.03369140625\n",
      "INFO:root:Epoch\t31/100\n"
     ]
    },
    {
     "data": {
      "application/vnd.jupyter.widget-view+json": {
       "model_id": "e0f793cadd294bc78d6dbfef61851891",
       "version_major": 2,
       "version_minor": 0
      },
      "text/plain": [
       "HBox(children=(IntProgress(value=0, max=323), HTML(value='')))"
      ]
     },
     "metadata": {},
     "output_type": "display_data"
    },
    {
     "name": "stderr",
     "output_type": "stream",
     "text": [
      "INFO:root:DEV LOSS: 6283.17529296875\n",
      "INFO:root:Epoch\t32/100\n"
     ]
    },
    {
     "data": {
      "application/vnd.jupyter.widget-view+json": {
       "model_id": "bee398aa42c54e8e8f603ee989eee64a",
       "version_major": 2,
       "version_minor": 0
      },
      "text/plain": [
       "HBox(children=(IntProgress(value=0, max=323), HTML(value='')))"
      ]
     },
     "metadata": {},
     "output_type": "display_data"
    },
    {
     "name": "stderr",
     "output_type": "stream",
     "text": [
      "INFO:root:DEV LOSS: 6262.33056640625\n",
      "INFO:root:Epoch\t33/100\n"
     ]
    },
    {
     "data": {
      "application/vnd.jupyter.widget-view+json": {
       "model_id": "8d68c882ba634ac99e474beabbc97043",
       "version_major": 2,
       "version_minor": 0
      },
      "text/plain": [
       "HBox(children=(IntProgress(value=0, max=323), HTML(value='')))"
      ]
     },
     "metadata": {},
     "output_type": "display_data"
    },
    {
     "name": "stderr",
     "output_type": "stream",
     "text": [
      "INFO:root:DEV LOSS: 6248.462890625\n",
      "INFO:root:Epoch\t34/100\n"
     ]
    },
    {
     "data": {
      "application/vnd.jupyter.widget-view+json": {
       "model_id": "63445113eb42489c806d243a079c013a",
       "version_major": 2,
       "version_minor": 0
      },
      "text/plain": [
       "HBox(children=(IntProgress(value=0, max=323), HTML(value='')))"
      ]
     },
     "metadata": {},
     "output_type": "display_data"
    },
    {
     "name": "stderr",
     "output_type": "stream",
     "text": [
      "INFO:root:DEV LOSS: 6255.45263671875\n",
      "INFO:root:Epoch\t35/100\n"
     ]
    },
    {
     "data": {
      "application/vnd.jupyter.widget-view+json": {
       "model_id": "99af14f920534077bf10dd161e86cc6c",
       "version_major": 2,
       "version_minor": 0
      },
      "text/plain": [
       "HBox(children=(IntProgress(value=0, max=323), HTML(value='')))"
      ]
     },
     "metadata": {},
     "output_type": "display_data"
    },
    {
     "name": "stderr",
     "output_type": "stream",
     "text": [
      "INFO:root:DEV LOSS: 6244.859375\n",
      "INFO:root:Epoch\t36/100\n"
     ]
    },
    {
     "data": {
      "application/vnd.jupyter.widget-view+json": {
       "model_id": "90b8e0fb5a634869951eca293d1bbf07",
       "version_major": 2,
       "version_minor": 0
      },
      "text/plain": [
       "HBox(children=(IntProgress(value=0, max=323), HTML(value='')))"
      ]
     },
     "metadata": {},
     "output_type": "display_data"
    },
    {
     "name": "stderr",
     "output_type": "stream",
     "text": [
      "INFO:root:DEV LOSS: 6244.72314453125\n",
      "INFO:root:Epoch\t37/100\n"
     ]
    },
    {
     "data": {
      "application/vnd.jupyter.widget-view+json": {
       "model_id": "7c6153fd291b425b9c3f4e5a2cbe4978",
       "version_major": 2,
       "version_minor": 0
      },
      "text/plain": [
       "HBox(children=(IntProgress(value=0, max=323), HTML(value='')))"
      ]
     },
     "metadata": {},
     "output_type": "display_data"
    },
    {
     "name": "stderr",
     "output_type": "stream",
     "text": [
      "INFO:root:DEV LOSS: 6245.38427734375\n",
      "INFO:root:Epoch\t38/100\n"
     ]
    },
    {
     "data": {
      "application/vnd.jupyter.widget-view+json": {
       "model_id": "bfadeb87ebc84b3babf7beb18b50b254",
       "version_major": 2,
       "version_minor": 0
      },
      "text/plain": [
       "HBox(children=(IntProgress(value=0, max=323), HTML(value='')))"
      ]
     },
     "metadata": {},
     "output_type": "display_data"
    },
    {
     "name": "stderr",
     "output_type": "stream",
     "text": [
      "INFO:root:DEV LOSS: 6243.68896484375\n",
      "INFO:root:Epoch\t39/100\n"
     ]
    },
    {
     "data": {
      "application/vnd.jupyter.widget-view+json": {
       "model_id": "f53eb85fb3984f58bc5cae82aa036d38",
       "version_major": 2,
       "version_minor": 0
      },
      "text/plain": [
       "HBox(children=(IntProgress(value=0, max=323), HTML(value='')))"
      ]
     },
     "metadata": {},
     "output_type": "display_data"
    },
    {
     "name": "stderr",
     "output_type": "stream",
     "text": [
      "INFO:root:DEV LOSS: 6243.19970703125\n",
      "INFO:root:Epoch\t40/100\n"
     ]
    },
    {
     "data": {
      "application/vnd.jupyter.widget-view+json": {
       "model_id": "149b4c7e4f4147b69916cb2e6346e825",
       "version_major": 2,
       "version_minor": 0
      },
      "text/plain": [
       "HBox(children=(IntProgress(value=0, max=323), HTML(value='')))"
      ]
     },
     "metadata": {},
     "output_type": "display_data"
    },
    {
     "name": "stderr",
     "output_type": "stream",
     "text": [
      "INFO:root:DEV LOSS: 6244.70703125\n",
      "INFO:root:Epoch\t41/100\n"
     ]
    },
    {
     "data": {
      "application/vnd.jupyter.widget-view+json": {
       "model_id": "c519a7cc830045febefb8a14d77e2c7d",
       "version_major": 2,
       "version_minor": 0
      },
      "text/plain": [
       "HBox(children=(IntProgress(value=0, max=323), HTML(value='')))"
      ]
     },
     "metadata": {},
     "output_type": "display_data"
    },
    {
     "name": "stderr",
     "output_type": "stream",
     "text": [
      "INFO:root:DEV LOSS: 6239.5947265625\n",
      "INFO:root:Epoch\t42/100\n"
     ]
    },
    {
     "data": {
      "application/vnd.jupyter.widget-view+json": {
       "model_id": "331ff41b3b4d4ea0ae025cbe6c45debf",
       "version_major": 2,
       "version_minor": 0
      },
      "text/plain": [
       "HBox(children=(IntProgress(value=0, max=323), HTML(value='')))"
      ]
     },
     "metadata": {},
     "output_type": "display_data"
    },
    {
     "name": "stderr",
     "output_type": "stream",
     "text": [
      "INFO:root:DEV LOSS: 6238.4443359375\n",
      "INFO:root:Epoch\t43/100\n"
     ]
    },
    {
     "data": {
      "application/vnd.jupyter.widget-view+json": {
       "model_id": "44ed7d6fc13b4c8dbaac89ab458ae183",
       "version_major": 2,
       "version_minor": 0
      },
      "text/plain": [
       "HBox(children=(IntProgress(value=0, max=323), HTML(value='')))"
      ]
     },
     "metadata": {},
     "output_type": "display_data"
    },
    {
     "name": "stderr",
     "output_type": "stream",
     "text": [
      "INFO:root:DEV LOSS: 6234.24072265625\n",
      "INFO:root:Epoch\t44/100\n"
     ]
    },
    {
     "data": {
      "application/vnd.jupyter.widget-view+json": {
       "model_id": "3d1ec0047b4845de90f87587fb2b1d62",
       "version_major": 2,
       "version_minor": 0
      },
      "text/plain": [
       "HBox(children=(IntProgress(value=0, max=323), HTML(value='')))"
      ]
     },
     "metadata": {},
     "output_type": "display_data"
    },
    {
     "name": "stderr",
     "output_type": "stream",
     "text": [
      "INFO:root:DEV LOSS: 6223.39404296875\n",
      "INFO:root:Epoch\t45/100\n"
     ]
    },
    {
     "data": {
      "application/vnd.jupyter.widget-view+json": {
       "model_id": "10dce9a3430b4ba799ea8a2b745daba7",
       "version_major": 2,
       "version_minor": 0
      },
      "text/plain": [
       "HBox(children=(IntProgress(value=0, max=323), HTML(value='')))"
      ]
     },
     "metadata": {},
     "output_type": "display_data"
    },
    {
     "name": "stderr",
     "output_type": "stream",
     "text": [
      "INFO:root:DEV LOSS: 6216.57470703125\n",
      "INFO:root:Epoch\t46/100\n"
     ]
    },
    {
     "data": {
      "application/vnd.jupyter.widget-view+json": {
       "model_id": "aa8b8b492d0745a0aaaa5b245f5ab701",
       "version_major": 2,
       "version_minor": 0
      },
      "text/plain": [
       "HBox(children=(IntProgress(value=0, max=323), HTML(value='')))"
      ]
     },
     "metadata": {},
     "output_type": "display_data"
    },
    {
     "name": "stderr",
     "output_type": "stream",
     "text": [
      "INFO:root:DEV LOSS: 6219.14306640625\n",
      "INFO:root:Epoch\t47/100\n"
     ]
    },
    {
     "data": {
      "application/vnd.jupyter.widget-view+json": {
       "model_id": "921975b9bbb14c05936b96247f3c78ea",
       "version_major": 2,
       "version_minor": 0
      },
      "text/plain": [
       "HBox(children=(IntProgress(value=0, max=323), HTML(value='')))"
      ]
     },
     "metadata": {},
     "output_type": "display_data"
    },
    {
     "name": "stderr",
     "output_type": "stream",
     "text": [
      "INFO:root:DEV LOSS: 6218.85595703125\n",
      "INFO:root:Epoch\t48/100\n"
     ]
    },
    {
     "data": {
      "application/vnd.jupyter.widget-view+json": {
       "model_id": "923d9c08a6824d7cac375112188a3420",
       "version_major": 2,
       "version_minor": 0
      },
      "text/plain": [
       "HBox(children=(IntProgress(value=0, max=323), HTML(value='')))"
      ]
     },
     "metadata": {},
     "output_type": "display_data"
    },
    {
     "name": "stderr",
     "output_type": "stream",
     "text": [
      "INFO:root:DEV LOSS: 6212.73046875\n",
      "INFO:root:Epoch\t49/100\n"
     ]
    },
    {
     "data": {
      "application/vnd.jupyter.widget-view+json": {
       "model_id": "d8d30f8bd53c43c2b3fa8fbd99726ecd",
       "version_major": 2,
       "version_minor": 0
      },
      "text/plain": [
       "HBox(children=(IntProgress(value=0, max=323), HTML(value='')))"
      ]
     },
     "metadata": {},
     "output_type": "display_data"
    },
    {
     "name": "stderr",
     "output_type": "stream",
     "text": [
      "INFO:root:DEV LOSS: 6222.20654296875\n",
      "INFO:root:Epoch\t50/100\n"
     ]
    },
    {
     "data": {
      "application/vnd.jupyter.widget-view+json": {
       "model_id": "0490a8e2285f484eb7bef3b2c70a3672",
       "version_major": 2,
       "version_minor": 0
      },
      "text/plain": [
       "HBox(children=(IntProgress(value=0, max=323), HTML(value='')))"
      ]
     },
     "metadata": {},
     "output_type": "display_data"
    },
    {
     "name": "stderr",
     "output_type": "stream",
     "text": [
      "INFO:root:DEV LOSS: 6235.7001953125\n",
      "INFO:root:Epoch\t51/100\n"
     ]
    },
    {
     "data": {
      "application/vnd.jupyter.widget-view+json": {
       "model_id": "d3b3a5b23a6e431786a5ba6f0e3f08b8",
       "version_major": 2,
       "version_minor": 0
      },
      "text/plain": [
       "HBox(children=(IntProgress(value=0, max=323), HTML(value='')))"
      ]
     },
     "metadata": {},
     "output_type": "display_data"
    },
    {
     "name": "stderr",
     "output_type": "stream",
     "text": [
      "INFO:root:DEV LOSS: 6224.685546875\n",
      "INFO:root:Epoch\t52/100\n"
     ]
    },
    {
     "data": {
      "application/vnd.jupyter.widget-view+json": {
       "model_id": "6de71bfd8af74c1e8ed2cc4d710b137a",
       "version_major": 2,
       "version_minor": 0
      },
      "text/plain": [
       "HBox(children=(IntProgress(value=0, max=323), HTML(value='')))"
      ]
     },
     "metadata": {},
     "output_type": "display_data"
    },
    {
     "name": "stderr",
     "output_type": "stream",
     "text": [
      "INFO:root:DEV LOSS: 6224.99169921875\n",
      "INFO:root:Epoch\t53/100\n"
     ]
    },
    {
     "data": {
      "application/vnd.jupyter.widget-view+json": {
       "model_id": "93afcac5390b4358b0bc2747c3a2299d",
       "version_major": 2,
       "version_minor": 0
      },
      "text/plain": [
       "HBox(children=(IntProgress(value=0, max=323), HTML(value='')))"
      ]
     },
     "metadata": {},
     "output_type": "display_data"
    },
    {
     "name": "stderr",
     "output_type": "stream",
     "text": [
      "INFO:root:DEV LOSS: 6218.60302734375\n",
      "INFO:root:Epoch\t54/100\n"
     ]
    },
    {
     "data": {
      "application/vnd.jupyter.widget-view+json": {
       "model_id": "23bd93f1450c41ec9269385c14b383c9",
       "version_major": 2,
       "version_minor": 0
      },
      "text/plain": [
       "HBox(children=(IntProgress(value=0, max=323), HTML(value='')))"
      ]
     },
     "metadata": {},
     "output_type": "display_data"
    },
    {
     "name": "stderr",
     "output_type": "stream",
     "text": [
      "INFO:root:DEV LOSS: 6211.69384765625\n",
      "INFO:root:Epoch\t55/100\n"
     ]
    },
    {
     "data": {
      "application/vnd.jupyter.widget-view+json": {
       "model_id": "e134b29e64cf4531987d52b1ca01fa08",
       "version_major": 2,
       "version_minor": 0
      },
      "text/plain": [
       "HBox(children=(IntProgress(value=0, max=323), HTML(value='')))"
      ]
     },
     "metadata": {},
     "output_type": "display_data"
    },
    {
     "name": "stderr",
     "output_type": "stream",
     "text": [
      "INFO:root:DEV LOSS: 6219.66064453125\n",
      "INFO:root:Epoch\t56/100\n"
     ]
    },
    {
     "data": {
      "application/vnd.jupyter.widget-view+json": {
       "model_id": "0b8bf2a1b7d74a50b12c9d6f4afd389b",
       "version_major": 2,
       "version_minor": 0
      },
      "text/plain": [
       "HBox(children=(IntProgress(value=0, max=323), HTML(value='')))"
      ]
     },
     "metadata": {},
     "output_type": "display_data"
    },
    {
     "name": "stderr",
     "output_type": "stream",
     "text": [
      "INFO:root:DEV LOSS: 6228.1259765625\n",
      "INFO:root:Epoch\t57/100\n"
     ]
    },
    {
     "data": {
      "application/vnd.jupyter.widget-view+json": {
       "model_id": "0c57ecafa0eb45b68f3f90640c40e6c6",
       "version_major": 2,
       "version_minor": 0
      },
      "text/plain": [
       "HBox(children=(IntProgress(value=0, max=323), HTML(value='')))"
      ]
     },
     "metadata": {},
     "output_type": "display_data"
    },
    {
     "name": "stderr",
     "output_type": "stream",
     "text": [
      "INFO:root:DEV LOSS: 6212.34912109375\n",
      "INFO:root:Epoch\t58/100\n"
     ]
    },
    {
     "data": {
      "application/vnd.jupyter.widget-view+json": {
       "model_id": "ac7c5455901641adb8eb06db35eead74",
       "version_major": 2,
       "version_minor": 0
      },
      "text/plain": [
       "HBox(children=(IntProgress(value=0, max=323), HTML(value='')))"
      ]
     },
     "metadata": {},
     "output_type": "display_data"
    },
    {
     "name": "stderr",
     "output_type": "stream",
     "text": [
      "INFO:root:DEV LOSS: 6205.30615234375\n",
      "INFO:root:Epoch\t59/100\n"
     ]
    },
    {
     "data": {
      "application/vnd.jupyter.widget-view+json": {
       "model_id": "5d6ccb9dc8324a77afd0594884b022ab",
       "version_major": 2,
       "version_minor": 0
      },
      "text/plain": [
       "HBox(children=(IntProgress(value=0, max=323), HTML(value='')))"
      ]
     },
     "metadata": {},
     "output_type": "display_data"
    },
    {
     "name": "stderr",
     "output_type": "stream",
     "text": [
      "INFO:root:DEV LOSS: 6207.13330078125\n",
      "INFO:root:Epoch\t60/100\n"
     ]
    },
    {
     "data": {
      "application/vnd.jupyter.widget-view+json": {
       "model_id": "f259ed1408b74a3098e475ff0e447fe4",
       "version_major": 2,
       "version_minor": 0
      },
      "text/plain": [
       "HBox(children=(IntProgress(value=0, max=323), HTML(value='')))"
      ]
     },
     "metadata": {},
     "output_type": "display_data"
    },
    {
     "name": "stderr",
     "output_type": "stream",
     "text": [
      "INFO:root:DEV LOSS: 6226.34619140625\n",
      "INFO:root:Epoch\t61/100\n"
     ]
    },
    {
     "data": {
      "application/vnd.jupyter.widget-view+json": {
       "model_id": "1b99e73930fe44778235153a3f331acc",
       "version_major": 2,
       "version_minor": 0
      },
      "text/plain": [
       "HBox(children=(IntProgress(value=0, max=323), HTML(value='')))"
      ]
     },
     "metadata": {},
     "output_type": "display_data"
    },
    {
     "name": "stderr",
     "output_type": "stream",
     "text": [
      "INFO:root:DEV LOSS: 6203.7587890625\n",
      "INFO:root:Epoch\t62/100\n"
     ]
    },
    {
     "data": {
      "application/vnd.jupyter.widget-view+json": {
       "model_id": "9b8c8b51bd904fa5954077cc76616463",
       "version_major": 2,
       "version_minor": 0
      },
      "text/plain": [
       "HBox(children=(IntProgress(value=0, max=323), HTML(value='')))"
      ]
     },
     "metadata": {},
     "output_type": "display_data"
    },
    {
     "name": "stderr",
     "output_type": "stream",
     "text": [
      "INFO:root:DEV LOSS: 6232.6455078125\n",
      "INFO:root:Epoch\t63/100\n"
     ]
    },
    {
     "data": {
      "application/vnd.jupyter.widget-view+json": {
       "model_id": "3cccb078426c47f4a7ae063162c07961",
       "version_major": 2,
       "version_minor": 0
      },
      "text/plain": [
       "HBox(children=(IntProgress(value=0, max=323), HTML(value='')))"
      ]
     },
     "metadata": {},
     "output_type": "display_data"
    },
    {
     "name": "stderr",
     "output_type": "stream",
     "text": [
      "INFO:root:DEV LOSS: 6208.037109375\n",
      "INFO:root:Epoch\t64/100\n"
     ]
    },
    {
     "data": {
      "application/vnd.jupyter.widget-view+json": {
       "model_id": "185e06e7644e4683b794911e43b1fb53",
       "version_major": 2,
       "version_minor": 0
      },
      "text/plain": [
       "HBox(children=(IntProgress(value=0, max=323), HTML(value='')))"
      ]
     },
     "metadata": {},
     "output_type": "display_data"
    },
    {
     "name": "stderr",
     "output_type": "stream",
     "text": [
      "INFO:root:DEV LOSS: 6210.0859375\n",
      "INFO:root:Epoch\t65/100\n"
     ]
    },
    {
     "data": {
      "application/vnd.jupyter.widget-view+json": {
       "model_id": "2e6fde0383fa4d6b9b06aee77043329d",
       "version_major": 2,
       "version_minor": 0
      },
      "text/plain": [
       "HBox(children=(IntProgress(value=0, max=323), HTML(value='')))"
      ]
     },
     "metadata": {},
     "output_type": "display_data"
    },
    {
     "name": "stderr",
     "output_type": "stream",
     "text": [
      "INFO:root:DEV LOSS: 6215.23388671875\n",
      "INFO:root:Epoch\t66/100\n"
     ]
    },
    {
     "data": {
      "application/vnd.jupyter.widget-view+json": {
       "model_id": "576f4001bc444abc946e144138e4e321",
       "version_major": 2,
       "version_minor": 0
      },
      "text/plain": [
       "HBox(children=(IntProgress(value=0, max=323), HTML(value='')))"
      ]
     },
     "metadata": {},
     "output_type": "display_data"
    },
    {
     "name": "stderr",
     "output_type": "stream",
     "text": [
      "INFO:root:DEV LOSS: 6212.09521484375\n",
      "INFO:root:Epoch\t67/100\n"
     ]
    },
    {
     "data": {
      "application/vnd.jupyter.widget-view+json": {
       "model_id": "ca8a68c006b6465fa5aeeb0a5baec5de",
       "version_major": 2,
       "version_minor": 0
      },
      "text/plain": [
       "HBox(children=(IntProgress(value=0, max=323), HTML(value='')))"
      ]
     },
     "metadata": {},
     "output_type": "display_data"
    },
    {
     "name": "stderr",
     "output_type": "stream",
     "text": [
      "INFO:root:DEV LOSS: 6192.93310546875\n",
      "INFO:root:Epoch\t68/100\n"
     ]
    },
    {
     "data": {
      "application/vnd.jupyter.widget-view+json": {
       "model_id": "5e592bb257914cea929511053805bdb0",
       "version_major": 2,
       "version_minor": 0
      },
      "text/plain": [
       "HBox(children=(IntProgress(value=0, max=323), HTML(value='')))"
      ]
     },
     "metadata": {},
     "output_type": "display_data"
    },
    {
     "name": "stderr",
     "output_type": "stream",
     "text": [
      "INFO:root:DEV LOSS: 6208.48974609375\n",
      "INFO:root:Epoch\t69/100\n"
     ]
    },
    {
     "data": {
      "application/vnd.jupyter.widget-view+json": {
       "model_id": "3d311a06b6e144cbae175e83377b7eb5",
       "version_major": 2,
       "version_minor": 0
      },
      "text/plain": [
       "HBox(children=(IntProgress(value=0, max=323), HTML(value='')))"
      ]
     },
     "metadata": {},
     "output_type": "display_data"
    },
    {
     "name": "stderr",
     "output_type": "stream",
     "text": [
      "INFO:root:DEV LOSS: 6229.376953125\n",
      "INFO:root:Epoch\t70/100\n"
     ]
    },
    {
     "data": {
      "application/vnd.jupyter.widget-view+json": {
       "model_id": "36239175269c4c97a2a5bf93b7417d8f",
       "version_major": 2,
       "version_minor": 0
      },
      "text/plain": [
       "HBox(children=(IntProgress(value=0, max=323), HTML(value='')))"
      ]
     },
     "metadata": {},
     "output_type": "display_data"
    },
    {
     "name": "stderr",
     "output_type": "stream",
     "text": [
      "INFO:root:DEV LOSS: 6193.52001953125\n",
      "INFO:root:Epoch\t71/100\n"
     ]
    },
    {
     "data": {
      "application/vnd.jupyter.widget-view+json": {
       "model_id": "a22f6584dd4945c59088372f47e42a5e",
       "version_major": 2,
       "version_minor": 0
      },
      "text/plain": [
       "HBox(children=(IntProgress(value=0, max=323), HTML(value='')))"
      ]
     },
     "metadata": {},
     "output_type": "display_data"
    },
    {
     "name": "stderr",
     "output_type": "stream",
     "text": [
      "INFO:root:DEV LOSS: 6203.59375\n",
      "INFO:root:Epoch\t72/100\n"
     ]
    },
    {
     "data": {
      "application/vnd.jupyter.widget-view+json": {
       "model_id": "83b90606f0a44e638a9ea1d5e8d235cb",
       "version_major": 2,
       "version_minor": 0
      },
      "text/plain": [
       "HBox(children=(IntProgress(value=0, max=323), HTML(value='')))"
      ]
     },
     "metadata": {},
     "output_type": "display_data"
    },
    {
     "name": "stderr",
     "output_type": "stream",
     "text": [
      "INFO:root:DEV LOSS: 6198.24462890625\n",
      "INFO:root:Epoch\t73/100\n"
     ]
    },
    {
     "data": {
      "application/vnd.jupyter.widget-view+json": {
       "model_id": "06fc156eef194fe1a6396880400ff98c",
       "version_major": 2,
       "version_minor": 0
      },
      "text/plain": [
       "HBox(children=(IntProgress(value=0, max=323), HTML(value='')))"
      ]
     },
     "metadata": {},
     "output_type": "display_data"
    },
    {
     "name": "stderr",
     "output_type": "stream",
     "text": [
      "INFO:root:DEV LOSS: 6200.4912109375\n",
      "INFO:root:Epoch\t74/100\n"
     ]
    },
    {
     "data": {
      "application/vnd.jupyter.widget-view+json": {
       "model_id": "820ccf2194794b299c096702bd1154f4",
       "version_major": 2,
       "version_minor": 0
      },
      "text/plain": [
       "HBox(children=(IntProgress(value=0, max=323), HTML(value='')))"
      ]
     },
     "metadata": {},
     "output_type": "display_data"
    },
    {
     "name": "stderr",
     "output_type": "stream",
     "text": [
      "INFO:root:DEV LOSS: 6206.01171875\n"
     ]
    }
   ],
   "source": [
    "goal_area_predictor_early_stopping = EarlyStopping(patience = 6)\n",
    "\n",
    "train_indices_loader = torch.utils.data.DataLoader(np.arange(raw_X_train.shape[0]), batch_size = BATCH_SIZE, shuffle = True)\n",
    "\n",
    "for epoch in range(NUM_EPOCHS):\n",
    "    \n",
    "    logging.info(\"Epoch\\t{}/{}\".format(epoch + 1, NUM_EPOCHS))\n",
    "    \n",
    "    model_GoalArea = model_GoalArea.eval()\n",
    "    model_GoalAreaPredictor = model_GoalAreaPredictor.train()\n",
    "    \n",
    "    for train_indices in tqdm_notebook(train_indices_loader, total = len(train_indices_loader)):\n",
    "        \n",
    "        optimizer_GoalAreaPredictorModel.zero_grad()\n",
    "            \n",
    "        dialogs_loss = 0\n",
    "    \n",
    "        for raw_X_train_dialog, train_predictor_Y_dialog in zip(raw_X_train[train_indices], train_predictor_Y[train_indices]):\n",
    "\n",
    "            model_GoalArea.hidden = model_GoalArea.init_hidden()\n",
    "\n",
    "            for raw_X_train_turn, train_predictor_Y_turn in zip(raw_X_train_dialog[\"turns\"], train_predictor_Y_dialog[\"turns\"]):\n",
    "\n",
    "                indices, scores = get_index_and_score(raw_X_train_turn, token_to_index, mode = \"eval\", device = DEVICE)\n",
    "                \n",
    "                with torch.no_grad():\n",
    "                    goal_areas_tensor = model_GoalArea(indices, scores, predictor_mode = True)\n",
    "                \n",
    "                goal_areas_predictor = model_GoalAreaPredictor(goal_areas_tensor)\n",
    "\n",
    "                for goal_area_predictor, gold_goal_area_predictor in zip(goal_areas_predictor, train_predictor_Y_turn[\"goal_area_predictor\"]):\n",
    "\n",
    "                    goal_area_predictor = goal_area_predictor.unsqueeze(0)\n",
    "                    \n",
    "                    gold_goal_area_predictor = torch.tensor([gold_goal_area_predictor], dtype = torch.long, device = DEVICE)\n",
    "                    \n",
    "                    loss_goal_area_predictor = PREDICTOR_LOSS_FUNCTION(goal_area_predictor, gold_goal_area_predictor)\n",
    "\n",
    "                    dialogs_loss += loss_goal_area_predictor\n",
    "                \n",
    "        dialogs_loss.backward(retain_graph = False)\n",
    "\n",
    "        optimizer_GoalAreaPredictorModel.step()\n",
    "    \n",
    "    #train_loss = compute_predictor_loss(model_GoalArea, model_GoalAreaPredictor, raw_X_train, train_predictor_Y, objective = \"goal_area_predictor\", device = DEVICE)\n",
    "    dev_loss = compute_predictor_loss(model_GoalArea, model_GoalAreaPredictor, raw_X_dev, dev_predictor_Y, objective = \"goal_area_predictor\", device = DEVICE)\n",
    "    \n",
    "    #logging.info(\"TRAIN LOSS: {}\\tDEV LOSS: {}\".format(train_loss.item(), dev_loss.item()))\n",
    "    logging.info(\"DEV LOSS: {}\".format(dev_loss.item()))\n",
    "\n",
    "    goal_area_predictor_early_stopping.on_epoch_end(epoch = (epoch + 1), current_value = -dev_loss.item())\n",
    "    \n",
    "    if goal_area_predictor_early_stopping.wait == 0:\n",
    "        torch.save(model_GoalAreaPredictor.state_dict(), \"model_PANFMR_incremental_GoalAreaPredictor.pt\")\n",
    "    \n",
    "    if goal_area_predictor_early_stopping.stop_training:\n",
    "        break"
   ]
  },
  {
   "cell_type": "markdown",
   "metadata": {},
   "source": [
    "### Load Goal Area Predictor Model"
   ]
  },
  {
   "cell_type": "code",
   "execution_count": 44,
   "metadata": {},
   "outputs": [
    {
     "data": {
      "text/plain": [
       "GoalAreaPredictorModel(\n",
       "  (goal_area_predictor_classifier): Linear(in_features=100, out_features=2, bias=True)\n",
       ")"
      ]
     },
     "execution_count": 44,
     "metadata": {},
     "output_type": "execute_result"
    }
   ],
   "source": [
    "model_GoalAreaPredictor = GoalAreaPredictorModel(input_dim = HIDDEN_DIM,\n",
    "                                                 goal_area_predictor_dim = PREDICTOR_DIM,\n",
    "                                                 device = DEVICE)\n",
    "\n",
    "model_GoalAreaPredictor = model_GoalAreaPredictor.to(DEVICE)\n",
    "model_GoalAreaPredictor.load_state_dict(torch.load(\"model_PANFMR_incremental_GoalAreaPredictor.pt\"))\n",
    "model_GoalAreaPredictor.eval()"
   ]
  },
  {
   "cell_type": "markdown",
   "metadata": {},
   "source": [
    "### Train Goal Name Predictor Model"
   ]
  },
  {
   "cell_type": "code",
   "execution_count": 47,
   "metadata": {},
   "outputs": [
    {
     "name": "stderr",
     "output_type": "stream",
     "text": [
      "INFO:root:Epoch\t1/100\n"
     ]
    },
    {
     "data": {
      "application/vnd.jupyter.widget-view+json": {
       "model_id": "95b54735fd0b4cd38555904a779aeea4",
       "version_major": 2,
       "version_minor": 0
      },
      "text/plain": [
       "HBox(children=(IntProgress(value=0, max=323), HTML(value='')))"
      ]
     },
     "metadata": {},
     "output_type": "display_data"
    },
    {
     "name": "stderr",
     "output_type": "stream",
     "text": [
      "INFO:root:DEV LOSS: 24.032638549804688\n",
      "INFO:root:Epoch\t2/100\n"
     ]
    },
    {
     "data": {
      "application/vnd.jupyter.widget-view+json": {
       "model_id": "20c88a0ea15a45f285749b73247f610f",
       "version_major": 2,
       "version_minor": 0
      },
      "text/plain": [
       "HBox(children=(IntProgress(value=0, max=323), HTML(value='')))"
      ]
     },
     "metadata": {},
     "output_type": "display_data"
    },
    {
     "name": "stderr",
     "output_type": "stream",
     "text": [
      "INFO:root:DEV LOSS: 10.958968162536621\n",
      "INFO:root:Epoch\t3/100\n"
     ]
    },
    {
     "data": {
      "application/vnd.jupyter.widget-view+json": {
       "model_id": "677122489eeb4b8f88cee4c242539529",
       "version_major": 2,
       "version_minor": 0
      },
      "text/plain": [
       "HBox(children=(IntProgress(value=0, max=323), HTML(value='')))"
      ]
     },
     "metadata": {},
     "output_type": "display_data"
    },
    {
     "name": "stderr",
     "output_type": "stream",
     "text": [
      "INFO:root:DEV LOSS: 6.727214336395264\n",
      "INFO:root:Epoch\t4/100\n"
     ]
    },
    {
     "data": {
      "application/vnd.jupyter.widget-view+json": {
       "model_id": "fc658095886946cbbd430c29aa015d66",
       "version_major": 2,
       "version_minor": 0
      },
      "text/plain": [
       "HBox(children=(IntProgress(value=0, max=323), HTML(value='')))"
      ]
     },
     "metadata": {},
     "output_type": "display_data"
    },
    {
     "name": "stderr",
     "output_type": "stream",
     "text": [
      "INFO:root:DEV LOSS: 4.736453056335449\n",
      "INFO:root:Epoch\t5/100\n"
     ]
    },
    {
     "data": {
      "application/vnd.jupyter.widget-view+json": {
       "model_id": "479683793b9f4e94b7fb86d6e27209ab",
       "version_major": 2,
       "version_minor": 0
      },
      "text/plain": [
       "HBox(children=(IntProgress(value=0, max=323), HTML(value='')))"
      ]
     },
     "metadata": {},
     "output_type": "display_data"
    },
    {
     "name": "stderr",
     "output_type": "stream",
     "text": [
      "INFO:root:DEV LOSS: 3.6110897064208984\n",
      "INFO:root:Epoch\t6/100\n"
     ]
    },
    {
     "data": {
      "application/vnd.jupyter.widget-view+json": {
       "model_id": "22a6d664f60246c993917bf54d9a2d6a",
       "version_major": 2,
       "version_minor": 0
      },
      "text/plain": [
       "HBox(children=(IntProgress(value=0, max=323), HTML(value='')))"
      ]
     },
     "metadata": {},
     "output_type": "display_data"
    },
    {
     "name": "stderr",
     "output_type": "stream",
     "text": [
      "INFO:root:DEV LOSS: 2.8974204063415527\n",
      "INFO:root:Epoch\t7/100\n"
     ]
    },
    {
     "data": {
      "application/vnd.jupyter.widget-view+json": {
       "model_id": "425a25f490cb47de85958e38539eaf18",
       "version_major": 2,
       "version_minor": 0
      },
      "text/plain": [
       "HBox(children=(IntProgress(value=0, max=323), HTML(value='')))"
      ]
     },
     "metadata": {},
     "output_type": "display_data"
    },
    {
     "name": "stderr",
     "output_type": "stream",
     "text": [
      "INFO:root:DEV LOSS: 2.411128520965576\n",
      "INFO:root:Epoch\t8/100\n"
     ]
    },
    {
     "data": {
      "application/vnd.jupyter.widget-view+json": {
       "model_id": "9fad4e34080d494a8195402f34f778b1",
       "version_major": 2,
       "version_minor": 0
      },
      "text/plain": [
       "HBox(children=(IntProgress(value=0, max=323), HTML(value='')))"
      ]
     },
     "metadata": {},
     "output_type": "display_data"
    },
    {
     "name": "stderr",
     "output_type": "stream",
     "text": [
      "INFO:root:DEV LOSS: 2.059720754623413\n",
      "INFO:root:Epoch\t9/100\n"
     ]
    },
    {
     "data": {
      "application/vnd.jupyter.widget-view+json": {
       "model_id": "88b71b7a3940490988d602f47554b219",
       "version_major": 2,
       "version_minor": 0
      },
      "text/plain": [
       "HBox(children=(IntProgress(value=0, max=323), HTML(value='')))"
      ]
     },
     "metadata": {},
     "output_type": "display_data"
    },
    {
     "name": "stderr",
     "output_type": "stream",
     "text": [
      "INFO:root:DEV LOSS: 1.794952392578125\n",
      "INFO:root:Epoch\t10/100\n"
     ]
    },
    {
     "data": {
      "application/vnd.jupyter.widget-view+json": {
       "model_id": "c21a721f98f549ed81dd260e5bf41c1f",
       "version_major": 2,
       "version_minor": 0
      },
      "text/plain": [
       "HBox(children=(IntProgress(value=0, max=323), HTML(value='')))"
      ]
     },
     "metadata": {},
     "output_type": "display_data"
    },
    {
     "name": "stderr",
     "output_type": "stream",
     "text": [
      "INFO:root:DEV LOSS: 1.589691162109375\n",
      "INFO:root:Epoch\t11/100\n"
     ]
    },
    {
     "data": {
      "application/vnd.jupyter.widget-view+json": {
       "model_id": "813f77dfcd6d487495c138ccd67128f9",
       "version_major": 2,
       "version_minor": 0
      },
      "text/plain": [
       "HBox(children=(IntProgress(value=0, max=323), HTML(value='')))"
      ]
     },
     "metadata": {},
     "output_type": "display_data"
    },
    {
     "name": "stderr",
     "output_type": "stream",
     "text": [
      "INFO:root:DEV LOSS: 1.4256712198257446\n",
      "INFO:root:Epoch\t12/100\n"
     ]
    },
    {
     "data": {
      "application/vnd.jupyter.widget-view+json": {
       "model_id": "20527c62ff6d4d75a4b779de8830ab21",
       "version_major": 2,
       "version_minor": 0
      },
      "text/plain": [
       "HBox(children=(IntProgress(value=0, max=323), HTML(value='')))"
      ]
     },
     "metadata": {},
     "output_type": "display_data"
    },
    {
     "name": "stderr",
     "output_type": "stream",
     "text": [
      "INFO:root:DEV LOSS: 1.291601300239563\n",
      "INFO:root:Epoch\t13/100\n"
     ]
    },
    {
     "data": {
      "application/vnd.jupyter.widget-view+json": {
       "model_id": "54a6b6df2f4e4187b3157bf8f43125aa",
       "version_major": 2,
       "version_minor": 0
      },
      "text/plain": [
       "HBox(children=(IntProgress(value=0, max=323), HTML(value='')))"
      ]
     },
     "metadata": {},
     "output_type": "display_data"
    },
    {
     "name": "stderr",
     "output_type": "stream",
     "text": [
      "INFO:root:DEV LOSS: 1.1803797483444214\n",
      "INFO:root:Epoch\t14/100\n"
     ]
    },
    {
     "data": {
      "application/vnd.jupyter.widget-view+json": {
       "model_id": "56998f319c124697b56c77e3dca582a3",
       "version_major": 2,
       "version_minor": 0
      },
      "text/plain": [
       "HBox(children=(IntProgress(value=0, max=323), HTML(value='')))"
      ]
     },
     "metadata": {},
     "output_type": "display_data"
    },
    {
     "name": "stderr",
     "output_type": "stream",
     "text": [
      "INFO:root:DEV LOSS: 1.0869687795639038\n",
      "INFO:root:Epoch\t15/100\n"
     ]
    },
    {
     "data": {
      "application/vnd.jupyter.widget-view+json": {
       "model_id": "ef0a4df1d14f427ca194296f3636bd92",
       "version_major": 2,
       "version_minor": 0
      },
      "text/plain": [
       "HBox(children=(IntProgress(value=0, max=323), HTML(value='')))"
      ]
     },
     "metadata": {},
     "output_type": "display_data"
    },
    {
     "name": "stderr",
     "output_type": "stream",
     "text": [
      "INFO:root:DEV LOSS: 1.00687575340271\n",
      "INFO:root:Epoch\t16/100\n"
     ]
    },
    {
     "data": {
      "application/vnd.jupyter.widget-view+json": {
       "model_id": "8b2e80a4b4ed4e739e25aa0285eb8d3d",
       "version_major": 2,
       "version_minor": 0
      },
      "text/plain": [
       "HBox(children=(IntProgress(value=0, max=323), HTML(value='')))"
      ]
     },
     "metadata": {},
     "output_type": "display_data"
    },
    {
     "name": "stderr",
     "output_type": "stream",
     "text": [
      "INFO:root:DEV LOSS: 0.9376534819602966\n",
      "INFO:root:Epoch\t17/100\n"
     ]
    },
    {
     "data": {
      "application/vnd.jupyter.widget-view+json": {
       "model_id": "3aa049b2d99f4c2eae547691aa586c35",
       "version_major": 2,
       "version_minor": 0
      },
      "text/plain": [
       "HBox(children=(IntProgress(value=0, max=323), HTML(value='')))"
      ]
     },
     "metadata": {},
     "output_type": "display_data"
    },
    {
     "name": "stderr",
     "output_type": "stream",
     "text": [
      "INFO:root:DEV LOSS: 0.8773759007453918\n",
      "INFO:root:Epoch\t18/100\n"
     ]
    },
    {
     "data": {
      "application/vnd.jupyter.widget-view+json": {
       "model_id": "4d20c573cefd4e2db2b01030d155cf58",
       "version_major": 2,
       "version_minor": 0
      },
      "text/plain": [
       "HBox(children=(IntProgress(value=0, max=323), HTML(value='')))"
      ]
     },
     "metadata": {},
     "output_type": "display_data"
    },
    {
     "name": "stderr",
     "output_type": "stream",
     "text": [
      "INFO:root:DEV LOSS: 0.8248336315155029\n",
      "INFO:root:Epoch\t19/100\n"
     ]
    },
    {
     "data": {
      "application/vnd.jupyter.widget-view+json": {
       "model_id": "c7f85801ff5945269e15e7bf9d2a224e",
       "version_major": 2,
       "version_minor": 0
      },
      "text/plain": [
       "HBox(children=(IntProgress(value=0, max=323), HTML(value='')))"
      ]
     },
     "metadata": {},
     "output_type": "display_data"
    },
    {
     "name": "stderr",
     "output_type": "stream",
     "text": [
      "INFO:root:DEV LOSS: 0.7775149345397949\n",
      "INFO:root:Epoch\t20/100\n"
     ]
    },
    {
     "data": {
      "application/vnd.jupyter.widget-view+json": {
       "model_id": "6777d2605c924d3aa996be6232aefcaa",
       "version_major": 2,
       "version_minor": 0
      },
      "text/plain": [
       "HBox(children=(IntProgress(value=0, max=323), HTML(value='')))"
      ]
     },
     "metadata": {},
     "output_type": "display_data"
    },
    {
     "name": "stderr",
     "output_type": "stream",
     "text": [
      "INFO:root:DEV LOSS: 0.7361252903938293\n",
      "INFO:root:Epoch\t21/100\n"
     ]
    },
    {
     "data": {
      "application/vnd.jupyter.widget-view+json": {
       "model_id": "bb3b1e49e98842d2bb3649be89276cf3",
       "version_major": 2,
       "version_minor": 0
      },
      "text/plain": [
       "HBox(children=(IntProgress(value=0, max=323), HTML(value='')))"
      ]
     },
     "metadata": {},
     "output_type": "display_data"
    },
    {
     "name": "stderr",
     "output_type": "stream",
     "text": [
      "INFO:root:DEV LOSS: 0.6984236836433411\n",
      "INFO:root:Epoch\t22/100\n"
     ]
    },
    {
     "data": {
      "application/vnd.jupyter.widget-view+json": {
       "model_id": "8f79c6e7be8e45b0af2aec0efcae9f1d",
       "version_major": 2,
       "version_minor": 0
      },
      "text/plain": [
       "HBox(children=(IntProgress(value=0, max=323), HTML(value='')))"
      ]
     },
     "metadata": {},
     "output_type": "display_data"
    },
    {
     "name": "stderr",
     "output_type": "stream",
     "text": [
      "INFO:root:DEV LOSS: 0.6644672155380249\n",
      "INFO:root:Epoch\t23/100\n"
     ]
    },
    {
     "data": {
      "application/vnd.jupyter.widget-view+json": {
       "model_id": "ea6c80eacc804819be84111eda7a1d32",
       "version_major": 2,
       "version_minor": 0
      },
      "text/plain": [
       "HBox(children=(IntProgress(value=0, max=323), HTML(value='')))"
      ]
     },
     "metadata": {},
     "output_type": "display_data"
    },
    {
     "name": "stderr",
     "output_type": "stream",
     "text": [
      "INFO:root:DEV LOSS: 0.6336709856987\n",
      "INFO:root:Epoch\t24/100\n"
     ]
    },
    {
     "data": {
      "application/vnd.jupyter.widget-view+json": {
       "model_id": "c5f54910d29040bdaa1f5cabbbf88bd5",
       "version_major": 2,
       "version_minor": 0
      },
      "text/plain": [
       "HBox(children=(IntProgress(value=0, max=323), HTML(value='')))"
      ]
     },
     "metadata": {},
     "output_type": "display_data"
    },
    {
     "name": "stderr",
     "output_type": "stream",
     "text": [
      "INFO:root:DEV LOSS: 0.6055728793144226\n",
      "INFO:root:Epoch\t25/100\n"
     ]
    },
    {
     "data": {
      "application/vnd.jupyter.widget-view+json": {
       "model_id": "84f52a9dd213491fa8d7385792e9ac9a",
       "version_major": 2,
       "version_minor": 0
      },
      "text/plain": [
       "HBox(children=(IntProgress(value=0, max=323), HTML(value='')))"
      ]
     },
     "metadata": {},
     "output_type": "display_data"
    },
    {
     "name": "stderr",
     "output_type": "stream",
     "text": [
      "INFO:root:DEV LOSS: 0.5798714756965637\n",
      "INFO:root:Epoch\t26/100\n"
     ]
    },
    {
     "data": {
      "application/vnd.jupyter.widget-view+json": {
       "model_id": "730d783251f3472a8a6604c11d29f24d",
       "version_major": 2,
       "version_minor": 0
      },
      "text/plain": [
       "HBox(children=(IntProgress(value=0, max=323), HTML(value='')))"
      ]
     },
     "metadata": {},
     "output_type": "display_data"
    },
    {
     "name": "stderr",
     "output_type": "stream",
     "text": [
      "INFO:root:DEV LOSS: 0.5563972592353821\n",
      "INFO:root:Epoch\t27/100\n"
     ]
    },
    {
     "data": {
      "application/vnd.jupyter.widget-view+json": {
       "model_id": "656289849c9a460f87192e4ebbc8b3b0",
       "version_major": 2,
       "version_minor": 0
      },
      "text/plain": [
       "HBox(children=(IntProgress(value=0, max=323), HTML(value='')))"
      ]
     },
     "metadata": {},
     "output_type": "display_data"
    },
    {
     "name": "stderr",
     "output_type": "stream",
     "text": [
      "INFO:root:DEV LOSS: 0.5346518754959106\n",
      "INFO:root:Epoch\t28/100\n"
     ]
    },
    {
     "data": {
      "application/vnd.jupyter.widget-view+json": {
       "model_id": "9714d453090e4d58b1c3f1496edc40ae",
       "version_major": 2,
       "version_minor": 0
      },
      "text/plain": [
       "HBox(children=(IntProgress(value=0, max=323), HTML(value='')))"
      ]
     },
     "metadata": {},
     "output_type": "display_data"
    },
    {
     "name": "stderr",
     "output_type": "stream",
     "text": [
      "INFO:root:DEV LOSS: 0.5145638585090637\n",
      "INFO:root:Epoch\t29/100\n"
     ]
    },
    {
     "data": {
      "application/vnd.jupyter.widget-view+json": {
       "model_id": "1e0138690473492f8d8c4dc3c9e19008",
       "version_major": 2,
       "version_minor": 0
      },
      "text/plain": [
       "HBox(children=(IntProgress(value=0, max=323), HTML(value='')))"
      ]
     },
     "metadata": {},
     "output_type": "display_data"
    },
    {
     "name": "stderr",
     "output_type": "stream",
     "text": [
      "INFO:root:DEV LOSS: 0.49599045515060425\n",
      "INFO:root:Epoch\t30/100\n"
     ]
    },
    {
     "data": {
      "application/vnd.jupyter.widget-view+json": {
       "model_id": "73ed92c48c64475f96da2a22d5109550",
       "version_major": 2,
       "version_minor": 0
      },
      "text/plain": [
       "HBox(children=(IntProgress(value=0, max=323), HTML(value='')))"
      ]
     },
     "metadata": {},
     "output_type": "display_data"
    },
    {
     "name": "stderr",
     "output_type": "stream",
     "text": [
      "INFO:root:DEV LOSS: 0.47846677899360657\n",
      "INFO:root:Epoch\t31/100\n"
     ]
    },
    {
     "data": {
      "application/vnd.jupyter.widget-view+json": {
       "model_id": "a4ab37a3161549daad00dfa6494e0b28",
       "version_major": 2,
       "version_minor": 0
      },
      "text/plain": [
       "HBox(children=(IntProgress(value=0, max=323), HTML(value='')))"
      ]
     },
     "metadata": {},
     "output_type": "display_data"
    },
    {
     "name": "stderr",
     "output_type": "stream",
     "text": [
      "INFO:root:DEV LOSS: 0.4624236822128296\n",
      "INFO:root:Epoch\t32/100\n"
     ]
    },
    {
     "data": {
      "application/vnd.jupyter.widget-view+json": {
       "model_id": "c199d911f5bc4b0a8554dad64e9176ad",
       "version_major": 2,
       "version_minor": 0
      },
      "text/plain": [
       "HBox(children=(IntProgress(value=0, max=323), HTML(value='')))"
      ]
     },
     "metadata": {},
     "output_type": "display_data"
    },
    {
     "name": "stderr",
     "output_type": "stream",
     "text": [
      "INFO:root:DEV LOSS: 0.4476158618927002\n",
      "INFO:root:Epoch\t33/100\n"
     ]
    },
    {
     "data": {
      "application/vnd.jupyter.widget-view+json": {
       "model_id": "2d5ac3d0ffd24034b655096d37cf6696",
       "version_major": 2,
       "version_minor": 0
      },
      "text/plain": [
       "HBox(children=(IntProgress(value=0, max=323), HTML(value='')))"
      ]
     },
     "metadata": {},
     "output_type": "display_data"
    },
    {
     "name": "stderr",
     "output_type": "stream",
     "text": [
      "INFO:root:DEV LOSS: 0.4333357512950897\n",
      "INFO:root:Epoch\t34/100\n"
     ]
    },
    {
     "data": {
      "application/vnd.jupyter.widget-view+json": {
       "model_id": "a91b72f79f154fa9a966184bd9b4cf7b",
       "version_major": 2,
       "version_minor": 0
      },
      "text/plain": [
       "HBox(children=(IntProgress(value=0, max=323), HTML(value='')))"
      ]
     },
     "metadata": {},
     "output_type": "display_data"
    },
    {
     "name": "stderr",
     "output_type": "stream",
     "text": [
      "INFO:root:DEV LOSS: 0.42000439763069153\n",
      "INFO:root:Epoch\t35/100\n"
     ]
    },
    {
     "data": {
      "application/vnd.jupyter.widget-view+json": {
       "model_id": "c74a889b6c84484ba0eb081e3309c21a",
       "version_major": 2,
       "version_minor": 0
      },
      "text/plain": [
       "HBox(children=(IntProgress(value=0, max=323), HTML(value='')))"
      ]
     },
     "metadata": {},
     "output_type": "display_data"
    },
    {
     "name": "stderr",
     "output_type": "stream",
     "text": [
      "INFO:root:DEV LOSS: 0.40747931599617004\n",
      "INFO:root:Epoch\t36/100\n"
     ]
    },
    {
     "data": {
      "application/vnd.jupyter.widget-view+json": {
       "model_id": "ea3d0585911c414393f85d8172421e6f",
       "version_major": 2,
       "version_minor": 0
      },
      "text/plain": [
       "HBox(children=(IntProgress(value=0, max=323), HTML(value='')))"
      ]
     },
     "metadata": {},
     "output_type": "display_data"
    },
    {
     "name": "stderr",
     "output_type": "stream",
     "text": [
      "INFO:root:DEV LOSS: 0.39589253067970276\n",
      "INFO:root:Epoch\t37/100\n"
     ]
    },
    {
     "data": {
      "application/vnd.jupyter.widget-view+json": {
       "model_id": "cba0d79632af40bdb8476d8d795cc10d",
       "version_major": 2,
       "version_minor": 0
      },
      "text/plain": [
       "HBox(children=(IntProgress(value=0, max=323), HTML(value='')))"
      ]
     },
     "metadata": {},
     "output_type": "display_data"
    },
    {
     "name": "stderr",
     "output_type": "stream",
     "text": [
      "INFO:root:DEV LOSS: 0.3848830461502075\n",
      "INFO:root:Epoch\t38/100\n"
     ]
    },
    {
     "data": {
      "application/vnd.jupyter.widget-view+json": {
       "model_id": "ec9aad0c8603418ba34b4a7c80dc09c0",
       "version_major": 2,
       "version_minor": 0
      },
      "text/plain": [
       "HBox(children=(IntProgress(value=0, max=323), HTML(value='')))"
      ]
     },
     "metadata": {},
     "output_type": "display_data"
    },
    {
     "name": "stderr",
     "output_type": "stream",
     "text": [
      "INFO:root:DEV LOSS: 0.3741403818130493\n",
      "INFO:root:Epoch\t39/100\n"
     ]
    },
    {
     "data": {
      "application/vnd.jupyter.widget-view+json": {
       "model_id": "6ca5b9b7e1e7460b9c64d805564db435",
       "version_major": 2,
       "version_minor": 0
      },
      "text/plain": [
       "HBox(children=(IntProgress(value=0, max=323), HTML(value='')))"
      ]
     },
     "metadata": {},
     "output_type": "display_data"
    },
    {
     "name": "stderr",
     "output_type": "stream",
     "text": [
      "INFO:root:DEV LOSS: 0.36448726058006287\n",
      "INFO:root:Epoch\t40/100\n"
     ]
    },
    {
     "data": {
      "application/vnd.jupyter.widget-view+json": {
       "model_id": "ec97ae14af324fb8a4270efeb20d9de7",
       "version_major": 2,
       "version_minor": 0
      },
      "text/plain": [
       "HBox(children=(IntProgress(value=0, max=323), HTML(value='')))"
      ]
     },
     "metadata": {},
     "output_type": "display_data"
    },
    {
     "name": "stderr",
     "output_type": "stream",
     "text": [
      "INFO:root:DEV LOSS: 0.3548509478569031\n",
      "INFO:root:Epoch\t41/100\n"
     ]
    },
    {
     "data": {
      "application/vnd.jupyter.widget-view+json": {
       "model_id": "57d21c0d1db14b98a8072853c095b460",
       "version_major": 2,
       "version_minor": 0
      },
      "text/plain": [
       "HBox(children=(IntProgress(value=0, max=323), HTML(value='')))"
      ]
     },
     "metadata": {},
     "output_type": "display_data"
    },
    {
     "name": "stderr",
     "output_type": "stream",
     "text": [
      "INFO:root:DEV LOSS: 0.34585994482040405\n",
      "INFO:root:Epoch\t42/100\n"
     ]
    },
    {
     "data": {
      "application/vnd.jupyter.widget-view+json": {
       "model_id": "a351b6fd75aa44d38597f3167b41e24e",
       "version_major": 2,
       "version_minor": 0
      },
      "text/plain": [
       "HBox(children=(IntProgress(value=0, max=323), HTML(value='')))"
      ]
     },
     "metadata": {},
     "output_type": "display_data"
    },
    {
     "name": "stderr",
     "output_type": "stream",
     "text": [
      "INFO:root:DEV LOSS: 0.3376433253288269\n",
      "INFO:root:Epoch\t43/100\n"
     ]
    },
    {
     "data": {
      "application/vnd.jupyter.widget-view+json": {
       "model_id": "d6a3282467ec4a5b9a62920f393d40d1",
       "version_major": 2,
       "version_minor": 0
      },
      "text/plain": [
       "HBox(children=(IntProgress(value=0, max=323), HTML(value='')))"
      ]
     },
     "metadata": {},
     "output_type": "display_data"
    },
    {
     "name": "stderr",
     "output_type": "stream",
     "text": [
      "INFO:root:DEV LOSS: 0.3294098973274231\n",
      "INFO:root:Epoch\t44/100\n"
     ]
    },
    {
     "data": {
      "application/vnd.jupyter.widget-view+json": {
       "model_id": "0b51f77cf3f24dc7a2ba14e18371b85c",
       "version_major": 2,
       "version_minor": 0
      },
      "text/plain": [
       "HBox(children=(IntProgress(value=0, max=323), HTML(value='')))"
      ]
     },
     "metadata": {},
     "output_type": "display_data"
    },
    {
     "name": "stderr",
     "output_type": "stream",
     "text": [
      "INFO:root:DEV LOSS: 0.3216274678707123\n",
      "INFO:root:Epoch\t45/100\n"
     ]
    },
    {
     "data": {
      "application/vnd.jupyter.widget-view+json": {
       "model_id": "1ee25c7e661c4666a70f614de8c4a26e",
       "version_major": 2,
       "version_minor": 0
      },
      "text/plain": [
       "HBox(children=(IntProgress(value=0, max=323), HTML(value='')))"
      ]
     },
     "metadata": {},
     "output_type": "display_data"
    },
    {
     "name": "stderr",
     "output_type": "stream",
     "text": [
      "INFO:root:DEV LOSS: 0.3144073188304901\n",
      "INFO:root:Epoch\t46/100\n"
     ]
    },
    {
     "data": {
      "application/vnd.jupyter.widget-view+json": {
       "model_id": "424f6af447e34edeb10e16701bde9c88",
       "version_major": 2,
       "version_minor": 0
      },
      "text/plain": [
       "HBox(children=(IntProgress(value=0, max=323), HTML(value='')))"
      ]
     },
     "metadata": {},
     "output_type": "display_data"
    },
    {
     "name": "stderr",
     "output_type": "stream",
     "text": [
      "INFO:root:DEV LOSS: 0.3072550892829895\n",
      "INFO:root:Epoch\t47/100\n"
     ]
    },
    {
     "data": {
      "application/vnd.jupyter.widget-view+json": {
       "model_id": "2b765a0b46164f728a3752a55d8ba052",
       "version_major": 2,
       "version_minor": 0
      },
      "text/plain": [
       "HBox(children=(IntProgress(value=0, max=323), HTML(value='')))"
      ]
     },
     "metadata": {},
     "output_type": "display_data"
    },
    {
     "name": "stderr",
     "output_type": "stream",
     "text": [
      "INFO:root:DEV LOSS: 0.3007045388221741\n",
      "INFO:root:Epoch\t48/100\n"
     ]
    },
    {
     "data": {
      "application/vnd.jupyter.widget-view+json": {
       "model_id": "8e14c9fb05f342229ced57eb7ef71488",
       "version_major": 2,
       "version_minor": 0
      },
      "text/plain": [
       "HBox(children=(IntProgress(value=0, max=323), HTML(value='')))"
      ]
     },
     "metadata": {},
     "output_type": "display_data"
    },
    {
     "name": "stderr",
     "output_type": "stream",
     "text": [
      "INFO:root:DEV LOSS: 0.29435402154922485\n",
      "INFO:root:Epoch\t49/100\n"
     ]
    },
    {
     "data": {
      "application/vnd.jupyter.widget-view+json": {
       "model_id": "8436e86799f1440db33127ecab374693",
       "version_major": 2,
       "version_minor": 0
      },
      "text/plain": [
       "HBox(children=(IntProgress(value=0, max=323), HTML(value='')))"
      ]
     },
     "metadata": {},
     "output_type": "display_data"
    },
    {
     "name": "stderr",
     "output_type": "stream",
     "text": [
      "INFO:root:DEV LOSS: 0.2880402207374573\n",
      "INFO:root:Epoch\t50/100\n"
     ]
    },
    {
     "data": {
      "application/vnd.jupyter.widget-view+json": {
       "model_id": "5da2eee318fd4c53966d06ecac79fe53",
       "version_major": 2,
       "version_minor": 0
      },
      "text/plain": [
       "HBox(children=(IntProgress(value=0, max=323), HTML(value='')))"
      ]
     },
     "metadata": {},
     "output_type": "display_data"
    },
    {
     "name": "stderr",
     "output_type": "stream",
     "text": [
      "INFO:root:DEV LOSS: 0.282176673412323\n",
      "INFO:root:Epoch\t51/100\n"
     ]
    },
    {
     "data": {
      "application/vnd.jupyter.widget-view+json": {
       "model_id": "48982f5188764616a8a84396f1d8718f",
       "version_major": 2,
       "version_minor": 0
      },
      "text/plain": [
       "HBox(children=(IntProgress(value=0, max=323), HTML(value='')))"
      ]
     },
     "metadata": {},
     "output_type": "display_data"
    },
    {
     "name": "stderr",
     "output_type": "stream",
     "text": [
      "INFO:root:DEV LOSS: 0.2765863239765167\n",
      "INFO:root:Epoch\t52/100\n"
     ]
    },
    {
     "data": {
      "application/vnd.jupyter.widget-view+json": {
       "model_id": "09b36006909745e58d7b9b2afc934c8e",
       "version_major": 2,
       "version_minor": 0
      },
      "text/plain": [
       "HBox(children=(IntProgress(value=0, max=323), HTML(value='')))"
      ]
     },
     "metadata": {},
     "output_type": "display_data"
    },
    {
     "name": "stderr",
     "output_type": "stream",
     "text": [
      "INFO:root:DEV LOSS: 0.2711639106273651\n",
      "INFO:root:Epoch\t53/100\n"
     ]
    },
    {
     "data": {
      "application/vnd.jupyter.widget-view+json": {
       "model_id": "faa58e459e9644d380a3652ebb5a39fa",
       "version_major": 2,
       "version_minor": 0
      },
      "text/plain": [
       "HBox(children=(IntProgress(value=0, max=323), HTML(value='')))"
      ]
     },
     "metadata": {},
     "output_type": "display_data"
    },
    {
     "name": "stderr",
     "output_type": "stream",
     "text": [
      "INFO:root:DEV LOSS: 0.2659805715084076\n",
      "INFO:root:Epoch\t54/100\n"
     ]
    },
    {
     "data": {
      "application/vnd.jupyter.widget-view+json": {
       "model_id": "ecf91362a49e4d37a8adcc80ebcc3529",
       "version_major": 2,
       "version_minor": 0
      },
      "text/plain": [
       "HBox(children=(IntProgress(value=0, max=323), HTML(value='')))"
      ]
     },
     "metadata": {},
     "output_type": "display_data"
    },
    {
     "name": "stderr",
     "output_type": "stream",
     "text": [
      "INFO:root:DEV LOSS: 0.2608824670314789\n",
      "INFO:root:Epoch\t55/100\n"
     ]
    },
    {
     "data": {
      "application/vnd.jupyter.widget-view+json": {
       "model_id": "829f246035fd4874920367f5aba3ddde",
       "version_major": 2,
       "version_minor": 0
      },
      "text/plain": [
       "HBox(children=(IntProgress(value=0, max=323), HTML(value='')))"
      ]
     },
     "metadata": {},
     "output_type": "display_data"
    },
    {
     "name": "stderr",
     "output_type": "stream",
     "text": [
      "INFO:root:DEV LOSS: 0.25581666827201843\n",
      "INFO:root:Epoch\t56/100\n"
     ]
    },
    {
     "data": {
      "application/vnd.jupyter.widget-view+json": {
       "model_id": "35fbb629172e48f2a4da3d9f22e711ab",
       "version_major": 2,
       "version_minor": 0
      },
      "text/plain": [
       "HBox(children=(IntProgress(value=0, max=323), HTML(value='')))"
      ]
     },
     "metadata": {},
     "output_type": "display_data"
    },
    {
     "name": "stderr",
     "output_type": "stream",
     "text": [
      "INFO:root:DEV LOSS: 0.25144872069358826\n",
      "INFO:root:Epoch\t57/100\n"
     ]
    },
    {
     "data": {
      "application/vnd.jupyter.widget-view+json": {
       "model_id": "71f20d094ac14212a3bd7fe1d7d74c72",
       "version_major": 2,
       "version_minor": 0
      },
      "text/plain": [
       "HBox(children=(IntProgress(value=0, max=323), HTML(value='')))"
      ]
     },
     "metadata": {},
     "output_type": "display_data"
    },
    {
     "name": "stderr",
     "output_type": "stream",
     "text": [
      "INFO:root:DEV LOSS: 0.2470669448375702\n",
      "INFO:root:Epoch\t58/100\n"
     ]
    },
    {
     "data": {
      "application/vnd.jupyter.widget-view+json": {
       "model_id": "11b4f58b6d4f4d17a9d86cb7532b40b9",
       "version_major": 2,
       "version_minor": 0
      },
      "text/plain": [
       "HBox(children=(IntProgress(value=0, max=323), HTML(value='')))"
      ]
     },
     "metadata": {},
     "output_type": "display_data"
    },
    {
     "name": "stderr",
     "output_type": "stream",
     "text": [
      "INFO:root:DEV LOSS: 0.24259135127067566\n",
      "INFO:root:Epoch\t59/100\n"
     ]
    },
    {
     "data": {
      "application/vnd.jupyter.widget-view+json": {
       "model_id": "76dd4a793e8840049d42e8d5ed65e18c",
       "version_major": 2,
       "version_minor": 0
      },
      "text/plain": [
       "HBox(children=(IntProgress(value=0, max=323), HTML(value='')))"
      ]
     },
     "metadata": {},
     "output_type": "display_data"
    },
    {
     "name": "stderr",
     "output_type": "stream",
     "text": [
      "INFO:root:DEV LOSS: 0.23818881809711456\n",
      "INFO:root:Epoch\t60/100\n"
     ]
    },
    {
     "data": {
      "application/vnd.jupyter.widget-view+json": {
       "model_id": "3f48ccc9ce4545d4a3be6e0d0a34e0be",
       "version_major": 2,
       "version_minor": 0
      },
      "text/plain": [
       "HBox(children=(IntProgress(value=0, max=323), HTML(value='')))"
      ]
     },
     "metadata": {},
     "output_type": "display_data"
    },
    {
     "name": "stderr",
     "output_type": "stream",
     "text": [
      "INFO:root:DEV LOSS: 0.23450489342212677\n",
      "INFO:root:Epoch\t61/100\n"
     ]
    },
    {
     "data": {
      "application/vnd.jupyter.widget-view+json": {
       "model_id": "d37653a4a9444d5eb77f60af7792b776",
       "version_major": 2,
       "version_minor": 0
      },
      "text/plain": [
       "HBox(children=(IntProgress(value=0, max=323), HTML(value='')))"
      ]
     },
     "metadata": {},
     "output_type": "display_data"
    },
    {
     "name": "stderr",
     "output_type": "stream",
     "text": [
      "INFO:root:DEV LOSS: 0.2302069067955017\n",
      "INFO:root:Epoch\t62/100\n"
     ]
    },
    {
     "data": {
      "application/vnd.jupyter.widget-view+json": {
       "model_id": "93ef4ec77abe4b218dc054cccb7e7985",
       "version_major": 2,
       "version_minor": 0
      },
      "text/plain": [
       "HBox(children=(IntProgress(value=0, max=323), HTML(value='')))"
      ]
     },
     "metadata": {},
     "output_type": "display_data"
    },
    {
     "name": "stderr",
     "output_type": "stream",
     "text": [
      "INFO:root:DEV LOSS: 0.2263297438621521\n",
      "INFO:root:Epoch\t63/100\n"
     ]
    },
    {
     "data": {
      "application/vnd.jupyter.widget-view+json": {
       "model_id": "d965cecc8100437c89a846a6d4cb0dd0",
       "version_major": 2,
       "version_minor": 0
      },
      "text/plain": [
       "HBox(children=(IntProgress(value=0, max=323), HTML(value='')))"
      ]
     },
     "metadata": {},
     "output_type": "display_data"
    },
    {
     "name": "stderr",
     "output_type": "stream",
     "text": [
      "INFO:root:DEV LOSS: 0.22324185073375702\n",
      "INFO:root:Epoch\t64/100\n"
     ]
    },
    {
     "data": {
      "application/vnd.jupyter.widget-view+json": {
       "model_id": "b8b40a34deb84f6c96141c7938eb90a0",
       "version_major": 2,
       "version_minor": 0
      },
      "text/plain": [
       "HBox(children=(IntProgress(value=0, max=323), HTML(value='')))"
      ]
     },
     "metadata": {},
     "output_type": "display_data"
    },
    {
     "name": "stderr",
     "output_type": "stream",
     "text": [
      "INFO:root:DEV LOSS: 0.21932487189769745\n",
      "INFO:root:Epoch\t65/100\n"
     ]
    },
    {
     "data": {
      "application/vnd.jupyter.widget-view+json": {
       "model_id": "6ee1a33a04e54f668c49c6c9dbd37f41",
       "version_major": 2,
       "version_minor": 0
      },
      "text/plain": [
       "HBox(children=(IntProgress(value=0, max=323), HTML(value='')))"
      ]
     },
     "metadata": {},
     "output_type": "display_data"
    },
    {
     "name": "stderr",
     "output_type": "stream",
     "text": [
      "INFO:root:DEV LOSS: 0.21571311354637146\n",
      "INFO:root:Epoch\t66/100\n"
     ]
    },
    {
     "data": {
      "application/vnd.jupyter.widget-view+json": {
       "model_id": "0348749827f9440ba9e8375a56045a5a",
       "version_major": 2,
       "version_minor": 0
      },
      "text/plain": [
       "HBox(children=(IntProgress(value=0, max=323), HTML(value='')))"
      ]
     },
     "metadata": {},
     "output_type": "display_data"
    },
    {
     "name": "stderr",
     "output_type": "stream",
     "text": [
      "INFO:root:DEV LOSS: 0.21257326006889343\n",
      "INFO:root:Epoch\t67/100\n"
     ]
    },
    {
     "data": {
      "application/vnd.jupyter.widget-view+json": {
       "model_id": "3b6bd005dfc842e583f57fde9bfcf550",
       "version_major": 2,
       "version_minor": 0
      },
      "text/plain": [
       "HBox(children=(IntProgress(value=0, max=323), HTML(value='')))"
      ]
     },
     "metadata": {},
     "output_type": "display_data"
    },
    {
     "name": "stderr",
     "output_type": "stream",
     "text": [
      "INFO:root:DEV LOSS: 0.2092580497264862\n",
      "INFO:root:Epoch\t68/100\n"
     ]
    },
    {
     "data": {
      "application/vnd.jupyter.widget-view+json": {
       "model_id": "03bc1db61219421cb71a06f3e85951f6",
       "version_major": 2,
       "version_minor": 0
      },
      "text/plain": [
       "HBox(children=(IntProgress(value=0, max=323), HTML(value='')))"
      ]
     },
     "metadata": {},
     "output_type": "display_data"
    },
    {
     "name": "stderr",
     "output_type": "stream",
     "text": [
      "INFO:root:DEV LOSS: 0.2063194215297699\n",
      "INFO:root:Epoch\t69/100\n"
     ]
    },
    {
     "data": {
      "application/vnd.jupyter.widget-view+json": {
       "model_id": "a330d8569c5e45268532ebb0903432fe",
       "version_major": 2,
       "version_minor": 0
      },
      "text/plain": [
       "HBox(children=(IntProgress(value=0, max=323), HTML(value='')))"
      ]
     },
     "metadata": {},
     "output_type": "display_data"
    },
    {
     "name": "stderr",
     "output_type": "stream",
     "text": [
      "INFO:root:DEV LOSS: 0.20291969180107117\n",
      "INFO:root:Epoch\t70/100\n"
     ]
    },
    {
     "data": {
      "application/vnd.jupyter.widget-view+json": {
       "model_id": "cbb078b8790b4073bb5417d11dab89e4",
       "version_major": 2,
       "version_minor": 0
      },
      "text/plain": [
       "HBox(children=(IntProgress(value=0, max=323), HTML(value='')))"
      ]
     },
     "metadata": {},
     "output_type": "display_data"
    },
    {
     "name": "stderr",
     "output_type": "stream",
     "text": [
      "INFO:root:DEV LOSS: 0.20040757954120636\n",
      "INFO:root:Epoch\t71/100\n"
     ]
    },
    {
     "data": {
      "application/vnd.jupyter.widget-view+json": {
       "model_id": "500cf028e3b540ef8a6f3fada5b74e19",
       "version_major": 2,
       "version_minor": 0
      },
      "text/plain": [
       "HBox(children=(IntProgress(value=0, max=323), HTML(value='')))"
      ]
     },
     "metadata": {},
     "output_type": "display_data"
    },
    {
     "name": "stderr",
     "output_type": "stream",
     "text": [
      "INFO:root:DEV LOSS: 0.19718703627586365\n",
      "INFO:root:Epoch\t72/100\n"
     ]
    },
    {
     "data": {
      "application/vnd.jupyter.widget-view+json": {
       "model_id": "b7f7cfa302aa4dad995c4d2c0cf569c0",
       "version_major": 2,
       "version_minor": 0
      },
      "text/plain": [
       "HBox(children=(IntProgress(value=0, max=323), HTML(value='')))"
      ]
     },
     "metadata": {},
     "output_type": "display_data"
    },
    {
     "name": "stderr",
     "output_type": "stream",
     "text": [
      "INFO:root:DEV LOSS: 0.1949269324541092\n",
      "INFO:root:Epoch\t73/100\n"
     ]
    },
    {
     "data": {
      "application/vnd.jupyter.widget-view+json": {
       "model_id": "f51a02457b7b48bb8dd1d594e7e576e5",
       "version_major": 2,
       "version_minor": 0
      },
      "text/plain": [
       "HBox(children=(IntProgress(value=0, max=323), HTML(value='')))"
      ]
     },
     "metadata": {},
     "output_type": "display_data"
    },
    {
     "name": "stderr",
     "output_type": "stream",
     "text": [
      "INFO:root:DEV LOSS: 0.19173641502857208\n",
      "INFO:root:Epoch\t74/100\n"
     ]
    },
    {
     "data": {
      "application/vnd.jupyter.widget-view+json": {
       "model_id": "58b471b2df114a7eb78707f086b27c4b",
       "version_major": 2,
       "version_minor": 0
      },
      "text/plain": [
       "HBox(children=(IntProgress(value=0, max=323), HTML(value='')))"
      ]
     },
     "metadata": {},
     "output_type": "display_data"
    },
    {
     "name": "stderr",
     "output_type": "stream",
     "text": [
      "INFO:root:DEV LOSS: 0.18921370804309845\n",
      "INFO:root:Epoch\t75/100\n"
     ]
    },
    {
     "data": {
      "application/vnd.jupyter.widget-view+json": {
       "model_id": "41e3cf6b58ba46f8a3e776a1771ce379",
       "version_major": 2,
       "version_minor": 0
      },
      "text/plain": [
       "HBox(children=(IntProgress(value=0, max=323), HTML(value='')))"
      ]
     },
     "metadata": {},
     "output_type": "display_data"
    },
    {
     "name": "stderr",
     "output_type": "stream",
     "text": [
      "INFO:root:DEV LOSS: 0.1867423802614212\n",
      "INFO:root:Epoch\t76/100\n"
     ]
    },
    {
     "data": {
      "application/vnd.jupyter.widget-view+json": {
       "model_id": "09e57201497449658438739e4b840cdc",
       "version_major": 2,
       "version_minor": 0
      },
      "text/plain": [
       "HBox(children=(IntProgress(value=0, max=323), HTML(value='')))"
      ]
     },
     "metadata": {},
     "output_type": "display_data"
    },
    {
     "name": "stderr",
     "output_type": "stream",
     "text": [
      "INFO:root:DEV LOSS: 0.18407876789569855\n",
      "INFO:root:Epoch\t77/100\n"
     ]
    },
    {
     "data": {
      "application/vnd.jupyter.widget-view+json": {
       "model_id": "7c6e8224e5b04a52adeb488056434bf3",
       "version_major": 2,
       "version_minor": 0
      },
      "text/plain": [
       "HBox(children=(IntProgress(value=0, max=323), HTML(value='')))"
      ]
     },
     "metadata": {},
     "output_type": "display_data"
    },
    {
     "name": "stderr",
     "output_type": "stream",
     "text": [
      "INFO:root:DEV LOSS: 0.1819051206111908\n",
      "INFO:root:Epoch\t78/100\n"
     ]
    },
    {
     "data": {
      "application/vnd.jupyter.widget-view+json": {
       "model_id": "231fb6347f354be791cb46a64e8b1bb9",
       "version_major": 2,
       "version_minor": 0
      },
      "text/plain": [
       "HBox(children=(IntProgress(value=0, max=323), HTML(value='')))"
      ]
     },
     "metadata": {},
     "output_type": "display_data"
    },
    {
     "name": "stderr",
     "output_type": "stream",
     "text": [
      "INFO:root:DEV LOSS: 0.17924341559410095\n",
      "INFO:root:Epoch\t79/100\n"
     ]
    },
    {
     "data": {
      "application/vnd.jupyter.widget-view+json": {
       "model_id": "dc2c2925fa934c6083acacc1ad931884",
       "version_major": 2,
       "version_minor": 0
      },
      "text/plain": [
       "HBox(children=(IntProgress(value=0, max=323), HTML(value='')))"
      ]
     },
     "metadata": {},
     "output_type": "display_data"
    },
    {
     "name": "stderr",
     "output_type": "stream",
     "text": [
      "INFO:root:DEV LOSS: 0.17721697688102722\n",
      "INFO:root:Epoch\t80/100\n"
     ]
    },
    {
     "data": {
      "application/vnd.jupyter.widget-view+json": {
       "model_id": "d9a5a61ab61f4271811c6775ac8b9a7a",
       "version_major": 2,
       "version_minor": 0
      },
      "text/plain": [
       "HBox(children=(IntProgress(value=0, max=323), HTML(value='')))"
      ]
     },
     "metadata": {},
     "output_type": "display_data"
    },
    {
     "name": "stderr",
     "output_type": "stream",
     "text": [
      "INFO:root:DEV LOSS: 0.17480966448783875\n",
      "INFO:root:Epoch\t81/100\n"
     ]
    },
    {
     "data": {
      "application/vnd.jupyter.widget-view+json": {
       "model_id": "301f8cd8518a447c8370f21b7b7e7366",
       "version_major": 2,
       "version_minor": 0
      },
      "text/plain": [
       "HBox(children=(IntProgress(value=0, max=323), HTML(value='')))"
      ]
     },
     "metadata": {},
     "output_type": "display_data"
    },
    {
     "name": "stderr",
     "output_type": "stream",
     "text": [
      "INFO:root:DEV LOSS: 0.17260906100273132\n",
      "INFO:root:Epoch\t82/100\n"
     ]
    },
    {
     "data": {
      "application/vnd.jupyter.widget-view+json": {
       "model_id": "f771443c872b4f0aa5559ef321c1990c",
       "version_major": 2,
       "version_minor": 0
      },
      "text/plain": [
       "HBox(children=(IntProgress(value=0, max=323), HTML(value='')))"
      ]
     },
     "metadata": {},
     "output_type": "display_data"
    },
    {
     "name": "stderr",
     "output_type": "stream",
     "text": [
      "INFO:root:DEV LOSS: 0.170658677816391\n",
      "INFO:root:Epoch\t83/100\n"
     ]
    },
    {
     "data": {
      "application/vnd.jupyter.widget-view+json": {
       "model_id": "d23a95a5c10741c9ab06a1b63f21e259",
       "version_major": 2,
       "version_minor": 0
      },
      "text/plain": [
       "HBox(children=(IntProgress(value=0, max=323), HTML(value='')))"
      ]
     },
     "metadata": {},
     "output_type": "display_data"
    },
    {
     "name": "stderr",
     "output_type": "stream",
     "text": [
      "INFO:root:DEV LOSS: 0.16857120394706726\n",
      "INFO:root:Epoch\t84/100\n"
     ]
    },
    {
     "data": {
      "application/vnd.jupyter.widget-view+json": {
       "model_id": "b56951da8b3f4c44aea3c1d42ec28a37",
       "version_major": 2,
       "version_minor": 0
      },
      "text/plain": [
       "HBox(children=(IntProgress(value=0, max=323), HTML(value='')))"
      ]
     },
     "metadata": {},
     "output_type": "display_data"
    },
    {
     "name": "stderr",
     "output_type": "stream",
     "text": [
      "INFO:root:DEV LOSS: 0.1665177047252655\n",
      "INFO:root:Epoch\t85/100\n"
     ]
    },
    {
     "data": {
      "application/vnd.jupyter.widget-view+json": {
       "model_id": "6b5af460b3be40748587caf8c87368d6",
       "version_major": 2,
       "version_minor": 0
      },
      "text/plain": [
       "HBox(children=(IntProgress(value=0, max=323), HTML(value='')))"
      ]
     },
     "metadata": {},
     "output_type": "display_data"
    },
    {
     "name": "stderr",
     "output_type": "stream",
     "text": [
      "INFO:root:DEV LOSS: 0.16438300907611847\n",
      "INFO:root:Epoch\t86/100\n"
     ]
    },
    {
     "data": {
      "application/vnd.jupyter.widget-view+json": {
       "model_id": "03a548335a2e4fbe933af1597004db15",
       "version_major": 2,
       "version_minor": 0
      },
      "text/plain": [
       "HBox(children=(IntProgress(value=0, max=323), HTML(value='')))"
      ]
     },
     "metadata": {},
     "output_type": "display_data"
    },
    {
     "name": "stderr",
     "output_type": "stream",
     "text": [
      "INFO:root:DEV LOSS: 0.16261038184165955\n",
      "INFO:root:Epoch\t87/100\n"
     ]
    },
    {
     "data": {
      "application/vnd.jupyter.widget-view+json": {
       "model_id": "ca9273432e784c258554dbbec30f5aa8",
       "version_major": 2,
       "version_minor": 0
      },
      "text/plain": [
       "HBox(children=(IntProgress(value=0, max=323), HTML(value='')))"
      ]
     },
     "metadata": {},
     "output_type": "display_data"
    },
    {
     "name": "stderr",
     "output_type": "stream",
     "text": [
      "INFO:root:DEV LOSS: 0.16064748167991638\n",
      "INFO:root:Epoch\t88/100\n"
     ]
    },
    {
     "data": {
      "application/vnd.jupyter.widget-view+json": {
       "model_id": "23fec32aa7c34da8b6637538f3999acf",
       "version_major": 2,
       "version_minor": 0
      },
      "text/plain": [
       "HBox(children=(IntProgress(value=0, max=323), HTML(value='')))"
      ]
     },
     "metadata": {},
     "output_type": "display_data"
    },
    {
     "name": "stderr",
     "output_type": "stream",
     "text": [
      "INFO:root:DEV LOSS: 0.15875086188316345\n",
      "INFO:root:Epoch\t89/100\n"
     ]
    },
    {
     "data": {
      "application/vnd.jupyter.widget-view+json": {
       "model_id": "ca3f663e75d049a3937468976f8b2939",
       "version_major": 2,
       "version_minor": 0
      },
      "text/plain": [
       "HBox(children=(IntProgress(value=0, max=323), HTML(value='')))"
      ]
     },
     "metadata": {},
     "output_type": "display_data"
    },
    {
     "name": "stderr",
     "output_type": "stream",
     "text": [
      "INFO:root:DEV LOSS: 0.15708360075950623\n",
      "INFO:root:Epoch\t90/100\n"
     ]
    },
    {
     "data": {
      "application/vnd.jupyter.widget-view+json": {
       "model_id": "1c21ff4c754d4208aa3d0ec700de94cb",
       "version_major": 2,
       "version_minor": 0
      },
      "text/plain": [
       "HBox(children=(IntProgress(value=0, max=323), HTML(value='')))"
      ]
     },
     "metadata": {},
     "output_type": "display_data"
    },
    {
     "name": "stderr",
     "output_type": "stream",
     "text": [
      "INFO:root:DEV LOSS: 0.1552104502916336\n",
      "INFO:root:Epoch\t91/100\n"
     ]
    },
    {
     "data": {
      "application/vnd.jupyter.widget-view+json": {
       "model_id": "a41d3ffa7ddb45b9be5f0259f2d5718a",
       "version_major": 2,
       "version_minor": 0
      },
      "text/plain": [
       "HBox(children=(IntProgress(value=0, max=323), HTML(value='')))"
      ]
     },
     "metadata": {},
     "output_type": "display_data"
    },
    {
     "name": "stderr",
     "output_type": "stream",
     "text": [
      "INFO:root:DEV LOSS: 0.1537162810564041\n",
      "INFO:root:Epoch\t92/100\n"
     ]
    },
    {
     "data": {
      "application/vnd.jupyter.widget-view+json": {
       "model_id": "55ca3f68207d47908c084a2169a163ce",
       "version_major": 2,
       "version_minor": 0
      },
      "text/plain": [
       "HBox(children=(IntProgress(value=0, max=323), HTML(value='')))"
      ]
     },
     "metadata": {},
     "output_type": "display_data"
    },
    {
     "name": "stderr",
     "output_type": "stream",
     "text": [
      "INFO:root:DEV LOSS: 0.15188033878803253\n",
      "INFO:root:Epoch\t93/100\n"
     ]
    },
    {
     "data": {
      "application/vnd.jupyter.widget-view+json": {
       "model_id": "52cf084d6f644227ac44adfd28c46346",
       "version_major": 2,
       "version_minor": 0
      },
      "text/plain": [
       "HBox(children=(IntProgress(value=0, max=323), HTML(value='')))"
      ]
     },
     "metadata": {},
     "output_type": "display_data"
    },
    {
     "name": "stderr",
     "output_type": "stream",
     "text": [
      "INFO:root:DEV LOSS: 0.1502114087343216\n",
      "INFO:root:Epoch\t94/100\n"
     ]
    },
    {
     "data": {
      "application/vnd.jupyter.widget-view+json": {
       "model_id": "9f364696d0fa4098954f69454d720fc7",
       "version_major": 2,
       "version_minor": 0
      },
      "text/plain": [
       "HBox(children=(IntProgress(value=0, max=323), HTML(value='')))"
      ]
     },
     "metadata": {},
     "output_type": "display_data"
    },
    {
     "name": "stderr",
     "output_type": "stream",
     "text": [
      "INFO:root:DEV LOSS: 0.1487024575471878\n",
      "INFO:root:Epoch\t95/100\n"
     ]
    },
    {
     "data": {
      "application/vnd.jupyter.widget-view+json": {
       "model_id": "169fea7f5fbc4a82a42f418876a0448c",
       "version_major": 2,
       "version_minor": 0
      },
      "text/plain": [
       "HBox(children=(IntProgress(value=0, max=323), HTML(value='')))"
      ]
     },
     "metadata": {},
     "output_type": "display_data"
    },
    {
     "name": "stderr",
     "output_type": "stream",
     "text": [
      "INFO:root:DEV LOSS: 0.14717717468738556\n",
      "INFO:root:Epoch\t96/100\n"
     ]
    },
    {
     "data": {
      "application/vnd.jupyter.widget-view+json": {
       "model_id": "a9e92e94fa3d41adbc33ad1daefa4bc4",
       "version_major": 2,
       "version_minor": 0
      },
      "text/plain": [
       "HBox(children=(IntProgress(value=0, max=323), HTML(value='')))"
      ]
     },
     "metadata": {},
     "output_type": "display_data"
    },
    {
     "name": "stderr",
     "output_type": "stream",
     "text": [
      "INFO:root:DEV LOSS: 0.1452089101076126\n",
      "INFO:root:Epoch\t97/100\n"
     ]
    },
    {
     "data": {
      "application/vnd.jupyter.widget-view+json": {
       "model_id": "616982bf14c84d59bc3d5bd4a396326e",
       "version_major": 2,
       "version_minor": 0
      },
      "text/plain": [
       "HBox(children=(IntProgress(value=0, max=323), HTML(value='')))"
      ]
     },
     "metadata": {},
     "output_type": "display_data"
    },
    {
     "name": "stderr",
     "output_type": "stream",
     "text": [
      "INFO:root:DEV LOSS: 0.1440921574831009\n",
      "INFO:root:Epoch\t98/100\n"
     ]
    },
    {
     "data": {
      "application/vnd.jupyter.widget-view+json": {
       "model_id": "22fad43778df404d85f80224dc044154",
       "version_major": 2,
       "version_minor": 0
      },
      "text/plain": [
       "HBox(children=(IntProgress(value=0, max=323), HTML(value='')))"
      ]
     },
     "metadata": {},
     "output_type": "display_data"
    },
    {
     "name": "stderr",
     "output_type": "stream",
     "text": [
      "INFO:root:DEV LOSS: 0.1427289843559265\n",
      "INFO:root:Epoch\t99/100\n"
     ]
    },
    {
     "data": {
      "application/vnd.jupyter.widget-view+json": {
       "model_id": "c98796261ba945afb2add7dc8dc11a29",
       "version_major": 2,
       "version_minor": 0
      },
      "text/plain": [
       "HBox(children=(IntProgress(value=0, max=323), HTML(value='')))"
      ]
     },
     "metadata": {},
     "output_type": "display_data"
    },
    {
     "name": "stderr",
     "output_type": "stream",
     "text": [
      "INFO:root:DEV LOSS: 0.1409943699836731\n",
      "INFO:root:Epoch\t100/100\n"
     ]
    },
    {
     "data": {
      "application/vnd.jupyter.widget-view+json": {
       "model_id": "54af249baaaf470cb0f107f8a38a3705",
       "version_major": 2,
       "version_minor": 0
      },
      "text/plain": [
       "HBox(children=(IntProgress(value=0, max=323), HTML(value='')))"
      ]
     },
     "metadata": {},
     "output_type": "display_data"
    },
    {
     "name": "stderr",
     "output_type": "stream",
     "text": [
      "INFO:root:DEV LOSS: 0.1395675539970398\n"
     ]
    }
   ],
   "source": [
    "goal_name_predictor_early_stopping = EarlyStopping(patience = 6)\n",
    "\n",
    "train_indices_loader = torch.utils.data.DataLoader(np.arange(raw_X_train.shape[0]), batch_size = BATCH_SIZE, shuffle = True)\n",
    "\n",
    "for epoch in range(NUM_EPOCHS):\n",
    "    \n",
    "    logging.info(\"Epoch\\t{}/{}\".format(epoch + 1, NUM_EPOCHS))\n",
    "    \n",
    "    model_GoalName = model_GoalName.eval()\n",
    "    model_GoalNamePredictor = model_GoalNamePredictor.train()\n",
    "    \n",
    "    for train_indices in tqdm_notebook(train_indices_loader, total = len(train_indices_loader)):\n",
    "        \n",
    "        optimizer_GoalNamePredictorModel.zero_grad()\n",
    "            \n",
    "        dialogs_loss = 0\n",
    "    \n",
    "        for raw_X_train_dialog, train_predictor_Y_dialog in zip(raw_X_train[train_indices], train_predictor_Y[train_indices]):\n",
    "\n",
    "            model_GoalName.hidden = model_GoalName.init_hidden()\n",
    "\n",
    "            for raw_X_train_turn, train_predictor_Y_turn in zip(raw_X_train_dialog[\"turns\"], train_predictor_Y_dialog[\"turns\"]):\n",
    "\n",
    "                indices, scores = get_index_and_score(raw_X_train_turn, token_to_index, mode = \"eval\", device = DEVICE)\n",
    "                \n",
    "                with torch.no_grad():\n",
    "                    goal_names_tensor = model_GoalName(indices, scores, predictor_mode = True)\n",
    "                \n",
    "                goal_names_predictor = model_GoalNamePredictor(goal_names_tensor)\n",
    "\n",
    "                for goal_name_predictor, gold_goal_name_predictor in zip(goal_names_predictor, train_predictor_Y_turn[\"goal_name_predictor\"]):\n",
    "\n",
    "                    goal_name_predictor = goal_name_predictor.unsqueeze(0)\n",
    "                    \n",
    "                    gold_goal_name_predictor = torch.tensor([gold_goal_name_predictor], dtype = torch.long, device = DEVICE)\n",
    "                    \n",
    "                    loss_goal_name_predictor = PREDICTOR_LOSS_FUNCTION(goal_name_predictor, gold_goal_name_predictor)\n",
    "\n",
    "                    dialogs_loss += loss_goal_name_predictor\n",
    "                \n",
    "        dialogs_loss.backward(retain_graph = False)\n",
    "\n",
    "        optimizer_GoalNamePredictorModel.step()\n",
    "    \n",
    "    #train_loss = compute_predictor_loss(model_GoalName, model_GoalNamePredictor, raw_X_train, train_predictor_Y, objective = \"goal_name_predictor\", device = DEVICE)\n",
    "    dev_loss = compute_predictor_loss(model_GoalName, model_GoalNamePredictor, raw_X_dev, dev_predictor_Y, objective = \"goal_name_predictor\", device = DEVICE)\n",
    "    \n",
    "    #logging.info(\"TRAIN LOSS: {}\\tDEV LOSS: {}\".format(train_loss.item(), dev_loss.item()))\n",
    "    logging.info(\"DEV LOSS: {}\".format(dev_loss.item()))\n",
    "\n",
    "    goal_name_predictor_early_stopping.on_epoch_end(epoch = (epoch + 1), current_value = -dev_loss.item())\n",
    "    \n",
    "    if goal_name_predictor_early_stopping.wait == 0:\n",
    "        torch.save(model_GoalNamePredictor.state_dict(), \"model_PANFMR_incremental_GoalNamePredictor.pt\")\n",
    "    \n",
    "    if goal_name_predictor_early_stopping.stop_training:\n",
    "        break"
   ]
  },
  {
   "cell_type": "markdown",
   "metadata": {},
   "source": [
    "### Load Goal Name Predictor Model"
   ]
  },
  {
   "cell_type": "code",
   "execution_count": 48,
   "metadata": {},
   "outputs": [
    {
     "data": {
      "text/plain": [
       "GoalNamePredictorModel(\n",
       "  (goal_name_predictor_classifier): Linear(in_features=100, out_features=2, bias=True)\n",
       ")"
      ]
     },
     "execution_count": 48,
     "metadata": {},
     "output_type": "execute_result"
    }
   ],
   "source": [
    "model_GoalNamePredictor = GoalNamePredictorModel(input_dim = HIDDEN_DIM,\n",
    "                                                 goal_name_predictor_dim = PREDICTOR_DIM,\n",
    "                                                 device = DEVICE)\n",
    "\n",
    "model_GoalNamePredictor = model_GoalNamePredictor.to(DEVICE)\n",
    "model_GoalNamePredictor.load_state_dict(torch.load(\"model_PANFMR_incremental_GoalNamePredictor.pt\"))\n",
    "model_GoalNamePredictor.eval()"
   ]
  },
  {
   "cell_type": "markdown",
   "metadata": {},
   "source": [
    "### Train Goal Food Predictor Model"
   ]
  },
  {
   "cell_type": "code",
   "execution_count": 49,
   "metadata": {},
   "outputs": [
    {
     "name": "stderr",
     "output_type": "stream",
     "text": [
      "INFO:root:Epoch\t1/100\n"
     ]
    },
    {
     "data": {
      "application/vnd.jupyter.widget-view+json": {
       "model_id": "b49c0b21431a43b3ac6f775407178e07",
       "version_major": 2,
       "version_minor": 0
      },
      "text/plain": [
       "HBox(children=(IntProgress(value=0, max=323), HTML(value='')))"
      ]
     },
     "metadata": {},
     "output_type": "display_data"
    },
    {
     "name": "stderr",
     "output_type": "stream",
     "text": [
      "INFO:root:DEV LOSS: 8761.0322265625\n",
      "INFO:root:Epoch\t2/100\n"
     ]
    },
    {
     "data": {
      "application/vnd.jupyter.widget-view+json": {
       "model_id": "2b83269ac0304fba83a09bf20bb9d4ca",
       "version_major": 2,
       "version_minor": 0
      },
      "text/plain": [
       "HBox(children=(IntProgress(value=0, max=323), HTML(value='')))"
      ]
     },
     "metadata": {},
     "output_type": "display_data"
    },
    {
     "name": "stderr",
     "output_type": "stream",
     "text": [
      "INFO:root:DEV LOSS: 8715.88671875\n",
      "INFO:root:Epoch\t3/100\n"
     ]
    },
    {
     "data": {
      "application/vnd.jupyter.widget-view+json": {
       "model_id": "3114eb6f7277487ab4cd409735c80525",
       "version_major": 2,
       "version_minor": 0
      },
      "text/plain": [
       "HBox(children=(IntProgress(value=0, max=323), HTML(value='')))"
      ]
     },
     "metadata": {},
     "output_type": "display_data"
    },
    {
     "name": "stderr",
     "output_type": "stream",
     "text": [
      "INFO:root:DEV LOSS: 8645.6484375\n",
      "INFO:root:Epoch\t4/100\n"
     ]
    },
    {
     "data": {
      "application/vnd.jupyter.widget-view+json": {
       "model_id": "5f7f9fa6b559460382f591c611b9f543",
       "version_major": 2,
       "version_minor": 0
      },
      "text/plain": [
       "HBox(children=(IntProgress(value=0, max=323), HTML(value='')))"
      ]
     },
     "metadata": {},
     "output_type": "display_data"
    },
    {
     "name": "stderr",
     "output_type": "stream",
     "text": [
      "INFO:root:DEV LOSS: 8665.2861328125\n",
      "INFO:root:Epoch\t5/100\n"
     ]
    },
    {
     "data": {
      "application/vnd.jupyter.widget-view+json": {
       "model_id": "8736440f95e24894b07b12341c9fa1a3",
       "version_major": 2,
       "version_minor": 0
      },
      "text/plain": [
       "HBox(children=(IntProgress(value=0, max=323), HTML(value='')))"
      ]
     },
     "metadata": {},
     "output_type": "display_data"
    },
    {
     "name": "stderr",
     "output_type": "stream",
     "text": [
      "INFO:root:DEV LOSS: 8623.33203125\n",
      "INFO:root:Epoch\t6/100\n"
     ]
    },
    {
     "data": {
      "application/vnd.jupyter.widget-view+json": {
       "model_id": "21130763c1044b1492a51beb8b642d88",
       "version_major": 2,
       "version_minor": 0
      },
      "text/plain": [
       "HBox(children=(IntProgress(value=0, max=323), HTML(value='')))"
      ]
     },
     "metadata": {},
     "output_type": "display_data"
    },
    {
     "name": "stderr",
     "output_type": "stream",
     "text": [
      "INFO:root:DEV LOSS: 8686.3115234375\n",
      "INFO:root:Epoch\t7/100\n"
     ]
    },
    {
     "data": {
      "application/vnd.jupyter.widget-view+json": {
       "model_id": "380c31c439064ac59886732020d93614",
       "version_major": 2,
       "version_minor": 0
      },
      "text/plain": [
       "HBox(children=(IntProgress(value=0, max=323), HTML(value='')))"
      ]
     },
     "metadata": {},
     "output_type": "display_data"
    },
    {
     "name": "stderr",
     "output_type": "stream",
     "text": [
      "INFO:root:DEV LOSS: 8640.4033203125\n",
      "INFO:root:Epoch\t8/100\n"
     ]
    },
    {
     "data": {
      "application/vnd.jupyter.widget-view+json": {
       "model_id": "653c8bb0019b45c5b4dd3d3020cd021e",
       "version_major": 2,
       "version_minor": 0
      },
      "text/plain": [
       "HBox(children=(IntProgress(value=0, max=323), HTML(value='')))"
      ]
     },
     "metadata": {},
     "output_type": "display_data"
    },
    {
     "name": "stderr",
     "output_type": "stream",
     "text": [
      "INFO:root:DEV LOSS: 8673.3232421875\n",
      "INFO:root:Epoch\t9/100\n"
     ]
    },
    {
     "data": {
      "application/vnd.jupyter.widget-view+json": {
       "model_id": "6dd5e43a6c274d75b129e8d9dde54c4a",
       "version_major": 2,
       "version_minor": 0
      },
      "text/plain": [
       "HBox(children=(IntProgress(value=0, max=323), HTML(value='')))"
      ]
     },
     "metadata": {},
     "output_type": "display_data"
    },
    {
     "name": "stderr",
     "output_type": "stream",
     "text": [
      "INFO:root:DEV LOSS: 8661.9091796875\n",
      "INFO:root:Epoch\t10/100\n"
     ]
    },
    {
     "data": {
      "application/vnd.jupyter.widget-view+json": {
       "model_id": "c4ef151bd2f04c30ae2465f30ae09587",
       "version_major": 2,
       "version_minor": 0
      },
      "text/plain": [
       "HBox(children=(IntProgress(value=0, max=323), HTML(value='')))"
      ]
     },
     "metadata": {},
     "output_type": "display_data"
    },
    {
     "name": "stderr",
     "output_type": "stream",
     "text": [
      "INFO:root:DEV LOSS: 8641.6865234375\n",
      "INFO:root:Epoch\t11/100\n"
     ]
    },
    {
     "data": {
      "application/vnd.jupyter.widget-view+json": {
       "model_id": "5892e3fcc95d4f7e8aba1a8f9e6f15fe",
       "version_major": 2,
       "version_minor": 0
      },
      "text/plain": [
       "HBox(children=(IntProgress(value=0, max=323), HTML(value='')))"
      ]
     },
     "metadata": {},
     "output_type": "display_data"
    },
    {
     "name": "stderr",
     "output_type": "stream",
     "text": [
      "INFO:root:DEV LOSS: 8641.359375\n",
      "INFO:root:Epoch\t12/100\n"
     ]
    },
    {
     "data": {
      "application/vnd.jupyter.widget-view+json": {
       "model_id": "a40cb9d8643e467f9693caffc7d86d96",
       "version_major": 2,
       "version_minor": 0
      },
      "text/plain": [
       "HBox(children=(IntProgress(value=0, max=323), HTML(value='')))"
      ]
     },
     "metadata": {},
     "output_type": "display_data"
    },
    {
     "name": "stderr",
     "output_type": "stream",
     "text": [
      "INFO:root:DEV LOSS: 8712.607421875\n"
     ]
    }
   ],
   "source": [
    "goal_food_predictor_early_stopping = EarlyStopping(patience = 6)\n",
    "\n",
    "train_indices_loader = torch.utils.data.DataLoader(np.arange(raw_X_train.shape[0]), batch_size = BATCH_SIZE, shuffle = True)\n",
    "\n",
    "for epoch in range(NUM_EPOCHS):\n",
    "    \n",
    "    logging.info(\"Epoch\\t{}/{}\".format(epoch + 1, NUM_EPOCHS))\n",
    "    \n",
    "    model_GoalFood = model_GoalFood.eval()\n",
    "    model_GoalFoodPredictor = model_GoalFoodPredictor.train()\n",
    "    \n",
    "    for train_indices in tqdm_notebook(train_indices_loader, total = len(train_indices_loader)):\n",
    "        \n",
    "        optimizer_GoalFoodPredictorModel.zero_grad()\n",
    "            \n",
    "        dialogs_loss = 0\n",
    "    \n",
    "        for raw_X_train_dialog, train_predictor_Y_dialog in zip(raw_X_train[train_indices], train_predictor_Y[train_indices]):\n",
    "\n",
    "            model_GoalFood.hidden = model_GoalFood.init_hidden()\n",
    "\n",
    "            for raw_X_train_turn, train_predictor_Y_turn in zip(raw_X_train_dialog[\"turns\"], train_predictor_Y_dialog[\"turns\"]):\n",
    "\n",
    "                indices, scores = get_index_and_score(raw_X_train_turn, token_to_index, mode = \"eval\", device = DEVICE)\n",
    "                \n",
    "                with torch.no_grad():\n",
    "                    goal_foods_tensor = model_GoalFood(indices, scores, predictor_mode = True)\n",
    "                \n",
    "                goal_foods_predictor = model_GoalFoodPredictor(goal_foods_tensor)\n",
    "\n",
    "                for goal_food_predictor, gold_goal_food_predictor in zip(goal_foods_predictor, train_predictor_Y_turn[\"goal_food_predictor\"]):\n",
    "\n",
    "                    goal_food_predictor = goal_food_predictor.unsqueeze(0)\n",
    "                    \n",
    "                    gold_goal_food_predictor = torch.tensor([gold_goal_food_predictor], dtype = torch.long, device = DEVICE)\n",
    "                    \n",
    "                    loss_goal_food_predictor = PREDICTOR_LOSS_FUNCTION(goal_food_predictor, gold_goal_food_predictor)\n",
    "\n",
    "                    dialogs_loss += loss_goal_food_predictor\n",
    "                \n",
    "        dialogs_loss.backward(retain_graph = False)\n",
    "\n",
    "        optimizer_GoalFoodPredictorModel.step()\n",
    "    \n",
    "    #train_loss = compute_predictor_loss(model_GoalFood, model_GoalFoodPredictor, raw_X_train, train_predictor_Y, objective = \"goal_food_predictor\", device = DEVICE)\n",
    "    dev_loss = compute_predictor_loss(model_GoalFood, model_GoalFoodPredictor, raw_X_dev, dev_predictor_Y, objective = \"goal_food_predictor\", device = DEVICE)\n",
    "    \n",
    "    #logging.info(\"TRAIN LOSS: {}\\tDEV LOSS: {}\".format(train_loss.item(), dev_loss.item()))\n",
    "    logging.info(\"DEV LOSS: {}\".format(dev_loss.item()))\n",
    "\n",
    "    goal_food_predictor_early_stopping.on_epoch_end(epoch = (epoch + 1), current_value = -dev_loss.item())\n",
    "    \n",
    "    if goal_food_predictor_early_stopping.wait == 0:\n",
    "        torch.save(model_GoalFoodPredictor.state_dict(), \"model_PANFMR_incremental_GoalFoodPredictor.pt\")\n",
    "    \n",
    "    if goal_food_predictor_early_stopping.stop_training:\n",
    "        break"
   ]
  },
  {
   "cell_type": "markdown",
   "metadata": {},
   "source": [
    "### Load Goal Food Predictor"
   ]
  },
  {
   "cell_type": "code",
   "execution_count": 50,
   "metadata": {},
   "outputs": [
    {
     "data": {
      "text/plain": [
       "GoalFoodPredictorModel(\n",
       "  (goal_food_predictor_classifier): Linear(in_features=100, out_features=2, bias=True)\n",
       ")"
      ]
     },
     "execution_count": 50,
     "metadata": {},
     "output_type": "execute_result"
    }
   ],
   "source": [
    "model_GoalFoodPredictor = GoalFoodPredictorModel(input_dim = HIDDEN_DIM,\n",
    "                                                 goal_food_predictor_dim = PREDICTOR_DIM,\n",
    "                                                 device = DEVICE)\n",
    "\n",
    "model_GoalFoodPredictor = model_GoalFoodPredictor.to(DEVICE)\n",
    "model_GoalFoodPredictor.load_state_dict(torch.load(\"model_PANFMR_incremental_GoalFoodPredictor.pt\"))\n",
    "model_GoalFoodPredictor.eval()"
   ]
  },
  {
   "cell_type": "markdown",
   "metadata": {},
   "source": [
    "### Train Requested Predictor Model"
   ]
  },
  {
   "cell_type": "code",
   "execution_count": 51,
   "metadata": {},
   "outputs": [
    {
     "name": "stderr",
     "output_type": "stream",
     "text": [
      "INFO:root:Epoch\t1/100\n"
     ]
    },
    {
     "data": {
      "application/vnd.jupyter.widget-view+json": {
       "model_id": "b4a980b219fb430e8fab55cba5209f78",
       "version_major": 2,
       "version_minor": 0
      },
      "text/plain": [
       "HBox(children=(IntProgress(value=0, max=323), HTML(value='')))"
      ]
     },
     "metadata": {},
     "output_type": "display_data"
    },
    {
     "name": "stderr",
     "output_type": "stream",
     "text": [
      "INFO:root:DEV LOSS: 15651.8046875\n",
      "INFO:root:Epoch\t2/100\n"
     ]
    },
    {
     "data": {
      "application/vnd.jupyter.widget-view+json": {
       "model_id": "6ac7fbb55dca4d24a38fa54eb5f8fd53",
       "version_major": 2,
       "version_minor": 0
      },
      "text/plain": [
       "HBox(children=(IntProgress(value=0, max=323), HTML(value='')))"
      ]
     },
     "metadata": {},
     "output_type": "display_data"
    },
    {
     "name": "stderr",
     "output_type": "stream",
     "text": [
      "INFO:root:DEV LOSS: 15387.75\n",
      "INFO:root:Epoch\t3/100\n"
     ]
    },
    {
     "data": {
      "application/vnd.jupyter.widget-view+json": {
       "model_id": "1567dee06d9144baa59fec614c2122ed",
       "version_major": 2,
       "version_minor": 0
      },
      "text/plain": [
       "HBox(children=(IntProgress(value=0, max=323), HTML(value='')))"
      ]
     },
     "metadata": {},
     "output_type": "display_data"
    },
    {
     "name": "stderr",
     "output_type": "stream",
     "text": [
      "INFO:root:DEV LOSS: 15293.6806640625\n",
      "INFO:root:Epoch\t4/100\n"
     ]
    },
    {
     "data": {
      "application/vnd.jupyter.widget-view+json": {
       "model_id": "8c480904931242eb8d6bd0b25d3e0ed5",
       "version_major": 2,
       "version_minor": 0
      },
      "text/plain": [
       "HBox(children=(IntProgress(value=0, max=323), HTML(value='')))"
      ]
     },
     "metadata": {},
     "output_type": "display_data"
    },
    {
     "name": "stderr",
     "output_type": "stream",
     "text": [
      "INFO:root:DEV LOSS: 15262.5791015625\n",
      "INFO:root:Epoch\t5/100\n"
     ]
    },
    {
     "data": {
      "application/vnd.jupyter.widget-view+json": {
       "model_id": "69200824aded44c2a08dd59925d2aae3",
       "version_major": 2,
       "version_minor": 0
      },
      "text/plain": [
       "HBox(children=(IntProgress(value=0, max=323), HTML(value='')))"
      ]
     },
     "metadata": {},
     "output_type": "display_data"
    },
    {
     "name": "stderr",
     "output_type": "stream",
     "text": [
      "INFO:root:DEV LOSS: 15239.158203125\n",
      "INFO:root:Epoch\t6/100\n"
     ]
    },
    {
     "data": {
      "application/vnd.jupyter.widget-view+json": {
       "model_id": "19656ee75a1e452da765c5b79272bc1e",
       "version_major": 2,
       "version_minor": 0
      },
      "text/plain": [
       "HBox(children=(IntProgress(value=0, max=323), HTML(value='')))"
      ]
     },
     "metadata": {},
     "output_type": "display_data"
    },
    {
     "name": "stderr",
     "output_type": "stream",
     "text": [
      "INFO:root:DEV LOSS: 15289.2373046875\n",
      "INFO:root:Epoch\t7/100\n"
     ]
    },
    {
     "data": {
      "application/vnd.jupyter.widget-view+json": {
       "model_id": "89e23a3b593c47a08e443f755cab8e87",
       "version_major": 2,
       "version_minor": 0
      },
      "text/plain": [
       "HBox(children=(IntProgress(value=0, max=323), HTML(value='')))"
      ]
     },
     "metadata": {},
     "output_type": "display_data"
    },
    {
     "name": "stderr",
     "output_type": "stream",
     "text": [
      "INFO:root:DEV LOSS: 15332.2197265625\n",
      "INFO:root:Epoch\t8/100\n"
     ]
    },
    {
     "data": {
      "application/vnd.jupyter.widget-view+json": {
       "model_id": "f7777f1e24004a3fa0024359a5934e84",
       "version_major": 2,
       "version_minor": 0
      },
      "text/plain": [
       "HBox(children=(IntProgress(value=0, max=323), HTML(value='')))"
      ]
     },
     "metadata": {},
     "output_type": "display_data"
    },
    {
     "name": "stderr",
     "output_type": "stream",
     "text": [
      "INFO:root:DEV LOSS: 15509.3818359375\n",
      "INFO:root:Epoch\t9/100\n"
     ]
    },
    {
     "data": {
      "application/vnd.jupyter.widget-view+json": {
       "model_id": "bd09db818e294c21a303161f191c94d0",
       "version_major": 2,
       "version_minor": 0
      },
      "text/plain": [
       "HBox(children=(IntProgress(value=0, max=323), HTML(value='')))"
      ]
     },
     "metadata": {},
     "output_type": "display_data"
    },
    {
     "name": "stderr",
     "output_type": "stream",
     "text": [
      "INFO:root:DEV LOSS: 15210.9638671875\n",
      "INFO:root:Epoch\t10/100\n"
     ]
    },
    {
     "data": {
      "application/vnd.jupyter.widget-view+json": {
       "model_id": "67c24434ce8d478a817011ab69292c7a",
       "version_major": 2,
       "version_minor": 0
      },
      "text/plain": [
       "HBox(children=(IntProgress(value=0, max=323), HTML(value='')))"
      ]
     },
     "metadata": {},
     "output_type": "display_data"
    },
    {
     "name": "stderr",
     "output_type": "stream",
     "text": [
      "INFO:root:DEV LOSS: 15544.390625\n",
      "INFO:root:Epoch\t11/100\n"
     ]
    },
    {
     "data": {
      "application/vnd.jupyter.widget-view+json": {
       "model_id": "3d56f88bef194dfeb0a83a94cbf3c286",
       "version_major": 2,
       "version_minor": 0
      },
      "text/plain": [
       "HBox(children=(IntProgress(value=0, max=323), HTML(value='')))"
      ]
     },
     "metadata": {},
     "output_type": "display_data"
    },
    {
     "name": "stderr",
     "output_type": "stream",
     "text": [
      "INFO:root:DEV LOSS: 15223.255859375\n",
      "INFO:root:Epoch\t12/100\n"
     ]
    },
    {
     "data": {
      "application/vnd.jupyter.widget-view+json": {
       "model_id": "6556ad13ce944a63aab3135718b2c2e0",
       "version_major": 2,
       "version_minor": 0
      },
      "text/plain": [
       "HBox(children=(IntProgress(value=0, max=323), HTML(value='')))"
      ]
     },
     "metadata": {},
     "output_type": "display_data"
    },
    {
     "name": "stderr",
     "output_type": "stream",
     "text": [
      "INFO:root:DEV LOSS: 15189.615234375\n",
      "INFO:root:Epoch\t13/100\n"
     ]
    },
    {
     "data": {
      "application/vnd.jupyter.widget-view+json": {
       "model_id": "448ee77ca4b843ccb47284f4f8836f20",
       "version_major": 2,
       "version_minor": 0
      },
      "text/plain": [
       "HBox(children=(IntProgress(value=0, max=323), HTML(value='')))"
      ]
     },
     "metadata": {},
     "output_type": "display_data"
    },
    {
     "name": "stderr",
     "output_type": "stream",
     "text": [
      "INFO:root:DEV LOSS: 15173.16015625\n",
      "INFO:root:Epoch\t14/100\n"
     ]
    },
    {
     "data": {
      "application/vnd.jupyter.widget-view+json": {
       "model_id": "d178cab6da8c4387ad1f19b12e454002",
       "version_major": 2,
       "version_minor": 0
      },
      "text/plain": [
       "HBox(children=(IntProgress(value=0, max=323), HTML(value='')))"
      ]
     },
     "metadata": {},
     "output_type": "display_data"
    },
    {
     "name": "stderr",
     "output_type": "stream",
     "text": [
      "INFO:root:DEV LOSS: 15185.0107421875\n",
      "INFO:root:Epoch\t15/100\n"
     ]
    },
    {
     "data": {
      "application/vnd.jupyter.widget-view+json": {
       "model_id": "4a5e3d7b367141c6b7d2297c92f8c71b",
       "version_major": 2,
       "version_minor": 0
      },
      "text/plain": [
       "HBox(children=(IntProgress(value=0, max=323), HTML(value='')))"
      ]
     },
     "metadata": {},
     "output_type": "display_data"
    },
    {
     "name": "stderr",
     "output_type": "stream",
     "text": [
      "INFO:root:DEV LOSS: 15216.9345703125\n",
      "INFO:root:Epoch\t16/100\n"
     ]
    },
    {
     "data": {
      "application/vnd.jupyter.widget-view+json": {
       "model_id": "3a7a345c11464fc0ab76f9e5d2ffc832",
       "version_major": 2,
       "version_minor": 0
      },
      "text/plain": [
       "HBox(children=(IntProgress(value=0, max=323), HTML(value='')))"
      ]
     },
     "metadata": {},
     "output_type": "display_data"
    },
    {
     "name": "stderr",
     "output_type": "stream",
     "text": [
      "INFO:root:DEV LOSS: 15188.31640625\n",
      "INFO:root:Epoch\t17/100\n"
     ]
    },
    {
     "data": {
      "application/vnd.jupyter.widget-view+json": {
       "model_id": "030f6145a3ec4f97b603f5fc72033cee",
       "version_major": 2,
       "version_minor": 0
      },
      "text/plain": [
       "HBox(children=(IntProgress(value=0, max=323), HTML(value='')))"
      ]
     },
     "metadata": {},
     "output_type": "display_data"
    },
    {
     "name": "stderr",
     "output_type": "stream",
     "text": [
      "INFO:root:DEV LOSS: 15214.4453125\n",
      "INFO:root:Epoch\t18/100\n"
     ]
    },
    {
     "data": {
      "application/vnd.jupyter.widget-view+json": {
       "model_id": "6e212e81913243629c353863ce97e02b",
       "version_major": 2,
       "version_minor": 0
      },
      "text/plain": [
       "HBox(children=(IntProgress(value=0, max=323), HTML(value='')))"
      ]
     },
     "metadata": {},
     "output_type": "display_data"
    },
    {
     "name": "stderr",
     "output_type": "stream",
     "text": [
      "INFO:root:DEV LOSS: 15171.4091796875\n",
      "INFO:root:Epoch\t19/100\n"
     ]
    },
    {
     "data": {
      "application/vnd.jupyter.widget-view+json": {
       "model_id": "355db66ffcb64850832f23ffcf9b6ee4",
       "version_major": 2,
       "version_minor": 0
      },
      "text/plain": [
       "HBox(children=(IntProgress(value=0, max=323), HTML(value='')))"
      ]
     },
     "metadata": {},
     "output_type": "display_data"
    },
    {
     "name": "stderr",
     "output_type": "stream",
     "text": [
      "INFO:root:DEV LOSS: 15317.6943359375\n",
      "INFO:root:Epoch\t20/100\n"
     ]
    },
    {
     "data": {
      "application/vnd.jupyter.widget-view+json": {
       "model_id": "79b8330a1ca64a63ae39436aa74d870f",
       "version_major": 2,
       "version_minor": 0
      },
      "text/plain": [
       "HBox(children=(IntProgress(value=0, max=323), HTML(value='')))"
      ]
     },
     "metadata": {},
     "output_type": "display_data"
    },
    {
     "name": "stderr",
     "output_type": "stream",
     "text": [
      "INFO:root:DEV LOSS: 15178.8349609375\n",
      "INFO:root:Epoch\t21/100\n"
     ]
    },
    {
     "data": {
      "application/vnd.jupyter.widget-view+json": {
       "model_id": "4c49923b22ff4772aa9ce79c24c6673d",
       "version_major": 2,
       "version_minor": 0
      },
      "text/plain": [
       "HBox(children=(IntProgress(value=0, max=323), HTML(value='')))"
      ]
     },
     "metadata": {},
     "output_type": "display_data"
    },
    {
     "name": "stderr",
     "output_type": "stream",
     "text": [
      "INFO:root:DEV LOSS: 15149.1611328125\n",
      "INFO:root:Epoch\t22/100\n"
     ]
    },
    {
     "data": {
      "application/vnd.jupyter.widget-view+json": {
       "model_id": "cd8a8562e731431ba59cd3d2b3d11a84",
       "version_major": 2,
       "version_minor": 0
      },
      "text/plain": [
       "HBox(children=(IntProgress(value=0, max=323), HTML(value='')))"
      ]
     },
     "metadata": {},
     "output_type": "display_data"
    },
    {
     "name": "stderr",
     "output_type": "stream",
     "text": [
      "INFO:root:DEV LOSS: 15262.5322265625\n",
      "INFO:root:Epoch\t23/100\n"
     ]
    },
    {
     "data": {
      "application/vnd.jupyter.widget-view+json": {
       "model_id": "ac788fc0014044b789490834cf2c5d73",
       "version_major": 2,
       "version_minor": 0
      },
      "text/plain": [
       "HBox(children=(IntProgress(value=0, max=323), HTML(value='')))"
      ]
     },
     "metadata": {},
     "output_type": "display_data"
    },
    {
     "name": "stderr",
     "output_type": "stream",
     "text": [
      "INFO:root:DEV LOSS: 15174.5458984375\n",
      "INFO:root:Epoch\t24/100\n"
     ]
    },
    {
     "data": {
      "application/vnd.jupyter.widget-view+json": {
       "model_id": "aa34a0cf5e5643b69149f928396a9705",
       "version_major": 2,
       "version_minor": 0
      },
      "text/plain": [
       "HBox(children=(IntProgress(value=0, max=323), HTML(value='')))"
      ]
     },
     "metadata": {},
     "output_type": "display_data"
    },
    {
     "name": "stderr",
     "output_type": "stream",
     "text": [
      "INFO:root:DEV LOSS: 15140.8125\n",
      "INFO:root:Epoch\t25/100\n"
     ]
    },
    {
     "data": {
      "application/vnd.jupyter.widget-view+json": {
       "model_id": "e96a210e8e0345ceabdc2309ecc3ab87",
       "version_major": 2,
       "version_minor": 0
      },
      "text/plain": [
       "HBox(children=(IntProgress(value=0, max=323), HTML(value='')))"
      ]
     },
     "metadata": {},
     "output_type": "display_data"
    },
    {
     "name": "stderr",
     "output_type": "stream",
     "text": [
      "INFO:root:DEV LOSS: 15238.4921875\n",
      "INFO:root:Epoch\t26/100\n"
     ]
    },
    {
     "data": {
      "application/vnd.jupyter.widget-view+json": {
       "model_id": "7eee11f9f70f4df8b7976d00529f57b0",
       "version_major": 2,
       "version_minor": 0
      },
      "text/plain": [
       "HBox(children=(IntProgress(value=0, max=323), HTML(value='')))"
      ]
     },
     "metadata": {},
     "output_type": "display_data"
    },
    {
     "name": "stderr",
     "output_type": "stream",
     "text": [
      "INFO:root:DEV LOSS: 15225.8681640625\n",
      "INFO:root:Epoch\t27/100\n"
     ]
    },
    {
     "data": {
      "application/vnd.jupyter.widget-view+json": {
       "model_id": "03899904e97c404aabff4d64bed74537",
       "version_major": 2,
       "version_minor": 0
      },
      "text/plain": [
       "HBox(children=(IntProgress(value=0, max=323), HTML(value='')))"
      ]
     },
     "metadata": {},
     "output_type": "display_data"
    },
    {
     "name": "stderr",
     "output_type": "stream",
     "text": [
      "INFO:root:DEV LOSS: 15234.171875\n",
      "INFO:root:Epoch\t28/100\n"
     ]
    },
    {
     "data": {
      "application/vnd.jupyter.widget-view+json": {
       "model_id": "046579b537424762837bafdce53ad5fe",
       "version_major": 2,
       "version_minor": 0
      },
      "text/plain": [
       "HBox(children=(IntProgress(value=0, max=323), HTML(value='')))"
      ]
     },
     "metadata": {},
     "output_type": "display_data"
    },
    {
     "name": "stderr",
     "output_type": "stream",
     "text": [
      "INFO:root:DEV LOSS: 15150.646484375\n",
      "INFO:root:Epoch\t29/100\n"
     ]
    },
    {
     "data": {
      "application/vnd.jupyter.widget-view+json": {
       "model_id": "a81b6fe46ea346019c1e2baf1add5bce",
       "version_major": 2,
       "version_minor": 0
      },
      "text/plain": [
       "HBox(children=(IntProgress(value=0, max=323), HTML(value='')))"
      ]
     },
     "metadata": {},
     "output_type": "display_data"
    },
    {
     "name": "stderr",
     "output_type": "stream",
     "text": [
      "INFO:root:DEV LOSS: 15402.7412109375\n",
      "INFO:root:Epoch\t30/100\n"
     ]
    },
    {
     "data": {
      "application/vnd.jupyter.widget-view+json": {
       "model_id": "16b1733e1e4e4381867c383566e0eced",
       "version_major": 2,
       "version_minor": 0
      },
      "text/plain": [
       "HBox(children=(IntProgress(value=0, max=323), HTML(value='')))"
      ]
     },
     "metadata": {},
     "output_type": "display_data"
    },
    {
     "name": "stderr",
     "output_type": "stream",
     "text": [
      "INFO:root:DEV LOSS: 15154.537109375\n",
      "INFO:root:Epoch\t31/100\n"
     ]
    },
    {
     "data": {
      "application/vnd.jupyter.widget-view+json": {
       "model_id": "bf4cfe94306349409c86eafaf2436c0b",
       "version_major": 2,
       "version_minor": 0
      },
      "text/plain": [
       "HBox(children=(IntProgress(value=0, max=323), HTML(value='')))"
      ]
     },
     "metadata": {},
     "output_type": "display_data"
    },
    {
     "name": "stderr",
     "output_type": "stream",
     "text": [
      "INFO:root:DEV LOSS: 15172.244140625\n"
     ]
    }
   ],
   "source": [
    "requested_predictor_early_stopping = EarlyStopping(patience = 6)\n",
    "\n",
    "train_indices_loader = torch.utils.data.DataLoader(np.arange(raw_X_train.shape[0]), batch_size = BATCH_SIZE, shuffle = True)\n",
    "\n",
    "for epoch in range(NUM_EPOCHS):\n",
    "    \n",
    "    logging.info(\"Epoch\\t{}/{}\".format(epoch + 1, NUM_EPOCHS))\n",
    "    \n",
    "    model_Requested = model_Requested.eval()\n",
    "    \n",
    "    model_RequestedPredictor = model_RequestedPredictor.train()\n",
    "    \n",
    "    for train_indices in tqdm_notebook(train_indices_loader, total = len(train_indices_loader)):\n",
    "        \n",
    "        optimizer_RequestedPredictorModel.zero_grad()\n",
    "            \n",
    "        dialogs_loss = 0\n",
    "    \n",
    "        for raw_X_train_dialog, train_predictor_Y_dialog in zip(raw_X_train[train_indices], train_predictor_Y[train_indices]):\n",
    "\n",
    "            model_Requested.hidden = model_Requested.init_hidden()\n",
    "\n",
    "            for raw_X_train_turn, train_predictor_Y_turn in zip(raw_X_train_dialog[\"turns\"], train_predictor_Y_dialog[\"turns\"]):\n",
    "\n",
    "                indices, scores = get_index_and_score(raw_X_train_turn, token_to_index, mode = \"eval\", device = DEVICE)\n",
    "                \n",
    "                with torch.no_grad():\n",
    "                    requesteds_tensor = model_Requested(indices, scores, predictor_mode = True)\n",
    "                \n",
    "                requesteds_predictor = model_RequestedPredictor(requesteds_tensor)\n",
    "\n",
    "                for requested_predictor, gold_requested_predictor in zip(requesteds_predictor, train_predictor_Y_turn[\"requested_predictor\"]):\n",
    "\n",
    "                    requested_predictor = requested_predictor.unsqueeze(0)\n",
    "                    \n",
    "                    gold_requested_predictor = torch.tensor([gold_requested_predictor], dtype = torch.long, device = DEVICE)\n",
    "                    \n",
    "                    loss_requested_predictor = PREDICTOR_LOSS_FUNCTION(requested_predictor, gold_requested_predictor)\n",
    "\n",
    "                    dialogs_loss += loss_requested_predictor\n",
    "                \n",
    "        dialogs_loss.backward(retain_graph = False)\n",
    "\n",
    "        optimizer_RequestedPredictorModel.step()\n",
    "    \n",
    "    #train_loss = compute_predictor_loss(model_Requested, model_RequestedPredictor, raw_X_train, train_predictor_Y, objective = \"requested_predictor\", device = DEVICE)\n",
    "    dev_loss = compute_predictor_loss(model_Requested, model_RequestedPredictor, raw_X_dev, dev_predictor_Y, objective = \"requested_predictor\", device = DEVICE)\n",
    "    \n",
    "    #logging.info(\"TRAIN LOSS: {}\\tDEV LOSS: {}\".format(train_loss.item(), dev_loss.item()))\n",
    "    logging.info(\"DEV LOSS: {}\".format(dev_loss.item()))\n",
    "\n",
    "    requested_predictor_early_stopping.on_epoch_end(epoch = (epoch + 1), current_value = -dev_loss.item())\n",
    "    \n",
    "    if requested_predictor_early_stopping.wait == 0:\n",
    "        torch.save(model_RequestedPredictor.state_dict(), \"model_PANFMR_incremental_RequestedPredictor.pt\")\n",
    "    \n",
    "    if requested_predictor_early_stopping.stop_training:\n",
    "        break"
   ]
  },
  {
   "cell_type": "markdown",
   "metadata": {},
   "source": [
    "### Load Requested Predictor Model"
   ]
  },
  {
   "cell_type": "code",
   "execution_count": 52,
   "metadata": {},
   "outputs": [
    {
     "data": {
      "text/plain": [
       "RequestedPredictorModel(\n",
       "  (requested_predictor_classifier): Linear(in_features=100, out_features=2, bias=True)\n",
       ")"
      ]
     },
     "execution_count": 52,
     "metadata": {},
     "output_type": "execute_result"
    }
   ],
   "source": [
    "model_RequestedPredictor = RequestedPredictorModel(input_dim = HIDDEN_DIM,\n",
    "                                                   requested_predictor_dim = PREDICTOR_DIM,\n",
    "                                                   device = DEVICE)\n",
    "\n",
    "model_RequestedPredictor = model_RequestedPredictor.to(DEVICE)\n",
    "model_RequestedPredictor.load_state_dict(torch.load(\"model_PANFMR_incremental_RequestedPredictor.pt\"))\n",
    "model_RequestedPredictor.eval()"
   ]
  },
  {
   "cell_type": "markdown",
   "metadata": {},
   "source": [
    "### Train Method Predictor Model"
   ]
  },
  {
   "cell_type": "code",
   "execution_count": 54,
   "metadata": {},
   "outputs": [
    {
     "name": "stderr",
     "output_type": "stream",
     "text": [
      "INFO:root:Epoch\t1/100\n"
     ]
    },
    {
     "data": {
      "application/vnd.jupyter.widget-view+json": {
       "model_id": "fcdc519953344953b1ac07697493644d",
       "version_major": 2,
       "version_minor": 0
      },
      "text/plain": [
       "HBox(children=(IntProgress(value=0, max=323), HTML(value='')))"
      ]
     },
     "metadata": {},
     "output_type": "display_data"
    },
    {
     "name": "stderr",
     "output_type": "stream",
     "text": [
      "INFO:root:DEV LOSS: 12841.2802734375\n",
      "INFO:root:Epoch\t2/100\n"
     ]
    },
    {
     "data": {
      "application/vnd.jupyter.widget-view+json": {
       "model_id": "cb409a37202148a7bc6da30de47b0254",
       "version_major": 2,
       "version_minor": 0
      },
      "text/plain": [
       "HBox(children=(IntProgress(value=0, max=323), HTML(value='')))"
      ]
     },
     "metadata": {},
     "output_type": "display_data"
    },
    {
     "name": "stderr",
     "output_type": "stream",
     "text": [
      "INFO:root:DEV LOSS: 12367.203125\n",
      "INFO:root:Epoch\t3/100\n"
     ]
    },
    {
     "data": {
      "application/vnd.jupyter.widget-view+json": {
       "model_id": "33209da38f3f45fbb1e9f7ca15666673",
       "version_major": 2,
       "version_minor": 0
      },
      "text/plain": [
       "HBox(children=(IntProgress(value=0, max=323), HTML(value='')))"
      ]
     },
     "metadata": {},
     "output_type": "display_data"
    },
    {
     "name": "stderr",
     "output_type": "stream",
     "text": [
      "INFO:root:DEV LOSS: 12082.197265625\n",
      "INFO:root:Epoch\t4/100\n"
     ]
    },
    {
     "data": {
      "application/vnd.jupyter.widget-view+json": {
       "model_id": "a62f7ad709694f47804fed67b9e340cd",
       "version_major": 2,
       "version_minor": 0
      },
      "text/plain": [
       "HBox(children=(IntProgress(value=0, max=323), HTML(value='')))"
      ]
     },
     "metadata": {},
     "output_type": "display_data"
    },
    {
     "name": "stderr",
     "output_type": "stream",
     "text": [
      "INFO:root:DEV LOSS: 12016.3173828125\n",
      "INFO:root:Epoch\t5/100\n"
     ]
    },
    {
     "data": {
      "application/vnd.jupyter.widget-view+json": {
       "model_id": "412a55e39cc84688949e6920cdce25f3",
       "version_major": 2,
       "version_minor": 0
      },
      "text/plain": [
       "HBox(children=(IntProgress(value=0, max=323), HTML(value='')))"
      ]
     },
     "metadata": {},
     "output_type": "display_data"
    },
    {
     "name": "stderr",
     "output_type": "stream",
     "text": [
      "INFO:root:DEV LOSS: 12025.2578125\n",
      "INFO:root:Epoch\t6/100\n"
     ]
    },
    {
     "data": {
      "application/vnd.jupyter.widget-view+json": {
       "model_id": "5638b587d5f04105afcf4ee287ce37dc",
       "version_major": 2,
       "version_minor": 0
      },
      "text/plain": [
       "HBox(children=(IntProgress(value=0, max=323), HTML(value='')))"
      ]
     },
     "metadata": {},
     "output_type": "display_data"
    },
    {
     "name": "stderr",
     "output_type": "stream",
     "text": [
      "INFO:root:DEV LOSS: 12099.66796875\n",
      "INFO:root:Epoch\t7/100\n"
     ]
    },
    {
     "data": {
      "application/vnd.jupyter.widget-view+json": {
       "model_id": "1d803cc1982646bc9b394c8b3d9d5f1b",
       "version_major": 2,
       "version_minor": 0
      },
      "text/plain": [
       "HBox(children=(IntProgress(value=0, max=323), HTML(value='')))"
      ]
     },
     "metadata": {},
     "output_type": "display_data"
    },
    {
     "name": "stderr",
     "output_type": "stream",
     "text": [
      "INFO:root:DEV LOSS: 12015.1416015625\n",
      "INFO:root:Epoch\t8/100\n"
     ]
    },
    {
     "data": {
      "application/vnd.jupyter.widget-view+json": {
       "model_id": "31b120da544e463fb7343e9324ed0d0f",
       "version_major": 2,
       "version_minor": 0
      },
      "text/plain": [
       "HBox(children=(IntProgress(value=0, max=323), HTML(value='')))"
      ]
     },
     "metadata": {},
     "output_type": "display_data"
    },
    {
     "name": "stderr",
     "output_type": "stream",
     "text": [
      "INFO:root:DEV LOSS: 12089.931640625\n",
      "INFO:root:Epoch\t9/100\n"
     ]
    },
    {
     "data": {
      "application/vnd.jupyter.widget-view+json": {
       "model_id": "abcfbfff2e2c424c8bb49f25c6871852",
       "version_major": 2,
       "version_minor": 0
      },
      "text/plain": [
       "HBox(children=(IntProgress(value=0, max=323), HTML(value='')))"
      ]
     },
     "metadata": {},
     "output_type": "display_data"
    },
    {
     "name": "stderr",
     "output_type": "stream",
     "text": [
      "INFO:root:DEV LOSS: 12071.6923828125\n",
      "INFO:root:Epoch\t10/100\n"
     ]
    },
    {
     "data": {
      "application/vnd.jupyter.widget-view+json": {
       "model_id": "a7689ab08a8349749c84e2b7b71eed2c",
       "version_major": 2,
       "version_minor": 0
      },
      "text/plain": [
       "HBox(children=(IntProgress(value=0, max=323), HTML(value='')))"
      ]
     },
     "metadata": {},
     "output_type": "display_data"
    },
    {
     "name": "stderr",
     "output_type": "stream",
     "text": [
      "INFO:root:DEV LOSS: 12033.8232421875\n",
      "INFO:root:Epoch\t11/100\n"
     ]
    },
    {
     "data": {
      "application/vnd.jupyter.widget-view+json": {
       "model_id": "4e4f98f827fa42d8b1c2f7ee46584d2d",
       "version_major": 2,
       "version_minor": 0
      },
      "text/plain": [
       "HBox(children=(IntProgress(value=0, max=323), HTML(value='')))"
      ]
     },
     "metadata": {},
     "output_type": "display_data"
    },
    {
     "name": "stderr",
     "output_type": "stream",
     "text": [
      "INFO:root:DEV LOSS: 11981.41015625\n",
      "INFO:root:Epoch\t12/100\n"
     ]
    },
    {
     "data": {
      "application/vnd.jupyter.widget-view+json": {
       "model_id": "c68a4e8a4d954664b79e6039415f69f2",
       "version_major": 2,
       "version_minor": 0
      },
      "text/plain": [
       "HBox(children=(IntProgress(value=0, max=323), HTML(value='')))"
      ]
     },
     "metadata": {},
     "output_type": "display_data"
    },
    {
     "name": "stderr",
     "output_type": "stream",
     "text": [
      "INFO:root:DEV LOSS: 12192.498046875\n",
      "INFO:root:Epoch\t13/100\n"
     ]
    },
    {
     "data": {
      "application/vnd.jupyter.widget-view+json": {
       "model_id": "c1845d27c2d44c3f9f8d0c9e0ec393e1",
       "version_major": 2,
       "version_minor": 0
      },
      "text/plain": [
       "HBox(children=(IntProgress(value=0, max=323), HTML(value='')))"
      ]
     },
     "metadata": {},
     "output_type": "display_data"
    },
    {
     "name": "stderr",
     "output_type": "stream",
     "text": [
      "INFO:root:DEV LOSS: 11982.9892578125\n",
      "INFO:root:Epoch\t14/100\n"
     ]
    },
    {
     "data": {
      "application/vnd.jupyter.widget-view+json": {
       "model_id": "49c9853eea9d4fafa44e24e5796c593b",
       "version_major": 2,
       "version_minor": 0
      },
      "text/plain": [
       "HBox(children=(IntProgress(value=0, max=323), HTML(value='')))"
      ]
     },
     "metadata": {},
     "output_type": "display_data"
    },
    {
     "name": "stderr",
     "output_type": "stream",
     "text": [
      "INFO:root:DEV LOSS: 12109.984375\n",
      "INFO:root:Epoch\t15/100\n"
     ]
    },
    {
     "data": {
      "application/vnd.jupyter.widget-view+json": {
       "model_id": "50dcd7c4665a4ec3baa0a3ab1864eb00",
       "version_major": 2,
       "version_minor": 0
      },
      "text/plain": [
       "HBox(children=(IntProgress(value=0, max=323), HTML(value='')))"
      ]
     },
     "metadata": {},
     "output_type": "display_data"
    },
    {
     "name": "stderr",
     "output_type": "stream",
     "text": [
      "INFO:root:DEV LOSS: 12112.265625\n",
      "INFO:root:Epoch\t16/100\n"
     ]
    },
    {
     "data": {
      "application/vnd.jupyter.widget-view+json": {
       "model_id": "22e38c4bbb5348889a8219c48fd0a48c",
       "version_major": 2,
       "version_minor": 0
      },
      "text/plain": [
       "HBox(children=(IntProgress(value=0, max=323), HTML(value='')))"
      ]
     },
     "metadata": {},
     "output_type": "display_data"
    },
    {
     "name": "stderr",
     "output_type": "stream",
     "text": [
      "INFO:root:DEV LOSS: 12137.7744140625\n",
      "INFO:root:Epoch\t17/100\n"
     ]
    },
    {
     "data": {
      "application/vnd.jupyter.widget-view+json": {
       "model_id": "92ab481bcbfc4e07bdde2d277d4985ec",
       "version_major": 2,
       "version_minor": 0
      },
      "text/plain": [
       "HBox(children=(IntProgress(value=0, max=323), HTML(value='')))"
      ]
     },
     "metadata": {},
     "output_type": "display_data"
    },
    {
     "name": "stderr",
     "output_type": "stream",
     "text": [
      "INFO:root:DEV LOSS: 12190.3818359375\n",
      "INFO:root:Epoch\t18/100\n"
     ]
    },
    {
     "data": {
      "application/vnd.jupyter.widget-view+json": {
       "model_id": "29667c4ea8504e6aad6683275820c3c7",
       "version_major": 2,
       "version_minor": 0
      },
      "text/plain": [
       "HBox(children=(IntProgress(value=0, max=323), HTML(value='')))"
      ]
     },
     "metadata": {},
     "output_type": "display_data"
    },
    {
     "name": "stderr",
     "output_type": "stream",
     "text": [
      "INFO:root:DEV LOSS: 12071.19140625\n"
     ]
    }
   ],
   "source": [
    "method_predictor_early_stopping = EarlyStopping(patience = 6)\n",
    "\n",
    "train_indices_loader = torch.utils.data.DataLoader(np.arange(raw_X_train.shape[0]), batch_size = BATCH_SIZE, shuffle = True)\n",
    "\n",
    "for epoch in range(NUM_EPOCHS):\n",
    "    \n",
    "    logging.info(\"Epoch\\t{}/{}\".format(epoch + 1, NUM_EPOCHS))\n",
    "    \n",
    "    model_Method = model_Method.eval()\n",
    "    \n",
    "    model_MethodPredictor = model_MethodPredictor.train()\n",
    "    \n",
    "    for train_indices in tqdm_notebook(train_indices_loader, total = len(train_indices_loader)):\n",
    "        \n",
    "        optimizer_MethodPredictorModel.zero_grad()\n",
    "            \n",
    "        dialogs_loss = 0\n",
    "    \n",
    "        for raw_X_train_dialog, train_predictor_Y_dialog in zip(raw_X_train[train_indices], train_predictor_Y[train_indices]):\n",
    "\n",
    "            model_Method.hidden = model_Method.init_hidden()\n",
    "\n",
    "            for raw_X_train_turn, train_predictor_Y_turn in zip(raw_X_train_dialog[\"turns\"], train_predictor_Y_dialog[\"turns\"]):\n",
    "\n",
    "                indices, scores = get_index_and_score(raw_X_train_turn, token_to_index, mode = \"eval\", device = DEVICE)\n",
    "                \n",
    "                with torch.no_grad():\n",
    "                    methods_tensor = model_Method(indices, scores, predictor_mode = True)\n",
    "                \n",
    "                methods_predictor = model_MethodPredictor(methods_tensor)\n",
    "\n",
    "                for method_predictor, gold_method_predictor in zip(methods_predictor, train_predictor_Y_turn[\"method_predictor\"]):\n",
    "\n",
    "                    method_predictor = method_predictor.unsqueeze(0)\n",
    "                    \n",
    "                    gold_method_predictor = torch.tensor([gold_method_predictor], dtype = torch.long, device = DEVICE)\n",
    "                    \n",
    "                    loss_method_predictor = PREDICTOR_LOSS_FUNCTION(method_predictor, gold_method_predictor)\n",
    "\n",
    "                    dialogs_loss += loss_method_predictor\n",
    "                \n",
    "        dialogs_loss.backward(retain_graph = False)\n",
    "\n",
    "        optimizer_MethodPredictorModel.step()\n",
    "    \n",
    "    #train_loss = compute_predictor_loss(model_Method, model_MethodPredictor, raw_X_train, train_predictor_Y, objective = \"method_predictor\", device = DEVICE)\n",
    "    dev_loss = compute_predictor_loss(model_Method, model_MethodPredictor, raw_X_dev, dev_predictor_Y, objective = \"method_predictor\", device = DEVICE)\n",
    "    \n",
    "    #logging.info(\"TRAIN LOSS: {}\\tDEV LOSS: {}\".format(train_loss.item(), dev_loss.item()))\n",
    "    logging.info(\"DEV LOSS: {}\".format(dev_loss.item()))\n",
    "\n",
    "    method_predictor_early_stopping.on_epoch_end(epoch = (epoch + 1), current_value = -dev_loss.item())\n",
    "    \n",
    "    if method_predictor_early_stopping.wait == 0:\n",
    "        torch.save(model_MethodPredictor.state_dict(), \"model_PANFMR_incremental_MethodPredictor.pt\")\n",
    "    \n",
    "    if method_predictor_early_stopping.stop_training:\n",
    "        break"
   ]
  },
  {
   "cell_type": "markdown",
   "metadata": {},
   "source": [
    "### Load Method Predictor"
   ]
  },
  {
   "cell_type": "code",
   "execution_count": 55,
   "metadata": {},
   "outputs": [
    {
     "data": {
      "text/plain": [
       "MethodPredictorModel(\n",
       "  (method_predictor_classifier): Linear(in_features=100, out_features=2, bias=True)\n",
       ")"
      ]
     },
     "execution_count": 55,
     "metadata": {},
     "output_type": "execute_result"
    }
   ],
   "source": [
    "model_MethodPredictor = MethodPredictorModel(input_dim = HIDDEN_DIM,\n",
    "                                             method_predictor_dim = PREDICTOR_DIM,\n",
    "                                             device = DEVICE)\n",
    "\n",
    "model_MethodPredictor = model_MethodPredictor.to(DEVICE)\n",
    "model_MethodPredictor.load_state_dict(torch.load(\"model_PANFMR_incremental_MethodPredictor.pt\"))\n",
    "model_MethodPredictor.eval()"
   ]
  },
  {
   "cell_type": "markdown",
   "metadata": {},
   "source": [
    "### Print scores"
   ]
  },
  {
   "cell_type": "code",
   "execution_count": 60,
   "metadata": {},
   "outputs": [],
   "source": [
    "def make_predictor_tracker(model_GoalPricerange, model_GoalArea, model_GoalName, model_GoalFood, model_Requested, model_Method,\n",
    "                           model_GoalPricerangePredictor, model_GoalAreaPredictor, model_GoalNamePredictor, model_GoalFoodPredictor, model_RequestedPredictor, model_MethodPredictor,\n",
    "                           raw_X, raw_Y, dataset):\n",
    "    \n",
    "    model_GoalPricerange = model_GoalPricerange.eval()\n",
    "    model_GoalArea = model_GoalArea.eval()\n",
    "    model_GoalName = model_GoalName.eval()\n",
    "    model_GoalFood = model_GoalFood.eval()\n",
    "    model_Requested = model_Requested.eval()\n",
    "    model_Method = model_Method.eval()\n",
    "    \n",
    "    model_GoalPricerangePredictor = model_GoalPricerangePredictor.eval()\n",
    "    model_GoalAreaPredictor = model_GoalAreaPredictor.eval()\n",
    "    model_GoalNamePredictor = model_GoalNamePredictor.eval()\n",
    "    model_GoalFoodPredictor = model_GoalFoodPredictor.eval()\n",
    "    model_RequestedPredictor = model_RequestedPredictor.eval()\n",
    "    model_MethodPredictor = model_MethodPredictor.eval()\n",
    "    \n",
    "    with torch.no_grad():\n",
    "        \n",
    "        tracker_json = {}\n",
    "        tracker_json[\"dataset\"] = dataset\n",
    "        tracker_json[\"sessions\"] = []\n",
    "\n",
    "        start_time = time.time()\n",
    "        for raw_X_dialog, raw_Y_dialog in tqdm_notebook(zip(raw_X, raw_Y), total = len(raw_X)):\n",
    "            \n",
    "            model_GoalPricerange.hidden = model_GoalPricerange.init_hidden()\n",
    "            model_GoalArea.hidden = model_GoalArea.init_hidden()\n",
    "            model_GoalName.hidden = model_GoalName.init_hidden()\n",
    "            model_GoalFood.hidden = model_GoalFood.init_hidden()\n",
    "            model_Requested.hidden = model_Requested.init_hidden()\n",
    "            model_Method.hidden = model_Method.init_hidden()\n",
    "            \n",
    "            session = {}\n",
    "            session[\"session-id\"] = raw_X_dialog[\"session-id\"]\n",
    "            session[\"turns\"] = []\n",
    "\n",
    "            for raw_X_turn, raw_Y_turn in zip(raw_X_dialog[\"turns\"], raw_Y_dialog[\"turns\"]):\n",
    "                \n",
    "                turn = {}\n",
    "                turn[\"goal-labels\"] = {}\n",
    "\n",
    "                indices, scores = get_index_and_score(raw_X_turn, token_to_index, mode = \"eval\", device = DEVICE)\n",
    "                \n",
    "                goal_priceranges = model_GoalPricerange(indices, scores)\n",
    "                goal_areas = model_GoalArea(indices, scores)\n",
    "                goal_names = model_GoalName(indices, scores)\n",
    "                goal_foods = model_GoalFood(indices, scores)\n",
    "                requesteds = model_Requested(indices, scores)\n",
    "                methods = model_Method(indices, scores)\n",
    "                \n",
    "                goal_priceranges_tensor = model_GoalPricerange(indices, scores, predictor_mode = True)\n",
    "                goal_areas_tensor = model_GoalArea(indices, scores, predictor_mode = True)\n",
    "                goal_names_tensor = model_GoalName(indices, scores, predictor_mode = True)\n",
    "                goal_foods_tensor = model_GoalFood(indices, scores, predictor_mode = True)\n",
    "                requesteds_tensor = model_Requested(indices, scores, predictor_mode = True)\n",
    "                methods_tensor = model_Method(indices, scores, predictor_mode = True)\n",
    "                \n",
    "                goal_priceranges_predictor = model_GoalPricerangePredictor(goal_priceranges_tensor)\n",
    "                goal_areas_predictor = model_GoalAreaPredictor(goal_areas_tensor)\n",
    "                goal_names_predictor = model_GoalNamePredictor(goal_names_tensor)\n",
    "                goal_foods_predictor = model_GoalFoodPredictor(goal_foods_tensor)\n",
    "                requesteds_predictor = model_RequestedPredictor(requesteds_tensor)\n",
    "                methods_predictor = model_MethodPredictor(methods_tensor)\n",
    "                \n",
    "                for goal_pricerange, goal_area, goal_name, goal_food, requested, method, \\\n",
    "                    goal_pricerange_predictor, goal_area_predictor, goal_name_predictor, goal_food_predictor, requested_predictor, method_predictor in \\\n",
    "                    zip(goal_priceranges, goal_areas, goal_names, goal_foods, requesteds, methods, \\\n",
    "                       goal_priceranges_predictor, goal_areas_predictor, goal_names_predictor, goal_foods_predictor, requesteds_predictor, methods_predictor):\n",
    "                    \n",
    "                    goal_pricerange_predictor = torch.exp(goal_pricerange_predictor)[0].item()\n",
    "                    goal_area_predictor = torch.exp(goal_area_predictor)[0].item()\n",
    "                    goal_name_predictor = torch.exp(goal_name_predictor)[0].item()\n",
    "                    goal_food_predictor = torch.exp(goal_food_predictor)[0].item()\n",
    "                    requested_predictor = torch.exp(requested_predictor)[0].item()\n",
    "                    method_predictor = torch.exp(method_predictor)[0].item()\n",
    "                    \n",
    "                    if (goal_pricerange_predictor >= 0.5) and (goal_area_predictor >= 0.5) and (goal_name_predictor >= 0.5) and \\\n",
    "                        (goal_food_predictor >= 0.5) and (requested_predictor >= 0.5) and (method_predictor >= 0.5):\n",
    "                        turn[\"goal-labels\"][\"pricerange\"] = retrieve_output_GoalPricerange(goal_pricerange, ontology)\n",
    "                        turn[\"goal-labels\"][\"name\"] = retrieve_output_GoalName(goal_name, ontology)\n",
    "                        turn[\"goal-labels\"][\"area\"] = retrieve_output_GoalArea(goal_area, ontology)\n",
    "                        turn[\"goal-labels\"][\"food\"] = retrieve_output_GoalFood(goal_food, ontology)\n",
    "                        turn[\"requested-slots\"] = retrieve_output_Requested(requested, ontology)\n",
    "                        turn[\"method-label\"] = retrieve_output_Method(method, ontology)\n",
    "                \n",
    "                        session[\"turns\"].append(turn)\n",
    "                        break\n",
    "                \n",
    "            tracker_json[\"sessions\"].append(session)\n",
    "            \n",
    "        end_time = time.time()\n",
    "        tracker_json[\"wall-time\"] = end_time - start_time\n",
    "        \n",
    "        return tracker_json"
   ]
  },
  {
   "cell_type": "code",
   "execution_count": 61,
   "metadata": {},
   "outputs": [
    {
     "data": {
      "application/vnd.jupyter.widget-view+json": {
       "model_id": "7eb6db2bf7d64d1a9713027a9e447af1",
       "version_major": 2,
       "version_minor": 0
      },
      "text/plain": [
       "HBox(children=(IntProgress(value=0, max=506), HTML(value='')))"
      ]
     },
     "metadata": {},
     "output_type": "display_data"
    },
    {
     "data": {
      "text/plain": [
       "{'goal_pricerange_accuracy': 0.8168277,\n",
       " 'goal_pricerange_l2': 0.2659811,\n",
       " 'goal_area_accuracy': 0.7671606,\n",
       " 'goal_area_l2': 0.3364094,\n",
       " 'goal_name_accuracy': 0.9095238,\n",
       " 'goal_name_l2': 0.1805827,\n",
       " 'goal_food_accuracy': 0.6314199,\n",
       " 'goal_food_l2': 0.5251347,\n",
       " 'goal_accuracy': 0.4567447,\n",
       " 'goal_l2': 0.7048624,\n",
       " 'requested_accuracy': 0.648531,\n",
       " 'requested_l2': 0.7102591,\n",
       " 'method_accuracy': 0.7761544,\n",
       " 'method_l2': 0.3387436}"
      ]
     },
     "execution_count": 61,
     "metadata": {},
     "output_type": "execute_result"
    }
   ],
   "source": [
    "dev_tracker = make_predictor_tracker(model_GoalPricerange, model_GoalArea, model_GoalName, model_GoalFood, model_Requested, model_Method,\n",
    "                                     model_GoalPricerangePredictor, model_GoalAreaPredictor, model_GoalNamePredictor, model_GoalFoodPredictor, model_RequestedPredictor, model_MethodPredictor,\n",
    "                                     raw_X_dev, raw_Y_dev, \"dstc2_dev\")\n",
    "get_scores(dev_tracker, dataset = \"dstc2_dev\")"
   ]
  },
  {
   "cell_type": "code",
   "execution_count": null,
   "metadata": {},
   "outputs": [],
   "source": []
  }
 ],
 "metadata": {
  "kernelspec": {
   "display_name": "Python 3",
   "language": "python",
   "name": "python3"
  },
  "language_info": {
   "codemirror_mode": {
    "name": "ipython",
    "version": 3
   },
   "file_extension": ".py",
   "mimetype": "text/x-python",
   "name": "python",
   "nbconvert_exporter": "python",
   "pygments_lexer": "ipython3",
   "version": "3.6.5"
  }
 },
 "nbformat": 4,
 "nbformat_minor": 2
}
