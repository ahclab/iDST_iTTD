{
 "cells": [
  {
   "cell_type": "markdown",
   "metadata": {},
   "source": [
    "### Check GPU availability"
   ]
  },
  {
   "cell_type": "code",
   "execution_count": 1,
   "metadata": {},
   "outputs": [
    {
     "name": "stdout",
     "output_type": "stream",
     "text": [
      "Sun Jan 20 01:19:03 2019       \r\n",
      "+-----------------------------------------------------------------------------+\r\n",
      "| NVIDIA-SMI 384.145                Driver Version: 384.145                   |\r\n",
      "|-------------------------------+----------------------+----------------------+\r\n",
      "| GPU  Name        Persistence-M| Bus-Id        Disp.A | Volatile Uncorr. ECC |\r\n",
      "| Fan  Temp  Perf  Pwr:Usage/Cap|         Memory-Usage | GPU-Util  Compute M. |\r\n",
      "|===============================+======================+======================|\r\n",
      "|   0  GeForce GTX 108...  Off  | 00000000:02:00.0 Off |                  N/A |\r\n",
      "| 23%   27C    P8    17W / 250W |      0MiB / 11172MiB |      0%      Default |\r\n",
      "+-------------------------------+----------------------+----------------------+\r\n",
      "|   1  GeForce GTX 108...  Off  | 00000000:03:00.0 Off |                  N/A |\r\n",
      "| 29%   45C    P8    18W / 250W |      0MiB / 11172MiB |      0%      Default |\r\n",
      "+-------------------------------+----------------------+----------------------+\r\n",
      "                                                                               \r\n",
      "+-----------------------------------------------------------------------------+\r\n",
      "| Processes:                                                       GPU Memory |\r\n",
      "|  GPU       PID   Type   Process name                             Usage      |\r\n",
      "|=============================================================================|\r\n",
      "|  No running processes found                                                 |\r\n",
      "+-----------------------------------------------------------------------------+\r\n"
     ]
    }
   ],
   "source": [
    "!nvidia-smi"
   ]
  },
  {
   "cell_type": "markdown",
   "metadata": {},
   "source": [
    "### Import libraries"
   ]
  },
  {
   "cell_type": "code",
   "execution_count": 2,
   "metadata": {},
   "outputs": [
    {
     "name": "stderr",
     "output_type": "stream",
     "text": [
      "[nltk_data] Downloading package punkt to /home/is/andrei-\n",
      "[nltk_data]     cc/nltk_data...\n",
      "[nltk_data]   Package punkt is already up-to-date!\n"
     ]
    },
    {
     "data": {
      "text/html": [
       "<script type=\"text/javascript\">window.PlotlyConfig = {MathJaxConfig: 'local'};</script><script type=\"text/javascript\">if (window.MathJax) {MathJax.Hub.Config({SVG: {font: \"STIX-Web\"}});}</script><script>requirejs.config({paths: { 'plotly': ['https://cdn.plot.ly/plotly-latest.min']},});if(!window._Plotly) {require(['plotly'],function(plotly) {window._Plotly=plotly;});}</script>"
      ],
      "text/vnd.plotly.v1+html": [
       "<script type=\"text/javascript\">window.PlotlyConfig = {MathJaxConfig: 'local'};</script><script type=\"text/javascript\">if (window.MathJax) {MathJax.Hub.Config({SVG: {font: \"STIX-Web\"}});}</script><script>requirejs.config({paths: { 'plotly': ['https://cdn.plot.ly/plotly-latest.min']},});if(!window._Plotly) {require(['plotly'],function(plotly) {window._Plotly=plotly;});}</script>"
      ]
     },
     "metadata": {},
     "output_type": "display_data"
    }
   ],
   "source": [
    "import torch\n",
    "import torch.nn as nn\n",
    "import torch.nn.functional as F\n",
    "import torch.optim as optim\n",
    "\n",
    "import math\n",
    "import numpy as np\n",
    "import time\n",
    "import json\n",
    "import plotly\n",
    "import logging\n",
    "logging.getLogger().setLevel(logging.INFO)\n",
    "\n",
    "from pprint import pprint\n",
    "from tqdm import tqdm_notebook\n",
    "from idst_util import trivial\n",
    "from idst_util import dstc2\n",
    "\n",
    "from plotly.graph_objs import Scatter, Layout\n",
    "from plotly.graph_objs.layout import Margin\n",
    "plotly.offline.init_notebook_mode(connected = True)"
   ]
  },
  {
   "cell_type": "markdown",
   "metadata": {},
   "source": [
    "### Check DSTC2 availability"
   ]
  },
  {
   "cell_type": "code",
   "execution_count": 3,
   "metadata": {},
   "outputs": [
    {
     "name": "stderr",
     "output_type": "stream",
     "text": [
      "INFO:root:+--------------------------------+\n",
      "INFO:root:|         _ ____  ___________    |\n",
      "INFO:root:|        (_) __ \\/ ___/_  __/    |\n",
      "INFO:root:|       / / / / /\\__ \\ / /       |\n",
      "INFO:root:|      / / /_/ /___/ // /        |\n",
      "INFO:root:|     /_/_____//____//_/         |\n",
      "INFO:root:|                                |\n",
      "INFO:root:+--------------------------------+\n",
      "INFO:root:|Incremental Dialog State Tracker|\n",
      "INFO:root:+--------------------------------+\n",
      "INFO:root:+--------------------------------+\n",
      "INFO:root:|     Dialog State Tracker 2     |\n",
      "INFO:root:|         Data Checker           |\n",
      "INFO:root:+--------------------------------+\n",
      "INFO:root:Looking for dstc2 directory in .\n",
      "INFO:root:dstc2 was found!\n",
      "INFO:root:Looking for dstc2_traindev directory in ./dstc2\n",
      "INFO:root:dstc2_traindev was found!\n",
      "INFO:root:Looking for dstc2_test directory in ./dstc2\n",
      "INFO:root:dstc2_test was found!\n",
      "INFO:root:Looking for dstc2_scripts directory in ./dstc2\n",
      "INFO:root:dstc2_scripts was found!\n",
      "INFO:root:Done!\n"
     ]
    }
   ],
   "source": [
    "trivial.print_idst()\n",
    "dstc2.check()"
   ]
  },
  {
   "cell_type": "markdown",
   "metadata": {},
   "source": [
    "### Retrieve data"
   ]
  },
  {
   "cell_type": "code",
   "execution_count": 4,
   "metadata": {},
   "outputs": [
    {
     "name": "stderr",
     "output_type": "stream",
     "text": [
      "INFO:root:+--------------------------------+\n",
      "INFO:root:|     Dialog State Tracker 2     |\n",
      "INFO:root:|       Dataset Retrieval        |\n",
      "INFO:root:+--------------------------------+\n",
      "INFO:root:Reading dstc2_train.flist, dstc2_dev.flist and ontology_dstc2.json\n",
      "INFO:root:Asserted 1612 dialogs for dstc2_train.flist\n",
      "INFO:root:Asserted 506 dialogs for dstc2_dev.flist\n",
      "INFO:root:Extracting raw train features\n",
      "100%|██████████| 1612/1612 [00:16<00:00, 99.16it/s] \n",
      "INFO:root:Extracting raw dev features\n",
      "100%|██████████| 506/506 [00:04<00:00, 108.27it/s]\n",
      "INFO:root:Reading dstc2_test.flist\n",
      "INFO:root:Asserted 1117 dialogs for dstc2_test.flist\n",
      "INFO:root:Extracting raw test features\n",
      "100%|██████████| 1117/1117 [00:10<00:00, 103.35it/s]\n"
     ]
    }
   ],
   "source": [
    "raw_X_train, raw_Y_train, \\\n",
    "raw_X_dev, raw_Y_dev, \\\n",
    "raw_X_test, raw_Y_test, \\\n",
    "ontology = dstc2.retrieve_raw_datasets(train_data_augmentation = True)"
   ]
  },
  {
   "cell_type": "markdown",
   "metadata": {},
   "source": [
    "### Set device"
   ]
  },
  {
   "cell_type": "code",
   "execution_count": 5,
   "metadata": {},
   "outputs": [
    {
     "name": "stderr",
     "output_type": "stream",
     "text": [
      "INFO:root:+--------------------------------+\n",
      "INFO:root:|            Baseline            |\n",
      "INFO:root:+--------------------------------+\n",
      "INFO:root:Running on GPU 0\n"
     ]
    }
   ],
   "source": [
    "logging.info(\"+--------------------------------+\")\n",
    "logging.info(\"|            Baseline            |\")\n",
    "logging.info(\"+--------------------------------+\")\n",
    "\n",
    "GPU_ID = 0\n",
    "DEVICE = torch.device(\"cuda:{}\".format(GPU_ID) if torch.cuda.is_available() else \"cpu\")\n",
    "#DEVICE = \"cpu\"\n",
    "if DEVICE == \"cpu\":\n",
    "    logging.warning(\"Running on CPU\")\n",
    "else:\n",
    "    logging.info(\"Running on GPU {}\".format(GPU_ID))"
   ]
  },
  {
   "cell_type": "markdown",
   "metadata": {},
   "source": [
    "### Create vocabularies"
   ]
  },
  {
   "cell_type": "code",
   "execution_count": 6,
   "metadata": {},
   "outputs": [
    {
     "name": "stderr",
     "output_type": "stream",
     "text": [
      "INFO:root:+--------------------------------+\n",
      "INFO:root:|          Vocabulary            |\n",
      "INFO:root:+--------------------------------+\n",
      "INFO:root:Creating token_to_index, index_to_token and token_to_count dictionaries\n"
     ]
    },
    {
     "data": {
      "application/vnd.jupyter.widget-view+json": {
       "model_id": "efabf275f8da49fc8f01421549af46f4",
       "version_major": 2,
       "version_minor": 0
      },
      "text/plain": [
       "HBox(children=(IntProgress(value=0, max=3224), HTML(value='')))"
      ]
     },
     "metadata": {},
     "output_type": "display_data"
    },
    {
     "name": "stdout",
     "output_type": "stream",
     "text": [
      "\n"
     ]
    }
   ],
   "source": [
    "logging.info(\"+--------------------------------+\")\n",
    "logging.info(\"|          Vocabulary            |\")\n",
    "logging.info(\"+--------------------------------+\")\n",
    "logging.info(\"Creating token_to_index, index_to_token and token_to_count dictionaries\")\n",
    "\n",
    "token_to_index = {\"<unk>\": 0}\n",
    "index_to_token = {0: \"<unk>\"}\n",
    "token_to_count = {\"<unk>\": 1}\n",
    "\n",
    "for raw_train_dialog in tqdm_notebook(raw_X_train):\n",
    "    \n",
    "    for raw_train_turn in raw_train_dialog[\"turns\"]:\n",
    "        \n",
    "        tokens_scores = raw_train_turn[\"system\"] + raw_train_turn[\"user\"]\n",
    "        \n",
    "        for token_score in tokens_scores:\n",
    "            token = token_score[0]\n",
    "            if token not in token_to_index:\n",
    "                token_to_index[token] = len(token_to_index)\n",
    "                index_to_token[len(token_to_index)] = token\n",
    "                token_to_count[token] = 1\n",
    "            else:\n",
    "                token_to_count[token] += 1\n",
    "                \n",
    "assert len(token_to_index) == len(index_to_token)\n",
    "assert len(token_to_index) == len(token_to_count)"
   ]
  },
  {
   "cell_type": "markdown",
   "metadata": {},
   "source": [
    "### Execution configuration"
   ]
  },
  {
   "cell_type": "code",
   "execution_count": 7,
   "metadata": {},
   "outputs": [
    {
     "name": "stderr",
     "output_type": "stream",
     "text": [
      "INFO:root:+--------------------------------+\n",
      "INFO:root:|         Configuration          |\n",
      "INFO:root:+--------------------------------+\n",
      "INFO:root:VOCABULARY_SIZE:\t\t1149\n",
      "INFO:root:GOAL_FOOD_DIM:\t\t93\n",
      "INFO:root:GOAL_PRICERANGE_DIM:\t\t5\n",
      "INFO:root:GOAL_NAME_DIM:\t\t115\n",
      "INFO:root:GOAL_AREA_DIM:\t\t7\n",
      "INFO:root:METHOD_DIM:\t\t\t5\n",
      "INFO:root:REQUESTED_DIM:\t\t8\n",
      "INFO:root:EMBEDDING_DIM:\t\t170\n",
      "INFO:root:ALTERED_EMBEDDING_DIM:\t300\n",
      "INFO:root:HIDDEN_DIM:\t\t\t100\n",
      "INFO:root:NUM_EPOCHS:\t\t\t30\n",
      "INFO:root:GOAL_LOSS_FUNCTION:\t\tCrossEntropyLoss()\n",
      "INFO:root:METHOD_LOSS_FUNCTION:\t\tCrossEntropyLoss()\n",
      "INFO:root:REQUESTED_LOSS_FUNCTION:\tBCELoss()\n"
     ]
    }
   ],
   "source": [
    "logging.info(\"+--------------------------------+\")\n",
    "logging.info(\"|         Configuration          |\")\n",
    "logging.info(\"+--------------------------------+\")\n",
    "\n",
    "VOCABULARY_SIZE = len(token_to_index)\n",
    "logging.info(\"VOCABULARY_SIZE:\\t\\t{}\".format(VOCABULARY_SIZE))\n",
    "\n",
    "# NOTE: +2 because of null and dontcare\n",
    "GOAL_FOOD_DIM = len(ontology[\"informable\"][\"food\"]) + 2 \n",
    "GOAL_PRICERANGE_DIM = len(ontology[\"informable\"][\"pricerange\"]) + 2\n",
    "GOAL_NAME_DIM = len(ontology[\"informable\"][\"name\"]) + 2\n",
    "GOAL_AREA_DIM = len(ontology[\"informable\"][\"area\"]) + 2\n",
    "METHOD_DIM = len(ontology[\"method\"])\n",
    "REQUESTED_DIM = len(ontology[\"requestable\"])\n",
    "EMBEDDING_DIM = 170\n",
    "ALTERED_EMBEDDING_DIM = 300\n",
    "HIDDEN_DIM = 100\n",
    "NUM_EPOCHS = 30\n",
    "GOAL_LOSS_FUNCTION = nn.CrossEntropyLoss()\n",
    "METHOD_LOSS_FUNCTION = nn.CrossEntropyLoss()\n",
    "REQUESTED_LOSS_FUNCTION = nn.BCELoss()\n",
    "logging.info(\"GOAL_FOOD_DIM:\\t\\t{}\".format(GOAL_FOOD_DIM))\n",
    "logging.info(\"GOAL_PRICERANGE_DIM:\\t\\t{}\".format(GOAL_PRICERANGE_DIM))\n",
    "logging.info(\"GOAL_NAME_DIM:\\t\\t{}\".format(GOAL_NAME_DIM))\n",
    "logging.info(\"GOAL_AREA_DIM:\\t\\t{}\".format(GOAL_AREA_DIM))\n",
    "logging.info(\"METHOD_DIM:\\t\\t\\t{}\".format(METHOD_DIM))\n",
    "logging.info(\"REQUESTED_DIM:\\t\\t{}\".format(REQUESTED_DIM))\n",
    "logging.info(\"EMBEDDING_DIM:\\t\\t{}\".format(EMBEDDING_DIM))\n",
    "logging.info(\"ALTERED_EMBEDDING_DIM:\\t{}\".format(ALTERED_EMBEDDING_DIM))\n",
    "logging.info(\"HIDDEN_DIM:\\t\\t\\t{}\".format(HIDDEN_DIM))\n",
    "logging.info(\"NUM_EPOCHS:\\t\\t\\t{}\".format(NUM_EPOCHS))\n",
    "logging.info(\"GOAL_LOSS_FUNCTION:\\t\\t{}\".format(GOAL_LOSS_FUNCTION))\n",
    "logging.info(\"METHOD_LOSS_FUNCTION:\\t\\t{}\".format(METHOD_LOSS_FUNCTION))\n",
    "logging.info(\"REQUESTED_LOSS_FUNCTION:\\t{}\".format(REQUESTED_LOSS_FUNCTION))"
   ]
  },
  {
   "cell_type": "markdown",
   "metadata": {},
   "source": [
    "### Models utilities"
   ]
  },
  {
   "cell_type": "code",
   "execution_count": 8,
   "metadata": {},
   "outputs": [],
   "source": [
    "def get_index_and_score(turn, token_to_index, mode, device):\n",
    "    indices = []\n",
    "    scores = []\n",
    "    if mode == \"train\":\n",
    "        for system_token, system_token_score in turn[\"system\"]:\n",
    "            indices.append(token_to_index[system_token])\n",
    "            scores.append(system_token_score)\n",
    "        for user_token, user_token_score in turn[\"user\"]:\n",
    "            if np.random.binomial(n = 1, p = 0.1) == 1:\n",
    "                indices.append(token_to_index[\"<unk>\"])\n",
    "            else:\n",
    "                indices.append(token_to_index[user_token])\n",
    "            scores.append(user_token_score)\n",
    "    else:\n",
    "        tokens_scores = turn[\"system\"] + turn[\"user\"]\n",
    "        for token, score in tokens_scores:\n",
    "            if token not in token_to_index:\n",
    "                indices.append(token_to_index[\"<unk>\"])\n",
    "            else:\n",
    "                indices.append(token_to_index[token])\n",
    "            scores.append(score)\n",
    "    assert len(indices) == len(scores)\n",
    "    return torch.tensor(indices, dtype = torch.long, device = device), torch.tensor(scores, dtype = torch.float, device = device)\n",
    "\n",
    "def plotly_plot(dev_accuracies, test_accuracies, accuracy_type):\n",
    "    plotly.offline.iplot({\n",
    "                            \"data\": [Scatter(\n",
    "                                            x = list(range(len(dev_accuracies))),\n",
    "                                            y = dev_accuracies,\n",
    "                                            mode = \"lines+markers\",\n",
    "                                            name = \"Dev {} Accuracy\".format(accuracy_type),\n",
    "                                            marker = dict(color = \"#3498db\")),\n",
    "                                    Scatter(\n",
    "                                            x = list(range(len(test_accuracies))),\n",
    "                                            y = test_accuracies,\n",
    "                                            mode = \"lines+markers\",\n",
    "                                            name = \"Test {} Accuracy\".format(accuracy_type),\n",
    "                                            marker = dict(color = \"#9b59b6\"))],\n",
    "                            \"layout\": Layout(\n",
    "                                             title = \"<b>Dev-Test {} Accuracy</b>\".format(accuracy_type),\n",
    "                                             xaxis = dict(title = \"<b>Epoch</b>\",\n",
    "                                                          dtick = 1,\n",
    "                                                          titlefont = dict(color = \"#34495e\")),\n",
    "                                             yaxis = dict(title = \"<b>Accuracy</b>\",\n",
    "                                                          titlefont = dict(color = \"#34495e\")),\n",
    "                                             margin = Margin(b = 150))\n",
    "                        })\n",
    "\n",
    "class EarlyStopping():\n",
    "    \n",
    "    def __init__(self, min_delta = 0, patience = 0):\n",
    "        \n",
    "        self.min_delta = min_delta\n",
    "        self.patience = patience\n",
    "        self.wait = 0\n",
    "        self.stopped_epoch = 0\n",
    "        self.best = -np.Inf\n",
    "        self.stop_training = False\n",
    "    \n",
    "    def on_epoch_end(self, epoch, current_value):\n",
    "        if np.greater((current_value - self.min_delta), self.best):\n",
    "            self.best = current_value\n",
    "            self.wait = 0\n",
    "        else:\n",
    "            self.wait += 1\n",
    "            if self.wait > self.patience:\n",
    "                self.stopped_epoch = epoch\n",
    "                self.stop_training = True\n",
    "        return self.stop_training\n",
    "\n",
    "get_bin = lambda x, n: format(x, \"b\").zfill(n)\n",
    "\n",
    "def make_tracker(model_GoalPricerange, model_GoalArea, model_GoalName, model_GoalFood, model_Requested, model_Method, raw_X, raw_Y, dataset):\n",
    "    \n",
    "    model_GoalPricerange = model_GoalPricerange.eval()\n",
    "    model_GoalArea = model_GoalArea.eval()\n",
    "    model_GoalName = model_GoalName.eval()\n",
    "    model_GoalFood = model_GoalFood.eval()\n",
    "    model_Requested = model_Requested.eval()\n",
    "    model_Method = model_Method.eval()\n",
    "    \n",
    "    with torch.no_grad():\n",
    "        tracker_json = {}\n",
    "        tracker_json[\"dataset\"] = dataset\n",
    "        tracker_json[\"sessions\"] = []\n",
    "\n",
    "        start_time = time.time()\n",
    "        for raw_X_dialog, raw_Y_dialog in tqdm_notebook(zip(raw_X, raw_Y), total = len(raw_X)):\n",
    "            \n",
    "            model_GoalPricerange.hidden = model_GoalPricerange.init_hidden()\n",
    "            model_GoalArea.hidden = model_GoalArea.init_hidden()\n",
    "            model_GoalName.hidden = model_GoalName.init_hidden()\n",
    "            model_GoalFood.hidden = model_GoalFood.init_hidden()\n",
    "            model_Requested.hidden = model_Requested.init_hidden()\n",
    "            model_Method.hidden = model_Method.init_hidden()\n",
    "            \n",
    "            session = {}\n",
    "            session[\"session-id\"] = raw_X_dialog[\"session-id\"]\n",
    "            session[\"turns\"] = []\n",
    "\n",
    "            for raw_X_turn, raw_Y_turn in zip(raw_X_dialog[\"turns\"], raw_Y_dialog[\"turns\"]):\n",
    "                turn = {}\n",
    "                turn[\"goal-labels\"] = {}\n",
    "\n",
    "                indices, scores = get_index_and_score(raw_X_turn, token_to_index, mode = \"eval\", device = DEVICE)\n",
    "                \n",
    "                goal_food = model_GoalFood(indices, scores)\n",
    "                goal_pricerange = model_GoalPricerange(indices, scores)\n",
    "                goal_name = model_GoalName(indices, scores)\n",
    "                goal_area = model_GoalArea(indices, scores)\n",
    "                requested = model_Requested(indices, scores)\n",
    "                method = model_Method(indices, scores)\n",
    "                turn[\"goal-labels\"][\"food\"] = retrieve_output_GoalFood(goal_food, ontology)\n",
    "                turn[\"goal-labels\"][\"pricerange\"] = retrieve_output_GoalPricerange(goal_pricerange, ontology)\n",
    "                turn[\"goal-labels\"][\"name\"] = retrieve_output_GoalName(goal_name, ontology)\n",
    "                turn[\"goal-labels\"][\"area\"] = retrieve_output_GoalArea(goal_area, ontology)\n",
    "                turn[\"requested-slots\"] = retrieve_output_Requested(requested, ontology)\n",
    "                turn[\"method-label\"] = retrieve_output_Method(method, ontology)\n",
    "                \n",
    "                session[\"turns\"].append(turn)\n",
    "            tracker_json[\"sessions\"].append(session)\n",
    "        end_time = time.time()\n",
    "        tracker_json[\"wall-time\"] = end_time - start_time\n",
    "        \n",
    "        return tracker_json\n",
    "\n",
    "def get_scores(model_GoalPricerange, model_GoalArea, model_GoalName, model_GoalFood, model_Requested, model_Method, raw_X, raw_Y, dataset):\n",
    "    goal_accuracy = 0\n",
    "    goal_l2 = 0\n",
    "    requested_accuracy = 0\n",
    "    requested_l2 = 0\n",
    "    method_accuracy = 0\n",
    "    method_l2 = 0\n",
    "    \n",
    "    tracker = make_tracker(model_GoalPricerange, model_GoalArea, model_GoalName, model_GoalFood, model_Requested, model_Method, raw_X, raw_Y, dataset = dataset)\n",
    "    \n",
    "    with open(\"tracker_panfmr.json\", \"w\") as tracker_file:\n",
    "        json.dump(tracker, tracker_file)\n",
    "    \n",
    "    if dataset == \"dstc2_train\":\n",
    "        !python2 dstc2/dstc2_scripts/score.py\\\n",
    "        --dataset dstc2_train\\\n",
    "        --dataroot dstc2/dstc2_traindev/data\\\n",
    "        --ontology dstc2/dstc2_scripts/config/ontology_dstc2.json\\\n",
    "        --trackfile tracker_panfmr.json\\\n",
    "        --scorefile tracker_panfmr.score.csv\n",
    "    elif dataset == \"dstc2_dev\":\n",
    "        !python2 dstc2/dstc2_scripts/score.py\\\n",
    "        --dataset dstc2_dev\\\n",
    "        --dataroot dstc2/dstc2_traindev/data\\\n",
    "        --ontology dstc2/dstc2_scripts/config/ontology_dstc2.json\\\n",
    "        --trackfile tracker_panfmr.json\\\n",
    "        --scorefile tracker_panfmr.score.csv\n",
    "    else:\n",
    "        !python2 dstc2/dstc2_scripts/score.py\\\n",
    "        --dataset dstc2_test\\\n",
    "        --dataroot dstc2/dstc2_test/data\\\n",
    "        --ontology dstc2/dstc2_scripts/config/ontology_dstc2.json\\\n",
    "        --trackfile tracker_panfmr.json\\\n",
    "        --scorefile tracker_panfmr.score.csv\n",
    "\n",
    "    file_cat = !python2 dstc2/dstc2_scripts/report.py --scorefile tracker_panfmr.score.csv\n",
    "    \n",
    "    found_accuracies = False\n",
    "    for line in file_cat:\n",
    "        if line.startswith(\"Accuracy\"):\n",
    "            accuracies = line.split(\"|\")\n",
    "            goal_accuracy = float(accuracies[1])\n",
    "            requested_accuracy = float(accuracies[2])\n",
    "            method_accuracy = float(accuracies[3])\n",
    "            found_accuracies = True\n",
    "        if found_accuracies and line.startswith(\"l2\"):\n",
    "            l2s = line.split(\"|\")\n",
    "            goal_l2 = float(l2s[1])\n",
    "            method_l2 = float(l2s[2])\n",
    "            requested_l2 = float(l2s[3])\n",
    "    \n",
    "    return goal_accuracy, goal_l2, requested_accuracy, requested_l2, method_accuracy, method_l2\n",
    "\n",
    "def retrieve_gold_GoalFood(raw_Y, ontology, device):\n",
    "    ontology_informable_food = ontology[\"informable\"][\"food\"]\n",
    "    raw_goal_food = raw_Y[\"goal\"][\"food\"]\n",
    "    goal_food = 0\n",
    "    if raw_goal_food != None:\n",
    "        if raw_goal_food == \"dontcare\":\n",
    "            goal_food = 1\n",
    "        else:    \n",
    "            goal_food = ontology_informable_food.index(raw_goal_food) + 2\n",
    "    return torch.tensor([goal_food], dtype = torch.long, device = device)\n",
    "\n",
    "def retrieve_output_GoalFood(output_tensor, ontology):\n",
    "    ontology_informable_food = ontology[\"informable\"][\"food\"]\n",
    "    output_tensor = output_tensor.view(-1)\n",
    "    output_tensor = torch.exp(output_tensor)\n",
    "    goal_food_dict = {}\n",
    "    \n",
    "    index = torch.argmax(output_tensor).item()\n",
    "    goal_food_dict[\"dontcare\"] = output_tensor[1].item() \n",
    "    for index in range(len(output_tensor) - 2):\n",
    "        goal_food_dict[ontology_informable_food[index]] = output_tensor[index + 2].item()\n",
    "    return goal_food_dict\n",
    "\n",
    "def retrieve_gold_GoalPriceRange(raw_Y, ontology, device):\n",
    "    ontology_informable_pricerange = ontology[\"informable\"][\"pricerange\"]\n",
    "    raw_goal_pricerange = raw_Y[\"goal\"][\"pricerange\"]\n",
    "    goal_pricerange = 0\n",
    "    if raw_goal_pricerange != None:\n",
    "        if raw_goal_pricerange == \"dontcare\":\n",
    "            goal_pricerange = 1\n",
    "        else:    \n",
    "            goal_pricerange = ontology_informable_pricerange.index(raw_goal_pricerange) + 2\n",
    "    return torch.tensor([goal_pricerange], dtype = torch.long, device = device)\n",
    "\n",
    "def retrieve_output_GoalPricerange(output_tensor, ontology):\n",
    "    ontology_informable_pricerange = ontology[\"informable\"][\"pricerange\"]\n",
    "    output_tensor = output_tensor.view(-1)\n",
    "    output_tensor = torch.exp(output_tensor)\n",
    "    goal_pricerange_dict = {}\n",
    "    \n",
    "    index = torch.argmax(output_tensor).item()\n",
    "    goal_pricerange_dict[\"dontcare\"] = output_tensor[1].item()\n",
    "    for index in range(len(output_tensor) - 2):     \n",
    "        goal_pricerange_dict[ontology_informable_pricerange[index]] = output_tensor[index + 2].item()\n",
    "    return goal_pricerange_dict\n",
    "\n",
    "def retrieve_gold_GoalName(raw_Y, ontology, device):\n",
    "    ontology_informable_name = ontology[\"informable\"][\"name\"]\n",
    "    raw_goal_name = raw_Y[\"goal\"][\"name\"]\n",
    "    goal_name = 0\n",
    "    if raw_goal_name != None:\n",
    "        if raw_goal_name == \"dontcare\":\n",
    "            goal_name = 1\n",
    "        else:    \n",
    "            goal_name = ontology_informable_name.index(raw_goal_name) + 2\n",
    "    return torch.tensor([goal_name], dtype = torch.long, device = device)\n",
    "\n",
    "def retrieve_output_GoalName(output_tensor, ontology):\n",
    "    ontology_informable_name = ontology[\"informable\"][\"name\"]\n",
    "    output_tensor = output_tensor.view(-1)\n",
    "    output_tensor = torch.exp(output_tensor)\n",
    "    goal_name_dict = {}\n",
    "    \n",
    "    index = torch.argmax(output_tensor).item()\n",
    "    goal_name_dict[\"dontcare\"] = output_tensor[1].item()\n",
    "    for index in range(len(output_tensor) - 2):\n",
    "        goal_name_dict[ontology_informable_name[index]] = output_tensor[index + 2].item()\n",
    "        \n",
    "    return goal_name_dict\n",
    "\n",
    "def retrieve_gold_GoalArea(raw_Y, ontology, device):\n",
    "    ontology_informable_area = ontology[\"informable\"][\"area\"]\n",
    "    raw_goal_area = raw_Y[\"goal\"][\"area\"]\n",
    "    goal_area = 0\n",
    "    if raw_goal_area != None:\n",
    "        if raw_goal_area == \"dontcare\":\n",
    "            goal_area = 1\n",
    "        else:    \n",
    "            goal_area = ontology_informable_area.index(raw_goal_area) + 2\n",
    "    return torch.tensor([goal_area], dtype = torch.long, device = device)\n",
    "\n",
    "def retrieve_output_GoalArea(output_tensor, ontology):\n",
    "    ontology_informable_area = ontology[\"informable\"][\"area\"]\n",
    "    output_tensor = output_tensor.view(-1)\n",
    "    output_tensor = torch.exp(output_tensor)\n",
    "    goal_area_dict = {}\n",
    "    \n",
    "    index = torch.argmax(output_tensor).item()\n",
    "    goal_area_dict[\"dontcare\"] = output_tensor[1].item()\n",
    "    for index in range(len(output_tensor) - 2):\n",
    "        goal_area_dict[ontology_informable_area[index]] = output_tensor[index + 2].item()\n",
    "        \n",
    "    return goal_area_dict\n",
    "\n",
    "def retrieve_gold_Method(raw_Y, ontology, device):\n",
    "    ontology_method = ontology[\"method\"]\n",
    "    raw_gold_method = raw_Y[\"method\"]\n",
    "    gold_method = ontology_method.index(raw_gold_method)\n",
    "    return torch.tensor([gold_method], dtype = torch.long, device = device)\n",
    "\n",
    "def retrieve_output_Method(output_tensor, ontology):\n",
    "    ontology_method = ontology[\"method\"]\n",
    "    output_tensor = output_tensor.view(-1)\n",
    "    output_tensor = torch.exp(output_tensor)\n",
    "    method_dict = {}\n",
    "    \n",
    "    for index in range(len(output_tensor)):\n",
    "        method_dict[ontology_method[index]] = output_tensor[index].item()\n",
    "    \n",
    "    return method_dict\n",
    "\n",
    "def retrieve_gold_Requested(raw_Y, ontology, device):\n",
    "    ontology_requestable = ontology[\"requestable\"]\n",
    "    raw_gold_requested = raw_Y[\"requested\"]\n",
    "    gold_requested = np.zeros(len(ontology_requestable), dtype = float)\n",
    "    if len(raw_gold_requested) != 0:\n",
    "        for requested in raw_gold_requested:\n",
    "            gold_requested[ontology_requestable.index(requested)] = 1.0\n",
    "    return torch.tensor([gold_requested], dtype = torch.float, device = device)\n",
    "\n",
    "def retrieve_output_Requested(output_tensor, ontology):\n",
    "    ontology_requestable = ontology[\"requestable\"]\n",
    "    output_tensor = output_tensor.view(-1)\n",
    "    requested_dict = {}\n",
    "    for index in range(len(output_tensor)):\n",
    "        probability_value = output_tensor[index].item()\n",
    "        if np.greater_equal(probability_value, 0.5):\n",
    "            requested_dict[ontology_requestable[index]] = probability_value\n",
    "    return requested_dict"
   ]
  },
  {
   "cell_type": "markdown",
   "metadata": {},
   "source": [
    "### Goal Pricerange Model"
   ]
  },
  {
   "cell_type": "code",
   "execution_count": 9,
   "metadata": {},
   "outputs": [],
   "source": [
    "class GoalPricerangeModel(nn.Module):\n",
    "    \n",
    "    def __init__(self,\n",
    "                 vocabulary_size,\n",
    "                 embedding_dim,\n",
    "                 altered_embedding_dim,\n",
    "                 hidden_dim,\n",
    "                 goal_pricerange_dim,\n",
    "                 device):\n",
    "        \n",
    "        super(GoalPricerangeModel, self).__init__()\n",
    "        \n",
    "        self.hidden_dim = hidden_dim\n",
    "        self.goal_pricerange_dim = goal_pricerange_dim\n",
    "        self.device = device\n",
    "        \n",
    "        self.embeddings = nn.Embedding(num_embeddings = vocabulary_size,\n",
    "                                       embedding_dim = embedding_dim)\n",
    "        \n",
    "        self.altered_embeddings = nn.Linear(in_features = (embedding_dim + 1),\n",
    "                                            out_features = altered_embedding_dim)\n",
    "        \n",
    "        self.lstm = nn.LSTM(input_size = altered_embedding_dim,\n",
    "                            hidden_size = hidden_dim)\n",
    "        \n",
    "        self.goal_pricerange_classifier = nn.Linear(in_features = hidden_dim,\n",
    "                                                    out_features = goal_pricerange_dim)\n",
    "        \n",
    "        self.hidden = self.init_hidden()\n",
    "    \n",
    "    def init_hidden(self):\n",
    "        \n",
    "        return (torch.zeros(1, 1, self.hidden_dim, device = self.device),\n",
    "                torch.zeros(1, 1, self.hidden_dim, device = self.device))\n",
    "        \n",
    "    def forward(self, indices, scores):\n",
    "    \n",
    "        embeddings = self.embeddings(indices)\n",
    "        \n",
    "        embeddings_concat_score = torch.cat((embeddings, scores.unsqueeze(dim = 1)), dim = 1) \n",
    "        \n",
    "        altered_embeddings = F.relu(self.altered_embeddings(embeddings_concat_score))\n",
    "        \n",
    "        lstm_out, self.hidden = self.lstm(altered_embeddings.view(len(indices), 1, -1), self.hidden)\n",
    "        \n",
    "        goal_pricerange = F.log_softmax(self.goal_pricerange_classifier(self.hidden[0]).view(-1, self.goal_pricerange_dim), dim = 1) \n",
    "        \n",
    "        return goal_pricerange\n",
    "\n",
    "model_GoalPricerange = GoalPricerangeModel(vocabulary_size = VOCABULARY_SIZE,\n",
    "                                           embedding_dim = EMBEDDING_DIM,\n",
    "                                           altered_embedding_dim = ALTERED_EMBEDDING_DIM,\n",
    "                                           hidden_dim = HIDDEN_DIM,\n",
    "                                           goal_pricerange_dim = GOAL_PRICERANGE_DIM,\n",
    "                                           device = DEVICE)\n",
    "\n",
    "model_GoalPricerange = model_GoalPricerange.to(DEVICE)\n",
    "\n",
    "optimizer_GoalPricerangeModel = optim.Adam(model_GoalPricerange.parameters(), lr = 1e-4)"
   ]
  },
  {
   "cell_type": "markdown",
   "metadata": {},
   "source": [
    "### Goal Area Model"
   ]
  },
  {
   "cell_type": "code",
   "execution_count": 10,
   "metadata": {},
   "outputs": [],
   "source": [
    "class GoalAreaModel(nn.Module):\n",
    "    \n",
    "    def __init__(self,\n",
    "                 vocabulary_size,\n",
    "                 embedding_dim,\n",
    "                 altered_embedding_dim,\n",
    "                 hidden_dim,\n",
    "                 goal_area_dim,\n",
    "                 device):\n",
    "        \n",
    "        super(GoalAreaModel, self).__init__()\n",
    "        \n",
    "        self.hidden_dim = hidden_dim\n",
    "        self.goal_area_dim = goal_area_dim\n",
    "        self.device = device\n",
    "        \n",
    "        self.embeddings = nn.Embedding(num_embeddings = vocabulary_size,\n",
    "                                       embedding_dim = embedding_dim)\n",
    "        \n",
    "        self.altered_embeddings = nn.Linear(in_features = (embedding_dim + 1),\n",
    "                                            out_features = altered_embedding_dim)\n",
    "        \n",
    "        self.lstm = nn.LSTM(input_size = altered_embedding_dim,\n",
    "                            hidden_size = hidden_dim)\n",
    "        \n",
    "        self.goal_area_classifier = nn.Linear(in_features = hidden_dim,\n",
    "                                              out_features = goal_area_dim)\n",
    "        \n",
    "        self.hidden = self.init_hidden()\n",
    "    \n",
    "    def init_hidden(self):\n",
    "        \n",
    "        return (torch.zeros(1, 1, self.hidden_dim, device = self.device),\n",
    "                torch.zeros(1, 1, self.hidden_dim, device = self.device))\n",
    "        \n",
    "    def forward(self, indices, scores):\n",
    "    \n",
    "        embeddings = self.embeddings(indices)\n",
    "        \n",
    "        embeddings_concat_score = torch.cat((embeddings, scores.unsqueeze(dim = 1)), dim = 1) \n",
    "        \n",
    "        altered_embeddings = F.relu(self.altered_embeddings(embeddings_concat_score))\n",
    "        \n",
    "        lstm_out, self.hidden = self.lstm(altered_embeddings.view(len(indices), 1, -1), self.hidden)\n",
    "        \n",
    "        goal_area = F.log_softmax(self.goal_area_classifier(self.hidden[0]).view(-1, self.goal_area_dim), dim = 1)\n",
    "        \n",
    "        return goal_area\n",
    "\n",
    "model_GoalArea = GoalAreaModel(vocabulary_size = VOCABULARY_SIZE,\n",
    "                               embedding_dim = EMBEDDING_DIM,\n",
    "                               altered_embedding_dim = ALTERED_EMBEDDING_DIM,\n",
    "                               hidden_dim = HIDDEN_DIM,\n",
    "                               goal_area_dim = GOAL_AREA_DIM,\n",
    "                               device = DEVICE)\n",
    "\n",
    "model_GoalArea = model_GoalArea.to(DEVICE)\n",
    "\n",
    "optimizer_GoalAreaModel = optim.Adam(model_GoalArea.parameters(), lr = 1e-4)"
   ]
  },
  {
   "cell_type": "markdown",
   "metadata": {},
   "source": [
    "### Goal Name Model"
   ]
  },
  {
   "cell_type": "code",
   "execution_count": 11,
   "metadata": {},
   "outputs": [],
   "source": [
    "class GoalNameModel(nn.Module):\n",
    "    \n",
    "    def __init__(self,\n",
    "                 vocabulary_size,\n",
    "                 embedding_dim,\n",
    "                 altered_embedding_dim,\n",
    "                 hidden_dim,\n",
    "                 goal_name_dim,\n",
    "                 device):\n",
    "        \n",
    "        super(GoalNameModel, self).__init__()\n",
    "        \n",
    "        self.hidden_dim = hidden_dim\n",
    "        self.goal_name_dim = goal_name_dim\n",
    "        self.device = device\n",
    "        \n",
    "        self.embeddings = nn.Embedding(num_embeddings = vocabulary_size,\n",
    "                                       embedding_dim = embedding_dim)\n",
    "        \n",
    "        self.altered_embeddings = nn.Linear(in_features = (embedding_dim + 1),\n",
    "                                            out_features = altered_embedding_dim)\n",
    "        \n",
    "        self.lstm = nn.LSTM(input_size = altered_embedding_dim,\n",
    "                            hidden_size = hidden_dim)\n",
    "        \n",
    "        self.goal_name_classifier = nn.Linear(in_features = hidden_dim,\n",
    "                                              out_features = goal_name_dim)\n",
    "        \n",
    "        self.hidden = self.init_hidden()\n",
    "    \n",
    "    def init_hidden(self):\n",
    "        \n",
    "        return (torch.zeros(1, 1, self.hidden_dim, device = self.device),\n",
    "                torch.zeros(1, 1, self.hidden_dim, device = self.device))\n",
    "        \n",
    "    def forward(self, indices, scores):\n",
    "    \n",
    "        embeddings = self.embeddings(indices)\n",
    "        \n",
    "        embeddings_concat_score = torch.cat((embeddings, scores.unsqueeze(dim = 1)), dim = 1) \n",
    "        \n",
    "        altered_embeddings = F.relu(self.altered_embeddings(embeddings_concat_score))\n",
    "        \n",
    "        lstm_out, self.hidden = self.lstm(altered_embeddings.view(len(indices), 1, -1), self.hidden)\n",
    "        \n",
    "        goal_name = F.log_softmax(self.goal_name_classifier(self.hidden[0]).view(-1, self.goal_name_dim), dim = 1)\n",
    "        \n",
    "        return goal_name\n",
    "\n",
    "model_GoalName = GoalNameModel(vocabulary_size = VOCABULARY_SIZE,\n",
    "                               embedding_dim = EMBEDDING_DIM,\n",
    "                               altered_embedding_dim = ALTERED_EMBEDDING_DIM,\n",
    "                               hidden_dim = HIDDEN_DIM,\n",
    "                               goal_name_dim = GOAL_NAME_DIM,\n",
    "                               device = DEVICE)\n",
    "\n",
    "model_GoalName = model_GoalName.to(DEVICE)\n",
    "\n",
    "optimizer_GoalNameModel = optim.Adam(model_GoalName.parameters(), lr = 1e-4)"
   ]
  },
  {
   "cell_type": "markdown",
   "metadata": {},
   "source": [
    "### Goal Food Model"
   ]
  },
  {
   "cell_type": "code",
   "execution_count": 12,
   "metadata": {},
   "outputs": [],
   "source": [
    "class GoalFoodModel(nn.Module):\n",
    "    \n",
    "    def __init__(self,\n",
    "                 vocabulary_size,\n",
    "                 embedding_dim,\n",
    "                 altered_embedding_dim,\n",
    "                 hidden_dim,\n",
    "                 goal_food_dim,\n",
    "                 device):\n",
    "        \n",
    "        super(GoalFoodModel, self).__init__()\n",
    "        \n",
    "        self.hidden_dim = hidden_dim\n",
    "        self.goal_food_dim = goal_food_dim\n",
    "        self.device = device\n",
    "        \n",
    "        self.embeddings = nn.Embedding(num_embeddings = vocabulary_size,\n",
    "                                       embedding_dim = embedding_dim)\n",
    "        \n",
    "        self.altered_embeddings = nn.Linear(in_features = (embedding_dim + 1),\n",
    "                                            out_features = altered_embedding_dim)\n",
    "        \n",
    "        self.lstm = nn.LSTM(input_size = altered_embedding_dim,\n",
    "                            hidden_size = hidden_dim)\n",
    "        \n",
    "        self.goal_food_classifier = nn.Linear(in_features = hidden_dim,\n",
    "                                              out_features = goal_food_dim)\n",
    "        \n",
    "        self.hidden = self.init_hidden()\n",
    "    \n",
    "    def init_hidden(self):\n",
    "        \n",
    "        return (torch.zeros(1, 1, self.hidden_dim, device = self.device),\n",
    "                torch.zeros(1, 1, self.hidden_dim, device = self.device))\n",
    "        \n",
    "    def forward(self, indices, scores):\n",
    "    \n",
    "        embeddings = self.embeddings(indices)\n",
    "        \n",
    "        embeddings_concat_score = torch.cat((embeddings, scores.unsqueeze(dim = 1)), dim = 1) \n",
    "        \n",
    "        altered_embeddings = F.relu(self.altered_embeddings(embeddings_concat_score))\n",
    "        \n",
    "        lstm_out, self.hidden = self.lstm(altered_embeddings.view(len(indices), 1, -1), self.hidden)\n",
    "        \n",
    "        goal_food = F.log_softmax(self.goal_food_classifier(self.hidden[0]).view(-1, self.goal_food_dim), dim = 1)        \n",
    "        \n",
    "        return goal_food\n",
    "\n",
    "model_GoalFood = GoalFoodModel(vocabulary_size = VOCABULARY_SIZE,\n",
    "                               embedding_dim = EMBEDDING_DIM,\n",
    "                               altered_embedding_dim = ALTERED_EMBEDDING_DIM,\n",
    "                               hidden_dim = HIDDEN_DIM,\n",
    "                               goal_food_dim = GOAL_FOOD_DIM,\n",
    "                               device = DEVICE)\n",
    "\n",
    "model_GoalFood = model_GoalFood.to(DEVICE)\n",
    "\n",
    "optimizer_GoalFoodModel = optim.Adam(model_GoalFood.parameters(), lr = 1e-4)"
   ]
  },
  {
   "cell_type": "markdown",
   "metadata": {},
   "source": [
    "### Requested Model"
   ]
  },
  {
   "cell_type": "code",
   "execution_count": 13,
   "metadata": {},
   "outputs": [],
   "source": [
    "class RequestedModel(nn.Module):\n",
    "    \n",
    "    def __init__(self,\n",
    "                 vocabulary_size,\n",
    "                 embedding_dim,\n",
    "                 altered_embedding_dim,\n",
    "                 hidden_dim,\n",
    "                 requested_dim,\n",
    "                 device):\n",
    "        \n",
    "        super(RequestedModel, self).__init__()\n",
    "        \n",
    "        self.hidden_dim = hidden_dim\n",
    "        self.requested_dim = requested_dim\n",
    "        self.device = device\n",
    "        \n",
    "        self.embeddings = nn.Embedding(num_embeddings = vocabulary_size,\n",
    "                                       embedding_dim = embedding_dim)\n",
    "        \n",
    "        self.altered_embeddings = nn.Linear(in_features = (embedding_dim + 1),\n",
    "                                            out_features = altered_embedding_dim)\n",
    "        \n",
    "        self.lstm = nn.LSTM(input_size = altered_embedding_dim,\n",
    "                            hidden_size = hidden_dim)\n",
    "        \n",
    "        self.requested_classifier = nn.Linear(in_features = hidden_dim,\n",
    "                                              out_features = requested_dim)\n",
    "        \n",
    "        self.hidden = self.init_hidden()\n",
    "    \n",
    "    def init_hidden(self):\n",
    "        \n",
    "        return (torch.zeros(1, 1, self.hidden_dim, device = self.device),\n",
    "                torch.zeros(1, 1, self.hidden_dim, device = self.device))\n",
    "        \n",
    "    def forward(self, indices, scores):\n",
    "    \n",
    "        embeddings = self.embeddings(indices)\n",
    "        \n",
    "        embeddings_concat_score = torch.cat((embeddings, scores.unsqueeze(dim = 1)), dim = 1) \n",
    "        \n",
    "        altered_embeddings = F.relu(self.altered_embeddings(embeddings_concat_score))\n",
    "        \n",
    "        lstm_out, self.hidden = self.lstm(altered_embeddings.view(len(indices), 1, -1), self.hidden)\n",
    "        \n",
    "        requested = torch.sigmoid(self.requested_classifier(self.hidden[0]).view(-1, self.requested_dim))\n",
    "        \n",
    "        return requested\n",
    "\n",
    "model_Requested = RequestedModel(vocabulary_size = VOCABULARY_SIZE,\n",
    "                                 embedding_dim = EMBEDDING_DIM,\n",
    "                                 altered_embedding_dim = ALTERED_EMBEDDING_DIM,\n",
    "                                 hidden_dim = HIDDEN_DIM,\n",
    "                                 requested_dim = REQUESTED_DIM,\n",
    "                                 device = DEVICE)\n",
    "\n",
    "model_Requested = model_Requested.to(DEVICE)\n",
    "\n",
    "optimizer_RequestedModel = optim.Adam(model_Requested.parameters(), lr = 1e-4)"
   ]
  },
  {
   "cell_type": "markdown",
   "metadata": {},
   "source": [
    "### Method Model"
   ]
  },
  {
   "cell_type": "code",
   "execution_count": 14,
   "metadata": {},
   "outputs": [],
   "source": [
    "class MethodModel(nn.Module):\n",
    "    \n",
    "    def __init__(self,\n",
    "                 vocabulary_size,\n",
    "                 embedding_dim,\n",
    "                 altered_embedding_dim,\n",
    "                 hidden_dim,\n",
    "                 method_dim,\n",
    "                 device):\n",
    "        \n",
    "        super(MethodModel, self).__init__()\n",
    "        \n",
    "        self.hidden_dim = hidden_dim\n",
    "        self.method_dim = method_dim\n",
    "        self.device = device\n",
    "        \n",
    "        self.embeddings = nn.Embedding(num_embeddings = vocabulary_size,\n",
    "                                       embedding_dim = embedding_dim)\n",
    "        \n",
    "        self.altered_embeddings = nn.Linear(in_features = (embedding_dim + 1),\n",
    "                                            out_features = altered_embedding_dim)\n",
    "        \n",
    "        self.lstm = nn.LSTM(input_size = altered_embedding_dim,\n",
    "                            hidden_size = hidden_dim)\n",
    "        \n",
    "        self.method_classifier = nn.Linear(in_features = hidden_dim,\n",
    "                                           out_features = method_dim)\n",
    "        \n",
    "        self.hidden = self.init_hidden()\n",
    "    \n",
    "    def init_hidden(self):\n",
    "        \n",
    "        return (torch.zeros(1, 1, self.hidden_dim, device = self.device),\n",
    "                torch.zeros(1, 1, self.hidden_dim, device = self.device))\n",
    "        \n",
    "    def forward(self, indices, scores):\n",
    "    \n",
    "        embeddings = self.embeddings(indices)\n",
    "        \n",
    "        embeddings_concat_score = torch.cat((embeddings, scores.unsqueeze(dim = 1)), dim = 1) \n",
    "        \n",
    "        altered_embeddings = F.relu(self.altered_embeddings(embeddings_concat_score))\n",
    "        \n",
    "        lstm_out, self.hidden = self.lstm(altered_embeddings.view(len(indices), 1, -1), self.hidden)\n",
    "        \n",
    "        method = F.log_softmax(self.method_classifier(self.hidden[0]).view(-1, self.method_dim), dim = 1)\n",
    "        \n",
    "        return method\n",
    "\n",
    "model_Method = MethodModel(vocabulary_size = VOCABULARY_SIZE,\n",
    "                           embedding_dim = EMBEDDING_DIM,\n",
    "                           altered_embedding_dim = ALTERED_EMBEDDING_DIM,\n",
    "                           hidden_dim = HIDDEN_DIM,\n",
    "                           method_dim = METHOD_DIM,\n",
    "                           device = DEVICE)\n",
    "\n",
    "model_Method = model_Method.to(DEVICE)\n",
    "\n",
    "optimizer_MethodModel = optim.Adam(model_Method.parameters(), lr = 1e-4)"
   ]
  },
  {
   "cell_type": "markdown",
   "metadata": {},
   "source": [
    "### Train Goal Pricerange Model"
   ]
  },
  {
   "cell_type": "code",
   "execution_count": 19,
   "metadata": {
    "scrolled": false
   },
   "outputs": [
    {
     "name": "stderr",
     "output_type": "stream",
     "text": [
      "INFO:root:Epoch\t1/30\n"
     ]
    },
    {
     "data": {
      "application/vnd.jupyter.widget-view+json": {
       "model_id": "2dfe960fddb0470aaffa370fe1d562c3",
       "version_major": 2,
       "version_minor": 0
      },
      "text/plain": [
       "HBox(children=(IntProgress(value=0, max=3224), HTML(value='')))"
      ]
     },
     "metadata": {},
     "output_type": "display_data"
    },
    {
     "data": {
      "application/vnd.jupyter.widget-view+json": {
       "model_id": "8dfdd95acbed4704b1487e73b746e0b2",
       "version_major": 2,
       "version_minor": 0
      },
      "text/plain": [
       "HBox(children=(IntProgress(value=0, max=506), HTML(value='')))"
      ]
     },
     "metadata": {},
     "output_type": "display_data"
    },
    {
     "name": "stderr",
     "output_type": "stream",
     "text": [
      "INFO:root:DEV Acc:\t\t0.0331074(0.03)\t\t0.3371799(0.34)\t\t0.1714951(0.17)\n",
      "INFO:root:DEV L2:\t\t0.9887474(0.99)\t\t0.8012731(0.8)\t\t0.8512001(0.85)\n"
     ]
    },
    {
     "data": {
      "application/vnd.jupyter.widget-view+json": {
       "model_id": "714e4fbc835c40ada093ea1ced454a3a",
       "version_major": 2,
       "version_minor": 0
      },
      "text/plain": [
       "HBox(children=(IntProgress(value=0, max=1117), HTML(value='')))"
      ]
     },
     "metadata": {},
     "output_type": "display_data"
    },
    {
     "name": "stderr",
     "output_type": "stream",
     "text": [
      "INFO:root:TEST Acc:\t\t0.0268346(0.03)\t\t0.2880708(0.29)\t\t0.1840107(0.18)\n",
      "INFO:root:TEST L2:\t\t0.991488(0.99)\t\t0.800123(0.8)\t\t0.9121297(0.91)\n",
      "INFO:root:Epoch\t2/30\n"
     ]
    },
    {
     "data": {
      "application/vnd.jupyter.widget-view+json": {
       "model_id": "3130751f9a034c83a8e4aa533c22c8fd",
       "version_major": 2,
       "version_minor": 0
      },
      "text/plain": [
       "HBox(children=(IntProgress(value=0, max=3224), HTML(value='')))"
      ]
     },
     "metadata": {},
     "output_type": "display_data"
    },
    {
     "data": {
      "application/vnd.jupyter.widget-view+json": {
       "model_id": "6064a8628a084eae91f2f265cc670fd4",
       "version_major": 2,
       "version_minor": 0
      },
      "text/plain": [
       "HBox(children=(IntProgress(value=0, max=506), HTML(value='')))"
      ]
     },
     "metadata": {},
     "output_type": "display_data"
    },
    {
     "name": "stderr",
     "output_type": "stream",
     "text": [
      "INFO:root:DEV Acc:\t\t0.032586(0.03)\t\t0.3371799(0.34)\t\t0.1714951(0.17)\n",
      "INFO:root:DEV L2:\t\t0.9886848(0.99)\t\t0.8012731(0.8)\t\t0.8512001(0.85)\n"
     ]
    },
    {
     "data": {
      "application/vnd.jupyter.widget-view+json": {
       "model_id": "4500e956faf746cbbded6d86eed8be73",
       "version_major": 2,
       "version_minor": 0
      },
      "text/plain": [
       "HBox(children=(IntProgress(value=0, max=1117), HTML(value='')))"
      ]
     },
     "metadata": {},
     "output_type": "display_data"
    },
    {
     "name": "stderr",
     "output_type": "stream",
     "text": [
      "INFO:root:TEST Acc:\t\t0.0269378(0.03)\t\t0.2880708(0.29)\t\t0.1840107(0.18)\n",
      "INFO:root:TEST L2:\t\t0.9911362(0.99)\t\t0.800123(0.8)\t\t0.9121297(0.91)\n",
      "INFO:root:Epoch\t3/30\n"
     ]
    },
    {
     "data": {
      "application/vnd.jupyter.widget-view+json": {
       "model_id": "29bf6eb596d647e1a6bf68bde7a03859",
       "version_major": 2,
       "version_minor": 0
      },
      "text/plain": [
       "HBox(children=(IntProgress(value=0, max=3224), HTML(value='')))"
      ]
     },
     "metadata": {},
     "output_type": "display_data"
    },
    {
     "data": {
      "application/vnd.jupyter.widget-view+json": {
       "model_id": "14a61c659200433f863fcc38b13eb280",
       "version_major": 2,
       "version_minor": 0
      },
      "text/plain": [
       "HBox(children=(IntProgress(value=0, max=506), HTML(value='')))"
      ]
     },
     "metadata": {},
     "output_type": "display_data"
    },
    {
     "name": "stderr",
     "output_type": "stream",
     "text": [
      "INFO:root:DEV Acc:\t\t0.0331074(0.03)\t\t0.3371799(0.34)\t\t0.1714951(0.17)\n",
      "INFO:root:DEV L2:\t\t0.9885967(0.99)\t\t0.8012731(0.8)\t\t0.8512001(0.85)\n"
     ]
    },
    {
     "data": {
      "application/vnd.jupyter.widget-view+json": {
       "model_id": "fba29107714e4c7b9a1c5d05e099c775",
       "version_major": 2,
       "version_minor": 0
      },
      "text/plain": [
       "HBox(children=(IntProgress(value=0, max=1117), HTML(value='')))"
      ]
     },
     "metadata": {},
     "output_type": "display_data"
    },
    {
     "name": "stderr",
     "output_type": "stream",
     "text": [
      "INFO:root:TEST Acc:\t\t0.0271442(0.03)\t\t0.2880708(0.29)\t\t0.1840107(0.18)\n",
      "INFO:root:TEST L2:\t\t0.9911907(0.99)\t\t0.800123(0.8)\t\t0.9121297(0.91)\n",
      "INFO:root:Epoch\t4/30\n"
     ]
    },
    {
     "data": {
      "application/vnd.jupyter.widget-view+json": {
       "model_id": "2f56e2d6f1134292a44c40d8c45cea79",
       "version_major": 2,
       "version_minor": 0
      },
      "text/plain": [
       "HBox(children=(IntProgress(value=0, max=3224), HTML(value='')))"
      ]
     },
     "metadata": {},
     "output_type": "display_data"
    },
    {
     "data": {
      "application/vnd.jupyter.widget-view+json": {
       "model_id": "4998591ca2064c558bc34de42781a614",
       "version_major": 2,
       "version_minor": 0
      },
      "text/plain": [
       "HBox(children=(IntProgress(value=0, max=506), HTML(value='')))"
      ]
     },
     "metadata": {},
     "output_type": "display_data"
    },
    {
     "name": "stderr",
     "output_type": "stream",
     "text": [
      "INFO:root:DEV Acc:\t\t0.0331074(0.03)\t\t0.3371799(0.34)\t\t0.1714951(0.17)\n",
      "INFO:root:DEV L2:\t\t0.988693(0.99)\t\t0.8012731(0.8)\t\t0.8512001(0.85)\n"
     ]
    },
    {
     "data": {
      "application/vnd.jupyter.widget-view+json": {
       "model_id": "060f73df6f2c49b099b845f37253838d",
       "version_major": 2,
       "version_minor": 0
      },
      "text/plain": [
       "HBox(children=(IntProgress(value=0, max=1117), HTML(value='')))"
      ]
     },
     "metadata": {},
     "output_type": "display_data"
    },
    {
     "name": "stderr",
     "output_type": "stream",
     "text": [
      "INFO:root:TEST Acc:\t\t0.0272474(0.03)\t\t0.2880708(0.29)\t\t0.1840107(0.18)\n",
      "INFO:root:TEST L2:\t\t0.9914716(0.99)\t\t0.800123(0.8)\t\t0.9121297(0.91)\n"
     ]
    },
    {
     "data": {
      "application/vnd.plotly.v1+json": {
       "config": {
        "linkText": "Export to plot.ly",
        "plotlyServerURL": "https://plot.ly",
        "showLink": false
       },
       "data": [
        {
         "marker": {
          "color": "#3498db"
         },
         "mode": "lines+markers",
         "name": "Dev Goal Accuracy",
         "type": "scatter",
         "uid": "fab91e0c-7bf1-4b28-9b14-7d5077af8ff9",
         "x": [
          0,
          1,
          2,
          3
         ],
         "y": [
          0.0331074,
          0.032586,
          0.0331074,
          0.0331074
         ]
        },
        {
         "marker": {
          "color": "#9b59b6"
         },
         "mode": "lines+markers",
         "name": "Test Goal Accuracy",
         "type": "scatter",
         "uid": "954e93f5-1205-47e7-b0d1-7d49d5c6222d",
         "x": [
          0,
          1,
          2,
          3
         ],
         "y": [
          0.0268346,
          0.0269378,
          0.0271442,
          0.0272474
         ]
        }
       ],
       "layout": {
        "margin": {
         "b": 150
        },
        "title": {
         "text": "<b>Dev-Test Goal Accuracy</b>"
        },
        "xaxis": {
         "dtick": 1,
         "title": {
          "font": {
           "color": "#34495e"
          },
          "text": "<b>Epoch</b>"
         }
        },
        "yaxis": {
         "title": {
          "font": {
           "color": "#34495e"
          },
          "text": "<b>Accuracy</b>"
         }
        }
       }
      },
      "text/html": [
       "<div id=\"f6bc81cc-7c3d-4d6e-9859-4967b7a81c87\" style=\"height: 525px; width: 100%;\" class=\"plotly-graph-div\"></div><script type=\"text/javascript\">require([\"plotly\"], function(Plotly) { window.PLOTLYENV=window.PLOTLYENV || {};window.PLOTLYENV.BASE_URL=\"https://plot.ly\";Plotly.newPlot(\"f6bc81cc-7c3d-4d6e-9859-4967b7a81c87\", [{\"marker\": {\"color\": \"#3498db\"}, \"mode\": \"lines+markers\", \"name\": \"Dev Goal Accuracy\", \"x\": [0, 1, 2, 3], \"y\": [0.0331074, 0.032586, 0.0331074, 0.0331074], \"type\": \"scatter\", \"uid\": \"e9dc9cc8-0e10-4c65-9844-428b2badd8f5\"}, {\"marker\": {\"color\": \"#9b59b6\"}, \"mode\": \"lines+markers\", \"name\": \"Test Goal Accuracy\", \"x\": [0, 1, 2, 3], \"y\": [0.0268346, 0.0269378, 0.0271442, 0.0272474], \"type\": \"scatter\", \"uid\": \"232ceb15-9bc4-416f-80aa-8e90b9006e2a\"}], {\"margin\": {\"b\": 150}, \"title\": {\"text\": \"<b>Dev-Test Goal Accuracy</b>\"}, \"xaxis\": {\"dtick\": 1, \"title\": {\"font\": {\"color\": \"#34495e\"}, \"text\": \"<b>Epoch</b>\"}}, \"yaxis\": {\"title\": {\"font\": {\"color\": \"#34495e\"}, \"text\": \"<b>Accuracy</b>\"}}}, {\"showLink\": false, \"linkText\": \"Export to plot.ly\", \"plotlyServerURL\": \"https://plot.ly\"})});</script><script type=\"text/javascript\">window.addEventListener(\"resize\", function(){window._Plotly.Plots.resize(document.getElementById(\"f6bc81cc-7c3d-4d6e-9859-4967b7a81c87\"));});</script>"
      ],
      "text/vnd.plotly.v1+html": [
       "<div id=\"f6bc81cc-7c3d-4d6e-9859-4967b7a81c87\" style=\"height: 525px; width: 100%;\" class=\"plotly-graph-div\"></div><script type=\"text/javascript\">require([\"plotly\"], function(Plotly) { window.PLOTLYENV=window.PLOTLYENV || {};window.PLOTLYENV.BASE_URL=\"https://plot.ly\";Plotly.newPlot(\"f6bc81cc-7c3d-4d6e-9859-4967b7a81c87\", [{\"marker\": {\"color\": \"#3498db\"}, \"mode\": \"lines+markers\", \"name\": \"Dev Goal Accuracy\", \"x\": [0, 1, 2, 3], \"y\": [0.0331074, 0.032586, 0.0331074, 0.0331074], \"type\": \"scatter\", \"uid\": \"e9dc9cc8-0e10-4c65-9844-428b2badd8f5\"}, {\"marker\": {\"color\": \"#9b59b6\"}, \"mode\": \"lines+markers\", \"name\": \"Test Goal Accuracy\", \"x\": [0, 1, 2, 3], \"y\": [0.0268346, 0.0269378, 0.0271442, 0.0272474], \"type\": \"scatter\", \"uid\": \"232ceb15-9bc4-416f-80aa-8e90b9006e2a\"}], {\"margin\": {\"b\": 150}, \"title\": {\"text\": \"<b>Dev-Test Goal Accuracy</b>\"}, \"xaxis\": {\"dtick\": 1, \"title\": {\"font\": {\"color\": \"#34495e\"}, \"text\": \"<b>Epoch</b>\"}}, \"yaxis\": {\"title\": {\"font\": {\"color\": \"#34495e\"}, \"text\": \"<b>Accuracy</b>\"}}}, {\"showLink\": false, \"linkText\": \"Export to plot.ly\", \"plotlyServerURL\": \"https://plot.ly\"})});</script><script type=\"text/javascript\">window.addEventListener(\"resize\", function(){window._Plotly.Plots.resize(document.getElementById(\"f6bc81cc-7c3d-4d6e-9859-4967b7a81c87\"));});</script>"
      ]
     },
     "metadata": {},
     "output_type": "display_data"
    }
   ],
   "source": [
    "dev_goal_accuracies = []\n",
    "dev_requested_accuracies = []\n",
    "dev_method_accuracies = []\n",
    "\n",
    "test_goal_accuracies = []\n",
    "test_requested_accuracies = []\n",
    "test_method_accuracies = []\n",
    "\n",
    "goal_pricerange_early_stopping = EarlyStopping(patience = 2)\n",
    "\n",
    "train_indices = np.arange(raw_X_train.shape[0])\n",
    "\n",
    "for epoch in range(NUM_EPOCHS):\n",
    "    \n",
    "    np.random.shuffle(train_indices)\n",
    "    \n",
    "    logging.info(\"Epoch\\t{}/{}\".format(epoch + 1, NUM_EPOCHS))\n",
    "    \n",
    "    model_GoalPricerange = model_GoalPricerange.train()\n",
    "    \n",
    "    for raw_X_train_dialog, raw_Y_train_dialog in tqdm_notebook(zip(raw_X_train[train_indices], raw_Y_train[train_indices]), total = len(raw_X_train)):\n",
    "\n",
    "        model_GoalPricerange.hidden = model_GoalPricerange.init_hidden()\n",
    "                \n",
    "        for raw_X_train_turn, raw_Y_train_turn in zip(raw_X_train_dialog[\"turns\"], raw_Y_train_dialog[\"turns\"]):\n",
    "            \n",
    "            optimizer_GoalPricerangeModel.zero_grad()\n",
    "            \n",
    "            indices, scores = get_index_and_score(raw_X_train_turn, token_to_index, mode = \"train\", device = DEVICE)\n",
    "            \n",
    "            goal_pricerange = model_GoalPricerange(indices, scores)\n",
    "            \n",
    "            loss_goal_pricerange = GOAL_LOSS_FUNCTION(goal_pricerange,\n",
    "                                                      retrieve_gold_GoalPriceRange(raw_Y_train_turn,\n",
    "                                                                                   ontology = ontology,\n",
    "                                                                                   device = DEVICE))\n",
    "            loss_goal_pricerange.backward(retain_graph = True)\n",
    "            \n",
    "            optimizer_GoalPricerangeModel.step()\n",
    "    \n",
    "    dev_goal_accuracy, \\\n",
    "    dev_goal_l2, \\\n",
    "    dev_requested_accuracy, \\\n",
    "    dev_requested_l2, \\\n",
    "    dev_method_accuracy, \\\n",
    "    dev_method_l2 = get_scores(model_GoalPricerange,\n",
    "                               model_GoalArea,\n",
    "                               model_GoalName,\n",
    "                               model_GoalFood,\n",
    "                               model_Requested,\n",
    "                               model_Method,\n",
    "                               raw_X_dev, raw_Y_dev, dataset = \"dstc2_dev\")\n",
    "    logging.info(\"DEV Acc:\\t\\t{}({})\\t\\t{}({})\\t\\t{}({})\".format(dev_goal_accuracy,\n",
    "                                                                 np.around(dev_goal_accuracy, decimals = 2),\n",
    "                                                                 dev_requested_accuracy,\n",
    "                                                                 np.around(dev_requested_accuracy, decimals = 2),\n",
    "                                                                 dev_method_accuracy,\n",
    "                                                                 np.around(dev_method_accuracy, decimals = 2)))\n",
    "    logging.info(\"DEV L2:\\t\\t{}({})\\t\\t{}({})\\t\\t{}({})\".format(dev_goal_l2,\n",
    "                                                                np.around(dev_goal_l2, decimals = 2),\n",
    "                                                                dev_requested_l2,\n",
    "                                                                np.around(dev_requested_l2, decimals = 2),\n",
    "                                                                dev_method_l2,\n",
    "                                                                np.around(dev_method_l2, decimals = 2)))\n",
    "    dev_goal_accuracies.append(dev_goal_accuracy)\n",
    "    dev_requested_accuracies.append(dev_requested_accuracy)\n",
    "    dev_method_accuracies.append(dev_method_accuracy)\n",
    "\n",
    "    test_goal_accuracy, \\\n",
    "    test_goal_l2, \\\n",
    "    test_requested_accuracy, \\\n",
    "    test_requested_l2, \\\n",
    "    test_method_accuracy, \\\n",
    "    test_method_l2 = get_scores(model_GoalPricerange,\n",
    "                                model_GoalArea,\n",
    "                                model_GoalName,\n",
    "                                model_GoalFood,\n",
    "                                model_Requested,\n",
    "                                model_Method,\n",
    "                                raw_X_test, raw_Y_test, dataset = \"dstc2_test\")\n",
    "    logging.info(\"TEST Acc:\\t\\t{}({})\\t\\t{}({})\\t\\t{}({})\".format(test_goal_accuracy,\n",
    "                                                                  np.around(test_goal_accuracy, decimals = 2),\n",
    "                                                                  test_requested_accuracy,\n",
    "                                                                  np.around(test_requested_accuracy, decimals = 2),\n",
    "                                                                  test_method_accuracy,\n",
    "                                                                  np.around(test_method_accuracy, decimals = 2)))\n",
    "    logging.info(\"TEST L2:\\t\\t{}({})\\t\\t{}({})\\t\\t{}({})\".format(test_goal_l2,\n",
    "                                                                 np.around(test_goal_l2, decimals = 2),\n",
    "                                                                 test_requested_l2,\n",
    "                                                                 np.around(test_requested_l2, decimals = 2),\n",
    "                                                                 test_method_l2,\n",
    "                                                                 np.around(test_method_l2, decimals = 2)))\n",
    "    test_goal_accuracies.append(test_goal_accuracy)\n",
    "    test_requested_accuracies.append(test_requested_accuracy)\n",
    "    test_method_accuracies.append(test_method_accuracy)\n",
    "        \n",
    "    goal_pricerange_early_stopping.on_epoch_end(epoch = (epoch + 1), current_value = (dev_goal_accuracy))\n",
    "    \n",
    "    if goal_pricerange_early_stopping.wait == 0:\n",
    "        torch.save(model_GoalPricerange.state_dict(), \"model_PANFMR_GoalPricerange.pt\")\n",
    "    \n",
    "    if goal_pricerange_early_stopping.stop_training:\n",
    "        break\n",
    "\n",
    "plotly_plot(dev_goal_accuracies, test_goal_accuracies, \"Goal\")"
   ]
  },
  {
   "cell_type": "markdown",
   "metadata": {},
   "source": [
    "### Load Goal Pricerange Model"
   ]
  },
  {
   "cell_type": "code",
   "execution_count": 20,
   "metadata": {},
   "outputs": [
    {
     "data": {
      "text/plain": [
       "GoalPricerangeModel(\n",
       "  (embeddings): Embedding(1149, 170)\n",
       "  (altered_embeddings): Linear(in_features=171, out_features=300, bias=True)\n",
       "  (lstm): LSTM(300, 100)\n",
       "  (goal_pricerange_classifier): Linear(in_features=100, out_features=5, bias=True)\n",
       ")"
      ]
     },
     "execution_count": 20,
     "metadata": {},
     "output_type": "execute_result"
    }
   ],
   "source": [
    "model_GoalPricerange = GoalPricerangeModel(vocabulary_size = VOCABULARY_SIZE,\n",
    "                                           embedding_dim = EMBEDDING_DIM,\n",
    "                                           altered_embedding_dim = ALTERED_EMBEDDING_DIM,\n",
    "                                           hidden_dim = HIDDEN_DIM,\n",
    "                                           goal_pricerange_dim = GOAL_PRICERANGE_DIM,\n",
    "                                           device = DEVICE)\n",
    "\n",
    "model_GoalPricerange = model_GoalPricerange.to(DEVICE)\n",
    "model_GoalPricerange.load_state_dict(torch.load(\"model_PANFMR_GoalPricerange.pt\"))\n",
    "model_GoalPricerange.eval()"
   ]
  },
  {
   "cell_type": "markdown",
   "metadata": {},
   "source": [
    "### Print scores"
   ]
  },
  {
   "cell_type": "code",
   "execution_count": 21,
   "metadata": {},
   "outputs": [
    {
     "data": {
      "application/vnd.jupyter.widget-view+json": {
       "model_id": "52b4ad2574604287a4d2c6d23e1994e1",
       "version_major": 2,
       "version_minor": 0
      },
      "text/plain": [
       "HBox(children=(IntProgress(value=0, max=506), HTML(value='')))"
      ]
     },
     "metadata": {},
     "output_type": "display_data"
    },
    {
     "data": {
      "text/plain": [
       "(0.0331074, 0.9887474, 0.3371799, 0.8012731, 0.1714951, 0.8512001)"
      ]
     },
     "execution_count": 21,
     "metadata": {},
     "output_type": "execute_result"
    }
   ],
   "source": [
    "get_scores(model_GoalPricerange,\n",
    "           model_GoalArea,\n",
    "           model_GoalName,\n",
    "           model_GoalFood,\n",
    "           model_Requested,\n",
    "           model_Method,\n",
    "           raw_X_dev, raw_Y_dev, dataset = \"dstc2_dev\")"
   ]
  },
  {
   "cell_type": "code",
   "execution_count": 22,
   "metadata": {},
   "outputs": [
    {
     "data": {
      "application/vnd.jupyter.widget-view+json": {
       "model_id": "3378073e9739410cbf8477433726a5f5",
       "version_major": 2,
       "version_minor": 0
      },
      "text/plain": [
       "HBox(children=(IntProgress(value=0, max=1117), HTML(value='')))"
      ]
     },
     "metadata": {},
     "output_type": "display_data"
    },
    {
     "data": {
      "text/plain": [
       "(0.0268346, 0.991488, 0.2880708, 0.800123, 0.1840107, 0.9121297)"
      ]
     },
     "execution_count": 22,
     "metadata": {},
     "output_type": "execute_result"
    }
   ],
   "source": [
    "get_scores(model_GoalPricerange,\n",
    "           model_GoalArea,\n",
    "           model_GoalName,\n",
    "           model_GoalFood,\n",
    "           model_Requested,\n",
    "           model_Method,\n",
    "           raw_X_test, raw_Y_test, dataset = \"dstc2_test\")"
   ]
  },
  {
   "cell_type": "markdown",
   "metadata": {},
   "source": [
    "### Train Goal Area Model"
   ]
  },
  {
   "cell_type": "code",
   "execution_count": 23,
   "metadata": {
    "scrolled": false
   },
   "outputs": [
    {
     "name": "stderr",
     "output_type": "stream",
     "text": [
      "INFO:root:Epoch\t1/30\n"
     ]
    },
    {
     "data": {
      "application/vnd.jupyter.widget-view+json": {
       "model_id": "7831a94396d8473592134641c0543b1d",
       "version_major": 2,
       "version_minor": 0
      },
      "text/plain": [
       "HBox(children=(IntProgress(value=0, max=3224), HTML(value='')))"
      ]
     },
     "metadata": {},
     "output_type": "display_data"
    },
    {
     "data": {
      "application/vnd.jupyter.widget-view+json": {
       "model_id": "21818e01d1374b839f8add111ec74715",
       "version_major": 2,
       "version_minor": 0
      },
      "text/plain": [
       "HBox(children=(IntProgress(value=0, max=506), HTML(value='')))"
      ]
     },
     "metadata": {},
     "output_type": "display_data"
    },
    {
     "name": "stderr",
     "output_type": "stream",
     "text": [
      "INFO:root:DEV Acc:\t\t0.1908238(0.19)\t\t0.3371799(0.34)\t\t0.1714951(0.17)\n",
      "INFO:root:DEV L2:\t\t0.9328875(0.93)\t\t0.8012731(0.8)\t\t0.8512001(0.85)\n"
     ]
    },
    {
     "data": {
      "application/vnd.jupyter.widget-view+json": {
       "model_id": "33a0b7ec30a44243b22b37af492faa6f",
       "version_major": 2,
       "version_minor": 0
      },
      "text/plain": [
       "HBox(children=(IntProgress(value=0, max=1117), HTML(value='')))"
      ]
     },
     "metadata": {},
     "output_type": "display_data"
    },
    {
     "name": "stderr",
     "output_type": "stream",
     "text": [
      "INFO:root:TEST Acc:\t\t0.2006399(0.2)\t\t0.2880708(0.29)\t\t0.1840107(0.18)\n",
      "INFO:root:TEST L2:\t\t0.9465313(0.95)\t\t0.800123(0.8)\t\t0.9121297(0.91)\n",
      "INFO:root:Epoch\t2/30\n"
     ]
    },
    {
     "data": {
      "application/vnd.jupyter.widget-view+json": {
       "model_id": "092a45bdf72e46e1bccc17f57d25127a",
       "version_major": 2,
       "version_minor": 0
      },
      "text/plain": [
       "HBox(children=(IntProgress(value=0, max=3224), HTML(value='')))"
      ]
     },
     "metadata": {},
     "output_type": "display_data"
    },
    {
     "data": {
      "application/vnd.jupyter.widget-view+json": {
       "model_id": "8443eb3ccd434a3eaa9166f72a05b1ab",
       "version_major": 2,
       "version_minor": 0
      },
      "text/plain": [
       "HBox(children=(IntProgress(value=0, max=506), HTML(value='')))"
      ]
     },
     "metadata": {},
     "output_type": "display_data"
    },
    {
     "name": "stderr",
     "output_type": "stream",
     "text": [
      "INFO:root:DEV Acc:\t\t0.1913452(0.19)\t\t0.3371799(0.34)\t\t0.1714951(0.17)\n",
      "INFO:root:DEV L2:\t\t0.9321382(0.93)\t\t0.8012731(0.8)\t\t0.8512001(0.85)\n"
     ]
    },
    {
     "data": {
      "application/vnd.jupyter.widget-view+json": {
       "model_id": "620bbe5afae3408aa9e33f97452e2b7f",
       "version_major": 2,
       "version_minor": 0
      },
      "text/plain": [
       "HBox(children=(IntProgress(value=0, max=1117), HTML(value='')))"
      ]
     },
     "metadata": {},
     "output_type": "display_data"
    },
    {
     "name": "stderr",
     "output_type": "stream",
     "text": [
      "INFO:root:TEST Acc:\t\t0.2094127(0.21)\t\t0.2880708(0.29)\t\t0.1840107(0.18)\n",
      "INFO:root:TEST L2:\t\t0.9437196(0.94)\t\t0.800123(0.8)\t\t0.9121297(0.91)\n",
      "INFO:root:Epoch\t3/30\n"
     ]
    },
    {
     "data": {
      "application/vnd.jupyter.widget-view+json": {
       "model_id": "7a6b193486064ca7bc6c04fee164d8e2",
       "version_major": 2,
       "version_minor": 0
      },
      "text/plain": [
       "HBox(children=(IntProgress(value=0, max=3224), HTML(value='')))"
      ]
     },
     "metadata": {},
     "output_type": "display_data"
    },
    {
     "data": {
      "application/vnd.jupyter.widget-view+json": {
       "model_id": "92b29b2b40fc4fb884da4d9f68d2750d",
       "version_major": 2,
       "version_minor": 0
      },
      "text/plain": [
       "HBox(children=(IntProgress(value=0, max=506), HTML(value='')))"
      ]
     },
     "metadata": {},
     "output_type": "display_data"
    },
    {
     "name": "stderr",
     "output_type": "stream",
     "text": [
      "INFO:root:DEV Acc:\t\t0.1874348(0.19)\t\t0.3371799(0.34)\t\t0.1714951(0.17)\n",
      "INFO:root:DEV L2:\t\t0.9365271(0.94)\t\t0.8012731(0.8)\t\t0.8512001(0.85)\n"
     ]
    },
    {
     "data": {
      "application/vnd.jupyter.widget-view+json": {
       "model_id": "af1c849614c943bfbf3e3278d4ae1f19",
       "version_major": 2,
       "version_minor": 0
      },
      "text/plain": [
       "HBox(children=(IntProgress(value=0, max=1117), HTML(value='')))"
      ]
     },
     "metadata": {},
     "output_type": "display_data"
    },
    {
     "name": "stderr",
     "output_type": "stream",
     "text": [
      "INFO:root:TEST Acc:\t\t0.2013624(0.2)\t\t0.2880708(0.29)\t\t0.1840107(0.18)\n",
      "INFO:root:TEST L2:\t\t0.9476569(0.95)\t\t0.800123(0.8)\t\t0.9121297(0.91)\n",
      "INFO:root:Epoch\t4/30\n"
     ]
    },
    {
     "data": {
      "application/vnd.jupyter.widget-view+json": {
       "model_id": "a2716d115a0d4a08b5568744a51bc9de",
       "version_major": 2,
       "version_minor": 0
      },
      "text/plain": [
       "HBox(children=(IntProgress(value=0, max=3224), HTML(value='')))"
      ]
     },
     "metadata": {},
     "output_type": "display_data"
    },
    {
     "data": {
      "application/vnd.jupyter.widget-view+json": {
       "model_id": "49c0c7e7862a4f18b406a241e4ce922b",
       "version_major": 2,
       "version_minor": 0
      },
      "text/plain": [
       "HBox(children=(IntProgress(value=0, max=506), HTML(value='')))"
      ]
     },
     "metadata": {},
     "output_type": "display_data"
    },
    {
     "name": "stderr",
     "output_type": "stream",
     "text": [
      "INFO:root:DEV Acc:\t\t0.1916058(0.19)\t\t0.3371799(0.34)\t\t0.1714951(0.17)\n",
      "INFO:root:DEV L2:\t\t0.9331255(0.93)\t\t0.8012731(0.8)\t\t0.8512001(0.85)\n"
     ]
    },
    {
     "data": {
      "application/vnd.jupyter.widget-view+json": {
       "model_id": "164bd73ed8f7470f8519a64b27955371",
       "version_major": 2,
       "version_minor": 0
      },
      "text/plain": [
       "HBox(children=(IntProgress(value=0, max=1117), HTML(value='')))"
      ]
     },
     "metadata": {},
     "output_type": "display_data"
    },
    {
     "name": "stderr",
     "output_type": "stream",
     "text": [
      "INFO:root:TEST Acc:\t\t0.2037362(0.2)\t\t0.2880708(0.29)\t\t0.1840107(0.18)\n",
      "INFO:root:TEST L2:\t\t0.946107(0.95)\t\t0.800123(0.8)\t\t0.9121297(0.91)\n",
      "INFO:root:Epoch\t5/30\n"
     ]
    },
    {
     "data": {
      "application/vnd.jupyter.widget-view+json": {
       "model_id": "a5e99f7729d74673b83bc8345e846d2b",
       "version_major": 2,
       "version_minor": 0
      },
      "text/plain": [
       "HBox(children=(IntProgress(value=0, max=3224), HTML(value='')))"
      ]
     },
     "metadata": {},
     "output_type": "display_data"
    },
    {
     "data": {
      "application/vnd.jupyter.widget-view+json": {
       "model_id": "a53e9c438c364884822959e0b29552fb",
       "version_major": 2,
       "version_minor": 0
      },
      "text/plain": [
       "HBox(children=(IntProgress(value=0, max=506), HTML(value='')))"
      ]
     },
     "metadata": {},
     "output_type": "display_data"
    },
    {
     "name": "stderr",
     "output_type": "stream",
     "text": [
      "INFO:root:DEV Acc:\t\t0.1952555(0.2)\t\t0.3371799(0.34)\t\t0.1714951(0.17)\n",
      "INFO:root:DEV L2:\t\t0.9304985(0.93)\t\t0.8012731(0.8)\t\t0.8512001(0.85)\n"
     ]
    },
    {
     "data": {
      "application/vnd.jupyter.widget-view+json": {
       "model_id": "3f7cea55ce2c4740aea89f8d738c080f",
       "version_major": 2,
       "version_minor": 0
      },
      "text/plain": [
       "HBox(children=(IntProgress(value=0, max=1117), HTML(value='')))"
      ]
     },
     "metadata": {},
     "output_type": "display_data"
    },
    {
     "name": "stderr",
     "output_type": "stream",
     "text": [
      "INFO:root:TEST Acc:\t\t0.2104448(0.21)\t\t0.2880708(0.29)\t\t0.1840107(0.18)\n",
      "INFO:root:TEST L2:\t\t0.9426566(0.94)\t\t0.800123(0.8)\t\t0.9121297(0.91)\n",
      "INFO:root:Epoch\t6/30\n"
     ]
    },
    {
     "data": {
      "application/vnd.jupyter.widget-view+json": {
       "model_id": "b54c82db16454ce0b78a77d3a5bce827",
       "version_major": 2,
       "version_minor": 0
      },
      "text/plain": [
       "HBox(children=(IntProgress(value=0, max=3224), HTML(value='')))"
      ]
     },
     "metadata": {},
     "output_type": "display_data"
    },
    {
     "data": {
      "application/vnd.jupyter.widget-view+json": {
       "model_id": "e72969ff3061463381ce93b19e4c76ad",
       "version_major": 2,
       "version_minor": 0
      },
      "text/plain": [
       "HBox(children=(IntProgress(value=0, max=506), HTML(value='')))"
      ]
     },
     "metadata": {},
     "output_type": "display_data"
    },
    {
     "name": "stderr",
     "output_type": "stream",
     "text": [
      "INFO:root:DEV Acc:\t\t0.1929093(0.19)\t\t0.3371799(0.34)\t\t0.1714951(0.17)\n",
      "INFO:root:DEV L2:\t\t0.9328862(0.93)\t\t0.8012731(0.8)\t\t0.8512001(0.85)\n"
     ]
    },
    {
     "data": {
      "application/vnd.jupyter.widget-view+json": {
       "model_id": "71bc9bc462aa42a7b525c30cf55be0a3",
       "version_major": 2,
       "version_minor": 0
      },
      "text/plain": [
       "HBox(children=(IntProgress(value=0, max=1117), HTML(value='')))"
      ]
     },
     "metadata": {},
     "output_type": "display_data"
    },
    {
     "name": "stderr",
     "output_type": "stream",
     "text": [
      "INFO:root:TEST Acc:\t\t0.2064197(0.21)\t\t0.2880708(0.29)\t\t0.1840107(0.18)\n",
      "INFO:root:TEST L2:\t\t0.9451021(0.95)\t\t0.800123(0.8)\t\t0.9121297(0.91)\n",
      "INFO:root:Epoch\t7/30\n"
     ]
    },
    {
     "data": {
      "application/vnd.jupyter.widget-view+json": {
       "model_id": "67ccf9c5f2214f399963e34d2cb1f896",
       "version_major": 2,
       "version_minor": 0
      },
      "text/plain": [
       "HBox(children=(IntProgress(value=0, max=3224), HTML(value='')))"
      ]
     },
     "metadata": {},
     "output_type": "display_data"
    },
    {
     "data": {
      "application/vnd.jupyter.widget-view+json": {
       "model_id": "42a3bdcf9d6b4d5aa53c735ae2988f6d",
       "version_major": 2,
       "version_minor": 0
      },
      "text/plain": [
       "HBox(children=(IntProgress(value=0, max=506), HTML(value='')))"
      ]
     },
     "metadata": {},
     "output_type": "display_data"
    },
    {
     "name": "stderr",
     "output_type": "stream",
     "text": [
      "INFO:root:DEV Acc:\t\t0.1916058(0.19)\t\t0.3371799(0.34)\t\t0.1714951(0.17)\n",
      "INFO:root:DEV L2:\t\t0.9333786(0.93)\t\t0.8012731(0.8)\t\t0.8512001(0.85)\n"
     ]
    },
    {
     "data": {
      "application/vnd.jupyter.widget-view+json": {
       "model_id": "276515f82f904723a79bf8c8eb97cbab",
       "version_major": 2,
       "version_minor": 0
      },
      "text/plain": [
       "HBox(children=(IntProgress(value=0, max=1117), HTML(value='')))"
      ]
     },
     "metadata": {},
     "output_type": "display_data"
    },
    {
     "name": "stderr",
     "output_type": "stream",
     "text": [
      "INFO:root:TEST Acc:\t\t0.2094127(0.21)\t\t0.2880708(0.29)\t\t0.1840107(0.18)\n",
      "INFO:root:TEST L2:\t\t0.9452028(0.95)\t\t0.800123(0.8)\t\t0.9121297(0.91)\n",
      "INFO:root:Epoch\t8/30\n"
     ]
    },
    {
     "data": {
      "application/vnd.jupyter.widget-view+json": {
       "model_id": "f6fbc5b387d245e698c9bdc039f2776e",
       "version_major": 2,
       "version_minor": 0
      },
      "text/plain": [
       "HBox(children=(IntProgress(value=0, max=3224), HTML(value='')))"
      ]
     },
     "metadata": {},
     "output_type": "display_data"
    },
    {
     "data": {
      "application/vnd.jupyter.widget-view+json": {
       "model_id": "0a192427724f49f3a763c023601ae85f",
       "version_major": 2,
       "version_minor": 0
      },
      "text/plain": [
       "HBox(children=(IntProgress(value=0, max=506), HTML(value='')))"
      ]
     },
     "metadata": {},
     "output_type": "display_data"
    },
    {
     "name": "stderr",
     "output_type": "stream",
     "text": [
      "INFO:root:DEV Acc:\t\t0.1947341(0.19)\t\t0.3371799(0.34)\t\t0.1714951(0.17)\n",
      "INFO:root:DEV L2:\t\t0.9324695(0.93)\t\t0.8012731(0.8)\t\t0.8512001(0.85)\n"
     ]
    },
    {
     "data": {
      "application/vnd.jupyter.widget-view+json": {
       "model_id": "14be3d38a7144d08b4cfe01f98b2fcdc",
       "version_major": 2,
       "version_minor": 0
      },
      "text/plain": [
       "HBox(children=(IntProgress(value=0, max=1117), HTML(value='')))"
      ]
     },
     "metadata": {},
     "output_type": "display_data"
    },
    {
     "name": "stderr",
     "output_type": "stream",
     "text": [
      "INFO:root:TEST Acc:\t\t0.2104448(0.21)\t\t0.2880708(0.29)\t\t0.1840107(0.18)\n",
      "INFO:root:TEST L2:\t\t0.9428268(0.94)\t\t0.800123(0.8)\t\t0.9121297(0.91)\n"
     ]
    },
    {
     "data": {
      "application/vnd.plotly.v1+json": {
       "config": {
        "linkText": "Export to plot.ly",
        "plotlyServerURL": "https://plot.ly",
        "showLink": false
       },
       "data": [
        {
         "marker": {
          "color": "#3498db"
         },
         "mode": "lines+markers",
         "name": "Dev Goal Accuracy",
         "type": "scatter",
         "uid": "d7bb8693-06cf-410a-ace4-798989f3e558",
         "x": [
          0,
          1,
          2,
          3,
          4,
          5,
          6,
          7
         ],
         "y": [
          0.1908238,
          0.1913452,
          0.1874348,
          0.1916058,
          0.1952555,
          0.1929093,
          0.1916058,
          0.1947341
         ]
        },
        {
         "marker": {
          "color": "#9b59b6"
         },
         "mode": "lines+markers",
         "name": "Test Goal Accuracy",
         "type": "scatter",
         "uid": "9d7eb211-6dbc-4f86-9f1b-6437e88a0afd",
         "x": [
          0,
          1,
          2,
          3,
          4,
          5,
          6,
          7
         ],
         "y": [
          0.2006399,
          0.2094127,
          0.2013624,
          0.2037362,
          0.2104448,
          0.2064197,
          0.2094127,
          0.2104448
         ]
        }
       ],
       "layout": {
        "margin": {
         "b": 150
        },
        "title": {
         "text": "<b>Dev-Test Goal Accuracy</b>"
        },
        "xaxis": {
         "dtick": 1,
         "title": {
          "font": {
           "color": "#34495e"
          },
          "text": "<b>Epoch</b>"
         }
        },
        "yaxis": {
         "title": {
          "font": {
           "color": "#34495e"
          },
          "text": "<b>Accuracy</b>"
         }
        }
       }
      },
      "text/html": [
       "<div id=\"7bb75738-e741-4cb6-b096-7aeebf3bf243\" style=\"height: 525px; width: 100%;\" class=\"plotly-graph-div\"></div><script type=\"text/javascript\">require([\"plotly\"], function(Plotly) { window.PLOTLYENV=window.PLOTLYENV || {};window.PLOTLYENV.BASE_URL=\"https://plot.ly\";Plotly.newPlot(\"7bb75738-e741-4cb6-b096-7aeebf3bf243\", [{\"marker\": {\"color\": \"#3498db\"}, \"mode\": \"lines+markers\", \"name\": \"Dev Goal Accuracy\", \"x\": [0, 1, 2, 3, 4, 5, 6, 7], \"y\": [0.1908238, 0.1913452, 0.1874348, 0.1916058, 0.1952555, 0.1929093, 0.1916058, 0.1947341], \"type\": \"scatter\", \"uid\": \"415530e5-2ddb-458c-a4e4-e00b4d051743\"}, {\"marker\": {\"color\": \"#9b59b6\"}, \"mode\": \"lines+markers\", \"name\": \"Test Goal Accuracy\", \"x\": [0, 1, 2, 3, 4, 5, 6, 7], \"y\": [0.2006399, 0.2094127, 0.2013624, 0.2037362, 0.2104448, 0.2064197, 0.2094127, 0.2104448], \"type\": \"scatter\", \"uid\": \"26adfcec-40ff-40e9-9b8d-9e50c1a31462\"}], {\"margin\": {\"b\": 150}, \"title\": {\"text\": \"<b>Dev-Test Goal Accuracy</b>\"}, \"xaxis\": {\"dtick\": 1, \"title\": {\"font\": {\"color\": \"#34495e\"}, \"text\": \"<b>Epoch</b>\"}}, \"yaxis\": {\"title\": {\"font\": {\"color\": \"#34495e\"}, \"text\": \"<b>Accuracy</b>\"}}}, {\"showLink\": false, \"linkText\": \"Export to plot.ly\", \"plotlyServerURL\": \"https://plot.ly\"})});</script><script type=\"text/javascript\">window.addEventListener(\"resize\", function(){window._Plotly.Plots.resize(document.getElementById(\"7bb75738-e741-4cb6-b096-7aeebf3bf243\"));});</script>"
      ],
      "text/vnd.plotly.v1+html": [
       "<div id=\"7bb75738-e741-4cb6-b096-7aeebf3bf243\" style=\"height: 525px; width: 100%;\" class=\"plotly-graph-div\"></div><script type=\"text/javascript\">require([\"plotly\"], function(Plotly) { window.PLOTLYENV=window.PLOTLYENV || {};window.PLOTLYENV.BASE_URL=\"https://plot.ly\";Plotly.newPlot(\"7bb75738-e741-4cb6-b096-7aeebf3bf243\", [{\"marker\": {\"color\": \"#3498db\"}, \"mode\": \"lines+markers\", \"name\": \"Dev Goal Accuracy\", \"x\": [0, 1, 2, 3, 4, 5, 6, 7], \"y\": [0.1908238, 0.1913452, 0.1874348, 0.1916058, 0.1952555, 0.1929093, 0.1916058, 0.1947341], \"type\": \"scatter\", \"uid\": \"415530e5-2ddb-458c-a4e4-e00b4d051743\"}, {\"marker\": {\"color\": \"#9b59b6\"}, \"mode\": \"lines+markers\", \"name\": \"Test Goal Accuracy\", \"x\": [0, 1, 2, 3, 4, 5, 6, 7], \"y\": [0.2006399, 0.2094127, 0.2013624, 0.2037362, 0.2104448, 0.2064197, 0.2094127, 0.2104448], \"type\": \"scatter\", \"uid\": \"26adfcec-40ff-40e9-9b8d-9e50c1a31462\"}], {\"margin\": {\"b\": 150}, \"title\": {\"text\": \"<b>Dev-Test Goal Accuracy</b>\"}, \"xaxis\": {\"dtick\": 1, \"title\": {\"font\": {\"color\": \"#34495e\"}, \"text\": \"<b>Epoch</b>\"}}, \"yaxis\": {\"title\": {\"font\": {\"color\": \"#34495e\"}, \"text\": \"<b>Accuracy</b>\"}}}, {\"showLink\": false, \"linkText\": \"Export to plot.ly\", \"plotlyServerURL\": \"https://plot.ly\"})});</script><script type=\"text/javascript\">window.addEventListener(\"resize\", function(){window._Plotly.Plots.resize(document.getElementById(\"7bb75738-e741-4cb6-b096-7aeebf3bf243\"));});</script>"
      ]
     },
     "metadata": {},
     "output_type": "display_data"
    }
   ],
   "source": [
    "dev_goal_accuracies = []\n",
    "dev_requested_accuracies = []\n",
    "dev_method_accuracies = []\n",
    "\n",
    "test_goal_accuracies = []\n",
    "test_requested_accuracies = []\n",
    "test_method_accuracies = []\n",
    "\n",
    "goal_area_early_stopping = EarlyStopping(patience = 2)\n",
    "\n",
    "train_indices = np.arange(raw_X_train.shape[0])\n",
    "\n",
    "for epoch in range(NUM_EPOCHS):\n",
    "    \n",
    "    np.random.shuffle(train_indices)\n",
    "    \n",
    "    logging.info(\"Epoch\\t{}/{}\".format(epoch + 1, NUM_EPOCHS))\n",
    "    \n",
    "    model_GoalArea = model_GoalArea.train()\n",
    "    \n",
    "    for raw_X_train_dialog, raw_Y_train_dialog in tqdm_notebook(zip(raw_X_train[train_indices], raw_Y_train[train_indices]), total = len(raw_X_train)):\n",
    "\n",
    "        model_GoalArea.hidden = model_GoalArea.init_hidden()\n",
    "        \n",
    "        for raw_X_train_turn, raw_Y_train_turn in zip(raw_X_train_dialog[\"turns\"], raw_Y_train_dialog[\"turns\"]):\n",
    "            \n",
    "            optimizer_GoalAreaModel.zero_grad()\n",
    "            \n",
    "            indices, scores = get_index_and_score(raw_X_train_turn, token_to_index, mode = \"train\", device = DEVICE)\n",
    "            \n",
    "            goal_area = model_GoalArea(indices, scores)\n",
    "            \n",
    "            loss_goal_area = GOAL_LOSS_FUNCTION(goal_area,\n",
    "                                                retrieve_gold_GoalArea(raw_Y_train_turn,\n",
    "                                                                       ontology = ontology,\n",
    "                                                                       device = DEVICE))\n",
    "            loss_goal_area.backward(retain_graph = True)\n",
    "            \n",
    "            optimizer_GoalAreaModel.step()\n",
    "    \n",
    "    dev_goal_accuracy, \\\n",
    "    dev_goal_l2, \\\n",
    "    dev_requested_accuracy, \\\n",
    "    dev_requested_l2, \\\n",
    "    dev_method_accuracy, \\\n",
    "    dev_method_l2 = get_scores(model_GoalPricerange,\n",
    "                               model_GoalArea,\n",
    "                               model_GoalName,\n",
    "                               model_GoalFood,\n",
    "                               model_Requested,\n",
    "                               model_Method,\n",
    "                               raw_X_dev, raw_Y_dev, dataset = \"dstc2_dev\")\n",
    "    logging.info(\"DEV Acc:\\t\\t{}({})\\t\\t{}({})\\t\\t{}({})\".format(dev_goal_accuracy,\n",
    "                                                                 np.around(dev_goal_accuracy, decimals = 2),\n",
    "                                                                 dev_requested_accuracy,\n",
    "                                                                 np.around(dev_requested_accuracy, decimals = 2),\n",
    "                                                                 dev_method_accuracy,\n",
    "                                                                 np.around(dev_method_accuracy, decimals = 2)))\n",
    "    logging.info(\"DEV L2:\\t\\t{}({})\\t\\t{}({})\\t\\t{}({})\".format(dev_goal_l2,\n",
    "                                                                np.around(dev_goal_l2, decimals = 2),\n",
    "                                                                dev_requested_l2,\n",
    "                                                                np.around(dev_requested_l2, decimals = 2),\n",
    "                                                                dev_method_l2,\n",
    "                                                                np.around(dev_method_l2, decimals = 2)))\n",
    "    dev_goal_accuracies.append(dev_goal_accuracy)\n",
    "    dev_requested_accuracies.append(dev_requested_accuracy)\n",
    "    dev_method_accuracies.append(dev_method_accuracy)\n",
    "\n",
    "    test_goal_accuracy, \\\n",
    "    test_goal_l2, \\\n",
    "    test_requested_accuracy, \\\n",
    "    test_requested_l2, \\\n",
    "    test_method_accuracy, \\\n",
    "    test_method_l2 = get_scores(model_GoalPricerange,\n",
    "                                model_GoalArea,\n",
    "                                model_GoalName,\n",
    "                                model_GoalFood,\n",
    "                                model_Requested,\n",
    "                                model_Method,\n",
    "                                raw_X_test, raw_Y_test, dataset = \"dstc2_test\")\n",
    "    logging.info(\"TEST Acc:\\t\\t{}({})\\t\\t{}({})\\t\\t{}({})\".format(test_goal_accuracy,\n",
    "                                                                  np.around(test_goal_accuracy, decimals = 2),\n",
    "                                                                  test_requested_accuracy,\n",
    "                                                                  np.around(test_requested_accuracy, decimals = 2),\n",
    "                                                                  test_method_accuracy,\n",
    "                                                                  np.around(test_method_accuracy, decimals = 2)))\n",
    "    logging.info(\"TEST L2:\\t\\t{}({})\\t\\t{}({})\\t\\t{}({})\".format(test_goal_l2,\n",
    "                                                                 np.around(test_goal_l2, decimals = 2),\n",
    "                                                                 test_requested_l2,\n",
    "                                                                 np.around(test_requested_l2, decimals = 2),\n",
    "                                                                 test_method_l2,\n",
    "                                                                 np.around(test_method_l2, decimals = 2)))\n",
    "    test_goal_accuracies.append(test_goal_accuracy)\n",
    "    test_requested_accuracies.append(test_requested_accuracy)\n",
    "    test_method_accuracies.append(test_method_accuracy)\n",
    "        \n",
    "    goal_area_early_stopping.on_epoch_end(epoch = (epoch + 1), current_value = (dev_goal_accuracy))\n",
    "    \n",
    "    if goal_area_early_stopping.wait == 0:\n",
    "        torch.save(model_GoalArea.state_dict(), \"model_PANFMR_GoalArea.pt\")\n",
    "        \n",
    "    if goal_area_early_stopping.stop_training:\n",
    "        break\n",
    "\n",
    "plotly_plot(dev_goal_accuracies, test_goal_accuracies, \"Goal\")"
   ]
  },
  {
   "cell_type": "markdown",
   "metadata": {},
   "source": [
    "### Load Goal Area Model"
   ]
  },
  {
   "cell_type": "code",
   "execution_count": 24,
   "metadata": {},
   "outputs": [
    {
     "data": {
      "text/plain": [
       "GoalAreaModel(\n",
       "  (embeddings): Embedding(1149, 170)\n",
       "  (altered_embeddings): Linear(in_features=171, out_features=300, bias=True)\n",
       "  (lstm): LSTM(300, 100)\n",
       "  (goal_area_classifier): Linear(in_features=100, out_features=7, bias=True)\n",
       ")"
      ]
     },
     "execution_count": 24,
     "metadata": {},
     "output_type": "execute_result"
    }
   ],
   "source": [
    "model_GoalArea = GoalAreaModel(vocabulary_size = VOCABULARY_SIZE,\n",
    "                               embedding_dim = EMBEDDING_DIM,\n",
    "                               altered_embedding_dim = ALTERED_EMBEDDING_DIM,\n",
    "                               hidden_dim = HIDDEN_DIM,\n",
    "                               goal_area_dim = GOAL_AREA_DIM,\n",
    "                               device = DEVICE)\n",
    "\n",
    "model_GoalArea = model_GoalArea.to(DEVICE)\n",
    "model_GoalArea.load_state_dict(torch.load(\"model_PANFMR_GoalArea.pt\"))\n",
    "model_GoalArea.eval()"
   ]
  },
  {
   "cell_type": "markdown",
   "metadata": {},
   "source": [
    "### Print scores"
   ]
  },
  {
   "cell_type": "code",
   "execution_count": 25,
   "metadata": {},
   "outputs": [
    {
     "data": {
      "application/vnd.jupyter.widget-view+json": {
       "model_id": "5b4e86623a7c40cc86a5972505d84533",
       "version_major": 2,
       "version_minor": 0
      },
      "text/plain": [
       "HBox(children=(IntProgress(value=0, max=506), HTML(value='')))"
      ]
     },
     "metadata": {},
     "output_type": "display_data"
    },
    {
     "data": {
      "text/plain": [
       "(0.1952555, 0.9304985, 0.3371799, 0.8012731, 0.1714951, 0.8512001)"
      ]
     },
     "execution_count": 25,
     "metadata": {},
     "output_type": "execute_result"
    }
   ],
   "source": [
    "get_scores(model_GoalPricerange,\n",
    "           model_GoalArea,\n",
    "           model_GoalName,\n",
    "           model_GoalFood,\n",
    "           model_Requested,\n",
    "           model_Method,\n",
    "           raw_X_dev, raw_Y_dev, dataset = \"dstc2_dev\")"
   ]
  },
  {
   "cell_type": "code",
   "execution_count": 26,
   "metadata": {},
   "outputs": [
    {
     "data": {
      "application/vnd.jupyter.widget-view+json": {
       "model_id": "119efa1f30d84978bfdb0f7cf5fbd807",
       "version_major": 2,
       "version_minor": 0
      },
      "text/plain": [
       "HBox(children=(IntProgress(value=0, max=1117), HTML(value='')))"
      ]
     },
     "metadata": {},
     "output_type": "display_data"
    },
    {
     "data": {
      "text/plain": [
       "(0.2104448, 0.9426566, 0.2880708, 0.800123, 0.1840107, 0.9121297)"
      ]
     },
     "execution_count": 26,
     "metadata": {},
     "output_type": "execute_result"
    }
   ],
   "source": [
    "get_scores(model_GoalPricerange,\n",
    "           model_GoalArea,\n",
    "           model_GoalName,\n",
    "           model_GoalFood,\n",
    "           model_Requested,\n",
    "           model_Method,\n",
    "           raw_X_test, raw_Y_test, dataset = \"dstc2_test\")"
   ]
  },
  {
   "cell_type": "markdown",
   "metadata": {},
   "source": [
    "### Train Goal Name Model"
   ]
  },
  {
   "cell_type": "code",
   "execution_count": 27,
   "metadata": {
    "scrolled": true
   },
   "outputs": [
    {
     "name": "stderr",
     "output_type": "stream",
     "text": [
      "INFO:root:Epoch\t1/30\n"
     ]
    },
    {
     "data": {
      "application/vnd.jupyter.widget-view+json": {
       "model_id": "dddbfc7497e84edd82e9635e75110ce5",
       "version_major": 2,
       "version_minor": 0
      },
      "text/plain": [
       "HBox(children=(IntProgress(value=0, max=3224), HTML(value='')))"
      ]
     },
     "metadata": {},
     "output_type": "display_data"
    },
    {
     "data": {
      "application/vnd.jupyter.widget-view+json": {
       "model_id": "2d31ee0b9d494252bc8480df8bf52f45",
       "version_major": 2,
       "version_minor": 0
      },
      "text/plain": [
       "HBox(children=(IntProgress(value=0, max=506), HTML(value='')))"
      ]
     },
     "metadata": {},
     "output_type": "display_data"
    },
    {
     "name": "stderr",
     "output_type": "stream",
     "text": [
      "INFO:root:DEV Acc:\t\t0.1952555(0.2)\t\t0.3371799(0.34)\t\t0.1714951(0.17)\n",
      "INFO:root:DEV L2:\t\t0.9301937(0.93)\t\t0.8012731(0.8)\t\t0.8512001(0.85)\n"
     ]
    },
    {
     "data": {
      "application/vnd.jupyter.widget-view+json": {
       "model_id": "4da838d3cfdb418e8c6b22956b036260",
       "version_major": 2,
       "version_minor": 0
      },
      "text/plain": [
       "HBox(children=(IntProgress(value=0, max=1117), HTML(value='')))"
      ]
     },
     "metadata": {},
     "output_type": "display_data"
    },
    {
     "name": "stderr",
     "output_type": "stream",
     "text": [
      "INFO:root:TEST Acc:\t\t0.2104448(0.21)\t\t0.2880708(0.29)\t\t0.1840107(0.18)\n",
      "INFO:root:TEST L2:\t\t0.9427276(0.94)\t\t0.800123(0.8)\t\t0.9121297(0.91)\n",
      "INFO:root:Epoch\t2/30\n"
     ]
    },
    {
     "data": {
      "application/vnd.jupyter.widget-view+json": {
       "model_id": "ca11fe5d99b3431daeedc15acdfa8edc",
       "version_major": 2,
       "version_minor": 0
      },
      "text/plain": [
       "HBox(children=(IntProgress(value=0, max=3224), HTML(value='')))"
      ]
     },
     "metadata": {},
     "output_type": "display_data"
    },
    {
     "data": {
      "application/vnd.jupyter.widget-view+json": {
       "model_id": "140f17b5e00b4c1ba8980141febe3990",
       "version_major": 2,
       "version_minor": 0
      },
      "text/plain": [
       "HBox(children=(IntProgress(value=0, max=506), HTML(value='')))"
      ]
     },
     "metadata": {},
     "output_type": "display_data"
    },
    {
     "name": "stderr",
     "output_type": "stream",
     "text": [
      "INFO:root:DEV Acc:\t\t0.1952555(0.2)\t\t0.3371799(0.34)\t\t0.1714951(0.17)\n",
      "INFO:root:DEV L2:\t\t0.930423(0.93)\t\t0.8012731(0.8)\t\t0.8512001(0.85)\n"
     ]
    },
    {
     "data": {
      "application/vnd.jupyter.widget-view+json": {
       "model_id": "3b8dac21887f4f06bad2f3b658bb69c4",
       "version_major": 2,
       "version_minor": 0
      },
      "text/plain": [
       "HBox(children=(IntProgress(value=0, max=1117), HTML(value='')))"
      ]
     },
     "metadata": {},
     "output_type": "display_data"
    },
    {
     "name": "stderr",
     "output_type": "stream",
     "text": [
      "INFO:root:TEST Acc:\t\t0.2104448(0.21)\t\t0.2880708(0.29)\t\t0.1840107(0.18)\n",
      "INFO:root:TEST L2:\t\t0.942823(0.94)\t\t0.800123(0.8)\t\t0.9121297(0.91)\n",
      "INFO:root:Epoch\t3/30\n"
     ]
    },
    {
     "data": {
      "application/vnd.jupyter.widget-view+json": {
       "model_id": "d651092b0c624a20bcca63d6787900a5",
       "version_major": 2,
       "version_minor": 0
      },
      "text/plain": [
       "HBox(children=(IntProgress(value=0, max=3224), HTML(value='')))"
      ]
     },
     "metadata": {},
     "output_type": "display_data"
    },
    {
     "data": {
      "application/vnd.jupyter.widget-view+json": {
       "model_id": "84c13d1cdbef4c8eb1783bfed19bf94e",
       "version_major": 2,
       "version_minor": 0
      },
      "text/plain": [
       "HBox(children=(IntProgress(value=0, max=506), HTML(value='')))"
      ]
     },
     "metadata": {},
     "output_type": "display_data"
    },
    {
     "name": "stderr",
     "output_type": "stream",
     "text": [
      "INFO:root:DEV Acc:\t\t0.1952555(0.2)\t\t0.3371799(0.34)\t\t0.1714951(0.17)\n",
      "INFO:root:DEV L2:\t\t0.9304209(0.93)\t\t0.8012731(0.8)\t\t0.8512001(0.85)\n"
     ]
    },
    {
     "data": {
      "application/vnd.jupyter.widget-view+json": {
       "model_id": "2f10a9be32f4433487ae2816e232724b",
       "version_major": 2,
       "version_minor": 0
      },
      "text/plain": [
       "HBox(children=(IntProgress(value=0, max=1117), HTML(value='')))"
      ]
     },
     "metadata": {},
     "output_type": "display_data"
    },
    {
     "name": "stderr",
     "output_type": "stream",
     "text": [
      "INFO:root:TEST Acc:\t\t0.2104448(0.21)\t\t0.2880708(0.29)\t\t0.1840107(0.18)\n",
      "INFO:root:TEST L2:\t\t0.9428217(0.94)\t\t0.800123(0.8)\t\t0.9121297(0.91)\n",
      "INFO:root:Epoch\t4/30\n"
     ]
    },
    {
     "data": {
      "application/vnd.jupyter.widget-view+json": {
       "model_id": "b2cd33bed9bf45fe975f5f061da51598",
       "version_major": 2,
       "version_minor": 0
      },
      "text/plain": [
       "HBox(children=(IntProgress(value=0, max=3224), HTML(value='')))"
      ]
     },
     "metadata": {},
     "output_type": "display_data"
    },
    {
     "data": {
      "application/vnd.jupyter.widget-view+json": {
       "model_id": "d24784b0de564a5a81af53ad09952b80",
       "version_major": 2,
       "version_minor": 0
      },
      "text/plain": [
       "HBox(children=(IntProgress(value=0, max=506), HTML(value='')))"
      ]
     },
     "metadata": {},
     "output_type": "display_data"
    },
    {
     "name": "stderr",
     "output_type": "stream",
     "text": [
      "INFO:root:DEV Acc:\t\t0.1952555(0.2)\t\t0.3371799(0.34)\t\t0.1714951(0.17)\n",
      "INFO:root:DEV L2:\t\t0.9304053(0.93)\t\t0.8012731(0.8)\t\t0.8512001(0.85)\n"
     ]
    },
    {
     "data": {
      "application/vnd.jupyter.widget-view+json": {
       "model_id": "6075a0d483454505afba3b2829bcba3a",
       "version_major": 2,
       "version_minor": 0
      },
      "text/plain": [
       "HBox(children=(IntProgress(value=0, max=1117), HTML(value='')))"
      ]
     },
     "metadata": {},
     "output_type": "display_data"
    },
    {
     "name": "stderr",
     "output_type": "stream",
     "text": [
      "INFO:root:TEST Acc:\t\t0.2104448(0.21)\t\t0.2880708(0.29)\t\t0.1840107(0.18)\n",
      "INFO:root:TEST L2:\t\t0.9428195(0.94)\t\t0.800123(0.8)\t\t0.9121297(0.91)\n"
     ]
    },
    {
     "data": {
      "application/vnd.plotly.v1+json": {
       "config": {
        "linkText": "Export to plot.ly",
        "plotlyServerURL": "https://plot.ly",
        "showLink": false
       },
       "data": [
        {
         "marker": {
          "color": "#3498db"
         },
         "mode": "lines+markers",
         "name": "Dev Goal Accuracy",
         "type": "scatter",
         "uid": "23dfaf0e-e263-4ec5-9966-5c49be4d2908",
         "x": [
          0,
          1,
          2,
          3
         ],
         "y": [
          0.1952555,
          0.1952555,
          0.1952555,
          0.1952555
         ]
        },
        {
         "marker": {
          "color": "#9b59b6"
         },
         "mode": "lines+markers",
         "name": "Test Goal Accuracy",
         "type": "scatter",
         "uid": "db415499-49fb-428a-8bd8-3fccab6aa87c",
         "x": [
          0,
          1,
          2,
          3
         ],
         "y": [
          0.2104448,
          0.2104448,
          0.2104448,
          0.2104448
         ]
        }
       ],
       "layout": {
        "margin": {
         "b": 150
        },
        "title": {
         "text": "<b>Dev-Test Goal Accuracy</b>"
        },
        "xaxis": {
         "dtick": 1,
         "title": {
          "font": {
           "color": "#34495e"
          },
          "text": "<b>Epoch</b>"
         }
        },
        "yaxis": {
         "title": {
          "font": {
           "color": "#34495e"
          },
          "text": "<b>Accuracy</b>"
         }
        }
       }
      },
      "text/html": [
       "<div id=\"3af83842-ea68-4e1a-a0bc-ffcc6a423c63\" style=\"height: 525px; width: 100%;\" class=\"plotly-graph-div\"></div><script type=\"text/javascript\">require([\"plotly\"], function(Plotly) { window.PLOTLYENV=window.PLOTLYENV || {};window.PLOTLYENV.BASE_URL=\"https://plot.ly\";Plotly.newPlot(\"3af83842-ea68-4e1a-a0bc-ffcc6a423c63\", [{\"marker\": {\"color\": \"#3498db\"}, \"mode\": \"lines+markers\", \"name\": \"Dev Goal Accuracy\", \"x\": [0, 1, 2, 3], \"y\": [0.1952555, 0.1952555, 0.1952555, 0.1952555], \"type\": \"scatter\", \"uid\": \"708b6da8-7118-46bc-bc10-0a29d5976e03\"}, {\"marker\": {\"color\": \"#9b59b6\"}, \"mode\": \"lines+markers\", \"name\": \"Test Goal Accuracy\", \"x\": [0, 1, 2, 3], \"y\": [0.2104448, 0.2104448, 0.2104448, 0.2104448], \"type\": \"scatter\", \"uid\": \"3366fe26-627f-4cf9-be7f-f7a33bd6de52\"}], {\"margin\": {\"b\": 150}, \"title\": {\"text\": \"<b>Dev-Test Goal Accuracy</b>\"}, \"xaxis\": {\"dtick\": 1, \"title\": {\"font\": {\"color\": \"#34495e\"}, \"text\": \"<b>Epoch</b>\"}}, \"yaxis\": {\"title\": {\"font\": {\"color\": \"#34495e\"}, \"text\": \"<b>Accuracy</b>\"}}}, {\"showLink\": false, \"linkText\": \"Export to plot.ly\", \"plotlyServerURL\": \"https://plot.ly\"})});</script><script type=\"text/javascript\">window.addEventListener(\"resize\", function(){window._Plotly.Plots.resize(document.getElementById(\"3af83842-ea68-4e1a-a0bc-ffcc6a423c63\"));});</script>"
      ],
      "text/vnd.plotly.v1+html": [
       "<div id=\"3af83842-ea68-4e1a-a0bc-ffcc6a423c63\" style=\"height: 525px; width: 100%;\" class=\"plotly-graph-div\"></div><script type=\"text/javascript\">require([\"plotly\"], function(Plotly) { window.PLOTLYENV=window.PLOTLYENV || {};window.PLOTLYENV.BASE_URL=\"https://plot.ly\";Plotly.newPlot(\"3af83842-ea68-4e1a-a0bc-ffcc6a423c63\", [{\"marker\": {\"color\": \"#3498db\"}, \"mode\": \"lines+markers\", \"name\": \"Dev Goal Accuracy\", \"x\": [0, 1, 2, 3], \"y\": [0.1952555, 0.1952555, 0.1952555, 0.1952555], \"type\": \"scatter\", \"uid\": \"708b6da8-7118-46bc-bc10-0a29d5976e03\"}, {\"marker\": {\"color\": \"#9b59b6\"}, \"mode\": \"lines+markers\", \"name\": \"Test Goal Accuracy\", \"x\": [0, 1, 2, 3], \"y\": [0.2104448, 0.2104448, 0.2104448, 0.2104448], \"type\": \"scatter\", \"uid\": \"3366fe26-627f-4cf9-be7f-f7a33bd6de52\"}], {\"margin\": {\"b\": 150}, \"title\": {\"text\": \"<b>Dev-Test Goal Accuracy</b>\"}, \"xaxis\": {\"dtick\": 1, \"title\": {\"font\": {\"color\": \"#34495e\"}, \"text\": \"<b>Epoch</b>\"}}, \"yaxis\": {\"title\": {\"font\": {\"color\": \"#34495e\"}, \"text\": \"<b>Accuracy</b>\"}}}, {\"showLink\": false, \"linkText\": \"Export to plot.ly\", \"plotlyServerURL\": \"https://plot.ly\"})});</script><script type=\"text/javascript\">window.addEventListener(\"resize\", function(){window._Plotly.Plots.resize(document.getElementById(\"3af83842-ea68-4e1a-a0bc-ffcc6a423c63\"));});</script>"
      ]
     },
     "metadata": {},
     "output_type": "display_data"
    }
   ],
   "source": [
    "dev_goal_accuracies = []\n",
    "dev_requested_accuracies = []\n",
    "dev_method_accuracies = []\n",
    "\n",
    "test_goal_accuracies = []\n",
    "test_requested_accuracies = []\n",
    "test_method_accuracies = []\n",
    "\n",
    "goal_name_early_stopping = EarlyStopping(patience = 2)\n",
    "\n",
    "train_indices = np.arange(raw_X_train.shape[0])\n",
    "\n",
    "for epoch in range(NUM_EPOCHS):\n",
    "    \n",
    "    np.random.shuffle(train_indices)\n",
    "    \n",
    "    logging.info(\"Epoch\\t{}/{}\".format(epoch + 1, NUM_EPOCHS))\n",
    "    \n",
    "    model_GoalName = model_GoalName.train()\n",
    "    \n",
    "    for raw_X_train_dialog, raw_Y_train_dialog in tqdm_notebook(zip(raw_X_train[train_indices], raw_Y_train[train_indices]), total = len(raw_X_train)):\n",
    "\n",
    "        model_GoalName.hidden = model_GoalName.init_hidden()\n",
    "        \n",
    "        for raw_X_train_turn, raw_Y_train_turn in zip(raw_X_train_dialog[\"turns\"], raw_Y_train_dialog[\"turns\"]):\n",
    "            \n",
    "            optimizer_GoalNameModel.zero_grad()\n",
    "            \n",
    "            indices, scores = get_index_and_score(raw_X_train_turn, token_to_index, mode = \"train\", device = DEVICE)\n",
    "            \n",
    "            goal_name = model_GoalName(indices, scores)\n",
    "            \n",
    "            loss_goal_name = GOAL_LOSS_FUNCTION(goal_name,\n",
    "                                                retrieve_gold_GoalName(raw_Y_train_turn,\n",
    "                                                                       ontology = ontology,\n",
    "                                                                       device = DEVICE))\n",
    "            loss_goal_name.backward(retain_graph = True)\n",
    "            \n",
    "            optimizer_GoalNameModel.step()\n",
    "    \n",
    "    dev_goal_accuracy, \\\n",
    "    dev_goal_l2, \\\n",
    "    dev_requested_accuracy, \\\n",
    "    dev_requested_l2, \\\n",
    "    dev_method_accuracy, \\\n",
    "    dev_method_l2 = get_scores(model_GoalPricerange,\n",
    "                               model_GoalArea,\n",
    "                               model_GoalName,\n",
    "                               model_GoalFood,\n",
    "                               model_Requested,\n",
    "                               model_Method,\n",
    "                               raw_X_dev, raw_Y_dev, dataset = \"dstc2_dev\")\n",
    "    logging.info(\"DEV Acc:\\t\\t{}({})\\t\\t{}({})\\t\\t{}({})\".format(dev_goal_accuracy,\n",
    "                                                                 np.around(dev_goal_accuracy, decimals = 2),\n",
    "                                                                 dev_requested_accuracy,\n",
    "                                                                 np.around(dev_requested_accuracy, decimals = 2),\n",
    "                                                                 dev_method_accuracy,\n",
    "                                                                 np.around(dev_method_accuracy, decimals = 2)))\n",
    "    logging.info(\"DEV L2:\\t\\t{}({})\\t\\t{}({})\\t\\t{}({})\".format(dev_goal_l2,\n",
    "                                                                np.around(dev_goal_l2, decimals = 2),\n",
    "                                                                dev_requested_l2,\n",
    "                                                                np.around(dev_requested_l2, decimals = 2),\n",
    "                                                                dev_method_l2,\n",
    "                                                                np.around(dev_method_l2, decimals = 2)))\n",
    "    dev_goal_accuracies.append(dev_goal_accuracy)\n",
    "    dev_requested_accuracies.append(dev_requested_accuracy)\n",
    "    dev_method_accuracies.append(dev_method_accuracy)\n",
    "\n",
    "    test_goal_accuracy, \\\n",
    "    test_goal_l2, \\\n",
    "    test_requested_accuracy, \\\n",
    "    test_requested_l2, \\\n",
    "    test_method_accuracy, \\\n",
    "    test_method_l2 = get_scores(model_GoalPricerange,\n",
    "                                model_GoalArea,\n",
    "                                model_GoalName,\n",
    "                                model_GoalFood,\n",
    "                                model_Requested,\n",
    "                                model_Method,\n",
    "                                raw_X_test, raw_Y_test, dataset = \"dstc2_test\")\n",
    "    logging.info(\"TEST Acc:\\t\\t{}({})\\t\\t{}({})\\t\\t{}({})\".format(test_goal_accuracy,\n",
    "                                                                  np.around(test_goal_accuracy, decimals = 2),\n",
    "                                                                  test_requested_accuracy,\n",
    "                                                                  np.around(test_requested_accuracy, decimals = 2),\n",
    "                                                                  test_method_accuracy,\n",
    "                                                                  np.around(test_method_accuracy, decimals = 2)))\n",
    "    logging.info(\"TEST L2:\\t\\t{}({})\\t\\t{}({})\\t\\t{}({})\".format(test_goal_l2,\n",
    "                                                                 np.around(test_goal_l2, decimals = 2),\n",
    "                                                                 test_requested_l2,\n",
    "                                                                 np.around(test_requested_l2, decimals = 2),\n",
    "                                                                 test_method_l2,\n",
    "                                                                 np.around(test_method_l2, decimals = 2)))\n",
    "    test_goal_accuracies.append(test_goal_accuracy)\n",
    "    test_requested_accuracies.append(test_requested_accuracy)\n",
    "    test_method_accuracies.append(test_method_accuracy)\n",
    "        \n",
    "    goal_name_early_stopping.on_epoch_end(epoch = (epoch + 1), current_value = (dev_goal_accuracy))\n",
    "    \n",
    "    if goal_name_early_stopping.wait == 0:\n",
    "        torch.save(model_GoalName.state_dict(), \"model_PANFMR_GoalName.pt\")\n",
    "        \n",
    "    if goal_name_early_stopping.stop_training:\n",
    "        break\n",
    "\n",
    "plotly_plot(dev_goal_accuracies, test_goal_accuracies, \"Goal\")"
   ]
  },
  {
   "cell_type": "markdown",
   "metadata": {},
   "source": [
    "### Load Goal Name Model"
   ]
  },
  {
   "cell_type": "code",
   "execution_count": 28,
   "metadata": {},
   "outputs": [
    {
     "data": {
      "text/plain": [
       "GoalNameModel(\n",
       "  (embeddings): Embedding(1149, 170)\n",
       "  (altered_embeddings): Linear(in_features=171, out_features=300, bias=True)\n",
       "  (lstm): LSTM(300, 100)\n",
       "  (goal_name_classifier): Linear(in_features=100, out_features=115, bias=True)\n",
       ")"
      ]
     },
     "execution_count": 28,
     "metadata": {},
     "output_type": "execute_result"
    }
   ],
   "source": [
    "model_GoalName = GoalNameModel(vocabulary_size = VOCABULARY_SIZE,\n",
    "                               embedding_dim = EMBEDDING_DIM,\n",
    "                               altered_embedding_dim = ALTERED_EMBEDDING_DIM,\n",
    "                               hidden_dim = HIDDEN_DIM,\n",
    "                               goal_name_dim = GOAL_NAME_DIM,\n",
    "                               device = DEVICE)\n",
    "\n",
    "model_GoalName = model_GoalName.to(DEVICE)\n",
    "model_GoalName.load_state_dict(torch.load(\"model_PANFMR_GoalName.pt\"))\n",
    "model_GoalName.eval()"
   ]
  },
  {
   "cell_type": "markdown",
   "metadata": {},
   "source": [
    "### Print scores"
   ]
  },
  {
   "cell_type": "code",
   "execution_count": 29,
   "metadata": {},
   "outputs": [
    {
     "data": {
      "application/vnd.jupyter.widget-view+json": {
       "model_id": "f34d2e95b9ea48d0a1b1b07ac3ee1766",
       "version_major": 2,
       "version_minor": 0
      },
      "text/plain": [
       "HBox(children=(IntProgress(value=0, max=506), HTML(value='')))"
      ]
     },
     "metadata": {},
     "output_type": "display_data"
    },
    {
     "data": {
      "text/plain": [
       "(0.1952555, 0.9301937, 0.3371799, 0.8012731, 0.1714951, 0.8512001)"
      ]
     },
     "execution_count": 29,
     "metadata": {},
     "output_type": "execute_result"
    }
   ],
   "source": [
    "get_scores(model_GoalPricerange,\n",
    "           model_GoalArea,\n",
    "           model_GoalName,\n",
    "           model_GoalFood,\n",
    "           model_Requested,\n",
    "           model_Method,\n",
    "           raw_X_dev, raw_Y_dev, dataset = \"dstc2_dev\")"
   ]
  },
  {
   "cell_type": "code",
   "execution_count": 30,
   "metadata": {},
   "outputs": [
    {
     "data": {
      "application/vnd.jupyter.widget-view+json": {
       "model_id": "1b9a34dafdb046adb8cc56ea0839d495",
       "version_major": 2,
       "version_minor": 0
      },
      "text/plain": [
       "HBox(children=(IntProgress(value=0, max=1117), HTML(value='')))"
      ]
     },
     "metadata": {},
     "output_type": "display_data"
    },
    {
     "data": {
      "text/plain": [
       "(0.2104448, 0.9427276, 0.2880708, 0.800123, 0.1840107, 0.9121297)"
      ]
     },
     "execution_count": 30,
     "metadata": {},
     "output_type": "execute_result"
    }
   ],
   "source": [
    "get_scores(model_GoalPricerange,\n",
    "           model_GoalArea,\n",
    "           model_GoalName,\n",
    "           model_GoalFood,\n",
    "           model_Requested,\n",
    "           model_Method,\n",
    "           raw_X_test, raw_Y_test, dataset = \"dstc2_test\")"
   ]
  },
  {
   "cell_type": "markdown",
   "metadata": {},
   "source": [
    "### Train Goal Food Model"
   ]
  },
  {
   "cell_type": "code",
   "execution_count": 31,
   "metadata": {
    "scrolled": false
   },
   "outputs": [
    {
     "name": "stderr",
     "output_type": "stream",
     "text": [
      "INFO:root:Epoch\t1/30\n"
     ]
    },
    {
     "data": {
      "application/vnd.jupyter.widget-view+json": {
       "model_id": "cc579a1dd8144282b7d4a5b073a14af7",
       "version_major": 2,
       "version_minor": 0
      },
      "text/plain": [
       "HBox(children=(IntProgress(value=0, max=3224), HTML(value='')))"
      ]
     },
     "metadata": {},
     "output_type": "display_data"
    },
    {
     "data": {
      "application/vnd.jupyter.widget-view+json": {
       "model_id": "50640d59de304ef58ab27b78e01c975e",
       "version_major": 2,
       "version_minor": 0
      },
      "text/plain": [
       "HBox(children=(IntProgress(value=0, max=506), HTML(value='')))"
      ]
     },
     "metadata": {},
     "output_type": "display_data"
    },
    {
     "name": "stderr",
     "output_type": "stream",
     "text": [
      "INFO:root:DEV Acc:\t\t0.5693431(0.57)\t\t0.3371799(0.34)\t\t0.1714951(0.17)\n",
      "INFO:root:DEV L2:\t\t0.6009741(0.6)\t\t0.8012731(0.8)\t\t0.8512001(0.85)\n"
     ]
    },
    {
     "data": {
      "application/vnd.jupyter.widget-view+json": {
       "model_id": "325f0d537f474508ba86262cd0a5614d",
       "version_major": 2,
       "version_minor": 0
      },
      "text/plain": [
       "HBox(children=(IntProgress(value=0, max=1117), HTML(value='')))"
      ]
     },
     "metadata": {},
     "output_type": "display_data"
    },
    {
     "name": "stderr",
     "output_type": "stream",
     "text": [
      "INFO:root:TEST Acc:\t\t0.619259(0.62)\t\t0.2880708(0.29)\t\t0.1840107(0.18)\n",
      "INFO:root:TEST L2:\t\t0.5465798(0.55)\t\t0.800123(0.8)\t\t0.9121297(0.91)\n",
      "INFO:root:Epoch\t2/30\n"
     ]
    },
    {
     "data": {
      "application/vnd.jupyter.widget-view+json": {
       "model_id": "96ca4be203c944cb887bf30f1b046a97",
       "version_major": 2,
       "version_minor": 0
      },
      "text/plain": [
       "HBox(children=(IntProgress(value=0, max=3224), HTML(value='')))"
      ]
     },
     "metadata": {},
     "output_type": "display_data"
    },
    {
     "data": {
      "application/vnd.jupyter.widget-view+json": {
       "model_id": "fcbf93df73f2498a823bcba5782363ef",
       "version_major": 2,
       "version_minor": 0
      },
      "text/plain": [
       "HBox(children=(IntProgress(value=0, max=506), HTML(value='')))"
      ]
     },
     "metadata": {},
     "output_type": "display_data"
    },
    {
     "name": "stderr",
     "output_type": "stream",
     "text": [
      "INFO:root:DEV Acc:\t\t0.6279979(0.63)\t\t0.3371799(0.34)\t\t0.1714951(0.17)\n",
      "INFO:root:DEV L2:\t\t0.5291764(0.53)\t\t0.8012731(0.8)\t\t0.8512001(0.85)\n"
     ]
    },
    {
     "data": {
      "application/vnd.jupyter.widget-view+json": {
       "model_id": "a0b6a35a06b24f5ca46da4c72540b11e",
       "version_major": 2,
       "version_minor": 0
      },
      "text/plain": [
       "HBox(children=(IntProgress(value=0, max=1117), HTML(value='')))"
      ]
     },
     "metadata": {},
     "output_type": "display_data"
    },
    {
     "name": "stderr",
     "output_type": "stream",
     "text": [
      "INFO:root:TEST Acc:\t\t0.6627103(0.66)\t\t0.2880708(0.29)\t\t0.1840107(0.18)\n",
      "INFO:root:TEST L2:\t\t0.4937432(0.49)\t\t0.800123(0.8)\t\t0.9121297(0.91)\n",
      "INFO:root:Epoch\t3/30\n"
     ]
    },
    {
     "data": {
      "application/vnd.jupyter.widget-view+json": {
       "model_id": "eeb12afd516a4b5f84a0d4ba23e9ce21",
       "version_major": 2,
       "version_minor": 0
      },
      "text/plain": [
       "HBox(children=(IntProgress(value=0, max=3224), HTML(value='')))"
      ]
     },
     "metadata": {},
     "output_type": "display_data"
    },
    {
     "data": {
      "application/vnd.jupyter.widget-view+json": {
       "model_id": "7cd5c6e2be464804a66847bd8dcc498a",
       "version_major": 2,
       "version_minor": 0
      },
      "text/plain": [
       "HBox(children=(IntProgress(value=0, max=506), HTML(value='')))"
      ]
     },
     "metadata": {},
     "output_type": "display_data"
    },
    {
     "name": "stderr",
     "output_type": "stream",
     "text": [
      "INFO:root:DEV Acc:\t\t0.6316475(0.63)\t\t0.3371799(0.34)\t\t0.1714951(0.17)\n",
      "INFO:root:DEV L2:\t\t0.5272094(0.53)\t\t0.8012731(0.8)\t\t0.8512001(0.85)\n"
     ]
    },
    {
     "data": {
      "application/vnd.jupyter.widget-view+json": {
       "model_id": "10bd8e99bdda4ad983d3f5e300bb40e0",
       "version_major": 2,
       "version_minor": 0
      },
      "text/plain": [
       "HBox(children=(IntProgress(value=0, max=1117), HTML(value='')))"
      ]
     },
     "metadata": {},
     "output_type": "display_data"
    },
    {
     "name": "stderr",
     "output_type": "stream",
     "text": [
      "INFO:root:TEST Acc:\t\t0.664052(0.66)\t\t0.2880708(0.29)\t\t0.1840107(0.18)\n",
      "INFO:root:TEST L2:\t\t0.4902702(0.49)\t\t0.800123(0.8)\t\t0.9121297(0.91)\n",
      "INFO:root:Epoch\t4/30\n"
     ]
    },
    {
     "data": {
      "application/vnd.jupyter.widget-view+json": {
       "model_id": "f18d0dccb2db404c986a0b863ccdd484",
       "version_major": 2,
       "version_minor": 0
      },
      "text/plain": [
       "HBox(children=(IntProgress(value=0, max=3224), HTML(value='')))"
      ]
     },
     "metadata": {},
     "output_type": "display_data"
    },
    {
     "data": {
      "application/vnd.jupyter.widget-view+json": {
       "model_id": "354d5c8735b4497c968260db4984a91f",
       "version_major": 2,
       "version_minor": 0
      },
      "text/plain": [
       "HBox(children=(IntProgress(value=0, max=506), HTML(value='')))"
      ]
     },
     "metadata": {},
     "output_type": "display_data"
    },
    {
     "name": "stderr",
     "output_type": "stream",
     "text": [
      "INFO:root:DEV Acc:\t\t0.6392075(0.64)\t\t0.3371799(0.34)\t\t0.1714951(0.17)\n",
      "INFO:root:DEV L2:\t\t0.5242629(0.52)\t\t0.8012731(0.8)\t\t0.8512001(0.85)\n"
     ]
    },
    {
     "data": {
      "application/vnd.jupyter.widget-view+json": {
       "model_id": "6bb14f0e023048b4982ba2874dbe5518",
       "version_major": 2,
       "version_minor": 0
      },
      "text/plain": [
       "HBox(children=(IntProgress(value=0, max=1117), HTML(value='')))"
      ]
     },
     "metadata": {},
     "output_type": "display_data"
    },
    {
     "name": "stderr",
     "output_type": "stream",
     "text": [
      "INFO:root:TEST Acc:\t\t0.6750955(0.68)\t\t0.2880708(0.29)\t\t0.1840107(0.18)\n",
      "INFO:root:TEST L2:\t\t0.4836942(0.48)\t\t0.800123(0.8)\t\t0.9121297(0.91)\n",
      "INFO:root:Epoch\t5/30\n"
     ]
    },
    {
     "data": {
      "application/vnd.jupyter.widget-view+json": {
       "model_id": "25417244811a4ccb81609119729f5b2d",
       "version_major": 2,
       "version_minor": 0
      },
      "text/plain": [
       "HBox(children=(IntProgress(value=0, max=3224), HTML(value='')))"
      ]
     },
     "metadata": {},
     "output_type": "display_data"
    },
    {
     "data": {
      "application/vnd.jupyter.widget-view+json": {
       "model_id": "61790258c8f940ccb26dcfcf1c3ca4a3",
       "version_major": 2,
       "version_minor": 0
      },
      "text/plain": [
       "HBox(children=(IntProgress(value=0, max=506), HTML(value='')))"
      ]
     },
     "metadata": {},
     "output_type": "display_data"
    },
    {
     "name": "stderr",
     "output_type": "stream",
     "text": [
      "INFO:root:DEV Acc:\t\t0.6399896(0.64)\t\t0.3371799(0.34)\t\t0.1714951(0.17)\n",
      "INFO:root:DEV L2:\t\t0.5130169(0.51)\t\t0.8012731(0.8)\t\t0.8512001(0.85)\n"
     ]
    },
    {
     "data": {
      "application/vnd.jupyter.widget-view+json": {
       "model_id": "26153610d1be4d30abd3380875352488",
       "version_major": 2,
       "version_minor": 0
      },
      "text/plain": [
       "HBox(children=(IntProgress(value=0, max=1117), HTML(value='')))"
      ]
     },
     "metadata": {},
     "output_type": "display_data"
    },
    {
     "name": "stderr",
     "output_type": "stream",
     "text": [
      "INFO:root:TEST Acc:\t\t0.6795335(0.68)\t\t0.2880708(0.29)\t\t0.1840107(0.18)\n",
      "INFO:root:TEST L2:\t\t0.4684101(0.47)\t\t0.800123(0.8)\t\t0.9121297(0.91)\n",
      "INFO:root:Epoch\t6/30\n"
     ]
    },
    {
     "data": {
      "application/vnd.jupyter.widget-view+json": {
       "model_id": "afa9086bcb6b423a95c7525e8a63812d",
       "version_major": 2,
       "version_minor": 0
      },
      "text/plain": [
       "HBox(children=(IntProgress(value=0, max=3224), HTML(value='')))"
      ]
     },
     "metadata": {},
     "output_type": "display_data"
    },
    {
     "data": {
      "application/vnd.jupyter.widget-view+json": {
       "model_id": "2e6528ae610146b5bfaccc7d692e19be",
       "version_major": 2,
       "version_minor": 0
      },
      "text/plain": [
       "HBox(children=(IntProgress(value=0, max=506), HTML(value='')))"
      ]
     },
     "metadata": {},
     "output_type": "display_data"
    },
    {
     "name": "stderr",
     "output_type": "stream",
     "text": [
      "INFO:root:DEV Acc:\t\t0.6389468(0.64)\t\t0.3371799(0.34)\t\t0.1714951(0.17)\n",
      "INFO:root:DEV L2:\t\t0.516153(0.52)\t\t0.8012731(0.8)\t\t0.8512001(0.85)\n"
     ]
    },
    {
     "data": {
      "application/vnd.jupyter.widget-view+json": {
       "model_id": "6a31f6a8d92a4cf385a89cbd329a1113",
       "version_major": 2,
       "version_minor": 0
      },
      "text/plain": [
       "HBox(children=(IntProgress(value=0, max=1117), HTML(value='')))"
      ]
     },
     "metadata": {},
     "output_type": "display_data"
    },
    {
     "name": "stderr",
     "output_type": "stream",
     "text": [
      "INFO:root:TEST Acc:\t\t0.6777789(0.68)\t\t0.2880708(0.29)\t\t0.1840107(0.18)\n",
      "INFO:root:TEST L2:\t\t0.4773619(0.48)\t\t0.800123(0.8)\t\t0.9121297(0.91)\n",
      "INFO:root:Epoch\t7/30\n"
     ]
    },
    {
     "data": {
      "application/vnd.jupyter.widget-view+json": {
       "model_id": "a503670775924f9db56caf499a66b9d9",
       "version_major": 2,
       "version_minor": 0
      },
      "text/plain": [
       "HBox(children=(IntProgress(value=0, max=3224), HTML(value='')))"
      ]
     },
     "metadata": {},
     "output_type": "display_data"
    },
    {
     "data": {
      "application/vnd.jupyter.widget-view+json": {
       "model_id": "57ff9d62edf34129a46b8c76d945576e",
       "version_major": 2,
       "version_minor": 0
      },
      "text/plain": [
       "HBox(children=(IntProgress(value=0, max=506), HTML(value='')))"
      ]
     },
     "metadata": {},
     "output_type": "display_data"
    },
    {
     "name": "stderr",
     "output_type": "stream",
     "text": [
      "INFO:root:DEV Acc:\t\t0.6392075(0.64)\t\t0.3371799(0.34)\t\t0.1714951(0.17)\n",
      "INFO:root:DEV L2:\t\t0.5195393(0.52)\t\t0.8012731(0.8)\t\t0.8512001(0.85)\n"
     ]
    },
    {
     "data": {
      "application/vnd.jupyter.widget-view+json": {
       "model_id": "6d80c0345f974fcb8b231ee08b8f46e5",
       "version_major": 2,
       "version_minor": 0
      },
      "text/plain": [
       "HBox(children=(IntProgress(value=0, max=1117), HTML(value='')))"
      ]
     },
     "metadata": {},
     "output_type": "display_data"
    },
    {
     "name": "stderr",
     "output_type": "stream",
     "text": [
      "INFO:root:TEST Acc:\t\t0.6714831(0.67)\t\t0.2880708(0.29)\t\t0.1840107(0.18)\n",
      "INFO:root:TEST L2:\t\t0.4894845(0.49)\t\t0.800123(0.8)\t\t0.9121297(0.91)\n",
      "INFO:root:Epoch\t8/30\n"
     ]
    },
    {
     "data": {
      "application/vnd.jupyter.widget-view+json": {
       "model_id": "a005295cf7fe4763b7e5368e96c0e591",
       "version_major": 2,
       "version_minor": 0
      },
      "text/plain": [
       "HBox(children=(IntProgress(value=0, max=3224), HTML(value='')))"
      ]
     },
     "metadata": {},
     "output_type": "display_data"
    },
    {
     "data": {
      "application/vnd.jupyter.widget-view+json": {
       "model_id": "2c048e7e7270401a88aee179a7e32e7c",
       "version_major": 2,
       "version_minor": 0
      },
      "text/plain": [
       "HBox(children=(IntProgress(value=0, max=506), HTML(value='')))"
      ]
     },
     "metadata": {},
     "output_type": "display_data"
    },
    {
     "name": "stderr",
     "output_type": "stream",
     "text": [
      "INFO:root:DEV Acc:\t\t0.6347758(0.63)\t\t0.3371799(0.34)\t\t0.1714951(0.17)\n",
      "INFO:root:DEV L2:\t\t0.5269607(0.53)\t\t0.8012731(0.8)\t\t0.8512001(0.85)\n"
     ]
    },
    {
     "data": {
      "application/vnd.jupyter.widget-view+json": {
       "model_id": "fc11faf81bdd4ab2b4663e777fc49896",
       "version_major": 2,
       "version_minor": 0
      },
      "text/plain": [
       "HBox(children=(IntProgress(value=0, max=1117), HTML(value='')))"
      ]
     },
     "metadata": {},
     "output_type": "display_data"
    },
    {
     "name": "stderr",
     "output_type": "stream",
     "text": [
      "INFO:root:TEST Acc:\t\t0.6716895(0.67)\t\t0.2880708(0.29)\t\t0.1840107(0.18)\n",
      "INFO:root:TEST L2:\t\t0.4848168(0.48)\t\t0.800123(0.8)\t\t0.9121297(0.91)\n"
     ]
    },
    {
     "data": {
      "application/vnd.plotly.v1+json": {
       "config": {
        "linkText": "Export to plot.ly",
        "plotlyServerURL": "https://plot.ly",
        "showLink": false
       },
       "data": [
        {
         "marker": {
          "color": "#3498db"
         },
         "mode": "lines+markers",
         "name": "Dev Goal Accuracy",
         "type": "scatter",
         "uid": "dafb1cfe-d2f7-463f-9fb3-08294b52ccd0",
         "x": [
          0,
          1,
          2,
          3,
          4,
          5,
          6,
          7
         ],
         "y": [
          0.5693431,
          0.6279979,
          0.6316475,
          0.6392075,
          0.6399896,
          0.6389468,
          0.6392075,
          0.6347758
         ]
        },
        {
         "marker": {
          "color": "#9b59b6"
         },
         "mode": "lines+markers",
         "name": "Test Goal Accuracy",
         "type": "scatter",
         "uid": "ec5ae02c-102b-4b5a-942a-808ba444c34b",
         "x": [
          0,
          1,
          2,
          3,
          4,
          5,
          6,
          7
         ],
         "y": [
          0.619259,
          0.6627103,
          0.664052,
          0.6750955,
          0.6795335,
          0.6777789,
          0.6714831,
          0.6716895
         ]
        }
       ],
       "layout": {
        "margin": {
         "b": 150
        },
        "title": {
         "text": "<b>Dev-Test Goal Accuracy</b>"
        },
        "xaxis": {
         "dtick": 1,
         "title": {
          "font": {
           "color": "#34495e"
          },
          "text": "<b>Epoch</b>"
         }
        },
        "yaxis": {
         "title": {
          "font": {
           "color": "#34495e"
          },
          "text": "<b>Accuracy</b>"
         }
        }
       }
      },
      "text/html": [
       "<div id=\"35026546-c83a-40c6-b511-25ce99569fcf\" style=\"height: 525px; width: 100%;\" class=\"plotly-graph-div\"></div><script type=\"text/javascript\">require([\"plotly\"], function(Plotly) { window.PLOTLYENV=window.PLOTLYENV || {};window.PLOTLYENV.BASE_URL=\"https://plot.ly\";Plotly.newPlot(\"35026546-c83a-40c6-b511-25ce99569fcf\", [{\"marker\": {\"color\": \"#3498db\"}, \"mode\": \"lines+markers\", \"name\": \"Dev Goal Accuracy\", \"x\": [0, 1, 2, 3, 4, 5, 6, 7], \"y\": [0.5693431, 0.6279979, 0.6316475, 0.6392075, 0.6399896, 0.6389468, 0.6392075, 0.6347758], \"type\": \"scatter\", \"uid\": \"805b855e-c0b2-48d2-952a-135a517b853f\"}, {\"marker\": {\"color\": \"#9b59b6\"}, \"mode\": \"lines+markers\", \"name\": \"Test Goal Accuracy\", \"x\": [0, 1, 2, 3, 4, 5, 6, 7], \"y\": [0.619259, 0.6627103, 0.664052, 0.6750955, 0.6795335, 0.6777789, 0.6714831, 0.6716895], \"type\": \"scatter\", \"uid\": \"af241fd7-125e-404c-b8a8-ac690a23e0b9\"}], {\"margin\": {\"b\": 150}, \"title\": {\"text\": \"<b>Dev-Test Goal Accuracy</b>\"}, \"xaxis\": {\"dtick\": 1, \"title\": {\"font\": {\"color\": \"#34495e\"}, \"text\": \"<b>Epoch</b>\"}}, \"yaxis\": {\"title\": {\"font\": {\"color\": \"#34495e\"}, \"text\": \"<b>Accuracy</b>\"}}}, {\"showLink\": false, \"linkText\": \"Export to plot.ly\", \"plotlyServerURL\": \"https://plot.ly\"})});</script><script type=\"text/javascript\">window.addEventListener(\"resize\", function(){window._Plotly.Plots.resize(document.getElementById(\"35026546-c83a-40c6-b511-25ce99569fcf\"));});</script>"
      ],
      "text/vnd.plotly.v1+html": [
       "<div id=\"35026546-c83a-40c6-b511-25ce99569fcf\" style=\"height: 525px; width: 100%;\" class=\"plotly-graph-div\"></div><script type=\"text/javascript\">require([\"plotly\"], function(Plotly) { window.PLOTLYENV=window.PLOTLYENV || {};window.PLOTLYENV.BASE_URL=\"https://plot.ly\";Plotly.newPlot(\"35026546-c83a-40c6-b511-25ce99569fcf\", [{\"marker\": {\"color\": \"#3498db\"}, \"mode\": \"lines+markers\", \"name\": \"Dev Goal Accuracy\", \"x\": [0, 1, 2, 3, 4, 5, 6, 7], \"y\": [0.5693431, 0.6279979, 0.6316475, 0.6392075, 0.6399896, 0.6389468, 0.6392075, 0.6347758], \"type\": \"scatter\", \"uid\": \"805b855e-c0b2-48d2-952a-135a517b853f\"}, {\"marker\": {\"color\": \"#9b59b6\"}, \"mode\": \"lines+markers\", \"name\": \"Test Goal Accuracy\", \"x\": [0, 1, 2, 3, 4, 5, 6, 7], \"y\": [0.619259, 0.6627103, 0.664052, 0.6750955, 0.6795335, 0.6777789, 0.6714831, 0.6716895], \"type\": \"scatter\", \"uid\": \"af241fd7-125e-404c-b8a8-ac690a23e0b9\"}], {\"margin\": {\"b\": 150}, \"title\": {\"text\": \"<b>Dev-Test Goal Accuracy</b>\"}, \"xaxis\": {\"dtick\": 1, \"title\": {\"font\": {\"color\": \"#34495e\"}, \"text\": \"<b>Epoch</b>\"}}, \"yaxis\": {\"title\": {\"font\": {\"color\": \"#34495e\"}, \"text\": \"<b>Accuracy</b>\"}}}, {\"showLink\": false, \"linkText\": \"Export to plot.ly\", \"plotlyServerURL\": \"https://plot.ly\"})});</script><script type=\"text/javascript\">window.addEventListener(\"resize\", function(){window._Plotly.Plots.resize(document.getElementById(\"35026546-c83a-40c6-b511-25ce99569fcf\"));});</script>"
      ]
     },
     "metadata": {},
     "output_type": "display_data"
    }
   ],
   "source": [
    "dev_goal_accuracies = []\n",
    "dev_requested_accuracies = []\n",
    "dev_method_accuracies = []\n",
    "\n",
    "test_goal_accuracies = []\n",
    "test_requested_accuracies = []\n",
    "test_method_accuracies = []\n",
    "\n",
    "goal_food_early_stopping = EarlyStopping(patience = 2)\n",
    "\n",
    "train_indices = np.arange(raw_X_train.shape[0])\n",
    "\n",
    "for epoch in range(NUM_EPOCHS):\n",
    "    \n",
    "    np.random.shuffle(train_indices)\n",
    "    \n",
    "    logging.info(\"Epoch\\t{}/{}\".format(epoch + 1, NUM_EPOCHS))\n",
    "    \n",
    "    model_GoalFood = model_GoalFood.train()\n",
    "    \n",
    "    for raw_X_train_dialog, raw_Y_train_dialog in tqdm_notebook(zip(raw_X_train[train_indices], raw_Y_train[train_indices]), total = len(raw_X_train)):\n",
    "\n",
    "        model_GoalFood.hidden = model_GoalFood.init_hidden()\n",
    "        \n",
    "        for raw_X_train_turn, raw_Y_train_turn in zip(raw_X_train_dialog[\"turns\"], raw_Y_train_dialog[\"turns\"]):\n",
    "            \n",
    "            optimizer_GoalFoodModel.zero_grad()\n",
    "            \n",
    "            indices, scores = get_index_and_score(raw_X_train_turn, token_to_index, mode = \"train\", device = DEVICE)\n",
    "            \n",
    "            goal_food = model_GoalFood(indices, scores)\n",
    "            \n",
    "            loss_goal_food = GOAL_LOSS_FUNCTION(goal_food,\n",
    "                                                retrieve_gold_GoalFood(raw_Y_train_turn,\n",
    "                                                                       ontology = ontology,\n",
    "                                                                       device = DEVICE))\n",
    "            loss_goal_food.backward(retain_graph = True)\n",
    "            \n",
    "            optimizer_GoalFoodModel.step()\n",
    "    \n",
    "    dev_goal_accuracy, \\\n",
    "    dev_goal_l2, \\\n",
    "    dev_requested_accuracy, \\\n",
    "    dev_requested_l2, \\\n",
    "    dev_method_accuracy, \\\n",
    "    dev_method_l2 = get_scores(model_GoalPricerange,\n",
    "                               model_GoalArea,\n",
    "                               model_GoalName,\n",
    "                               model_GoalFood,\n",
    "                               model_Requested,\n",
    "                               model_Method,\n",
    "                               raw_X_dev, raw_Y_dev, dataset = \"dstc2_dev\")\n",
    "    logging.info(\"DEV Acc:\\t\\t{}({})\\t\\t{}({})\\t\\t{}({})\".format(dev_goal_accuracy,\n",
    "                                                                 np.around(dev_goal_accuracy, decimals = 2),\n",
    "                                                                 dev_requested_accuracy,\n",
    "                                                                 np.around(dev_requested_accuracy, decimals = 2),\n",
    "                                                                 dev_method_accuracy,\n",
    "                                                                 np.around(dev_method_accuracy, decimals = 2)))\n",
    "    logging.info(\"DEV L2:\\t\\t{}({})\\t\\t{}({})\\t\\t{}({})\".format(dev_goal_l2,\n",
    "                                                                np.around(dev_goal_l2, decimals = 2),\n",
    "                                                                dev_requested_l2,\n",
    "                                                                np.around(dev_requested_l2, decimals = 2),\n",
    "                                                                dev_method_l2,\n",
    "                                                                np.around(dev_method_l2, decimals = 2)))\n",
    "    dev_goal_accuracies.append(dev_goal_accuracy)\n",
    "    dev_requested_accuracies.append(dev_requested_accuracy)\n",
    "    dev_method_accuracies.append(dev_method_accuracy)\n",
    "\n",
    "    test_goal_accuracy, \\\n",
    "    test_goal_l2, \\\n",
    "    test_requested_accuracy, \\\n",
    "    test_requested_l2, \\\n",
    "    test_method_accuracy, \\\n",
    "    test_method_l2 = get_scores(model_GoalPricerange,\n",
    "                                model_GoalArea,\n",
    "                                model_GoalName,\n",
    "                                model_GoalFood,\n",
    "                                model_Requested,\n",
    "                                model_Method,\n",
    "                                raw_X_test, raw_Y_test, dataset = \"dstc2_test\")\n",
    "    logging.info(\"TEST Acc:\\t\\t{}({})\\t\\t{}({})\\t\\t{}({})\".format(test_goal_accuracy,\n",
    "                                                                  np.around(test_goal_accuracy, decimals = 2),\n",
    "                                                                  test_requested_accuracy,\n",
    "                                                                  np.around(test_requested_accuracy, decimals = 2),\n",
    "                                                                  test_method_accuracy,\n",
    "                                                                  np.around(test_method_accuracy, decimals = 2)))\n",
    "    logging.info(\"TEST L2:\\t\\t{}({})\\t\\t{}({})\\t\\t{}({})\".format(test_goal_l2,\n",
    "                                                                 np.around(test_goal_l2, decimals = 2),\n",
    "                                                                 test_requested_l2,\n",
    "                                                                 np.around(test_requested_l2, decimals = 2),\n",
    "                                                                 test_method_l2,\n",
    "                                                                 np.around(test_method_l2, decimals = 2)))\n",
    "    test_goal_accuracies.append(test_goal_accuracy)\n",
    "    test_requested_accuracies.append(test_requested_accuracy)\n",
    "    test_method_accuracies.append(test_method_accuracy)\n",
    "        \n",
    "    goal_food_early_stopping.on_epoch_end(epoch = (epoch + 1), current_value = (dev_goal_accuracy))\n",
    "    \n",
    "    if goal_food_early_stopping.wait == 0:\n",
    "       torch.save(model_GoalFood.state_dict(), \"model_PANFMR_GoalFood.pt\")\n",
    "    \n",
    "    if goal_food_early_stopping.stop_training:\n",
    "        break\n",
    "\n",
    "plotly_plot(dev_goal_accuracies, test_goal_accuracies, \"Goal\")"
   ]
  },
  {
   "cell_type": "markdown",
   "metadata": {},
   "source": [
    "### Load Goal Food Model"
   ]
  },
  {
   "cell_type": "code",
   "execution_count": 32,
   "metadata": {},
   "outputs": [
    {
     "data": {
      "text/plain": [
       "GoalFoodModel(\n",
       "  (embeddings): Embedding(1149, 170)\n",
       "  (altered_embeddings): Linear(in_features=171, out_features=300, bias=True)\n",
       "  (lstm): LSTM(300, 100)\n",
       "  (goal_food_classifier): Linear(in_features=100, out_features=93, bias=True)\n",
       ")"
      ]
     },
     "execution_count": 32,
     "metadata": {},
     "output_type": "execute_result"
    }
   ],
   "source": [
    "model_GoalFood = GoalFoodModel(vocabulary_size = VOCABULARY_SIZE,\n",
    "                               embedding_dim = EMBEDDING_DIM,\n",
    "                               altered_embedding_dim = ALTERED_EMBEDDING_DIM,\n",
    "                               hidden_dim = HIDDEN_DIM,\n",
    "                               goal_food_dim = GOAL_FOOD_DIM,\n",
    "                               device = DEVICE)\n",
    "\n",
    "model_GoalFood = model_GoalFood.to(DEVICE)\n",
    "model_GoalFood.load_state_dict(torch.load(\"model_PANFMR_GoalFood.pt\"))\n",
    "model_GoalFood.eval()"
   ]
  },
  {
   "cell_type": "markdown",
   "metadata": {},
   "source": [
    "### Print scores"
   ]
  },
  {
   "cell_type": "code",
   "execution_count": 33,
   "metadata": {},
   "outputs": [
    {
     "data": {
      "application/vnd.jupyter.widget-view+json": {
       "model_id": "61da3faf51a9437cbadc2937bc02c6c2",
       "version_major": 2,
       "version_minor": 0
      },
      "text/plain": [
       "HBox(children=(IntProgress(value=0, max=506), HTML(value='')))"
      ]
     },
     "metadata": {},
     "output_type": "display_data"
    },
    {
     "data": {
      "text/plain": [
       "(0.6399896, 0.5130169, 0.3371799, 0.8012731, 0.1714951, 0.8512001)"
      ]
     },
     "execution_count": 33,
     "metadata": {},
     "output_type": "execute_result"
    }
   ],
   "source": [
    "get_scores(model_GoalPricerange,\n",
    "           model_GoalArea,\n",
    "           model_GoalName,\n",
    "           model_GoalFood,\n",
    "           model_Requested,\n",
    "           model_Method,\n",
    "           raw_X_dev, raw_Y_dev, dataset = \"dstc2_dev\")"
   ]
  },
  {
   "cell_type": "code",
   "execution_count": 34,
   "metadata": {},
   "outputs": [
    {
     "data": {
      "application/vnd.jupyter.widget-view+json": {
       "model_id": "05613396c6714908b66161238a5d9853",
       "version_major": 2,
       "version_minor": 0
      },
      "text/plain": [
       "HBox(children=(IntProgress(value=0, max=1117), HTML(value='')))"
      ]
     },
     "metadata": {},
     "output_type": "display_data"
    },
    {
     "data": {
      "text/plain": [
       "(0.6795335, 0.4684101, 0.2880708, 0.800123, 0.1840107, 0.9121297)"
      ]
     },
     "execution_count": 34,
     "metadata": {},
     "output_type": "execute_result"
    }
   ],
   "source": [
    "get_scores(model_GoalPricerange,\n",
    "           model_GoalArea,\n",
    "           model_GoalName,\n",
    "           model_GoalFood,\n",
    "           model_Requested,\n",
    "           model_Method,\n",
    "           raw_X_test, raw_Y_test, dataset = \"dstc2_test\")"
   ]
  },
  {
   "cell_type": "markdown",
   "metadata": {},
   "source": [
    "### Train Requested Model"
   ]
  },
  {
   "cell_type": "code",
   "execution_count": 35,
   "metadata": {},
   "outputs": [
    {
     "name": "stderr",
     "output_type": "stream",
     "text": [
      "INFO:root:Epoch\t1/30\n"
     ]
    },
    {
     "data": {
      "application/vnd.jupyter.widget-view+json": {
       "model_id": "5768406d10004632846624b3067b8375",
       "version_major": 2,
       "version_minor": 0
      },
      "text/plain": [
       "HBox(children=(IntProgress(value=0, max=3224), HTML(value='')))"
      ]
     },
     "metadata": {},
     "output_type": "display_data"
    },
    {
     "data": {
      "application/vnd.jupyter.widget-view+json": {
       "model_id": "e12a8fc3343c46279ce139ddfa5dda4f",
       "version_major": 2,
       "version_minor": 0
      },
      "text/plain": [
       "HBox(children=(IntProgress(value=0, max=506), HTML(value='')))"
      ]
     },
     "metadata": {},
     "output_type": "display_data"
    },
    {
     "name": "stderr",
     "output_type": "stream",
     "text": [
      "INFO:root:DEV Acc:\t\t0.6399896(0.64)\t\t0.9578074(0.96)\t\t0.1714951(0.17)\n",
      "INFO:root:DEV L2:\t\t0.5130169(0.51)\t\t0.8012731(0.8)\t\t0.0831079(0.08)\n"
     ]
    },
    {
     "data": {
      "application/vnd.jupyter.widget-view+json": {
       "model_id": "c0691d96b32e40159fb5ceef386bcb3d",
       "version_major": 2,
       "version_minor": 0
      },
      "text/plain": [
       "HBox(children=(IntProgress(value=0, max=1117), HTML(value='')))"
      ]
     },
     "metadata": {},
     "output_type": "display_data"
    },
    {
     "name": "stderr",
     "output_type": "stream",
     "text": [
      "INFO:root:TEST Acc:\t\t0.6795335(0.68)\t\t0.9657927(0.97)\t\t0.1840107(0.18)\n",
      "INFO:root:TEST L2:\t\t0.4684101(0.47)\t\t0.800123(0.8)\t\t0.0651543(0.07)\n",
      "INFO:root:Epoch\t2/30\n"
     ]
    },
    {
     "data": {
      "application/vnd.jupyter.widget-view+json": {
       "model_id": "49949569cd0d448486b7a3d758106157",
       "version_major": 2,
       "version_minor": 0
      },
      "text/plain": [
       "HBox(children=(IntProgress(value=0, max=3224), HTML(value='')))"
      ]
     },
     "metadata": {},
     "output_type": "display_data"
    },
    {
     "data": {
      "application/vnd.jupyter.widget-view+json": {
       "model_id": "7473029a72334b5dac6cc84c7bc1cad7",
       "version_major": 2,
       "version_minor": 0
      },
      "text/plain": [
       "HBox(children=(IntProgress(value=0, max=506), HTML(value='')))"
      ]
     },
     "metadata": {},
     "output_type": "display_data"
    },
    {
     "name": "stderr",
     "output_type": "stream",
     "text": [
      "INFO:root:DEV Acc:\t\t0.6399896(0.64)\t\t0.9624955(0.96)\t\t0.1714951(0.17)\n",
      "INFO:root:DEV L2:\t\t0.5130169(0.51)\t\t0.8012731(0.8)\t\t0.0710907(0.07)\n"
     ]
    },
    {
     "data": {
      "application/vnd.jupyter.widget-view+json": {
       "model_id": "122138901dd64dceb4f88373b70b33ea",
       "version_major": 2,
       "version_minor": 0
      },
      "text/plain": [
       "HBox(children=(IntProgress(value=0, max=1117), HTML(value='')))"
      ]
     },
     "metadata": {},
     "output_type": "display_data"
    },
    {
     "name": "stderr",
     "output_type": "stream",
     "text": [
      "INFO:root:TEST Acc:\t\t0.6795335(0.68)\t\t0.9683973(0.97)\t\t0.1840107(0.18)\n",
      "INFO:root:TEST L2:\t\t0.4684101(0.47)\t\t0.800123(0.8)\t\t0.0571364(0.06)\n",
      "INFO:root:Epoch\t3/30\n"
     ]
    },
    {
     "data": {
      "application/vnd.jupyter.widget-view+json": {
       "model_id": "938b54876b294cfd8be7b5b28cf8691d",
       "version_major": 2,
       "version_minor": 0
      },
      "text/plain": [
       "HBox(children=(IntProgress(value=0, max=3224), HTML(value='')))"
      ]
     },
     "metadata": {},
     "output_type": "display_data"
    },
    {
     "data": {
      "application/vnd.jupyter.widget-view+json": {
       "model_id": "397b9dc6209c417493845da001de4412",
       "version_major": 2,
       "version_minor": 0
      },
      "text/plain": [
       "HBox(children=(IntProgress(value=0, max=506), HTML(value='')))"
      ]
     },
     "metadata": {},
     "output_type": "display_data"
    },
    {
     "name": "stderr",
     "output_type": "stream",
     "text": [
      "INFO:root:DEV Acc:\t\t0.6399896(0.64)\t\t0.9606924(0.96)\t\t0.1714951(0.17)\n",
      "INFO:root:DEV L2:\t\t0.5130169(0.51)\t\t0.8012731(0.8)\t\t0.0760214(0.08)\n"
     ]
    },
    {
     "data": {
      "application/vnd.jupyter.widget-view+json": {
       "model_id": "4bf10f8cb57d424aad518c4c910e0e1f",
       "version_major": 2,
       "version_minor": 0
      },
      "text/plain": [
       "HBox(children=(IntProgress(value=0, max=1117), HTML(value='')))"
      ]
     },
     "metadata": {},
     "output_type": "display_data"
    },
    {
     "name": "stderr",
     "output_type": "stream",
     "text": [
      "INFO:root:TEST Acc:\t\t0.6795335(0.68)\t\t0.9713492(0.97)\t\t0.1840107(0.18)\n",
      "INFO:root:TEST L2:\t\t0.4684101(0.47)\t\t0.800123(0.8)\t\t0.0553747(0.06)\n",
      "INFO:root:Epoch\t4/30\n"
     ]
    },
    {
     "data": {
      "application/vnd.jupyter.widget-view+json": {
       "model_id": "c437f29cd8354a05965a621314dcf8af",
       "version_major": 2,
       "version_minor": 0
      },
      "text/plain": [
       "HBox(children=(IntProgress(value=0, max=3224), HTML(value='')))"
      ]
     },
     "metadata": {},
     "output_type": "display_data"
    },
    {
     "data": {
      "application/vnd.jupyter.widget-view+json": {
       "model_id": "a1d9aad978df49fa94d10448909ed4f9",
       "version_major": 2,
       "version_minor": 0
      },
      "text/plain": [
       "HBox(children=(IntProgress(value=0, max=506), HTML(value='')))"
      ]
     },
     "metadata": {},
     "output_type": "display_data"
    },
    {
     "name": "stderr",
     "output_type": "stream",
     "text": [
      "INFO:root:DEV Acc:\t\t0.6399896(0.64)\t\t0.9650198(0.97)\t\t0.1714951(0.17)\n",
      "INFO:root:DEV L2:\t\t0.5130169(0.51)\t\t0.8012731(0.8)\t\t0.0648297(0.06)\n"
     ]
    },
    {
     "data": {
      "application/vnd.jupyter.widget-view+json": {
       "model_id": "428ed401755542b79d98e7f4aec2f7e6",
       "version_major": 2,
       "version_minor": 0
      },
      "text/plain": [
       "HBox(children=(IntProgress(value=0, max=1117), HTML(value='')))"
      ]
     },
     "metadata": {},
     "output_type": "display_data"
    },
    {
     "name": "stderr",
     "output_type": "stream",
     "text": [
      "INFO:root:TEST Acc:\t\t0.6795335(0.68)\t\t0.9720438(0.97)\t\t0.1840107(0.18)\n",
      "INFO:root:TEST L2:\t\t0.4684101(0.47)\t\t0.800123(0.8)\t\t0.0480285(0.05)\n",
      "INFO:root:Epoch\t5/30\n"
     ]
    },
    {
     "data": {
      "application/vnd.jupyter.widget-view+json": {
       "model_id": "9090da3806a844219411593703a0565d",
       "version_major": 2,
       "version_minor": 0
      },
      "text/plain": [
       "HBox(children=(IntProgress(value=0, max=3224), HTML(value='')))"
      ]
     },
     "metadata": {},
     "output_type": "display_data"
    },
    {
     "data": {
      "application/vnd.jupyter.widget-view+json": {
       "model_id": "1f76b312ee8e4290b8250a5b1601a192",
       "version_major": 2,
       "version_minor": 0
      },
      "text/plain": [
       "HBox(children=(IntProgress(value=0, max=506), HTML(value='')))"
      ]
     },
     "metadata": {},
     "output_type": "display_data"
    },
    {
     "name": "stderr",
     "output_type": "stream",
     "text": [
      "INFO:root:DEV Acc:\t\t0.6399896(0.64)\t\t0.9650198(0.97)\t\t0.1714951(0.17)\n",
      "INFO:root:DEV L2:\t\t0.5130169(0.51)\t\t0.8012731(0.8)\t\t0.0653776(0.07)\n"
     ]
    },
    {
     "data": {
      "application/vnd.jupyter.widget-view+json": {
       "model_id": "9fa837055cd944a898c05d34fcdf9683",
       "version_major": 2,
       "version_minor": 0
      },
      "text/plain": [
       "HBox(children=(IntProgress(value=0, max=1117), HTML(value='')))"
      ]
     },
     "metadata": {},
     "output_type": "display_data"
    },
    {
     "name": "stderr",
     "output_type": "stream",
     "text": [
      "INFO:root:TEST Acc:\t\t0.6795335(0.68)\t\t0.9730856(0.97)\t\t0.1840107(0.18)\n",
      "INFO:root:TEST L2:\t\t0.4684101(0.47)\t\t0.800123(0.8)\t\t0.0480228(0.05)\n",
      "INFO:root:Epoch\t6/30\n"
     ]
    },
    {
     "data": {
      "application/vnd.jupyter.widget-view+json": {
       "model_id": "ce7c7c0e7eb4433bb8d7cc977c90ccf2",
       "version_major": 2,
       "version_minor": 0
      },
      "text/plain": [
       "HBox(children=(IntProgress(value=0, max=3224), HTML(value='')))"
      ]
     },
     "metadata": {},
     "output_type": "display_data"
    },
    {
     "data": {
      "application/vnd.jupyter.widget-view+json": {
       "model_id": "394a5b295caf4821ba9b8e3408417f41",
       "version_major": 2,
       "version_minor": 0
      },
      "text/plain": [
       "HBox(children=(IntProgress(value=0, max=506), HTML(value='')))"
      ]
     },
     "metadata": {},
     "output_type": "display_data"
    },
    {
     "name": "stderr",
     "output_type": "stream",
     "text": [
      "INFO:root:DEV Acc:\t\t0.6399896(0.64)\t\t0.9653805(0.97)\t\t0.1714951(0.17)\n",
      "INFO:root:DEV L2:\t\t0.5130169(0.51)\t\t0.8012731(0.8)\t\t0.0658953(0.07)\n"
     ]
    },
    {
     "data": {
      "application/vnd.jupyter.widget-view+json": {
       "model_id": "4de2fc313dfb459ca86cfd8328886f64",
       "version_major": 2,
       "version_minor": 0
      },
      "text/plain": [
       "HBox(children=(IntProgress(value=0, max=1117), HTML(value='')))"
      ]
     },
     "metadata": {},
     "output_type": "display_data"
    },
    {
     "name": "stderr",
     "output_type": "stream",
     "text": [
      "INFO:root:TEST Acc:\t\t0.6795335(0.68)\t\t0.9734329(0.97)\t\t0.1840107(0.18)\n",
      "INFO:root:TEST L2:\t\t0.4684101(0.47)\t\t0.800123(0.8)\t\t0.0476344(0.05)\n",
      "INFO:root:Epoch\t7/30\n"
     ]
    },
    {
     "data": {
      "application/vnd.jupyter.widget-view+json": {
       "model_id": "79b3a60803b34539a51f953ed230340e",
       "version_major": 2,
       "version_minor": 0
      },
      "text/plain": [
       "HBox(children=(IntProgress(value=0, max=3224), HTML(value='')))"
      ]
     },
     "metadata": {},
     "output_type": "display_data"
    },
    {
     "data": {
      "application/vnd.jupyter.widget-view+json": {
       "model_id": "bbd8cca67a9c4f51bff99af1677d934c",
       "version_major": 2,
       "version_minor": 0
      },
      "text/plain": [
       "HBox(children=(IntProgress(value=0, max=506), HTML(value='')))"
      ]
     },
     "metadata": {},
     "output_type": "display_data"
    },
    {
     "name": "stderr",
     "output_type": "stream",
     "text": [
      "INFO:root:DEV Acc:\t\t0.6399896(0.64)\t\t0.9657411(0.97)\t\t0.1714951(0.17)\n",
      "INFO:root:DEV L2:\t\t0.5130169(0.51)\t\t0.8012731(0.8)\t\t0.0626965(0.06)\n"
     ]
    },
    {
     "data": {
      "application/vnd.jupyter.widget-view+json": {
       "model_id": "36b4989046734154b59b15a78ec5929b",
       "version_major": 2,
       "version_minor": 0
      },
      "text/plain": [
       "HBox(children=(IntProgress(value=0, max=1117), HTML(value='')))"
      ]
     },
     "metadata": {},
     "output_type": "display_data"
    },
    {
     "name": "stderr",
     "output_type": "stream",
     "text": [
      "INFO:root:TEST Acc:\t\t0.6795335(0.68)\t\t0.9746484(0.97)\t\t0.1840107(0.18)\n",
      "INFO:root:TEST L2:\t\t0.4684101(0.47)\t\t0.800123(0.8)\t\t0.046698(0.05)\n",
      "INFO:root:Epoch\t8/30\n"
     ]
    },
    {
     "data": {
      "application/vnd.jupyter.widget-view+json": {
       "model_id": "829dd1f706624b0787df13e8c25940a5",
       "version_major": 2,
       "version_minor": 0
      },
      "text/plain": [
       "HBox(children=(IntProgress(value=0, max=3224), HTML(value='')))"
      ]
     },
     "metadata": {},
     "output_type": "display_data"
    },
    {
     "data": {
      "application/vnd.jupyter.widget-view+json": {
       "model_id": "47820b83efb54ed5b5f20a9eae869780",
       "version_major": 2,
       "version_minor": 0
      },
      "text/plain": [
       "HBox(children=(IntProgress(value=0, max=506), HTML(value='')))"
      ]
     },
     "metadata": {},
     "output_type": "display_data"
    },
    {
     "name": "stderr",
     "output_type": "stream",
     "text": [
      "INFO:root:DEV Acc:\t\t0.6399896(0.64)\t\t0.9679048(0.97)\t\t0.1714951(0.17)\n",
      "INFO:root:DEV L2:\t\t0.5130169(0.51)\t\t0.8012731(0.8)\t\t0.0633283(0.06)\n"
     ]
    },
    {
     "data": {
      "application/vnd.jupyter.widget-view+json": {
       "model_id": "0d8fa9a210e047ca81892b5c85699c44",
       "version_major": 2,
       "version_minor": 0
      },
      "text/plain": [
       "HBox(children=(IntProgress(value=0, max=1117), HTML(value='')))"
      ]
     },
     "metadata": {},
     "output_type": "display_data"
    },
    {
     "name": "stderr",
     "output_type": "stream",
     "text": [
      "INFO:root:TEST Acc:\t\t0.6795335(0.68)\t\t0.9751693(0.98)\t\t0.1840107(0.18)\n",
      "INFO:root:TEST L2:\t\t0.4684101(0.47)\t\t0.800123(0.8)\t\t0.0468137(0.05)\n",
      "INFO:root:Epoch\t9/30\n"
     ]
    },
    {
     "data": {
      "application/vnd.jupyter.widget-view+json": {
       "model_id": "68035e0d3e6046f6a41e97c92cadc697",
       "version_major": 2,
       "version_minor": 0
      },
      "text/plain": [
       "HBox(children=(IntProgress(value=0, max=3224), HTML(value='')))"
      ]
     },
     "metadata": {},
     "output_type": "display_data"
    },
    {
     "data": {
      "application/vnd.jupyter.widget-view+json": {
       "model_id": "b490a79f21ce411cb826815198999a9c",
       "version_major": 2,
       "version_minor": 0
      },
      "text/plain": [
       "HBox(children=(IntProgress(value=0, max=506), HTML(value='')))"
      ]
     },
     "metadata": {},
     "output_type": "display_data"
    },
    {
     "name": "stderr",
     "output_type": "stream",
     "text": [
      "INFO:root:DEV Acc:\t\t0.6399896(0.64)\t\t0.9617743(0.96)\t\t0.1714951(0.17)\n",
      "INFO:root:DEV L2:\t\t0.5130169(0.51)\t\t0.8012731(0.8)\t\t0.0690081(0.07)\n"
     ]
    },
    {
     "data": {
      "application/vnd.jupyter.widget-view+json": {
       "model_id": "c181d326910446a69cc2984da2369ce2",
       "version_major": 2,
       "version_minor": 0
      },
      "text/plain": [
       "HBox(children=(IntProgress(value=0, max=1117), HTML(value='')))"
      ]
     },
     "metadata": {},
     "output_type": "display_data"
    },
    {
     "name": "stderr",
     "output_type": "stream",
     "text": [
      "INFO:root:TEST Acc:\t\t0.6795335(0.68)\t\t0.9741275(0.97)\t\t0.1840107(0.18)\n",
      "INFO:root:TEST L2:\t\t0.4684101(0.47)\t\t0.800123(0.8)\t\t0.0468269(0.05)\n",
      "INFO:root:Epoch\t10/30\n"
     ]
    },
    {
     "data": {
      "application/vnd.jupyter.widget-view+json": {
       "model_id": "d355bfb3062f4132b427d6918fd4b54a",
       "version_major": 2,
       "version_minor": 0
      },
      "text/plain": [
       "HBox(children=(IntProgress(value=0, max=3224), HTML(value='')))"
      ]
     },
     "metadata": {},
     "output_type": "display_data"
    },
    {
     "data": {
      "application/vnd.jupyter.widget-view+json": {
       "model_id": "2818c1e06d6a4bc8be949c38e4819fd0",
       "version_major": 2,
       "version_minor": 0
      },
      "text/plain": [
       "HBox(children=(IntProgress(value=0, max=506), HTML(value='')))"
      ]
     },
     "metadata": {},
     "output_type": "display_data"
    },
    {
     "name": "stderr",
     "output_type": "stream",
     "text": [
      "INFO:root:DEV Acc:\t\t0.6399896(0.64)\t\t0.9632167(0.96)\t\t0.1714951(0.17)\n",
      "INFO:root:DEV L2:\t\t0.5130169(0.51)\t\t0.8012731(0.8)\t\t0.0666757(0.07)\n"
     ]
    },
    {
     "data": {
      "application/vnd.jupyter.widget-view+json": {
       "model_id": "dc19dabcf39943d7ae72bc840313c8ae",
       "version_major": 2,
       "version_minor": 0
      },
      "text/plain": [
       "HBox(children=(IntProgress(value=0, max=1117), HTML(value='')))"
      ]
     },
     "metadata": {},
     "output_type": "display_data"
    },
    {
     "name": "stderr",
     "output_type": "stream",
     "text": [
      "INFO:root:TEST Acc:\t\t0.6795335(0.68)\t\t0.9746484(0.97)\t\t0.1840107(0.18)\n",
      "INFO:root:TEST L2:\t\t0.4684101(0.47)\t\t0.800123(0.8)\t\t0.0444344(0.04)\n",
      "INFO:root:Epoch\t11/30\n"
     ]
    },
    {
     "data": {
      "application/vnd.jupyter.widget-view+json": {
       "model_id": "24b1235a13874694a8c05256056ebdee",
       "version_major": 2,
       "version_minor": 0
      },
      "text/plain": [
       "HBox(children=(IntProgress(value=0, max=3224), HTML(value='')))"
      ]
     },
     "metadata": {},
     "output_type": "display_data"
    },
    {
     "data": {
      "application/vnd.jupyter.widget-view+json": {
       "model_id": "ee74772ecbfe47e79ebaeb3e5017962b",
       "version_major": 2,
       "version_minor": 0
      },
      "text/plain": [
       "HBox(children=(IntProgress(value=0, max=506), HTML(value='')))"
      ]
     },
     "metadata": {},
     "output_type": "display_data"
    },
    {
     "name": "stderr",
     "output_type": "stream",
     "text": [
      "INFO:root:DEV Acc:\t\t0.6399896(0.64)\t\t0.9624955(0.96)\t\t0.1714951(0.17)\n",
      "INFO:root:DEV L2:\t\t0.5130169(0.51)\t\t0.8012731(0.8)\t\t0.0691453(0.07)\n"
     ]
    },
    {
     "data": {
      "application/vnd.jupyter.widget-view+json": {
       "model_id": "5a681915c1204477819e1261e7ba60d7",
       "version_major": 2,
       "version_minor": 0
      },
      "text/plain": [
       "HBox(children=(IntProgress(value=0, max=1117), HTML(value='')))"
      ]
     },
     "metadata": {},
     "output_type": "display_data"
    },
    {
     "name": "stderr",
     "output_type": "stream",
     "text": [
      "INFO:root:TEST Acc:\t\t0.6795335(0.68)\t\t0.9744747(0.97)\t\t0.1840107(0.18)\n",
      "INFO:root:TEST L2:\t\t0.4684101(0.47)\t\t0.800123(0.8)\t\t0.0479061(0.05)\n"
     ]
    },
    {
     "data": {
      "application/vnd.plotly.v1+json": {
       "config": {
        "linkText": "Export to plot.ly",
        "plotlyServerURL": "https://plot.ly",
        "showLink": false
       },
       "data": [
        {
         "marker": {
          "color": "#3498db"
         },
         "mode": "lines+markers",
         "name": "Dev Requested Accuracy",
         "type": "scatter",
         "uid": "a4390610-0976-4dda-819d-6f471b90efbb",
         "x": [
          0,
          1,
          2,
          3,
          4,
          5,
          6,
          7,
          8,
          9,
          10
         ],
         "y": [
          0.9578074,
          0.9624955,
          0.9606924,
          0.9650198,
          0.9650198,
          0.9653805,
          0.9657411,
          0.9679048,
          0.9617743,
          0.9632167,
          0.9624955
         ]
        },
        {
         "marker": {
          "color": "#9b59b6"
         },
         "mode": "lines+markers",
         "name": "Test Requested Accuracy",
         "type": "scatter",
         "uid": "2e71ecc5-cf90-4b40-8a10-fd8d247f2226",
         "x": [
          0,
          1,
          2,
          3,
          4,
          5,
          6,
          7,
          8,
          9,
          10
         ],
         "y": [
          0.9657927,
          0.9683973,
          0.9713492,
          0.9720438,
          0.9730856,
          0.9734329,
          0.9746484,
          0.9751693,
          0.9741275,
          0.9746484,
          0.9744747
         ]
        }
       ],
       "layout": {
        "margin": {
         "b": 150
        },
        "title": {
         "text": "<b>Dev-Test Requested Accuracy</b>"
        },
        "xaxis": {
         "dtick": 1,
         "title": {
          "font": {
           "color": "#34495e"
          },
          "text": "<b>Epoch</b>"
         }
        },
        "yaxis": {
         "title": {
          "font": {
           "color": "#34495e"
          },
          "text": "<b>Accuracy</b>"
         }
        }
       }
      },
      "text/html": [
       "<div id=\"3790f0e5-1dc0-4bfe-97c2-38a49751bc45\" style=\"height: 525px; width: 100%;\" class=\"plotly-graph-div\"></div><script type=\"text/javascript\">require([\"plotly\"], function(Plotly) { window.PLOTLYENV=window.PLOTLYENV || {};window.PLOTLYENV.BASE_URL=\"https://plot.ly\";Plotly.newPlot(\"3790f0e5-1dc0-4bfe-97c2-38a49751bc45\", [{\"marker\": {\"color\": \"#3498db\"}, \"mode\": \"lines+markers\", \"name\": \"Dev Requested Accuracy\", \"x\": [0, 1, 2, 3, 4, 5, 6, 7, 8, 9, 10], \"y\": [0.9578074, 0.9624955, 0.9606924, 0.9650198, 0.9650198, 0.9653805, 0.9657411, 0.9679048, 0.9617743, 0.9632167, 0.9624955], \"type\": \"scatter\", \"uid\": \"238a3b4a-c54f-4f88-8ed6-18feb581fcd5\"}, {\"marker\": {\"color\": \"#9b59b6\"}, \"mode\": \"lines+markers\", \"name\": \"Test Requested Accuracy\", \"x\": [0, 1, 2, 3, 4, 5, 6, 7, 8, 9, 10], \"y\": [0.9657927, 0.9683973, 0.9713492, 0.9720438, 0.9730856, 0.9734329, 0.9746484, 0.9751693, 0.9741275, 0.9746484, 0.9744747], \"type\": \"scatter\", \"uid\": \"903c9909-c866-4ccc-b658-2a8b957889fa\"}], {\"margin\": {\"b\": 150}, \"title\": {\"text\": \"<b>Dev-Test Requested Accuracy</b>\"}, \"xaxis\": {\"dtick\": 1, \"title\": {\"font\": {\"color\": \"#34495e\"}, \"text\": \"<b>Epoch</b>\"}}, \"yaxis\": {\"title\": {\"font\": {\"color\": \"#34495e\"}, \"text\": \"<b>Accuracy</b>\"}}}, {\"showLink\": false, \"linkText\": \"Export to plot.ly\", \"plotlyServerURL\": \"https://plot.ly\"})});</script><script type=\"text/javascript\">window.addEventListener(\"resize\", function(){window._Plotly.Plots.resize(document.getElementById(\"3790f0e5-1dc0-4bfe-97c2-38a49751bc45\"));});</script>"
      ],
      "text/vnd.plotly.v1+html": [
       "<div id=\"3790f0e5-1dc0-4bfe-97c2-38a49751bc45\" style=\"height: 525px; width: 100%;\" class=\"plotly-graph-div\"></div><script type=\"text/javascript\">require([\"plotly\"], function(Plotly) { window.PLOTLYENV=window.PLOTLYENV || {};window.PLOTLYENV.BASE_URL=\"https://plot.ly\";Plotly.newPlot(\"3790f0e5-1dc0-4bfe-97c2-38a49751bc45\", [{\"marker\": {\"color\": \"#3498db\"}, \"mode\": \"lines+markers\", \"name\": \"Dev Requested Accuracy\", \"x\": [0, 1, 2, 3, 4, 5, 6, 7, 8, 9, 10], \"y\": [0.9578074, 0.9624955, 0.9606924, 0.9650198, 0.9650198, 0.9653805, 0.9657411, 0.9679048, 0.9617743, 0.9632167, 0.9624955], \"type\": \"scatter\", \"uid\": \"238a3b4a-c54f-4f88-8ed6-18feb581fcd5\"}, {\"marker\": {\"color\": \"#9b59b6\"}, \"mode\": \"lines+markers\", \"name\": \"Test Requested Accuracy\", \"x\": [0, 1, 2, 3, 4, 5, 6, 7, 8, 9, 10], \"y\": [0.9657927, 0.9683973, 0.9713492, 0.9720438, 0.9730856, 0.9734329, 0.9746484, 0.9751693, 0.9741275, 0.9746484, 0.9744747], \"type\": \"scatter\", \"uid\": \"903c9909-c866-4ccc-b658-2a8b957889fa\"}], {\"margin\": {\"b\": 150}, \"title\": {\"text\": \"<b>Dev-Test Requested Accuracy</b>\"}, \"xaxis\": {\"dtick\": 1, \"title\": {\"font\": {\"color\": \"#34495e\"}, \"text\": \"<b>Epoch</b>\"}}, \"yaxis\": {\"title\": {\"font\": {\"color\": \"#34495e\"}, \"text\": \"<b>Accuracy</b>\"}}}, {\"showLink\": false, \"linkText\": \"Export to plot.ly\", \"plotlyServerURL\": \"https://plot.ly\"})});</script><script type=\"text/javascript\">window.addEventListener(\"resize\", function(){window._Plotly.Plots.resize(document.getElementById(\"3790f0e5-1dc0-4bfe-97c2-38a49751bc45\"));});</script>"
      ]
     },
     "metadata": {},
     "output_type": "display_data"
    }
   ],
   "source": [
    "dev_goal_accuracies = []\n",
    "dev_requested_accuracies = []\n",
    "dev_method_accuracies = []\n",
    "\n",
    "test_goal_accuracies = []\n",
    "test_requested_accuracies = []\n",
    "test_method_accuracies = []\n",
    "\n",
    "requested_early_stopping = EarlyStopping(patience = 2)\n",
    "\n",
    "train_indices = np.arange(raw_X_train.shape[0])\n",
    "\n",
    "for epoch in range(NUM_EPOCHS):\n",
    "    \n",
    "    np.random.shuffle(train_indices)\n",
    "    \n",
    "    logging.info(\"Epoch\\t{}/{}\".format(epoch + 1, NUM_EPOCHS))\n",
    "    \n",
    "    model_Requested = model_Requested.train()\n",
    "    \n",
    "    for raw_X_train_dialog, raw_Y_train_dialog in tqdm_notebook(zip(raw_X_train[train_indices], raw_Y_train[train_indices]), total = len(raw_X_train)):\n",
    "\n",
    "        model_Requested.hidden = model_Requested.init_hidden()\n",
    "        \n",
    "        for raw_X_train_turn, raw_Y_train_turn in zip(raw_X_train_dialog[\"turns\"], raw_Y_train_dialog[\"turns\"]):\n",
    "            \n",
    "            optimizer_RequestedModel.zero_grad()\n",
    "            \n",
    "            indices, scores = get_index_and_score(raw_X_train_turn, token_to_index, mode = \"train\", device = DEVICE)\n",
    "            \n",
    "            requested = model_Requested(indices, scores)\n",
    "            \n",
    "            loss_requested = REQUESTED_LOSS_FUNCTION(requested,\n",
    "                                                     retrieve_gold_Requested(raw_Y_train_turn,\n",
    "                                                                             ontology = ontology,\n",
    "                                                                             device = DEVICE))\n",
    "            loss_requested.backward(retain_graph = True)\n",
    "            \n",
    "            optimizer_RequestedModel.step()\n",
    "    \n",
    "    dev_goal_accuracy, \\\n",
    "    dev_goal_l2, \\\n",
    "    dev_requested_accuracy, \\\n",
    "    dev_requested_l2, \\\n",
    "    dev_method_accuracy, \\\n",
    "    dev_method_l2 = get_scores(model_GoalPricerange,\n",
    "                               model_GoalArea,\n",
    "                               model_GoalName,\n",
    "                               model_GoalFood,\n",
    "                               model_Requested,\n",
    "                               model_Method,\n",
    "                               raw_X_dev, raw_Y_dev, dataset = \"dstc2_dev\")\n",
    "    logging.info(\"DEV Acc:\\t\\t{}({})\\t\\t{}({})\\t\\t{}({})\".format(dev_goal_accuracy,\n",
    "                                                                 np.around(dev_goal_accuracy, decimals = 2),\n",
    "                                                                 dev_requested_accuracy,\n",
    "                                                                 np.around(dev_requested_accuracy, decimals = 2),\n",
    "                                                                 dev_method_accuracy,\n",
    "                                                                 np.around(dev_method_accuracy, decimals = 2)))\n",
    "    logging.info(\"DEV L2:\\t\\t{}({})\\t\\t{}({})\\t\\t{}({})\".format(dev_goal_l2,\n",
    "                                                                np.around(dev_goal_l2, decimals = 2),\n",
    "                                                                dev_requested_l2,\n",
    "                                                                np.around(dev_requested_l2, decimals = 2),\n",
    "                                                                dev_method_l2,\n",
    "                                                                np.around(dev_method_l2, decimals = 2)))\n",
    "    dev_goal_accuracies.append(dev_goal_accuracy)\n",
    "    dev_requested_accuracies.append(dev_requested_accuracy)\n",
    "    dev_method_accuracies.append(dev_method_accuracy)\n",
    "\n",
    "    test_goal_accuracy, \\\n",
    "    test_goal_l2, \\\n",
    "    test_requested_accuracy, \\\n",
    "    test_requested_l2, \\\n",
    "    test_method_accuracy, \\\n",
    "    test_method_l2 = get_scores(model_GoalPricerange,\n",
    "                                model_GoalArea,\n",
    "                                model_GoalName,\n",
    "                                model_GoalFood,\n",
    "                                model_Requested,\n",
    "                                model_Method,\n",
    "                                raw_X_test, raw_Y_test, dataset = \"dstc2_test\")\n",
    "    logging.info(\"TEST Acc:\\t\\t{}({})\\t\\t{}({})\\t\\t{}({})\".format(test_goal_accuracy,\n",
    "                                                              np.around(test_goal_accuracy, decimals = 2),\n",
    "                                                              test_requested_accuracy,\n",
    "                                                              np.around(test_requested_accuracy, decimals = 2),\n",
    "                                                              test_method_accuracy,\n",
    "                                                              np.around(test_method_accuracy, decimals = 2)))\n",
    "    logging.info(\"TEST L2:\\t\\t{}({})\\t\\t{}({})\\t\\t{}({})\".format(test_goal_l2,\n",
    "                                                              np.around(test_goal_l2, decimals = 2),\n",
    "                                                              test_requested_l2,\n",
    "                                                              np.around(test_requested_l2, decimals = 2),\n",
    "                                                              test_method_l2,\n",
    "                                                              np.around(test_method_l2, decimals = 2)))\n",
    "    test_goal_accuracies.append(test_goal_accuracy)\n",
    "    test_requested_accuracies.append(test_requested_accuracy)\n",
    "    test_method_accuracies.append(test_method_accuracy)\n",
    "        \n",
    "    requested_early_stopping.on_epoch_end(epoch = (epoch + 1), current_value = (dev_requested_accuracy))\n",
    "    \n",
    "    if requested_early_stopping.wait == 0:\n",
    "        torch.save(model_Requested.state_dict(), \"model_PANFMR_Requested.pt\")\n",
    "        \n",
    "    if requested_early_stopping.stop_training:\n",
    "        break\n",
    "\n",
    "plotly_plot(dev_requested_accuracies, test_requested_accuracies, \"Requested\")"
   ]
  },
  {
   "cell_type": "markdown",
   "metadata": {},
   "source": [
    "### Load Requested Model"
   ]
  },
  {
   "cell_type": "code",
   "execution_count": 36,
   "metadata": {},
   "outputs": [
    {
     "data": {
      "text/plain": [
       "RequestedModel(\n",
       "  (embeddings): Embedding(1149, 170)\n",
       "  (altered_embeddings): Linear(in_features=171, out_features=300, bias=True)\n",
       "  (lstm): LSTM(300, 100)\n",
       "  (requested_classifier): Linear(in_features=100, out_features=8, bias=True)\n",
       ")"
      ]
     },
     "execution_count": 36,
     "metadata": {},
     "output_type": "execute_result"
    }
   ],
   "source": [
    "model_Requested = RequestedModel(vocabulary_size = VOCABULARY_SIZE,\n",
    "                                 embedding_dim = EMBEDDING_DIM,\n",
    "                                 altered_embedding_dim = ALTERED_EMBEDDING_DIM,\n",
    "                                 hidden_dim = HIDDEN_DIM,\n",
    "                                 requested_dim = REQUESTED_DIM,\n",
    "                                 device = DEVICE)\n",
    "\n",
    "model_Requested = model_Requested.to(DEVICE)\n",
    "model_Requested.load_state_dict(torch.load(\"model_PANFMR_Requested.pt\"))\n",
    "model_Requested.eval()"
   ]
  },
  {
   "cell_type": "markdown",
   "metadata": {},
   "source": [
    "### Print scores"
   ]
  },
  {
   "cell_type": "code",
   "execution_count": 37,
   "metadata": {},
   "outputs": [
    {
     "data": {
      "application/vnd.jupyter.widget-view+json": {
       "model_id": "945e18eef47248eb8ed24072336bbc76",
       "version_major": 2,
       "version_minor": 0
      },
      "text/plain": [
       "HBox(children=(IntProgress(value=0, max=506), HTML(value='')))"
      ]
     },
     "metadata": {},
     "output_type": "display_data"
    },
    {
     "data": {
      "text/plain": [
       "(0.6399896, 0.5130169, 0.9679048, 0.8012731, 0.1714951, 0.0633283)"
      ]
     },
     "execution_count": 37,
     "metadata": {},
     "output_type": "execute_result"
    }
   ],
   "source": [
    "get_scores(model_GoalPricerange,\n",
    "           model_GoalArea,\n",
    "           model_GoalName,\n",
    "           model_GoalFood,\n",
    "           model_Requested,\n",
    "           model_Method,\n",
    "           raw_X_dev, raw_Y_dev, dataset = \"dstc2_dev\")"
   ]
  },
  {
   "cell_type": "code",
   "execution_count": 38,
   "metadata": {},
   "outputs": [
    {
     "data": {
      "application/vnd.jupyter.widget-view+json": {
       "model_id": "de3635f913364b419a039eff7c3990de",
       "version_major": 2,
       "version_minor": 0
      },
      "text/plain": [
       "HBox(children=(IntProgress(value=0, max=1117), HTML(value='')))"
      ]
     },
     "metadata": {},
     "output_type": "display_data"
    },
    {
     "data": {
      "text/plain": [
       "(0.6795335, 0.4684101, 0.9751693, 0.800123, 0.1840107, 0.0468137)"
      ]
     },
     "execution_count": 38,
     "metadata": {},
     "output_type": "execute_result"
    }
   ],
   "source": [
    "get_scores(model_GoalPricerange,\n",
    "           model_GoalArea,\n",
    "           model_GoalName,\n",
    "           model_GoalFood,\n",
    "           model_Requested,\n",
    "           model_Method,\n",
    "           raw_X_test, raw_Y_test, dataset = \"dstc2_test\")"
   ]
  },
  {
   "cell_type": "markdown",
   "metadata": {},
   "source": [
    "### Train Method Model"
   ]
  },
  {
   "cell_type": "code",
   "execution_count": 39,
   "metadata": {},
   "outputs": [
    {
     "name": "stderr",
     "output_type": "stream",
     "text": [
      "INFO:root:Epoch\t1/30\n"
     ]
    },
    {
     "data": {
      "application/vnd.jupyter.widget-view+json": {
       "model_id": "71d424da20484343a2a4a07f789c2c6a",
       "version_major": 2,
       "version_minor": 0
      },
      "text/plain": [
       "HBox(children=(IntProgress(value=0, max=3224), HTML(value='')))"
      ]
     },
     "metadata": {},
     "output_type": "display_data"
    },
    {
     "data": {
      "application/vnd.jupyter.widget-view+json": {
       "model_id": "5537c0208b454305ab2dde9062b49af2",
       "version_major": 2,
       "version_minor": 0
      },
      "text/plain": [
       "HBox(children=(IntProgress(value=0, max=506), HTML(value='')))"
      ]
     },
     "metadata": {},
     "output_type": "display_data"
    },
    {
     "name": "stderr",
     "output_type": "stream",
     "text": [
      "INFO:root:DEV Acc:\t\t0.6399896(0.64)\t\t0.9679048(0.97)\t\t0.8993792(0.9)\n",
      "INFO:root:DEV L2:\t\t0.5130169(0.51)\t\t0.1671901(0.17)\t\t0.0633283(0.06)\n"
     ]
    },
    {
     "data": {
      "application/vnd.jupyter.widget-view+json": {
       "model_id": "1d82fccb743e4194acee5eb0ec1492d1",
       "version_major": 2,
       "version_minor": 0
      },
      "text/plain": [
       "HBox(children=(IntProgress(value=0, max=1117), HTML(value='')))"
      ]
     },
     "metadata": {},
     "output_type": "display_data"
    },
    {
     "name": "stderr",
     "output_type": "stream",
     "text": [
      "INFO:root:TEST Acc:\t\t0.6795335(0.68)\t\t0.9751693(0.98)\t\t0.9239532(0.92)\n",
      "INFO:root:TEST L2:\t\t0.4684101(0.47)\t\t0.1250564(0.13)\t\t0.0468137(0.05)\n",
      "INFO:root:Epoch\t2/30\n"
     ]
    },
    {
     "data": {
      "application/vnd.jupyter.widget-view+json": {
       "model_id": "09e7e625b9c64a0db1678e960c34bd03",
       "version_major": 2,
       "version_minor": 0
      },
      "text/plain": [
       "HBox(children=(IntProgress(value=0, max=3224), HTML(value='')))"
      ]
     },
     "metadata": {},
     "output_type": "display_data"
    },
    {
     "data": {
      "application/vnd.jupyter.widget-view+json": {
       "model_id": "32652d5ba7184c16bba1583d65ba9b0f",
       "version_major": 2,
       "version_minor": 0
      },
      "text/plain": [
       "HBox(children=(IntProgress(value=0, max=506), HTML(value='')))"
      ]
     },
     "metadata": {},
     "output_type": "display_data"
    },
    {
     "name": "stderr",
     "output_type": "stream",
     "text": [
      "INFO:root:DEV Acc:\t\t0.6399896(0.64)\t\t0.9679048(0.97)\t\t0.8983445(0.9)\n",
      "INFO:root:DEV L2:\t\t0.5130169(0.51)\t\t0.172788(0.17)\t\t0.0633283(0.06)\n"
     ]
    },
    {
     "data": {
      "application/vnd.jupyter.widget-view+json": {
       "model_id": "49338d4012394556b9a9cbee6256ae74",
       "version_major": 2,
       "version_minor": 0
      },
      "text/plain": [
       "HBox(children=(IntProgress(value=0, max=1117), HTML(value='')))"
      ]
     },
     "metadata": {},
     "output_type": "display_data"
    },
    {
     "name": "stderr",
     "output_type": "stream",
     "text": [
      "INFO:root:TEST Acc:\t\t0.6795335(0.68)\t\t0.9751693(0.98)\t\t0.9273399(0.93)\n",
      "INFO:root:TEST L2:\t\t0.4684101(0.47)\t\t0.121101(0.12)\t\t0.0468137(0.05)\n",
      "INFO:root:Epoch\t3/30\n"
     ]
    },
    {
     "data": {
      "application/vnd.jupyter.widget-view+json": {
       "model_id": "a23365bbee904084a204978002de3d8b",
       "version_major": 2,
       "version_minor": 0
      },
      "text/plain": [
       "HBox(children=(IntProgress(value=0, max=3224), HTML(value='')))"
      ]
     },
     "metadata": {},
     "output_type": "display_data"
    },
    {
     "data": {
      "application/vnd.jupyter.widget-view+json": {
       "model_id": "570caea46fdc4646b1247017501ca06a",
       "version_major": 2,
       "version_minor": 0
      },
      "text/plain": [
       "HBox(children=(IntProgress(value=0, max=506), HTML(value='')))"
      ]
     },
     "metadata": {},
     "output_type": "display_data"
    },
    {
     "name": "stderr",
     "output_type": "stream",
     "text": [
      "INFO:root:DEV Acc:\t\t0.6399896(0.64)\t\t0.9679048(0.97)\t\t0.9048112(0.9)\n",
      "INFO:root:DEV L2:\t\t0.5130169(0.51)\t\t0.1589519(0.16)\t\t0.0633283(0.06)\n"
     ]
    },
    {
     "data": {
      "application/vnd.jupyter.widget-view+json": {
       "model_id": "1c17746c68f1472a9a3cbf8b0a6f95d8",
       "version_major": 2,
       "version_minor": 0
      },
      "text/plain": [
       "HBox(children=(IntProgress(value=0, max=1117), HTML(value='')))"
      ]
     },
     "metadata": {},
     "output_type": "display_data"
    },
    {
     "name": "stderr",
     "output_type": "stream",
     "text": [
      "INFO:root:TEST Acc:\t\t0.6795335(0.68)\t\t0.9751693(0.98)\t\t0.9312397(0.93)\n",
      "INFO:root:TEST L2:\t\t0.4684101(0.47)\t\t0.1139675(0.11)\t\t0.0468137(0.05)\n",
      "INFO:root:Epoch\t4/30\n"
     ]
    },
    {
     "data": {
      "application/vnd.jupyter.widget-view+json": {
       "model_id": "a28fdf0c877b4a5da2f5ed89bb1a6d58",
       "version_major": 2,
       "version_minor": 0
      },
      "text/plain": [
       "HBox(children=(IntProgress(value=0, max=3224), HTML(value='')))"
      ]
     },
     "metadata": {},
     "output_type": "display_data"
    },
    {
     "data": {
      "application/vnd.jupyter.widget-view+json": {
       "model_id": "e84bc3acb194413abd9913e98c2273b9",
       "version_major": 2,
       "version_minor": 0
      },
      "text/plain": [
       "HBox(children=(IntProgress(value=0, max=506), HTML(value='')))"
      ]
     },
     "metadata": {},
     "output_type": "display_data"
    },
    {
     "name": "stderr",
     "output_type": "stream",
     "text": [
      "INFO:root:DEV Acc:\t\t0.6399896(0.64)\t\t0.9679048(0.97)\t\t0.9042938(0.9)\n",
      "INFO:root:DEV L2:\t\t0.5130169(0.51)\t\t0.1564696(0.16)\t\t0.0633283(0.06)\n"
     ]
    },
    {
     "data": {
      "application/vnd.jupyter.widget-view+json": {
       "model_id": "1570f5b32bea4ce4a77f6dd1edcb97e4",
       "version_major": 2,
       "version_minor": 0
      },
      "text/plain": [
       "HBox(children=(IntProgress(value=0, max=1117), HTML(value='')))"
      ]
     },
     "metadata": {},
     "output_type": "display_data"
    },
    {
     "name": "stderr",
     "output_type": "stream",
     "text": [
      "INFO:root:TEST Acc:\t\t0.6795335(0.68)\t\t0.9751693(0.98)\t\t0.9299056(0.93)\n",
      "INFO:root:TEST L2:\t\t0.4684101(0.47)\t\t0.1150893(0.12)\t\t0.0468137(0.05)\n",
      "INFO:root:Epoch\t5/30\n"
     ]
    },
    {
     "data": {
      "application/vnd.jupyter.widget-view+json": {
       "model_id": "18b1adda4b054ca78f2e81d5af9e1d70",
       "version_major": 2,
       "version_minor": 0
      },
      "text/plain": [
       "HBox(children=(IntProgress(value=0, max=3224), HTML(value='')))"
      ]
     },
     "metadata": {},
     "output_type": "display_data"
    },
    {
     "data": {
      "application/vnd.jupyter.widget-view+json": {
       "model_id": "59a4f1fad1e64e6fbb643c67c7693168",
       "version_major": 2,
       "version_minor": 0
      },
      "text/plain": [
       "HBox(children=(IntProgress(value=0, max=506), HTML(value='')))"
      ]
     },
     "metadata": {},
     "output_type": "display_data"
    },
    {
     "name": "stderr",
     "output_type": "stream",
     "text": [
      "INFO:root:DEV Acc:\t\t0.6399896(0.64)\t\t0.9679048(0.97)\t\t0.9048112(0.9)\n",
      "INFO:root:DEV L2:\t\t0.5130169(0.51)\t\t0.1616559(0.16)\t\t0.0633283(0.06)\n"
     ]
    },
    {
     "data": {
      "application/vnd.jupyter.widget-view+json": {
       "model_id": "590d374165fa4629bc6251085b80a2e2",
       "version_major": 2,
       "version_minor": 0
      },
      "text/plain": [
       "HBox(children=(IntProgress(value=0, max=1117), HTML(value='')))"
      ]
     },
     "metadata": {},
     "output_type": "display_data"
    },
    {
     "name": "stderr",
     "output_type": "stream",
     "text": [
      "INFO:root:TEST Acc:\t\t0.6795335(0.68)\t\t0.9751693(0.98)\t\t0.931445(0.93)\n",
      "INFO:root:TEST L2:\t\t0.4684101(0.47)\t\t0.1128521(0.11)\t\t0.0468137(0.05)\n",
      "INFO:root:Epoch\t6/30\n"
     ]
    },
    {
     "data": {
      "application/vnd.jupyter.widget-view+json": {
       "model_id": "b23eb9385a1b49fcb132975477e36c62",
       "version_major": 2,
       "version_minor": 0
      },
      "text/plain": [
       "HBox(children=(IntProgress(value=0, max=3224), HTML(value='')))"
      ]
     },
     "metadata": {},
     "output_type": "display_data"
    },
    {
     "data": {
      "application/vnd.jupyter.widget-view+json": {
       "model_id": "ad7e546262f14b68afcc38d0cfba7e13",
       "version_major": 2,
       "version_minor": 0
      },
      "text/plain": [
       "HBox(children=(IntProgress(value=0, max=506), HTML(value='')))"
      ]
     },
     "metadata": {},
     "output_type": "display_data"
    },
    {
     "name": "stderr",
     "output_type": "stream",
     "text": [
      "INFO:root:DEV Acc:\t\t0.6399896(0.64)\t\t0.9679048(0.97)\t\t0.9027419(0.9)\n",
      "INFO:root:DEV L2:\t\t0.5130169(0.51)\t\t0.1621799(0.16)\t\t0.0633283(0.06)\n"
     ]
    },
    {
     "data": {
      "application/vnd.jupyter.widget-view+json": {
       "model_id": "7edfbd6bafce4908b03c52b87f3d02bd",
       "version_major": 2,
       "version_minor": 0
      },
      "text/plain": [
       "HBox(children=(IntProgress(value=0, max=1117), HTML(value='')))"
      ]
     },
     "metadata": {},
     "output_type": "display_data"
    },
    {
     "name": "stderr",
     "output_type": "stream",
     "text": [
      "INFO:root:TEST Acc:\t\t0.6795335(0.68)\t\t0.9751693(0.98)\t\t0.9277504(0.93)\n",
      "INFO:root:TEST L2:\t\t0.4684101(0.47)\t\t0.116586(0.12)\t\t0.0468137(0.05)\n"
     ]
    },
    {
     "data": {
      "application/vnd.plotly.v1+json": {
       "config": {
        "linkText": "Export to plot.ly",
        "plotlyServerURL": "https://plot.ly",
        "showLink": false
       },
       "data": [
        {
         "marker": {
          "color": "#3498db"
         },
         "mode": "lines+markers",
         "name": "Dev Method Accuracy",
         "type": "scatter",
         "uid": "ea21901e-6764-43ab-8f52-b9d764352ca4",
         "x": [
          0,
          1,
          2,
          3,
          4,
          5
         ],
         "y": [
          0.8993792,
          0.8983445,
          0.9048112,
          0.9042938,
          0.9048112,
          0.9027419
         ]
        },
        {
         "marker": {
          "color": "#9b59b6"
         },
         "mode": "lines+markers",
         "name": "Test Method Accuracy",
         "type": "scatter",
         "uid": "6d7b3bbc-c97d-455c-8315-c3322276f7df",
         "x": [
          0,
          1,
          2,
          3,
          4,
          5
         ],
         "y": [
          0.9239532,
          0.9273399,
          0.9312397,
          0.9299056,
          0.931445,
          0.9277504
         ]
        }
       ],
       "layout": {
        "margin": {
         "b": 150
        },
        "title": {
         "text": "<b>Dev-Test Method Accuracy</b>"
        },
        "xaxis": {
         "dtick": 1,
         "title": {
          "font": {
           "color": "#34495e"
          },
          "text": "<b>Epoch</b>"
         }
        },
        "yaxis": {
         "title": {
          "font": {
           "color": "#34495e"
          },
          "text": "<b>Accuracy</b>"
         }
        }
       }
      },
      "text/html": [
       "<div id=\"58f2fc18-978d-44e4-b001-567906f4587f\" style=\"height: 525px; width: 100%;\" class=\"plotly-graph-div\"></div><script type=\"text/javascript\">require([\"plotly\"], function(Plotly) { window.PLOTLYENV=window.PLOTLYENV || {};window.PLOTLYENV.BASE_URL=\"https://plot.ly\";Plotly.newPlot(\"58f2fc18-978d-44e4-b001-567906f4587f\", [{\"marker\": {\"color\": \"#3498db\"}, \"mode\": \"lines+markers\", \"name\": \"Dev Method Accuracy\", \"x\": [0, 1, 2, 3, 4, 5], \"y\": [0.8993792, 0.8983445, 0.9048112, 0.9042938, 0.9048112, 0.9027419], \"type\": \"scatter\", \"uid\": \"798d5f91-7bc4-4c02-b82f-1c86c85d5f2c\"}, {\"marker\": {\"color\": \"#9b59b6\"}, \"mode\": \"lines+markers\", \"name\": \"Test Method Accuracy\", \"x\": [0, 1, 2, 3, 4, 5], \"y\": [0.9239532, 0.9273399, 0.9312397, 0.9299056, 0.931445, 0.9277504], \"type\": \"scatter\", \"uid\": \"e64f2b5f-6e73-415d-b3e0-46977e8fa09c\"}], {\"margin\": {\"b\": 150}, \"title\": {\"text\": \"<b>Dev-Test Method Accuracy</b>\"}, \"xaxis\": {\"dtick\": 1, \"title\": {\"font\": {\"color\": \"#34495e\"}, \"text\": \"<b>Epoch</b>\"}}, \"yaxis\": {\"title\": {\"font\": {\"color\": \"#34495e\"}, \"text\": \"<b>Accuracy</b>\"}}}, {\"showLink\": false, \"linkText\": \"Export to plot.ly\", \"plotlyServerURL\": \"https://plot.ly\"})});</script><script type=\"text/javascript\">window.addEventListener(\"resize\", function(){window._Plotly.Plots.resize(document.getElementById(\"58f2fc18-978d-44e4-b001-567906f4587f\"));});</script>"
      ],
      "text/vnd.plotly.v1+html": [
       "<div id=\"58f2fc18-978d-44e4-b001-567906f4587f\" style=\"height: 525px; width: 100%;\" class=\"plotly-graph-div\"></div><script type=\"text/javascript\">require([\"plotly\"], function(Plotly) { window.PLOTLYENV=window.PLOTLYENV || {};window.PLOTLYENV.BASE_URL=\"https://plot.ly\";Plotly.newPlot(\"58f2fc18-978d-44e4-b001-567906f4587f\", [{\"marker\": {\"color\": \"#3498db\"}, \"mode\": \"lines+markers\", \"name\": \"Dev Method Accuracy\", \"x\": [0, 1, 2, 3, 4, 5], \"y\": [0.8993792, 0.8983445, 0.9048112, 0.9042938, 0.9048112, 0.9027419], \"type\": \"scatter\", \"uid\": \"798d5f91-7bc4-4c02-b82f-1c86c85d5f2c\"}, {\"marker\": {\"color\": \"#9b59b6\"}, \"mode\": \"lines+markers\", \"name\": \"Test Method Accuracy\", \"x\": [0, 1, 2, 3, 4, 5], \"y\": [0.9239532, 0.9273399, 0.9312397, 0.9299056, 0.931445, 0.9277504], \"type\": \"scatter\", \"uid\": \"e64f2b5f-6e73-415d-b3e0-46977e8fa09c\"}], {\"margin\": {\"b\": 150}, \"title\": {\"text\": \"<b>Dev-Test Method Accuracy</b>\"}, \"xaxis\": {\"dtick\": 1, \"title\": {\"font\": {\"color\": \"#34495e\"}, \"text\": \"<b>Epoch</b>\"}}, \"yaxis\": {\"title\": {\"font\": {\"color\": \"#34495e\"}, \"text\": \"<b>Accuracy</b>\"}}}, {\"showLink\": false, \"linkText\": \"Export to plot.ly\", \"plotlyServerURL\": \"https://plot.ly\"})});</script><script type=\"text/javascript\">window.addEventListener(\"resize\", function(){window._Plotly.Plots.resize(document.getElementById(\"58f2fc18-978d-44e4-b001-567906f4587f\"));});</script>"
      ]
     },
     "metadata": {},
     "output_type": "display_data"
    }
   ],
   "source": [
    "dev_goal_accuracies = []\n",
    "dev_requested_accuracies = []\n",
    "dev_method_accuracies = []\n",
    "\n",
    "test_goal_accuracies = []\n",
    "test_requested_accuracies = []\n",
    "test_method_accuracies = []\n",
    "\n",
    "method_early_stopping = EarlyStopping(patience = 2)\n",
    "\n",
    "train_indices = np.arange(raw_X_train.shape[0])\n",
    "\n",
    "for epoch in range(NUM_EPOCHS):\n",
    "    \n",
    "    np.random.shuffle(train_indices)\n",
    "    \n",
    "    logging.info(\"Epoch\\t{}/{}\".format(epoch + 1, NUM_EPOCHS))\n",
    "    \n",
    "    model_Method = model_Method.train()\n",
    "    \n",
    "    for raw_X_train_dialog, raw_Y_train_dialog in tqdm_notebook(zip(raw_X_train[train_indices], raw_Y_train[train_indices]), total = len(raw_X_train)):\n",
    "\n",
    "        model_Method.hidden = model_Method.init_hidden()\n",
    "\n",
    "        for raw_X_train_turn, raw_Y_train_turn in zip(raw_X_train_dialog[\"turns\"], raw_Y_train_dialog[\"turns\"]):\n",
    "            \n",
    "            optimizer_MethodModel.zero_grad()\n",
    "            \n",
    "            indices, scores = get_index_and_score(raw_X_train_turn, token_to_index, mode = \"train\", device = DEVICE)\n",
    "            \n",
    "            method = model_Method(indices, scores)\n",
    "            \n",
    "            loss_method = METHOD_LOSS_FUNCTION(method,\n",
    "                                               retrieve_gold_Method(raw_Y_train_turn,\n",
    "                                                                    ontology = ontology,\n",
    "                                                                    device = DEVICE))\n",
    "            loss_method.backward(retain_graph = True)\n",
    "            \n",
    "            optimizer_MethodModel.step()\n",
    "    \n",
    "    dev_goal_accuracy, \\\n",
    "    dev_goal_l2, \\\n",
    "    dev_requested_accuracy, \\\n",
    "    dev_requested_l2, \\\n",
    "    dev_method_accuracy, \\\n",
    "    dev_method_l2 = get_scores(model_GoalPricerange,\n",
    "                               model_GoalArea,\n",
    "                               model_GoalName,\n",
    "                               model_GoalFood,\n",
    "                               model_Requested,\n",
    "                               model_Method,\n",
    "                               raw_X_dev, raw_Y_dev, dataset = \"dstc2_dev\")\n",
    "    logging.info(\"DEV Acc:\\t\\t{}({})\\t\\t{}({})\\t\\t{}({})\".format(dev_goal_accuracy,\n",
    "                                                                 np.around(dev_goal_accuracy, decimals = 2),\n",
    "                                                                 dev_requested_accuracy,\n",
    "                                                                 np.around(dev_requested_accuracy, decimals = 2),\n",
    "                                                                 dev_method_accuracy,\n",
    "                                                                 np.around(dev_method_accuracy, decimals = 2)))\n",
    "    logging.info(\"DEV L2:\\t\\t{}({})\\t\\t{}({})\\t\\t{}({})\".format(dev_goal_l2,\n",
    "                                                                np.around(dev_goal_l2, decimals = 2),\n",
    "                                                                dev_requested_l2,\n",
    "                                                                np.around(dev_requested_l2, decimals = 2),\n",
    "                                                                dev_method_l2,\n",
    "                                                                np.around(dev_method_l2, decimals = 2)))\n",
    "    dev_goal_accuracies.append(dev_goal_accuracy)\n",
    "    dev_requested_accuracies.append(dev_requested_accuracy)\n",
    "    dev_method_accuracies.append(dev_method_accuracy)\n",
    "\n",
    "    test_goal_accuracy, \\\n",
    "    test_goal_l2, \\\n",
    "    test_requested_accuracy, \\\n",
    "    test_requested_l2, \\\n",
    "    test_method_accuracy, \\\n",
    "    test_method_l2 = get_scores(model_GoalPricerange,\n",
    "                                model_GoalArea,\n",
    "                                model_GoalName,\n",
    "                                model_GoalFood,\n",
    "                                model_Requested,\n",
    "                                model_Method,\n",
    "                                raw_X_test, raw_Y_test, dataset = \"dstc2_test\")\n",
    "    logging.info(\"TEST Acc:\\t\\t{}({})\\t\\t{}({})\\t\\t{}({})\".format(test_goal_accuracy,\n",
    "                                                                  np.around(test_goal_accuracy, decimals = 2),\n",
    "                                                                  test_requested_accuracy,\n",
    "                                                                  np.around(test_requested_accuracy, decimals = 2),\n",
    "                                                                  test_method_accuracy,\n",
    "                                                                  np.around(test_method_accuracy, decimals = 2)))\n",
    "    logging.info(\"TEST L2:\\t\\t{}({})\\t\\t{}({})\\t\\t{}({})\".format(test_goal_l2,\n",
    "                                                                 np.around(test_goal_l2, decimals = 2),\n",
    "                                                                 test_requested_l2,\n",
    "                                                                 np.around(test_requested_l2, decimals = 2),\n",
    "                                                                 test_method_l2,\n",
    "                                                                 np.around(test_method_l2, decimals = 2)))\n",
    "    test_goal_accuracies.append(test_goal_accuracy)\n",
    "    test_requested_accuracies.append(test_requested_accuracy)\n",
    "    test_method_accuracies.append(test_method_accuracy)\n",
    "        \n",
    "    method_early_stopping.on_epoch_end(epoch = (epoch + 1),\n",
    "                                    current_value = (dev_method_accuracy))\n",
    "    \n",
    "    if method_early_stopping.wait == 0:\n",
    "        torch.save(model_Method.state_dict(), \"model_PANFMR_Method.pt\")\n",
    "    \n",
    "    if method_early_stopping.stop_training:\n",
    "        break\n",
    "\n",
    "plotly_plot(dev_method_accuracies, test_method_accuracies, \"Method\")"
   ]
  },
  {
   "cell_type": "markdown",
   "metadata": {},
   "source": [
    "### Load Method Model"
   ]
  },
  {
   "cell_type": "code",
   "execution_count": 40,
   "metadata": {},
   "outputs": [
    {
     "data": {
      "text/plain": [
       "MethodModel(\n",
       "  (embeddings): Embedding(1149, 170)\n",
       "  (altered_embeddings): Linear(in_features=171, out_features=300, bias=True)\n",
       "  (lstm): LSTM(300, 100)\n",
       "  (method_classifier): Linear(in_features=100, out_features=5, bias=True)\n",
       ")"
      ]
     },
     "execution_count": 40,
     "metadata": {},
     "output_type": "execute_result"
    }
   ],
   "source": [
    "model_Method = MethodModel(vocabulary_size = VOCABULARY_SIZE,\n",
    "                           embedding_dim = EMBEDDING_DIM,\n",
    "                           altered_embedding_dim = ALTERED_EMBEDDING_DIM,\n",
    "                           hidden_dim = HIDDEN_DIM,\n",
    "                           method_dim = METHOD_DIM,\n",
    "                           device = DEVICE)\n",
    "\n",
    "model_Method = model_Method.to(DEVICE)\n",
    "model_Method.load_state_dict(torch.load(\"model_PANFMR_Method.pt\"))\n",
    "model_Method.eval()"
   ]
  },
  {
   "cell_type": "markdown",
   "metadata": {},
   "source": [
    "### Print scores"
   ]
  },
  {
   "cell_type": "code",
   "execution_count": 41,
   "metadata": {
    "scrolled": true
   },
   "outputs": [
    {
     "data": {
      "application/vnd.jupyter.widget-view+json": {
       "model_id": "71eccea63faf41e4a2aeaff9d1cde223",
       "version_major": 2,
       "version_minor": 0
      },
      "text/plain": [
       "HBox(children=(IntProgress(value=0, max=506), HTML(value='')))"
      ]
     },
     "metadata": {},
     "output_type": "display_data"
    },
    {
     "data": {
      "text/plain": [
       "(0.6399896, 0.5130169, 0.9679048, 0.1589519, 0.9048112, 0.0633283)"
      ]
     },
     "execution_count": 41,
     "metadata": {},
     "output_type": "execute_result"
    }
   ],
   "source": [
    "get_scores(model_GoalPricerange,\n",
    "           model_GoalArea,\n",
    "           model_GoalName,\n",
    "           model_GoalFood,\n",
    "           model_Requested,\n",
    "           model_Method,\n",
    "           raw_X_dev, raw_Y_dev, dataset = \"dstc2_dev\")"
   ]
  },
  {
   "cell_type": "code",
   "execution_count": 42,
   "metadata": {},
   "outputs": [
    {
     "data": {
      "application/vnd.jupyter.widget-view+json": {
       "model_id": "eb7c4882ff034805af217893c8cc9419",
       "version_major": 2,
       "version_minor": 0
      },
      "text/plain": [
       "HBox(children=(IntProgress(value=0, max=1117), HTML(value='')))"
      ]
     },
     "metadata": {},
     "output_type": "display_data"
    },
    {
     "data": {
      "text/plain": [
       "(0.6795335, 0.4684101, 0.9751693, 0.1139675, 0.9312397, 0.0468137)"
      ]
     },
     "execution_count": 42,
     "metadata": {},
     "output_type": "execute_result"
    }
   ],
   "source": [
    "get_scores(model_GoalPricerange,\n",
    "           model_GoalArea,\n",
    "           model_GoalName,\n",
    "           model_GoalFood,\n",
    "           model_Requested,\n",
    "           model_Method,\n",
    "           raw_X_test, raw_Y_test, dataset = \"dstc2_test\")"
   ]
  },
  {
   "cell_type": "code",
   "execution_count": null,
   "metadata": {},
   "outputs": [],
   "source": []
  },
  {
   "cell_type": "code",
   "execution_count": null,
   "metadata": {},
   "outputs": [],
   "source": []
  }
 ],
 "metadata": {
  "kernelspec": {
   "display_name": "Python 3",
   "language": "python",
   "name": "python3"
  },
  "language_info": {
   "codemirror_mode": {
    "name": "ipython",
    "version": 3
   },
   "file_extension": ".py",
   "mimetype": "text/x-python",
   "name": "python",
   "nbconvert_exporter": "python",
   "pygments_lexer": "ipython3",
   "version": "3.6.5"
  }
 },
 "nbformat": 4,
 "nbformat_minor": 2
}
